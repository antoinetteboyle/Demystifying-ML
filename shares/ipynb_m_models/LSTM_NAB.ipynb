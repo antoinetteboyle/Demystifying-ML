{
 "cells": [
  {
   "cell_type": "markdown",
   "metadata": {},
   "source": [
    "#This model uses LSTM to predict a Daily share price movements based on time series and batches of 60 days"
   ]
  },
  {
   "cell_type": "markdown",
   "metadata": {},
   "source": [
    "# Read the CSV and Perform Basic Data Cleaning"
   ]
  },
  {
   "cell_type": "code",
   "execution_count": 1,
   "metadata": {},
   "outputs": [],
   "source": [
    "import matplotlib.pyplot as plt\n",
    "import numpy as np\n",
    "import pandas as pd"
   ]
  },
  {
   "cell_type": "code",
   "execution_count": 2,
   "metadata": {},
   "outputs": [
    {
     "data": {
      "text/html": [
       "<div>\n",
       "<style scoped>\n",
       "    .dataframe tbody tr th:only-of-type {\n",
       "        vertical-align: middle;\n",
       "    }\n",
       "\n",
       "    .dataframe tbody tr th {\n",
       "        vertical-align: top;\n",
       "    }\n",
       "\n",
       "    .dataframe thead th {\n",
       "        text-align: right;\n",
       "    }\n",
       "</style>\n",
       "<table border=\"1\" class=\"dataframe\">\n",
       "  <thead>\n",
       "    <tr style=\"text-align: right;\">\n",
       "      <th></th>\n",
       "      <th>Date</th>\n",
       "      <th>Open</th>\n",
       "      <th>High</th>\n",
       "      <th>Low</th>\n",
       "      <th>Close</th>\n",
       "      <th>Adj Close</th>\n",
       "      <th>Volume</th>\n",
       "    </tr>\n",
       "  </thead>\n",
       "  <tbody>\n",
       "    <tr>\n",
       "      <th>0</th>\n",
       "      <td>3/01/2000</td>\n",
       "      <td>22.164883</td>\n",
       "      <td>22.164883</td>\n",
       "      <td>22.164883</td>\n",
       "      <td>22.164883</td>\n",
       "      <td>6.412319</td>\n",
       "      <td>0.0</td>\n",
       "    </tr>\n",
       "    <tr>\n",
       "      <th>1</th>\n",
       "      <td>4/01/2000</td>\n",
       "      <td>21.869984</td>\n",
       "      <td>21.879498</td>\n",
       "      <td>21.308727</td>\n",
       "      <td>21.403856</td>\n",
       "      <td>6.192155</td>\n",
       "      <td>3005390.0</td>\n",
       "    </tr>\n",
       "    <tr>\n",
       "      <th>2</th>\n",
       "      <td>5/01/2000</td>\n",
       "      <td>20.918701</td>\n",
       "      <td>21.099445</td>\n",
       "      <td>20.785522</td>\n",
       "      <td>20.975779</td>\n",
       "      <td>6.068309</td>\n",
       "      <td>4604126.0</td>\n",
       "    </tr>\n",
       "    <tr>\n",
       "      <th>3</th>\n",
       "      <td>6/01/2000</td>\n",
       "      <td>21.207891</td>\n",
       "      <td>21.213600</td>\n",
       "      <td>20.642830</td>\n",
       "      <td>20.642830</td>\n",
       "      <td>5.971987</td>\n",
       "      <td>2574906.0</td>\n",
       "    </tr>\n",
       "    <tr>\n",
       "      <th>4</th>\n",
       "      <td>7/01/2000</td>\n",
       "      <td>20.737959</td>\n",
       "      <td>20.880651</td>\n",
       "      <td>20.623804</td>\n",
       "      <td>20.823574</td>\n",
       "      <td>6.024276</td>\n",
       "      <td>3028993.0</td>\n",
       "    </tr>\n",
       "  </tbody>\n",
       "</table>\n",
       "</div>"
      ],
      "text/plain": [
       "        Date       Open       High        Low      Close  Adj Close     Volume\n",
       "0  3/01/2000  22.164883  22.164883  22.164883  22.164883   6.412319        0.0\n",
       "1  4/01/2000  21.869984  21.879498  21.308727  21.403856   6.192155  3005390.0\n",
       "2  5/01/2000  20.918701  21.099445  20.785522  20.975779   6.068309  4604126.0\n",
       "3  6/01/2000  21.207891  21.213600  20.642830  20.642830   5.971987  2574906.0\n",
       "4  7/01/2000  20.737959  20.880651  20.623804  20.823574   6.024276  3028993.0"
      ]
     },
     "execution_count": 2,
     "metadata": {},
     "output_type": "execute_result"
    }
   ],
   "source": [
    "df_stock1 = pd.read_csv(\"../static/data/nab.csv\")\n",
    "# Drop the null columns where all values are null\n",
    "df_stock2 = df_stock1.dropna(axis='columns', how='all')\n",
    "# Drop the null rows\n",
    "df_stock3 = df_stock2.dropna()\n",
    "# Drop the last rows to test prediction to actual\n",
    "df_stock_less1= df_stock3.iloc[:-1,:]\n",
    "# Drop last 3 columns sentiment RBA FED\n",
    "N=3\n",
    "df = df_stock_less1.iloc[: , :-N]\n",
    "df.head()"
   ]
  },
  {
   "cell_type": "code",
   "execution_count": 3,
   "metadata": {},
   "outputs": [
    {
     "data": {
      "text/plain": [
       "<AxesSubplot:>"
      ]
     },
     "execution_count": 3,
     "metadata": {},
     "output_type": "execute_result"
    },
    {
     "data": {
      "image/png": "[encoded data removed]",
      "text/plain": [
       "<Figure size 432x288 with 1 Axes>"
      ]
     },
     "metadata": {
      "needs_background": "light"
     },
     "output_type": "display_data"
    }
   ],
   "source": [
    "df[\"Close\"].plot()"
   ]
  },
  {
   "cell_type": "code",
   "execution_count": 4,
   "metadata": {},
   "outputs": [
    {
     "name": "stdout",
     "output_type": "stream",
     "text": [
      "<class 'pandas.core.frame.DataFrame'>\n",
      "Int64Index: 5652 entries, 0 to 5684\n",
      "Data columns (total 7 columns):\n",
      " #   Column     Non-Null Count  Dtype  \n",
      "---  ------     --------------  -----  \n",
      " 0   Date       5652 non-null   object \n",
      " 1   Open       5652 non-null   float64\n",
      " 2   High       5652 non-null   float64\n",
      " 3   Low        5652 non-null   float64\n",
      " 4   Close      5652 non-null   float64\n",
      " 5   Adj Close  5652 non-null   float64\n",
      " 6   Volume     5652 non-null   float64\n",
      "dtypes: float64(6), object(1)\n",
      "memory usage: 353.2+ KB\n"
     ]
    }
   ],
   "source": [
    "df.info()"
   ]
  },
  {
   "cell_type": "code",
   "execution_count": 5,
   "metadata": {},
   "outputs": [
    {
     "data": {
      "text/plain": [
       "(5652, 1)"
      ]
     },
     "execution_count": 5,
     "metadata": {},
     "output_type": "execute_result"
    }
   ],
   "source": [
    "data = df.filter(['Close'])\n",
    "dataset = data.values\n",
    "dataset.shape\n"
   ]
  },
  {
   "cell_type": "markdown",
   "metadata": {},
   "source": [
    "# # Pre-processing : Scale the data using the MinMaxScaler and split train data"
   ]
  },
  {
   "cell_type": "code",
   "execution_count": 6,
   "metadata": {},
   "outputs": [
    {
     "data": {
      "text/plain": [
       "(4522, 1)"
      ]
     },
     "execution_count": 6,
     "metadata": {},
     "output_type": "execute_result"
    }
   ],
   "source": [
    "# Scale your data\n",
    "from sklearn.preprocessing import MinMaxScaler\n",
    "\n",
    "scaler = MinMaxScaler(feature_range=(0,1))\n",
    "dataset_scaled = scaler.fit_transform(dataset)\n",
    "\n",
    "# Split into train or test\n",
    "import math\n",
    "train_data_len = math.ceil(len(dataset)*.8)\n",
    "train_data = dataset_scaled[0:train_data_len,:]\n",
    "train_data.shape\n"
   ]
  },
  {
   "cell_type": "code",
   "execution_count": 7,
   "metadata": {},
   "outputs": [
    {
     "name": "stdout",
     "output_type": "stream",
     "text": [
      "[array([0.28791442, 0.26146737, 0.24659094, 0.23502037, 0.24130154,\n",
      "       0.25154974, 0.23832627, 0.23270628, 0.22609451, 0.2418305 ,\n",
      "       0.2783273 , 0.28956731, 0.27634378, 0.26232689, 0.24692153,\n",
      "       0.26807911, 0.25419445, 0.25419445, 0.23802872, 0.2502274 ,\n",
      "       0.23935106, 0.23766508, 0.24394619, 0.23164837, 0.23601218,\n",
      "       0.24163217, 0.23832627, 0.24229329, 0.23964864, 0.23402862,\n",
      "       0.2217969 , 0.2211688 , 0.2049369 , 0.19663915, 0.19204396,\n",
      "       0.18708515, 0.17981223, 0.17551465, 0.17848986, 0.20496995,\n",
      "       0.20526749, 0.22510273, 0.24844223, 0.25396308, 0.22649124,\n",
      "       0.21022626, 0.22311917, 0.20625924, 0.18146513, 0.19138277,\n",
      "       0.18410988, 0.19733342, 0.20526749, 0.21518516, 0.20625924,\n",
      "       0.20715184, 0.21981334, 0.23733445, 0.23832627, 0.24179742])]\n",
      "[0.22344979789408392]\n"
     ]
    }
   ],
   "source": [
    "X_train = []\n",
    "y_train = []\n",
    "\n",
    "for i in range (60, len(train_data)):\n",
    "    X_train.append(train_data[i-60:i,0]) # contains 60 values\n",
    "    y_train.append(train_data[i,0])   # contains 61st value\n",
    "    if i<= 60:\n",
    "        print(X_train)\n",
    "        print(y_train) \n"
   ]
  },
  {
   "cell_type": "markdown",
   "metadata": {},
   "source": [
    "# Prepare train data for LSTM model"
   ]
  },
  {
   "cell_type": "code",
   "execution_count": 8,
   "metadata": {},
   "outputs": [
    {
     "data": {
      "text/plain": [
       "(4462, 60)"
      ]
     },
     "execution_count": 8,
     "metadata": {},
     "output_type": "execute_result"
    }
   ],
   "source": [
    "# Convert list to numpy array for LSTM model:\n",
    "X_train, y_train = np.array(X_train), np.array(y_train)\n",
    "X_train.shape"
   ]
  },
  {
   "cell_type": "code",
   "execution_count": 9,
   "metadata": {},
   "outputs": [
    {
     "data": {
      "text/plain": [
       "(4462, 60, 1)"
      ]
     },
     "execution_count": 9,
     "metadata": {},
     "output_type": "execute_result"
    }
   ],
   "source": [
    "# LSTM model expects 3D, reshape:\n",
    "X_train = np.reshape(X_train, (X_train.shape[0], X_train.shape[1], 1))\n",
    "X_train.shape"
   ]
  },
  {
   "cell_type": "markdown",
   "metadata": {},
   "source": [
    "# Build the LSTM model"
   ]
  },
  {
   "cell_type": "code",
   "execution_count": 10,
   "metadata": {},
   "outputs": [],
   "source": [
    "from tensorflow.keras.models import Sequential\n",
    "from tensorflow.keras.layers import Dense, LSTM\n",
    "model = Sequential()\n",
    "model.add(LSTM(50, return_sequences=True, input_shape=(X_train.shape[1], 1)))\n",
    "model.add(LSTM(50, return_sequences=False))\n",
    "model.add(Dense(25))\n",
    "model.add(Dense(1))"
   ]
  },
  {
   "cell_type": "code",
   "execution_count": 11,
   "metadata": {},
   "outputs": [],
   "source": [
    "model.compile(optimizer='adam', loss='mean_squared_error')"
   ]
  },
  {
   "cell_type": "code",
   "execution_count": 12,
   "metadata": {},
   "outputs": [
    {
     "name": "stdout",
     "output_type": "stream",
     "text": [
      "4462/4462 [==============================] - 55s 12ms/step - loss: 0.0013\n"
     ]
    },
    {
     "data": {
      "text/plain": [
       "<keras.callbacks.History at 0x1fbabc9eb80>"
      ]
     },
     "execution_count": 12,
     "metadata": {},
     "output_type": "execute_result"
    }
   ],
   "source": [
    "model.fit(X_train, y_train, batch_size=1, epochs=1)"
   ]
  },
  {
   "cell_type": "code",
   "execution_count": 13,
   "metadata": {},
   "outputs": [],
   "source": [
    "#Create test data\n",
    "test_data = dataset_scaled[train_data_len-60:,:]\n",
    "X_test = []\n",
    "y_test = dataset[train_data_len:,:]\n",
    "for i in range(60, len(test_data)):\n",
    " X_test.append(test_data[i-60:i,0])"
   ]
  },
  {
   "cell_type": "code",
   "execution_count": 14,
   "metadata": {},
   "outputs": [],
   "source": [
    "#Covert test data to a numpy array and reshape\n",
    "X_test = np.array(X_test)\n",
    "X_test = np.reshape(X_test, (X_test.shape[0],X_test.shape[1],1))"
   ]
  },
  {
   "cell_type": "code",
   "execution_count": 15,
   "metadata": {},
   "outputs": [],
   "source": [
    "#Get predicted prices\n",
    "predictions_lstm = model.predict(X_test)\n",
    "predictions = scaler.inverse_transform(predictions_lstm)"
   ]
  },
  {
   "cell_type": "code",
   "execution_count": 16,
   "metadata": {},
   "outputs": [
    {
     "data": {
      "text/plain": [
       "0.13163036591197325"
      ]
     },
     "execution_count": 16,
     "metadata": {},
     "output_type": "execute_result"
    }
   ],
   "source": [
    "#Get the root mean square error (RMSE) 0 being most favourable\n",
    "rmse = np.sqrt(np.mean(predictions-y_test)**2)\n",
    "rmse"
   ]
  },
  {
   "cell_type": "code",
   "execution_count": 17,
   "metadata": {},
   "outputs": [
    {
     "name": "stderr",
     "output_type": "stream",
     "text": [
      "C:\\Users\\antoi\\AppData\\Local\\Temp/ipykernel_6820/2221658744.py:5: SettingWithCopyWarning: \n",
      "A value is trying to be set on a copy of a slice from a DataFrame.\n",
      "Try using .loc[row_indexer,col_indexer] = value instead\n",
      "\n",
      "See the caveats in the documentation: https://pandas.pydata.org/pandas-docs/stable/user_guide/indexing.html#returning-a-view-versus-a-copy\n",
      "  valid['Predictions'] = predictions # another column for validating test\n"
     ]
    },
    {
     "data": {
      "image/png": "[encoded data removed]",
      "text/plain": [
       "<Figure size 1152x576 with 1 Axes>"
      ]
     },
     "metadata": {},
     "output_type": "display_data"
    }
   ],
   "source": [
    "#Plot the data to validate the test data\n",
    "plt.style.use('fivethirtyeight')\n",
    "train = data.iloc[:train_data_len] # actual train data from 0 rows until train data end\n",
    "valid = data.iloc[train_data_len:] # actual test data from train data end until end of all sampled data\n",
    "valid['Predictions'] = predictions # another column for validating test\n",
    "\n",
    "plt.figure(figsize=(16,8))\n",
    "plt.title('NAB LSTM Model')\n",
    "plt.xlabel('Date', fontsize=18)\n",
    "plt.ylabel('Close Price AUD ($)',fontsize=18)\n",
    "plt.plot(train['Close'])\n",
    "plt.plot(valid[['Close','Predictions']])\n",
    "plt.legend(['Training','Validate','Tested'],loc='lower right')\n",
    "x = np.arange(2000,2024,4)\n",
    "plt.xticks([0,1000,2000,3000,4000,5000],x)\n",
    "plt.show()\n"
   ]
  },
  {
   "cell_type": "markdown",
   "metadata": {},
   "source": [
    "# Test data Predictions on the Model"
   ]
  },
  {
   "cell_type": "code",
   "execution_count": 18,
   "metadata": {},
   "outputs": [
    {
     "name": "stderr",
     "output_type": "stream",
     "text": [
      "C:\\Users\\antoi\\AppData\\Local\\Temp/ipykernel_6820/3952761259.py:1: SettingWithCopyWarning: \n",
      "A value is trying to be set on a copy of a slice from a DataFrame.\n",
      "Try using .loc[row_indexer,col_indexer] = value instead\n",
      "\n",
      "See the caveats in the documentation: https://pandas.pydata.org/pandas-docs/stable/user_guide/indexing.html#returning-a-view-versus-a-copy\n",
      "  valid['Difference']= valid['Close']-valid['Predictions']\n"
     ]
    },
    {
     "data": {
      "text/html": [
       "<div>\n",
       "<style scoped>\n",
       "    .dataframe tbody tr th:only-of-type {\n",
       "        vertical-align: middle;\n",
       "    }\n",
       "\n",
       "    .dataframe tbody tr th {\n",
       "        vertical-align: top;\n",
       "    }\n",
       "\n",
       "    .dataframe thead th {\n",
       "        text-align: right;\n",
       "    }\n",
       "</style>\n",
       "<table border=\"1\" class=\"dataframe\">\n",
       "  <thead>\n",
       "    <tr style=\"text-align: right;\">\n",
       "      <th></th>\n",
       "      <th>Close</th>\n",
       "      <th>Predictions</th>\n",
       "      <th>Difference</th>\n",
       "    </tr>\n",
       "  </thead>\n",
       "  <tbody>\n",
       "    <tr>\n",
       "      <th>4555</th>\n",
       "      <td>30.580000</td>\n",
       "      <td>31.448751</td>\n",
       "      <td>-0.868751</td>\n",
       "    </tr>\n",
       "    <tr>\n",
       "      <th>4556</th>\n",
       "      <td>30.440001</td>\n",
       "      <td>30.967197</td>\n",
       "      <td>-0.527196</td>\n",
       "    </tr>\n",
       "    <tr>\n",
       "      <th>4557</th>\n",
       "      <td>30.570000</td>\n",
       "      <td>30.571022</td>\n",
       "      <td>-0.001022</td>\n",
       "    </tr>\n",
       "    <tr>\n",
       "      <th>4558</th>\n",
       "      <td>30.129999</td>\n",
       "      <td>30.446474</td>\n",
       "      <td>-0.316475</td>\n",
       "    </tr>\n",
       "    <tr>\n",
       "      <th>4559</th>\n",
       "      <td>29.940001</td>\n",
       "      <td>30.238611</td>\n",
       "      <td>-0.298610</td>\n",
       "    </tr>\n",
       "    <tr>\n",
       "      <th>...</th>\n",
       "      <td>...</td>\n",
       "      <td>...</td>\n",
       "      <td>...</td>\n",
       "    </tr>\n",
       "    <tr>\n",
       "      <th>5680</th>\n",
       "      <td>33.139999</td>\n",
       "      <td>33.166683</td>\n",
       "      <td>-0.026684</td>\n",
       "    </tr>\n",
       "    <tr>\n",
       "      <th>5681</th>\n",
       "      <td>32.740002</td>\n",
       "      <td>33.061409</td>\n",
       "      <td>-0.321407</td>\n",
       "    </tr>\n",
       "    <tr>\n",
       "      <th>5682</th>\n",
       "      <td>32.200001</td>\n",
       "      <td>32.748905</td>\n",
       "      <td>-0.548904</td>\n",
       "    </tr>\n",
       "    <tr>\n",
       "      <th>5683</th>\n",
       "      <td>32.189999</td>\n",
       "      <td>32.281734</td>\n",
       "      <td>-0.091735</td>\n",
       "    </tr>\n",
       "    <tr>\n",
       "      <th>5684</th>\n",
       "      <td>32.630000</td>\n",
       "      <td>32.014351</td>\n",
       "      <td>0.615649</td>\n",
       "    </tr>\n",
       "  </tbody>\n",
       "</table>\n",
       "<p>1130 rows × 3 columns</p>\n",
       "</div>"
      ],
      "text/plain": [
       "          Close  Predictions  Difference\n",
       "4555  30.580000    31.448751   -0.868751\n",
       "4556  30.440001    30.967197   -0.527196\n",
       "4557  30.570000    30.571022   -0.001022\n",
       "4558  30.129999    30.446474   -0.316475\n",
       "4559  29.940001    30.238611   -0.298610\n",
       "...         ...          ...         ...\n",
       "5680  33.139999    33.166683   -0.026684\n",
       "5681  32.740002    33.061409   -0.321407\n",
       "5682  32.200001    32.748905   -0.548904\n",
       "5683  32.189999    32.281734   -0.091735\n",
       "5684  32.630000    32.014351    0.615649\n",
       "\n",
       "[1130 rows x 3 columns]"
      ]
     },
     "execution_count": 18,
     "metadata": {},
     "output_type": "execute_result"
    }
   ],
   "source": [
    "valid['Difference']= valid['Close']-valid['Predictions']\n",
    "valid"
   ]
  },
  {
   "cell_type": "code",
   "execution_count": 19,
   "metadata": {},
   "outputs": [],
   "source": [
    "#Get latest 60 quotes less 1 to predict:\n",
    "\n",
    "#import pandas_datareader.data as web\n",
    "#symbol = 'NAB.AX'\n",
    "#stock_quote = web.DataReader(symbol,data_source='yahoo',start='2022-01-01', end='2022-04-13')\n",
    "#stock_quotes_sixty = stock_quotes_sixty.filter(['Close'])\n",
    "#stock_quotes_sixty\n",
    "#OR use csv data "
   ]
  },
  {
   "cell_type": "code",
   "execution_count": 20,
   "metadata": {},
   "outputs": [
    {
     "data": {
      "text/plain": [
       "(60, 1)"
      ]
     },
     "execution_count": 20,
     "metadata": {},
     "output_type": "execute_result"
    }
   ],
   "source": [
    "# Use last 60 days price on model to predict next days price\n",
    "stock_quotes_sixty = df_stock_less1.tail(60)\n",
    "stock_close_sixty = stock_quotes_sixty['Close']\n",
    "last_60_days = stock_close_sixty[-60:].values\n",
    "last_60_days = last_60_days.reshape(-1,1)\n",
    "last_60_days .shape"
   ]
  },
  {
   "cell_type": "code",
   "execution_count": 21,
   "metadata": {},
   "outputs": [
    {
     "data": {
      "text/plain": [
       "(1, 60, 1)"
      ]
     },
     "execution_count": 21,
     "metadata": {},
     "output_type": "execute_result"
    }
   ],
   "source": [
    "last_60_days_scaled = scaler.transform(last_60_days)\n",
    "X_tell = []\n",
    "X_tell.append(last_60_days_scaled)\n",
    "X_tell =np.array(X_tell)\n",
    "X_tell =np.reshape(X_tell, (X_tell.shape[0], X_tell.shape[1],1))\n",
    "X_tell.shape"
   ]
  },
  {
   "cell_type": "code",
   "execution_count": 22,
   "metadata": {},
   "outputs": [
    {
     "name": "stdout",
     "output_type": "stream",
     "text": [
      "Predicted next day share price 32\n"
     ]
    }
   ],
   "source": [
    "pred_price = model.predict(X_tell)\n",
    "pred_price = scaler.inverse_transform(pred_price)\n",
    "pred_price = int(pred_price)\n",
    "print(f'Predicted next day share price {pred_price}')"
   ]
  },
  {
   "cell_type": "code",
   "execution_count": 23,
   "metadata": {},
   "outputs": [
    {
     "data": {
      "text/html": [
       "<div>\n",
       "<style scoped>\n",
       "    .dataframe tbody tr th:only-of-type {\n",
       "        vertical-align: middle;\n",
       "    }\n",
       "\n",
       "    .dataframe tbody tr th {\n",
       "        vertical-align: top;\n",
       "    }\n",
       "\n",
       "    .dataframe thead th {\n",
       "        text-align: right;\n",
       "    }\n",
       "</style>\n",
       "<table border=\"1\" class=\"dataframe\">\n",
       "  <thead>\n",
       "    <tr style=\"text-align: right;\">\n",
       "      <th></th>\n",
       "      <th>Date</th>\n",
       "      <th>Open</th>\n",
       "      <th>High</th>\n",
       "      <th>Low</th>\n",
       "      <th>Close</th>\n",
       "      <th>Adj Close</th>\n",
       "      <th>Volume</th>\n",
       "      <th>SENTIMENT</th>\n",
       "      <th>RBA</th>\n",
       "      <th>FED</th>\n",
       "    </tr>\n",
       "  </thead>\n",
       "  <tbody>\n",
       "    <tr>\n",
       "      <th>5685</th>\n",
       "      <td>2/05/2022</td>\n",
       "      <td>32.3</td>\n",
       "      <td>32.4</td>\n",
       "      <td>32.0</td>\n",
       "      <td>32.32</td>\n",
       "      <td>32.32</td>\n",
       "      <td>3692027.0</td>\n",
       "      <td>NEGATIVE</td>\n",
       "      <td>0.05</td>\n",
       "      <td>0.08</td>\n",
       "    </tr>\n",
       "  </tbody>\n",
       "</table>\n",
       "</div>"
      ],
      "text/plain": [
       "           Date  Open  High   Low  Close  Adj Close     Volume SENTIMENT  \\\n",
       "5685  2/05/2022  32.3  32.4  32.0  32.32      32.32  3692027.0  NEGATIVE   \n",
       "\n",
       "       RBA   FED  \n",
       "5685  0.05  0.08  "
      ]
     },
     "execution_count": 23,
     "metadata": {},
     "output_type": "execute_result"
    }
   ],
   "source": [
    "#stock_quote_acual = web.DataReader('CBA.AX',data_source='yahoo',start='2022-04-14', end='2022-04-14')\n",
    "#OR get last quote from latest csv\n",
    "stock_quote_last_one = df_stock1.tail(1)\n",
    "stock_quote_last_one\n"
   ]
  },
  {
   "cell_type": "code",
   "execution_count": 24,
   "metadata": {},
   "outputs": [
    {
     "data": {
      "text/plain": [
       "'2/05/2022'"
      ]
     },
     "execution_count": 24,
     "metadata": {},
     "output_type": "execute_result"
    }
   ],
   "source": [
    "#save actual to variable\n",
    "actual_price = stock_quote_last_one.iloc[0,4]\n",
    "actual_date = stock_quote_last_one.iloc[0,0] \n",
    "actual_price = int(actual_price)\n",
    "actual_price\n",
    "actual_date\n"
   ]
  },
  {
   "cell_type": "markdown",
   "metadata": {},
   "source": [
    "# Save the Model"
   ]
  },
  {
   "cell_type": "code",
   "execution_count": 25,
   "metadata": {},
   "outputs": [],
   "source": [
    "# Save the entire model to a HDF5 file.\n",
    "# The '.h5' extension indicates that the model should be saved to HDF5.\n",
    "filepath = '../static/nab_model.sav'\n",
    "model.save(filepath, save_format=\"h5\")"
   ]
  },
  {
   "cell_type": "markdown",
   "metadata": {},
   "source": [
    "#Save last 60 days to a list cba_sixty and load df"
   ]
  },
  {
   "cell_type": "code",
   "execution_count": 26,
   "metadata": {},
   "outputs": [
    {
     "data": {
      "text/html": [
       "<div>\n",
       "<style scoped>\n",
       "    .dataframe tbody tr th:only-of-type {\n",
       "        vertical-align: middle;\n",
       "    }\n",
       "\n",
       "    .dataframe tbody tr th {\n",
       "        vertical-align: top;\n",
       "    }\n",
       "\n",
       "    .dataframe thead th {\n",
       "        text-align: right;\n",
       "    }\n",
       "</style>\n",
       "<table border=\"1\" class=\"dataframe\">\n",
       "  <thead>\n",
       "    <tr style=\"text-align: right;\">\n",
       "      <th></th>\n",
       "      <th>27.870001</th>\n",
       "    </tr>\n",
       "  </thead>\n",
       "  <tbody>\n",
       "    <tr>\n",
       "      <th>0</th>\n",
       "      <td>27.910000</td>\n",
       "    </tr>\n",
       "    <tr>\n",
       "      <th>1</th>\n",
       "      <td>27.910000</td>\n",
       "    </tr>\n",
       "    <tr>\n",
       "      <th>2</th>\n",
       "      <td>27.570000</td>\n",
       "    </tr>\n",
       "    <tr>\n",
       "      <th>3</th>\n",
       "      <td>27.730000</td>\n",
       "    </tr>\n",
       "    <tr>\n",
       "      <th>4</th>\n",
       "      <td>28.389999</td>\n",
       "    </tr>\n",
       "  </tbody>\n",
       "</table>\n",
       "</div>"
      ],
      "text/plain": [
       "   27.870001\n",
       "0  27.910000\n",
       "1  27.910000\n",
       "2  27.570000\n",
       "3  27.730000\n",
       "4  28.389999"
      ]
     },
     "execution_count": 26,
     "metadata": {},
     "output_type": "execute_result"
    }
   ],
   "source": [
    "# Read in the CSV file\n",
    "df_nab_sixty = pd.read_csv(\"../static/data/nab_sixty.csv\")\n",
    "df_nab_sixty.head()"
   ]
  },
  {
   "cell_type": "code",
   "execution_count": 27,
   "metadata": {},
   "outputs": [
    {
     "data": {
      "text/plain": [
       "(60, 1)"
      ]
     },
     "execution_count": 27,
     "metadata": {},
     "output_type": "execute_result"
    }
   ],
   "source": [
    "close_sixty_val = df_nab_sixty[-60:].values\n",
    "last_sixty = close_sixty_val.reshape(-1,1)\n",
    "last_sixty.shape"
   ]
  },
  {
   "cell_type": "code",
   "execution_count": 28,
   "metadata": {},
   "outputs": [
    {
     "data": {
      "text/plain": [
       "(1, 60, 1)"
      ]
     },
     "execution_count": 28,
     "metadata": {},
     "output_type": "execute_result"
    }
   ],
   "source": [
    "last_sixty_scaled = scaler.transform(last_sixty)\n",
    "new_X_tell = []\n",
    "new_X_tell.append(last_sixty_scaled)\n",
    "new_X_tell =np.array(new_X_tell)\n",
    "new_X_tell =np.reshape(new_X_tell, (new_X_tell.shape[0], new_X_tell.shape[1],1))\n",
    "new_X_tell.shape"
   ]
  },
  {
   "cell_type": "markdown",
   "metadata": {},
   "source": [
    "#PREDICT USING LOADED MODEL"
   ]
  },
  {
   "cell_type": "code",
   "execution_count": 29,
   "metadata": {},
   "outputs": [],
   "source": [
    "from keras.models import load_model"
   ]
  },
  {
   "cell_type": "code",
   "execution_count": 30,
   "metadata": {},
   "outputs": [],
   "source": [
    "model_in = load_model('../static/nab_model.sav')"
   ]
  },
  {
   "cell_type": "code",
   "execution_count": 31,
   "metadata": {},
   "outputs": [
    {
     "data": {
      "text/plain": [
       "array([[0.63483995]], dtype=float32)"
      ]
     },
     "execution_count": 31,
     "metadata": {},
     "output_type": "execute_result"
    }
   ],
   "source": [
    "model_in_pd_scale = model_in.predict(new_X_tell)\n",
    "model_in_pd_scale"
   ]
  },
  {
   "cell_type": "code",
   "execution_count": 32,
   "metadata": {},
   "outputs": [
    {
     "name": "stdout",
     "output_type": "stream",
     "text": [
      "Predicted next day share price [[32.147842]]\n"
     ]
    }
   ],
   "source": [
    "model_in_price = scaler.inverse_transform(model_in_pd_scale)\n",
    "#model_in_price_int = int(model_in_price)\n",
    "print(f'Predicted next day share price {model_in_price}')"
   ]
  },
  {
   "cell_type": "code",
   "execution_count": 33,
   "metadata": {},
   "outputs": [
    {
     "data": {
      "text/plain": [
       "(59, 1)"
      ]
     },
     "execution_count": 33,
     "metadata": {},
     "output_type": "execute_result"
    }
   ],
   "source": [
    "last_sixty_less_one = np.delete(last_sixty, 0, 0)\n",
    "last_sixty_less_one.shape"
   ]
  },
  {
   "cell_type": "code",
   "execution_count": 34,
   "metadata": {},
   "outputs": [
    {
     "data": {
      "text/plain": [
       "(60, 1)"
      ]
     },
     "execution_count": 34,
     "metadata": {},
     "output_type": "execute_result"
    }
   ],
   "source": [
    "last_sixty = np.append(last_sixty_less_one, model_in_price,axis = 0)\n",
    "last_sixty.shape"
   ]
  },
  {
   "cell_type": "code",
   "execution_count": 35,
   "metadata": {},
   "outputs": [],
   "source": [
    "from keras.models import load_model\n",
    "model_in = load_model('../static/nab_model.sav')\n",
    "from sklearn.preprocessing import MinMaxScaler\n",
    "scaler = MinMaxScaler(feature_range=(0,1))\n",
    "# Read in the CSV file\n",
    "df_nab_sixty = pd.read_csv(\"../static/data/nab_sixty.csv\")\n",
    "close_sixty_val = df_nab_sixty[-60:].values\n",
    "last_sixty = close_sixty_val.reshape(-1,1)\n",
    "price_list=[]\n",
    "\n",
    "#Function to predict future days predicted price, in loop\n",
    "input = 180 #days\n",
    "if input == \"\":\n",
    "    input = 180\n",
    "else:\n",
    "   input = int(input)\n",
    "\n",
    "def predict_nab(last_sixty,model_in,input):\n",
    "    for i in range(1, input):\n",
    "\n",
    "        #Takes df and converts to model's predict shape\n",
    "        last_sixty_scaled = scaler.fit_transform(last_sixty)\n",
    "        new_X_tell = []\n",
    "        new_X_tell.append(last_sixty_scaled)\n",
    "        new_X_tell =np.array(new_X_tell)\n",
    "        new_X_tell =np.reshape(new_X_tell, (new_X_tell.shape[0], new_X_tell.shape[1],1))\n",
    "        \n",
    "        model_in_pd_scale = model_in.predict(new_X_tell)\n",
    "        model_in_price = scaler.inverse_transform(model_in_pd_scale) # New price predicted\n",
    "\n",
    "        last_sixty_less_one = np.delete(last_sixty, 0, 0)\n",
    "        last_sixty = np.append(last_sixty_less_one, model_in_price,axis = 0) # Update last 60\n",
    "        print(i)\n",
    "        print(\"Day finished! Price: \")\n",
    "        price_float = float(model_in_price)\n",
    "        price = round(price_float, 2)\n",
    "        price_list.append(price)\n",
    "    else:\n",
    "        print(\"Could not predict further!\")\n",
    "        print(input)\n",
    "    print(price_list)"
   ]
  },
  {
   "cell_type": "code",
   "execution_count": 36,
   "metadata": {},
   "outputs": [
    {
     "name": "stdout",
     "output_type": "stream",
     "text": [
      "1\n",
      "Day finished! Price: \n",
      "2\n",
      "Day finished! Price: \n",
      "3\n",
      "Day finished! Price: \n",
      "4\n",
      "Day finished! Price: \n",
      "5\n",
      "Day finished! Price: \n",
      "6\n",
      "Day finished! Price: \n",
      "7\n",
      "Day finished! Price: \n",
      "8\n",
      "Day finished! Price: \n",
      "9\n",
      "Day finished! Price: \n",
      "10\n",
      "Day finished! Price: \n",
      "11\n",
      "Day finished! Price: \n",
      "12\n",
      "Day finished! Price: \n",
      "13\n",
      "Day finished! Price: \n",
      "14\n",
      "Day finished! Price: \n",
      "15\n",
      "Day finished! Price: \n",
      "16\n",
      "Day finished! Price: \n",
      "17\n",
      "Day finished! Price: \n",
      "18\n",
      "Day finished! Price: \n",
      "19\n",
      "Day finished! Price: \n",
      "20\n",
      "Day finished! Price: \n",
      "21\n",
      "Day finished! Price: \n",
      "22\n",
      "Day finished! Price: \n",
      "23\n",
      "Day finished! Price: \n",
      "24\n",
      "Day finished! Price: \n",
      "25\n",
      "Day finished! Price: \n",
      "26\n",
      "Day finished! Price: \n",
      "27\n",
      "Day finished! Price: \n",
      "28\n",
      "Day finished! Price: \n",
      "29\n",
      "Day finished! Price: \n",
      "30\n",
      "Day finished! Price: \n",
      "31\n",
      "Day finished! Price: \n",
      "32\n",
      "Day finished! Price: \n",
      "33\n",
      "Day finished! Price: \n",
      "34\n",
      "Day finished! Price: \n",
      "35\n",
      "Day finished! Price: \n",
      "36\n",
      "Day finished! Price: \n",
      "37\n",
      "Day finished! Price: \n",
      "38\n",
      "Day finished! Price: \n",
      "39\n",
      "Day finished! Price: \n",
      "40\n",
      "Day finished! Price: \n",
      "41\n",
      "Day finished! Price: \n",
      "42\n",
      "Day finished! Price: \n",
      "43\n",
      "Day finished! Price: \n",
      "44\n",
      "Day finished! Price: \n",
      "45\n",
      "Day finished! Price: \n",
      "46\n",
      "Day finished! Price: \n",
      "47\n",
      "Day finished! Price: \n",
      "48\n",
      "Day finished! Price: \n",
      "49\n",
      "Day finished! Price: \n",
      "50\n",
      "Day finished! Price: \n",
      "51\n",
      "Day finished! Price: \n",
      "52\n",
      "Day finished! Price: \n",
      "53\n",
      "Day finished! Price: \n",
      "54\n",
      "Day finished! Price: \n",
      "55\n",
      "Day finished! Price: \n",
      "56\n",
      "Day finished! Price: \n",
      "57\n",
      "Day finished! Price: \n",
      "58\n",
      "Day finished! Price: \n",
      "59\n",
      "Day finished! Price: \n",
      "60\n",
      "Day finished! Price: \n",
      "61\n",
      "Day finished! Price: \n",
      "62\n",
      "Day finished! Price: \n",
      "63\n",
      "Day finished! Price: \n",
      "64\n",
      "Day finished! Price: \n",
      "65\n",
      "Day finished! Price: \n",
      "66\n",
      "Day finished! Price: \n",
      "67\n",
      "Day finished! Price: \n",
      "68\n",
      "Day finished! Price: \n",
      "69\n",
      "Day finished! Price: \n",
      "70\n",
      "Day finished! Price: \n",
      "71\n",
      "Day finished! Price: \n",
      "72\n",
      "Day finished! Price: \n",
      "73\n",
      "Day finished! Price: \n",
      "74\n",
      "Day finished! Price: \n",
      "75\n",
      "Day finished! Price: \n",
      "76\n",
      "Day finished! Price: \n",
      "77\n",
      "Day finished! Price: \n",
      "78\n",
      "Day finished! Price: \n",
      "79\n",
      "Day finished! Price: \n",
      "80\n",
      "Day finished! Price: \n",
      "81\n",
      "Day finished! Price: \n",
      "82\n",
      "Day finished! Price: \n",
      "83\n",
      "Day finished! Price: \n",
      "84\n",
      "Day finished! Price: \n",
      "85\n",
      "Day finished! Price: \n",
      "86\n",
      "Day finished! Price: \n",
      "87\n",
      "Day finished! Price: \n",
      "88\n",
      "Day finished! Price: \n",
      "89\n",
      "Day finished! Price: \n",
      "90\n",
      "Day finished! Price: \n",
      "91\n",
      "Day finished! Price: \n",
      "92\n",
      "Day finished! Price: \n",
      "93\n",
      "Day finished! Price: \n",
      "94\n",
      "Day finished! Price: \n",
      "95\n",
      "Day finished! Price: \n",
      "96\n",
      "Day finished! Price: \n",
      "97\n",
      "Day finished! Price: \n",
      "98\n",
      "Day finished! Price: \n",
      "99\n",
      "Day finished! Price: \n",
      "100\n",
      "Day finished! Price: \n",
      "101\n",
      "Day finished! Price: \n",
      "102\n",
      "Day finished! Price: \n",
      "103\n",
      "Day finished! Price: \n",
      "104\n",
      "Day finished! Price: \n",
      "105\n",
      "Day finished! Price: \n",
      "106\n",
      "Day finished! Price: \n",
      "107\n",
      "Day finished! Price: \n",
      "108\n",
      "Day finished! Price: \n",
      "109\n",
      "Day finished! Price: \n",
      "110\n",
      "Day finished! Price: \n",
      "111\n",
      "Day finished! Price: \n",
      "112\n",
      "Day finished! Price: \n",
      "113\n",
      "Day finished! Price: \n",
      "114\n",
      "Day finished! Price: \n",
      "115\n",
      "Day finished! Price: \n",
      "116\n",
      "Day finished! Price: \n",
      "117\n",
      "Day finished! Price: \n",
      "118\n",
      "Day finished! Price: \n",
      "119\n",
      "Day finished! Price: \n",
      "120\n",
      "Day finished! Price: \n",
      "121\n",
      "Day finished! Price: \n",
      "122\n",
      "Day finished! Price: \n",
      "123\n",
      "Day finished! Price: \n",
      "124\n",
      "Day finished! Price: \n",
      "125\n",
      "Day finished! Price: \n",
      "126\n",
      "Day finished! Price: \n",
      "127\n",
      "Day finished! Price: \n",
      "128\n",
      "Day finished! Price: \n",
      "129\n",
      "Day finished! Price: \n",
      "130\n",
      "Day finished! Price: \n",
      "131\n",
      "Day finished! Price: \n",
      "132\n",
      "Day finished! Price: \n",
      "133\n",
      "Day finished! Price: \n",
      "134\n",
      "Day finished! Price: \n",
      "135\n",
      "Day finished! Price: \n",
      "136\n",
      "Day finished! Price: \n",
      "137\n",
      "Day finished! Price: \n",
      "138\n",
      "Day finished! Price: \n",
      "139\n",
      "Day finished! Price: \n",
      "140\n",
      "Day finished! Price: \n",
      "141\n",
      "Day finished! Price: \n",
      "142\n",
      "Day finished! Price: \n",
      "143\n",
      "Day finished! Price: \n",
      "144\n",
      "Day finished! Price: \n",
      "145\n",
      "Day finished! Price: \n",
      "146\n",
      "Day finished! Price: \n",
      "147\n",
      "Day finished! Price: \n",
      "148\n",
      "Day finished! Price: \n",
      "149\n",
      "Day finished! Price: \n",
      "150\n",
      "Day finished! Price: \n",
      "151\n",
      "Day finished! Price: \n",
      "152\n",
      "Day finished! Price: \n",
      "153\n",
      "Day finished! Price: \n",
      "154\n",
      "Day finished! Price: \n",
      "155\n",
      "Day finished! Price: \n",
      "156\n",
      "Day finished! Price: \n",
      "157\n",
      "Day finished! Price: \n",
      "158\n",
      "Day finished! Price: \n",
      "159\n",
      "Day finished! Price: \n",
      "160\n",
      "Day finished! Price: \n",
      "161\n",
      "Day finished! Price: \n",
      "162\n",
      "Day finished! Price: \n",
      "163\n",
      "Day finished! Price: \n",
      "164\n",
      "Day finished! Price: \n",
      "165\n",
      "Day finished! Price: \n",
      "166\n",
      "Day finished! Price: \n",
      "167\n",
      "Day finished! Price: \n",
      "168\n",
      "Day finished! Price: \n",
      "169\n",
      "Day finished! Price: \n",
      "170\n",
      "Day finished! Price: \n",
      "171\n",
      "Day finished! Price: \n",
      "172\n",
      "Day finished! Price: \n",
      "173\n",
      "Day finished! Price: \n",
      "174\n",
      "Day finished! Price: \n",
      "175\n",
      "Day finished! Price: \n",
      "176\n",
      "Day finished! Price: \n",
      "177\n",
      "Day finished! Price: \n",
      "178\n",
      "Day finished! Price: \n",
      "179\n",
      "Day finished! Price: \n",
      "Could not predict further!\n",
      "180\n",
      "[32.27, 32.24, 32.21, 32.19, 32.19, 32.18, 32.17, 32.16, 32.15, 32.14, 32.12, 32.11, 32.09, 32.07, 32.05, 32.02, 32.0, 31.98, 31.96, 31.94, 31.92, 31.9, 31.88, 31.86, 31.85, 31.86, 31.86, 31.87, 31.88, 31.89, 31.91, 31.92, 31.93, 31.95, 31.98, 32.0, 32.02, 32.04, 32.06, 32.08, 32.1, 32.11, 32.13, 32.15, 32.16, 32.17, 32.19, 32.2, 32.21, 32.22, 32.23, 32.24, 32.26, 32.27, 32.26, 32.26, 32.25, 32.25, 32.25, 32.24, 32.23, 32.22, 32.21, 32.21, 32.2, 32.2, 32.19, 32.19, 32.19, 32.18, 32.18, 32.18, 32.18, 32.18, 32.18, 32.17, 32.17, 32.17, 32.17, 32.17, 32.16, 32.16, 32.16, 32.16, 32.15, 32.15, 32.15, 32.15, 32.15, 32.15, 32.15, 32.14, 32.14, 32.14, 32.14, 32.14, 32.14, 32.15, 32.15, 32.15, 32.15, 32.15, 32.15, 32.15, 32.16, 32.16, 32.16, 32.16, 32.16, 32.16, 32.16, 32.16, 32.17, 32.17, 32.17, 32.17, 32.17, 32.17, 32.17, 32.17, 32.17, 32.17, 32.17, 32.17, 32.17, 32.17, 32.17, 32.17, 32.17, 32.17, 32.17, 32.17, 32.17, 32.17, 32.17, 32.17, 32.17, 32.17, 32.17, 32.17, 32.17, 32.17, 32.17, 32.17, 32.16, 32.16, 32.16, 32.16, 32.16, 32.16, 32.16, 32.16, 32.16, 32.16, 32.16, 32.16, 32.16, 32.16, 32.16, 32.16, 32.16, 32.16, 32.16, 32.16, 32.16, 32.16, 32.16, 32.16, 32.16, 32.16, 32.16, 32.16, 32.16, 32.16, 32.16, 32.16, 32.16, 32.16, 32.16]\n"
     ]
    }
   ],
   "source": [
    "predict_nab(last_sixty,model_in,input)"
   ]
  },
  {
   "cell_type": "code",
   "execution_count": 37,
   "metadata": {},
   "outputs": [
    {
     "ename": "FileNotFoundError",
     "evalue": "[Errno 2] No such file or directory: '../static/data/dates.csv'",
     "output_type": "error",
     "traceback": [
      "\u001b[1;31m---------------------------------------------------------------------------\u001b[0m",
      "\u001b[1;31mFileNotFoundError\u001b[0m                         Traceback (most recent call last)",
      "\u001b[1;32m~\\AppData\\Local\\Temp/ipykernel_6820/428044280.py\u001b[0m in \u001b[0;36m<module>\u001b[1;34m\u001b[0m\n\u001b[0;32m      1\u001b[0m \u001b[1;32mimport\u001b[0m \u001b[0mpandas\u001b[0m \u001b[1;32mas\u001b[0m \u001b[0mpd\u001b[0m\u001b[1;33m\u001b[0m\u001b[1;33m\u001b[0m\u001b[0m\n\u001b[1;32m----> 2\u001b[1;33m \u001b[0mdates_df\u001b[0m \u001b[1;33m=\u001b[0m \u001b[0mpd\u001b[0m\u001b[1;33m.\u001b[0m\u001b[0mread_csv\u001b[0m\u001b[1;33m(\u001b[0m\u001b[1;34m\"../static/data/dates.csv\"\u001b[0m\u001b[1;33m)\u001b[0m\u001b[1;33m\u001b[0m\u001b[1;33m\u001b[0m\u001b[0m\n\u001b[0m\u001b[0;32m      3\u001b[0m \u001b[0mdates_df\u001b[0m\u001b[1;33m[\u001b[0m\u001b[1;34m'Count'\u001b[0m\u001b[1;33m]\u001b[0m \u001b[1;33m=\u001b[0m \u001b[0mdates_df\u001b[0m\u001b[1;33m[\u001b[0m\u001b[1;34m'Count'\u001b[0m\u001b[1;33m]\u001b[0m\u001b[1;33m.\u001b[0m\u001b[0mfillna\u001b[0m\u001b[1;33m(\u001b[0m\u001b[1;36m0\u001b[0m\u001b[1;33m)\u001b[0m\u001b[1;33m.\u001b[0m\u001b[0mastype\u001b[0m\u001b[1;33m(\u001b[0m\u001b[0mint\u001b[0m\u001b[1;33m)\u001b[0m\u001b[1;33m\u001b[0m\u001b[1;33m\u001b[0m\u001b[0m\n\u001b[0;32m      4\u001b[0m \u001b[0mdates_df\u001b[0m\u001b[1;33m\u001b[0m\u001b[1;33m\u001b[0m\u001b[0m\n",
      "\u001b[1;32m~\\anaconda3\\lib\\site-packages\\pandas\\util\\_decorators.py\u001b[0m in \u001b[0;36mwrapper\u001b[1;34m(*args, **kwargs)\u001b[0m\n\u001b[0;32m    309\u001b[0m                     \u001b[0mstacklevel\u001b[0m\u001b[1;33m=\u001b[0m\u001b[0mstacklevel\u001b[0m\u001b[1;33m,\u001b[0m\u001b[1;33m\u001b[0m\u001b[1;33m\u001b[0m\u001b[0m\n\u001b[0;32m    310\u001b[0m                 )\n\u001b[1;32m--> 311\u001b[1;33m             \u001b[1;32mreturn\u001b[0m \u001b[0mfunc\u001b[0m\u001b[1;33m(\u001b[0m\u001b[1;33m*\u001b[0m\u001b[0margs\u001b[0m\u001b[1;33m,\u001b[0m \u001b[1;33m**\u001b[0m\u001b[0mkwargs\u001b[0m\u001b[1;33m)\u001b[0m\u001b[1;33m\u001b[0m\u001b[1;33m\u001b[0m\u001b[0m\n\u001b[0m\u001b[0;32m    312\u001b[0m \u001b[1;33m\u001b[0m\u001b[0m\n\u001b[0;32m    313\u001b[0m         \u001b[1;32mreturn\u001b[0m \u001b[0mwrapper\u001b[0m\u001b[1;33m\u001b[0m\u001b[1;33m\u001b[0m\u001b[0m\n",
      "\u001b[1;32m~\\anaconda3\\lib\\site-packages\\pandas\\io\\parsers\\readers.py\u001b[0m in \u001b[0;36mread_csv\u001b[1;34m(filepath_or_buffer, sep, delimiter, header, names, index_col, usecols, squeeze, prefix, mangle_dupe_cols, dtype, engine, converters, true_values, false_values, skipinitialspace, skiprows, skipfooter, nrows, na_values, keep_default_na, na_filter, verbose, skip_blank_lines, parse_dates, infer_datetime_format, keep_date_col, date_parser, dayfirst, cache_dates, iterator, chunksize, compression, thousands, decimal, lineterminator, quotechar, quoting, doublequote, escapechar, comment, encoding, encoding_errors, dialect, error_bad_lines, warn_bad_lines, on_bad_lines, delim_whitespace, low_memory, memory_map, float_precision, storage_options)\u001b[0m\n\u001b[0;32m    584\u001b[0m     \u001b[0mkwds\u001b[0m\u001b[1;33m.\u001b[0m\u001b[0mupdate\u001b[0m\u001b[1;33m(\u001b[0m\u001b[0mkwds_defaults\u001b[0m\u001b[1;33m)\u001b[0m\u001b[1;33m\u001b[0m\u001b[1;33m\u001b[0m\u001b[0m\n\u001b[0;32m    585\u001b[0m \u001b[1;33m\u001b[0m\u001b[0m\n\u001b[1;32m--> 586\u001b[1;33m     \u001b[1;32mreturn\u001b[0m \u001b[0m_read\u001b[0m\u001b[1;33m(\u001b[0m\u001b[0mfilepath_or_buffer\u001b[0m\u001b[1;33m,\u001b[0m \u001b[0mkwds\u001b[0m\u001b[1;33m)\u001b[0m\u001b[1;33m\u001b[0m\u001b[1;33m\u001b[0m\u001b[0m\n\u001b[0m\u001b[0;32m    587\u001b[0m \u001b[1;33m\u001b[0m\u001b[0m\n\u001b[0;32m    588\u001b[0m \u001b[1;33m\u001b[0m\u001b[0m\n",
      "\u001b[1;32m~\\anaconda3\\lib\\site-packages\\pandas\\io\\parsers\\readers.py\u001b[0m in \u001b[0;36m_read\u001b[1;34m(filepath_or_buffer, kwds)\u001b[0m\n\u001b[0;32m    480\u001b[0m \u001b[1;33m\u001b[0m\u001b[0m\n\u001b[0;32m    481\u001b[0m     \u001b[1;31m# Create the parser.\u001b[0m\u001b[1;33m\u001b[0m\u001b[1;33m\u001b[0m\u001b[0m\n\u001b[1;32m--> 482\u001b[1;33m     \u001b[0mparser\u001b[0m \u001b[1;33m=\u001b[0m \u001b[0mTextFileReader\u001b[0m\u001b[1;33m(\u001b[0m\u001b[0mfilepath_or_buffer\u001b[0m\u001b[1;33m,\u001b[0m \u001b[1;33m**\u001b[0m\u001b[0mkwds\u001b[0m\u001b[1;33m)\u001b[0m\u001b[1;33m\u001b[0m\u001b[1;33m\u001b[0m\u001b[0m\n\u001b[0m\u001b[0;32m    483\u001b[0m \u001b[1;33m\u001b[0m\u001b[0m\n\u001b[0;32m    484\u001b[0m     \u001b[1;32mif\u001b[0m \u001b[0mchunksize\u001b[0m \u001b[1;32mor\u001b[0m \u001b[0miterator\u001b[0m\u001b[1;33m:\u001b[0m\u001b[1;33m\u001b[0m\u001b[1;33m\u001b[0m\u001b[0m\n",
      "\u001b[1;32m~\\anaconda3\\lib\\site-packages\\pandas\\io\\parsers\\readers.py\u001b[0m in \u001b[0;36m__init__\u001b[1;34m(self, f, engine, **kwds)\u001b[0m\n\u001b[0;32m    809\u001b[0m             \u001b[0mself\u001b[0m\u001b[1;33m.\u001b[0m\u001b[0moptions\u001b[0m\u001b[1;33m[\u001b[0m\u001b[1;34m\"has_index_names\"\u001b[0m\u001b[1;33m]\u001b[0m \u001b[1;33m=\u001b[0m \u001b[0mkwds\u001b[0m\u001b[1;33m[\u001b[0m\u001b[1;34m\"has_index_names\"\u001b[0m\u001b[1;33m]\u001b[0m\u001b[1;33m\u001b[0m\u001b[1;33m\u001b[0m\u001b[0m\n\u001b[0;32m    810\u001b[0m \u001b[1;33m\u001b[0m\u001b[0m\n\u001b[1;32m--> 811\u001b[1;33m         \u001b[0mself\u001b[0m\u001b[1;33m.\u001b[0m\u001b[0m_engine\u001b[0m \u001b[1;33m=\u001b[0m \u001b[0mself\u001b[0m\u001b[1;33m.\u001b[0m\u001b[0m_make_engine\u001b[0m\u001b[1;33m(\u001b[0m\u001b[0mself\u001b[0m\u001b[1;33m.\u001b[0m\u001b[0mengine\u001b[0m\u001b[1;33m)\u001b[0m\u001b[1;33m\u001b[0m\u001b[1;33m\u001b[0m\u001b[0m\n\u001b[0m\u001b[0;32m    812\u001b[0m \u001b[1;33m\u001b[0m\u001b[0m\n\u001b[0;32m    813\u001b[0m     \u001b[1;32mdef\u001b[0m \u001b[0mclose\u001b[0m\u001b[1;33m(\u001b[0m\u001b[0mself\u001b[0m\u001b[1;33m)\u001b[0m\u001b[1;33m:\u001b[0m\u001b[1;33m\u001b[0m\u001b[1;33m\u001b[0m\u001b[0m\n",
      "\u001b[1;32m~\\anaconda3\\lib\\site-packages\\pandas\\io\\parsers\\readers.py\u001b[0m in \u001b[0;36m_make_engine\u001b[1;34m(self, engine)\u001b[0m\n\u001b[0;32m   1038\u001b[0m             )\n\u001b[0;32m   1039\u001b[0m         \u001b[1;31m# error: Too many arguments for \"ParserBase\"\u001b[0m\u001b[1;33m\u001b[0m\u001b[1;33m\u001b[0m\u001b[0m\n\u001b[1;32m-> 1040\u001b[1;33m         \u001b[1;32mreturn\u001b[0m \u001b[0mmapping\u001b[0m\u001b[1;33m[\u001b[0m\u001b[0mengine\u001b[0m\u001b[1;33m]\u001b[0m\u001b[1;33m(\u001b[0m\u001b[0mself\u001b[0m\u001b[1;33m.\u001b[0m\u001b[0mf\u001b[0m\u001b[1;33m,\u001b[0m \u001b[1;33m**\u001b[0m\u001b[0mself\u001b[0m\u001b[1;33m.\u001b[0m\u001b[0moptions\u001b[0m\u001b[1;33m)\u001b[0m  \u001b[1;31m# type: ignore[call-arg]\u001b[0m\u001b[1;33m\u001b[0m\u001b[1;33m\u001b[0m\u001b[0m\n\u001b[0m\u001b[0;32m   1041\u001b[0m \u001b[1;33m\u001b[0m\u001b[0m\n\u001b[0;32m   1042\u001b[0m     \u001b[1;32mdef\u001b[0m \u001b[0m_failover_to_python\u001b[0m\u001b[1;33m(\u001b[0m\u001b[0mself\u001b[0m\u001b[1;33m)\u001b[0m\u001b[1;33m:\u001b[0m\u001b[1;33m\u001b[0m\u001b[1;33m\u001b[0m\u001b[0m\n",
      "\u001b[1;32m~\\anaconda3\\lib\\site-packages\\pandas\\io\\parsers\\c_parser_wrapper.py\u001b[0m in \u001b[0;36m__init__\u001b[1;34m(self, src, **kwds)\u001b[0m\n\u001b[0;32m     49\u001b[0m \u001b[1;33m\u001b[0m\u001b[0m\n\u001b[0;32m     50\u001b[0m         \u001b[1;31m# open handles\u001b[0m\u001b[1;33m\u001b[0m\u001b[1;33m\u001b[0m\u001b[0m\n\u001b[1;32m---> 51\u001b[1;33m         \u001b[0mself\u001b[0m\u001b[1;33m.\u001b[0m\u001b[0m_open_handles\u001b[0m\u001b[1;33m(\u001b[0m\u001b[0msrc\u001b[0m\u001b[1;33m,\u001b[0m \u001b[0mkwds\u001b[0m\u001b[1;33m)\u001b[0m\u001b[1;33m\u001b[0m\u001b[1;33m\u001b[0m\u001b[0m\n\u001b[0m\u001b[0;32m     52\u001b[0m         \u001b[1;32massert\u001b[0m \u001b[0mself\u001b[0m\u001b[1;33m.\u001b[0m\u001b[0mhandles\u001b[0m \u001b[1;32mis\u001b[0m \u001b[1;32mnot\u001b[0m \u001b[1;32mNone\u001b[0m\u001b[1;33m\u001b[0m\u001b[1;33m\u001b[0m\u001b[0m\n\u001b[0;32m     53\u001b[0m \u001b[1;33m\u001b[0m\u001b[0m\n",
      "\u001b[1;32m~\\anaconda3\\lib\\site-packages\\pandas\\io\\parsers\\base_parser.py\u001b[0m in \u001b[0;36m_open_handles\u001b[1;34m(self, src, kwds)\u001b[0m\n\u001b[0;32m    220\u001b[0m         \u001b[0mLet\u001b[0m \u001b[0mthe\u001b[0m \u001b[0mreaders\u001b[0m \u001b[0mopen\u001b[0m \u001b[0mIOHandles\u001b[0m \u001b[0mafter\u001b[0m \u001b[0mthey\u001b[0m \u001b[0mare\u001b[0m \u001b[0mdone\u001b[0m \u001b[1;32mwith\u001b[0m \u001b[0mtheir\u001b[0m \u001b[0mpotential\u001b[0m \u001b[0mraises\u001b[0m\u001b[1;33m.\u001b[0m\u001b[1;33m\u001b[0m\u001b[1;33m\u001b[0m\u001b[0m\n\u001b[0;32m    221\u001b[0m         \"\"\"\n\u001b[1;32m--> 222\u001b[1;33m         self.handles = get_handle(\n\u001b[0m\u001b[0;32m    223\u001b[0m             \u001b[0msrc\u001b[0m\u001b[1;33m,\u001b[0m\u001b[1;33m\u001b[0m\u001b[1;33m\u001b[0m\u001b[0m\n\u001b[0;32m    224\u001b[0m             \u001b[1;34m\"r\"\u001b[0m\u001b[1;33m,\u001b[0m\u001b[1;33m\u001b[0m\u001b[1;33m\u001b[0m\u001b[0m\n",
      "\u001b[1;32m~\\anaconda3\\lib\\site-packages\\pandas\\io\\common.py\u001b[0m in \u001b[0;36mget_handle\u001b[1;34m(path_or_buf, mode, encoding, compression, memory_map, is_text, errors, storage_options)\u001b[0m\n\u001b[0;32m    700\u001b[0m         \u001b[1;32mif\u001b[0m \u001b[0mioargs\u001b[0m\u001b[1;33m.\u001b[0m\u001b[0mencoding\u001b[0m \u001b[1;32mand\u001b[0m \u001b[1;34m\"b\"\u001b[0m \u001b[1;32mnot\u001b[0m \u001b[1;32min\u001b[0m \u001b[0mioargs\u001b[0m\u001b[1;33m.\u001b[0m\u001b[0mmode\u001b[0m\u001b[1;33m:\u001b[0m\u001b[1;33m\u001b[0m\u001b[1;33m\u001b[0m\u001b[0m\n\u001b[0;32m    701\u001b[0m             \u001b[1;31m# Encoding\u001b[0m\u001b[1;33m\u001b[0m\u001b[1;33m\u001b[0m\u001b[0m\n\u001b[1;32m--> 702\u001b[1;33m             handle = open(\n\u001b[0m\u001b[0;32m    703\u001b[0m                 \u001b[0mhandle\u001b[0m\u001b[1;33m,\u001b[0m\u001b[1;33m\u001b[0m\u001b[1;33m\u001b[0m\u001b[0m\n\u001b[0;32m    704\u001b[0m                 \u001b[0mioargs\u001b[0m\u001b[1;33m.\u001b[0m\u001b[0mmode\u001b[0m\u001b[1;33m,\u001b[0m\u001b[1;33m\u001b[0m\u001b[1;33m\u001b[0m\u001b[0m\n",
      "\u001b[1;31mFileNotFoundError\u001b[0m: [Errno 2] No such file or directory: '../static/data/dates.csv'"
     ]
    }
   ],
   "source": [
    "import pandas as pd\n",
    "dates_df = pd.read_csv(\"../static/data/dates.csv\")\n",
    "dates_df['Count'] = dates_df['Count'].fillna(0).astype(int)\n",
    "dates_df"
   ]
  },
  {
   "cell_type": "code",
   "execution_count": null,
   "metadata": {},
   "outputs": [
    {
     "name": "stderr",
     "output_type": "stream",
     "text": [
      "C:\\Users\\antoi\\AppData\\Local\\Temp/ipykernel_2824/739801947.py:4: SettingWithCopyWarning: \n",
      "A value is trying to be set on a copy of a slice from a DataFrame.\n",
      "Try using .loc[row_indexer,col_indexer] = value instead\n",
      "\n",
      "See the caveats in the documentation: https://pandas.pydata.org/pandas-docs/stable/user_guide/indexing.html#returning-a-view-versus-a-copy\n",
      "  dates_df_iloc['Price'] = price_list\n"
     ]
    },
    {
     "data": {
      "text/plain": [
       "[{'Count': 1.0, 'Date': '3/05/2022', 'DOW': 'Tuesday', 'Price': 32.53},\n",
       " {'Count': 2.0, 'Date': '4/05/2022', 'DOW': 'Wednesday', 'Price': 32.7},\n",
       " {'Count': 3.0, 'Date': '5/05/2022', 'DOW': 'Thursday', 'Price': 32.86},\n",
       " {'Count': 4.0, 'Date': '6/05/2022', 'DOW': 'Friday', 'Price': 32.99},\n",
       " {'Count': 5.0, 'Date': '9/05/2022', 'DOW': 'Monday', 'Price': 33.08},\n",
       " {'Count': 6.0, 'Date': '10/05/2022', 'DOW': 'Tuesday', 'Price': 33.14},\n",
       " {'Count': 7.0, 'Date': '11/05/2022', 'DOW': 'Wednesday', 'Price': 33.18},\n",
       " {'Count': 8.0, 'Date': '12/05/2022', 'DOW': 'Thursday', 'Price': 33.21},\n",
       " {'Count': 9.0, 'Date': '13/05/2022', 'DOW': 'Friday', 'Price': 33.24},\n",
       " {'Count': 10.0, 'Date': '16/05/2022', 'DOW': 'Monday', 'Price': 33.27},\n",
       " {'Count': 11.0, 'Date': '17/05/2022', 'DOW': 'Tuesday', 'Price': 33.31},\n",
       " {'Count': 12.0, 'Date': '18/05/2022', 'DOW': 'Wednesday', 'Price': 33.35},\n",
       " {'Count': 13.0, 'Date': '19/05/2022', 'DOW': 'Thursday', 'Price': 33.39},\n",
       " {'Count': 14.0, 'Date': '20/05/2022', 'DOW': 'Friday', 'Price': 33.44},\n",
       " {'Count': 15.0, 'Date': '23/05/2022', 'DOW': 'Monday', 'Price': 33.49},\n",
       " {'Count': 16.0, 'Date': '24/05/2022', 'DOW': 'Tuesday', 'Price': 33.54},\n",
       " {'Count': 17.0, 'Date': '25/05/2022', 'DOW': 'Wednesday', 'Price': 33.58},\n",
       " {'Count': 18.0, 'Date': '26/05/2022', 'DOW': 'Thursday', 'Price': 33.63},\n",
       " {'Count': 19.0, 'Date': '27/05/2022', 'DOW': 'Friday', 'Price': 33.67},\n",
       " {'Count': 20.0, 'Date': '30/05/2022', 'DOW': 'Monday', 'Price': 33.71},\n",
       " {'Count': 21.0, 'Date': '31/05/2022', 'DOW': 'Tuesday', 'Price': 33.75},\n",
       " {'Count': 22.0, 'Date': '1/06/2022', 'DOW': 'Wednesday', 'Price': 33.8},\n",
       " {'Count': 23.0, 'Date': '2/06/2022', 'DOW': 'Thursday', 'Price': 33.84},\n",
       " {'Count': 24.0, 'Date': '3/06/2022', 'DOW': 'Friday', 'Price': 33.89},\n",
       " {'Count': 25.0, 'Date': '6/06/2022', 'DOW': 'Monday', 'Price': 33.93},\n",
       " {'Count': 26.0, 'Date': '7/06/2022', 'DOW': 'Tuesday', 'Price': 33.97},\n",
       " {'Count': 27.0, 'Date': '8/06/2022', 'DOW': 'Wednesday', 'Price': 34.0},\n",
       " {'Count': 28.0, 'Date': '9/06/2022', 'DOW': 'Thursday', 'Price': 34.02},\n",
       " {'Count': 29.0, 'Date': '10/06/2022', 'DOW': 'Friday', 'Price': 34.04},\n",
       " {'Count': 30.0, 'Date': '13/06/2022', 'DOW': 'Monday', 'Price': 34.06},\n",
       " {'Count': 31.0, 'Date': '14/06/2022', 'DOW': 'Tuesday', 'Price': 34.08},\n",
       " {'Count': 32.0, 'Date': '15/06/2022', 'DOW': 'Wednesday', 'Price': 34.1},\n",
       " {'Count': 33.0, 'Date': '16/06/2022', 'DOW': 'Thursday', 'Price': 34.12},\n",
       " {'Count': 34.0, 'Date': '17/06/2022', 'DOW': 'Friday', 'Price': 34.15},\n",
       " {'Count': 35.0, 'Date': '20/06/2022', 'DOW': 'Monday', 'Price': 34.17},\n",
       " {'Count': 36.0, 'Date': '21/06/2022', 'DOW': 'Tuesday', 'Price': 34.18},\n",
       " {'Count': 37.0, 'Date': '22/06/2022', 'DOW': 'Wednesday', 'Price': 34.2},\n",
       " {'Count': 38.0, 'Date': '23/06/2022', 'DOW': 'Thursday', 'Price': 34.22},\n",
       " {'Count': 39.0, 'Date': '24/06/2022', 'DOW': 'Friday', 'Price': 34.23},\n",
       " {'Count': 40.0, 'Date': '27/06/2022', 'DOW': 'Monday', 'Price': 34.25},\n",
       " {'Count': 41.0, 'Date': '28/06/2022', 'DOW': 'Tuesday', 'Price': 34.26},\n",
       " {'Count': 42.0, 'Date': '29/06/2022', 'DOW': 'Wednesday', 'Price': 34.28},\n",
       " {'Count': 43.0, 'Date': '30/06/2022', 'DOW': 'Thursday', 'Price': 34.29},\n",
       " {'Count': 44.0, 'Date': '1/07/2022', 'DOW': 'Friday', 'Price': 34.31},\n",
       " {'Count': 45.0, 'Date': '4/07/2022', 'DOW': 'Monday', 'Price': 34.33},\n",
       " {'Count': 46.0, 'Date': '5/07/2022', 'DOW': 'Tuesday', 'Price': 34.34},\n",
       " {'Count': 47.0, 'Date': '6/07/2022', 'DOW': 'Wednesday', 'Price': 34.36},\n",
       " {'Count': 48.0, 'Date': '7/07/2022', 'DOW': 'Thursday', 'Price': 34.38},\n",
       " {'Count': 49.0, 'Date': '8/07/2022', 'DOW': 'Friday', 'Price': 34.4},\n",
       " {'Count': 50.0, 'Date': '11/07/2022', 'DOW': 'Monday', 'Price': 34.42},\n",
       " {'Count': 51.0, 'Date': '12/07/2022', 'DOW': 'Tuesday', 'Price': 34.43},\n",
       " {'Count': 52.0, 'Date': '13/07/2022', 'DOW': 'Wednesday', 'Price': 34.45},\n",
       " {'Count': 53.0, 'Date': '14/07/2022', 'DOW': 'Thursday', 'Price': 34.47},\n",
       " {'Count': 54.0, 'Date': '15/07/2022', 'DOW': 'Friday', 'Price': 34.49},\n",
       " {'Count': 55.0, 'Date': '18/07/2022', 'DOW': 'Monday', 'Price': 34.51},\n",
       " {'Count': 56.0, 'Date': '19/07/2022', 'DOW': 'Tuesday', 'Price': 34.53},\n",
       " {'Count': 57.0, 'Date': '20/07/2022', 'DOW': 'Wednesday', 'Price': 34.55},\n",
       " {'Count': 58.0, 'Date': '21/07/2022', 'DOW': 'Thursday', 'Price': 34.57},\n",
       " {'Count': 59.0, 'Date': '22/07/2022', 'DOW': 'Friday', 'Price': 34.59},\n",
       " {'Count': 60.0, 'Date': '25/07/2022', 'DOW': 'Monday', 'Price': 34.61},\n",
       " {'Count': 61.0, 'Date': '26/07/2022', 'DOW': 'Tuesday', 'Price': 34.62},\n",
       " {'Count': 62.0, 'Date': '27/07/2022', 'DOW': 'Wednesday', 'Price': 34.64},\n",
       " {'Count': 63.0, 'Date': '28/07/2022', 'DOW': 'Thursday', 'Price': 34.65},\n",
       " {'Count': 64.0, 'Date': '29/07/2022', 'DOW': 'Friday', 'Price': 34.66},\n",
       " {'Count': 65.0, 'Date': '1/08/2022', 'DOW': 'Monday', 'Price': 34.67},\n",
       " {'Count': 66.0, 'Date': '2/08/2022', 'DOW': 'Tuesday', 'Price': 34.68},\n",
       " {'Count': 67.0, 'Date': '3/08/2022', 'DOW': 'Wednesday', 'Price': 34.69},\n",
       " {'Count': 68.0, 'Date': '4/08/2022', 'DOW': 'Thursday', 'Price': 34.7},\n",
       " {'Count': 69.0, 'Date': '5/08/2022', 'DOW': 'Friday', 'Price': 34.71},\n",
       " {'Count': 70.0, 'Date': '8/08/2022', 'DOW': 'Monday', 'Price': 34.72},\n",
       " {'Count': 71.0, 'Date': '9/08/2022', 'DOW': 'Tuesday', 'Price': 34.73},\n",
       " {'Count': 72.0, 'Date': '10/08/2022', 'DOW': 'Wednesday', 'Price': 34.74},\n",
       " {'Count': 73.0, 'Date': '11/08/2022', 'DOW': 'Thursday', 'Price': 34.75},\n",
       " {'Count': 74.0, 'Date': '12/08/2022', 'DOW': 'Friday', 'Price': 34.76},\n",
       " {'Count': 75.0, 'Date': '15/08/2022', 'DOW': 'Monday', 'Price': 34.77},\n",
       " {'Count': 76.0, 'Date': '16/08/2022', 'DOW': 'Tuesday', 'Price': 34.78},\n",
       " {'Count': 77.0, 'Date': '17/08/2022', 'DOW': 'Wednesday', 'Price': 34.79},\n",
       " {'Count': 78.0, 'Date': '18/08/2022', 'DOW': 'Thursday', 'Price': 34.8},\n",
       " {'Count': 79.0, 'Date': '19/08/2022', 'DOW': 'Friday', 'Price': 34.81},\n",
       " {'Count': 80.0, 'Date': '22/08/2022', 'DOW': 'Monday', 'Price': 34.81},\n",
       " {'Count': 81.0, 'Date': '23/08/2022', 'DOW': 'Tuesday', 'Price': 34.82},\n",
       " {'Count': 82.0, 'Date': '24/08/2022', 'DOW': 'Wednesday', 'Price': 34.83},\n",
       " {'Count': 83.0, 'Date': '25/08/2022', 'DOW': 'Thursday', 'Price': 34.84},\n",
       " {'Count': 84.0, 'Date': '26/08/2022', 'DOW': 'Friday', 'Price': 34.84},\n",
       " {'Count': 85.0, 'Date': '29/08/2022', 'DOW': 'Monday', 'Price': 34.85},\n",
       " {'Count': 86.0, 'Date': '30/08/2022', 'DOW': 'Tuesday', 'Price': 34.86},\n",
       " {'Count': 87.0, 'Date': '31/08/2022', 'DOW': 'Wednesday', 'Price': 34.86},\n",
       " {'Count': 88.0, 'Date': '1/09/2022', 'DOW': 'Thursday', 'Price': 34.87},\n",
       " {'Count': 89.0, 'Date': '2/09/2022', 'DOW': 'Friday', 'Price': 34.87},\n",
       " {'Count': 90.0, 'Date': '5/09/2022', 'DOW': 'Monday', 'Price': 34.88},\n",
       " {'Count': 91.0, 'Date': '6/09/2022', 'DOW': 'Tuesday', 'Price': 34.89},\n",
       " {'Count': 92.0, 'Date': '7/09/2022', 'DOW': 'Wednesday', 'Price': 34.89},\n",
       " {'Count': 93.0, 'Date': '8/09/2022', 'DOW': 'Thursday', 'Price': 34.9},\n",
       " {'Count': 94.0, 'Date': '9/09/2022', 'DOW': 'Friday', 'Price': 34.9},\n",
       " {'Count': 95.0, 'Date': '12/09/2022', 'DOW': 'Monday', 'Price': 34.91},\n",
       " {'Count': 96.0, 'Date': '13/09/2022', 'DOW': 'Tuesday', 'Price': 34.92},\n",
       " {'Count': 97.0, 'Date': '14/09/2022', 'DOW': 'Wednesday', 'Price': 34.92},\n",
       " {'Count': 98.0, 'Date': '15/09/2022', 'DOW': 'Thursday', 'Price': 34.93},\n",
       " {'Count': 99.0, 'Date': '16/09/2022', 'DOW': 'Friday', 'Price': 34.93},\n",
       " {'Count': 100.0, 'Date': '19/09/2022', 'DOW': 'Monday', 'Price': 34.94},\n",
       " {'Count': 101.0, 'Date': '20/09/2022', 'DOW': 'Tuesday', 'Price': 34.94},\n",
       " {'Count': 102.0, 'Date': '21/09/2022', 'DOW': 'Wednesday', 'Price': 34.95},\n",
       " {'Count': 103.0, 'Date': '22/09/2022', 'DOW': 'Thursday', 'Price': 34.95},\n",
       " {'Count': 104.0, 'Date': '23/09/2022', 'DOW': 'Friday', 'Price': 34.96},\n",
       " {'Count': 105.0, 'Date': '26/09/2022', 'DOW': 'Monday', 'Price': 34.96},\n",
       " {'Count': 106.0, 'Date': '27/09/2022', 'DOW': 'Tuesday', 'Price': 34.97},\n",
       " {'Count': 107.0, 'Date': '28/09/2022', 'DOW': 'Wednesday', 'Price': 34.97},\n",
       " {'Count': 108.0, 'Date': '29/09/2022', 'DOW': 'Thursday', 'Price': 34.98},\n",
       " {'Count': 109.0, 'Date': '30/09/2022', 'DOW': 'Friday', 'Price': 34.98},\n",
       " {'Count': 110.0, 'Date': '3/10/2022', 'DOW': 'Monday', 'Price': 34.99},\n",
       " {'Count': 111.0, 'Date': '4/10/2022', 'DOW': 'Tuesday', 'Price': 34.99},\n",
       " {'Count': 112.0, 'Date': '5/10/2022', 'DOW': 'Wednesday', 'Price': 34.99},\n",
       " {'Count': 113.0, 'Date': '6/10/2022', 'DOW': 'Thursday', 'Price': 35.0},\n",
       " {'Count': 114.0, 'Date': '7/10/2022', 'DOW': 'Friday', 'Price': 35.0},\n",
       " {'Count': 115.0, 'Date': '10/10/2022', 'DOW': 'Monday', 'Price': 35.01},\n",
       " {'Count': 116.0, 'Date': '11/10/2022', 'DOW': 'Tuesday', 'Price': 35.01},\n",
       " {'Count': 117.0, 'Date': '12/10/2022', 'DOW': 'Wednesday', 'Price': 35.01},\n",
       " {'Count': 118.0, 'Date': '13/10/2022', 'DOW': 'Thursday', 'Price': 35.02},\n",
       " {'Count': 119.0, 'Date': '14/10/2022', 'DOW': 'Friday', 'Price': 35.02},\n",
       " {'Count': 120.0, 'Date': '17/10/2022', 'DOW': 'Monday', 'Price': 35.02},\n",
       " {'Count': 121.0, 'Date': '18/10/2022', 'DOW': 'Tuesday', 'Price': 35.02},\n",
       " {'Count': 122.0, 'Date': '19/10/2022', 'DOW': 'Wednesday', 'Price': 35.03},\n",
       " {'Count': 123.0, 'Date': '20/10/2022', 'DOW': 'Thursday', 'Price': 35.03},\n",
       " {'Count': 124.0, 'Date': '21/10/2022', 'DOW': 'Friday', 'Price': 35.03},\n",
       " {'Count': 125.0, 'Date': '24/10/2022', 'DOW': 'Monday', 'Price': 35.03},\n",
       " {'Count': 126.0, 'Date': '25/10/2022', 'DOW': 'Tuesday', 'Price': 35.04},\n",
       " {'Count': 127.0, 'Date': '26/10/2022', 'DOW': 'Wednesday', 'Price': 35.04},\n",
       " {'Count': 128.0, 'Date': '27/10/2022', 'DOW': 'Thursday', 'Price': 35.04},\n",
       " {'Count': 129.0, 'Date': '28/10/2022', 'DOW': 'Friday', 'Price': 35.05},\n",
       " {'Count': 130.0, 'Date': '31/10/2022', 'DOW': 'Monday', 'Price': 35.05},\n",
       " {'Count': 131.0, 'Date': '1/11/2022', 'DOW': 'Tuesday', 'Price': 35.05},\n",
       " {'Count': 132.0, 'Date': '2/11/2022', 'DOW': 'Wednesday', 'Price': 35.05},\n",
       " {'Count': 133.0, 'Date': '3/11/2022', 'DOW': 'Thursday', 'Price': 35.05},\n",
       " {'Count': 134.0, 'Date': '4/11/2022', 'DOW': 'Friday', 'Price': 35.06},\n",
       " {'Count': 135.0, 'Date': '7/11/2022', 'DOW': 'Monday', 'Price': 35.06},\n",
       " {'Count': 136.0, 'Date': '8/11/2022', 'DOW': 'Tuesday', 'Price': 35.06},\n",
       " {'Count': 137.0, 'Date': '9/11/2022', 'DOW': 'Wednesday', 'Price': 35.06},\n",
       " {'Count': 138.0, 'Date': '10/11/2022', 'DOW': 'Thursday', 'Price': 35.07},\n",
       " {'Count': 139.0, 'Date': '11/11/2022', 'DOW': 'Friday', 'Price': 35.07},\n",
       " {'Count': 140.0, 'Date': '14/11/2022', 'DOW': 'Monday', 'Price': 35.07},\n",
       " {'Count': 141.0, 'Date': '15/11/2022', 'DOW': 'Tuesday', 'Price': 35.07},\n",
       " {'Count': 142.0, 'Date': '16/11/2022', 'DOW': 'Wednesday', 'Price': 35.07},\n",
       " {'Count': 143.0, 'Date': '17/11/2022', 'DOW': 'Thursday', 'Price': 35.07},\n",
       " {'Count': 144.0, 'Date': '18/11/2022', 'DOW': 'Friday', 'Price': 35.08},\n",
       " {'Count': 145.0, 'Date': '21/11/2022', 'DOW': 'Monday', 'Price': 35.08},\n",
       " {'Count': 146.0, 'Date': '22/11/2022', 'DOW': 'Tuesday', 'Price': 35.08},\n",
       " {'Count': 147.0, 'Date': '23/11/2022', 'DOW': 'Wednesday', 'Price': 35.08},\n",
       " {'Count': 148.0, 'Date': '24/11/2022', 'DOW': 'Thursday', 'Price': 35.08},\n",
       " {'Count': 149.0, 'Date': '25/11/2022', 'DOW': 'Friday', 'Price': 35.08},\n",
       " {'Count': 150.0, 'Date': '28/11/2022', 'DOW': 'Monday', 'Price': 35.09},\n",
       " {'Count': 151.0, 'Date': '29/11/2022', 'DOW': 'Tuesday', 'Price': 35.09},\n",
       " {'Count': 152.0, 'Date': '30/11/2022', 'DOW': 'Wednesday', 'Price': 35.09},\n",
       " {'Count': 153.0, 'Date': '1/12/2022', 'DOW': 'Thursday', 'Price': 35.09},\n",
       " {'Count': 154.0, 'Date': '2/12/2022', 'DOW': 'Friday', 'Price': 35.09},\n",
       " {'Count': 155.0, 'Date': '5/12/2022', 'DOW': 'Monday', 'Price': 35.09},\n",
       " {'Count': 156.0, 'Date': '6/12/2022', 'DOW': 'Tuesday', 'Price': 35.09},\n",
       " {'Count': 157.0, 'Date': '7/12/2022', 'DOW': 'Wednesday', 'Price': 35.1},\n",
       " {'Count': 158.0, 'Date': '8/12/2022', 'DOW': 'Thursday', 'Price': 35.1},\n",
       " {'Count': 159.0, 'Date': '9/12/2022', 'DOW': 'Friday', 'Price': 35.1},\n",
       " {'Count': 160.0, 'Date': '12/12/2022', 'DOW': 'Monday', 'Price': 35.1},\n",
       " {'Count': 161.0, 'Date': '13/12/2022', 'DOW': 'Tuesday', 'Price': 35.1},\n",
       " {'Count': 162.0, 'Date': '14/12/2022', 'DOW': 'Wednesday', 'Price': 35.1},\n",
       " {'Count': 163.0, 'Date': '15/12/2022', 'DOW': 'Thursday', 'Price': 35.1},\n",
       " {'Count': 164.0, 'Date': '16/12/2022', 'DOW': 'Friday', 'Price': 35.1},\n",
       " {'Count': 165.0, 'Date': '19/12/2022', 'DOW': 'Monday', 'Price': 35.11},\n",
       " {'Count': 166.0, 'Date': '20/12/2022', 'DOW': 'Tuesday', 'Price': 35.11},\n",
       " {'Count': 167.0, 'Date': '21/12/2022', 'DOW': 'Wednesday', 'Price': 35.11},\n",
       " {'Count': 168.0, 'Date': '22/12/2022', 'DOW': 'Thursday', 'Price': 35.11},\n",
       " {'Count': 169.0, 'Date': '23/12/2022', 'DOW': 'Friday', 'Price': 35.11},\n",
       " {'Count': 170.0, 'Date': '26/12/2022', 'DOW': 'Monday', 'Price': 35.11},\n",
       " {'Count': 171.0, 'Date': '27/12/2022', 'DOW': 'Tuesday', 'Price': 35.11},\n",
       " {'Count': 172.0, 'Date': '28/12/2022', 'DOW': 'Wednesday', 'Price': 35.11},\n",
       " {'Count': 173.0, 'Date': '29/12/2022', 'DOW': 'Thursday', 'Price': 35.11},\n",
       " {'Count': 174.0, 'Date': '30/12/2022', 'DOW': 'Friday', 'Price': 35.11},\n",
       " {'Count': 175.0, 'Date': '2/01/2023', 'DOW': 'Monday', 'Price': 35.11},\n",
       " {'Count': 176.0, 'Date': '3/01/2023', 'DOW': 'Tuesday', 'Price': 35.12},\n",
       " {'Count': 177.0, 'Date': '4/01/2023', 'DOW': 'Wednesday', 'Price': 35.12},\n",
       " {'Count': 178.0, 'Date': '5/01/2023', 'DOW': 'Thursday', 'Price': 35.12},\n",
       " {'Count': 179.0, 'Date': '6/01/2023', 'DOW': 'Friday', 'Price': 35.12}]"
      ]
     },
     "execution_count": 42,
     "metadata": {},
     "output_type": "execute_result"
    }
   ],
   "source": [
    "#Append the input amount of trading days to dates dictionary\n",
    "dates_df_iloc = dates_df.iloc[0:input-1]\n",
    "dates_df_iloc['Price'] = price_list\n",
    "my_dict = dates_df_iloc.to_dict(orient='records')\n",
    "my_dict"
   ]
  },
  {
   "cell_type": "code",
   "execution_count": null,
   "metadata": {},
   "outputs": [
    {
     "data": {
      "text/plain": [
       "[{'Price': 32.53},\n",
       " {'Price': 32.7},\n",
       " {'Price': 32.86},\n",
       " {'Price': 32.99},\n",
       " {'Price': 33.08},\n",
       " {'Price': 33.14},\n",
       " {'Price': 33.18},\n",
       " {'Price': 33.21},\n",
       " {'Price': 33.24},\n",
       " {'Price': 33.27},\n",
       " {'Price': 33.31},\n",
       " {'Price': 33.35},\n",
       " {'Price': 33.39},\n",
       " {'Price': 33.44},\n",
       " {'Price': 33.49},\n",
       " {'Price': 33.54},\n",
       " {'Price': 33.58},\n",
       " {'Price': 33.63},\n",
       " {'Price': 33.67},\n",
       " {'Price': 33.71},\n",
       " {'Price': 33.75},\n",
       " {'Price': 33.8},\n",
       " {'Price': 33.84},\n",
       " {'Price': 33.89},\n",
       " {'Price': 33.93},\n",
       " {'Price': 33.97},\n",
       " {'Price': 34.0},\n",
       " {'Price': 34.02},\n",
       " {'Price': 34.04},\n",
       " {'Price': 34.06},\n",
       " {'Price': 34.08},\n",
       " {'Price': 34.1},\n",
       " {'Price': 34.12},\n",
       " {'Price': 34.15},\n",
       " {'Price': 34.17},\n",
       " {'Price': 34.18},\n",
       " {'Price': 34.2},\n",
       " {'Price': 34.22},\n",
       " {'Price': 34.23},\n",
       " {'Price': 34.25},\n",
       " {'Price': 34.26},\n",
       " {'Price': 34.28},\n",
       " {'Price': 34.29},\n",
       " {'Price': 34.31},\n",
       " {'Price': 34.33},\n",
       " {'Price': 34.34},\n",
       " {'Price': 34.36},\n",
       " {'Price': 34.38},\n",
       " {'Price': 34.4},\n",
       " {'Price': 34.42},\n",
       " {'Price': 34.43},\n",
       " {'Price': 34.45},\n",
       " {'Price': 34.47},\n",
       " {'Price': 34.49},\n",
       " {'Price': 34.51},\n",
       " {'Price': 34.53},\n",
       " {'Price': 34.55},\n",
       " {'Price': 34.57},\n",
       " {'Price': 34.59},\n",
       " {'Price': 34.61},\n",
       " {'Price': 34.62},\n",
       " {'Price': 34.64},\n",
       " {'Price': 34.65},\n",
       " {'Price': 34.66},\n",
       " {'Price': 34.67},\n",
       " {'Price': 34.68},\n",
       " {'Price': 34.69},\n",
       " {'Price': 34.7},\n",
       " {'Price': 34.71},\n",
       " {'Price': 34.72},\n",
       " {'Price': 34.73},\n",
       " {'Price': 34.74},\n",
       " {'Price': 34.75},\n",
       " {'Price': 34.76},\n",
       " {'Price': 34.77},\n",
       " {'Price': 34.78},\n",
       " {'Price': 34.79},\n",
       " {'Price': 34.8},\n",
       " {'Price': 34.81},\n",
       " {'Price': 34.81},\n",
       " {'Price': 34.82},\n",
       " {'Price': 34.83},\n",
       " {'Price': 34.84},\n",
       " {'Price': 34.84},\n",
       " {'Price': 34.85},\n",
       " {'Price': 34.86},\n",
       " {'Price': 34.86},\n",
       " {'Price': 34.87},\n",
       " {'Price': 34.87},\n",
       " {'Price': 34.88},\n",
       " {'Price': 34.89},\n",
       " {'Price': 34.89},\n",
       " {'Price': 34.9},\n",
       " {'Price': 34.9},\n",
       " {'Price': 34.91},\n",
       " {'Price': 34.92},\n",
       " {'Price': 34.92},\n",
       " {'Price': 34.93},\n",
       " {'Price': 34.93},\n",
       " {'Price': 34.94},\n",
       " {'Price': 34.94},\n",
       " {'Price': 34.95},\n",
       " {'Price': 34.95},\n",
       " {'Price': 34.96},\n",
       " {'Price': 34.96},\n",
       " {'Price': 34.97},\n",
       " {'Price': 34.97},\n",
       " {'Price': 34.98},\n",
       " {'Price': 34.98},\n",
       " {'Price': 34.99},\n",
       " {'Price': 34.99},\n",
       " {'Price': 34.99},\n",
       " {'Price': 35.0},\n",
       " {'Price': 35.0},\n",
       " {'Price': 35.01},\n",
       " {'Price': 35.01},\n",
       " {'Price': 35.01},\n",
       " {'Price': 35.02},\n",
       " {'Price': 35.02},\n",
       " {'Price': 35.02},\n",
       " {'Price': 35.02},\n",
       " {'Price': 35.03},\n",
       " {'Price': 35.03},\n",
       " {'Price': 35.03},\n",
       " {'Price': 35.03},\n",
       " {'Price': 35.04},\n",
       " {'Price': 35.04},\n",
       " {'Price': 35.04},\n",
       " {'Price': 35.05},\n",
       " {'Price': 35.05},\n",
       " {'Price': 35.05},\n",
       " {'Price': 35.05},\n",
       " {'Price': 35.05},\n",
       " {'Price': 35.06},\n",
       " {'Price': 35.06},\n",
       " {'Price': 35.06},\n",
       " {'Price': 35.06},\n",
       " {'Price': 35.07},\n",
       " {'Price': 35.07},\n",
       " {'Price': 35.07},\n",
       " {'Price': 35.07},\n",
       " {'Price': 35.07},\n",
       " {'Price': 35.07},\n",
       " {'Price': 35.08},\n",
       " {'Price': 35.08},\n",
       " {'Price': 35.08},\n",
       " {'Price': 35.08},\n",
       " {'Price': 35.08},\n",
       " {'Price': 35.08},\n",
       " {'Price': 35.09},\n",
       " {'Price': 35.09},\n",
       " {'Price': 35.09},\n",
       " {'Price': 35.09},\n",
       " {'Price': 35.09},\n",
       " {'Price': 35.09},\n",
       " {'Price': 35.09},\n",
       " {'Price': 35.1},\n",
       " {'Price': 35.1},\n",
       " {'Price': 35.1},\n",
       " {'Price': 35.1},\n",
       " {'Price': 35.1},\n",
       " {'Price': 35.1},\n",
       " {'Price': 35.1},\n",
       " {'Price': 35.1},\n",
       " {'Price': 35.11},\n",
       " {'Price': 35.11},\n",
       " {'Price': 35.11},\n",
       " {'Price': 35.11},\n",
       " {'Price': 35.11},\n",
       " {'Price': 35.11},\n",
       " {'Price': 35.11},\n",
       " {'Price': 35.11},\n",
       " {'Price': 35.11},\n",
       " {'Price': 35.11},\n",
       " {'Price': 35.11},\n",
       " {'Price': 35.12},\n",
       " {'Price': 35.12},\n",
       " {'Price': 35.12},\n",
       " {'Price': 35.12}]"
      ]
     },
     "execution_count": 39,
     "metadata": {},
     "output_type": "execute_result"
    }
   ],
   "source": [
    "price_dict = [dict(zip(['Price'],[x])) for x in price_list]\n",
    "price_dict"
   ]
  },
  {
   "cell_type": "code",
   "execution_count": null,
   "metadata": {},
   "outputs": [
    {
     "name": "stdout",
     "output_type": "stream",
     "text": [
      "4521 5651 5831\n"
     ]
    },
    {
     "data": {
      "text/html": [
       "<div>\n",
       "<style scoped>\n",
       "    .dataframe tbody tr th:only-of-type {\n",
       "        vertical-align: middle;\n",
       "    }\n",
       "\n",
       "    .dataframe tbody tr th {\n",
       "        vertical-align: top;\n",
       "    }\n",
       "\n",
       "    .dataframe thead th {\n",
       "        text-align: right;\n",
       "    }\n",
       "</style>\n",
       "<table border=\"1\" class=\"dataframe\">\n",
       "  <thead>\n",
       "    <tr style=\"text-align: right;\">\n",
       "      <th></th>\n",
       "      <th>Close</th>\n",
       "    </tr>\n",
       "  </thead>\n",
       "  <tbody>\n",
       "    <tr>\n",
       "      <th>5820</th>\n",
       "      <td>35.11</td>\n",
       "    </tr>\n",
       "    <tr>\n",
       "      <th>5821</th>\n",
       "      <td>35.11</td>\n",
       "    </tr>\n",
       "    <tr>\n",
       "      <th>5822</th>\n",
       "      <td>35.11</td>\n",
       "    </tr>\n",
       "    <tr>\n",
       "      <th>5823</th>\n",
       "      <td>35.11</td>\n",
       "    </tr>\n",
       "    <tr>\n",
       "      <th>5824</th>\n",
       "      <td>35.11</td>\n",
       "    </tr>\n",
       "    <tr>\n",
       "      <th>5825</th>\n",
       "      <td>35.11</td>\n",
       "    </tr>\n",
       "    <tr>\n",
       "      <th>5826</th>\n",
       "      <td>35.12</td>\n",
       "    </tr>\n",
       "    <tr>\n",
       "      <th>5827</th>\n",
       "      <td>35.12</td>\n",
       "    </tr>\n",
       "    <tr>\n",
       "      <th>5828</th>\n",
       "      <td>35.12</td>\n",
       "    </tr>\n",
       "    <tr>\n",
       "      <th>5829</th>\n",
       "      <td>35.12</td>\n",
       "    </tr>\n",
       "  </tbody>\n",
       "</table>\n",
       "</div>"
      ],
      "text/plain": [
       "      Close\n",
       "5820  35.11\n",
       "5821  35.11\n",
       "5822  35.11\n",
       "5823  35.11\n",
       "5824  35.11\n",
       "5825  35.11\n",
       "5826  35.12\n",
       "5827  35.12\n",
       "5828  35.12\n",
       "5829  35.12"
      ]
     },
     "execution_count": 40,
     "metadata": {},
     "output_type": "execute_result"
    }
   ],
   "source": [
    "df_len = len(df.index) # length of the original dataframe\n",
    "col_name = ['Close']\n",
    "df_filtered = df.filter(col_name)\n",
    "df_filtered_len = len(df_filtered.index)\n",
    "df_filtered_len\n",
    "len_pred_df = df_filtered_len+input # length of the original dataframe plus the users new inputs\n",
    "print(train_data_len,df_len,len_pred_df)\n",
    "new_data =df_filtered.append(pd.DataFrame(price_list,columns=col_name),ignore_index=True)\n",
    "new_data.tail(10)"
   ]
  },
  {
   "cell_type": "code",
   "execution_count": null,
   "metadata": {},
   "outputs": [
    {
     "name": "stderr",
     "output_type": "stream",
     "text": [
      "C:\\Users\\antoi\\AppData\\Local\\Temp/ipykernel_34936/2813865107.py:6: SettingWithCopyWarning: \n",
      "A value is trying to be set on a copy of a slice from a DataFrame.\n",
      "Try using .loc[row_indexer,col_indexer] = value instead\n",
      "\n",
      "See the caveats in the documentation: https://pandas.pydata.org/pandas-docs/stable/user_guide/indexing.html#returning-a-view-versus-a-copy\n",
      "  valid['Predictions'] = predictions # another column for validating test\n"
     ]
    },
    {
     "data": {
      "image/png": "[encoded data removed]",
      "text/plain": [
       "<Figure size 1152x576 with 1 Axes>"
      ]
     },
     "metadata": {},
     "output_type": "display_data"
    }
   ],
   "source": [
    "#Plot the data to validate the test data\n",
    "\n",
    "plt.style.use('fivethirtyeight')\n",
    "train = new_data.iloc[:train_data_len] # actual train data from 0 rows until train data end\n",
    "valid = new_data.iloc[train_data_len:df_len] # actual test data from train data end until end of all sampled data\n",
    "valid['Predictions'] = predictions # another column for validating test\n",
    "predict = new_data.iloc[df_len:len_pred_df] # user prediction data from loop\n",
    "\n",
    "plt.figure(figsize=(16,8))\n",
    "plt.title('PREDICTION - NAB Share Price - LSTM Model')\n",
    "plt.xlabel('Trading Day - 01/01/2000 to date', fontsize=18)\n",
    "plt.ylabel('Close Price AUD ($)',fontsize=18)\n",
    "plt.plot(train['Close'])\n",
    "plt.plot(valid[['Close','Predictions']])\n",
    "plt.plot(predict['Close'])\n",
    "plt.legend(['Training','Validated','Tested','PredictionA'],loc='lower right')\n",
    "x = np.arange(2000,2024,4)\n",
    "plt.xticks([0,1000,2000,3000,4000,5000],x)\n",
    "plt.show()"
   ]
  },
  {
   "cell_type": "code",
   "execution_count": null,
   "metadata": {},
   "outputs": [],
   "source": []
  },
  {
   "cell_type": "markdown",
   "metadata": {},
   "source": [
    "#Save predicted price to MongoDB"
   ]
  },
  {
   "cell_type": "code",
   "execution_count": null,
   "metadata": {},
   "outputs": [],
   "source": [
    "# # Module used to connect Python with MongoDb\n",
    "# import pymongo"
   ]
  },
  {
   "cell_type": "code",
   "execution_count": null,
   "metadata": {},
   "outputs": [],
   "source": [
    "# # The default port used by MongoDB is 27017\n",
    "# # https://docs.mongodb.com/manual/reference/default-mongodb-port/\n",
    "# conn = 'mongodb://localhost:27017'\n",
    "# client = pymongo.MongoClient(conn)\n",
    "\n",
    "# # Define the 'sharesDB' database in Mongo\n",
    "# db = client.sharesDB"
   ]
  },
  {
   "cell_type": "code",
   "execution_count": null,
   "metadata": {},
   "outputs": [],
   "source": [
    "# # Query all\n",
    "# # Here, db.companys refers to the collection 'companys '\n",
    "# companys = db.companys.find()\n",
    "\n",
    "# # Iterate through each company in the collection\n",
    "# for company in companys:\n",
    "#     print(company)"
   ]
  },
  {
   "cell_type": "code",
   "execution_count": null,
   "metadata": {},
   "outputs": [],
   "source": [
    "# # Set keys and values of company\n",
    "# name = 'NAB'\n",
    "# predicted = int(pred_price)\n",
    "# difference = pred_price-actual_price\n",
    "# print(f'date {actual_date},predicted {predicted},actual {actual_price}, difference {difference}')"
   ]
  },
  {
   "cell_type": "code",
   "execution_count": null,
   "metadata": {},
   "outputs": [],
   "source": [
    "# # Insert a document into the 'companys' collection\n",
    "# db.companys.insert_one(\n",
    "#     {\n",
    "#       'model': 'LSTM',\n",
    "#       'name': name,\n",
    "#       'date': actual_date,\n",
    "#       'predicted': predicted,\n",
    "#       'actual': actual_price,\n",
    "#       'differece': difference\n",
    "#     }\n",
    "# )\n",
    "\n",
    "# # query the classroom collection\n",
    "# companys = db.companys.find()\n",
    "\n",
    "# # see change in collection\n",
    "# for company in companys:\n",
    "#     print(company)"
   ]
  },
  {
   "cell_type": "code",
   "execution_count": null,
   "metadata": {},
   "outputs": [],
   "source": [
    "# # Delete a document from a collection\n",
    "# db.companys.delete_one(\n",
    "#     {'name': 'NAB'}\n",
    "# )\n",
    "\n",
    "# # query the companys collection\n",
    "# companys = db.companys.find()\n",
    "\n",
    "# # see change in the collection\n",
    "# for company in companys:\n",
    "#     print(company)"
   ]
  },
  {
   "cell_type": "code",
   "execution_count": null,
   "metadata": {},
   "outputs": [],
   "source": [
    "# from pymongo import MongoClient\n",
    "# mongoClient = MongoClient()\n",
    "# db = mongoClient.sharesDB\n",
    "# db.nab.drop()\n",
    "\n",
    "# import csv\n",
    "# header = [\"Date\",\"Open\",\"High\",\"Low\",\"Close\",\"Adj Close\",\"Volume\",\"SENTIMENT\",\"RBA\",\"FED\"]\n",
    "# csvfile = open('../static/data/nab.csv', 'r')\n",
    "# reader = csv.DictReader( csvfile )\n",
    "\n",
    "# for each in reader:\n",
    "#     row={}\n",
    "#     for field in header:\n",
    "#         row[field]=each[field]\n",
    "        \n",
    "#     print (row)\n",
    "#     db.nab.insert_one(row)\t\t\t\t "
   ]
  },
  {
   "cell_type": "code",
   "execution_count": null,
   "metadata": {},
   "outputs": [],
   "source": [
    "# # query the collection\n",
    "# nabs = db.nab.find()\n",
    "\n",
    "# # see change in collection\n",
    "# for nab in nabs:\n",
    "#     print(nab)"
   ]
  }
 ],
 "metadata": {
  "interpreter": {
   "hash": "3059867ecbaf26750e76effc478ab3c7b6fe2c4d25ba12aeebe66bc85b0df6cc"
  },
  "kernel_info": {
   "name": "dev"
  },
  "kernelspec": {
   "display_name": "Python [conda root]",
   "language": "python",
   "name": "python3"
  },
  "language_info": {
   "codemirror_mode": {
    "name": "ipython",
    "version": 3
   },
   "file_extension": ".py",
   "mimetype": "text/x-python",
   "name": "python",
   "nbconvert_exporter": "python",
   "pygments_lexer": "ipython3",
   "version": "3.9.7"
  },
  "nteract": {
   "version": "0.12.3"
  }
 },
 "nbformat": 4,
 "nbformat_minor": 2
}
