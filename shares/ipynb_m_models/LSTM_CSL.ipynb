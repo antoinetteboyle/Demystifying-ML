{
 "cells": [
  {
   "cell_type": "markdown",
   "metadata": {},
   "source": [
    "#This model uses LSTM to predict a Daily share price movements based on time series and batches of 60 days"
   ]
  },
  {
   "cell_type": "markdown",
   "metadata": {},
   "source": [
    "# Read the CSV and Perform Basic Data Cleaning"
   ]
  },
  {
   "cell_type": "code",
   "execution_count": 37,
   "metadata": {},
   "outputs": [],
   "source": [
    "import matplotlib.pyplot as plt\n",
    "import numpy as np\n",
    "import pandas as pd"
   ]
  },
  {
   "cell_type": "code",
   "execution_count": 38,
   "metadata": {},
   "outputs": [
    {
     "data": {
      "text/html": [
       "<div>\n",
       "<style scoped>\n",
       "    .dataframe tbody tr th:only-of-type {\n",
       "        vertical-align: middle;\n",
       "    }\n",
       "\n",
       "    .dataframe tbody tr th {\n",
       "        vertical-align: top;\n",
       "    }\n",
       "\n",
       "    .dataframe thead th {\n",
       "        text-align: right;\n",
       "    }\n",
       "</style>\n",
       "<table border=\"1\" class=\"dataframe\">\n",
       "  <thead>\n",
       "    <tr style=\"text-align: right;\">\n",
       "      <th></th>\n",
       "      <th>Date</th>\n",
       "      <th>Open</th>\n",
       "      <th>High</th>\n",
       "      <th>Low</th>\n",
       "      <th>Close</th>\n",
       "      <th>Adj Close</th>\n",
       "      <th>Volume</th>\n",
       "    </tr>\n",
       "  </thead>\n",
       "  <tbody>\n",
       "    <tr>\n",
       "      <th>0</th>\n",
       "      <td>3/01/2000</td>\n",
       "      <td>7.300000</td>\n",
       "      <td>7.300000</td>\n",
       "      <td>7.300000</td>\n",
       "      <td>7.300000</td>\n",
       "      <td>5.234562</td>\n",
       "      <td>0.0</td>\n",
       "    </tr>\n",
       "    <tr>\n",
       "      <th>1</th>\n",
       "      <td>4/01/2000</td>\n",
       "      <td>7.333333</td>\n",
       "      <td>7.333333</td>\n",
       "      <td>7.066666</td>\n",
       "      <td>7.186666</td>\n",
       "      <td>5.153295</td>\n",
       "      <td>254295.0</td>\n",
       "    </tr>\n",
       "    <tr>\n",
       "      <th>2</th>\n",
       "      <td>5/01/2000</td>\n",
       "      <td>7.000000</td>\n",
       "      <td>7.183333</td>\n",
       "      <td>7.000000</td>\n",
       "      <td>7.155000</td>\n",
       "      <td>5.130589</td>\n",
       "      <td>424941.0</td>\n",
       "    </tr>\n",
       "    <tr>\n",
       "      <th>3</th>\n",
       "      <td>6/01/2000</td>\n",
       "      <td>7.233333</td>\n",
       "      <td>7.273333</td>\n",
       "      <td>7.000000</td>\n",
       "      <td>7.000000</td>\n",
       "      <td>5.019443</td>\n",
       "      <td>348534.0</td>\n",
       "    </tr>\n",
       "    <tr>\n",
       "      <th>4</th>\n",
       "      <td>7/01/2000</td>\n",
       "      <td>7.013000</td>\n",
       "      <td>7.023333</td>\n",
       "      <td>6.800000</td>\n",
       "      <td>6.850000</td>\n",
       "      <td>4.911883</td>\n",
       "      <td>483963.0</td>\n",
       "    </tr>\n",
       "  </tbody>\n",
       "</table>\n",
       "</div>"
      ],
      "text/plain": [
       "        Date      Open      High       Low     Close  Adj Close    Volume\n",
       "0  3/01/2000  7.300000  7.300000  7.300000  7.300000   5.234562       0.0\n",
       "1  4/01/2000  7.333333  7.333333  7.066666  7.186666   5.153295  254295.0\n",
       "2  5/01/2000  7.000000  7.183333  7.000000  7.155000   5.130589  424941.0\n",
       "3  6/01/2000  7.233333  7.273333  7.000000  7.000000   5.019443  348534.0\n",
       "4  7/01/2000  7.013000  7.023333  6.800000  6.850000   4.911883  483963.0"
      ]
     },
     "execution_count": 38,
     "metadata": {},
     "output_type": "execute_result"
    }
   ],
   "source": [
    "df_stock1 = pd.read_csv(\"../static/data/csl.csv\")\n",
    "# Drop the null columns where all values are null\n",
    "df_stock2 = df_stock1.dropna(axis='columns', how='all')\n",
    "# Drop the null rows\n",
    "df_stock3 = df_stock2.dropna()\n",
    "# Drop the last rows to test prediction to actual\n",
    "df_stock_less1= df_stock3.iloc[:-1,:]\n",
    "# Drop last 3 columns sentiment RBA FED\n",
    "N=3\n",
    "df = df_stock_less1.iloc[: , :-N]\n",
    "df.head()"
   ]
  },
  {
   "cell_type": "code",
   "execution_count": 39,
   "metadata": {},
   "outputs": [
    {
     "data": {
      "text/plain": [
       "<AxesSubplot:>"
      ]
     },
     "execution_count": 39,
     "metadata": {},
     "output_type": "execute_result"
    },
    {
     "data": {
      "image/png": "[encoded data removed]",
      "text/plain": [
       "<Figure size 432x288 with 1 Axes>"
      ]
     },
     "metadata": {},
     "output_type": "display_data"
    }
   ],
   "source": [
    "df[\"Close\"].plot()"
   ]
  },
  {
   "cell_type": "code",
   "execution_count": 40,
   "metadata": {},
   "outputs": [
    {
     "name": "stdout",
     "output_type": "stream",
     "text": [
      "<class 'pandas.core.frame.DataFrame'>\n",
      "Int64Index: 5650 entries, 0 to 5684\n",
      "Data columns (total 7 columns):\n",
      " #   Column     Non-Null Count  Dtype  \n",
      "---  ------     --------------  -----  \n",
      " 0   Date       5650 non-null   object \n",
      " 1   Open       5650 non-null   float64\n",
      " 2   High       5650 non-null   float64\n",
      " 3   Low        5650 non-null   float64\n",
      " 4   Close      5650 non-null   float64\n",
      " 5   Adj Close  5650 non-null   float64\n",
      " 6   Volume     5650 non-null   float64\n",
      "dtypes: float64(6), object(1)\n",
      "memory usage: 353.1+ KB\n"
     ]
    }
   ],
   "source": [
    "df.info()"
   ]
  },
  {
   "cell_type": "code",
   "execution_count": 41,
   "metadata": {},
   "outputs": [
    {
     "data": {
      "text/plain": [
       "(5650, 1)"
      ]
     },
     "execution_count": 41,
     "metadata": {},
     "output_type": "execute_result"
    }
   ],
   "source": [
    "data = df.filter(['Close'])\n",
    "dataset = data.values\n",
    "dataset.shape\n"
   ]
  },
  {
   "cell_type": "markdown",
   "metadata": {},
   "source": [
    "# # Pre-processing : Scale the data using the MinMaxScaler and split train data"
   ]
  },
  {
   "cell_type": "code",
   "execution_count": 42,
   "metadata": {},
   "outputs": [
    {
     "data": {
      "text/plain": [
       "(4520, 1)"
      ]
     },
     "execution_count": 42,
     "metadata": {},
     "output_type": "execute_result"
    }
   ],
   "source": [
    "# Scale your data\n",
    "from sklearn.preprocessing import MinMaxScaler\n",
    "\n",
    "scaler = MinMaxScaler(feature_range=(0,1))\n",
    "dataset_scaled = scaler.fit_transform(dataset)\n",
    "\n",
    "# Split into train or test\n",
    "import math\n",
    "train_data_len = math.ceil(len(dataset)*.8)\n",
    "train_data = dataset_scaled[0:train_data_len,:]\n",
    "train_data.shape\n"
   ]
  },
  {
   "cell_type": "code",
   "execution_count": 43,
   "metadata": {},
   "outputs": [
    {
     "name": "stdout",
     "output_type": "stream",
     "text": [
      "[array([0.01017412, 0.00983794, 0.00974402, 0.00928425, 0.00883932,\n",
      "       0.01027299, 0.01022355, 0.01047074, 0.01037186, 0.01072781,\n",
      "       0.01096511, 0.01091567, 0.01096511, 0.01141004, 0.01101454,\n",
      "       0.01086623, 0.01081581, 0.01145948, 0.01126173, 0.01135368,\n",
      "       0.01145948, 0.01150891, 0.01154846, 0.01155835, 0.01160779,\n",
      "       0.01096511, 0.01111342, 0.01126173, 0.01056961, 0.01041141,\n",
      "       0.01037186, 0.01003569, 0.00937719, 0.00899653, 0.00903707,\n",
      "       0.00898763, 0.00898763, 0.00943256, 0.00933369, 0.009482  ,\n",
      "       0.01007524, 0.00999515, 0.009482  , 0.00862773, 0.00918538,\n",
      "       0.00928425, 0.00898763, 0.00903707, 0.0097806 , 0.00997637,\n",
      "       0.00997637, 0.00997637, 0.01037186, 0.01032243, 0.01039362,\n",
      "       0.01056961, 0.01066848, 0.01047074, 0.01027299, 0.01047074])]\n",
      "[0.010477658470026397]\n"
     ]
    }
   ],
   "source": [
    "X_train = []\n",
    "y_train = []\n",
    "\n",
    "for i in range (60, len(train_data)):\n",
    "    X_train.append(train_data[i-60:i,0]) # contains 60 values\n",
    "    y_train.append(train_data[i,0])   # contains 61st value\n",
    "    if i<= 60:\n",
    "        print(X_train)\n",
    "        print(y_train) \n"
   ]
  },
  {
   "cell_type": "markdown",
   "metadata": {},
   "source": [
    "# Prepare train data for LSTM model"
   ]
  },
  {
   "cell_type": "code",
   "execution_count": 44,
   "metadata": {},
   "outputs": [
    {
     "data": {
      "text/plain": [
       "(4460, 60)"
      ]
     },
     "execution_count": 44,
     "metadata": {},
     "output_type": "execute_result"
    }
   ],
   "source": [
    "# Convert list to numpy array for LSTM model:\n",
    "X_train, y_train = np.array(X_train), np.array(y_train)\n",
    "X_train.shape"
   ]
  },
  {
   "cell_type": "code",
   "execution_count": 45,
   "metadata": {},
   "outputs": [
    {
     "data": {
      "text/plain": [
       "(4460, 60, 1)"
      ]
     },
     "execution_count": 45,
     "metadata": {},
     "output_type": "execute_result"
    }
   ],
   "source": [
    "# LSTM model expects 3D, reshape:\n",
    "X_train = np.reshape(X_train, (X_train.shape[0], X_train.shape[1], 1))\n",
    "X_train.shape"
   ]
  },
  {
   "cell_type": "markdown",
   "metadata": {},
   "source": [
    "# Build the LSTM model"
   ]
  },
  {
   "cell_type": "code",
   "execution_count": 46,
   "metadata": {},
   "outputs": [],
   "source": [
    "from tensorflow.keras.models import Sequential\n",
    "from tensorflow.keras.layers import Dense, LSTM\n",
    "model = Sequential()\n",
    "model.add(LSTM(50, return_sequences=True, input_shape=(X_train.shape[1], 1)))\n",
    "model.add(LSTM(50, return_sequences=False))\n",
    "model.add(Dense(25))\n",
    "model.add(Dense(1))"
   ]
  },
  {
   "cell_type": "code",
   "execution_count": 47,
   "metadata": {},
   "outputs": [],
   "source": [
    "model.compile(optimizer='adam', loss='mean_squared_error')"
   ]
  },
  {
   "cell_type": "code",
   "execution_count": 48,
   "metadata": {},
   "outputs": [
    {
     "name": "stdout",
     "output_type": "stream",
     "text": [
      "4460/4460 [==============================] - 80s 17ms/step - loss: 1.6032e-04\n"
     ]
    },
    {
     "data": {
      "text/plain": [
       "<keras.callbacks.History at 0x2404fc3fe20>"
      ]
     },
     "execution_count": 48,
     "metadata": {},
     "output_type": "execute_result"
    }
   ],
   "source": [
    "model.fit(X_train, y_train, batch_size=1, epochs=1)"
   ]
  },
  {
   "cell_type": "code",
   "execution_count": 49,
   "metadata": {},
   "outputs": [],
   "source": [
    "#Create test data\n",
    "test_data = dataset_scaled[train_data_len-60:,:]\n",
    "X_test = []\n",
    "y_test = dataset[train_data_len:,:]\n",
    "for i in range(60, len(test_data)):\n",
    " X_test.append(test_data[i-60:i,0])"
   ]
  },
  {
   "cell_type": "code",
   "execution_count": 50,
   "metadata": {},
   "outputs": [],
   "source": [
    "#Covert test data to a numpy array and reshape\n",
    "X_test = np.array(X_test)\n",
    "X_test = np.reshape(X_test, (X_test.shape[0],X_test.shape[1],1))"
   ]
  },
  {
   "cell_type": "code",
   "execution_count": 51,
   "metadata": {},
   "outputs": [],
   "source": [
    "#Get predicted prices\n",
    "predictions_lstm = model.predict(X_test)\n",
    "predictions = scaler.inverse_transform(predictions_lstm)"
   ]
  },
  {
   "cell_type": "code",
   "execution_count": 52,
   "metadata": {},
   "outputs": [
    {
     "data": {
      "text/plain": [
       "13.820249561790481"
      ]
     },
     "execution_count": 52,
     "metadata": {},
     "output_type": "execute_result"
    }
   ],
   "source": [
    "#Get the root mean square error (RMSE) 0 being most favourable\n",
    "rmse = np.sqrt(np.mean(predictions-y_test)**2)\n",
    "rmse"
   ]
  },
  {
   "cell_type": "code",
   "execution_count": 53,
   "metadata": {},
   "outputs": [
    {
     "name": "stderr",
     "output_type": "stream",
     "text": [
      "C:\\Users\\antoi\\AppData\\Local\\Temp/ipykernel_36920/4002722267.py:5: SettingWithCopyWarning: \n",
      "A value is trying to be set on a copy of a slice from a DataFrame.\n",
      "Try using .loc[row_indexer,col_indexer] = value instead\n",
      "\n",
      "See the caveats in the documentation: https://pandas.pydata.org/pandas-docs/stable/user_guide/indexing.html#returning-a-view-versus-a-copy\n",
      "  valid['Predictions'] = predictions # another column for validating test\n"
     ]
    },
    {
     "data": {
      "image/png": "[encoded data removed]",
      "text/plain": [
       "<Figure size 1152x576 with 1 Axes>"
      ]
     },
     "metadata": {},
     "output_type": "display_data"
    }
   ],
   "source": [
    "#Plot the data to validate the test data\n",
    "plt.style.use('fivethirtyeight')\n",
    "train = data.iloc[:train_data_len] # actual train data from 0 rows until train data end\n",
    "valid = data.iloc[train_data_len:] # actual test data from train data end until end of all sampled data\n",
    "valid['Predictions'] = predictions # another column for validating test\n",
    "\n",
    "plt.figure(figsize=(16,8))\n",
    "plt.title('CSL LSTM Model')\n",
    "plt.xlabel('Date', fontsize=18)\n",
    "plt.ylabel('Close Price AUD ($)',fontsize=18)\n",
    "plt.plot(train['Close'])\n",
    "plt.plot(valid[['Close','Predictions']])\n",
    "plt.legend(['Training','Validate','Tested'],loc='lower right')\n",
    "x = np.arange(2000,2024,4)\n",
    "plt.xticks([0,1000,2000,3000,4000,5000],x)\n",
    "plt.show()\n"
   ]
  },
  {
   "cell_type": "markdown",
   "metadata": {},
   "source": [
    "# Test data Predictions on the Model"
   ]
  },
  {
   "cell_type": "code",
   "execution_count": 54,
   "metadata": {},
   "outputs": [
    {
     "name": "stderr",
     "output_type": "stream",
     "text": [
      "C:\\Users\\antoi\\AppData\\Local\\Temp/ipykernel_36920/3952761259.py:1: SettingWithCopyWarning: \n",
      "A value is trying to be set on a copy of a slice from a DataFrame.\n",
      "Try using .loc[row_indexer,col_indexer] = value instead\n",
      "\n",
      "See the caveats in the documentation: https://pandas.pydata.org/pandas-docs/stable/user_guide/indexing.html#returning-a-view-versus-a-copy\n",
      "  valid['Difference']= valid['Close']-valid['Predictions']\n"
     ]
    },
    {
     "data": {
      "text/html": [
       "<div>\n",
       "<style scoped>\n",
       "    .dataframe tbody tr th:only-of-type {\n",
       "        vertical-align: middle;\n",
       "    }\n",
       "\n",
       "    .dataframe tbody tr th {\n",
       "        vertical-align: top;\n",
       "    }\n",
       "\n",
       "    .dataframe thead th {\n",
       "        text-align: right;\n",
       "    }\n",
       "</style>\n",
       "<table border=\"1\" class=\"dataframe\">\n",
       "  <thead>\n",
       "    <tr style=\"text-align: right;\">\n",
       "      <th></th>\n",
       "      <th>Close</th>\n",
       "      <th>Predictions</th>\n",
       "      <th>Difference</th>\n",
       "    </tr>\n",
       "  </thead>\n",
       "  <tbody>\n",
       "    <tr>\n",
       "      <th>4555</th>\n",
       "      <td>145.779999</td>\n",
       "      <td>139.590302</td>\n",
       "      <td>6.189697</td>\n",
       "    </tr>\n",
       "    <tr>\n",
       "      <th>4556</th>\n",
       "      <td>144.000000</td>\n",
       "      <td>140.362045</td>\n",
       "      <td>3.637955</td>\n",
       "    </tr>\n",
       "    <tr>\n",
       "      <th>4557</th>\n",
       "      <td>143.619995</td>\n",
       "      <td>140.828323</td>\n",
       "      <td>2.791672</td>\n",
       "    </tr>\n",
       "    <tr>\n",
       "      <th>4558</th>\n",
       "      <td>140.789993</td>\n",
       "      <td>141.061462</td>\n",
       "      <td>-0.271469</td>\n",
       "    </tr>\n",
       "    <tr>\n",
       "      <th>4559</th>\n",
       "      <td>141.250000</td>\n",
       "      <td>140.798096</td>\n",
       "      <td>0.451904</td>\n",
       "    </tr>\n",
       "    <tr>\n",
       "      <th>...</th>\n",
       "      <td>...</td>\n",
       "      <td>...</td>\n",
       "      <td>...</td>\n",
       "    </tr>\n",
       "    <tr>\n",
       "      <th>5680</th>\n",
       "      <td>270.859985</td>\n",
       "      <td>249.636551</td>\n",
       "      <td>21.223434</td>\n",
       "    </tr>\n",
       "    <tr>\n",
       "      <th>5681</th>\n",
       "      <td>269.339996</td>\n",
       "      <td>250.549667</td>\n",
       "      <td>18.790329</td>\n",
       "    </tr>\n",
       "    <tr>\n",
       "      <th>5682</th>\n",
       "      <td>265.890015</td>\n",
       "      <td>251.340088</td>\n",
       "      <td>14.549927</td>\n",
       "    </tr>\n",
       "    <tr>\n",
       "      <th>5683</th>\n",
       "      <td>268.839996</td>\n",
       "      <td>251.547791</td>\n",
       "      <td>17.292205</td>\n",
       "    </tr>\n",
       "    <tr>\n",
       "      <th>5684</th>\n",
       "      <td>273.300000</td>\n",
       "      <td>251.905182</td>\n",
       "      <td>21.394818</td>\n",
       "    </tr>\n",
       "  </tbody>\n",
       "</table>\n",
       "<p>1130 rows × 3 columns</p>\n",
       "</div>"
      ],
      "text/plain": [
       "           Close  Predictions  Difference\n",
       "4555  145.779999   139.590302    6.189697\n",
       "4556  144.000000   140.362045    3.637955\n",
       "4557  143.619995   140.828323    2.791672\n",
       "4558  140.789993   141.061462   -0.271469\n",
       "4559  141.250000   140.798096    0.451904\n",
       "...          ...          ...         ...\n",
       "5680  270.859985   249.636551   21.223434\n",
       "5681  269.339996   250.549667   18.790329\n",
       "5682  265.890015   251.340088   14.549927\n",
       "5683  268.839996   251.547791   17.292205\n",
       "5684  273.300000   251.905182   21.394818\n",
       "\n",
       "[1130 rows x 3 columns]"
      ]
     },
     "execution_count": 54,
     "metadata": {},
     "output_type": "execute_result"
    }
   ],
   "source": [
    "valid['Difference']= valid['Close']-valid['Predictions']\n",
    "valid"
   ]
  },
  {
   "cell_type": "code",
   "execution_count": 55,
   "metadata": {},
   "outputs": [],
   "source": [
    "#Get latest 60 quotes less 1 to predict:\n",
    "\n",
    "#import pandas_datareader.data as web\n",
    "#symbol = 'CSL.AX'\n",
    "#stock_quote = web.DataReader(symbol,data_source='yahoo',start='2022-01-01', end='2022-04-13')\n",
    "#stock_quotes_sixty = stock_quotes_sixty.filter(['Close'])\n",
    "#stock_quotes_sixty\n",
    "#OR use csv data "
   ]
  },
  {
   "cell_type": "code",
   "execution_count": 56,
   "metadata": {},
   "outputs": [
    {
     "data": {
      "text/plain": [
       "(60, 1)"
      ]
     },
     "execution_count": 56,
     "metadata": {},
     "output_type": "execute_result"
    }
   ],
   "source": [
    "# Use last 60 days price on model to predict next days price\n",
    "stock_quotes_sixty = df_stock_less1.tail(60)\n",
    "stock_close_sixty = stock_quotes_sixty['Close']\n",
    "last_60_days = stock_close_sixty[-60:].values\n",
    "last_60_days = last_60_days.reshape(-1,1)\n",
    "last_60_days.shape"
   ]
  },
  {
   "cell_type": "code",
   "execution_count": 57,
   "metadata": {},
   "outputs": [
    {
     "data": {
      "text/plain": [
       "(1, 60, 1)"
      ]
     },
     "execution_count": 57,
     "metadata": {},
     "output_type": "execute_result"
    }
   ],
   "source": [
    "last_60_days_scaled = scaler.transform(last_60_days)\n",
    "X_tell = []\n",
    "X_tell.append(last_60_days_scaled)\n",
    "X_tell =np.array(X_tell)\n",
    "X_tell =np.reshape(X_tell, (X_tell.shape[0], X_tell.shape[1],1))\n",
    "X_tell.shape"
   ]
  },
  {
   "cell_type": "code",
   "execution_count": 58,
   "metadata": {},
   "outputs": [
    {
     "name": "stdout",
     "output_type": "stream",
     "text": [
      "Predicted next day share price 252\n"
     ]
    }
   ],
   "source": [
    "pred_price = model.predict(X_tell)\n",
    "pred_price = scaler.inverse_transform(pred_price)\n",
    "pred_price = int(pred_price)\n",
    "print(f'Predicted next day share price {pred_price}')"
   ]
  },
  {
   "cell_type": "code",
   "execution_count": 59,
   "metadata": {},
   "outputs": [
    {
     "data": {
      "text/html": [
       "<div>\n",
       "<style scoped>\n",
       "    .dataframe tbody tr th:only-of-type {\n",
       "        vertical-align: middle;\n",
       "    }\n",
       "\n",
       "    .dataframe tbody tr th {\n",
       "        vertical-align: top;\n",
       "    }\n",
       "\n",
       "    .dataframe thead th {\n",
       "        text-align: right;\n",
       "    }\n",
       "</style>\n",
       "<table border=\"1\" class=\"dataframe\">\n",
       "  <thead>\n",
       "    <tr style=\"text-align: right;\">\n",
       "      <th></th>\n",
       "      <th>Date</th>\n",
       "      <th>Open</th>\n",
       "      <th>High</th>\n",
       "      <th>Low</th>\n",
       "      <th>Close</th>\n",
       "      <th>Adj Close</th>\n",
       "      <th>Volume</th>\n",
       "      <th>SENTIMENT</th>\n",
       "      <th>RBA</th>\n",
       "      <th>FED</th>\n",
       "    </tr>\n",
       "  </thead>\n",
       "  <tbody>\n",
       "    <tr>\n",
       "      <th>5685</th>\n",
       "      <td>2/05/2022</td>\n",
       "      <td>269.53</td>\n",
       "      <td>270.64</td>\n",
       "      <td>264.62</td>\n",
       "      <td>270.45</td>\n",
       "      <td>270.45</td>\n",
       "      <td>597601.0</td>\n",
       "      <td>NEGATIVE</td>\n",
       "      <td>0.05</td>\n",
       "      <td>0.08</td>\n",
       "    </tr>\n",
       "  </tbody>\n",
       "</table>\n",
       "</div>"
      ],
      "text/plain": [
       "           Date    Open    High     Low   Close  Adj Close    Volume  \\\n",
       "5685  2/05/2022  269.53  270.64  264.62  270.45     270.45  597601.0   \n",
       "\n",
       "     SENTIMENT   RBA   FED  \n",
       "5685  NEGATIVE  0.05  0.08  "
      ]
     },
     "execution_count": 59,
     "metadata": {},
     "output_type": "execute_result"
    }
   ],
   "source": [
    "#stock_quote_acual = web.DataReader('CSL.AX',data_source='yahoo',start='2022-04-14', end='2022-04-14')\n",
    "#OR get last quote from latest csv\n",
    "stock_quote_last_one = df_stock1.tail(1)\n",
    "stock_quote_last_one"
   ]
  },
  {
   "cell_type": "code",
   "execution_count": 60,
   "metadata": {},
   "outputs": [
    {
     "data": {
      "text/plain": [
       "'2/05/2022'"
      ]
     },
     "execution_count": 60,
     "metadata": {},
     "output_type": "execute_result"
    }
   ],
   "source": [
    "#save actual to variable\n",
    "actual_price = stock_quote_last_one.iloc[0,4]\n",
    "actual_date = stock_quote_last_one.iloc[0,0] \n",
    "actual_price = int(actual_price)\n",
    "actual_price\n",
    "actual_date"
   ]
  },
  {
   "cell_type": "markdown",
   "metadata": {},
   "source": [
    "# Save the Model"
   ]
  },
  {
   "cell_type": "code",
   "execution_count": 61,
   "metadata": {},
   "outputs": [],
   "source": [
    "# Save the entire model to a HDF5 file.\n",
    "# The '.h5' extension indicates that the model should be saved to HDF5.\n",
    "filepath = '../static/csl_model.sav'\n",
    "model.save(filepath, save_format=\"h5\")"
   ]
  },
  {
   "cell_type": "markdown",
   "metadata": {},
   "source": [
    "#Save last 60 days to a list csl_sixty and load df"
   ]
  },
  {
   "cell_type": "code",
   "execution_count": 62,
   "metadata": {},
   "outputs": [
    {
     "data": {
      "text/html": [
       "<div>\n",
       "<style scoped>\n",
       "    .dataframe tbody tr th:only-of-type {\n",
       "        vertical-align: middle;\n",
       "    }\n",
       "\n",
       "    .dataframe tbody tr th {\n",
       "        vertical-align: top;\n",
       "    }\n",
       "\n",
       "    .dataframe thead th {\n",
       "        text-align: right;\n",
       "    }\n",
       "</style>\n",
       "<table border=\"1\" class=\"dataframe\">\n",
       "  <thead>\n",
       "    <tr style=\"text-align: right;\">\n",
       "      <th></th>\n",
       "      <th>260.974426</th>\n",
       "    </tr>\n",
       "  </thead>\n",
       "  <tbody>\n",
       "    <tr>\n",
       "      <th>0</th>\n",
       "      <td>256.041718</td>\n",
       "    </tr>\n",
       "    <tr>\n",
       "      <th>1</th>\n",
       "      <td>257.364410</td>\n",
       "    </tr>\n",
       "    <tr>\n",
       "      <th>2</th>\n",
       "      <td>253.207428</td>\n",
       "    </tr>\n",
       "    <tr>\n",
       "      <th>3</th>\n",
       "      <td>255.564377</td>\n",
       "    </tr>\n",
       "    <tr>\n",
       "      <th>4</th>\n",
       "      <td>254.201920</td>\n",
       "    </tr>\n",
       "  </tbody>\n",
       "</table>\n",
       "</div>"
      ],
      "text/plain": [
       "   260.974426\n",
       "0  256.041718\n",
       "1  257.364410\n",
       "2  253.207428\n",
       "3  255.564377\n",
       "4  254.201920"
      ]
     },
     "execution_count": 62,
     "metadata": {},
     "output_type": "execute_result"
    }
   ],
   "source": [
    "# Read in the CSV file\n",
    "df_csl_sixty = pd.read_csv(\"../static/data/csl_sixty.csv\")\n",
    "df_csl_sixty.head()"
   ]
  },
  {
   "cell_type": "code",
   "execution_count": 63,
   "metadata": {},
   "outputs": [
    {
     "data": {
      "text/plain": [
       "(60, 1)"
      ]
     },
     "execution_count": 63,
     "metadata": {},
     "output_type": "execute_result"
    }
   ],
   "source": [
    "close_sixty_val = df_csl_sixty[-60:].values\n",
    "last_sixty = close_sixty_val.reshape(-1,1)\n",
    "last_sixty.shape"
   ]
  },
  {
   "cell_type": "code",
   "execution_count": 64,
   "metadata": {},
   "outputs": [
    {
     "data": {
      "text/plain": [
       "(1, 60, 1)"
      ]
     },
     "execution_count": 64,
     "metadata": {},
     "output_type": "execute_result"
    }
   ],
   "source": [
    "last_sixty_scaled = scaler.transform(last_sixty)\n",
    "new_X_tell = []\n",
    "new_X_tell.append(last_sixty_scaled)\n",
    "new_X_tell =np.array(new_X_tell)\n",
    "new_X_tell =np.reshape(new_X_tell, (new_X_tell.shape[0], new_X_tell.shape[1],1))\n",
    "new_X_tell.shape"
   ]
  },
  {
   "cell_type": "markdown",
   "metadata": {},
   "source": [
    "#PREDICT USING LOADED MODEL"
   ]
  },
  {
   "cell_type": "code",
   "execution_count": 65,
   "metadata": {},
   "outputs": [],
   "source": [
    "from keras.models import load_model\n",
    "model_in = load_model('../static/csl_model.sav')"
   ]
  },
  {
   "cell_type": "code",
   "execution_count": 66,
   "metadata": {},
   "outputs": [
    {
     "data": {
      "text/plain": [
       "array([[0.7400847]], dtype=float32)"
      ]
     },
     "execution_count": 66,
     "metadata": {},
     "output_type": "execute_result"
    }
   ],
   "source": [
    "model_in_pd_scale = model_in.predict(new_X_tell)\n",
    "model_in_pd_scale"
   ]
  },
  {
   "cell_type": "code",
   "execution_count": 67,
   "metadata": {},
   "outputs": [
    {
     "name": "stdout",
     "output_type": "stream",
     "text": [
      "Predicted next day share price [[253.37476]]\n"
     ]
    }
   ],
   "source": [
    "model_in_price = scaler.inverse_transform(model_in_pd_scale)\n",
    "#model_in_price_int = int(model_in_price)\n",
    "print(f'Predicted next day share price {model_in_price}')"
   ]
  },
  {
   "cell_type": "code",
   "execution_count": 68,
   "metadata": {},
   "outputs": [
    {
     "data": {
      "text/plain": [
       "(59, 1)"
      ]
     },
     "execution_count": 68,
     "metadata": {},
     "output_type": "execute_result"
    }
   ],
   "source": [
    "last_sixty_less_one = np.delete(last_sixty, 0, 0)\n",
    "last_sixty_less_one.shape"
   ]
  },
  {
   "cell_type": "code",
   "execution_count": 69,
   "metadata": {},
   "outputs": [
    {
     "data": {
      "text/plain": [
       "(60, 1)"
      ]
     },
     "execution_count": 69,
     "metadata": {},
     "output_type": "execute_result"
    }
   ],
   "source": [
    "last_sixty = np.append(last_sixty_less_one, model_in_price,axis = 0)\n",
    "last_sixty.shape"
   ]
  },
  {
   "cell_type": "markdown",
   "metadata": {},
   "source": [
    "#Create a function to loop through the days input"
   ]
  },
  {
   "cell_type": "code",
   "execution_count": 70,
   "metadata": {},
   "outputs": [],
   "source": [
    "from keras.models import load_model\n",
    "model_in = load_model('../static/csl_model.sav')\n",
    "from sklearn.preprocessing import MinMaxScaler\n",
    "scaler = MinMaxScaler(feature_range=(0,1))\n",
    "# Read in the CSV file\n",
    "df_csl_sixty = pd.read_csv(\"../static/data/csl_sixty.csv\")\n",
    "close_sixty_val = df_csl_sixty[-60:].values\n",
    "last_sixty = close_sixty_val.reshape(-1,1)\n",
    "price_list=[]\n",
    "\n",
    "#Function to predict future days predicted price, in loop\n",
    "input = 180 #days\n",
    "if input == \"\":\n",
    "    input = 1\n",
    "else:\n",
    "   input = int(input)\n",
    "\n",
    "def predict_csl(last_sixty,model_in,input):\n",
    "    for i in range(1, input):\n",
    "\n",
    "        #Takes df and converts to model's predict shape\n",
    "        last_sixty_scaled = scaler.fit_transform(last_sixty)\n",
    "        new_X_tell = []\n",
    "        new_X_tell.append(last_sixty_scaled)\n",
    "        new_X_tell =np.array(new_X_tell)\n",
    "        new_X_tell =np.reshape(new_X_tell, (new_X_tell.shape[0], new_X_tell.shape[1],1))\n",
    "        \n",
    "        model_in_pd_scale = model_in.predict(new_X_tell)\n",
    "        model_in_price = scaler.inverse_transform(model_in_pd_scale) # New price predicted\n",
    "\n",
    "        last_sixty_less_one = np.delete(last_sixty, 0, 0)\n",
    "        last_sixty = np.append(last_sixty_less_one, model_in_price,axis = 0) # Update last 60\n",
    "        print(i)\n",
    "        print(\"Day finished! Price: \")\n",
    "        price_float = float(model_in_price)\n",
    "        price = round(price_float, 2)\n",
    "        price_list.append(price)\n",
    "    else:\n",
    "        print(\"Could not predict further!\")\n",
    "        print(input)\n",
    "    print(price_list)"
   ]
  },
  {
   "cell_type": "code",
   "execution_count": 71,
   "metadata": {},
   "outputs": [
    {
     "name": "stdout",
     "output_type": "stream",
     "text": [
      "1\n",
      "Day finished! Price: \n",
      "2\n",
      "Day finished! Price: \n",
      "3\n",
      "Day finished! Price: \n",
      "4\n",
      "Day finished! Price: \n",
      "5\n",
      "Day finished! Price: \n",
      "6\n",
      "Day finished! Price: \n",
      "7\n",
      "Day finished! Price: \n",
      "8\n",
      "Day finished! Price: \n",
      "9\n",
      "Day finished! Price: \n",
      "10\n",
      "Day finished! Price: \n",
      "11\n",
      "Day finished! Price: \n",
      "12\n",
      "Day finished! Price: \n",
      "13\n",
      "Day finished! Price: \n",
      "14\n",
      "Day finished! Price: \n",
      "15\n",
      "Day finished! Price: \n",
      "16\n",
      "Day finished! Price: \n",
      "17\n",
      "Day finished! Price: \n",
      "18\n",
      "Day finished! Price: \n",
      "19\n",
      "Day finished! Price: \n",
      "20\n",
      "Day finished! Price: \n",
      "21\n",
      "Day finished! Price: \n",
      "22\n",
      "Day finished! Price: \n",
      "23\n",
      "Day finished! Price: \n",
      "24\n",
      "Day finished! Price: \n",
      "25\n",
      "Day finished! Price: \n",
      "26\n",
      "Day finished! Price: \n",
      "27\n",
      "Day finished! Price: \n",
      "28\n",
      "Day finished! Price: \n",
      "29\n",
      "Day finished! Price: \n",
      "30\n",
      "Day finished! Price: \n",
      "31\n",
      "Day finished! Price: \n",
      "32\n",
      "Day finished! Price: \n",
      "33\n",
      "Day finished! Price: \n",
      "34\n",
      "Day finished! Price: \n",
      "35\n",
      "Day finished! Price: \n",
      "36\n",
      "Day finished! Price: \n",
      "37\n",
      "Day finished! Price: \n",
      "38\n",
      "Day finished! Price: \n",
      "39\n",
      "Day finished! Price: \n",
      "40\n",
      "Day finished! Price: \n",
      "41\n",
      "Day finished! Price: \n",
      "42\n",
      "Day finished! Price: \n",
      "43\n",
      "Day finished! Price: \n",
      "44\n",
      "Day finished! Price: \n",
      "45\n",
      "Day finished! Price: \n",
      "46\n",
      "Day finished! Price: \n",
      "47\n",
      "Day finished! Price: \n",
      "48\n",
      "Day finished! Price: \n",
      "49\n",
      "Day finished! Price: \n",
      "50\n",
      "Day finished! Price: \n",
      "51\n",
      "Day finished! Price: \n",
      "52\n",
      "Day finished! Price: \n",
      "53\n",
      "Day finished! Price: \n",
      "54\n",
      "Day finished! Price: \n",
      "55\n",
      "Day finished! Price: \n",
      "56\n",
      "Day finished! Price: \n",
      "57\n",
      "Day finished! Price: \n",
      "58\n",
      "Day finished! Price: \n",
      "59\n",
      "Day finished! Price: \n",
      "60\n",
      "Day finished! Price: \n",
      "61\n",
      "Day finished! Price: \n",
      "62\n",
      "Day finished! Price: \n",
      "63\n",
      "Day finished! Price: \n",
      "64\n",
      "Day finished! Price: \n",
      "65\n",
      "Day finished! Price: \n",
      "66\n",
      "Day finished! Price: \n",
      "67\n",
      "Day finished! Price: \n",
      "68\n",
      "Day finished! Price: \n",
      "69\n",
      "Day finished! Price: \n",
      "70\n",
      "Day finished! Price: \n",
      "71\n",
      "Day finished! Price: \n",
      "72\n",
      "Day finished! Price: \n",
      "73\n",
      "Day finished! Price: \n",
      "74\n",
      "Day finished! Price: \n",
      "75\n",
      "Day finished! Price: \n",
      "76\n",
      "Day finished! Price: \n",
      "77\n",
      "Day finished! Price: \n",
      "78\n",
      "Day finished! Price: \n",
      "79\n",
      "Day finished! Price: \n",
      "80\n",
      "Day finished! Price: \n",
      "81\n",
      "Day finished! Price: \n",
      "82\n",
      "Day finished! Price: \n",
      "83\n",
      "Day finished! Price: \n",
      "84\n",
      "Day finished! Price: \n",
      "85\n",
      "Day finished! Price: \n",
      "86\n",
      "Day finished! Price: \n",
      "87\n",
      "Day finished! Price: \n",
      "88\n",
      "Day finished! Price: \n",
      "89\n",
      "Day finished! Price: \n",
      "90\n",
      "Day finished! Price: \n",
      "91\n",
      "Day finished! Price: \n",
      "92\n",
      "Day finished! Price: \n",
      "93\n",
      "Day finished! Price: \n",
      "94\n",
      "Day finished! Price: \n",
      "95\n",
      "Day finished! Price: \n",
      "96\n",
      "Day finished! Price: \n",
      "97\n",
      "Day finished! Price: \n",
      "98\n",
      "Day finished! Price: \n",
      "99\n",
      "Day finished! Price: \n",
      "100\n",
      "Day finished! Price: \n",
      "101\n",
      "Day finished! Price: \n",
      "102\n",
      "Day finished! Price: \n",
      "103\n",
      "Day finished! Price: \n",
      "104\n",
      "Day finished! Price: \n",
      "105\n",
      "Day finished! Price: \n",
      "106\n",
      "Day finished! Price: \n",
      "107\n",
      "Day finished! Price: \n",
      "108\n",
      "Day finished! Price: \n",
      "109\n",
      "Day finished! Price: \n",
      "110\n",
      "Day finished! Price: \n",
      "111\n",
      "Day finished! Price: \n",
      "112\n",
      "Day finished! Price: \n",
      "113\n",
      "Day finished! Price: \n",
      "114\n",
      "Day finished! Price: \n",
      "115\n",
      "Day finished! Price: \n",
      "116\n",
      "Day finished! Price: \n",
      "117\n",
      "Day finished! Price: \n",
      "118\n",
      "Day finished! Price: \n",
      "119\n",
      "Day finished! Price: \n",
      "120\n",
      "Day finished! Price: \n",
      "121\n",
      "Day finished! Price: \n",
      "122\n",
      "Day finished! Price: \n",
      "123\n",
      "Day finished! Price: \n",
      "124\n",
      "Day finished! Price: \n",
      "125\n",
      "Day finished! Price: \n",
      "126\n",
      "Day finished! Price: \n",
      "127\n",
      "Day finished! Price: \n",
      "128\n",
      "Day finished! Price: \n",
      "129\n",
      "Day finished! Price: \n",
      "130\n",
      "Day finished! Price: \n",
      "131\n",
      "Day finished! Price: \n",
      "132\n",
      "Day finished! Price: \n",
      "133\n",
      "Day finished! Price: \n",
      "134\n",
      "Day finished! Price: \n",
      "135\n",
      "Day finished! Price: \n",
      "136\n",
      "Day finished! Price: \n",
      "137\n",
      "Day finished! Price: \n",
      "138\n",
      "Day finished! Price: \n",
      "139\n",
      "Day finished! Price: \n",
      "140\n",
      "Day finished! Price: \n",
      "141\n",
      "Day finished! Price: \n",
      "142\n",
      "Day finished! Price: \n",
      "143\n",
      "Day finished! Price: \n",
      "144\n",
      "Day finished! Price: \n",
      "145\n",
      "Day finished! Price: \n",
      "146\n",
      "Day finished! Price: \n",
      "147\n",
      "Day finished! Price: \n",
      "148\n",
      "Day finished! Price: \n",
      "149\n",
      "Day finished! Price: \n",
      "150\n",
      "Day finished! Price: \n",
      "151\n",
      "Day finished! Price: \n",
      "152\n",
      "Day finished! Price: \n",
      "153\n",
      "Day finished! Price: \n",
      "154\n",
      "Day finished! Price: \n",
      "155\n",
      "Day finished! Price: \n",
      "156\n",
      "Day finished! Price: \n",
      "157\n",
      "Day finished! Price: \n",
      "158\n",
      "Day finished! Price: \n",
      "159\n",
      "Day finished! Price: \n",
      "160\n",
      "Day finished! Price: \n",
      "161\n",
      "Day finished! Price: \n",
      "162\n",
      "Day finished! Price: \n",
      "163\n",
      "Day finished! Price: \n",
      "164\n",
      "Day finished! Price: \n",
      "165\n",
      "Day finished! Price: \n",
      "166\n",
      "Day finished! Price: \n",
      "167\n",
      "Day finished! Price: \n",
      "168\n",
      "Day finished! Price: \n",
      "169\n",
      "Day finished! Price: \n",
      "170\n",
      "Day finished! Price: \n",
      "171\n",
      "Day finished! Price: \n",
      "172\n",
      "Day finished! Price: \n",
      "173\n",
      "Day finished! Price: \n",
      "174\n",
      "Day finished! Price: \n",
      "175\n",
      "Day finished! Price: \n",
      "176\n",
      "Day finished! Price: \n",
      "177\n",
      "Day finished! Price: \n",
      "178\n",
      "Day finished! Price: \n",
      "179\n",
      "Day finished! Price: \n",
      "Could not predict further!\n",
      "180\n",
      "[267.31, 267.3, 267.1, 266.81, 266.5, 266.18, 265.87, 265.57, 265.28, 265.6, 265.4, 265.13, 264.98, 264.83, 264.69, 264.55, 264.42, 264.29, 264.16, 264.04, 263.92, 263.8, 263.68, 263.96, 263.9, 263.86, 263.82, 263.98, 263.97, 263.97, 263.98, 263.99, 264.0, 264.01, 264.02, 264.03, 264.04, 264.04, 264.05, 264.06, 264.07, 264.08, 264.08, 264.09, 264.1, 264.1, 264.11, 264.12, 264.13, 264.14, 264.15, 264.16, 264.21, 264.23, 264.24, 264.26, 264.28, 264.3, 264.31, 264.3, 264.28, 264.29, 264.29, 264.29, 264.29, 264.28, 264.28, 264.28, 264.28, 264.28, 264.27, 264.27, 264.26, 264.26, 264.25, 264.24, 264.23, 264.21, 264.2, 264.2, 264.19, 264.18, 264.17, 264.18, 264.17, 264.17, 264.16, 264.17, 264.17, 264.17, 264.17, 264.17, 264.17, 264.16, 264.16, 264.16, 264.16, 264.16, 264.16, 264.16, 264.16, 264.16, 264.16, 264.16, 264.16, 264.16, 264.16, 264.16, 264.16, 264.16, 264.16, 264.17, 264.17, 264.17, 264.17, 264.17, 264.17, 264.17, 264.17, 264.17, 264.17, 264.17, 264.17, 264.17, 264.17, 264.17, 264.17, 264.17, 264.17, 264.17, 264.17, 264.17, 264.17, 264.17, 264.17, 264.17, 264.17, 264.17, 264.17, 264.17, 264.17, 264.17, 264.17, 264.17, 264.17, 264.17, 264.17, 264.17, 264.17, 264.17, 264.17, 264.17, 264.17, 264.17, 264.17, 264.17, 264.17, 264.17, 264.17, 264.17, 264.17, 264.17, 264.17, 264.17, 264.17, 264.17, 264.17, 264.17, 264.17, 264.17, 264.17, 264.17, 264.17, 264.17, 264.17, 264.17, 264.17, 264.17, 264.17]\n"
     ]
    }
   ],
   "source": [
    "predict_csl(last_sixty,model_in,input)"
   ]
  },
  {
   "cell_type": "code",
   "execution_count": 72,
   "metadata": {},
   "outputs": [
    {
     "ename": "FileNotFoundError",
     "evalue": "[Errno 2] No such file or directory: '../static/data/dates.csv'",
     "output_type": "error",
     "traceback": [
      "\u001b[1;31m---------------------------------------------------------------------------\u001b[0m",
      "\u001b[1;31mFileNotFoundError\u001b[0m                         Traceback (most recent call last)",
      "\u001b[1;32m~\\AppData\\Local\\Temp/ipykernel_36920/428044280.py\u001b[0m in \u001b[0;36m<module>\u001b[1;34m\u001b[0m\n\u001b[0;32m      1\u001b[0m \u001b[1;32mimport\u001b[0m \u001b[0mpandas\u001b[0m \u001b[1;32mas\u001b[0m \u001b[0mpd\u001b[0m\u001b[1;33m\u001b[0m\u001b[1;33m\u001b[0m\u001b[0m\n\u001b[1;32m----> 2\u001b[1;33m \u001b[0mdates_df\u001b[0m \u001b[1;33m=\u001b[0m \u001b[0mpd\u001b[0m\u001b[1;33m.\u001b[0m\u001b[0mread_csv\u001b[0m\u001b[1;33m(\u001b[0m\u001b[1;34m\"../static/data/dates.csv\"\u001b[0m\u001b[1;33m)\u001b[0m\u001b[1;33m\u001b[0m\u001b[1;33m\u001b[0m\u001b[0m\n\u001b[0m\u001b[0;32m      3\u001b[0m \u001b[0mdates_df\u001b[0m\u001b[1;33m[\u001b[0m\u001b[1;34m'Count'\u001b[0m\u001b[1;33m]\u001b[0m \u001b[1;33m=\u001b[0m \u001b[0mdates_df\u001b[0m\u001b[1;33m[\u001b[0m\u001b[1;34m'Count'\u001b[0m\u001b[1;33m]\u001b[0m\u001b[1;33m.\u001b[0m\u001b[0mfillna\u001b[0m\u001b[1;33m(\u001b[0m\u001b[1;36m0\u001b[0m\u001b[1;33m)\u001b[0m\u001b[1;33m.\u001b[0m\u001b[0mastype\u001b[0m\u001b[1;33m(\u001b[0m\u001b[0mint\u001b[0m\u001b[1;33m)\u001b[0m\u001b[1;33m\u001b[0m\u001b[1;33m\u001b[0m\u001b[0m\n\u001b[0;32m      4\u001b[0m \u001b[0mdates_df\u001b[0m\u001b[1;33m\u001b[0m\u001b[1;33m\u001b[0m\u001b[0m\n",
      "\u001b[1;32m~\\anaconda3\\lib\\site-packages\\pandas\\util\\_decorators.py\u001b[0m in \u001b[0;36mwrapper\u001b[1;34m(*args, **kwargs)\u001b[0m\n\u001b[0;32m    309\u001b[0m                     \u001b[0mstacklevel\u001b[0m\u001b[1;33m=\u001b[0m\u001b[0mstacklevel\u001b[0m\u001b[1;33m,\u001b[0m\u001b[1;33m\u001b[0m\u001b[1;33m\u001b[0m\u001b[0m\n\u001b[0;32m    310\u001b[0m                 )\n\u001b[1;32m--> 311\u001b[1;33m             \u001b[1;32mreturn\u001b[0m \u001b[0mfunc\u001b[0m\u001b[1;33m(\u001b[0m\u001b[1;33m*\u001b[0m\u001b[0margs\u001b[0m\u001b[1;33m,\u001b[0m \u001b[1;33m**\u001b[0m\u001b[0mkwargs\u001b[0m\u001b[1;33m)\u001b[0m\u001b[1;33m\u001b[0m\u001b[1;33m\u001b[0m\u001b[0m\n\u001b[0m\u001b[0;32m    312\u001b[0m \u001b[1;33m\u001b[0m\u001b[0m\n\u001b[0;32m    313\u001b[0m         \u001b[1;32mreturn\u001b[0m \u001b[0mwrapper\u001b[0m\u001b[1;33m\u001b[0m\u001b[1;33m\u001b[0m\u001b[0m\n",
      "\u001b[1;32m~\\anaconda3\\lib\\site-packages\\pandas\\io\\parsers\\readers.py\u001b[0m in \u001b[0;36mread_csv\u001b[1;34m(filepath_or_buffer, sep, delimiter, header, names, index_col, usecols, squeeze, prefix, mangle_dupe_cols, dtype, engine, converters, true_values, false_values, skipinitialspace, skiprows, skipfooter, nrows, na_values, keep_default_na, na_filter, verbose, skip_blank_lines, parse_dates, infer_datetime_format, keep_date_col, date_parser, dayfirst, cache_dates, iterator, chunksize, compression, thousands, decimal, lineterminator, quotechar, quoting, doublequote, escapechar, comment, encoding, encoding_errors, dialect, error_bad_lines, warn_bad_lines, on_bad_lines, delim_whitespace, low_memory, memory_map, float_precision, storage_options)\u001b[0m\n\u001b[0;32m    584\u001b[0m     \u001b[0mkwds\u001b[0m\u001b[1;33m.\u001b[0m\u001b[0mupdate\u001b[0m\u001b[1;33m(\u001b[0m\u001b[0mkwds_defaults\u001b[0m\u001b[1;33m)\u001b[0m\u001b[1;33m\u001b[0m\u001b[1;33m\u001b[0m\u001b[0m\n\u001b[0;32m    585\u001b[0m \u001b[1;33m\u001b[0m\u001b[0m\n\u001b[1;32m--> 586\u001b[1;33m     \u001b[1;32mreturn\u001b[0m \u001b[0m_read\u001b[0m\u001b[1;33m(\u001b[0m\u001b[0mfilepath_or_buffer\u001b[0m\u001b[1;33m,\u001b[0m \u001b[0mkwds\u001b[0m\u001b[1;33m)\u001b[0m\u001b[1;33m\u001b[0m\u001b[1;33m\u001b[0m\u001b[0m\n\u001b[0m\u001b[0;32m    587\u001b[0m \u001b[1;33m\u001b[0m\u001b[0m\n\u001b[0;32m    588\u001b[0m \u001b[1;33m\u001b[0m\u001b[0m\n",
      "\u001b[1;32m~\\anaconda3\\lib\\site-packages\\pandas\\io\\parsers\\readers.py\u001b[0m in \u001b[0;36m_read\u001b[1;34m(filepath_or_buffer, kwds)\u001b[0m\n\u001b[0;32m    480\u001b[0m \u001b[1;33m\u001b[0m\u001b[0m\n\u001b[0;32m    481\u001b[0m     \u001b[1;31m# Create the parser.\u001b[0m\u001b[1;33m\u001b[0m\u001b[1;33m\u001b[0m\u001b[0m\n\u001b[1;32m--> 482\u001b[1;33m     \u001b[0mparser\u001b[0m \u001b[1;33m=\u001b[0m \u001b[0mTextFileReader\u001b[0m\u001b[1;33m(\u001b[0m\u001b[0mfilepath_or_buffer\u001b[0m\u001b[1;33m,\u001b[0m \u001b[1;33m**\u001b[0m\u001b[0mkwds\u001b[0m\u001b[1;33m)\u001b[0m\u001b[1;33m\u001b[0m\u001b[1;33m\u001b[0m\u001b[0m\n\u001b[0m\u001b[0;32m    483\u001b[0m \u001b[1;33m\u001b[0m\u001b[0m\n\u001b[0;32m    484\u001b[0m     \u001b[1;32mif\u001b[0m \u001b[0mchunksize\u001b[0m \u001b[1;32mor\u001b[0m \u001b[0miterator\u001b[0m\u001b[1;33m:\u001b[0m\u001b[1;33m\u001b[0m\u001b[1;33m\u001b[0m\u001b[0m\n",
      "\u001b[1;32m~\\anaconda3\\lib\\site-packages\\pandas\\io\\parsers\\readers.py\u001b[0m in \u001b[0;36m__init__\u001b[1;34m(self, f, engine, **kwds)\u001b[0m\n\u001b[0;32m    809\u001b[0m             \u001b[0mself\u001b[0m\u001b[1;33m.\u001b[0m\u001b[0moptions\u001b[0m\u001b[1;33m[\u001b[0m\u001b[1;34m\"has_index_names\"\u001b[0m\u001b[1;33m]\u001b[0m \u001b[1;33m=\u001b[0m \u001b[0mkwds\u001b[0m\u001b[1;33m[\u001b[0m\u001b[1;34m\"has_index_names\"\u001b[0m\u001b[1;33m]\u001b[0m\u001b[1;33m\u001b[0m\u001b[1;33m\u001b[0m\u001b[0m\n\u001b[0;32m    810\u001b[0m \u001b[1;33m\u001b[0m\u001b[0m\n\u001b[1;32m--> 811\u001b[1;33m         \u001b[0mself\u001b[0m\u001b[1;33m.\u001b[0m\u001b[0m_engine\u001b[0m \u001b[1;33m=\u001b[0m \u001b[0mself\u001b[0m\u001b[1;33m.\u001b[0m\u001b[0m_make_engine\u001b[0m\u001b[1;33m(\u001b[0m\u001b[0mself\u001b[0m\u001b[1;33m.\u001b[0m\u001b[0mengine\u001b[0m\u001b[1;33m)\u001b[0m\u001b[1;33m\u001b[0m\u001b[1;33m\u001b[0m\u001b[0m\n\u001b[0m\u001b[0;32m    812\u001b[0m \u001b[1;33m\u001b[0m\u001b[0m\n\u001b[0;32m    813\u001b[0m     \u001b[1;32mdef\u001b[0m \u001b[0mclose\u001b[0m\u001b[1;33m(\u001b[0m\u001b[0mself\u001b[0m\u001b[1;33m)\u001b[0m\u001b[1;33m:\u001b[0m\u001b[1;33m\u001b[0m\u001b[1;33m\u001b[0m\u001b[0m\n",
      "\u001b[1;32m~\\anaconda3\\lib\\site-packages\\pandas\\io\\parsers\\readers.py\u001b[0m in \u001b[0;36m_make_engine\u001b[1;34m(self, engine)\u001b[0m\n\u001b[0;32m   1038\u001b[0m             )\n\u001b[0;32m   1039\u001b[0m         \u001b[1;31m# error: Too many arguments for \"ParserBase\"\u001b[0m\u001b[1;33m\u001b[0m\u001b[1;33m\u001b[0m\u001b[0m\n\u001b[1;32m-> 1040\u001b[1;33m         \u001b[1;32mreturn\u001b[0m \u001b[0mmapping\u001b[0m\u001b[1;33m[\u001b[0m\u001b[0mengine\u001b[0m\u001b[1;33m]\u001b[0m\u001b[1;33m(\u001b[0m\u001b[0mself\u001b[0m\u001b[1;33m.\u001b[0m\u001b[0mf\u001b[0m\u001b[1;33m,\u001b[0m \u001b[1;33m**\u001b[0m\u001b[0mself\u001b[0m\u001b[1;33m.\u001b[0m\u001b[0moptions\u001b[0m\u001b[1;33m)\u001b[0m  \u001b[1;31m# type: ignore[call-arg]\u001b[0m\u001b[1;33m\u001b[0m\u001b[1;33m\u001b[0m\u001b[0m\n\u001b[0m\u001b[0;32m   1041\u001b[0m \u001b[1;33m\u001b[0m\u001b[0m\n\u001b[0;32m   1042\u001b[0m     \u001b[1;32mdef\u001b[0m \u001b[0m_failover_to_python\u001b[0m\u001b[1;33m(\u001b[0m\u001b[0mself\u001b[0m\u001b[1;33m)\u001b[0m\u001b[1;33m:\u001b[0m\u001b[1;33m\u001b[0m\u001b[1;33m\u001b[0m\u001b[0m\n",
      "\u001b[1;32m~\\anaconda3\\lib\\site-packages\\pandas\\io\\parsers\\c_parser_wrapper.py\u001b[0m in \u001b[0;36m__init__\u001b[1;34m(self, src, **kwds)\u001b[0m\n\u001b[0;32m     49\u001b[0m \u001b[1;33m\u001b[0m\u001b[0m\n\u001b[0;32m     50\u001b[0m         \u001b[1;31m# open handles\u001b[0m\u001b[1;33m\u001b[0m\u001b[1;33m\u001b[0m\u001b[0m\n\u001b[1;32m---> 51\u001b[1;33m         \u001b[0mself\u001b[0m\u001b[1;33m.\u001b[0m\u001b[0m_open_handles\u001b[0m\u001b[1;33m(\u001b[0m\u001b[0msrc\u001b[0m\u001b[1;33m,\u001b[0m \u001b[0mkwds\u001b[0m\u001b[1;33m)\u001b[0m\u001b[1;33m\u001b[0m\u001b[1;33m\u001b[0m\u001b[0m\n\u001b[0m\u001b[0;32m     52\u001b[0m         \u001b[1;32massert\u001b[0m \u001b[0mself\u001b[0m\u001b[1;33m.\u001b[0m\u001b[0mhandles\u001b[0m \u001b[1;32mis\u001b[0m \u001b[1;32mnot\u001b[0m \u001b[1;32mNone\u001b[0m\u001b[1;33m\u001b[0m\u001b[1;33m\u001b[0m\u001b[0m\n\u001b[0;32m     53\u001b[0m \u001b[1;33m\u001b[0m\u001b[0m\n",
      "\u001b[1;32m~\\anaconda3\\lib\\site-packages\\pandas\\io\\parsers\\base_parser.py\u001b[0m in \u001b[0;36m_open_handles\u001b[1;34m(self, src, kwds)\u001b[0m\n\u001b[0;32m    220\u001b[0m         \u001b[0mLet\u001b[0m \u001b[0mthe\u001b[0m \u001b[0mreaders\u001b[0m \u001b[0mopen\u001b[0m \u001b[0mIOHandles\u001b[0m \u001b[0mafter\u001b[0m \u001b[0mthey\u001b[0m \u001b[0mare\u001b[0m \u001b[0mdone\u001b[0m \u001b[1;32mwith\u001b[0m \u001b[0mtheir\u001b[0m \u001b[0mpotential\u001b[0m \u001b[0mraises\u001b[0m\u001b[1;33m.\u001b[0m\u001b[1;33m\u001b[0m\u001b[1;33m\u001b[0m\u001b[0m\n\u001b[0;32m    221\u001b[0m         \"\"\"\n\u001b[1;32m--> 222\u001b[1;33m         self.handles = get_handle(\n\u001b[0m\u001b[0;32m    223\u001b[0m             \u001b[0msrc\u001b[0m\u001b[1;33m,\u001b[0m\u001b[1;33m\u001b[0m\u001b[1;33m\u001b[0m\u001b[0m\n\u001b[0;32m    224\u001b[0m             \u001b[1;34m\"r\"\u001b[0m\u001b[1;33m,\u001b[0m\u001b[1;33m\u001b[0m\u001b[1;33m\u001b[0m\u001b[0m\n",
      "\u001b[1;32m~\\anaconda3\\lib\\site-packages\\pandas\\io\\common.py\u001b[0m in \u001b[0;36mget_handle\u001b[1;34m(path_or_buf, mode, encoding, compression, memory_map, is_text, errors, storage_options)\u001b[0m\n\u001b[0;32m    700\u001b[0m         \u001b[1;32mif\u001b[0m \u001b[0mioargs\u001b[0m\u001b[1;33m.\u001b[0m\u001b[0mencoding\u001b[0m \u001b[1;32mand\u001b[0m \u001b[1;34m\"b\"\u001b[0m \u001b[1;32mnot\u001b[0m \u001b[1;32min\u001b[0m \u001b[0mioargs\u001b[0m\u001b[1;33m.\u001b[0m\u001b[0mmode\u001b[0m\u001b[1;33m:\u001b[0m\u001b[1;33m\u001b[0m\u001b[1;33m\u001b[0m\u001b[0m\n\u001b[0;32m    701\u001b[0m             \u001b[1;31m# Encoding\u001b[0m\u001b[1;33m\u001b[0m\u001b[1;33m\u001b[0m\u001b[0m\n\u001b[1;32m--> 702\u001b[1;33m             handle = open(\n\u001b[0m\u001b[0;32m    703\u001b[0m                 \u001b[0mhandle\u001b[0m\u001b[1;33m,\u001b[0m\u001b[1;33m\u001b[0m\u001b[1;33m\u001b[0m\u001b[0m\n\u001b[0;32m    704\u001b[0m                 \u001b[0mioargs\u001b[0m\u001b[1;33m.\u001b[0m\u001b[0mmode\u001b[0m\u001b[1;33m,\u001b[0m\u001b[1;33m\u001b[0m\u001b[1;33m\u001b[0m\u001b[0m\n",
      "\u001b[1;31mFileNotFoundError\u001b[0m: [Errno 2] No such file or directory: '../static/data/dates.csv'"
     ]
    }
   ],
   "source": [
    "import pandas as pd\n",
    "dates_df = pd.read_csv(\"../static/data/dates.csv\")\n",
    "dates_df['Count'] = dates_df['Count'].fillna(0).astype(int)\n",
    "dates_df"
   ]
  },
  {
   "cell_type": "code",
   "execution_count": null,
   "metadata": {},
   "outputs": [
    {
     "name": "stderr",
     "output_type": "stream",
     "text": [
      "C:\\Users\\antoi\\AppData\\Local\\Temp/ipykernel_18688/1272003391.py:4: SettingWithCopyWarning: \n",
      "A value is trying to be set on a copy of a slice from a DataFrame.\n",
      "Try using .loc[row_indexer,col_indexer] = value instead\n",
      "\n",
      "See the caveats in the documentation: https://pandas.pydata.org/pandas-docs/stable/user_guide/indexing.html#returning-a-view-versus-a-copy\n",
      "  dates_df_iloc['Price'] = price_list\n"
     ]
    },
    {
     "data": {
      "text/plain": [
       "[{'Count': 1.0, 'Date': '3/05/2022', 'DOW': 'Tuesday', 'Price': 268.56},\n",
       " {'Count': 2.0, 'Date': '4/05/2022', 'DOW': 'Wednesday', 'Price': 268.86},\n",
       " {'Count': 3.0, 'Date': '5/05/2022', 'DOW': 'Thursday', 'Price': 269.03},\n",
       " {'Count': 4.0, 'Date': '6/05/2022', 'DOW': 'Friday', 'Price': 269.14},\n",
       " {'Count': 5.0, 'Date': '9/05/2022', 'DOW': 'Monday', 'Price': 269.22},\n",
       " {'Count': 6.0, 'Date': '10/05/2022', 'DOW': 'Tuesday', 'Price': 269.29},\n",
       " {'Count': 7.0, 'Date': '11/05/2022', 'DOW': 'Wednesday', 'Price': 269.36},\n",
       " {'Count': 8.0, 'Date': '12/05/2022', 'DOW': 'Thursday', 'Price': 269.43},\n",
       " {'Count': 9.0, 'Date': '13/05/2022', 'DOW': 'Friday', 'Price': 269.5},\n",
       " {'Count': 10.0, 'Date': '16/05/2022', 'DOW': 'Monday', 'Price': 269.57},\n",
       " {'Count': 11.0, 'Date': '17/05/2022', 'DOW': 'Tuesday', 'Price': 269.62},\n",
       " {'Count': 12.0, 'Date': '18/05/2022', 'DOW': 'Wednesday', 'Price': 269.69},\n",
       " {'Count': 13.0, 'Date': '19/05/2022', 'DOW': 'Thursday', 'Price': 269.52},\n",
       " {'Count': 14.0, 'Date': '20/05/2022', 'DOW': 'Friday', 'Price': 269.55},\n",
       " {'Count': 15.0, 'Date': '23/05/2022', 'DOW': 'Monday', 'Price': 269.57},\n",
       " {'Count': 16.0, 'Date': '24/05/2022', 'DOW': 'Tuesday', 'Price': 269.58},\n",
       " {'Count': 17.0, 'Date': '25/05/2022', 'DOW': 'Wednesday', 'Price': 269.59},\n",
       " {'Count': 18.0, 'Date': '26/05/2022', 'DOW': 'Thursday', 'Price': 269.61},\n",
       " {'Count': 19.0, 'Date': '27/05/2022', 'DOW': 'Friday', 'Price': 269.62},\n",
       " {'Count': 20.0, 'Date': '30/05/2022', 'DOW': 'Monday', 'Price': 269.63},\n",
       " {'Count': 21.0, 'Date': '31/05/2022', 'DOW': 'Tuesday', 'Price': 269.64},\n",
       " {'Count': 22.0, 'Date': '1/06/2022', 'DOW': 'Wednesday', 'Price': 269.66},\n",
       " {'Count': 23.0, 'Date': '2/06/2022', 'DOW': 'Thursday', 'Price': 269.67},\n",
       " {'Count': 24.0, 'Date': '3/06/2022', 'DOW': 'Friday', 'Price': 269.68},\n",
       " {'Count': 25.0, 'Date': '6/06/2022', 'DOW': 'Monday', 'Price': 269.71},\n",
       " {'Count': 26.0, 'Date': '7/06/2022', 'DOW': 'Tuesday', 'Price': 269.73},\n",
       " {'Count': 27.0, 'Date': '8/06/2022', 'DOW': 'Wednesday', 'Price': 269.74},\n",
       " {'Count': 28.0, 'Date': '9/06/2022', 'DOW': 'Thursday', 'Price': 269.76},\n",
       " {'Count': 29.0, 'Date': '10/06/2022', 'DOW': 'Friday', 'Price': 269.78},\n",
       " {'Count': 30.0, 'Date': '13/06/2022', 'DOW': 'Monday', 'Price': 269.8},\n",
       " {'Count': 31.0, 'Date': '14/06/2022', 'DOW': 'Tuesday', 'Price': 269.82},\n",
       " {'Count': 32.0, 'Date': '15/06/2022', 'DOW': 'Wednesday', 'Price': 269.83},\n",
       " {'Count': 33.0, 'Date': '16/06/2022', 'DOW': 'Thursday', 'Price': 269.85},\n",
       " {'Count': 34.0, 'Date': '17/06/2022', 'DOW': 'Friday', 'Price': 269.86},\n",
       " {'Count': 35.0, 'Date': '20/06/2022', 'DOW': 'Monday', 'Price': 269.88},\n",
       " {'Count': 36.0, 'Date': '21/06/2022', 'DOW': 'Tuesday', 'Price': 269.89},\n",
       " {'Count': 37.0, 'Date': '22/06/2022', 'DOW': 'Wednesday', 'Price': 269.9},\n",
       " {'Count': 38.0, 'Date': '23/06/2022', 'DOW': 'Thursday', 'Price': 269.92},\n",
       " {'Count': 39.0, 'Date': '24/06/2022', 'DOW': 'Friday', 'Price': 269.93},\n",
       " {'Count': 40.0, 'Date': '27/06/2022', 'DOW': 'Monday', 'Price': 269.95},\n",
       " {'Count': 41.0, 'Date': '28/06/2022', 'DOW': 'Tuesday', 'Price': 269.96},\n",
       " {'Count': 42.0, 'Date': '29/06/2022', 'DOW': 'Wednesday', 'Price': 269.97},\n",
       " {'Count': 43.0, 'Date': '30/06/2022', 'DOW': 'Thursday', 'Price': 269.98},\n",
       " {'Count': 44.0, 'Date': '1/07/2022', 'DOW': 'Friday', 'Price': 270.0},\n",
       " {'Count': 45.0, 'Date': '4/07/2022', 'DOW': 'Monday', 'Price': 270.01},\n",
       " {'Count': 46.0, 'Date': '5/07/2022', 'DOW': 'Tuesday', 'Price': 270.02},\n",
       " {'Count': 47.0, 'Date': '6/07/2022', 'DOW': 'Wednesday', 'Price': 270.03},\n",
       " {'Count': 48.0, 'Date': '7/07/2022', 'DOW': 'Thursday', 'Price': 270.04},\n",
       " {'Count': 49.0, 'Date': '8/07/2022', 'DOW': 'Friday', 'Price': 270.06},\n",
       " {'Count': 50.0, 'Date': '11/07/2022', 'DOW': 'Monday', 'Price': 270.07},\n",
       " {'Count': 51.0, 'Date': '12/07/2022', 'DOW': 'Tuesday', 'Price': 270.08},\n",
       " {'Count': 52.0, 'Date': '13/07/2022', 'DOW': 'Wednesday', 'Price': 270.09},\n",
       " {'Count': 53.0, 'Date': '14/07/2022', 'DOW': 'Thursday', 'Price': 270.1},\n",
       " {'Count': 54.0, 'Date': '15/07/2022', 'DOW': 'Friday', 'Price': 270.11},\n",
       " {'Count': 55.0, 'Date': '18/07/2022', 'DOW': 'Monday', 'Price': 270.12},\n",
       " {'Count': 56.0, 'Date': '19/07/2022', 'DOW': 'Tuesday', 'Price': 270.13},\n",
       " {'Count': 57.0, 'Date': '20/07/2022', 'DOW': 'Wednesday', 'Price': 270.15},\n",
       " {'Count': 58.0, 'Date': '21/07/2022', 'DOW': 'Thursday', 'Price': 270.16},\n",
       " {'Count': 59.0, 'Date': '22/07/2022', 'DOW': 'Friday', 'Price': 270.15},\n",
       " {'Count': 60.0, 'Date': '25/07/2022', 'DOW': 'Monday', 'Price': 270.16},\n",
       " {'Count': 61.0, 'Date': '26/07/2022', 'DOW': 'Tuesday', 'Price': 270.14},\n",
       " {'Count': 62.0, 'Date': '27/07/2022', 'DOW': 'Wednesday', 'Price': 270.14},\n",
       " {'Count': 63.0, 'Date': '28/07/2022', 'DOW': 'Thursday', 'Price': 270.14},\n",
       " {'Count': 64.0, 'Date': '29/07/2022', 'DOW': 'Friday', 'Price': 270.14},\n",
       " {'Count': 65.0, 'Date': '1/08/2022', 'DOW': 'Monday', 'Price': 270.14},\n",
       " {'Count': 66.0, 'Date': '2/08/2022', 'DOW': 'Tuesday', 'Price': 270.14},\n",
       " {'Count': 67.0, 'Date': '3/08/2022', 'DOW': 'Wednesday', 'Price': 270.14},\n",
       " {'Count': 68.0, 'Date': '4/08/2022', 'DOW': 'Thursday', 'Price': 270.14},\n",
       " {'Count': 69.0, 'Date': '5/08/2022', 'DOW': 'Friday', 'Price': 270.14},\n",
       " {'Count': 70.0, 'Date': '8/08/2022', 'DOW': 'Monday', 'Price': 270.14},\n",
       " {'Count': 71.0, 'Date': '9/08/2022', 'DOW': 'Tuesday', 'Price': 270.14},\n",
       " {'Count': 72.0, 'Date': '10/08/2022', 'DOW': 'Wednesday', 'Price': 270.14},\n",
       " {'Count': 73.0, 'Date': '11/08/2022', 'DOW': 'Thursday', 'Price': 270.14},\n",
       " {'Count': 74.0, 'Date': '12/08/2022', 'DOW': 'Friday', 'Price': 270.14},\n",
       " {'Count': 75.0, 'Date': '15/08/2022', 'DOW': 'Monday', 'Price': 270.14},\n",
       " {'Count': 76.0, 'Date': '16/08/2022', 'DOW': 'Tuesday', 'Price': 270.14},\n",
       " {'Count': 77.0, 'Date': '17/08/2022', 'DOW': 'Wednesday', 'Price': 270.14},\n",
       " {'Count': 78.0, 'Date': '18/08/2022', 'DOW': 'Thursday', 'Price': 270.14},\n",
       " {'Count': 79.0, 'Date': '19/08/2022', 'DOW': 'Friday', 'Price': 270.14},\n",
       " {'Count': 80.0, 'Date': '22/08/2022', 'DOW': 'Monday', 'Price': 270.14},\n",
       " {'Count': 81.0, 'Date': '23/08/2022', 'DOW': 'Tuesday', 'Price': 270.14},\n",
       " {'Count': 82.0, 'Date': '24/08/2022', 'DOW': 'Wednesday', 'Price': 270.14},\n",
       " {'Count': 83.0, 'Date': '25/08/2022', 'DOW': 'Thursday', 'Price': 270.14},\n",
       " {'Count': 84.0, 'Date': '26/08/2022', 'DOW': 'Friday', 'Price': 270.14},\n",
       " {'Count': 85.0, 'Date': '29/08/2022', 'DOW': 'Monday', 'Price': 270.14},\n",
       " {'Count': 86.0, 'Date': '30/08/2022', 'DOW': 'Tuesday', 'Price': 270.14},\n",
       " {'Count': 87.0, 'Date': '31/08/2022', 'DOW': 'Wednesday', 'Price': 270.14},\n",
       " {'Count': 88.0, 'Date': '1/09/2022', 'DOW': 'Thursday', 'Price': 270.14},\n",
       " {'Count': 89.0, 'Date': '2/09/2022', 'DOW': 'Friday', 'Price': 270.14},\n",
       " {'Count': 90.0, 'Date': '5/09/2022', 'DOW': 'Monday', 'Price': 270.14},\n",
       " {'Count': 91.0, 'Date': '6/09/2022', 'DOW': 'Tuesday', 'Price': 270.14},\n",
       " {'Count': 92.0, 'Date': '7/09/2022', 'DOW': 'Wednesday', 'Price': 270.14},\n",
       " {'Count': 93.0, 'Date': '8/09/2022', 'DOW': 'Thursday', 'Price': 270.14},\n",
       " {'Count': 94.0, 'Date': '9/09/2022', 'DOW': 'Friday', 'Price': 270.14},\n",
       " {'Count': 95.0, 'Date': '12/09/2022', 'DOW': 'Monday', 'Price': 270.14},\n",
       " {'Count': 96.0, 'Date': '13/09/2022', 'DOW': 'Tuesday', 'Price': 270.14},\n",
       " {'Count': 97.0, 'Date': '14/09/2022', 'DOW': 'Wednesday', 'Price': 270.14},\n",
       " {'Count': 98.0, 'Date': '15/09/2022', 'DOW': 'Thursday', 'Price': 270.14},\n",
       " {'Count': 99.0, 'Date': '16/09/2022', 'DOW': 'Friday', 'Price': 270.14},\n",
       " {'Count': 100.0, 'Date': '19/09/2022', 'DOW': 'Monday', 'Price': 270.14},\n",
       " {'Count': 101.0, 'Date': '20/09/2022', 'DOW': 'Tuesday', 'Price': 270.15},\n",
       " {'Count': 102.0, 'Date': '21/09/2022', 'DOW': 'Wednesday', 'Price': 270.15},\n",
       " {'Count': 103.0, 'Date': '22/09/2022', 'DOW': 'Thursday', 'Price': 270.15},\n",
       " {'Count': 104.0, 'Date': '23/09/2022', 'DOW': 'Friday', 'Price': 270.15},\n",
       " {'Count': 105.0, 'Date': '26/09/2022', 'DOW': 'Monday', 'Price': 270.15},\n",
       " {'Count': 106.0, 'Date': '27/09/2022', 'DOW': 'Tuesday', 'Price': 270.15},\n",
       " {'Count': 107.0, 'Date': '28/09/2022', 'DOW': 'Wednesday', 'Price': 270.15},\n",
       " {'Count': 108.0, 'Date': '29/09/2022', 'DOW': 'Thursday', 'Price': 270.15},\n",
       " {'Count': 109.0, 'Date': '30/09/2022', 'DOW': 'Friday', 'Price': 270.15},\n",
       " {'Count': 110.0, 'Date': '3/10/2022', 'DOW': 'Monday', 'Price': 270.15},\n",
       " {'Count': 111.0, 'Date': '4/10/2022', 'DOW': 'Tuesday', 'Price': 270.15},\n",
       " {'Count': 112.0, 'Date': '5/10/2022', 'DOW': 'Wednesday', 'Price': 270.15},\n",
       " {'Count': 113.0, 'Date': '6/10/2022', 'DOW': 'Thursday', 'Price': 270.15},\n",
       " {'Count': 114.0, 'Date': '7/10/2022', 'DOW': 'Friday', 'Price': 270.15},\n",
       " {'Count': 115.0, 'Date': '10/10/2022', 'DOW': 'Monday', 'Price': 270.15},\n",
       " {'Count': 116.0, 'Date': '11/10/2022', 'DOW': 'Tuesday', 'Price': 270.15},\n",
       " {'Count': 117.0, 'Date': '12/10/2022', 'DOW': 'Wednesday', 'Price': 270.15},\n",
       " {'Count': 118.0, 'Date': '13/10/2022', 'DOW': 'Thursday', 'Price': 270.15},\n",
       " {'Count': 119.0, 'Date': '14/10/2022', 'DOW': 'Friday', 'Price': 270.15},\n",
       " {'Count': 120.0, 'Date': '17/10/2022', 'DOW': 'Monday', 'Price': 270.15},\n",
       " {'Count': 121.0, 'Date': '18/10/2022', 'DOW': 'Tuesday', 'Price': 270.15},\n",
       " {'Count': 122.0, 'Date': '19/10/2022', 'DOW': 'Wednesday', 'Price': 270.15},\n",
       " {'Count': 123.0, 'Date': '20/10/2022', 'DOW': 'Thursday', 'Price': 270.15},\n",
       " {'Count': 124.0, 'Date': '21/10/2022', 'DOW': 'Friday', 'Price': 270.15},\n",
       " {'Count': 125.0, 'Date': '24/10/2022', 'DOW': 'Monday', 'Price': 270.15},\n",
       " {'Count': 126.0, 'Date': '25/10/2022', 'DOW': 'Tuesday', 'Price': 270.15},\n",
       " {'Count': 127.0, 'Date': '26/10/2022', 'DOW': 'Wednesday', 'Price': 270.15},\n",
       " {'Count': 128.0, 'Date': '27/10/2022', 'DOW': 'Thursday', 'Price': 270.15},\n",
       " {'Count': 129.0, 'Date': '28/10/2022', 'DOW': 'Friday', 'Price': 270.15},\n",
       " {'Count': 130.0, 'Date': '31/10/2022', 'DOW': 'Monday', 'Price': 270.15},\n",
       " {'Count': 131.0, 'Date': '1/11/2022', 'DOW': 'Tuesday', 'Price': 270.15},\n",
       " {'Count': 132.0, 'Date': '2/11/2022', 'DOW': 'Wednesday', 'Price': 270.15},\n",
       " {'Count': 133.0, 'Date': '3/11/2022', 'DOW': 'Thursday', 'Price': 270.15},\n",
       " {'Count': 134.0, 'Date': '4/11/2022', 'DOW': 'Friday', 'Price': 270.15},\n",
       " {'Count': 135.0, 'Date': '7/11/2022', 'DOW': 'Monday', 'Price': 270.15},\n",
       " {'Count': 136.0, 'Date': '8/11/2022', 'DOW': 'Tuesday', 'Price': 270.15},\n",
       " {'Count': 137.0, 'Date': '9/11/2022', 'DOW': 'Wednesday', 'Price': 270.15},\n",
       " {'Count': 138.0, 'Date': '10/11/2022', 'DOW': 'Thursday', 'Price': 270.15},\n",
       " {'Count': 139.0, 'Date': '11/11/2022', 'DOW': 'Friday', 'Price': 270.15},\n",
       " {'Count': 140.0, 'Date': '14/11/2022', 'DOW': 'Monday', 'Price': 270.15},\n",
       " {'Count': 141.0, 'Date': '15/11/2022', 'DOW': 'Tuesday', 'Price': 270.15},\n",
       " {'Count': 142.0, 'Date': '16/11/2022', 'DOW': 'Wednesday', 'Price': 270.15},\n",
       " {'Count': 143.0, 'Date': '17/11/2022', 'DOW': 'Thursday', 'Price': 270.15},\n",
       " {'Count': 144.0, 'Date': '18/11/2022', 'DOW': 'Friday', 'Price': 270.15},\n",
       " {'Count': 145.0, 'Date': '21/11/2022', 'DOW': 'Monday', 'Price': 270.15},\n",
       " {'Count': 146.0, 'Date': '22/11/2022', 'DOW': 'Tuesday', 'Price': 270.15},\n",
       " {'Count': 147.0, 'Date': '23/11/2022', 'DOW': 'Wednesday', 'Price': 270.15},\n",
       " {'Count': 148.0, 'Date': '24/11/2022', 'DOW': 'Thursday', 'Price': 270.15},\n",
       " {'Count': 149.0, 'Date': '25/11/2022', 'DOW': 'Friday', 'Price': 270.15},\n",
       " {'Count': 150.0, 'Date': '28/11/2022', 'DOW': 'Monday', 'Price': 270.15},\n",
       " {'Count': 151.0, 'Date': '29/11/2022', 'DOW': 'Tuesday', 'Price': 270.15},\n",
       " {'Count': 152.0, 'Date': '30/11/2022', 'DOW': 'Wednesday', 'Price': 270.15},\n",
       " {'Count': 153.0, 'Date': '1/12/2022', 'DOW': 'Thursday', 'Price': 270.15},\n",
       " {'Count': 154.0, 'Date': '2/12/2022', 'DOW': 'Friday', 'Price': 270.15},\n",
       " {'Count': 155.0, 'Date': '5/12/2022', 'DOW': 'Monday', 'Price': 270.15},\n",
       " {'Count': 156.0, 'Date': '6/12/2022', 'DOW': 'Tuesday', 'Price': 270.15},\n",
       " {'Count': 157.0, 'Date': '7/12/2022', 'DOW': 'Wednesday', 'Price': 270.15},\n",
       " {'Count': 158.0, 'Date': '8/12/2022', 'DOW': 'Thursday', 'Price': 270.15},\n",
       " {'Count': 159.0, 'Date': '9/12/2022', 'DOW': 'Friday', 'Price': 270.15},\n",
       " {'Count': 160.0, 'Date': '12/12/2022', 'DOW': 'Monday', 'Price': 270.15},\n",
       " {'Count': 161.0, 'Date': '13/12/2022', 'DOW': 'Tuesday', 'Price': 270.15},\n",
       " {'Count': 162.0, 'Date': '14/12/2022', 'DOW': 'Wednesday', 'Price': 270.15},\n",
       " {'Count': 163.0, 'Date': '15/12/2022', 'DOW': 'Thursday', 'Price': 270.15},\n",
       " {'Count': 164.0, 'Date': '16/12/2022', 'DOW': 'Friday', 'Price': 270.15},\n",
       " {'Count': 165.0, 'Date': '19/12/2022', 'DOW': 'Monday', 'Price': 270.15},\n",
       " {'Count': 166.0, 'Date': '20/12/2022', 'DOW': 'Tuesday', 'Price': 270.15},\n",
       " {'Count': 167.0, 'Date': '21/12/2022', 'DOW': 'Wednesday', 'Price': 270.15},\n",
       " {'Count': 168.0, 'Date': '22/12/2022', 'DOW': 'Thursday', 'Price': 270.15},\n",
       " {'Count': 169.0, 'Date': '23/12/2022', 'DOW': 'Friday', 'Price': 270.15},\n",
       " {'Count': 170.0, 'Date': '26/12/2022', 'DOW': 'Monday', 'Price': 270.15},\n",
       " {'Count': 171.0, 'Date': '27/12/2022', 'DOW': 'Tuesday', 'Price': 270.15},\n",
       " {'Count': 172.0, 'Date': '28/12/2022', 'DOW': 'Wednesday', 'Price': 270.15},\n",
       " {'Count': 173.0, 'Date': '29/12/2022', 'DOW': 'Thursday', 'Price': 270.15},\n",
       " {'Count': 174.0, 'Date': '30/12/2022', 'DOW': 'Friday', 'Price': 270.15},\n",
       " {'Count': 175.0, 'Date': '2/01/2023', 'DOW': 'Monday', 'Price': 270.15},\n",
       " {'Count': 176.0, 'Date': '3/01/2023', 'DOW': 'Tuesday', 'Price': 270.15},\n",
       " {'Count': 177.0, 'Date': '4/01/2023', 'DOW': 'Wednesday', 'Price': 270.15},\n",
       " {'Count': 178.0, 'Date': '5/01/2023', 'DOW': 'Thursday', 'Price': 270.15},\n",
       " {'Count': 179.0, 'Date': '6/01/2023', 'DOW': 'Friday', 'Price': 270.15}]"
      ]
     },
     "execution_count": 37,
     "metadata": {},
     "output_type": "execute_result"
    }
   ],
   "source": [
    "#Append the input amount of trading days to dates dictionary\n",
    "dates_df_iloc = dates_df.iloc[0:input-1]\n",
    "dates_df_iloc['Price'] = price_list\n",
    "my_dict = dates_df_iloc.to_dict(orient='records')\n",
    "my_dict"
   ]
  },
  {
   "cell_type": "code",
   "execution_count": null,
   "metadata": {},
   "outputs": [
    {
     "data": {
      "text/plain": [
       "[{'Price': 268.56},\n",
       " {'Price': 268.86},\n",
       " {'Price': 269.03},\n",
       " {'Price': 269.14},\n",
       " {'Price': 269.22},\n",
       " {'Price': 269.29},\n",
       " {'Price': 269.36},\n",
       " {'Price': 269.43},\n",
       " {'Price': 269.5},\n",
       " {'Price': 269.57},\n",
       " {'Price': 269.62},\n",
       " {'Price': 269.69},\n",
       " {'Price': 269.52},\n",
       " {'Price': 269.55},\n",
       " {'Price': 269.57},\n",
       " {'Price': 269.58},\n",
       " {'Price': 269.59},\n",
       " {'Price': 269.61},\n",
       " {'Price': 269.62},\n",
       " {'Price': 269.63},\n",
       " {'Price': 269.64},\n",
       " {'Price': 269.66},\n",
       " {'Price': 269.67},\n",
       " {'Price': 269.68},\n",
       " {'Price': 269.71},\n",
       " {'Price': 269.73},\n",
       " {'Price': 269.74},\n",
       " {'Price': 269.76},\n",
       " {'Price': 269.78},\n",
       " {'Price': 269.8},\n",
       " {'Price': 269.82},\n",
       " {'Price': 269.83},\n",
       " {'Price': 269.85},\n",
       " {'Price': 269.86},\n",
       " {'Price': 269.88},\n",
       " {'Price': 269.89},\n",
       " {'Price': 269.9},\n",
       " {'Price': 269.92},\n",
       " {'Price': 269.93},\n",
       " {'Price': 269.95},\n",
       " {'Price': 269.96},\n",
       " {'Price': 269.97},\n",
       " {'Price': 269.98},\n",
       " {'Price': 270.0},\n",
       " {'Price': 270.01},\n",
       " {'Price': 270.02},\n",
       " {'Price': 270.03},\n",
       " {'Price': 270.04},\n",
       " {'Price': 270.06},\n",
       " {'Price': 270.07},\n",
       " {'Price': 270.08},\n",
       " {'Price': 270.09},\n",
       " {'Price': 270.1},\n",
       " {'Price': 270.11},\n",
       " {'Price': 270.12},\n",
       " {'Price': 270.13},\n",
       " {'Price': 270.15},\n",
       " {'Price': 270.16},\n",
       " {'Price': 270.15},\n",
       " {'Price': 270.16},\n",
       " {'Price': 270.14},\n",
       " {'Price': 270.14},\n",
       " {'Price': 270.14},\n",
       " {'Price': 270.14},\n",
       " {'Price': 270.14},\n",
       " {'Price': 270.14},\n",
       " {'Price': 270.14},\n",
       " {'Price': 270.14},\n",
       " {'Price': 270.14},\n",
       " {'Price': 270.14},\n",
       " {'Price': 270.14},\n",
       " {'Price': 270.14},\n",
       " {'Price': 270.14},\n",
       " {'Price': 270.14},\n",
       " {'Price': 270.14},\n",
       " {'Price': 270.14},\n",
       " {'Price': 270.14},\n",
       " {'Price': 270.14},\n",
       " {'Price': 270.14},\n",
       " {'Price': 270.14},\n",
       " {'Price': 270.14},\n",
       " {'Price': 270.14},\n",
       " {'Price': 270.14},\n",
       " {'Price': 270.14},\n",
       " {'Price': 270.14},\n",
       " {'Price': 270.14},\n",
       " {'Price': 270.14},\n",
       " {'Price': 270.14},\n",
       " {'Price': 270.14},\n",
       " {'Price': 270.14},\n",
       " {'Price': 270.14},\n",
       " {'Price': 270.14},\n",
       " {'Price': 270.14},\n",
       " {'Price': 270.14},\n",
       " {'Price': 270.14},\n",
       " {'Price': 270.14},\n",
       " {'Price': 270.14},\n",
       " {'Price': 270.14},\n",
       " {'Price': 270.14},\n",
       " {'Price': 270.14},\n",
       " {'Price': 270.15},\n",
       " {'Price': 270.15},\n",
       " {'Price': 270.15},\n",
       " {'Price': 270.15},\n",
       " {'Price': 270.15},\n",
       " {'Price': 270.15},\n",
       " {'Price': 270.15},\n",
       " {'Price': 270.15},\n",
       " {'Price': 270.15},\n",
       " {'Price': 270.15},\n",
       " {'Price': 270.15},\n",
       " {'Price': 270.15},\n",
       " {'Price': 270.15},\n",
       " {'Price': 270.15},\n",
       " {'Price': 270.15},\n",
       " {'Price': 270.15},\n",
       " {'Price': 270.15},\n",
       " {'Price': 270.15},\n",
       " {'Price': 270.15},\n",
       " {'Price': 270.15},\n",
       " {'Price': 270.15},\n",
       " {'Price': 270.15},\n",
       " {'Price': 270.15},\n",
       " {'Price': 270.15},\n",
       " {'Price': 270.15},\n",
       " {'Price': 270.15},\n",
       " {'Price': 270.15},\n",
       " {'Price': 270.15},\n",
       " {'Price': 270.15},\n",
       " {'Price': 270.15},\n",
       " {'Price': 270.15},\n",
       " {'Price': 270.15},\n",
       " {'Price': 270.15},\n",
       " {'Price': 270.15},\n",
       " {'Price': 270.15},\n",
       " {'Price': 270.15},\n",
       " {'Price': 270.15},\n",
       " {'Price': 270.15},\n",
       " {'Price': 270.15},\n",
       " {'Price': 270.15},\n",
       " {'Price': 270.15},\n",
       " {'Price': 270.15},\n",
       " {'Price': 270.15},\n",
       " {'Price': 270.15},\n",
       " {'Price': 270.15},\n",
       " {'Price': 270.15},\n",
       " {'Price': 270.15},\n",
       " {'Price': 270.15},\n",
       " {'Price': 270.15},\n",
       " {'Price': 270.15},\n",
       " {'Price': 270.15},\n",
       " {'Price': 270.15},\n",
       " {'Price': 270.15},\n",
       " {'Price': 270.15},\n",
       " {'Price': 270.15},\n",
       " {'Price': 270.15},\n",
       " {'Price': 270.15},\n",
       " {'Price': 270.15},\n",
       " {'Price': 270.15},\n",
       " {'Price': 270.15},\n",
       " {'Price': 270.15},\n",
       " {'Price': 270.15},\n",
       " {'Price': 270.15},\n",
       " {'Price': 270.15},\n",
       " {'Price': 270.15},\n",
       " {'Price': 270.15},\n",
       " {'Price': 270.15},\n",
       " {'Price': 270.15},\n",
       " {'Price': 270.15},\n",
       " {'Price': 270.15},\n",
       " {'Price': 270.15},\n",
       " {'Price': 270.15},\n",
       " {'Price': 270.15},\n",
       " {'Price': 270.15},\n",
       " {'Price': 270.15},\n",
       " {'Price': 270.15},\n",
       " {'Price': 270.15},\n",
       " {'Price': 270.15},\n",
       " {'Price': 270.15}]"
      ]
     },
     "execution_count": 38,
     "metadata": {},
     "output_type": "execute_result"
    }
   ],
   "source": [
    "price_dict = [dict(zip(['Price'],[x])) for x in price_list]\n",
    "price_dict"
   ]
  },
  {
   "cell_type": "code",
   "execution_count": null,
   "metadata": {},
   "outputs": [
    {
     "name": "stdout",
     "output_type": "stream",
     "text": [
      "4520 5649 5829\n"
     ]
    },
    {
     "data": {
      "text/html": [
       "<div>\n",
       "<style scoped>\n",
       "    .dataframe tbody tr th:only-of-type {\n",
       "        vertical-align: middle;\n",
       "    }\n",
       "\n",
       "    .dataframe tbody tr th {\n",
       "        vertical-align: top;\n",
       "    }\n",
       "\n",
       "    .dataframe thead th {\n",
       "        text-align: right;\n",
       "    }\n",
       "</style>\n",
       "<table border=\"1\" class=\"dataframe\">\n",
       "  <thead>\n",
       "    <tr style=\"text-align: right;\">\n",
       "      <th></th>\n",
       "      <th>Close</th>\n",
       "    </tr>\n",
       "  </thead>\n",
       "  <tbody>\n",
       "    <tr>\n",
       "      <th>5818</th>\n",
       "      <td>270.15</td>\n",
       "    </tr>\n",
       "    <tr>\n",
       "      <th>5819</th>\n",
       "      <td>270.15</td>\n",
       "    </tr>\n",
       "    <tr>\n",
       "      <th>5820</th>\n",
       "      <td>270.15</td>\n",
       "    </tr>\n",
       "    <tr>\n",
       "      <th>5821</th>\n",
       "      <td>270.15</td>\n",
       "    </tr>\n",
       "    <tr>\n",
       "      <th>5822</th>\n",
       "      <td>270.15</td>\n",
       "    </tr>\n",
       "    <tr>\n",
       "      <th>5823</th>\n",
       "      <td>270.15</td>\n",
       "    </tr>\n",
       "    <tr>\n",
       "      <th>5824</th>\n",
       "      <td>270.15</td>\n",
       "    </tr>\n",
       "    <tr>\n",
       "      <th>5825</th>\n",
       "      <td>270.15</td>\n",
       "    </tr>\n",
       "    <tr>\n",
       "      <th>5826</th>\n",
       "      <td>270.15</td>\n",
       "    </tr>\n",
       "    <tr>\n",
       "      <th>5827</th>\n",
       "      <td>270.15</td>\n",
       "    </tr>\n",
       "  </tbody>\n",
       "</table>\n",
       "</div>"
      ],
      "text/plain": [
       "       Close\n",
       "5818  270.15\n",
       "5819  270.15\n",
       "5820  270.15\n",
       "5821  270.15\n",
       "5822  270.15\n",
       "5823  270.15\n",
       "5824  270.15\n",
       "5825  270.15\n",
       "5826  270.15\n",
       "5827  270.15"
      ]
     },
     "execution_count": 39,
     "metadata": {},
     "output_type": "execute_result"
    }
   ],
   "source": [
    "# DRAW THE PREDICTION\n",
    "df_len = len(df.index) # length of the original dataframe\n",
    "col_name = ['Close']\n",
    "df_filtered = df.filter(col_name)\n",
    "df_filtered_len = len(df_filtered.index)\n",
    "df_filtered_len\n",
    "len_pred_df = df_filtered_len+input # length of the original dataframe plus the users new inputs\n",
    "print(train_data_len,df_len,len_pred_df)\n",
    "new_data =df_filtered.append(pd.DataFrame(price_list,columns=col_name),ignore_index=True)\n",
    "new_data.tail(10)"
   ]
  },
  {
   "cell_type": "code",
   "execution_count": null,
   "metadata": {},
   "outputs": [
    {
     "name": "stderr",
     "output_type": "stream",
     "text": [
      "C:\\Users\\antoi\\AppData\\Local\\Temp/ipykernel_18688/4207254678.py:6: SettingWithCopyWarning: \n",
      "A value is trying to be set on a copy of a slice from a DataFrame.\n",
      "Try using .loc[row_indexer,col_indexer] = value instead\n",
      "\n",
      "See the caveats in the documentation: https://pandas.pydata.org/pandas-docs/stable/user_guide/indexing.html#returning-a-view-versus-a-copy\n",
      "  valid['Predictions'] = predictions # another column for validating test\n"
     ]
    },
    {
     "data": {
      "image/png": "[encoded data removed]",
      "text/plain": [
       "<Figure size 1152x576 with 1 Axes>"
      ]
     },
     "metadata": {},
     "output_type": "display_data"
    }
   ],
   "source": [
    "#Plot the data to validate the test data\n",
    "\n",
    "plt.style.use('fivethirtyeight')\n",
    "train = new_data.iloc[:train_data_len] # actual train data from 0 rows until train data end\n",
    "valid = new_data.iloc[train_data_len:df_len] # actual test data from train data end until end of all sampled data\n",
    "valid['Predictions'] = predictions # another column for validating test\n",
    "predict = new_data.iloc[df_len:len_pred_df] # user prediction data from loop\n",
    "\n",
    "plt.figure(figsize=(16,8))\n",
    "plt.title('PREDICTION CSL Share Price LSTM Model')\n",
    "plt.xlabel('Trading Day - 01/01/2000 to date', fontsize=18)\n",
    "plt.ylabel('Close Price AUD ($)',fontsize=18)\n",
    "plt.plot(train['Close'])\n",
    "plt.plot(valid[['Close','Predictions']])\n",
    "plt.plot(predict['Close'])\n",
    "plt.legend(['Training','Validated','Tested','Prediction'],loc='lower right')\n",
    "x = np.arange(2000,2024,4)\n",
    "plt.xticks([0,1000,2000,3000,4000,5000],x)\n",
    "plt.show()"
   ]
  },
  {
   "cell_type": "code",
   "execution_count": null,
   "metadata": {},
   "outputs": [],
   "source": []
  },
  {
   "cell_type": "markdown",
   "metadata": {},
   "source": [
    "#Save predicted price to MongoDB"
   ]
  },
  {
   "cell_type": "code",
   "execution_count": null,
   "metadata": {},
   "outputs": [],
   "source": [
    "# # Module used to connect Python with MongoDb\n",
    "# import pymongo"
   ]
  },
  {
   "cell_type": "code",
   "execution_count": null,
   "metadata": {},
   "outputs": [],
   "source": [
    "# # The default port used by MongoDB is 27017\n",
    "# # https://docs.mongodb.com/manual/reference/default-mongodb-port/\n",
    "# conn = 'mongodb://localhost:27017'\n",
    "# client = pymongo.MongoClient(conn)\n",
    "\n",
    "# # Define the 'sharesDB' database in Mongo\n",
    "# db = client.sharesDB"
   ]
  },
  {
   "cell_type": "code",
   "execution_count": null,
   "metadata": {},
   "outputs": [],
   "source": [
    "# # Query all\n",
    "# # Here, db.companys refers to the collection 'companys '\n",
    "# companys = db.companys.find()\n",
    "\n",
    "# # Iterate through each company in the collection\n",
    "# for company in companys:\n",
    "#     print(company)"
   ]
  },
  {
   "cell_type": "code",
   "execution_count": null,
   "metadata": {},
   "outputs": [],
   "source": [
    "# # Set keys and values of company\n",
    "# name = 'CSL'\n",
    "# predicted = int(pred_price)\n",
    "# difference = pred_price-actual_price\n",
    "# print(f'date {actual_date},predicted {predicted},actual {actual_price}, difference {difference}')"
   ]
  },
  {
   "cell_type": "code",
   "execution_count": null,
   "metadata": {},
   "outputs": [],
   "source": [
    "# # Insert a document into the 'companys' collection\n",
    "# db.companys.insert_one(\n",
    "#     {\n",
    "#       'model': 'LSTM',\n",
    "#       'name': name,\n",
    "#       'date': actual_date,\n",
    "#       'predicted': predicted,\n",
    "#       'actual': actual_price,\n",
    "#       'differece': difference\n",
    "#     }\n",
    "# )\n",
    "\n",
    "# # query the classroom collection\n",
    "# companys = db.companys.find()\n",
    "\n",
    "# # see change in collection\n",
    "# for company in companys:\n",
    "#     print(company)"
   ]
  },
  {
   "cell_type": "code",
   "execution_count": null,
   "metadata": {},
   "outputs": [],
   "source": [
    "# # Delete a document from a collection\n",
    "# db.companys.delete_one(\n",
    "#     {'name': 'CSL'}\n",
    "# )\n",
    "\n",
    "# # query the companys collection\n",
    "# companys = db.companys.find()\n",
    "\n",
    "# # see change in the collection\n",
    "# for company in companys:\n",
    "#     print(company)"
   ]
  },
  {
   "cell_type": "code",
   "execution_count": null,
   "metadata": {},
   "outputs": [],
   "source": [
    "# from pymongo import MongoClient\n",
    "# mongoClient = MongoClient()\n",
    "# db = mongoClient.sharesDB\n",
    "# db.csl.drop()\n",
    "\n",
    "# import csv\n",
    "# header = [\"Date\",\"Open\",\"High\",\"Low\",\"Close\",\"Adj Close\",\"Volume\",\"SENTIMENT\",\"RBA\",\"FED\"]\n",
    "# csvfile = open('../static/data/csl.csv', 'r')\n",
    "# reader = csv.DictReader( csvfile )\n",
    "\n",
    "# for each in reader:\n",
    "#     row={}\n",
    "#     for field in header:\n",
    "#         row[field]=each[field]\n",
    "        \n",
    "#     print (row)\n",
    "#     db.csl.insert_one(row)\t\t\t\t"
   ]
  },
  {
   "cell_type": "code",
   "execution_count": null,
   "metadata": {},
   "outputs": [],
   "source": [
    "# # query the collection\n",
    "# csls = db.csl.find()\n",
    "\n",
    "# # see change in collection\n",
    "# for csl in csls:\n",
    "#     print(csl)"
   ]
  }
 ],
 "metadata": {
  "interpreter": {
   "hash": "3059867ecbaf26750e76effc478ab3c7b6fe2c4d25ba12aeebe66bc85b0df6cc"
  },
  "kernel_info": {
   "name": "dev"
  },
  "kernelspec": {
   "display_name": "Python [conda root]",
   "language": "python",
   "name": "python3"
  },
  "language_info": {
   "codemirror_mode": {
    "name": "ipython",
    "version": 3
   },
   "file_extension": ".py",
   "mimetype": "text/x-python",
   "name": "python",
   "nbconvert_exporter": "python",
   "pygments_lexer": "ipython3",
   "version": "3.9.7"
  },
  "nteract": {
   "version": "0.12.3"
  }
 },
 "nbformat": 4,
 "nbformat_minor": 2
}
