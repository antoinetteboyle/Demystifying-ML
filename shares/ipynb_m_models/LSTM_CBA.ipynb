{
 "cells": [
  {
   "cell_type": "markdown",
   "metadata": {},
   "source": [
    "#This model uses LSTM to predict a Daily share price movements based on time series and batches of 60 days"
   ]
  },
  {
   "cell_type": "markdown",
   "metadata": {},
   "source": [
    "# Read the CSV and Perform Basic Data Cleaning"
   ]
  },
  {
   "cell_type": "code",
   "execution_count": 1,
   "metadata": {},
   "outputs": [],
   "source": [
    "import matplotlib.pyplot as plt\n",
    "import numpy as np\n",
    "import pandas as pd"
   ]
  },
  {
   "cell_type": "code",
   "execution_count": 2,
   "metadata": {},
   "outputs": [
    {
     "data": {
      "text/html": [
       "<div>\n",
       "<style scoped>\n",
       "    .dataframe tbody tr th:only-of-type {\n",
       "        vertical-align: middle;\n",
       "    }\n",
       "\n",
       "    .dataframe tbody tr th {\n",
       "        vertical-align: top;\n",
       "    }\n",
       "\n",
       "    .dataframe thead th {\n",
       "        text-align: right;\n",
       "    }\n",
       "</style>\n",
       "<table border=\"1\" class=\"dataframe\">\n",
       "  <thead>\n",
       "    <tr style=\"text-align: right;\">\n",
       "      <th></th>\n",
       "      <th>Date</th>\n",
       "      <th>Open</th>\n",
       "      <th>High</th>\n",
       "      <th>Low</th>\n",
       "      <th>Close</th>\n",
       "      <th>Adj Close</th>\n",
       "      <th>Volume</th>\n",
       "    </tr>\n",
       "  </thead>\n",
       "  <tbody>\n",
       "    <tr>\n",
       "      <th>0</th>\n",
       "      <td>3/01/2000</td>\n",
       "      <td>26.088652</td>\n",
       "      <td>26.088652</td>\n",
       "      <td>26.088652</td>\n",
       "      <td>26.088652</td>\n",
       "      <td>7.993308</td>\n",
       "      <td>0</td>\n",
       "    </tr>\n",
       "    <tr>\n",
       "      <th>1</th>\n",
       "      <td>4/01/2000</td>\n",
       "      <td>26.058813</td>\n",
       "      <td>26.058813</td>\n",
       "      <td>25.720646</td>\n",
       "      <td>25.790268</td>\n",
       "      <td>7.901886</td>\n",
       "      <td>1018072</td>\n",
       "    </tr>\n",
       "    <tr>\n",
       "      <th>2</th>\n",
       "      <td>5/01/2000</td>\n",
       "      <td>25.353634</td>\n",
       "      <td>25.392424</td>\n",
       "      <td>25.113932</td>\n",
       "      <td>25.213392</td>\n",
       "      <td>7.725136</td>\n",
       "      <td>2191283</td>\n",
       "    </tr>\n",
       "    <tr>\n",
       "      <th>3</th>\n",
       "      <td>6/01/2000</td>\n",
       "      <td>25.362585</td>\n",
       "      <td>25.362585</td>\n",
       "      <td>24.666357</td>\n",
       "      <td>24.716087</td>\n",
       "      <td>7.572770</td>\n",
       "      <td>1505531</td>\n",
       "    </tr>\n",
       "    <tr>\n",
       "      <th>4</th>\n",
       "      <td>7/01/2000</td>\n",
       "      <td>24.913021</td>\n",
       "      <td>25.113932</td>\n",
       "      <td>24.735979</td>\n",
       "      <td>24.964741</td>\n",
       "      <td>7.648952</td>\n",
       "      <td>1414040</td>\n",
       "    </tr>\n",
       "  </tbody>\n",
       "</table>\n",
       "</div>"
      ],
      "text/plain": [
       "        Date       Open       High        Low      Close  Adj Close   Volume\n",
       "0  3/01/2000  26.088652  26.088652  26.088652  26.088652   7.993308        0\n",
       "1  4/01/2000  26.058813  26.058813  25.720646  25.790268   7.901886  1018072\n",
       "2  5/01/2000  25.353634  25.392424  25.113932  25.213392   7.725136  2191283\n",
       "3  6/01/2000  25.362585  25.362585  24.666357  24.716087   7.572770  1505531\n",
       "4  7/01/2000  24.913021  25.113932  24.735979  24.964741   7.648952  1414040"
      ]
     },
     "execution_count": 2,
     "metadata": {},
     "output_type": "execute_result"
    }
   ],
   "source": [
    "df_stock1 = pd.read_csv(\"../static/data/cba.csv\")\n",
    "# Drop the null columns where all values are null\n",
    "df_stock2 = df_stock1.dropna(axis='columns', how='all')\n",
    "# Drop the null rows\n",
    "df_stock3 = df_stock2.dropna()\n",
    "# Drop the last rows to test prediction to actual\n",
    "df_stock_less1= df_stock3.iloc[:-1,:]\n",
    "# Drop last 3 columns sentiment RBA FED\n",
    "N=3\n",
    "df = df_stock_less1.iloc[: , :-N]\n",
    "df.head()"
   ]
  },
  {
   "cell_type": "code",
   "execution_count": 3,
   "metadata": {},
   "outputs": [
    {
     "data": {
      "text/plain": [
       "<AxesSubplot:>"
      ]
     },
     "execution_count": 3,
     "metadata": {},
     "output_type": "execute_result"
    },
    {
     "data": {
      "image/png": "[encoded data removed]",
      "text/plain": [
       "<Figure size 432x288 with 1 Axes>"
      ]
     },
     "metadata": {
      "needs_background": "light"
     },
     "output_type": "display_data"
    }
   ],
   "source": [
    "df[\"Close\"].plot()"
   ]
  },
  {
   "cell_type": "code",
   "execution_count": 4,
   "metadata": {},
   "outputs": [
    {
     "data": {
      "text/html": [
       "<div>\n",
       "<style scoped>\n",
       "    .dataframe tbody tr th:only-of-type {\n",
       "        vertical-align: middle;\n",
       "    }\n",
       "\n",
       "    .dataframe tbody tr th {\n",
       "        vertical-align: top;\n",
       "    }\n",
       "\n",
       "    .dataframe thead th {\n",
       "        text-align: right;\n",
       "    }\n",
       "</style>\n",
       "<table border=\"1\" class=\"dataframe\">\n",
       "  <thead>\n",
       "    <tr style=\"text-align: right;\">\n",
       "      <th></th>\n",
       "      <th>Date</th>\n",
       "      <th>Open</th>\n",
       "      <th>High</th>\n",
       "      <th>Low</th>\n",
       "      <th>Close</th>\n",
       "      <th>Adj Close</th>\n",
       "    </tr>\n",
       "  </thead>\n",
       "  <tbody>\n",
       "    <tr>\n",
       "      <th>0</th>\n",
       "      <td>3/01/2000</td>\n",
       "      <td>26.088652</td>\n",
       "      <td>26.088652</td>\n",
       "      <td>26.088652</td>\n",
       "      <td>26.088652</td>\n",
       "      <td>7.993308</td>\n",
       "    </tr>\n",
       "    <tr>\n",
       "      <th>1</th>\n",
       "      <td>4/01/2000</td>\n",
       "      <td>26.058813</td>\n",
       "      <td>26.058813</td>\n",
       "      <td>25.720646</td>\n",
       "      <td>25.790268</td>\n",
       "      <td>7.901886</td>\n",
       "    </tr>\n",
       "    <tr>\n",
       "      <th>2</th>\n",
       "      <td>5/01/2000</td>\n",
       "      <td>25.353634</td>\n",
       "      <td>25.392424</td>\n",
       "      <td>25.113932</td>\n",
       "      <td>25.213392</td>\n",
       "      <td>7.725136</td>\n",
       "    </tr>\n",
       "    <tr>\n",
       "      <th>3</th>\n",
       "      <td>6/01/2000</td>\n",
       "      <td>25.362585</td>\n",
       "      <td>25.362585</td>\n",
       "      <td>24.666357</td>\n",
       "      <td>24.716087</td>\n",
       "      <td>7.572770</td>\n",
       "    </tr>\n",
       "    <tr>\n",
       "      <th>4</th>\n",
       "      <td>7/01/2000</td>\n",
       "      <td>24.913021</td>\n",
       "      <td>25.113932</td>\n",
       "      <td>24.735979</td>\n",
       "      <td>24.964741</td>\n",
       "      <td>7.648952</td>\n",
       "    </tr>\n",
       "    <tr>\n",
       "      <th>5</th>\n",
       "      <td>10/01/2000</td>\n",
       "      <td>25.362585</td>\n",
       "      <td>25.621183</td>\n",
       "      <td>25.312855</td>\n",
       "      <td>25.561506</td>\n",
       "      <td>7.831795</td>\n",
       "    </tr>\n",
       "    <tr>\n",
       "      <th>6</th>\n",
       "      <td>11/01/2000</td>\n",
       "      <td>25.531670</td>\n",
       "      <td>25.551561</td>\n",
       "      <td>25.084093</td>\n",
       "      <td>25.148745</td>\n",
       "      <td>7.705329</td>\n",
       "    </tr>\n",
       "    <tr>\n",
       "      <th>7</th>\n",
       "      <td>12/01/2000</td>\n",
       "      <td>25.056246</td>\n",
       "      <td>25.462046</td>\n",
       "      <td>25.014471</td>\n",
       "      <td>25.312855</td>\n",
       "      <td>7.755611</td>\n",
       "    </tr>\n",
       "    <tr>\n",
       "      <th>8</th>\n",
       "      <td>13/01/2000</td>\n",
       "      <td>25.312855</td>\n",
       "      <td>25.511778</td>\n",
       "      <td>25.004524</td>\n",
       "      <td>25.113932</td>\n",
       "      <td>7.694664</td>\n",
       "    </tr>\n",
       "    <tr>\n",
       "      <th>9</th>\n",
       "      <td>14/01/2000</td>\n",
       "      <td>25.211405</td>\n",
       "      <td>25.511778</td>\n",
       "      <td>25.143770</td>\n",
       "      <td>25.445139</td>\n",
       "      <td>7.796141</td>\n",
       "    </tr>\n",
       "    <tr>\n",
       "      <th>10</th>\n",
       "      <td>17/01/2000</td>\n",
       "      <td>25.561506</td>\n",
       "      <td>25.810160</td>\n",
       "      <td>25.442154</td>\n",
       "      <td>25.750483</td>\n",
       "      <td>7.889696</td>\n",
       "    </tr>\n",
       "    <tr>\n",
       "      <th>11</th>\n",
       "      <td>18/01/2000</td>\n",
       "      <td>25.710699</td>\n",
       "      <td>25.760429</td>\n",
       "      <td>25.462046</td>\n",
       "      <td>25.674892</td>\n",
       "      <td>7.866538</td>\n",
       "    </tr>\n",
       "    <tr>\n",
       "      <th>12</th>\n",
       "      <td>19/01/2000</td>\n",
       "      <td>25.462046</td>\n",
       "      <td>25.462046</td>\n",
       "      <td>25.163664</td>\n",
       "      <td>25.163664</td>\n",
       "      <td>7.709899</td>\n",
       "    </tr>\n",
       "    <tr>\n",
       "      <th>13</th>\n",
       "      <td>20/01/2000</td>\n",
       "      <td>25.212399</td>\n",
       "      <td>25.501831</td>\n",
       "      <td>25.153717</td>\n",
       "      <td>25.462046</td>\n",
       "      <td>7.801324</td>\n",
       "    </tr>\n",
       "    <tr>\n",
       "      <th>14</th>\n",
       "      <td>21/01/2000</td>\n",
       "      <td>25.261135</td>\n",
       "      <td>25.412315</td>\n",
       "      <td>25.261135</td>\n",
       "      <td>25.392424</td>\n",
       "      <td>7.779993</td>\n",
       "    </tr>\n",
       "    <tr>\n",
       "      <th>15</th>\n",
       "      <td>24/01/2000</td>\n",
       "      <td>25.402369</td>\n",
       "      <td>25.750483</td>\n",
       "      <td>25.402369</td>\n",
       "      <td>25.462046</td>\n",
       "      <td>7.801324</td>\n",
       "    </tr>\n",
       "    <tr>\n",
       "      <th>16</th>\n",
       "      <td>25/01/2000</td>\n",
       "      <td>25.143770</td>\n",
       "      <td>25.362585</td>\n",
       "      <td>25.113932</td>\n",
       "      <td>25.312855</td>\n",
       "      <td>7.755611</td>\n",
       "    </tr>\n",
       "    <tr>\n",
       "      <th>17</th>\n",
       "      <td>26/01/2000</td>\n",
       "      <td>25.312855</td>\n",
       "      <td>25.312855</td>\n",
       "      <td>25.312855</td>\n",
       "      <td>25.312855</td>\n",
       "      <td>7.755611</td>\n",
       "    </tr>\n",
       "    <tr>\n",
       "      <th>18</th>\n",
       "      <td>27/01/2000</td>\n",
       "      <td>25.263124</td>\n",
       "      <td>25.810160</td>\n",
       "      <td>25.263124</td>\n",
       "      <td>25.730591</td>\n",
       "      <td>7.883601</td>\n",
       "    </tr>\n",
       "    <tr>\n",
       "      <th>19</th>\n",
       "      <td>28/01/2000</td>\n",
       "      <td>25.740538</td>\n",
       "      <td>26.406927</td>\n",
       "      <td>25.740538</td>\n",
       "      <td>26.118490</td>\n",
       "      <td>8.002451</td>\n",
       "    </tr>\n",
       "    <tr>\n",
       "      <th>20</th>\n",
       "      <td>31/01/2000</td>\n",
       "      <td>25.757446</td>\n",
       "      <td>26.058813</td>\n",
       "      <td>25.660969</td>\n",
       "      <td>25.959352</td>\n",
       "      <td>7.953693</td>\n",
       "    </tr>\n",
       "    <tr>\n",
       "      <th>21</th>\n",
       "      <td>1/02/2000</td>\n",
       "      <td>25.959352</td>\n",
       "      <td>26.009083</td>\n",
       "      <td>25.462046</td>\n",
       "      <td>25.527691</td>\n",
       "      <td>7.821437</td>\n",
       "    </tr>\n",
       "    <tr>\n",
       "      <th>22</th>\n",
       "      <td>2/02/2000</td>\n",
       "      <td>25.521723</td>\n",
       "      <td>25.760429</td>\n",
       "      <td>25.362585</td>\n",
       "      <td>25.515755</td>\n",
       "      <td>7.817780</td>\n",
       "    </tr>\n",
       "    <tr>\n",
       "      <th>23</th>\n",
       "      <td>3/02/2000</td>\n",
       "      <td>25.453094</td>\n",
       "      <td>25.453094</td>\n",
       "      <td>24.954794</td>\n",
       "      <td>25.064201</td>\n",
       "      <td>7.679428</td>\n",
       "    </tr>\n",
       "    <tr>\n",
       "      <th>24</th>\n",
       "      <td>4/02/2000</td>\n",
       "      <td>25.064201</td>\n",
       "      <td>25.760429</td>\n",
       "      <td>25.064201</td>\n",
       "      <td>25.422262</td>\n",
       "      <td>7.789133</td>\n",
       "    </tr>\n",
       "    <tr>\n",
       "      <th>25</th>\n",
       "      <td>7/02/2000</td>\n",
       "      <td>25.362585</td>\n",
       "      <td>25.820107</td>\n",
       "      <td>25.312855</td>\n",
       "      <td>25.531670</td>\n",
       "      <td>7.822654</td>\n",
       "    </tr>\n",
       "    <tr>\n",
       "      <th>26</th>\n",
       "      <td>8/02/2000</td>\n",
       "      <td>25.531670</td>\n",
       "      <td>25.631130</td>\n",
       "      <td>25.312855</td>\n",
       "      <td>25.408337</td>\n",
       "      <td>7.784868</td>\n",
       "    </tr>\n",
       "    <tr>\n",
       "      <th>27</th>\n",
       "      <td>9/02/2000</td>\n",
       "      <td>25.462046</td>\n",
       "      <td>25.810160</td>\n",
       "      <td>25.233286</td>\n",
       "      <td>25.660969</td>\n",
       "      <td>7.862272</td>\n",
       "    </tr>\n",
       "    <tr>\n",
       "      <th>28</th>\n",
       "      <td>10/02/2000</td>\n",
       "      <td>25.561506</td>\n",
       "      <td>26.108543</td>\n",
       "      <td>25.561506</td>\n",
       "      <td>26.006098</td>\n",
       "      <td>7.968016</td>\n",
       "    </tr>\n",
       "    <tr>\n",
       "      <th>29</th>\n",
       "      <td>11/02/2000</td>\n",
       "      <td>25.859892</td>\n",
       "      <td>26.635687</td>\n",
       "      <td>25.859892</td>\n",
       "      <td>26.363165</td>\n",
       "      <td>8.077417</td>\n",
       "    </tr>\n",
       "    <tr>\n",
       "      <th>30</th>\n",
       "      <td>14/02/2000</td>\n",
       "      <td>26.058813</td>\n",
       "      <td>26.665525</td>\n",
       "      <td>26.058813</td>\n",
       "      <td>26.462626</td>\n",
       "      <td>8.107893</td>\n",
       "    </tr>\n",
       "    <tr>\n",
       "      <th>31</th>\n",
       "      <td>15/02/2000</td>\n",
       "      <td>26.572033</td>\n",
       "      <td>27.003693</td>\n",
       "      <td>26.572033</td>\n",
       "      <td>27.003693</td>\n",
       "      <td>8.273668</td>\n",
       "    </tr>\n",
       "    <tr>\n",
       "      <th>32</th>\n",
       "      <td>16/02/2000</td>\n",
       "      <td>27.003693</td>\n",
       "      <td>27.351807</td>\n",
       "      <td>26.655581</td>\n",
       "      <td>26.735147</td>\n",
       "      <td>8.191390</td>\n",
       "    </tr>\n",
       "    <tr>\n",
       "      <th>33</th>\n",
       "      <td>17/02/2000</td>\n",
       "      <td>25.849943</td>\n",
       "      <td>26.347250</td>\n",
       "      <td>25.849943</td>\n",
       "      <td>25.959352</td>\n",
       "      <td>8.129097</td>\n",
       "    </tr>\n",
       "    <tr>\n",
       "      <th>34</th>\n",
       "      <td>18/02/2000</td>\n",
       "      <td>25.959352</td>\n",
       "      <td>26.158274</td>\n",
       "      <td>25.760429</td>\n",
       "      <td>26.024000</td>\n",
       "      <td>8.149342</td>\n",
       "    </tr>\n",
       "    <tr>\n",
       "      <th>35</th>\n",
       "      <td>21/02/2000</td>\n",
       "      <td>24.946838</td>\n",
       "      <td>26.068760</td>\n",
       "      <td>24.946838</td>\n",
       "      <td>25.670914</td>\n",
       "      <td>8.038774</td>\n",
       "    </tr>\n",
       "    <tr>\n",
       "      <th>36</th>\n",
       "      <td>22/02/2000</td>\n",
       "      <td>25.561506</td>\n",
       "      <td>26.009083</td>\n",
       "      <td>25.561506</td>\n",
       "      <td>25.923546</td>\n",
       "      <td>8.117887</td>\n",
       "    </tr>\n",
       "    <tr>\n",
       "      <th>37</th>\n",
       "      <td>23/02/2000</td>\n",
       "      <td>25.859892</td>\n",
       "      <td>26.178165</td>\n",
       "      <td>25.859892</td>\n",
       "      <td>26.038921</td>\n",
       "      <td>8.154014</td>\n",
       "    </tr>\n",
       "    <tr>\n",
       "      <th>38</th>\n",
       "      <td>24/02/2000</td>\n",
       "      <td>25.859892</td>\n",
       "      <td>26.068760</td>\n",
       "      <td>25.660969</td>\n",
       "      <td>25.867847</td>\n",
       "      <td>8.100443</td>\n",
       "    </tr>\n",
       "    <tr>\n",
       "      <th>39</th>\n",
       "      <td>25/02/2000</td>\n",
       "      <td>25.456078</td>\n",
       "      <td>26.009083</td>\n",
       "      <td>25.456078</td>\n",
       "      <td>25.830051</td>\n",
       "      <td>8.088607</td>\n",
       "    </tr>\n",
       "    <tr>\n",
       "      <th>40</th>\n",
       "      <td>28/02/2000</td>\n",
       "      <td>25.569464</td>\n",
       "      <td>25.660969</td>\n",
       "      <td>25.084093</td>\n",
       "      <td>25.099012</td>\n",
       "      <td>7.859685</td>\n",
       "    </tr>\n",
       "    <tr>\n",
       "      <th>41</th>\n",
       "      <td>29/02/2000</td>\n",
       "      <td>25.362585</td>\n",
       "      <td>25.362585</td>\n",
       "      <td>24.805603</td>\n",
       "      <td>24.857323</td>\n",
       "      <td>7.784001</td>\n",
       "    </tr>\n",
       "    <tr>\n",
       "      <th>42</th>\n",
       "      <td>1/03/2000</td>\n",
       "      <td>24.865278</td>\n",
       "      <td>25.849943</td>\n",
       "      <td>24.616627</td>\n",
       "      <td>25.660969</td>\n",
       "      <td>8.035658</td>\n",
       "    </tr>\n",
       "    <tr>\n",
       "      <th>43</th>\n",
       "      <td>2/03/2000</td>\n",
       "      <td>25.660969</td>\n",
       "      <td>25.660969</td>\n",
       "      <td>25.213392</td>\n",
       "      <td>25.511778</td>\n",
       "      <td>7.988940</td>\n",
       "    </tr>\n",
       "    <tr>\n",
       "      <th>44</th>\n",
       "      <td>3/03/2000</td>\n",
       "      <td>25.362585</td>\n",
       "      <td>25.412315</td>\n",
       "      <td>24.755873</td>\n",
       "      <td>25.104980</td>\n",
       "      <td>7.861554</td>\n",
       "    </tr>\n",
       "    <tr>\n",
       "      <th>45</th>\n",
       "      <td>6/03/2000</td>\n",
       "      <td>25.160679</td>\n",
       "      <td>25.362585</td>\n",
       "      <td>24.765818</td>\n",
       "      <td>24.865278</td>\n",
       "      <td>7.786495</td>\n",
       "    </tr>\n",
       "    <tr>\n",
       "      <th>46</th>\n",
       "      <td>7/03/2000</td>\n",
       "      <td>24.558939</td>\n",
       "      <td>24.855333</td>\n",
       "      <td>24.467436</td>\n",
       "      <td>24.566896</td>\n",
       "      <td>7.693056</td>\n",
       "    </tr>\n",
       "    <tr>\n",
       "      <th>47</th>\n",
       "      <td>8/03/2000</td>\n",
       "      <td>24.566896</td>\n",
       "      <td>24.566896</td>\n",
       "      <td>24.566896</td>\n",
       "      <td>24.566896</td>\n",
       "      <td>7.693056</td>\n",
       "    </tr>\n",
       "    <tr>\n",
       "      <th>48</th>\n",
       "      <td>9/03/2000</td>\n",
       "      <td>24.566896</td>\n",
       "      <td>24.566896</td>\n",
       "      <td>24.566896</td>\n",
       "      <td>24.566896</td>\n",
       "      <td>7.693056</td>\n",
       "    </tr>\n",
       "    <tr>\n",
       "      <th>49</th>\n",
       "      <td>10/03/2000</td>\n",
       "      <td>22.478212</td>\n",
       "      <td>23.353470</td>\n",
       "      <td>22.368805</td>\n",
       "      <td>22.876057</td>\n",
       "      <td>7.163571</td>\n",
       "    </tr>\n",
       "    <tr>\n",
       "      <th>50</th>\n",
       "      <td>13/03/2000</td>\n",
       "      <td>22.975517</td>\n",
       "      <td>23.273901</td>\n",
       "      <td>22.846218</td>\n",
       "      <td>22.995411</td>\n",
       "      <td>7.200949</td>\n",
       "    </tr>\n",
       "    <tr>\n",
       "      <th>51</th>\n",
       "      <td>14/03/2000</td>\n",
       "      <td>22.975517</td>\n",
       "      <td>23.363417</td>\n",
       "      <td>22.925789</td>\n",
       "      <td>22.975517</td>\n",
       "      <td>7.194718</td>\n",
       "    </tr>\n",
       "    <tr>\n",
       "      <th>52</th>\n",
       "      <td>15/03/2000</td>\n",
       "      <td>22.975517</td>\n",
       "      <td>23.423094</td>\n",
       "      <td>22.895948</td>\n",
       "      <td>23.383308</td>\n",
       "      <td>7.322415</td>\n",
       "    </tr>\n",
       "    <tr>\n",
       "      <th>53</th>\n",
       "      <td>16/03/2000</td>\n",
       "      <td>23.761261</td>\n",
       "      <td>23.771208</td>\n",
       "      <td>23.174440</td>\n",
       "      <td>23.177423</td>\n",
       "      <td>7.257941</td>\n",
       "    </tr>\n",
       "    <tr>\n",
       "      <th>54</th>\n",
       "      <td>17/03/2000</td>\n",
       "      <td>23.563334</td>\n",
       "      <td>23.563334</td>\n",
       "      <td>22.876057</td>\n",
       "      <td>22.876057</td>\n",
       "      <td>7.163571</td>\n",
       "    </tr>\n",
       "    <tr>\n",
       "      <th>55</th>\n",
       "      <td>20/03/2000</td>\n",
       "      <td>22.876057</td>\n",
       "      <td>22.965572</td>\n",
       "      <td>22.746758</td>\n",
       "      <td>22.866112</td>\n",
       "      <td>7.160458</td>\n",
       "    </tr>\n",
       "    <tr>\n",
       "      <th>56</th>\n",
       "      <td>21/03/2000</td>\n",
       "      <td>22.876057</td>\n",
       "      <td>22.876057</td>\n",
       "      <td>22.488159</td>\n",
       "      <td>22.547834</td>\n",
       "      <td>7.060788</td>\n",
       "    </tr>\n",
       "    <tr>\n",
       "      <th>57</th>\n",
       "      <td>22/03/2000</td>\n",
       "      <td>22.677135</td>\n",
       "      <td>22.756704</td>\n",
       "      <td>22.527943</td>\n",
       "      <td>22.537889</td>\n",
       "      <td>7.057676</td>\n",
       "    </tr>\n",
       "    <tr>\n",
       "      <th>58</th>\n",
       "      <td>23/03/2000</td>\n",
       "      <td>22.655252</td>\n",
       "      <td>22.726866</td>\n",
       "      <td>22.329021</td>\n",
       "      <td>22.428482</td>\n",
       "      <td>7.023416</td>\n",
       "    </tr>\n",
       "    <tr>\n",
       "      <th>59</th>\n",
       "      <td>24/03/2000</td>\n",
       "      <td>22.428482</td>\n",
       "      <td>22.567728</td>\n",
       "      <td>22.239506</td>\n",
       "      <td>22.507055</td>\n",
       "      <td>7.048021</td>\n",
       "    </tr>\n",
       "  </tbody>\n",
       "</table>\n",
       "</div>"
      ],
      "text/plain": [
       "          Date       Open       High        Low      Close  Adj Close\n",
       "0    3/01/2000  26.088652  26.088652  26.088652  26.088652   7.993308\n",
       "1    4/01/2000  26.058813  26.058813  25.720646  25.790268   7.901886\n",
       "2    5/01/2000  25.353634  25.392424  25.113932  25.213392   7.725136\n",
       "3    6/01/2000  25.362585  25.362585  24.666357  24.716087   7.572770\n",
       "4    7/01/2000  24.913021  25.113932  24.735979  24.964741   7.648952\n",
       "5   10/01/2000  25.362585  25.621183  25.312855  25.561506   7.831795\n",
       "6   11/01/2000  25.531670  25.551561  25.084093  25.148745   7.705329\n",
       "7   12/01/2000  25.056246  25.462046  25.014471  25.312855   7.755611\n",
       "8   13/01/2000  25.312855  25.511778  25.004524  25.113932   7.694664\n",
       "9   14/01/2000  25.211405  25.511778  25.143770  25.445139   7.796141\n",
       "10  17/01/2000  25.561506  25.810160  25.442154  25.750483   7.889696\n",
       "11  18/01/2000  25.710699  25.760429  25.462046  25.674892   7.866538\n",
       "12  19/01/2000  25.462046  25.462046  25.163664  25.163664   7.709899\n",
       "13  20/01/2000  25.212399  25.501831  25.153717  25.462046   7.801324\n",
       "14  21/01/2000  25.261135  25.412315  25.261135  25.392424   7.779993\n",
       "15  24/01/2000  25.402369  25.750483  25.402369  25.462046   7.801324\n",
       "16  25/01/2000  25.143770  25.362585  25.113932  25.312855   7.755611\n",
       "17  26/01/2000  25.312855  25.312855  25.312855  25.312855   7.755611\n",
       "18  27/01/2000  25.263124  25.810160  25.263124  25.730591   7.883601\n",
       "19  28/01/2000  25.740538  26.406927  25.740538  26.118490   8.002451\n",
       "20  31/01/2000  25.757446  26.058813  25.660969  25.959352   7.953693\n",
       "21   1/02/2000  25.959352  26.009083  25.462046  25.527691   7.821437\n",
       "22   2/02/2000  25.521723  25.760429  25.362585  25.515755   7.817780\n",
       "23   3/02/2000  25.453094  25.453094  24.954794  25.064201   7.679428\n",
       "24   4/02/2000  25.064201  25.760429  25.064201  25.422262   7.789133\n",
       "25   7/02/2000  25.362585  25.820107  25.312855  25.531670   7.822654\n",
       "26   8/02/2000  25.531670  25.631130  25.312855  25.408337   7.784868\n",
       "27   9/02/2000  25.462046  25.810160  25.233286  25.660969   7.862272\n",
       "28  10/02/2000  25.561506  26.108543  25.561506  26.006098   7.968016\n",
       "29  11/02/2000  25.859892  26.635687  25.859892  26.363165   8.077417\n",
       "30  14/02/2000  26.058813  26.665525  26.058813  26.462626   8.107893\n",
       "31  15/02/2000  26.572033  27.003693  26.572033  27.003693   8.273668\n",
       "32  16/02/2000  27.003693  27.351807  26.655581  26.735147   8.191390\n",
       "33  17/02/2000  25.849943  26.347250  25.849943  25.959352   8.129097\n",
       "34  18/02/2000  25.959352  26.158274  25.760429  26.024000   8.149342\n",
       "35  21/02/2000  24.946838  26.068760  24.946838  25.670914   8.038774\n",
       "36  22/02/2000  25.561506  26.009083  25.561506  25.923546   8.117887\n",
       "37  23/02/2000  25.859892  26.178165  25.859892  26.038921   8.154014\n",
       "38  24/02/2000  25.859892  26.068760  25.660969  25.867847   8.100443\n",
       "39  25/02/2000  25.456078  26.009083  25.456078  25.830051   8.088607\n",
       "40  28/02/2000  25.569464  25.660969  25.084093  25.099012   7.859685\n",
       "41  29/02/2000  25.362585  25.362585  24.805603  24.857323   7.784001\n",
       "42   1/03/2000  24.865278  25.849943  24.616627  25.660969   8.035658\n",
       "43   2/03/2000  25.660969  25.660969  25.213392  25.511778   7.988940\n",
       "44   3/03/2000  25.362585  25.412315  24.755873  25.104980   7.861554\n",
       "45   6/03/2000  25.160679  25.362585  24.765818  24.865278   7.786495\n",
       "46   7/03/2000  24.558939  24.855333  24.467436  24.566896   7.693056\n",
       "47   8/03/2000  24.566896  24.566896  24.566896  24.566896   7.693056\n",
       "48   9/03/2000  24.566896  24.566896  24.566896  24.566896   7.693056\n",
       "49  10/03/2000  22.478212  23.353470  22.368805  22.876057   7.163571\n",
       "50  13/03/2000  22.975517  23.273901  22.846218  22.995411   7.200949\n",
       "51  14/03/2000  22.975517  23.363417  22.925789  22.975517   7.194718\n",
       "52  15/03/2000  22.975517  23.423094  22.895948  23.383308   7.322415\n",
       "53  16/03/2000  23.761261  23.771208  23.174440  23.177423   7.257941\n",
       "54  17/03/2000  23.563334  23.563334  22.876057  22.876057   7.163571\n",
       "55  20/03/2000  22.876057  22.965572  22.746758  22.866112   7.160458\n",
       "56  21/03/2000  22.876057  22.876057  22.488159  22.547834   7.060788\n",
       "57  22/03/2000  22.677135  22.756704  22.527943  22.537889   7.057676\n",
       "58  23/03/2000  22.655252  22.726866  22.329021  22.428482   7.023416\n",
       "59  24/03/2000  22.428482  22.567728  22.239506  22.507055   7.048021"
      ]
     },
     "execution_count": 4,
     "metadata": {},
     "output_type": "execute_result"
    }
   ],
   "source": [
    "import pandas as pd\n",
    "df_cba = pd.read_csv(\"../static/data/cba.csv\")\n",
    "df_cba = df_cba.dropna()\n",
    "df_cba = df_cba.iloc[0:60,:6]\n",
    "df_cba"
   ]
  },
  {
   "cell_type": "code",
   "execution_count": 5,
   "metadata": {},
   "outputs": [
    {
     "name": "stdout",
     "output_type": "stream",
     "text": [
      "[{\"Date\":\"3\\/01\\/2000\",\"Open\":26.088652,\"High\":26.088652,\"Low\":26.088652,\"Close\":26.088652,\"Adj Close\":7.993308},{\"Date\":\"4\\/01\\/2000\",\"Open\":26.058813,\"High\":26.058813,\"Low\":25.720646,\"Close\":25.790268,\"Adj Close\":7.901886},{\"Date\":\"5\\/01\\/2000\",\"Open\":25.353634,\"High\":25.392424,\"Low\":25.113932,\"Close\":25.213392,\"Adj Close\":7.725136},{\"Date\":\"6\\/01\\/2000\",\"Open\":25.362585,\"High\":25.362585,\"Low\":24.666357,\"Close\":24.716087,\"Adj Close\":7.57277},{\"Date\":\"7\\/01\\/2000\",\"Open\":24.913021,\"High\":25.113932,\"Low\":24.735979,\"Close\":24.964741,\"Adj Close\":7.648952},{\"Date\":\"10\\/01\\/2000\",\"Open\":25.362585,\"High\":25.621183,\"Low\":25.312855,\"Close\":25.561506,\"Adj Close\":7.831795},{\"Date\":\"11\\/01\\/2000\",\"Open\":25.53167,\"High\":25.551561,\"Low\":25.084093,\"Close\":25.148745,\"Adj Close\":7.705329},{\"Date\":\"12\\/01\\/2000\",\"Open\":25.056246,\"High\":25.462046,\"Low\":25.014471,\"Close\":25.312855,\"Adj Close\":7.755611},{\"Date\":\"13\\/01\\/2000\",\"Open\":25.312855,\"High\":25.511778,\"Low\":25.004524,\"Close\":25.113932,\"Adj Close\":7.694664},{\"Date\":\"14\\/01\\/2000\",\"Open\":25.211405,\"High\":25.511778,\"Low\":25.14377,\"Close\":25.445139,\"Adj Close\":7.796141},{\"Date\":\"17\\/01\\/2000\",\"Open\":25.561506,\"High\":25.81016,\"Low\":25.442154,\"Close\":25.750483,\"Adj Close\":7.889696},{\"Date\":\"18\\/01\\/2000\",\"Open\":25.710699,\"High\":25.760429,\"Low\":25.462046,\"Close\":25.674892,\"Adj Close\":7.866538},{\"Date\":\"19\\/01\\/2000\",\"Open\":25.462046,\"High\":25.462046,\"Low\":25.163664,\"Close\":25.163664,\"Adj Close\":7.709899},{\"Date\":\"20\\/01\\/2000\",\"Open\":25.212399,\"High\":25.501831,\"Low\":25.153717,\"Close\":25.462046,\"Adj Close\":7.801324},{\"Date\":\"21\\/01\\/2000\",\"Open\":25.261135,\"High\":25.412315,\"Low\":25.261135,\"Close\":25.392424,\"Adj Close\":7.779993},{\"Date\":\"24\\/01\\/2000\",\"Open\":25.402369,\"High\":25.750483,\"Low\":25.402369,\"Close\":25.462046,\"Adj Close\":7.801324},{\"Date\":\"25\\/01\\/2000\",\"Open\":25.14377,\"High\":25.362585,\"Low\":25.113932,\"Close\":25.312855,\"Adj Close\":7.755611},{\"Date\":\"26\\/01\\/2000\",\"Open\":25.312855,\"High\":25.312855,\"Low\":25.312855,\"Close\":25.312855,\"Adj Close\":7.755611},{\"Date\":\"27\\/01\\/2000\",\"Open\":25.263124,\"High\":25.81016,\"Low\":25.263124,\"Close\":25.730591,\"Adj Close\":7.883601},{\"Date\":\"28\\/01\\/2000\",\"Open\":25.740538,\"High\":26.406927,\"Low\":25.740538,\"Close\":26.11849,\"Adj Close\":8.002451},{\"Date\":\"31\\/01\\/2000\",\"Open\":25.757446,\"High\":26.058813,\"Low\":25.660969,\"Close\":25.959352,\"Adj Close\":7.953693},{\"Date\":\"1\\/02\\/2000\",\"Open\":25.959352,\"High\":26.009083,\"Low\":25.462046,\"Close\":25.527691,\"Adj Close\":7.821437},{\"Date\":\"2\\/02\\/2000\",\"Open\":25.521723,\"High\":25.760429,\"Low\":25.362585,\"Close\":25.515755,\"Adj Close\":7.81778},{\"Date\":\"3\\/02\\/2000\",\"Open\":25.453094,\"High\":25.453094,\"Low\":24.954794,\"Close\":25.064201,\"Adj Close\":7.679428},{\"Date\":\"4\\/02\\/2000\",\"Open\":25.064201,\"High\":25.760429,\"Low\":25.064201,\"Close\":25.422262,\"Adj Close\":7.789133},{\"Date\":\"7\\/02\\/2000\",\"Open\":25.362585,\"High\":25.820107,\"Low\":25.312855,\"Close\":25.53167,\"Adj Close\":7.822654},{\"Date\":\"8\\/02\\/2000\",\"Open\":25.53167,\"High\":25.63113,\"Low\":25.312855,\"Close\":25.408337,\"Adj Close\":7.784868},{\"Date\":\"9\\/02\\/2000\",\"Open\":25.462046,\"High\":25.81016,\"Low\":25.233286,\"Close\":25.660969,\"Adj Close\":7.862272},{\"Date\":\"10\\/02\\/2000\",\"Open\":25.561506,\"High\":26.108543,\"Low\":25.561506,\"Close\":26.006098,\"Adj Close\":7.968016},{\"Date\":\"11\\/02\\/2000\",\"Open\":25.859892,\"High\":26.635687,\"Low\":25.859892,\"Close\":26.363165,\"Adj Close\":8.077417},{\"Date\":\"14\\/02\\/2000\",\"Open\":26.058813,\"High\":26.665525,\"Low\":26.058813,\"Close\":26.462626,\"Adj Close\":8.107893},{\"Date\":\"15\\/02\\/2000\",\"Open\":26.572033,\"High\":27.003693,\"Low\":26.572033,\"Close\":27.003693,\"Adj Close\":8.273668},{\"Date\":\"16\\/02\\/2000\",\"Open\":27.003693,\"High\":27.351807,\"Low\":26.655581,\"Close\":26.735147,\"Adj Close\":8.19139},{\"Date\":\"17\\/02\\/2000\",\"Open\":25.849943,\"High\":26.34725,\"Low\":25.849943,\"Close\":25.959352,\"Adj Close\":8.129097},{\"Date\":\"18\\/02\\/2000\",\"Open\":25.959352,\"High\":26.158274,\"Low\":25.760429,\"Close\":26.024,\"Adj Close\":8.149342},{\"Date\":\"21\\/02\\/2000\",\"Open\":24.946838,\"High\":26.06876,\"Low\":24.946838,\"Close\":25.670914,\"Adj Close\":8.038774},{\"Date\":\"22\\/02\\/2000\",\"Open\":25.561506,\"High\":26.009083,\"Low\":25.561506,\"Close\":25.923546,\"Adj Close\":8.117887},{\"Date\":\"23\\/02\\/2000\",\"Open\":25.859892,\"High\":26.178165,\"Low\":25.859892,\"Close\":26.038921,\"Adj Close\":8.154014},{\"Date\":\"24\\/02\\/2000\",\"Open\":25.859892,\"High\":26.06876,\"Low\":25.660969,\"Close\":25.867847,\"Adj Close\":8.100443},{\"Date\":\"25\\/02\\/2000\",\"Open\":25.456078,\"High\":26.009083,\"Low\":25.456078,\"Close\":25.830051,\"Adj Close\":8.088607},{\"Date\":\"28\\/02\\/2000\",\"Open\":25.569464,\"High\":25.660969,\"Low\":25.084093,\"Close\":25.099012,\"Adj Close\":7.859685},{\"Date\":\"29\\/02\\/2000\",\"Open\":25.362585,\"High\":25.362585,\"Low\":24.805603,\"Close\":24.857323,\"Adj Close\":7.784001},{\"Date\":\"1\\/03\\/2000\",\"Open\":24.865278,\"High\":25.849943,\"Low\":24.616627,\"Close\":25.660969,\"Adj Close\":8.035658},{\"Date\":\"2\\/03\\/2000\",\"Open\":25.660969,\"High\":25.660969,\"Low\":25.213392,\"Close\":25.511778,\"Adj Close\":7.98894},{\"Date\":\"3\\/03\\/2000\",\"Open\":25.362585,\"High\":25.412315,\"Low\":24.755873,\"Close\":25.10498,\"Adj Close\":7.861554},{\"Date\":\"6\\/03\\/2000\",\"Open\":25.160679,\"High\":25.362585,\"Low\":24.765818,\"Close\":24.865278,\"Adj Close\":7.786495},{\"Date\":\"7\\/03\\/2000\",\"Open\":24.558939,\"High\":24.855333,\"Low\":24.467436,\"Close\":24.566896,\"Adj Close\":7.693056},{\"Date\":\"8\\/03\\/2000\",\"Open\":24.566896,\"High\":24.566896,\"Low\":24.566896,\"Close\":24.566896,\"Adj Close\":7.693056},{\"Date\":\"9\\/03\\/2000\",\"Open\":24.566896,\"High\":24.566896,\"Low\":24.566896,\"Close\":24.566896,\"Adj Close\":7.693056},{\"Date\":\"10\\/03\\/2000\",\"Open\":22.478212,\"High\":23.35347,\"Low\":22.368805,\"Close\":22.876057,\"Adj Close\":7.163571},{\"Date\":\"13\\/03\\/2000\",\"Open\":22.975517,\"High\":23.273901,\"Low\":22.846218,\"Close\":22.995411,\"Adj Close\":7.200949},{\"Date\":\"14\\/03\\/2000\",\"Open\":22.975517,\"High\":23.363417,\"Low\":22.925789,\"Close\":22.975517,\"Adj Close\":7.194718},{\"Date\":\"15\\/03\\/2000\",\"Open\":22.975517,\"High\":23.423094,\"Low\":22.895948,\"Close\":23.383308,\"Adj Close\":7.322415},{\"Date\":\"16\\/03\\/2000\",\"Open\":23.761261,\"High\":23.771208,\"Low\":23.17444,\"Close\":23.177423,\"Adj Close\":7.257941},{\"Date\":\"17\\/03\\/2000\",\"Open\":23.563334,\"High\":23.563334,\"Low\":22.876057,\"Close\":22.876057,\"Adj Close\":7.163571},{\"Date\":\"20\\/03\\/2000\",\"Open\":22.876057,\"High\":22.965572,\"Low\":22.746758,\"Close\":22.866112,\"Adj Close\":7.160458},{\"Date\":\"21\\/03\\/2000\",\"Open\":22.876057,\"High\":22.876057,\"Low\":22.488159,\"Close\":22.547834,\"Adj Close\":7.060788},{\"Date\":\"22\\/03\\/2000\",\"Open\":22.677135,\"High\":22.756704,\"Low\":22.527943,\"Close\":22.537889,\"Adj Close\":7.057676},{\"Date\":\"23\\/03\\/2000\",\"Open\":22.655252,\"High\":22.726866,\"Low\":22.329021,\"Close\":22.428482,\"Adj Close\":7.023416},{\"Date\":\"24\\/03\\/2000\",\"Open\":22.428482,\"High\":22.567728,\"Low\":22.239506,\"Close\":22.507055,\"Adj Close\":7.048021}]\n"
     ]
    }
   ],
   "source": [
    "cba_json = df_cba.to_json(orient='records')\n",
    "print(cba_json)"
   ]
  },
  {
   "cell_type": "code",
   "execution_count": 6,
   "metadata": {},
   "outputs": [
    {
     "name": "stdout",
     "output_type": "stream",
     "text": [
      "[{'Date': '3/01/2000', 'Open': 26.088652, 'High': 26.088652, 'Low': 26.088652, 'Close': 26.088652, 'Adj Close': 7.993308}, {'Date': '4/01/2000', 'Open': 26.058813, 'High': 26.058813, 'Low': 25.720646, 'Close': 25.790268, 'Adj Close': 7.901886}, {'Date': '5/01/2000', 'Open': 25.353634, 'High': 25.392424, 'Low': 25.113932, 'Close': 25.213392, 'Adj Close': 7.725136}, {'Date': '6/01/2000', 'Open': 25.362585, 'High': 25.362585, 'Low': 24.666357, 'Close': 24.716087, 'Adj Close': 7.57277}, {'Date': '7/01/2000', 'Open': 24.913021, 'High': 25.113932, 'Low': 24.735979, 'Close': 24.964741, 'Adj Close': 7.648952}, {'Date': '10/01/2000', 'Open': 25.362585, 'High': 25.621183, 'Low': 25.312855, 'Close': 25.561506, 'Adj Close': 7.831795}, {'Date': '11/01/2000', 'Open': 25.53167, 'High': 25.551561, 'Low': 25.084093, 'Close': 25.148745, 'Adj Close': 7.705329}, {'Date': '12/01/2000', 'Open': 25.056246, 'High': 25.462046, 'Low': 25.014471, 'Close': 25.312855, 'Adj Close': 7.755611}, {'Date': '13/01/2000', 'Open': 25.312855, 'High': 25.511778, 'Low': 25.004524, 'Close': 25.113932, 'Adj Close': 7.694664}, {'Date': '14/01/2000', 'Open': 25.211405, 'High': 25.511778, 'Low': 25.14377, 'Close': 25.445139, 'Adj Close': 7.796141}, {'Date': '17/01/2000', 'Open': 25.561506, 'High': 25.81016, 'Low': 25.442154, 'Close': 25.750483, 'Adj Close': 7.889696}, {'Date': '18/01/2000', 'Open': 25.710699, 'High': 25.760429, 'Low': 25.462046, 'Close': 25.674892, 'Adj Close': 7.866538}, {'Date': '19/01/2000', 'Open': 25.462046, 'High': 25.462046, 'Low': 25.163664, 'Close': 25.163664, 'Adj Close': 7.709899}, {'Date': '20/01/2000', 'Open': 25.212399, 'High': 25.501831, 'Low': 25.153717, 'Close': 25.462046, 'Adj Close': 7.801324}, {'Date': '21/01/2000', 'Open': 25.261135, 'High': 25.412315, 'Low': 25.261135, 'Close': 25.392424, 'Adj Close': 7.779993}, {'Date': '24/01/2000', 'Open': 25.402369, 'High': 25.750483, 'Low': 25.402369, 'Close': 25.462046, 'Adj Close': 7.801324}, {'Date': '25/01/2000', 'Open': 25.14377, 'High': 25.362585, 'Low': 25.113932, 'Close': 25.312855, 'Adj Close': 7.755611}, {'Date': '26/01/2000', 'Open': 25.312855, 'High': 25.312855, 'Low': 25.312855, 'Close': 25.312855, 'Adj Close': 7.755611}, {'Date': '27/01/2000', 'Open': 25.263124, 'High': 25.81016, 'Low': 25.263124, 'Close': 25.730591, 'Adj Close': 7.883601}, {'Date': '28/01/2000', 'Open': 25.740538, 'High': 26.406927, 'Low': 25.740538, 'Close': 26.11849, 'Adj Close': 8.002451}, {'Date': '31/01/2000', 'Open': 25.757446, 'High': 26.058813, 'Low': 25.660969, 'Close': 25.959352, 'Adj Close': 7.953693}, {'Date': '1/02/2000', 'Open': 25.959352, 'High': 26.009083, 'Low': 25.462046, 'Close': 25.527691, 'Adj Close': 7.821437}, {'Date': '2/02/2000', 'Open': 25.521723, 'High': 25.760429, 'Low': 25.362585, 'Close': 25.515755, 'Adj Close': 7.81778}, {'Date': '3/02/2000', 'Open': 25.453094, 'High': 25.453094, 'Low': 24.954794, 'Close': 25.064201, 'Adj Close': 7.679428}, {'Date': '4/02/2000', 'Open': 25.064201, 'High': 25.760429, 'Low': 25.064201, 'Close': 25.422262, 'Adj Close': 7.789133}, {'Date': '7/02/2000', 'Open': 25.362585, 'High': 25.820107, 'Low': 25.312855, 'Close': 25.53167, 'Adj Close': 7.822654}, {'Date': '8/02/2000', 'Open': 25.53167, 'High': 25.63113, 'Low': 25.312855, 'Close': 25.408337, 'Adj Close': 7.784868}, {'Date': '9/02/2000', 'Open': 25.462046, 'High': 25.81016, 'Low': 25.233286, 'Close': 25.660969, 'Adj Close': 7.862272}, {'Date': '10/02/2000', 'Open': 25.561506, 'High': 26.108543, 'Low': 25.561506, 'Close': 26.006098, 'Adj Close': 7.968016}, {'Date': '11/02/2000', 'Open': 25.859892, 'High': 26.635687, 'Low': 25.859892, 'Close': 26.363165, 'Adj Close': 8.077417}, {'Date': '14/02/2000', 'Open': 26.058813, 'High': 26.665525, 'Low': 26.058813, 'Close': 26.462626, 'Adj Close': 8.107893}, {'Date': '15/02/2000', 'Open': 26.572033, 'High': 27.003693, 'Low': 26.572033, 'Close': 27.003693, 'Adj Close': 8.273668}, {'Date': '16/02/2000', 'Open': 27.003693, 'High': 27.351807, 'Low': 26.655581, 'Close': 26.735147, 'Adj Close': 8.19139}, {'Date': '17/02/2000', 'Open': 25.849943, 'High': 26.34725, 'Low': 25.849943, 'Close': 25.959352, 'Adj Close': 8.129097}, {'Date': '18/02/2000', 'Open': 25.959352, 'High': 26.158274, 'Low': 25.760429, 'Close': 26.024, 'Adj Close': 8.149342}, {'Date': '21/02/2000', 'Open': 24.946838, 'High': 26.06876, 'Low': 24.946838, 'Close': 25.670914, 'Adj Close': 8.038774}, {'Date': '22/02/2000', 'Open': 25.561506, 'High': 26.009083, 'Low': 25.561506, 'Close': 25.923546, 'Adj Close': 8.117887}, {'Date': '23/02/2000', 'Open': 25.859892, 'High': 26.178165, 'Low': 25.859892, 'Close': 26.038921, 'Adj Close': 8.154014}, {'Date': '24/02/2000', 'Open': 25.859892, 'High': 26.06876, 'Low': 25.660969, 'Close': 25.867847, 'Adj Close': 8.100443}, {'Date': '25/02/2000', 'Open': 25.456078, 'High': 26.009083, 'Low': 25.456078, 'Close': 25.830051, 'Adj Close': 8.088607}, {'Date': '28/02/2000', 'Open': 25.569464, 'High': 25.660969, 'Low': 25.084093, 'Close': 25.099012, 'Adj Close': 7.859685}, {'Date': '29/02/2000', 'Open': 25.362585, 'High': 25.362585, 'Low': 24.805603, 'Close': 24.857323, 'Adj Close': 7.784001}, {'Date': '1/03/2000', 'Open': 24.865278, 'High': 25.849943, 'Low': 24.616627, 'Close': 25.660969, 'Adj Close': 8.035658}, {'Date': '2/03/2000', 'Open': 25.660969, 'High': 25.660969, 'Low': 25.213392, 'Close': 25.511778, 'Adj Close': 7.98894}, {'Date': '3/03/2000', 'Open': 25.362585, 'High': 25.412315, 'Low': 24.755873, 'Close': 25.10498, 'Adj Close': 7.861554}, {'Date': '6/03/2000', 'Open': 25.160679, 'High': 25.362585, 'Low': 24.765818, 'Close': 24.865278, 'Adj Close': 7.786495}, {'Date': '7/03/2000', 'Open': 24.558939, 'High': 24.855333, 'Low': 24.467436, 'Close': 24.566896, 'Adj Close': 7.693056}, {'Date': '8/03/2000', 'Open': 24.566896, 'High': 24.566896, 'Low': 24.566896, 'Close': 24.566896, 'Adj Close': 7.693056}, {'Date': '9/03/2000', 'Open': 24.566896, 'High': 24.566896, 'Low': 24.566896, 'Close': 24.566896, 'Adj Close': 7.693056}, {'Date': '10/03/2000', 'Open': 22.478212, 'High': 23.35347, 'Low': 22.368805, 'Close': 22.876057, 'Adj Close': 7.163571}, {'Date': '13/03/2000', 'Open': 22.975517, 'High': 23.273901, 'Low': 22.846218, 'Close': 22.995411, 'Adj Close': 7.200949}, {'Date': '14/03/2000', 'Open': 22.975517, 'High': 23.363417, 'Low': 22.925789, 'Close': 22.975517, 'Adj Close': 7.194718}, {'Date': '15/03/2000', 'Open': 22.975517, 'High': 23.423094, 'Low': 22.895948, 'Close': 23.383308, 'Adj Close': 7.322415}, {'Date': '16/03/2000', 'Open': 23.761261, 'High': 23.771208, 'Low': 23.17444, 'Close': 23.177423, 'Adj Close': 7.257941}, {'Date': '17/03/2000', 'Open': 23.563334, 'High': 23.563334, 'Low': 22.876057, 'Close': 22.876057, 'Adj Close': 7.163571}, {'Date': '20/03/2000', 'Open': 22.876057, 'High': 22.965572, 'Low': 22.746758, 'Close': 22.866112, 'Adj Close': 7.160458}, {'Date': '21/03/2000', 'Open': 22.876057, 'High': 22.876057, 'Low': 22.488159, 'Close': 22.547834, 'Adj Close': 7.060788}, {'Date': '22/03/2000', 'Open': 22.677135, 'High': 22.756704, 'Low': 22.527943, 'Close': 22.537889, 'Adj Close': 7.057676}, {'Date': '23/03/2000', 'Open': 22.655252, 'High': 22.726866, 'Low': 22.329021, 'Close': 22.428482, 'Adj Close': 7.023416}, {'Date': '24/03/2000', 'Open': 22.428482, 'High': 22.567728, 'Low': 22.239506, 'Close': 22.507055, 'Adj Close': 7.048021}]\n"
     ]
    }
   ],
   "source": [
    "cba_dict = df_cba.to_dict(orient='records')\n",
    "\n",
    "print(cba_dict)"
   ]
  },
  {
   "cell_type": "code",
   "execution_count": 7,
   "metadata": {},
   "outputs": [
    {
     "name": "stdout",
     "output_type": "stream",
     "text": [
      "<class 'pandas.core.frame.DataFrame'>\n",
      "Int64Index: 5682 entries, 0 to 5681\n",
      "Data columns (total 7 columns):\n",
      " #   Column     Non-Null Count  Dtype  \n",
      "---  ------     --------------  -----  \n",
      " 0   Date       5682 non-null   object \n",
      " 1   Open       5682 non-null   float64\n",
      " 2   High       5682 non-null   float64\n",
      " 3   Low        5682 non-null   float64\n",
      " 4   Close      5682 non-null   float64\n",
      " 5   Adj Close  5682 non-null   float64\n",
      " 6   Volume     5682 non-null   int64  \n",
      "dtypes: float64(5), int64(1), object(1)\n",
      "memory usage: 355.1+ KB\n"
     ]
    }
   ],
   "source": [
    "df.info()\n"
   ]
  },
  {
   "cell_type": "code",
   "execution_count": 8,
   "metadata": {},
   "outputs": [
    {
     "data": {
      "text/plain": [
       "(5682, 1)"
      ]
     },
     "execution_count": 8,
     "metadata": {},
     "output_type": "execute_result"
    }
   ],
   "source": [
    "data = df.filter(['Close'])\n",
    "dataset = data.values\n",
    "dataset.shape\n"
   ]
  },
  {
   "cell_type": "markdown",
   "metadata": {},
   "source": [
    "# # Pre-processing : Scale the data using the MinMaxScaler and split train data"
   ]
  },
  {
   "cell_type": "code",
   "execution_count": 9,
   "metadata": {},
   "outputs": [
    {
     "data": {
      "text/plain": [
       "(4546, 1)"
      ]
     },
     "execution_count": 9,
     "metadata": {},
     "output_type": "execute_result"
    }
   ],
   "source": [
    "# Scale your data\n",
    "from sklearn.preprocessing import MinMaxScaler\n",
    "\n",
    "scaler = MinMaxScaler(feature_range=(0,1))\n",
    "dataset_scaled = scaler.fit_transform(dataset)\n",
    "\n",
    "# Split into train or test\n",
    "import math\n",
    "train_data_len = math.ceil(len(dataset)*.8)\n",
    "train_data = dataset_scaled[0:train_data_len,:]\n",
    "train_data.shape\n"
   ]
  },
  {
   "cell_type": "code",
   "execution_count": 10,
   "metadata": {},
   "outputs": [
    {
     "name": "stdout",
     "output_type": "stream",
     "text": [
      "[array([0.04184307, 0.03844119, 0.03186422, 0.02619443, 0.02902934,\n",
      "       0.03583307, 0.03112717, 0.0329982 , 0.03073027, 0.03450637,\n",
      "       0.0379876 , 0.03712579, 0.03129727, 0.03469913, 0.03390536,\n",
      "       0.03469913, 0.0329982 , 0.0329982 , 0.03776081, 0.04218326,\n",
      "       0.04036892, 0.03544755, 0.03531146, 0.03016329, 0.03424555,\n",
      "       0.03549291, 0.03408679, 0.03696705, 0.04090187, 0.0449728 ,\n",
      "       0.04610676, 0.05227547, 0.04921377, 0.04036892, 0.04110597,\n",
      "       0.03708043, 0.0399607 , 0.04127609, 0.03932567, 0.03889476,\n",
      "       0.03056017, 0.02780467, 0.03696705, 0.03526612, 0.03062821,\n",
      "       0.02789536, 0.0244935 , 0.0244935 , 0.0244935 , 0.00521622,\n",
      "       0.00657697, 0.00635016, 0.01099939, 0.0086521 , 0.00521622,\n",
      "       0.00510283, 0.00147414, 0.00136076, 0.00011341, 0.00100922])]\n",
      "[0.002086477591719982]\n"
     ]
    }
   ],
   "source": [
    "X_train = []\n",
    "y_train = []\n",
    "\n",
    "for i in range (60, len(train_data)):\n",
    "    X_train.append(train_data[i-60:i,0]) # contains 60 values\n",
    "    y_train.append(train_data[i,0])   # contains 61st value\n",
    "    if i<= 60:\n",
    "        print(X_train)\n",
    "        print(y_train) \n"
   ]
  },
  {
   "cell_type": "markdown",
   "metadata": {},
   "source": [
    "# Prepare train data for LSTM model"
   ]
  },
  {
   "cell_type": "code",
   "execution_count": 11,
   "metadata": {},
   "outputs": [
    {
     "data": {
      "text/plain": [
       "(4486, 60)"
      ]
     },
     "execution_count": 11,
     "metadata": {},
     "output_type": "execute_result"
    }
   ],
   "source": [
    "# Convert list to numpy array for LSTM model:\n",
    "X_train, y_train = np.array(X_train), np.array(y_train)\n",
    "X_train.shape"
   ]
  },
  {
   "cell_type": "code",
   "execution_count": 12,
   "metadata": {},
   "outputs": [
    {
     "data": {
      "text/plain": [
       "(4486, 60, 1)"
      ]
     },
     "execution_count": 12,
     "metadata": {},
     "output_type": "execute_result"
    }
   ],
   "source": [
    "# LSTM model expects 3D, reshape:\n",
    "X_train = np.reshape(X_train, (X_train.shape[0], X_train.shape[1], 1))\n",
    "X_train.shape"
   ]
  },
  {
   "cell_type": "markdown",
   "metadata": {},
   "source": [
    "# Build the LSTM model"
   ]
  },
  {
   "cell_type": "code",
   "execution_count": 13,
   "metadata": {},
   "outputs": [],
   "source": [
    "from tensorflow.keras.models import Sequential\n",
    "from tensorflow.keras.layers import Dense, LSTM\n",
    "model = Sequential()\n",
    "model.add(LSTM(50, return_sequences=True, input_shape=(X_train.shape[1], 1)))\n",
    "model.add(LSTM(50, return_sequences=False))\n",
    "model.add(Dense(25))\n",
    "model.add(Dense(1))"
   ]
  },
  {
   "cell_type": "code",
   "execution_count": 14,
   "metadata": {},
   "outputs": [],
   "source": [
    "model.compile(optimizer='adam', loss='mean_squared_error')"
   ]
  },
  {
   "cell_type": "code",
   "execution_count": 15,
   "metadata": {},
   "outputs": [
    {
     "name": "stdout",
     "output_type": "stream",
     "text": [
      "4486/4486 [==============================] - 64s 14ms/step - loss: 6.6732e-04\n"
     ]
    },
    {
     "data": {
      "text/plain": [
       "<keras.callbacks.History at 0x266f2f56190>"
      ]
     },
     "execution_count": 15,
     "metadata": {},
     "output_type": "execute_result"
    }
   ],
   "source": [
    "model.fit(X_train, y_train, batch_size=1, epochs=1)"
   ]
  },
  {
   "cell_type": "code",
   "execution_count": 16,
   "metadata": {},
   "outputs": [],
   "source": [
    "#Create test data\n",
    "test_data = dataset_scaled[train_data_len-60:,:]\n",
    "X_test = []\n",
    "y_test = dataset[train_data_len:,:]\n",
    "for i in range(60, len(test_data)):\n",
    " X_test.append(test_data[i-60:i,0])"
   ]
  },
  {
   "cell_type": "code",
   "execution_count": 17,
   "metadata": {},
   "outputs": [],
   "source": [
    "#Covert test data to a numpy array and reshape\n",
    "X_test = np.array(X_test)\n",
    "X_test = np.reshape(X_test, (X_test.shape[0],X_test.shape[1],1))"
   ]
  },
  {
   "cell_type": "code",
   "execution_count": 18,
   "metadata": {},
   "outputs": [],
   "source": [
    "#Get predicted prices\n",
    "predictions_lstm = model.predict(X_test)\n",
    "predictions = scaler.inverse_transform(predictions_lstm)"
   ]
  },
  {
   "cell_type": "code",
   "execution_count": 19,
   "metadata": {},
   "outputs": [
    {
     "data": {
      "text/plain": [
       "0.7922983428338277"
      ]
     },
     "execution_count": 19,
     "metadata": {},
     "output_type": "execute_result"
    }
   ],
   "source": [
    "#Get the root mean square error (RMSE) 0 being most favourable\n",
    "rmse = np.sqrt(np.mean(predictions-y_test)**2)\n",
    "rmse"
   ]
  },
  {
   "cell_type": "code",
   "execution_count": 20,
   "metadata": {},
   "outputs": [],
   "source": [
    "# date_time = df[\"Date\"]\n",
    "# date_time = pd.to_datetime(date_time)\n",
    "# data = data.set_index(date_time)"
   ]
  },
  {
   "cell_type": "markdown",
   "metadata": {},
   "source": []
  },
  {
   "cell_type": "code",
   "execution_count": 21,
   "metadata": {},
   "outputs": [
    {
     "name": "stderr",
     "output_type": "stream",
     "text": [
      "C:\\Users\\antoi\\AppData\\Local\\Temp/ipykernel_39516/2169877764.py:5: SettingWithCopyWarning: \n",
      "A value is trying to be set on a copy of a slice from a DataFrame.\n",
      "Try using .loc[row_indexer,col_indexer] = value instead\n",
      "\n",
      "See the caveats in the documentation: https://pandas.pydata.org/pandas-docs/stable/user_guide/indexing.html#returning-a-view-versus-a-copy\n",
      "  valid['Predictions'] = predictions # another column for validating test\n"
     ]
    },
    {
     "data": {
      "image/png": "[encoded data removed]",
      "text/plain": [
       "<Figure size 1152x576 with 1 Axes>"
      ]
     },
     "metadata": {},
     "output_type": "display_data"
    }
   ],
   "source": [
    "#Plot the data to validate the test data\n",
    "plt.style.use('fivethirtyeight')\n",
    "train = data.iloc[:train_data_len] # actual train data from 0 rows until train data end\n",
    "valid = data.iloc[train_data_len:] # actual test data from train data end until end of all sampled data\n",
    "valid['Predictions'] = predictions # another column for validating test\n",
    "\n",
    "plt.figure(figsize=(16,8))\n",
    "plt.title('CBA LSTM Model')\n",
    "plt.xlabel('Trading Day - 01/01/2000 to date', fontsize=18)\n",
    "plt.ylabel('Close Price AUD ($)',fontsize=18)\n",
    "plt.plot(train['Close'])\n",
    "plt.plot(valid[['Close','Predictions']])\n",
    "plt.legend(['Training','Validated','Tested'],loc='lower right')\n",
    "x = np.arange(2000,2024,4)\n",
    "plt.xticks([0,1000,2000,3000,4000,5000],x)\n",
    "plt.show()\n"
   ]
  },
  {
   "cell_type": "markdown",
   "metadata": {},
   "source": [
    "# Test data Predictions on the Model"
   ]
  },
  {
   "cell_type": "code",
   "execution_count": 22,
   "metadata": {},
   "outputs": [
    {
     "name": "stderr",
     "output_type": "stream",
     "text": [
      "C:\\Users\\antoi\\AppData\\Local\\Temp/ipykernel_39516/3952761259.py:1: SettingWithCopyWarning: \n",
      "A value is trying to be set on a copy of a slice from a DataFrame.\n",
      "Try using .loc[row_indexer,col_indexer] = value instead\n",
      "\n",
      "See the caveats in the documentation: https://pandas.pydata.org/pandas-docs/stable/user_guide/indexing.html#returning-a-view-versus-a-copy\n",
      "  valid['Difference']= valid['Close']-valid['Predictions']\n"
     ]
    },
    {
     "data": {
      "text/html": [
       "<div>\n",
       "<style scoped>\n",
       "    .dataframe tbody tr th:only-of-type {\n",
       "        vertical-align: middle;\n",
       "    }\n",
       "\n",
       "    .dataframe tbody tr th {\n",
       "        vertical-align: top;\n",
       "    }\n",
       "\n",
       "    .dataframe thead th {\n",
       "        text-align: right;\n",
       "    }\n",
       "</style>\n",
       "<table border=\"1\" class=\"dataframe\">\n",
       "  <thead>\n",
       "    <tr style=\"text-align: right;\">\n",
       "      <th></th>\n",
       "      <th>Close</th>\n",
       "      <th>Predictions</th>\n",
       "      <th>Difference</th>\n",
       "    </tr>\n",
       "  </thead>\n",
       "  <tbody>\n",
       "    <tr>\n",
       "      <th>4546</th>\n",
       "      <td>77.669998</td>\n",
       "      <td>79.148766</td>\n",
       "      <td>-1.478768</td>\n",
       "    </tr>\n",
       "    <tr>\n",
       "      <th>4547</th>\n",
       "      <td>77.410004</td>\n",
       "      <td>78.956192</td>\n",
       "      <td>-1.546188</td>\n",
       "    </tr>\n",
       "    <tr>\n",
       "      <th>4548</th>\n",
       "      <td>77.790001</td>\n",
       "      <td>78.775017</td>\n",
       "      <td>-0.985016</td>\n",
       "    </tr>\n",
       "    <tr>\n",
       "      <th>4549</th>\n",
       "      <td>77.400002</td>\n",
       "      <td>78.755302</td>\n",
       "      <td>-1.355300</td>\n",
       "    </tr>\n",
       "    <tr>\n",
       "      <th>4550</th>\n",
       "      <td>78.199997</td>\n",
       "      <td>78.693817</td>\n",
       "      <td>-0.493820</td>\n",
       "    </tr>\n",
       "    <tr>\n",
       "      <th>...</th>\n",
       "      <td>...</td>\n",
       "      <td>...</td>\n",
       "      <td>...</td>\n",
       "    </tr>\n",
       "    <tr>\n",
       "      <th>5677</th>\n",
       "      <td>105.370003</td>\n",
       "      <td>106.865349</td>\n",
       "      <td>-1.495346</td>\n",
       "    </tr>\n",
       "    <tr>\n",
       "      <th>5678</th>\n",
       "      <td>104.750000</td>\n",
       "      <td>106.395714</td>\n",
       "      <td>-1.645714</td>\n",
       "    </tr>\n",
       "    <tr>\n",
       "      <th>5679</th>\n",
       "      <td>103.000000</td>\n",
       "      <td>105.670380</td>\n",
       "      <td>-2.670380</td>\n",
       "    </tr>\n",
       "    <tr>\n",
       "      <th>5680</th>\n",
       "      <td>103.230003</td>\n",
       "      <td>104.609566</td>\n",
       "      <td>-1.379563</td>\n",
       "    </tr>\n",
       "    <tr>\n",
       "      <th>5681</th>\n",
       "      <td>103.880000</td>\n",
       "      <td>103.869217</td>\n",
       "      <td>0.010783</td>\n",
       "    </tr>\n",
       "  </tbody>\n",
       "</table>\n",
       "<p>1136 rows × 3 columns</p>\n",
       "</div>"
      ],
      "text/plain": [
       "           Close  Predictions  Difference\n",
       "4546   77.669998    79.148766   -1.478768\n",
       "4547   77.410004    78.956192   -1.546188\n",
       "4548   77.790001    78.775017   -0.985016\n",
       "4549   77.400002    78.755302   -1.355300\n",
       "4550   78.199997    78.693817   -0.493820\n",
       "...          ...          ...         ...\n",
       "5677  105.370003   106.865349   -1.495346\n",
       "5678  104.750000   106.395714   -1.645714\n",
       "5679  103.000000   105.670380   -2.670380\n",
       "5680  103.230003   104.609566   -1.379563\n",
       "5681  103.880000   103.869217    0.010783\n",
       "\n",
       "[1136 rows x 3 columns]"
      ]
     },
     "execution_count": 22,
     "metadata": {},
     "output_type": "execute_result"
    }
   ],
   "source": [
    "valid['Difference']= valid['Close']-valid['Predictions']\n",
    "valid"
   ]
  },
  {
   "cell_type": "code",
   "execution_count": 23,
   "metadata": {},
   "outputs": [],
   "source": [
    "#Get latest 60 quotes less 1 to predict:\n",
    "\n",
    "#import pandas_datareader.data as web\n",
    "#symbol = 'CBA.AX'\n",
    "#stock_quote = web.DataReader(symbol,data_source='yahoo',start='2022-01-01', end='2022-04-13')\n",
    "#stock_quotes_sixty = stock_quotes_sixty.filter(['Close'])\n",
    "#stock_quotes_sixty\n",
    "#OR use csv data "
   ]
  },
  {
   "cell_type": "code",
   "execution_count": 24,
   "metadata": {},
   "outputs": [
    {
     "data": {
      "text/plain": [
       "(60, 1)"
      ]
     },
     "execution_count": 24,
     "metadata": {},
     "output_type": "execute_result"
    }
   ],
   "source": [
    "# Use last 60 days price on model to predict next days price\n",
    "stock_quotes_sixty = df_stock_less1.tail(60)\n",
    "stock_close_sixty = stock_quotes_sixty['Close']\n",
    "last_60_days_val = stock_close_sixty[-60:].values\n",
    "last_60_days = last_60_days_val.reshape(-1,1)\n",
    "last_60_days.shape"
   ]
  },
  {
   "cell_type": "code",
   "execution_count": 25,
   "metadata": {},
   "outputs": [
    {
     "data": {
      "text/plain": [
       "(1, 60, 1)"
      ]
     },
     "execution_count": 25,
     "metadata": {},
     "output_type": "execute_result"
    }
   ],
   "source": [
    "last_60_days_scaled = scaler.transform(last_60_days)\n",
    "X_tell = []\n",
    "X_tell.append(last_60_days_scaled)\n",
    "X_tell =np.array(X_tell)\n",
    "X_tell =np.reshape(X_tell, (X_tell.shape[0], X_tell.shape[1],1))\n",
    "X_tell.shape"
   ]
  },
  {
   "cell_type": "code",
   "execution_count": 26,
   "metadata": {},
   "outputs": [
    {
     "name": "stdout",
     "output_type": "stream",
     "text": [
      "Predicted next day share price 103\n"
     ]
    }
   ],
   "source": [
    "pred_price = model.predict(X_tell)\n",
    "pred_price = scaler.inverse_transform(pred_price)\n",
    "pred_price = int(pred_price)\n",
    "print(f'Predicted next day share price {pred_price}')"
   ]
  },
  {
   "cell_type": "code",
   "execution_count": 27,
   "metadata": {},
   "outputs": [
    {
     "data": {
      "text/html": [
       "<div>\n",
       "<style scoped>\n",
       "    .dataframe tbody tr th:only-of-type {\n",
       "        vertical-align: middle;\n",
       "    }\n",
       "\n",
       "    .dataframe tbody tr th {\n",
       "        vertical-align: top;\n",
       "    }\n",
       "\n",
       "    .dataframe thead th {\n",
       "        text-align: right;\n",
       "    }\n",
       "</style>\n",
       "<table border=\"1\" class=\"dataframe\">\n",
       "  <thead>\n",
       "    <tr style=\"text-align: right;\">\n",
       "      <th></th>\n",
       "      <th>Date</th>\n",
       "      <th>Open</th>\n",
       "      <th>High</th>\n",
       "      <th>Low</th>\n",
       "      <th>Close</th>\n",
       "      <th>Adj Close</th>\n",
       "      <th>Volume</th>\n",
       "      <th>SENTIMENT</th>\n",
       "      <th>RBA</th>\n",
       "      <th>FED</th>\n",
       "    </tr>\n",
       "  </thead>\n",
       "  <tbody>\n",
       "    <tr>\n",
       "      <th>5682</th>\n",
       "      <td>2/05/2022</td>\n",
       "      <td>103.1</td>\n",
       "      <td>103.35</td>\n",
       "      <td>102.27</td>\n",
       "      <td>102.97</td>\n",
       "      <td>102.97</td>\n",
       "      <td>1289117</td>\n",
       "      <td>NEUTRAL</td>\n",
       "      <td>0.05</td>\n",
       "      <td>0.08</td>\n",
       "    </tr>\n",
       "  </tbody>\n",
       "</table>\n",
       "</div>"
      ],
      "text/plain": [
       "           Date   Open    High     Low   Close  Adj Close   Volume SENTIMENT  \\\n",
       "5682  2/05/2022  103.1  103.35  102.27  102.97     102.97  1289117   NEUTRAL   \n",
       "\n",
       "       RBA   FED  \n",
       "5682  0.05  0.08  "
      ]
     },
     "execution_count": 27,
     "metadata": {},
     "output_type": "execute_result"
    }
   ],
   "source": [
    "#stock_quote_acual = web.DataReader('CBA.AX',data_source='yahoo',start='2022-04-14', end='2022-04-14')\n",
    "#OR get last quote from latest csv\n",
    "stock_quote_last_one = df_stock1.tail(1)\n",
    "stock_quote_last_one"
   ]
  },
  {
   "cell_type": "code",
   "execution_count": 28,
   "metadata": {},
   "outputs": [
    {
     "data": {
      "text/plain": [
       "'2/05/2022'"
      ]
     },
     "execution_count": 28,
     "metadata": {},
     "output_type": "execute_result"
    }
   ],
   "source": [
    "#save actual to variable\n",
    "actual_price = stock_quote_last_one.iloc[0,4]\n",
    "actual_date = stock_quote_last_one.iloc[0,0] \n",
    "actual_price = int(actual_price)\n",
    "actual_price\n",
    "actual_date"
   ]
  },
  {
   "cell_type": "markdown",
   "metadata": {},
   "source": [
    "# Save the Model"
   ]
  },
  {
   "cell_type": "code",
   "execution_count": 29,
   "metadata": {},
   "outputs": [],
   "source": [
    "# Save the entire model to a HDF5 file.\n",
    "# The '.h5' extension indicates that the model should be saved to HDF5.\n",
    "filepath = '../static/cba_model.sav'\n",
    "model.save(filepath, save_format=\"h5\")"
   ]
  },
  {
   "cell_type": "markdown",
   "metadata": {},
   "source": [
    "#Save last 60 days to a list cba_sixty and load df"
   ]
  },
  {
   "cell_type": "code",
   "execution_count": 30,
   "metadata": {},
   "outputs": [
    {
     "data": {
      "text/html": [
       "<div>\n",
       "<style scoped>\n",
       "    .dataframe tbody tr th:only-of-type {\n",
       "        vertical-align: middle;\n",
       "    }\n",
       "\n",
       "    .dataframe tbody tr th {\n",
       "        vertical-align: top;\n",
       "    }\n",
       "\n",
       "    .dataframe thead th {\n",
       "        text-align: right;\n",
       "    }\n",
       "</style>\n",
       "<table border=\"1\" class=\"dataframe\">\n",
       "  <thead>\n",
       "    <tr style=\"text-align: right;\">\n",
       "      <th></th>\n",
       "      <th>93.073547</th>\n",
       "    </tr>\n",
       "  </thead>\n",
       "  <tbody>\n",
       "    <tr>\n",
       "      <th>55</th>\n",
       "      <td>104.750000</td>\n",
       "    </tr>\n",
       "    <tr>\n",
       "      <th>56</th>\n",
       "      <td>103.000000</td>\n",
       "    </tr>\n",
       "    <tr>\n",
       "      <th>57</th>\n",
       "      <td>103.230003</td>\n",
       "    </tr>\n",
       "    <tr>\n",
       "      <th>58</th>\n",
       "      <td>103.880000</td>\n",
       "    </tr>\n",
       "    <tr>\n",
       "      <th>59</th>\n",
       "      <td>102.970000</td>\n",
       "    </tr>\n",
       "  </tbody>\n",
       "</table>\n",
       "</div>"
      ],
      "text/plain": [
       "     93.073547\n",
       "55  104.750000\n",
       "56  103.000000\n",
       "57  103.230003\n",
       "58  103.880000\n",
       "59  102.970000"
      ]
     },
     "execution_count": 30,
     "metadata": {},
     "output_type": "execute_result"
    }
   ],
   "source": [
    "# Read in the CSV file\n",
    "df_cba_sixty = pd.read_csv(\"../static/data/cba_sixty.csv\")\n",
    "df_cba_sixty.tail()"
   ]
  },
  {
   "cell_type": "code",
   "execution_count": 31,
   "metadata": {},
   "outputs": [
    {
     "data": {
      "text/plain": [
       "(60, 1)"
      ]
     },
     "execution_count": 31,
     "metadata": {},
     "output_type": "execute_result"
    }
   ],
   "source": [
    "close_sixty_val = df_cba_sixty[-60:].values\n",
    "last_sixty = close_sixty_val.reshape(-1,1)\n",
    "last_sixty.shape"
   ]
  },
  {
   "cell_type": "code",
   "execution_count": 32,
   "metadata": {},
   "outputs": [
    {
     "data": {
      "text/plain": [
       "(1, 60, 1)"
      ]
     },
     "execution_count": 32,
     "metadata": {},
     "output_type": "execute_result"
    }
   ],
   "source": [
    "last_sixty_scaled = scaler.transform(last_sixty)\n",
    "new_X_tell = []\n",
    "new_X_tell.append(last_sixty_scaled)\n",
    "new_X_tell =np.array(new_X_tell)\n",
    "new_X_tell =np.reshape(new_X_tell, (new_X_tell.shape[0], new_X_tell.shape[1],1))\n",
    "new_X_tell.shape"
   ]
  },
  {
   "cell_type": "code",
   "execution_count": 33,
   "metadata": {},
   "outputs": [],
   "source": [
    "#PREDICT USING LOADED MODEL"
   ]
  },
  {
   "cell_type": "code",
   "execution_count": 34,
   "metadata": {},
   "outputs": [],
   "source": [
    "from keras.models import load_model"
   ]
  },
  {
   "cell_type": "code",
   "execution_count": 35,
   "metadata": {},
   "outputs": [],
   "source": [
    "model_in = load_model('../static/cba_model.sav')"
   ]
  },
  {
   "cell_type": "code",
   "execution_count": 36,
   "metadata": {},
   "outputs": [
    {
     "data": {
      "text/plain": [
       "array([[0.9231881]], dtype=float32)"
      ]
     },
     "execution_count": 36,
     "metadata": {},
     "output_type": "execute_result"
    }
   ],
   "source": [
    "model_in_pd_scale = model_in.predict(new_X_tell)\n",
    "model_in_pd_scale"
   ]
  },
  {
   "cell_type": "code",
   "execution_count": 37,
   "metadata": {},
   "outputs": [
    {
     "name": "stdout",
     "output_type": "stream",
     "text": [
      "Predicted next day share price [[103.392715]]\n"
     ]
    }
   ],
   "source": [
    "model_in_price = scaler.inverse_transform(model_in_pd_scale)\n",
    "#model_in_price_int = int(model_in_price)\n",
    "print(f'Predicted next day share price {model_in_price}')"
   ]
  },
  {
   "cell_type": "code",
   "execution_count": 38,
   "metadata": {},
   "outputs": [
    {
     "data": {
      "text/plain": [
       "(59, 1)"
      ]
     },
     "execution_count": 38,
     "metadata": {},
     "output_type": "execute_result"
    }
   ],
   "source": [
    "last_sixty_less_one = np.delete(last_sixty, 0, 0)\n",
    "last_sixty_less_one.shape"
   ]
  },
  {
   "cell_type": "code",
   "execution_count": 39,
   "metadata": {},
   "outputs": [
    {
     "data": {
      "text/plain": [
       "(60, 1)"
      ]
     },
     "execution_count": 39,
     "metadata": {},
     "output_type": "execute_result"
    }
   ],
   "source": [
    "last_sixty = np.append(last_sixty_less_one, model_in_price,axis = 0)\n",
    "last_sixty.shape"
   ]
  },
  {
   "cell_type": "markdown",
   "metadata": {},
   "source": [
    "#Create a function to loop through the days input"
   ]
  },
  {
   "cell_type": "code",
   "execution_count": 40,
   "metadata": {},
   "outputs": [],
   "source": [
    "from keras.models import load_model\n",
    "model_in = load_model('../static/cba_model.sav')\n",
    "from sklearn.preprocessing import MinMaxScaler\n",
    "scaler = MinMaxScaler(feature_range=(0,1))\n",
    "# Read in the CSV file\n",
    "df_cba_sixty = pd.read_csv(\"../static/data/cba_sixty.csv\")\n",
    "\n",
    "close_sixty_val = df_cba_sixty[-60:].values\n",
    "last_sixty = close_sixty_val.reshape(-1,1)\n",
    "\n",
    "price_list=[]\n",
    "\n",
    "#Function to predict future days predicted price, in loop\n",
    "input = 10 #days\n",
    "if input == \"\":\n",
    "    input = 200\n",
    "else:\n",
    "   input = int(input)\n",
    "\n",
    "def predict_cba(last_sixty,model_in,input):\n",
    "    for i in range(0, input):\n",
    "\n",
    "        #Takes df and converts to model's predict shape\n",
    "        last_sixty_scaled = scaler.fit_transform(last_sixty)\n",
    "        new_X_tell = []\n",
    "        new_X_tell.append(last_sixty_scaled)\n",
    "        new_X_tell =np.array(new_X_tell)\n",
    "        new_X_tell =np.reshape(new_X_tell, (new_X_tell.shape[0], new_X_tell.shape[1],1))\n",
    "        \n",
    "        model_in_pd_scale = model_in.predict(new_X_tell)\n",
    "        model_in_price = scaler.inverse_transform(model_in_pd_scale) # New price predicted\n",
    "\n",
    "        last_sixty_less_one = np.delete(last_sixty, 0, 0)\n",
    "        last_sixty = np.append(last_sixty_less_one, model_in_price,axis = 0) # Update last 60\n",
    "        print(i)\n",
    "        print(\"Day finished! Price: \")\n",
    "        price_float = float(model_in_price)\n",
    "        price = round(price_float, 2)\n",
    "        price_list.append(price)\n",
    "    else:\n",
    "        print(\"Could not predict further!\")\n",
    "        print(input)\n",
    "    print(price_list)\n",
    "   "
   ]
  },
  {
   "cell_type": "code",
   "execution_count": 41,
   "metadata": {},
   "outputs": [
    {
     "name": "stdout",
     "output_type": "stream",
     "text": [
      "0\n",
      "Day finished! Price: \n",
      "1\n",
      "Day finished! Price: \n",
      "2\n",
      "Day finished! Price: \n",
      "3\n",
      "Day finished! Price: \n",
      "4\n",
      "Day finished! Price: \n",
      "5\n",
      "Day finished! Price: \n",
      "6\n",
      "Day finished! Price: \n",
      "7\n",
      "Day finished! Price: \n",
      "8\n",
      "Day finished! Price: \n",
      "9\n",
      "Day finished! Price: \n",
      "Could not predict further!\n",
      "10\n",
      "[103.75, 103.78, 103.9, 104.04, 104.18, 104.31, 104.42, 104.51, 104.58, 104.64]\n"
     ]
    }
   ],
   "source": [
    "predict_cba(last_sixty,model_in,input)"
   ]
  },
  {
   "cell_type": "code",
   "execution_count": 42,
   "metadata": {},
   "outputs": [
    {
     "ename": "FileNotFoundError",
     "evalue": "[Errno 2] No such file or directory: '../static/data/dates.csv'",
     "output_type": "error",
     "traceback": [
      "\u001b[1;31m---------------------------------------------------------------------------\u001b[0m",
      "\u001b[1;31mFileNotFoundError\u001b[0m                         Traceback (most recent call last)",
      "\u001b[1;32m~\\AppData\\Local\\Temp/ipykernel_39516/428044280.py\u001b[0m in \u001b[0;36m<module>\u001b[1;34m\u001b[0m\n\u001b[0;32m      1\u001b[0m \u001b[1;32mimport\u001b[0m \u001b[0mpandas\u001b[0m \u001b[1;32mas\u001b[0m \u001b[0mpd\u001b[0m\u001b[1;33m\u001b[0m\u001b[1;33m\u001b[0m\u001b[0m\n\u001b[1;32m----> 2\u001b[1;33m \u001b[0mdates_df\u001b[0m \u001b[1;33m=\u001b[0m \u001b[0mpd\u001b[0m\u001b[1;33m.\u001b[0m\u001b[0mread_csv\u001b[0m\u001b[1;33m(\u001b[0m\u001b[1;34m\"../static/data/dates.csv\"\u001b[0m\u001b[1;33m)\u001b[0m\u001b[1;33m\u001b[0m\u001b[1;33m\u001b[0m\u001b[0m\n\u001b[0m\u001b[0;32m      3\u001b[0m \u001b[0mdates_df\u001b[0m\u001b[1;33m[\u001b[0m\u001b[1;34m'Count'\u001b[0m\u001b[1;33m]\u001b[0m \u001b[1;33m=\u001b[0m \u001b[0mdates_df\u001b[0m\u001b[1;33m[\u001b[0m\u001b[1;34m'Count'\u001b[0m\u001b[1;33m]\u001b[0m\u001b[1;33m.\u001b[0m\u001b[0mfillna\u001b[0m\u001b[1;33m(\u001b[0m\u001b[1;36m0\u001b[0m\u001b[1;33m)\u001b[0m\u001b[1;33m.\u001b[0m\u001b[0mastype\u001b[0m\u001b[1;33m(\u001b[0m\u001b[0mint\u001b[0m\u001b[1;33m)\u001b[0m\u001b[1;33m\u001b[0m\u001b[1;33m\u001b[0m\u001b[0m\n\u001b[0;32m      4\u001b[0m \u001b[0mdates_df\u001b[0m\u001b[1;33m\u001b[0m\u001b[1;33m\u001b[0m\u001b[0m\n",
      "\u001b[1;32m~\\anaconda3\\lib\\site-packages\\pandas\\util\\_decorators.py\u001b[0m in \u001b[0;36mwrapper\u001b[1;34m(*args, **kwargs)\u001b[0m\n\u001b[0;32m    309\u001b[0m                     \u001b[0mstacklevel\u001b[0m\u001b[1;33m=\u001b[0m\u001b[0mstacklevel\u001b[0m\u001b[1;33m,\u001b[0m\u001b[1;33m\u001b[0m\u001b[1;33m\u001b[0m\u001b[0m\n\u001b[0;32m    310\u001b[0m                 )\n\u001b[1;32m--> 311\u001b[1;33m             \u001b[1;32mreturn\u001b[0m \u001b[0mfunc\u001b[0m\u001b[1;33m(\u001b[0m\u001b[1;33m*\u001b[0m\u001b[0margs\u001b[0m\u001b[1;33m,\u001b[0m \u001b[1;33m**\u001b[0m\u001b[0mkwargs\u001b[0m\u001b[1;33m)\u001b[0m\u001b[1;33m\u001b[0m\u001b[1;33m\u001b[0m\u001b[0m\n\u001b[0m\u001b[0;32m    312\u001b[0m \u001b[1;33m\u001b[0m\u001b[0m\n\u001b[0;32m    313\u001b[0m         \u001b[1;32mreturn\u001b[0m \u001b[0mwrapper\u001b[0m\u001b[1;33m\u001b[0m\u001b[1;33m\u001b[0m\u001b[0m\n",
      "\u001b[1;32m~\\anaconda3\\lib\\site-packages\\pandas\\io\\parsers\\readers.py\u001b[0m in \u001b[0;36mread_csv\u001b[1;34m(filepath_or_buffer, sep, delimiter, header, names, index_col, usecols, squeeze, prefix, mangle_dupe_cols, dtype, engine, converters, true_values, false_values, skipinitialspace, skiprows, skipfooter, nrows, na_values, keep_default_na, na_filter, verbose, skip_blank_lines, parse_dates, infer_datetime_format, keep_date_col, date_parser, dayfirst, cache_dates, iterator, chunksize, compression, thousands, decimal, lineterminator, quotechar, quoting, doublequote, escapechar, comment, encoding, encoding_errors, dialect, error_bad_lines, warn_bad_lines, on_bad_lines, delim_whitespace, low_memory, memory_map, float_precision, storage_options)\u001b[0m\n\u001b[0;32m    584\u001b[0m     \u001b[0mkwds\u001b[0m\u001b[1;33m.\u001b[0m\u001b[0mupdate\u001b[0m\u001b[1;33m(\u001b[0m\u001b[0mkwds_defaults\u001b[0m\u001b[1;33m)\u001b[0m\u001b[1;33m\u001b[0m\u001b[1;33m\u001b[0m\u001b[0m\n\u001b[0;32m    585\u001b[0m \u001b[1;33m\u001b[0m\u001b[0m\n\u001b[1;32m--> 586\u001b[1;33m     \u001b[1;32mreturn\u001b[0m \u001b[0m_read\u001b[0m\u001b[1;33m(\u001b[0m\u001b[0mfilepath_or_buffer\u001b[0m\u001b[1;33m,\u001b[0m \u001b[0mkwds\u001b[0m\u001b[1;33m)\u001b[0m\u001b[1;33m\u001b[0m\u001b[1;33m\u001b[0m\u001b[0m\n\u001b[0m\u001b[0;32m    587\u001b[0m \u001b[1;33m\u001b[0m\u001b[0m\n\u001b[0;32m    588\u001b[0m \u001b[1;33m\u001b[0m\u001b[0m\n",
      "\u001b[1;32m~\\anaconda3\\lib\\site-packages\\pandas\\io\\parsers\\readers.py\u001b[0m in \u001b[0;36m_read\u001b[1;34m(filepath_or_buffer, kwds)\u001b[0m\n\u001b[0;32m    480\u001b[0m \u001b[1;33m\u001b[0m\u001b[0m\n\u001b[0;32m    481\u001b[0m     \u001b[1;31m# Create the parser.\u001b[0m\u001b[1;33m\u001b[0m\u001b[1;33m\u001b[0m\u001b[0m\n\u001b[1;32m--> 482\u001b[1;33m     \u001b[0mparser\u001b[0m \u001b[1;33m=\u001b[0m \u001b[0mTextFileReader\u001b[0m\u001b[1;33m(\u001b[0m\u001b[0mfilepath_or_buffer\u001b[0m\u001b[1;33m,\u001b[0m \u001b[1;33m**\u001b[0m\u001b[0mkwds\u001b[0m\u001b[1;33m)\u001b[0m\u001b[1;33m\u001b[0m\u001b[1;33m\u001b[0m\u001b[0m\n\u001b[0m\u001b[0;32m    483\u001b[0m \u001b[1;33m\u001b[0m\u001b[0m\n\u001b[0;32m    484\u001b[0m     \u001b[1;32mif\u001b[0m \u001b[0mchunksize\u001b[0m \u001b[1;32mor\u001b[0m \u001b[0miterator\u001b[0m\u001b[1;33m:\u001b[0m\u001b[1;33m\u001b[0m\u001b[1;33m\u001b[0m\u001b[0m\n",
      "\u001b[1;32m~\\anaconda3\\lib\\site-packages\\pandas\\io\\parsers\\readers.py\u001b[0m in \u001b[0;36m__init__\u001b[1;34m(self, f, engine, **kwds)\u001b[0m\n\u001b[0;32m    809\u001b[0m             \u001b[0mself\u001b[0m\u001b[1;33m.\u001b[0m\u001b[0moptions\u001b[0m\u001b[1;33m[\u001b[0m\u001b[1;34m\"has_index_names\"\u001b[0m\u001b[1;33m]\u001b[0m \u001b[1;33m=\u001b[0m \u001b[0mkwds\u001b[0m\u001b[1;33m[\u001b[0m\u001b[1;34m\"has_index_names\"\u001b[0m\u001b[1;33m]\u001b[0m\u001b[1;33m\u001b[0m\u001b[1;33m\u001b[0m\u001b[0m\n\u001b[0;32m    810\u001b[0m \u001b[1;33m\u001b[0m\u001b[0m\n\u001b[1;32m--> 811\u001b[1;33m         \u001b[0mself\u001b[0m\u001b[1;33m.\u001b[0m\u001b[0m_engine\u001b[0m \u001b[1;33m=\u001b[0m \u001b[0mself\u001b[0m\u001b[1;33m.\u001b[0m\u001b[0m_make_engine\u001b[0m\u001b[1;33m(\u001b[0m\u001b[0mself\u001b[0m\u001b[1;33m.\u001b[0m\u001b[0mengine\u001b[0m\u001b[1;33m)\u001b[0m\u001b[1;33m\u001b[0m\u001b[1;33m\u001b[0m\u001b[0m\n\u001b[0m\u001b[0;32m    812\u001b[0m \u001b[1;33m\u001b[0m\u001b[0m\n\u001b[0;32m    813\u001b[0m     \u001b[1;32mdef\u001b[0m \u001b[0mclose\u001b[0m\u001b[1;33m(\u001b[0m\u001b[0mself\u001b[0m\u001b[1;33m)\u001b[0m\u001b[1;33m:\u001b[0m\u001b[1;33m\u001b[0m\u001b[1;33m\u001b[0m\u001b[0m\n",
      "\u001b[1;32m~\\anaconda3\\lib\\site-packages\\pandas\\io\\parsers\\readers.py\u001b[0m in \u001b[0;36m_make_engine\u001b[1;34m(self, engine)\u001b[0m\n\u001b[0;32m   1038\u001b[0m             )\n\u001b[0;32m   1039\u001b[0m         \u001b[1;31m# error: Too many arguments for \"ParserBase\"\u001b[0m\u001b[1;33m\u001b[0m\u001b[1;33m\u001b[0m\u001b[0m\n\u001b[1;32m-> 1040\u001b[1;33m         \u001b[1;32mreturn\u001b[0m \u001b[0mmapping\u001b[0m\u001b[1;33m[\u001b[0m\u001b[0mengine\u001b[0m\u001b[1;33m]\u001b[0m\u001b[1;33m(\u001b[0m\u001b[0mself\u001b[0m\u001b[1;33m.\u001b[0m\u001b[0mf\u001b[0m\u001b[1;33m,\u001b[0m \u001b[1;33m**\u001b[0m\u001b[0mself\u001b[0m\u001b[1;33m.\u001b[0m\u001b[0moptions\u001b[0m\u001b[1;33m)\u001b[0m  \u001b[1;31m# type: ignore[call-arg]\u001b[0m\u001b[1;33m\u001b[0m\u001b[1;33m\u001b[0m\u001b[0m\n\u001b[0m\u001b[0;32m   1041\u001b[0m \u001b[1;33m\u001b[0m\u001b[0m\n\u001b[0;32m   1042\u001b[0m     \u001b[1;32mdef\u001b[0m \u001b[0m_failover_to_python\u001b[0m\u001b[1;33m(\u001b[0m\u001b[0mself\u001b[0m\u001b[1;33m)\u001b[0m\u001b[1;33m:\u001b[0m\u001b[1;33m\u001b[0m\u001b[1;33m\u001b[0m\u001b[0m\n",
      "\u001b[1;32m~\\anaconda3\\lib\\site-packages\\pandas\\io\\parsers\\c_parser_wrapper.py\u001b[0m in \u001b[0;36m__init__\u001b[1;34m(self, src, **kwds)\u001b[0m\n\u001b[0;32m     49\u001b[0m \u001b[1;33m\u001b[0m\u001b[0m\n\u001b[0;32m     50\u001b[0m         \u001b[1;31m# open handles\u001b[0m\u001b[1;33m\u001b[0m\u001b[1;33m\u001b[0m\u001b[0m\n\u001b[1;32m---> 51\u001b[1;33m         \u001b[0mself\u001b[0m\u001b[1;33m.\u001b[0m\u001b[0m_open_handles\u001b[0m\u001b[1;33m(\u001b[0m\u001b[0msrc\u001b[0m\u001b[1;33m,\u001b[0m \u001b[0mkwds\u001b[0m\u001b[1;33m)\u001b[0m\u001b[1;33m\u001b[0m\u001b[1;33m\u001b[0m\u001b[0m\n\u001b[0m\u001b[0;32m     52\u001b[0m         \u001b[1;32massert\u001b[0m \u001b[0mself\u001b[0m\u001b[1;33m.\u001b[0m\u001b[0mhandles\u001b[0m \u001b[1;32mis\u001b[0m \u001b[1;32mnot\u001b[0m \u001b[1;32mNone\u001b[0m\u001b[1;33m\u001b[0m\u001b[1;33m\u001b[0m\u001b[0m\n\u001b[0;32m     53\u001b[0m \u001b[1;33m\u001b[0m\u001b[0m\n",
      "\u001b[1;32m~\\anaconda3\\lib\\site-packages\\pandas\\io\\parsers\\base_parser.py\u001b[0m in \u001b[0;36m_open_handles\u001b[1;34m(self, src, kwds)\u001b[0m\n\u001b[0;32m    220\u001b[0m         \u001b[0mLet\u001b[0m \u001b[0mthe\u001b[0m \u001b[0mreaders\u001b[0m \u001b[0mopen\u001b[0m \u001b[0mIOHandles\u001b[0m \u001b[0mafter\u001b[0m \u001b[0mthey\u001b[0m \u001b[0mare\u001b[0m \u001b[0mdone\u001b[0m \u001b[1;32mwith\u001b[0m \u001b[0mtheir\u001b[0m \u001b[0mpotential\u001b[0m \u001b[0mraises\u001b[0m\u001b[1;33m.\u001b[0m\u001b[1;33m\u001b[0m\u001b[1;33m\u001b[0m\u001b[0m\n\u001b[0;32m    221\u001b[0m         \"\"\"\n\u001b[1;32m--> 222\u001b[1;33m         self.handles = get_handle(\n\u001b[0m\u001b[0;32m    223\u001b[0m             \u001b[0msrc\u001b[0m\u001b[1;33m,\u001b[0m\u001b[1;33m\u001b[0m\u001b[1;33m\u001b[0m\u001b[0m\n\u001b[0;32m    224\u001b[0m             \u001b[1;34m\"r\"\u001b[0m\u001b[1;33m,\u001b[0m\u001b[1;33m\u001b[0m\u001b[1;33m\u001b[0m\u001b[0m\n",
      "\u001b[1;32m~\\anaconda3\\lib\\site-packages\\pandas\\io\\common.py\u001b[0m in \u001b[0;36mget_handle\u001b[1;34m(path_or_buf, mode, encoding, compression, memory_map, is_text, errors, storage_options)\u001b[0m\n\u001b[0;32m    700\u001b[0m         \u001b[1;32mif\u001b[0m \u001b[0mioargs\u001b[0m\u001b[1;33m.\u001b[0m\u001b[0mencoding\u001b[0m \u001b[1;32mand\u001b[0m \u001b[1;34m\"b\"\u001b[0m \u001b[1;32mnot\u001b[0m \u001b[1;32min\u001b[0m \u001b[0mioargs\u001b[0m\u001b[1;33m.\u001b[0m\u001b[0mmode\u001b[0m\u001b[1;33m:\u001b[0m\u001b[1;33m\u001b[0m\u001b[1;33m\u001b[0m\u001b[0m\n\u001b[0;32m    701\u001b[0m             \u001b[1;31m# Encoding\u001b[0m\u001b[1;33m\u001b[0m\u001b[1;33m\u001b[0m\u001b[0m\n\u001b[1;32m--> 702\u001b[1;33m             handle = open(\n\u001b[0m\u001b[0;32m    703\u001b[0m                 \u001b[0mhandle\u001b[0m\u001b[1;33m,\u001b[0m\u001b[1;33m\u001b[0m\u001b[1;33m\u001b[0m\u001b[0m\n\u001b[0;32m    704\u001b[0m                 \u001b[0mioargs\u001b[0m\u001b[1;33m.\u001b[0m\u001b[0mmode\u001b[0m\u001b[1;33m,\u001b[0m\u001b[1;33m\u001b[0m\u001b[1;33m\u001b[0m\u001b[0m\n",
      "\u001b[1;31mFileNotFoundError\u001b[0m: [Errno 2] No such file or directory: '../static/data/dates.csv'"
     ]
    }
   ],
   "source": [
    "import pandas as pd\n",
    "dates_df = pd.read_csv(\"../static/data/dates.csv\")\n",
    "dates_df['Count'] = dates_df['Count'].fillna(0).astype(int)\n",
    "dates_df"
   ]
  },
  {
   "cell_type": "code",
   "execution_count": null,
   "metadata": {},
   "outputs": [
    {
     "data": {
      "text/html": [
       "<div>\n",
       "<style scoped>\n",
       "    .dataframe tbody tr th:only-of-type {\n",
       "        vertical-align: middle;\n",
       "    }\n",
       "\n",
       "    .dataframe tbody tr th {\n",
       "        vertical-align: top;\n",
       "    }\n",
       "\n",
       "    .dataframe thead th {\n",
       "        text-align: right;\n",
       "    }\n",
       "</style>\n",
       "<table border=\"1\" class=\"dataframe\">\n",
       "  <thead>\n",
       "    <tr style=\"text-align: right;\">\n",
       "      <th></th>\n",
       "      <th>Count</th>\n",
       "      <th>Date</th>\n",
       "      <th>DOW</th>\n",
       "    </tr>\n",
       "  </thead>\n",
       "  <tbody>\n",
       "    <tr>\n",
       "      <th>0</th>\n",
       "      <td>1</td>\n",
       "      <td>3/05/2022</td>\n",
       "      <td>Tuesday</td>\n",
       "    </tr>\n",
       "    <tr>\n",
       "      <th>1</th>\n",
       "      <td>2</td>\n",
       "      <td>4/05/2022</td>\n",
       "      <td>Wednesday</td>\n",
       "    </tr>\n",
       "    <tr>\n",
       "      <th>2</th>\n",
       "      <td>3</td>\n",
       "      <td>5/05/2022</td>\n",
       "      <td>Thursday</td>\n",
       "    </tr>\n",
       "    <tr>\n",
       "      <th>3</th>\n",
       "      <td>4</td>\n",
       "      <td>6/05/2022</td>\n",
       "      <td>Friday</td>\n",
       "    </tr>\n",
       "    <tr>\n",
       "      <th>4</th>\n",
       "      <td>5</td>\n",
       "      <td>9/05/2022</td>\n",
       "      <td>Monday</td>\n",
       "    </tr>\n",
       "    <tr>\n",
       "      <th>...</th>\n",
       "      <td>...</td>\n",
       "      <td>...</td>\n",
       "      <td>...</td>\n",
       "    </tr>\n",
       "    <tr>\n",
       "      <th>398</th>\n",
       "      <td>0</td>\n",
       "      <td>10/11/2023</td>\n",
       "      <td>Friday</td>\n",
       "    </tr>\n",
       "    <tr>\n",
       "      <th>399</th>\n",
       "      <td>0</td>\n",
       "      <td>13/11/2023</td>\n",
       "      <td>Monday</td>\n",
       "    </tr>\n",
       "    <tr>\n",
       "      <th>400</th>\n",
       "      <td>0</td>\n",
       "      <td>14/11/2023</td>\n",
       "      <td>Tuesday</td>\n",
       "    </tr>\n",
       "    <tr>\n",
       "      <th>401</th>\n",
       "      <td>0</td>\n",
       "      <td>15/11/2023</td>\n",
       "      <td>Wednesday</td>\n",
       "    </tr>\n",
       "    <tr>\n",
       "      <th>402</th>\n",
       "      <td>0</td>\n",
       "      <td>16/11/2023</td>\n",
       "      <td>Thursday</td>\n",
       "    </tr>\n",
       "  </tbody>\n",
       "</table>\n",
       "<p>403 rows × 3 columns</p>\n",
       "</div>"
      ],
      "text/plain": [
       "     Count        Date        DOW\n",
       "0        1   3/05/2022    Tuesday\n",
       "1        2   4/05/2022  Wednesday\n",
       "2        3   5/05/2022   Thursday\n",
       "3        4   6/05/2022     Friday\n",
       "4        5   9/05/2022     Monday\n",
       "..     ...         ...        ...\n",
       "398      0  10/11/2023     Friday\n",
       "399      0  13/11/2023     Monday\n",
       "400      0  14/11/2023    Tuesday\n",
       "401      0  15/11/2023  Wednesday\n",
       "402      0  16/11/2023   Thursday\n",
       "\n",
       "[403 rows x 3 columns]"
      ]
     },
     "execution_count": 252,
     "metadata": {},
     "output_type": "execute_result"
    }
   ],
   "source": [
    "import pandas as pd\n",
    "dates_df = pd.read_csv(\"../static/data/dates.csv\")\n",
    "dates_df['Count'] = dates_df['Count'].fillna(0).astype(int)\n",
    "dates_df"
   ]
  },
  {
   "cell_type": "code",
   "execution_count": null,
   "metadata": {},
   "outputs": [
    {
     "name": "stderr",
     "output_type": "stream",
     "text": [
      "C:\\Users\\antoi\\AppData\\Local\\Temp/ipykernel_3288/3423510363.py:3: SettingWithCopyWarning: \n",
      "A value is trying to be set on a copy of a slice from a DataFrame.\n",
      "Try using .loc[row_indexer,col_indexer] = value instead\n",
      "\n",
      "See the caveats in the documentation: https://pandas.pydata.org/pandas-docs/stable/user_guide/indexing.html#returning-a-view-versus-a-copy\n",
      "  dates_df_iloc['Price'] = price_list\n"
     ]
    },
    {
     "data": {
      "text/plain": [
       "[{'Count': 1, 'Date': '3/05/2022', 'DOW': 'Tuesday', 'Price': 103.09},\n",
       " {'Count': 2, 'Date': '4/05/2022', 'DOW': 'Wednesday', 'Price': 102.85},\n",
       " {'Count': 3, 'Date': '5/05/2022', 'DOW': 'Thursday', 'Price': 102.72},\n",
       " {'Count': 4, 'Date': '6/05/2022', 'DOW': 'Friday', 'Price': 102.66},\n",
       " {'Count': 5, 'Date': '9/05/2022', 'DOW': 'Monday', 'Price': 102.65},\n",
       " {'Count': 6, 'Date': '10/05/2022', 'DOW': 'Tuesday', 'Price': 102.68},\n",
       " {'Count': 7, 'Date': '11/05/2022', 'DOW': 'Wednesday', 'Price': 102.74},\n",
       " {'Count': 8, 'Date': '12/05/2022', 'DOW': 'Thursday', 'Price': 102.82},\n",
       " {'Count': 9, 'Date': '13/05/2022', 'DOW': 'Friday', 'Price': 102.91},\n",
       " {'Count': 10, 'Date': '16/05/2022', 'DOW': 'Monday', 'Price': 103.0}]"
      ]
     },
     "execution_count": 253,
     "metadata": {},
     "output_type": "execute_result"
    }
   ],
   "source": [
    "#Append the input amount of trading days to dates dictionary\n",
    "dates_df_iloc = dates_df.iloc[0:input]\n",
    "dates_df_iloc['Price'] = price_list\n",
    "my_dict = dates_df_iloc.to_dict(orient='records')\n",
    "my_dict"
   ]
  },
  {
   "cell_type": "code",
   "execution_count": null,
   "metadata": {},
   "outputs": [
    {
     "data": {
      "text/plain": [
       "[{'Price': 103.09},\n",
       " {'Price': 102.85},\n",
       " {'Price': 102.72},\n",
       " {'Price': 102.66},\n",
       " {'Price': 102.65},\n",
       " {'Price': 102.68},\n",
       " {'Price': 102.74},\n",
       " {'Price': 102.82},\n",
       " {'Price': 102.91},\n",
       " {'Price': 103.0}]"
      ]
     },
     "execution_count": 240,
     "metadata": {},
     "output_type": "execute_result"
    }
   ],
   "source": [
    "# price_dict = dict({\"Price\": price_list}) \n",
    "#dates_dict =  dates_df.to_dict(orient='records')\n",
    "#dates_dict\n",
    "price_dict = [dict(zip(['Price'],[x])) for x in price_list]\n",
    "price_dict"
   ]
  },
  {
   "cell_type": "code",
   "execution_count": null,
   "metadata": {},
   "outputs": [
    {
     "name": "stdout",
     "output_type": "stream",
     "text": [
      "4545 5681 5691\n"
     ]
    },
    {
     "data": {
      "text/html": [
       "<div>\n",
       "<style scoped>\n",
       "    .dataframe tbody tr th:only-of-type {\n",
       "        vertical-align: middle;\n",
       "    }\n",
       "\n",
       "    .dataframe tbody tr th {\n",
       "        vertical-align: top;\n",
       "    }\n",
       "\n",
       "    .dataframe thead th {\n",
       "        text-align: right;\n",
       "    }\n",
       "</style>\n",
       "<table border=\"1\" class=\"dataframe\">\n",
       "  <thead>\n",
       "    <tr style=\"text-align: right;\">\n",
       "      <th></th>\n",
       "      <th>Close</th>\n",
       "    </tr>\n",
       "  </thead>\n",
       "  <tbody>\n",
       "    <tr>\n",
       "      <th>5681</th>\n",
       "      <td>103.09</td>\n",
       "    </tr>\n",
       "    <tr>\n",
       "      <th>5682</th>\n",
       "      <td>102.85</td>\n",
       "    </tr>\n",
       "    <tr>\n",
       "      <th>5683</th>\n",
       "      <td>102.72</td>\n",
       "    </tr>\n",
       "    <tr>\n",
       "      <th>5684</th>\n",
       "      <td>102.66</td>\n",
       "    </tr>\n",
       "    <tr>\n",
       "      <th>5685</th>\n",
       "      <td>102.65</td>\n",
       "    </tr>\n",
       "    <tr>\n",
       "      <th>5686</th>\n",
       "      <td>102.68</td>\n",
       "    </tr>\n",
       "    <tr>\n",
       "      <th>5687</th>\n",
       "      <td>102.74</td>\n",
       "    </tr>\n",
       "    <tr>\n",
       "      <th>5688</th>\n",
       "      <td>102.82</td>\n",
       "    </tr>\n",
       "    <tr>\n",
       "      <th>5689</th>\n",
       "      <td>102.91</td>\n",
       "    </tr>\n",
       "    <tr>\n",
       "      <th>5690</th>\n",
       "      <td>103.00</td>\n",
       "    </tr>\n",
       "  </tbody>\n",
       "</table>\n",
       "</div>"
      ],
      "text/plain": [
       "       Close\n",
       "5681  103.09\n",
       "5682  102.85\n",
       "5683  102.72\n",
       "5684  102.66\n",
       "5685  102.65\n",
       "5686  102.68\n",
       "5687  102.74\n",
       "5688  102.82\n",
       "5689  102.91\n",
       "5690  103.00"
      ]
     },
     "execution_count": 241,
     "metadata": {},
     "output_type": "execute_result"
    }
   ],
   "source": [
    "# DRAW THE PREDICTION\n",
    "df_len = len(df.index) # length of the original dataframe\n",
    "col_name = ['Close']\n",
    "df_filtered = df.filter(col_name)\n",
    "df_filtered_len = len(df_filtered.index)\n",
    "df_filtered_len\n",
    "len_pred_df = df_filtered_len+input # length of the original dataframe plus the users new inputs\n",
    "print(train_data_len,df_len,len_pred_df)\n",
    "new_data =df_filtered.append(pd.DataFrame(price_list,columns=col_name),ignore_index=True)\n",
    "new_data.tail(10)"
   ]
  },
  {
   "cell_type": "code",
   "execution_count": null,
   "metadata": {},
   "outputs": [
    {
     "name": "stderr",
     "output_type": "stream",
     "text": [
      "C:\\Users\\antoi\\AppData\\Local\\Temp/ipykernel_3288/3422036737.py:6: SettingWithCopyWarning: \n",
      "A value is trying to be set on a copy of a slice from a DataFrame.\n",
      "Try using .loc[row_indexer,col_indexer] = value instead\n",
      "\n",
      "See the caveats in the documentation: https://pandas.pydata.org/pandas-docs/stable/user_guide/indexing.html#returning-a-view-versus-a-copy\n",
      "  valid['Predictions'] = predictions # another column for validating test\n"
     ]
    },
    {
     "data": {
      "image/png": "[encoded data removed]",
      "text/plain": [
       "<Figure size 1152x576 with 1 Axes>"
      ]
     },
     "metadata": {},
     "output_type": "display_data"
    }
   ],
   "source": [
    "#Plot the data to validate the test data\n",
    "\n",
    "plt.style.use('fivethirtyeight')\n",
    "train = new_data.iloc[:train_data_len] # actual train data from 0 rows until train data end\n",
    "valid = new_data.iloc[train_data_len:df_len] # actual test data from train data end until end of all sampled data\n",
    "valid['Predictions'] = predictions # another column for validating test\n",
    "predict = new_data.iloc[df_len:len_pred_df] # user prediction data from loop\n",
    "\n",
    "plt.figure(figsize=(16,8))\n",
    "plt.title('PREDICTION CBA Share Price LSTM Model')\n",
    "plt.xlabel('Trading Day - 01/01/2000 to date', fontsize=18)\n",
    "plt.ylabel('Close Price AUD ($)',fontsize=18)\n",
    "plt.plot(train['Close'])\n",
    "plt.plot(valid[['Close','Predictions']])\n",
    "plt.plot(predict['Close'])\n",
    "plt.legend(['Training','Validated','Tested','Prediction'],loc='lower right')\n",
    "x = np.arange(2000,2024,4)\n",
    "plt.xticks([0,1000,2000,3000,4000,5000],x)\n",
    "plt.show()"
   ]
  },
  {
   "cell_type": "markdown",
   "metadata": {},
   "source": [
    "#Save predicted price to MongoDB"
   ]
  },
  {
   "cell_type": "code",
   "execution_count": null,
   "metadata": {},
   "outputs": [],
   "source": [
    "# # Module used to connect Python with MongoDb\n",
    "# import pymongo"
   ]
  },
  {
   "cell_type": "code",
   "execution_count": null,
   "metadata": {},
   "outputs": [],
   "source": [
    "# # The default port used by MongoDB is 27017\n",
    "# # https://docs.mongodb.com/manual/reference/default-mongodb-port/\n",
    "# conn = 'mongodb://localhost:27017'\n",
    "# client = pymongo.MongoClient(conn)\n",
    "\n",
    "# # Define the 'sharesDB' database in Mongo\n",
    "# db = client.sharesDB"
   ]
  },
  {
   "cell_type": "code",
   "execution_count": null,
   "metadata": {},
   "outputs": [],
   "source": [
    "# # Query all\n",
    "# # Here, db.companys refers to the collection 'companys '\n",
    "# companys = db.companys.find()\n",
    "\n",
    "# # Iterate through each company in the collection\n",
    "# for company in companys:\n",
    "#     print(company)"
   ]
  },
  {
   "cell_type": "code",
   "execution_count": null,
   "metadata": {},
   "outputs": [],
   "source": [
    "# # Set keys and values of company\n",
    "# name = 'CBA'\n",
    "# predicted = int(pred_price)\n",
    "# difference = pred_price-actual_price\n",
    "# print(f'date {actual_date},predicted {predicted},actual {actual_price}, difference {difference}')"
   ]
  },
  {
   "cell_type": "code",
   "execution_count": null,
   "metadata": {},
   "outputs": [],
   "source": [
    "# # Insert a document into the 'companys' collection\n",
    "# db.companys.insert_one(\n",
    "#     {\n",
    "#       'model': 'LSTM',\n",
    "#       'name': name,\n",
    "#       'date': actual_date,\n",
    "#       'predicted': predicted,\n",
    "#       'actual': actual_price,\n",
    "#       'differece': difference\n",
    "#     }\n",
    "# )\n",
    "\n",
    "# # query the classroom collection\n",
    "# companys = db.companys.find()\n",
    "\n",
    "# # see change in collection\n",
    "# for company in companys:\n",
    "#     print(company)"
   ]
  },
  {
   "cell_type": "code",
   "execution_count": null,
   "metadata": {},
   "outputs": [],
   "source": [
    "# # Delete a document from a collection\n",
    "# db.companys.delete_one(\n",
    "#     {'name': 'CBA'}\n",
    "# )\n",
    "\n",
    "# # query the companys collection\n",
    "# companys = db.companys.find()\n",
    "\n",
    "# # see change in the collection\n",
    "# for company in companys:\n",
    "#     print(company)"
   ]
  },
  {
   "cell_type": "code",
   "execution_count": null,
   "metadata": {},
   "outputs": [],
   "source": [
    "# from pymongo import MongoClient\n",
    "# mongoClient = MongoClient()\n",
    "# db = mongoClient.sharesDB\n",
    "# db.cba.drop()\n",
    "\n",
    "# import csv\n",
    "# header = [\"Date\",\"Open\",\"High\",\"Low\",\"Close\",\"Adj Close\",\"Volume\",\"SENTIMENT\",\"RBA\",\"FED\"]\n",
    "# csvfile = open('../static/data/cba.csv', 'r')\n",
    "# reader = csv.DictReader( csvfile )\n",
    "\n",
    "# for each in reader:\n",
    "#     row={}\n",
    "#     for field in header:\n",
    "#         row[field]=each[field]\n",
    "        \n",
    "#     print (row)\n",
    "#     db.cba.insert_one(row)\t\t\t\t \t\t\t\t"
   ]
  },
  {
   "cell_type": "code",
   "execution_count": null,
   "metadata": {},
   "outputs": [],
   "source": [
    "# # query the collection\n",
    "# cbas = db.cba.find()\n",
    "\n",
    "# # see change in collection\n",
    "# for cba in cbas:\n",
    "#     print(cba)"
   ]
  },
  {
   "cell_type": "code",
   "execution_count": null,
   "metadata": {},
   "outputs": [],
   "source": [
    "# from pymongo import MongoClient\n",
    "# mongoClient = MongoClient()\n",
    "# db = mongoClient.sharesDB\n",
    "# db.cba_scatter.drop()\n",
    "\n",
    "# import csv\n",
    "# header = [\"Date\",\"Open\",\"High\",\"Low\",\"Close\",\"Adj Close\",\"Volume\",\"SENTIMENT\",\"RBA\",\"FED\"]\n",
    "# csvfile = open('../static/data/cba_scatter.csv', 'r')\n",
    "# reader = csv.DictReader( csvfile )\n",
    "\n",
    "# for each in reader:\n",
    "#     row={}\n",
    "#     for field in header:\n",
    "#         row[field]=each[field]\n",
    "        \n",
    "#     print (row)\n",
    "#     db.cba_scatter.insert_one(row)\t\t\t\t \t\t\t\t"
   ]
  }
 ],
 "metadata": {
  "interpreter": {
   "hash": "3059867ecbaf26750e76effc478ab3c7b6fe2c4d25ba12aeebe66bc85b0df6cc"
  },
  "kernel_info": {
   "name": "dev"
  },
  "kernelspec": {
   "display_name": "Python [conda root]",
   "language": "python",
   "name": "python3"
  },
  "language_info": {
   "codemirror_mode": {
    "name": "ipython",
    "version": 3
   },
   "file_extension": ".py",
   "mimetype": "text/x-python",
   "name": "python",
   "nbconvert_exporter": "python",
   "pygments_lexer": "ipython3",
   "version": "3.9.7"
  },
  "nteract": {
   "version": "0.12.3"
  }
 },
 "nbformat": 4,
 "nbformat_minor": 2
}
