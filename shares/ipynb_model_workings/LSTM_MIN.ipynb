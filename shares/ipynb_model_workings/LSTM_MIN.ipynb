{
 "cells": [
  {
   "cell_type": "markdown",
   "metadata": {},
   "source": [
    "#This model uses LSTM to predict a Daily share price movements based on time series and batches of 60 days"
   ]
  },
  {
   "cell_type": "markdown",
   "metadata": {},
   "source": [
    "# Read the CSV and Perform Basic Data Cleaning"
   ]
  },
  {
   "cell_type": "code",
   "execution_count": 1,
   "metadata": {},
   "outputs": [],
   "source": [
    "import matplotlib.pyplot as plt\n",
    "import numpy as np\n",
    "import pandas as pd"
   ]
  },
  {
   "cell_type": "code",
   "execution_count": 2,
   "metadata": {},
   "outputs": [
    {
     "data": {
      "text/html": [
       "<div>\n",
       "<style scoped>\n",
       "    .dataframe tbody tr th:only-of-type {\n",
       "        vertical-align: middle;\n",
       "    }\n",
       "\n",
       "    .dataframe tbody tr th {\n",
       "        vertical-align: top;\n",
       "    }\n",
       "\n",
       "    .dataframe thead th {\n",
       "        text-align: right;\n",
       "    }\n",
       "</style>\n",
       "<table border=\"1\" class=\"dataframe\">\n",
       "  <thead>\n",
       "    <tr style=\"text-align: right;\">\n",
       "      <th></th>\n",
       "      <th>Date</th>\n",
       "      <th>Open</th>\n",
       "      <th>High</th>\n",
       "      <th>Low</th>\n",
       "      <th>Close</th>\n",
       "      <th>Adj Close</th>\n",
       "      <th>Volume</th>\n",
       "      <th>RBA</th>\n",
       "      <th>FED</th>\n",
       "      <th>CPI</th>\n",
       "    </tr>\n",
       "  </thead>\n",
       "  <tbody>\n",
       "    <tr>\n",
       "      <th>4029</th>\n",
       "      <td>4/07/2022</td>\n",
       "      <td>46.990002</td>\n",
       "      <td>47.400002</td>\n",
       "      <td>45.299999</td>\n",
       "      <td>45.959999</td>\n",
       "      <td>45.959999</td>\n",
       "      <td>1021678</td>\n",
       "      <td>0.85</td>\n",
       "      <td>1.75</td>\n",
       "      <td>125.0</td>\n",
       "    </tr>\n",
       "    <tr>\n",
       "      <th>4030</th>\n",
       "      <td>5/07/2022</td>\n",
       "      <td>46.450001</td>\n",
       "      <td>46.750000</td>\n",
       "      <td>45.509998</td>\n",
       "      <td>45.509998</td>\n",
       "      <td>45.509998</td>\n",
       "      <td>893111</td>\n",
       "      <td>1.35</td>\n",
       "      <td>1.75</td>\n",
       "      <td>125.0</td>\n",
       "    </tr>\n",
       "    <tr>\n",
       "      <th>4031</th>\n",
       "      <td>6/07/2022</td>\n",
       "      <td>44.869999</td>\n",
       "      <td>45.000000</td>\n",
       "      <td>42.750000</td>\n",
       "      <td>42.889999</td>\n",
       "      <td>42.889999</td>\n",
       "      <td>1416682</td>\n",
       "      <td>1.35</td>\n",
       "      <td>1.75</td>\n",
       "      <td>125.0</td>\n",
       "    </tr>\n",
       "    <tr>\n",
       "      <th>4032</th>\n",
       "      <td>7/07/2022</td>\n",
       "      <td>44.290001</td>\n",
       "      <td>45.160000</td>\n",
       "      <td>44.000000</td>\n",
       "      <td>44.830002</td>\n",
       "      <td>44.830002</td>\n",
       "      <td>1633186</td>\n",
       "      <td>1.35</td>\n",
       "      <td>1.75</td>\n",
       "      <td>125.0</td>\n",
       "    </tr>\n",
       "    <tr>\n",
       "      <th>4033</th>\n",
       "      <td>8/07/2022</td>\n",
       "      <td>46.980000</td>\n",
       "      <td>47.740002</td>\n",
       "      <td>45.869999</td>\n",
       "      <td>46.880001</td>\n",
       "      <td>46.880001</td>\n",
       "      <td>1735959</td>\n",
       "      <td>1.35</td>\n",
       "      <td>1.75</td>\n",
       "      <td>125.0</td>\n",
       "    </tr>\n",
       "  </tbody>\n",
       "</table>\n",
       "</div>"
      ],
      "text/plain": [
       "           Date       Open       High        Low      Close  Adj Close  \\\n",
       "4029  4/07/2022  46.990002  47.400002  45.299999  45.959999  45.959999   \n",
       "4030  5/07/2022  46.450001  46.750000  45.509998  45.509998  45.509998   \n",
       "4031  6/07/2022  44.869999  45.000000  42.750000  42.889999  42.889999   \n",
       "4032  7/07/2022  44.290001  45.160000  44.000000  44.830002  44.830002   \n",
       "4033  8/07/2022  46.980000  47.740002  45.869999  46.880001  46.880001   \n",
       "\n",
       "       Volume   RBA   FED    CPI  \n",
       "4029  1021678  0.85  1.75  125.0  \n",
       "4030   893111  1.35  1.75  125.0  \n",
       "4031  1416682  1.35  1.75  125.0  \n",
       "4032  1633186  1.35  1.75  125.0  \n",
       "4033  1735959  1.35  1.75  125.0  "
      ]
     },
     "execution_count": 2,
     "metadata": {},
     "output_type": "execute_result"
    }
   ],
   "source": [
    "df_stock1 = pd.read_csv(\"../static/data/min.csv\")\n",
    "# Drop the null columns where all values are null\n",
    "df_stock2 = df_stock1.dropna(axis='columns', how='all')\n",
    "# Drop the null rows\n",
    "df = df_stock2.dropna()\n",
    "# Drop the last rows to test prediction to actual\n",
    "df_stock_less1= df_stock2.iloc[:-1,:]\n",
    "df.tail()   \n",
    "\n",
    "\t"
   ]
  },
  {
   "cell_type": "code",
   "execution_count": 3,
   "metadata": {},
   "outputs": [],
   "source": [
    "#Connect to MongoDb\n",
    "from pymongo import MongoClient\n",
    "mongoClient = MongoClient()\n",
    "db = mongoClient.sharesDB"
   ]
  },
  {
   "cell_type": "code",
   "execution_count": 4,
   "metadata": {},
   "outputs": [],
   "source": [
    "# # Drop all previous records now in MongoDb\n",
    "# db.min.drop()\n",
    "\n",
    "# # Insert all the records in the CSV into MongoDb\n",
    "# records=df.to_dict('records')\n",
    "# records\n",
    "# db.min.insert_many(records)"
   ]
  },
  {
   "cell_type": "code",
   "execution_count": 5,
   "metadata": {},
   "outputs": [
    {
     "name": "stdout",
     "output_type": "stream",
     "text": [
      "DELETE: 28/07/2022 53.209999084472656\n"
     ]
    }
   ],
   "source": [
    "#Update latest data in mongoDb\n",
    "df_mongo = pd.DataFrame(list(db.min.find()))\n",
    "last_val = df_mongo.iloc[-1:].values\n",
    "\n",
    "last_date = last_val[0][1]\n",
    "last_close = last_val[0][5]\n",
    "print(\"DELETE: \"+last_date,last_close)\n",
    "\n",
    "db.min.delete_one(\n",
    "    {'Date': last_date}\n",
    ")\n"
   ]
  },
  {
   "cell_type": "markdown",
   "metadata": {},
   "source": [
    "UPDATE MONGO DB"
   ]
  },
  {
   "cell_type": "code",
   "execution_count": 6,
   "metadata": {},
   "outputs": [
    {
     "name": "stdout",
     "output_type": "stream",
     "text": [
      "NEW LAST VALUE IN MONGODB: 27/07/2022 48.79999923706055\n",
      "Last date in MongoDb: 27-07-2022. Today's date: 02-08-2022\n"
     ]
    }
   ],
   "source": [
    "#Update latest data in mongoDb\n",
    "df_mongo = pd.DataFrame(list(db.min.find()))\n",
    "last_val = df_mongo.iloc[-1:].values\n",
    "\n",
    "last_date = last_val[0][1]\n",
    "last_close = last_val[0][5]\n",
    "print(\"NEW LAST VALUE IN MONGODB: \"+last_date,last_close)\n",
    "\n",
    "\n",
    "from datetime import date,datetime\n",
    "todaydt = date.today()\n",
    "today=todaydt.strftime('%d-%m-%Y')\n",
    "from_date = datetime.strptime(last_date, '%d/%m/%Y')\n",
    "last_date=from_date.strftime('%d-%m-%Y')\n",
    "print(\"Last date in MongoDb: \"+last_date+\". Today's date: \"+today)"
   ]
  },
  {
   "cell_type": "code",
   "execution_count": 7,
   "metadata": {},
   "outputs": [
    {
     "data": {
      "text/html": [
       "<div>\n",
       "<style scoped>\n",
       "    .dataframe tbody tr th:only-of-type {\n",
       "        vertical-align: middle;\n",
       "    }\n",
       "\n",
       "    .dataframe tbody tr th {\n",
       "        vertical-align: top;\n",
       "    }\n",
       "\n",
       "    .dataframe thead th {\n",
       "        text-align: right;\n",
       "    }\n",
       "</style>\n",
       "<table border=\"1\" class=\"dataframe\">\n",
       "  <thead>\n",
       "    <tr style=\"text-align: right;\">\n",
       "      <th></th>\n",
       "      <th>High</th>\n",
       "      <th>Low</th>\n",
       "      <th>Open</th>\n",
       "      <th>Close</th>\n",
       "      <th>Volume</th>\n",
       "      <th>Adj Close</th>\n",
       "    </tr>\n",
       "    <tr>\n",
       "      <th>Date</th>\n",
       "      <th></th>\n",
       "      <th></th>\n",
       "      <th></th>\n",
       "      <th></th>\n",
       "      <th></th>\n",
       "      <th></th>\n",
       "    </tr>\n",
       "  </thead>\n",
       "  <tbody>\n",
       "    <tr>\n",
       "      <th>2022-07-28</th>\n",
       "      <td>53.650002</td>\n",
       "      <td>49.520000</td>\n",
       "      <td>50.990002</td>\n",
       "      <td>53.209999</td>\n",
       "      <td>2970775</td>\n",
       "      <td>53.209999</td>\n",
       "    </tr>\n",
       "    <tr>\n",
       "      <th>2022-07-29</th>\n",
       "      <td>56.049999</td>\n",
       "      <td>53.520000</td>\n",
       "      <td>54.610001</td>\n",
       "      <td>53.740002</td>\n",
       "      <td>1829089</td>\n",
       "      <td>53.740002</td>\n",
       "    </tr>\n",
       "    <tr>\n",
       "      <th>2022-08-01</th>\n",
       "      <td>55.099998</td>\n",
       "      <td>53.820000</td>\n",
       "      <td>54.509998</td>\n",
       "      <td>53.959999</td>\n",
       "      <td>918089</td>\n",
       "      <td>53.959999</td>\n",
       "    </tr>\n",
       "    <tr>\n",
       "      <th>2022-08-02</th>\n",
       "      <td>54.180000</td>\n",
       "      <td>52.380001</td>\n",
       "      <td>53.509998</td>\n",
       "      <td>53.080002</td>\n",
       "      <td>946545</td>\n",
       "      <td>53.080002</td>\n",
       "    </tr>\n",
       "  </tbody>\n",
       "</table>\n",
       "</div>"
      ],
      "text/plain": [
       "                 High        Low       Open      Close   Volume  Adj Close\n",
       "Date                                                                      \n",
       "2022-07-28  53.650002  49.520000  50.990002  53.209999  2970775  53.209999\n",
       "2022-07-29  56.049999  53.520000  54.610001  53.740002  1829089  53.740002\n",
       "2022-08-01  55.099998  53.820000  54.509998  53.959999   918089  53.959999\n",
       "2022-08-02  54.180000  52.380001  53.509998  53.080002   946545  53.080002"
      ]
     },
     "execution_count": 7,
     "metadata": {},
     "output_type": "execute_result"
    }
   ],
   "source": [
    "#Get latest quotes from yahoo finance:\n",
    "import pandas_datareader.data as web\n",
    "symbol = 'MIN.AX'\n",
    "start = from_date # yyyy-mm-dd\n",
    "end = todaydt  # yyyy-mm-dd\n",
    "stock_quote = web.DataReader(symbol,data_source='yahoo',start=start, end=end) # dataframe\n",
    "stock_quote=stock_quote.iloc[1:] #skips first record\n",
    "stock_quote"
   ]
  },
  {
   "cell_type": "code",
   "execution_count": 8,
   "metadata": {},
   "outputs": [
    {
     "data": {
      "text/html": [
       "<div>\n",
       "<style scoped>\n",
       "    .dataframe tbody tr th:only-of-type {\n",
       "        vertical-align: middle;\n",
       "    }\n",
       "\n",
       "    .dataframe tbody tr th {\n",
       "        vertical-align: top;\n",
       "    }\n",
       "\n",
       "    .dataframe thead th {\n",
       "        text-align: right;\n",
       "    }\n",
       "</style>\n",
       "<table border=\"1\" class=\"dataframe\">\n",
       "  <thead>\n",
       "    <tr style=\"text-align: right;\">\n",
       "      <th></th>\n",
       "      <th>Date</th>\n",
       "      <th>High</th>\n",
       "      <th>Low</th>\n",
       "      <th>Open</th>\n",
       "      <th>Close</th>\n",
       "      <th>Volume</th>\n",
       "      <th>Adj Close</th>\n",
       "      <th>RBA</th>\n",
       "      <th>FED</th>\n",
       "      <th>CPI</th>\n",
       "    </tr>\n",
       "  </thead>\n",
       "  <tbody>\n",
       "    <tr>\n",
       "      <th>0</th>\n",
       "      <td>28/07/2022</td>\n",
       "      <td>53.650002</td>\n",
       "      <td>49.520000</td>\n",
       "      <td>50.990002</td>\n",
       "      <td>53.209999</td>\n",
       "      <td>2970775</td>\n",
       "      <td>53.209999</td>\n",
       "      <td>1.35</td>\n",
       "      <td>2.5</td>\n",
       "      <td>125</td>\n",
       "    </tr>\n",
       "    <tr>\n",
       "      <th>1</th>\n",
       "      <td>29/07/2022</td>\n",
       "      <td>56.049999</td>\n",
       "      <td>53.520000</td>\n",
       "      <td>54.610001</td>\n",
       "      <td>53.740002</td>\n",
       "      <td>1829089</td>\n",
       "      <td>53.740002</td>\n",
       "      <td>1.35</td>\n",
       "      <td>2.5</td>\n",
       "      <td>125</td>\n",
       "    </tr>\n",
       "    <tr>\n",
       "      <th>2</th>\n",
       "      <td>01/08/2022</td>\n",
       "      <td>55.099998</td>\n",
       "      <td>53.820000</td>\n",
       "      <td>54.509998</td>\n",
       "      <td>53.959999</td>\n",
       "      <td>918089</td>\n",
       "      <td>53.959999</td>\n",
       "      <td>1.35</td>\n",
       "      <td>2.5</td>\n",
       "      <td>125</td>\n",
       "    </tr>\n",
       "    <tr>\n",
       "      <th>3</th>\n",
       "      <td>02/08/2022</td>\n",
       "      <td>54.180000</td>\n",
       "      <td>52.380001</td>\n",
       "      <td>53.509998</td>\n",
       "      <td>53.080002</td>\n",
       "      <td>946545</td>\n",
       "      <td>53.080002</td>\n",
       "      <td>1.35</td>\n",
       "      <td>2.5</td>\n",
       "      <td>125</td>\n",
       "    </tr>\n",
       "  </tbody>\n",
       "</table>\n",
       "</div>"
      ],
      "text/plain": [
       "         Date       High        Low       Open      Close   Volume  Adj Close  \\\n",
       "0  28/07/2022  53.650002  49.520000  50.990002  53.209999  2970775  53.209999   \n",
       "1  29/07/2022  56.049999  53.520000  54.610001  53.740002  1829089  53.740002   \n",
       "2  01/08/2022  55.099998  53.820000  54.509998  53.959999   918089  53.959999   \n",
       "3  02/08/2022  54.180000  52.380001  53.509998  53.080002   946545  53.080002   \n",
       "\n",
       "    RBA  FED  CPI  \n",
       "0  1.35  2.5  125  \n",
       "1  1.35  2.5  125  \n",
       "2  1.35  2.5  125  \n",
       "3  1.35  2.5  125  "
      ]
     },
     "execution_count": 8,
     "metadata": {},
     "output_type": "execute_result"
    }
   ],
   "source": [
    "tot=len(stock_quote)\n",
    "rba=1.35\n",
    "fed=2.5\n",
    "cpi=125\n",
    "a,b,c=[],[],[]\n",
    "for i in range(tot):\n",
    "    a.append(rba)\n",
    "    b.append(fed)\n",
    "    c.append(cpi)\n",
    "#ADD NEW DATA IN DATAFRAME\n",
    "stock_quote[\"RBA\"],stock_quote[\"FED\"],stock_quote[\"CPI\"] = a,b,c\n",
    "stock_quote.reset_index(inplace=True)\n",
    "\n",
    "stock_quote['Date'] = pd.to_datetime(stock_quote['Date'])\n",
    "stock_quote['Date']=stock_quote['Date'].dt.strftime('%d/%m/%Y')\n",
    "# stock_quote['Date']\n",
    "stock_quote['Date']=stock_quote['Date'].astype(str)\n",
    "\n",
    "stock_quote"
   ]
  },
  {
   "cell_type": "code",
   "execution_count": 9,
   "metadata": {},
   "outputs": [
    {
     "name": "stdout",
     "output_type": "stream",
     "text": [
      "[{'Date': '28/07/2022', 'High': 53.650001525878906, 'Low': 49.52000045776367, 'Open': 50.9900016784668, 'Close': 53.209999084472656, 'Volume': 2970775, 'Adj Close': 53.209999084472656, 'RBA': 1.35, 'FED': 2.5, 'CPI': 125}, {'Date': '29/07/2022', 'High': 56.04999923706055, 'Low': 53.52000045776367, 'Open': 54.61000061035156, 'Close': 53.7400016784668, 'Volume': 1829089, 'Adj Close': 53.7400016784668, 'RBA': 1.35, 'FED': 2.5, 'CPI': 125}, {'Date': '01/08/2022', 'High': 55.099998474121094, 'Low': 53.81999969482422, 'Open': 54.5099983215332, 'Close': 53.959999084472656, 'Volume': 918089, 'Adj Close': 53.959999084472656, 'RBA': 1.35, 'FED': 2.5, 'CPI': 125}, {'Date': '02/08/2022', 'High': 54.18000030517578, 'Low': 52.380001068115234, 'Open': 53.5099983215332, 'Close': 53.08000183105469, 'Volume': 946545, 'Adj Close': 53.08000183105469, 'RBA': 1.35, 'FED': 2.5, 'CPI': 125}]\n"
     ]
    }
   ],
   "source": [
    "records=stock_quote.to_dict('records',)\n",
    "print(records)"
   ]
  },
  {
   "cell_type": "code",
   "execution_count": 10,
   "metadata": {},
   "outputs": [
    {
     "data": {
      "text/plain": [
       "array([[ObjectId('62dcf80de06e6a93cde1fbbd'), '20/07/2022',\n",
       "        46.599998474121094, 47.900001525878906, 46.17499923706055,\n",
       "        47.529998779296875, 47.529998779296875, 1128393, 1.35, 1.75,\n",
       "        125.0],\n",
       "       [ObjectId('62dcf80de06e6a93cde1fbbe'), '21/07/2022',\n",
       "        47.310001373291016, 47.619998931884766, 46.34000015258789,\n",
       "        47.54999923706055, 47.54999923706055, 1031314, 1.35, 1.75, 125.0],\n",
       "       [ObjectId('62e218730900bc99682740fe'), '22/07/2022',\n",
       "        47.619998931884766, 47.900001525878906, 46.5, 46.81999969482422,\n",
       "        46.81999969482422, 1408485, 1.35, 1.75, 125.0],\n",
       "       [ObjectId('62e218730900bc99682740ff'), '25/07/2022',\n",
       "        47.349998474121094, 48.13999938964844, 47.09000015258789,\n",
       "        47.61000061035156, 47.61000061035156, 824207, 1.35, 1.75, 125.0],\n",
       "       [ObjectId('62e218730900bc9968274100'), '26/07/2022', 48.0,\n",
       "        49.220001220703125, 47.97999954223633, 49.220001220703125,\n",
       "        49.220001220703125, 1013864, 1.35, 1.75, 125.0],\n",
       "       [ObjectId('62e218730900bc9968274101'), '27/07/2022',\n",
       "        49.18000030517578, 49.66999816894531, 48.380001068115234,\n",
       "        48.79999923706055, 48.79999923706055, 1093958, 1.35, 1.75, 125.0],\n",
       "       [ObjectId('62e8dc60b10b641fd8c7ccbc'), '28/07/2022',\n",
       "        50.9900016784668, 53.650001525878906, 49.52000045776367,\n",
       "        53.209999084472656, 53.209999084472656, 2970775, 1.35, 2.5,\n",
       "        125.0],\n",
       "       [ObjectId('62e8dc60b10b641fd8c7ccbd'), '29/07/2022',\n",
       "        54.61000061035156, 56.04999923706055, 53.52000045776367,\n",
       "        53.7400016784668, 53.7400016784668, 1829089, 1.35, 2.5, 125.0],\n",
       "       [ObjectId('62e8dc60b10b641fd8c7ccbe'), '01/08/2022',\n",
       "        54.5099983215332, 55.099998474121094, 53.81999969482422,\n",
       "        53.959999084472656, 53.959999084472656, 918089, 1.35, 2.5, 125.0],\n",
       "       [ObjectId('62e8dc60b10b641fd8c7ccbf'), '02/08/2022',\n",
       "        53.5099983215332, 54.18000030517578, 52.380001068115234,\n",
       "        53.08000183105469, 53.08000183105469, 946545, 1.35, 2.5, 125.0]],\n",
       "      dtype=object)"
      ]
     },
     "execution_count": 10,
     "metadata": {},
     "output_type": "execute_result"
    }
   ],
   "source": [
    "db.min.insert_many(records)\n",
    "#Check if mongoDb now has latest data\n",
    "df_mongo = pd.DataFrame(list(db.min.find()))\n",
    "last_vals = df_mongo.iloc[-10:].values\n",
    "last_vals"
   ]
  },
  {
   "cell_type": "code",
   "execution_count": 11,
   "metadata": {},
   "outputs": [
    {
     "name": "stdout",
     "output_type": "stream",
     "text": [
      "02/08/2022 53.08000183105469\n"
     ]
    }
   ],
   "source": [
    "#Save latest to variables\n",
    "last_val = df_mongo.iloc[-1:].values\n",
    "last_date = last_val[0][1]\n",
    "last_close = last_val[0][5]\n",
    "print(last_date,last_close)"
   ]
  },
  {
   "cell_type": "markdown",
   "metadata": {},
   "source": [
    "# # Pre-processing : Scale the data using the MinMaxScaler and split train data"
   ]
  },
  {
   "cell_type": "code",
   "execution_count": 12,
   "metadata": {},
   "outputs": [
    {
     "data": {
      "text/plain": [
       "(4051, 1)"
      ]
     },
     "execution_count": 12,
     "metadata": {},
     "output_type": "execute_result"
    }
   ],
   "source": [
    "df_mongo = pd.DataFrame(list(db.min.find()))\n",
    "# Drop the null columns where all values are null\n",
    "df_mongo = df_mongo.dropna(axis='columns', how='all')\n",
    "# Drop the null rows\n",
    "df_mongo = df_mongo.dropna()\n",
    "# df_mongo.shape\n",
    "len_df_mongo=len(df_mongo)\n",
    "data = df_mongo.filter([\"Close\"])\n",
    "dataset=data.values\n",
    "dataset.shape"
   ]
  },
  {
   "cell_type": "code",
   "execution_count": 13,
   "metadata": {},
   "outputs": [],
   "source": [
    "# data = df.filter(['Close'])\n",
    "# dataset = data.values\n",
    "# dataset\t"
   ]
  },
  {
   "cell_type": "code",
   "execution_count": 14,
   "metadata": {},
   "outputs": [
    {
     "data": {
      "text/plain": [
       "(3241, 1)"
      ]
     },
     "execution_count": 14,
     "metadata": {},
     "output_type": "execute_result"
    }
   ],
   "source": [
    "# Scale your data\n",
    "from sklearn.preprocessing import MinMaxScaler\n",
    "\n",
    "scaler = MinMaxScaler(feature_range=(0,1))\n",
    "dataset_scaled = scaler.fit_transform(dataset)\n",
    "\n",
    "# Split into train or test\n",
    "import math\n",
    "train_data_len = math.ceil(len(dataset)*.8)\n",
    "train_data = dataset_scaled[0:train_data_len,:]\n",
    "train_data.shape\n"
   ]
  },
  {
   "cell_type": "code",
   "execution_count": 15,
   "metadata": {},
   "outputs": [
    {
     "name": "stdout",
     "output_type": "stream",
     "text": [
      "[array([0.        , 0.00015425, 0.00015425, 0.00015425, 0.00084837,\n",
      "       0.001234  , 0.00169675, 0.00215949, 0.00246799, 0.00246799,\n",
      "       0.00323924, 0.00339349, 0.00323924, 0.00262224, 0.00246799,\n",
      "       0.00246799, 0.00277649, 0.00277649, 0.00323924, 0.00246799,\n",
      "       0.00262224, 0.00277649, 0.00246799, 0.00246799, 0.00246799,\n",
      "       0.00323924, 0.00385624, 0.00385624, 0.00401049, 0.00401049,\n",
      "       0.00401049, 0.00370199, 0.00401049, 0.00401049, 0.00401049,\n",
      "       0.00431899, 0.00447324, 0.00431899, 0.00431899, 0.00431899,\n",
      "       0.00401049, 0.00401049, 0.00347062, 0.00354774, 0.00370199,\n",
      "       0.00401049, 0.00431899, 0.00401049, 0.00431899, 0.00478174,\n",
      "       0.00431899, 0.00431899, 0.00493599, 0.00478174, 0.00447324,\n",
      "       0.00555298, 0.00524449, 0.00555298, 0.00786673, 0.00863798])]\n",
      "[0.008483726538890537]\n"
     ]
    }
   ],
   "source": [
    "X_train = []\n",
    "y_train = []\n",
    "\n",
    "for i in range (60, len(train_data)):\n",
    "    X_train.append(train_data[i-60:i,0]) # contains 60 values\n",
    "    y_train.append(train_data[i,0])   # contains 61st value\n",
    "    if i<= 60:\n",
    "        print(X_train)\n",
    "        print(y_train) \n"
   ]
  },
  {
   "cell_type": "markdown",
   "metadata": {},
   "source": [
    "# Prepare train data for LSTM model"
   ]
  },
  {
   "cell_type": "code",
   "execution_count": 16,
   "metadata": {},
   "outputs": [
    {
     "data": {
      "text/plain": [
       "(3181, 60)"
      ]
     },
     "execution_count": 16,
     "metadata": {},
     "output_type": "execute_result"
    }
   ],
   "source": [
    "# Convert list to numpy array for LSTM model:\n",
    "X_train, y_train = np.array(X_train), np.array(y_train)\n",
    "X_train.shape"
   ]
  },
  {
   "cell_type": "code",
   "execution_count": 17,
   "metadata": {},
   "outputs": [
    {
     "data": {
      "text/plain": [
       "(3181, 60, 1)"
      ]
     },
     "execution_count": 17,
     "metadata": {},
     "output_type": "execute_result"
    }
   ],
   "source": [
    "# LSTM model expects 3D, reshape:\n",
    "X_train = np.reshape(X_train, (X_train.shape[0], X_train.shape[1], 1))\n",
    "X_train.shape"
   ]
  },
  {
   "cell_type": "markdown",
   "metadata": {},
   "source": [
    "# Build the LSTM model"
   ]
  },
  {
   "cell_type": "code",
   "execution_count": 18,
   "metadata": {},
   "outputs": [],
   "source": [
    "from tensorflow.keras.models import Sequential\n",
    "from tensorflow.keras.layers import Dense, LSTM\n",
    "model = Sequential()\n",
    "model.add(LSTM(50, return_sequences=True, input_shape=(X_train.shape[1], 1)))\n",
    "model.add(LSTM(50, return_sequences=False))\n",
    "model.add(Dense(25))\n",
    "model.add(Dense(1))"
   ]
  },
  {
   "cell_type": "code",
   "execution_count": 19,
   "metadata": {},
   "outputs": [],
   "source": [
    "model.compile(optimizer='adam', loss='mean_squared_error')"
   ]
  },
  {
   "cell_type": "code",
   "execution_count": 20,
   "metadata": {},
   "outputs": [
    {
     "name": "stdout",
     "output_type": "stream",
     "text": [
      "3181/3181 [==============================] - 49s 15ms/step - loss: 1.6359e-04\n"
     ]
    },
    {
     "data": {
      "text/plain": [
       "<keras.callbacks.History at 0x18db789eee0>"
      ]
     },
     "execution_count": 20,
     "metadata": {},
     "output_type": "execute_result"
    }
   ],
   "source": [
    "model.fit(X_train, y_train, batch_size=1, epochs=1)"
   ]
  },
  {
   "cell_type": "code",
   "execution_count": 21,
   "metadata": {},
   "outputs": [],
   "source": [
    "#Create test data\n",
    "test_data = dataset_scaled[train_data_len-60:,:]\n",
    "X_test = []\n",
    "y_test = dataset[train_data_len:,:]\n",
    "for i in range(60, len(test_data)):\n",
    " X_test.append(test_data[i-60:i,0])"
   ]
  },
  {
   "cell_type": "code",
   "execution_count": 22,
   "metadata": {},
   "outputs": [],
   "source": [
    "#Covert test data to a numpy array and reshape\n",
    "X_test = np.array(X_test)\n",
    "X_test = np.reshape(X_test, (X_test.shape[0],X_test.shape[1],1))"
   ]
  },
  {
   "cell_type": "code",
   "execution_count": 23,
   "metadata": {},
   "outputs": [],
   "source": [
    "#Get predicted prices\n",
    "predictions_lstm = model.predict(X_test)\n",
    "predictions = scaler.inverse_transform(predictions_lstm)"
   ]
  },
  {
   "cell_type": "code",
   "execution_count": 24,
   "metadata": {},
   "outputs": [
    {
     "data": {
      "text/plain": [
       "dtype('float64')"
      ]
     },
     "execution_count": 24,
     "metadata": {},
     "output_type": "execute_result"
    }
   ],
   "source": [
    "y_test.dtype"
   ]
  },
  {
   "cell_type": "code",
   "execution_count": 25,
   "metadata": {},
   "outputs": [
    {
     "data": {
      "text/plain": [
       "1.1596706527965404"
      ]
     },
     "execution_count": 25,
     "metadata": {},
     "output_type": "execute_result"
    }
   ],
   "source": [
    "#Get the root mean square error (RMSE) 0 being most favourable\n",
    "rmse = np.sqrt(np.mean(predictions-y_test)**2)\n",
    "rmse"
   ]
  },
  {
   "cell_type": "code",
   "execution_count": 26,
   "metadata": {},
   "outputs": [
    {
     "name": "stderr",
     "output_type": "stream",
     "text": [
      "C:\\Users\\antoi\\AppData\\Local\\Temp/ipykernel_10620/583277699.py:5: SettingWithCopyWarning: \n",
      "A value is trying to be set on a copy of a slice from a DataFrame.\n",
      "Try using .loc[row_indexer,col_indexer] = value instead\n",
      "\n",
      "See the caveats in the documentation: https://pandas.pydata.org/pandas-docs/stable/user_guide/indexing.html#returning-a-view-versus-a-copy\n",
      "  valid['Predictions'] = predictions # another column for validating test\n"
     ]
    },
    {
     "data": {
      "image/png": "[encoded data removed]",
      "text/plain": [
       "<Figure size 1152x576 with 1 Axes>"
      ]
     },
     "metadata": {},
     "output_type": "display_data"
    }
   ],
   "source": [
    "#Plot the data to validate the test data\n",
    "plt.style.use('fivethirtyeight')\n",
    "train = data.iloc[:train_data_len] # actual train data from 0 rows until train data end\n",
    "valid = data.iloc[train_data_len:] # actual test data from train data end until end of all sampled data\n",
    "valid['Predictions'] = predictions # another column for validating test\n",
    "\n",
    "plt.figure(figsize=(16,8))\n",
    "plt.title('MIN LSTM Model')\n",
    "plt.xlabel('Trading Date', fontsize=18)\n",
    "plt.ylabel('Close Price AUD ($)',fontsize=18)\n",
    "plt.plot(train['Close'])\n",
    "plt.plot(valid[['Close','Predictions']])\n",
    "plt.legend(['Training','Validate','Tested'],loc='lower right')\n",
    "# x = np.arange(2006,2022,9)\n",
    "plt.xticks([0,500,1000,1500,2000,2500,3000,3500,4000],[2006,2008,2010,2012,2014,2016,2018,2020,2022])\n",
    "plt.savefig('../static/data/images/min_graph.png')\n",
    "plt.show()"
   ]
  },
  {
   "cell_type": "markdown",
   "metadata": {},
   "source": [
    "# Test data Predictions on the Model"
   ]
  },
  {
   "cell_type": "code",
   "execution_count": 27,
   "metadata": {},
   "outputs": [
    {
     "name": "stderr",
     "output_type": "stream",
     "text": [
      "C:\\Users\\antoi\\AppData\\Local\\Temp/ipykernel_10620/3403988079.py:1: SettingWithCopyWarning: \n",
      "A value is trying to be set on a copy of a slice from a DataFrame.\n",
      "Try using .loc[row_indexer,col_indexer] = value instead\n",
      "\n",
      "See the caveats in the documentation: https://pandas.pydata.org/pandas-docs/stable/user_guide/indexing.html#returning-a-view-versus-a-copy\n",
      "  valid['Difference']= valid['Close']-valid['Predictions']\n"
     ]
    },
    {
     "data": {
      "text/plain": [
       "<bound method NDFrame.head of           Close  Predictions  Difference\n",
       "3241  15.200000    16.261312   -1.061312\n",
       "3242  15.120000    16.173607   -1.053607\n",
       "3243  15.560000    15.993298   -0.433298\n",
       "3244  15.490000    15.915325   -0.425325\n",
       "3245  14.990000    15.883065   -0.893065\n",
       "...         ...          ...         ...\n",
       "4046  48.799999    50.010101   -1.210102\n",
       "4047  53.209999    50.476162    2.733837\n",
       "4048  53.740002    51.978756    1.761246\n",
       "4049  53.959999    53.601261    0.358738\n",
       "4050  53.080002    54.881241   -1.801239\n",
       "\n",
       "[810 rows x 3 columns]>"
      ]
     },
     "execution_count": 27,
     "metadata": {},
     "output_type": "execute_result"
    }
   ],
   "source": [
    "valid['Difference']= valid['Close']-valid['Predictions']\n",
    "valid.head"
   ]
  },
  {
   "cell_type": "code",
   "execution_count": 28,
   "metadata": {},
   "outputs": [
    {
     "data": {
      "text/plain": [
       "(60, 1)"
      ]
     },
     "execution_count": 28,
     "metadata": {},
     "output_type": "execute_result"
    }
   ],
   "source": [
    "# Use last 60 days price on model to predict next days price\n",
    "import pandas as pd\n",
    "\n",
    "df_mongo = pd.DataFrame(list(db.min.find()))\n",
    "sixty_val = df_mongo.iloc[-60:,4].values\n",
    "last_sixty = sixty_val.reshape(-1,1)\n",
    "\n",
    "last_sixty.shape"
   ]
  },
  {
   "cell_type": "code",
   "execution_count": 29,
   "metadata": {},
   "outputs": [
    {
     "data": {
      "text/plain": [
       "(1, 60, 1)"
      ]
     },
     "execution_count": 29,
     "metadata": {},
     "output_type": "execute_result"
    }
   ],
   "source": [
    "last_60_days_scaled = scaler.transform(last_sixty)\n",
    "X_tell = []\n",
    "X_tell.append(last_60_days_scaled)\n",
    "X_tell =np.array(X_tell)\n",
    "X_tell =np.reshape(X_tell, (X_tell.shape[0], X_tell.shape[1],1))\n",
    "X_tell.shape"
   ]
  },
  {
   "cell_type": "code",
   "execution_count": 30,
   "metadata": {},
   "outputs": [
    {
     "name": "stdout",
     "output_type": "stream",
     "text": [
      "02/08/2022 Last close $53.08000183105469 Predicted next day share price $54.55\n"
     ]
    }
   ],
   "source": [
    "pred_price = model.predict(X_tell)\n",
    "pred_price = scaler.inverse_transform(pred_price)\n",
    "pred_price = round(float(pred_price),2)\n",
    "print(f'{last_date} Last close ${last_close} Predicted next day share price ${pred_price}')"
   ]
  },
  {
   "cell_type": "markdown",
   "metadata": {},
   "source": [
    "# Save the Model"
   ]
  },
  {
   "cell_type": "code",
   "execution_count": 31,
   "metadata": {},
   "outputs": [],
   "source": [
    "# Save the entire model to a HDF5 file.\n",
    "# The '.h5' extension indicates that the model should be saved to HDF5.\n",
    "filepath = '../static/min_model.sav'\n",
    "model.save(filepath, save_format=\"h5\")"
   ]
  },
  {
   "cell_type": "markdown",
   "metadata": {},
   "source": [
    "#Save last 60 days to a list min_sixty and load df"
   ]
  },
  {
   "cell_type": "markdown",
   "metadata": {},
   "source": [
    "#PREDICT USING LOADED MODEL"
   ]
  },
  {
   "cell_type": "code",
   "execution_count": 32,
   "metadata": {},
   "outputs": [],
   "source": [
    "from keras.models import load_model\n",
    "model_in = load_model('../static/min_model.sav')"
   ]
  },
  {
   "cell_type": "code",
   "execution_count": 33,
   "metadata": {},
   "outputs": [
    {
     "data": {
      "text/plain": [
       "array([[51.049999  ],\n",
       "       [51.849998  ],\n",
       "       [52.82      ],\n",
       "       [53.        ],\n",
       "       [54.259998  ],\n",
       "       [56.200001  ],\n",
       "       [59.18      ],\n",
       "       [57.849998  ],\n",
       "       [59.130001  ],\n",
       "       [59.639999  ],\n",
       "       [60.080002  ],\n",
       "       [60.115002  ],\n",
       "       [58.880001  ],\n",
       "       [61.        ],\n",
       "       [61.59      ],\n",
       "       [62.634998  ],\n",
       "       [58.310001  ],\n",
       "       [56.619999  ],\n",
       "       [59.299999  ],\n",
       "       [59.599998  ],\n",
       "       [58.990002  ],\n",
       "       [59.23      ],\n",
       "       [57.919998  ],\n",
       "       [55.880001  ],\n",
       "       [52.720001  ],\n",
       "       [53.400002  ],\n",
       "       [52.860001  ],\n",
       "       [51.279999  ],\n",
       "       [48.049999  ],\n",
       "       [48.639999  ],\n",
       "       [48.080002  ],\n",
       "       [46.529999  ],\n",
       "       [46.650002  ],\n",
       "       [48.509998  ],\n",
       "       [48.5       ],\n",
       "       [48.645     ],\n",
       "       [47.919998  ],\n",
       "       [46.27      ],\n",
       "       [45.299999  ],\n",
       "       [45.509998  ],\n",
       "       [42.75      ],\n",
       "       [44.        ],\n",
       "       [45.869999  ],\n",
       "       [46.00999832],\n",
       "       [44.31000137],\n",
       "       [43.27000046],\n",
       "       [44.72999954],\n",
       "       [43.36999893],\n",
       "       [43.5       ],\n",
       "       [44.95000076],\n",
       "       [46.17499924],\n",
       "       [46.34000015],\n",
       "       [46.5       ],\n",
       "       [47.09000015],\n",
       "       [47.97999954],\n",
       "       [48.38000107],\n",
       "       [49.52000046],\n",
       "       [53.52000046],\n",
       "       [53.81999969],\n",
       "       [52.38000107]])"
      ]
     },
     "execution_count": 33,
     "metadata": {},
     "output_type": "execute_result"
    }
   ],
   "source": [
    "# query the min collection and load into dataframe\n",
    "\n",
    "df_mongo = pd.DataFrame(list(db.min.find()))\n",
    "sixty_val = df_mongo.iloc[-60:,4].values\n",
    "last_sixty = sixty_val.reshape(-1,1)\n",
    "\n",
    "last_sixty"
   ]
  },
  {
   "cell_type": "code",
   "execution_count": 34,
   "metadata": {},
   "outputs": [],
   "source": [
    "# workings for scatterplot\n",
    "# df_mongo_min = pd.DataFrame(list(db.min.find()))\n",
    "# df_min = df_mongo_min.iloc[-4250:]\n",
    "# min_dict = df_min.to_dict(orient='records')\n",
    "# #print(min_dict)"
   ]
  },
  {
   "cell_type": "markdown",
   "metadata": {},
   "source": [
    "#Create a function to loop through the days input"
   ]
  },
  {
   "cell_type": "code",
   "execution_count": 35,
   "metadata": {},
   "outputs": [
    {
     "name": "stdout",
     "output_type": "stream",
     "text": [
      "1\n",
      "Day finished! Price: \n",
      "2\n",
      "Day finished! Price: \n",
      "3\n",
      "Day finished! Price: \n",
      "4\n",
      "Day finished! Price: \n",
      "5\n",
      "Day finished! Price: \n",
      "6\n",
      "Day finished! Price: \n",
      "7\n",
      "Day finished! Price: \n",
      "8\n",
      "Day finished! Price: \n",
      "9\n",
      "Day finished! Price: \n",
      "10\n",
      "Day finished! Price: \n",
      "11\n",
      "Day finished! Price: \n",
      "12\n",
      "Day finished! Price: \n",
      "13\n",
      "Day finished! Price: \n",
      "14\n",
      "Day finished! Price: \n",
      "15\n",
      "Day finished! Price: \n",
      "16\n",
      "Day finished! Price: \n",
      "17\n",
      "Day finished! Price: \n",
      "18\n",
      "Day finished! Price: \n",
      "19\n",
      "Day finished! Price: \n",
      "20\n",
      "Day finished! Price: \n",
      "21\n",
      "Day finished! Price: \n",
      "22\n",
      "Day finished! Price: \n",
      "23\n",
      "Day finished! Price: \n",
      "24\n",
      "Day finished! Price: \n",
      "25\n",
      "Day finished! Price: \n",
      "26\n",
      "Day finished! Price: \n",
      "27\n",
      "Day finished! Price: \n",
      "28\n",
      "Day finished! Price: \n",
      "29\n",
      "Day finished! Price: \n",
      "30\n",
      "Day finished! Price: \n",
      "31\n",
      "Day finished! Price: \n",
      "32\n",
      "Day finished! Price: \n",
      "33\n",
      "Day finished! Price: \n",
      "34\n",
      "Day finished! Price: \n",
      "35\n",
      "Day finished! Price: \n",
      "36\n",
      "Day finished! Price: \n",
      "37\n",
      "Day finished! Price: \n",
      "38\n",
      "Day finished! Price: \n",
      "39\n",
      "Day finished! Price: \n",
      "40\n",
      "Day finished! Price: \n",
      "41\n",
      "Day finished! Price: \n",
      "42\n",
      "Day finished! Price: \n",
      "43\n",
      "Day finished! Price: \n",
      "44\n",
      "Day finished! Price: \n",
      "45\n",
      "Day finished! Price: \n",
      "46\n",
      "Day finished! Price: \n",
      "47\n",
      "Day finished! Price: \n",
      "48\n",
      "Day finished! Price: \n",
      "49\n",
      "Day finished! Price: \n",
      "50\n",
      "Day finished! Price: \n",
      "51\n",
      "Day finished! Price: \n",
      "52\n",
      "Day finished! Price: \n",
      "53\n",
      "Day finished! Price: \n",
      "54\n",
      "Day finished! Price: \n",
      "55\n",
      "Day finished! Price: \n",
      "56\n",
      "Day finished! Price: \n",
      "57\n",
      "Day finished! Price: \n",
      "58\n",
      "Day finished! Price: \n",
      "59\n",
      "Day finished! Price: \n",
      "60\n",
      "Day finished! Price: \n",
      "61\n",
      "Day finished! Price: \n",
      "62\n",
      "Day finished! Price: \n",
      "63\n",
      "Day finished! Price: \n",
      "64\n",
      "Day finished! Price: \n",
      "65\n",
      "Day finished! Price: \n",
      "66\n",
      "Day finished! Price: \n",
      "67\n",
      "Day finished! Price: \n",
      "68\n",
      "Day finished! Price: \n",
      "69\n",
      "Day finished! Price: \n",
      "70\n",
      "Day finished! Price: \n",
      "71\n",
      "Day finished! Price: \n",
      "72\n",
      "Day finished! Price: \n",
      "73\n",
      "Day finished! Price: \n",
      "74\n",
      "Day finished! Price: \n",
      "75\n",
      "Day finished! Price: \n",
      "76\n",
      "Day finished! Price: \n",
      "77\n",
      "Day finished! Price: \n",
      "78\n",
      "Day finished! Price: \n",
      "79\n",
      "Day finished! Price: \n",
      "80\n",
      "Day finished! Price: \n",
      "81\n",
      "Day finished! Price: \n",
      "82\n",
      "Day finished! Price: \n",
      "83\n",
      "Day finished! Price: \n",
      "84\n",
      "Day finished! Price: \n",
      "85\n",
      "Day finished! Price: \n",
      "86\n",
      "Day finished! Price: \n",
      "87\n",
      "Day finished! Price: \n",
      "88\n",
      "Day finished! Price: \n",
      "89\n",
      "Day finished! Price: \n",
      "90\n",
      "Day finished! Price: \n",
      "91\n",
      "Day finished! Price: \n",
      "92\n",
      "Day finished! Price: \n",
      "93\n",
      "Day finished! Price: \n",
      "94\n",
      "Day finished! Price: \n",
      "95\n",
      "Day finished! Price: \n",
      "96\n",
      "Day finished! Price: \n",
      "97\n",
      "Day finished! Price: \n",
      "98\n",
      "Day finished! Price: \n",
      "99\n",
      "Day finished! Price: \n",
      "100\n",
      "Day finished! Price: \n",
      "101\n",
      "Day finished! Price: \n",
      "102\n",
      "Day finished! Price: \n",
      "103\n",
      "Day finished! Price: \n",
      "104\n",
      "Day finished! Price: \n",
      "105\n",
      "Day finished! Price: \n",
      "106\n",
      "Day finished! Price: \n",
      "107\n",
      "Day finished! Price: \n",
      "108\n",
      "Day finished! Price: \n",
      "109\n",
      "Day finished! Price: \n",
      "110\n",
      "Day finished! Price: \n",
      "111\n",
      "Day finished! Price: \n",
      "112\n",
      "Day finished! Price: \n",
      "113\n",
      "Day finished! Price: \n",
      "114\n",
      "Day finished! Price: \n",
      "115\n",
      "Day finished! Price: \n",
      "116\n",
      "Day finished! Price: \n",
      "117\n",
      "Day finished! Price: \n",
      "118\n",
      "Day finished! Price: \n",
      "119\n",
      "Day finished! Price: \n",
      "120\n",
      "Day finished! Price: \n",
      "121\n",
      "Day finished! Price: \n",
      "122\n",
      "Day finished! Price: \n",
      "123\n",
      "Day finished! Price: \n",
      "124\n",
      "Day finished! Price: \n",
      "125\n",
      "Day finished! Price: \n",
      "126\n",
      "Day finished! Price: \n",
      "127\n",
      "Day finished! Price: \n",
      "128\n",
      "Day finished! Price: \n",
      "129\n",
      "Day finished! Price: \n",
      "130\n",
      "Day finished! Price: \n",
      "131\n",
      "Day finished! Price: \n",
      "132\n",
      "Day finished! Price: \n",
      "133\n",
      "Day finished! Price: \n",
      "134\n",
      "Day finished! Price: \n",
      "135\n",
      "Day finished! Price: \n",
      "136\n",
      "Day finished! Price: \n",
      "137\n",
      "Day finished! Price: \n",
      "138\n",
      "Day finished! Price: \n",
      "139\n",
      "Day finished! Price: \n",
      "140\n",
      "Day finished! Price: \n",
      "141\n",
      "Day finished! Price: \n",
      "142\n",
      "Day finished! Price: \n",
      "143\n",
      "Day finished! Price: \n",
      "144\n",
      "Day finished! Price: \n",
      "145\n",
      "Day finished! Price: \n",
      "146\n",
      "Day finished! Price: \n",
      "147\n",
      "Day finished! Price: \n",
      "148\n",
      "Day finished! Price: \n",
      "149\n",
      "Day finished! Price: \n",
      "150\n",
      "Day finished! Price: \n",
      "151\n",
      "Day finished! Price: \n",
      "152\n",
      "Day finished! Price: \n",
      "153\n",
      "Day finished! Price: \n",
      "154\n",
      "Day finished! Price: \n",
      "155\n",
      "Day finished! Price: \n",
      "156\n",
      "Day finished! Price: \n",
      "157\n",
      "Day finished! Price: \n",
      "158\n",
      "Day finished! Price: \n",
      "159\n",
      "Day finished! Price: \n",
      "160\n",
      "Day finished! Price: \n",
      "161\n",
      "Day finished! Price: \n",
      "162\n",
      "Day finished! Price: \n",
      "163\n",
      "Day finished! Price: \n",
      "164\n",
      "Day finished! Price: \n",
      "165\n",
      "Day finished! Price: \n",
      "166\n",
      "Day finished! Price: \n",
      "167\n",
      "Day finished! Price: \n",
      "168\n",
      "Day finished! Price: \n",
      "169\n",
      "Day finished! Price: \n",
      "170\n",
      "Day finished! Price: \n",
      "171\n",
      "Day finished! Price: \n",
      "172\n",
      "Day finished! Price: \n",
      "173\n",
      "Day finished! Price: \n",
      "174\n",
      "Day finished! Price: \n",
      "175\n",
      "Day finished! Price: \n",
      "176\n",
      "Day finished! Price: \n",
      "177\n",
      "Day finished! Price: \n",
      "178\n",
      "Day finished! Price: \n",
      "179\n",
      "Day finished! Price: \n",
      "Could not predict further!\n",
      "180\n"
     ]
    },
    {
     "data": {
      "text/plain": [
       "[52.56,\n",
       " 52.95,\n",
       " 53.1,\n",
       " 53.12,\n",
       " 53.09,\n",
       " 53.04,\n",
       " 52.99,\n",
       " 52.95,\n",
       " 52.95,\n",
       " 52.97,\n",
       " 53.03,\n",
       " 53.12,\n",
       " 53.24,\n",
       " 53.39,\n",
       " 53.56,\n",
       " 53.75,\n",
       " 53.94,\n",
       " 54.15,\n",
       " 54.36,\n",
       " 54.57,\n",
       " 54.77,\n",
       " 54.98,\n",
       " 55.16,\n",
       " 55.28,\n",
       " 55.41,\n",
       " 55.55,\n",
       " 55.68,\n",
       " 55.81,\n",
       " 55.93,\n",
       " 56.05,\n",
       " 56.17,\n",
       " 56.3,\n",
       " 56.43,\n",
       " 56.56,\n",
       " 56.7,\n",
       " 56.85,\n",
       " 56.99,\n",
       " 57.14,\n",
       " 57.3,\n",
       " 57.46,\n",
       " 57.62,\n",
       " 57.77,\n",
       " 57.93,\n",
       " 58.09,\n",
       " 58.25,\n",
       " 58.41,\n",
       " 58.57,\n",
       " 58.74,\n",
       " 58.9,\n",
       " 59.02,\n",
       " 59.14,\n",
       " 59.28,\n",
       " 59.41,\n",
       " 59.52,\n",
       " 59.62,\n",
       " 59.73,\n",
       " 59.81,\n",
       " 59.83,\n",
       " 59.9,\n",
       " 59.96,\n",
       " 60.02,\n",
       " 60.07,\n",
       " 60.13,\n",
       " 60.19,\n",
       " 60.25,\n",
       " 60.32,\n",
       " 60.39,\n",
       " 60.46,\n",
       " 60.54,\n",
       " 60.62,\n",
       " 60.7,\n",
       " 60.78,\n",
       " 60.87,\n",
       " 60.95,\n",
       " 61.03,\n",
       " 61.11,\n",
       " 61.18,\n",
       " 61.25,\n",
       " 61.33,\n",
       " 61.39,\n",
       " 61.46,\n",
       " 61.52,\n",
       " 61.58,\n",
       " 61.65,\n",
       " 61.71,\n",
       " 61.77,\n",
       " 61.82,\n",
       " 61.88,\n",
       " 61.94,\n",
       " 62.0,\n",
       " 62.05,\n",
       " 62.11,\n",
       " 62.17,\n",
       " 62.22,\n",
       " 62.28,\n",
       " 62.33,\n",
       " 62.39,\n",
       " 62.44,\n",
       " 62.49,\n",
       " 62.54,\n",
       " 62.59,\n",
       " 62.63,\n",
       " 62.68,\n",
       " 62.72,\n",
       " 62.77,\n",
       " 62.81,\n",
       " 62.85,\n",
       " 62.89,\n",
       " 62.92,\n",
       " 62.96,\n",
       " 63.0,\n",
       " 63.03,\n",
       " 63.06,\n",
       " 63.1,\n",
       " 63.13,\n",
       " 63.16,\n",
       " 63.2,\n",
       " 63.23,\n",
       " 63.26,\n",
       " 63.29,\n",
       " 63.33,\n",
       " 63.36,\n",
       " 63.39,\n",
       " 63.42,\n",
       " 63.46,\n",
       " 63.49,\n",
       " 63.52,\n",
       " 63.55,\n",
       " 63.58,\n",
       " 63.61,\n",
       " 63.64,\n",
       " 63.67,\n",
       " 63.7,\n",
       " 63.72,\n",
       " 63.75,\n",
       " 63.78,\n",
       " 63.8,\n",
       " 63.83,\n",
       " 63.85,\n",
       " 63.87,\n",
       " 63.9,\n",
       " 63.92,\n",
       " 63.94,\n",
       " 63.96,\n",
       " 63.99,\n",
       " 64.01,\n",
       " 64.03,\n",
       " 64.05,\n",
       " 64.07,\n",
       " 64.09,\n",
       " 64.11,\n",
       " 64.13,\n",
       " 64.15,\n",
       " 64.17,\n",
       " 64.19,\n",
       " 64.21,\n",
       " 64.22,\n",
       " 64.24,\n",
       " 64.26,\n",
       " 64.28,\n",
       " 64.29,\n",
       " 64.31,\n",
       " 64.32,\n",
       " 64.34,\n",
       " 64.35,\n",
       " 64.37,\n",
       " 64.38,\n",
       " 64.4,\n",
       " 64.41,\n",
       " 64.43,\n",
       " 64.44,\n",
       " 64.46,\n",
       " 64.47,\n",
       " 64.48,\n",
       " 64.5,\n",
       " 64.51,\n",
       " 64.52,\n",
       " 64.54,\n",
       " 64.55]"
      ]
     },
     "execution_count": 35,
     "metadata": {},
     "output_type": "execute_result"
    }
   ],
   "source": [
    "from keras.models import load_model\n",
    "model_in = load_model('../static/min_model.sav')\n",
    "from sklearn.preprocessing import MinMaxScaler\n",
    "scaler = MinMaxScaler(feature_range=(0,1))\n",
    "\n",
    "price_list=[]\n",
    "\n",
    "#Function to predict future days predicted price, in loop\n",
    "input = 180 #days\n",
    "if input == \"\":\n",
    "    input = 180\n",
    "else:\n",
    "   input = int(input)\n",
    "\n",
    "def predict_min(last_sixty,model_in,input):\n",
    "    for i in range(1, input):\n",
    "\n",
    "        #Takes df and converts to model's predict shape\n",
    "        last_sixty_scaled = scaler.fit_transform(last_sixty)\n",
    "        new_X_tell = []\n",
    "        new_X_tell.append(last_sixty_scaled)\n",
    "        new_X_tell =np.array(new_X_tell)\n",
    "        new_X_tell =np.reshape(new_X_tell, (new_X_tell.shape[0], new_X_tell.shape[1],1))\n",
    "        \n",
    "        model_in_pd_scale = model_in.predict(new_X_tell)\n",
    "        model_in_price = scaler.inverse_transform(model_in_pd_scale) # New price predicted\n",
    "\n",
    "        last_sixty_less_one = np.delete(last_sixty, 0, 0)\n",
    "        last_sixty = np.append(last_sixty_less_one, model_in_price,axis = 0) # Update last 60\n",
    "        print(i)\n",
    "        print(\"Day finished! Price: \")\n",
    "        price_float = float(model_in_price)\n",
    "        price = round(price_float, 2)\n",
    "        price_list.append(price)\n",
    "    else:\n",
    "        print(\"Could not predict further!\")\n",
    "        print(input)\n",
    "    # print(price_list)\n",
    "    return price_list\n",
    "\n",
    "price_pred = predict_min(last_sixty,model_in,input)\n",
    "price_pred"
   ]
  },
  {
   "cell_type": "code",
   "execution_count": 36,
   "metadata": {},
   "outputs": [
    {
     "data": {
      "text/html": [
       "<div>\n",
       "<style scoped>\n",
       "    .dataframe tbody tr th:only-of-type {\n",
       "        vertical-align: middle;\n",
       "    }\n",
       "\n",
       "    .dataframe tbody tr th {\n",
       "        vertical-align: top;\n",
       "    }\n",
       "\n",
       "    .dataframe thead th {\n",
       "        text-align: right;\n",
       "    }\n",
       "</style>\n",
       "<table border=\"1\" class=\"dataframe\">\n",
       "  <thead>\n",
       "    <tr style=\"text-align: right;\">\n",
       "      <th></th>\n",
       "      <th>Count</th>\n",
       "      <th>Date</th>\n",
       "      <th>DOW</th>\n",
       "    </tr>\n",
       "  </thead>\n",
       "  <tbody>\n",
       "    <tr>\n",
       "      <th>0</th>\n",
       "      <td>1</td>\n",
       "      <td>11/07/2022</td>\n",
       "      <td>Monday</td>\n",
       "    </tr>\n",
       "    <tr>\n",
       "      <th>1</th>\n",
       "      <td>2</td>\n",
       "      <td>12/07/2022</td>\n",
       "      <td>Tuesday</td>\n",
       "    </tr>\n",
       "    <tr>\n",
       "      <th>2</th>\n",
       "      <td>3</td>\n",
       "      <td>13/07/2022</td>\n",
       "      <td>Wednesday</td>\n",
       "    </tr>\n",
       "    <tr>\n",
       "      <th>3</th>\n",
       "      <td>4</td>\n",
       "      <td>14/07/2022</td>\n",
       "      <td>Thursday</td>\n",
       "    </tr>\n",
       "    <tr>\n",
       "      <th>4</th>\n",
       "      <td>5</td>\n",
       "      <td>15/07/2022</td>\n",
       "      <td>Friday</td>\n",
       "    </tr>\n",
       "    <tr>\n",
       "      <th>...</th>\n",
       "      <td>...</td>\n",
       "      <td>...</td>\n",
       "      <td>...</td>\n",
       "    </tr>\n",
       "    <tr>\n",
       "      <th>260</th>\n",
       "      <td>261</td>\n",
       "      <td>10/07/2023</td>\n",
       "      <td>Monday</td>\n",
       "    </tr>\n",
       "    <tr>\n",
       "      <th>261</th>\n",
       "      <td>262</td>\n",
       "      <td>11/07/2023</td>\n",
       "      <td>Tuesday</td>\n",
       "    </tr>\n",
       "    <tr>\n",
       "      <th>262</th>\n",
       "      <td>263</td>\n",
       "      <td>12/07/2023</td>\n",
       "      <td>Wednesday</td>\n",
       "    </tr>\n",
       "    <tr>\n",
       "      <th>263</th>\n",
       "      <td>264</td>\n",
       "      <td>13/07/2023</td>\n",
       "      <td>Thursday</td>\n",
       "    </tr>\n",
       "    <tr>\n",
       "      <th>264</th>\n",
       "      <td>265</td>\n",
       "      <td>14/07/2023</td>\n",
       "      <td>Friday</td>\n",
       "    </tr>\n",
       "  </tbody>\n",
       "</table>\n",
       "<p>265 rows × 3 columns</p>\n",
       "</div>"
      ],
      "text/plain": [
       "     Count        Date        DOW\n",
       "0        1  11/07/2022     Monday\n",
       "1        2  12/07/2022    Tuesday\n",
       "2        3  13/07/2022  Wednesday\n",
       "3        4  14/07/2022   Thursday\n",
       "4        5  15/07/2022     Friday\n",
       "..     ...         ...        ...\n",
       "260    261  10/07/2023     Monday\n",
       "261    262  11/07/2023    Tuesday\n",
       "262    263  12/07/2023  Wednesday\n",
       "263    264  13/07/2023   Thursday\n",
       "264    265  14/07/2023     Friday\n",
       "\n",
       "[265 rows x 3 columns]"
      ]
     },
     "execution_count": 36,
     "metadata": {},
     "output_type": "execute_result"
    }
   ],
   "source": [
    "import pandas as pd\n",
    "dates_df = pd.read_csv(\"../static/data/dates.csv\")\n",
    "dates_df['Count'] = dates_df['Count'].fillna(0).astype(int)\n",
    "dates_df\n"
   ]
  },
  {
   "cell_type": "code",
   "execution_count": 37,
   "metadata": {},
   "outputs": [
    {
     "name": "stderr",
     "output_type": "stream",
     "text": [
      "C:\\Users\\antoi\\AppData\\Local\\Temp/ipykernel_10620/2474989974.py:4: SettingWithCopyWarning: \n",
      "A value is trying to be set on a copy of a slice from a DataFrame.\n",
      "Try using .loc[row_indexer,col_indexer] = value instead\n",
      "\n",
      "See the caveats in the documentation: https://pandas.pydata.org/pandas-docs/stable/user_guide/indexing.html#returning-a-view-versus-a-copy\n",
      "  dates_df_iloc['Price'] = price_list\n"
     ]
    },
    {
     "data": {
      "image/png": "[encoded data removed]",
      "text/plain": [
       "<Figure size 432x288 with 1 Axes>"
      ]
     },
     "metadata": {},
     "output_type": "display_data"
    }
   ],
   "source": [
    "# DRAW THE PREDICTION\n",
    "#Append the input amount of trading days to dates dictionary\n",
    "dates_df_iloc = dates_df.iloc[0:(input-1)]\n",
    "dates_df_iloc['Price'] = price_list\n",
    "plt.plot(dates_df_iloc['Price'])\n",
    "plt.title('MIN LSTM PREDICTIONS')\n",
    "plt.xlabel('Future Trading Days', fontsize=10)\n",
    "plt.ylabel('Close Price AUD ($)',fontsize=10)\n",
    "plt.savefig('../static/data/images/pred/min_pred.png', bbox_inches=\"tight\")\n",
    "plt.show()"
   ]
  },
  {
   "cell_type": "code",
   "execution_count": 38,
   "metadata": {},
   "outputs": [
    {
     "data": {
      "text/plain": [
       "[{'Price': 52.56},\n",
       " {'Price': 52.95},\n",
       " {'Price': 53.1},\n",
       " {'Price': 53.12},\n",
       " {'Price': 53.09},\n",
       " {'Price': 53.04},\n",
       " {'Price': 52.99},\n",
       " {'Price': 52.95},\n",
       " {'Price': 52.95},\n",
       " {'Price': 52.97},\n",
       " {'Price': 53.03},\n",
       " {'Price': 53.12},\n",
       " {'Price': 53.24},\n",
       " {'Price': 53.39},\n",
       " {'Price': 53.56},\n",
       " {'Price': 53.75},\n",
       " {'Price': 53.94},\n",
       " {'Price': 54.15},\n",
       " {'Price': 54.36},\n",
       " {'Price': 54.57},\n",
       " {'Price': 54.77},\n",
       " {'Price': 54.98},\n",
       " {'Price': 55.16},\n",
       " {'Price': 55.28},\n",
       " {'Price': 55.41},\n",
       " {'Price': 55.55},\n",
       " {'Price': 55.68},\n",
       " {'Price': 55.81},\n",
       " {'Price': 55.93},\n",
       " {'Price': 56.05},\n",
       " {'Price': 56.17},\n",
       " {'Price': 56.3},\n",
       " {'Price': 56.43},\n",
       " {'Price': 56.56},\n",
       " {'Price': 56.7},\n",
       " {'Price': 56.85},\n",
       " {'Price': 56.99},\n",
       " {'Price': 57.14},\n",
       " {'Price': 57.3},\n",
       " {'Price': 57.46},\n",
       " {'Price': 57.62},\n",
       " {'Price': 57.77},\n",
       " {'Price': 57.93},\n",
       " {'Price': 58.09},\n",
       " {'Price': 58.25},\n",
       " {'Price': 58.41},\n",
       " {'Price': 58.57},\n",
       " {'Price': 58.74},\n",
       " {'Price': 58.9},\n",
       " {'Price': 59.02},\n",
       " {'Price': 59.14},\n",
       " {'Price': 59.28},\n",
       " {'Price': 59.41},\n",
       " {'Price': 59.52},\n",
       " {'Price': 59.62},\n",
       " {'Price': 59.73},\n",
       " {'Price': 59.81},\n",
       " {'Price': 59.83},\n",
       " {'Price': 59.9},\n",
       " {'Price': 59.96},\n",
       " {'Price': 60.02},\n",
       " {'Price': 60.07},\n",
       " {'Price': 60.13},\n",
       " {'Price': 60.19},\n",
       " {'Price': 60.25},\n",
       " {'Price': 60.32},\n",
       " {'Price': 60.39},\n",
       " {'Price': 60.46},\n",
       " {'Price': 60.54},\n",
       " {'Price': 60.62},\n",
       " {'Price': 60.7},\n",
       " {'Price': 60.78},\n",
       " {'Price': 60.87},\n",
       " {'Price': 60.95},\n",
       " {'Price': 61.03},\n",
       " {'Price': 61.11},\n",
       " {'Price': 61.18},\n",
       " {'Price': 61.25},\n",
       " {'Price': 61.33},\n",
       " {'Price': 61.39},\n",
       " {'Price': 61.46},\n",
       " {'Price': 61.52},\n",
       " {'Price': 61.58},\n",
       " {'Price': 61.65},\n",
       " {'Price': 61.71},\n",
       " {'Price': 61.77},\n",
       " {'Price': 61.82},\n",
       " {'Price': 61.88},\n",
       " {'Price': 61.94},\n",
       " {'Price': 62.0},\n",
       " {'Price': 62.05},\n",
       " {'Price': 62.11},\n",
       " {'Price': 62.17},\n",
       " {'Price': 62.22},\n",
       " {'Price': 62.28},\n",
       " {'Price': 62.33},\n",
       " {'Price': 62.39},\n",
       " {'Price': 62.44},\n",
       " {'Price': 62.49},\n",
       " {'Price': 62.54},\n",
       " {'Price': 62.59},\n",
       " {'Price': 62.63},\n",
       " {'Price': 62.68},\n",
       " {'Price': 62.72},\n",
       " {'Price': 62.77},\n",
       " {'Price': 62.81},\n",
       " {'Price': 62.85},\n",
       " {'Price': 62.89},\n",
       " {'Price': 62.92},\n",
       " {'Price': 62.96},\n",
       " {'Price': 63.0},\n",
       " {'Price': 63.03},\n",
       " {'Price': 63.06},\n",
       " {'Price': 63.1},\n",
       " {'Price': 63.13},\n",
       " {'Price': 63.16},\n",
       " {'Price': 63.2},\n",
       " {'Price': 63.23},\n",
       " {'Price': 63.26},\n",
       " {'Price': 63.29},\n",
       " {'Price': 63.33},\n",
       " {'Price': 63.36},\n",
       " {'Price': 63.39},\n",
       " {'Price': 63.42},\n",
       " {'Price': 63.46},\n",
       " {'Price': 63.49},\n",
       " {'Price': 63.52},\n",
       " {'Price': 63.55},\n",
       " {'Price': 63.58},\n",
       " {'Price': 63.61},\n",
       " {'Price': 63.64},\n",
       " {'Price': 63.67},\n",
       " {'Price': 63.7},\n",
       " {'Price': 63.72},\n",
       " {'Price': 63.75},\n",
       " {'Price': 63.78},\n",
       " {'Price': 63.8},\n",
       " {'Price': 63.83},\n",
       " {'Price': 63.85},\n",
       " {'Price': 63.87},\n",
       " {'Price': 63.9},\n",
       " {'Price': 63.92},\n",
       " {'Price': 63.94},\n",
       " {'Price': 63.96},\n",
       " {'Price': 63.99},\n",
       " {'Price': 64.01},\n",
       " {'Price': 64.03},\n",
       " {'Price': 64.05},\n",
       " {'Price': 64.07},\n",
       " {'Price': 64.09},\n",
       " {'Price': 64.11},\n",
       " {'Price': 64.13},\n",
       " {'Price': 64.15},\n",
       " {'Price': 64.17},\n",
       " {'Price': 64.19},\n",
       " {'Price': 64.21},\n",
       " {'Price': 64.22},\n",
       " {'Price': 64.24},\n",
       " {'Price': 64.26},\n",
       " {'Price': 64.28},\n",
       " {'Price': 64.29},\n",
       " {'Price': 64.31},\n",
       " {'Price': 64.32},\n",
       " {'Price': 64.34},\n",
       " {'Price': 64.35},\n",
       " {'Price': 64.37},\n",
       " {'Price': 64.38},\n",
       " {'Price': 64.4},\n",
       " {'Price': 64.41},\n",
       " {'Price': 64.43},\n",
       " {'Price': 64.44},\n",
       " {'Price': 64.46},\n",
       " {'Price': 64.47},\n",
       " {'Price': 64.48},\n",
       " {'Price': 64.5},\n",
       " {'Price': 64.51},\n",
       " {'Price': 64.52},\n",
       " {'Price': 64.54},\n",
       " {'Price': 64.55}]"
      ]
     },
     "execution_count": 38,
     "metadata": {},
     "output_type": "execute_result"
    }
   ],
   "source": [
    "#Append the input amount of trading days to dates dictionary\n",
    "my_dict = dates_df_iloc.to_dict(orient='records')\n",
    "my_dict\n",
    "price_dict = [dict(zip(['Price'],[x])) for x in price_list]\n",
    "price_dict"
   ]
  },
  {
   "cell_type": "code",
   "execution_count": 39,
   "metadata": {},
   "outputs": [
    {
     "name": "stdout",
     "output_type": "stream",
     "text": [
      "3241 4051 4214\n"
     ]
    },
    {
     "data": {
      "text/html": [
       "<div>\n",
       "<style scoped>\n",
       "    .dataframe tbody tr th:only-of-type {\n",
       "        vertical-align: middle;\n",
       "    }\n",
       "\n",
       "    .dataframe tbody tr th {\n",
       "        vertical-align: top;\n",
       "    }\n",
       "\n",
       "    .dataframe thead th {\n",
       "        text-align: right;\n",
       "    }\n",
       "</style>\n",
       "<table border=\"1\" class=\"dataframe\">\n",
       "  <thead>\n",
       "    <tr style=\"text-align: right;\">\n",
       "      <th></th>\n",
       "      <th>Close</th>\n",
       "    </tr>\n",
       "  </thead>\n",
       "  <tbody>\n",
       "    <tr>\n",
       "      <th>4203</th>\n",
       "      <td>64.43</td>\n",
       "    </tr>\n",
       "    <tr>\n",
       "      <th>4204</th>\n",
       "      <td>64.44</td>\n",
       "    </tr>\n",
       "    <tr>\n",
       "      <th>4205</th>\n",
       "      <td>64.46</td>\n",
       "    </tr>\n",
       "    <tr>\n",
       "      <th>4206</th>\n",
       "      <td>64.47</td>\n",
       "    </tr>\n",
       "    <tr>\n",
       "      <th>4207</th>\n",
       "      <td>64.48</td>\n",
       "    </tr>\n",
       "    <tr>\n",
       "      <th>4208</th>\n",
       "      <td>64.50</td>\n",
       "    </tr>\n",
       "    <tr>\n",
       "      <th>4209</th>\n",
       "      <td>64.51</td>\n",
       "    </tr>\n",
       "    <tr>\n",
       "      <th>4210</th>\n",
       "      <td>64.52</td>\n",
       "    </tr>\n",
       "    <tr>\n",
       "      <th>4211</th>\n",
       "      <td>64.54</td>\n",
       "    </tr>\n",
       "    <tr>\n",
       "      <th>4212</th>\n",
       "      <td>64.55</td>\n",
       "    </tr>\n",
       "  </tbody>\n",
       "</table>\n",
       "</div>"
      ],
      "text/plain": [
       "      Close\n",
       "4203  64.43\n",
       "4204  64.44\n",
       "4205  64.46\n",
       "4206  64.47\n",
       "4207  64.48\n",
       "4208  64.50\n",
       "4209  64.51\n",
       "4210  64.52\n",
       "4211  64.54\n",
       "4212  64.55"
      ]
     },
     "execution_count": 39,
     "metadata": {},
     "output_type": "execute_result"
    }
   ],
   "source": [
    "# len_df_mongo = len(df.index) # length of the original dataframe\n",
    "len_df_mongo=len(df_mongo)\n",
    "col_name = ['Close']\n",
    "df_filtered = df.filter(col_name)\n",
    "df_filtered_len = len(df_filtered.index)\n",
    "df_filtered_len\n",
    "len_pred_df = df_filtered_len+input # length of the original dataframe plus the users new inputs\n",
    "print(train_data_len,len_df_mongo,len_pred_df)\n",
    "new_data =df_filtered.append(pd.DataFrame(price_list,columns=col_name),ignore_index=True)\n",
    "new_data.tail(10)"
   ]
  },
  {
   "cell_type": "code",
   "execution_count": 40,
   "metadata": {},
   "outputs": [
    {
     "name": "stderr",
     "output_type": "stream",
     "text": [
      "C:\\Users\\antoi\\AppData\\Local\\Temp/ipykernel_10620/1227892185.py:6: SettingWithCopyWarning: \n",
      "A value is trying to be set on a copy of a slice from a DataFrame.\n",
      "Try using .loc[row_indexer,col_indexer] = value instead\n",
      "\n",
      "See the caveats in the documentation: https://pandas.pydata.org/pandas-docs/stable/user_guide/indexing.html#returning-a-view-versus-a-copy\n",
      "  valid['Predictions'] = predictions # another column for validating test\n"
     ]
    },
    {
     "data": {
      "image/png": "[encoded data removed]",
      "text/plain": [
       "<Figure size 1152x576 with 1 Axes>"
      ]
     },
     "metadata": {},
     "output_type": "display_data"
    }
   ],
   "source": [
    "#Plot the data to validate the test data\n",
    "\n",
    "plt.style.use('fivethirtyeight')\n",
    "train = new_data.iloc[:train_data_len] # actual train data from 0 rows until train data end\n",
    "valid = new_data.iloc[train_data_len:len_df_mongo] # actual test data from train data end until end of all sampled data\n",
    "valid['Predictions'] = predictions # another column for validating test\n",
    "predict = new_data.iloc[len_df_mongo:len_pred_df] # user prediction data from loop\n",
    "\n",
    "plt.figure(figsize=(16,8))\n",
    "plt.title('PREDICTION MIN Share Price - LSTM Model')\n",
    "plt.xlabel('Trading Date', fontsize=18)\n",
    "plt.ylabel('Close Price AUD ($)',fontsize=18)\n",
    "plt.plot(train['Close'])\n",
    "plt.plot(valid[['Close','Predictions']])\n",
    "plt.plot(predict['Close'])\n",
    "plt.legend(['Training data','Tested data','Validate test data','Prediction'],loc='lower right')\n",
    "x = np.arange(2000,2024,4)\n",
    "plt.xticks([0,1000,2000,3000,4000,5000],x)\n",
    "plt.savefig('../static/data/images/min_predict_graph.png')\n",
    "plt.show()"
   ]
  },
  {
   "cell_type": "markdown",
   "metadata": {},
   "source": [
    "#Save predicted price to MongoDB"
   ]
  },
  {
   "cell_type": "code",
   "execution_count": 41,
   "metadata": {},
   "outputs": [
    {
     "name": "stdout",
     "output_type": "stream",
     "text": [
      "{'_id': ObjectId('62dfa392f178c5283b8b5648'), 'model': 'RFR', 'name': 'MIN', 'date': '22/07/2022', 'predicted': 38, 'actual': 46, 'differece': -7.74920083942115, 'accuracy': 93.63}\n",
      "{'_id': ObjectId('62e231a1127d7076c5d68361'), 'model': 'LSTM', 'name': 'MIN', 'date': '28/07/2022', 'predicted': 47.41, 'actual': 53.21, 'differece': -5.800000000000004, 'rmse': 0.46379}\n"
     ]
    }
   ],
   "source": [
    "# Query all\n",
    "name = 'MIN'\n",
    "companys = db.companys.find({'name': name})\n",
    "# Iterate through each company in the collection\n",
    "for company in companys:\n",
    "    print(company)\n"
   ]
  },
  {
   "cell_type": "code",
   "execution_count": 42,
   "metadata": {},
   "outputs": [
    {
     "name": "stdout",
     "output_type": "stream",
     "text": [
      "{'_id': ObjectId('62dfa392f178c5283b8b5648'), 'model': 'RFR', 'name': 'MIN', 'date': '22/07/2022', 'predicted': 38, 'actual': 46, 'differece': -7.74920083942115, 'accuracy': 93.63}\n"
     ]
    }
   ],
   "source": [
    "# Delete a document from a collection\n",
    "db.companys.delete_one(\n",
    "    {'model': 'LSTM','name': name}\n",
    ")\n",
    "\n",
    "# query the companys collection\n",
    "companys = db.companys.find({'name': name})\n",
    "# see change in the collection\n",
    "for company in companys:\n",
    "    print(company)"
   ]
  },
  {
   "cell_type": "code",
   "execution_count": 43,
   "metadata": {},
   "outputs": [
    {
     "name": "stdout",
     "output_type": "stream",
     "text": [
      "date 02/08/2022,predicted $54.55, actual $53.08, difference 1.4699999999999989, rmse 1.15967\n"
     ]
    }
   ],
   "source": [
    "# Set keys and values of company\n",
    "last_close=round(float(last_close),2)\n",
    "difference = pred_price-last_close\n",
    "print(f'date {last_date},predicted ${pred_price}, actual ${last_close}, difference {difference}, rmse {round(rmse,5)}')"
   ]
  },
  {
   "cell_type": "code",
   "execution_count": 44,
   "metadata": {},
   "outputs": [
    {
     "name": "stdout",
     "output_type": "stream",
     "text": [
      "{'_id': ObjectId('62dfa392f178c5283b8b5648'), 'model': 'RFR', 'name': 'MIN', 'date': '22/07/2022', 'predicted': 38, 'actual': 46, 'differece': -7.74920083942115, 'accuracy': 93.63}\n",
      "{'_id': ObjectId('62e8dca0b10b641fd8c7ccc0'), 'model': 'LSTM', 'name': 'MIN', 'date': '02/08/2022', 'predicted': 54.55, 'actual': 53.08, 'difference': 1.47, 'rmse': 1.15967}\n"
     ]
    }
   ],
   "source": [
    "# Insert a document into the 'companys' collection\n",
    "db.companys.insert_one(\n",
    "    {\n",
    "      'model': 'LSTM',\n",
    "      'name': name,\n",
    "      'date': last_date,\n",
    "      'predicted': pred_price,\n",
    "      'actual': last_close,\n",
    "      'difference': round(difference,4),\n",
    "      'rmse': round(rmse,5)        \n",
    "    }\n",
    ")\n",
    "\n",
    "# query the classroom collection\n",
    "companys = db.companys.find({'name': name})\n",
    "\n",
    "# see change in collection\n",
    "for company in companys:\n",
    "    print(company)"
   ]
  },
  {
   "cell_type": "code",
   "execution_count": 45,
   "metadata": {},
   "outputs": [
    {
     "name": "stdout",
     "output_type": "stream",
     "text": [
      "{'_id': ObjectId('62cfb5f0a3e49b5607e1001b'), 'model': 'RFR', 'name': 'nhc', 'date': '14/07/2022', 'predicted': 3, 'actual': 4, 'differece': -0.4134955929131614, 'accuracy': 95.31}\n",
      "{'_id': ObjectId('62df8ae0427af058c4334ede'), 'model': 'RFR', 'name': 'CBA', 'date': '26/07/2022', 'predicted': 97, 'actual': 96, 'differece': 1.0204273335669143, 'accuracy': 97.43}\n",
      "{'_id': ObjectId('62dfa392f178c5283b8b5648'), 'model': 'RFR', 'name': 'MIN', 'date': '22/07/2022', 'predicted': 38, 'actual': 46, 'differece': -7.74920083942115, 'accuracy': 93.63}\n",
      "{'_id': ObjectId('62dfa4d3643d249dfcfea5f3'), 'model': 'RFR', 'name': 'NAB', 'date': '26/07/2022', 'predicted': 28, 'actual': 29, 'differece': -0.9521357946721061, 'accuracy': 97.23}\n",
      "{'_id': ObjectId('62e219cf92eb597dfa71446b'), 'model': 'LSTM', 'name': 'NAB', 'date': '28/07/2022', 'predicted': 29.89, 'actual': 30.28, 'differece': -0.39000000000000057, 'rmse': 0.4037}\n",
      "{'_id': ObjectId('62e22127c7e5ff501a0a119c'), 'model': 'LSTM', 'name': 'WBC', 'date': '28/07/2022', 'predicted': 20.96, 'actual': 21.47, 'differece': -0.509999999999998, 'rmse': 0.17596}\n",
      "{'_id': ObjectId('62e223a5553c4e8d8e53f30a'), 'model': 'LSTM', 'name': 'NHC', 'date': '28/07/2022', 'predicted': 4, 'actual': 4.4, 'differece': -0.15000000000000036, 'rmse': 0.04529}\n",
      "{'_id': ObjectId('62e230eafd3e48eabe9b8365'), 'model': 'RFR', 'name': 'WBC', 'date': '28/07/2022', 'predicted': 31, 'actual': 21, 'differece': 10.425907785164608, 'accuracy': 97.16}\n",
      "{'_id': ObjectId('62e236dd0512e77444960bd6'), 'model': 'RFR', 'name': 'NIC', 'date': '28/07/2022', 'predicted': 0.92, 'actual': 1.09, 'differece': -0.170910457265107, 'accuracy': 91.93}\n",
      "{'_id': ObjectId('62e344e41db0d4fd35f906fc'), 'model': 'RFR', 'name': 'BHP', 'date': '28/07/2022', 'predicted': 46, 'actual': 37, 'differece': 9.531186964187029, 'accuracy': 96.63}\n",
      "{'_id': ObjectId('62e36c15061c0e61acc858fc'), 'model': 'RFR', 'name': 'NHC', 'date': '28/07/2022', 'predicted': 3.57, 'actual': 4.4, 'differece': -0.83, 'accuracy': 95.24}\n",
      "{'_id': ObjectId('62e36d4d3ecef61f4fa45c4f'), 'model': 'RFR', 'name': 'LYC', 'date': '28/07/2022', 'predicted': 6, 'actual': 8, 'differece': -1.6143369469894608, 'accuracy': 89.99}\n",
      "{'_id': ObjectId('62e39fc31db0d4fd35f90704'), 'model': 'RFR', 'name': 'SHL', 'date': '29/07/2022', 'predicted': 32, 'actual': 34, 'differece': -1.9845215812565442, 'accuracy': 96.92}\n",
      "{'_id': ObjectId('62e3a70610019b2a826ddf03'), 'model': 'LSTM', 'name': 'MQG', 'date': '29/07/2022', 'predicted': 158, 'actual': 181.13, 'differece': -23.129999999999995, 'rmse': 12.32756}\n",
      "{'_id': ObjectId('62e3b609582c490ccc726a69'), 'model': 'RFR', 'name': 'MQG', 'date': '29/07/2022', 'predicted': 140, 'actual': 181, 'differece': -40.07434365179597, 'accuracy': 96.3}\n",
      "{'_id': ObjectId('62e47c25ddd32d7e027d5c65'), 'model': 'LSTM', 'name': 'fmg', 'date': '29/07/2022', 'predicted': 19, 'actual': 18.34, 'differece': 0.6600000000000001, 'rmse': 0.73826}\n",
      "{'_id': ObjectId('62e47f0dd8ea1e501830cc74'), 'model': 'RFR', 'name': 'CSL', 'date': '28/07/2022', 'predicted': 244, 'actual': 289, 'differece': -44.766444751532276, 'accuracy': 96.25}\n",
      "{'_id': ObjectId('62e481c2f248345c96c9494d'), 'model': 'RFR', 'name': 'fmg', 'date': '29/07/2022', 'predicted': 12, 'actual': 18, 'differece': -5.209653763866996, 'accuracy': 91.31}\n",
      "{'_id': ObjectId('62e48709f248345c96c94950'), 'model': 'RFR', 'name': 'FMG', 'date': '29/07/2022', 'predicted': 12, 'actual': 18, 'differece': -5.209653763866996, 'accuracy': 91.31}\n",
      "{'_id': ObjectId('62e4b499ae01b19986bd7786'), 'model': 'RFR', 'name': 'WDS', 'date': '29/07/2022', 'predicted': 41, 'actual': 31, 'differece': 10.379854935366822, 'accuracy': 96.85}\n",
      "{'_id': ObjectId('62e50595000bd2fa71a88d82'), 'model': 'RFR', 'name': 'wes', 'date': '29/07/2022', 'predicted': 44, 'actual': 38, 'difference': 6.9125, 'accuracy': 97.16}\n",
      "{'_id': ObjectId('62e508895fb28a99d3939b6d'), 'model': 'LSTM', 'name': 'WES', 'date': '29/07/2022', 'predicted': 44, 'actual': 46.63, 'difference': -2.63, 'rmse': 0.96712}\n",
      "{'_id': ObjectId('62e509e0eccd83cafd3f67a0'), 'model': 'RFR', 'name': 'WOW', 'date': '29/07/2022', 'predicted': 40, 'actual': 37, 'difference': 3.4309, 'accuracy': 97.47}\n",
      "{'_id': ObjectId('62e5c2c1e4b78d2e67be8ed0'), 'model': 'RFR', 'name': 'TCL', 'date': '29/07/2022', 'predicted': 14, 'actual': 14, 'difference': 0.2165, 'accuracy': 97.16}\n",
      "{'_id': ObjectId('62e5c440f8275a0e310a35c2'), 'model': 'RFR', 'name': 'bhp', 'date': '28/07/2022', 'predicted': 46, 'actual': 37, 'difference': 9.5312, 'accuracy': 96.63}\n",
      "{'_id': ObjectId('62e5c51ef8275a0e310a35c5'), 'model': 'RFR', 'name': 'GMG', 'date': '29/07/2022', 'predicted': 18, 'actual': 20, 'difference': -1.7349, 'accuracy': 95.85}\n",
      "{'_id': ObjectId('62e5c6f68d8c67d07d68d3dd'), 'model': 'RFR', 'name': 'WES', 'date': '29/07/2022', 'predicted': 44, 'actual': 46, 'difference': -1.0795, 'accuracy': 97.16}\n",
      "{'_id': ObjectId('62e5f583c574b2d00954e4c2'), 'model': 'LSTM', 'name': 'NCM', 'date': '29/07/2022', 'predicted': 18, 'actual': 19.3, 'difference': -1.3, 'rmse': 0.14373}\n",
      "{'_id': ObjectId('62e5f73678803df19b49e2e2'), 'model': 'LSTM', 'name': 'S32', 'date': '29/07/2022', 'predicted': 3, 'actual': 3.81, 'difference': -0.81, 'rmse': 0.00556}\n",
      "{'_id': ObjectId('62e5f95b66dc62408069f355'), 'model': 'RFR', 'name': 'NCM', 'date': '29/07/2022', 'predicted': 32, 'actual': 19, 'difference': 13.4814, 'accuracy': 95.05}\n",
      "{'_id': ObjectId('62e5fa07a26c8f51fec3b98e'), 'model': 'RFR', 'name': 'STO', 'date': '29/07/2022', 'predicted': 8, 'actual': 7, 'difference': 1.9036, 'accuracy': 96.1}\n",
      "{'_id': ObjectId('62e603ea8b5a50a58d8a3c44'), 'model': 'RFR', 'name': 'S32', 'date': '29/07/2022', 'predicted': 5, 'actual': 3, 'difference': 2.2663, 'accuracy': 95.25}\n",
      "{'_id': ObjectId('62e6068c01de7fcbe6e01c52'), 'model': 'LSTM', 'name': 'WOW', 'date': '29/07/2022', 'predicted': 37, 'actual': 37.52, 'difference': -0.52, 'rmse': 0.42353}\n",
      "{'_id': ObjectId('62e61a127d0ca0f96027ba6d'), 'model': 'LSTM', 'name': 'WDS', 'date': '29/07/2022', 'predicted': 32, 'actual': 31.98, 'difference': 0.02, 'rmse': 0.57974}\n",
      "{'_id': ObjectId('62e61a59f0b1c9c10496cd17'), 'model': 'LSTM', 'name': 'NIC', 'date': '29/07/2022', 'predicted': 0.98, 'actual': 1.09, 'difference': -0.11, 'rmse': 0.06457}\n",
      "{'_id': ObjectId('62e61afbfc678b2079eb47dc'), 'model': 'LSTM', 'name': 'TCL', 'date': '29/07/2022', 'predicted': 14, 'actual': 14.51, 'difference': -0.51, 'rmse': 0.54054}\n",
      "{'_id': ObjectId('62e6293d61d30df3b02b8133'), 'model': 'LSTM', 'name': 'STO', 'date': '29/07/2022', 'predicted': 6, 'actual': 7.3, 'difference': -1.3, 'rmse': 0.43219}\n",
      "{'_id': ObjectId('62e630de01fb10179c7be4b4'), 'model': 'LSTM', 'name': 'SHL', 'date': '29/07/2022', 'predicted': 33, 'actual': 34.27, 'difference': -1.27, 'rmse': 0.07788}\n",
      "{'_id': ObjectId('62e63809b66c4b7fa3db1a22'), 'model': 'RFR', 'name': 'anz', 'date': '29/07/2022', 'predicted': 33, 'actual': 22, 'difference': 11.1838, 'accuracy': 97.09}\n",
      "{'_id': ObjectId('62e79232e8f9771757706e98'), 'model': 'RFR', 'name': 'ANZ', 'date': '29/07/2022', 'predicted': 33, 'actual': 22, 'difference': 11.1838, 'accuracy': 97.09}\n",
      "{'_id': ObjectId('62e89d76aca4dfecd59ea2b5'), 'model': 'LSTM', 'name': 'BHP', 'date': '02/08/2022', 'predicted': 36, 'actual': 38.5, 'difference': -2.5, 'rmse': 1.92406}\n",
      "{'_id': ObjectId('62e89ea1c861fc9168019521'), 'model': 'LSTM', 'name': 'CBA', 'date': '02/08/2022', 'predicted': 96.49, 'actual': 101.84, 'difference': -5.35, 'rmse': 1.95705}\n",
      "{'_id': ObjectId('62e89f8c573d4d6ff28140cc'), 'model': 'LSTM', 'name': 'CSL', 'date': '02/08/2022', 'predicted': 20.86, 'actual': 296.17, 'difference': -275.31, 'rmse': 2.55927}\n",
      "{'_id': ObjectId('62e8a0a42529c40d566fc2b9'), 'model': 'LSTM', 'name': 'FMG', 'date': '02/08/2022', 'predicted': 19, 'actual': 17.7, 'difference': 1.3, 'rmse': 0.94076}\n",
      "{'_id': ObjectId('62e8a15c9c9e803afb20722b'), 'model': 'LSTM', 'name': 'GMG', 'date': '02/08/2022', 'predicted': 19, 'actual': 20.21, 'difference': -1.21, 'rmse': 0.42871}\n",
      "{'_id': ObjectId('62e8d1006268ec69462793ef'), 'model': 'LSTM', 'name': 'LYC', 'date': '02/08/2022', 'predicted': 20.89, 'actual': 8.88, 'difference': 12.01, 'rmse': 0.01834}\n",
      "{'_id': ObjectId('62e8dc2feec2ef8f24254be9'), 'model': 'LSTM', 'name': 'ANZ', 'date': '27-07-2022', 'predicted': 19, 'actual': 22.73, 'difference': -3.73, 'rmse': 3.47658}\n",
      "{'_id': ObjectId('62e8dca0b10b641fd8c7ccc0'), 'model': 'LSTM', 'name': 'MIN', 'date': '02/08/2022', 'predicted': 54.55, 'actual': 53.08, 'difference': 1.47, 'rmse': 1.15967}\n"
     ]
    }
   ],
   "source": [
    "# query all the classroom collection\n",
    "companys = db.companys.find()\n",
    "\n",
    "# see change in collection\n",
    "for company in companys:\n",
    "    print(company)"
   ]
  }
 ],
 "metadata": {
  "kernel_info": {
   "name": "dev"
  },
  "kernelspec": {
   "display_name": "Python 3.9.7 ('base')",
   "language": "python",
   "name": "python3"
  },
  "language_info": {
   "codemirror_mode": {
    "name": "ipython",
    "version": 3
   },
   "file_extension": ".py",
   "mimetype": "text/x-python",
   "name": "python",
   "nbconvert_exporter": "python",
   "pygments_lexer": "ipython3",
   "version": "3.9.7"
  },
  "nteract": {
   "version": "0.12.3"
  },
  "vscode": {
   "interpreter": {
    "hash": "45bb1cb4637e4034484920e5cfb24c9afd84b0847d6c36e39edd3067d3a05462"
   }
  }
 },
 "nbformat": 4,
 "nbformat_minor": 2
}
