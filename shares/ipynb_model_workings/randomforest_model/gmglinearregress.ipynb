{
 "cells": [
  {
   "cell_type": "code",
   "execution_count": 1,
   "metadata": {},
   "outputs": [
    {
     "name": "stdout",
     "output_type": "stream",
     "text": [
      "Requirement already satisfied: sklearn in c:\\users\\antoi\\anaconda3\\lib\\site-packages (0.0)\n",
      "Requirement already satisfied: scikit-learn in c:\\users\\antoi\\anaconda3\\lib\\site-packages (from sklearn) (0.24.2)\n",
      "Requirement already satisfied: threadpoolctl>=2.0.0 in c:\\users\\antoi\\anaconda3\\lib\\site-packages (from scikit-learn->sklearn) (2.2.0)\n",
      "Requirement already satisfied: scipy>=0.19.1 in c:\\users\\antoi\\anaconda3\\lib\\site-packages (from scikit-learn->sklearn) (1.7.1)\n",
      "Requirement already satisfied: numpy>=1.13.3 in c:\\users\\antoi\\anaconda3\\lib\\site-packages (from scikit-learn->sklearn) (1.20.3)\n",
      "Requirement already satisfied: joblib>=0.11 in c:\\users\\antoi\\anaconda3\\lib\\site-packages (from scikit-learn->sklearn) (1.1.0)\n",
      "Requirement already satisfied: joblib in c:\\users\\antoi\\anaconda3\\lib\\site-packages (1.1.0)\n"
     ]
    }
   ],
   "source": [
    "# Update sklearn to prevent version mismatches\n",
    "!pip install sklearn --upgrade\n",
    "# install joblib. This will be used to save your model. \n",
    "# Restart your kernel after installing \n",
    "!pip install joblib"
   ]
  },
  {
   "cell_type": "markdown",
   "metadata": {},
   "source": [
    "This model uses a neural network and GridSearchCV to predict share price impacts of Interest changes"
   ]
  },
  {
   "cell_type": "markdown",
   "metadata": {},
   "source": [
    "# Read the CSV and Perform Basic Data Cleaning"
   ]
  },
  {
   "cell_type": "code",
   "execution_count": 2,
   "metadata": {},
   "outputs": [],
   "source": [
    "import matplotlib.pyplot as plt\n",
    "import numpy as np\n",
    "import pandas as pd"
   ]
  },
  {
   "cell_type": "code",
   "execution_count": 3,
   "metadata": {},
   "outputs": [
    {
     "data": {
      "text/html": [
       "<div>\n",
       "<style scoped>\n",
       "    .dataframe tbody tr th:only-of-type {\n",
       "        vertical-align: middle;\n",
       "    }\n",
       "\n",
       "    .dataframe tbody tr th {\n",
       "        vertical-align: top;\n",
       "    }\n",
       "\n",
       "    .dataframe thead th {\n",
       "        text-align: right;\n",
       "    }\n",
       "</style>\n",
       "<table border=\"1\" class=\"dataframe\">\n",
       "  <thead>\n",
       "    <tr style=\"text-align: right;\">\n",
       "      <th></th>\n",
       "      <th>Date</th>\n",
       "      <th>Open</th>\n",
       "      <th>High</th>\n",
       "      <th>Low</th>\n",
       "      <th>Close</th>\n",
       "      <th>Adj Close</th>\n",
       "      <th>Volume</th>\n",
       "      <th>RBA</th>\n",
       "      <th>FED</th>\n",
       "      <th>CPI</th>\n",
       "    </tr>\n",
       "  </thead>\n",
       "  <tbody>\n",
       "    <tr>\n",
       "      <th>4424</th>\n",
       "      <td>1/08/2022</td>\n",
       "      <td>20.750000</td>\n",
       "      <td>20.879999</td>\n",
       "      <td>20.530001</td>\n",
       "      <td>20.650000</td>\n",
       "      <td>20.650000</td>\n",
       "      <td>3380282</td>\n",
       "      <td>1.35</td>\n",
       "      <td>2.5</td>\n",
       "      <td>125.0</td>\n",
       "    </tr>\n",
       "    <tr>\n",
       "      <th>4425</th>\n",
       "      <td>2/08/2022</td>\n",
       "      <td>20.520000</td>\n",
       "      <td>20.549999</td>\n",
       "      <td>19.980000</td>\n",
       "      <td>20.430000</td>\n",
       "      <td>20.430000</td>\n",
       "      <td>3492361</td>\n",
       "      <td>1.35</td>\n",
       "      <td>2.5</td>\n",
       "      <td>125.0</td>\n",
       "    </tr>\n",
       "    <tr>\n",
       "      <th>4426</th>\n",
       "      <td>3/08/2022</td>\n",
       "      <td>20.370001</td>\n",
       "      <td>20.600000</td>\n",
       "      <td>20.190001</td>\n",
       "      <td>20.469999</td>\n",
       "      <td>20.469999</td>\n",
       "      <td>3051566</td>\n",
       "      <td>1.85</td>\n",
       "      <td>2.5</td>\n",
       "      <td>125.0</td>\n",
       "    </tr>\n",
       "    <tr>\n",
       "      <th>4427</th>\n",
       "      <td>4/08/2022</td>\n",
       "      <td>20.740000</td>\n",
       "      <td>20.959999</td>\n",
       "      <td>20.490000</td>\n",
       "      <td>20.500000</td>\n",
       "      <td>20.500000</td>\n",
       "      <td>3041303</td>\n",
       "      <td>1.85</td>\n",
       "      <td>2.5</td>\n",
       "      <td>125.0</td>\n",
       "    </tr>\n",
       "    <tr>\n",
       "      <th>4428</th>\n",
       "      <td>5/08/2022</td>\n",
       "      <td>20.700001</td>\n",
       "      <td>20.709999</td>\n",
       "      <td>20.520000</td>\n",
       "      <td>20.600000</td>\n",
       "      <td>20.600000</td>\n",
       "      <td>205737</td>\n",
       "      <td>1.85</td>\n",
       "      <td>2.5</td>\n",
       "      <td>125.0</td>\n",
       "    </tr>\n",
       "  </tbody>\n",
       "</table>\n",
       "</div>"
      ],
      "text/plain": [
       "           Date       Open       High        Low      Close  Adj Close  \\\n",
       "4424  1/08/2022  20.750000  20.879999  20.530001  20.650000  20.650000   \n",
       "4425  2/08/2022  20.520000  20.549999  19.980000  20.430000  20.430000   \n",
       "4426  3/08/2022  20.370001  20.600000  20.190001  20.469999  20.469999   \n",
       "4427  4/08/2022  20.740000  20.959999  20.490000  20.500000  20.500000   \n",
       "4428  5/08/2022  20.700001  20.709999  20.520000  20.600000  20.600000   \n",
       "\n",
       "       Volume   RBA  FED    CPI  \n",
       "4424  3380282  1.35  2.5  125.0  \n",
       "4425  3492361  1.35  2.5  125.0  \n",
       "4426  3051566  1.85  2.5  125.0  \n",
       "4427  3041303  1.85  2.5  125.0  \n",
       "4428   205737  1.85  2.5  125.0  "
      ]
     },
     "execution_count": 3,
     "metadata": {},
     "output_type": "execute_result"
    }
   ],
   "source": [
    "df_stock1 = pd.read_csv(\"../../static/data/gmg.csv\")\n",
    "# Drop the null columns where all values are null\n",
    "df_stock2 = df_stock1.dropna(axis='columns', how='all')\n",
    "# Drop the null rows\n",
    "df = df_stock2.dropna()\n",
    "df.tail()"
   ]
  },
  {
   "cell_type": "code",
   "execution_count": 4,
   "metadata": {},
   "outputs": [
    {
     "name": "stdout",
     "output_type": "stream",
     "text": [
      "12/08/2022 20.190000534057617\n"
     ]
    },
    {
     "data": {
      "text/plain": [
       "<bound method NDFrame.tail of                            _id        Date       Open       High        Low  \\\n",
       "0     62ec71342dd1ff9d908b5dad   2/02/2005  18.110001  18.241871  18.022087   \n",
       "1     62ec71342dd1ff9d908b5dae   3/02/2005  18.153957  18.197912  17.934175   \n",
       "2     62ec71342dd1ff9d908b5daf   4/02/2005  18.066044  18.110001  17.890219   \n",
       "3     62ec71342dd1ff9d908b5db0   7/02/2005  18.153957  18.725389  18.153957   \n",
       "4     62ec71342dd1ff9d908b5db1   8/02/2005  18.637476  18.637476  18.461651   \n",
       "...                        ...         ...        ...        ...        ...   \n",
       "4429  62f21c70525fcff703604c78  08/08/2022  20.530001  20.690001  20.080000   \n",
       "4430  62f36d1b525fcff703604c89  09/08/2022  20.290001  20.510000  20.240000   \n",
       "4431  62f6fabde64eee8457064f5f  10/08/2022  20.290001  20.360001  19.959999   \n",
       "4432  62f6fabde64eee8457064f60  11/08/2022  20.379999  20.850000  20.340000   \n",
       "4433  62f6fabde64eee8457064f61  12/08/2022  20.500000  20.540001  20.155001   \n",
       "\n",
       "          Close  Adj Close   Volume   RBA  FED    CPI  \n",
       "0     18.153957   8.075551  1766657  5.25  2.5   82.1  \n",
       "1     18.022087   8.016889  1231525  5.25  2.5   82.1  \n",
       "2     18.066044   8.036445  1429571  5.25  2.5   82.1  \n",
       "3     18.681433   8.310191  2385083  5.25  2.5   82.1  \n",
       "4     18.461651   8.212425   721746  5.25  2.5   82.1  \n",
       "...         ...        ...      ...   ...  ...    ...  \n",
       "4429  20.129999  20.129999  2539378  1.85  2.5  125.0  \n",
       "4430  20.500000  20.500000  2042698  1.85  2.5  125.0  \n",
       "4431  19.969999  19.969999  2256376  1.85  2.5  125.0  \n",
       "4432  20.770000  20.770000  3811880  1.85  2.5  125.0  \n",
       "4433  20.190001  20.190001  2822483  1.85  2.5  125.0  \n",
       "\n",
       "[4434 rows x 11 columns]>"
      ]
     },
     "execution_count": 4,
     "metadata": {},
     "output_type": "execute_result"
    }
   ],
   "source": [
    "# Connect to MongoDb\n",
    "from pymongo import MongoClient\n",
    "mongoClient = MongoClient()\n",
    "db = mongoClient.sharesDB\n",
    "\n",
    "df_mongo = pd.DataFrame(list(db.gmg.find()))\n",
    "last_val = df_mongo.iloc[-1:].values\n",
    "last_date = last_val[0][1]\n",
    "last_close = last_val[0][5]\n",
    "# print(last_val)\n",
    "print(last_date,last_close)\n",
    "df_mongo.tail\n"
   ]
  },
  {
   "cell_type": "markdown",
   "metadata": {},
   "source": [
    "# Use `RBA`,`FED` and `CPI` for the X values"
   ]
  },
  {
   "cell_type": "code",
   "execution_count": 5,
   "metadata": {},
   "outputs": [
    {
     "name": "stdout",
     "output_type": "stream",
     "text": [
      "(4434, 3) (4434, 1)\n"
     ]
    }
   ],
   "source": [
    "X = df_mongo[[\"RBA\",\"FED\",\"CPI\"]]\n",
    "y = df_mongo[\"Close\"].values.reshape(-1, 1)\n",
    "print(X.shape, y.shape)"
   ]
  },
  {
   "cell_type": "code",
   "execution_count": 6,
   "metadata": {},
   "outputs": [],
   "source": [
    "# X = df_mongo[[\"RBA\",\"FED\",\"CPI\"]]\n",
    "# y = df_mongo[\"Close\"].values.reshape(-1, 1)\n",
    "# print(X.shape, y.shape)"
   ]
  },
  {
   "cell_type": "code",
   "execution_count": 7,
   "metadata": {},
   "outputs": [
    {
     "data": {
      "text/plain": [
       "array([[18.153957  ],\n",
       "       [18.022087  ],\n",
       "       [18.066044  ],\n",
       "       ...,\n",
       "       [19.96999931],\n",
       "       [20.77000046],\n",
       "       [20.19000053]])"
      ]
     },
     "execution_count": 7,
     "metadata": {},
     "output_type": "execute_result"
    }
   ],
   "source": [
    "y"
   ]
  },
  {
   "cell_type": "markdown",
   "metadata": {},
   "source": [
    "# Create a Train Test Split"
   ]
  },
  {
   "cell_type": "code",
   "execution_count": 8,
   "metadata": {},
   "outputs": [
    {
     "name": "stdout",
     "output_type": "stream",
     "text": [
      "(3325, 3) (3325, 1)\n",
      "(1109, 3) (1109, 1)\n",
      "<bound method DataFrame.info of        RBA   FED    CPI\n",
      "3407  1.50  2.00  113.5\n",
      "3247  1.50  1.25  112.1\n",
      "3408  1.50  2.00  113.5\n",
      "2236  2.50  0.25  104.8\n",
      "3705  1.00  2.00  115.4\n",
      "...    ...   ...    ...\n",
      "2895  1.75  0.50  109.4\n",
      "2763  2.00  0.50  108.2\n",
      "905   7.25  2.00   92.7\n",
      "3980  0.25  1.25  117.2\n",
      "235   5.50  4.25   84.5\n",
      "\n",
      "[3325 rows x 3 columns]>\n"
     ]
    }
   ],
   "source": [
    "# Use train_test_split to create training and testing data\n",
    "from sklearn.model_selection import train_test_split\n",
    "\n",
    "X_train, X_test, y_train, y_test = train_test_split(X, y, random_state=1)\n",
    "print(X_train.shape, y_train.shape)\n",
    "print(X_test.shape, y_test.shape)\n",
    "print(X_train.info)"
   ]
  },
  {
   "cell_type": "code",
   "execution_count": 9,
   "metadata": {},
   "outputs": [],
   "source": [
    "from sklearn.linear_model import LinearRegression\n",
    "model = LinearRegression()"
   ]
  },
  {
   "cell_type": "markdown",
   "metadata": {},
   "source": [
    "# Fit the model"
   ]
  },
  {
   "cell_type": "code",
   "execution_count": 10,
   "metadata": {},
   "outputs": [
    {
     "name": "stdout",
     "output_type": "stream",
     "text": [
      "Training Score: 0.8257936946401507\n",
      "Testing Score: 0.807989397187784\n"
     ]
    }
   ],
   "source": [
    "# Fit the model to the training data and calculate the scores for the training and testing data\n",
    "\n",
    "### BEGIN SOLUTION\n",
    "model.fit(X_train, y_train)\n",
    "training_score = model.score(X_train, y_train)\n",
    "testing_score = model.score(X_test, y_test)\n",
    "\n",
    "### END SOLUTION \n",
    "\n",
    "print(f\"Training Score: {training_score}\")\n",
    "print(f\"Testing Score: {testing_score}\")"
   ]
  },
  {
   "cell_type": "code",
   "execution_count": 11,
   "metadata": {},
   "outputs": [],
   "source": [
    "# X_train = X_train.reshape((X_train.shape[0], 1))"
   ]
  },
  {
   "cell_type": "code",
   "execution_count": 12,
   "metadata": {},
   "outputs": [],
   "source": [
    "#Linear Regression Residual showing difference actual vs predicted\n",
    "# residual = pd.DataFrame([model.predict(X_train),y_train,(model.predict(X_train)-y_train)])\n",
    "# residual.tail"
   ]
  },
  {
   "cell_type": "code",
   "execution_count": 13,
   "metadata": {},
   "outputs": [
    {
     "data": {
      "text/plain": [
       "Text(0.5, 1.0, 'Residual Plot')"
      ]
     },
     "execution_count": 13,
     "metadata": {},
     "output_type": "execute_result"
    },
    {
     "data": {
      "image/png": "[encoded data removed]",
      "text/plain": [
       "<Figure size 432x288 with 1 Axes>"
      ]
     },
     "metadata": {
      "needs_background": "light"
     },
     "output_type": "display_data"
    }
   ],
   "source": [
    "# Plot the Residuals for the Training and Testing data\n",
    "plt.scatter(model.predict(X_train), model.predict(X_train) - y_train, c=\"blue\", label=\"Training Data\")\n",
    "plt.scatter(model.predict(X_test), model.predict(X_test) - y_test, c=\"orange\", label=\"Testing Data\")\n",
    "plt.legend()\n",
    "plt.hlines(y=0, xmin=y.min(), xmax=y.max())\n",
    "plt.title(\"Residual Plot\")"
   ]
  },
  {
   "cell_type": "code",
   "execution_count": 14,
   "metadata": {},
   "outputs": [],
   "source": [
    "# Linear Regression: X_test predictions to variable\n",
    "predictions = model.predict(X_test)"
   ]
  },
  {
   "cell_type": "markdown",
   "metadata": {},
   "source": [
    "#### R2 Score is a very popular metric used for evaluating the performance of linear regression models. Where R2 Score is between 0 and 1, the closer to 1, the better the regression fit.\n",
    "#### Use MSE or MAE when comparing two or more models, the lower the value of MSE or MAE, the better. MSE (Mean Square Error): Uses Euclidean distance to calculate the error. MSE gives the magnitude of the error only."
   ]
  },
  {
   "cell_type": "code",
   "execution_count": 15,
   "metadata": {},
   "outputs": [
    {
     "name": "stdout",
     "output_type": "stream",
     "text": [
      "MSE: 13.760529214077655, R2: 0.807989397187784\n"
     ]
    }
   ],
   "source": [
    "# Used X_test, y_test, and model.predict(X_test) to calculate MSE and R2\n",
    "\n",
    "### BEGIN SOLUTION\n",
    "from sklearn.metrics import mean_squared_error\n",
    "\n",
    "MSE = mean_squared_error(y_test, predictions)\n",
    "r2 = model.score(X_test, y_test)\n",
    "### END SOLUTION\n",
    "\n",
    "print(f\"MSE: {MSE}, R2: {r2}\")"
   ]
  },
  {
   "cell_type": "markdown",
   "metadata": {},
   "source": [
    "#### Lasso regression imposes a constraint on the model parameters that causes regression coefficients for some variables to shrink toward zero. It comes with a parameter, alpha , and the higher the alpha , the more feature coefficients are zero. When alpha is 0 , Lasso regression produces the same coefficients as a linear regression."
   ]
  },
  {
   "cell_type": "code",
   "execution_count": 16,
   "metadata": {},
   "outputs": [
    {
     "name": "stdout",
     "output_type": "stream",
     "text": [
      "MSE: 13.7608249835907, R2: 0.8079852701021458\n"
     ]
    }
   ],
   "source": [
    "# LASSO model\n",
    "# Note: Used an alpha of .01 when creating the model for this activity\n",
    "from sklearn.linear_model import Lasso\n",
    "\n",
    "### BEGIN SOLUTION\n",
    "lasso = Lasso(alpha=.01).fit(X_train, y_train)\n",
    "\n",
    "predictions = lasso.predict(X_test)\n",
    "\n",
    "MSE = mean_squared_error(y_test, predictions)\n",
    "r2 = lasso.score(X_test, y_test)\n",
    "### END SOLUTION\n",
    "\n",
    "print(f\"MSE: {MSE}, R2: {r2}\")"
   ]
  },
  {
   "cell_type": "code",
   "execution_count": 17,
   "metadata": {},
   "outputs": [
    {
     "name": "stdout",
     "output_type": "stream",
     "text": [
      "MSE: 13.76053354984415, R2: 0.8079893366877026\n"
     ]
    }
   ],
   "source": [
    "# Ridge model\n",
    "# Note: Used an alpha of .01 when creating the model for this activity\n",
    "from sklearn.linear_model import Ridge\n",
    "\n",
    "### BEGIN SOLUTION\n",
    "ridge = Ridge(alpha=.01).fit(X_train, y_train)\n",
    "\n",
    "predictions = ridge.predict(X_test)\n",
    "\n",
    "MSE = mean_squared_error(y_test, predictions)\n",
    "r2 = ridge.score(X_test, y_test)\n",
    "### END SOLUTION\n",
    "\n",
    "print(f\"MSE: {MSE}, R2: {r2}\")"
   ]
  },
  {
   "cell_type": "code",
   "execution_count": 18,
   "metadata": {},
   "outputs": [
    {
     "name": "stdout",
     "output_type": "stream",
     "text": [
      "MSE: 13.768483720959042, R2: 0.807878402208041\n"
     ]
    }
   ],
   "source": [
    "# ElasticNet model\n",
    "# Note: Use an alpha of .01 when creating the model for this activity\n",
    "from sklearn.linear_model import ElasticNet\n",
    "\n",
    "### BEGIN SOLUTION\n",
    "elasticnet = ElasticNet(alpha=.01).fit(X_train, y_train)\n",
    "\n",
    "predictions = elasticnet.predict(X_test)\n",
    "\n",
    "MSE = mean_squared_error(y_test, predictions)\n",
    "r2 = elasticnet.score(X_test, y_test)\n",
    "### END SOLUTION\n",
    "\n",
    "print(f\"MSE: {MSE}, R2: {r2}\")"
   ]
  },
  {
   "cell_type": "markdown",
   "metadata": {},
   "source": [
    "# Hyperparameter Tuning"
   ]
  },
  {
   "cell_type": "code",
   "execution_count": 19,
   "metadata": {},
   "outputs": [
    {
     "data": {
      "text/plain": [
       "(4434,)"
      ]
     },
     "execution_count": 19,
     "metadata": {},
     "output_type": "execute_result"
    }
   ],
   "source": [
    "y_target = df_mongo[\"Close\"]\n",
    "y_target.shape"
   ]
  },
  {
   "cell_type": "code",
   "execution_count": 20,
   "metadata": {},
   "outputs": [
    {
     "name": "stdout",
     "output_type": "stream",
     "text": [
      "(3325, 3) (3325,)\n",
      "(1109, 3) (1109,)\n"
     ]
    }
   ],
   "source": [
    "# Use train_test_split to create training and testing data\n",
    "from sklearn.model_selection import train_test_split\n",
    "\n",
    "X_train, X_test, y_train, y_test = train_test_split(X, y_target, random_state=1)\n",
    "print(X_train.shape, y_train.shape)\n",
    "print(X_test.shape, y_test.shape)"
   ]
  },
  {
   "cell_type": "code",
   "execution_count": 21,
   "metadata": {},
   "outputs": [
    {
     "name": "stdout",
     "output_type": "stream",
     "text": [
      "(3325, 3) (3325,)\n",
      "(1109, 3) (1109,)\n"
     ]
    }
   ],
   "source": [
    "print(X_train.shape,y_train.shape)\n",
    "print(X_test.shape,y_test.shape)"
   ]
  },
  {
   "cell_type": "markdown",
   "metadata": {},
   "source": [
    "#### GridSearchCV and RandomizedSearchCV are techniques to evaluate models for a given hyperparameter vector using cross-validation, hence the “CV” suffix of the class name.\n",
    "#### We are executing many models together is to find which machine learning model works best for this particular dataset."
   ]
  },
  {
   "cell_type": "code",
   "execution_count": 22,
   "metadata": {},
   "outputs": [],
   "source": [
    "from sklearn.linear_model import LinearRegression, Ridge,Lasso\n",
    "from sklearn.neighbors import KNeighborsRegressor\n",
    "from sklearn.ensemble import GradientBoostingRegressor\n",
    "from sklearn.ensemble import ExtraTreesRegressor, RandomForestRegressor\n",
    "from sklearn.tree import DecisionTreeRegressor"
   ]
  },
  {
   "cell_type": "code",
   "execution_count": 23,
   "metadata": {},
   "outputs": [],
   "source": [
    "regressors = [\n",
    "    RandomForestRegressor(),\n",
    "    DecisionTreeRegressor(),\n",
    "    KNeighborsRegressor(),\n",
    "    GradientBoostingRegressor(),\n",
    "    KNeighborsRegressor(),\n",
    "    ExtraTreesRegressor(),\n",
    "    LinearRegression(),\n",
    "    Lasso(),\n",
    "    Ridge()\n",
    "]"
   ]
  },
  {
   "cell_type": "code",
   "execution_count": 24,
   "metadata": {},
   "outputs": [
    {
     "name": "stdout",
     "output_type": "stream",
     "text": [
      "RandomForestRegressor()\n",
      "\tTraining time: 0.641s\n",
      "\tPrediction time: 0.053s\n",
      "\tExplained variance: 0.9937735988093974\n",
      "\tMean absolute error: 0.4068931905431015\n",
      "\tR2 score: 0.993773264770757\n",
      "\n",
      "DecisionTreeRegressor()\n",
      "\tTraining time: 0.008s\n",
      "\tPrediction time: 0.003s\n",
      "\tExplained variance: 0.9937678445140105\n",
      "\tMean absolute error: 0.4061591719040312\n",
      "\tR2 score: 0.993767349303782\n",
      "\n",
      "KNeighborsRegressor()\n",
      "\tTraining time: 0.007s\n",
      "\tPrediction time: 0.012s\n",
      "\tExplained variance: 0.9919387531248635\n",
      "\tMean absolute error: 0.43113760865988154\n",
      "\tR2 score: 0.9919283587159033\n",
      "\n",
      "GradientBoostingRegressor()\n",
      "\tTraining time: 0.296s\n",
      "\tPrediction time: 0.006s\n",
      "\tExplained variance: 0.9920174138055639\n",
      "\tMean absolute error: 0.5006211075075406\n",
      "\tR2 score: 0.9920162276307999\n",
      "\n",
      "KNeighborsRegressor()\n",
      "\tTraining time: 0.007s\n",
      "\tPrediction time: 0.014s\n",
      "\tExplained variance: 0.9919387531248635\n",
      "\tMean absolute error: 0.43113760865988154\n",
      "\tR2 score: 0.9919283587159033\n",
      "\n",
      "ExtraTreesRegressor()\n",
      "\tTraining time: 0.467s\n",
      "\tPrediction time: 0.042s\n",
      "\tExplained variance: 0.9937678445140105\n",
      "\tMean absolute error: 0.4061591719040301\n",
      "\tR2 score: 0.9937673493037821\n",
      "\n",
      "LinearRegression()\n",
      "\tTraining time: 0.004s\n",
      "\tPrediction time: 0.003s\n",
      "\tExplained variance: 0.809178881731569\n",
      "\tMean absolute error: 2.5108325967464644\n",
      "\tR2 score: 0.807989397187784\n",
      "\n",
      "Lasso()\n",
      "\tTraining time: 0.006s\n",
      "\tPrediction time: 0.002s\n",
      "\tExplained variance: 0.7970457514082054\n",
      "\tMean absolute error: 2.7636770196079614\n",
      "\tR2 score: 0.7957809434575063\n",
      "\n",
      "Ridge()\n",
      "\tTraining time: 0.005s\n",
      "\tPrediction time: 0.003s\n",
      "\tExplained variance: 0.8091728359054615\n",
      "\tMean absolute error: 2.5110331167340574\n",
      "\tR2 score: 0.807983330396272\n",
      "\n"
     ]
    }
   ],
   "source": [
    "from time import time\n",
    "from sklearn.metrics import explained_variance_score,mean_absolute_error,r2_score\n",
    "\n",
    "head = 10\n",
    "for model in regressors[:head]:\n",
    "    start = time()\n",
    "    model.fit(X_train, y_train)\n",
    "    train_time = time() - start\n",
    "    start = time()\n",
    "    y_pred = model.predict(X_test)\n",
    "    predict_time = time()-start    \n",
    "    print(model)\n",
    "    print(\"\\tTraining time: %0.3fs\" % train_time)\n",
    "    print(\"\\tPrediction time: %0.3fs\" % predict_time)\n",
    "    print(\"\\tExplained variance:\", explained_variance_score(y_test, y_pred))\n",
    "    print(\"\\tMean absolute error:\", mean_absolute_error(y_test, y_pred))\n",
    "    print(\"\\tR2 score:\", r2_score(y_test, y_pred))\n",
    "    print()"
   ]
  },
  {
   "cell_type": "markdown",
   "metadata": {},
   "source": [
    "#### By comparing these results, we can quickly see that RandomForestRegressor and DecisionTreeRegressor are the best models for our data\n",
    "#### Machine learning models have parameters, which are the internal coefficients set by training or optimizing the model on a training dataset.\n",
    "#### Parameters are different from hyperparameters. Parameters are learned automatically; hyperparameters are set manually to help guide the learning process."
   ]
  },
  {
   "cell_type": "code",
   "execution_count": 25,
   "metadata": {},
   "outputs": [
    {
     "name": "stdout",
     "output_type": "stream",
     "text": [
      "Parameters currently in use:\n",
      "\n",
      "{'bootstrap': True,\n",
      " 'ccp_alpha': 0.0,\n",
      " 'criterion': 'mse',\n",
      " 'max_depth': None,\n",
      " 'max_features': 'auto',\n",
      " 'max_leaf_nodes': None,\n",
      " 'max_samples': None,\n",
      " 'min_impurity_decrease': 0.0,\n",
      " 'min_impurity_split': None,\n",
      " 'min_samples_leaf': 1,\n",
      " 'min_samples_split': 2,\n",
      " 'min_weight_fraction_leaf': 0.0,\n",
      " 'n_estimators': 100,\n",
      " 'n_jobs': None,\n",
      " 'oob_score': False,\n",
      " 'random_state': 42,\n",
      " 'verbose': 0,\n",
      " 'warm_start': False}\n"
     ]
    }
   ],
   "source": [
    "from sklearn.ensemble import RandomForestRegressor\n",
    "rf = RandomForestRegressor(random_state = 42)\n",
    "from pprint import pprint\n",
    "# Look at parameters used by our current forest\n",
    "print('Parameters currently in use:\\n')\n",
    "pprint(rf.get_params())"
   ]
  },
  {
   "cell_type": "code",
   "execution_count": 26,
   "metadata": {},
   "outputs": [
    {
     "name": "stdout",
     "output_type": "stream",
     "text": [
      "{'bootstrap': [True, False],\n",
      " 'max_depth': [10, 20, 30, 40, 50, 60, 70, 80, 90, 100, 110, None],\n",
      " 'max_features': ['auto', 'sqrt'],\n",
      " 'min_samples_leaf': [1, 2, 4],\n",
      " 'min_samples_split': [2, 5, 10],\n",
      " 'n_estimators': [200, 400, 600, 800, 1000, 1200, 1400, 1600, 1800, 2000]}\n"
     ]
    }
   ],
   "source": [
    "from sklearn.model_selection import RandomizedSearchCV\n",
    "# Number of trees in random forest\n",
    "n_estimators = [int(x) for x in np.linspace(start = 200, stop = 2000, num = 10)]\n",
    "# Number of features to consider at every split\n",
    "max_features = ['auto', 'sqrt']\n",
    "# Maximum number of levels in tree\n",
    "max_depth = [int(x) for x in np.linspace(10, 110, num = 11)]\n",
    "max_depth.append(None)\n",
    "# Minimum number of samples required to split a node\n",
    "min_samples_split = [2, 5, 10]\n",
    "# Minimum number of samples required at each leaf node\n",
    "min_samples_leaf = [1, 2, 4]\n",
    "# Method of selecting samples for training each tree\n",
    "bootstrap = [True, False]\n",
    "# Create the random grid\n",
    "random_grid = {'n_estimators': n_estimators,\n",
    "               'max_features': max_features,\n",
    "               'max_depth': max_depth,\n",
    "               'min_samples_split': min_samples_split,\n",
    "               'min_samples_leaf': min_samples_leaf,\n",
    "               'bootstrap': bootstrap}\n",
    "pprint(random_grid)"
   ]
  },
  {
   "cell_type": "code",
   "execution_count": 27,
   "metadata": {},
   "outputs": [
    {
     "name": "stdout",
     "output_type": "stream",
     "text": [
      "Fitting 3 folds for each of 100 candidates, totalling 300 fits\n"
     ]
    },
    {
     "data": {
      "text/plain": [
       "RandomizedSearchCV(cv=3, estimator=RandomForestRegressor(), n_iter=100,\n",
       "                   n_jobs=-1,\n",
       "                   param_distributions={'bootstrap': [True, False],\n",
       "                                        'max_depth': [10, 20, 30, 40, 50, 60,\n",
       "                                                      70, 80, 90, 100, 110,\n",
       "                                                      None],\n",
       "                                        'max_features': ['auto', 'sqrt'],\n",
       "                                        'min_samples_leaf': [1, 2, 4],\n",
       "                                        'min_samples_split': [2, 5, 10],\n",
       "                                        'n_estimators': [200, 400, 600, 800,\n",
       "                                                         1000, 1200, 1400, 1600,\n",
       "                                                         1800, 2000]},\n",
       "                   random_state=42, verbose=2)"
      ]
     },
     "execution_count": 27,
     "metadata": {},
     "output_type": "execute_result"
    }
   ],
   "source": [
    "# Use the random grid to search for best hyperparameters\n",
    "# First create the base model to tune\n",
    "rf = RandomForestRegressor()\n",
    "# Random search of parameters, using 3 fold cross validation, \n",
    "# search across 100 different combinations, and use all available cores\n",
    "rf_random = RandomizedSearchCV(estimator = rf, param_distributions = random_grid, n_iter = 100, cv = 3, verbose=2, random_state=42, n_jobs = -1)\n",
    "# Fit the random search model\n",
    "rf_random.fit(X_train, y_train)"
   ]
  },
  {
   "cell_type": "code",
   "execution_count": 28,
   "metadata": {},
   "outputs": [
    {
     "data": {
      "text/plain": [
       "{'n_estimators': 1000,\n",
       " 'min_samples_split': 2,\n",
       " 'min_samples_leaf': 1,\n",
       " 'max_features': 'auto',\n",
       " 'max_depth': 50,\n",
       " 'bootstrap': False}"
      ]
     },
     "execution_count": 28,
     "metadata": {},
     "output_type": "execute_result"
    }
   ],
   "source": [
    "rf_random.best_params_"
   ]
  },
  {
   "cell_type": "code",
   "execution_count": 29,
   "metadata": {},
   "outputs": [
    {
     "name": "stdout",
     "output_type": "stream",
     "text": [
      "Model Performance\n",
      "Average Error: 0.4069 degrees.\n",
      "Accuracy = 95.80%.\n",
      "Model Performance\n",
      "Average Error: 0.4062 degrees.\n",
      "Accuracy = 95.80%.\n",
      "Improvement of -0.01%.\n"
     ]
    }
   ],
   "source": [
    "def evaluate(model, X_test, y_test):\n",
    "    predictions = model.predict(X_test)\n",
    "    errors = abs(predictions - y_test)\n",
    "    mape = 100 * np.mean(errors / y_test)\n",
    "    accuracy = 100 - mape\n",
    "    print('Model Performance')\n",
    "    print('Average Error: {:0.4f} degrees.'.format(np.mean(errors)))\n",
    "    print('Accuracy = {:0.2f}%.'.format(accuracy))\n",
    "    return accuracy\n",
    "base_model = RandomForestRegressor(n_estimators = 10, random_state = 42)\n",
    "base_model.fit(X_train, y_train)\n",
    "base_accuracy = evaluate(base_model, X_test, y_test)\n",
    "\n",
    "best_random = rf_random.best_estimator_\n",
    "random_accuracy = evaluate(best_random, X_test, y_test)\n",
    "\n",
    "print('Improvement of {:0.2f}%.'.format( 100 * (random_accuracy - base_accuracy) / base_accuracy))"
   ]
  },
  {
   "cell_type": "code",
   "execution_count": 30,
   "metadata": {},
   "outputs": [
    {
     "data": {
      "text/plain": [
       "95.80426041126783"
      ]
     },
     "execution_count": 30,
     "metadata": {},
     "output_type": "execute_result"
    }
   ],
   "source": [
    "base_accuracy"
   ]
  },
  {
   "cell_type": "code",
   "execution_count": 31,
   "metadata": {},
   "outputs": [],
   "source": [
    "# Hyperparameter tuning has not improved accuracy significantly"
   ]
  },
  {
   "cell_type": "code",
   "execution_count": 32,
   "metadata": {},
   "outputs": [
    {
     "data": {
      "text/plain": [
       "array([31.28123641, 25.6914645 , 25.6914645 , ..., 17.32482804,\n",
       "        3.166432  ,  4.88622552])"
      ]
     },
     "execution_count": 32,
     "metadata": {},
     "output_type": "execute_result"
    }
   ],
   "source": [
    "model_rfr = RandomForestRegressor()\n",
    "model_rfr.fit(X_train, y_train)\n",
    "y_test_pred = model_rfr.predict(X_test)\n",
    "y_test_pred"
   ]
  },
  {
   "cell_type": "code",
   "execution_count": 33,
   "metadata": {},
   "outputs": [
    {
     "data": {
      "text/plain": [
       "<bound method NDFrame.tail of       0         1        2         3          4         5         6     \\\n",
       "0  10.1317  8.461332  10.1317  4.886226  14.107753  5.992571  6.270865   \n",
       "1   9.5500  8.600000   9.6900  4.650000  14.050000  5.790000  4.395631   \n",
       "2   0.5817 -0.138668   0.4417  0.236226   0.057753  0.202571  1.875234   \n",
       "\n",
       "        7          8         9     ...      3315       3316      3317  \\\n",
       "0  18.628002  12.138134  7.148928  ...  3.226538  10.430703  6.348138   \n",
       "1  18.620001  11.730000  7.160000  ...  3.100000  10.080000  6.600000   \n",
       "2   0.008001   0.408134 -0.011072  ...  0.126538   0.350703 -0.251862   \n",
       "\n",
       "        3318       3319      3320      3321       3322       3323       3324  \n",
       "0  23.699348  18.586725  7.375805  6.348138  12.104591  18.628002  20.696192  \n",
       "1  21.459999  18.241871  7.300000  6.160000  13.978107  18.490000  21.055075  \n",
       "2   2.239349   0.344854  0.075805  0.188138  -1.873516   0.138002  -0.358883  \n",
       "\n",
       "[3 rows x 3325 columns]>"
      ]
     },
     "execution_count": 33,
     "metadata": {},
     "output_type": "execute_result"
    }
   ],
   "source": [
    "#RandomForestRegressor Residual showing difference actual vs predicted\n",
    "residual_dtr = pd.DataFrame([model_rfr.predict(X_train),y_train,(model_rfr.predict(X_train)-y_train)])\n",
    "residual_dtr.tail"
   ]
  },
  {
   "cell_type": "code",
   "execution_count": 34,
   "metadata": {},
   "outputs": [
    {
     "data": {
      "image/png": "[encoded data removed]",
      "text/plain": [
       "<Figure size 432x288 with 1 Axes>"
      ]
     },
     "metadata": {
      "needs_background": "light"
     },
     "output_type": "display_data"
    }
   ],
   "source": [
    "# Make predictions using fitted model\n",
    "predictions1 = model_rfr.predict(X_test)\n",
    "\n",
    "# Plotted the difference between the model predicted values and actual y values, versus the model predicted values\n",
    "plt.scatter(model_rfr.predict(X_train), y_train - model_rfr.predict(X_train), c=\"blue\", label=\"Training Data\")\n",
    "plt.scatter(model_rfr.predict(X_test), y_test - model_rfr.predict(X_test), c=\"orange\", label=\"Testing Data\")\n",
    "plt.legend()\n",
    "plt.hlines(y=0, xmin=y_test.min(), xmax=y_test.max())\n",
    "plt.title(\"Residual Plot\")\n",
    "plt.show()"
   ]
  },
  {
   "cell_type": "markdown",
   "metadata": {},
   "source": [
    "# Save the Model"
   ]
  },
  {
   "cell_type": "code",
   "execution_count": 35,
   "metadata": {},
   "outputs": [],
   "source": [
    "import pickle\n",
    "filename = '../../static/gmg_model_rfr.sav'\n",
    "pickle.dump(model, open(filename, 'wb'))\n",
    "model_in_rfr = pickle.load(open(filename, 'rb'))"
   ]
  },
  {
   "cell_type": "code",
   "execution_count": 36,
   "metadata": {},
   "outputs": [],
   "source": [
    "# from joblib import dump,load\n",
    "# model_in_rfr = load('gmg_model_rfr.sav')"
   ]
  },
  {
   "cell_type": "code",
   "execution_count": 37,
   "metadata": {},
   "outputs": [
    {
     "name": "stdout",
     "output_type": "stream",
     "text": [
      "      RBA    FED     CPI  Prediction\n",
      "0    1.35   1.75  123.90       18.00\n",
      "1    1.60   2.00  124.15       19.48\n",
      "2    1.85   2.25  124.40       20.95\n",
      "3    2.10   2.50  124.65       22.43\n",
      "4    2.35   2.75  124.90       23.90\n",
      "5    2.60   3.00  125.15       25.38\n",
      "6    2.85   3.25  125.40       26.85\n",
      "7    3.10   3.50  125.65       28.33\n",
      "8    3.35   3.75  125.90       29.80\n",
      "9    3.60   4.00  126.15       31.28\n",
      "10   3.85   4.25  126.40       32.75\n",
      "11   4.10   4.50  126.65       34.23\n",
      "12   4.35   4.75  126.90       35.70\n",
      "13   4.60   5.00  127.15       37.17\n",
      "14   4.85   5.25  127.40       38.65\n",
      "15   5.10   5.50  127.65       40.12\n",
      "16   5.35   5.75  127.90       41.60\n",
      "17   5.60   6.00  128.15       43.07\n",
      "18   5.85   6.25  128.40       44.55\n",
      "19   6.10   6.50  128.65       46.02\n",
      "20   6.35   6.75  128.90       47.50\n",
      "21   6.60   7.00  129.15       48.97\n",
      "22   6.85   7.25  129.40       50.45\n",
      "23   7.10   7.50  129.65       51.92\n",
      "24   7.35   7.75  129.90       53.40\n",
      "25   7.60   8.00  130.15       54.87\n",
      "26   7.85   8.25  130.40       56.35\n",
      "27   8.10   8.50  130.65       57.82\n",
      "28   8.35   8.75  130.90       59.30\n",
      "29   8.60   9.00  131.15       60.77\n",
      "30   8.85   9.25  131.40       62.25\n",
      "31   9.10   9.50  131.65       63.72\n",
      "32   9.35   9.75  131.90       65.20\n",
      "33   9.60  10.00  132.15       66.67\n",
      "34   9.85  10.25  132.40       68.15\n",
      "35  10.10  10.50  132.65       69.62\n",
      "36  10.35  10.75  132.90       71.10\n",
      "37  10.60  11.00  133.15       72.57\n",
      "38  10.85  11.25  133.40       74.05\n",
      "39  11.10  11.50  133.65       75.52 [{'RBA': 1.35, 'FED': 1.75, 'CPI': 123.9, 'Prediction': 18.0}, {'RBA': 1.6, 'FED': 2.0, 'CPI': 124.15, 'Prediction': 19.48}, {'RBA': 1.85, 'FED': 2.25, 'CPI': 124.4, 'Prediction': 20.95}, {'RBA': 2.1, 'FED': 2.5, 'CPI': 124.65, 'Prediction': 22.43}, {'RBA': 2.35, 'FED': 2.75, 'CPI': 124.9, 'Prediction': 23.9}, {'RBA': 2.6, 'FED': 3.0, 'CPI': 125.15, 'Prediction': 25.38}, {'RBA': 2.85, 'FED': 3.25, 'CPI': 125.4, 'Prediction': 26.85}, {'RBA': 3.1, 'FED': 3.5, 'CPI': 125.65, 'Prediction': 28.33}, {'RBA': 3.35, 'FED': 3.75, 'CPI': 125.9, 'Prediction': 29.8}, {'RBA': 3.6, 'FED': 4.0, 'CPI': 126.15, 'Prediction': 31.28}, {'RBA': 3.85, 'FED': 4.25, 'CPI': 126.4, 'Prediction': 32.75}, {'RBA': 4.1, 'FED': 4.5, 'CPI': 126.65, 'Prediction': 34.23}, {'RBA': 4.35, 'FED': 4.75, 'CPI': 126.9, 'Prediction': 35.7}, {'RBA': 4.6, 'FED': 5.0, 'CPI': 127.15, 'Prediction': 37.17}, {'RBA': 4.85, 'FED': 5.25, 'CPI': 127.4, 'Prediction': 38.65}, {'RBA': 5.1, 'FED': 5.5, 'CPI': 127.65, 'Prediction': 40.12}, {'RBA': 5.35, 'FED': 5.75, 'CPI': 127.9, 'Prediction': 41.6}, {'RBA': 5.6, 'FED': 6.0, 'CPI': 128.15, 'Prediction': 43.07}, {'RBA': 5.85, 'FED': 6.25, 'CPI': 128.4, 'Prediction': 44.55}, {'RBA': 6.1, 'FED': 6.5, 'CPI': 128.65, 'Prediction': 46.02}, {'RBA': 6.35, 'FED': 6.75, 'CPI': 128.9, 'Prediction': 47.5}, {'RBA': 6.6, 'FED': 7.0, 'CPI': 129.15, 'Prediction': 48.97}, {'RBA': 6.85, 'FED': 7.25, 'CPI': 129.4, 'Prediction': 50.45}, {'RBA': 7.1, 'FED': 7.5, 'CPI': 129.65, 'Prediction': 51.92}, {'RBA': 7.35, 'FED': 7.75, 'CPI': 129.9, 'Prediction': 53.4}, {'RBA': 7.6, 'FED': 8.0, 'CPI': 130.15, 'Prediction': 54.87}, {'RBA': 7.85, 'FED': 8.25, 'CPI': 130.4, 'Prediction': 56.35}, {'RBA': 8.1, 'FED': 8.5, 'CPI': 130.65, 'Prediction': 57.82}, {'RBA': 8.35, 'FED': 8.75, 'CPI': 130.9, 'Prediction': 59.3}, {'RBA': 8.6, 'FED': 9.0, 'CPI': 131.15, 'Prediction': 60.77}, {'RBA': 8.85, 'FED': 9.25, 'CPI': 131.4, 'Prediction': 62.25}, {'RBA': 9.1, 'FED': 9.5, 'CPI': 131.65, 'Prediction': 63.72}, {'RBA': 9.35, 'FED': 9.75, 'CPI': 131.9, 'Prediction': 65.2}, {'RBA': 9.6, 'FED': 10.0, 'CPI': 132.15, 'Prediction': 66.67}, {'RBA': 9.85, 'FED': 10.25, 'CPI': 132.4, 'Prediction': 68.15}, {'RBA': 10.1, 'FED': 10.5, 'CPI': 132.65, 'Prediction': 69.62}, {'RBA': 10.35, 'FED': 10.75, 'CPI': 132.9, 'Prediction': 71.1}, {'RBA': 10.6, 'FED': 11.0, 'CPI': 133.15, 'Prediction': 72.57}, {'RBA': 10.85, 'FED': 11.25, 'CPI': 133.4, 'Prediction': 74.05}, {'RBA': 11.1, 'FED': 11.5, 'CPI': 133.65, 'Prediction': 75.52}]\n"
     ]
    }
   ],
   "source": [
    "rba = float(1.35)\n",
    "fed = float(1.75)\n",
    "cpi = float(123.90)\n",
    "input =40\n",
    "rfr=[]\n",
    "\n",
    "def randomforest(rba,fed,cpi):\n",
    "    for i in range(0,input):\n",
    "      rfr.append([rba,fed,cpi])\n",
    "      np.round_(rfr,2,out = None) \n",
    "      df = pd.DataFrame(rfr, columns = ['RBA','FED',\"CPI\"])\n",
    "      df.round(2)\n",
    "      pred_rf=model_in_rfr.predict(df)\n",
    "      df['Prediction'] = pred_rf\n",
    "      df['Prediction'] = df['Prediction'].astype(float).round(2)\n",
    "      rba+=0.25\n",
    "      fed+=0.25\n",
    "      cpi+=0.25\n",
    "      # print(df)\n",
    "    my_rforest = df.to_dict(orient='records')\n",
    "    for dict_value in my_rforest:\n",
    "      for k, v in dict_value.items():\n",
    "        dict_value[k] = round(v, 2)\n",
    "    return my_rforest,df\n",
    "# print(my_rforest)\n",
    "my_rf,df = randomforest(rba,fed,cpi)\n",
    "print(df,my_rf)\n"
   ]
  },
  {
   "cell_type": "code",
   "execution_count": 38,
   "metadata": {},
   "outputs": [
    {
     "data": {
      "image/png": "[encoded data removed]",
      "text/plain": [
       "<Figure size 864x360 with 2 Axes>"
      ]
     },
     "metadata": {
      "needs_background": "light"
     },
     "output_type": "display_data"
    }
   ],
   "source": [
    "# DRAW THE PREDICTION\n",
    "#Append the input amount of trading days to dates dictionary\n",
    "input=40\n",
    "# df_pred = df.iloc[0:(input-1)]\n",
    "plot1 = df.plot(y=[\"CPI\",\"Prediction\"], figsize=(12, 5),color=['gold','green'],linewidth=2)\n",
    "plot2 = df.plot(y=[\"RBA\",\"FED\"],secondary_y=True, ax=plot1,color=['pink','steelblue'],linestyle='dashed')\n",
    "plt.title('GMG PREDICTIONS')\n",
    "plot1.set_xlabel('Future Trading Days', fontsize=10)\n",
    "plot1.set_ylabel('Close Price AUD ($) or CPI', fontsize=10)\n",
    "plot1.legend(loc='upper left')\n",
    "plot2.legend(loc='upper right')\n",
    "plt.savefig('../../static/data/images/gmg_rfr_pred.png', bbox_inches=\"tight\")\n",
    "plt.show()"
   ]
  },
  {
   "cell_type": "code",
   "execution_count": 39,
   "metadata": {},
   "outputs": [
    {
     "name": "stdout",
     "output_type": "stream",
     "text": [
      "    RBA   FED    CPI  Prediction\n",
      "0  1.35  1.75  123.9   18.001552\n",
      "[18.00155179]\n"
     ]
    }
   ],
   "source": [
    "rba = float(1.35)\n",
    "fed = float(1.75)\n",
    "cpi = float(123.90)\n",
    "def rforest(rba,fed,cpi):\n",
    "    dtr =[[rba,fed,cpi]]\n",
    "    df = pd.DataFrame (dtr, columns = ['RBA','FED',\"CPI\"])\n",
    "    pred_dtr=model_in_rfr.predict(df)\n",
    "    df['Prediction'] = pred_dtr\n",
    "    print(df)\n",
    "    df_dict = df.to_dict(orient='records')\n",
    "    return pred_dtr\n",
    "Pred_rf = rforest(rba,fed,cpi)\n",
    "print(Pred_rf)"
   ]
  },
  {
   "cell_type": "code",
   "execution_count": 40,
   "metadata": {},
   "outputs": [
    {
     "data": {
      "image/png": "[encoded data removed]",
      "text/plain": [
       "<Figure size 864x360 with 2 Axes>"
      ]
     },
     "metadata": {
      "needs_background": "light"
     },
     "output_type": "display_data"
    }
   ],
   "source": [
    "x = np.arange(2000,2024,4)\n",
    "ax = df_mongo.plot(y=[\"CPI\",\"Close\"], figsize=(12, 5),color=['grey','green'],linewidth=2)\n",
    "df_mongo.plot(y=[\"RBA\",\"FED\"],secondary_y=True, ax=ax,color=['pink','steelblue'],linestyle='dashed')\n",
    "plt.legend(bbox_to_anchor=(1.03, 1), loc='upper left', borderaxespad=-4, title=\"Interest rates\")\n",
    "ax.legend(loc='upper left')\n",
    "ax.set_xticks([0,1000,2000,3000,4000,5000])\n",
    "ax.set_xticklabels(x, rotation=0)\n",
    "ax.set_title('GMG Random Forest Regression Model')\n",
    "ax.set_xlabel('Trading Date', fontsize=18)\n",
    "ax.set_ylabel('Close Price AUD ($) or CPI', fontsize=18)\n",
    "plt.savefig('../../static/data/images/gmg_tree.png')"
   ]
  },
  {
   "cell_type": "markdown",
   "metadata": {},
   "source": [
    "#Save predicted error to MongoDB"
   ]
  },
  {
   "cell_type": "code",
   "execution_count": 41,
   "metadata": {},
   "outputs": [],
   "source": [
    "# Module used to connect Python with MongoDb\n",
    "import pymongo"
   ]
  },
  {
   "cell_type": "code",
   "execution_count": 42,
   "metadata": {},
   "outputs": [],
   "source": [
    "# The default port used by MongoDB is 27017\n",
    "# https://docs.mongodb.com/manual/reference/default-mongodb-port/\n",
    "conn = 'mongodb://localhost:27017'\n",
    "client = pymongo.MongoClient(conn)\n",
    "\n",
    "# Define the 'sharesDB' database in Mongo\n",
    "db = client.sharesDB.companys\n",
    "\n",
    "name = 'GMG'"
   ]
  },
  {
   "cell_type": "code",
   "execution_count": 43,
   "metadata": {},
   "outputs": [
    {
     "name": "stdout",
     "output_type": "stream",
     "text": [
      "{'_id': ObjectId('62edf0dc384fdc38351b1cef'), 'model': 'RFR', 'name': 'GMG', 'date': '05/08/2022', 'predicted': 18, 'actual': 20, 'difference': -1.8517, 'accuracy': 95.67}\n"
     ]
    }
   ],
   "source": [
    "# query the classroom collection\n",
    "companys = db.find({\n",
    "      'model': 'RFR',\n",
    "      'name': name})\n",
    "\n",
    "# see change in collection\n",
    "for company in companys:\n",
    "    print(company)"
   ]
  },
  {
   "cell_type": "code",
   "execution_count": 44,
   "metadata": {},
   "outputs": [
    {
     "name": "stdout",
     "output_type": "stream",
     "text": [
      "95.8 20 12/08/2022\n"
     ]
    }
   ],
   "source": [
    "#save last price actual to variable\n",
    "actual_price = df_mongo.iloc[-1,5]\n",
    "actual_date = df_mongo.iloc[-1,1] \n",
    "actual_price = int(actual_price)\n",
    "base_accuracy=round(base_accuracy,2)\n",
    "print(base_accuracy,actual_price,actual_date)\n"
   ]
  },
  {
   "cell_type": "code",
   "execution_count": 45,
   "metadata": {},
   "outputs": [
    {
     "name": "stdout",
     "output_type": "stream",
     "text": [
      "date 12/08/2022,predicted 18,actual 20, difference -1.9984482144839149,accuracy 95.8\n"
     ]
    }
   ],
   "source": [
    "# Set keys and values of company\n",
    "predicted = int(Pred_rf)\n",
    "difference = Pred_rf-actual_price\n",
    "difference=difference[0]\n",
    "print(f'date {actual_date},predicted {predicted},actual {actual_price}, difference {difference},accuracy {base_accuracy}')"
   ]
  },
  {
   "cell_type": "code",
   "execution_count": 46,
   "metadata": {},
   "outputs": [
    {
     "data": {
      "text/plain": [
       "<pymongo.results.DeleteResult at 0x2b8ea7f9b00>"
      ]
     },
     "execution_count": 46,
     "metadata": {},
     "output_type": "execute_result"
    }
   ],
   "source": [
    "# Delete a document from a collection\n",
    "db.delete_one(\n",
    "    {'model': 'RFR','name': name}\n",
    ")\n"
   ]
  },
  {
   "cell_type": "code",
   "execution_count": 47,
   "metadata": {},
   "outputs": [
    {
     "name": "stdout",
     "output_type": "stream",
     "text": [
      "{'_id': ObjectId('62f83471a0999ee2071b809d'), 'model': 'RFR', 'name': 'GMG', 'date': '12/08/2022', 'predicted': 18, 'actual': 20, 'difference': -1.9984, 'accuracy': 95.8}\n"
     ]
    }
   ],
   "source": [
    "# Insert a document into the 'companys' collection\n",
    "db.insert_one(\n",
    "    {\n",
    "      'model': 'RFR',\n",
    "      'name': name,\n",
    "      'date': actual_date,\n",
    "      'predicted': predicted,\n",
    "      'actual': actual_price,\n",
    "      'difference': round(difference,4),\n",
    "      'accuracy': base_accuracy        \n",
    "    }\n",
    ")\n",
    "\n",
    "# query the classroom collection\n",
    "companys = db.find({\n",
    "  'model': 'RFR',\n",
    "  'name': name,})\n",
    "\n",
    "# see change in collection\n",
    "for company in companys:\n",
    "    print(company)"
   ]
  }
 ],
 "metadata": {
  "interpreter": {
   "hash": "45bb1cb4637e4034484920e5cfb24c9afd84b0847d6c36e39edd3067d3a05462"
  },
  "kernel_info": {
   "name": "dev"
  },
  "kernelspec": {
   "display_name": "Python 3.9.7 ('base')",
   "language": "python",
   "name": "python3"
  },
  "language_info": {
   "codemirror_mode": {
    "name": "ipython",
    "version": 3
   },
   "file_extension": ".py",
   "mimetype": "text/x-python",
   "name": "python",
   "nbconvert_exporter": "python",
   "pygments_lexer": "ipython3",
   "version": "3.9.7"
  },
  "nteract": {
   "version": "0.12.3"
  }
 },
 "nbformat": 4,
 "nbformat_minor": 2
}
