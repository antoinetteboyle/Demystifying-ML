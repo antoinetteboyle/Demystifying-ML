{
 "cells": [
  {
   "cell_type": "code",
   "execution_count": 1,
   "metadata": {},
   "outputs": [
    {
     "name": "stdout",
     "output_type": "stream",
     "text": [
      "Requirement already satisfied: sklearn in c:\\users\\antoi\\anaconda3\\lib\\site-packages (0.0)\n",
      "Requirement already satisfied: scikit-learn in c:\\users\\antoi\\anaconda3\\lib\\site-packages (from sklearn) (0.24.2)\n",
      "Requirement already satisfied: numpy>=1.13.3 in c:\\users\\antoi\\anaconda3\\lib\\site-packages (from scikit-learn->sklearn) (1.20.3)\n",
      "Requirement already satisfied: threadpoolctl>=2.0.0 in c:\\users\\antoi\\anaconda3\\lib\\site-packages (from scikit-learn->sklearn) (2.2.0)\n",
      "Requirement already satisfied: scipy>=0.19.1 in c:\\users\\antoi\\anaconda3\\lib\\site-packages (from scikit-learn->sklearn) (1.7.1)\n",
      "Requirement already satisfied: joblib>=0.11 in c:\\users\\antoi\\anaconda3\\lib\\site-packages (from scikit-learn->sklearn) (1.1.0)\n",
      "Requirement already satisfied: joblib in c:\\users\\antoi\\anaconda3\\lib\\site-packages (1.1.0)\n"
     ]
    }
   ],
   "source": [
    "# Update sklearn to prevent version mismatches\n",
    "!pip install sklearn --upgrade\n",
    "# install joblib. This will be used to save your model. \n",
    "# Restart your kernel after installing \n",
    "!pip install joblib"
   ]
  },
  {
   "cell_type": "markdown",
   "metadata": {},
   "source": [
    "This model uses a neural network and GridSearchCV to predict share price impacts of Interest changes"
   ]
  },
  {
   "cell_type": "markdown",
   "metadata": {},
   "source": [
    "# Read the CSV and Perform Basic Data Cleaning"
   ]
  },
  {
   "cell_type": "code",
   "execution_count": 2,
   "metadata": {},
   "outputs": [],
   "source": [
    "import matplotlib.pyplot as plt\n",
    "import numpy as np\n",
    "import pandas as pd"
   ]
  },
  {
   "cell_type": "code",
   "execution_count": 3,
   "metadata": {},
   "outputs": [
    {
     "data": {
      "text/html": [
       "<div>\n",
       "<style scoped>\n",
       "    .dataframe tbody tr th:only-of-type {\n",
       "        vertical-align: middle;\n",
       "    }\n",
       "\n",
       "    .dataframe tbody tr th {\n",
       "        vertical-align: top;\n",
       "    }\n",
       "\n",
       "    .dataframe thead th {\n",
       "        text-align: right;\n",
       "    }\n",
       "</style>\n",
       "<table border=\"1\" class=\"dataframe\">\n",
       "  <thead>\n",
       "    <tr style=\"text-align: right;\">\n",
       "      <th></th>\n",
       "      <th>Date</th>\n",
       "      <th>Open</th>\n",
       "      <th>High</th>\n",
       "      <th>Low</th>\n",
       "      <th>Close</th>\n",
       "      <th>Adj Close</th>\n",
       "      <th>Volume</th>\n",
       "      <th>RBA</th>\n",
       "      <th>FED</th>\n",
       "      <th>CPI</th>\n",
       "    </tr>\n",
       "  </thead>\n",
       "  <tbody>\n",
       "    <tr>\n",
       "      <th>5743</th>\n",
       "      <td>27/07/2022</td>\n",
       "      <td>96.510002</td>\n",
       "      <td>99.370003</td>\n",
       "      <td>96.459999</td>\n",
       "      <td>98.900002</td>\n",
       "      <td>98.900002</td>\n",
       "      <td>2221207</td>\n",
       "      <td>1.35</td>\n",
       "      <td>2.5</td>\n",
       "      <td>125.0</td>\n",
       "    </tr>\n",
       "    <tr>\n",
       "      <th>5744</th>\n",
       "      <td>28/07/2022</td>\n",
       "      <td>99.480003</td>\n",
       "      <td>100.199997</td>\n",
       "      <td>99.110001</td>\n",
       "      <td>99.889999</td>\n",
       "      <td>99.889999</td>\n",
       "      <td>3301364</td>\n",
       "      <td>1.35</td>\n",
       "      <td>2.5</td>\n",
       "      <td>125.0</td>\n",
       "    </tr>\n",
       "    <tr>\n",
       "      <th>5745</th>\n",
       "      <td>29/07/2022</td>\n",
       "      <td>100.300003</td>\n",
       "      <td>101.364998</td>\n",
       "      <td>100.099998</td>\n",
       "      <td>100.769997</td>\n",
       "      <td>100.769997</td>\n",
       "      <td>3122636</td>\n",
       "      <td>1.35</td>\n",
       "      <td>2.5</td>\n",
       "      <td>125.0</td>\n",
       "    </tr>\n",
       "    <tr>\n",
       "      <th>5746</th>\n",
       "      <td>1/08/2022</td>\n",
       "      <td>100.680000</td>\n",
       "      <td>101.080002</td>\n",
       "      <td>99.089996</td>\n",
       "      <td>101.080002</td>\n",
       "      <td>101.080002</td>\n",
       "      <td>2374671</td>\n",
       "      <td>1.35</td>\n",
       "      <td>2.5</td>\n",
       "      <td>125.0</td>\n",
       "    </tr>\n",
       "    <tr>\n",
       "      <th>5747</th>\n",
       "      <td>2/08/2022</td>\n",
       "      <td>100.989998</td>\n",
       "      <td>102.269997</td>\n",
       "      <td>100.430000</td>\n",
       "      <td>101.970001</td>\n",
       "      <td>101.970001</td>\n",
       "      <td>1905527</td>\n",
       "      <td>1.35</td>\n",
       "      <td>2.5</td>\n",
       "      <td>125.0</td>\n",
       "    </tr>\n",
       "  </tbody>\n",
       "</table>\n",
       "</div>"
      ],
      "text/plain": [
       "            Date        Open        High         Low       Close   Adj Close  \\\n",
       "5743  27/07/2022   96.510002   99.370003   96.459999   98.900002   98.900002   \n",
       "5744  28/07/2022   99.480003  100.199997   99.110001   99.889999   99.889999   \n",
       "5745  29/07/2022  100.300003  101.364998  100.099998  100.769997  100.769997   \n",
       "5746   1/08/2022  100.680000  101.080002   99.089996  101.080002  101.080002   \n",
       "5747   2/08/2022  100.989998  102.269997  100.430000  101.970001  101.970001   \n",
       "\n",
       "       Volume   RBA  FED    CPI  \n",
       "5743  2221207  1.35  2.5  125.0  \n",
       "5744  3301364  1.35  2.5  125.0  \n",
       "5745  3122636  1.35  2.5  125.0  \n",
       "5746  2374671  1.35  2.5  125.0  \n",
       "5747  1905527  1.35  2.5  125.0  "
      ]
     },
     "execution_count": 3,
     "metadata": {},
     "output_type": "execute_result"
    }
   ],
   "source": [
    "df_stock1 = pd.read_csv(\"../../static/data/cba.csv\")\n",
    "# Drop the null columns where all values are null\n",
    "df_stock2 = df_stock1.dropna(axis='columns', how='all')\n",
    "# Drop the null rows\n",
    "df = df_stock2.dropna()\n",
    "df.tail()"
   ]
  },
  {
   "cell_type": "code",
   "execution_count": 4,
   "metadata": {},
   "outputs": [
    {
     "name": "stdout",
     "output_type": "stream",
     "text": [
      "12/08/2022 100.33999633789062\n"
     ]
    },
    {
     "data": {
      "text/plain": [
       "<bound method NDFrame.tail of                            _id        Date        Open        High  \\\n",
       "0     62ec7dd62a00b4164f22a9e0   3/01/2000   26.088652   26.088652   \n",
       "1     62ec7dd62a00b4164f22a9e1   4/01/2000   26.058813   26.058813   \n",
       "2     62ec7dd62a00b4164f22a9e2   5/01/2000   25.353634   25.392424   \n",
       "3     62ec7dd62a00b4164f22a9e3   6/01/2000   25.362585   25.362585   \n",
       "4     62ec7dd62a00b4164f22a9e4   7/01/2000   24.913021   25.113932   \n",
       "...                        ...         ...         ...         ...   \n",
       "5751  62f20f2001d5fbe0d6a6626c  08/08/2022  101.080002  102.889999   \n",
       "5752  62f36ad1f103d381c683c43e  09/08/2022  102.190002  102.320000   \n",
       "5753  62f6f76ea8ed5f12515de6b8  10/08/2022  101.279999  101.650002   \n",
       "5754  62f6f76ea8ed5f12515de6b9  11/08/2022  101.400002  102.160004   \n",
       "5755  62f6f76ea8ed5f12515de6ba  12/08/2022  100.150002  100.349998   \n",
       "\n",
       "             Low       Close   Adj Close   Volume   RBA  FED    CPI  \n",
       "0      26.088652   26.088652    7.993308        0  5.00  5.5   69.7  \n",
       "1      25.720646   25.790268    7.901886  1018072  5.00  5.5   69.7  \n",
       "2      25.113932   25.213392    7.725136  2191283  5.00  5.5   69.7  \n",
       "3      24.666357   24.716087    7.572770  1505531  5.00  5.5   69.7  \n",
       "4      24.735979   24.964741    7.648952  1414040  5.00  5.5   69.7  \n",
       "...          ...         ...         ...      ...   ...  ...    ...  \n",
       "5751  101.029999  102.599998  102.599998  1662514  1.85  2.5  125.0  \n",
       "5752  100.739998  101.279999  101.279999  2629041  1.85  2.5  125.0  \n",
       "5753  100.059998  101.000000  101.000000  2880434  1.85  2.5  125.0  \n",
       "5754  100.180000  100.849998  100.849998  2725288  1.85  2.5  125.0  \n",
       "5755   99.459999  100.339996  100.339996  2721743  1.85  2.5  125.0  \n",
       "\n",
       "[5756 rows x 11 columns]>"
      ]
     },
     "execution_count": 4,
     "metadata": {},
     "output_type": "execute_result"
    }
   ],
   "source": [
    "# Connect to MongoDb\n",
    "from pymongo import MongoClient\n",
    "mongoClient = MongoClient()\n",
    "db = mongoClient.sharesDB\n",
    "\n",
    "df_mongo = pd.DataFrame(list(db.cba.find()))\n",
    "\n",
    "last_val = df_mongo.iloc[-1:].values\n",
    "last_date = last_val[0][1]\n",
    "last_close = last_val[0][5]\n",
    "# print(last_val)\n",
    "print(last_date,last_close)\n",
    "df_mongo.tail"
   ]
  },
  {
   "cell_type": "markdown",
   "metadata": {},
   "source": [
    "# Use `RBA`,`FED` and `CPI` for the X values"
   ]
  },
  {
   "cell_type": "code",
   "execution_count": 5,
   "metadata": {},
   "outputs": [
    {
     "name": "stdout",
     "output_type": "stream",
     "text": [
      "(5756, 3) (5756, 1)\n"
     ]
    }
   ],
   "source": [
    "X = df_mongo[[\"RBA\",\"FED\",\"CPI\"]]\n",
    "y = df_mongo[\"Close\"].values.reshape(-1, 1)\n",
    "print(X.shape, y.shape)"
   ]
  },
  {
   "cell_type": "code",
   "execution_count": 6,
   "metadata": {},
   "outputs": [
    {
     "data": {
      "text/html": [
       "<div>\n",
       "<style scoped>\n",
       "    .dataframe tbody tr th:only-of-type {\n",
       "        vertical-align: middle;\n",
       "    }\n",
       "\n",
       "    .dataframe tbody tr th {\n",
       "        vertical-align: top;\n",
       "    }\n",
       "\n",
       "    .dataframe thead th {\n",
       "        text-align: right;\n",
       "    }\n",
       "</style>\n",
       "<table border=\"1\" class=\"dataframe\">\n",
       "  <thead>\n",
       "    <tr style=\"text-align: right;\">\n",
       "      <th></th>\n",
       "      <th>RBA</th>\n",
       "      <th>FED</th>\n",
       "      <th>CPI</th>\n",
       "    </tr>\n",
       "  </thead>\n",
       "  <tbody>\n",
       "    <tr>\n",
       "      <th>0</th>\n",
       "      <td>5.00</td>\n",
       "      <td>5.5</td>\n",
       "      <td>69.7</td>\n",
       "    </tr>\n",
       "    <tr>\n",
       "      <th>1</th>\n",
       "      <td>5.00</td>\n",
       "      <td>5.5</td>\n",
       "      <td>69.7</td>\n",
       "    </tr>\n",
       "    <tr>\n",
       "      <th>2</th>\n",
       "      <td>5.00</td>\n",
       "      <td>5.5</td>\n",
       "      <td>69.7</td>\n",
       "    </tr>\n",
       "    <tr>\n",
       "      <th>3</th>\n",
       "      <td>5.00</td>\n",
       "      <td>5.5</td>\n",
       "      <td>69.7</td>\n",
       "    </tr>\n",
       "    <tr>\n",
       "      <th>4</th>\n",
       "      <td>5.00</td>\n",
       "      <td>5.5</td>\n",
       "      <td>69.7</td>\n",
       "    </tr>\n",
       "    <tr>\n",
       "      <th>...</th>\n",
       "      <td>...</td>\n",
       "      <td>...</td>\n",
       "      <td>...</td>\n",
       "    </tr>\n",
       "    <tr>\n",
       "      <th>5751</th>\n",
       "      <td>1.85</td>\n",
       "      <td>2.5</td>\n",
       "      <td>125.0</td>\n",
       "    </tr>\n",
       "    <tr>\n",
       "      <th>5752</th>\n",
       "      <td>1.85</td>\n",
       "      <td>2.5</td>\n",
       "      <td>125.0</td>\n",
       "    </tr>\n",
       "    <tr>\n",
       "      <th>5753</th>\n",
       "      <td>1.85</td>\n",
       "      <td>2.5</td>\n",
       "      <td>125.0</td>\n",
       "    </tr>\n",
       "    <tr>\n",
       "      <th>5754</th>\n",
       "      <td>1.85</td>\n",
       "      <td>2.5</td>\n",
       "      <td>125.0</td>\n",
       "    </tr>\n",
       "    <tr>\n",
       "      <th>5755</th>\n",
       "      <td>1.85</td>\n",
       "      <td>2.5</td>\n",
       "      <td>125.0</td>\n",
       "    </tr>\n",
       "  </tbody>\n",
       "</table>\n",
       "<p>5756 rows × 3 columns</p>\n",
       "</div>"
      ],
      "text/plain": [
       "       RBA  FED    CPI\n",
       "0     5.00  5.5   69.7\n",
       "1     5.00  5.5   69.7\n",
       "2     5.00  5.5   69.7\n",
       "3     5.00  5.5   69.7\n",
       "4     5.00  5.5   69.7\n",
       "...    ...  ...    ...\n",
       "5751  1.85  2.5  125.0\n",
       "5752  1.85  2.5  125.0\n",
       "5753  1.85  2.5  125.0\n",
       "5754  1.85  2.5  125.0\n",
       "5755  1.85  2.5  125.0\n",
       "\n",
       "[5756 rows x 3 columns]"
      ]
     },
     "execution_count": 6,
     "metadata": {},
     "output_type": "execute_result"
    }
   ],
   "source": [
    "X"
   ]
  },
  {
   "cell_type": "markdown",
   "metadata": {},
   "source": [
    "# Create a Train Test Split"
   ]
  },
  {
   "cell_type": "code",
   "execution_count": 7,
   "metadata": {},
   "outputs": [
    {
     "name": "stdout",
     "output_type": "stream",
     "text": [
      "(4317, 3) (4317, 1)\n",
      "(1439, 3) (1439, 1)\n",
      "<bound method DataFrame.info of        RBA   FED    CPI\n",
      "5018  1.00  2.25  115.4\n",
      "2378  3.25  0.25   92.9\n",
      "3223  3.50  0.25  101.8\n",
      "5142  0.50  1.25  116.6\n",
      "4432  1.50  1.00  110.7\n",
      "...    ...   ...    ...\n",
      "905   4.75  1.25   78.6\n",
      "5192  0.25  1.25  114.4\n",
      "3980  2.00  0.25  108.0\n",
      "235   6.25  6.50   73.1\n",
      "5157  0.25  1.25  114.4\n",
      "\n",
      "[4317 rows x 3 columns]>\n"
     ]
    }
   ],
   "source": [
    "# Use train_test_split to create training and testing data\n",
    "from sklearn.model_selection import train_test_split\n",
    "\n",
    "X_train, X_test, y_train, y_test = train_test_split(X, y, random_state=1)\n",
    "print(X_train.shape, y_train.shape)\n",
    "print(X_test.shape, y_test.shape)\n",
    "print(X_train.info)"
   ]
  },
  {
   "cell_type": "code",
   "execution_count": 8,
   "metadata": {},
   "outputs": [],
   "source": [
    "from sklearn.linear_model import LinearRegression\n",
    "model = LinearRegression()"
   ]
  },
  {
   "cell_type": "markdown",
   "metadata": {},
   "source": [
    "# Fit the model"
   ]
  },
  {
   "cell_type": "code",
   "execution_count": 9,
   "metadata": {},
   "outputs": [
    {
     "name": "stdout",
     "output_type": "stream",
     "text": [
      "Training Score: 0.8794494059327315\n",
      "Testing Score: 0.8719778692217841\n"
     ]
    }
   ],
   "source": [
    "# Fit the model to the training data and calculate the scores for the training and testing data\n",
    "\n",
    "### BEGIN SOLUTION\n",
    "model.fit(X_train, y_train)\n",
    "training_score = model.score(X_train, y_train)\n",
    "testing_score = model.score(X_test, y_test)\n",
    "\n",
    "### END SOLUTION \n",
    "\n",
    "print(f\"Training Score: {training_score}\")\n",
    "print(f\"Testing Score: {testing_score}\")"
   ]
  },
  {
   "cell_type": "code",
   "execution_count": 10,
   "metadata": {},
   "outputs": [],
   "source": [
    "# X_train = X_train.reshape((X_train.shape[0], 1))"
   ]
  },
  {
   "cell_type": "code",
   "execution_count": 11,
   "metadata": {},
   "outputs": [],
   "source": [
    "#Linear Regression Residual showing difference actual vs predicted\n",
    "# residual = pd.DataFrame([model.predict(X_train),y_train,(model.predict(X_train)-y_train)])\n",
    "# residual.tail"
   ]
  },
  {
   "cell_type": "code",
   "execution_count": 12,
   "metadata": {},
   "outputs": [
    {
     "data": {
      "text/plain": [
       "Text(0.5, 1.0, 'Residual Plot')"
      ]
     },
     "execution_count": 12,
     "metadata": {},
     "output_type": "execute_result"
    },
    {
     "data": {
      "image/png": "[encoded data removed]",
      "text/plain": [
       "<Figure size 432x288 with 1 Axes>"
      ]
     },
     "metadata": {
      "needs_background": "light"
     },
     "output_type": "display_data"
    }
   ],
   "source": [
    "# Plot the Residuals for the Training and Testing data\n",
    "plt.scatter(model.predict(X_train), model.predict(X_train) - y_train, c=\"blue\", label=\"Training Data\")\n",
    "plt.scatter(model.predict(X_test), model.predict(X_test) - y_test, c=\"orange\", label=\"Testing Data\")\n",
    "plt.legend()\n",
    "plt.hlines(y=0, xmin=y.min(), xmax=y.max())\n",
    "plt.title(\"Residual Plot\")"
   ]
  },
  {
   "cell_type": "code",
   "execution_count": 13,
   "metadata": {},
   "outputs": [],
   "source": [
    "# Linear Regression: X_test predictions to variable\n",
    "predictions = model.predict(X_test)"
   ]
  },
  {
   "cell_type": "markdown",
   "metadata": {},
   "source": [
    "#### R2 Score is a very popular metric used for evaluating the performance of linear regression models. Where R2 Score is between 0 and 1, the closer to 1, the better the regression fit.\n",
    "#### Use MSE or MAE when comparing two or more models, the lower the value of MSE or MAE, the better. MSE (Mean Square Error): Uses Euclidean distance to calculate the error. MSE gives the magnitude of the error only."
   ]
  },
  {
   "cell_type": "code",
   "execution_count": 14,
   "metadata": {},
   "outputs": [
    {
     "name": "stdout",
     "output_type": "stream",
     "text": [
      "MSE: 62.878493146282295, R2: 0.8719778692217841\n"
     ]
    }
   ],
   "source": [
    "# Used X_test, y_test, and model.predict(X_test) to calculate MSE and R2\n",
    "\n",
    "### BEGIN SOLUTION\n",
    "from sklearn.metrics import mean_squared_error\n",
    "\n",
    "MSE = mean_squared_error(y_test, predictions)\n",
    "r2 = model.score(X_test, y_test)\n",
    "### END SOLUTION\n",
    "\n",
    "print(f\"MSE: {MSE}, R2: {r2}\")"
   ]
  },
  {
   "cell_type": "markdown",
   "metadata": {},
   "source": [
    "#### Lasso regression imposes a constraint on the model parameters that causes regression coefficients for some variables to shrink toward zero. It comes with a parameter, alpha , and the higher the alpha , the more feature coefficients are zero. When alpha is 0 , Lasso regression produces the same coefficients as a linear regression."
   ]
  },
  {
   "cell_type": "code",
   "execution_count": 15,
   "metadata": {},
   "outputs": [
    {
     "name": "stdout",
     "output_type": "stream",
     "text": [
      "MSE: 62.879955938044596, R2: 0.8719748909424246\n"
     ]
    }
   ],
   "source": [
    "# LASSO model\n",
    "# Note: Used an alpha of .01 when creating the model for this activity\n",
    "from sklearn.linear_model import Lasso\n",
    "\n",
    "### BEGIN SOLUTION\n",
    "lasso = Lasso(alpha=.01).fit(X_train, y_train)\n",
    "\n",
    "predictions = lasso.predict(X_test)\n",
    "\n",
    "MSE = mean_squared_error(y_test, predictions)\n",
    "r2 = lasso.score(X_test, y_test)\n",
    "### END SOLUTION\n",
    "\n",
    "print(f\"MSE: {MSE}, R2: {r2}\")"
   ]
  },
  {
   "cell_type": "code",
   "execution_count": 16,
   "metadata": {},
   "outputs": [
    {
     "name": "stdout",
     "output_type": "stream",
     "text": [
      "MSE: 62.878493835055544, R2: 0.8719778678194252\n"
     ]
    }
   ],
   "source": [
    "# Ridge model\n",
    "# Note: Used an alpha of .01 when creating the model for this activity\n",
    "from sklearn.linear_model import Ridge\n",
    "\n",
    "### BEGIN SOLUTION\n",
    "ridge = Ridge(alpha=.01).fit(X_train, y_train)\n",
    "\n",
    "predictions = ridge.predict(X_test)\n",
    "\n",
    "MSE = mean_squared_error(y_test, predictions)\n",
    "r2 = ridge.score(X_test, y_test)\n",
    "### END SOLUTION\n",
    "\n",
    "print(f\"MSE: {MSE}, R2: {r2}\")"
   ]
  },
  {
   "cell_type": "code",
   "execution_count": 17,
   "metadata": {},
   "outputs": [
    {
     "name": "stdout",
     "output_type": "stream",
     "text": [
      "MSE: 62.88087377715679, R2: 0.8719730221998232\n"
     ]
    }
   ],
   "source": [
    "# ElasticNet model\n",
    "# Note: Use an alpha of .01 when creating the model for this activity\n",
    "from sklearn.linear_model import ElasticNet\n",
    "\n",
    "### BEGIN SOLUTION\n",
    "elasticnet = ElasticNet(alpha=.01).fit(X_train, y_train)\n",
    "\n",
    "predictions = elasticnet.predict(X_test)\n",
    "\n",
    "MSE = mean_squared_error(y_test, predictions)\n",
    "r2 = elasticnet.score(X_test, y_test)\n",
    "### END SOLUTION\n",
    "\n",
    "print(f\"MSE: {MSE}, R2: {r2}\")"
   ]
  },
  {
   "cell_type": "markdown",
   "metadata": {},
   "source": [
    "# Hyperparameter Tuning"
   ]
  },
  {
   "cell_type": "code",
   "execution_count": 18,
   "metadata": {},
   "outputs": [
    {
     "data": {
      "text/plain": [
       "(5756,)"
      ]
     },
     "execution_count": 18,
     "metadata": {},
     "output_type": "execute_result"
    }
   ],
   "source": [
    "y_target = df_mongo[\"Close\"]\n",
    "y_target.shape"
   ]
  },
  {
   "cell_type": "code",
   "execution_count": 19,
   "metadata": {},
   "outputs": [
    {
     "name": "stdout",
     "output_type": "stream",
     "text": [
      "(4317, 3) (4317,)\n",
      "(1439, 3) (1439,)\n"
     ]
    }
   ],
   "source": [
    "# Use train_test_split to create training and testing data\n",
    "from sklearn.model_selection import train_test_split\n",
    "\n",
    "X_train, X_test, y_train, y_test = train_test_split(X, y_target, random_state=1)\n",
    "print(X_train.shape, y_train.shape)\n",
    "print(X_test.shape, y_test.shape)"
   ]
  },
  {
   "cell_type": "code",
   "execution_count": 20,
   "metadata": {},
   "outputs": [
    {
     "name": "stdout",
     "output_type": "stream",
     "text": [
      "(4317, 3) (4317,)\n",
      "(1439, 3) (1439,)\n"
     ]
    }
   ],
   "source": [
    "print(X_train.shape,y_train.shape)\n",
    "print(X_test.shape,y_test.shape)"
   ]
  },
  {
   "cell_type": "markdown",
   "metadata": {},
   "source": [
    "#### GridSearchCV and RandomizedSearchCV are techniques to evaluate models for a given hyperparameter vector using cross-validation, hence the “CV” suffix of the class name.\n",
    "#### We are executing many models together is to find which machine learning model works best for this particular dataset."
   ]
  },
  {
   "cell_type": "code",
   "execution_count": 21,
   "metadata": {},
   "outputs": [],
   "source": [
    "from sklearn.linear_model import LinearRegression, Ridge,Lasso\n",
    "from sklearn.neighbors import KNeighborsRegressor\n",
    "from sklearn.ensemble import GradientBoostingRegressor\n",
    "from sklearn.ensemble import ExtraTreesRegressor, RandomForestRegressor\n",
    "from sklearn.tree import DecisionTreeRegressor"
   ]
  },
  {
   "cell_type": "code",
   "execution_count": 22,
   "metadata": {},
   "outputs": [],
   "source": [
    "regressors = [\n",
    "    RandomForestRegressor(),\n",
    "    DecisionTreeRegressor(),\n",
    "    KNeighborsRegressor(),\n",
    "    GradientBoostingRegressor(),\n",
    "    KNeighborsRegressor(),\n",
    "    ExtraTreesRegressor(),\n",
    "    LinearRegression(),\n",
    "    Lasso(),\n",
    "    Ridge()\n",
    "]"
   ]
  },
  {
   "cell_type": "code",
   "execution_count": 23,
   "metadata": {},
   "outputs": [
    {
     "name": "stdout",
     "output_type": "stream",
     "text": [
      "RandomForestRegressor()\n",
      "\tTraining time: 0.300s\n",
      "\tPrediction time: 0.022s\n",
      "\tExplained variance: 0.990870329708177\n",
      "\tMean absolute error: 1.4540855620205326\n",
      "\tR2 score: 0.9908697064844292\n",
      "\n",
      "DecisionTreeRegressor()\n",
      "\tTraining time: 0.004s\n",
      "\tPrediction time: 0.002s\n",
      "\tExplained variance: 0.9908902961515935\n",
      "\tMean absolute error: 1.452488257152728\n",
      "\tR2 score: 0.9908895459716693\n",
      "\n",
      "KNeighborsRegressor()\n",
      "\tTraining time: 0.004s\n",
      "\tPrediction time: 0.006s\n",
      "\tExplained variance: 0.9887963340365384\n",
      "\tMean absolute error: 1.5825833581627458\n",
      "\tR2 score: 0.9887952275028388\n",
      "\n",
      "GradientBoostingRegressor()\n",
      "\tTraining time: 0.142s\n",
      "\tPrediction time: 0.005s\n",
      "\tExplained variance: 0.9868411304406408\n",
      "\tMean absolute error: 1.8757041704875264\n",
      "\tR2 score: 0.9868382193932221\n",
      "\n",
      "KNeighborsRegressor()\n",
      "\tTraining time: 0.004s\n",
      "\tPrediction time: 0.006s\n",
      "\tExplained variance: 0.9887963340365384\n",
      "\tMean absolute error: 1.5825833581627458\n",
      "\tR2 score: 0.9887952275028388\n",
      "\n",
      "ExtraTreesRegressor()\n",
      "\tTraining time: 0.212s\n",
      "\tPrediction time: 0.022s\n",
      "\tExplained variance: 0.990894540818944\n",
      "\tMean absolute error: 1.4516424341919643\n",
      "\tR2 score: 0.990893878516315\n",
      "\n",
      "LinearRegression()\n",
      "\tTraining time: 0.003s\n",
      "\tPrediction time: 0.001s\n",
      "\tExplained variance: 0.8719876723249107\n",
      "\tMean absolute error: 5.965172585174636\n",
      "\tR2 score: 0.8719778692217841\n",
      "\n",
      "Lasso()\n",
      "\tTraining time: 0.003s\n",
      "\tPrediction time: 0.001s\n",
      "\tExplained variance: 0.8686257894694742\n",
      "\tMean absolute error: 6.220202514815255\n",
      "\tR2 score: 0.8686165623471198\n",
      "\n",
      "Ridge()\n",
      "\tTraining time: 0.003s\n",
      "\tPrediction time: 0.001s\n",
      "\tExplained variance: 0.8719875320379253\n",
      "\tMean absolute error: 5.965227363316435\n",
      "\tR2 score: 0.8719777286960142\n",
      "\n"
     ]
    }
   ],
   "source": [
    "from time import time\n",
    "from sklearn.metrics import explained_variance_score,mean_absolute_error,r2_score\n",
    "\n",
    "head = 10\n",
    "for model in regressors[:head]:\n",
    "    start = time()\n",
    "    model.fit(X_train, y_train)\n",
    "    train_time = time() - start\n",
    "    start = time()\n",
    "    y_pred = model.predict(X_test)\n",
    "    predict_time = time()-start    \n",
    "    print(model)\n",
    "    print(\"\\tTraining time: %0.3fs\" % train_time)\n",
    "    print(\"\\tPrediction time: %0.3fs\" % predict_time)\n",
    "    print(\"\\tExplained variance:\", explained_variance_score(y_test, y_pred))\n",
    "    print(\"\\tMean absolute error:\", mean_absolute_error(y_test, y_pred))\n",
    "    print(\"\\tR2 score:\", r2_score(y_test, y_pred))\n",
    "    print()"
   ]
  },
  {
   "cell_type": "markdown",
   "metadata": {},
   "source": [
    "#### By comparing these results, we can quickly see that RandomForestRegressor and DecisionTreeRegressor are the best models for our data\n",
    "#### Machine learning models have parameters, which are the internal coefficients set by training or optimizing the model on a training dataset.\n",
    "#### Parameters are different from hyperparameters. Parameters are learned automatically; hyperparameters are set manually to help guide the learning process."
   ]
  },
  {
   "cell_type": "code",
   "execution_count": 24,
   "metadata": {},
   "outputs": [
    {
     "name": "stdout",
     "output_type": "stream",
     "text": [
      "Parameters currently in use:\n",
      "\n",
      "{'bootstrap': True,\n",
      " 'ccp_alpha': 0.0,\n",
      " 'criterion': 'mse',\n",
      " 'max_depth': None,\n",
      " 'max_features': 'auto',\n",
      " 'max_leaf_nodes': None,\n",
      " 'max_samples': None,\n",
      " 'min_impurity_decrease': 0.0,\n",
      " 'min_impurity_split': None,\n",
      " 'min_samples_leaf': 1,\n",
      " 'min_samples_split': 2,\n",
      " 'min_weight_fraction_leaf': 0.0,\n",
      " 'n_estimators': 100,\n",
      " 'n_jobs': None,\n",
      " 'oob_score': False,\n",
      " 'random_state': 42,\n",
      " 'verbose': 0,\n",
      " 'warm_start': False}\n"
     ]
    }
   ],
   "source": [
    "from sklearn.ensemble import RandomForestRegressor\n",
    "rf = RandomForestRegressor(random_state = 42)\n",
    "from pprint import pprint\n",
    "# Look at parameters used by our current forest\n",
    "print('Parameters currently in use:\\n')\n",
    "pprint(rf.get_params())"
   ]
  },
  {
   "cell_type": "code",
   "execution_count": 25,
   "metadata": {},
   "outputs": [
    {
     "name": "stdout",
     "output_type": "stream",
     "text": [
      "{'bootstrap': [True, False],\n",
      " 'max_depth': [10, 20, 30, 40, 50, 60, 70, 80, 90, 100, 110, None],\n",
      " 'max_features': ['auto', 'sqrt'],\n",
      " 'min_samples_leaf': [1, 2, 4],\n",
      " 'min_samples_split': [2, 5, 10],\n",
      " 'n_estimators': [200, 400, 600, 800, 1000, 1200, 1400, 1600, 1800, 2000]}\n"
     ]
    }
   ],
   "source": [
    "from sklearn.model_selection import RandomizedSearchCV\n",
    "# Number of trees in random forest\n",
    "n_estimators = [int(x) for x in np.linspace(start = 200, stop = 2000, num = 10)]\n",
    "# Number of features to consider at every split\n",
    "max_features = ['auto', 'sqrt']\n",
    "# Maximum number of levels in tree\n",
    "max_depth = [int(x) for x in np.linspace(10, 110, num = 11)]\n",
    "max_depth.append(None)\n",
    "# Minimum number of samples required to split a node\n",
    "min_samples_split = [2, 5, 10]\n",
    "# Minimum number of samples required at each leaf node\n",
    "min_samples_leaf = [1, 2, 4]\n",
    "# Method of selecting samples for training each tree\n",
    "bootstrap = [True, False]\n",
    "# Create the random grid\n",
    "random_grid = {'n_estimators': n_estimators,\n",
    "               'max_features': max_features,\n",
    "               'max_depth': max_depth,\n",
    "               'min_samples_split': min_samples_split,\n",
    "               'min_samples_leaf': min_samples_leaf,\n",
    "               'bootstrap': bootstrap}\n",
    "pprint(random_grid)"
   ]
  },
  {
   "cell_type": "code",
   "execution_count": 26,
   "metadata": {},
   "outputs": [
    {
     "name": "stdout",
     "output_type": "stream",
     "text": [
      "Fitting 3 folds for each of 100 candidates, totalling 300 fits\n"
     ]
    },
    {
     "data": {
      "text/plain": [
       "RandomizedSearchCV(cv=3, estimator=RandomForestRegressor(), n_iter=100,\n",
       "                   n_jobs=-1,\n",
       "                   param_distributions={'bootstrap': [True, False],\n",
       "                                        'max_depth': [10, 20, 30, 40, 50, 60,\n",
       "                                                      70, 80, 90, 100, 110,\n",
       "                                                      None],\n",
       "                                        'max_features': ['auto', 'sqrt'],\n",
       "                                        'min_samples_leaf': [1, 2, 4],\n",
       "                                        'min_samples_split': [2, 5, 10],\n",
       "                                        'n_estimators': [200, 400, 600, 800,\n",
       "                                                         1000, 1200, 1400, 1600,\n",
       "                                                         1800, 2000]},\n",
       "                   random_state=42, verbose=2)"
      ]
     },
     "execution_count": 26,
     "metadata": {},
     "output_type": "execute_result"
    }
   ],
   "source": [
    "# Use the random grid to search for best hyperparameters\n",
    "# First create the base model to tune\n",
    "rf = RandomForestRegressor()\n",
    "# Random search of parameters, using 3 fold cross validation, \n",
    "# search across 100 different combinations, and use all available cores\n",
    "rf_random = RandomizedSearchCV(estimator = rf, param_distributions = random_grid, n_iter = 100, cv = 3, verbose=2, random_state=42, n_jobs = -1)\n",
    "# Fit the random search model\n",
    "rf_random.fit(X_train, y_train)"
   ]
  },
  {
   "cell_type": "code",
   "execution_count": 27,
   "metadata": {},
   "outputs": [
    {
     "data": {
      "text/plain": [
       "{'n_estimators': 400,\n",
       " 'min_samples_split': 5,\n",
       " 'min_samples_leaf': 1,\n",
       " 'max_features': 'sqrt',\n",
       " 'max_depth': 100,\n",
       " 'bootstrap': True}"
      ]
     },
     "execution_count": 27,
     "metadata": {},
     "output_type": "execute_result"
    }
   ],
   "source": [
    "rf_random.best_params_"
   ]
  },
  {
   "cell_type": "code",
   "execution_count": 28,
   "metadata": {},
   "outputs": [
    {
     "name": "stdout",
     "output_type": "stream",
     "text": [
      "Model Performance\n",
      "Average Error: 1.4545 degrees.\n",
      "Accuracy = 97.42%.\n",
      "Model Performance\n",
      "Average Error: 1.4524 degrees.\n",
      "Accuracy = 97.43%.\n",
      "Improvement of 0.01%.\n"
     ]
    }
   ],
   "source": [
    "def evaluate(model, X_test, y_test):\n",
    "    predictions = model.predict(X_test)\n",
    "    errors = abs(predictions - y_test)\n",
    "    mape = 100 * np.mean(errors / y_test)\n",
    "    accuracy = 100 - mape\n",
    "    print('Model Performance')\n",
    "    print('Average Error: {:0.4f} degrees.'.format(np.mean(errors)))\n",
    "    print('Accuracy = {:0.2f}%.'.format(accuracy))\n",
    "    return accuracy\n",
    "base_model = RandomForestRegressor(n_estimators = 10, random_state = 42)\n",
    "base_model.fit(X_train, y_train)\n",
    "base_accuracy = evaluate(base_model, X_test, y_test)\n",
    "\n",
    "best_random = rf_random.best_estimator_\n",
    "random_accuracy = evaluate(best_random, X_test, y_test)\n",
    "\n",
    "print('Improvement of {:0.2f}%.'.format( 100 * (random_accuracy - base_accuracy) / base_accuracy))"
   ]
  },
  {
   "cell_type": "code",
   "execution_count": 29,
   "metadata": {},
   "outputs": [],
   "source": [
    "# Hyperparameter tuning has not improved accuracy significantly"
   ]
  },
  {
   "cell_type": "code",
   "execution_count": 30,
   "metadata": {},
   "outputs": [
    {
     "data": {
      "text/plain": [
       "array([91.88753603, 27.68860854, 47.34768867, ..., 37.88792928,\n",
       "       29.84842867, 46.8413253 ])"
      ]
     },
     "execution_count": 30,
     "metadata": {},
     "output_type": "execute_result"
    }
   ],
   "source": [
    "model_rfr = RandomForestRegressor()\n",
    "model_rfr.fit(X_train, y_train)\n",
    "y_test_pred = model_rfr.predict(X_test)\n",
    "y_test_pred"
   ]
  },
  {
   "cell_type": "code",
   "execution_count": 31,
   "metadata": {},
   "outputs": [
    {
     "data": {
      "text/plain": [
       "<bound method NDFrame.tail of         0          1          2          3          4          5     \\\n",
       "0  79.119118  35.614538  54.928986  68.253632  83.135251  79.455934   \n",
       "1  81.690002  36.621586  55.240704  63.110001  81.000000  76.070000   \n",
       "2  -2.570884  -1.007048  -0.311718   5.143631   2.135251   3.385934   \n",
       "\n",
       "        6          7          8          9     ...       4307       4308  \\\n",
       "0  29.848429  29.872068  54.928986  28.516967  ...  75.465430  27.568513   \n",
       "1  31.315332  29.788605  55.011944  29.002863  ...  77.800003  27.869005   \n",
       "2  -1.466903   0.083463  -0.082958  -0.485896  ...  -2.334573  -0.300492   \n",
       "\n",
       "        4309       4310       4311       4312       4313       4314  \\\n",
       "0  79.969204  51.344113  50.331111  26.541174  63.190719  80.257658   \n",
       "1  79.040001  52.873531  50.178135  30.355534  58.990002  81.677467   \n",
       "2   0.929203  -1.529418   0.152976  -3.814360   4.200717  -1.419809   \n",
       "\n",
       "        4315       4316  \n",
       "0  29.848429  63.190719  \n",
       "1  30.972193  61.240002  \n",
       "2  -1.123764   1.950717  \n",
       "\n",
       "[3 rows x 4317 columns]>"
      ]
     },
     "execution_count": 31,
     "metadata": {},
     "output_type": "execute_result"
    }
   ],
   "source": [
    "#RandomForestRegressor Residual showing difference actual vs predicted\n",
    "residual_dtr = pd.DataFrame([model_rfr.predict(X_train),y_train,(model_rfr.predict(X_train)-y_train)])\n",
    "residual_dtr.tail"
   ]
  },
  {
   "cell_type": "code",
   "execution_count": 32,
   "metadata": {},
   "outputs": [
    {
     "data": {
      "image/png": "[encoded data removed]",
      "text/plain": [
       "<Figure size 432x288 with 1 Axes>"
      ]
     },
     "metadata": {
      "needs_background": "light"
     },
     "output_type": "display_data"
    }
   ],
   "source": [
    "# Make predictions using fitted model\n",
    "predictions1 = model_rfr.predict(X_test)\n",
    "\n",
    "# Plotted the difference between the model predicted values and actual y values, versus the model predicted values\n",
    "plt.scatter(model_rfr.predict(X_train), y_train - model_rfr.predict(X_train), c=\"blue\", label=\"Training Data\")\n",
    "plt.scatter(model_rfr.predict(X_test), y_test - model_rfr.predict(X_test), c=\"orange\", label=\"Testing Data\")\n",
    "plt.legend()\n",
    "plt.hlines(y=0, xmin=y_test.min(), xmax=y_test.max())\n",
    "plt.title(\"Residual Plot\")\n",
    "plt.show()"
   ]
  },
  {
   "cell_type": "markdown",
   "metadata": {},
   "source": [
    "# Save the Model"
   ]
  },
  {
   "cell_type": "code",
   "execution_count": 33,
   "metadata": {},
   "outputs": [],
   "source": [
    "import pickle\n",
    "filename = '../../static/cba_model_rfr.sav'\n",
    "pickle.dump(model, open(filename, 'wb'))\n",
    "model_in_rfr = pickle.load(open(filename, 'rb'))"
   ]
  },
  {
   "cell_type": "code",
   "execution_count": 34,
   "metadata": {},
   "outputs": [],
   "source": [
    "# from joblib import dump,load\n",
    "# model_in_rfr = load('cba_model_rfr.sav')"
   ]
  },
  {
   "cell_type": "code",
   "execution_count": 35,
   "metadata": {},
   "outputs": [
    {
     "name": "stdout",
     "output_type": "stream",
     "text": [
      "    RBA   FED    CPI  Prediction\n",
      "0  0.85  1.75  125.0       97.27\n",
      "    RBA   FED     CPI  Prediction\n",
      "0  0.85  1.75  125.00       97.27\n",
      "1  0.86  1.76  125.01       97.29\n",
      "    RBA   FED     CPI  Prediction\n",
      "0  0.85  1.75  125.00       97.27\n",
      "1  0.86  1.76  125.01       97.29\n",
      "2  0.87  1.77  125.02       97.31\n",
      "    RBA   FED     CPI  Prediction\n",
      "0  0.85  1.75  125.00       97.27\n",
      "1  0.86  1.76  125.01       97.29\n",
      "2  0.87  1.77  125.02       97.31\n",
      "3  0.88  1.78  125.03       97.33\n",
      "    RBA   FED     CPI  Prediction\n",
      "0  0.85  1.75  125.00       97.27\n",
      "1  0.86  1.76  125.01       97.29\n",
      "2  0.87  1.77  125.02       97.31\n",
      "3  0.88  1.78  125.03       97.33\n",
      "4  0.89  1.79  125.04       97.34\n",
      "    RBA   FED     CPI  Prediction\n",
      "0  0.85  1.75  125.00       97.27\n",
      "1  0.86  1.76  125.01       97.29\n",
      "2  0.87  1.77  125.02       97.31\n",
      "3  0.88  1.78  125.03       97.33\n",
      "4  0.89  1.79  125.04       97.34\n",
      "5  0.90  1.80  125.05       97.36\n",
      "    RBA   FED     CPI  Prediction\n",
      "0  0.85  1.75  125.00       97.27\n",
      "1  0.86  1.76  125.01       97.29\n",
      "2  0.87  1.77  125.02       97.31\n",
      "3  0.88  1.78  125.03       97.33\n",
      "4  0.89  1.79  125.04       97.34\n",
      "5  0.90  1.80  125.05       97.36\n",
      "6  0.91  1.81  125.06       97.38\n",
      "    RBA   FED     CPI  Prediction\n",
      "0  0.85  1.75  125.00       97.27\n",
      "1  0.86  1.76  125.01       97.29\n",
      "2  0.87  1.77  125.02       97.31\n",
      "3  0.88  1.78  125.03       97.33\n",
      "4  0.89  1.79  125.04       97.34\n",
      "5  0.90  1.80  125.05       97.36\n",
      "6  0.91  1.81  125.06       97.38\n",
      "7  0.92  1.82  125.07       97.40\n",
      "    RBA   FED     CPI  Prediction\n",
      "0  0.85  1.75  125.00       97.27\n",
      "1  0.86  1.76  125.01       97.29\n",
      "2  0.87  1.77  125.02       97.31\n",
      "3  0.88  1.78  125.03       97.33\n",
      "4  0.89  1.79  125.04       97.34\n",
      "5  0.90  1.80  125.05       97.36\n",
      "6  0.91  1.81  125.06       97.38\n",
      "7  0.92  1.82  125.07       97.40\n",
      "8  0.93  1.83  125.08       97.42\n",
      "    RBA   FED     CPI  Prediction\n",
      "0  0.85  1.75  125.00       97.27\n",
      "1  0.86  1.76  125.01       97.29\n",
      "2  0.87  1.77  125.02       97.31\n",
      "3  0.88  1.78  125.03       97.33\n",
      "4  0.89  1.79  125.04       97.34\n",
      "5  0.90  1.80  125.05       97.36\n",
      "6  0.91  1.81  125.06       97.38\n",
      "7  0.92  1.82  125.07       97.40\n",
      "8  0.93  1.83  125.08       97.42\n",
      "9  0.94  1.84  125.09       97.44\n",
      "     RBA   FED     CPI  Prediction\n",
      "0   0.85  1.75  125.00       97.27\n",
      "1   0.86  1.76  125.01       97.29\n",
      "2   0.87  1.77  125.02       97.31\n",
      "3   0.88  1.78  125.03       97.33\n",
      "4   0.89  1.79  125.04       97.34\n",
      "5   0.90  1.80  125.05       97.36\n",
      "6   0.91  1.81  125.06       97.38\n",
      "7   0.92  1.82  125.07       97.40\n",
      "8   0.93  1.83  125.08       97.42\n",
      "9   0.94  1.84  125.09       97.44\n",
      "10  0.95  1.85  125.10       97.46\n",
      "     RBA   FED     CPI  Prediction\n",
      "0   0.85  1.75  125.00       97.27\n",
      "1   0.86  1.76  125.01       97.29\n",
      "2   0.87  1.77  125.02       97.31\n",
      "3   0.88  1.78  125.03       97.33\n",
      "4   0.89  1.79  125.04       97.34\n",
      "5   0.90  1.80  125.05       97.36\n",
      "6   0.91  1.81  125.06       97.38\n",
      "7   0.92  1.82  125.07       97.40\n",
      "8   0.93  1.83  125.08       97.42\n",
      "9   0.94  1.84  125.09       97.44\n",
      "10  0.95  1.85  125.10       97.46\n",
      "11  0.96  1.86  125.11       97.48\n",
      "     RBA   FED     CPI  Prediction\n",
      "0   0.85  1.75  125.00       97.27\n",
      "1   0.86  1.76  125.01       97.29\n",
      "2   0.87  1.77  125.02       97.31\n",
      "3   0.88  1.78  125.03       97.33\n",
      "4   0.89  1.79  125.04       97.34\n",
      "5   0.90  1.80  125.05       97.36\n",
      "6   0.91  1.81  125.06       97.38\n",
      "7   0.92  1.82  125.07       97.40\n",
      "8   0.93  1.83  125.08       97.42\n",
      "9   0.94  1.84  125.09       97.44\n",
      "10  0.95  1.85  125.10       97.46\n",
      "11  0.96  1.86  125.11       97.48\n",
      "12  0.97  1.87  125.12       97.50\n",
      "     RBA   FED     CPI  Prediction\n",
      "0   0.85  1.75  125.00       97.27\n",
      "1   0.86  1.76  125.01       97.29\n",
      "2   0.87  1.77  125.02       97.31\n",
      "3   0.88  1.78  125.03       97.33\n",
      "4   0.89  1.79  125.04       97.34\n",
      "5   0.90  1.80  125.05       97.36\n",
      "6   0.91  1.81  125.06       97.38\n",
      "7   0.92  1.82  125.07       97.40\n",
      "8   0.93  1.83  125.08       97.42\n",
      "9   0.94  1.84  125.09       97.44\n",
      "10  0.95  1.85  125.10       97.46\n",
      "11  0.96  1.86  125.11       97.48\n",
      "12  0.97  1.87  125.12       97.50\n",
      "13  0.98  1.88  125.13       97.52\n",
      "     RBA   FED     CPI  Prediction\n",
      "0   0.85  1.75  125.00       97.27\n",
      "1   0.86  1.76  125.01       97.29\n",
      "2   0.87  1.77  125.02       97.31\n",
      "3   0.88  1.78  125.03       97.33\n",
      "4   0.89  1.79  125.04       97.34\n",
      "5   0.90  1.80  125.05       97.36\n",
      "6   0.91  1.81  125.06       97.38\n",
      "7   0.92  1.82  125.07       97.40\n",
      "8   0.93  1.83  125.08       97.42\n",
      "9   0.94  1.84  125.09       97.44\n",
      "10  0.95  1.85  125.10       97.46\n",
      "11  0.96  1.86  125.11       97.48\n",
      "12  0.97  1.87  125.12       97.50\n",
      "13  0.98  1.88  125.13       97.52\n",
      "14  0.99  1.89  125.14       97.54\n",
      "     RBA   FED     CPI  Prediction\n",
      "0   0.85  1.75  125.00       97.27\n",
      "1   0.86  1.76  125.01       97.29\n",
      "2   0.87  1.77  125.02       97.31\n",
      "3   0.88  1.78  125.03       97.33\n",
      "4   0.89  1.79  125.04       97.34\n",
      "5   0.90  1.80  125.05       97.36\n",
      "6   0.91  1.81  125.06       97.38\n",
      "7   0.92  1.82  125.07       97.40\n",
      "8   0.93  1.83  125.08       97.42\n",
      "9   0.94  1.84  125.09       97.44\n",
      "10  0.95  1.85  125.10       97.46\n",
      "11  0.96  1.86  125.11       97.48\n",
      "12  0.97  1.87  125.12       97.50\n",
      "13  0.98  1.88  125.13       97.52\n",
      "14  0.99  1.89  125.14       97.54\n",
      "15  1.00  1.90  125.15       97.56\n",
      "     RBA   FED     CPI  Prediction\n",
      "0   0.85  1.75  125.00       97.27\n",
      "1   0.86  1.76  125.01       97.29\n",
      "2   0.87  1.77  125.02       97.31\n",
      "3   0.88  1.78  125.03       97.33\n",
      "4   0.89  1.79  125.04       97.34\n",
      "5   0.90  1.80  125.05       97.36\n",
      "6   0.91  1.81  125.06       97.38\n",
      "7   0.92  1.82  125.07       97.40\n",
      "8   0.93  1.83  125.08       97.42\n",
      "9   0.94  1.84  125.09       97.44\n",
      "10  0.95  1.85  125.10       97.46\n",
      "11  0.96  1.86  125.11       97.48\n",
      "12  0.97  1.87  125.12       97.50\n",
      "13  0.98  1.88  125.13       97.52\n",
      "14  0.99  1.89  125.14       97.54\n",
      "15  1.00  1.90  125.15       97.56\n",
      "16  1.01  1.91  125.16       97.58\n",
      "     RBA   FED     CPI  Prediction\n",
      "0   0.85  1.75  125.00       97.27\n",
      "1   0.86  1.76  125.01       97.29\n",
      "2   0.87  1.77  125.02       97.31\n",
      "3   0.88  1.78  125.03       97.33\n",
      "4   0.89  1.79  125.04       97.34\n",
      "5   0.90  1.80  125.05       97.36\n",
      "6   0.91  1.81  125.06       97.38\n",
      "7   0.92  1.82  125.07       97.40\n",
      "8   0.93  1.83  125.08       97.42\n",
      "9   0.94  1.84  125.09       97.44\n",
      "10  0.95  1.85  125.10       97.46\n",
      "11  0.96  1.86  125.11       97.48\n",
      "12  0.97  1.87  125.12       97.50\n",
      "13  0.98  1.88  125.13       97.52\n",
      "14  0.99  1.89  125.14       97.54\n",
      "15  1.00  1.90  125.15       97.56\n",
      "16  1.01  1.91  125.16       97.58\n",
      "17  1.02  1.92  125.17       97.60\n",
      "     RBA   FED     CPI  Prediction\n",
      "0   0.85  1.75  125.00       97.27\n",
      "1   0.86  1.76  125.01       97.29\n",
      "2   0.87  1.77  125.02       97.31\n",
      "3   0.88  1.78  125.03       97.33\n",
      "4   0.89  1.79  125.04       97.34\n",
      "5   0.90  1.80  125.05       97.36\n",
      "6   0.91  1.81  125.06       97.38\n",
      "7   0.92  1.82  125.07       97.40\n",
      "8   0.93  1.83  125.08       97.42\n",
      "9   0.94  1.84  125.09       97.44\n",
      "10  0.95  1.85  125.10       97.46\n",
      "11  0.96  1.86  125.11       97.48\n",
      "12  0.97  1.87  125.12       97.50\n",
      "13  0.98  1.88  125.13       97.52\n",
      "14  0.99  1.89  125.14       97.54\n",
      "15  1.00  1.90  125.15       97.56\n",
      "16  1.01  1.91  125.16       97.58\n",
      "17  1.02  1.92  125.17       97.60\n",
      "18  1.03  1.93  125.18       97.62\n",
      "     RBA   FED     CPI  Prediction\n",
      "0   0.85  1.75  125.00       97.27\n",
      "1   0.86  1.76  125.01       97.29\n",
      "2   0.87  1.77  125.02       97.31\n",
      "3   0.88  1.78  125.03       97.33\n",
      "4   0.89  1.79  125.04       97.34\n",
      "5   0.90  1.80  125.05       97.36\n",
      "6   0.91  1.81  125.06       97.38\n",
      "7   0.92  1.82  125.07       97.40\n",
      "8   0.93  1.83  125.08       97.42\n",
      "9   0.94  1.84  125.09       97.44\n",
      "10  0.95  1.85  125.10       97.46\n",
      "11  0.96  1.86  125.11       97.48\n",
      "12  0.97  1.87  125.12       97.50\n",
      "13  0.98  1.88  125.13       97.52\n",
      "14  0.99  1.89  125.14       97.54\n",
      "15  1.00  1.90  125.15       97.56\n",
      "16  1.01  1.91  125.16       97.58\n",
      "17  1.02  1.92  125.17       97.60\n",
      "18  1.03  1.93  125.18       97.62\n",
      "19  1.04  1.94  125.19       97.64\n",
      "     RBA   FED     CPI  Prediction\n",
      "0   0.85  1.75  125.00       97.27\n",
      "1   0.86  1.76  125.01       97.29\n",
      "2   0.87  1.77  125.02       97.31\n",
      "3   0.88  1.78  125.03       97.33\n",
      "4   0.89  1.79  125.04       97.34\n",
      "5   0.90  1.80  125.05       97.36\n",
      "6   0.91  1.81  125.06       97.38\n",
      "7   0.92  1.82  125.07       97.40\n",
      "8   0.93  1.83  125.08       97.42\n",
      "9   0.94  1.84  125.09       97.44\n",
      "10  0.95  1.85  125.10       97.46\n",
      "11  0.96  1.86  125.11       97.48\n",
      "12  0.97  1.87  125.12       97.50\n",
      "13  0.98  1.88  125.13       97.52\n",
      "14  0.99  1.89  125.14       97.54\n",
      "15  1.00  1.90  125.15       97.56\n",
      "16  1.01  1.91  125.16       97.58\n",
      "17  1.02  1.92  125.17       97.60\n",
      "18  1.03  1.93  125.18       97.62\n",
      "19  1.04  1.94  125.19       97.64\n",
      "20  1.05  1.95  125.20       97.66\n",
      "     RBA   FED     CPI  Prediction\n",
      "0   0.85  1.75  125.00       97.27\n",
      "1   0.86  1.76  125.01       97.29\n",
      "2   0.87  1.77  125.02       97.31\n",
      "3   0.88  1.78  125.03       97.33\n",
      "4   0.89  1.79  125.04       97.34\n",
      "5   0.90  1.80  125.05       97.36\n",
      "6   0.91  1.81  125.06       97.38\n",
      "7   0.92  1.82  125.07       97.40\n",
      "8   0.93  1.83  125.08       97.42\n",
      "9   0.94  1.84  125.09       97.44\n",
      "10  0.95  1.85  125.10       97.46\n",
      "11  0.96  1.86  125.11       97.48\n",
      "12  0.97  1.87  125.12       97.50\n",
      "13  0.98  1.88  125.13       97.52\n",
      "14  0.99  1.89  125.14       97.54\n",
      "15  1.00  1.90  125.15       97.56\n",
      "16  1.01  1.91  125.16       97.58\n",
      "17  1.02  1.92  125.17       97.60\n",
      "18  1.03  1.93  125.18       97.62\n",
      "19  1.04  1.94  125.19       97.64\n",
      "20  1.05  1.95  125.20       97.66\n",
      "21  1.06  1.96  125.21       97.68\n",
      "     RBA   FED     CPI  Prediction\n",
      "0   0.85  1.75  125.00       97.27\n",
      "1   0.86  1.76  125.01       97.29\n",
      "2   0.87  1.77  125.02       97.31\n",
      "3   0.88  1.78  125.03       97.33\n",
      "4   0.89  1.79  125.04       97.34\n",
      "5   0.90  1.80  125.05       97.36\n",
      "6   0.91  1.81  125.06       97.38\n",
      "7   0.92  1.82  125.07       97.40\n",
      "8   0.93  1.83  125.08       97.42\n",
      "9   0.94  1.84  125.09       97.44\n",
      "10  0.95  1.85  125.10       97.46\n",
      "11  0.96  1.86  125.11       97.48\n",
      "12  0.97  1.87  125.12       97.50\n",
      "13  0.98  1.88  125.13       97.52\n",
      "14  0.99  1.89  125.14       97.54\n",
      "15  1.00  1.90  125.15       97.56\n",
      "16  1.01  1.91  125.16       97.58\n",
      "17  1.02  1.92  125.17       97.60\n",
      "18  1.03  1.93  125.18       97.62\n",
      "19  1.04  1.94  125.19       97.64\n",
      "20  1.05  1.95  125.20       97.66\n",
      "21  1.06  1.96  125.21       97.68\n",
      "22  1.07  1.97  125.22       97.70\n",
      "     RBA   FED     CPI  Prediction\n",
      "0   0.85  1.75  125.00       97.27\n",
      "1   0.86  1.76  125.01       97.29\n",
      "2   0.87  1.77  125.02       97.31\n",
      "3   0.88  1.78  125.03       97.33\n",
      "4   0.89  1.79  125.04       97.34\n",
      "5   0.90  1.80  125.05       97.36\n",
      "6   0.91  1.81  125.06       97.38\n",
      "7   0.92  1.82  125.07       97.40\n",
      "8   0.93  1.83  125.08       97.42\n",
      "9   0.94  1.84  125.09       97.44\n",
      "10  0.95  1.85  125.10       97.46\n",
      "11  0.96  1.86  125.11       97.48\n",
      "12  0.97  1.87  125.12       97.50\n",
      "13  0.98  1.88  125.13       97.52\n",
      "14  0.99  1.89  125.14       97.54\n",
      "15  1.00  1.90  125.15       97.56\n",
      "16  1.01  1.91  125.16       97.58\n",
      "17  1.02  1.92  125.17       97.60\n",
      "18  1.03  1.93  125.18       97.62\n",
      "19  1.04  1.94  125.19       97.64\n",
      "20  1.05  1.95  125.20       97.66\n",
      "21  1.06  1.96  125.21       97.68\n",
      "22  1.07  1.97  125.22       97.70\n",
      "23  1.08  1.98  125.23       97.72\n",
      "     RBA   FED     CPI  Prediction\n",
      "0   0.85  1.75  125.00       97.27\n",
      "1   0.86  1.76  125.01       97.29\n",
      "2   0.87  1.77  125.02       97.31\n",
      "3   0.88  1.78  125.03       97.33\n",
      "4   0.89  1.79  125.04       97.34\n",
      "5   0.90  1.80  125.05       97.36\n",
      "6   0.91  1.81  125.06       97.38\n",
      "7   0.92  1.82  125.07       97.40\n",
      "8   0.93  1.83  125.08       97.42\n",
      "9   0.94  1.84  125.09       97.44\n",
      "10  0.95  1.85  125.10       97.46\n",
      "11  0.96  1.86  125.11       97.48\n",
      "12  0.97  1.87  125.12       97.50\n",
      "13  0.98  1.88  125.13       97.52\n",
      "14  0.99  1.89  125.14       97.54\n",
      "15  1.00  1.90  125.15       97.56\n",
      "16  1.01  1.91  125.16       97.58\n",
      "17  1.02  1.92  125.17       97.60\n",
      "18  1.03  1.93  125.18       97.62\n",
      "19  1.04  1.94  125.19       97.64\n",
      "20  1.05  1.95  125.20       97.66\n",
      "21  1.06  1.96  125.21       97.68\n",
      "22  1.07  1.97  125.22       97.70\n",
      "23  1.08  1.98  125.23       97.72\n",
      "24  1.09  1.99  125.24       97.74\n",
      "     RBA   FED     CPI  Prediction\n",
      "0   0.85  1.75  125.00       97.27\n",
      "1   0.86  1.76  125.01       97.29\n",
      "2   0.87  1.77  125.02       97.31\n",
      "3   0.88  1.78  125.03       97.33\n",
      "4   0.89  1.79  125.04       97.34\n",
      "5   0.90  1.80  125.05       97.36\n",
      "6   0.91  1.81  125.06       97.38\n",
      "7   0.92  1.82  125.07       97.40\n",
      "8   0.93  1.83  125.08       97.42\n",
      "9   0.94  1.84  125.09       97.44\n",
      "10  0.95  1.85  125.10       97.46\n",
      "11  0.96  1.86  125.11       97.48\n",
      "12  0.97  1.87  125.12       97.50\n",
      "13  0.98  1.88  125.13       97.52\n",
      "14  0.99  1.89  125.14       97.54\n",
      "15  1.00  1.90  125.15       97.56\n",
      "16  1.01  1.91  125.16       97.58\n",
      "17  1.02  1.92  125.17       97.60\n",
      "18  1.03  1.93  125.18       97.62\n",
      "19  1.04  1.94  125.19       97.64\n",
      "20  1.05  1.95  125.20       97.66\n",
      "21  1.06  1.96  125.21       97.68\n",
      "22  1.07  1.97  125.22       97.70\n",
      "23  1.08  1.98  125.23       97.72\n",
      "24  1.09  1.99  125.24       97.74\n",
      "25  1.10  2.00  125.25       97.75\n",
      "     RBA   FED     CPI  Prediction\n",
      "0   0.85  1.75  125.00       97.27\n",
      "1   0.86  1.76  125.01       97.29\n",
      "2   0.87  1.77  125.02       97.31\n",
      "3   0.88  1.78  125.03       97.33\n",
      "4   0.89  1.79  125.04       97.34\n",
      "5   0.90  1.80  125.05       97.36\n",
      "6   0.91  1.81  125.06       97.38\n",
      "7   0.92  1.82  125.07       97.40\n",
      "8   0.93  1.83  125.08       97.42\n",
      "9   0.94  1.84  125.09       97.44\n",
      "10  0.95  1.85  125.10       97.46\n",
      "11  0.96  1.86  125.11       97.48\n",
      "12  0.97  1.87  125.12       97.50\n",
      "13  0.98  1.88  125.13       97.52\n",
      "14  0.99  1.89  125.14       97.54\n",
      "15  1.00  1.90  125.15       97.56\n",
      "16  1.01  1.91  125.16       97.58\n",
      "17  1.02  1.92  125.17       97.60\n",
      "18  1.03  1.93  125.18       97.62\n",
      "19  1.04  1.94  125.19       97.64\n",
      "20  1.05  1.95  125.20       97.66\n",
      "21  1.06  1.96  125.21       97.68\n",
      "22  1.07  1.97  125.22       97.70\n",
      "23  1.08  1.98  125.23       97.72\n",
      "24  1.09  1.99  125.24       97.74\n",
      "25  1.10  2.00  125.25       97.75\n",
      "26  1.11  2.01  125.26       97.77\n",
      "     RBA   FED     CPI  Prediction\n",
      "0   0.85  1.75  125.00       97.27\n",
      "1   0.86  1.76  125.01       97.29\n",
      "2   0.87  1.77  125.02       97.31\n",
      "3   0.88  1.78  125.03       97.33\n",
      "4   0.89  1.79  125.04       97.34\n",
      "5   0.90  1.80  125.05       97.36\n",
      "6   0.91  1.81  125.06       97.38\n",
      "7   0.92  1.82  125.07       97.40\n",
      "8   0.93  1.83  125.08       97.42\n",
      "9   0.94  1.84  125.09       97.44\n",
      "10  0.95  1.85  125.10       97.46\n",
      "11  0.96  1.86  125.11       97.48\n",
      "12  0.97  1.87  125.12       97.50\n",
      "13  0.98  1.88  125.13       97.52\n",
      "14  0.99  1.89  125.14       97.54\n",
      "15  1.00  1.90  125.15       97.56\n",
      "16  1.01  1.91  125.16       97.58\n",
      "17  1.02  1.92  125.17       97.60\n",
      "18  1.03  1.93  125.18       97.62\n",
      "19  1.04  1.94  125.19       97.64\n",
      "20  1.05  1.95  125.20       97.66\n",
      "21  1.06  1.96  125.21       97.68\n",
      "22  1.07  1.97  125.22       97.70\n",
      "23  1.08  1.98  125.23       97.72\n",
      "24  1.09  1.99  125.24       97.74\n",
      "25  1.10  2.00  125.25       97.75\n",
      "26  1.11  2.01  125.26       97.77\n",
      "27  1.12  2.02  125.27       97.79\n",
      "     RBA   FED     CPI  Prediction\n",
      "0   0.85  1.75  125.00       97.27\n",
      "1   0.86  1.76  125.01       97.29\n",
      "2   0.87  1.77  125.02       97.31\n",
      "3   0.88  1.78  125.03       97.33\n",
      "4   0.89  1.79  125.04       97.34\n",
      "5   0.90  1.80  125.05       97.36\n",
      "6   0.91  1.81  125.06       97.38\n",
      "7   0.92  1.82  125.07       97.40\n",
      "8   0.93  1.83  125.08       97.42\n",
      "9   0.94  1.84  125.09       97.44\n",
      "10  0.95  1.85  125.10       97.46\n",
      "11  0.96  1.86  125.11       97.48\n",
      "12  0.97  1.87  125.12       97.50\n",
      "13  0.98  1.88  125.13       97.52\n",
      "14  0.99  1.89  125.14       97.54\n",
      "15  1.00  1.90  125.15       97.56\n",
      "16  1.01  1.91  125.16       97.58\n",
      "17  1.02  1.92  125.17       97.60\n",
      "18  1.03  1.93  125.18       97.62\n",
      "19  1.04  1.94  125.19       97.64\n",
      "20  1.05  1.95  125.20       97.66\n",
      "21  1.06  1.96  125.21       97.68\n",
      "22  1.07  1.97  125.22       97.70\n",
      "23  1.08  1.98  125.23       97.72\n",
      "24  1.09  1.99  125.24       97.74\n",
      "25  1.10  2.00  125.25       97.75\n",
      "26  1.11  2.01  125.26       97.77\n",
      "27  1.12  2.02  125.27       97.79\n",
      "28  1.13  2.03  125.28       97.81\n",
      "     RBA   FED     CPI  Prediction\n",
      "0   0.85  1.75  125.00       97.27\n",
      "1   0.86  1.76  125.01       97.29\n",
      "2   0.87  1.77  125.02       97.31\n",
      "3   0.88  1.78  125.03       97.33\n",
      "4   0.89  1.79  125.04       97.34\n",
      "5   0.90  1.80  125.05       97.36\n",
      "6   0.91  1.81  125.06       97.38\n",
      "7   0.92  1.82  125.07       97.40\n",
      "8   0.93  1.83  125.08       97.42\n",
      "9   0.94  1.84  125.09       97.44\n",
      "10  0.95  1.85  125.10       97.46\n",
      "11  0.96  1.86  125.11       97.48\n",
      "12  0.97  1.87  125.12       97.50\n",
      "13  0.98  1.88  125.13       97.52\n",
      "14  0.99  1.89  125.14       97.54\n",
      "15  1.00  1.90  125.15       97.56\n",
      "16  1.01  1.91  125.16       97.58\n",
      "17  1.02  1.92  125.17       97.60\n",
      "18  1.03  1.93  125.18       97.62\n",
      "19  1.04  1.94  125.19       97.64\n",
      "20  1.05  1.95  125.20       97.66\n",
      "21  1.06  1.96  125.21       97.68\n",
      "22  1.07  1.97  125.22       97.70\n",
      "23  1.08  1.98  125.23       97.72\n",
      "24  1.09  1.99  125.24       97.74\n",
      "25  1.10  2.00  125.25       97.75\n",
      "26  1.11  2.01  125.26       97.77\n",
      "27  1.12  2.02  125.27       97.79\n",
      "28  1.13  2.03  125.28       97.81\n",
      "29  1.14  2.04  125.29       97.83\n",
      "     RBA   FED     CPI  Prediction\n",
      "0   0.85  1.75  125.00       97.27\n",
      "1   0.86  1.76  125.01       97.29\n",
      "2   0.87  1.77  125.02       97.31\n",
      "3   0.88  1.78  125.03       97.33\n",
      "4   0.89  1.79  125.04       97.34\n",
      "5   0.90  1.80  125.05       97.36\n",
      "6   0.91  1.81  125.06       97.38\n",
      "7   0.92  1.82  125.07       97.40\n",
      "8   0.93  1.83  125.08       97.42\n",
      "9   0.94  1.84  125.09       97.44\n",
      "10  0.95  1.85  125.10       97.46\n",
      "11  0.96  1.86  125.11       97.48\n",
      "12  0.97  1.87  125.12       97.50\n",
      "13  0.98  1.88  125.13       97.52\n",
      "14  0.99  1.89  125.14       97.54\n",
      "15  1.00  1.90  125.15       97.56\n",
      "16  1.01  1.91  125.16       97.58\n",
      "17  1.02  1.92  125.17       97.60\n",
      "18  1.03  1.93  125.18       97.62\n",
      "19  1.04  1.94  125.19       97.64\n",
      "20  1.05  1.95  125.20       97.66\n",
      "21  1.06  1.96  125.21       97.68\n",
      "22  1.07  1.97  125.22       97.70\n",
      "23  1.08  1.98  125.23       97.72\n",
      "24  1.09  1.99  125.24       97.74\n",
      "25  1.10  2.00  125.25       97.75\n",
      "26  1.11  2.01  125.26       97.77\n",
      "27  1.12  2.02  125.27       97.79\n",
      "28  1.13  2.03  125.28       97.81\n",
      "29  1.14  2.04  125.29       97.83\n",
      "30  1.15  2.05  125.30       97.85\n",
      "     RBA   FED     CPI  Prediction\n",
      "0   0.85  1.75  125.00       97.27\n",
      "1   0.86  1.76  125.01       97.29\n",
      "2   0.87  1.77  125.02       97.31\n",
      "3   0.88  1.78  125.03       97.33\n",
      "4   0.89  1.79  125.04       97.34\n",
      "5   0.90  1.80  125.05       97.36\n",
      "6   0.91  1.81  125.06       97.38\n",
      "7   0.92  1.82  125.07       97.40\n",
      "8   0.93  1.83  125.08       97.42\n",
      "9   0.94  1.84  125.09       97.44\n",
      "10  0.95  1.85  125.10       97.46\n",
      "11  0.96  1.86  125.11       97.48\n",
      "12  0.97  1.87  125.12       97.50\n",
      "13  0.98  1.88  125.13       97.52\n",
      "14  0.99  1.89  125.14       97.54\n",
      "15  1.00  1.90  125.15       97.56\n",
      "16  1.01  1.91  125.16       97.58\n",
      "17  1.02  1.92  125.17       97.60\n",
      "18  1.03  1.93  125.18       97.62\n",
      "19  1.04  1.94  125.19       97.64\n",
      "20  1.05  1.95  125.20       97.66\n",
      "21  1.06  1.96  125.21       97.68\n",
      "22  1.07  1.97  125.22       97.70\n",
      "23  1.08  1.98  125.23       97.72\n",
      "24  1.09  1.99  125.24       97.74\n",
      "25  1.10  2.00  125.25       97.75\n",
      "26  1.11  2.01  125.26       97.77\n",
      "27  1.12  2.02  125.27       97.79\n",
      "28  1.13  2.03  125.28       97.81\n",
      "29  1.14  2.04  125.29       97.83\n",
      "30  1.15  2.05  125.30       97.85\n",
      "31  1.16  2.06  125.31       97.87\n",
      "     RBA   FED     CPI  Prediction\n",
      "0   0.85  1.75  125.00       97.27\n",
      "1   0.86  1.76  125.01       97.29\n",
      "2   0.87  1.77  125.02       97.31\n",
      "3   0.88  1.78  125.03       97.33\n",
      "4   0.89  1.79  125.04       97.34\n",
      "5   0.90  1.80  125.05       97.36\n",
      "6   0.91  1.81  125.06       97.38\n",
      "7   0.92  1.82  125.07       97.40\n",
      "8   0.93  1.83  125.08       97.42\n",
      "9   0.94  1.84  125.09       97.44\n",
      "10  0.95  1.85  125.10       97.46\n",
      "11  0.96  1.86  125.11       97.48\n",
      "12  0.97  1.87  125.12       97.50\n",
      "13  0.98  1.88  125.13       97.52\n",
      "14  0.99  1.89  125.14       97.54\n",
      "15  1.00  1.90  125.15       97.56\n",
      "16  1.01  1.91  125.16       97.58\n",
      "17  1.02  1.92  125.17       97.60\n",
      "18  1.03  1.93  125.18       97.62\n",
      "19  1.04  1.94  125.19       97.64\n",
      "20  1.05  1.95  125.20       97.66\n",
      "21  1.06  1.96  125.21       97.68\n",
      "22  1.07  1.97  125.22       97.70\n",
      "23  1.08  1.98  125.23       97.72\n",
      "24  1.09  1.99  125.24       97.74\n",
      "25  1.10  2.00  125.25       97.75\n",
      "26  1.11  2.01  125.26       97.77\n",
      "27  1.12  2.02  125.27       97.79\n",
      "28  1.13  2.03  125.28       97.81\n",
      "29  1.14  2.04  125.29       97.83\n",
      "30  1.15  2.05  125.30       97.85\n",
      "31  1.16  2.06  125.31       97.87\n",
      "32  1.17  2.07  125.32       97.89\n",
      "     RBA   FED     CPI  Prediction\n",
      "0   0.85  1.75  125.00       97.27\n",
      "1   0.86  1.76  125.01       97.29\n",
      "2   0.87  1.77  125.02       97.31\n",
      "3   0.88  1.78  125.03       97.33\n",
      "4   0.89  1.79  125.04       97.34\n",
      "5   0.90  1.80  125.05       97.36\n",
      "6   0.91  1.81  125.06       97.38\n",
      "7   0.92  1.82  125.07       97.40\n",
      "8   0.93  1.83  125.08       97.42\n",
      "9   0.94  1.84  125.09       97.44\n",
      "10  0.95  1.85  125.10       97.46\n",
      "11  0.96  1.86  125.11       97.48\n",
      "12  0.97  1.87  125.12       97.50\n",
      "13  0.98  1.88  125.13       97.52\n",
      "14  0.99  1.89  125.14       97.54\n",
      "15  1.00  1.90  125.15       97.56\n",
      "16  1.01  1.91  125.16       97.58\n",
      "17  1.02  1.92  125.17       97.60\n",
      "18  1.03  1.93  125.18       97.62\n",
      "19  1.04  1.94  125.19       97.64\n",
      "20  1.05  1.95  125.20       97.66\n",
      "21  1.06  1.96  125.21       97.68\n",
      "22  1.07  1.97  125.22       97.70\n",
      "23  1.08  1.98  125.23       97.72\n",
      "24  1.09  1.99  125.24       97.74\n",
      "25  1.10  2.00  125.25       97.75\n",
      "26  1.11  2.01  125.26       97.77\n",
      "27  1.12  2.02  125.27       97.79\n",
      "28  1.13  2.03  125.28       97.81\n",
      "29  1.14  2.04  125.29       97.83\n",
      "30  1.15  2.05  125.30       97.85\n",
      "31  1.16  2.06  125.31       97.87\n",
      "32  1.17  2.07  125.32       97.89\n",
      "33  1.18  2.08  125.33       97.91\n",
      "     RBA   FED     CPI  Prediction\n",
      "0   0.85  1.75  125.00       97.27\n",
      "1   0.86  1.76  125.01       97.29\n",
      "2   0.87  1.77  125.02       97.31\n",
      "3   0.88  1.78  125.03       97.33\n",
      "4   0.89  1.79  125.04       97.34\n",
      "5   0.90  1.80  125.05       97.36\n",
      "6   0.91  1.81  125.06       97.38\n",
      "7   0.92  1.82  125.07       97.40\n",
      "8   0.93  1.83  125.08       97.42\n",
      "9   0.94  1.84  125.09       97.44\n",
      "10  0.95  1.85  125.10       97.46\n",
      "11  0.96  1.86  125.11       97.48\n",
      "12  0.97  1.87  125.12       97.50\n",
      "13  0.98  1.88  125.13       97.52\n",
      "14  0.99  1.89  125.14       97.54\n",
      "15  1.00  1.90  125.15       97.56\n",
      "16  1.01  1.91  125.16       97.58\n",
      "17  1.02  1.92  125.17       97.60\n",
      "18  1.03  1.93  125.18       97.62\n",
      "19  1.04  1.94  125.19       97.64\n",
      "20  1.05  1.95  125.20       97.66\n",
      "21  1.06  1.96  125.21       97.68\n",
      "22  1.07  1.97  125.22       97.70\n",
      "23  1.08  1.98  125.23       97.72\n",
      "24  1.09  1.99  125.24       97.74\n",
      "25  1.10  2.00  125.25       97.75\n",
      "26  1.11  2.01  125.26       97.77\n",
      "27  1.12  2.02  125.27       97.79\n",
      "28  1.13  2.03  125.28       97.81\n",
      "29  1.14  2.04  125.29       97.83\n",
      "30  1.15  2.05  125.30       97.85\n",
      "31  1.16  2.06  125.31       97.87\n",
      "32  1.17  2.07  125.32       97.89\n",
      "33  1.18  2.08  125.33       97.91\n",
      "34  1.19  2.09  125.34       97.93\n",
      "     RBA   FED     CPI  Prediction\n",
      "0   0.85  1.75  125.00       97.27\n",
      "1   0.86  1.76  125.01       97.29\n",
      "2   0.87  1.77  125.02       97.31\n",
      "3   0.88  1.78  125.03       97.33\n",
      "4   0.89  1.79  125.04       97.34\n",
      "5   0.90  1.80  125.05       97.36\n",
      "6   0.91  1.81  125.06       97.38\n",
      "7   0.92  1.82  125.07       97.40\n",
      "8   0.93  1.83  125.08       97.42\n",
      "9   0.94  1.84  125.09       97.44\n",
      "10  0.95  1.85  125.10       97.46\n",
      "11  0.96  1.86  125.11       97.48\n",
      "12  0.97  1.87  125.12       97.50\n",
      "13  0.98  1.88  125.13       97.52\n",
      "14  0.99  1.89  125.14       97.54\n",
      "15  1.00  1.90  125.15       97.56\n",
      "16  1.01  1.91  125.16       97.58\n",
      "17  1.02  1.92  125.17       97.60\n",
      "18  1.03  1.93  125.18       97.62\n",
      "19  1.04  1.94  125.19       97.64\n",
      "20  1.05  1.95  125.20       97.66\n",
      "21  1.06  1.96  125.21       97.68\n",
      "22  1.07  1.97  125.22       97.70\n",
      "23  1.08  1.98  125.23       97.72\n",
      "24  1.09  1.99  125.24       97.74\n",
      "25  1.10  2.00  125.25       97.75\n",
      "26  1.11  2.01  125.26       97.77\n",
      "27  1.12  2.02  125.27       97.79\n",
      "28  1.13  2.03  125.28       97.81\n",
      "29  1.14  2.04  125.29       97.83\n",
      "30  1.15  2.05  125.30       97.85\n",
      "31  1.16  2.06  125.31       97.87\n",
      "32  1.17  2.07  125.32       97.89\n",
      "33  1.18  2.08  125.33       97.91\n",
      "34  1.19  2.09  125.34       97.93\n",
      "35  1.20  2.10  125.35       97.95\n",
      "     RBA   FED     CPI  Prediction\n",
      "0   0.85  1.75  125.00       97.27\n",
      "1   0.86  1.76  125.01       97.29\n",
      "2   0.87  1.77  125.02       97.31\n",
      "3   0.88  1.78  125.03       97.33\n",
      "4   0.89  1.79  125.04       97.34\n",
      "5   0.90  1.80  125.05       97.36\n",
      "6   0.91  1.81  125.06       97.38\n",
      "7   0.92  1.82  125.07       97.40\n",
      "8   0.93  1.83  125.08       97.42\n",
      "9   0.94  1.84  125.09       97.44\n",
      "10  0.95  1.85  125.10       97.46\n",
      "11  0.96  1.86  125.11       97.48\n",
      "12  0.97  1.87  125.12       97.50\n",
      "13  0.98  1.88  125.13       97.52\n",
      "14  0.99  1.89  125.14       97.54\n",
      "15  1.00  1.90  125.15       97.56\n",
      "16  1.01  1.91  125.16       97.58\n",
      "17  1.02  1.92  125.17       97.60\n",
      "18  1.03  1.93  125.18       97.62\n",
      "19  1.04  1.94  125.19       97.64\n",
      "20  1.05  1.95  125.20       97.66\n",
      "21  1.06  1.96  125.21       97.68\n",
      "22  1.07  1.97  125.22       97.70\n",
      "23  1.08  1.98  125.23       97.72\n",
      "24  1.09  1.99  125.24       97.74\n",
      "25  1.10  2.00  125.25       97.75\n",
      "26  1.11  2.01  125.26       97.77\n",
      "27  1.12  2.02  125.27       97.79\n",
      "28  1.13  2.03  125.28       97.81\n",
      "29  1.14  2.04  125.29       97.83\n",
      "30  1.15  2.05  125.30       97.85\n",
      "31  1.16  2.06  125.31       97.87\n",
      "32  1.17  2.07  125.32       97.89\n",
      "33  1.18  2.08  125.33       97.91\n",
      "34  1.19  2.09  125.34       97.93\n",
      "35  1.20  2.10  125.35       97.95\n",
      "36  1.21  2.11  125.36       97.97\n",
      "     RBA   FED     CPI  Prediction\n",
      "0   0.85  1.75  125.00       97.27\n",
      "1   0.86  1.76  125.01       97.29\n",
      "2   0.87  1.77  125.02       97.31\n",
      "3   0.88  1.78  125.03       97.33\n",
      "4   0.89  1.79  125.04       97.34\n",
      "5   0.90  1.80  125.05       97.36\n",
      "6   0.91  1.81  125.06       97.38\n",
      "7   0.92  1.82  125.07       97.40\n",
      "8   0.93  1.83  125.08       97.42\n",
      "9   0.94  1.84  125.09       97.44\n",
      "10  0.95  1.85  125.10       97.46\n",
      "11  0.96  1.86  125.11       97.48\n",
      "12  0.97  1.87  125.12       97.50\n",
      "13  0.98  1.88  125.13       97.52\n",
      "14  0.99  1.89  125.14       97.54\n",
      "15  1.00  1.90  125.15       97.56\n",
      "16  1.01  1.91  125.16       97.58\n",
      "17  1.02  1.92  125.17       97.60\n",
      "18  1.03  1.93  125.18       97.62\n",
      "19  1.04  1.94  125.19       97.64\n",
      "20  1.05  1.95  125.20       97.66\n",
      "21  1.06  1.96  125.21       97.68\n",
      "22  1.07  1.97  125.22       97.70\n",
      "23  1.08  1.98  125.23       97.72\n",
      "24  1.09  1.99  125.24       97.74\n",
      "25  1.10  2.00  125.25       97.75\n",
      "26  1.11  2.01  125.26       97.77\n",
      "27  1.12  2.02  125.27       97.79\n",
      "28  1.13  2.03  125.28       97.81\n",
      "29  1.14  2.04  125.29       97.83\n",
      "30  1.15  2.05  125.30       97.85\n",
      "31  1.16  2.06  125.31       97.87\n",
      "32  1.17  2.07  125.32       97.89\n",
      "33  1.18  2.08  125.33       97.91\n",
      "34  1.19  2.09  125.34       97.93\n",
      "35  1.20  2.10  125.35       97.95\n",
      "36  1.21  2.11  125.36       97.97\n",
      "37  1.22  2.12  125.37       97.99\n",
      "     RBA   FED     CPI  Prediction\n",
      "0   0.85  1.75  125.00       97.27\n",
      "1   0.86  1.76  125.01       97.29\n",
      "2   0.87  1.77  125.02       97.31\n",
      "3   0.88  1.78  125.03       97.33\n",
      "4   0.89  1.79  125.04       97.34\n",
      "5   0.90  1.80  125.05       97.36\n",
      "6   0.91  1.81  125.06       97.38\n",
      "7   0.92  1.82  125.07       97.40\n",
      "8   0.93  1.83  125.08       97.42\n",
      "9   0.94  1.84  125.09       97.44\n",
      "10  0.95  1.85  125.10       97.46\n",
      "11  0.96  1.86  125.11       97.48\n",
      "12  0.97  1.87  125.12       97.50\n",
      "13  0.98  1.88  125.13       97.52\n",
      "14  0.99  1.89  125.14       97.54\n",
      "15  1.00  1.90  125.15       97.56\n",
      "16  1.01  1.91  125.16       97.58\n",
      "17  1.02  1.92  125.17       97.60\n",
      "18  1.03  1.93  125.18       97.62\n",
      "19  1.04  1.94  125.19       97.64\n",
      "20  1.05  1.95  125.20       97.66\n",
      "21  1.06  1.96  125.21       97.68\n",
      "22  1.07  1.97  125.22       97.70\n",
      "23  1.08  1.98  125.23       97.72\n",
      "24  1.09  1.99  125.24       97.74\n",
      "25  1.10  2.00  125.25       97.75\n",
      "26  1.11  2.01  125.26       97.77\n",
      "27  1.12  2.02  125.27       97.79\n",
      "28  1.13  2.03  125.28       97.81\n",
      "29  1.14  2.04  125.29       97.83\n",
      "30  1.15  2.05  125.30       97.85\n",
      "31  1.16  2.06  125.31       97.87\n",
      "32  1.17  2.07  125.32       97.89\n",
      "33  1.18  2.08  125.33       97.91\n",
      "34  1.19  2.09  125.34       97.93\n",
      "35  1.20  2.10  125.35       97.95\n",
      "36  1.21  2.11  125.36       97.97\n",
      "37  1.22  2.12  125.37       97.99\n",
      "38  1.23  2.13  125.38       98.01\n",
      "     RBA   FED     CPI  Prediction\n",
      "0   0.85  1.75  125.00       97.27\n",
      "1   0.86  1.76  125.01       97.29\n",
      "2   0.87  1.77  125.02       97.31\n",
      "3   0.88  1.78  125.03       97.33\n",
      "4   0.89  1.79  125.04       97.34\n",
      "5   0.90  1.80  125.05       97.36\n",
      "6   0.91  1.81  125.06       97.38\n",
      "7   0.92  1.82  125.07       97.40\n",
      "8   0.93  1.83  125.08       97.42\n",
      "9   0.94  1.84  125.09       97.44\n",
      "10  0.95  1.85  125.10       97.46\n",
      "11  0.96  1.86  125.11       97.48\n",
      "12  0.97  1.87  125.12       97.50\n",
      "13  0.98  1.88  125.13       97.52\n",
      "14  0.99  1.89  125.14       97.54\n",
      "15  1.00  1.90  125.15       97.56\n",
      "16  1.01  1.91  125.16       97.58\n",
      "17  1.02  1.92  125.17       97.60\n",
      "18  1.03  1.93  125.18       97.62\n",
      "19  1.04  1.94  125.19       97.64\n",
      "20  1.05  1.95  125.20       97.66\n",
      "21  1.06  1.96  125.21       97.68\n",
      "22  1.07  1.97  125.22       97.70\n",
      "23  1.08  1.98  125.23       97.72\n",
      "24  1.09  1.99  125.24       97.74\n",
      "25  1.10  2.00  125.25       97.75\n",
      "26  1.11  2.01  125.26       97.77\n",
      "27  1.12  2.02  125.27       97.79\n",
      "28  1.13  2.03  125.28       97.81\n",
      "29  1.14  2.04  125.29       97.83\n",
      "30  1.15  2.05  125.30       97.85\n",
      "31  1.16  2.06  125.31       97.87\n",
      "32  1.17  2.07  125.32       97.89\n",
      "33  1.18  2.08  125.33       97.91\n",
      "34  1.19  2.09  125.34       97.93\n",
      "35  1.20  2.10  125.35       97.95\n",
      "36  1.21  2.11  125.36       97.97\n",
      "37  1.22  2.12  125.37       97.99\n",
      "38  1.23  2.13  125.38       98.01\n",
      "39  1.24  2.14  125.39       98.03\n",
      "[{'RBA': 0.85, 'FED': 1.75, 'CPI': 125.0, 'Prediction': 97.27}, {'RBA': 0.86, 'FED': 1.76, 'CPI': 125.01, 'Prediction': 97.29}, {'RBA': 0.87, 'FED': 1.77, 'CPI': 125.02, 'Prediction': 97.31}, {'RBA': 0.88, 'FED': 1.78, 'CPI': 125.03, 'Prediction': 97.33}, {'RBA': 0.89, 'FED': 1.79, 'CPI': 125.04, 'Prediction': 97.34}, {'RBA': 0.9, 'FED': 1.8, 'CPI': 125.05, 'Prediction': 97.36}, {'RBA': 0.91, 'FED': 1.81, 'CPI': 125.06, 'Prediction': 97.38}, {'RBA': 0.92, 'FED': 1.82, 'CPI': 125.07, 'Prediction': 97.4}, {'RBA': 0.93, 'FED': 1.83, 'CPI': 125.08, 'Prediction': 97.42}, {'RBA': 0.94, 'FED': 1.84, 'CPI': 125.09, 'Prediction': 97.44}, {'RBA': 0.95, 'FED': 1.85, 'CPI': 125.1, 'Prediction': 97.46}, {'RBA': 0.96, 'FED': 1.86, 'CPI': 125.11, 'Prediction': 97.48}, {'RBA': 0.97, 'FED': 1.87, 'CPI': 125.12, 'Prediction': 97.5}, {'RBA': 0.98, 'FED': 1.88, 'CPI': 125.13, 'Prediction': 97.52}, {'RBA': 0.99, 'FED': 1.89, 'CPI': 125.14, 'Prediction': 97.54}, {'RBA': 1.0, 'FED': 1.9, 'CPI': 125.15, 'Prediction': 97.56}, {'RBA': 1.01, 'FED': 1.91, 'CPI': 125.16, 'Prediction': 97.58}, {'RBA': 1.02, 'FED': 1.92, 'CPI': 125.17, 'Prediction': 97.6}, {'RBA': 1.03, 'FED': 1.93, 'CPI': 125.18, 'Prediction': 97.62}, {'RBA': 1.04, 'FED': 1.94, 'CPI': 125.19, 'Prediction': 97.64}, {'RBA': 1.05, 'FED': 1.95, 'CPI': 125.2, 'Prediction': 97.66}, {'RBA': 1.06, 'FED': 1.96, 'CPI': 125.21, 'Prediction': 97.68}, {'RBA': 1.07, 'FED': 1.97, 'CPI': 125.22, 'Prediction': 97.7}, {'RBA': 1.08, 'FED': 1.98, 'CPI': 125.23, 'Prediction': 97.72}, {'RBA': 1.09, 'FED': 1.99, 'CPI': 125.24, 'Prediction': 97.74}, {'RBA': 1.1, 'FED': 2.0, 'CPI': 125.25, 'Prediction': 97.75}, {'RBA': 1.11, 'FED': 2.01, 'CPI': 125.26, 'Prediction': 97.77}, {'RBA': 1.12, 'FED': 2.02, 'CPI': 125.27, 'Prediction': 97.79}, {'RBA': 1.13, 'FED': 2.03, 'CPI': 125.28, 'Prediction': 97.81}, {'RBA': 1.14, 'FED': 2.04, 'CPI': 125.29, 'Prediction': 97.83}, {'RBA': 1.15, 'FED': 2.05, 'CPI': 125.3, 'Prediction': 97.85}, {'RBA': 1.16, 'FED': 2.06, 'CPI': 125.31, 'Prediction': 97.87}, {'RBA': 1.17, 'FED': 2.07, 'CPI': 125.32, 'Prediction': 97.89}, {'RBA': 1.18, 'FED': 2.08, 'CPI': 125.33, 'Prediction': 97.91}, {'RBA': 1.19, 'FED': 2.09, 'CPI': 125.34, 'Prediction': 97.93}, {'RBA': 1.2, 'FED': 2.1, 'CPI': 125.35, 'Prediction': 97.95}, {'RBA': 1.21, 'FED': 2.11, 'CPI': 125.36, 'Prediction': 97.97}, {'RBA': 1.22, 'FED': 2.12, 'CPI': 125.37, 'Prediction': 97.99}, {'RBA': 1.23, 'FED': 2.13, 'CPI': 125.38, 'Prediction': 98.01}, {'RBA': 1.24, 'FED': 2.14, 'CPI': 125.39, 'Prediction': 98.03}]\n"
     ]
    }
   ],
   "source": [
    "rba = float(0.85)\n",
    "fed = float(1.75)\n",
    "cpi = float(125.00)\n",
    "input =40\n",
    "rfr=[]\n",
    "\n",
    "def randomforest(rba,fed,cpi):\n",
    "    for i in range(0,input):\n",
    "      rfr.append([rba,fed,cpi])\n",
    "      np.round_(rfr,2,out = None) \n",
    "      df = pd.DataFrame(rfr, columns = ['RBA','FED',\"CPI\"])\n",
    "      df.round(2)\n",
    "      pred_rf=model_in_rfr.predict(df)\n",
    "      df['Prediction'] = pred_rf\n",
    "      df['Prediction'] = df['Prediction'].astype(float).round(2)\n",
    "      rba+=0.01\n",
    "      fed+=0.01\n",
    "      cpi+=0.01\n",
    "      print(df)\n",
    "    my_rforest = df.to_dict(orient='records')\n",
    "    for dict_value in my_rforest:\n",
    "      for k, v in dict_value.items():\n",
    "        dict_value[k] = round(v, 2)\n",
    "    return my_rforest\n",
    "# print(my_rforest)\n",
    "my_rf = randomforest(rba,fed,cpi)\n",
    "print(my_rf)\n"
   ]
  },
  {
   "cell_type": "code",
   "execution_count": 36,
   "metadata": {},
   "outputs": [
    {
     "name": "stdout",
     "output_type": "stream",
     "text": [
      "    RBA   FED    CPI  Prediction\n",
      "0  0.85  1.75  125.0   97.266409\n",
      "[97.26640872]\n"
     ]
    }
   ],
   "source": [
    "rba = float(0.85)\n",
    "fed = float(1.75)\n",
    "cpi = float(125.00)\n",
    "def rforest(rba,fed,cpi):\n",
    "    dtr =[[rba,fed,cpi]]\n",
    "    df = pd.DataFrame (dtr, columns = ['RBA','FED',\"CPI\"])\n",
    "    pred_dtr=model_in_rfr.predict(df)\n",
    "    df['Prediction'] = pred_dtr\n",
    "    print(df)\n",
    "    df_dict = df.to_dict(orient='records')\n",
    "    return pred_dtr\n",
    "Pred_rf = rforest(rba,fed,cpi)\n",
    "print(Pred_rf)"
   ]
  },
  {
   "cell_type": "code",
   "execution_count": 37,
   "metadata": {},
   "outputs": [
    {
     "data": {
      "image/png": "[encoded data removed]",
      "text/plain": [
       "<Figure size 864x360 with 2 Axes>"
      ]
     },
     "metadata": {
      "needs_background": "light"
     },
     "output_type": "display_data"
    }
   ],
   "source": [
    "x = np.arange(2000,2024,4)\n",
    "ax = df_mongo.plot(y=[\"CPI\",\"Close\"], figsize=(12, 5),color=['grey','green'],linewidth=2)\n",
    "df_mongo.plot(y=[\"RBA\",\"FED\"],secondary_y=True, ax=ax,color=['pink','steelblue'],linestyle='dashed')\n",
    "plt.legend(bbox_to_anchor=(1.03, 1), loc='upper left', borderaxespad=-4, title=\"Interest rates\")\n",
    "ax.legend(loc='upper left')\n",
    "ax.set_xticks([0,1000,2000,3000,4000,5000])\n",
    "ax.set_xticklabels(x, rotation=0)\n",
    "ax.set_title('CBA Random Forest Regression Model')\n",
    "ax.set_xlabel('Trading Date', fontsize=18)\n",
    "ax.set_ylabel('Close Price AUD ($) or CPI', fontsize=18)\n",
    "plt.savefig('../../static/data/images/cba_tree.png')"
   ]
  },
  {
   "cell_type": "markdown",
   "metadata": {},
   "source": [
    "#Save predicted error to MongoDB"
   ]
  },
  {
   "cell_type": "code",
   "execution_count": 38,
   "metadata": {},
   "outputs": [],
   "source": [
    "# Module used to connect Python with MongoDb\n",
    "import pymongo"
   ]
  },
  {
   "cell_type": "code",
   "execution_count": 39,
   "metadata": {},
   "outputs": [],
   "source": [
    "# The default port used by MongoDB is 27017\n",
    "# https://docs.mongodb.com/manual/reference/default-mongodb-port/\n",
    "conn = 'mongodb://localhost:27017'\n",
    "client = pymongo.MongoClient(conn)\n",
    "\n",
    "# Define the 'sharesDB' database in Mongo\n",
    "db = client.sharesDB.companys\n",
    "\n",
    "name = 'CBA'"
   ]
  },
  {
   "cell_type": "code",
   "execution_count": 40,
   "metadata": {},
   "outputs": [
    {
     "name": "stdout",
     "output_type": "stream",
     "text": [
      "{'_id': ObjectId('62f22c944569e8a2848fddd5'), 'model': 'RFR', 'name': 'CBA', 'date': '09/08/2022', 'predicted': 97, 'actual': 101, 'difference': -3.9884, 'accuracy': 97.45}\n"
     ]
    }
   ],
   "source": [
    "# query the companys collection\n",
    "companys = db.find({'model': 'RFR','name': name})\n",
    "# see change in the collection\n",
    "for company in companys:\n",
    "    print(company)"
   ]
  },
  {
   "cell_type": "code",
   "execution_count": 41,
   "metadata": {},
   "outputs": [
    {
     "name": "stdout",
     "output_type": "stream",
     "text": [
      "97.42 100 12/08/2022\n"
     ]
    }
   ],
   "source": [
    "#save last price actual to variable\n",
    "actual_price = df_mongo.iloc[-1,5]\n",
    "actual_date = df_mongo.iloc[-1,1] \n",
    "actual_price = int(actual_price)\n",
    "base_accuracy=round(base_accuracy,2)\n",
    "print(base_accuracy,actual_price,actual_date)"
   ]
  },
  {
   "cell_type": "code",
   "execution_count": 42,
   "metadata": {},
   "outputs": [
    {
     "name": "stdout",
     "output_type": "stream",
     "text": [
      "date 12/08/2022,predicted 97,actual 100, difference -2.7335912755453506,accuracy 97.42\n"
     ]
    }
   ],
   "source": [
    "# Set keys and values of company\n",
    "\n",
    "predicted = int(Pred_rf)\n",
    "difference = Pred_rf-actual_price\n",
    "difference=difference[0]\n",
    "print(f'date {actual_date},predicted {predicted},actual {actual_price}, difference {difference},accuracy {base_accuracy}')"
   ]
  },
  {
   "cell_type": "code",
   "execution_count": 43,
   "metadata": {},
   "outputs": [
    {
     "data": {
      "text/plain": [
       "<pymongo.results.DeleteResult at 0x22848a61a40>"
      ]
     },
     "execution_count": 43,
     "metadata": {},
     "output_type": "execute_result"
    }
   ],
   "source": [
    "# Delete a document from a collection\n",
    "db.delete_one(\n",
    "    {'model': 'RFR','name': name}\n",
    ")\n"
   ]
  },
  {
   "cell_type": "code",
   "execution_count": 44,
   "metadata": {},
   "outputs": [
    {
     "name": "stdout",
     "output_type": "stream",
     "text": [
      "{'_id': ObjectId('62f869a32d48e159f9650d6b'), 'model': 'RFR', 'name': 'CBA', 'date': '12/08/2022', 'predicted': 97, 'actual': 100, 'difference': -2.7336, 'accuracy': 97.42}\n"
     ]
    }
   ],
   "source": [
    "# Insert a document into the 'companys' collection\n",
    "db.insert_one(\n",
    "    {\n",
    "      'model': 'RFR',\n",
    "      'name': name,\n",
    "      'date': actual_date,\n",
    "      'predicted': predicted,\n",
    "      'actual': actual_price,\n",
    "      'difference': round(difference,4),\n",
    "      'accuracy': round(base_accuracy,2)        \n",
    "    }\n",
    ")\n",
    "\n",
    "# query the classroom collection\n",
    "companys = db.find({\n",
    "      'model': 'RFR',\n",
    "      'name': name})\n",
    "\n",
    "# see change in collection\n",
    "for company in companys:\n",
    "    print(company)"
   ]
  }
 ],
 "metadata": {
  "interpreter": {
   "hash": "45bb1cb4637e4034484920e5cfb24c9afd84b0847d6c36e39edd3067d3a05462"
  },
  "kernel_info": {
   "name": "dev"
  },
  "kernelspec": {
   "display_name": "Python 3.9.7 ('base')",
   "language": "python",
   "name": "python3"
  },
  "language_info": {
   "codemirror_mode": {
    "name": "ipython",
    "version": 3
   },
   "file_extension": ".py",
   "mimetype": "text/x-python",
   "name": "python",
   "nbconvert_exporter": "python",
   "pygments_lexer": "ipython3",
   "version": "3.9.7"
  },
  "nteract": {
   "version": "0.12.3"
  }
 },
 "nbformat": 4,
 "nbformat_minor": 2
}
