{
 "cells": [
  {
   "cell_type": "code",
   "execution_count": 69,
   "metadata": {},
   "outputs": [
    {
     "name": "stdout",
     "output_type": "stream",
     "text": [
      "Requirement already satisfied: sklearn in c:\\users\\antoi\\anaconda3\\lib\\site-packages (0.0)\n",
      "Requirement already satisfied: scikit-learn in c:\\users\\antoi\\anaconda3\\lib\\site-packages (from sklearn) (0.24.2)\n",
      "Requirement already satisfied: numpy>=1.13.3 in c:\\users\\antoi\\anaconda3\\lib\\site-packages (from scikit-learn->sklearn) (1.20.3)\n",
      "Requirement already satisfied: scipy>=0.19.1 in c:\\users\\antoi\\anaconda3\\lib\\site-packages (from scikit-learn->sklearn) (1.7.1)\n",
      "Requirement already satisfied: threadpoolctl>=2.0.0 in c:\\users\\antoi\\anaconda3\\lib\\site-packages (from scikit-learn->sklearn) (2.2.0)\n",
      "Requirement already satisfied: joblib>=0.11 in c:\\users\\antoi\\anaconda3\\lib\\site-packages (from scikit-learn->sklearn) (1.1.0)\n",
      "Requirement already satisfied: joblib in c:\\users\\antoi\\anaconda3\\lib\\site-packages (1.1.0)\n"
     ]
    }
   ],
   "source": [
    "# Update sklearn to prevent version mismatches\n",
    "!pip install sklearn --upgrade\n",
    "# install joblib. This will be used to save your model. \n",
    "# Restart your kernel after installing \n",
    "!pip install joblib"
   ]
  },
  {
   "cell_type": "markdown",
   "metadata": {},
   "source": [
    "This model uses a neural network and GridSearchCV to predict share price impacts of Interest changes"
   ]
  },
  {
   "cell_type": "markdown",
   "metadata": {},
   "source": [
    "# Read the CSV and Perform Basic Data Cleaning"
   ]
  },
  {
   "cell_type": "code",
   "execution_count": 70,
   "metadata": {},
   "outputs": [],
   "source": [
    "import matplotlib.pyplot as plt\n",
    "import numpy as np\n",
    "import pandas as pd"
   ]
  },
  {
   "cell_type": "code",
   "execution_count": 71,
   "metadata": {},
   "outputs": [
    {
     "data": {
      "text/html": [
       "<div>\n",
       "<style scoped>\n",
       "    .dataframe tbody tr th:only-of-type {\n",
       "        vertical-align: middle;\n",
       "    }\n",
       "\n",
       "    .dataframe tbody tr th {\n",
       "        vertical-align: top;\n",
       "    }\n",
       "\n",
       "    .dataframe thead th {\n",
       "        text-align: right;\n",
       "    }\n",
       "</style>\n",
       "<table border=\"1\" class=\"dataframe\">\n",
       "  <thead>\n",
       "    <tr style=\"text-align: right;\">\n",
       "      <th></th>\n",
       "      <th>Date</th>\n",
       "      <th>Open</th>\n",
       "      <th>High</th>\n",
       "      <th>Low</th>\n",
       "      <th>Close</th>\n",
       "      <th>Adj Close</th>\n",
       "      <th>Volume</th>\n",
       "      <th>SENTIMENT</th>\n",
       "      <th>RBA</th>\n",
       "      <th>FED</th>\n",
       "      <th>CPI</th>\n",
       "      <th>CPIUS</th>\n",
       "      <th>CPIchange</th>\n",
       "    </tr>\n",
       "  </thead>\n",
       "  <tbody>\n",
       "    <tr>\n",
       "      <th>0</th>\n",
       "      <td>3/01/2000</td>\n",
       "      <td>26.088652</td>\n",
       "      <td>26.088652</td>\n",
       "      <td>26.088652</td>\n",
       "      <td>26.088652</td>\n",
       "      <td>7.993308</td>\n",
       "      <td>0</td>\n",
       "      <td>NEGATIVE</td>\n",
       "      <td>5.0</td>\n",
       "      <td>5.5</td>\n",
       "      <td>69.7</td>\n",
       "      <td>168.8</td>\n",
       "      <td>2.8</td>\n",
       "    </tr>\n",
       "    <tr>\n",
       "      <th>1</th>\n",
       "      <td>4/01/2000</td>\n",
       "      <td>26.058813</td>\n",
       "      <td>26.058813</td>\n",
       "      <td>25.720646</td>\n",
       "      <td>25.790268</td>\n",
       "      <td>7.901886</td>\n",
       "      <td>1018072</td>\n",
       "      <td>NEGATIVE</td>\n",
       "      <td>5.0</td>\n",
       "      <td>5.5</td>\n",
       "      <td>69.7</td>\n",
       "      <td>168.8</td>\n",
       "      <td>2.8</td>\n",
       "    </tr>\n",
       "    <tr>\n",
       "      <th>2</th>\n",
       "      <td>5/01/2000</td>\n",
       "      <td>25.353634</td>\n",
       "      <td>25.392424</td>\n",
       "      <td>25.113932</td>\n",
       "      <td>25.213392</td>\n",
       "      <td>7.725136</td>\n",
       "      <td>2191283</td>\n",
       "      <td>NEGATIVE</td>\n",
       "      <td>5.0</td>\n",
       "      <td>5.5</td>\n",
       "      <td>69.7</td>\n",
       "      <td>168.8</td>\n",
       "      <td>2.8</td>\n",
       "    </tr>\n",
       "    <tr>\n",
       "      <th>3</th>\n",
       "      <td>6/01/2000</td>\n",
       "      <td>25.362585</td>\n",
       "      <td>25.362585</td>\n",
       "      <td>24.666357</td>\n",
       "      <td>24.716087</td>\n",
       "      <td>7.572770</td>\n",
       "      <td>1505531</td>\n",
       "      <td>POSITIVE</td>\n",
       "      <td>5.0</td>\n",
       "      <td>5.5</td>\n",
       "      <td>69.7</td>\n",
       "      <td>168.8</td>\n",
       "      <td>2.8</td>\n",
       "    </tr>\n",
       "    <tr>\n",
       "      <th>4</th>\n",
       "      <td>7/01/2000</td>\n",
       "      <td>24.913021</td>\n",
       "      <td>25.113932</td>\n",
       "      <td>24.735979</td>\n",
       "      <td>24.964741</td>\n",
       "      <td>7.648952</td>\n",
       "      <td>1414040</td>\n",
       "      <td>POSITIVE</td>\n",
       "      <td>5.0</td>\n",
       "      <td>5.5</td>\n",
       "      <td>69.7</td>\n",
       "      <td>168.8</td>\n",
       "      <td>2.8</td>\n",
       "    </tr>\n",
       "  </tbody>\n",
       "</table>\n",
       "</div>"
      ],
      "text/plain": [
       "        Date       Open       High        Low      Close  Adj Close   Volume  \\\n",
       "0  3/01/2000  26.088652  26.088652  26.088652  26.088652   7.993308        0   \n",
       "1  4/01/2000  26.058813  26.058813  25.720646  25.790268   7.901886  1018072   \n",
       "2  5/01/2000  25.353634  25.392424  25.113932  25.213392   7.725136  2191283   \n",
       "3  6/01/2000  25.362585  25.362585  24.666357  24.716087   7.572770  1505531   \n",
       "4  7/01/2000  24.913021  25.113932  24.735979  24.964741   7.648952  1414040   \n",
       "\n",
       "  SENTIMENT  RBA  FED   CPI  CPIUS  CPIchange  \n",
       "0  NEGATIVE  5.0  5.5  69.7  168.8        2.8  \n",
       "1  NEGATIVE  5.0  5.5  69.7  168.8        2.8  \n",
       "2  NEGATIVE  5.0  5.5  69.7  168.8        2.8  \n",
       "3  POSITIVE  5.0  5.5  69.7  168.8        2.8  \n",
       "4  POSITIVE  5.0  5.5  69.7  168.8        2.8  "
      ]
     },
     "execution_count": 71,
     "metadata": {},
     "output_type": "execute_result"
    }
   ],
   "source": [
    "df_stock1 = pd.read_csv(\"../../static/data/cba.csv\")\n",
    "# Drop the null columns where all values are null\n",
    "df_stock2 = df_stock1.dropna(axis='columns', how='all')\n",
    "# Drop the null rows\n",
    "df_stock3 = df_stock2.dropna()\n",
    "# Drop the last row to test prediction to actual\n",
    "df_stock_less1= df_stock3.iloc[:-1,:]\n",
    "# Drop last 3 columns Sentiment RBA FED\n",
    "# N=3\n",
    "# df = df_stock_less1.iloc[: , :-N]\n",
    "df_stock_less1.head()"
   ]
  },
  {
   "cell_type": "code",
   "execution_count": 72,
   "metadata": {},
   "outputs": [
    {
     "data": {
      "text/plain": [
       "(5722, 13)"
      ]
     },
     "execution_count": 72,
     "metadata": {},
     "output_type": "execute_result"
    }
   ],
   "source": [
    "df_stock_less1.shape"
   ]
  },
  {
   "cell_type": "markdown",
   "metadata": {},
   "source": [
    "# Use `RBA`,`FED` and `CPI` for the X values"
   ]
  },
  {
   "cell_type": "code",
   "execution_count": 73,
   "metadata": {},
   "outputs": [
    {
     "name": "stdout",
     "output_type": "stream",
     "text": [
      "(5722, 3) (5722, 1)\n"
     ]
    }
   ],
   "source": [
    "X = df_stock_less1[[\"RBA\",\"FED\",\"CPI\"]]\n",
    "y = df_stock_less1[\"Close\"].values.reshape(-1, 1)\n",
    "print(X.shape, y.shape)"
   ]
  },
  {
   "cell_type": "code",
   "execution_count": 74,
   "metadata": {},
   "outputs": [
    {
     "data": {
      "text/html": [
       "<div>\n",
       "<style scoped>\n",
       "    .dataframe tbody tr th:only-of-type {\n",
       "        vertical-align: middle;\n",
       "    }\n",
       "\n",
       "    .dataframe tbody tr th {\n",
       "        vertical-align: top;\n",
       "    }\n",
       "\n",
       "    .dataframe thead th {\n",
       "        text-align: right;\n",
       "    }\n",
       "</style>\n",
       "<table border=\"1\" class=\"dataframe\">\n",
       "  <thead>\n",
       "    <tr style=\"text-align: right;\">\n",
       "      <th></th>\n",
       "      <th>RBA</th>\n",
       "      <th>FED</th>\n",
       "      <th>CPI</th>\n",
       "    </tr>\n",
       "  </thead>\n",
       "  <tbody>\n",
       "    <tr>\n",
       "      <th>0</th>\n",
       "      <td>5.00</td>\n",
       "      <td>5.50</td>\n",
       "      <td>69.7</td>\n",
       "    </tr>\n",
       "    <tr>\n",
       "      <th>1</th>\n",
       "      <td>5.00</td>\n",
       "      <td>5.50</td>\n",
       "      <td>69.7</td>\n",
       "    </tr>\n",
       "    <tr>\n",
       "      <th>2</th>\n",
       "      <td>5.00</td>\n",
       "      <td>5.50</td>\n",
       "      <td>69.7</td>\n",
       "    </tr>\n",
       "    <tr>\n",
       "      <th>3</th>\n",
       "      <td>5.00</td>\n",
       "      <td>5.50</td>\n",
       "      <td>69.7</td>\n",
       "    </tr>\n",
       "    <tr>\n",
       "      <th>4</th>\n",
       "      <td>5.00</td>\n",
       "      <td>5.50</td>\n",
       "      <td>69.7</td>\n",
       "    </tr>\n",
       "    <tr>\n",
       "      <th>...</th>\n",
       "      <td>...</td>\n",
       "      <td>...</td>\n",
       "      <td>...</td>\n",
       "    </tr>\n",
       "    <tr>\n",
       "      <th>5717</th>\n",
       "      <td>0.85</td>\n",
       "      <td>1.75</td>\n",
       "      <td>125.0</td>\n",
       "    </tr>\n",
       "    <tr>\n",
       "      <th>5718</th>\n",
       "      <td>0.85</td>\n",
       "      <td>1.75</td>\n",
       "      <td>125.0</td>\n",
       "    </tr>\n",
       "    <tr>\n",
       "      <th>5719</th>\n",
       "      <td>0.85</td>\n",
       "      <td>1.75</td>\n",
       "      <td>125.0</td>\n",
       "    </tr>\n",
       "    <tr>\n",
       "      <th>5720</th>\n",
       "      <td>0.85</td>\n",
       "      <td>1.75</td>\n",
       "      <td>125.0</td>\n",
       "    </tr>\n",
       "    <tr>\n",
       "      <th>5721</th>\n",
       "      <td>0.85</td>\n",
       "      <td>1.75</td>\n",
       "      <td>125.0</td>\n",
       "    </tr>\n",
       "  </tbody>\n",
       "</table>\n",
       "<p>5722 rows × 3 columns</p>\n",
       "</div>"
      ],
      "text/plain": [
       "       RBA   FED    CPI\n",
       "0     5.00  5.50   69.7\n",
       "1     5.00  5.50   69.7\n",
       "2     5.00  5.50   69.7\n",
       "3     5.00  5.50   69.7\n",
       "4     5.00  5.50   69.7\n",
       "...    ...   ...    ...\n",
       "5717  0.85  1.75  125.0\n",
       "5718  0.85  1.75  125.0\n",
       "5719  0.85  1.75  125.0\n",
       "5720  0.85  1.75  125.0\n",
       "5721  0.85  1.75  125.0\n",
       "\n",
       "[5722 rows x 3 columns]"
      ]
     },
     "execution_count": 74,
     "metadata": {},
     "output_type": "execute_result"
    }
   ],
   "source": [
    "X"
   ]
  },
  {
   "cell_type": "markdown",
   "metadata": {},
   "source": [
    "# Create a Train Test Split"
   ]
  },
  {
   "cell_type": "code",
   "execution_count": 75,
   "metadata": {},
   "outputs": [
    {
     "name": "stdout",
     "output_type": "stream",
     "text": [
      "(4291, 3) (4291, 1)\n",
      "(1431, 3) (1431, 1)\n",
      "<bound method DataFrame.info of        RBA   FED    CPI\n",
      "4369  1.50  0.75  110.5\n",
      "2914  4.75  0.25   99.2\n",
      "4215  1.75  0.50  109.4\n",
      "99    6.00  6.50   70.2\n",
      "3988  2.00  0.25  108.0\n",
      "...    ...   ...    ...\n",
      "905   4.75  1.25   78.6\n",
      "5192  0.25  1.25  114.4\n",
      "3980  2.00  0.25  108.0\n",
      "235   6.25  6.50   73.1\n",
      "5157  0.25  1.25  114.4\n",
      "\n",
      "[4291 rows x 3 columns]>\n"
     ]
    }
   ],
   "source": [
    "# Use train_test_split to create training and testing data\n",
    "from sklearn.model_selection import train_test_split\n",
    "\n",
    "X_train, X_test, y_train, y_test = train_test_split(X, y, random_state=1)\n",
    "print(X_train.shape, y_train.shape)\n",
    "print(X_test.shape, y_test.shape)\n",
    "print(X_train.info)"
   ]
  },
  {
   "cell_type": "code",
   "execution_count": 76,
   "metadata": {},
   "outputs": [],
   "source": [
    "from sklearn.linear_model import LinearRegression\n",
    "model = LinearRegression()"
   ]
  },
  {
   "cell_type": "markdown",
   "metadata": {},
   "source": [
    "# Fit the model"
   ]
  },
  {
   "cell_type": "code",
   "execution_count": 77,
   "metadata": {},
   "outputs": [
    {
     "name": "stdout",
     "output_type": "stream",
     "text": [
      "Training Score: 0.8738398161240808\n",
      "Testing Score: 0.8798150520209602\n"
     ]
    }
   ],
   "source": [
    "# Fit the model to the training data and calculate the scores for the training and testing data\n",
    "\n",
    "### BEGIN SOLUTION\n",
    "model.fit(X_train, y_train)\n",
    "training_score = model.score(X_train, y_train)\n",
    "testing_score = model.score(X_test, y_test)\n",
    "\n",
    "### END SOLUTION \n",
    "\n",
    "print(f\"Training Score: {training_score}\")\n",
    "print(f\"Testing Score: {testing_score}\")"
   ]
  },
  {
   "cell_type": "code",
   "execution_count": 78,
   "metadata": {},
   "outputs": [],
   "source": [
    "# X_train = X_train.reshape((X_train.shape[0], 1))"
   ]
  },
  {
   "cell_type": "code",
   "execution_count": 79,
   "metadata": {},
   "outputs": [],
   "source": [
    "#Linear Regression Residual showing difference actual vs predicted\n",
    "# residual = pd.DataFrame([model.predict(X_train),y_train,(model.predict(X_train)-y_train)])\n",
    "# residual.tail"
   ]
  },
  {
   "cell_type": "code",
   "execution_count": 80,
   "metadata": {},
   "outputs": [
    {
     "data": {
      "text/plain": [
       "Text(0.5, 1.0, 'Residual Plot')"
      ]
     },
     "execution_count": 80,
     "metadata": {},
     "output_type": "execute_result"
    },
    {
     "data": {
      "image/png": "[encoded data removed]",
      "text/plain": [
       "<Figure size 432x288 with 1 Axes>"
      ]
     },
     "metadata": {
      "needs_background": "light"
     },
     "output_type": "display_data"
    }
   ],
   "source": [
    "# Plot the Residuals for the Training and Testing data\n",
    "plt.scatter(model.predict(X_train), model.predict(X_train) - y_train, c=\"blue\", label=\"Training Data\")\n",
    "plt.scatter(model.predict(X_test), model.predict(X_test) - y_test, c=\"orange\", label=\"Testing Data\")\n",
    "plt.legend()\n",
    "plt.hlines(y=0, xmin=y.min(), xmax=y.max())\n",
    "plt.title(\"Residual Plot\")"
   ]
  },
  {
   "cell_type": "code",
   "execution_count": 81,
   "metadata": {},
   "outputs": [],
   "source": [
    "# Linear Regression: X_test predictions to variable\n",
    "predictions = model.predict(X_test)"
   ]
  },
  {
   "cell_type": "markdown",
   "metadata": {},
   "source": [
    "#### R2 Score is a very popular metric used for evaluating the performance of linear regression models. Where R2 Score is between 0 and 1, the closer to 1, the better the regression fit.\n",
    "#### Use MSE or MAE when comparing two or more models, the lower the value of MSE or MAE, the better. MSE (Mean Square Error): Uses Euclidean distance to calculate the error. MSE gives the magnitude of the error only."
   ]
  },
  {
   "cell_type": "code",
   "execution_count": 82,
   "metadata": {},
   "outputs": [
    {
     "name": "stdout",
     "output_type": "stream",
     "text": [
      "MSE: 61.34409306635273, R2: 0.8798150520209602\n"
     ]
    }
   ],
   "source": [
    "# Used X_test, y_test, and model.predict(X_test) to calculate MSE and R2\n",
    "\n",
    "### BEGIN SOLUTION\n",
    "from sklearn.metrics import mean_squared_error\n",
    "\n",
    "MSE = mean_squared_error(y_test, predictions)\n",
    "r2 = model.score(X_test, y_test)\n",
    "### END SOLUTION\n",
    "\n",
    "print(f\"MSE: {MSE}, R2: {r2}\")"
   ]
  },
  {
   "cell_type": "markdown",
   "metadata": {},
   "source": [
    "#### Lasso regression imposes a constraint on the model parameters that causes regression coefficients for some variables to shrink toward zero. It comes with a parameter, alpha , and the higher the alpha , the more feature coefficients are zero. When alpha is 0 , Lasso regression produces the same coefficients as a linear regression."
   ]
  },
  {
   "cell_type": "code",
   "execution_count": 83,
   "metadata": {},
   "outputs": [
    {
     "name": "stdout",
     "output_type": "stream",
     "text": [
      "MSE: 61.347139259358855, R2: 0.8798090839394437\n"
     ]
    }
   ],
   "source": [
    "# LASSO model\n",
    "# Note: Used an alpha of .01 when creating the model for this activity\n",
    "from sklearn.linear_model import Lasso\n",
    "\n",
    "### BEGIN SOLUTION\n",
    "lasso = Lasso(alpha=.01).fit(X_train, y_train)\n",
    "\n",
    "predictions = lasso.predict(X_test)\n",
    "\n",
    "MSE = mean_squared_error(y_test, predictions)\n",
    "r2 = lasso.score(X_test, y_test)\n",
    "### END SOLUTION\n",
    "\n",
    "print(f\"MSE: {MSE}, R2: {r2}\")"
   ]
  },
  {
   "cell_type": "code",
   "execution_count": 84,
   "metadata": {},
   "outputs": [
    {
     "name": "stdout",
     "output_type": "stream",
     "text": [
      "MSE: 61.344094290294244, R2: 0.8798150496230219\n"
     ]
    }
   ],
   "source": [
    "# Ridge model\n",
    "# Note: Used an alpha of .01 when creating the model for this activity\n",
    "from sklearn.linear_model import Ridge\n",
    "\n",
    "### BEGIN SOLUTION\n",
    "ridge = Ridge(alpha=.01).fit(X_train, y_train)\n",
    "\n",
    "predictions = ridge.predict(X_test)\n",
    "\n",
    "MSE = mean_squared_error(y_test, predictions)\n",
    "r2 = ridge.score(X_test, y_test)\n",
    "### END SOLUTION\n",
    "\n",
    "print(f\"MSE: {MSE}, R2: {r2}\")"
   ]
  },
  {
   "cell_type": "code",
   "execution_count": 85,
   "metadata": {},
   "outputs": [
    {
     "name": "stdout",
     "output_type": "stream",
     "text": [
      "MSE: 61.34839195098993, R2: 0.8798066296741511\n"
     ]
    }
   ],
   "source": [
    "# ElasticNet model\n",
    "# Note: Use an alpha of .01 when creating the model for this activity\n",
    "from sklearn.linear_model import ElasticNet\n",
    "\n",
    "### BEGIN SOLUTION\n",
    "elasticnet = ElasticNet(alpha=.01).fit(X_train, y_train)\n",
    "\n",
    "predictions = elasticnet.predict(X_test)\n",
    "\n",
    "MSE = mean_squared_error(y_test, predictions)\n",
    "r2 = elasticnet.score(X_test, y_test)\n",
    "### END SOLUTION\n",
    "\n",
    "print(f\"MSE: {MSE}, R2: {r2}\")"
   ]
  },
  {
   "cell_type": "markdown",
   "metadata": {},
   "source": [
    "# Hyperparameter Tuning"
   ]
  },
  {
   "cell_type": "code",
   "execution_count": 86,
   "metadata": {},
   "outputs": [
    {
     "data": {
      "text/plain": [
       "(5722,)"
      ]
     },
     "execution_count": 86,
     "metadata": {},
     "output_type": "execute_result"
    }
   ],
   "source": [
    "y_target = df_stock_less1[\"Close\"]\n",
    "y_target.shape"
   ]
  },
  {
   "cell_type": "code",
   "execution_count": 87,
   "metadata": {},
   "outputs": [
    {
     "name": "stdout",
     "output_type": "stream",
     "text": [
      "(4291, 3) (4291,)\n",
      "(1431, 3) (1431,)\n"
     ]
    }
   ],
   "source": [
    "# Use train_test_split to create training and testing data\n",
    "from sklearn.model_selection import train_test_split\n",
    "\n",
    "X_train, X_test, y_train, y_test = train_test_split(X, y_target, random_state=1)\n",
    "print(X_train.shape, y_train.shape)\n",
    "print(X_test.shape, y_test.shape)"
   ]
  },
  {
   "cell_type": "code",
   "execution_count": 88,
   "metadata": {},
   "outputs": [
    {
     "name": "stdout",
     "output_type": "stream",
     "text": [
      "(4291, 3) (4291,)\n",
      "(1431, 3) (1431,)\n"
     ]
    }
   ],
   "source": [
    "print(X_train.shape,y_train.shape)\n",
    "print(X_test.shape,y_test.shape)"
   ]
  },
  {
   "cell_type": "markdown",
   "metadata": {},
   "source": [
    "#### GridSearchCV and RandomizedSearchCV are techniques to evaluate models for a given hyperparameter vector using cross-validation, hence the “CV” suffix of the class name.\n",
    "#### We are executing many models together is to find which machine learning model works best for this particular dataset."
   ]
  },
  {
   "cell_type": "code",
   "execution_count": 89,
   "metadata": {},
   "outputs": [],
   "source": [
    "from sklearn.linear_model import LinearRegression, Ridge,Lasso\n",
    "from sklearn.neighbors import KNeighborsRegressor\n",
    "from sklearn.ensemble import GradientBoostingRegressor\n",
    "from sklearn.ensemble import ExtraTreesRegressor, RandomForestRegressor\n",
    "from sklearn.tree import DecisionTreeRegressor"
   ]
  },
  {
   "cell_type": "code",
   "execution_count": 90,
   "metadata": {},
   "outputs": [],
   "source": [
    "regressors = [\n",
    "    RandomForestRegressor(),\n",
    "    DecisionTreeRegressor(),\n",
    "    KNeighborsRegressor(),\n",
    "    GradientBoostingRegressor(),\n",
    "    KNeighborsRegressor(),\n",
    "    ExtraTreesRegressor(),\n",
    "    LinearRegression(),\n",
    "    Lasso(),\n",
    "    Ridge()\n",
    "]"
   ]
  },
  {
   "cell_type": "code",
   "execution_count": 91,
   "metadata": {},
   "outputs": [
    {
     "name": "stdout",
     "output_type": "stream",
     "text": [
      "RandomForestRegressor()\n",
      "\tTraining time: 0.388s\n",
      "\tPrediction time: 0.019s\n",
      "\tExplained variance: 0.9920936836296876\n",
      "\tMean absolute error: 1.4130025055414337\n",
      "\tR2 score: 0.9920905593215052\n",
      "\n",
      "DecisionTreeRegressor()\n",
      "\tTraining time: 0.003s\n",
      "\tPrediction time: 0.001s\n",
      "\tExplained variance: 0.9919328426334519\n",
      "\tMean absolute error: 1.419618018379329\n",
      "\tR2 score: 0.9919280622218712\n",
      "\n",
      "KNeighborsRegressor()\n",
      "\tTraining time: 0.007s\n",
      "\tPrediction time: 0.012s\n",
      "\tExplained variance: 0.99074128823688\n",
      "\tMean absolute error: 1.5060434454227811\n",
      "\tR2 score: 0.9907401578413497\n",
      "\n",
      "GradientBoostingRegressor()\n",
      "\tTraining time: 0.141s\n",
      "\tPrediction time: 0.004s\n",
      "\tExplained variance: 0.9888253469112388\n",
      "\tMean absolute error: 1.7843522691973144\n",
      "\tR2 score: 0.9888067960327062\n",
      "\n",
      "KNeighborsRegressor()\n",
      "\tTraining time: 0.004s\n",
      "\tPrediction time: 0.005s\n",
      "\tExplained variance: 0.99074128823688\n",
      "\tMean absolute error: 1.5060434454227811\n",
      "\tR2 score: 0.9907401578413497\n",
      "\n",
      "ExtraTreesRegressor()\n",
      "\tTraining time: 0.213s\n",
      "\tPrediction time: 0.023s\n",
      "\tExplained variance: 0.9920845391037235\n",
      "\tMean absolute error: 1.4145156946888084\n",
      "\tR2 score: 0.9920806952603104\n",
      "\n",
      "LinearRegression()\n",
      "\tTraining time: 0.005s\n",
      "\tPrediction time: 0.001s\n",
      "\tExplained variance: 0.8800053814762244\n",
      "\tMean absolute error: 5.8856687976826345\n",
      "\tR2 score: 0.8798150520209602\n",
      "\n",
      "Lasso()\n",
      "\tTraining time: 0.003s\n",
      "\tPrediction time: 0.001s\n",
      "\tExplained variance: 0.8765786955865955\n",
      "\tMean absolute error: 6.153450215314734\n",
      "\tR2 score: 0.876336565435891\n",
      "\n",
      "Ridge()\n",
      "\tTraining time: 0.002s\n",
      "\tPrediction time: 0.004s\n",
      "\tExplained variance: 0.8800051583918945\n",
      "\tMean absolute error: 5.885727065245474\n",
      "\tR2 score: 0.8798148119661998\n",
      "\n"
     ]
    }
   ],
   "source": [
    "from time import time\n",
    "from sklearn.metrics import explained_variance_score,mean_absolute_error,r2_score\n",
    "\n",
    "head = 10\n",
    "for model in regressors[:head]:\n",
    "    start = time()\n",
    "    model.fit(X_train, y_train)\n",
    "    train_time = time() - start\n",
    "    start = time()\n",
    "    y_pred = model.predict(X_test)\n",
    "    predict_time = time()-start    \n",
    "    print(model)\n",
    "    print(\"\\tTraining time: %0.3fs\" % train_time)\n",
    "    print(\"\\tPrediction time: %0.3fs\" % predict_time)\n",
    "    print(\"\\tExplained variance:\", explained_variance_score(y_test, y_pred))\n",
    "    print(\"\\tMean absolute error:\", mean_absolute_error(y_test, y_pred))\n",
    "    print(\"\\tR2 score:\", r2_score(y_test, y_pred))\n",
    "    print()"
   ]
  },
  {
   "cell_type": "markdown",
   "metadata": {},
   "source": [
    "#### By comparing these results, we can quickly see that RandomForestRegressor and DecisionTreeRegressor are the best models for our data\n",
    "#### Machine learning models have parameters, which are the internal coefficients set by training or optimizing the model on a training dataset.\n",
    "#### Parameters are different from hyperparameters. Parameters are learned automatically; hyperparameters are set manually to help guide the learning process."
   ]
  },
  {
   "cell_type": "code",
   "execution_count": 92,
   "metadata": {},
   "outputs": [
    {
     "name": "stdout",
     "output_type": "stream",
     "text": [
      "Parameters currently in use:\n",
      "\n",
      "{'bootstrap': True,\n",
      " 'ccp_alpha': 0.0,\n",
      " 'criterion': 'mse',\n",
      " 'max_depth': None,\n",
      " 'max_features': 'auto',\n",
      " 'max_leaf_nodes': None,\n",
      " 'max_samples': None,\n",
      " 'min_impurity_decrease': 0.0,\n",
      " 'min_impurity_split': None,\n",
      " 'min_samples_leaf': 1,\n",
      " 'min_samples_split': 2,\n",
      " 'min_weight_fraction_leaf': 0.0,\n",
      " 'n_estimators': 100,\n",
      " 'n_jobs': None,\n",
      " 'oob_score': False,\n",
      " 'random_state': 42,\n",
      " 'verbose': 0,\n",
      " 'warm_start': False}\n"
     ]
    }
   ],
   "source": [
    "from sklearn.ensemble import RandomForestRegressor\n",
    "rf = RandomForestRegressor(random_state = 42)\n",
    "from pprint import pprint\n",
    "# Look at parameters used by our current forest\n",
    "print('Parameters currently in use:\\n')\n",
    "pprint(rf.get_params())"
   ]
  },
  {
   "cell_type": "code",
   "execution_count": 93,
   "metadata": {},
   "outputs": [
    {
     "name": "stdout",
     "output_type": "stream",
     "text": [
      "{'bootstrap': [True, False],\n",
      " 'max_depth': [10, 20, 30, 40, 50, 60, 70, 80, 90, 100, 110, None],\n",
      " 'max_features': ['auto', 'sqrt'],\n",
      " 'min_samples_leaf': [1, 2, 4],\n",
      " 'min_samples_split': [2, 5, 10],\n",
      " 'n_estimators': [200, 400, 600, 800, 1000, 1200, 1400, 1600, 1800, 2000]}\n"
     ]
    }
   ],
   "source": [
    "from sklearn.model_selection import RandomizedSearchCV\n",
    "# Number of trees in random forest\n",
    "n_estimators = [int(x) for x in np.linspace(start = 200, stop = 2000, num = 10)]\n",
    "# Number of features to consider at every split\n",
    "max_features = ['auto', 'sqrt']\n",
    "# Maximum number of levels in tree\n",
    "max_depth = [int(x) for x in np.linspace(10, 110, num = 11)]\n",
    "max_depth.append(None)\n",
    "# Minimum number of samples required to split a node\n",
    "min_samples_split = [2, 5, 10]\n",
    "# Minimum number of samples required at each leaf node\n",
    "min_samples_leaf = [1, 2, 4]\n",
    "# Method of selecting samples for training each tree\n",
    "bootstrap = [True, False]\n",
    "# Create the random grid\n",
    "random_grid = {'n_estimators': n_estimators,\n",
    "               'max_features': max_features,\n",
    "               'max_depth': max_depth,\n",
    "               'min_samples_split': min_samples_split,\n",
    "               'min_samples_leaf': min_samples_leaf,\n",
    "               'bootstrap': bootstrap}\n",
    "pprint(random_grid)"
   ]
  },
  {
   "cell_type": "code",
   "execution_count": 94,
   "metadata": {},
   "outputs": [
    {
     "name": "stdout",
     "output_type": "stream",
     "text": [
      "Fitting 3 folds for each of 100 candidates, totalling 300 fits\n"
     ]
    },
    {
     "data": {
      "text/plain": [
       "RandomizedSearchCV(cv=3, estimator=RandomForestRegressor(), n_iter=100,\n",
       "                   n_jobs=-1,\n",
       "                   param_distributions={'bootstrap': [True, False],\n",
       "                                        'max_depth': [10, 20, 30, 40, 50, 60,\n",
       "                                                      70, 80, 90, 100, 110,\n",
       "                                                      None],\n",
       "                                        'max_features': ['auto', 'sqrt'],\n",
       "                                        'min_samples_leaf': [1, 2, 4],\n",
       "                                        'min_samples_split': [2, 5, 10],\n",
       "                                        'n_estimators': [200, 400, 600, 800,\n",
       "                                                         1000, 1200, 1400, 1600,\n",
       "                                                         1800, 2000]},\n",
       "                   random_state=42, verbose=2)"
      ]
     },
     "execution_count": 94,
     "metadata": {},
     "output_type": "execute_result"
    }
   ],
   "source": [
    "# Use the random grid to search for best hyperparameters\n",
    "# First create the base model to tune\n",
    "rf = RandomForestRegressor()\n",
    "# Random search of parameters, using 3 fold cross validation, \n",
    "# search across 100 different combinations, and use all available cores\n",
    "rf_random = RandomizedSearchCV(estimator = rf, param_distributions = random_grid, n_iter = 100, cv = 3, verbose=2, random_state=42, n_jobs = -1)\n",
    "# Fit the random search model\n",
    "rf_random.fit(X_train, y_train)"
   ]
  },
  {
   "cell_type": "code",
   "execution_count": 95,
   "metadata": {},
   "outputs": [
    {
     "data": {
      "text/plain": [
       "{'n_estimators': 200,\n",
       " 'min_samples_split': 2,\n",
       " 'min_samples_leaf': 1,\n",
       " 'max_features': 'sqrt',\n",
       " 'max_depth': 50,\n",
       " 'bootstrap': True}"
      ]
     },
     "execution_count": 95,
     "metadata": {},
     "output_type": "execute_result"
    }
   ],
   "source": [
    "rf_random.best_params_"
   ]
  },
  {
   "cell_type": "code",
   "execution_count": 96,
   "metadata": {},
   "outputs": [
    {
     "name": "stdout",
     "output_type": "stream",
     "text": [
      "Model Performance\n",
      "Average Error: 1.4159 degrees.\n",
      "Accuracy = 97.51%.\n",
      "Model Performance\n",
      "Average Error: 1.4126 degrees.\n",
      "Accuracy = 97.51%.\n",
      "Improvement of 0.01%.\n"
     ]
    }
   ],
   "source": [
    "def evaluate(model, X_test, y_test):\n",
    "    predictions = model.predict(X_test)\n",
    "    errors = abs(predictions - y_test)\n",
    "    mape = 100 * np.mean(errors / y_test)\n",
    "    accuracy = 100 - mape\n",
    "    print('Model Performance')\n",
    "    print('Average Error: {:0.4f} degrees.'.format(np.mean(errors)))\n",
    "    print('Accuracy = {:0.2f}%.'.format(accuracy))\n",
    "    return accuracy\n",
    "base_model = RandomForestRegressor(n_estimators = 10, random_state = 42)\n",
    "base_model.fit(X_train, y_train)\n",
    "base_accuracy = evaluate(base_model, X_test, y_test)\n",
    "\n",
    "best_random = rf_random.best_estimator_\n",
    "random_accuracy = evaluate(best_random, X_test, y_test)\n",
    "\n",
    "print('Improvement of {:0.2f}%.'.format( 100 * (random_accuracy - base_accuracy) / base_accuracy))"
   ]
  },
  {
   "cell_type": "code",
   "execution_count": 97,
   "metadata": {},
   "outputs": [],
   "source": [
    "# Hyperparameter tuning has not improved accuracy significantly"
   ]
  },
  {
   "cell_type": "code",
   "execution_count": 98,
   "metadata": {},
   "outputs": [
    {
     "data": {
      "text/plain": [
       "array([ 54.36741182, 101.3198119 ,  58.39737818, ...,  30.84479455,\n",
       "        77.49775958,  49.06835488])"
      ]
     },
     "execution_count": 98,
     "metadata": {},
     "output_type": "execute_result"
    }
   ],
   "source": [
    "model_rfr = RandomForestRegressor()\n",
    "model_rfr.fit(X_train, y_train)\n",
    "y_test_pred = model_rfr.predict(X_test)\n",
    "y_test_pred"
   ]
  },
  {
   "cell_type": "code",
   "execution_count": 99,
   "metadata": {},
   "outputs": [
    {
     "data": {
      "text/plain": [
       "<bound method NDFrame.tail of         0          1          2          3          4          5     \\\n",
       "0  83.293854  51.185144  75.459958  27.004758  79.634503  46.784111   \n",
       "1  85.940002  51.142906  75.610001  27.594494  75.589996  46.746727   \n",
       "2  -2.646148   0.042238  -0.150043  -0.589736   4.044507   0.037384   \n",
       "\n",
       "        6          7          8          9     ...       4281       4282  \\\n",
       "0  28.611898  44.032974  32.096132  27.325354  ...  75.459958  27.566853   \n",
       "1  28.644802  44.270145  31.927019  29.042646  ...  77.800003  27.869005   \n",
       "2  -0.032904  -0.237171   0.169113  -1.717292  ...  -2.340045  -0.302152   \n",
       "\n",
       "        4283       4284       4285       4286       4287       4288  \\\n",
       "0  79.837348  51.185144  50.262451  26.537301  63.084543  79.634503   \n",
       "1  79.040001  52.873531  50.178135  30.355534  58.990002  81.677467   \n",
       "2   0.797347  -1.688387   0.084316  -3.818233   4.094541  -2.042964   \n",
       "\n",
       "        4289       4290  \n",
       "0  29.876013  63.084543  \n",
       "1  30.972193  61.240002  \n",
       "2  -1.096180   1.844541  \n",
       "\n",
       "[3 rows x 4291 columns]>"
      ]
     },
     "execution_count": 99,
     "metadata": {},
     "output_type": "execute_result"
    }
   ],
   "source": [
    "#RandomForestRegressor Residual showing difference actual vs predicted\n",
    "residual_dtr = pd.DataFrame([model_rfr.predict(X_train),y_train,(model_rfr.predict(X_train)-y_train)])\n",
    "residual_dtr.tail"
   ]
  },
  {
   "cell_type": "code",
   "execution_count": 100,
   "metadata": {},
   "outputs": [
    {
     "data": {
      "image/png": "[encoded data removed]",
      "text/plain": [
       "<Figure size 432x288 with 1 Axes>"
      ]
     },
     "metadata": {
      "needs_background": "light"
     },
     "output_type": "display_data"
    }
   ],
   "source": [
    "# Make predictions using fitted model\n",
    "predictions1 = model_rfr.predict(X_test)\n",
    "\n",
    "# Plotted the difference between the model predicted values and actual y values, versus the model predicted values\n",
    "plt.scatter(model_rfr.predict(X_train), y_train - model_rfr.predict(X_train), c=\"blue\", label=\"Training Data\")\n",
    "plt.scatter(model_rfr.predict(X_test), y_test - model_rfr.predict(X_test), c=\"orange\", label=\"Testing Data\")\n",
    "plt.legend()\n",
    "plt.hlines(y=0, xmin=y_test.min(), xmax=y_test.max())\n",
    "plt.title(\"Residual Plot\")\n",
    "plt.show()"
   ]
  },
  {
   "cell_type": "markdown",
   "metadata": {},
   "source": [
    "# Save the Model"
   ]
  },
  {
   "cell_type": "code",
   "execution_count": 101,
   "metadata": {},
   "outputs": [],
   "source": [
    "import pickle\n",
    "filename = 'finalcba_model_rfr.sav'\n",
    "pickle.dump(model, open(filename, 'wb'))\n",
    "model_in_rfr = pickle.load(open(filename, 'rb'))"
   ]
  },
  {
   "cell_type": "code",
   "execution_count": 102,
   "metadata": {},
   "outputs": [],
   "source": [
    "# from joblib import dump,load\n",
    "# model_in_rfr = load('cba_model_rfr.sav')"
   ]
  },
  {
   "cell_type": "code",
   "execution_count": 103,
   "metadata": {},
   "outputs": [
    {
     "name": "stdout",
     "output_type": "stream",
     "text": [
      "    RBA   FED    CPI  Prediction\n",
      "0  0.85  1.75  125.0       97.08\n",
      "    RBA   FED     CPI  Prediction\n",
      "0  0.85  1.75  125.00       97.08\n",
      "1  0.86  1.76  125.01       97.10\n",
      "    RBA   FED     CPI  Prediction\n",
      "0  0.85  1.75  125.00       97.08\n",
      "1  0.86  1.76  125.01       97.10\n",
      "2  0.87  1.77  125.02       97.12\n",
      "    RBA   FED     CPI  Prediction\n",
      "0  0.85  1.75  125.00       97.08\n",
      "1  0.86  1.76  125.01       97.10\n",
      "2  0.87  1.77  125.02       97.12\n",
      "3  0.88  1.78  125.03       97.14\n",
      "    RBA   FED     CPI  Prediction\n",
      "0  0.85  1.75  125.00       97.08\n",
      "1  0.86  1.76  125.01       97.10\n",
      "2  0.87  1.77  125.02       97.12\n",
      "3  0.88  1.78  125.03       97.14\n",
      "4  0.89  1.79  125.04       97.15\n",
      "    RBA   FED     CPI  Prediction\n",
      "0  0.85  1.75  125.00       97.08\n",
      "1  0.86  1.76  125.01       97.10\n",
      "2  0.87  1.77  125.02       97.12\n",
      "3  0.88  1.78  125.03       97.14\n",
      "4  0.89  1.79  125.04       97.15\n",
      "5  0.90  1.80  125.05       97.17\n",
      "    RBA   FED     CPI  Prediction\n",
      "0  0.85  1.75  125.00       97.08\n",
      "1  0.86  1.76  125.01       97.10\n",
      "2  0.87  1.77  125.02       97.12\n",
      "3  0.88  1.78  125.03       97.14\n",
      "4  0.89  1.79  125.04       97.15\n",
      "5  0.90  1.80  125.05       97.17\n",
      "6  0.91  1.81  125.06       97.19\n",
      "    RBA   FED     CPI  Prediction\n",
      "0  0.85  1.75  125.00       97.08\n",
      "1  0.86  1.76  125.01       97.10\n",
      "2  0.87  1.77  125.02       97.12\n",
      "3  0.88  1.78  125.03       97.14\n",
      "4  0.89  1.79  125.04       97.15\n",
      "5  0.90  1.80  125.05       97.17\n",
      "6  0.91  1.81  125.06       97.19\n",
      "7  0.92  1.82  125.07       97.21\n",
      "    RBA   FED     CPI  Prediction\n",
      "0  0.85  1.75  125.00       97.08\n",
      "1  0.86  1.76  125.01       97.10\n",
      "2  0.87  1.77  125.02       97.12\n",
      "3  0.88  1.78  125.03       97.14\n",
      "4  0.89  1.79  125.04       97.15\n",
      "5  0.90  1.80  125.05       97.17\n",
      "6  0.91  1.81  125.06       97.19\n",
      "7  0.92  1.82  125.07       97.21\n",
      "8  0.93  1.83  125.08       97.23\n",
      "    RBA   FED     CPI  Prediction\n",
      "0  0.85  1.75  125.00       97.08\n",
      "1  0.86  1.76  125.01       97.10\n",
      "2  0.87  1.77  125.02       97.12\n",
      "3  0.88  1.78  125.03       97.14\n",
      "4  0.89  1.79  125.04       97.15\n",
      "5  0.90  1.80  125.05       97.17\n",
      "6  0.91  1.81  125.06       97.19\n",
      "7  0.92  1.82  125.07       97.21\n",
      "8  0.93  1.83  125.08       97.23\n",
      "9  0.94  1.84  125.09       97.25\n",
      "     RBA   FED     CPI  Prediction\n",
      "0   0.85  1.75  125.00       97.08\n",
      "1   0.86  1.76  125.01       97.10\n",
      "2   0.87  1.77  125.02       97.12\n",
      "3   0.88  1.78  125.03       97.14\n",
      "4   0.89  1.79  125.04       97.15\n",
      "5   0.90  1.80  125.05       97.17\n",
      "6   0.91  1.81  125.06       97.19\n",
      "7   0.92  1.82  125.07       97.21\n",
      "8   0.93  1.83  125.08       97.23\n",
      "9   0.94  1.84  125.09       97.25\n",
      "10  0.95  1.85  125.10       97.27\n",
      "     RBA   FED     CPI  Prediction\n",
      "0   0.85  1.75  125.00       97.08\n",
      "1   0.86  1.76  125.01       97.10\n",
      "2   0.87  1.77  125.02       97.12\n",
      "3   0.88  1.78  125.03       97.14\n",
      "4   0.89  1.79  125.04       97.15\n",
      "5   0.90  1.80  125.05       97.17\n",
      "6   0.91  1.81  125.06       97.19\n",
      "7   0.92  1.82  125.07       97.21\n",
      "8   0.93  1.83  125.08       97.23\n",
      "9   0.94  1.84  125.09       97.25\n",
      "10  0.95  1.85  125.10       97.27\n",
      "11  0.96  1.86  125.11       97.29\n",
      "     RBA   FED     CPI  Prediction\n",
      "0   0.85  1.75  125.00       97.08\n",
      "1   0.86  1.76  125.01       97.10\n",
      "2   0.87  1.77  125.02       97.12\n",
      "3   0.88  1.78  125.03       97.14\n",
      "4   0.89  1.79  125.04       97.15\n",
      "5   0.90  1.80  125.05       97.17\n",
      "6   0.91  1.81  125.06       97.19\n",
      "7   0.92  1.82  125.07       97.21\n",
      "8   0.93  1.83  125.08       97.23\n",
      "9   0.94  1.84  125.09       97.25\n",
      "10  0.95  1.85  125.10       97.27\n",
      "11  0.96  1.86  125.11       97.29\n",
      "12  0.97  1.87  125.12       97.31\n",
      "     RBA   FED     CPI  Prediction\n",
      "0   0.85  1.75  125.00       97.08\n",
      "1   0.86  1.76  125.01       97.10\n",
      "2   0.87  1.77  125.02       97.12\n",
      "3   0.88  1.78  125.03       97.14\n",
      "4   0.89  1.79  125.04       97.15\n",
      "5   0.90  1.80  125.05       97.17\n",
      "6   0.91  1.81  125.06       97.19\n",
      "7   0.92  1.82  125.07       97.21\n",
      "8   0.93  1.83  125.08       97.23\n",
      "9   0.94  1.84  125.09       97.25\n",
      "10  0.95  1.85  125.10       97.27\n",
      "11  0.96  1.86  125.11       97.29\n",
      "12  0.97  1.87  125.12       97.31\n",
      "13  0.98  1.88  125.13       97.33\n",
      "     RBA   FED     CPI  Prediction\n",
      "0   0.85  1.75  125.00       97.08\n",
      "1   0.86  1.76  125.01       97.10\n",
      "2   0.87  1.77  125.02       97.12\n",
      "3   0.88  1.78  125.03       97.14\n",
      "4   0.89  1.79  125.04       97.15\n",
      "5   0.90  1.80  125.05       97.17\n",
      "6   0.91  1.81  125.06       97.19\n",
      "7   0.92  1.82  125.07       97.21\n",
      "8   0.93  1.83  125.08       97.23\n",
      "9   0.94  1.84  125.09       97.25\n",
      "10  0.95  1.85  125.10       97.27\n",
      "11  0.96  1.86  125.11       97.29\n",
      "12  0.97  1.87  125.12       97.31\n",
      "13  0.98  1.88  125.13       97.33\n",
      "14  0.99  1.89  125.14       97.35\n",
      "     RBA   FED     CPI  Prediction\n",
      "0   0.85  1.75  125.00       97.08\n",
      "1   0.86  1.76  125.01       97.10\n",
      "2   0.87  1.77  125.02       97.12\n",
      "3   0.88  1.78  125.03       97.14\n",
      "4   0.89  1.79  125.04       97.15\n",
      "5   0.90  1.80  125.05       97.17\n",
      "6   0.91  1.81  125.06       97.19\n",
      "7   0.92  1.82  125.07       97.21\n",
      "8   0.93  1.83  125.08       97.23\n",
      "9   0.94  1.84  125.09       97.25\n",
      "10  0.95  1.85  125.10       97.27\n",
      "11  0.96  1.86  125.11       97.29\n",
      "12  0.97  1.87  125.12       97.31\n",
      "13  0.98  1.88  125.13       97.33\n",
      "14  0.99  1.89  125.14       97.35\n",
      "15  1.00  1.90  125.15       97.37\n",
      "     RBA   FED     CPI  Prediction\n",
      "0   0.85  1.75  125.00       97.08\n",
      "1   0.86  1.76  125.01       97.10\n",
      "2   0.87  1.77  125.02       97.12\n",
      "3   0.88  1.78  125.03       97.14\n",
      "4   0.89  1.79  125.04       97.15\n",
      "5   0.90  1.80  125.05       97.17\n",
      "6   0.91  1.81  125.06       97.19\n",
      "7   0.92  1.82  125.07       97.21\n",
      "8   0.93  1.83  125.08       97.23\n",
      "9   0.94  1.84  125.09       97.25\n",
      "10  0.95  1.85  125.10       97.27\n",
      "11  0.96  1.86  125.11       97.29\n",
      "12  0.97  1.87  125.12       97.31\n",
      "13  0.98  1.88  125.13       97.33\n",
      "14  0.99  1.89  125.14       97.35\n",
      "15  1.00  1.90  125.15       97.37\n",
      "16  1.01  1.91  125.16       97.39\n",
      "     RBA   FED     CPI  Prediction\n",
      "0   0.85  1.75  125.00       97.08\n",
      "1   0.86  1.76  125.01       97.10\n",
      "2   0.87  1.77  125.02       97.12\n",
      "3   0.88  1.78  125.03       97.14\n",
      "4   0.89  1.79  125.04       97.15\n",
      "5   0.90  1.80  125.05       97.17\n",
      "6   0.91  1.81  125.06       97.19\n",
      "7   0.92  1.82  125.07       97.21\n",
      "8   0.93  1.83  125.08       97.23\n",
      "9   0.94  1.84  125.09       97.25\n",
      "10  0.95  1.85  125.10       97.27\n",
      "11  0.96  1.86  125.11       97.29\n",
      "12  0.97  1.87  125.12       97.31\n",
      "13  0.98  1.88  125.13       97.33\n",
      "14  0.99  1.89  125.14       97.35\n",
      "15  1.00  1.90  125.15       97.37\n",
      "16  1.01  1.91  125.16       97.39\n",
      "17  1.02  1.92  125.17       97.41\n",
      "     RBA   FED     CPI  Prediction\n",
      "0   0.85  1.75  125.00       97.08\n",
      "1   0.86  1.76  125.01       97.10\n",
      "2   0.87  1.77  125.02       97.12\n",
      "3   0.88  1.78  125.03       97.14\n",
      "4   0.89  1.79  125.04       97.15\n",
      "5   0.90  1.80  125.05       97.17\n",
      "6   0.91  1.81  125.06       97.19\n",
      "7   0.92  1.82  125.07       97.21\n",
      "8   0.93  1.83  125.08       97.23\n",
      "9   0.94  1.84  125.09       97.25\n",
      "10  0.95  1.85  125.10       97.27\n",
      "11  0.96  1.86  125.11       97.29\n",
      "12  0.97  1.87  125.12       97.31\n",
      "13  0.98  1.88  125.13       97.33\n",
      "14  0.99  1.89  125.14       97.35\n",
      "15  1.00  1.90  125.15       97.37\n",
      "16  1.01  1.91  125.16       97.39\n",
      "17  1.02  1.92  125.17       97.41\n",
      "18  1.03  1.93  125.18       97.43\n",
      "     RBA   FED     CPI  Prediction\n",
      "0   0.85  1.75  125.00       97.08\n",
      "1   0.86  1.76  125.01       97.10\n",
      "2   0.87  1.77  125.02       97.12\n",
      "3   0.88  1.78  125.03       97.14\n",
      "4   0.89  1.79  125.04       97.15\n",
      "5   0.90  1.80  125.05       97.17\n",
      "6   0.91  1.81  125.06       97.19\n",
      "7   0.92  1.82  125.07       97.21\n",
      "8   0.93  1.83  125.08       97.23\n",
      "9   0.94  1.84  125.09       97.25\n",
      "10  0.95  1.85  125.10       97.27\n",
      "11  0.96  1.86  125.11       97.29\n",
      "12  0.97  1.87  125.12       97.31\n",
      "13  0.98  1.88  125.13       97.33\n",
      "14  0.99  1.89  125.14       97.35\n",
      "15  1.00  1.90  125.15       97.37\n",
      "16  1.01  1.91  125.16       97.39\n",
      "17  1.02  1.92  125.17       97.41\n",
      "18  1.03  1.93  125.18       97.43\n",
      "19  1.04  1.94  125.19       97.45\n",
      "     RBA   FED     CPI  Prediction\n",
      "0   0.85  1.75  125.00       97.08\n",
      "1   0.86  1.76  125.01       97.10\n",
      "2   0.87  1.77  125.02       97.12\n",
      "3   0.88  1.78  125.03       97.14\n",
      "4   0.89  1.79  125.04       97.15\n",
      "5   0.90  1.80  125.05       97.17\n",
      "6   0.91  1.81  125.06       97.19\n",
      "7   0.92  1.82  125.07       97.21\n",
      "8   0.93  1.83  125.08       97.23\n",
      "9   0.94  1.84  125.09       97.25\n",
      "10  0.95  1.85  125.10       97.27\n",
      "11  0.96  1.86  125.11       97.29\n",
      "12  0.97  1.87  125.12       97.31\n",
      "13  0.98  1.88  125.13       97.33\n",
      "14  0.99  1.89  125.14       97.35\n",
      "15  1.00  1.90  125.15       97.37\n",
      "16  1.01  1.91  125.16       97.39\n",
      "17  1.02  1.92  125.17       97.41\n",
      "18  1.03  1.93  125.18       97.43\n",
      "19  1.04  1.94  125.19       97.45\n",
      "20  1.05  1.95  125.20       97.47\n",
      "     RBA   FED     CPI  Prediction\n",
      "0   0.85  1.75  125.00       97.08\n",
      "1   0.86  1.76  125.01       97.10\n",
      "2   0.87  1.77  125.02       97.12\n",
      "3   0.88  1.78  125.03       97.14\n",
      "4   0.89  1.79  125.04       97.15\n",
      "5   0.90  1.80  125.05       97.17\n",
      "6   0.91  1.81  125.06       97.19\n",
      "7   0.92  1.82  125.07       97.21\n",
      "8   0.93  1.83  125.08       97.23\n",
      "9   0.94  1.84  125.09       97.25\n",
      "10  0.95  1.85  125.10       97.27\n",
      "11  0.96  1.86  125.11       97.29\n",
      "12  0.97  1.87  125.12       97.31\n",
      "13  0.98  1.88  125.13       97.33\n",
      "14  0.99  1.89  125.14       97.35\n",
      "15  1.00  1.90  125.15       97.37\n",
      "16  1.01  1.91  125.16       97.39\n",
      "17  1.02  1.92  125.17       97.41\n",
      "18  1.03  1.93  125.18       97.43\n",
      "19  1.04  1.94  125.19       97.45\n",
      "20  1.05  1.95  125.20       97.47\n",
      "21  1.06  1.96  125.21       97.49\n",
      "     RBA   FED     CPI  Prediction\n",
      "0   0.85  1.75  125.00       97.08\n",
      "1   0.86  1.76  125.01       97.10\n",
      "2   0.87  1.77  125.02       97.12\n",
      "3   0.88  1.78  125.03       97.14\n",
      "4   0.89  1.79  125.04       97.15\n",
      "5   0.90  1.80  125.05       97.17\n",
      "6   0.91  1.81  125.06       97.19\n",
      "7   0.92  1.82  125.07       97.21\n",
      "8   0.93  1.83  125.08       97.23\n",
      "9   0.94  1.84  125.09       97.25\n",
      "10  0.95  1.85  125.10       97.27\n",
      "11  0.96  1.86  125.11       97.29\n",
      "12  0.97  1.87  125.12       97.31\n",
      "13  0.98  1.88  125.13       97.33\n",
      "14  0.99  1.89  125.14       97.35\n",
      "15  1.00  1.90  125.15       97.37\n",
      "16  1.01  1.91  125.16       97.39\n",
      "17  1.02  1.92  125.17       97.41\n",
      "18  1.03  1.93  125.18       97.43\n",
      "19  1.04  1.94  125.19       97.45\n",
      "20  1.05  1.95  125.20       97.47\n",
      "21  1.06  1.96  125.21       97.49\n",
      "22  1.07  1.97  125.22       97.50\n",
      "     RBA   FED     CPI  Prediction\n",
      "0   0.85  1.75  125.00       97.08\n",
      "1   0.86  1.76  125.01       97.10\n",
      "2   0.87  1.77  125.02       97.12\n",
      "3   0.88  1.78  125.03       97.14\n",
      "4   0.89  1.79  125.04       97.15\n",
      "5   0.90  1.80  125.05       97.17\n",
      "6   0.91  1.81  125.06       97.19\n",
      "7   0.92  1.82  125.07       97.21\n",
      "8   0.93  1.83  125.08       97.23\n",
      "9   0.94  1.84  125.09       97.25\n",
      "10  0.95  1.85  125.10       97.27\n",
      "11  0.96  1.86  125.11       97.29\n",
      "12  0.97  1.87  125.12       97.31\n",
      "13  0.98  1.88  125.13       97.33\n",
      "14  0.99  1.89  125.14       97.35\n",
      "15  1.00  1.90  125.15       97.37\n",
      "16  1.01  1.91  125.16       97.39\n",
      "17  1.02  1.92  125.17       97.41\n",
      "18  1.03  1.93  125.18       97.43\n",
      "19  1.04  1.94  125.19       97.45\n",
      "20  1.05  1.95  125.20       97.47\n",
      "21  1.06  1.96  125.21       97.49\n",
      "22  1.07  1.97  125.22       97.50\n",
      "23  1.08  1.98  125.23       97.52\n",
      "     RBA   FED     CPI  Prediction\n",
      "0   0.85  1.75  125.00       97.08\n",
      "1   0.86  1.76  125.01       97.10\n",
      "2   0.87  1.77  125.02       97.12\n",
      "3   0.88  1.78  125.03       97.14\n",
      "4   0.89  1.79  125.04       97.15\n",
      "5   0.90  1.80  125.05       97.17\n",
      "6   0.91  1.81  125.06       97.19\n",
      "7   0.92  1.82  125.07       97.21\n",
      "8   0.93  1.83  125.08       97.23\n",
      "9   0.94  1.84  125.09       97.25\n",
      "10  0.95  1.85  125.10       97.27\n",
      "11  0.96  1.86  125.11       97.29\n",
      "12  0.97  1.87  125.12       97.31\n",
      "13  0.98  1.88  125.13       97.33\n",
      "14  0.99  1.89  125.14       97.35\n",
      "15  1.00  1.90  125.15       97.37\n",
      "16  1.01  1.91  125.16       97.39\n",
      "17  1.02  1.92  125.17       97.41\n",
      "18  1.03  1.93  125.18       97.43\n",
      "19  1.04  1.94  125.19       97.45\n",
      "20  1.05  1.95  125.20       97.47\n",
      "21  1.06  1.96  125.21       97.49\n",
      "22  1.07  1.97  125.22       97.50\n",
      "23  1.08  1.98  125.23       97.52\n",
      "24  1.09  1.99  125.24       97.54\n",
      "     RBA   FED     CPI  Prediction\n",
      "0   0.85  1.75  125.00       97.08\n",
      "1   0.86  1.76  125.01       97.10\n",
      "2   0.87  1.77  125.02       97.12\n",
      "3   0.88  1.78  125.03       97.14\n",
      "4   0.89  1.79  125.04       97.15\n",
      "5   0.90  1.80  125.05       97.17\n",
      "6   0.91  1.81  125.06       97.19\n",
      "7   0.92  1.82  125.07       97.21\n",
      "8   0.93  1.83  125.08       97.23\n",
      "9   0.94  1.84  125.09       97.25\n",
      "10  0.95  1.85  125.10       97.27\n",
      "11  0.96  1.86  125.11       97.29\n",
      "12  0.97  1.87  125.12       97.31\n",
      "13  0.98  1.88  125.13       97.33\n",
      "14  0.99  1.89  125.14       97.35\n",
      "15  1.00  1.90  125.15       97.37\n",
      "16  1.01  1.91  125.16       97.39\n",
      "17  1.02  1.92  125.17       97.41\n",
      "18  1.03  1.93  125.18       97.43\n",
      "19  1.04  1.94  125.19       97.45\n",
      "20  1.05  1.95  125.20       97.47\n",
      "21  1.06  1.96  125.21       97.49\n",
      "22  1.07  1.97  125.22       97.50\n",
      "23  1.08  1.98  125.23       97.52\n",
      "24  1.09  1.99  125.24       97.54\n",
      "25  1.10  2.00  125.25       97.56\n",
      "     RBA   FED     CPI  Prediction\n",
      "0   0.85  1.75  125.00       97.08\n",
      "1   0.86  1.76  125.01       97.10\n",
      "2   0.87  1.77  125.02       97.12\n",
      "3   0.88  1.78  125.03       97.14\n",
      "4   0.89  1.79  125.04       97.15\n",
      "5   0.90  1.80  125.05       97.17\n",
      "6   0.91  1.81  125.06       97.19\n",
      "7   0.92  1.82  125.07       97.21\n",
      "8   0.93  1.83  125.08       97.23\n",
      "9   0.94  1.84  125.09       97.25\n",
      "10  0.95  1.85  125.10       97.27\n",
      "11  0.96  1.86  125.11       97.29\n",
      "12  0.97  1.87  125.12       97.31\n",
      "13  0.98  1.88  125.13       97.33\n",
      "14  0.99  1.89  125.14       97.35\n",
      "15  1.00  1.90  125.15       97.37\n",
      "16  1.01  1.91  125.16       97.39\n",
      "17  1.02  1.92  125.17       97.41\n",
      "18  1.03  1.93  125.18       97.43\n",
      "19  1.04  1.94  125.19       97.45\n",
      "20  1.05  1.95  125.20       97.47\n",
      "21  1.06  1.96  125.21       97.49\n",
      "22  1.07  1.97  125.22       97.50\n",
      "23  1.08  1.98  125.23       97.52\n",
      "24  1.09  1.99  125.24       97.54\n",
      "25  1.10  2.00  125.25       97.56\n",
      "26  1.11  2.01  125.26       97.58\n",
      "     RBA   FED     CPI  Prediction\n",
      "0   0.85  1.75  125.00       97.08\n",
      "1   0.86  1.76  125.01       97.10\n",
      "2   0.87  1.77  125.02       97.12\n",
      "3   0.88  1.78  125.03       97.14\n",
      "4   0.89  1.79  125.04       97.15\n",
      "5   0.90  1.80  125.05       97.17\n",
      "6   0.91  1.81  125.06       97.19\n",
      "7   0.92  1.82  125.07       97.21\n",
      "8   0.93  1.83  125.08       97.23\n",
      "9   0.94  1.84  125.09       97.25\n",
      "10  0.95  1.85  125.10       97.27\n",
      "11  0.96  1.86  125.11       97.29\n",
      "12  0.97  1.87  125.12       97.31\n",
      "13  0.98  1.88  125.13       97.33\n",
      "14  0.99  1.89  125.14       97.35\n",
      "15  1.00  1.90  125.15       97.37\n",
      "16  1.01  1.91  125.16       97.39\n",
      "17  1.02  1.92  125.17       97.41\n",
      "18  1.03  1.93  125.18       97.43\n",
      "19  1.04  1.94  125.19       97.45\n",
      "20  1.05  1.95  125.20       97.47\n",
      "21  1.06  1.96  125.21       97.49\n",
      "22  1.07  1.97  125.22       97.50\n",
      "23  1.08  1.98  125.23       97.52\n",
      "24  1.09  1.99  125.24       97.54\n",
      "25  1.10  2.00  125.25       97.56\n",
      "26  1.11  2.01  125.26       97.58\n",
      "27  1.12  2.02  125.27       97.60\n",
      "     RBA   FED     CPI  Prediction\n",
      "0   0.85  1.75  125.00       97.08\n",
      "1   0.86  1.76  125.01       97.10\n",
      "2   0.87  1.77  125.02       97.12\n",
      "3   0.88  1.78  125.03       97.14\n",
      "4   0.89  1.79  125.04       97.15\n",
      "5   0.90  1.80  125.05       97.17\n",
      "6   0.91  1.81  125.06       97.19\n",
      "7   0.92  1.82  125.07       97.21\n",
      "8   0.93  1.83  125.08       97.23\n",
      "9   0.94  1.84  125.09       97.25\n",
      "10  0.95  1.85  125.10       97.27\n",
      "11  0.96  1.86  125.11       97.29\n",
      "12  0.97  1.87  125.12       97.31\n",
      "13  0.98  1.88  125.13       97.33\n",
      "14  0.99  1.89  125.14       97.35\n",
      "15  1.00  1.90  125.15       97.37\n",
      "16  1.01  1.91  125.16       97.39\n",
      "17  1.02  1.92  125.17       97.41\n",
      "18  1.03  1.93  125.18       97.43\n",
      "19  1.04  1.94  125.19       97.45\n",
      "20  1.05  1.95  125.20       97.47\n",
      "21  1.06  1.96  125.21       97.49\n",
      "22  1.07  1.97  125.22       97.50\n",
      "23  1.08  1.98  125.23       97.52\n",
      "24  1.09  1.99  125.24       97.54\n",
      "25  1.10  2.00  125.25       97.56\n",
      "26  1.11  2.01  125.26       97.58\n",
      "27  1.12  2.02  125.27       97.60\n",
      "28  1.13  2.03  125.28       97.62\n",
      "     RBA   FED     CPI  Prediction\n",
      "0   0.85  1.75  125.00       97.08\n",
      "1   0.86  1.76  125.01       97.10\n",
      "2   0.87  1.77  125.02       97.12\n",
      "3   0.88  1.78  125.03       97.14\n",
      "4   0.89  1.79  125.04       97.15\n",
      "5   0.90  1.80  125.05       97.17\n",
      "6   0.91  1.81  125.06       97.19\n",
      "7   0.92  1.82  125.07       97.21\n",
      "8   0.93  1.83  125.08       97.23\n",
      "9   0.94  1.84  125.09       97.25\n",
      "10  0.95  1.85  125.10       97.27\n",
      "11  0.96  1.86  125.11       97.29\n",
      "12  0.97  1.87  125.12       97.31\n",
      "13  0.98  1.88  125.13       97.33\n",
      "14  0.99  1.89  125.14       97.35\n",
      "15  1.00  1.90  125.15       97.37\n",
      "16  1.01  1.91  125.16       97.39\n",
      "17  1.02  1.92  125.17       97.41\n",
      "18  1.03  1.93  125.18       97.43\n",
      "19  1.04  1.94  125.19       97.45\n",
      "20  1.05  1.95  125.20       97.47\n",
      "21  1.06  1.96  125.21       97.49\n",
      "22  1.07  1.97  125.22       97.50\n",
      "23  1.08  1.98  125.23       97.52\n",
      "24  1.09  1.99  125.24       97.54\n",
      "25  1.10  2.00  125.25       97.56\n",
      "26  1.11  2.01  125.26       97.58\n",
      "27  1.12  2.02  125.27       97.60\n",
      "28  1.13  2.03  125.28       97.62\n",
      "29  1.14  2.04  125.29       97.64\n",
      "     RBA   FED     CPI  Prediction\n",
      "0   0.85  1.75  125.00       97.08\n",
      "1   0.86  1.76  125.01       97.10\n",
      "2   0.87  1.77  125.02       97.12\n",
      "3   0.88  1.78  125.03       97.14\n",
      "4   0.89  1.79  125.04       97.15\n",
      "5   0.90  1.80  125.05       97.17\n",
      "6   0.91  1.81  125.06       97.19\n",
      "7   0.92  1.82  125.07       97.21\n",
      "8   0.93  1.83  125.08       97.23\n",
      "9   0.94  1.84  125.09       97.25\n",
      "10  0.95  1.85  125.10       97.27\n",
      "11  0.96  1.86  125.11       97.29\n",
      "12  0.97  1.87  125.12       97.31\n",
      "13  0.98  1.88  125.13       97.33\n",
      "14  0.99  1.89  125.14       97.35\n",
      "15  1.00  1.90  125.15       97.37\n",
      "16  1.01  1.91  125.16       97.39\n",
      "17  1.02  1.92  125.17       97.41\n",
      "18  1.03  1.93  125.18       97.43\n",
      "19  1.04  1.94  125.19       97.45\n",
      "20  1.05  1.95  125.20       97.47\n",
      "21  1.06  1.96  125.21       97.49\n",
      "22  1.07  1.97  125.22       97.50\n",
      "23  1.08  1.98  125.23       97.52\n",
      "24  1.09  1.99  125.24       97.54\n",
      "25  1.10  2.00  125.25       97.56\n",
      "26  1.11  2.01  125.26       97.58\n",
      "27  1.12  2.02  125.27       97.60\n",
      "28  1.13  2.03  125.28       97.62\n",
      "29  1.14  2.04  125.29       97.64\n",
      "30  1.15  2.05  125.30       97.66\n",
      "     RBA   FED     CPI  Prediction\n",
      "0   0.85  1.75  125.00       97.08\n",
      "1   0.86  1.76  125.01       97.10\n",
      "2   0.87  1.77  125.02       97.12\n",
      "3   0.88  1.78  125.03       97.14\n",
      "4   0.89  1.79  125.04       97.15\n",
      "5   0.90  1.80  125.05       97.17\n",
      "6   0.91  1.81  125.06       97.19\n",
      "7   0.92  1.82  125.07       97.21\n",
      "8   0.93  1.83  125.08       97.23\n",
      "9   0.94  1.84  125.09       97.25\n",
      "10  0.95  1.85  125.10       97.27\n",
      "11  0.96  1.86  125.11       97.29\n",
      "12  0.97  1.87  125.12       97.31\n",
      "13  0.98  1.88  125.13       97.33\n",
      "14  0.99  1.89  125.14       97.35\n",
      "15  1.00  1.90  125.15       97.37\n",
      "16  1.01  1.91  125.16       97.39\n",
      "17  1.02  1.92  125.17       97.41\n",
      "18  1.03  1.93  125.18       97.43\n",
      "19  1.04  1.94  125.19       97.45\n",
      "20  1.05  1.95  125.20       97.47\n",
      "21  1.06  1.96  125.21       97.49\n",
      "22  1.07  1.97  125.22       97.50\n",
      "23  1.08  1.98  125.23       97.52\n",
      "24  1.09  1.99  125.24       97.54\n",
      "25  1.10  2.00  125.25       97.56\n",
      "26  1.11  2.01  125.26       97.58\n",
      "27  1.12  2.02  125.27       97.60\n",
      "28  1.13  2.03  125.28       97.62\n",
      "29  1.14  2.04  125.29       97.64\n",
      "30  1.15  2.05  125.30       97.66\n",
      "31  1.16  2.06  125.31       97.68\n",
      "     RBA   FED     CPI  Prediction\n",
      "0   0.85  1.75  125.00       97.08\n",
      "1   0.86  1.76  125.01       97.10\n",
      "2   0.87  1.77  125.02       97.12\n",
      "3   0.88  1.78  125.03       97.14\n",
      "4   0.89  1.79  125.04       97.15\n",
      "5   0.90  1.80  125.05       97.17\n",
      "6   0.91  1.81  125.06       97.19\n",
      "7   0.92  1.82  125.07       97.21\n",
      "8   0.93  1.83  125.08       97.23\n",
      "9   0.94  1.84  125.09       97.25\n",
      "10  0.95  1.85  125.10       97.27\n",
      "11  0.96  1.86  125.11       97.29\n",
      "12  0.97  1.87  125.12       97.31\n",
      "13  0.98  1.88  125.13       97.33\n",
      "14  0.99  1.89  125.14       97.35\n",
      "15  1.00  1.90  125.15       97.37\n",
      "16  1.01  1.91  125.16       97.39\n",
      "17  1.02  1.92  125.17       97.41\n",
      "18  1.03  1.93  125.18       97.43\n",
      "19  1.04  1.94  125.19       97.45\n",
      "20  1.05  1.95  125.20       97.47\n",
      "21  1.06  1.96  125.21       97.49\n",
      "22  1.07  1.97  125.22       97.50\n",
      "23  1.08  1.98  125.23       97.52\n",
      "24  1.09  1.99  125.24       97.54\n",
      "25  1.10  2.00  125.25       97.56\n",
      "26  1.11  2.01  125.26       97.58\n",
      "27  1.12  2.02  125.27       97.60\n",
      "28  1.13  2.03  125.28       97.62\n",
      "29  1.14  2.04  125.29       97.64\n",
      "30  1.15  2.05  125.30       97.66\n",
      "31  1.16  2.06  125.31       97.68\n",
      "32  1.17  2.07  125.32       97.70\n",
      "     RBA   FED     CPI  Prediction\n",
      "0   0.85  1.75  125.00       97.08\n",
      "1   0.86  1.76  125.01       97.10\n",
      "2   0.87  1.77  125.02       97.12\n",
      "3   0.88  1.78  125.03       97.14\n",
      "4   0.89  1.79  125.04       97.15\n",
      "5   0.90  1.80  125.05       97.17\n",
      "6   0.91  1.81  125.06       97.19\n",
      "7   0.92  1.82  125.07       97.21\n",
      "8   0.93  1.83  125.08       97.23\n",
      "9   0.94  1.84  125.09       97.25\n",
      "10  0.95  1.85  125.10       97.27\n",
      "11  0.96  1.86  125.11       97.29\n",
      "12  0.97  1.87  125.12       97.31\n",
      "13  0.98  1.88  125.13       97.33\n",
      "14  0.99  1.89  125.14       97.35\n",
      "15  1.00  1.90  125.15       97.37\n",
      "16  1.01  1.91  125.16       97.39\n",
      "17  1.02  1.92  125.17       97.41\n",
      "18  1.03  1.93  125.18       97.43\n",
      "19  1.04  1.94  125.19       97.45\n",
      "20  1.05  1.95  125.20       97.47\n",
      "21  1.06  1.96  125.21       97.49\n",
      "22  1.07  1.97  125.22       97.50\n",
      "23  1.08  1.98  125.23       97.52\n",
      "24  1.09  1.99  125.24       97.54\n",
      "25  1.10  2.00  125.25       97.56\n",
      "26  1.11  2.01  125.26       97.58\n",
      "27  1.12  2.02  125.27       97.60\n",
      "28  1.13  2.03  125.28       97.62\n",
      "29  1.14  2.04  125.29       97.64\n",
      "30  1.15  2.05  125.30       97.66\n",
      "31  1.16  2.06  125.31       97.68\n",
      "32  1.17  2.07  125.32       97.70\n",
      "33  1.18  2.08  125.33       97.72\n",
      "     RBA   FED     CPI  Prediction\n",
      "0   0.85  1.75  125.00       97.08\n",
      "1   0.86  1.76  125.01       97.10\n",
      "2   0.87  1.77  125.02       97.12\n",
      "3   0.88  1.78  125.03       97.14\n",
      "4   0.89  1.79  125.04       97.15\n",
      "5   0.90  1.80  125.05       97.17\n",
      "6   0.91  1.81  125.06       97.19\n",
      "7   0.92  1.82  125.07       97.21\n",
      "8   0.93  1.83  125.08       97.23\n",
      "9   0.94  1.84  125.09       97.25\n",
      "10  0.95  1.85  125.10       97.27\n",
      "11  0.96  1.86  125.11       97.29\n",
      "12  0.97  1.87  125.12       97.31\n",
      "13  0.98  1.88  125.13       97.33\n",
      "14  0.99  1.89  125.14       97.35\n",
      "15  1.00  1.90  125.15       97.37\n",
      "16  1.01  1.91  125.16       97.39\n",
      "17  1.02  1.92  125.17       97.41\n",
      "18  1.03  1.93  125.18       97.43\n",
      "19  1.04  1.94  125.19       97.45\n",
      "20  1.05  1.95  125.20       97.47\n",
      "21  1.06  1.96  125.21       97.49\n",
      "22  1.07  1.97  125.22       97.50\n",
      "23  1.08  1.98  125.23       97.52\n",
      "24  1.09  1.99  125.24       97.54\n",
      "25  1.10  2.00  125.25       97.56\n",
      "26  1.11  2.01  125.26       97.58\n",
      "27  1.12  2.02  125.27       97.60\n",
      "28  1.13  2.03  125.28       97.62\n",
      "29  1.14  2.04  125.29       97.64\n",
      "30  1.15  2.05  125.30       97.66\n",
      "31  1.16  2.06  125.31       97.68\n",
      "32  1.17  2.07  125.32       97.70\n",
      "33  1.18  2.08  125.33       97.72\n",
      "34  1.19  2.09  125.34       97.74\n",
      "     RBA   FED     CPI  Prediction\n",
      "0   0.85  1.75  125.00       97.08\n",
      "1   0.86  1.76  125.01       97.10\n",
      "2   0.87  1.77  125.02       97.12\n",
      "3   0.88  1.78  125.03       97.14\n",
      "4   0.89  1.79  125.04       97.15\n",
      "5   0.90  1.80  125.05       97.17\n",
      "6   0.91  1.81  125.06       97.19\n",
      "7   0.92  1.82  125.07       97.21\n",
      "8   0.93  1.83  125.08       97.23\n",
      "9   0.94  1.84  125.09       97.25\n",
      "10  0.95  1.85  125.10       97.27\n",
      "11  0.96  1.86  125.11       97.29\n",
      "12  0.97  1.87  125.12       97.31\n",
      "13  0.98  1.88  125.13       97.33\n",
      "14  0.99  1.89  125.14       97.35\n",
      "15  1.00  1.90  125.15       97.37\n",
      "16  1.01  1.91  125.16       97.39\n",
      "17  1.02  1.92  125.17       97.41\n",
      "18  1.03  1.93  125.18       97.43\n",
      "19  1.04  1.94  125.19       97.45\n",
      "20  1.05  1.95  125.20       97.47\n",
      "21  1.06  1.96  125.21       97.49\n",
      "22  1.07  1.97  125.22       97.50\n",
      "23  1.08  1.98  125.23       97.52\n",
      "24  1.09  1.99  125.24       97.54\n",
      "25  1.10  2.00  125.25       97.56\n",
      "26  1.11  2.01  125.26       97.58\n",
      "27  1.12  2.02  125.27       97.60\n",
      "28  1.13  2.03  125.28       97.62\n",
      "29  1.14  2.04  125.29       97.64\n",
      "30  1.15  2.05  125.30       97.66\n",
      "31  1.16  2.06  125.31       97.68\n",
      "32  1.17  2.07  125.32       97.70\n",
      "33  1.18  2.08  125.33       97.72\n",
      "34  1.19  2.09  125.34       97.74\n",
      "35  1.20  2.10  125.35       97.76\n",
      "     RBA   FED     CPI  Prediction\n",
      "0   0.85  1.75  125.00       97.08\n",
      "1   0.86  1.76  125.01       97.10\n",
      "2   0.87  1.77  125.02       97.12\n",
      "3   0.88  1.78  125.03       97.14\n",
      "4   0.89  1.79  125.04       97.15\n",
      "5   0.90  1.80  125.05       97.17\n",
      "6   0.91  1.81  125.06       97.19\n",
      "7   0.92  1.82  125.07       97.21\n",
      "8   0.93  1.83  125.08       97.23\n",
      "9   0.94  1.84  125.09       97.25\n",
      "10  0.95  1.85  125.10       97.27\n",
      "11  0.96  1.86  125.11       97.29\n",
      "12  0.97  1.87  125.12       97.31\n",
      "13  0.98  1.88  125.13       97.33\n",
      "14  0.99  1.89  125.14       97.35\n",
      "15  1.00  1.90  125.15       97.37\n",
      "16  1.01  1.91  125.16       97.39\n",
      "17  1.02  1.92  125.17       97.41\n",
      "18  1.03  1.93  125.18       97.43\n",
      "19  1.04  1.94  125.19       97.45\n",
      "20  1.05  1.95  125.20       97.47\n",
      "21  1.06  1.96  125.21       97.49\n",
      "22  1.07  1.97  125.22       97.50\n",
      "23  1.08  1.98  125.23       97.52\n",
      "24  1.09  1.99  125.24       97.54\n",
      "25  1.10  2.00  125.25       97.56\n",
      "26  1.11  2.01  125.26       97.58\n",
      "27  1.12  2.02  125.27       97.60\n",
      "28  1.13  2.03  125.28       97.62\n",
      "29  1.14  2.04  125.29       97.64\n",
      "30  1.15  2.05  125.30       97.66\n",
      "31  1.16  2.06  125.31       97.68\n",
      "32  1.17  2.07  125.32       97.70\n",
      "33  1.18  2.08  125.33       97.72\n",
      "34  1.19  2.09  125.34       97.74\n",
      "35  1.20  2.10  125.35       97.76\n",
      "36  1.21  2.11  125.36       97.78\n",
      "     RBA   FED     CPI  Prediction\n",
      "0   0.85  1.75  125.00       97.08\n",
      "1   0.86  1.76  125.01       97.10\n",
      "2   0.87  1.77  125.02       97.12\n",
      "3   0.88  1.78  125.03       97.14\n",
      "4   0.89  1.79  125.04       97.15\n",
      "5   0.90  1.80  125.05       97.17\n",
      "6   0.91  1.81  125.06       97.19\n",
      "7   0.92  1.82  125.07       97.21\n",
      "8   0.93  1.83  125.08       97.23\n",
      "9   0.94  1.84  125.09       97.25\n",
      "10  0.95  1.85  125.10       97.27\n",
      "11  0.96  1.86  125.11       97.29\n",
      "12  0.97  1.87  125.12       97.31\n",
      "13  0.98  1.88  125.13       97.33\n",
      "14  0.99  1.89  125.14       97.35\n",
      "15  1.00  1.90  125.15       97.37\n",
      "16  1.01  1.91  125.16       97.39\n",
      "17  1.02  1.92  125.17       97.41\n",
      "18  1.03  1.93  125.18       97.43\n",
      "19  1.04  1.94  125.19       97.45\n",
      "20  1.05  1.95  125.20       97.47\n",
      "21  1.06  1.96  125.21       97.49\n",
      "22  1.07  1.97  125.22       97.50\n",
      "23  1.08  1.98  125.23       97.52\n",
      "24  1.09  1.99  125.24       97.54\n",
      "25  1.10  2.00  125.25       97.56\n",
      "26  1.11  2.01  125.26       97.58\n",
      "27  1.12  2.02  125.27       97.60\n",
      "28  1.13  2.03  125.28       97.62\n",
      "29  1.14  2.04  125.29       97.64\n",
      "30  1.15  2.05  125.30       97.66\n",
      "31  1.16  2.06  125.31       97.68\n",
      "32  1.17  2.07  125.32       97.70\n",
      "33  1.18  2.08  125.33       97.72\n",
      "34  1.19  2.09  125.34       97.74\n",
      "35  1.20  2.10  125.35       97.76\n",
      "36  1.21  2.11  125.36       97.78\n",
      "37  1.22  2.12  125.37       97.80\n",
      "     RBA   FED     CPI  Prediction\n",
      "0   0.85  1.75  125.00       97.08\n",
      "1   0.86  1.76  125.01       97.10\n",
      "2   0.87  1.77  125.02       97.12\n",
      "3   0.88  1.78  125.03       97.14\n",
      "4   0.89  1.79  125.04       97.15\n",
      "5   0.90  1.80  125.05       97.17\n",
      "6   0.91  1.81  125.06       97.19\n",
      "7   0.92  1.82  125.07       97.21\n",
      "8   0.93  1.83  125.08       97.23\n",
      "9   0.94  1.84  125.09       97.25\n",
      "10  0.95  1.85  125.10       97.27\n",
      "11  0.96  1.86  125.11       97.29\n",
      "12  0.97  1.87  125.12       97.31\n",
      "13  0.98  1.88  125.13       97.33\n",
      "14  0.99  1.89  125.14       97.35\n",
      "15  1.00  1.90  125.15       97.37\n",
      "16  1.01  1.91  125.16       97.39\n",
      "17  1.02  1.92  125.17       97.41\n",
      "18  1.03  1.93  125.18       97.43\n",
      "19  1.04  1.94  125.19       97.45\n",
      "20  1.05  1.95  125.20       97.47\n",
      "21  1.06  1.96  125.21       97.49\n",
      "22  1.07  1.97  125.22       97.50\n",
      "23  1.08  1.98  125.23       97.52\n",
      "24  1.09  1.99  125.24       97.54\n",
      "25  1.10  2.00  125.25       97.56\n",
      "26  1.11  2.01  125.26       97.58\n",
      "27  1.12  2.02  125.27       97.60\n",
      "28  1.13  2.03  125.28       97.62\n",
      "29  1.14  2.04  125.29       97.64\n",
      "30  1.15  2.05  125.30       97.66\n",
      "31  1.16  2.06  125.31       97.68\n",
      "32  1.17  2.07  125.32       97.70\n",
      "33  1.18  2.08  125.33       97.72\n",
      "34  1.19  2.09  125.34       97.74\n",
      "35  1.20  2.10  125.35       97.76\n",
      "36  1.21  2.11  125.36       97.78\n",
      "37  1.22  2.12  125.37       97.80\n",
      "38  1.23  2.13  125.38       97.82\n",
      "     RBA   FED     CPI  Prediction\n",
      "0   0.85  1.75  125.00       97.08\n",
      "1   0.86  1.76  125.01       97.10\n",
      "2   0.87  1.77  125.02       97.12\n",
      "3   0.88  1.78  125.03       97.14\n",
      "4   0.89  1.79  125.04       97.15\n",
      "5   0.90  1.80  125.05       97.17\n",
      "6   0.91  1.81  125.06       97.19\n",
      "7   0.92  1.82  125.07       97.21\n",
      "8   0.93  1.83  125.08       97.23\n",
      "9   0.94  1.84  125.09       97.25\n",
      "10  0.95  1.85  125.10       97.27\n",
      "11  0.96  1.86  125.11       97.29\n",
      "12  0.97  1.87  125.12       97.31\n",
      "13  0.98  1.88  125.13       97.33\n",
      "14  0.99  1.89  125.14       97.35\n",
      "15  1.00  1.90  125.15       97.37\n",
      "16  1.01  1.91  125.16       97.39\n",
      "17  1.02  1.92  125.17       97.41\n",
      "18  1.03  1.93  125.18       97.43\n",
      "19  1.04  1.94  125.19       97.45\n",
      "20  1.05  1.95  125.20       97.47\n",
      "21  1.06  1.96  125.21       97.49\n",
      "22  1.07  1.97  125.22       97.50\n",
      "23  1.08  1.98  125.23       97.52\n",
      "24  1.09  1.99  125.24       97.54\n",
      "25  1.10  2.00  125.25       97.56\n",
      "26  1.11  2.01  125.26       97.58\n",
      "27  1.12  2.02  125.27       97.60\n",
      "28  1.13  2.03  125.28       97.62\n",
      "29  1.14  2.04  125.29       97.64\n",
      "30  1.15  2.05  125.30       97.66\n",
      "31  1.16  2.06  125.31       97.68\n",
      "32  1.17  2.07  125.32       97.70\n",
      "33  1.18  2.08  125.33       97.72\n",
      "34  1.19  2.09  125.34       97.74\n",
      "35  1.20  2.10  125.35       97.76\n",
      "36  1.21  2.11  125.36       97.78\n",
      "37  1.22  2.12  125.37       97.80\n",
      "38  1.23  2.13  125.38       97.82\n",
      "39  1.24  2.14  125.39       97.84\n",
      "[{'RBA': 0.85, 'FED': 1.75, 'CPI': 125.0, 'Prediction': 97.08}, {'RBA': 0.86, 'FED': 1.76, 'CPI': 125.01, 'Prediction': 97.1}, {'RBA': 0.87, 'FED': 1.77, 'CPI': 125.02, 'Prediction': 97.12}, {'RBA': 0.88, 'FED': 1.78, 'CPI': 125.03, 'Prediction': 97.14}, {'RBA': 0.89, 'FED': 1.79, 'CPI': 125.04, 'Prediction': 97.15}, {'RBA': 0.9, 'FED': 1.8, 'CPI': 125.05, 'Prediction': 97.17}, {'RBA': 0.91, 'FED': 1.81, 'CPI': 125.06, 'Prediction': 97.19}, {'RBA': 0.92, 'FED': 1.82, 'CPI': 125.07, 'Prediction': 97.21}, {'RBA': 0.93, 'FED': 1.83, 'CPI': 125.08, 'Prediction': 97.23}, {'RBA': 0.94, 'FED': 1.84, 'CPI': 125.09, 'Prediction': 97.25}, {'RBA': 0.95, 'FED': 1.85, 'CPI': 125.1, 'Prediction': 97.27}, {'RBA': 0.96, 'FED': 1.86, 'CPI': 125.11, 'Prediction': 97.29}, {'RBA': 0.97, 'FED': 1.87, 'CPI': 125.12, 'Prediction': 97.31}, {'RBA': 0.98, 'FED': 1.88, 'CPI': 125.13, 'Prediction': 97.33}, {'RBA': 0.99, 'FED': 1.89, 'CPI': 125.14, 'Prediction': 97.35}, {'RBA': 1.0, 'FED': 1.9, 'CPI': 125.15, 'Prediction': 97.37}, {'RBA': 1.01, 'FED': 1.91, 'CPI': 125.16, 'Prediction': 97.39}, {'RBA': 1.02, 'FED': 1.92, 'CPI': 125.17, 'Prediction': 97.41}, {'RBA': 1.03, 'FED': 1.93, 'CPI': 125.18, 'Prediction': 97.43}, {'RBA': 1.04, 'FED': 1.94, 'CPI': 125.19, 'Prediction': 97.45}, {'RBA': 1.05, 'FED': 1.95, 'CPI': 125.2, 'Prediction': 97.47}, {'RBA': 1.06, 'FED': 1.96, 'CPI': 125.21, 'Prediction': 97.49}, {'RBA': 1.07, 'FED': 1.97, 'CPI': 125.22, 'Prediction': 97.5}, {'RBA': 1.08, 'FED': 1.98, 'CPI': 125.23, 'Prediction': 97.52}, {'RBA': 1.09, 'FED': 1.99, 'CPI': 125.24, 'Prediction': 97.54}, {'RBA': 1.1, 'FED': 2.0, 'CPI': 125.25, 'Prediction': 97.56}, {'RBA': 1.11, 'FED': 2.01, 'CPI': 125.26, 'Prediction': 97.58}, {'RBA': 1.12, 'FED': 2.02, 'CPI': 125.27, 'Prediction': 97.6}, {'RBA': 1.13, 'FED': 2.03, 'CPI': 125.28, 'Prediction': 97.62}, {'RBA': 1.14, 'FED': 2.04, 'CPI': 125.29, 'Prediction': 97.64}, {'RBA': 1.15, 'FED': 2.05, 'CPI': 125.3, 'Prediction': 97.66}, {'RBA': 1.16, 'FED': 2.06, 'CPI': 125.31, 'Prediction': 97.68}, {'RBA': 1.17, 'FED': 2.07, 'CPI': 125.32, 'Prediction': 97.7}, {'RBA': 1.18, 'FED': 2.08, 'CPI': 125.33, 'Prediction': 97.72}, {'RBA': 1.19, 'FED': 2.09, 'CPI': 125.34, 'Prediction': 97.74}, {'RBA': 1.2, 'FED': 2.1, 'CPI': 125.35, 'Prediction': 97.76}, {'RBA': 1.21, 'FED': 2.11, 'CPI': 125.36, 'Prediction': 97.78}, {'RBA': 1.22, 'FED': 2.12, 'CPI': 125.37, 'Prediction': 97.8}, {'RBA': 1.23, 'FED': 2.13, 'CPI': 125.38, 'Prediction': 97.82}, {'RBA': 1.24, 'FED': 2.14, 'CPI': 125.39, 'Prediction': 97.84}]\n"
     ]
    }
   ],
   "source": [
    "rba = float(0.85)\n",
    "fed = float(1.75)\n",
    "cpi = float(125.00)\n",
    "input =40\n",
    "rfr=[]\n",
    "\n",
    "def randomforest(rba,fed,cpi):\n",
    "    for i in range(0,input):\n",
    "      rfr.append([rba,fed,cpi])\n",
    "      np.round_(rfr,2,out = None) \n",
    "      df = pd.DataFrame(rfr, columns = ['RBA','FED',\"CPI\"])\n",
    "      df.round(2)\n",
    "      pred_rf=model_in_rfr.predict(df)\n",
    "      df['Prediction'] = pred_rf\n",
    "      df['Prediction'] = df['Prediction'].astype(float).round(2)\n",
    "      rba+=0.01\n",
    "      fed+=0.01\n",
    "      cpi+=0.01\n",
    "      print(df)\n",
    "    my_rforest = df.to_dict(orient='records')\n",
    "    for dict_value in my_rforest:\n",
    "      for k, v in dict_value.items():\n",
    "        dict_value[k] = round(v, 2)\n",
    "    return my_rforest\n",
    "# print(my_rforest)\n",
    "my_rf = randomforest(rba,fed,cpi)\n",
    "print(my_rf)\n"
   ]
  },
  {
   "cell_type": "code",
   "execution_count": 104,
   "metadata": {},
   "outputs": [
    {
     "name": "stdout",
     "output_type": "stream",
     "text": [
      "    RBA   FED    CPI  Prediction\n",
      "0  0.85  1.75  125.0   97.076865\n",
      "[97.07686528]\n"
     ]
    }
   ],
   "source": [
    "rba = float(0.85)\n",
    "fed = float(1.75)\n",
    "cpi = float(125.00)\n",
    "def rforest(rba,fed,cpi):\n",
    "    dtr =[[rba,fed,cpi]]\n",
    "    df = pd.DataFrame (dtr, columns = ['RBA','FED',\"CPI\"])\n",
    "    pred_dtr=model_in_rfr.predict(df)\n",
    "    df['Prediction'] = pred_dtr\n",
    "    print(df)\n",
    "    df_dict = df.to_dict(orient='records')\n",
    "    return pred_dtr\n",
    "Pred_rf = rforest(rba,fed,cpi)\n",
    "print(Pred_rf)"
   ]
  },
  {
   "cell_type": "code",
   "execution_count": 105,
   "metadata": {},
   "outputs": [
    {
     "data": {
      "image/png": "[encoded data removed]",
      "text/plain": [
       "<Figure size 864x360 with 2 Axes>"
      ]
     },
     "metadata": {
      "needs_background": "light"
     },
     "output_type": "display_data"
    }
   ],
   "source": [
    "x = np.arange(2000,2024,4)\n",
    "ax = df_stock_less1.plot(y=[\"CPI\",\"Close\"], figsize=(12, 5),color=['grey','green'],linewidth=2)\n",
    "df_stock_less1.plot(y=[\"RBA\",\"FED\"],secondary_y=True, ax=ax,color=['pink','steelblue'],linestyle='dashed')\n",
    "plt.legend(bbox_to_anchor=(1.03, 1), loc='upper left', borderaxespad=-4, title=\"Interest rates\")\n",
    "ax.legend(loc='upper left')\n",
    "ax.set_xticks([0,1000,2000,3000,4000,5000])\n",
    "ax.set_xticklabels(x, rotation=0)\n",
    "ax.set_title('CBA Random Forest Regression Model')\n",
    "ax.set_xlabel('Trading Date', fontsize=18)\n",
    "ax.set_ylabel('Close Price AUD ($) or CPI', fontsize=18)\n",
    "plt.savefig('../../static/data/images/cba_tree.png')"
   ]
  },
  {
   "cell_type": "markdown",
   "metadata": {},
   "source": [
    "#Save predicted error to MongoDB"
   ]
  },
  {
   "cell_type": "code",
   "execution_count": 106,
   "metadata": {},
   "outputs": [],
   "source": [
    "# Module used to connect Python with MongoDb\n",
    "import pymongo"
   ]
  },
  {
   "cell_type": "code",
   "execution_count": 107,
   "metadata": {},
   "outputs": [],
   "source": [
    "# The default port used by MongoDB is 27017\n",
    "# https://docs.mongodb.com/manual/reference/default-mongodb-port/\n",
    "conn = 'mongodb://localhost:27017'\n",
    "client = pymongo.MongoClient(conn)\n",
    "\n",
    "# Define the 'sharesDB' database in Mongo\n",
    "db = client.sharesDB.companys"
   ]
  },
  {
   "cell_type": "code",
   "execution_count": 109,
   "metadata": {},
   "outputs": [
    {
     "name": "stdout",
     "output_type": "stream",
     "text": [
      "{'_id': ObjectId('62bbaebc940901ee4c7522f2'), 'model': 'LSTM', 'name': 'BHP', 'date': '28/06/2022', 'predicted': 41, 'actual': 42, 'differece': -1, 'rmse': 0.53768}\n",
      "{'_id': ObjectId('62bbb5d8d8978fe40ad3d64c'), 'model': 'LSTM', 'name': 'CBA', 'date': '28/06/2022', 'predicted': 91, 'actual': 93, 'differece': -2, 'rmse': 0.33103}\n",
      "{'_id': ObjectId('62bbc7cb193d5e9ca1048e2b'), 'model': 'LSTM', 'name': 'NAB', 'date': '28/06/2022', 'predicted': 27, 'actual': 27, 'differece': 0, 'rmse': 0.32984}\n",
      "{'_id': ObjectId('62bbca7acc73d07c34c73fbb'), 'model': 'LSTM', 'name': 'WBC', 'date': '28/06/2022', 'predicted': 19, 'actual': 19, 'differece': 0, 'rmse': 0.15231}\n",
      "{'_id': ObjectId('62bbcb598f600c8c92330dad'), 'model': 'LSTM', 'name': 'CSL', 'date': '28/06/2022', 'predicted': 259, 'actual': 274, 'differece': -15, 'rmse': 6.26059}\n"
     ]
    }
   ],
   "source": [
    "# query the companys collection\n",
    "companys = db.find()\n",
    "# see change in the collection\n",
    "for company in companys:\n",
    "    print(company)"
   ]
  },
  {
   "cell_type": "code",
   "execution_count": 118,
   "metadata": {},
   "outputs": [
    {
     "ename": "WriteError",
     "evalue": "BSON field 'collation.name' is an unknown field., full error: {'index': 0, 'code': 40415, 'errmsg': \"BSON field 'collation.name' is an unknown field.\"}",
     "output_type": "error",
     "traceback": [
      "\u001b[1;31m---------------------------------------------------------------------------\u001b[0m",
      "\u001b[1;31mWriteError\u001b[0m                                Traceback (most recent call last)",
      "\u001b[1;32m~\\AppData\\Local\\Temp/ipykernel_19596/913403102.py\u001b[0m in \u001b[0;36m<module>\u001b[1;34m\u001b[0m\n\u001b[0;32m      1\u001b[0m \u001b[1;31m# Delete a document from a collection\u001b[0m\u001b[1;33m\u001b[0m\u001b[1;33m\u001b[0m\u001b[0m\n\u001b[1;32m----> 2\u001b[1;33m db.delete_one(\n\u001b[0m\u001b[0;32m      3\u001b[0m     \u001b[1;33m{\u001b[0m\u001b[1;34m'model'\u001b[0m\u001b[1;33m:\u001b[0m \u001b[1;34m'RFR'\u001b[0m\u001b[1;33m}\u001b[0m\u001b[1;33m,\u001b[0m\u001b[1;33m\u001b[0m\u001b[1;33m\u001b[0m\u001b[0m\n\u001b[0;32m      4\u001b[0m     \u001b[1;33m{\u001b[0m\u001b[1;34m'name'\u001b[0m\u001b[1;33m:\u001b[0m \u001b[1;34m'CBA'\u001b[0m\u001b[1;33m}\u001b[0m\u001b[1;33m\u001b[0m\u001b[1;33m\u001b[0m\u001b[0m\n\u001b[0;32m      5\u001b[0m )\n",
      "\u001b[1;32mc:\\Users\\antoi\\anaconda3\\lib\\site-packages\\pymongo\\collection.py\u001b[0m in \u001b[0;36mdelete_one\u001b[1;34m(self, filter, collation, hint, session)\u001b[0m\n\u001b[0;32m   1032\u001b[0m         \u001b[0mwrite_concern\u001b[0m \u001b[1;33m=\u001b[0m \u001b[0mself\u001b[0m\u001b[1;33m.\u001b[0m\u001b[0m_write_concern_for\u001b[0m\u001b[1;33m(\u001b[0m\u001b[0msession\u001b[0m\u001b[1;33m)\u001b[0m\u001b[1;33m\u001b[0m\u001b[1;33m\u001b[0m\u001b[0m\n\u001b[0;32m   1033\u001b[0m         return DeleteResult(\n\u001b[1;32m-> 1034\u001b[1;33m             self._delete_retryable(\n\u001b[0m\u001b[0;32m   1035\u001b[0m                 \u001b[0mfilter\u001b[0m\u001b[1;33m,\u001b[0m \u001b[1;32mFalse\u001b[0m\u001b[1;33m,\u001b[0m\u001b[1;33m\u001b[0m\u001b[1;33m\u001b[0m\u001b[0m\n\u001b[0;32m   1036\u001b[0m                 \u001b[0mwrite_concern\u001b[0m\u001b[1;33m=\u001b[0m\u001b[0mwrite_concern\u001b[0m\u001b[1;33m,\u001b[0m\u001b[1;33m\u001b[0m\u001b[1;33m\u001b[0m\u001b[0m\n",
      "\u001b[1;32mc:\\Users\\antoi\\anaconda3\\lib\\site-packages\\pymongo\\collection.py\u001b[0m in \u001b[0;36m_delete_retryable\u001b[1;34m(self, criteria, multi, write_concern, op_id, ordered, collation, hint, session)\u001b[0m\n\u001b[0;32m    990\u001b[0m                 retryable_write=retryable_write)\n\u001b[0;32m    991\u001b[0m \u001b[1;33m\u001b[0m\u001b[0m\n\u001b[1;32m--> 992\u001b[1;33m         return self.__database.client._retryable_write(\n\u001b[0m\u001b[0;32m    993\u001b[0m             \u001b[1;33m(\u001b[0m\u001b[0mwrite_concern\u001b[0m \u001b[1;32mor\u001b[0m \u001b[0mself\u001b[0m\u001b[1;33m.\u001b[0m\u001b[0mwrite_concern\u001b[0m\u001b[1;33m)\u001b[0m\u001b[1;33m.\u001b[0m\u001b[0macknowledged\u001b[0m \u001b[1;32mand\u001b[0m \u001b[1;32mnot\u001b[0m \u001b[0mmulti\u001b[0m\u001b[1;33m,\u001b[0m\u001b[1;33m\u001b[0m\u001b[1;33m\u001b[0m\u001b[0m\n\u001b[0;32m    994\u001b[0m             _delete, session)\n",
      "\u001b[1;32mc:\\Users\\antoi\\anaconda3\\lib\\site-packages\\pymongo\\mongo_client.py\u001b[0m in \u001b[0;36m_retryable_write\u001b[1;34m(self, retryable, func, session)\u001b[0m\n\u001b[0;32m   1338\u001b[0m         \u001b[1;34m\"\"\"Internal retryable write helper.\"\"\"\u001b[0m\u001b[1;33m\u001b[0m\u001b[1;33m\u001b[0m\u001b[0m\n\u001b[0;32m   1339\u001b[0m         \u001b[1;32mwith\u001b[0m \u001b[0mself\u001b[0m\u001b[1;33m.\u001b[0m\u001b[0m_tmp_session\u001b[0m\u001b[1;33m(\u001b[0m\u001b[0msession\u001b[0m\u001b[1;33m)\u001b[0m \u001b[1;32mas\u001b[0m \u001b[0ms\u001b[0m\u001b[1;33m:\u001b[0m\u001b[1;33m\u001b[0m\u001b[1;33m\u001b[0m\u001b[0m\n\u001b[1;32m-> 1340\u001b[1;33m             \u001b[1;32mreturn\u001b[0m \u001b[0mself\u001b[0m\u001b[1;33m.\u001b[0m\u001b[0m_retry_with_session\u001b[0m\u001b[1;33m(\u001b[0m\u001b[0mretryable\u001b[0m\u001b[1;33m,\u001b[0m \u001b[0mfunc\u001b[0m\u001b[1;33m,\u001b[0m \u001b[0ms\u001b[0m\u001b[1;33m,\u001b[0m \u001b[1;32mNone\u001b[0m\u001b[1;33m)\u001b[0m\u001b[1;33m\u001b[0m\u001b[1;33m\u001b[0m\u001b[0m\n\u001b[0m\u001b[0;32m   1341\u001b[0m \u001b[1;33m\u001b[0m\u001b[0m\n\u001b[0;32m   1342\u001b[0m     \u001b[1;32mdef\u001b[0m \u001b[0m__eq__\u001b[0m\u001b[1;33m(\u001b[0m\u001b[0mself\u001b[0m\u001b[1;33m,\u001b[0m \u001b[0mother\u001b[0m\u001b[1;33m)\u001b[0m\u001b[1;33m:\u001b[0m\u001b[1;33m\u001b[0m\u001b[1;33m\u001b[0m\u001b[0m\n",
      "\u001b[1;32mc:\\Users\\antoi\\anaconda3\\lib\\site-packages\\pymongo\\mongo_client.py\u001b[0m in \u001b[0;36m_retry_with_session\u001b[1;34m(self, retryable, func, session, bulk)\u001b[0m\n\u001b[0;32m   1227\u001b[0m         retryable = (retryable and self.options.retry_writes\n\u001b[0;32m   1228\u001b[0m                      and session and not session.in_transaction)\n\u001b[1;32m-> 1229\u001b[1;33m         \u001b[1;32mreturn\u001b[0m \u001b[0mself\u001b[0m\u001b[1;33m.\u001b[0m\u001b[0m_retry_internal\u001b[0m\u001b[1;33m(\u001b[0m\u001b[0mretryable\u001b[0m\u001b[1;33m,\u001b[0m \u001b[0mfunc\u001b[0m\u001b[1;33m,\u001b[0m \u001b[0msession\u001b[0m\u001b[1;33m,\u001b[0m \u001b[0mbulk\u001b[0m\u001b[1;33m)\u001b[0m\u001b[1;33m\u001b[0m\u001b[1;33m\u001b[0m\u001b[0m\n\u001b[0m\u001b[0;32m   1230\u001b[0m \u001b[1;33m\u001b[0m\u001b[0m\n\u001b[0;32m   1231\u001b[0m     \u001b[1;32mdef\u001b[0m \u001b[0m_retry_internal\u001b[0m\u001b[1;33m(\u001b[0m\u001b[0mself\u001b[0m\u001b[1;33m,\u001b[0m \u001b[0mretryable\u001b[0m\u001b[1;33m,\u001b[0m \u001b[0mfunc\u001b[0m\u001b[1;33m,\u001b[0m \u001b[0msession\u001b[0m\u001b[1;33m,\u001b[0m \u001b[0mbulk\u001b[0m\u001b[1;33m)\u001b[0m\u001b[1;33m:\u001b[0m\u001b[1;33m\u001b[0m\u001b[1;33m\u001b[0m\u001b[0m\n",
      "\u001b[1;32mc:\\Users\\antoi\\anaconda3\\lib\\site-packages\\pymongo\\mongo_client.py\u001b[0m in \u001b[0;36m_retry_internal\u001b[1;34m(self, retryable, func, session, bulk)\u001b[0m\n\u001b[0;32m   1259\u001b[0m                             \u001b[1;32mraise\u001b[0m \u001b[0mlast_error\u001b[0m\u001b[1;33m\u001b[0m\u001b[1;33m\u001b[0m\u001b[0m\n\u001b[0;32m   1260\u001b[0m                         \u001b[0mretryable\u001b[0m \u001b[1;33m=\u001b[0m \u001b[1;32mFalse\u001b[0m\u001b[1;33m\u001b[0m\u001b[1;33m\u001b[0m\u001b[0m\n\u001b[1;32m-> 1261\u001b[1;33m                     \u001b[1;32mreturn\u001b[0m \u001b[0mfunc\u001b[0m\u001b[1;33m(\u001b[0m\u001b[0msession\u001b[0m\u001b[1;33m,\u001b[0m \u001b[0msock_info\u001b[0m\u001b[1;33m,\u001b[0m \u001b[0mretryable\u001b[0m\u001b[1;33m)\u001b[0m\u001b[1;33m\u001b[0m\u001b[1;33m\u001b[0m\u001b[0m\n\u001b[0m\u001b[0;32m   1262\u001b[0m             \u001b[1;32mexcept\u001b[0m \u001b[0mServerSelectionTimeoutError\u001b[0m\u001b[1;33m:\u001b[0m\u001b[1;33m\u001b[0m\u001b[1;33m\u001b[0m\u001b[0m\n\u001b[0;32m   1263\u001b[0m                 \u001b[1;32mif\u001b[0m \u001b[0mis_retrying\u001b[0m\u001b[1;33m(\u001b[0m\u001b[1;33m)\u001b[0m\u001b[1;33m:\u001b[0m\u001b[1;33m\u001b[0m\u001b[1;33m\u001b[0m\u001b[0m\n",
      "\u001b[1;32mc:\\Users\\antoi\\anaconda3\\lib\\site-packages\\pymongo\\collection.py\u001b[0m in \u001b[0;36m_delete\u001b[1;34m(session, sock_info, retryable_write)\u001b[0m\n\u001b[0;32m    984\u001b[0m         \u001b[1;34m\"\"\"Internal delete helper.\"\"\"\u001b[0m\u001b[1;33m\u001b[0m\u001b[1;33m\u001b[0m\u001b[0m\n\u001b[0;32m    985\u001b[0m         \u001b[1;32mdef\u001b[0m \u001b[0m_delete\u001b[0m\u001b[1;33m(\u001b[0m\u001b[0msession\u001b[0m\u001b[1;33m,\u001b[0m \u001b[0msock_info\u001b[0m\u001b[1;33m,\u001b[0m \u001b[0mretryable_write\u001b[0m\u001b[1;33m)\u001b[0m\u001b[1;33m:\u001b[0m\u001b[1;33m\u001b[0m\u001b[1;33m\u001b[0m\u001b[0m\n\u001b[1;32m--> 986\u001b[1;33m             return self._delete(\n\u001b[0m\u001b[0;32m    987\u001b[0m                 \u001b[0msock_info\u001b[0m\u001b[1;33m,\u001b[0m \u001b[0mcriteria\u001b[0m\u001b[1;33m,\u001b[0m \u001b[0mmulti\u001b[0m\u001b[1;33m,\u001b[0m\u001b[1;33m\u001b[0m\u001b[1;33m\u001b[0m\u001b[0m\n\u001b[0;32m    988\u001b[0m                 \u001b[0mwrite_concern\u001b[0m\u001b[1;33m=\u001b[0m\u001b[0mwrite_concern\u001b[0m\u001b[1;33m,\u001b[0m \u001b[0mop_id\u001b[0m\u001b[1;33m=\u001b[0m\u001b[0mop_id\u001b[0m\u001b[1;33m,\u001b[0m \u001b[0mordered\u001b[0m\u001b[1;33m=\u001b[0m\u001b[0mordered\u001b[0m\u001b[1;33m,\u001b[0m\u001b[1;33m\u001b[0m\u001b[1;33m\u001b[0m\u001b[0m\n",
      "\u001b[1;32mc:\\Users\\antoi\\anaconda3\\lib\\site-packages\\pymongo\\collection.py\u001b[0m in \u001b[0;36m_delete\u001b[1;34m(self, sock_info, criteria, multi, write_concern, op_id, ordered, collation, hint, session, retryable_write)\u001b[0m\n\u001b[0;32m    975\u001b[0m             \u001b[0mclient\u001b[0m\u001b[1;33m=\u001b[0m\u001b[0mself\u001b[0m\u001b[1;33m.\u001b[0m\u001b[0m__database\u001b[0m\u001b[1;33m.\u001b[0m\u001b[0mclient\u001b[0m\u001b[1;33m,\u001b[0m\u001b[1;33m\u001b[0m\u001b[1;33m\u001b[0m\u001b[0m\n\u001b[0;32m    976\u001b[0m             retryable_write=retryable_write)\n\u001b[1;32m--> 977\u001b[1;33m         \u001b[0m_check_write_command_response\u001b[0m\u001b[1;33m(\u001b[0m\u001b[0mresult\u001b[0m\u001b[1;33m)\u001b[0m\u001b[1;33m\u001b[0m\u001b[1;33m\u001b[0m\u001b[0m\n\u001b[0m\u001b[0;32m    978\u001b[0m         \u001b[1;32mreturn\u001b[0m \u001b[0mresult\u001b[0m\u001b[1;33m\u001b[0m\u001b[1;33m\u001b[0m\u001b[0m\n\u001b[0;32m    979\u001b[0m \u001b[1;33m\u001b[0m\u001b[0m\n",
      "\u001b[1;32mc:\\Users\\antoi\\anaconda3\\lib\\site-packages\\pymongo\\helpers.py\u001b[0m in \u001b[0;36m_check_write_command_response\u001b[1;34m(result)\u001b[0m\n\u001b[0;32m    207\u001b[0m     \u001b[0mwrite_errors\u001b[0m \u001b[1;33m=\u001b[0m \u001b[0mresult\u001b[0m\u001b[1;33m.\u001b[0m\u001b[0mget\u001b[0m\u001b[1;33m(\u001b[0m\u001b[1;34m\"writeErrors\"\u001b[0m\u001b[1;33m)\u001b[0m\u001b[1;33m\u001b[0m\u001b[1;33m\u001b[0m\u001b[0m\n\u001b[0;32m    208\u001b[0m     \u001b[1;32mif\u001b[0m \u001b[0mwrite_errors\u001b[0m\u001b[1;33m:\u001b[0m\u001b[1;33m\u001b[0m\u001b[1;33m\u001b[0m\u001b[0m\n\u001b[1;32m--> 209\u001b[1;33m         \u001b[0m_raise_last_write_error\u001b[0m\u001b[1;33m(\u001b[0m\u001b[0mwrite_errors\u001b[0m\u001b[1;33m)\u001b[0m\u001b[1;33m\u001b[0m\u001b[1;33m\u001b[0m\u001b[0m\n\u001b[0m\u001b[0;32m    210\u001b[0m \u001b[1;33m\u001b[0m\u001b[0m\n\u001b[0;32m    211\u001b[0m     \u001b[0mwce\u001b[0m \u001b[1;33m=\u001b[0m \u001b[0m_get_wce_doc\u001b[0m\u001b[1;33m(\u001b[0m\u001b[0mresult\u001b[0m\u001b[1;33m)\u001b[0m\u001b[1;33m\u001b[0m\u001b[1;33m\u001b[0m\u001b[0m\n",
      "\u001b[1;32mc:\\Users\\antoi\\anaconda3\\lib\\site-packages\\pymongo\\helpers.py\u001b[0m in \u001b[0;36m_raise_last_write_error\u001b[1;34m(write_errors)\u001b[0m\n\u001b[0;32m    177\u001b[0m     \u001b[1;32mif\u001b[0m \u001b[0merror\u001b[0m\u001b[1;33m.\u001b[0m\u001b[0mget\u001b[0m\u001b[1;33m(\u001b[0m\u001b[1;34m\"code\"\u001b[0m\u001b[1;33m)\u001b[0m \u001b[1;33m==\u001b[0m \u001b[1;36m11000\u001b[0m\u001b[1;33m:\u001b[0m\u001b[1;33m\u001b[0m\u001b[1;33m\u001b[0m\u001b[0m\n\u001b[0;32m    178\u001b[0m         \u001b[1;32mraise\u001b[0m \u001b[0mDuplicateKeyError\u001b[0m\u001b[1;33m(\u001b[0m\u001b[0merror\u001b[0m\u001b[1;33m.\u001b[0m\u001b[0mget\u001b[0m\u001b[1;33m(\u001b[0m\u001b[1;34m\"errmsg\"\u001b[0m\u001b[1;33m)\u001b[0m\u001b[1;33m,\u001b[0m \u001b[1;36m11000\u001b[0m\u001b[1;33m,\u001b[0m \u001b[0merror\u001b[0m\u001b[1;33m)\u001b[0m\u001b[1;33m\u001b[0m\u001b[1;33m\u001b[0m\u001b[0m\n\u001b[1;32m--> 179\u001b[1;33m     \u001b[1;32mraise\u001b[0m \u001b[0mWriteError\u001b[0m\u001b[1;33m(\u001b[0m\u001b[0merror\u001b[0m\u001b[1;33m.\u001b[0m\u001b[0mget\u001b[0m\u001b[1;33m(\u001b[0m\u001b[1;34m\"errmsg\"\u001b[0m\u001b[1;33m)\u001b[0m\u001b[1;33m,\u001b[0m \u001b[0merror\u001b[0m\u001b[1;33m.\u001b[0m\u001b[0mget\u001b[0m\u001b[1;33m(\u001b[0m\u001b[1;34m\"code\"\u001b[0m\u001b[1;33m)\u001b[0m\u001b[1;33m,\u001b[0m \u001b[0merror\u001b[0m\u001b[1;33m)\u001b[0m\u001b[1;33m\u001b[0m\u001b[1;33m\u001b[0m\u001b[0m\n\u001b[0m\u001b[0;32m    180\u001b[0m \u001b[1;33m\u001b[0m\u001b[0m\n\u001b[0;32m    181\u001b[0m \u001b[1;33m\u001b[0m\u001b[0m\n",
      "\u001b[1;31mWriteError\u001b[0m: BSON field 'collation.name' is an unknown field., full error: {'index': 0, 'code': 40415, 'errmsg': \"BSON field 'collation.name' is an unknown field.\"}"
     ]
    }
   ],
   "source": []
  },
  {
   "cell_type": "code",
   "execution_count": 110,
   "metadata": {},
   "outputs": [
    {
     "name": "stdout",
     "output_type": "stream",
     "text": [
      "93 28/06/2022 97.50693821928598\n"
     ]
    }
   ],
   "source": [
    "#save last price actual to variable\n",
    "actual_price = df_stock3.iloc[-1,4]\n",
    "actual_date = df_stock3.iloc[-1,0] \n",
    "actual_price = int(actual_price)\n",
    "print(actual_price,actual_date,base_accuracy)\n"
   ]
  },
  {
   "cell_type": "code",
   "execution_count": 114,
   "metadata": {},
   "outputs": [
    {
     "name": "stdout",
     "output_type": "stream",
     "text": [
      "date 28/06/2022,predicted 97,actual 93, difference 4.07686528417301, accuracy 97.50694\n"
     ]
    }
   ],
   "source": [
    "# Set keys and values of company\n",
    "name = 'CBA'\n",
    "predicted = int(Pred_rf)\n",
    "difference = Pred_rf-actual_price\n",
    "print(f'date {actual_date},predicted {predicted},actual {actual_price}, difference {difference[0]}, accuracy {round(base_accuracy,2)}')"
   ]
  },
  {
   "cell_type": "code",
   "execution_count": 124,
   "metadata": {},
   "outputs": [
    {
     "data": {
      "text/plain": [
       "<pymongo.results.DeleteResult at 0x2270ddc1040>"
      ]
     },
     "execution_count": 124,
     "metadata": {},
     "output_type": "execute_result"
    }
   ],
   "source": [
    "# Delete a document from a collection\n",
    "db.delete_one(\n",
    "    {'model': 'RFR','name': name}\n",
    ")\n"
   ]
  },
  {
   "cell_type": "code",
   "execution_count": 125,
   "metadata": {},
   "outputs": [
    {
     "name": "stdout",
     "output_type": "stream",
     "text": [
      "{'_id': ObjectId('62bbaebc940901ee4c7522f2'), 'model': 'LSTM', 'name': 'BHP', 'date': '28/06/2022', 'predicted': 41, 'actual': 42, 'differece': -1, 'rmse': 0.53768}\n",
      "{'_id': ObjectId('62bbb5d8d8978fe40ad3d64c'), 'model': 'LSTM', 'name': 'CBA', 'date': '28/06/2022', 'predicted': 91, 'actual': 93, 'differece': -2, 'rmse': 0.33103}\n",
      "{'_id': ObjectId('62bbc7cb193d5e9ca1048e2b'), 'model': 'LSTM', 'name': 'NAB', 'date': '28/06/2022', 'predicted': 27, 'actual': 27, 'differece': 0, 'rmse': 0.32984}\n",
      "{'_id': ObjectId('62bbca7acc73d07c34c73fbb'), 'model': 'LSTM', 'name': 'WBC', 'date': '28/06/2022', 'predicted': 19, 'actual': 19, 'differece': 0, 'rmse': 0.15231}\n",
      "{'_id': ObjectId('62bbcb598f600c8c92330dad'), 'model': 'LSTM', 'name': 'CSL', 'date': '28/06/2022', 'predicted': 259, 'actual': 274, 'differece': -15, 'rmse': 6.26059}\n",
      "{'_id': ObjectId('62bbdd4da0c646d0f72fcefa'), 'model': 'RFR', 'name': 'CBA', 'date': '28/06/2022', 'predicted': 97, 'actual': 93, 'differece': 4.07686528417301, 'accuracy': 97.51}\n"
     ]
    }
   ],
   "source": [
    "# Insert a document into the 'companys' collection\n",
    "db.insert_one(\n",
    "    {\n",
    "      'model': 'RFR',\n",
    "      'name': name,\n",
    "      'date': actual_date,\n",
    "      'predicted': predicted,\n",
    "      'actual': actual_price,\n",
    "      'differece': difference[0],\n",
    "      'accuracy': round(base_accuracy,2)        \n",
    "    }\n",
    ")\n",
    "\n",
    "# query the classroom collection\n",
    "companys = db.find()\n",
    "\n",
    "# see change in collection\n",
    "for company in companys:\n",
    "    print(company)"
   ]
  }
 ],
 "metadata": {
  "interpreter": {
   "hash": "45bb1cb4637e4034484920e5cfb24c9afd84b0847d6c36e39edd3067d3a05462"
  },
  "kernel_info": {
   "name": "dev"
  },
  "kernelspec": {
   "display_name": "Python 3.9.7 ('base')",
   "language": "python",
   "name": "python3"
  },
  "language_info": {
   "codemirror_mode": {
    "name": "ipython",
    "version": 3
   },
   "file_extension": ".py",
   "mimetype": "text/x-python",
   "name": "python",
   "nbconvert_exporter": "python",
   "pygments_lexer": "ipython3",
   "version": "3.9.7"
  },
  "nteract": {
   "version": "0.12.3"
  }
 },
 "nbformat": 4,
 "nbformat_minor": 2
}
