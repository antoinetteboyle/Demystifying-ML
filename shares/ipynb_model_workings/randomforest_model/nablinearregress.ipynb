{
 "cells": [
  {
   "cell_type": "code",
   "execution_count": 1,
   "metadata": {},
   "outputs": [
    {
     "name": "stdout",
     "output_type": "stream",
     "text": [
      "Requirement already satisfied: sklearn in c:\\users\\antoi\\anaconda3\\lib\\site-packages (0.0)\n",
      "Requirement already satisfied: scikit-learn in c:\\users\\antoi\\anaconda3\\lib\\site-packages (from sklearn) (0.24.2)\n",
      "Requirement already satisfied: numpy>=1.13.3 in c:\\users\\antoi\\anaconda3\\lib\\site-packages (from scikit-learn->sklearn) (1.20.3)\n",
      "Requirement already satisfied: scipy>=0.19.1 in c:\\users\\antoi\\anaconda3\\lib\\site-packages (from scikit-learn->sklearn) (1.7.1)\n",
      "Requirement already satisfied: joblib>=0.11 in c:\\users\\antoi\\anaconda3\\lib\\site-packages (from scikit-learn->sklearn) (1.1.0)\n",
      "Requirement already satisfied: threadpoolctl>=2.0.0 in c:\\users\\antoi\\anaconda3\\lib\\site-packages (from scikit-learn->sklearn) (2.2.0)\n",
      "Requirement already satisfied: joblib in c:\\users\\antoi\\anaconda3\\lib\\site-packages (1.1.0)\n"
     ]
    }
   ],
   "source": [
    "# Update sklearn to prevent version mismatches\n",
    "!pip install sklearn --upgrade\n",
    "# install joblib. This will be used to save your model. \n",
    "# Restart your kernel after installing \n",
    "!pip install joblib"
   ]
  },
  {
   "cell_type": "markdown",
   "metadata": {},
   "source": [
    "This model uses a neural network and GridSearchCV to predict share price impacts of Interest changes"
   ]
  },
  {
   "cell_type": "markdown",
   "metadata": {},
   "source": [
    "# Read the CSV and Perform Basic Data Cleaning"
   ]
  },
  {
   "cell_type": "code",
   "execution_count": 2,
   "metadata": {},
   "outputs": [],
   "source": [
    "import matplotlib.pyplot as plt\n",
    "import numpy as np\n",
    "import pandas as pd"
   ]
  },
  {
   "cell_type": "code",
   "execution_count": 3,
   "metadata": {},
   "outputs": [
    {
     "data": {
      "text/html": [
       "<div>\n",
       "<style scoped>\n",
       "    .dataframe tbody tr th:only-of-type {\n",
       "        vertical-align: middle;\n",
       "    }\n",
       "\n",
       "    .dataframe tbody tr th {\n",
       "        vertical-align: top;\n",
       "    }\n",
       "\n",
       "    .dataframe thead th {\n",
       "        text-align: right;\n",
       "    }\n",
       "</style>\n",
       "<table border=\"1\" class=\"dataframe\">\n",
       "  <thead>\n",
       "    <tr style=\"text-align: right;\">\n",
       "      <th></th>\n",
       "      <th>Date</th>\n",
       "      <th>Open</th>\n",
       "      <th>High</th>\n",
       "      <th>Low</th>\n",
       "      <th>Close</th>\n",
       "      <th>Adj Close</th>\n",
       "      <th>Volume</th>\n",
       "      <th>SENTIMENT</th>\n",
       "      <th>RBA</th>\n",
       "      <th>FED</th>\n",
       "      <th>CPI</th>\n",
       "    </tr>\n",
       "  </thead>\n",
       "  <tbody>\n",
       "    <tr>\n",
       "      <th>0</th>\n",
       "      <td>3/01/2000</td>\n",
       "      <td>22.164883</td>\n",
       "      <td>22.164883</td>\n",
       "      <td>22.164883</td>\n",
       "      <td>22.164883</td>\n",
       "      <td>6.412319</td>\n",
       "      <td>0.0</td>\n",
       "      <td>NEGATIVE</td>\n",
       "      <td>5.0</td>\n",
       "      <td>5.5</td>\n",
       "      <td>69.7</td>\n",
       "    </tr>\n",
       "    <tr>\n",
       "      <th>1</th>\n",
       "      <td>4/01/2000</td>\n",
       "      <td>21.869984</td>\n",
       "      <td>21.879498</td>\n",
       "      <td>21.308727</td>\n",
       "      <td>21.403856</td>\n",
       "      <td>6.192155</td>\n",
       "      <td>3005390.0</td>\n",
       "      <td>NEGATIVE</td>\n",
       "      <td>5.0</td>\n",
       "      <td>5.5</td>\n",
       "      <td>69.7</td>\n",
       "    </tr>\n",
       "    <tr>\n",
       "      <th>2</th>\n",
       "      <td>5/01/2000</td>\n",
       "      <td>20.918701</td>\n",
       "      <td>21.099445</td>\n",
       "      <td>20.785522</td>\n",
       "      <td>20.975779</td>\n",
       "      <td>6.068309</td>\n",
       "      <td>4604126.0</td>\n",
       "      <td>NEGATIVE</td>\n",
       "      <td>5.0</td>\n",
       "      <td>5.5</td>\n",
       "      <td>69.7</td>\n",
       "    </tr>\n",
       "    <tr>\n",
       "      <th>3</th>\n",
       "      <td>6/01/2000</td>\n",
       "      <td>21.207891</td>\n",
       "      <td>21.213600</td>\n",
       "      <td>20.642830</td>\n",
       "      <td>20.642830</td>\n",
       "      <td>5.971987</td>\n",
       "      <td>2574906.0</td>\n",
       "      <td>POSITIVE</td>\n",
       "      <td>5.0</td>\n",
       "      <td>5.5</td>\n",
       "      <td>69.7</td>\n",
       "    </tr>\n",
       "    <tr>\n",
       "      <th>4</th>\n",
       "      <td>7/01/2000</td>\n",
       "      <td>20.737959</td>\n",
       "      <td>20.880651</td>\n",
       "      <td>20.623804</td>\n",
       "      <td>20.823574</td>\n",
       "      <td>6.024276</td>\n",
       "      <td>3028993.0</td>\n",
       "      <td>POSITIVE</td>\n",
       "      <td>5.0</td>\n",
       "      <td>5.5</td>\n",
       "      <td>69.7</td>\n",
       "    </tr>\n",
       "  </tbody>\n",
       "</table>\n",
       "</div>"
      ],
      "text/plain": [
       "        Date       Open       High        Low      Close  Adj Close  \\\n",
       "0  3/01/2000  22.164883  22.164883  22.164883  22.164883   6.412319   \n",
       "1  4/01/2000  21.869984  21.879498  21.308727  21.403856   6.192155   \n",
       "2  5/01/2000  20.918701  21.099445  20.785522  20.975779   6.068309   \n",
       "3  6/01/2000  21.207891  21.213600  20.642830  20.642830   5.971987   \n",
       "4  7/01/2000  20.737959  20.880651  20.623804  20.823574   6.024276   \n",
       "\n",
       "      Volume SENTIMENT  RBA  FED   CPI  \n",
       "0        0.0  NEGATIVE  5.0  5.5  69.7  \n",
       "1  3005390.0  NEGATIVE  5.0  5.5  69.7  \n",
       "2  4604126.0  NEGATIVE  5.0  5.5  69.7  \n",
       "3  2574906.0  POSITIVE  5.0  5.5  69.7  \n",
       "4  3028993.0  POSITIVE  5.0  5.5  69.7  "
      ]
     },
     "execution_count": 3,
     "metadata": {},
     "output_type": "execute_result"
    }
   ],
   "source": [
    "df_stock1 = pd.read_csv(\"../../static/data/NAB.csv\")\n",
    "# Drop the null columns where all values are null\n",
    "df_stock2 = df_stock1.dropna(axis='columns', how='all')\n",
    "# Drop the null rows\n",
    "df_stock3 = df_stock2.dropna()\n",
    "# Drop the last row to test prediction to actual\n",
    "df_stock_less1= df_stock3.iloc[:-1,:]\n",
    "# Drop last 3 columns Sentiment RBA FED\n",
    "# N=3\n",
    "# df = df_stock_less1.iloc[: , :-N]\n",
    "df_stock_less1.head()"
   ]
  },
  {
   "cell_type": "code",
   "execution_count": 4,
   "metadata": {},
   "outputs": [
    {
     "data": {
      "text/plain": [
       "(5692, 11)"
      ]
     },
     "execution_count": 4,
     "metadata": {},
     "output_type": "execute_result"
    }
   ],
   "source": [
    "df_stock_less1.shape"
   ]
  },
  {
   "cell_type": "markdown",
   "metadata": {},
   "source": [
    "# Use `RBA`,`FED` and `CPI` for the X values"
   ]
  },
  {
   "cell_type": "code",
   "execution_count": 5,
   "metadata": {},
   "outputs": [
    {
     "name": "stdout",
     "output_type": "stream",
     "text": [
      "(5692, 3) (5692, 1)\n"
     ]
    }
   ],
   "source": [
    "X = df_stock_less1[[\"RBA\",\"FED\",\"CPI\"]]\n",
    "y = df_stock_less1[\"Close\"].values.reshape(-1, 1)\n",
    "print(X.shape, y.shape)"
   ]
  },
  {
   "cell_type": "code",
   "execution_count": 6,
   "metadata": {},
   "outputs": [
    {
     "data": {
      "text/html": [
       "<div>\n",
       "<style scoped>\n",
       "    .dataframe tbody tr th:only-of-type {\n",
       "        vertical-align: middle;\n",
       "    }\n",
       "\n",
       "    .dataframe tbody tr th {\n",
       "        vertical-align: top;\n",
       "    }\n",
       "\n",
       "    .dataframe thead th {\n",
       "        text-align: right;\n",
       "    }\n",
       "</style>\n",
       "<table border=\"1\" class=\"dataframe\">\n",
       "  <thead>\n",
       "    <tr style=\"text-align: right;\">\n",
       "      <th></th>\n",
       "      <th>RBA</th>\n",
       "      <th>FED</th>\n",
       "      <th>CPI</th>\n",
       "    </tr>\n",
       "  </thead>\n",
       "  <tbody>\n",
       "    <tr>\n",
       "      <th>0</th>\n",
       "      <td>5.00</td>\n",
       "      <td>5.50</td>\n",
       "      <td>69.7</td>\n",
       "    </tr>\n",
       "    <tr>\n",
       "      <th>1</th>\n",
       "      <td>5.00</td>\n",
       "      <td>5.50</td>\n",
       "      <td>69.7</td>\n",
       "    </tr>\n",
       "    <tr>\n",
       "      <th>2</th>\n",
       "      <td>5.00</td>\n",
       "      <td>5.50</td>\n",
       "      <td>69.7</td>\n",
       "    </tr>\n",
       "    <tr>\n",
       "      <th>3</th>\n",
       "      <td>5.00</td>\n",
       "      <td>5.50</td>\n",
       "      <td>69.7</td>\n",
       "    </tr>\n",
       "    <tr>\n",
       "      <th>4</th>\n",
       "      <td>5.00</td>\n",
       "      <td>5.50</td>\n",
       "      <td>69.7</td>\n",
       "    </tr>\n",
       "    <tr>\n",
       "      <th>...</th>\n",
       "      <td>...</td>\n",
       "      <td>...</td>\n",
       "      <td>...</td>\n",
       "    </tr>\n",
       "    <tr>\n",
       "      <th>5720</th>\n",
       "      <td>0.85</td>\n",
       "      <td>1.75</td>\n",
       "      <td>125.0</td>\n",
       "    </tr>\n",
       "    <tr>\n",
       "      <th>5721</th>\n",
       "      <td>0.85</td>\n",
       "      <td>1.75</td>\n",
       "      <td>125.0</td>\n",
       "    </tr>\n",
       "    <tr>\n",
       "      <th>5722</th>\n",
       "      <td>0.85</td>\n",
       "      <td>1.75</td>\n",
       "      <td>125.0</td>\n",
       "    </tr>\n",
       "    <tr>\n",
       "      <th>5723</th>\n",
       "      <td>0.85</td>\n",
       "      <td>1.75</td>\n",
       "      <td>125.0</td>\n",
       "    </tr>\n",
       "    <tr>\n",
       "      <th>5724</th>\n",
       "      <td>0.85</td>\n",
       "      <td>1.75</td>\n",
       "      <td>125.0</td>\n",
       "    </tr>\n",
       "  </tbody>\n",
       "</table>\n",
       "<p>5692 rows × 3 columns</p>\n",
       "</div>"
      ],
      "text/plain": [
       "       RBA   FED    CPI\n",
       "0     5.00  5.50   69.7\n",
       "1     5.00  5.50   69.7\n",
       "2     5.00  5.50   69.7\n",
       "3     5.00  5.50   69.7\n",
       "4     5.00  5.50   69.7\n",
       "...    ...   ...    ...\n",
       "5720  0.85  1.75  125.0\n",
       "5721  0.85  1.75  125.0\n",
       "5722  0.85  1.75  125.0\n",
       "5723  0.85  1.75  125.0\n",
       "5724  0.85  1.75  125.0\n",
       "\n",
       "[5692 rows x 3 columns]"
      ]
     },
     "execution_count": 6,
     "metadata": {},
     "output_type": "execute_result"
    }
   ],
   "source": [
    "X"
   ]
  },
  {
   "cell_type": "markdown",
   "metadata": {},
   "source": [
    "# Create a Train Test Split"
   ]
  },
  {
   "cell_type": "code",
   "execution_count": 7,
   "metadata": {},
   "outputs": [
    {
     "name": "stdout",
     "output_type": "stream",
     "text": [
      "(4269, 3) (4269, 1)\n",
      "(1423, 3) (1423, 1)\n",
      "<bound method DataFrame.info of        RBA   FED    CPI\n",
      "2945  4.75  0.25   99.8\n",
      "3957  2.00  0.25  108.0\n",
      "1552  5.50  4.25   83.8\n",
      "1748  6.00  5.25   86.6\n",
      "2318  4.25  0.25   92.5\n",
      "...    ...   ...    ...\n",
      "929   4.75  1.00   79.1\n",
      "5225  0.25  1.25  116.2\n",
      "4013  2.00  0.25  108.0\n",
      "238   6.25  6.50   73.1\n",
      "5190  0.25  1.25  114.4\n",
      "\n",
      "[4269 rows x 3 columns]>\n"
     ]
    }
   ],
   "source": [
    "# Use train_test_split to create training and testing data\n",
    "from sklearn.model_selection import train_test_split\n",
    "\n",
    "X_train, X_test, y_train, y_test = train_test_split(X, y, random_state=1)\n",
    "print(X_train.shape, y_train.shape)\n",
    "print(X_test.shape, y_test.shape)\n",
    "print(X_train.info)"
   ]
  },
  {
   "cell_type": "code",
   "execution_count": 8,
   "metadata": {},
   "outputs": [],
   "source": [
    "from sklearn.linear_model import LinearRegression\n",
    "model = LinearRegression()"
   ]
  },
  {
   "cell_type": "markdown",
   "metadata": {},
   "source": [
    "# Fit the model"
   ]
  },
  {
   "cell_type": "code",
   "execution_count": 9,
   "metadata": {},
   "outputs": [
    {
     "name": "stdout",
     "output_type": "stream",
     "text": [
      "Training Score: 0.10172830690323897\n",
      "Testing Score: 0.08982531852669007\n"
     ]
    }
   ],
   "source": [
    "# Fit the model to the training data and calculate the scores for the training and testing data\n",
    "\n",
    "### BEGIN SOLUTION\n",
    "model.fit(X_train, y_train)\n",
    "training_score = model.score(X_train, y_train)\n",
    "testing_score = model.score(X_test, y_test)\n",
    "\n",
    "### END SOLUTION \n",
    "\n",
    "print(f\"Training Score: {training_score}\")\n",
    "print(f\"Testing Score: {testing_score}\")"
   ]
  },
  {
   "cell_type": "code",
   "execution_count": 10,
   "metadata": {},
   "outputs": [],
   "source": [
    "# X_train = X_train.reshape((X_train.shape[0], 1))"
   ]
  },
  {
   "cell_type": "code",
   "execution_count": 11,
   "metadata": {},
   "outputs": [],
   "source": [
    "#Linear Regression Residual showing difference actual vs predicted\n",
    "# residual = pd.DataFrame([model.predict(X_train),y_train,(model.predict(X_train)-y_train)])\n",
    "# residual.tail"
   ]
  },
  {
   "cell_type": "code",
   "execution_count": 12,
   "metadata": {},
   "outputs": [
    {
     "data": {
      "text/plain": [
       "Text(0.5, 1.0, 'Residual Plot')"
      ]
     },
     "execution_count": 12,
     "metadata": {},
     "output_type": "execute_result"
    },
    {
     "data": {
      "image/png": "[encoded data removed]",
      "text/plain": [
       "<Figure size 432x288 with 1 Axes>"
      ]
     },
     "metadata": {
      "needs_background": "light"
     },
     "output_type": "display_data"
    }
   ],
   "source": [
    "# Plot the Residuals for the Training and Testing data\n",
    "plt.scatter(model.predict(X_train), model.predict(X_train) - y_train, c=\"blue\", label=\"Training Data\")\n",
    "plt.scatter(model.predict(X_test), model.predict(X_test) - y_test, c=\"orange\", label=\"Testing Data\")\n",
    "plt.legend()\n",
    "plt.hlines(y=0, xmin=y.min(), xmax=y.max())\n",
    "plt.title(\"Residual Plot\")"
   ]
  },
  {
   "cell_type": "code",
   "execution_count": 13,
   "metadata": {},
   "outputs": [],
   "source": [
    "# Linear Regression: X_test predictions to variable\n",
    "predictions = model.predict(X_test)"
   ]
  },
  {
   "cell_type": "markdown",
   "metadata": {},
   "source": [
    "#### R2 Score is a very popular metric used for evaluating the performance of linear regression models. Where R2 Score is between 0 and 1, the closer to 1, the better the regression fit.\n",
    "#### Use MSE or MAE when comparing two or more models, the lower the value of MSE or MAE, the better. MSE (Mean Square Error): Uses Euclidean distance to calculate the error. MSE gives the magnitude of the error only."
   ]
  },
  {
   "cell_type": "code",
   "execution_count": 14,
   "metadata": {},
   "outputs": [
    {
     "name": "stdout",
     "output_type": "stream",
     "text": [
      "MSE: 20.962734714941224, R2: 0.08982531852669007\n"
     ]
    }
   ],
   "source": [
    "# Used X_test, y_test, and model.predict(X_test) to calculate MSE and R2\n",
    "\n",
    "### BEGIN SOLUTION\n",
    "from sklearn.metrics import mean_squared_error\n",
    "\n",
    "MSE = mean_squared_error(y_test, predictions)\n",
    "r2 = model.score(X_test, y_test)\n",
    "### END SOLUTION\n",
    "\n",
    "print(f\"MSE: {MSE}, R2: {r2}\")"
   ]
  },
  {
   "cell_type": "markdown",
   "metadata": {},
   "source": [
    "#### Lasso regression imposes a constraint on the model parameters that causes regression coefficients for some variables to shrink toward zero. It comes with a parameter, alpha , and the higher the alpha , the more feature coefficients are zero. When alpha is 0 , Lasso regression produces the same coefficients as a linear regression."
   ]
  },
  {
   "cell_type": "code",
   "execution_count": 15,
   "metadata": {},
   "outputs": [
    {
     "name": "stdout",
     "output_type": "stream",
     "text": [
      "MSE: 20.964215740141835, R2: 0.08976101433839823\n"
     ]
    }
   ],
   "source": [
    "# LASSO model\n",
    "# Note: Used an alpha of .01 when creating the model for this activity\n",
    "from sklearn.linear_model import Lasso\n",
    "\n",
    "### BEGIN SOLUTION\n",
    "lasso = Lasso(alpha=.01).fit(X_train, y_train)\n",
    "\n",
    "predictions = lasso.predict(X_test)\n",
    "\n",
    "MSE = mean_squared_error(y_test, predictions)\n",
    "r2 = lasso.score(X_test, y_test)\n",
    "### END SOLUTION\n",
    "\n",
    "print(f\"MSE: {MSE}, R2: {r2}\")"
   ]
  },
  {
   "cell_type": "code",
   "execution_count": 16,
   "metadata": {},
   "outputs": [
    {
     "name": "stdout",
     "output_type": "stream",
     "text": [
      "MSE: 20.96273483538255, R2: 0.08982531329728449\n"
     ]
    }
   ],
   "source": [
    "# Ridge model\n",
    "# Note: Used an alpha of .01 when creating the model for this activity\n",
    "from sklearn.linear_model import Ridge\n",
    "\n",
    "### BEGIN SOLUTION\n",
    "ridge = Ridge(alpha=.01).fit(X_train, y_train)\n",
    "\n",
    "predictions = ridge.predict(X_test)\n",
    "\n",
    "MSE = mean_squared_error(y_test, predictions)\n",
    "r2 = ridge.score(X_test, y_test)\n",
    "### END SOLUTION\n",
    "\n",
    "print(f\"MSE: {MSE}, R2: {r2}\")"
   ]
  },
  {
   "cell_type": "code",
   "execution_count": 17,
   "metadata": {},
   "outputs": [
    {
     "name": "stdout",
     "output_type": "stream",
     "text": [
      "MSE: 20.963734587562826, R2: 0.08978190535769015\n"
     ]
    }
   ],
   "source": [
    "# ElasticNet model\n",
    "# Note: Use an alpha of .01 when creating the model for this activity\n",
    "from sklearn.linear_model import ElasticNet\n",
    "\n",
    "### BEGIN SOLUTION\n",
    "elasticnet = ElasticNet(alpha=.01).fit(X_train, y_train)\n",
    "\n",
    "predictions = elasticnet.predict(X_test)\n",
    "\n",
    "MSE = mean_squared_error(y_test, predictions)\n",
    "r2 = elasticnet.score(X_test, y_test)\n",
    "### END SOLUTION\n",
    "\n",
    "print(f\"MSE: {MSE}, R2: {r2}\")"
   ]
  },
  {
   "cell_type": "markdown",
   "metadata": {},
   "source": [
    "# Hyperparameter Tuning"
   ]
  },
  {
   "cell_type": "code",
   "execution_count": 18,
   "metadata": {},
   "outputs": [
    {
     "data": {
      "text/plain": [
       "(5692,)"
      ]
     },
     "execution_count": 18,
     "metadata": {},
     "output_type": "execute_result"
    }
   ],
   "source": [
    "y_target = df_stock_less1[\"Close\"]\n",
    "y_target.shape"
   ]
  },
  {
   "cell_type": "code",
   "execution_count": 19,
   "metadata": {},
   "outputs": [
    {
     "name": "stdout",
     "output_type": "stream",
     "text": [
      "(4269, 3) (4269,)\n",
      "(1423, 3) (1423,)\n"
     ]
    }
   ],
   "source": [
    "# Use train_test_split to create training and testing data\n",
    "from sklearn.model_selection import train_test_split\n",
    "\n",
    "X_train, X_test, y_train, y_test = train_test_split(X, y_target, random_state=1)\n",
    "print(X_train.shape, y_train.shape)\n",
    "print(X_test.shape, y_test.shape)"
   ]
  },
  {
   "cell_type": "code",
   "execution_count": 20,
   "metadata": {},
   "outputs": [
    {
     "name": "stdout",
     "output_type": "stream",
     "text": [
      "(4269, 3) (4269,)\n",
      "(1423, 3) (1423,)\n"
     ]
    }
   ],
   "source": [
    "print(X_train.shape,y_train.shape)\n",
    "print(X_test.shape,y_test.shape)"
   ]
  },
  {
   "cell_type": "markdown",
   "metadata": {},
   "source": [
    "#### GridSearchCV and RandomizedSearchCV are techniques to evaluate models for a given hyperparameter vector using cross-validation, hence the “CV” suffix of the class name.\n",
    "#### We are executing many models together is to find which machine learning model works best for this particular dataset."
   ]
  },
  {
   "cell_type": "code",
   "execution_count": 21,
   "metadata": {},
   "outputs": [],
   "source": [
    "from sklearn.linear_model import LinearRegression, Ridge,Lasso\n",
    "from sklearn.neighbors import KNeighborsRegressor\n",
    "from sklearn.ensemble import GradientBoostingRegressor\n",
    "from sklearn.ensemble import ExtraTreesRegressor, RandomForestRegressor\n",
    "from sklearn.tree import DecisionTreeRegressor"
   ]
  },
  {
   "cell_type": "code",
   "execution_count": 22,
   "metadata": {},
   "outputs": [],
   "source": [
    "regressors = [\n",
    "    RandomForestRegressor(),\n",
    "    DecisionTreeRegressor(),\n",
    "    KNeighborsRegressor(),\n",
    "    GradientBoostingRegressor(),\n",
    "    KNeighborsRegressor(),\n",
    "    ExtraTreesRegressor(),\n",
    "    LinearRegression(),\n",
    "    Lasso(),\n",
    "    Ridge()\n",
    "]"
   ]
  },
  {
   "cell_type": "code",
   "execution_count": 23,
   "metadata": {},
   "outputs": [
    {
     "name": "stdout",
     "output_type": "stream",
     "text": [
      "RandomForestRegressor()\n",
      "\tTraining time: 0.169s\n",
      "\tPrediction time: 0.016s\n",
      "\tExplained variance: 0.9565130154331243\n",
      "\tMean absolute error: 0.7531136203423189\n",
      "\tR2 score: 0.9565120562816269\n",
      "\n",
      "DecisionTreeRegressor()\n",
      "\tTraining time: 0.004s\n",
      "\tPrediction time: 0.001s\n",
      "\tExplained variance: 0.9562515873872243\n",
      "\tMean absolute error: 0.7550345539130624\n",
      "\tR2 score: 0.9562482007599175\n",
      "\n",
      "KNeighborsRegressor()\n",
      "\tTraining time: 0.003s\n",
      "\tPrediction time: 0.003s\n",
      "\tExplained variance: 0.949784168691688\n",
      "\tMean absolute error: 0.8021153422347154\n",
      "\tR2 score: 0.9497590417402608\n",
      "\n",
      "GradientBoostingRegressor()\n",
      "\tTraining time: 0.089s\n",
      "\tPrediction time: 0.003s\n",
      "\tExplained variance: 0.9331413752963718\n",
      "\tMean absolute error: 0.9646401749446661\n",
      "\tR2 score: 0.9331407352773132\n",
      "\n",
      "KNeighborsRegressor()\n",
      "\tTraining time: 0.003s\n",
      "\tPrediction time: 0.004s\n",
      "\tExplained variance: 0.949784168691688\n",
      "\tMean absolute error: 0.8021153422347154\n",
      "\tR2 score: 0.9497590417402608\n",
      "\n",
      "ExtraTreesRegressor()\n",
      "\tTraining time: 0.136s\n",
      "\tPrediction time: 0.016s\n",
      "\tExplained variance: 0.9564335151069709\n",
      "\tMean absolute error: 0.7533907543386849\n",
      "\tR2 score: 0.9564306547193255\n",
      "\n",
      "LinearRegression()\n",
      "\tTraining time: 0.002s\n",
      "\tPrediction time: 0.001s\n",
      "\tExplained variance: 0.09117788538479854\n",
      "\tMean absolute error: 3.779719099746116\n",
      "\tR2 score: 0.08982531852669007\n",
      "\n",
      "Lasso()\n",
      "\tTraining time: 0.002s\n",
      "\tPrediction time: 0.001s\n",
      "\tExplained variance: 0.059778911822475966\n",
      "\tMean absolute error: 3.7618372281856716\n",
      "\tR2 score: 0.05829080483069926\n",
      "\n",
      "Ridge()\n",
      "\tTraining time: 0.001s\n",
      "\tPrediction time: 0.001s\n",
      "\tExplained variance: 0.09117737850928576\n",
      "\tMean absolute error: 3.7797081463320445\n",
      "\tR2 score: 0.08982479458278214\n",
      "\n"
     ]
    }
   ],
   "source": [
    "from time import time\n",
    "from sklearn.metrics import explained_variance_score,mean_absolute_error,r2_score\n",
    "\n",
    "head = 10\n",
    "for model in regressors[:head]:\n",
    "    start = time()\n",
    "    model.fit(X_train, y_train)\n",
    "    train_time = time() - start\n",
    "    start = time()\n",
    "    y_pred = model.predict(X_test)\n",
    "    predict_time = time()-start    \n",
    "    print(model)\n",
    "    print(\"\\tTraining time: %0.3fs\" % train_time)\n",
    "    print(\"\\tPrediction time: %0.3fs\" % predict_time)\n",
    "    print(\"\\tExplained variance:\", explained_variance_score(y_test, y_pred))\n",
    "    print(\"\\tMean absolute error:\", mean_absolute_error(y_test, y_pred))\n",
    "    print(\"\\tR2 score:\", r2_score(y_test, y_pred))\n",
    "    print()"
   ]
  },
  {
   "cell_type": "markdown",
   "metadata": {},
   "source": [
    "#### By comparing these results, we can quickly see that RandomForestRegressor and DecisionTreeRegressor are the best models for our data\n",
    "#### Machine learning models have parameters, which are the internal coefficients set by training or optimizing the model on a training dataset.\n",
    "#### Parameters are different from hyperparameters. Parameters are learned automatically; hyperparameters are set manually to help guide the learning process."
   ]
  },
  {
   "cell_type": "code",
   "execution_count": 24,
   "metadata": {},
   "outputs": [
    {
     "name": "stdout",
     "output_type": "stream",
     "text": [
      "Parameters currently in use:\n",
      "\n",
      "{'bootstrap': True,\n",
      " 'ccp_alpha': 0.0,\n",
      " 'criterion': 'mse',\n",
      " 'max_depth': None,\n",
      " 'max_features': 'auto',\n",
      " 'max_leaf_nodes': None,\n",
      " 'max_samples': None,\n",
      " 'min_impurity_decrease': 0.0,\n",
      " 'min_impurity_split': None,\n",
      " 'min_samples_leaf': 1,\n",
      " 'min_samples_split': 2,\n",
      " 'min_weight_fraction_leaf': 0.0,\n",
      " 'n_estimators': 100,\n",
      " 'n_jobs': None,\n",
      " 'oob_score': False,\n",
      " 'random_state': 42,\n",
      " 'verbose': 0,\n",
      " 'warm_start': False}\n"
     ]
    }
   ],
   "source": [
    "from sklearn.ensemble import RandomForestRegressor\n",
    "rf = RandomForestRegressor(random_state = 42)\n",
    "from pprint import pprint\n",
    "# Look at parameters used by our current forest\n",
    "print('Parameters currently in use:\\n')\n",
    "pprint(rf.get_params())"
   ]
  },
  {
   "cell_type": "code",
   "execution_count": 25,
   "metadata": {},
   "outputs": [
    {
     "name": "stdout",
     "output_type": "stream",
     "text": [
      "{'bootstrap': [True, False],\n",
      " 'max_depth': [10, 20, 30, 40, 50, 60, 70, 80, 90, 100, 110, None],\n",
      " 'max_features': ['auto', 'sqrt'],\n",
      " 'min_samples_leaf': [1, 2, 4],\n",
      " 'min_samples_split': [2, 5, 10],\n",
      " 'n_estimators': [200, 400, 600, 800, 1000, 1200, 1400, 1600, 1800, 2000]}\n"
     ]
    }
   ],
   "source": [
    "from sklearn.model_selection import RandomizedSearchCV\n",
    "# Number of trees in random forest\n",
    "n_estimators = [int(x) for x in np.linspace(start = 200, stop = 2000, num = 10)]\n",
    "# Number of features to consider at every split\n",
    "max_features = ['auto', 'sqrt']\n",
    "# Maximum number of levels in tree\n",
    "max_depth = [int(x) for x in np.linspace(10, 110, num = 11)]\n",
    "max_depth.append(None)\n",
    "# Minimum number of samples required to split a node\n",
    "min_samples_split = [2, 5, 10]\n",
    "# Minimum number of samples required at each leaf node\n",
    "min_samples_leaf = [1, 2, 4]\n",
    "# Method of selecting samples for training each tree\n",
    "bootstrap = [True, False]\n",
    "# Create the random grid\n",
    "random_grid = {'n_estimators': n_estimators,\n",
    "               'max_features': max_features,\n",
    "               'max_depth': max_depth,\n",
    "               'min_samples_split': min_samples_split,\n",
    "               'min_samples_leaf': min_samples_leaf,\n",
    "               'bootstrap': bootstrap}\n",
    "pprint(random_grid)"
   ]
  },
  {
   "cell_type": "code",
   "execution_count": 26,
   "metadata": {},
   "outputs": [
    {
     "name": "stdout",
     "output_type": "stream",
     "text": [
      "Fitting 3 folds for each of 100 candidates, totalling 300 fits\n"
     ]
    }
   ],
   "source": [
    "# Use the random grid to search for best hyperparameters\n",
    "# First create the base model to tune\n",
    "rf = RandomForestRegressor()\n",
    "# Random search of parameters, using 3 fold cross validation, \n",
    "# search across 100 different combinations, and use all available cores\n",
    "rf_random = RandomizedSearchCV(estimator = rf, param_distributions = random_grid, n_iter = 100, cv = 3, verbose=2, random_state=42, n_jobs = -1)\n",
    "# Fit the random search model\n",
    "rf_random.fit(X_train, y_train)"
   ]
  },
  {
   "cell_type": "code",
   "execution_count": null,
   "metadata": {},
   "outputs": [
    {
     "data": {
      "text/plain": [
       "{'n_estimators': 2000,\n",
       " 'min_samples_split': 5,\n",
       " 'min_samples_leaf': 1,\n",
       " 'max_features': 'sqrt',\n",
       " 'max_depth': 100,\n",
       " 'bootstrap': True}"
      ]
     },
     "execution_count": 27,
     "metadata": {},
     "output_type": "execute_result"
    }
   ],
   "source": [
    "rf_random.best_params_"
   ]
  },
  {
   "cell_type": "code",
   "execution_count": null,
   "metadata": {},
   "outputs": [
    {
     "name": "stdout",
     "output_type": "stream",
     "text": [
      "Model Performance\n",
      "Average Error: 0.7538 degrees.\n",
      "Accuracy = 97.23%.\n",
      "Model Performance\n",
      "Average Error: 0.7522 degrees.\n",
      "Accuracy = 97.24%.\n",
      "Improvement of 0.01%.\n"
     ]
    }
   ],
   "source": [
    "def evaluate(model, X_test, y_test):\n",
    "    predictions = model.predict(X_test)\n",
    "    errors = abs(predictions - y_test)\n",
    "    mape = 100 * np.mean(errors / y_test)\n",
    "    accuracy = 100 - mape\n",
    "    print('Model Performance')\n",
    "    print('Average Error: {:0.4f} degrees.'.format(np.mean(errors)))\n",
    "    print('Accuracy = {:0.2f}%.'.format(accuracy))\n",
    "    return accuracy\n",
    "base_model = RandomForestRegressor(n_estimators = 10, random_state = 42)\n",
    "base_model.fit(X_train, y_train)\n",
    "base_accuracy = evaluate(base_model, X_test, y_test)\n",
    "\n",
    "best_random = rf_random.best_estimator_\n",
    "random_accuracy = evaluate(best_random, X_test, y_test)\n",
    "\n",
    "print('Improvement of {:0.2f}%.'.format( 100 * (random_accuracy - base_accuracy) / base_accuracy))"
   ]
  },
  {
   "cell_type": "code",
   "execution_count": null,
   "metadata": {},
   "outputs": [],
   "source": [
    "# Hyperparameter tuning has not improved accuracy significantly"
   ]
  },
  {
   "cell_type": "code",
   "execution_count": null,
   "metadata": {},
   "outputs": [
    {
     "data": {
      "text/plain": [
       "array([26.22038914, 29.18073973, 27.14413627, ..., 32.5174713 ,\n",
       "       27.99549582, 26.64180685])"
      ]
     },
     "execution_count": 30,
     "metadata": {},
     "output_type": "execute_result"
    }
   ],
   "source": [
    "model_rfr = RandomForestRegressor()\n",
    "model_rfr.fit(X_train, y_train)\n",
    "y_test_pred = model_rfr.predict(X_test)\n",
    "y_test_pred"
   ]
  },
  {
   "cell_type": "code",
   "execution_count": null,
   "metadata": {},
   "outputs": [
    {
     "data": {
      "text/plain": [
       "<bound method NDFrame.tail of         0          1          2          3          4          5     \\\n",
       "0  22.469184  31.246238  30.269307  36.004666  18.539518  32.167420   \n",
       "1  24.238678  32.294762  30.250784  35.283070  19.729599  33.294888   \n",
       "2  -1.769494  -1.048524   0.018523   0.721596  -1.190081  -1.127468   \n",
       "\n",
       "        6          7          8          9     ...       4259       4260  \\\n",
       "0  29.478358  24.757946  26.641807  29.202352  ...  27.144136  24.127357   \n",
       "1  29.510000  25.123371  26.921295  28.947527  ...  27.670000  23.563267   \n",
       "2  -0.031642  -0.365425  -0.279488   0.254825  ...  -0.525864   0.564090   \n",
       "\n",
       "       4261       4262       4263       4264       4265       4266       4267  \\\n",
       "0  26.38963  24.757946  23.101252  30.519286  17.799253  31.246238  26.959702   \n",
       "1  25.02000  23.249344  22.412216  30.441040  18.340000  29.438696  28.371050   \n",
       "2   1.36963   1.508602   0.689036   0.078246  -0.540747   1.807542  -1.411348   \n",
       "\n",
       "        4268  \n",
       "0  16.865652  \n",
       "1  15.170000  \n",
       "2   1.695652  \n",
       "\n",
       "[3 rows x 4269 columns]>"
      ]
     },
     "execution_count": 31,
     "metadata": {},
     "output_type": "execute_result"
    }
   ],
   "source": [
    "#RandomForestRegressor Residual showing difference actual vs predicted\n",
    "residual_dtr = pd.DataFrame([model_rfr.predict(X_train),y_train,(model_rfr.predict(X_train)-y_train)])\n",
    "residual_dtr.tail"
   ]
  },
  {
   "cell_type": "code",
   "execution_count": null,
   "metadata": {},
   "outputs": [
    {
     "data": {
      "image/png": "[encoded data removed]",
      "text/plain": [
       "<Figure size 432x288 with 1 Axes>"
      ]
     },
     "metadata": {
      "needs_background": "light"
     },
     "output_type": "display_data"
    }
   ],
   "source": [
    "# Make predictions using fitted model\n",
    "predictions1 = model_rfr.predict(X_test)\n",
    "\n",
    "# Plotted the difference between the model predicted values and actual y values, versus the model predicted values\n",
    "plt.scatter(model_rfr.predict(X_train), y_train - model_rfr.predict(X_train), c=\"blue\", label=\"Training Data\")\n",
    "plt.scatter(model_rfr.predict(X_test), y_test - model_rfr.predict(X_test), c=\"orange\", label=\"Testing Data\")\n",
    "plt.legend()\n",
    "plt.hlines(y=0, xmin=y_test.min(), xmax=y_test.max())\n",
    "plt.title(\"Residual Plot\")\n",
    "plt.show()"
   ]
  },
  {
   "cell_type": "markdown",
   "metadata": {},
   "source": [
    "# Save the Model"
   ]
  },
  {
   "cell_type": "code",
   "execution_count": null,
   "metadata": {},
   "outputs": [],
   "source": [
    "import pickle\n",
    "filename = '../../static/nab_model_rfr.sav'\n",
    "pickle.dump(model, open(filename, 'wb'))\n",
    "model_in_rfr = pickle.load(open(filename, 'rb'))"
   ]
  },
  {
   "cell_type": "code",
   "execution_count": null,
   "metadata": {},
   "outputs": [],
   "source": [
    "# from joblib import dump,load\n",
    "# model_in_rfr = load('NAB_model_rfr.sav')"
   ]
  },
  {
   "cell_type": "code",
   "execution_count": null,
   "metadata": {},
   "outputs": [
    {
     "name": "stdout",
     "output_type": "stream",
     "text": [
      "    RBA   FED    CPI  Prediction\n",
      "0  0.85  1.75  125.0       27.95\n",
      "    RBA   FED     CPI  Prediction\n",
      "0  0.85  1.75  125.00       27.95\n",
      "1  0.86  1.76  125.01       27.97\n",
      "    RBA   FED     CPI  Prediction\n",
      "0  0.85  1.75  125.00       27.95\n",
      "1  0.86  1.76  125.01       27.97\n",
      "2  0.87  1.77  125.02       27.98\n",
      "    RBA   FED     CPI  Prediction\n",
      "0  0.85  1.75  125.00       27.95\n",
      "1  0.86  1.76  125.01       27.97\n",
      "2  0.87  1.77  125.02       27.98\n",
      "3  0.88  1.78  125.03       27.99\n",
      "    RBA   FED     CPI  Prediction\n",
      "0  0.85  1.75  125.00       27.95\n",
      "1  0.86  1.76  125.01       27.97\n",
      "2  0.87  1.77  125.02       27.98\n",
      "3  0.88  1.78  125.03       27.99\n",
      "4  0.89  1.79  125.04       28.01\n",
      "    RBA   FED     CPI  Prediction\n",
      "0  0.85  1.75  125.00       27.95\n",
      "1  0.86  1.76  125.01       27.97\n",
      "2  0.87  1.77  125.02       27.98\n",
      "3  0.88  1.78  125.03       27.99\n",
      "4  0.89  1.79  125.04       28.01\n",
      "5  0.90  1.80  125.05       28.02\n",
      "    RBA   FED     CPI  Prediction\n",
      "0  0.85  1.75  125.00       27.95\n",
      "1  0.86  1.76  125.01       27.97\n",
      "2  0.87  1.77  125.02       27.98\n",
      "3  0.88  1.78  125.03       27.99\n",
      "4  0.89  1.79  125.04       28.01\n",
      "5  0.90  1.80  125.05       28.02\n",
      "6  0.91  1.81  125.06       28.03\n",
      "    RBA   FED     CPI  Prediction\n",
      "0  0.85  1.75  125.00       27.95\n",
      "1  0.86  1.76  125.01       27.97\n",
      "2  0.87  1.77  125.02       27.98\n",
      "3  0.88  1.78  125.03       27.99\n",
      "4  0.89  1.79  125.04       28.01\n",
      "5  0.90  1.80  125.05       28.02\n",
      "6  0.91  1.81  125.06       28.03\n",
      "7  0.92  1.82  125.07       28.04\n",
      "    RBA   FED     CPI  Prediction\n",
      "0  0.85  1.75  125.00       27.95\n",
      "1  0.86  1.76  125.01       27.97\n",
      "2  0.87  1.77  125.02       27.98\n",
      "3  0.88  1.78  125.03       27.99\n",
      "4  0.89  1.79  125.04       28.01\n",
      "5  0.90  1.80  125.05       28.02\n",
      "6  0.91  1.81  125.06       28.03\n",
      "7  0.92  1.82  125.07       28.04\n",
      "8  0.93  1.83  125.08       28.06\n",
      "    RBA   FED     CPI  Prediction\n",
      "0  0.85  1.75  125.00       27.95\n",
      "1  0.86  1.76  125.01       27.97\n",
      "2  0.87  1.77  125.02       27.98\n",
      "3  0.88  1.78  125.03       27.99\n",
      "4  0.89  1.79  125.04       28.01\n",
      "5  0.90  1.80  125.05       28.02\n",
      "6  0.91  1.81  125.06       28.03\n",
      "7  0.92  1.82  125.07       28.04\n",
      "8  0.93  1.83  125.08       28.06\n",
      "9  0.94  1.84  125.09       28.07\n",
      "     RBA   FED     CPI  Prediction\n",
      "0   0.85  1.75  125.00       27.95\n",
      "1   0.86  1.76  125.01       27.97\n",
      "2   0.87  1.77  125.02       27.98\n",
      "3   0.88  1.78  125.03       27.99\n",
      "4   0.89  1.79  125.04       28.01\n",
      "5   0.90  1.80  125.05       28.02\n",
      "6   0.91  1.81  125.06       28.03\n",
      "7   0.92  1.82  125.07       28.04\n",
      "8   0.93  1.83  125.08       28.06\n",
      "9   0.94  1.84  125.09       28.07\n",
      "10  0.95  1.85  125.10       28.08\n",
      "     RBA   FED     CPI  Prediction\n",
      "0   0.85  1.75  125.00       27.95\n",
      "1   0.86  1.76  125.01       27.97\n",
      "2   0.87  1.77  125.02       27.98\n",
      "3   0.88  1.78  125.03       27.99\n",
      "4   0.89  1.79  125.04       28.01\n",
      "5   0.90  1.80  125.05       28.02\n",
      "6   0.91  1.81  125.06       28.03\n",
      "7   0.92  1.82  125.07       28.04\n",
      "8   0.93  1.83  125.08       28.06\n",
      "9   0.94  1.84  125.09       28.07\n",
      "10  0.95  1.85  125.10       28.08\n",
      "11  0.96  1.86  125.11       28.10\n",
      "     RBA   FED     CPI  Prediction\n",
      "0   0.85  1.75  125.00       27.95\n",
      "1   0.86  1.76  125.01       27.97\n",
      "2   0.87  1.77  125.02       27.98\n",
      "3   0.88  1.78  125.03       27.99\n",
      "4   0.89  1.79  125.04       28.01\n",
      "5   0.90  1.80  125.05       28.02\n",
      "6   0.91  1.81  125.06       28.03\n",
      "7   0.92  1.82  125.07       28.04\n",
      "8   0.93  1.83  125.08       28.06\n",
      "9   0.94  1.84  125.09       28.07\n",
      "10  0.95  1.85  125.10       28.08\n",
      "11  0.96  1.86  125.11       28.10\n",
      "12  0.97  1.87  125.12       28.11\n",
      "     RBA   FED     CPI  Prediction\n",
      "0   0.85  1.75  125.00       27.95\n",
      "1   0.86  1.76  125.01       27.97\n",
      "2   0.87  1.77  125.02       27.98\n",
      "3   0.88  1.78  125.03       27.99\n",
      "4   0.89  1.79  125.04       28.01\n",
      "5   0.90  1.80  125.05       28.02\n",
      "6   0.91  1.81  125.06       28.03\n",
      "7   0.92  1.82  125.07       28.04\n",
      "8   0.93  1.83  125.08       28.06\n",
      "9   0.94  1.84  125.09       28.07\n",
      "10  0.95  1.85  125.10       28.08\n",
      "11  0.96  1.86  125.11       28.10\n",
      "12  0.97  1.87  125.12       28.11\n",
      "13  0.98  1.88  125.13       28.12\n",
      "     RBA   FED     CPI  Prediction\n",
      "0   0.85  1.75  125.00       27.95\n",
      "1   0.86  1.76  125.01       27.97\n",
      "2   0.87  1.77  125.02       27.98\n",
      "3   0.88  1.78  125.03       27.99\n",
      "4   0.89  1.79  125.04       28.01\n",
      "5   0.90  1.80  125.05       28.02\n",
      "6   0.91  1.81  125.06       28.03\n",
      "7   0.92  1.82  125.07       28.04\n",
      "8   0.93  1.83  125.08       28.06\n",
      "9   0.94  1.84  125.09       28.07\n",
      "10  0.95  1.85  125.10       28.08\n",
      "11  0.96  1.86  125.11       28.10\n",
      "12  0.97  1.87  125.12       28.11\n",
      "13  0.98  1.88  125.13       28.12\n",
      "14  0.99  1.89  125.14       28.14\n",
      "     RBA   FED     CPI  Prediction\n",
      "0   0.85  1.75  125.00       27.95\n",
      "1   0.86  1.76  125.01       27.97\n",
      "2   0.87  1.77  125.02       27.98\n",
      "3   0.88  1.78  125.03       27.99\n",
      "4   0.89  1.79  125.04       28.01\n",
      "5   0.90  1.80  125.05       28.02\n",
      "6   0.91  1.81  125.06       28.03\n",
      "7   0.92  1.82  125.07       28.04\n",
      "8   0.93  1.83  125.08       28.06\n",
      "9   0.94  1.84  125.09       28.07\n",
      "10  0.95  1.85  125.10       28.08\n",
      "11  0.96  1.86  125.11       28.10\n",
      "12  0.97  1.87  125.12       28.11\n",
      "13  0.98  1.88  125.13       28.12\n",
      "14  0.99  1.89  125.14       28.14\n",
      "15  1.00  1.90  125.15       28.15\n",
      "     RBA   FED     CPI  Prediction\n",
      "0   0.85  1.75  125.00       27.95\n",
      "1   0.86  1.76  125.01       27.97\n",
      "2   0.87  1.77  125.02       27.98\n",
      "3   0.88  1.78  125.03       27.99\n",
      "4   0.89  1.79  125.04       28.01\n",
      "5   0.90  1.80  125.05       28.02\n",
      "6   0.91  1.81  125.06       28.03\n",
      "7   0.92  1.82  125.07       28.04\n",
      "8   0.93  1.83  125.08       28.06\n",
      "9   0.94  1.84  125.09       28.07\n",
      "10  0.95  1.85  125.10       28.08\n",
      "11  0.96  1.86  125.11       28.10\n",
      "12  0.97  1.87  125.12       28.11\n",
      "13  0.98  1.88  125.13       28.12\n",
      "14  0.99  1.89  125.14       28.14\n",
      "15  1.00  1.90  125.15       28.15\n",
      "16  1.01  1.91  125.16       28.16\n",
      "     RBA   FED     CPI  Prediction\n",
      "0   0.85  1.75  125.00       27.95\n",
      "1   0.86  1.76  125.01       27.97\n",
      "2   0.87  1.77  125.02       27.98\n",
      "3   0.88  1.78  125.03       27.99\n",
      "4   0.89  1.79  125.04       28.01\n",
      "5   0.90  1.80  125.05       28.02\n",
      "6   0.91  1.81  125.06       28.03\n",
      "7   0.92  1.82  125.07       28.04\n",
      "8   0.93  1.83  125.08       28.06\n",
      "9   0.94  1.84  125.09       28.07\n",
      "10  0.95  1.85  125.10       28.08\n",
      "11  0.96  1.86  125.11       28.10\n",
      "12  0.97  1.87  125.12       28.11\n",
      "13  0.98  1.88  125.13       28.12\n",
      "14  0.99  1.89  125.14       28.14\n",
      "15  1.00  1.90  125.15       28.15\n",
      "16  1.01  1.91  125.16       28.16\n",
      "17  1.02  1.92  125.17       28.17\n",
      "     RBA   FED     CPI  Prediction\n",
      "0   0.85  1.75  125.00       27.95\n",
      "1   0.86  1.76  125.01       27.97\n",
      "2   0.87  1.77  125.02       27.98\n",
      "3   0.88  1.78  125.03       27.99\n",
      "4   0.89  1.79  125.04       28.01\n",
      "5   0.90  1.80  125.05       28.02\n",
      "6   0.91  1.81  125.06       28.03\n",
      "7   0.92  1.82  125.07       28.04\n",
      "8   0.93  1.83  125.08       28.06\n",
      "9   0.94  1.84  125.09       28.07\n",
      "10  0.95  1.85  125.10       28.08\n",
      "11  0.96  1.86  125.11       28.10\n",
      "12  0.97  1.87  125.12       28.11\n",
      "13  0.98  1.88  125.13       28.12\n",
      "14  0.99  1.89  125.14       28.14\n",
      "15  1.00  1.90  125.15       28.15\n",
      "16  1.01  1.91  125.16       28.16\n",
      "17  1.02  1.92  125.17       28.17\n",
      "18  1.03  1.93  125.18       28.19\n",
      "     RBA   FED     CPI  Prediction\n",
      "0   0.85  1.75  125.00       27.95\n",
      "1   0.86  1.76  125.01       27.97\n",
      "2   0.87  1.77  125.02       27.98\n",
      "3   0.88  1.78  125.03       27.99\n",
      "4   0.89  1.79  125.04       28.01\n",
      "5   0.90  1.80  125.05       28.02\n",
      "6   0.91  1.81  125.06       28.03\n",
      "7   0.92  1.82  125.07       28.04\n",
      "8   0.93  1.83  125.08       28.06\n",
      "9   0.94  1.84  125.09       28.07\n",
      "10  0.95  1.85  125.10       28.08\n",
      "11  0.96  1.86  125.11       28.10\n",
      "12  0.97  1.87  125.12       28.11\n",
      "13  0.98  1.88  125.13       28.12\n",
      "14  0.99  1.89  125.14       28.14\n",
      "15  1.00  1.90  125.15       28.15\n",
      "16  1.01  1.91  125.16       28.16\n",
      "17  1.02  1.92  125.17       28.17\n",
      "18  1.03  1.93  125.18       28.19\n",
      "19  1.04  1.94  125.19       28.20\n",
      "     RBA   FED     CPI  Prediction\n",
      "0   0.85  1.75  125.00       27.95\n",
      "1   0.86  1.76  125.01       27.97\n",
      "2   0.87  1.77  125.02       27.98\n",
      "3   0.88  1.78  125.03       27.99\n",
      "4   0.89  1.79  125.04       28.01\n",
      "5   0.90  1.80  125.05       28.02\n",
      "6   0.91  1.81  125.06       28.03\n",
      "7   0.92  1.82  125.07       28.04\n",
      "8   0.93  1.83  125.08       28.06\n",
      "9   0.94  1.84  125.09       28.07\n",
      "10  0.95  1.85  125.10       28.08\n",
      "11  0.96  1.86  125.11       28.10\n",
      "12  0.97  1.87  125.12       28.11\n",
      "13  0.98  1.88  125.13       28.12\n",
      "14  0.99  1.89  125.14       28.14\n",
      "15  1.00  1.90  125.15       28.15\n",
      "16  1.01  1.91  125.16       28.16\n",
      "17  1.02  1.92  125.17       28.17\n",
      "18  1.03  1.93  125.18       28.19\n",
      "19  1.04  1.94  125.19       28.20\n",
      "20  1.05  1.95  125.20       28.21\n",
      "     RBA   FED     CPI  Prediction\n",
      "0   0.85  1.75  125.00       27.95\n",
      "1   0.86  1.76  125.01       27.97\n",
      "2   0.87  1.77  125.02       27.98\n",
      "3   0.88  1.78  125.03       27.99\n",
      "4   0.89  1.79  125.04       28.01\n",
      "5   0.90  1.80  125.05       28.02\n",
      "6   0.91  1.81  125.06       28.03\n",
      "7   0.92  1.82  125.07       28.04\n",
      "8   0.93  1.83  125.08       28.06\n",
      "9   0.94  1.84  125.09       28.07\n",
      "10  0.95  1.85  125.10       28.08\n",
      "11  0.96  1.86  125.11       28.10\n",
      "12  0.97  1.87  125.12       28.11\n",
      "13  0.98  1.88  125.13       28.12\n",
      "14  0.99  1.89  125.14       28.14\n",
      "15  1.00  1.90  125.15       28.15\n",
      "16  1.01  1.91  125.16       28.16\n",
      "17  1.02  1.92  125.17       28.17\n",
      "18  1.03  1.93  125.18       28.19\n",
      "19  1.04  1.94  125.19       28.20\n",
      "20  1.05  1.95  125.20       28.21\n",
      "21  1.06  1.96  125.21       28.23\n",
      "     RBA   FED     CPI  Prediction\n",
      "0   0.85  1.75  125.00       27.95\n",
      "1   0.86  1.76  125.01       27.97\n",
      "2   0.87  1.77  125.02       27.98\n",
      "3   0.88  1.78  125.03       27.99\n",
      "4   0.89  1.79  125.04       28.01\n",
      "5   0.90  1.80  125.05       28.02\n",
      "6   0.91  1.81  125.06       28.03\n",
      "7   0.92  1.82  125.07       28.04\n",
      "8   0.93  1.83  125.08       28.06\n",
      "9   0.94  1.84  125.09       28.07\n",
      "10  0.95  1.85  125.10       28.08\n",
      "11  0.96  1.86  125.11       28.10\n",
      "12  0.97  1.87  125.12       28.11\n",
      "13  0.98  1.88  125.13       28.12\n",
      "14  0.99  1.89  125.14       28.14\n",
      "15  1.00  1.90  125.15       28.15\n",
      "16  1.01  1.91  125.16       28.16\n",
      "17  1.02  1.92  125.17       28.17\n",
      "18  1.03  1.93  125.18       28.19\n",
      "19  1.04  1.94  125.19       28.20\n",
      "20  1.05  1.95  125.20       28.21\n",
      "21  1.06  1.96  125.21       28.23\n",
      "22  1.07  1.97  125.22       28.24\n",
      "     RBA   FED     CPI  Prediction\n",
      "0   0.85  1.75  125.00       27.95\n",
      "1   0.86  1.76  125.01       27.97\n",
      "2   0.87  1.77  125.02       27.98\n",
      "3   0.88  1.78  125.03       27.99\n",
      "4   0.89  1.79  125.04       28.01\n",
      "5   0.90  1.80  125.05       28.02\n",
      "6   0.91  1.81  125.06       28.03\n",
      "7   0.92  1.82  125.07       28.04\n",
      "8   0.93  1.83  125.08       28.06\n",
      "9   0.94  1.84  125.09       28.07\n",
      "10  0.95  1.85  125.10       28.08\n",
      "11  0.96  1.86  125.11       28.10\n",
      "12  0.97  1.87  125.12       28.11\n",
      "13  0.98  1.88  125.13       28.12\n",
      "14  0.99  1.89  125.14       28.14\n",
      "15  1.00  1.90  125.15       28.15\n",
      "16  1.01  1.91  125.16       28.16\n",
      "17  1.02  1.92  125.17       28.17\n",
      "18  1.03  1.93  125.18       28.19\n",
      "19  1.04  1.94  125.19       28.20\n",
      "20  1.05  1.95  125.20       28.21\n",
      "21  1.06  1.96  125.21       28.23\n",
      "22  1.07  1.97  125.22       28.24\n",
      "23  1.08  1.98  125.23       28.25\n",
      "     RBA   FED     CPI  Prediction\n",
      "0   0.85  1.75  125.00       27.95\n",
      "1   0.86  1.76  125.01       27.97\n",
      "2   0.87  1.77  125.02       27.98\n",
      "3   0.88  1.78  125.03       27.99\n",
      "4   0.89  1.79  125.04       28.01\n",
      "5   0.90  1.80  125.05       28.02\n",
      "6   0.91  1.81  125.06       28.03\n",
      "7   0.92  1.82  125.07       28.04\n",
      "8   0.93  1.83  125.08       28.06\n",
      "9   0.94  1.84  125.09       28.07\n",
      "10  0.95  1.85  125.10       28.08\n",
      "11  0.96  1.86  125.11       28.10\n",
      "12  0.97  1.87  125.12       28.11\n",
      "13  0.98  1.88  125.13       28.12\n",
      "14  0.99  1.89  125.14       28.14\n",
      "15  1.00  1.90  125.15       28.15\n",
      "16  1.01  1.91  125.16       28.16\n",
      "17  1.02  1.92  125.17       28.17\n",
      "18  1.03  1.93  125.18       28.19\n",
      "19  1.04  1.94  125.19       28.20\n",
      "20  1.05  1.95  125.20       28.21\n",
      "21  1.06  1.96  125.21       28.23\n",
      "22  1.07  1.97  125.22       28.24\n",
      "23  1.08  1.98  125.23       28.25\n",
      "24  1.09  1.99  125.24       28.26\n",
      "     RBA   FED     CPI  Prediction\n",
      "0   0.85  1.75  125.00       27.95\n",
      "1   0.86  1.76  125.01       27.97\n",
      "2   0.87  1.77  125.02       27.98\n",
      "3   0.88  1.78  125.03       27.99\n",
      "4   0.89  1.79  125.04       28.01\n",
      "5   0.90  1.80  125.05       28.02\n",
      "6   0.91  1.81  125.06       28.03\n",
      "7   0.92  1.82  125.07       28.04\n",
      "8   0.93  1.83  125.08       28.06\n",
      "9   0.94  1.84  125.09       28.07\n",
      "10  0.95  1.85  125.10       28.08\n",
      "11  0.96  1.86  125.11       28.10\n",
      "12  0.97  1.87  125.12       28.11\n",
      "13  0.98  1.88  125.13       28.12\n",
      "14  0.99  1.89  125.14       28.14\n",
      "15  1.00  1.90  125.15       28.15\n",
      "16  1.01  1.91  125.16       28.16\n",
      "17  1.02  1.92  125.17       28.17\n",
      "18  1.03  1.93  125.18       28.19\n",
      "19  1.04  1.94  125.19       28.20\n",
      "20  1.05  1.95  125.20       28.21\n",
      "21  1.06  1.96  125.21       28.23\n",
      "22  1.07  1.97  125.22       28.24\n",
      "23  1.08  1.98  125.23       28.25\n",
      "24  1.09  1.99  125.24       28.26\n",
      "25  1.10  2.00  125.25       28.28\n",
      "     RBA   FED     CPI  Prediction\n",
      "0   0.85  1.75  125.00       27.95\n",
      "1   0.86  1.76  125.01       27.97\n",
      "2   0.87  1.77  125.02       27.98\n",
      "3   0.88  1.78  125.03       27.99\n",
      "4   0.89  1.79  125.04       28.01\n",
      "5   0.90  1.80  125.05       28.02\n",
      "6   0.91  1.81  125.06       28.03\n",
      "7   0.92  1.82  125.07       28.04\n",
      "8   0.93  1.83  125.08       28.06\n",
      "9   0.94  1.84  125.09       28.07\n",
      "10  0.95  1.85  125.10       28.08\n",
      "11  0.96  1.86  125.11       28.10\n",
      "12  0.97  1.87  125.12       28.11\n",
      "13  0.98  1.88  125.13       28.12\n",
      "14  0.99  1.89  125.14       28.14\n",
      "15  1.00  1.90  125.15       28.15\n",
      "16  1.01  1.91  125.16       28.16\n",
      "17  1.02  1.92  125.17       28.17\n",
      "18  1.03  1.93  125.18       28.19\n",
      "19  1.04  1.94  125.19       28.20\n",
      "20  1.05  1.95  125.20       28.21\n",
      "21  1.06  1.96  125.21       28.23\n",
      "22  1.07  1.97  125.22       28.24\n",
      "23  1.08  1.98  125.23       28.25\n",
      "24  1.09  1.99  125.24       28.26\n",
      "25  1.10  2.00  125.25       28.28\n",
      "26  1.11  2.01  125.26       28.29\n",
      "     RBA   FED     CPI  Prediction\n",
      "0   0.85  1.75  125.00       27.95\n",
      "1   0.86  1.76  125.01       27.97\n",
      "2   0.87  1.77  125.02       27.98\n",
      "3   0.88  1.78  125.03       27.99\n",
      "4   0.89  1.79  125.04       28.01\n",
      "5   0.90  1.80  125.05       28.02\n",
      "6   0.91  1.81  125.06       28.03\n",
      "7   0.92  1.82  125.07       28.04\n",
      "8   0.93  1.83  125.08       28.06\n",
      "9   0.94  1.84  125.09       28.07\n",
      "10  0.95  1.85  125.10       28.08\n",
      "11  0.96  1.86  125.11       28.10\n",
      "12  0.97  1.87  125.12       28.11\n",
      "13  0.98  1.88  125.13       28.12\n",
      "14  0.99  1.89  125.14       28.14\n",
      "15  1.00  1.90  125.15       28.15\n",
      "16  1.01  1.91  125.16       28.16\n",
      "17  1.02  1.92  125.17       28.17\n",
      "18  1.03  1.93  125.18       28.19\n",
      "19  1.04  1.94  125.19       28.20\n",
      "20  1.05  1.95  125.20       28.21\n",
      "21  1.06  1.96  125.21       28.23\n",
      "22  1.07  1.97  125.22       28.24\n",
      "23  1.08  1.98  125.23       28.25\n",
      "24  1.09  1.99  125.24       28.26\n",
      "25  1.10  2.00  125.25       28.28\n",
      "26  1.11  2.01  125.26       28.29\n",
      "27  1.12  2.02  125.27       28.30\n",
      "     RBA   FED     CPI  Prediction\n",
      "0   0.85  1.75  125.00       27.95\n",
      "1   0.86  1.76  125.01       27.97\n",
      "2   0.87  1.77  125.02       27.98\n",
      "3   0.88  1.78  125.03       27.99\n",
      "4   0.89  1.79  125.04       28.01\n",
      "5   0.90  1.80  125.05       28.02\n",
      "6   0.91  1.81  125.06       28.03\n",
      "7   0.92  1.82  125.07       28.04\n",
      "8   0.93  1.83  125.08       28.06\n",
      "9   0.94  1.84  125.09       28.07\n",
      "10  0.95  1.85  125.10       28.08\n",
      "11  0.96  1.86  125.11       28.10\n",
      "12  0.97  1.87  125.12       28.11\n",
      "13  0.98  1.88  125.13       28.12\n",
      "14  0.99  1.89  125.14       28.14\n",
      "15  1.00  1.90  125.15       28.15\n",
      "16  1.01  1.91  125.16       28.16\n",
      "17  1.02  1.92  125.17       28.17\n",
      "18  1.03  1.93  125.18       28.19\n",
      "19  1.04  1.94  125.19       28.20\n",
      "20  1.05  1.95  125.20       28.21\n",
      "21  1.06  1.96  125.21       28.23\n",
      "22  1.07  1.97  125.22       28.24\n",
      "23  1.08  1.98  125.23       28.25\n",
      "24  1.09  1.99  125.24       28.26\n",
      "25  1.10  2.00  125.25       28.28\n",
      "26  1.11  2.01  125.26       28.29\n",
      "27  1.12  2.02  125.27       28.30\n",
      "28  1.13  2.03  125.28       28.32\n",
      "     RBA   FED     CPI  Prediction\n",
      "0   0.85  1.75  125.00       27.95\n",
      "1   0.86  1.76  125.01       27.97\n",
      "2   0.87  1.77  125.02       27.98\n",
      "3   0.88  1.78  125.03       27.99\n",
      "4   0.89  1.79  125.04       28.01\n",
      "5   0.90  1.80  125.05       28.02\n",
      "6   0.91  1.81  125.06       28.03\n",
      "7   0.92  1.82  125.07       28.04\n",
      "8   0.93  1.83  125.08       28.06\n",
      "9   0.94  1.84  125.09       28.07\n",
      "10  0.95  1.85  125.10       28.08\n",
      "11  0.96  1.86  125.11       28.10\n",
      "12  0.97  1.87  125.12       28.11\n",
      "13  0.98  1.88  125.13       28.12\n",
      "14  0.99  1.89  125.14       28.14\n",
      "15  1.00  1.90  125.15       28.15\n",
      "16  1.01  1.91  125.16       28.16\n",
      "17  1.02  1.92  125.17       28.17\n",
      "18  1.03  1.93  125.18       28.19\n",
      "19  1.04  1.94  125.19       28.20\n",
      "20  1.05  1.95  125.20       28.21\n",
      "21  1.06  1.96  125.21       28.23\n",
      "22  1.07  1.97  125.22       28.24\n",
      "23  1.08  1.98  125.23       28.25\n",
      "24  1.09  1.99  125.24       28.26\n",
      "25  1.10  2.00  125.25       28.28\n",
      "26  1.11  2.01  125.26       28.29\n",
      "27  1.12  2.02  125.27       28.30\n",
      "28  1.13  2.03  125.28       28.32\n",
      "29  1.14  2.04  125.29       28.33\n",
      "     RBA   FED     CPI  Prediction\n",
      "0   0.85  1.75  125.00       27.95\n",
      "1   0.86  1.76  125.01       27.97\n",
      "2   0.87  1.77  125.02       27.98\n",
      "3   0.88  1.78  125.03       27.99\n",
      "4   0.89  1.79  125.04       28.01\n",
      "5   0.90  1.80  125.05       28.02\n",
      "6   0.91  1.81  125.06       28.03\n",
      "7   0.92  1.82  125.07       28.04\n",
      "8   0.93  1.83  125.08       28.06\n",
      "9   0.94  1.84  125.09       28.07\n",
      "10  0.95  1.85  125.10       28.08\n",
      "11  0.96  1.86  125.11       28.10\n",
      "12  0.97  1.87  125.12       28.11\n",
      "13  0.98  1.88  125.13       28.12\n",
      "14  0.99  1.89  125.14       28.14\n",
      "15  1.00  1.90  125.15       28.15\n",
      "16  1.01  1.91  125.16       28.16\n",
      "17  1.02  1.92  125.17       28.17\n",
      "18  1.03  1.93  125.18       28.19\n",
      "19  1.04  1.94  125.19       28.20\n",
      "20  1.05  1.95  125.20       28.21\n",
      "21  1.06  1.96  125.21       28.23\n",
      "22  1.07  1.97  125.22       28.24\n",
      "23  1.08  1.98  125.23       28.25\n",
      "24  1.09  1.99  125.24       28.26\n",
      "25  1.10  2.00  125.25       28.28\n",
      "26  1.11  2.01  125.26       28.29\n",
      "27  1.12  2.02  125.27       28.30\n",
      "28  1.13  2.03  125.28       28.32\n",
      "29  1.14  2.04  125.29       28.33\n",
      "30  1.15  2.05  125.30       28.34\n",
      "     RBA   FED     CPI  Prediction\n",
      "0   0.85  1.75  125.00       27.95\n",
      "1   0.86  1.76  125.01       27.97\n",
      "2   0.87  1.77  125.02       27.98\n",
      "3   0.88  1.78  125.03       27.99\n",
      "4   0.89  1.79  125.04       28.01\n",
      "5   0.90  1.80  125.05       28.02\n",
      "6   0.91  1.81  125.06       28.03\n",
      "7   0.92  1.82  125.07       28.04\n",
      "8   0.93  1.83  125.08       28.06\n",
      "9   0.94  1.84  125.09       28.07\n",
      "10  0.95  1.85  125.10       28.08\n",
      "11  0.96  1.86  125.11       28.10\n",
      "12  0.97  1.87  125.12       28.11\n",
      "13  0.98  1.88  125.13       28.12\n",
      "14  0.99  1.89  125.14       28.14\n",
      "15  1.00  1.90  125.15       28.15\n",
      "16  1.01  1.91  125.16       28.16\n",
      "17  1.02  1.92  125.17       28.17\n",
      "18  1.03  1.93  125.18       28.19\n",
      "19  1.04  1.94  125.19       28.20\n",
      "20  1.05  1.95  125.20       28.21\n",
      "21  1.06  1.96  125.21       28.23\n",
      "22  1.07  1.97  125.22       28.24\n",
      "23  1.08  1.98  125.23       28.25\n",
      "24  1.09  1.99  125.24       28.26\n",
      "25  1.10  2.00  125.25       28.28\n",
      "26  1.11  2.01  125.26       28.29\n",
      "27  1.12  2.02  125.27       28.30\n",
      "28  1.13  2.03  125.28       28.32\n",
      "29  1.14  2.04  125.29       28.33\n",
      "30  1.15  2.05  125.30       28.34\n",
      "31  1.16  2.06  125.31       28.36\n",
      "     RBA   FED     CPI  Prediction\n",
      "0   0.85  1.75  125.00       27.95\n",
      "1   0.86  1.76  125.01       27.97\n",
      "2   0.87  1.77  125.02       27.98\n",
      "3   0.88  1.78  125.03       27.99\n",
      "4   0.89  1.79  125.04       28.01\n",
      "5   0.90  1.80  125.05       28.02\n",
      "6   0.91  1.81  125.06       28.03\n",
      "7   0.92  1.82  125.07       28.04\n",
      "8   0.93  1.83  125.08       28.06\n",
      "9   0.94  1.84  125.09       28.07\n",
      "10  0.95  1.85  125.10       28.08\n",
      "11  0.96  1.86  125.11       28.10\n",
      "12  0.97  1.87  125.12       28.11\n",
      "13  0.98  1.88  125.13       28.12\n",
      "14  0.99  1.89  125.14       28.14\n",
      "15  1.00  1.90  125.15       28.15\n",
      "16  1.01  1.91  125.16       28.16\n",
      "17  1.02  1.92  125.17       28.17\n",
      "18  1.03  1.93  125.18       28.19\n",
      "19  1.04  1.94  125.19       28.20\n",
      "20  1.05  1.95  125.20       28.21\n",
      "21  1.06  1.96  125.21       28.23\n",
      "22  1.07  1.97  125.22       28.24\n",
      "23  1.08  1.98  125.23       28.25\n",
      "24  1.09  1.99  125.24       28.26\n",
      "25  1.10  2.00  125.25       28.28\n",
      "26  1.11  2.01  125.26       28.29\n",
      "27  1.12  2.02  125.27       28.30\n",
      "28  1.13  2.03  125.28       28.32\n",
      "29  1.14  2.04  125.29       28.33\n",
      "30  1.15  2.05  125.30       28.34\n",
      "31  1.16  2.06  125.31       28.36\n",
      "32  1.17  2.07  125.32       28.37\n",
      "     RBA   FED     CPI  Prediction\n",
      "0   0.85  1.75  125.00       27.95\n",
      "1   0.86  1.76  125.01       27.97\n",
      "2   0.87  1.77  125.02       27.98\n",
      "3   0.88  1.78  125.03       27.99\n",
      "4   0.89  1.79  125.04       28.01\n",
      "5   0.90  1.80  125.05       28.02\n",
      "6   0.91  1.81  125.06       28.03\n",
      "7   0.92  1.82  125.07       28.04\n",
      "8   0.93  1.83  125.08       28.06\n",
      "9   0.94  1.84  125.09       28.07\n",
      "10  0.95  1.85  125.10       28.08\n",
      "11  0.96  1.86  125.11       28.10\n",
      "12  0.97  1.87  125.12       28.11\n",
      "13  0.98  1.88  125.13       28.12\n",
      "14  0.99  1.89  125.14       28.14\n",
      "15  1.00  1.90  125.15       28.15\n",
      "16  1.01  1.91  125.16       28.16\n",
      "17  1.02  1.92  125.17       28.17\n",
      "18  1.03  1.93  125.18       28.19\n",
      "19  1.04  1.94  125.19       28.20\n",
      "20  1.05  1.95  125.20       28.21\n",
      "21  1.06  1.96  125.21       28.23\n",
      "22  1.07  1.97  125.22       28.24\n",
      "23  1.08  1.98  125.23       28.25\n",
      "24  1.09  1.99  125.24       28.26\n",
      "25  1.10  2.00  125.25       28.28\n",
      "26  1.11  2.01  125.26       28.29\n",
      "27  1.12  2.02  125.27       28.30\n",
      "28  1.13  2.03  125.28       28.32\n",
      "29  1.14  2.04  125.29       28.33\n",
      "30  1.15  2.05  125.30       28.34\n",
      "31  1.16  2.06  125.31       28.36\n",
      "32  1.17  2.07  125.32       28.37\n",
      "33  1.18  2.08  125.33       28.38\n",
      "     RBA   FED     CPI  Prediction\n",
      "0   0.85  1.75  125.00       27.95\n",
      "1   0.86  1.76  125.01       27.97\n",
      "2   0.87  1.77  125.02       27.98\n",
      "3   0.88  1.78  125.03       27.99\n",
      "4   0.89  1.79  125.04       28.01\n",
      "5   0.90  1.80  125.05       28.02\n",
      "6   0.91  1.81  125.06       28.03\n",
      "7   0.92  1.82  125.07       28.04\n",
      "8   0.93  1.83  125.08       28.06\n",
      "9   0.94  1.84  125.09       28.07\n",
      "10  0.95  1.85  125.10       28.08\n",
      "11  0.96  1.86  125.11       28.10\n",
      "12  0.97  1.87  125.12       28.11\n",
      "13  0.98  1.88  125.13       28.12\n",
      "14  0.99  1.89  125.14       28.14\n",
      "15  1.00  1.90  125.15       28.15\n",
      "16  1.01  1.91  125.16       28.16\n",
      "17  1.02  1.92  125.17       28.17\n",
      "18  1.03  1.93  125.18       28.19\n",
      "19  1.04  1.94  125.19       28.20\n",
      "20  1.05  1.95  125.20       28.21\n",
      "21  1.06  1.96  125.21       28.23\n",
      "22  1.07  1.97  125.22       28.24\n",
      "23  1.08  1.98  125.23       28.25\n",
      "24  1.09  1.99  125.24       28.26\n",
      "25  1.10  2.00  125.25       28.28\n",
      "26  1.11  2.01  125.26       28.29\n",
      "27  1.12  2.02  125.27       28.30\n",
      "28  1.13  2.03  125.28       28.32\n",
      "29  1.14  2.04  125.29       28.33\n",
      "30  1.15  2.05  125.30       28.34\n",
      "31  1.16  2.06  125.31       28.36\n",
      "32  1.17  2.07  125.32       28.37\n",
      "33  1.18  2.08  125.33       28.38\n",
      "34  1.19  2.09  125.34       28.39\n",
      "     RBA   FED     CPI  Prediction\n",
      "0   0.85  1.75  125.00       27.95\n",
      "1   0.86  1.76  125.01       27.97\n",
      "2   0.87  1.77  125.02       27.98\n",
      "3   0.88  1.78  125.03       27.99\n",
      "4   0.89  1.79  125.04       28.01\n",
      "5   0.90  1.80  125.05       28.02\n",
      "6   0.91  1.81  125.06       28.03\n",
      "7   0.92  1.82  125.07       28.04\n",
      "8   0.93  1.83  125.08       28.06\n",
      "9   0.94  1.84  125.09       28.07\n",
      "10  0.95  1.85  125.10       28.08\n",
      "11  0.96  1.86  125.11       28.10\n",
      "12  0.97  1.87  125.12       28.11\n",
      "13  0.98  1.88  125.13       28.12\n",
      "14  0.99  1.89  125.14       28.14\n",
      "15  1.00  1.90  125.15       28.15\n",
      "16  1.01  1.91  125.16       28.16\n",
      "17  1.02  1.92  125.17       28.17\n",
      "18  1.03  1.93  125.18       28.19\n",
      "19  1.04  1.94  125.19       28.20\n",
      "20  1.05  1.95  125.20       28.21\n",
      "21  1.06  1.96  125.21       28.23\n",
      "22  1.07  1.97  125.22       28.24\n",
      "23  1.08  1.98  125.23       28.25\n",
      "24  1.09  1.99  125.24       28.26\n",
      "25  1.10  2.00  125.25       28.28\n",
      "26  1.11  2.01  125.26       28.29\n",
      "27  1.12  2.02  125.27       28.30\n",
      "28  1.13  2.03  125.28       28.32\n",
      "29  1.14  2.04  125.29       28.33\n",
      "30  1.15  2.05  125.30       28.34\n",
      "31  1.16  2.06  125.31       28.36\n",
      "32  1.17  2.07  125.32       28.37\n",
      "33  1.18  2.08  125.33       28.38\n",
      "34  1.19  2.09  125.34       28.39\n",
      "35  1.20  2.10  125.35       28.41\n",
      "     RBA   FED     CPI  Prediction\n",
      "0   0.85  1.75  125.00       27.95\n",
      "1   0.86  1.76  125.01       27.97\n",
      "2   0.87  1.77  125.02       27.98\n",
      "3   0.88  1.78  125.03       27.99\n",
      "4   0.89  1.79  125.04       28.01\n",
      "5   0.90  1.80  125.05       28.02\n",
      "6   0.91  1.81  125.06       28.03\n",
      "7   0.92  1.82  125.07       28.04\n",
      "8   0.93  1.83  125.08       28.06\n",
      "9   0.94  1.84  125.09       28.07\n",
      "10  0.95  1.85  125.10       28.08\n",
      "11  0.96  1.86  125.11       28.10\n",
      "12  0.97  1.87  125.12       28.11\n",
      "13  0.98  1.88  125.13       28.12\n",
      "14  0.99  1.89  125.14       28.14\n",
      "15  1.00  1.90  125.15       28.15\n",
      "16  1.01  1.91  125.16       28.16\n",
      "17  1.02  1.92  125.17       28.17\n",
      "18  1.03  1.93  125.18       28.19\n",
      "19  1.04  1.94  125.19       28.20\n",
      "20  1.05  1.95  125.20       28.21\n",
      "21  1.06  1.96  125.21       28.23\n",
      "22  1.07  1.97  125.22       28.24\n",
      "23  1.08  1.98  125.23       28.25\n",
      "24  1.09  1.99  125.24       28.26\n",
      "25  1.10  2.00  125.25       28.28\n",
      "26  1.11  2.01  125.26       28.29\n",
      "27  1.12  2.02  125.27       28.30\n",
      "28  1.13  2.03  125.28       28.32\n",
      "29  1.14  2.04  125.29       28.33\n",
      "30  1.15  2.05  125.30       28.34\n",
      "31  1.16  2.06  125.31       28.36\n",
      "32  1.17  2.07  125.32       28.37\n",
      "33  1.18  2.08  125.33       28.38\n",
      "34  1.19  2.09  125.34       28.39\n",
      "35  1.20  2.10  125.35       28.41\n",
      "36  1.21  2.11  125.36       28.42\n",
      "     RBA   FED     CPI  Prediction\n",
      "0   0.85  1.75  125.00       27.95\n",
      "1   0.86  1.76  125.01       27.97\n",
      "2   0.87  1.77  125.02       27.98\n",
      "3   0.88  1.78  125.03       27.99\n",
      "4   0.89  1.79  125.04       28.01\n",
      "5   0.90  1.80  125.05       28.02\n",
      "6   0.91  1.81  125.06       28.03\n",
      "7   0.92  1.82  125.07       28.04\n",
      "8   0.93  1.83  125.08       28.06\n",
      "9   0.94  1.84  125.09       28.07\n",
      "10  0.95  1.85  125.10       28.08\n",
      "11  0.96  1.86  125.11       28.10\n",
      "12  0.97  1.87  125.12       28.11\n",
      "13  0.98  1.88  125.13       28.12\n",
      "14  0.99  1.89  125.14       28.14\n",
      "15  1.00  1.90  125.15       28.15\n",
      "16  1.01  1.91  125.16       28.16\n",
      "17  1.02  1.92  125.17       28.17\n",
      "18  1.03  1.93  125.18       28.19\n",
      "19  1.04  1.94  125.19       28.20\n",
      "20  1.05  1.95  125.20       28.21\n",
      "21  1.06  1.96  125.21       28.23\n",
      "22  1.07  1.97  125.22       28.24\n",
      "23  1.08  1.98  125.23       28.25\n",
      "24  1.09  1.99  125.24       28.26\n",
      "25  1.10  2.00  125.25       28.28\n",
      "26  1.11  2.01  125.26       28.29\n",
      "27  1.12  2.02  125.27       28.30\n",
      "28  1.13  2.03  125.28       28.32\n",
      "29  1.14  2.04  125.29       28.33\n",
      "30  1.15  2.05  125.30       28.34\n",
      "31  1.16  2.06  125.31       28.36\n",
      "32  1.17  2.07  125.32       28.37\n",
      "33  1.18  2.08  125.33       28.38\n",
      "34  1.19  2.09  125.34       28.39\n",
      "35  1.20  2.10  125.35       28.41\n",
      "36  1.21  2.11  125.36       28.42\n",
      "37  1.22  2.12  125.37       28.43\n",
      "     RBA   FED     CPI  Prediction\n",
      "0   0.85  1.75  125.00       27.95\n",
      "1   0.86  1.76  125.01       27.97\n",
      "2   0.87  1.77  125.02       27.98\n",
      "3   0.88  1.78  125.03       27.99\n",
      "4   0.89  1.79  125.04       28.01\n",
      "5   0.90  1.80  125.05       28.02\n",
      "6   0.91  1.81  125.06       28.03\n",
      "7   0.92  1.82  125.07       28.04\n",
      "8   0.93  1.83  125.08       28.06\n",
      "9   0.94  1.84  125.09       28.07\n",
      "10  0.95  1.85  125.10       28.08\n",
      "11  0.96  1.86  125.11       28.10\n",
      "12  0.97  1.87  125.12       28.11\n",
      "13  0.98  1.88  125.13       28.12\n",
      "14  0.99  1.89  125.14       28.14\n",
      "15  1.00  1.90  125.15       28.15\n",
      "16  1.01  1.91  125.16       28.16\n",
      "17  1.02  1.92  125.17       28.17\n",
      "18  1.03  1.93  125.18       28.19\n",
      "19  1.04  1.94  125.19       28.20\n",
      "20  1.05  1.95  125.20       28.21\n",
      "21  1.06  1.96  125.21       28.23\n",
      "22  1.07  1.97  125.22       28.24\n",
      "23  1.08  1.98  125.23       28.25\n",
      "24  1.09  1.99  125.24       28.26\n",
      "25  1.10  2.00  125.25       28.28\n",
      "26  1.11  2.01  125.26       28.29\n",
      "27  1.12  2.02  125.27       28.30\n",
      "28  1.13  2.03  125.28       28.32\n",
      "29  1.14  2.04  125.29       28.33\n",
      "30  1.15  2.05  125.30       28.34\n",
      "31  1.16  2.06  125.31       28.36\n",
      "32  1.17  2.07  125.32       28.37\n",
      "33  1.18  2.08  125.33       28.38\n",
      "34  1.19  2.09  125.34       28.39\n",
      "35  1.20  2.10  125.35       28.41\n",
      "36  1.21  2.11  125.36       28.42\n",
      "37  1.22  2.12  125.37       28.43\n",
      "38  1.23  2.13  125.38       28.45\n",
      "     RBA   FED     CPI  Prediction\n",
      "0   0.85  1.75  125.00       27.95\n",
      "1   0.86  1.76  125.01       27.97\n",
      "2   0.87  1.77  125.02       27.98\n",
      "3   0.88  1.78  125.03       27.99\n",
      "4   0.89  1.79  125.04       28.01\n",
      "5   0.90  1.80  125.05       28.02\n",
      "6   0.91  1.81  125.06       28.03\n",
      "7   0.92  1.82  125.07       28.04\n",
      "8   0.93  1.83  125.08       28.06\n",
      "9   0.94  1.84  125.09       28.07\n",
      "10  0.95  1.85  125.10       28.08\n",
      "11  0.96  1.86  125.11       28.10\n",
      "12  0.97  1.87  125.12       28.11\n",
      "13  0.98  1.88  125.13       28.12\n",
      "14  0.99  1.89  125.14       28.14\n",
      "15  1.00  1.90  125.15       28.15\n",
      "16  1.01  1.91  125.16       28.16\n",
      "17  1.02  1.92  125.17       28.17\n",
      "18  1.03  1.93  125.18       28.19\n",
      "19  1.04  1.94  125.19       28.20\n",
      "20  1.05  1.95  125.20       28.21\n",
      "21  1.06  1.96  125.21       28.23\n",
      "22  1.07  1.97  125.22       28.24\n",
      "23  1.08  1.98  125.23       28.25\n",
      "24  1.09  1.99  125.24       28.26\n",
      "25  1.10  2.00  125.25       28.28\n",
      "26  1.11  2.01  125.26       28.29\n",
      "27  1.12  2.02  125.27       28.30\n",
      "28  1.13  2.03  125.28       28.32\n",
      "29  1.14  2.04  125.29       28.33\n",
      "30  1.15  2.05  125.30       28.34\n",
      "31  1.16  2.06  125.31       28.36\n",
      "32  1.17  2.07  125.32       28.37\n",
      "33  1.18  2.08  125.33       28.38\n",
      "34  1.19  2.09  125.34       28.39\n",
      "35  1.20  2.10  125.35       28.41\n",
      "36  1.21  2.11  125.36       28.42\n",
      "37  1.22  2.12  125.37       28.43\n",
      "38  1.23  2.13  125.38       28.45\n",
      "39  1.24  2.14  125.39       28.46\n",
      "[{'RBA': 0.85, 'FED': 1.75, 'CPI': 125.0, 'Prediction': 27.95}, {'RBA': 0.86, 'FED': 1.76, 'CPI': 125.01, 'Prediction': 27.97}, {'RBA': 0.87, 'FED': 1.77, 'CPI': 125.02, 'Prediction': 27.98}, {'RBA': 0.88, 'FED': 1.78, 'CPI': 125.03, 'Prediction': 27.99}, {'RBA': 0.89, 'FED': 1.79, 'CPI': 125.04, 'Prediction': 28.01}, {'RBA': 0.9, 'FED': 1.8, 'CPI': 125.05, 'Prediction': 28.02}, {'RBA': 0.91, 'FED': 1.81, 'CPI': 125.06, 'Prediction': 28.03}, {'RBA': 0.92, 'FED': 1.82, 'CPI': 125.07, 'Prediction': 28.04}, {'RBA': 0.93, 'FED': 1.83, 'CPI': 125.08, 'Prediction': 28.06}, {'RBA': 0.94, 'FED': 1.84, 'CPI': 125.09, 'Prediction': 28.07}, {'RBA': 0.95, 'FED': 1.85, 'CPI': 125.1, 'Prediction': 28.08}, {'RBA': 0.96, 'FED': 1.86, 'CPI': 125.11, 'Prediction': 28.1}, {'RBA': 0.97, 'FED': 1.87, 'CPI': 125.12, 'Prediction': 28.11}, {'RBA': 0.98, 'FED': 1.88, 'CPI': 125.13, 'Prediction': 28.12}, {'RBA': 0.99, 'FED': 1.89, 'CPI': 125.14, 'Prediction': 28.14}, {'RBA': 1.0, 'FED': 1.9, 'CPI': 125.15, 'Prediction': 28.15}, {'RBA': 1.01, 'FED': 1.91, 'CPI': 125.16, 'Prediction': 28.16}, {'RBA': 1.02, 'FED': 1.92, 'CPI': 125.17, 'Prediction': 28.17}, {'RBA': 1.03, 'FED': 1.93, 'CPI': 125.18, 'Prediction': 28.19}, {'RBA': 1.04, 'FED': 1.94, 'CPI': 125.19, 'Prediction': 28.2}, {'RBA': 1.05, 'FED': 1.95, 'CPI': 125.2, 'Prediction': 28.21}, {'RBA': 1.06, 'FED': 1.96, 'CPI': 125.21, 'Prediction': 28.23}, {'RBA': 1.07, 'FED': 1.97, 'CPI': 125.22, 'Prediction': 28.24}, {'RBA': 1.08, 'FED': 1.98, 'CPI': 125.23, 'Prediction': 28.25}, {'RBA': 1.09, 'FED': 1.99, 'CPI': 125.24, 'Prediction': 28.26}, {'RBA': 1.1, 'FED': 2.0, 'CPI': 125.25, 'Prediction': 28.28}, {'RBA': 1.11, 'FED': 2.01, 'CPI': 125.26, 'Prediction': 28.29}, {'RBA': 1.12, 'FED': 2.02, 'CPI': 125.27, 'Prediction': 28.3}, {'RBA': 1.13, 'FED': 2.03, 'CPI': 125.28, 'Prediction': 28.32}, {'RBA': 1.14, 'FED': 2.04, 'CPI': 125.29, 'Prediction': 28.33}, {'RBA': 1.15, 'FED': 2.05, 'CPI': 125.3, 'Prediction': 28.34}, {'RBA': 1.16, 'FED': 2.06, 'CPI': 125.31, 'Prediction': 28.36}, {'RBA': 1.17, 'FED': 2.07, 'CPI': 125.32, 'Prediction': 28.37}, {'RBA': 1.18, 'FED': 2.08, 'CPI': 125.33, 'Prediction': 28.38}, {'RBA': 1.19, 'FED': 2.09, 'CPI': 125.34, 'Prediction': 28.39}, {'RBA': 1.2, 'FED': 2.1, 'CPI': 125.35, 'Prediction': 28.41}, {'RBA': 1.21, 'FED': 2.11, 'CPI': 125.36, 'Prediction': 28.42}, {'RBA': 1.22, 'FED': 2.12, 'CPI': 125.37, 'Prediction': 28.43}, {'RBA': 1.23, 'FED': 2.13, 'CPI': 125.38, 'Prediction': 28.45}, {'RBA': 1.24, 'FED': 2.14, 'CPI': 125.39, 'Prediction': 28.46}]\n"
     ]
    }
   ],
   "source": [
    "rba = float(0.85)\n",
    "fed = float(1.75)\n",
    "cpi = float(125.00)\n",
    "input =40\n",
    "rfr=[]\n",
    "\n",
    "def randomforest(rba,fed,cpi):\n",
    "    for i in range(0,input):\n",
    "      rfr.append([rba,fed,cpi])\n",
    "      np.round_(rfr,2,out = None) \n",
    "      df = pd.DataFrame(rfr, columns = ['RBA','FED',\"CPI\"])\n",
    "      df.round(2)\n",
    "      pred_rf=model_in_rfr.predict(df)\n",
    "      df['Prediction'] = pred_rf\n",
    "      df['Prediction'] = df['Prediction'].astype(float).round(2)\n",
    "      rba+=0.01\n",
    "      fed+=0.01\n",
    "      cpi+=0.01\n",
    "      print(df)\n",
    "    my_rforest = df.to_dict(orient='records')\n",
    "    for dict_value in my_rforest:\n",
    "      for k, v in dict_value.items():\n",
    "        dict_value[k] = round(v, 2)\n",
    "    return my_rforest\n",
    "# print(my_rforest)\n",
    "my_rf = randomforest(rba,fed,cpi)\n",
    "print(my_rf)\n"
   ]
  },
  {
   "cell_type": "code",
   "execution_count": null,
   "metadata": {},
   "outputs": [
    {
     "name": "stdout",
     "output_type": "stream",
     "text": [
      "    RBA   FED    CPI  Prediction\n",
      "0  0.85  1.75  125.0   27.954295\n",
      "[27.95429476]\n"
     ]
    }
   ],
   "source": [
    "rba = float(0.85)\n",
    "fed = float(1.75)\n",
    "cpi = float(125.00)\n",
    "def rforest(rba,fed,cpi):\n",
    "    dtr =[[rba,fed,cpi]]\n",
    "    df = pd.DataFrame (dtr, columns = ['RBA','FED',\"CPI\"])\n",
    "    pred_dtr=model_in_rfr.predict(df)\n",
    "    df['Prediction'] = pred_dtr\n",
    "    print(df)\n",
    "    df_dict = df.to_dict(orient='records')\n",
    "    return pred_dtr\n",
    "Pred_rf = rforest(rba,fed,cpi)\n",
    "print(Pred_rf)"
   ]
  },
  {
   "cell_type": "code",
   "execution_count": null,
   "metadata": {},
   "outputs": [
    {
     "data": {
      "image/png": "[encoded data removed]",
      "text/plain": [
       "<Figure size 864x360 with 2 Axes>"
      ]
     },
     "metadata": {
      "needs_background": "light"
     },
     "output_type": "display_data"
    }
   ],
   "source": [
    "x = np.arange(2000,2024,4)\n",
    "ax = df_stock_less1.plot(y=[\"CPI\",\"Close\"], figsize=(12, 5),color=['grey','green'],linewidth=2)\n",
    "df_stock_less1.plot(y=[\"RBA\",\"FED\"],secondary_y=True, ax=ax,color=['pink','steelblue'],linestyle='dashed')\n",
    "plt.legend(bbox_to_anchor=(1.03, 1), loc='upper left', borderaxespad=-4, title=\"Interest rates\")\n",
    "ax.legend(loc='upper left')\n",
    "ax.set_xticks([0,1000,2000,3000,4000,5000])\n",
    "ax.set_xticklabels(x, rotation=0)\n",
    "ax.set_title('NAB Random Forest Regression Model')\n",
    "ax.set_xlabel('Trading Date', fontsize=18)\n",
    "ax.set_ylabel('Close Price AUD ($) or CPI', fontsize=18)\n",
    "plt.savefig('../../static/data/images/NAB_tree.png')"
   ]
  },
  {
   "cell_type": "markdown",
   "metadata": {},
   "source": [
    "#Save predicted error to MongoDB"
   ]
  },
  {
   "cell_type": "code",
   "execution_count": null,
   "metadata": {},
   "outputs": [],
   "source": [
    "# Module used to connect Python with MongoDb\n",
    "import pymongo"
   ]
  },
  {
   "cell_type": "code",
   "execution_count": null,
   "metadata": {},
   "outputs": [],
   "source": [
    "# The default port used by MongoDB is 27017\n",
    "# https://docs.mongodb.com/manual/reference/default-mongodb-port/\n",
    "conn = 'mongodb://localhost:27017'\n",
    "client = pymongo.MongoClient(conn)\n",
    "\n",
    "# Define the 'sharesDB' database in Mongo\n",
    "db = client.sharesDB.companys"
   ]
  },
  {
   "cell_type": "code",
   "execution_count": null,
   "metadata": {},
   "outputs": [
    {
     "name": "stdout",
     "output_type": "stream",
     "text": [
      "{'_id': ObjectId('62be5c40e95d9c2fd3be8c1f'), 'model': 'LSTM', 'name': 'BHP', 'date': '28/06/2022', 'predicted': 40, 'actual': 42, 'differece': -2, 'rmse': 0.06586}\n",
      "{'_id': ObjectId('62be7229a83f80add8272115'), 'model': 'LSTM', 'name': 'CBA', 'date': '28/06/2022', 'predicted': 88, 'actual': 93, 'differece': -5, 'rmse': 2.06539}\n",
      "{'_id': ObjectId('62be73734cebc85c036027db'), 'model': 'LSTM', 'name': 'CSL', 'date': '28/06/2022', 'predicted': 269, 'actual': 274, 'differece': -5, 'rmse': 2.37099}\n",
      "{'_id': ObjectId('62be74a49c5dda6983912be2'), 'model': 'LSTM', 'name': 'NAB', 'date': '28/06/2022', 'predicted': 27, 'actual': 27, 'differece': 0, 'rmse': 0.16451}\n",
      "{'_id': ObjectId('62be74fb286df5ebd4ec3dc5'), 'model': 'LSTM', 'name': 'WBC', 'date': '28/06/2022', 'predicted': 20, 'actual': 19, 'differece': 1, 'rmse': 0.10867}\n",
      "{'_id': ObjectId('62bea6cc0994fe23ecdfe680'), 'model': 'RFR', 'name': 'WBC', 'date': '23/06/2022', 'predicted': 31, 'actual': 19, 'differece': 12.953687103041862, 'accuracy': 97.11}\n",
      "{'_id': ObjectId('62bea7a87a159f323a5b1238'), 'model': 'RFR', 'name': 'NAB', 'date': '28/06/2022', 'predicted': 27, 'actual': 27, 'differece': 0.9542947613932071, 'accuracy': 97.23}\n",
      "{'_id': ObjectId('62bea91ac8de2e382b8727ac'), 'model': 'RFR', 'name': 'BHP', 'date': '28/06/2022', 'predicted': 45, 'actual': 42, 'differece': 3.6732322841167644, 'accuracy': 96.46}\n",
      "{'_id': ObjectId('62beab2114d4a8bdddf85ec3'), 'model': 'RFR', 'name': 'CBA', 'date': '28/06/2022', 'predicted': 97, 'actual': 93, 'differece': 4.07686528417301, 'accuracy': 97.51}\n",
      "{'_id': ObjectId('62beac0c14d4a8bdddf85ec5'), 'model': 'RFR', 'name': 'CSL', 'date': '23/06/2022', 'predicted': 242, 'actual': 267, 'differece': -24.21254503027103, 'accuracy': 96.12}\n"
     ]
    }
   ],
   "source": [
    "# query the companys collection\n",
    "companys = db.find()\n",
    "# see change in the collection\n",
    "for company in companys:\n",
    "    print(company)"
   ]
  },
  {
   "cell_type": "code",
   "execution_count": null,
   "metadata": {},
   "outputs": [],
   "source": []
  },
  {
   "cell_type": "code",
   "execution_count": null,
   "metadata": {},
   "outputs": [
    {
     "name": "stdout",
     "output_type": "stream",
     "text": [
      "27 28/06/2022 97.2312854372982\n"
     ]
    }
   ],
   "source": [
    "#save last price actual to variable\n",
    "actual_price = df_stock3.iloc[-1,4]\n",
    "actual_date = df_stock3.iloc[-1,0] \n",
    "actual_price = int(actual_price)\n",
    "print(actual_price,actual_date,base_accuracy)\n"
   ]
  },
  {
   "cell_type": "code",
   "execution_count": null,
   "metadata": {},
   "outputs": [
    {
     "name": "stdout",
     "output_type": "stream",
     "text": [
      "date 28/06/2022,predicted 27,actual 27, difference 0.9542947613932071, accuracy 97.23\n"
     ]
    }
   ],
   "source": [
    "# Set keys and values of company\n",
    "name = 'NAB'\n",
    "predicted = int(Pred_rf)\n",
    "difference = Pred_rf-actual_price\n",
    "print(f'date {actual_date},predicted {predicted},actual {actual_price}, difference {difference[0]}, accuracy {round(base_accuracy,2)}')"
   ]
  },
  {
   "cell_type": "code",
   "execution_count": null,
   "metadata": {},
   "outputs": [
    {
     "data": {
      "text/plain": [
       "<pymongo.results.DeleteResult at 0x27a66657c80>"
      ]
     },
     "execution_count": 43,
     "metadata": {},
     "output_type": "execute_result"
    }
   ],
   "source": [
    "# Delete a document from a collection\n",
    "db.delete_one(\n",
    "    {'model': 'RFR','name': name}\n",
    ")\n"
   ]
  },
  {
   "cell_type": "code",
   "execution_count": null,
   "metadata": {},
   "outputs": [
    {
     "name": "stdout",
     "output_type": "stream",
     "text": [
      "{'_id': ObjectId('62be5c40e95d9c2fd3be8c1f'), 'model': 'LSTM', 'name': 'BHP', 'date': '28/06/2022', 'predicted': 40, 'actual': 42, 'differece': -2, 'rmse': 0.06586}\n",
      "{'_id': ObjectId('62be7229a83f80add8272115'), 'model': 'LSTM', 'name': 'CBA', 'date': '28/06/2022', 'predicted': 88, 'actual': 93, 'differece': -5, 'rmse': 2.06539}\n",
      "{'_id': ObjectId('62be73734cebc85c036027db'), 'model': 'LSTM', 'name': 'CSL', 'date': '28/06/2022', 'predicted': 269, 'actual': 274, 'differece': -5, 'rmse': 2.37099}\n",
      "{'_id': ObjectId('62be74a49c5dda6983912be2'), 'model': 'LSTM', 'name': 'NAB', 'date': '28/06/2022', 'predicted': 27, 'actual': 27, 'differece': 0, 'rmse': 0.16451}\n",
      "{'_id': ObjectId('62be74fb286df5ebd4ec3dc5'), 'model': 'LSTM', 'name': 'WBC', 'date': '28/06/2022', 'predicted': 20, 'actual': 19, 'differece': 1, 'rmse': 0.10867}\n",
      "{'_id': ObjectId('62bea6cc0994fe23ecdfe680'), 'model': 'RFR', 'name': 'WBC', 'date': '23/06/2022', 'predicted': 31, 'actual': 19, 'differece': 12.953687103041862, 'accuracy': 97.11}\n",
      "{'_id': ObjectId('62bea91ac8de2e382b8727ac'), 'model': 'RFR', 'name': 'BHP', 'date': '28/06/2022', 'predicted': 45, 'actual': 42, 'differece': 3.6732322841167644, 'accuracy': 96.46}\n",
      "{'_id': ObjectId('62beab2114d4a8bdddf85ec3'), 'model': 'RFR', 'name': 'CBA', 'date': '28/06/2022', 'predicted': 97, 'actual': 93, 'differece': 4.07686528417301, 'accuracy': 97.51}\n",
      "{'_id': ObjectId('62beac0c14d4a8bdddf85ec5'), 'model': 'RFR', 'name': 'CSL', 'date': '23/06/2022', 'predicted': 242, 'actual': 267, 'differece': -24.21254503027103, 'accuracy': 96.12}\n",
      "{'_id': ObjectId('62bec5f59feedd993782edf8'), 'model': 'RFR', 'name': 'NAB', 'date': '28/06/2022', 'predicted': 27, 'actual': 27, 'differece': 0.9542947613932071, 'accuracy': 97.23}\n"
     ]
    }
   ],
   "source": [
    "# Insert a document into the 'companys' collection\n",
    "db.insert_one(\n",
    "    {\n",
    "      'model': 'RFR',\n",
    "      'name': name,\n",
    "      'date': actual_date,\n",
    "      'predicted': predicted,\n",
    "      'actual': actual_price,\n",
    "      'differece': difference[0],\n",
    "      'accuracy': round(base_accuracy,2)        \n",
    "    }\n",
    ")\n",
    "\n",
    "# query the classroom collection\n",
    "companys = db.find()\n",
    "\n",
    "# see change in collection\n",
    "for company in companys:\n",
    "    print(company)"
   ]
  }
 ],
 "metadata": {
  "interpreter": {
   "hash": "45bb1cb4637e4034484920e5cfb24c9afd84b0847d6c36e39edd3067d3a05462"
  },
  "kernel_info": {
   "name": "dev"
  },
  "kernelspec": {
   "display_name": "Python 3.9.7 ('base')",
   "language": "python",
   "name": "python3"
  },
  "language_info": {
   "codemirror_mode": {
    "name": "ipython",
    "version": 3
   },
   "file_extension": ".py",
   "mimetype": "text/x-python",
   "name": "python",
   "nbconvert_exporter": "python",
   "pygments_lexer": "ipython3",
   "version": "3.9.7"
  },
  "nteract": {
   "version": "0.12.3"
  }
 },
 "nbformat": 4,
 "nbformat_minor": 2
}
