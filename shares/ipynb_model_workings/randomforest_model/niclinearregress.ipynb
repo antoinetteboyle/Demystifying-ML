{
 "cells": [
  {
   "cell_type": "code",
   "execution_count": 96,
   "metadata": {},
   "outputs": [
    {
     "name": "stdout",
     "output_type": "stream",
     "text": [
      "Requirement already satisfied: sklearn in c:\\users\\antoi\\anaconda3\\lib\\site-packages (0.0)\n",
      "Requirement already satisfied: scikit-learn in c:\\users\\antoi\\anaconda3\\lib\\site-packages (from sklearn) (0.24.2)\n",
      "Requirement already satisfied: scipy>=0.19.1 in c:\\users\\antoi\\anaconda3\\lib\\site-packages (from scikit-learn->sklearn) (1.7.1)\n",
      "Requirement already satisfied: threadpoolctl>=2.0.0 in c:\\users\\antoi\\anaconda3\\lib\\site-packages (from scikit-learn->sklearn) (2.2.0)\n",
      "Requirement already satisfied: joblib>=0.11 in c:\\users\\antoi\\anaconda3\\lib\\site-packages (from scikit-learn->sklearn) (1.1.0)\n",
      "Requirement already satisfied: numpy>=1.13.3 in c:\\users\\antoi\\anaconda3\\lib\\site-packages (from scikit-learn->sklearn) (1.20.3)\n",
      "Requirement already satisfied: joblib in c:\\users\\antoi\\anaconda3\\lib\\site-packages (1.1.0)\n"
     ]
    }
   ],
   "source": [
    "# Update sklearn to prevent version mismatches\n",
    "!pip install sklearn --upgrade\n",
    "# install joblib. This will be used to save your model. \n",
    "# Restart your kernel after installing \n",
    "!pip install joblib"
   ]
  },
  {
   "cell_type": "markdown",
   "metadata": {},
   "source": [
    "This model uses a neural network and GridSearchCV to predict share price impacts of Interest changes"
   ]
  },
  {
   "cell_type": "markdown",
   "metadata": {},
   "source": [
    "# Read the CSV and Perform Basic Data Cleaning"
   ]
  },
  {
   "cell_type": "code",
   "execution_count": 97,
   "metadata": {},
   "outputs": [],
   "source": [
    "import matplotlib.pyplot as plt\n",
    "import numpy as np\n",
    "import pandas as pd"
   ]
  },
  {
   "cell_type": "code",
   "execution_count": 98,
   "metadata": {},
   "outputs": [
    {
     "data": {
      "text/html": [
       "<div>\n",
       "<style scoped>\n",
       "    .dataframe tbody tr th:only-of-type {\n",
       "        vertical-align: middle;\n",
       "    }\n",
       "\n",
       "    .dataframe tbody tr th {\n",
       "        vertical-align: top;\n",
       "    }\n",
       "\n",
       "    .dataframe thead th {\n",
       "        text-align: right;\n",
       "    }\n",
       "</style>\n",
       "<table border=\"1\" class=\"dataframe\">\n",
       "  <thead>\n",
       "    <tr style=\"text-align: right;\">\n",
       "      <th></th>\n",
       "      <th>Date</th>\n",
       "      <th>Open</th>\n",
       "      <th>High</th>\n",
       "      <th>Low</th>\n",
       "      <th>Close</th>\n",
       "      <th>Adj Close</th>\n",
       "      <th>Volume</th>\n",
       "      <th>RBA</th>\n",
       "      <th>FED</th>\n",
       "      <th>CPI</th>\n",
       "    </tr>\n",
       "  </thead>\n",
       "  <tbody>\n",
       "    <tr>\n",
       "      <th>978</th>\n",
       "      <td>30/06/2022</td>\n",
       "      <td>1.005</td>\n",
       "      <td>1.0125</td>\n",
       "      <td>0.975</td>\n",
       "      <td>0.975</td>\n",
       "      <td>0.975</td>\n",
       "      <td>8002603</td>\n",
       "      <td>0.85</td>\n",
       "      <td>1.75</td>\n",
       "      <td>125.0</td>\n",
       "    </tr>\n",
       "    <tr>\n",
       "      <th>979</th>\n",
       "      <td>1/07/2022</td>\n",
       "      <td>0.995</td>\n",
       "      <td>0.9950</td>\n",
       "      <td>0.960</td>\n",
       "      <td>0.965</td>\n",
       "      <td>0.965</td>\n",
       "      <td>6164137</td>\n",
       "      <td>0.85</td>\n",
       "      <td>1.75</td>\n",
       "      <td>125.0</td>\n",
       "    </tr>\n",
       "    <tr>\n",
       "      <th>980</th>\n",
       "      <td>4/07/2022</td>\n",
       "      <td>0.985</td>\n",
       "      <td>0.9900</td>\n",
       "      <td>0.955</td>\n",
       "      <td>0.960</td>\n",
       "      <td>0.960</td>\n",
       "      <td>5771910</td>\n",
       "      <td>0.85</td>\n",
       "      <td>1.75</td>\n",
       "      <td>125.0</td>\n",
       "    </tr>\n",
       "    <tr>\n",
       "      <th>981</th>\n",
       "      <td>5/07/2022</td>\n",
       "      <td>0.970</td>\n",
       "      <td>0.9850</td>\n",
       "      <td>0.960</td>\n",
       "      <td>0.975</td>\n",
       "      <td>0.975</td>\n",
       "      <td>7021408</td>\n",
       "      <td>0.85</td>\n",
       "      <td>1.75</td>\n",
       "      <td>125.0</td>\n",
       "    </tr>\n",
       "    <tr>\n",
       "      <th>982</th>\n",
       "      <td>6/07/2022</td>\n",
       "      <td>0.960</td>\n",
       "      <td>0.9650</td>\n",
       "      <td>0.945</td>\n",
       "      <td>0.955</td>\n",
       "      <td>0.955</td>\n",
       "      <td>4094523</td>\n",
       "      <td>1.35</td>\n",
       "      <td>1.75</td>\n",
       "      <td>125.0</td>\n",
       "    </tr>\n",
       "  </tbody>\n",
       "</table>\n",
       "</div>"
      ],
      "text/plain": [
       "           Date   Open    High    Low  Close  Adj Close   Volume   RBA   FED  \\\n",
       "978  30/06/2022  1.005  1.0125  0.975  0.975      0.975  8002603  0.85  1.75   \n",
       "979   1/07/2022  0.995  0.9950  0.960  0.965      0.965  6164137  0.85  1.75   \n",
       "980   4/07/2022  0.985  0.9900  0.955  0.960      0.960  5771910  0.85  1.75   \n",
       "981   5/07/2022  0.970  0.9850  0.960  0.975      0.975  7021408  0.85  1.75   \n",
       "982   6/07/2022  0.960  0.9650  0.945  0.955      0.955  4094523  1.35  1.75   \n",
       "\n",
       "       CPI  \n",
       "978  125.0  \n",
       "979  125.0  \n",
       "980  125.0  \n",
       "981  125.0  \n",
       "982  125.0  "
      ]
     },
     "execution_count": 98,
     "metadata": {},
     "output_type": "execute_result"
    }
   ],
   "source": [
    "df_stock1 = pd.read_csv(\"../../static/data/nic.csv\")\n",
    "# Drop the null columns where all values are null\n",
    "df_stock2 = df_stock1.dropna(axis='columns', how='all')\n",
    "# Drop the null rows\n",
    "df = df_stock2.dropna()\n",
    "df.tail()"
   ]
  },
  {
   "cell_type": "code",
   "execution_count": 99,
   "metadata": {},
   "outputs": [
    {
     "name": "stdout",
     "output_type": "stream",
     "text": [
      "28/07/2022 1.0850000381469727\n"
     ]
    },
    {
     "data": {
      "text/plain": [
       "<bound method NDFrame.tail of                           _id        Date   Open   High    Low  Close  \\\n",
       "0    62da7a613809bf9693ff65bf  20/08/2018  0.300  0.300  0.260  0.280   \n",
       "1    62da7a613809bf9693ff65c0  21/08/2018  0.280  0.285  0.250  0.255   \n",
       "2    62da7a613809bf9693ff65c1  22/08/2018  0.265  0.295  0.260  0.290   \n",
       "3    62da7a613809bf9693ff65c2  23/08/2018  0.305  0.310  0.300  0.300   \n",
       "4    62da7a613809bf9693ff65c3  24/08/2018  0.305  0.305  0.295  0.305   \n",
       "..                        ...         ...    ...    ...    ...    ...   \n",
       "994  62e2361f531f881685deeebb  22/07/2022  1.030  1.030  1.000  1.000   \n",
       "995  62e2361f531f881685deeebc  25/07/2022  1.015  1.040  1.010  1.030   \n",
       "996  62e2361f531f881685deeebd  26/07/2022  1.045  1.085  1.035  1.085   \n",
       "997  62e2361f531f881685deeebe  27/07/2022  1.070  1.070  1.035  1.055   \n",
       "998  62e2361f531f881685deeebf  28/07/2022  1.075  1.087  1.040  1.085   \n",
       "\n",
       "     Adj Close    Volume   RBA   FED    CPI  \n",
       "0     0.262887  14621347   1.5   2.0  113.5  \n",
       "1     0.239415   2166061   1.5   2.0  113.5  \n",
       "2     0.272276   6654300   1.5   2.0  113.5  \n",
       "3     0.281665   3775078   1.5   2.0  113.5  \n",
       "4     0.286360   3203045   1.5   2.0  113.5  \n",
       "..         ...       ...   ...   ...    ...  \n",
       "994   1.000000   6879118  1.35  1.75    125  \n",
       "995   1.030000   7200506  1.35  1.75    125  \n",
       "996   1.085000  11175891  1.35  1.75    125  \n",
       "997   1.055000   8207216  1.35  1.75    125  \n",
       "998   1.085000   9240872  1.35  1.75    125  \n",
       "\n",
       "[999 rows x 11 columns]>"
      ]
     },
     "execution_count": 99,
     "metadata": {},
     "output_type": "execute_result"
    }
   ],
   "source": [
    "# Connect to MongoDb\n",
    "from pymongo import MongoClient\n",
    "mongoClient = MongoClient()\n",
    "db = mongoClient.sharesDB\n",
    "\n",
    "df_mongo = pd.DataFrame(list(db.nic.find()))\n",
    "last_val = df_mongo.iloc[-1:].values\n",
    "last_date = last_val[0][1]\n",
    "last_close = last_val[0][5]\n",
    "# print(last_val)\n",
    "print(last_date,last_close)\n",
    "df_mongo.tail"
   ]
  },
  {
   "cell_type": "markdown",
   "metadata": {},
   "source": [
    "# Use `RBA`,`FED` and `CPI` for the X values"
   ]
  },
  {
   "cell_type": "code",
   "execution_count": 100,
   "metadata": {},
   "outputs": [
    {
     "name": "stdout",
     "output_type": "stream",
     "text": [
      "(999, 3) (999, 1)\n"
     ]
    }
   ],
   "source": [
    "X = df_mongo[[\"RBA\",\"FED\",\"CPI\"]]\n",
    "y = df_mongo[\"Close\"].values.reshape(-1, 1)\n",
    "print(X.shape, y.shape)"
   ]
  },
  {
   "cell_type": "code",
   "execution_count": 101,
   "metadata": {},
   "outputs": [
    {
     "data": {
      "text/html": [
       "<div>\n",
       "<style scoped>\n",
       "    .dataframe tbody tr th:only-of-type {\n",
       "        vertical-align: middle;\n",
       "    }\n",
       "\n",
       "    .dataframe tbody tr th {\n",
       "        vertical-align: top;\n",
       "    }\n",
       "\n",
       "    .dataframe thead th {\n",
       "        text-align: right;\n",
       "    }\n",
       "</style>\n",
       "<table border=\"1\" class=\"dataframe\">\n",
       "  <thead>\n",
       "    <tr style=\"text-align: right;\">\n",
       "      <th></th>\n",
       "      <th>RBA</th>\n",
       "      <th>FED</th>\n",
       "      <th>CPI</th>\n",
       "    </tr>\n",
       "  </thead>\n",
       "  <tbody>\n",
       "    <tr>\n",
       "      <th>0</th>\n",
       "      <td>1.5</td>\n",
       "      <td>2.0</td>\n",
       "      <td>113.5</td>\n",
       "    </tr>\n",
       "    <tr>\n",
       "      <th>1</th>\n",
       "      <td>1.5</td>\n",
       "      <td>2.0</td>\n",
       "      <td>113.5</td>\n",
       "    </tr>\n",
       "    <tr>\n",
       "      <th>2</th>\n",
       "      <td>1.5</td>\n",
       "      <td>2.0</td>\n",
       "      <td>113.5</td>\n",
       "    </tr>\n",
       "    <tr>\n",
       "      <th>3</th>\n",
       "      <td>1.5</td>\n",
       "      <td>2.0</td>\n",
       "      <td>113.5</td>\n",
       "    </tr>\n",
       "    <tr>\n",
       "      <th>4</th>\n",
       "      <td>1.5</td>\n",
       "      <td>2.0</td>\n",
       "      <td>113.5</td>\n",
       "    </tr>\n",
       "    <tr>\n",
       "      <th>...</th>\n",
       "      <td>...</td>\n",
       "      <td>...</td>\n",
       "      <td>...</td>\n",
       "    </tr>\n",
       "    <tr>\n",
       "      <th>994</th>\n",
       "      <td>1.35</td>\n",
       "      <td>1.75</td>\n",
       "      <td>125</td>\n",
       "    </tr>\n",
       "    <tr>\n",
       "      <th>995</th>\n",
       "      <td>1.35</td>\n",
       "      <td>1.75</td>\n",
       "      <td>125</td>\n",
       "    </tr>\n",
       "    <tr>\n",
       "      <th>996</th>\n",
       "      <td>1.35</td>\n",
       "      <td>1.75</td>\n",
       "      <td>125</td>\n",
       "    </tr>\n",
       "    <tr>\n",
       "      <th>997</th>\n",
       "      <td>1.35</td>\n",
       "      <td>1.75</td>\n",
       "      <td>125</td>\n",
       "    </tr>\n",
       "    <tr>\n",
       "      <th>998</th>\n",
       "      <td>1.35</td>\n",
       "      <td>1.75</td>\n",
       "      <td>125</td>\n",
       "    </tr>\n",
       "  </tbody>\n",
       "</table>\n",
       "<p>999 rows × 3 columns</p>\n",
       "</div>"
      ],
      "text/plain": [
       "      RBA   FED    CPI\n",
       "0     1.5   2.0  113.5\n",
       "1     1.5   2.0  113.5\n",
       "2     1.5   2.0  113.5\n",
       "3     1.5   2.0  113.5\n",
       "4     1.5   2.0  113.5\n",
       "..    ...   ...    ...\n",
       "994  1.35  1.75    125\n",
       "995  1.35  1.75    125\n",
       "996  1.35  1.75    125\n",
       "997  1.35  1.75    125\n",
       "998  1.35  1.75    125\n",
       "\n",
       "[999 rows x 3 columns]"
      ]
     },
     "execution_count": 101,
     "metadata": {},
     "output_type": "execute_result"
    }
   ],
   "source": [
    "X"
   ]
  },
  {
   "cell_type": "markdown",
   "metadata": {},
   "source": [
    "# Create a Train Test Split"
   ]
  },
  {
   "cell_type": "code",
   "execution_count": 102,
   "metadata": {},
   "outputs": [
    {
     "name": "stdout",
     "output_type": "stream",
     "text": [
      "(749, 3) (749, 1)\n",
      "(250, 3) (250, 1)\n",
      "<bound method DataFrame.info of       RBA   FED    CPI\n",
      "298  0.75   2.0  116.2\n",
      "160   1.5   2.5  114.8\n",
      "268   1.0  2.25  115.4\n",
      "868   0.1  1.25  123.4\n",
      "995  1.35  1.75    125\n",
      "..    ...   ...    ...\n",
      "767   0.1  1.25  119.7\n",
      "72    1.5  2.25  114.1\n",
      "908   0.1   0.5  123.4\n",
      "235   1.0   2.5  115.4\n",
      "37    1.5  2.25  114.1\n",
      "\n",
      "[749 rows x 3 columns]>\n"
     ]
    }
   ],
   "source": [
    "# Use train_test_split to create training and testing data\n",
    "from sklearn.model_selection import train_test_split\n",
    "\n",
    "X_train, X_test, y_train, y_test = train_test_split(X, y, random_state=1)\n",
    "print(X_train.shape, y_train.shape)\n",
    "print(X_test.shape, y_test.shape)\n",
    "print(X_train.info)"
   ]
  },
  {
   "cell_type": "code",
   "execution_count": 103,
   "metadata": {},
   "outputs": [],
   "source": [
    "from sklearn.linear_model import LinearRegression\n",
    "model = LinearRegression()"
   ]
  },
  {
   "cell_type": "markdown",
   "metadata": {},
   "source": [
    "# Fit the model"
   ]
  },
  {
   "cell_type": "code",
   "execution_count": 104,
   "metadata": {},
   "outputs": [
    {
     "name": "stdout",
     "output_type": "stream",
     "text": [
      "Training Score: 0.8361156167709184\n",
      "Testing Score: 0.8543537848952799\n"
     ]
    }
   ],
   "source": [
    "# Fit the model to the training data and calculate the scores for the training and testing data\n",
    "\n",
    "### BEGIN SOLUTION\n",
    "model.fit(X_train, y_train)\n",
    "training_score = model.score(X_train, y_train)\n",
    "testing_score = model.score(X_test, y_test)\n",
    "\n",
    "### END SOLUTION \n",
    "\n",
    "print(f\"Training Score: {training_score}\")\n",
    "print(f\"Testing Score: {testing_score}\")"
   ]
  },
  {
   "cell_type": "code",
   "execution_count": 105,
   "metadata": {},
   "outputs": [],
   "source": [
    "# X_train = X_train.reshape((X_train.shape[0], 1))"
   ]
  },
  {
   "cell_type": "code",
   "execution_count": 106,
   "metadata": {},
   "outputs": [],
   "source": [
    "#Linear Regression Residual showing difference actual vs predicted\n",
    "# residual = pd.DataFrame([model.predict(X_train),y_train,(model.predict(X_train)-y_train)])\n",
    "# residual.tail"
   ]
  },
  {
   "cell_type": "code",
   "execution_count": 107,
   "metadata": {},
   "outputs": [
    {
     "data": {
      "text/plain": [
       "Text(0.5, 1.0, 'Residual Plot')"
      ]
     },
     "execution_count": 107,
     "metadata": {},
     "output_type": "execute_result"
    },
    {
     "data": {
      "image/png": "[encoded data removed]",
      "text/plain": [
       "<Figure size 432x288 with 1 Axes>"
      ]
     },
     "metadata": {
      "needs_background": "light"
     },
     "output_type": "display_data"
    }
   ],
   "source": [
    "# Plot the Residuals for the Training and Testing data\n",
    "plt.scatter(model.predict(X_train), model.predict(X_train) - y_train, c=\"blue\", label=\"Training Data\")\n",
    "plt.scatter(model.predict(X_test), model.predict(X_test) - y_test, c=\"orange\", label=\"Testing Data\")\n",
    "plt.legend()\n",
    "plt.hlines(y=0, xmin=y.min(), xmax=y.max())\n",
    "plt.title(\"Residual Plot\")"
   ]
  },
  {
   "cell_type": "code",
   "execution_count": 108,
   "metadata": {},
   "outputs": [],
   "source": [
    "# Linear Regression: X_test predictions to variable\n",
    "predictions = model.predict(X_test)"
   ]
  },
  {
   "cell_type": "markdown",
   "metadata": {},
   "source": [
    "#### R2 Score is a very popular metric used for evaluating the performance of linear regression models. Where R2 Score is between 0 and 1, the closer to 1, the better the regression fit.\n",
    "#### Use MSE or MAE when comparing two or more models, the lower the value of MSE or MAE, the better. MSE (Mean Square Error): Uses Euclidean distance to calculate the error. MSE gives the magnitude of the error only."
   ]
  },
  {
   "cell_type": "code",
   "execution_count": 109,
   "metadata": {},
   "outputs": [
    {
     "name": "stdout",
     "output_type": "stream",
     "text": [
      "MSE: 0.021081935309331633, R2: 0.8543537848952799\n"
     ]
    }
   ],
   "source": [
    "# Used X_test, y_test, and model.predict(X_test) to calculate MSE and R2\n",
    "\n",
    "### BEGIN SOLUTION\n",
    "from sklearn.metrics import mean_squared_error\n",
    "\n",
    "MSE = mean_squared_error(y_test, predictions)\n",
    "r2 = model.score(X_test, y_test)\n",
    "### END SOLUTION\n",
    "\n",
    "print(f\"MSE: {MSE}, R2: {r2}\")"
   ]
  },
  {
   "cell_type": "markdown",
   "metadata": {},
   "source": [
    "#### Lasso regression imposes a constraint on the model parameters that causes regression coefficients for some variables to shrink toward zero. It comes with a parameter, alpha , and the higher the alpha , the more feature coefficients are zero. When alpha is 0 , Lasso regression produces the same coefficients as a linear regression."
   ]
  },
  {
   "cell_type": "code",
   "execution_count": 110,
   "metadata": {},
   "outputs": [
    {
     "name": "stdout",
     "output_type": "stream",
     "text": [
      "MSE: 0.02396158502219425, R2: 0.8344594974234752\n"
     ]
    }
   ],
   "source": [
    "# LASSO model\n",
    "# Note: Used an alpha of .01 when creating the model for this activity\n",
    "from sklearn.linear_model import Lasso\n",
    "\n",
    "### BEGIN SOLUTION\n",
    "lasso = Lasso(alpha=.01).fit(X_train, y_train)\n",
    "\n",
    "predictions = lasso.predict(X_test)\n",
    "\n",
    "MSE = mean_squared_error(y_test, predictions)\n",
    "r2 = lasso.score(X_test, y_test)\n",
    "### END SOLUTION\n",
    "\n",
    "print(f\"MSE: {MSE}, R2: {r2}\")"
   ]
  },
  {
   "cell_type": "code",
   "execution_count": 111,
   "metadata": {},
   "outputs": [
    {
     "name": "stdout",
     "output_type": "stream",
     "text": [
      "MSE: 0.021081334120893136, R2: 0.8543579382530883\n"
     ]
    }
   ],
   "source": [
    "# Ridge model\n",
    "# Note: Used an alpha of .01 when creating the model for this activity\n",
    "from sklearn.linear_model import Ridge\n",
    "\n",
    "### BEGIN SOLUTION\n",
    "ridge = Ridge(alpha=.01).fit(X_train, y_train)\n",
    "\n",
    "predictions = ridge.predict(X_test)\n",
    "\n",
    "MSE = mean_squared_error(y_test, predictions)\n",
    "r2 = ridge.score(X_test, y_test)\n",
    "### END SOLUTION\n",
    "\n",
    "print(f\"MSE: {MSE}, R2: {r2}\")"
   ]
  },
  {
   "cell_type": "code",
   "execution_count": 112,
   "metadata": {},
   "outputs": [
    {
     "name": "stdout",
     "output_type": "stream",
     "text": [
      "MSE: 0.023119191247303727, R2: 0.8402792413483261\n"
     ]
    }
   ],
   "source": [
    "# ElasticNet model\n",
    "# Note: Use an alpha of .01 when creating the model for this activity\n",
    "from sklearn.linear_model import ElasticNet\n",
    "\n",
    "### BEGIN SOLUTION\n",
    "elasticnet = ElasticNet(alpha=.01).fit(X_train, y_train)\n",
    "\n",
    "predictions = elasticnet.predict(X_test)\n",
    "\n",
    "MSE = mean_squared_error(y_test, predictions)\n",
    "r2 = elasticnet.score(X_test, y_test)\n",
    "### END SOLUTION\n",
    "\n",
    "print(f\"MSE: {MSE}, R2: {r2}\")"
   ]
  },
  {
   "cell_type": "markdown",
   "metadata": {},
   "source": [
    "# Hyperparameter Tuning"
   ]
  },
  {
   "cell_type": "code",
   "execution_count": 113,
   "metadata": {},
   "outputs": [
    {
     "data": {
      "text/plain": [
       "(999,)"
      ]
     },
     "execution_count": 113,
     "metadata": {},
     "output_type": "execute_result"
    }
   ],
   "source": [
    "y_target = df_mongo[\"Close\"]\n",
    "y_target.shape"
   ]
  },
  {
   "cell_type": "code",
   "execution_count": 114,
   "metadata": {},
   "outputs": [
    {
     "name": "stdout",
     "output_type": "stream",
     "text": [
      "(749, 3) (749,)\n",
      "(250, 3) (250,)\n"
     ]
    }
   ],
   "source": [
    "# Use train_test_split to create training and testing data\n",
    "from sklearn.model_selection import train_test_split\n",
    "\n",
    "X_train, X_test, y_train, y_test = train_test_split(X, y_target, random_state=1)\n",
    "print(X_train.shape, y_train.shape)\n",
    "print(X_test.shape, y_test.shape)"
   ]
  },
  {
   "cell_type": "code",
   "execution_count": 115,
   "metadata": {},
   "outputs": [
    {
     "name": "stdout",
     "output_type": "stream",
     "text": [
      "(749, 3) (749,)\n",
      "(250, 3) (250,)\n"
     ]
    }
   ],
   "source": [
    "print(X_train.shape,y_train.shape)\n",
    "print(X_test.shape,y_test.shape)"
   ]
  },
  {
   "cell_type": "markdown",
   "metadata": {},
   "source": [
    "#### GridSearchCV and RandomizedSearchCV are techniques to evaluate models for a given hyperparameter vector using cross-validation, hence the “CV” suffix of the class name.\n",
    "#### We are executing many models together is to find which machine learning model works best for this particular dataset."
   ]
  },
  {
   "cell_type": "code",
   "execution_count": 116,
   "metadata": {},
   "outputs": [],
   "source": [
    "from sklearn.linear_model import LinearRegression, Ridge,Lasso\n",
    "from sklearn.neighbors import KNeighborsRegressor\n",
    "from sklearn.ensemble import GradientBoostingRegressor\n",
    "from sklearn.ensemble import ExtraTreesRegressor, RandomForestRegressor\n",
    "from sklearn.tree import DecisionTreeRegressor"
   ]
  },
  {
   "cell_type": "code",
   "execution_count": 117,
   "metadata": {},
   "outputs": [],
   "source": [
    "regressors = [\n",
    "    RandomForestRegressor(),\n",
    "    DecisionTreeRegressor(),\n",
    "    KNeighborsRegressor(),\n",
    "    GradientBoostingRegressor(),\n",
    "    KNeighborsRegressor(),\n",
    "    ExtraTreesRegressor(),\n",
    "    LinearRegression(),\n",
    "    Lasso(),\n",
    "    Ridge()\n",
    "]"
   ]
  },
  {
   "cell_type": "code",
   "execution_count": 118,
   "metadata": {},
   "outputs": [
    {
     "name": "stdout",
     "output_type": "stream",
     "text": [
      "RandomForestRegressor()\n",
      "\tTraining time: 0.117s\n",
      "\tPrediction time: 0.011s\n",
      "\tExplained variance: 0.9527561721491661\n",
      "\tMean absolute error: 0.06010055805114419\n",
      "\tR2 score: 0.9527514537540657\n",
      "\n",
      "DecisionTreeRegressor()\n",
      "\tTraining time: 0.004s\n",
      "\tPrediction time: 0.001s\n",
      "\tExplained variance: 0.9525459658883062\n",
      "\tMean absolute error: 0.060256566012485586\n",
      "\tR2 score: 0.952545550858517\n",
      "\n",
      "KNeighborsRegressor()\n",
      "\tTraining time: 0.002s\n",
      "\tPrediction time: 0.003s\n",
      "\tExplained variance: 0.9483485373083804\n",
      "\tMean absolute error: 0.061429992981198125\n",
      "\tR2 score: 0.9482891663865246\n",
      "\n",
      "GradientBoostingRegressor()\n",
      "\tTraining time: 0.038s\n",
      "\tPrediction time: 0.003s\n",
      "\tExplained variance: 0.9517955793136907\n",
      "\tMean absolute error: 0.06046501374129204\n",
      "\tR2 score: 0.9517926758564078\n",
      "\n",
      "KNeighborsRegressor()\n",
      "\tTraining time: 0.003s\n",
      "\tPrediction time: 0.003s\n",
      "\tExplained variance: 0.9483485373083804\n",
      "\tMean absolute error: 0.061429992981198125\n",
      "\tR2 score: 0.9482891663865246\n",
      "\n",
      "ExtraTreesRegressor()\n",
      "\tTraining time: 0.092s\n",
      "\tPrediction time: 0.010s\n",
      "\tExplained variance: 0.9525459658883062\n",
      "\tMean absolute error: 0.06025656601248547\n",
      "\tR2 score: 0.952545550858517\n",
      "\n",
      "LinearRegression()\n",
      "\tTraining time: 0.002s\n",
      "\tPrediction time: 0.001s\n",
      "\tExplained variance: 0.8546253643606843\n",
      "\tMean absolute error: 0.11145740640959108\n",
      "\tR2 score: 0.8543537848952799\n",
      "\n",
      "Lasso()\n",
      "\tTraining time: 0.001s\n",
      "\tPrediction time: 0.001s\n",
      "\tExplained variance: 0.06399945178483823\n",
      "\tMean absolute error: 0.33406220615533605\n",
      "\tR2 score: 0.0633961088517292\n",
      "\n",
      "Ridge()\n",
      "\tTraining time: 0.002s\n",
      "\tPrediction time: 0.000s\n",
      "\tExplained variance: 0.8548661179178755\n",
      "\tMean absolute error: 0.11123680115853597\n",
      "\tR2 score: 0.8545985196154279\n",
      "\n"
     ]
    }
   ],
   "source": [
    "from time import time\n",
    "from sklearn.metrics import explained_variance_score,mean_absolute_error,r2_score\n",
    "\n",
    "head = 10\n",
    "for model in regressors[:head]:\n",
    "    start = time()\n",
    "    model.fit(X_train, y_train)\n",
    "    train_time = time() - start\n",
    "    start = time()\n",
    "    y_pred = model.predict(X_test)\n",
    "    predict_time = time()-start    \n",
    "    print(model)\n",
    "    print(\"\\tTraining time: %0.3fs\" % train_time)\n",
    "    print(\"\\tPrediction time: %0.3fs\" % predict_time)\n",
    "    print(\"\\tExplained variance:\", explained_variance_score(y_test, y_pred))\n",
    "    print(\"\\tMean absolute error:\", mean_absolute_error(y_test, y_pred))\n",
    "    print(\"\\tR2 score:\", r2_score(y_test, y_pred))\n",
    "    print()"
   ]
  },
  {
   "cell_type": "markdown",
   "metadata": {},
   "source": [
    "#### By comparing these results, we can quickly see that RandomForestRegressor and DecisionTreeRegressor are the best models for our data\n",
    "#### Machine learning models have parameters, which are the internal coefficients set by training or optimizing the model on a training dataset.\n",
    "#### Parameters are different from hyperparameters. Parameters are learned automatically; hyperparameters are set manually to help guide the learning process."
   ]
  },
  {
   "cell_type": "code",
   "execution_count": 119,
   "metadata": {},
   "outputs": [
    {
     "name": "stdout",
     "output_type": "stream",
     "text": [
      "Parameters currently in use:\n",
      "\n",
      "{'bootstrap': True,\n",
      " 'ccp_alpha': 0.0,\n",
      " 'criterion': 'mse',\n",
      " 'max_depth': None,\n",
      " 'max_features': 'auto',\n",
      " 'max_leaf_nodes': None,\n",
      " 'max_samples': None,\n",
      " 'min_impurity_decrease': 0.0,\n",
      " 'min_impurity_split': None,\n",
      " 'min_samples_leaf': 1,\n",
      " 'min_samples_split': 2,\n",
      " 'min_weight_fraction_leaf': 0.0,\n",
      " 'n_estimators': 100,\n",
      " 'n_jobs': None,\n",
      " 'oob_score': False,\n",
      " 'random_state': 42,\n",
      " 'verbose': 0,\n",
      " 'warm_start': False}\n"
     ]
    }
   ],
   "source": [
    "from sklearn.ensemble import RandomForestRegressor\n",
    "rf = RandomForestRegressor(random_state = 42)\n",
    "from pprint import pprint\n",
    "# Look at parameters used by our current forest\n",
    "print('Parameters currently in use:\\n')\n",
    "pprint(rf.get_params())"
   ]
  },
  {
   "cell_type": "code",
   "execution_count": 120,
   "metadata": {},
   "outputs": [
    {
     "name": "stdout",
     "output_type": "stream",
     "text": [
      "{'bootstrap': [True, False],\n",
      " 'max_depth': [10, 20, 30, 40, 50, 60, 70, 80, 90, 100, 110, None],\n",
      " 'max_features': ['auto', 'sqrt'],\n",
      " 'min_samples_leaf': [1, 2, 4],\n",
      " 'min_samples_split': [2, 5, 10],\n",
      " 'n_estimators': [200, 400, 600, 800, 1000, 1200, 1400, 1600, 1800, 2000]}\n"
     ]
    }
   ],
   "source": [
    "from sklearn.model_selection import RandomizedSearchCV\n",
    "# Number of trees in random forest\n",
    "n_estimators = [int(x) for x in np.linspace(start = 200, stop = 2000, num = 10)]\n",
    "# Number of features to consider at every split\n",
    "max_features = ['auto', 'sqrt']\n",
    "# Maximum number of levels in tree\n",
    "max_depth = [int(x) for x in np.linspace(10, 110, num = 11)]\n",
    "max_depth.append(None)\n",
    "# Minimum number of samples required to split a node\n",
    "min_samples_split = [2, 5, 10]\n",
    "# Minimum number of samples required at each leaf node\n",
    "min_samples_leaf = [1, 2, 4]\n",
    "# Method of selecting samples for training each tree\n",
    "bootstrap = [True, False]\n",
    "# Create the random grid\n",
    "random_grid = {'n_estimators': n_estimators,\n",
    "               'max_features': max_features,\n",
    "               'max_depth': max_depth,\n",
    "               'min_samples_split': min_samples_split,\n",
    "               'min_samples_leaf': min_samples_leaf,\n",
    "               'bootstrap': bootstrap}\n",
    "pprint(random_grid)"
   ]
  },
  {
   "cell_type": "code",
   "execution_count": 121,
   "metadata": {},
   "outputs": [
    {
     "name": "stdout",
     "output_type": "stream",
     "text": [
      "Fitting 3 folds for each of 100 candidates, totalling 300 fits\n"
     ]
    },
    {
     "data": {
      "text/plain": [
       "RandomizedSearchCV(cv=3, estimator=RandomForestRegressor(), n_iter=100,\n",
       "                   n_jobs=-1,\n",
       "                   param_distributions={'bootstrap': [True, False],\n",
       "                                        'max_depth': [10, 20, 30, 40, 50, 60,\n",
       "                                                      70, 80, 90, 100, 110,\n",
       "                                                      None],\n",
       "                                        'max_features': ['auto', 'sqrt'],\n",
       "                                        'min_samples_leaf': [1, 2, 4],\n",
       "                                        'min_samples_split': [2, 5, 10],\n",
       "                                        'n_estimators': [200, 400, 600, 800,\n",
       "                                                         1000, 1200, 1400, 1600,\n",
       "                                                         1800, 2000]},\n",
       "                   random_state=42, verbose=2)"
      ]
     },
     "execution_count": 121,
     "metadata": {},
     "output_type": "execute_result"
    }
   ],
   "source": [
    "# Use the random grid to search for best hyperparameters\n",
    "# First create the base model to tune\n",
    "rf = RandomForestRegressor()\n",
    "# Random search of parameters, using 3 fold cross validation, \n",
    "# search across 100 different combinations, and use all available cores\n",
    "rf_random = RandomizedSearchCV(estimator = rf, param_distributions = random_grid, n_iter = 100, cv = 3, verbose=2, random_state=42, n_jobs = -1)\n",
    "# Fit the random search model\n",
    "rf_random.fit(X_train, y_train)"
   ]
  },
  {
   "cell_type": "code",
   "execution_count": 122,
   "metadata": {},
   "outputs": [
    {
     "data": {
      "text/plain": [
       "{'n_estimators': 600,\n",
       " 'min_samples_split': 10,\n",
       " 'min_samples_leaf': 2,\n",
       " 'max_features': 'auto',\n",
       " 'max_depth': 100,\n",
       " 'bootstrap': True}"
      ]
     },
     "execution_count": 122,
     "metadata": {},
     "output_type": "execute_result"
    }
   ],
   "source": [
    "rf_random.best_params_"
   ]
  },
  {
   "cell_type": "code",
   "execution_count": 123,
   "metadata": {},
   "outputs": [
    {
     "name": "stdout",
     "output_type": "stream",
     "text": [
      "Model Performance\n",
      "Average Error: 0.0600 degrees.\n",
      "Accuracy = 91.93%.\n",
      "Model Performance\n",
      "Average Error: 0.0602 degrees.\n",
      "Accuracy = 91.90%.\n",
      "Improvement of -0.03%.\n"
     ]
    }
   ],
   "source": [
    "def evaluate(model, X_test, y_test):\n",
    "    predictions = model.predict(X_test)\n",
    "    errors = abs(predictions - y_test)\n",
    "    mape = 100 * np.mean(errors / y_test)\n",
    "    accuracy = 100 - mape\n",
    "    print('Model Performance')\n",
    "    print('Average Error: {:0.4f} degrees.'.format(np.mean(errors)))\n",
    "    print('Accuracy = {:0.2f}%.'.format(accuracy))\n",
    "    return accuracy\n",
    "base_model = RandomForestRegressor(n_estimators = 10, random_state = 42)\n",
    "base_model.fit(X_train, y_train)\n",
    "base_accuracy = evaluate(base_model, X_test, y_test)\n",
    "\n",
    "best_random = rf_random.best_estimator_\n",
    "random_accuracy = evaluate(best_random, X_test, y_test)\n",
    "\n",
    "print('Improvement of {:0.2f}%.'.format( 100 * (random_accuracy - base_accuracy) / base_accuracy))"
   ]
  },
  {
   "cell_type": "code",
   "execution_count": 124,
   "metadata": {},
   "outputs": [],
   "source": [
    "# Hyperparameter tuning has not improved accuracy significantly"
   ]
  },
  {
   "cell_type": "code",
   "execution_count": 125,
   "metadata": {},
   "outputs": [
    {
     "data": {
      "text/plain": [
       "array([0.62870778, 1.30939759, 0.51238602, 0.61348819, 0.60720347,\n",
       "       1.24387157, 0.60720347, 1.1656814 , 0.59824981, 0.27390528,\n",
       "       0.51238602, 0.34796416, 1.00391142, 0.61348819, 1.24387157,\n",
       "       0.34796416, 0.34796416, 0.31310717, 1.00391142, 0.62870778,\n",
       "       1.10912837, 0.62870778, 1.00391142, 0.62870778, 0.51238602,\n",
       "       0.34796416, 0.34796416, 1.00391142, 1.47033765, 0.61348819,\n",
       "       1.27738052, 1.1656814 , 1.04548903, 0.62870778, 0.40013666,\n",
       "       0.72567182, 0.27390528, 1.10912837, 1.30939759, 1.30939759,\n",
       "       1.10912837, 1.1656814 , 0.34796416, 0.34796416, 0.34796416,\n",
       "       1.00391142, 0.80686088, 0.27390528, 0.51238602, 1.04548903,\n",
       "       1.04548903, 0.27390528, 1.30939759, 0.27390528, 0.34796416,\n",
       "       0.51238602, 1.47033765, 1.10912837, 0.62870778, 1.10912837,\n",
       "       0.59824981, 0.48376579, 0.37093839, 1.04548903, 1.30939759,\n",
       "       1.00391142, 0.51238602, 1.1656814 , 0.62870778, 0.31310717,\n",
       "       1.10912837, 0.61348819, 0.60720347, 1.22480669, 0.51238602,\n",
       "       0.27390528, 0.42413227, 1.1656814 , 0.59824981, 1.22480669,\n",
       "       0.60720347, 1.04548903, 1.04548903, 1.04548903, 1.22480669,\n",
       "       1.30939759, 0.51238602, 1.00391142, 1.1656814 , 0.62870778,\n",
       "       1.22480669, 0.42413227, 0.62870778, 1.22480669, 0.51238602,\n",
       "       1.10912837, 0.80686088, 1.00391142, 0.60720347, 0.42413227,\n",
       "       0.59824981, 0.31310717, 1.47033765, 0.42413227, 0.51238602,\n",
       "       1.1656814 , 0.60720347, 0.80686088, 0.48376579, 1.22480669,\n",
       "       0.62870778, 1.04548903, 1.22480669, 0.27390528, 1.47033765,\n",
       "       0.42413227, 1.10912837, 0.51238602, 0.34796416, 1.47033765,\n",
       "       0.42413227, 0.59824981, 0.31310717, 0.42413227, 0.51238602,\n",
       "       1.10912837, 1.47033765, 1.30939759, 1.30939759, 1.10912837,\n",
       "       0.80686088, 0.60720347, 1.30939759, 0.31310717, 1.02255999,\n",
       "       1.1656814 , 1.47033765, 1.47033765, 0.61348819, 1.04548903,\n",
       "       0.27390528, 0.34796416, 1.24387157, 0.62870778, 0.34796416,\n",
       "       0.62870778, 0.62870778, 1.27738052, 0.80686088, 0.80686088,\n",
       "       0.61348819, 1.02255999, 0.31310717, 1.47033765, 0.27390528,\n",
       "       1.10912837, 1.10912837, 1.30939759, 0.27390528, 0.48376579,\n",
       "       0.42413227, 0.40515682, 0.34796416, 1.10912837, 1.47033765,\n",
       "       0.62870778, 0.60720347, 0.98237121, 1.1656814 , 0.42413227,\n",
       "       0.40515682, 0.27390528, 0.62870778, 0.51238602, 1.00391142,\n",
       "       0.40515682, 0.42413227, 0.62870778, 1.24387157, 1.16228409,\n",
       "       0.40722117, 0.27390528, 1.04548903, 1.10912837, 0.62870778,\n",
       "       0.59824981, 0.42413227, 0.48376579, 1.47033765, 0.98237121,\n",
       "       1.10912837, 1.1656814 , 0.48376579, 1.10912837, 1.02255999,\n",
       "       0.51238602, 1.00391142, 0.80686088, 1.30939759, 0.40515682,\n",
       "       0.61348819, 1.47033765, 1.02255999, 0.27390528, 0.62870778,\n",
       "       1.30939759, 0.31310717, 0.61348819, 0.59824981, 1.22480669,\n",
       "       1.10912837, 0.59824981, 1.1656814 , 0.51238602, 1.1656814 ,\n",
       "       0.59824981, 0.61348819, 0.42413227, 1.30939759, 0.27390528,\n",
       "       0.59824981, 1.47033765, 0.65723227, 1.24387157, 1.00391142,\n",
       "       1.1656814 , 0.34796416, 1.04548903, 0.98237121, 1.1656814 ,\n",
       "       0.34796416, 0.60720347, 1.1656814 , 0.62870778, 1.30939759,\n",
       "       1.22480669, 0.61348819, 1.10912837, 0.42413227, 0.31310717,\n",
       "       1.30939759, 0.27390528, 0.59824981, 1.47033765, 1.10912837,\n",
       "       0.61348819, 1.47033765, 0.51238602, 0.34796416, 1.10912837])"
      ]
     },
     "execution_count": 125,
     "metadata": {},
     "output_type": "execute_result"
    }
   ],
   "source": [
    "model_rfr = RandomForestRegressor()\n",
    "model_rfr.fit(X_train, y_train)\n",
    "y_test_pred = model_rfr.predict(X_test)\n",
    "y_test_pred"
   ]
  },
  {
   "cell_type": "code",
   "execution_count": 126,
   "metadata": {},
   "outputs": [
    {
     "data": {
      "text/plain": [
       "<bound method NDFrame.tail of         0         1         2         3         4         5         6    \\\n",
       "0  0.657232  0.424132  0.607203  1.470338  0.982371  1.309398  0.982371   \n",
       "1  0.630000  0.410000  0.695000  1.590000  1.030000  1.400000  1.025000   \n",
       "2  0.027232  0.014132 -0.087797 -0.119662 -0.047629 -0.090602 -0.042629   \n",
       "\n",
       "        7         8         9    ...       739       740       741       742  \\\n",
       "0  1.165681  1.470338  0.613488  ...  1.224807  1.165681  1.309398  1.109128   \n",
       "1  1.050000  1.445000  0.460761  ...  1.295000  1.365000  1.250000  0.990000   \n",
       "2  0.115681  0.025338  0.152727  ... -0.070193 -0.199319  0.059398  0.119128   \n",
       "\n",
       "        743       744       745       746       747       748  \n",
       "0  1.470338  1.045489  0.273905  1.277381  0.483766  0.273905  \n",
       "1  1.155000  1.000000  0.255000  1.265000  0.555000  0.310000  \n",
       "2  0.315338  0.045489  0.018905  0.012381 -0.071234 -0.036095  \n",
       "\n",
       "[3 rows x 749 columns]>"
      ]
     },
     "execution_count": 126,
     "metadata": {},
     "output_type": "execute_result"
    }
   ],
   "source": [
    "#RandomForestRegressor Residual showing difference actual vs predicted\n",
    "residual_dtr = pd.DataFrame([model_rfr.predict(X_train),y_train,(model_rfr.predict(X_train)-y_train)])\n",
    "residual_dtr.tail"
   ]
  },
  {
   "cell_type": "code",
   "execution_count": 127,
   "metadata": {},
   "outputs": [
    {
     "data": {
      "image/png": "[encoded data removed]",
      "text/plain": [
       "<Figure size 432x288 with 1 Axes>"
      ]
     },
     "metadata": {
      "needs_background": "light"
     },
     "output_type": "display_data"
    }
   ],
   "source": [
    "# Make predictions using fitted model\n",
    "predictions1 = model_rfr.predict(X_test)\n",
    "\n",
    "# Plotted the difference between the model predicted values and actual y values, versus the model predicted values\n",
    "plt.scatter(model_rfr.predict(X_train), y_train - model_rfr.predict(X_train), c=\"blue\", label=\"Training Data\")\n",
    "plt.scatter(model_rfr.predict(X_test), y_test - model_rfr.predict(X_test), c=\"orange\", label=\"Testing Data\")\n",
    "plt.legend()\n",
    "plt.hlines(y=0, xmin=y_test.min(), xmax=y_test.max())\n",
    "plt.title(\"Residual Plot\")\n",
    "plt.show()"
   ]
  },
  {
   "cell_type": "markdown",
   "metadata": {},
   "source": [
    "# Save the Model"
   ]
  },
  {
   "cell_type": "code",
   "execution_count": 128,
   "metadata": {},
   "outputs": [],
   "source": [
    "import pickle\n",
    "filename = '../../static/nic_model_rfr.sav'\n",
    "pickle.dump(model, open(filename, 'wb'))\n",
    "model_in_rfr = pickle.load(open(filename, 'rb'))"
   ]
  },
  {
   "cell_type": "code",
   "execution_count": 129,
   "metadata": {},
   "outputs": [],
   "source": [
    "# from joblib import dump,load\n",
    "# model_in_rfr = load('nic_model_rfr.sav')"
   ]
  },
  {
   "cell_type": "code",
   "execution_count": 130,
   "metadata": {},
   "outputs": [
    {
     "name": "stdout",
     "output_type": "stream",
     "text": [
      "      RBA    FED     CPI  Prediction\n",
      "0    1.35   1.75  123.90        0.92\n",
      "1    1.60   2.00  124.15        0.88\n",
      "2    1.85   2.25  124.40        0.84\n",
      "3    2.10   2.50  124.65        0.80\n",
      "4    2.35   2.75  124.90        0.76\n",
      "5    2.60   3.00  125.15        0.72\n",
      "6    2.85   3.25  125.40        0.68\n",
      "7    3.10   3.50  125.65        0.65\n",
      "8    3.35   3.75  125.90        0.61\n",
      "9    3.60   4.00  126.15        0.57\n",
      "10   3.85   4.25  126.40        0.53\n",
      "11   4.10   4.50  126.65        0.49\n",
      "12   4.35   4.75  126.90        0.45\n",
      "13   4.60   5.00  127.15        0.41\n",
      "14   4.85   5.25  127.40        0.37\n",
      "15   5.10   5.50  127.65        0.33\n",
      "16   5.35   5.75  127.90        0.29\n",
      "17   5.60   6.00  128.15        0.25\n",
      "18   5.85   6.25  128.40        0.21\n",
      "19   6.10   6.50  128.65        0.18\n",
      "20   6.35   6.75  128.90        0.14\n",
      "21   6.60   7.00  129.15        0.10\n",
      "22   6.85   7.25  129.40        0.06\n",
      "23   7.10   7.50  129.65        0.02\n",
      "24   7.35   7.75  129.90       -0.02\n",
      "25   7.60   8.00  130.15       -0.06\n",
      "26   7.85   8.25  130.40       -0.10\n",
      "27   8.10   8.50  130.65       -0.14\n",
      "28   8.35   8.75  130.90       -0.18\n",
      "29   8.60   9.00  131.15       -0.22\n",
      "30   8.85   9.25  131.40       -0.25\n",
      "31   9.10   9.50  131.65       -0.29\n",
      "32   9.35   9.75  131.90       -0.33\n",
      "33   9.60  10.00  132.15       -0.37\n",
      "34   9.85  10.25  132.40       -0.41\n",
      "35  10.10  10.50  132.65       -0.45\n",
      "36  10.35  10.75  132.90       -0.49\n",
      "37  10.60  11.00  133.15       -0.53\n",
      "38  10.85  11.25  133.40       -0.57\n",
      "39  11.10  11.50  133.65       -0.61 [{'RBA': 1.35, 'FED': 1.75, 'CPI': 123.9, 'Prediction': 0.92}, {'RBA': 1.6, 'FED': 2.0, 'CPI': 124.15, 'Prediction': 0.88}, {'RBA': 1.85, 'FED': 2.25, 'CPI': 124.4, 'Prediction': 0.84}, {'RBA': 2.1, 'FED': 2.5, 'CPI': 124.65, 'Prediction': 0.8}, {'RBA': 2.35, 'FED': 2.75, 'CPI': 124.9, 'Prediction': 0.76}, {'RBA': 2.6, 'FED': 3.0, 'CPI': 125.15, 'Prediction': 0.72}, {'RBA': 2.85, 'FED': 3.25, 'CPI': 125.4, 'Prediction': 0.68}, {'RBA': 3.1, 'FED': 3.5, 'CPI': 125.65, 'Prediction': 0.65}, {'RBA': 3.35, 'FED': 3.75, 'CPI': 125.9, 'Prediction': 0.61}, {'RBA': 3.6, 'FED': 4.0, 'CPI': 126.15, 'Prediction': 0.57}, {'RBA': 3.85, 'FED': 4.25, 'CPI': 126.4, 'Prediction': 0.53}, {'RBA': 4.1, 'FED': 4.5, 'CPI': 126.65, 'Prediction': 0.49}, {'RBA': 4.35, 'FED': 4.75, 'CPI': 126.9, 'Prediction': 0.45}, {'RBA': 4.6, 'FED': 5.0, 'CPI': 127.15, 'Prediction': 0.41}, {'RBA': 4.85, 'FED': 5.25, 'CPI': 127.4, 'Prediction': 0.37}, {'RBA': 5.1, 'FED': 5.5, 'CPI': 127.65, 'Prediction': 0.33}, {'RBA': 5.35, 'FED': 5.75, 'CPI': 127.9, 'Prediction': 0.29}, {'RBA': 5.6, 'FED': 6.0, 'CPI': 128.15, 'Prediction': 0.25}, {'RBA': 5.85, 'FED': 6.25, 'CPI': 128.4, 'Prediction': 0.21}, {'RBA': 6.1, 'FED': 6.5, 'CPI': 128.65, 'Prediction': 0.18}, {'RBA': 6.35, 'FED': 6.75, 'CPI': 128.9, 'Prediction': 0.14}, {'RBA': 6.6, 'FED': 7.0, 'CPI': 129.15, 'Prediction': 0.1}, {'RBA': 6.85, 'FED': 7.25, 'CPI': 129.4, 'Prediction': 0.06}, {'RBA': 7.1, 'FED': 7.5, 'CPI': 129.65, 'Prediction': 0.02}, {'RBA': 7.35, 'FED': 7.75, 'CPI': 129.9, 'Prediction': -0.02}, {'RBA': 7.6, 'FED': 8.0, 'CPI': 130.15, 'Prediction': -0.06}, {'RBA': 7.85, 'FED': 8.25, 'CPI': 130.4, 'Prediction': -0.1}, {'RBA': 8.1, 'FED': 8.5, 'CPI': 130.65, 'Prediction': -0.14}, {'RBA': 8.35, 'FED': 8.75, 'CPI': 130.9, 'Prediction': -0.18}, {'RBA': 8.6, 'FED': 9.0, 'CPI': 131.15, 'Prediction': -0.22}, {'RBA': 8.85, 'FED': 9.25, 'CPI': 131.4, 'Prediction': -0.25}, {'RBA': 9.1, 'FED': 9.5, 'CPI': 131.65, 'Prediction': -0.29}, {'RBA': 9.35, 'FED': 9.75, 'CPI': 131.9, 'Prediction': -0.33}, {'RBA': 9.6, 'FED': 10.0, 'CPI': 132.15, 'Prediction': -0.37}, {'RBA': 9.85, 'FED': 10.25, 'CPI': 132.4, 'Prediction': -0.41}, {'RBA': 10.1, 'FED': 10.5, 'CPI': 132.65, 'Prediction': -0.45}, {'RBA': 10.35, 'FED': 10.75, 'CPI': 132.9, 'Prediction': -0.49}, {'RBA': 10.6, 'FED': 11.0, 'CPI': 133.15, 'Prediction': -0.53}, {'RBA': 10.85, 'FED': 11.25, 'CPI': 133.4, 'Prediction': -0.57}, {'RBA': 11.1, 'FED': 11.5, 'CPI': 133.65, 'Prediction': -0.61}]\n"
     ]
    }
   ],
   "source": [
    "rba = float(1.35)\n",
    "fed = float(1.75)\n",
    "cpi = float(123.90)\n",
    "input =40\n",
    "rfr=[]\n",
    "\n",
    "def randomforest(rba,fed,cpi):\n",
    "    for i in range(0,input):\n",
    "      rfr.append([rba,fed,cpi])\n",
    "      np.round_(rfr,2,out = None) \n",
    "      df = pd.DataFrame(rfr, columns = ['RBA','FED',\"CPI\"])\n",
    "      df.round(2)\n",
    "      pred_rf=model_in_rfr.predict(df)\n",
    "      df['Prediction'] = pred_rf\n",
    "      df['Prediction'] = df['Prediction'].astype(float).round(2)\n",
    "      rba+=0.25\n",
    "      fed+=0.25\n",
    "      cpi+=0.25\n",
    "      # print(df)\n",
    "    my_rforest = df.to_dict(orient='records')\n",
    "    for dict_value in my_rforest:\n",
    "      for k, v in dict_value.items():\n",
    "        dict_value[k] = round(v, 2)\n",
    "    return my_rforest,df\n",
    "# print(my_rforest)\n",
    "my_rf,df = randomforest(rba,fed,cpi)\n",
    "print(df,my_rf)\n"
   ]
  },
  {
   "cell_type": "code",
   "execution_count": 131,
   "metadata": {},
   "outputs": [
    {
     "data": {
      "image/png": "[encoded data removed]",
      "text/plain": [
       "<Figure size 864x360 with 2 Axes>"
      ]
     },
     "metadata": {
      "needs_background": "light"
     },
     "output_type": "display_data"
    }
   ],
   "source": [
    "# DRAW THE PREDICTION\n",
    "#Append the input amount of trading days to dates dictionary\n",
    "input=40\n",
    "# df_pred = df.iloc[0:(input-1)]\n",
    "plot1 = df.plot(y=[\"CPI\",\"Prediction\"], figsize=(12, 5),color=['gold','green'],linewidth=2)\n",
    "plot2 = df.plot(y=[\"RBA\",\"FED\"],secondary_y=True, ax=plot1,color=['pink','steelblue'],linestyle='dashed')\n",
    "plt.title('nic PREDICTIONS')\n",
    "plot1.set_xlabel('Future Trading Days', fontsize=10)\n",
    "plot1.set_ylabel('Close Price AUD ($) or CPI', fontsize=10)\n",
    "plot1.legend(loc='upper left')\n",
    "plot2.legend(loc='upper right')\n",
    "plt.savefig('../../static/data/images/NIC_rfr_pred.png', bbox_inches=\"tight\")\n",
    "plt.show()"
   ]
  },
  {
   "cell_type": "code",
   "execution_count": 132,
   "metadata": {},
   "outputs": [
    {
     "name": "stdout",
     "output_type": "stream",
     "text": [
      "    RBA   FED    CPI  Prediction\n",
      "0  1.35  1.75  123.9     0.91909\n",
      "[0.91908954]\n"
     ]
    }
   ],
   "source": [
    "rba = float(1.35)\n",
    "fed = float(1.75)\n",
    "cpi = float(123.90)\n",
    "def rforest(rba,fed,cpi):\n",
    "    dtr =[[rba,fed,cpi]]\n",
    "    df = pd.DataFrame (dtr, columns = ['RBA','FED',\"CPI\"])\n",
    "    pred_dtr=model_in_rfr.predict(df)\n",
    "    df['Prediction'] = pred_dtr\n",
    "    print(df)\n",
    "    df_dict = df.to_dict(orient='records')\n",
    "    return pred_dtr\n",
    "Pred_rf = rforest(rba,fed,cpi)\n",
    "print(Pred_rf)"
   ]
  },
  {
   "cell_type": "code",
   "execution_count": 133,
   "metadata": {},
   "outputs": [],
   "source": [
    "df_mongo['FED']=df_mongo['FED'].astype(float)"
   ]
  },
  {
   "cell_type": "code",
   "execution_count": 134,
   "metadata": {},
   "outputs": [],
   "source": [
    "df_mongo['RBA']=df_mongo['RBA'].astype(float)"
   ]
  },
  {
   "cell_type": "code",
   "execution_count": 135,
   "metadata": {},
   "outputs": [
    {
     "data": {
      "image/png": "[encoded data removed]",
      "text/plain": [
       "<Figure size 864x360 with 2 Axes>"
      ]
     },
     "metadata": {
      "needs_background": "light"
     },
     "output_type": "display_data"
    }
   ],
   "source": [
    "# x = np.arange(2018,2023,6)\n",
    "ax = df_mongo.plot(y=['Close','CPI'], figsize=(12, 5),color=['grey','green'],linewidth=2)\n",
    "df_mongo.plot(y=['RBA','FED'],secondary_y=True, ax=ax,color=['pink','steelblue'],linestyle='dashed')\n",
    "plt.legend(bbox_to_anchor=(1.03, 1), loc='upper left', borderaxespad=-4, title=\"Interest rates\")\n",
    "ax.legend(loc='upper left')\n",
    "ax.set_xticks([0,200,400,600,800,1000])\n",
    "ax.set_xticklabels([2018,2019,2020,2021,2022,2023], rotation=0)\n",
    "ax.set_title('NIC Random Forest Regression Model')\n",
    "ax.set_xlabel('Trading Date', fontsize=18)\n",
    "ax.set_ylabel('Close Price AUD ($) or CPI', fontsize=18)\n",
    "plt.savefig('../../static/data/images/NIC_tree.png')"
   ]
  },
  {
   "cell_type": "markdown",
   "metadata": {},
   "source": [
    "#Save predicted error to MongoDB"
   ]
  },
  {
   "cell_type": "code",
   "execution_count": 136,
   "metadata": {},
   "outputs": [],
   "source": [
    "# Module used to connect Python with MongoDb\n",
    "import pymongo"
   ]
  },
  {
   "cell_type": "code",
   "execution_count": 137,
   "metadata": {},
   "outputs": [],
   "source": [
    "# The default port used by MongoDB is 27017\n",
    "# https://docs.mongodb.com/manual/reference/default-mongodb-port/\n",
    "conn = 'mongodb://localhost:27017'\n",
    "client = pymongo.MongoClient(conn)\n",
    "\n",
    "# Define the 'sharesDB' database in Mongo\n",
    "db = client.sharesDB.companys\n",
    "\n",
    "name = 'NIC'"
   ]
  },
  {
   "cell_type": "code",
   "execution_count": 138,
   "metadata": {},
   "outputs": [
    {
     "name": "stdout",
     "output_type": "stream",
     "text": [
      "{'_id': ObjectId('62e2354b0512e77444960bd2'), 'model': 'RFR', 'name': 'NIC', 'date': '20/07/2022', 'predicted': 0.92, 'actual': 0.99, 'differece': -0.07497079418004993, 'accuracy': 91.5}\n"
     ]
    }
   ],
   "source": [
    "# query the companys collection\n",
    "companys = db.find({'model': 'RFR',\n",
    "      'name': name})\n",
    "# see change in the collection\n",
    "for company in companys:\n",
    "    print(company)"
   ]
  },
  {
   "cell_type": "code",
   "execution_count": 139,
   "metadata": {},
   "outputs": [
    {
     "name": "stdout",
     "output_type": "stream",
     "text": [
      "91.93 1.09 28/07/2022\n"
     ]
    }
   ],
   "source": [
    "#save last price actual to variable\n",
    "actual_price = df_mongo.iloc[-1,5]\n",
    "actual_date = df_mongo.iloc[-1,1] \n",
    "actual_price = float(actual_price)\n",
    "actual_price=round(actual_price,2)\n",
    "base_accuracy=round(base_accuracy,2)\n",
    "print(base_accuracy,actual_price,actual_date)\n"
   ]
  },
  {
   "cell_type": "code",
   "execution_count": 140,
   "metadata": {},
   "outputs": [
    {
     "name": "stdout",
     "output_type": "stream",
     "text": [
      "date 28/07/2022,predicted 0.92,actual 1.09, difference -0.170910457265107,accuracy 91.93\n"
     ]
    }
   ],
   "source": [
    "# Set keys and values of company\n",
    "predicted = float(Pred_rf)\n",
    "predicted=round(predicted,2)\n",
    "difference = Pred_rf-actual_price\n",
    "difference=difference[0]\n",
    "difference=round(difference,2)\n",
    "print(f'date {actual_date},predicted {predicted},actual {actual_price}, difference {difference},accuracy {base_accuracy}')"
   ]
  },
  {
   "cell_type": "code",
   "execution_count": 141,
   "metadata": {},
   "outputs": [
    {
     "data": {
      "text/plain": [
       "<pymongo.results.DeleteResult at 0x2391f2e19c0>"
      ]
     },
     "execution_count": 141,
     "metadata": {},
     "output_type": "execute_result"
    }
   ],
   "source": [
    "# Delete a document from a collection\n",
    "db.delete_one(\n",
    "    {'model': 'RFR','name': name}\n",
    ")\n"
   ]
  },
  {
   "cell_type": "code",
   "execution_count": 142,
   "metadata": {},
   "outputs": [
    {
     "name": "stdout",
     "output_type": "stream",
     "text": [
      "{'_id': ObjectId('62e236dd0512e77444960bd6'), 'model': 'RFR', 'name': 'NIC', 'date': '28/07/2022', 'predicted': 0.92, 'actual': 1.09, 'differece': -0.170910457265107, 'accuracy': 91.93}\n"
     ]
    }
   ],
   "source": [
    "# Insert a document into the 'companys' collection\n",
    "db.insert_one(\n",
    "    {\n",
    "      'model': 'RFR',\n",
    "      'name': name,\n",
    "      'date': actual_date,\n",
    "      'predicted': predicted,\n",
    "      'actual': actual_price,\n",
    "      'difference': round(difference,4),\n",
    "      'accuracy': base_accuracy         \n",
    "    }\n",
    ")\n",
    "\n",
    "# query the classroom collection\n",
    "companys = db.find({\n",
    "  'model': 'RFR',\n",
    "  'name': name,})\n",
    "\n",
    "# see change in collection\n",
    "for company in companys:\n",
    "    print(company)"
   ]
  }
 ],
 "metadata": {
  "interpreter": {
   "hash": "45bb1cb4637e4034484920e5cfb24c9afd84b0847d6c36e39edd3067d3a05462"
  },
  "kernel_info": {
   "name": "dev"
  },
  "kernelspec": {
   "display_name": "Python 3.9.7 ('base')",
   "language": "python",
   "name": "python3"
  },
  "language_info": {
   "codemirror_mode": {
    "name": "ipython",
    "version": 3
   },
   "file_extension": ".py",
   "mimetype": "text/x-python",
   "name": "python",
   "nbconvert_exporter": "python",
   "pygments_lexer": "ipython3",
   "version": "3.9.7"
  },
  "nteract": {
   "version": "0.12.3"
  }
 },
 "nbformat": 4,
 "nbformat_minor": 2
}
