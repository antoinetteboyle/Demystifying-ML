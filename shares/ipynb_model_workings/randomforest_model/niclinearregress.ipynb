{
 "cells": [
  {
   "cell_type": "code",
   "execution_count": 1,
   "metadata": {},
   "outputs": [
    {
     "name": "stdout",
     "output_type": "stream",
     "text": [
      "Requirement already satisfied: sklearn in c:\\users\\antoi\\anaconda3\\lib\\site-packages (0.0)\n",
      "Requirement already satisfied: scikit-learn in c:\\users\\antoi\\anaconda3\\lib\\site-packages (from sklearn) (0.24.2)\n",
      "Requirement already satisfied: scipy>=0.19.1 in c:\\users\\antoi\\anaconda3\\lib\\site-packages (from scikit-learn->sklearn) (1.7.1)\n",
      "Requirement already satisfied: threadpoolctl>=2.0.0 in c:\\users\\antoi\\anaconda3\\lib\\site-packages (from scikit-learn->sklearn) (2.2.0)\n",
      "Requirement already satisfied: joblib>=0.11 in c:\\users\\antoi\\anaconda3\\lib\\site-packages (from scikit-learn->sklearn) (1.1.0)\n",
      "Requirement already satisfied: numpy>=1.13.3 in c:\\users\\antoi\\anaconda3\\lib\\site-packages (from scikit-learn->sklearn) (1.20.3)\n",
      "Requirement already satisfied: joblib in c:\\users\\antoi\\anaconda3\\lib\\site-packages (1.1.0)\n"
     ]
    }
   ],
   "source": [
    "# Update sklearn to prevent version mismatches\n",
    "!pip install sklearn --upgrade\n",
    "# install joblib. This will be used to save your model. \n",
    "# Restart your kernel after installing \n",
    "!pip install joblib"
   ]
  },
  {
   "cell_type": "markdown",
   "metadata": {},
   "source": [
    "This model uses a neural network and GridSearchCV to predict share price impacts of Interest changes"
   ]
  },
  {
   "cell_type": "markdown",
   "metadata": {},
   "source": [
    "# Read the CSV and Perform Basic Data Cleaning"
   ]
  },
  {
   "cell_type": "code",
   "execution_count": 2,
   "metadata": {},
   "outputs": [],
   "source": [
    "import matplotlib.pyplot as plt\n",
    "import numpy as np\n",
    "import pandas as pd"
   ]
  },
  {
   "cell_type": "code",
   "execution_count": 3,
   "metadata": {},
   "outputs": [
    {
     "data": {
      "text/html": [
       "<div>\n",
       "<style scoped>\n",
       "    .dataframe tbody tr th:only-of-type {\n",
       "        vertical-align: middle;\n",
       "    }\n",
       "\n",
       "    .dataframe tbody tr th {\n",
       "        vertical-align: top;\n",
       "    }\n",
       "\n",
       "    .dataframe thead th {\n",
       "        text-align: right;\n",
       "    }\n",
       "</style>\n",
       "<table border=\"1\" class=\"dataframe\">\n",
       "  <thead>\n",
       "    <tr style=\"text-align: right;\">\n",
       "      <th></th>\n",
       "      <th>Date</th>\n",
       "      <th>Open</th>\n",
       "      <th>High</th>\n",
       "      <th>Low</th>\n",
       "      <th>Close</th>\n",
       "      <th>Adj Close</th>\n",
       "      <th>Volume</th>\n",
       "      <th>RBA</th>\n",
       "      <th>FED</th>\n",
       "      <th>CPI</th>\n",
       "    </tr>\n",
       "  </thead>\n",
       "  <tbody>\n",
       "    <tr>\n",
       "      <th>997</th>\n",
       "      <td>27/07/2022</td>\n",
       "      <td>1.070</td>\n",
       "      <td>1.0700</td>\n",
       "      <td>1.0350</td>\n",
       "      <td>1.055</td>\n",
       "      <td>1.055</td>\n",
       "      <td>8207216</td>\n",
       "      <td>1.35</td>\n",
       "      <td>2.5</td>\n",
       "      <td>125.0</td>\n",
       "    </tr>\n",
       "    <tr>\n",
       "      <th>998</th>\n",
       "      <td>28/07/2022</td>\n",
       "      <td>1.075</td>\n",
       "      <td>1.0875</td>\n",
       "      <td>1.0400</td>\n",
       "      <td>1.085</td>\n",
       "      <td>1.085</td>\n",
       "      <td>9352717</td>\n",
       "      <td>1.35</td>\n",
       "      <td>2.5</td>\n",
       "      <td>125.0</td>\n",
       "    </tr>\n",
       "    <tr>\n",
       "      <th>999</th>\n",
       "      <td>29/07/2022</td>\n",
       "      <td>1.100</td>\n",
       "      <td>1.1050</td>\n",
       "      <td>1.0850</td>\n",
       "      <td>1.085</td>\n",
       "      <td>1.085</td>\n",
       "      <td>24219681</td>\n",
       "      <td>1.35</td>\n",
       "      <td>2.5</td>\n",
       "      <td>125.0</td>\n",
       "    </tr>\n",
       "    <tr>\n",
       "      <th>1000</th>\n",
       "      <td>1/08/2022</td>\n",
       "      <td>1.100</td>\n",
       "      <td>1.1050</td>\n",
       "      <td>1.0575</td>\n",
       "      <td>1.070</td>\n",
       "      <td>1.070</td>\n",
       "      <td>12402984</td>\n",
       "      <td>1.35</td>\n",
       "      <td>2.5</td>\n",
       "      <td>125.0</td>\n",
       "    </tr>\n",
       "    <tr>\n",
       "      <th>1001</th>\n",
       "      <td>2/08/2022</td>\n",
       "      <td>1.060</td>\n",
       "      <td>1.0750</td>\n",
       "      <td>1.0350</td>\n",
       "      <td>1.055</td>\n",
       "      <td>1.055</td>\n",
       "      <td>11196804</td>\n",
       "      <td>1.35</td>\n",
       "      <td>2.5</td>\n",
       "      <td>125.0</td>\n",
       "    </tr>\n",
       "  </tbody>\n",
       "</table>\n",
       "</div>"
      ],
      "text/plain": [
       "            Date   Open    High     Low  Close  Adj Close    Volume   RBA  \\\n",
       "997   27/07/2022  1.070  1.0700  1.0350  1.055      1.055   8207216  1.35   \n",
       "998   28/07/2022  1.075  1.0875  1.0400  1.085      1.085   9352717  1.35   \n",
       "999   29/07/2022  1.100  1.1050  1.0850  1.085      1.085  24219681  1.35   \n",
       "1000   1/08/2022  1.100  1.1050  1.0575  1.070      1.070  12402984  1.35   \n",
       "1001   2/08/2022  1.060  1.0750  1.0350  1.055      1.055  11196804  1.35   \n",
       "\n",
       "      FED    CPI  \n",
       "997   2.5  125.0  \n",
       "998   2.5  125.0  \n",
       "999   2.5  125.0  \n",
       "1000  2.5  125.0  \n",
       "1001  2.5  125.0  "
      ]
     },
     "execution_count": 3,
     "metadata": {},
     "output_type": "execute_result"
    }
   ],
   "source": [
    "df_stock1 = pd.read_csv(\"../../static/data/nic.csv\")\n",
    "# Drop the null columns where all values are null\n",
    "df_stock2 = df_stock1.dropna(axis='columns', how='all')\n",
    "# Drop the null rows\n",
    "df = df_stock2.dropna()\n",
    "df.tail()"
   ]
  },
  {
   "cell_type": "code",
   "execution_count": 4,
   "metadata": {},
   "outputs": [
    {
     "name": "stdout",
     "output_type": "stream",
     "text": [
      "12/08/2022 1.1449999809265137\n"
     ]
    },
    {
     "data": {
      "text/plain": [
       "<bound method NDFrame.tail of                            _id        Date   Open    High     Low  Close  \\\n",
       "0     62ecd306ebbbbc60d7e0a1a3  20/08/2018  0.300  0.3000  0.2600  0.280   \n",
       "1     62ecd306ebbbbc60d7e0a1a4  21/08/2018  0.280  0.2850  0.2500  0.255   \n",
       "2     62ecd306ebbbbc60d7e0a1a5  22/08/2018  0.265  0.2950  0.2600  0.290   \n",
       "3     62ecd306ebbbbc60d7e0a1a6  23/08/2018  0.305  0.3100  0.3000  0.300   \n",
       "4     62ecd306ebbbbc60d7e0a1a7  24/08/2018  0.305  0.3050  0.2950  0.305   \n",
       "...                        ...         ...    ...     ...     ...    ...   \n",
       "1005  62f22470a9212afc18f7893a  08/08/2022  1.085  1.1000  1.0525  1.080   \n",
       "1006  62f36e2ea9212afc18f7893f  09/08/2022  1.090  1.1800  1.0850  1.145   \n",
       "1007  62f6fe48ffc60435e957e36a  10/08/2022  1.130  1.1400  1.0800  1.080   \n",
       "1008  62f6fe48ffc60435e957e36b  11/08/2022  1.120  1.1375  1.1050  1.130   \n",
       "1009  62f6fe48ffc60435e957e36c  12/08/2022  1.135  1.1600  1.1250  1.145   \n",
       "\n",
       "      Adj Close    Volume   RBA  FED    CPI  \n",
       "0      0.262887  14621347  1.50  2.0  113.5  \n",
       "1      0.239415   2166061  1.50  2.0  113.5  \n",
       "2      0.272276   6654300  1.50  2.0  113.5  \n",
       "3      0.281665   3775078  1.50  2.0  113.5  \n",
       "4      0.286360   3203045  1.50  2.0  113.5  \n",
       "...         ...       ...   ...  ...    ...  \n",
       "1005   1.080000  16035858  1.85  2.5  125.0  \n",
       "1006   1.145000  12407641  1.85  2.5  125.0  \n",
       "1007   1.080000   7916607  1.85  2.5  125.0  \n",
       "1008   1.130000   7409002  1.85  2.5  125.0  \n",
       "1009   1.145000   6439409  1.85  2.5  125.0  \n",
       "\n",
       "[1010 rows x 11 columns]>"
      ]
     },
     "execution_count": 4,
     "metadata": {},
     "output_type": "execute_result"
    }
   ],
   "source": [
    "# Connect to MongoDb\n",
    "from pymongo import MongoClient\n",
    "mongoClient = MongoClient()\n",
    "db = mongoClient.sharesDB\n",
    "\n",
    "df_mongo = pd.DataFrame(list(db.nic.find()))\n",
    "last_val = df_mongo.iloc[-1:].values\n",
    "last_date = last_val[0][1]\n",
    "last_close = last_val[0][5]\n",
    "# print(last_val)\n",
    "print(last_date,last_close)\n",
    "df_mongo.tail"
   ]
  },
  {
   "cell_type": "markdown",
   "metadata": {},
   "source": [
    "# Use `RBA`,`FED` and `CPI` for the X values"
   ]
  },
  {
   "cell_type": "code",
   "execution_count": 5,
   "metadata": {},
   "outputs": [
    {
     "name": "stdout",
     "output_type": "stream",
     "text": [
      "(1010, 3) (1010, 1)\n"
     ]
    }
   ],
   "source": [
    "X = df_mongo[[\"RBA\",\"FED\",\"CPI\"]]\n",
    "y = df_mongo[\"Close\"].values.reshape(-1, 1)\n",
    "print(X.shape, y.shape)"
   ]
  },
  {
   "cell_type": "code",
   "execution_count": 6,
   "metadata": {},
   "outputs": [
    {
     "data": {
      "text/html": [
       "<div>\n",
       "<style scoped>\n",
       "    .dataframe tbody tr th:only-of-type {\n",
       "        vertical-align: middle;\n",
       "    }\n",
       "\n",
       "    .dataframe tbody tr th {\n",
       "        vertical-align: top;\n",
       "    }\n",
       "\n",
       "    .dataframe thead th {\n",
       "        text-align: right;\n",
       "    }\n",
       "</style>\n",
       "<table border=\"1\" class=\"dataframe\">\n",
       "  <thead>\n",
       "    <tr style=\"text-align: right;\">\n",
       "      <th></th>\n",
       "      <th>RBA</th>\n",
       "      <th>FED</th>\n",
       "      <th>CPI</th>\n",
       "    </tr>\n",
       "  </thead>\n",
       "  <tbody>\n",
       "    <tr>\n",
       "      <th>0</th>\n",
       "      <td>1.50</td>\n",
       "      <td>2.0</td>\n",
       "      <td>113.5</td>\n",
       "    </tr>\n",
       "    <tr>\n",
       "      <th>1</th>\n",
       "      <td>1.50</td>\n",
       "      <td>2.0</td>\n",
       "      <td>113.5</td>\n",
       "    </tr>\n",
       "    <tr>\n",
       "      <th>2</th>\n",
       "      <td>1.50</td>\n",
       "      <td>2.0</td>\n",
       "      <td>113.5</td>\n",
       "    </tr>\n",
       "    <tr>\n",
       "      <th>3</th>\n",
       "      <td>1.50</td>\n",
       "      <td>2.0</td>\n",
       "      <td>113.5</td>\n",
       "    </tr>\n",
       "    <tr>\n",
       "      <th>4</th>\n",
       "      <td>1.50</td>\n",
       "      <td>2.0</td>\n",
       "      <td>113.5</td>\n",
       "    </tr>\n",
       "    <tr>\n",
       "      <th>...</th>\n",
       "      <td>...</td>\n",
       "      <td>...</td>\n",
       "      <td>...</td>\n",
       "    </tr>\n",
       "    <tr>\n",
       "      <th>1005</th>\n",
       "      <td>1.85</td>\n",
       "      <td>2.5</td>\n",
       "      <td>125.0</td>\n",
       "    </tr>\n",
       "    <tr>\n",
       "      <th>1006</th>\n",
       "      <td>1.85</td>\n",
       "      <td>2.5</td>\n",
       "      <td>125.0</td>\n",
       "    </tr>\n",
       "    <tr>\n",
       "      <th>1007</th>\n",
       "      <td>1.85</td>\n",
       "      <td>2.5</td>\n",
       "      <td>125.0</td>\n",
       "    </tr>\n",
       "    <tr>\n",
       "      <th>1008</th>\n",
       "      <td>1.85</td>\n",
       "      <td>2.5</td>\n",
       "      <td>125.0</td>\n",
       "    </tr>\n",
       "    <tr>\n",
       "      <th>1009</th>\n",
       "      <td>1.85</td>\n",
       "      <td>2.5</td>\n",
       "      <td>125.0</td>\n",
       "    </tr>\n",
       "  </tbody>\n",
       "</table>\n",
       "<p>1010 rows × 3 columns</p>\n",
       "</div>"
      ],
      "text/plain": [
       "       RBA  FED    CPI\n",
       "0     1.50  2.0  113.5\n",
       "1     1.50  2.0  113.5\n",
       "2     1.50  2.0  113.5\n",
       "3     1.50  2.0  113.5\n",
       "4     1.50  2.0  113.5\n",
       "...    ...  ...    ...\n",
       "1005  1.85  2.5  125.0\n",
       "1006  1.85  2.5  125.0\n",
       "1007  1.85  2.5  125.0\n",
       "1008  1.85  2.5  125.0\n",
       "1009  1.85  2.5  125.0\n",
       "\n",
       "[1010 rows x 3 columns]"
      ]
     },
     "execution_count": 6,
     "metadata": {},
     "output_type": "execute_result"
    }
   ],
   "source": [
    "X"
   ]
  },
  {
   "cell_type": "markdown",
   "metadata": {},
   "source": [
    "# Create a Train Test Split"
   ]
  },
  {
   "cell_type": "code",
   "execution_count": 7,
   "metadata": {},
   "outputs": [
    {
     "name": "stdout",
     "output_type": "stream",
     "text": [
      "(757, 3) (757, 1)\n",
      "(253, 3) (253, 1)\n",
      "<bound method DataFrame.info of       RBA   FED    CPI\n",
      "301  0.75  2.00  116.2\n",
      "160  1.50  2.50  114.8\n",
      "787  0.10  1.25  119.7\n",
      "320  0.75  1.75  116.2\n",
      "474  0.25  1.25  116.2\n",
      "..    ...   ...    ...\n",
      "767  0.10  1.25  119.7\n",
      "72   1.50  2.25  114.1\n",
      "908  0.10  0.50  123.4\n",
      "235  1.00  2.50  115.4\n",
      "37   1.50  2.25  114.1\n",
      "\n",
      "[757 rows x 3 columns]>\n"
     ]
    }
   ],
   "source": [
    "# Use train_test_split to create training and testing data\n",
    "from sklearn.model_selection import train_test_split\n",
    "\n",
    "X_train, X_test, y_train, y_test = train_test_split(X, y, random_state=1)\n",
    "print(X_train.shape, y_train.shape)\n",
    "print(X_test.shape, y_test.shape)\n",
    "print(X_train.info)"
   ]
  },
  {
   "cell_type": "code",
   "execution_count": 8,
   "metadata": {},
   "outputs": [],
   "source": [
    "from sklearn.linear_model import LinearRegression\n",
    "model = LinearRegression()"
   ]
  },
  {
   "cell_type": "markdown",
   "metadata": {},
   "source": [
    "# Fit the model"
   ]
  },
  {
   "cell_type": "code",
   "execution_count": 9,
   "metadata": {},
   "outputs": [
    {
     "name": "stdout",
     "output_type": "stream",
     "text": [
      "The history saving thread hit an unexpected error (OperationalError('database is locked')).History will not be written to the database.\n",
      "Training Score: 0.8387764614198697\n",
      "Testing Score: 0.8421394816869419\n"
     ]
    }
   ],
   "source": [
    "# Fit the model to the training data and calculate the scores for the training and testing data\n",
    "\n",
    "### BEGIN SOLUTION\n",
    "model.fit(X_train, y_train)\n",
    "training_score = model.score(X_train, y_train)\n",
    "testing_score = model.score(X_test, y_test)\n",
    "\n",
    "### END SOLUTION \n",
    "\n",
    "print(f\"Training Score: {training_score}\")\n",
    "print(f\"Testing Score: {testing_score}\")"
   ]
  },
  {
   "cell_type": "code",
   "execution_count": 10,
   "metadata": {},
   "outputs": [],
   "source": [
    "# X_train = X_train.reshape((X_train.shape[0], 1))"
   ]
  },
  {
   "cell_type": "code",
   "execution_count": 11,
   "metadata": {},
   "outputs": [],
   "source": [
    "#Linear Regression Residual showing difference actual vs predicted\n",
    "# residual = pd.DataFrame([model.predict(X_train),y_train,(model.predict(X_train)-y_train)])\n",
    "# residual.tail"
   ]
  },
  {
   "cell_type": "code",
   "execution_count": 12,
   "metadata": {},
   "outputs": [
    {
     "data": {
      "text/plain": [
       "Text(0.5, 1.0, 'Residual Plot')"
      ]
     },
     "execution_count": 12,
     "metadata": {},
     "output_type": "execute_result"
    },
    {
     "data": {
      "image/png": "[encoded data removed]",
      "text/plain": [
       "<Figure size 432x288 with 1 Axes>"
      ]
     },
     "metadata": {
      "needs_background": "light"
     },
     "output_type": "display_data"
    }
   ],
   "source": [
    "# Plot the Residuals for the Training and Testing data\n",
    "plt.scatter(model.predict(X_train), model.predict(X_train) - y_train, c=\"blue\", label=\"Training Data\")\n",
    "plt.scatter(model.predict(X_test), model.predict(X_test) - y_test, c=\"orange\", label=\"Testing Data\")\n",
    "plt.legend()\n",
    "plt.hlines(y=0, xmin=y.min(), xmax=y.max())\n",
    "plt.title(\"Residual Plot\")"
   ]
  },
  {
   "cell_type": "code",
   "execution_count": 13,
   "metadata": {},
   "outputs": [],
   "source": [
    "# Linear Regression: X_test predictions to variable\n",
    "predictions = model.predict(X_test)"
   ]
  },
  {
   "cell_type": "markdown",
   "metadata": {},
   "source": [
    "#### R2 Score is a very popular metric used for evaluating the performance of linear regression models. Where R2 Score is between 0 and 1, the closer to 1, the better the regression fit.\n",
    "#### Use MSE or MAE when comparing two or more models, the lower the value of MSE or MAE, the better. MSE (Mean Square Error): Uses Euclidean distance to calculate the error. MSE gives the magnitude of the error only."
   ]
  },
  {
   "cell_type": "code",
   "execution_count": 14,
   "metadata": {},
   "outputs": [
    {
     "name": "stdout",
     "output_type": "stream",
     "text": [
      "MSE: 0.023325018784050917, R2: 0.8421394816869419\n"
     ]
    }
   ],
   "source": [
    "# Used X_test, y_test, and model.predict(X_test) to calculate MSE and R2\n",
    "\n",
    "### BEGIN SOLUTION\n",
    "from sklearn.metrics import mean_squared_error\n",
    "\n",
    "MSE = mean_squared_error(y_test, predictions)\n",
    "r2 = model.score(X_test, y_test)\n",
    "### END SOLUTION\n",
    "\n",
    "print(f\"MSE: {MSE}, R2: {r2}\")"
   ]
  },
  {
   "cell_type": "markdown",
   "metadata": {},
   "source": [
    "#### Lasso regression imposes a constraint on the model parameters that causes regression coefficients for some variables to shrink toward zero. It comes with a parameter, alpha , and the higher the alpha , the more feature coefficients are zero. When alpha is 0 , Lasso regression produces the same coefficients as a linear regression."
   ]
  },
  {
   "cell_type": "code",
   "execution_count": 15,
   "metadata": {},
   "outputs": [
    {
     "name": "stdout",
     "output_type": "stream",
     "text": [
      "MSE: 0.025478346616840362, R2: 0.827566055147431\n"
     ]
    }
   ],
   "source": [
    "# LASSO model\n",
    "# Note: Used an alpha of .01 when creating the model for this activity\n",
    "from sklearn.linear_model import Lasso\n",
    "\n",
    "### BEGIN SOLUTION\n",
    "lasso = Lasso(alpha=.01).fit(X_train, y_train)\n",
    "\n",
    "predictions = lasso.predict(X_test)\n",
    "\n",
    "MSE = mean_squared_error(y_test, predictions)\n",
    "r2 = lasso.score(X_test, y_test)\n",
    "### END SOLUTION\n",
    "\n",
    "print(f\"MSE: {MSE}, R2: {r2}\")"
   ]
  },
  {
   "cell_type": "code",
   "execution_count": 16,
   "metadata": {},
   "outputs": [
    {
     "name": "stdout",
     "output_type": "stream",
     "text": [
      "MSE: 0.02332285839650954, R2: 0.8421541028926178\n"
     ]
    }
   ],
   "source": [
    "# Ridge model\n",
    "# Note: Used an alpha of .01 when creating the model for this activity\n",
    "from sklearn.linear_model import Ridge\n",
    "\n",
    "### BEGIN SOLUTION\n",
    "ridge = Ridge(alpha=.01).fit(X_train, y_train)\n",
    "\n",
    "predictions = ridge.predict(X_test)\n",
    "\n",
    "MSE = mean_squared_error(y_test, predictions)\n",
    "r2 = ridge.score(X_test, y_test)\n",
    "### END SOLUTION\n",
    "\n",
    "print(f\"MSE: {MSE}, R2: {r2}\")"
   ]
  },
  {
   "cell_type": "code",
   "execution_count": 17,
   "metadata": {},
   "outputs": [
    {
     "name": "stdout",
     "output_type": "stream",
     "text": [
      "MSE: 0.02477007252091944, R2: 0.8323595567915214\n"
     ]
    }
   ],
   "source": [
    "# ElasticNet model\n",
    "# Note: Use an alpha of .01 when creating the model for this activity\n",
    "from sklearn.linear_model import ElasticNet\n",
    "\n",
    "### BEGIN SOLUTION\n",
    "elasticnet = ElasticNet(alpha=.01).fit(X_train, y_train)\n",
    "\n",
    "predictions = elasticnet.predict(X_test)\n",
    "\n",
    "MSE = mean_squared_error(y_test, predictions)\n",
    "r2 = elasticnet.score(X_test, y_test)\n",
    "### END SOLUTION\n",
    "\n",
    "print(f\"MSE: {MSE}, R2: {r2}\")"
   ]
  },
  {
   "cell_type": "markdown",
   "metadata": {},
   "source": [
    "# Hyperparameter Tuning"
   ]
  },
  {
   "cell_type": "code",
   "execution_count": 18,
   "metadata": {},
   "outputs": [
    {
     "data": {
      "text/plain": [
       "(1010,)"
      ]
     },
     "execution_count": 18,
     "metadata": {},
     "output_type": "execute_result"
    }
   ],
   "source": [
    "y_target = df_mongo[\"Close\"]\n",
    "y_target.shape"
   ]
  },
  {
   "cell_type": "code",
   "execution_count": 19,
   "metadata": {},
   "outputs": [
    {
     "name": "stdout",
     "output_type": "stream",
     "text": [
      "(757, 3) (757,)\n",
      "(253, 3) (253,)\n"
     ]
    }
   ],
   "source": [
    "# Use train_test_split to create training and testing data\n",
    "from sklearn.model_selection import train_test_split\n",
    "\n",
    "X_train, X_test, y_train, y_test = train_test_split(X, y_target, random_state=1)\n",
    "print(X_train.shape, y_train.shape)\n",
    "print(X_test.shape, y_test.shape)"
   ]
  },
  {
   "cell_type": "code",
   "execution_count": 20,
   "metadata": {},
   "outputs": [
    {
     "name": "stdout",
     "output_type": "stream",
     "text": [
      "(757, 3) (757,)\n",
      "(253, 3) (253,)\n"
     ]
    }
   ],
   "source": [
    "print(X_train.shape,y_train.shape)\n",
    "print(X_test.shape,y_test.shape)"
   ]
  },
  {
   "cell_type": "markdown",
   "metadata": {},
   "source": [
    "#### GridSearchCV and RandomizedSearchCV are techniques to evaluate models for a given hyperparameter vector using cross-validation, hence the “CV” suffix of the class name.\n",
    "#### We are executing many models together is to find which machine learning model works best for this particular dataset."
   ]
  },
  {
   "cell_type": "code",
   "execution_count": 21,
   "metadata": {},
   "outputs": [],
   "source": [
    "from sklearn.linear_model import LinearRegression, Ridge,Lasso\n",
    "from sklearn.neighbors import KNeighborsRegressor\n",
    "from sklearn.ensemble import GradientBoostingRegressor\n",
    "from sklearn.ensemble import ExtraTreesRegressor, RandomForestRegressor\n",
    "from sklearn.tree import DecisionTreeRegressor"
   ]
  },
  {
   "cell_type": "code",
   "execution_count": 22,
   "metadata": {},
   "outputs": [],
   "source": [
    "regressors = [\n",
    "    RandomForestRegressor(),\n",
    "    DecisionTreeRegressor(),\n",
    "    KNeighborsRegressor(),\n",
    "    GradientBoostingRegressor(),\n",
    "    KNeighborsRegressor(),\n",
    "    ExtraTreesRegressor(),\n",
    "    LinearRegression(),\n",
    "    Lasso(),\n",
    "    Ridge()\n",
    "]"
   ]
  },
  {
   "cell_type": "code",
   "execution_count": 23,
   "metadata": {},
   "outputs": [
    {
     "name": "stdout",
     "output_type": "stream",
     "text": [
      "RandomForestRegressor()\n",
      "\tTraining time: 0.197s\n",
      "\tPrediction time: 0.011s\n",
      "\tExplained variance: 0.9521013703792733\n",
      "\tMean absolute error: 0.05959196917507773\n",
      "\tR2 score: 0.9520995157939055\n",
      "\n",
      "DecisionTreeRegressor()\n",
      "\tTraining time: 0.003s\n",
      "\tPrediction time: 0.001s\n",
      "\tExplained variance: 0.9519282823158878\n",
      "\tMean absolute error: 0.059762651109506716\n",
      "\tR2 score: 0.9519259159724318\n",
      "\n",
      "KNeighborsRegressor()\n",
      "\tTraining time: 0.002s\n",
      "\tPrediction time: 0.003s\n",
      "\tExplained variance: 0.9499205230357927\n",
      "\tMean absolute error: 0.06074757067559886\n",
      "\tR2 score: 0.9499050811509825\n",
      "\n",
      "GradientBoostingRegressor()\n",
      "\tTraining time: 0.044s\n",
      "\tPrediction time: 0.002s\n",
      "\tExplained variance: 0.9495081437324631\n",
      "\tMean absolute error: 0.06145865909348213\n",
      "\tR2 score: 0.9494864016062561\n",
      "\n",
      "KNeighborsRegressor()\n",
      "\tTraining time: 0.002s\n",
      "\tPrediction time: 0.002s\n",
      "\tExplained variance: 0.9499205230357927\n",
      "\tMean absolute error: 0.06074757067559886\n",
      "\tR2 score: 0.9499050811509825\n",
      "\n",
      "ExtraTreesRegressor()\n",
      "\tTraining time: 0.136s\n",
      "\tPrediction time: 0.020s\n",
      "\tExplained variance: 0.952035505503923\n",
      "\tMean absolute error: 0.05948388694328209\n",
      "\tR2 score: 0.9520302655274074\n",
      "\n",
      "LinearRegression()\n",
      "\tTraining time: 0.652s\n",
      "\tPrediction time: 0.001s\n",
      "\tExplained variance: 0.842154766734594\n",
      "\tMean absolute error: 0.11632086805287577\n",
      "\tR2 score: 0.8421394816869419\n",
      "\n",
      "Lasso()\n",
      "\tTraining time: 0.002s\n",
      "\tPrediction time: 0.001s\n",
      "\tExplained variance: 0.049778464003711775\n",
      "\tMean absolute error: 0.3403044030059873\n",
      "\tR2 score: 0.04764017726340497\n",
      "\n",
      "Ridge()\n",
      "\tTraining time: 0.002s\n",
      "\tPrediction time: 0.001s\n",
      "\tExplained variance: 0.8433388087940135\n",
      "\tMean absolute error: 0.11560676401374385\n",
      "\tR2 score: 0.8433147267531651\n",
      "\n"
     ]
    }
   ],
   "source": [
    "from time import time\n",
    "from sklearn.metrics import explained_variance_score,mean_absolute_error,r2_score\n",
    "\n",
    "head = 10\n",
    "for model in regressors[:head]:\n",
    "    start = time()\n",
    "    model.fit(X_train, y_train)\n",
    "    train_time = time() - start\n",
    "    start = time()\n",
    "    y_pred = model.predict(X_test)\n",
    "    predict_time = time()-start    \n",
    "    print(model)\n",
    "    print(\"\\tTraining time: %0.3fs\" % train_time)\n",
    "    print(\"\\tPrediction time: %0.3fs\" % predict_time)\n",
    "    print(\"\\tExplained variance:\", explained_variance_score(y_test, y_pred))\n",
    "    print(\"\\tMean absolute error:\", mean_absolute_error(y_test, y_pred))\n",
    "    print(\"\\tR2 score:\", r2_score(y_test, y_pred))\n",
    "    print()"
   ]
  },
  {
   "cell_type": "markdown",
   "metadata": {},
   "source": [
    "#### By comparing these results, we can quickly see that RandomForestRegressor and DecisionTreeRegressor are the best models for our data\n",
    "#### Machine learning models have parameters, which are the internal coefficients set by training or optimizing the model on a training dataset.\n",
    "#### Parameters are different from hyperparameters. Parameters are learned automatically; hyperparameters are set manually to help guide the learning process."
   ]
  },
  {
   "cell_type": "code",
   "execution_count": 24,
   "metadata": {},
   "outputs": [
    {
     "name": "stdout",
     "output_type": "stream",
     "text": [
      "Parameters currently in use:\n",
      "\n",
      "{'bootstrap': True,\n",
      " 'ccp_alpha': 0.0,\n",
      " 'criterion': 'mse',\n",
      " 'max_depth': None,\n",
      " 'max_features': 'auto',\n",
      " 'max_leaf_nodes': None,\n",
      " 'max_samples': None,\n",
      " 'min_impurity_decrease': 0.0,\n",
      " 'min_impurity_split': None,\n",
      " 'min_samples_leaf': 1,\n",
      " 'min_samples_split': 2,\n",
      " 'min_weight_fraction_leaf': 0.0,\n",
      " 'n_estimators': 100,\n",
      " 'n_jobs': None,\n",
      " 'oob_score': False,\n",
      " 'random_state': 42,\n",
      " 'verbose': 0,\n",
      " 'warm_start': False}\n"
     ]
    }
   ],
   "source": [
    "from sklearn.ensemble import RandomForestRegressor\n",
    "rf = RandomForestRegressor(random_state = 42)\n",
    "from pprint import pprint\n",
    "# Look at parameters used by our current forest\n",
    "print('Parameters currently in use:\\n')\n",
    "pprint(rf.get_params())"
   ]
  },
  {
   "cell_type": "code",
   "execution_count": 25,
   "metadata": {},
   "outputs": [
    {
     "name": "stdout",
     "output_type": "stream",
     "text": [
      "{'bootstrap': [True, False],\n",
      " 'max_depth': [10, 20, 30, 40, 50, 60, 70, 80, 90, 100, 110, None],\n",
      " 'max_features': ['auto', 'sqrt'],\n",
      " 'min_samples_leaf': [1, 2, 4],\n",
      " 'min_samples_split': [2, 5, 10],\n",
      " 'n_estimators': [200, 400, 600, 800, 1000, 1200, 1400, 1600, 1800, 2000]}\n"
     ]
    }
   ],
   "source": [
    "from sklearn.model_selection import RandomizedSearchCV\n",
    "# Number of trees in random forest\n",
    "n_estimators = [int(x) for x in np.linspace(start = 200, stop = 2000, num = 10)]\n",
    "# Number of features to consider at every split\n",
    "max_features = ['auto', 'sqrt']\n",
    "# Maximum number of levels in tree\n",
    "max_depth = [int(x) for x in np.linspace(10, 110, num = 11)]\n",
    "max_depth.append(None)\n",
    "# Minimum number of samples required to split a node\n",
    "min_samples_split = [2, 5, 10]\n",
    "# Minimum number of samples required at each leaf node\n",
    "min_samples_leaf = [1, 2, 4]\n",
    "# Method of selecting samples for training each tree\n",
    "bootstrap = [True, False]\n",
    "# Create the random grid\n",
    "random_grid = {'n_estimators': n_estimators,\n",
    "               'max_features': max_features,\n",
    "               'max_depth': max_depth,\n",
    "               'min_samples_split': min_samples_split,\n",
    "               'min_samples_leaf': min_samples_leaf,\n",
    "               'bootstrap': bootstrap}\n",
    "pprint(random_grid)"
   ]
  },
  {
   "cell_type": "code",
   "execution_count": 26,
   "metadata": {},
   "outputs": [
    {
     "name": "stdout",
     "output_type": "stream",
     "text": [
      "Fitting 3 folds for each of 100 candidates, totalling 300 fits\n"
     ]
    },
    {
     "data": {
      "text/plain": [
       "RandomizedSearchCV(cv=3, estimator=RandomForestRegressor(), n_iter=100,\n",
       "                   n_jobs=-1,\n",
       "                   param_distributions={'bootstrap': [True, False],\n",
       "                                        'max_depth': [10, 20, 30, 40, 50, 60,\n",
       "                                                      70, 80, 90, 100, 110,\n",
       "                                                      None],\n",
       "                                        'max_features': ['auto', 'sqrt'],\n",
       "                                        'min_samples_leaf': [1, 2, 4],\n",
       "                                        'min_samples_split': [2, 5, 10],\n",
       "                                        'n_estimators': [200, 400, 600, 800,\n",
       "                                                         1000, 1200, 1400, 1600,\n",
       "                                                         1800, 2000]},\n",
       "                   random_state=42, verbose=2)"
      ]
     },
     "execution_count": 26,
     "metadata": {},
     "output_type": "execute_result"
    }
   ],
   "source": [
    "# Use the random grid to search for best hyperparameters\n",
    "# First create the base model to tune\n",
    "rf = RandomForestRegressor()\n",
    "# Random search of parameters, using 3 fold cross validation, \n",
    "# search across 100 different combinations, and use all available cores\n",
    "rf_random = RandomizedSearchCV(estimator = rf, param_distributions = random_grid, n_iter = 100, cv = 3, verbose=2, random_state=42, n_jobs = -1)\n",
    "# Fit the random search model\n",
    "rf_random.fit(X_train, y_train)"
   ]
  },
  {
   "cell_type": "code",
   "execution_count": 27,
   "metadata": {},
   "outputs": [
    {
     "data": {
      "text/plain": [
       "{'n_estimators': 1000,\n",
       " 'min_samples_split': 2,\n",
       " 'min_samples_leaf': 1,\n",
       " 'max_features': 'auto',\n",
       " 'max_depth': 50,\n",
       " 'bootstrap': False}"
      ]
     },
     "execution_count": 27,
     "metadata": {},
     "output_type": "execute_result"
    }
   ],
   "source": [
    "rf_random.best_params_"
   ]
  },
  {
   "cell_type": "code",
   "execution_count": 28,
   "metadata": {},
   "outputs": [
    {
     "name": "stdout",
     "output_type": "stream",
     "text": [
      "Model Performance\n",
      "Average Error: 0.0595 degrees.\n",
      "Accuracy = 91.96%.\n",
      "Model Performance\n",
      "Average Error: 0.0596 degrees.\n",
      "Accuracy = 91.94%.\n",
      "Improvement of -0.02%.\n"
     ]
    }
   ],
   "source": [
    "def evaluate(model, X_test, y_test):\n",
    "    predictions = model.predict(X_test)\n",
    "    errors = abs(predictions - y_test)\n",
    "    mape = 100 * np.mean(errors / y_test)\n",
    "    accuracy = 100 - mape\n",
    "    print('Model Performance')\n",
    "    print('Average Error: {:0.4f} degrees.'.format(np.mean(errors)))\n",
    "    print('Accuracy = {:0.2f}%.'.format(accuracy))\n",
    "    return accuracy\n",
    "base_model = RandomForestRegressor(n_estimators = 10, random_state = 42)\n",
    "base_model.fit(X_train, y_train)\n",
    "base_accuracy = evaluate(base_model, X_test, y_test)\n",
    "\n",
    "best_random = rf_random.best_estimator_\n",
    "random_accuracy = evaluate(best_random, X_test, y_test)\n",
    "\n",
    "print('Improvement of {:0.2f}%.'.format( 100 * (random_accuracy - base_accuracy) / base_accuracy))"
   ]
  },
  {
   "cell_type": "code",
   "execution_count": 29,
   "metadata": {},
   "outputs": [],
   "source": [
    "# Hyperparameter tuning has not improved accuracy significantly"
   ]
  },
  {
   "cell_type": "code",
   "execution_count": 30,
   "metadata": {},
   "outputs": [
    {
     "data": {
      "text/plain": [
       "array([1.28524098, 1.11122601, 0.65603417, 0.62828418, 1.02571184,\n",
       "       0.60318291, 1.11122601, 1.28524098, 0.59675623, 0.27414175,\n",
       "       0.51666321, 0.34658161, 0.61864728, 0.60318291, 1.17052087,\n",
       "       0.34658161, 0.34658161, 0.31205536, 1.24382997, 0.62828418,\n",
       "       1.02571184, 1.01497983, 0.51666321, 0.29252272, 0.95107723,\n",
       "       0.34658161, 0.34658161, 1.05000808, 1.17052087, 1.17052087,\n",
       "       1.24382997, 1.05000808, 1.02571184, 1.05000808, 0.72669278,\n",
       "       0.42430391, 0.27414175, 1.01497983, 0.60318291, 1.30181234,\n",
       "       0.81904351, 0.42430391, 0.34658161, 0.34658161, 0.34658161,\n",
       "       1.17052087, 1.28524098, 0.27414175, 1.11122601, 1.45307136,\n",
       "       0.51666321, 0.27414175, 0.42430391, 0.27414175, 0.34658161,\n",
       "       1.05000808, 1.30181234, 1.11122601, 1.24382997, 1.17052087,\n",
       "       0.59675623, 1.11122601, 1.11122601, 1.05000808, 1.30181234,\n",
       "       1.01497983, 0.62828418, 1.17052087, 1.24382997, 0.31205536,\n",
       "       0.40533375, 0.59675623, 0.60318291, 1.30181234, 0.60318291,\n",
       "       0.27414175, 0.61864728, 0.59675623, 0.81904351, 0.42430391,\n",
       "       0.61864728, 1.28524098, 1.30181234, 0.48376901, 0.42430391,\n",
       "       0.42430391, 0.60318291, 1.01497983, 1.01497983, 0.61864728,\n",
       "       1.21329527, 1.30181234, 1.17052087, 0.51666321, 0.62828418,\n",
       "       1.14881066, 1.11122601, 1.17052087, 0.51666321, 0.42430391,\n",
       "       1.02571184, 0.31205536, 1.11122601, 0.62828418, 1.30181234,\n",
       "       1.45307136, 1.17052087, 0.62828418, 1.30181234, 1.17052087,\n",
       "       0.51666321, 0.59675623, 0.60318291, 0.27414175, 1.45307136,\n",
       "       1.21329527, 0.42430391, 1.30181234, 0.34658161, 1.17052087,\n",
       "       1.21329527, 1.05000808, 0.31205536, 0.42430391, 0.40533375,\n",
       "       0.59675623, 1.11122601, 1.11122601, 1.45307136, 0.62828418,\n",
       "       0.51666321, 0.59675623, 1.30181234, 0.31205536, 1.45307136,\n",
       "       1.09117119, 1.45307136, 1.21329527, 1.05000808, 1.21329527,\n",
       "       0.27414175, 0.34658161, 0.61864728, 0.62828418, 0.34658161,\n",
       "       0.31205536, 0.41216518, 1.17052087, 1.01497983, 0.62828418,\n",
       "       1.17052087, 0.62828418, 0.31205536, 1.01497983, 0.27414175,\n",
       "       0.60318291, 1.21329527, 1.02571184, 1.11122601, 0.27414175,\n",
       "       0.41216518, 0.42430391, 1.17052087, 0.34658161, 1.17052087,\n",
       "       1.45307136, 0.62828418, 0.61864728, 1.05000808, 1.17052087,\n",
       "       0.61864728, 0.59675623, 0.27414175, 0.48376901, 1.21329527,\n",
       "       1.11122601, 0.40533375, 1.06469325, 0.48376901, 0.95107723,\n",
       "       0.40778276, 1.01497983, 0.27414175, 0.62828418, 0.62828418,\n",
       "       1.30181234, 1.21329527, 0.40533375, 1.24382997, 0.42430391,\n",
       "       1.17052087, 1.11122601, 1.17052087, 0.48376901, 1.01497983,\n",
       "       0.60318291, 0.51666321, 1.05000808, 1.01497983, 1.45307136,\n",
       "       0.51666321, 0.51666321, 0.95107723, 0.62828418, 0.27414175,\n",
       "       0.62828418, 1.30181234, 0.31205536, 1.11122601, 0.62828418,\n",
       "       0.59675623, 1.11122601, 1.11122601, 1.21329527, 1.05000808,\n",
       "       1.17052087, 1.24382997, 0.61864728, 0.42430391, 1.30181234,\n",
       "       0.27414175, 1.05000808, 1.01497983, 0.59675623, 1.24382997,\n",
       "       1.05000808, 1.05000808, 0.34658161, 1.05000808, 1.06469325,\n",
       "       1.45307136, 1.17052087, 0.34658161, 0.48376901, 0.60318291,\n",
       "       0.62828418, 0.51666321, 0.51666321, 1.17052087, 0.37331614,\n",
       "       0.61864728, 0.42430391, 0.31205536, 1.23894727, 0.27414175,\n",
       "       0.62828418, 1.11122601, 1.14881066, 1.30181234, 1.45307136,\n",
       "       1.21329527, 0.34658161, 1.05000808])"
      ]
     },
     "execution_count": 30,
     "metadata": {},
     "output_type": "execute_result"
    }
   ],
   "source": [
    "model_rfr = RandomForestRegressor()\n",
    "model_rfr.fit(X_train, y_train)\n",
    "y_test_pred = model_rfr.predict(X_test)\n",
    "y_test_pred"
   ]
  },
  {
   "cell_type": "code",
   "execution_count": 31,
   "metadata": {},
   "outputs": [
    {
     "data": {
      "text/plain": [
       "<bound method NDFrame.tail of         0         1         2         3         4        5         6    \\\n",
       "0  0.656034  0.424304  1.050008  0.596756  0.628284  1.24383  0.819044   \n",
       "1  0.635000  0.410000  0.950000  0.540000  0.561188  1.26500  0.758097   \n",
       "2  0.021034  0.014304  0.100008  0.056756  0.067096 -0.02117  0.060947   \n",
       "\n",
       "       7         8         9    ...       747       748       749       750  \\\n",
       "0  1.24383  1.170521  0.346582  ...  1.213295  1.170521  1.301812  1.111226   \n",
       "1  1.25500  1.420000  0.380000  ...  1.295000  1.365000  1.250000  0.990000   \n",
       "2 -0.01117 -0.249479 -0.033418  ... -0.081705 -0.194479  0.051812  0.121226   \n",
       "\n",
       "        751       752       753       754       755       756  \n",
       "0  1.453071  1.050008  0.274142  1.285241  0.483769  0.274142  \n",
       "1  1.155000  1.000000  0.255000  1.265000  0.555000  0.310000  \n",
       "2  0.298071  0.050008  0.019142  0.020241 -0.071231 -0.035858  \n",
       "\n",
       "[3 rows x 757 columns]>"
      ]
     },
     "execution_count": 31,
     "metadata": {},
     "output_type": "execute_result"
    }
   ],
   "source": [
    "#RandomForestRegressor Residual showing difference actual vs predicted\n",
    "residual_dtr = pd.DataFrame([model_rfr.predict(X_train),y_train,(model_rfr.predict(X_train)-y_train)])\n",
    "residual_dtr.tail"
   ]
  },
  {
   "cell_type": "code",
   "execution_count": 32,
   "metadata": {},
   "outputs": [
    {
     "data": {
      "image/png": "[encoded data removed]",
      "text/plain": [
       "<Figure size 432x288 with 1 Axes>"
      ]
     },
     "metadata": {
      "needs_background": "light"
     },
     "output_type": "display_data"
    }
   ],
   "source": [
    "# Make predictions using fitted model\n",
    "predictions1 = model_rfr.predict(X_test)\n",
    "\n",
    "# Plotted the difference between the model predicted values and actual y values, versus the model predicted values\n",
    "plt.scatter(model_rfr.predict(X_train), y_train - model_rfr.predict(X_train), c=\"blue\", label=\"Training Data\")\n",
    "plt.scatter(model_rfr.predict(X_test), y_test - model_rfr.predict(X_test), c=\"orange\", label=\"Testing Data\")\n",
    "plt.legend()\n",
    "plt.hlines(y=0, xmin=y_test.min(), xmax=y_test.max())\n",
    "plt.title(\"Residual Plot\")\n",
    "plt.show()"
   ]
  },
  {
   "cell_type": "markdown",
   "metadata": {},
   "source": [
    "# Save the Model"
   ]
  },
  {
   "cell_type": "code",
   "execution_count": 33,
   "metadata": {},
   "outputs": [],
   "source": [
    "import pickle\n",
    "filename = '../../static/nic_model_rfr.sav'\n",
    "pickle.dump(model, open(filename, 'wb'))\n",
    "model_in_rfr = pickle.load(open(filename, 'rb'))"
   ]
  },
  {
   "cell_type": "code",
   "execution_count": 34,
   "metadata": {},
   "outputs": [],
   "source": [
    "# from joblib import dump,load\n",
    "# model_in_rfr = load('nic_model_rfr.sav')"
   ]
  },
  {
   "cell_type": "code",
   "execution_count": 35,
   "metadata": {},
   "outputs": [
    {
     "name": "stdout",
     "output_type": "stream",
     "text": [
      "      RBA    FED     CPI  Prediction\n",
      "0    1.35   1.75  123.90        0.93\n",
      "1    1.60   2.00  124.15        0.89\n",
      "2    1.85   2.25  124.40        0.85\n",
      "3    2.10   2.50  124.65        0.81\n",
      "4    2.35   2.75  124.90        0.78\n",
      "5    2.60   3.00  125.15        0.74\n",
      "6    2.85   3.25  125.40        0.70\n",
      "7    3.10   3.50  125.65        0.66\n",
      "8    3.35   3.75  125.90        0.63\n",
      "9    3.60   4.00  126.15        0.59\n",
      "10   3.85   4.25  126.40        0.55\n",
      "11   4.10   4.50  126.65        0.51\n",
      "12   4.35   4.75  126.90        0.48\n",
      "13   4.60   5.00  127.15        0.44\n",
      "14   4.85   5.25  127.40        0.40\n",
      "15   5.10   5.50  127.65        0.36\n",
      "16   5.35   5.75  127.90        0.33\n",
      "17   5.60   6.00  128.15        0.29\n",
      "18   5.85   6.25  128.40        0.25\n",
      "19   6.10   6.50  128.65        0.21\n",
      "20   6.35   6.75  128.90        0.18\n",
      "21   6.60   7.00  129.15        0.14\n",
      "22   6.85   7.25  129.40        0.10\n",
      "23   7.10   7.50  129.65        0.06\n",
      "24   7.35   7.75  129.90        0.03\n",
      "25   7.60   8.00  130.15       -0.01\n",
      "26   7.85   8.25  130.40       -0.05\n",
      "27   8.10   8.50  130.65       -0.09\n",
      "28   8.35   8.75  130.90       -0.13\n",
      "29   8.60   9.00  131.15       -0.16\n",
      "30   8.85   9.25  131.40       -0.20\n",
      "31   9.10   9.50  131.65       -0.24\n",
      "32   9.35   9.75  131.90       -0.28\n",
      "33   9.60  10.00  132.15       -0.31\n",
      "34   9.85  10.25  132.40       -0.35\n",
      "35  10.10  10.50  132.65       -0.39\n",
      "36  10.35  10.75  132.90       -0.43\n",
      "37  10.60  11.00  133.15       -0.46\n",
      "38  10.85  11.25  133.40       -0.50\n",
      "39  11.10  11.50  133.65       -0.54 [{'RBA': 1.35, 'FED': 1.75, 'CPI': 123.9, 'Prediction': 0.93}, {'RBA': 1.6, 'FED': 2.0, 'CPI': 124.15, 'Prediction': 0.89}, {'RBA': 1.85, 'FED': 2.25, 'CPI': 124.4, 'Prediction': 0.85}, {'RBA': 2.1, 'FED': 2.5, 'CPI': 124.65, 'Prediction': 0.81}, {'RBA': 2.35, 'FED': 2.75, 'CPI': 124.9, 'Prediction': 0.78}, {'RBA': 2.6, 'FED': 3.0, 'CPI': 125.15, 'Prediction': 0.74}, {'RBA': 2.85, 'FED': 3.25, 'CPI': 125.4, 'Prediction': 0.7}, {'RBA': 3.1, 'FED': 3.5, 'CPI': 125.65, 'Prediction': 0.66}, {'RBA': 3.35, 'FED': 3.75, 'CPI': 125.9, 'Prediction': 0.63}, {'RBA': 3.6, 'FED': 4.0, 'CPI': 126.15, 'Prediction': 0.59}, {'RBA': 3.85, 'FED': 4.25, 'CPI': 126.4, 'Prediction': 0.55}, {'RBA': 4.1, 'FED': 4.5, 'CPI': 126.65, 'Prediction': 0.51}, {'RBA': 4.35, 'FED': 4.75, 'CPI': 126.9, 'Prediction': 0.48}, {'RBA': 4.6, 'FED': 5.0, 'CPI': 127.15, 'Prediction': 0.44}, {'RBA': 4.85, 'FED': 5.25, 'CPI': 127.4, 'Prediction': 0.4}, {'RBA': 5.1, 'FED': 5.5, 'CPI': 127.65, 'Prediction': 0.36}, {'RBA': 5.35, 'FED': 5.75, 'CPI': 127.9, 'Prediction': 0.33}, {'RBA': 5.6, 'FED': 6.0, 'CPI': 128.15, 'Prediction': 0.29}, {'RBA': 5.85, 'FED': 6.25, 'CPI': 128.4, 'Prediction': 0.25}, {'RBA': 6.1, 'FED': 6.5, 'CPI': 128.65, 'Prediction': 0.21}, {'RBA': 6.35, 'FED': 6.75, 'CPI': 128.9, 'Prediction': 0.18}, {'RBA': 6.6, 'FED': 7.0, 'CPI': 129.15, 'Prediction': 0.14}, {'RBA': 6.85, 'FED': 7.25, 'CPI': 129.4, 'Prediction': 0.1}, {'RBA': 7.1, 'FED': 7.5, 'CPI': 129.65, 'Prediction': 0.06}, {'RBA': 7.35, 'FED': 7.75, 'CPI': 129.9, 'Prediction': 0.03}, {'RBA': 7.6, 'FED': 8.0, 'CPI': 130.15, 'Prediction': -0.01}, {'RBA': 7.85, 'FED': 8.25, 'CPI': 130.4, 'Prediction': -0.05}, {'RBA': 8.1, 'FED': 8.5, 'CPI': 130.65, 'Prediction': -0.09}, {'RBA': 8.35, 'FED': 8.75, 'CPI': 130.9, 'Prediction': -0.13}, {'RBA': 8.6, 'FED': 9.0, 'CPI': 131.15, 'Prediction': -0.16}, {'RBA': 8.85, 'FED': 9.25, 'CPI': 131.4, 'Prediction': -0.2}, {'RBA': 9.1, 'FED': 9.5, 'CPI': 131.65, 'Prediction': -0.24}, {'RBA': 9.35, 'FED': 9.75, 'CPI': 131.9, 'Prediction': -0.28}, {'RBA': 9.6, 'FED': 10.0, 'CPI': 132.15, 'Prediction': -0.31}, {'RBA': 9.85, 'FED': 10.25, 'CPI': 132.4, 'Prediction': -0.35}, {'RBA': 10.1, 'FED': 10.5, 'CPI': 132.65, 'Prediction': -0.39}, {'RBA': 10.35, 'FED': 10.75, 'CPI': 132.9, 'Prediction': -0.43}, {'RBA': 10.6, 'FED': 11.0, 'CPI': 133.15, 'Prediction': -0.46}, {'RBA': 10.85, 'FED': 11.25, 'CPI': 133.4, 'Prediction': -0.5}, {'RBA': 11.1, 'FED': 11.5, 'CPI': 133.65, 'Prediction': -0.54}]\n"
     ]
    }
   ],
   "source": [
    "rba = float(1.35)\n",
    "fed = float(1.75)\n",
    "cpi = float(123.90)\n",
    "input =40\n",
    "rfr=[]\n",
    "\n",
    "def randomforest(rba,fed,cpi):\n",
    "    for i in range(0,input):\n",
    "      rfr.append([rba,fed,cpi])\n",
    "      np.round_(rfr,2,out = None) \n",
    "      df = pd.DataFrame(rfr, columns = ['RBA','FED',\"CPI\"])\n",
    "      df.round(2)\n",
    "      pred_rf=model_in_rfr.predict(df)\n",
    "      df['Prediction'] = pred_rf\n",
    "      df['Prediction'] = df['Prediction'].astype(float).round(2)\n",
    "      rba+=0.25\n",
    "      fed+=0.25\n",
    "      cpi+=0.25\n",
    "      # print(df)\n",
    "    my_rforest = df.to_dict(orient='records')\n",
    "    for dict_value in my_rforest:\n",
    "      for k, v in dict_value.items():\n",
    "        dict_value[k] = round(v, 2)\n",
    "    return my_rforest,df\n",
    "# print(my_rforest)\n",
    "my_rf,df = randomforest(rba,fed,cpi)\n",
    "print(df,my_rf)\n"
   ]
  },
  {
   "cell_type": "code",
   "execution_count": 36,
   "metadata": {},
   "outputs": [
    {
     "data": {
      "image/png": "[encoded data removed]",
      "text/plain": [
       "<Figure size 864x360 with 2 Axes>"
      ]
     },
     "metadata": {
      "needs_background": "light"
     },
     "output_type": "display_data"
    }
   ],
   "source": [
    "# DRAW THE PREDICTION\n",
    "#Append the input amount of trading days to dates dictionary\n",
    "input=40\n",
    "# df_pred = df.iloc[0:(input-1)]\n",
    "plot1 = df.plot(y=[\"CPI\",\"Prediction\"], figsize=(12, 5),color=['gold','green'],linewidth=2)\n",
    "plot2 = df.plot(y=[\"RBA\",\"FED\"],secondary_y=True, ax=plot1,color=['pink','steelblue'],linestyle='dashed')\n",
    "plt.title('nic PREDICTIONS')\n",
    "plot1.set_xlabel('Future Trading Days', fontsize=10)\n",
    "plot1.set_ylabel('Close Price AUD ($) or CPI', fontsize=10)\n",
    "plot1.legend(loc='upper left')\n",
    "plot2.legend(loc='upper right')\n",
    "plt.savefig('../../static/data/images/NIC_rfr_pred.png', bbox_inches=\"tight\")\n",
    "plt.show()"
   ]
  },
  {
   "cell_type": "code",
   "execution_count": 37,
   "metadata": {},
   "outputs": [
    {
     "name": "stdout",
     "output_type": "stream",
     "text": [
      "    RBA   FED    CPI  Prediction\n",
      "0  1.35  1.75  123.9    0.926807\n",
      "[0.92680704]\n"
     ]
    }
   ],
   "source": [
    "rba = float(1.35)\n",
    "fed = float(1.75)\n",
    "cpi = float(123.90)\n",
    "def rforest(rba,fed,cpi):\n",
    "    dtr =[[rba,fed,cpi]]\n",
    "    df = pd.DataFrame (dtr, columns = ['RBA','FED',\"CPI\"])\n",
    "    pred_dtr=model_in_rfr.predict(df)\n",
    "    df['Prediction'] = pred_dtr\n",
    "    print(df)\n",
    "    df_dict = df.to_dict(orient='records')\n",
    "    return pred_dtr\n",
    "Pred_rf = rforest(rba,fed,cpi)\n",
    "print(Pred_rf)"
   ]
  },
  {
   "cell_type": "code",
   "execution_count": 38,
   "metadata": {},
   "outputs": [],
   "source": [
    "df_mongo['FED']=df_mongo['FED'].astype(float)"
   ]
  },
  {
   "cell_type": "code",
   "execution_count": 39,
   "metadata": {},
   "outputs": [],
   "source": [
    "df_mongo['RBA']=df_mongo['RBA'].astype(float)"
   ]
  },
  {
   "cell_type": "code",
   "execution_count": 40,
   "metadata": {},
   "outputs": [
    {
     "data": {
      "image/png": "[encoded data removed]",
      "text/plain": [
       "<Figure size 864x360 with 2 Axes>"
      ]
     },
     "metadata": {
      "needs_background": "light"
     },
     "output_type": "display_data"
    }
   ],
   "source": [
    "# x = np.arange(2018,2023,6)\n",
    "ax = df_mongo.plot(y=['Close','CPI'], figsize=(12, 5),color=['grey','green'],linewidth=2)\n",
    "df_mongo.plot(y=['RBA','FED'],secondary_y=True, ax=ax,color=['pink','steelblue'],linestyle='dashed')\n",
    "plt.legend(bbox_to_anchor=(1.03, 1), loc='upper left', borderaxespad=-4, title=\"Interest rates\")\n",
    "ax.legend(loc='upper left')\n",
    "ax.set_xticks([0,200,400,600,800,1000])\n",
    "ax.set_xticklabels([2018,2019,2020,2021,2022,2023], rotation=0)\n",
    "ax.set_title('NIC Random Forest Regression Model')\n",
    "ax.set_xlabel('Trading Date', fontsize=18)\n",
    "ax.set_ylabel('Close Price AUD ($) or CPI', fontsize=18)\n",
    "plt.savefig('../../static/data/images/NIC_tree.png')"
   ]
  },
  {
   "cell_type": "markdown",
   "metadata": {},
   "source": [
    "#Save predicted error to MongoDB"
   ]
  },
  {
   "cell_type": "code",
   "execution_count": 41,
   "metadata": {},
   "outputs": [],
   "source": [
    "# Module used to connect Python with MongoDb\n",
    "import pymongo"
   ]
  },
  {
   "cell_type": "code",
   "execution_count": 42,
   "metadata": {},
   "outputs": [],
   "source": [
    "# The default port used by MongoDB is 27017\n",
    "# https://docs.mongodb.com/manual/reference/default-mongodb-port/\n",
    "conn = 'mongodb://localhost:27017'\n",
    "client = pymongo.MongoClient(conn)\n",
    "\n",
    "# Define the 'sharesDB' database in Mongo\n",
    "db = client.sharesDB.companys\n",
    "\n",
    "name = 'NIC'"
   ]
  },
  {
   "cell_type": "code",
   "execution_count": 43,
   "metadata": {},
   "outputs": [
    {
     "name": "stdout",
     "output_type": "stream",
     "text": [
      "{'_id': ObjectId('62ee1c6a81d92d88082e883d'), 'model': 'RFR', 'name': 'NIC', 'date': '05/08/2022', 'predicted': 0.92, 'actual': 1.1, 'difference': -0.18, 'accuracy': 91.64}\n"
     ]
    }
   ],
   "source": [
    "# query the companys collection\n",
    "companys = db.find({'model': 'RFR',\n",
    "      'name': name})\n",
    "# see change in the collection\n",
    "for company in companys:\n",
    "    print(company)"
   ]
  },
  {
   "cell_type": "code",
   "execution_count": 44,
   "metadata": {},
   "outputs": [
    {
     "name": "stdout",
     "output_type": "stream",
     "text": [
      "91.96 1.14 12/08/2022\n"
     ]
    }
   ],
   "source": [
    "#save last price actual to variable\n",
    "actual_price = df_mongo.iloc[-1,5]\n",
    "actual_date = df_mongo.iloc[-1,1] \n",
    "actual_price = float(actual_price)\n",
    "actual_price=round(actual_price,2)\n",
    "base_accuracy=round(base_accuracy,2)\n",
    "print(base_accuracy,actual_price,actual_date)\n"
   ]
  },
  {
   "cell_type": "code",
   "execution_count": 45,
   "metadata": {},
   "outputs": [
    {
     "name": "stdout",
     "output_type": "stream",
     "text": [
      "date 12/08/2022,predicted 0.93,actual 1.14, difference -0.21,accuracy 91.96\n"
     ]
    }
   ],
   "source": [
    "# Set keys and values of company\n",
    "predicted = float(Pred_rf)\n",
    "predicted=round(predicted,2)\n",
    "difference = Pred_rf-actual_price\n",
    "difference=difference[0]\n",
    "difference=round(difference,2)\n",
    "print(f'date {actual_date},predicted {predicted},actual {actual_price}, difference {difference},accuracy {base_accuracy}')"
   ]
  },
  {
   "cell_type": "code",
   "execution_count": 46,
   "metadata": {},
   "outputs": [
    {
     "data": {
      "text/plain": [
       "<pymongo.results.DeleteResult at 0x1e729033100>"
      ]
     },
     "execution_count": 46,
     "metadata": {},
     "output_type": "execute_result"
    }
   ],
   "source": [
    "# Delete a document from a collection\n",
    "db.delete_one(\n",
    "    {'model': 'RFR','name': name}\n",
    ")\n"
   ]
  },
  {
   "cell_type": "code",
   "execution_count": 47,
   "metadata": {},
   "outputs": [
    {
     "name": "stdout",
     "output_type": "stream",
     "text": [
      "{'_id': ObjectId('62f85c349cd16f126af85ea7'), 'model': 'RFR', 'name': 'NIC', 'date': '12/08/2022', 'predicted': 0.93, 'actual': 1.14, 'difference': -0.21, 'accuracy': 91.96}\n"
     ]
    }
   ],
   "source": [
    "# Insert a document into the 'companys' collection\n",
    "db.insert_one(\n",
    "    {\n",
    "      'model': 'RFR',\n",
    "      'name': name,\n",
    "      'date': actual_date,\n",
    "      'predicted': predicted,\n",
    "      'actual': actual_price,\n",
    "      'difference': round(difference,4),\n",
    "      'accuracy': base_accuracy         \n",
    "    }\n",
    ")\n",
    "\n",
    "# query the classroom collection\n",
    "companys = db.find({\n",
    "  'model': 'RFR',\n",
    "  'name': name,})\n",
    "\n",
    "# see change in collection\n",
    "for company in companys:\n",
    "    print(company)"
   ]
  }
 ],
 "metadata": {
  "interpreter": {
   "hash": "45bb1cb4637e4034484920e5cfb24c9afd84b0847d6c36e39edd3067d3a05462"
  },
  "kernel_info": {
   "name": "dev"
  },
  "kernelspec": {
   "display_name": "Python 3.9.7 ('base')",
   "language": "python",
   "name": "python3"
  },
  "language_info": {
   "codemirror_mode": {
    "name": "ipython",
    "version": 3
   },
   "file_extension": ".py",
   "mimetype": "text/x-python",
   "name": "python",
   "nbconvert_exporter": "python",
   "pygments_lexer": "ipython3",
   "version": "3.9.7"
  },
  "nteract": {
   "version": "0.12.3"
  }
 },
 "nbformat": 4,
 "nbformat_minor": 2
}
