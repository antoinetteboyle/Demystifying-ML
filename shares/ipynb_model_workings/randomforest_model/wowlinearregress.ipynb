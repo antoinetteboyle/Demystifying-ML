{
 "cells": [
  {
   "cell_type": "code",
   "execution_count": 49,
   "metadata": {},
   "outputs": [
    {
     "name": "stdout",
     "output_type": "stream",
     "text": [
      "Requirement already satisfied: sklearn in c:\\users\\antoi\\anaconda3\\lib\\site-packages (0.0)\n",
      "Requirement already satisfied: scikit-learn in c:\\users\\antoi\\anaconda3\\lib\\site-packages (from sklearn) (0.24.2)\n",
      "Requirement already satisfied: numpy>=1.13.3 in c:\\users\\antoi\\anaconda3\\lib\\site-packages (from scikit-learn->sklearn) (1.20.3)\n",
      "Requirement already satisfied: threadpoolctl>=2.0.0 in c:\\users\\antoi\\anaconda3\\lib\\site-packages (from scikit-learn->sklearn) (2.2.0)\n",
      "Requirement already satisfied: joblib>=0.11 in c:\\users\\antoi\\anaconda3\\lib\\site-packages (from scikit-learn->sklearn) (1.1.0)\n",
      "Requirement already satisfied: scipy>=0.19.1 in c:\\users\\antoi\\anaconda3\\lib\\site-packages (from scikit-learn->sklearn) (1.7.1)\n",
      "Requirement already satisfied: joblib in c:\\users\\antoi\\anaconda3\\lib\\site-packages (1.1.0)\n"
     ]
    }
   ],
   "source": [
    "# Update sklearn to prevent version mismatches\n",
    "!pip install sklearn --upgrade\n",
    "# install joblib. This will be used to save your model. \n",
    "# Restart your kernel after installing \n",
    "!pip install joblib"
   ]
  },
  {
   "cell_type": "markdown",
   "metadata": {},
   "source": [
    "This model uses a neural network and GridSearchCV to predict share price impacts of Interest changes"
   ]
  },
  {
   "cell_type": "markdown",
   "metadata": {},
   "source": [
    "# Read the CSV and Perform Basic Data Cleaning"
   ]
  },
  {
   "cell_type": "code",
   "execution_count": 50,
   "metadata": {},
   "outputs": [],
   "source": [
    "import matplotlib.pyplot as plt\n",
    "import numpy as np\n",
    "import pandas as pd"
   ]
  },
  {
   "cell_type": "code",
   "execution_count": 51,
   "metadata": {},
   "outputs": [
    {
     "data": {
      "text/html": [
       "<div>\n",
       "<style scoped>\n",
       "    .dataframe tbody tr th:only-of-type {\n",
       "        vertical-align: middle;\n",
       "    }\n",
       "\n",
       "    .dataframe tbody tr th {\n",
       "        vertical-align: top;\n",
       "    }\n",
       "\n",
       "    .dataframe thead th {\n",
       "        text-align: right;\n",
       "    }\n",
       "</style>\n",
       "<table border=\"1\" class=\"dataframe\">\n",
       "  <thead>\n",
       "    <tr style=\"text-align: right;\">\n",
       "      <th></th>\n",
       "      <th>Date</th>\n",
       "      <th>Open</th>\n",
       "      <th>High</th>\n",
       "      <th>Low</th>\n",
       "      <th>Close</th>\n",
       "      <th>Adj Close</th>\n",
       "      <th>Volume</th>\n",
       "      <th>RBA</th>\n",
       "      <th>FED</th>\n",
       "      <th>CPI</th>\n",
       "    </tr>\n",
       "  </thead>\n",
       "  <tbody>\n",
       "    <tr>\n",
       "      <th>7419</th>\n",
       "      <td>25/07/2022</td>\n",
       "      <td>37.369999</td>\n",
       "      <td>37.500000</td>\n",
       "      <td>37.160000</td>\n",
       "      <td>37.459999</td>\n",
       "      <td>37.459999</td>\n",
       "      <td>1573268.0</td>\n",
       "      <td>1.35</td>\n",
       "      <td>1.75</td>\n",
       "      <td>125.0</td>\n",
       "    </tr>\n",
       "    <tr>\n",
       "      <th>7420</th>\n",
       "      <td>26/07/2022</td>\n",
       "      <td>37.000000</td>\n",
       "      <td>37.099998</td>\n",
       "      <td>36.490002</td>\n",
       "      <td>36.980000</td>\n",
       "      <td>36.980000</td>\n",
       "      <td>1665735.0</td>\n",
       "      <td>1.35</td>\n",
       "      <td>1.75</td>\n",
       "      <td>125.0</td>\n",
       "    </tr>\n",
       "    <tr>\n",
       "      <th>7421</th>\n",
       "      <td>27/07/2022</td>\n",
       "      <td>37.189999</td>\n",
       "      <td>37.509998</td>\n",
       "      <td>36.970001</td>\n",
       "      <td>37.230000</td>\n",
       "      <td>37.230000</td>\n",
       "      <td>1424086.0</td>\n",
       "      <td>1.35</td>\n",
       "      <td>2.50</td>\n",
       "      <td>125.0</td>\n",
       "    </tr>\n",
       "    <tr>\n",
       "      <th>7422</th>\n",
       "      <td>28/07/2022</td>\n",
       "      <td>37.349998</td>\n",
       "      <td>37.634998</td>\n",
       "      <td>37.200001</td>\n",
       "      <td>37.439999</td>\n",
       "      <td>37.439999</td>\n",
       "      <td>2379792.0</td>\n",
       "      <td>1.35</td>\n",
       "      <td>2.50</td>\n",
       "      <td>125.0</td>\n",
       "    </tr>\n",
       "    <tr>\n",
       "      <th>7423</th>\n",
       "      <td>29/07/2022</td>\n",
       "      <td>37.810001</td>\n",
       "      <td>37.820000</td>\n",
       "      <td>37.404999</td>\n",
       "      <td>37.520000</td>\n",
       "      <td>37.520000</td>\n",
       "      <td>2759928.0</td>\n",
       "      <td>1.35</td>\n",
       "      <td>2.50</td>\n",
       "      <td>125.0</td>\n",
       "    </tr>\n",
       "  </tbody>\n",
       "</table>\n",
       "</div>"
      ],
      "text/plain": [
       "            Date       Open       High        Low      Close  Adj Close  \\\n",
       "7419  25/07/2022  37.369999  37.500000  37.160000  37.459999  37.459999   \n",
       "7420  26/07/2022  37.000000  37.099998  36.490002  36.980000  36.980000   \n",
       "7421  27/07/2022  37.189999  37.509998  36.970001  37.230000  37.230000   \n",
       "7422  28/07/2022  37.349998  37.634998  37.200001  37.439999  37.439999   \n",
       "7423  29/07/2022  37.810001  37.820000  37.404999  37.520000  37.520000   \n",
       "\n",
       "         Volume   RBA   FED    CPI  \n",
       "7419  1573268.0  1.35  1.75  125.0  \n",
       "7420  1665735.0  1.35  1.75  125.0  \n",
       "7421  1424086.0  1.35  2.50  125.0  \n",
       "7422  2379792.0  1.35  2.50  125.0  \n",
       "7423  2759928.0  1.35  2.50  125.0  "
      ]
     },
     "execution_count": 51,
     "metadata": {},
     "output_type": "execute_result"
    }
   ],
   "source": [
    "df_stock1 = pd.read_csv(\"../../static/data/wow.csv\")\n",
    "# Drop the null columns where all values are null\n",
    "df_stock2 = df_stock1.dropna(axis='columns', how='all')\n",
    "# Drop the null rows\n",
    "df = df_stock2.dropna()\n",
    "df.tail()"
   ]
  },
  {
   "cell_type": "code",
   "execution_count": 52,
   "metadata": {},
   "outputs": [
    {
     "name": "stdout",
     "output_type": "stream",
     "text": [
      "02/08/2022 38.599998474121094\n"
     ]
    },
    {
     "data": {
      "text/plain": [
       "<bound method NDFrame.tail of                            _id        Date       Open       High        Low  \\\n",
       "0     62e99ba17bcc52d27465ead0   2/08/1993   2.841162   2.841162   2.841162   \n",
       "1     62e99ba17bcc52d27465ead1   3/08/1993   2.841162   2.841162   2.841162   \n",
       "2     62e99ba17bcc52d27465ead2   4/08/1993   2.841162   2.841162   2.841162   \n",
       "3     62e99ba17bcc52d27465ead3   5/08/1993   2.841162   2.841162   2.841162   \n",
       "4     62e99ba17bcc52d27465ead4   6/08/1993   2.841162   2.841162   2.841162   \n",
       "...                        ...         ...        ...        ...        ...   \n",
       "7321  62e99ba17bcc52d274660769  27/07/2022  37.189999  37.509998  36.970001   \n",
       "7322  62e99ba17bcc52d27466076a  28/07/2022  37.349998  37.634998  37.200001   \n",
       "7323  62e99ba37bcc52d27466076c  29/07/2022  37.810001  37.820000  37.404999   \n",
       "7324  62e99ba37bcc52d27466076d  01/08/2022  37.599998  38.169998  37.410000   \n",
       "7325  62e99ba37bcc52d27466076e  02/08/2022  38.150002  38.650002  37.930000   \n",
       "\n",
       "          Close  Adj Close     Volume   RBA  FED    CPI  \n",
       "0      2.841162   1.057118        0.0  4.75  3.0   61.1  \n",
       "1      2.841162   1.057118        0.0  4.75  3.0   61.1  \n",
       "2      2.841162   1.057118        0.0  4.75  3.0   61.1  \n",
       "3      2.841162   1.057118        0.0  4.75  3.0   61.1  \n",
       "4      2.841162   1.057118        0.0  4.75  3.0   61.1  \n",
       "...         ...        ...        ...   ...  ...    ...  \n",
       "7321  37.230000  37.230000  1424086.0  1.35  2.5  125.0  \n",
       "7322  37.439999  37.439999  2379792.0  1.35  2.5  125.0  \n",
       "7323  37.520000  37.520000  2759928.0  1.35  2.5  125.0  \n",
       "7324  38.169998  38.169998  2194350.0  1.35  2.5  125.0  \n",
       "7325  38.599998  38.599998  1863895.0  1.35  2.5  125.0  \n",
       "\n",
       "[7326 rows x 11 columns]>"
      ]
     },
     "execution_count": 52,
     "metadata": {},
     "output_type": "execute_result"
    }
   ],
   "source": [
    "# Connect to MongoDb\n",
    "from pymongo import MongoClient\n",
    "mongoClient = MongoClient()\n",
    "db = mongoClient.sharesDB\n",
    "\n",
    "df_mongo = pd.DataFrame(list(db.wow.find()))\n",
    "last_val = df_mongo.iloc[-1:].values\n",
    "last_date = last_val[0][1]\n",
    "last_close = last_val[0][5]\n",
    "# print(last_val)\n",
    "print(last_date,last_close)\n",
    "df_mongo.tail\n"
   ]
  },
  {
   "cell_type": "markdown",
   "metadata": {},
   "source": [
    "# Use `RBA`,`FED` and `CPI` for the X values"
   ]
  },
  {
   "cell_type": "code",
   "execution_count": 53,
   "metadata": {},
   "outputs": [
    {
     "name": "stdout",
     "output_type": "stream",
     "text": [
      "(7326, 3) (7326, 1)\n"
     ]
    }
   ],
   "source": [
    "X = df_mongo[[\"RBA\",\"FED\",\"CPI\"]]\n",
    "y = df_mongo[\"Close\"].values.reshape(-1, 1)\n",
    "print(X.shape, y.shape)"
   ]
  },
  {
   "cell_type": "code",
   "execution_count": 54,
   "metadata": {},
   "outputs": [],
   "source": [
    "# X = df_mongo[[\"RBA\",\"FED\",\"CPI\"]]\n",
    "# y = df_mongo[\"Close\"].values.reshape(-1, 1)\n",
    "# print(X.shape, y.shape)"
   ]
  },
  {
   "cell_type": "code",
   "execution_count": 55,
   "metadata": {},
   "outputs": [
    {
     "data": {
      "text/plain": [
       "array([[ 2.841162  ],\n",
       "       [ 2.841162  ],\n",
       "       [ 2.841162  ],\n",
       "       ...,\n",
       "       [37.52000046],\n",
       "       [38.16999817],\n",
       "       [38.59999847]])"
      ]
     },
     "execution_count": 55,
     "metadata": {},
     "output_type": "execute_result"
    }
   ],
   "source": [
    "y"
   ]
  },
  {
   "cell_type": "markdown",
   "metadata": {},
   "source": [
    "# Create a Train Test Split"
   ]
  },
  {
   "cell_type": "code",
   "execution_count": 56,
   "metadata": {},
   "outputs": [
    {
     "name": "stdout",
     "output_type": "stream",
     "text": [
      "(5494, 3) (5494, 1)\n",
      "(1832, 3) (1832, 1)\n",
      "<bound method DataFrame.info of        RBA   FED    CPI\n",
      "6935  0.10  1.25  117.9\n",
      "4431  4.75  0.25   98.3\n",
      "1745  6.00  6.50   72.9\n",
      "4507  4.75  0.25   99.2\n",
      "6277  1.50  2.00  113.0\n",
      "...    ...   ...    ...\n",
      "905   6.00  5.25   67.1\n",
      "5192  2.50  0.25  105.4\n",
      "3980  3.00  0.25   92.9\n",
      "235   4.75  4.25   62.3\n",
      "5157  2.50  0.25  105.4\n",
      "\n",
      "[5494 rows x 3 columns]>\n"
     ]
    }
   ],
   "source": [
    "# Use train_test_split to create training and testing data\n",
    "from sklearn.model_selection import train_test_split\n",
    "\n",
    "X_train, X_test, y_train, y_test = train_test_split(X, y, random_state=1)\n",
    "print(X_train.shape, y_train.shape)\n",
    "print(X_test.shape, y_test.shape)\n",
    "print(X_train.info)"
   ]
  },
  {
   "cell_type": "code",
   "execution_count": 57,
   "metadata": {},
   "outputs": [],
   "source": [
    "from sklearn.linear_model import LinearRegression\n",
    "model = LinearRegression()"
   ]
  },
  {
   "cell_type": "markdown",
   "metadata": {},
   "source": [
    "# Fit the model"
   ]
  },
  {
   "cell_type": "code",
   "execution_count": 58,
   "metadata": {},
   "outputs": [
    {
     "name": "stdout",
     "output_type": "stream",
     "text": [
      "Training Score: 0.8971066434749819\n",
      "Testing Score: 0.8925818179206642\n"
     ]
    }
   ],
   "source": [
    "# Fit the model to the training data and calculate the scores for the training and testing data\n",
    "\n",
    "### BEGIN SOLUTION\n",
    "model.fit(X_train, y_train)\n",
    "training_score = model.score(X_train, y_train)\n",
    "testing_score = model.score(X_test, y_test)\n",
    "\n",
    "### END SOLUTION \n",
    "\n",
    "print(f\"Training Score: {training_score}\")\n",
    "print(f\"Testing Score: {testing_score}\")"
   ]
  },
  {
   "cell_type": "code",
   "execution_count": 59,
   "metadata": {},
   "outputs": [],
   "source": [
    "# X_train = X_train.reshape((X_train.shape[0], 1))"
   ]
  },
  {
   "cell_type": "code",
   "execution_count": 60,
   "metadata": {},
   "outputs": [],
   "source": [
    "#Linear Regression Residual showing difference actual vs predicted\n",
    "# residual = pd.DataFrame([model.predict(X_train),y_train,(model.predict(X_train)-y_train)])\n",
    "# residual.tail"
   ]
  },
  {
   "cell_type": "code",
   "execution_count": 61,
   "metadata": {},
   "outputs": [
    {
     "data": {
      "text/plain": [
       "Text(0.5, 1.0, 'Residual Plot')"
      ]
     },
     "execution_count": 61,
     "metadata": {},
     "output_type": "execute_result"
    },
    {
     "data": {
      "image/png": "[encoded data removed]",
      "text/plain": [
       "<Figure size 432x288 with 1 Axes>"
      ]
     },
     "metadata": {
      "needs_background": "light"
     },
     "output_type": "display_data"
    }
   ],
   "source": [
    "# Plot the Residuals for the Training and Testing data\n",
    "plt.scatter(model.predict(X_train), model.predict(X_train) - y_train, c=\"blue\", label=\"Training Data\")\n",
    "plt.scatter(model.predict(X_test), model.predict(X_test) - y_test, c=\"orange\", label=\"Testing Data\")\n",
    "plt.legend()\n",
    "plt.hlines(y=0, xmin=y.min(), xmax=y.max())\n",
    "plt.title(\"Residual Plot\")"
   ]
  },
  {
   "cell_type": "code",
   "execution_count": 62,
   "metadata": {},
   "outputs": [],
   "source": [
    "# Linear Regression: X_test predictions to variable\n",
    "predictions = model.predict(X_test)"
   ]
  },
  {
   "cell_type": "markdown",
   "metadata": {},
   "source": [
    "#### R2 Score is a very popular metric used for evaluating the performance of linear regression models. Where R2 Score is between 0 and 1, the closer to 1, the better the regression fit.\n",
    "#### Use MSE or MAE when comparing two or more models, the lower the value of MSE or MAE, the better. MSE (Mean Square Error): Uses Euclidean distance to calculate the error. MSE gives the magnitude of the error only."
   ]
  },
  {
   "cell_type": "code",
   "execution_count": 63,
   "metadata": {},
   "outputs": [
    {
     "name": "stdout",
     "output_type": "stream",
     "text": [
      "MSE: 14.886180962785877, R2: 0.8925818179206642\n"
     ]
    }
   ],
   "source": [
    "# Used X_test, y_test, and model.predict(X_test) to calculate MSE and R2\n",
    "\n",
    "### BEGIN SOLUTION\n",
    "from sklearn.metrics import mean_squared_error\n",
    "\n",
    "MSE = mean_squared_error(y_test, predictions)\n",
    "r2 = model.score(X_test, y_test)\n",
    "### END SOLUTION\n",
    "\n",
    "print(f\"MSE: {MSE}, R2: {r2}\")"
   ]
  },
  {
   "cell_type": "markdown",
   "metadata": {},
   "source": [
    "#### Lasso regression imposes a constraint on the model parameters that causes regression coefficients for some variables to shrink toward zero. It comes with a parameter, alpha , and the higher the alpha , the more feature coefficients are zero. When alpha is 0 , Lasso regression produces the same coefficients as a linear regression."
   ]
  },
  {
   "cell_type": "code",
   "execution_count": 64,
   "metadata": {},
   "outputs": [
    {
     "name": "stdout",
     "output_type": "stream",
     "text": [
      "MSE: 14.888085482236184, R2: 0.8925680749722479\n"
     ]
    }
   ],
   "source": [
    "# LASSO model\n",
    "# Note: Used an alpha of .01 when creating the model for this activity\n",
    "from sklearn.linear_model import Lasso\n",
    "\n",
    "### BEGIN SOLUTION\n",
    "lasso = Lasso(alpha=.01).fit(X_train, y_train)\n",
    "\n",
    "predictions = lasso.predict(X_test)\n",
    "\n",
    "MSE = mean_squared_error(y_test, predictions)\n",
    "r2 = lasso.score(X_test, y_test)\n",
    "### END SOLUTION\n",
    "\n",
    "print(f\"MSE: {MSE}, R2: {r2}\")"
   ]
  },
  {
   "cell_type": "code",
   "execution_count": 65,
   "metadata": {},
   "outputs": [
    {
     "name": "stdout",
     "output_type": "stream",
     "text": [
      "MSE: 14.886181384346322, R2: 0.8925818148786981\n"
     ]
    }
   ],
   "source": [
    "# Ridge model\n",
    "# Note: Used an alpha of .01 when creating the model for this activity\n",
    "from sklearn.linear_model import Ridge\n",
    "\n",
    "### BEGIN SOLUTION\n",
    "ridge = Ridge(alpha=.01).fit(X_train, y_train)\n",
    "\n",
    "predictions = ridge.predict(X_test)\n",
    "\n",
    "MSE = mean_squared_error(y_test, predictions)\n",
    "r2 = ridge.score(X_test, y_test)\n",
    "### END SOLUTION\n",
    "\n",
    "print(f\"MSE: {MSE}, R2: {r2}\")"
   ]
  },
  {
   "cell_type": "code",
   "execution_count": 66,
   "metadata": {},
   "outputs": [
    {
     "name": "stdout",
     "output_type": "stream",
     "text": [
      "MSE: 14.8883828510166, R2: 0.8925659291691115\n"
     ]
    }
   ],
   "source": [
    "# ElasticNet model\n",
    "# Note: Use an alpha of .01 when creating the model for this activity\n",
    "from sklearn.linear_model import ElasticNet\n",
    "\n",
    "### BEGIN SOLUTION\n",
    "elasticnet = ElasticNet(alpha=.01).fit(X_train, y_train)\n",
    "\n",
    "predictions = elasticnet.predict(X_test)\n",
    "\n",
    "MSE = mean_squared_error(y_test, predictions)\n",
    "r2 = elasticnet.score(X_test, y_test)\n",
    "### END SOLUTION\n",
    "\n",
    "print(f\"MSE: {MSE}, R2: {r2}\")"
   ]
  },
  {
   "cell_type": "markdown",
   "metadata": {},
   "source": [
    "# Hyperparameter Tuning"
   ]
  },
  {
   "cell_type": "code",
   "execution_count": 67,
   "metadata": {},
   "outputs": [
    {
     "data": {
      "text/plain": [
       "(7326,)"
      ]
     },
     "execution_count": 67,
     "metadata": {},
     "output_type": "execute_result"
    }
   ],
   "source": [
    "y_target = df_mongo[\"Close\"]\n",
    "y_target.shape"
   ]
  },
  {
   "cell_type": "code",
   "execution_count": 68,
   "metadata": {},
   "outputs": [
    {
     "name": "stdout",
     "output_type": "stream",
     "text": [
      "(5494, 3) (5494,)\n",
      "(1832, 3) (1832,)\n"
     ]
    }
   ],
   "source": [
    "# Use train_test_split to create training and testing data\n",
    "from sklearn.model_selection import train_test_split\n",
    "\n",
    "X_train, X_test, y_train, y_test = train_test_split(X, y_target, random_state=1)\n",
    "print(X_train.shape, y_train.shape)\n",
    "print(X_test.shape, y_test.shape)"
   ]
  },
  {
   "cell_type": "code",
   "execution_count": 69,
   "metadata": {},
   "outputs": [
    {
     "name": "stdout",
     "output_type": "stream",
     "text": [
      "(5494, 3) (5494,)\n",
      "(1832, 3) (1832,)\n"
     ]
    }
   ],
   "source": [
    "print(X_train.shape,y_train.shape)\n",
    "print(X_test.shape,y_test.shape)"
   ]
  },
  {
   "cell_type": "markdown",
   "metadata": {},
   "source": [
    "#### GridSearchCV and RandomizedSearchCV are techniques to evaluate models for a given hyperparameter vector using cross-validation, hence the “CV” suffix of the class name.\n",
    "#### We are executing many models together is to find which machine learning model works best for this particular dataset."
   ]
  },
  {
   "cell_type": "code",
   "execution_count": 70,
   "metadata": {},
   "outputs": [],
   "source": [
    "from sklearn.linear_model import LinearRegression, Ridge,Lasso\n",
    "from sklearn.neighbors import KNeighborsRegressor\n",
    "from sklearn.ensemble import GradientBoostingRegressor\n",
    "from sklearn.ensemble import ExtraTreesRegressor, RandomForestRegressor\n",
    "from sklearn.tree import DecisionTreeRegressor"
   ]
  },
  {
   "cell_type": "code",
   "execution_count": 71,
   "metadata": {},
   "outputs": [],
   "source": [
    "regressors = [\n",
    "    RandomForestRegressor(),\n",
    "    DecisionTreeRegressor(),\n",
    "    KNeighborsRegressor(),\n",
    "    GradientBoostingRegressor(),\n",
    "    KNeighborsRegressor(),\n",
    "    ExtraTreesRegressor(),\n",
    "    LinearRegression(),\n",
    "    Lasso(),\n",
    "    Ridge()\n",
    "]"
   ]
  },
  {
   "cell_type": "code",
   "execution_count": 72,
   "metadata": {},
   "outputs": [
    {
     "name": "stdout",
     "output_type": "stream",
     "text": [
      "RandomForestRegressor()\n",
      "\tTraining time: 0.202s\n",
      "\tPrediction time: 0.016s\n",
      "\tExplained variance: 0.9953304350650984\n",
      "\tMean absolute error: 0.5286397717862359\n",
      "\tR2 score: 0.9953280367310159\n",
      "\n",
      "DecisionTreeRegressor()\n",
      "\tTraining time: 0.004s\n",
      "\tPrediction time: 0.000s\n",
      "\tExplained variance: 0.9953315631087521\n",
      "\tMean absolute error: 0.5287550313553415\n",
      "\tR2 score: 0.9953293618511948\n",
      "\n",
      "KNeighborsRegressor()\n",
      "\tTraining time: 0.004s\n",
      "\tPrediction time: 0.003s\n",
      "\tExplained variance: 0.9940320578536729\n",
      "\tMean absolute error: 0.5731473682424486\n",
      "\tR2 score: 0.9940308104965968\n",
      "\n",
      "GradientBoostingRegressor()\n",
      "\tTraining time: 0.107s\n",
      "\tPrediction time: 0.003s\n",
      "\tExplained variance: 0.9939750543688989\n",
      "\tMean absolute error: 0.6489817629038012\n",
      "\tR2 score: 0.9939703124096675\n",
      "\n",
      "KNeighborsRegressor()\n",
      "\tTraining time: 0.003s\n",
      "\tPrediction time: 0.006s\n",
      "\tExplained variance: 0.9940320578536729\n",
      "\tMean absolute error: 0.5731473682424486\n",
      "\tR2 score: 0.9940308104965968\n",
      "\n",
      "ExtraTreesRegressor()\n",
      "\tTraining time: 0.152s\n",
      "\tPrediction time: 0.018s\n",
      "\tExplained variance: 0.9953315000075523\n",
      "\tMean absolute error: 0.5288249952266425\n",
      "\tR2 score: 0.9953292585303768\n",
      "\n",
      "LinearRegression()\n",
      "\tTraining time: 0.002s\n",
      "\tPrediction time: 0.001s\n",
      "\tExplained variance: 0.8927750346937602\n",
      "\tMean absolute error: 3.0883449180349376\n",
      "\tR2 score: 0.8925818179206642\n",
      "\n",
      "Lasso()\n",
      "\tTraining time: 0.004s\n",
      "\tPrediction time: 0.001s\n",
      "\tExplained variance: 0.8813373639791445\n",
      "\tMean absolute error: 3.1343786829787903\n",
      "\tR2 score: 0.8812348285737759\n",
      "\n",
      "Ridge()\n",
      "\tTraining time: 0.001s\n",
      "\tPrediction time: 0.001s\n",
      "\tExplained variance: 0.892774710716273\n",
      "\tMean absolute error: 3.0883038195558443\n",
      "\tR2 score: 0.8925815133086168\n",
      "\n"
     ]
    }
   ],
   "source": [
    "from time import time\n",
    "from sklearn.metrics import explained_variance_score,mean_absolute_error,r2_score\n",
    "\n",
    "head = 10\n",
    "for model in regressors[:head]:\n",
    "    start = time()\n",
    "    model.fit(X_train, y_train)\n",
    "    train_time = time() - start\n",
    "    start = time()\n",
    "    y_pred = model.predict(X_test)\n",
    "    predict_time = time()-start    \n",
    "    print(model)\n",
    "    print(\"\\tTraining time: %0.3fs\" % train_time)\n",
    "    print(\"\\tPrediction time: %0.3fs\" % predict_time)\n",
    "    print(\"\\tExplained variance:\", explained_variance_score(y_test, y_pred))\n",
    "    print(\"\\tMean absolute error:\", mean_absolute_error(y_test, y_pred))\n",
    "    print(\"\\tR2 score:\", r2_score(y_test, y_pred))\n",
    "    print()"
   ]
  },
  {
   "cell_type": "markdown",
   "metadata": {},
   "source": [
    "#### By comparing these results, we can quickly see that RandomForestRegressor and DecisionTreeRegressor are the best models for our data\n",
    "#### Machine learning models have parameters, which are the internal coefficients set by training or optimizing the model on a training dataset.\n",
    "#### Parameters are different from hyperparameters. Parameters are learned automatically; hyperparameters are set manually to help guide the learning process."
   ]
  },
  {
   "cell_type": "code",
   "execution_count": 73,
   "metadata": {},
   "outputs": [
    {
     "name": "stdout",
     "output_type": "stream",
     "text": [
      "Parameters currently in use:\n",
      "\n",
      "{'bootstrap': True,\n",
      " 'ccp_alpha': 0.0,\n",
      " 'criterion': 'mse',\n",
      " 'max_depth': None,\n",
      " 'max_features': 'auto',\n",
      " 'max_leaf_nodes': None,\n",
      " 'max_samples': None,\n",
      " 'min_impurity_decrease': 0.0,\n",
      " 'min_impurity_split': None,\n",
      " 'min_samples_leaf': 1,\n",
      " 'min_samples_split': 2,\n",
      " 'min_weight_fraction_leaf': 0.0,\n",
      " 'n_estimators': 100,\n",
      " 'n_jobs': None,\n",
      " 'oob_score': False,\n",
      " 'random_state': 42,\n",
      " 'verbose': 0,\n",
      " 'warm_start': False}\n"
     ]
    }
   ],
   "source": [
    "from sklearn.ensemble import RandomForestRegressor\n",
    "rf = RandomForestRegressor(random_state = 42)\n",
    "from pprint import pprint\n",
    "# Look at parameters used by our current forest\n",
    "print('Parameters currently in use:\\n')\n",
    "pprint(rf.get_params())"
   ]
  },
  {
   "cell_type": "code",
   "execution_count": 74,
   "metadata": {},
   "outputs": [
    {
     "name": "stdout",
     "output_type": "stream",
     "text": [
      "{'bootstrap': [True, False],\n",
      " 'max_depth': [10, 20, 30, 40, 50, 60, 70, 80, 90, 100, 110, None],\n",
      " 'max_features': ['auto', 'sqrt'],\n",
      " 'min_samples_leaf': [1, 2, 4],\n",
      " 'min_samples_split': [2, 5, 10],\n",
      " 'n_estimators': [200, 400, 600, 800, 1000, 1200, 1400, 1600, 1800, 2000]}\n"
     ]
    }
   ],
   "source": [
    "from sklearn.model_selection import RandomizedSearchCV\n",
    "# Number of trees in random forest\n",
    "n_estimators = [int(x) for x in np.linspace(start = 200, stop = 2000, num = 10)]\n",
    "# Number of features to consider at every split\n",
    "max_features = ['auto', 'sqrt']\n",
    "# Maximum number of levels in tree\n",
    "max_depth = [int(x) for x in np.linspace(10, 110, num = 11)]\n",
    "max_depth.append(None)\n",
    "# Minimum number of samples required to split a node\n",
    "min_samples_split = [2, 5, 10]\n",
    "# Minimum number of samples required at each leaf node\n",
    "min_samples_leaf = [1, 2, 4]\n",
    "# Method of selecting samples for training each tree\n",
    "bootstrap = [True, False]\n",
    "# Create the random grid\n",
    "random_grid = {'n_estimators': n_estimators,\n",
    "               'max_features': max_features,\n",
    "               'max_depth': max_depth,\n",
    "               'min_samples_split': min_samples_split,\n",
    "               'min_samples_leaf': min_samples_leaf,\n",
    "               'bootstrap': bootstrap}\n",
    "pprint(random_grid)"
   ]
  },
  {
   "cell_type": "code",
   "execution_count": 75,
   "metadata": {},
   "outputs": [
    {
     "name": "stdout",
     "output_type": "stream",
     "text": [
      "Fitting 3 folds for each of 100 candidates, totalling 300 fits\n"
     ]
    },
    {
     "data": {
      "text/plain": [
       "RandomizedSearchCV(cv=3, estimator=RandomForestRegressor(), n_iter=100,\n",
       "                   n_jobs=-1,\n",
       "                   param_distributions={'bootstrap': [True, False],\n",
       "                                        'max_depth': [10, 20, 30, 40, 50, 60,\n",
       "                                                      70, 80, 90, 100, 110,\n",
       "                                                      None],\n",
       "                                        'max_features': ['auto', 'sqrt'],\n",
       "                                        'min_samples_leaf': [1, 2, 4],\n",
       "                                        'min_samples_split': [2, 5, 10],\n",
       "                                        'n_estimators': [200, 400, 600, 800,\n",
       "                                                         1000, 1200, 1400, 1600,\n",
       "                                                         1800, 2000]},\n",
       "                   random_state=42, verbose=2)"
      ]
     },
     "execution_count": 75,
     "metadata": {},
     "output_type": "execute_result"
    }
   ],
   "source": [
    "# Use the random grid to search for best hyperparameters\n",
    "# First create the base model to tune\n",
    "rf = RandomForestRegressor()\n",
    "# Random search of parameters, using 3 fold cross validation, \n",
    "# search across 100 different combinations, and use all available cores\n",
    "rf_random = RandomizedSearchCV(estimator = rf, param_distributions = random_grid, n_iter = 100, cv = 3, verbose=2, random_state=42, n_jobs = -1)\n",
    "# Fit the random search model\n",
    "rf_random.fit(X_train, y_train)"
   ]
  },
  {
   "cell_type": "code",
   "execution_count": 76,
   "metadata": {},
   "outputs": [
    {
     "data": {
      "text/plain": [
       "{'n_estimators': 600,\n",
       " 'min_samples_split': 5,\n",
       " 'min_samples_leaf': 1,\n",
       " 'max_features': 'auto',\n",
       " 'max_depth': 80,\n",
       " 'bootstrap': True}"
      ]
     },
     "execution_count": 76,
     "metadata": {},
     "output_type": "execute_result"
    }
   ],
   "source": [
    "rf_random.best_params_"
   ]
  },
  {
   "cell_type": "code",
   "execution_count": 77,
   "metadata": {},
   "outputs": [
    {
     "name": "stdout",
     "output_type": "stream",
     "text": [
      "Model Performance\n",
      "Average Error: 0.5295 degrees.\n",
      "Accuracy = 97.48%.\n",
      "Model Performance\n",
      "Average Error: 0.5287 degrees.\n",
      "Accuracy = 97.48%.\n",
      "Improvement of 0.01%.\n"
     ]
    }
   ],
   "source": [
    "def evaluate(model, X_test, y_test):\n",
    "    predictions = model.predict(X_test)\n",
    "    errors = abs(predictions - y_test)\n",
    "    mape = 100 * np.mean(errors / y_test)\n",
    "    accuracy = 100 - mape\n",
    "    print('Model Performance')\n",
    "    print('Average Error: {:0.4f} degrees.'.format(np.mean(errors)))\n",
    "    print('Accuracy = {:0.2f}%.'.format(accuracy))\n",
    "    return accuracy\n",
    "base_model = RandomForestRegressor(n_estimators = 10, random_state = 42)\n",
    "base_model.fit(X_train, y_train)\n",
    "base_accuracy = evaluate(base_model, X_test, y_test)\n",
    "\n",
    "best_random = rf_random.best_estimator_\n",
    "random_accuracy = evaluate(best_random, X_test, y_test)\n",
    "\n",
    "print('Improvement of {:0.2f}%.'.format( 100 * (random_accuracy - base_accuracy) / base_accuracy))"
   ]
  },
  {
   "cell_type": "code",
   "execution_count": 78,
   "metadata": {},
   "outputs": [
    {
     "data": {
      "text/plain": [
       "97.47760978280768"
      ]
     },
     "execution_count": 78,
     "metadata": {},
     "output_type": "execute_result"
    }
   ],
   "source": [
    "base_accuracy"
   ]
  },
  {
   "cell_type": "code",
   "execution_count": 79,
   "metadata": {},
   "outputs": [],
   "source": [
    "# Hyperparameter tuning has not improved accuracy significantly"
   ]
  },
  {
   "cell_type": "code",
   "execution_count": 80,
   "metadata": {},
   "outputs": [
    {
     "data": {
      "text/plain": [
       "array([27.1222281 ,  5.54126992, 28.84449602, ..., 28.14538705,\n",
       "       26.92159545, 29.37317417])"
      ]
     },
     "execution_count": 80,
     "metadata": {},
     "output_type": "execute_result"
    }
   ],
   "source": [
    "model_rfr = RandomForestRegressor()\n",
    "model_rfr.fit(X_train, y_train)\n",
    "y_test_pred = model_rfr.predict(X_test)\n",
    "y_test_pred"
   ]
  },
  {
   "cell_type": "code",
   "execution_count": 81,
   "metadata": {},
   "outputs": [
    {
     "data": {
      "text/plain": [
       "<bound method NDFrame.tail of         0          1         2          3          4          5         6     \\\n",
       "0  40.143025  26.426459  6.043066  26.669904  29.683438  22.893853  3.051901   \n",
       "1  39.529999  26.560411  6.058506  26.728703  28.980000  23.650000  3.237142   \n",
       "2   0.613026  -0.133952 -0.015440  -0.058799   0.703438  -0.756147 -0.185241   \n",
       "\n",
       "       7          8          9     ...       5484      5485       5486  \\\n",
       "0  24.07847  12.762971  11.671113  ...  27.295127  3.399632  34.398475   \n",
       "1  24.53101  12.582289  11.671533  ...  26.827698  3.365836  33.220001   \n",
       "2  -0.45254   0.180682  -0.000420  ...   0.467429  0.033796   1.178474   \n",
       "\n",
       "        5487       5488      5489       5490       5491      5492       5493  \n",
       "0  14.490765  11.497623  3.222361  35.102282  25.739899  2.864443  35.102282  \n",
       "1  14.304806  11.681433  3.553927  36.070000  25.491262  2.860961  34.209999  \n",
       "2   0.185959  -0.183810 -0.331566  -0.967718   0.248637  0.003482   0.892283  \n",
       "\n",
       "[3 rows x 5494 columns]>"
      ]
     },
     "execution_count": 81,
     "metadata": {},
     "output_type": "execute_result"
    }
   ],
   "source": [
    "#RandomForestRegressor Residual showing difference actual vs predicted\n",
    "residual_dtr = pd.DataFrame([model_rfr.predict(X_train),y_train,(model_rfr.predict(X_train)-y_train)])\n",
    "residual_dtr.tail"
   ]
  },
  {
   "cell_type": "code",
   "execution_count": 82,
   "metadata": {},
   "outputs": [
    {
     "data": {
      "image/png": "[encoded data removed]",
      "text/plain": [
       "<Figure size 432x288 with 1 Axes>"
      ]
     },
     "metadata": {
      "needs_background": "light"
     },
     "output_type": "display_data"
    }
   ],
   "source": [
    "# Make predictions using fitted model\n",
    "predictions1 = model_rfr.predict(X_test)\n",
    "\n",
    "# Plotted the difference between the model predicted values and actual y values, versus the model predicted values\n",
    "plt.scatter(model_rfr.predict(X_train), y_train - model_rfr.predict(X_train), c=\"blue\", label=\"Training Data\")\n",
    "plt.scatter(model_rfr.predict(X_test), y_test - model_rfr.predict(X_test), c=\"orange\", label=\"Testing Data\")\n",
    "plt.legend()\n",
    "plt.hlines(y=0, xmin=y_test.min(), xmax=y_test.max())\n",
    "plt.title(\"Residual Plot\")\n",
    "plt.show()"
   ]
  },
  {
   "cell_type": "markdown",
   "metadata": {},
   "source": [
    "# Save the Model"
   ]
  },
  {
   "cell_type": "code",
   "execution_count": 83,
   "metadata": {},
   "outputs": [],
   "source": [
    "import pickle\n",
    "filename = '../../static/wow_model_rfr.sav'\n",
    "pickle.dump(model, open(filename, 'wb'))\n",
    "model_in_rfr = pickle.load(open(filename, 'rb'))"
   ]
  },
  {
   "cell_type": "code",
   "execution_count": 84,
   "metadata": {},
   "outputs": [],
   "source": [
    "# from joblib import dump,load\n",
    "# model_in_rfr = load('wow_model_rfr.sav')"
   ]
  },
  {
   "cell_type": "code",
   "execution_count": 85,
   "metadata": {},
   "outputs": [
    {
     "name": "stdout",
     "output_type": "stream",
     "text": [
      "      RBA    FED     CPI  Prediction\n",
      "0    1.35   1.75  123.90       40.52\n",
      "1    1.60   2.00  124.15       40.94\n",
      "2    1.85   2.25  124.40       41.37\n",
      "3    2.10   2.50  124.65       41.79\n",
      "4    2.35   2.75  124.90       42.21\n",
      "5    2.60   3.00  125.15       42.64\n",
      "6    2.85   3.25  125.40       43.06\n",
      "7    3.10   3.50  125.65       43.49\n",
      "8    3.35   3.75  125.90       43.91\n",
      "9    3.60   4.00  126.15       44.33\n",
      "10   3.85   4.25  126.40       44.76\n",
      "11   4.10   4.50  126.65       45.18\n",
      "12   4.35   4.75  126.90       45.61\n",
      "13   4.60   5.00  127.15       46.03\n",
      "14   4.85   5.25  127.40       46.46\n",
      "15   5.10   5.50  127.65       46.88\n",
      "16   5.35   5.75  127.90       47.30\n",
      "17   5.60   6.00  128.15       47.73\n",
      "18   5.85   6.25  128.40       48.15\n",
      "19   6.10   6.50  128.65       48.58\n",
      "20   6.35   6.75  128.90       49.00\n",
      "21   6.60   7.00  129.15       49.42\n",
      "22   6.85   7.25  129.40       49.85\n",
      "23   7.10   7.50  129.65       50.27\n",
      "24   7.35   7.75  129.90       50.70\n",
      "25   7.60   8.00  130.15       51.12\n",
      "26   7.85   8.25  130.40       51.54\n",
      "27   8.10   8.50  130.65       51.97\n",
      "28   8.35   8.75  130.90       52.39\n",
      "29   8.60   9.00  131.15       52.82\n",
      "30   8.85   9.25  131.40       53.24\n",
      "31   9.10   9.50  131.65       53.66\n",
      "32   9.35   9.75  131.90       54.09\n",
      "33   9.60  10.00  132.15       54.51\n",
      "34   9.85  10.25  132.40       54.94\n",
      "35  10.10  10.50  132.65       55.36\n",
      "36  10.35  10.75  132.90       55.78\n",
      "37  10.60  11.00  133.15       56.21\n",
      "38  10.85  11.25  133.40       56.63\n",
      "39  11.10  11.50  133.65       57.06 [{'RBA': 1.35, 'FED': 1.75, 'CPI': 123.9, 'Prediction': 40.52}, {'RBA': 1.6, 'FED': 2.0, 'CPI': 124.15, 'Prediction': 40.94}, {'RBA': 1.85, 'FED': 2.25, 'CPI': 124.4, 'Prediction': 41.37}, {'RBA': 2.1, 'FED': 2.5, 'CPI': 124.65, 'Prediction': 41.79}, {'RBA': 2.35, 'FED': 2.75, 'CPI': 124.9, 'Prediction': 42.21}, {'RBA': 2.6, 'FED': 3.0, 'CPI': 125.15, 'Prediction': 42.64}, {'RBA': 2.85, 'FED': 3.25, 'CPI': 125.4, 'Prediction': 43.06}, {'RBA': 3.1, 'FED': 3.5, 'CPI': 125.65, 'Prediction': 43.49}, {'RBA': 3.35, 'FED': 3.75, 'CPI': 125.9, 'Prediction': 43.91}, {'RBA': 3.6, 'FED': 4.0, 'CPI': 126.15, 'Prediction': 44.33}, {'RBA': 3.85, 'FED': 4.25, 'CPI': 126.4, 'Prediction': 44.76}, {'RBA': 4.1, 'FED': 4.5, 'CPI': 126.65, 'Prediction': 45.18}, {'RBA': 4.35, 'FED': 4.75, 'CPI': 126.9, 'Prediction': 45.61}, {'RBA': 4.6, 'FED': 5.0, 'CPI': 127.15, 'Prediction': 46.03}, {'RBA': 4.85, 'FED': 5.25, 'CPI': 127.4, 'Prediction': 46.46}, {'RBA': 5.1, 'FED': 5.5, 'CPI': 127.65, 'Prediction': 46.88}, {'RBA': 5.35, 'FED': 5.75, 'CPI': 127.9, 'Prediction': 47.3}, {'RBA': 5.6, 'FED': 6.0, 'CPI': 128.15, 'Prediction': 47.73}, {'RBA': 5.85, 'FED': 6.25, 'CPI': 128.4, 'Prediction': 48.15}, {'RBA': 6.1, 'FED': 6.5, 'CPI': 128.65, 'Prediction': 48.58}, {'RBA': 6.35, 'FED': 6.75, 'CPI': 128.9, 'Prediction': 49.0}, {'RBA': 6.6, 'FED': 7.0, 'CPI': 129.15, 'Prediction': 49.42}, {'RBA': 6.85, 'FED': 7.25, 'CPI': 129.4, 'Prediction': 49.85}, {'RBA': 7.1, 'FED': 7.5, 'CPI': 129.65, 'Prediction': 50.27}, {'RBA': 7.35, 'FED': 7.75, 'CPI': 129.9, 'Prediction': 50.7}, {'RBA': 7.6, 'FED': 8.0, 'CPI': 130.15, 'Prediction': 51.12}, {'RBA': 7.85, 'FED': 8.25, 'CPI': 130.4, 'Prediction': 51.54}, {'RBA': 8.1, 'FED': 8.5, 'CPI': 130.65, 'Prediction': 51.97}, {'RBA': 8.35, 'FED': 8.75, 'CPI': 130.9, 'Prediction': 52.39}, {'RBA': 8.6, 'FED': 9.0, 'CPI': 131.15, 'Prediction': 52.82}, {'RBA': 8.85, 'FED': 9.25, 'CPI': 131.4, 'Prediction': 53.24}, {'RBA': 9.1, 'FED': 9.5, 'CPI': 131.65, 'Prediction': 53.66}, {'RBA': 9.35, 'FED': 9.75, 'CPI': 131.9, 'Prediction': 54.09}, {'RBA': 9.6, 'FED': 10.0, 'CPI': 132.15, 'Prediction': 54.51}, {'RBA': 9.85, 'FED': 10.25, 'CPI': 132.4, 'Prediction': 54.94}, {'RBA': 10.1, 'FED': 10.5, 'CPI': 132.65, 'Prediction': 55.36}, {'RBA': 10.35, 'FED': 10.75, 'CPI': 132.9, 'Prediction': 55.78}, {'RBA': 10.6, 'FED': 11.0, 'CPI': 133.15, 'Prediction': 56.21}, {'RBA': 10.85, 'FED': 11.25, 'CPI': 133.4, 'Prediction': 56.63}, {'RBA': 11.1, 'FED': 11.5, 'CPI': 133.65, 'Prediction': 57.06}]\n"
     ]
    }
   ],
   "source": [
    "rba = float(1.35)\n",
    "fed = float(1.75)\n",
    "cpi = float(123.90)\n",
    "input =40\n",
    "rfr=[]\n",
    "\n",
    "def randomforest(rba,fed,cpi):\n",
    "    for i in range(0,input):\n",
    "      rfr.append([rba,fed,cpi])\n",
    "      np.round_(rfr,2,out = None) \n",
    "      df = pd.DataFrame(rfr, columns = ['RBA','FED',\"CPI\"])\n",
    "      df.round(2)\n",
    "      pred_rf=model_in_rfr.predict(df)\n",
    "      df['Prediction'] = pred_rf\n",
    "      df['Prediction'] = df['Prediction'].astype(float).round(2)\n",
    "      rba+=0.25\n",
    "      fed+=0.25\n",
    "      cpi+=0.25\n",
    "      # print(df)\n",
    "    my_rforest = df.to_dict(orient='records')\n",
    "    for dict_value in my_rforest:\n",
    "      for k, v in dict_value.items():\n",
    "        dict_value[k] = round(v, 2)\n",
    "    return my_rforest,df\n",
    "# print(my_rforest)\n",
    "my_rf,df = randomforest(rba,fed,cpi)\n",
    "print(df,my_rf)\n"
   ]
  },
  {
   "cell_type": "code",
   "execution_count": 86,
   "metadata": {},
   "outputs": [
    {
     "data": {
      "image/png": "[encoded data removed]",
      "text/plain": [
       "<Figure size 864x360 with 2 Axes>"
      ]
     },
     "metadata": {
      "needs_background": "light"
     },
     "output_type": "display_data"
    }
   ],
   "source": [
    "# DRAW THE PREDICTION\n",
    "#Append the input amount of trading days to dates dictionary\n",
    "input=40\n",
    "# df_pred = df.iloc[0:(input-1)]\n",
    "plot1 = df.plot(y=[\"CPI\",\"Prediction\"], figsize=(12, 5),color=['gold','green'],linewidth=2)\n",
    "plot2 = df.plot(y=[\"RBA\",\"FED\"],secondary_y=True, ax=plot1,color=['pink','steelblue'],linestyle='dashed')\n",
    "plt.title('WOW PREDICTIONS')\n",
    "plot1.set_xlabel('Future Trading Days', fontsize=10)\n",
    "plot1.set_ylabel('Close Price AUD ($) or CPI', fontsize=10)\n",
    "plot1.legend(loc='upper left')\n",
    "plot2.legend(loc='upper right')\n",
    "plt.savefig('../../static/data/images/wow_rfr_pred.png', bbox_inches=\"tight\")\n",
    "plt.show()"
   ]
  },
  {
   "cell_type": "code",
   "execution_count": 87,
   "metadata": {},
   "outputs": [
    {
     "name": "stdout",
     "output_type": "stream",
     "text": [
      "    RBA   FED    CPI  Prediction\n",
      "0  1.35  1.75  123.9   40.518425\n",
      "[40.51842523]\n"
     ]
    }
   ],
   "source": [
    "rba = float(1.35)\n",
    "fed = float(1.75)\n",
    "cpi = float(123.90)\n",
    "def rforest(rba,fed,cpi):\n",
    "    dtr =[[rba,fed,cpi]]\n",
    "    df = pd.DataFrame (dtr, columns = ['RBA','FED',\"CPI\"])\n",
    "    pred_dtr=model_in_rfr.predict(df)\n",
    "    df['Prediction'] = pred_dtr\n",
    "    print(df)\n",
    "    df_dict = df.to_dict(orient='records')\n",
    "    return pred_dtr\n",
    "Pred_rf = rforest(rba,fed,cpi)\n",
    "print(Pred_rf)"
   ]
  },
  {
   "cell_type": "code",
   "execution_count": 88,
   "metadata": {},
   "outputs": [
    {
     "data": {
      "image/png": "[encoded data removed]",
      "text/plain": [
       "<Figure size 864x360 with 2 Axes>"
      ]
     },
     "metadata": {
      "needs_background": "light"
     },
     "output_type": "display_data"
    }
   ],
   "source": [
    "x = np.arange(2000,2024,4)\n",
    "ax = df_mongo.plot(y=[\"CPI\",\"Close\"], figsize=(12, 5),color=['grey','green'],linewidth=2)\n",
    "df_mongo.plot(y=[\"RBA\",\"FED\"],secondary_y=True, ax=ax,color=['pink','steelblue'],linestyle='dashed')\n",
    "plt.legend(bbox_to_anchor=(1.03, 1), loc='upper left', borderaxespad=-4, title=\"Interest rates\")\n",
    "ax.legend(loc='upper left')\n",
    "ax.set_xticks([0,1000,2000,3000,4000,5000])\n",
    "ax.set_xticklabels(x, rotation=0)\n",
    "ax.set_title('wow Random Forest Regression Model')\n",
    "ax.set_xlabel('Trading Date', fontsize=18)\n",
    "ax.set_ylabel('Close Price AUD ($) or CPI', fontsize=18)\n",
    "plt.savefig('../../static/data/images/wow_tree.png')"
   ]
  },
  {
   "cell_type": "markdown",
   "metadata": {},
   "source": [
    "#Save predicted error to MongoDB"
   ]
  },
  {
   "cell_type": "code",
   "execution_count": 89,
   "metadata": {},
   "outputs": [],
   "source": [
    "# Module used to connect Python with MongoDb\n",
    "import pymongo"
   ]
  },
  {
   "cell_type": "code",
   "execution_count": 90,
   "metadata": {},
   "outputs": [],
   "source": [
    "# The default port used by MongoDB is 27017\n",
    "# https://docs.mongodb.com/manual/reference/default-mongodb-port/\n",
    "conn = 'mongodb://localhost:27017'\n",
    "client = pymongo.MongoClient(conn)\n",
    "\n",
    "# Define the 'sharesDB' database in Mongo\n",
    "db = client.sharesDB.companys\n",
    "\n",
    "name = 'WOW'"
   ]
  },
  {
   "cell_type": "code",
   "execution_count": 91,
   "metadata": {},
   "outputs": [
    {
     "name": "stdout",
     "output_type": "stream",
     "text": [
      "{'_id': ObjectId('62e9e4ef5d1dc2c159bc02ee'), 'model': 'RFR', 'name': 'WOW', 'date': '02/08/2022', 'predicted': 40, 'actual': 38, 'difference': 2.5184, 'accuracy': 97.48}\n"
     ]
    }
   ],
   "source": [
    "# query the classroom collection\n",
    "companys = db.find({\n",
    "      'model': 'RFR',\n",
    "      'name': name})\n",
    "\n",
    "# see change in collection\n",
    "for company in companys:\n",
    "    print(company)"
   ]
  },
  {
   "cell_type": "code",
   "execution_count": 92,
   "metadata": {},
   "outputs": [
    {
     "name": "stdout",
     "output_type": "stream",
     "text": [
      "97.48 38 02/08/2022\n"
     ]
    }
   ],
   "source": [
    "#save last price actual to variable\n",
    "actual_price = df_mongo.iloc[-1,5]\n",
    "actual_date = df_mongo.iloc[-1,1] \n",
    "actual_price = int(actual_price)\n",
    "base_accuracy=round(base_accuracy,2)\n",
    "print(base_accuracy,actual_price,actual_date)\n"
   ]
  },
  {
   "cell_type": "code",
   "execution_count": 93,
   "metadata": {},
   "outputs": [
    {
     "name": "stdout",
     "output_type": "stream",
     "text": [
      "date 02/08/2022,predicted 40,actual 38, difference 2.518425233122059,accuracy 97.48\n"
     ]
    }
   ],
   "source": [
    "# Set keys and values of company\n",
    "predicted = int(Pred_rf)\n",
    "difference = Pred_rf-actual_price\n",
    "difference=difference[0]\n",
    "print(f'date {actual_date},predicted {predicted},actual {actual_price}, difference {difference},accuracy {base_accuracy}')"
   ]
  },
  {
   "cell_type": "code",
   "execution_count": 94,
   "metadata": {},
   "outputs": [
    {
     "data": {
      "text/plain": [
       "<pymongo.results.DeleteResult at 0x2b7ea7b2c00>"
      ]
     },
     "execution_count": 94,
     "metadata": {},
     "output_type": "execute_result"
    }
   ],
   "source": [
    "# Delete a document from a collection\n",
    "db.delete_one(\n",
    "    {'model': 'RFR','name': name}\n",
    ")\n"
   ]
  },
  {
   "cell_type": "code",
   "execution_count": 95,
   "metadata": {},
   "outputs": [
    {
     "name": "stdout",
     "output_type": "stream",
     "text": [
      "{'_id': ObjectId('62e9e6fe5d1dc2c159bc02f1'), 'model': 'RFR', 'name': 'WOW', 'date': '02/08/2022', 'predicted': 40, 'actual': 38, 'difference': 2.5184, 'accuracy': 97.48}\n"
     ]
    }
   ],
   "source": [
    "# Insert a document into the 'companys' collection\n",
    "db.insert_one(\n",
    "    {\n",
    "      'model': 'RFR',\n",
    "      'name': name,\n",
    "      'date': actual_date,\n",
    "      'predicted': predicted,\n",
    "      'actual': actual_price,\n",
    "      'difference': round(difference,4),\n",
    "      'accuracy': base_accuracy        \n",
    "    }\n",
    ")\n",
    "\n",
    "# query the classroom collection\n",
    "companys = db.find({\n",
    "  'model': 'RFR',\n",
    "  'name': name,})\n",
    "\n",
    "# see change in collection\n",
    "for company in companys:\n",
    "    print(company)"
   ]
  }
 ],
 "metadata": {
  "interpreter": {
   "hash": "45bb1cb4637e4034484920e5cfb24c9afd84b0847d6c36e39edd3067d3a05462"
  },
  "kernel_info": {
   "name": "dev"
  },
  "kernelspec": {
   "display_name": "Python 3.9.7 ('base')",
   "language": "python",
   "name": "python3"
  },
  "language_info": {
   "codemirror_mode": {
    "name": "ipython",
    "version": 3
   },
   "file_extension": ".py",
   "mimetype": "text/x-python",
   "name": "python",
   "nbconvert_exporter": "python",
   "pygments_lexer": "ipython3",
   "version": "3.9.7"
  },
  "nteract": {
   "version": "0.12.3"
  }
 },
 "nbformat": 4,
 "nbformat_minor": 2
}
