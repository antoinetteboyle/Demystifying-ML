{
 "cells": [
  {
   "cell_type": "code",
   "execution_count": 1,
   "metadata": {},
   "outputs": [
    {
     "name": "stdout",
     "output_type": "stream",
     "text": [
      "Requirement already satisfied: sklearn in c:\\users\\antoi\\anaconda3\\lib\\site-packages (0.0)\n",
      "Requirement already satisfied: scikit-learn in c:\\users\\antoi\\anaconda3\\lib\\site-packages (from sklearn) (0.24.2)\n",
      "Requirement already satisfied: scipy>=0.19.1 in c:\\users\\antoi\\anaconda3\\lib\\site-packages (from scikit-learn->sklearn) (1.7.1)\n",
      "Requirement already satisfied: threadpoolctl>=2.0.0 in c:\\users\\antoi\\anaconda3\\lib\\site-packages (from scikit-learn->sklearn) (2.2.0)\n",
      "Requirement already satisfied: numpy>=1.13.3 in c:\\users\\antoi\\anaconda3\\lib\\site-packages (from scikit-learn->sklearn) (1.20.3)\n",
      "Requirement already satisfied: joblib>=0.11 in c:\\users\\antoi\\anaconda3\\lib\\site-packages (from scikit-learn->sklearn) (1.1.0)\n",
      "Requirement already satisfied: joblib in c:\\users\\antoi\\anaconda3\\lib\\site-packages (1.1.0)\n"
     ]
    }
   ],
   "source": [
    "# Update sklearn to prevent version mismatches\n",
    "!pip install sklearn --upgrade\n",
    "# install joblib. This will be used to save your model. \n",
    "# Restart your kernel after installing \n",
    "!pip install joblib"
   ]
  },
  {
   "cell_type": "markdown",
   "metadata": {},
   "source": [
    "This model uses a neural network and GridSearchCV to predict share price impacts of Interest changes"
   ]
  },
  {
   "cell_type": "markdown",
   "metadata": {},
   "source": [
    "# Read the CSV and Perform Basic Data Cleaning"
   ]
  },
  {
   "cell_type": "code",
   "execution_count": 2,
   "metadata": {},
   "outputs": [],
   "source": [
    "import matplotlib.pyplot as plt\n",
    "import numpy as np\n",
    "import pandas as pd"
   ]
  },
  {
   "cell_type": "code",
   "execution_count": 3,
   "metadata": {},
   "outputs": [
    {
     "data": {
      "text/html": [
       "<div>\n",
       "<style scoped>\n",
       "    .dataframe tbody tr th:only-of-type {\n",
       "        vertical-align: middle;\n",
       "    }\n",
       "\n",
       "    .dataframe tbody tr th {\n",
       "        vertical-align: top;\n",
       "    }\n",
       "\n",
       "    .dataframe thead th {\n",
       "        text-align: right;\n",
       "    }\n",
       "</style>\n",
       "<table border=\"1\" class=\"dataframe\">\n",
       "  <thead>\n",
       "    <tr style=\"text-align: right;\">\n",
       "      <th></th>\n",
       "      <th>Date</th>\n",
       "      <th>Open</th>\n",
       "      <th>High</th>\n",
       "      <th>Low</th>\n",
       "      <th>Close</th>\n",
       "      <th>Adj Close</th>\n",
       "      <th>Volume</th>\n",
       "      <th>RBA</th>\n",
       "      <th>FED</th>\n",
       "      <th>CPI</th>\n",
       "    </tr>\n",
       "  </thead>\n",
       "  <tbody>\n",
       "    <tr>\n",
       "      <th>8859</th>\n",
       "      <td>1/08/2022</td>\n",
       "      <td>22.799999</td>\n",
       "      <td>22.799999</td>\n",
       "      <td>22.420000</td>\n",
       "      <td>22.740000</td>\n",
       "      <td>22.740000</td>\n",
       "      <td>7611230.0</td>\n",
       "      <td>1.35</td>\n",
       "      <td>2.5</td>\n",
       "      <td>125.0</td>\n",
       "    </tr>\n",
       "    <tr>\n",
       "      <th>8860</th>\n",
       "      <td>2/08/2022</td>\n",
       "      <td>22.440001</td>\n",
       "      <td>22.860001</td>\n",
       "      <td>22.410000</td>\n",
       "      <td>22.809999</td>\n",
       "      <td>22.809999</td>\n",
       "      <td>6999769.0</td>\n",
       "      <td>1.35</td>\n",
       "      <td>2.5</td>\n",
       "      <td>125.0</td>\n",
       "    </tr>\n",
       "    <tr>\n",
       "      <th>8861</th>\n",
       "      <td>3/08/2022</td>\n",
       "      <td>22.590000</td>\n",
       "      <td>22.770000</td>\n",
       "      <td>22.459999</td>\n",
       "      <td>22.709999</td>\n",
       "      <td>22.709999</td>\n",
       "      <td>5322088.0</td>\n",
       "      <td>1.85</td>\n",
       "      <td>2.5</td>\n",
       "      <td>125.0</td>\n",
       "    </tr>\n",
       "    <tr>\n",
       "      <th>8862</th>\n",
       "      <td>4/08/2022</td>\n",
       "      <td>22.629999</td>\n",
       "      <td>22.930000</td>\n",
       "      <td>22.629999</td>\n",
       "      <td>22.780001</td>\n",
       "      <td>22.780001</td>\n",
       "      <td>6167647.0</td>\n",
       "      <td>1.85</td>\n",
       "      <td>2.5</td>\n",
       "      <td>125.0</td>\n",
       "    </tr>\n",
       "    <tr>\n",
       "      <th>8863</th>\n",
       "      <td>5/08/2022</td>\n",
       "      <td>22.830000</td>\n",
       "      <td>22.879999</td>\n",
       "      <td>22.740000</td>\n",
       "      <td>22.850000</td>\n",
       "      <td>22.850000</td>\n",
       "      <td>834259.0</td>\n",
       "      <td>1.85</td>\n",
       "      <td>2.5</td>\n",
       "      <td>125.0</td>\n",
       "    </tr>\n",
       "  </tbody>\n",
       "</table>\n",
       "</div>"
      ],
      "text/plain": [
       "           Date       Open       High        Low      Close  Adj Close  \\\n",
       "8859  1/08/2022  22.799999  22.799999  22.420000  22.740000  22.740000   \n",
       "8860  2/08/2022  22.440001  22.860001  22.410000  22.809999  22.809999   \n",
       "8861  3/08/2022  22.590000  22.770000  22.459999  22.709999  22.709999   \n",
       "8862  4/08/2022  22.629999  22.930000  22.629999  22.780001  22.780001   \n",
       "8863  5/08/2022  22.830000  22.879999  22.740000  22.850000  22.850000   \n",
       "\n",
       "         Volume   RBA  FED    CPI  \n",
       "8859  7611230.0  1.35  2.5  125.0  \n",
       "8860  6999769.0  1.35  2.5  125.0  \n",
       "8861  5322088.0  1.85  2.5  125.0  \n",
       "8862  6167647.0  1.85  2.5  125.0  \n",
       "8863   834259.0  1.85  2.5  125.0  "
      ]
     },
     "execution_count": 3,
     "metadata": {},
     "output_type": "execute_result"
    }
   ],
   "source": [
    "df_stock1 = pd.read_csv(\"../../static/data/anz.csv\")\n",
    "# Drop the null columns where all values are null\n",
    "df_stock2 = df_stock1.dropna(axis='columns', how='all')\n",
    "# Drop the null rows\n",
    "df = df_stock2.dropna()\n",
    "df.tail()"
   ]
  },
  {
   "cell_type": "code",
   "execution_count": 4,
   "metadata": {},
   "outputs": [
    {
     "name": "stdout",
     "output_type": "stream",
     "text": [
      "12/08/2022 24.020000457763672\n"
     ]
    },
    {
     "data": {
      "text/plain": [
       "<bound method NDFrame.tail of                            _id        Date       Open       High        Low  \\\n",
       "0     62ec6db62b39ed09ae95159e   1/02/1988   3.205835   3.205835   3.205835   \n",
       "1     62ec6db62b39ed09ae95159f   2/02/1988   3.205835   3.205835   3.205835   \n",
       "2     62ec6db62b39ed09ae9515a0   3/02/1988   3.205835   3.205835   3.205835   \n",
       "3     62ec6db62b39ed09ae9515a1   4/02/1988   3.205835   3.205835   3.205835   \n",
       "4     62ec6db62b39ed09ae9515a2   5/02/1988   3.205835   3.205835   3.205835   \n",
       "...                        ...         ...        ...        ...        ...   \n",
       "8700  62f204e6f255d8cd7fb32b82  08/08/2022  22.709999  22.975000  22.700001   \n",
       "8701  62f36aa4cbb89c22df09e5c0  09/08/2022  22.850000  23.000000  22.610001   \n",
       "8702  62f6fa81daa9995511d3b26d  10/08/2022  22.900000  23.590000  22.809999   \n",
       "8703  62f6fa81daa9995511d3b26e  11/08/2022  23.700001  23.900000  23.540001   \n",
       "8704  62f6fa81daa9995511d3b26f  12/08/2022  23.980000  24.110001  23.820000   \n",
       "\n",
       "          Close  Adj Close      Volume    RBA   FED    CPI  \n",
       "0      3.205835   0.463780         0.0  17.50  9.97   48.4  \n",
       "1      3.205835   0.463780         0.0  17.50  9.97   48.4  \n",
       "2      3.205835   0.463780         0.0  17.50  9.97   48.4  \n",
       "3      3.205835   0.463780         0.0  17.50  9.97   48.4  \n",
       "4      3.205835   0.463780         0.0  17.50  9.97   48.4  \n",
       "...         ...        ...         ...    ...   ...    ...  \n",
       "8700  22.910000  22.910000   4919176.0   1.85  2.50  125.0  \n",
       "8701  22.700001  22.700001   7216724.0   1.85  2.50  125.0  \n",
       "8702  23.459999  23.459999  10056014.0   1.85  2.50  125.0  \n",
       "8703  23.900000  23.900000   7898109.0   1.85  2.50  125.0  \n",
       "8704  24.020000  24.020000   7882424.0   1.85  2.50  125.0  \n",
       "\n",
       "[8705 rows x 11 columns]>"
      ]
     },
     "execution_count": 4,
     "metadata": {},
     "output_type": "execute_result"
    }
   ],
   "source": [
    "# Connect to MongoDb\n",
    "from pymongo import MongoClient\n",
    "mongoClient = MongoClient()\n",
    "db = mongoClient.sharesDB\n",
    "\n",
    "df_mongo = pd.DataFrame(list(db.anz.find()))\n",
    "last_val = df_mongo.iloc[-1:].values\n",
    "last_date = last_val[0][1]\n",
    "last_close = last_val[0][5]\n",
    "# print(last_val)\n",
    "print(last_date,last_close)\n",
    "df_mongo.tail\n"
   ]
  },
  {
   "cell_type": "markdown",
   "metadata": {},
   "source": [
    "# Use `RBA`,`FED` and `CPI` for the X values"
   ]
  },
  {
   "cell_type": "code",
   "execution_count": 5,
   "metadata": {},
   "outputs": [
    {
     "name": "stdout",
     "output_type": "stream",
     "text": [
      "(8705, 3) (8705, 1)\n"
     ]
    }
   ],
   "source": [
    "X = df_mongo[[\"RBA\",\"FED\",\"CPI\"]]\n",
    "y = df_mongo[\"Close\"].values.reshape(-1, 1)\n",
    "print(X.shape, y.shape)"
   ]
  },
  {
   "cell_type": "code",
   "execution_count": 6,
   "metadata": {},
   "outputs": [],
   "source": [
    "# X = df_mongo[[\"RBA\",\"FED\",\"CPI\"]]\n",
    "# y = df_mongo[\"Close\"].values.reshape(-1, 1)\n",
    "# print(X.shape, y.shape)"
   ]
  },
  {
   "cell_type": "code",
   "execution_count": 7,
   "metadata": {},
   "outputs": [
    {
     "data": {
      "text/plain": [
       "array([[ 3.205835  ],\n",
       "       [ 3.205835  ],\n",
       "       [ 3.205835  ],\n",
       "       ...,\n",
       "       [23.45999908],\n",
       "       [23.89999962],\n",
       "       [24.02000046]])"
      ]
     },
     "execution_count": 7,
     "metadata": {},
     "output_type": "execute_result"
    }
   ],
   "source": [
    "y"
   ]
  },
  {
   "cell_type": "markdown",
   "metadata": {},
   "source": [
    "# Create a Train Test Split"
   ]
  },
  {
   "cell_type": "code",
   "execution_count": 8,
   "metadata": {},
   "outputs": [
    {
     "name": "stdout",
     "output_type": "stream",
     "text": [
      "(6528, 3) (6528, 1)\n",
      "(2177, 3) (2177, 1)\n",
      "<bound method DataFrame.info of         RBA   FED    CPI\n",
      "8694   1.35  2.50  125.0\n",
      "3458   4.50  2.00   75.4\n",
      "4674   6.00  5.25   86.7\n",
      "4995   6.75  4.25   89.1\n",
      "2567   5.00  5.50   67.4\n",
      "...     ...   ...    ...\n",
      "2895   5.00  5.50   68.7\n",
      "7813   1.50  2.50  114.1\n",
      "905    9.50  5.25   59.3\n",
      "5192   7.00  2.00   92.7\n",
      "235   17.50  9.97   51.7\n",
      "\n",
      "[6528 rows x 3 columns]>\n"
     ]
    }
   ],
   "source": [
    "# Use train_test_split to create training and testing data\n",
    "from sklearn.model_selection import train_test_split\n",
    "\n",
    "X_train, X_test, y_train, y_test = train_test_split(X, y, random_state=1)\n",
    "print(X_train.shape, y_train.shape)\n",
    "print(X_test.shape, y_test.shape)\n",
    "print(X_train.info)"
   ]
  },
  {
   "cell_type": "code",
   "execution_count": 9,
   "metadata": {},
   "outputs": [],
   "source": [
    "from sklearn.linear_model import LinearRegression\n",
    "model = LinearRegression()"
   ]
  },
  {
   "cell_type": "markdown",
   "metadata": {},
   "source": [
    "# Fit the model"
   ]
  },
  {
   "cell_type": "code",
   "execution_count": 10,
   "metadata": {},
   "outputs": [
    {
     "name": "stdout",
     "output_type": "stream",
     "text": [
      "Training Score: 0.7945474250471952\n",
      "Testing Score: 0.7860527415859042\n"
     ]
    }
   ],
   "source": [
    "# Fit the model to the training data and calculate the scores for the training and testing data\n",
    "\n",
    "### BEGIN SOLUTION\n",
    "model.fit(X_train, y_train)\n",
    "training_score = model.score(X_train, y_train)\n",
    "testing_score = model.score(X_test, y_test)\n",
    "\n",
    "### END SOLUTION \n",
    "\n",
    "print(f\"Training Score: {training_score}\")\n",
    "print(f\"Testing Score: {testing_score}\")"
   ]
  },
  {
   "cell_type": "code",
   "execution_count": 11,
   "metadata": {},
   "outputs": [],
   "source": [
    "# X_train = X_train.reshape((X_train.shape[0], 1))"
   ]
  },
  {
   "cell_type": "code",
   "execution_count": 12,
   "metadata": {},
   "outputs": [],
   "source": [
    "#Linear Regression Residual showing difference actual vs predicted\n",
    "# residual = pd.DataFrame([model.predict(X_train),y_train,(model.predict(X_train)-y_train)])\n",
    "# residual.tail"
   ]
  },
  {
   "cell_type": "code",
   "execution_count": 13,
   "metadata": {},
   "outputs": [
    {
     "data": {
      "text/plain": [
       "Text(0.5, 1.0, 'Residual Plot')"
      ]
     },
     "execution_count": 13,
     "metadata": {},
     "output_type": "execute_result"
    },
    {
     "data": {
      "image/png": "[encoded data removed]",
      "text/plain": [
       "<Figure size 432x288 with 1 Axes>"
      ]
     },
     "metadata": {
      "needs_background": "light"
     },
     "output_type": "display_data"
    }
   ],
   "source": [
    "# Plot the Residuals for the Training and Testing data\n",
    "plt.scatter(model.predict(X_train), model.predict(X_train) - y_train, c=\"blue\", label=\"Training Data\")\n",
    "plt.scatter(model.predict(X_test), model.predict(X_test) - y_test, c=\"orange\", label=\"Testing Data\")\n",
    "plt.legend()\n",
    "plt.hlines(y=0, xmin=y.min(), xmax=y.max())\n",
    "plt.title(\"Residual Plot\")"
   ]
  },
  {
   "cell_type": "code",
   "execution_count": 14,
   "metadata": {},
   "outputs": [],
   "source": [
    "# Linear Regression: X_test predictions to variable\n",
    "predictions = model.predict(X_test)"
   ]
  },
  {
   "cell_type": "markdown",
   "metadata": {},
   "source": [
    "#### R2 Score is a very popular metric used for evaluating the performance of linear regression models. Where R2 Score is between 0 and 1, the closer to 1, the better the regression fit.\n",
    "#### Use MSE or MAE when comparing two or more models, the lower the value of MSE or MAE, the better. MSE (Mean Square Error): Uses Euclidean distance to calculate the error. MSE gives the magnitude of the error only."
   ]
  },
  {
   "cell_type": "code",
   "execution_count": 15,
   "metadata": {},
   "outputs": [
    {
     "name": "stdout",
     "output_type": "stream",
     "text": [
      "MSE: 19.946885139257876, R2: 0.7860527415859042\n"
     ]
    }
   ],
   "source": [
    "# Used X_test, y_test, and model.predict(X_test) to calculate MSE and R2\n",
    "\n",
    "### BEGIN SOLUTION\n",
    "from sklearn.metrics import mean_squared_error\n",
    "\n",
    "MSE = mean_squared_error(y_test, predictions)\n",
    "r2 = model.score(X_test, y_test)\n",
    "### END SOLUTION\n",
    "\n",
    "print(f\"MSE: {MSE}, R2: {r2}\")"
   ]
  },
  {
   "cell_type": "markdown",
   "metadata": {},
   "source": [
    "#### Lasso regression imposes a constraint on the model parameters that causes regression coefficients for some variables to shrink toward zero. It comes with a parameter, alpha , and the higher the alpha , the more feature coefficients are zero. When alpha is 0 , Lasso regression produces the same coefficients as a linear regression."
   ]
  },
  {
   "cell_type": "code",
   "execution_count": 16,
   "metadata": {},
   "outputs": [
    {
     "name": "stdout",
     "output_type": "stream",
     "text": [
      "MSE: 19.9503024805772, R2: 0.7860160877022914\n"
     ]
    }
   ],
   "source": [
    "# LASSO model\n",
    "# Note: Used an alpha of .01 when creating the model for this activity\n",
    "from sklearn.linear_model import Lasso\n",
    "\n",
    "### BEGIN SOLUTION\n",
    "lasso = Lasso(alpha=.01).fit(X_train, y_train)\n",
    "\n",
    "predictions = lasso.predict(X_test)\n",
    "\n",
    "MSE = mean_squared_error(y_test, predictions)\n",
    "r2 = lasso.score(X_test, y_test)\n",
    "### END SOLUTION\n",
    "\n",
    "print(f\"MSE: {MSE}, R2: {r2}\")"
   ]
  },
  {
   "cell_type": "code",
   "execution_count": 17,
   "metadata": {},
   "outputs": [
    {
     "name": "stdout",
     "output_type": "stream",
     "text": [
      "MSE: 19.946885319988013, R2: 0.7860527396474203\n"
     ]
    }
   ],
   "source": [
    "# Ridge model\n",
    "# Note: Used an alpha of .01 when creating the model for this activity\n",
    "from sklearn.linear_model import Ridge\n",
    "\n",
    "### BEGIN SOLUTION\n",
    "ridge = Ridge(alpha=.01).fit(X_train, y_train)\n",
    "\n",
    "predictions = ridge.predict(X_test)\n",
    "\n",
    "MSE = mean_squared_error(y_test, predictions)\n",
    "r2 = ridge.score(X_test, y_test)\n",
    "### END SOLUTION\n",
    "\n",
    "print(f\"MSE: {MSE}, R2: {r2}\")"
   ]
  },
  {
   "cell_type": "code",
   "execution_count": 18,
   "metadata": {},
   "outputs": [
    {
     "name": "stdout",
     "output_type": "stream",
     "text": [
      "MSE: 19.949186733863694, R2: 0.7860280550319658\n"
     ]
    }
   ],
   "source": [
    "# ElasticNet model\n",
    "# Note: Use an alpha of .01 when creating the model for this activity\n",
    "from sklearn.linear_model import ElasticNet\n",
    "\n",
    "### BEGIN SOLUTION\n",
    "elasticnet = ElasticNet(alpha=.01).fit(X_train, y_train)\n",
    "\n",
    "predictions = elasticnet.predict(X_test)\n",
    "\n",
    "MSE = mean_squared_error(y_test, predictions)\n",
    "r2 = elasticnet.score(X_test, y_test)\n",
    "### END SOLUTION\n",
    "\n",
    "print(f\"MSE: {MSE}, R2: {r2}\")"
   ]
  },
  {
   "cell_type": "markdown",
   "metadata": {},
   "source": [
    "# Hyperparameter Tuning"
   ]
  },
  {
   "cell_type": "code",
   "execution_count": 19,
   "metadata": {},
   "outputs": [
    {
     "data": {
      "text/plain": [
       "(8705,)"
      ]
     },
     "execution_count": 19,
     "metadata": {},
     "output_type": "execute_result"
    }
   ],
   "source": [
    "y_target = df_mongo[\"Close\"]\n",
    "y_target.shape"
   ]
  },
  {
   "cell_type": "code",
   "execution_count": 20,
   "metadata": {},
   "outputs": [
    {
     "name": "stdout",
     "output_type": "stream",
     "text": [
      "(6528, 3) (6528,)\n",
      "(2177, 3) (2177,)\n"
     ]
    }
   ],
   "source": [
    "# Use train_test_split to create training and testing data\n",
    "from sklearn.model_selection import train_test_split\n",
    "\n",
    "X_train, X_test, y_train, y_test = train_test_split(X, y_target, random_state=1)\n",
    "print(X_train.shape, y_train.shape)\n",
    "print(X_test.shape, y_test.shape)"
   ]
  },
  {
   "cell_type": "code",
   "execution_count": 21,
   "metadata": {},
   "outputs": [
    {
     "name": "stdout",
     "output_type": "stream",
     "text": [
      "(6528, 3) (6528,)\n",
      "(2177, 3) (2177,)\n"
     ]
    }
   ],
   "source": [
    "print(X_train.shape,y_train.shape)\n",
    "print(X_test.shape,y_test.shape)"
   ]
  },
  {
   "cell_type": "markdown",
   "metadata": {},
   "source": [
    "#### GridSearchCV and RandomizedSearchCV are techniques to evaluate models for a given hyperparameter vector using cross-validation, hence the “CV” suffix of the class name.\n",
    "#### We are executing many models together is to find which machine learning model works best for this particular dataset."
   ]
  },
  {
   "cell_type": "code",
   "execution_count": 22,
   "metadata": {},
   "outputs": [],
   "source": [
    "from sklearn.linear_model import LinearRegression, Ridge,Lasso\n",
    "from sklearn.neighbors import KNeighborsRegressor\n",
    "from sklearn.ensemble import GradientBoostingRegressor\n",
    "from sklearn.ensemble import ExtraTreesRegressor, RandomForestRegressor\n",
    "from sklearn.tree import DecisionTreeRegressor"
   ]
  },
  {
   "cell_type": "code",
   "execution_count": 23,
   "metadata": {},
   "outputs": [],
   "source": [
    "regressors = [\n",
    "    RandomForestRegressor(),\n",
    "    DecisionTreeRegressor(),\n",
    "    KNeighborsRegressor(),\n",
    "    GradientBoostingRegressor(),\n",
    "    KNeighborsRegressor(),\n",
    "    ExtraTreesRegressor(),\n",
    "    LinearRegression(),\n",
    "    Lasso(),\n",
    "    Ridge()\n",
    "]"
   ]
  },
  {
   "cell_type": "code",
   "execution_count": 24,
   "metadata": {},
   "outputs": [
    {
     "name": "stdout",
     "output_type": "stream",
     "text": [
      "RandomForestRegressor()\n",
      "\tTraining time: 0.262s\n",
      "\tPrediction time: 0.019s\n",
      "\tExplained variance: 0.9939373904442276\n",
      "\tMean absolute error: 0.49407740827548163\n",
      "\tR2 score: 0.9939353858143325\n",
      "\n",
      "DecisionTreeRegressor()\n",
      "\tTraining time: 0.003s\n",
      "\tPrediction time: 0.002s\n",
      "\tExplained variance: 0.9939373897824039\n",
      "\tMean absolute error: 0.49409267034140464\n",
      "\tR2 score: 0.9939352671276186\n",
      "\n",
      "KNeighborsRegressor()\n",
      "\tTraining time: 0.004s\n",
      "\tPrediction time: 0.005s\n",
      "\tExplained variance: 0.9933668940787594\n",
      "\tMean absolute error: 0.5177253314247673\n",
      "\tR2 score: 0.9933668136751765\n",
      "\n",
      "GradientBoostingRegressor()\n",
      "\tTraining time: 0.124s\n",
      "\tPrediction time: 0.003s\n",
      "\tExplained variance: 0.9907844121134547\n",
      "\tMean absolute error: 0.6620404948998946\n",
      "\tR2 score: 0.9907842232141296\n",
      "\n",
      "KNeighborsRegressor()\n",
      "\tTraining time: 0.004s\n",
      "\tPrediction time: 0.006s\n",
      "\tExplained variance: 0.9933668940787594\n",
      "\tMean absolute error: 0.5177253314247673\n",
      "\tR2 score: 0.9933668136751765\n",
      "\n",
      "ExtraTreesRegressor()\n",
      "\tTraining time: 0.181s\n",
      "\tPrediction time: 0.020s\n",
      "\tExplained variance: 0.9939374501235838\n",
      "\tMean absolute error: 0.4940678856767293\n",
      "\tR2 score: 0.993935306754885\n",
      "\n",
      "LinearRegression()\n",
      "\tTraining time: 0.001s\n",
      "\tPrediction time: 0.001s\n",
      "\tExplained variance: 0.7860535393206924\n",
      "\tMean absolute error: 3.4405528982312545\n",
      "\tR2 score: 0.7860527415859042\n",
      "\n",
      "Lasso()\n",
      "\tTraining time: 0.002s\n",
      "\tPrediction time: 0.000s\n",
      "\tExplained variance: 0.7794252080840572\n",
      "\tMean absolute error: 3.4866544389685945\n",
      "\tR2 score: 0.7794250404577336\n",
      "\n",
      "Ridge()\n",
      "\tTraining time: 0.001s\n",
      "\tPrediction time: 0.001s\n",
      "\tExplained variance: 0.7860533453976275\n",
      "\tMean absolute error: 3.44055071678752\n",
      "\tR2 score: 0.7860525477181219\n",
      "\n"
     ]
    }
   ],
   "source": [
    "from time import time\n",
    "from sklearn.metrics import explained_variance_score,mean_absolute_error,r2_score\n",
    "\n",
    "head = 10\n",
    "for model in regressors[:head]:\n",
    "    start = time()\n",
    "    model.fit(X_train, y_train)\n",
    "    train_time = time() - start\n",
    "    start = time()\n",
    "    y_pred = model.predict(X_test)\n",
    "    predict_time = time()-start    \n",
    "    print(model)\n",
    "    print(\"\\tTraining time: %0.3fs\" % train_time)\n",
    "    print(\"\\tPrediction time: %0.3fs\" % predict_time)\n",
    "    print(\"\\tExplained variance:\", explained_variance_score(y_test, y_pred))\n",
    "    print(\"\\tMean absolute error:\", mean_absolute_error(y_test, y_pred))\n",
    "    print(\"\\tR2 score:\", r2_score(y_test, y_pred))\n",
    "    print()"
   ]
  },
  {
   "cell_type": "markdown",
   "metadata": {},
   "source": [
    "#### By comparing these results, we can quickly see that RandomForestRegressor and DecisionTreeRegressor are the best models for our data\n",
    "#### Machine learning models have parameters, which are the internal coefficients set by training or optimizing the model on a training dataset.\n",
    "#### Parameters are different from hyperparameters. Parameters are learned automatically; hyperparameters are set manually to help guide the learning process."
   ]
  },
  {
   "cell_type": "code",
   "execution_count": 25,
   "metadata": {},
   "outputs": [
    {
     "name": "stdout",
     "output_type": "stream",
     "text": [
      "Parameters currently in use:\n",
      "\n",
      "{'bootstrap': True,\n",
      " 'ccp_alpha': 0.0,\n",
      " 'criterion': 'mse',\n",
      " 'max_depth': None,\n",
      " 'max_features': 'auto',\n",
      " 'max_leaf_nodes': None,\n",
      " 'max_samples': None,\n",
      " 'min_impurity_decrease': 0.0,\n",
      " 'min_impurity_split': None,\n",
      " 'min_samples_leaf': 1,\n",
      " 'min_samples_split': 2,\n",
      " 'min_weight_fraction_leaf': 0.0,\n",
      " 'n_estimators': 100,\n",
      " 'n_jobs': None,\n",
      " 'oob_score': False,\n",
      " 'random_state': 42,\n",
      " 'verbose': 0,\n",
      " 'warm_start': False}\n"
     ]
    }
   ],
   "source": [
    "from sklearn.ensemble import RandomForestRegressor\n",
    "rf = RandomForestRegressor(random_state = 42)\n",
    "from pprint import pprint\n",
    "# Look at parameters used by our current forest\n",
    "print('Parameters currently in use:\\n')\n",
    "pprint(rf.get_params())"
   ]
  },
  {
   "cell_type": "code",
   "execution_count": 26,
   "metadata": {},
   "outputs": [
    {
     "name": "stdout",
     "output_type": "stream",
     "text": [
      "{'bootstrap': [True, False],\n",
      " 'max_depth': [10, 20, 30, 40, 50, 60, 70, 80, 90, 100, 110, None],\n",
      " 'max_features': ['auto', 'sqrt'],\n",
      " 'min_samples_leaf': [1, 2, 4],\n",
      " 'min_samples_split': [2, 5, 10],\n",
      " 'n_estimators': [200, 400, 600, 800, 1000, 1200, 1400, 1600, 1800, 2000]}\n"
     ]
    }
   ],
   "source": [
    "from sklearn.model_selection import RandomizedSearchCV\n",
    "# Number of trees in random forest\n",
    "n_estimators = [int(x) for x in np.linspace(start = 200, stop = 2000, num = 10)]\n",
    "# Number of features to consider at every split\n",
    "max_features = ['auto', 'sqrt']\n",
    "# Maximum number of levels in tree\n",
    "max_depth = [int(x) for x in np.linspace(10, 110, num = 11)]\n",
    "max_depth.append(None)\n",
    "# Minimum number of samples required to split a node\n",
    "min_samples_split = [2, 5, 10]\n",
    "# Minimum number of samples required at each leaf node\n",
    "min_samples_leaf = [1, 2, 4]\n",
    "# Method of selecting samples for training each tree\n",
    "bootstrap = [True, False]\n",
    "# Create the random grid\n",
    "random_grid = {'n_estimators': n_estimators,\n",
    "               'max_features': max_features,\n",
    "               'max_depth': max_depth,\n",
    "               'min_samples_split': min_samples_split,\n",
    "               'min_samples_leaf': min_samples_leaf,\n",
    "               'bootstrap': bootstrap}\n",
    "pprint(random_grid)"
   ]
  },
  {
   "cell_type": "code",
   "execution_count": 27,
   "metadata": {},
   "outputs": [
    {
     "name": "stdout",
     "output_type": "stream",
     "text": [
      "Fitting 3 folds for each of 100 candidates, totalling 300 fits\n"
     ]
    },
    {
     "data": {
      "text/plain": [
       "RandomizedSearchCV(cv=3, estimator=RandomForestRegressor(), n_iter=100,\n",
       "                   n_jobs=-1,\n",
       "                   param_distributions={'bootstrap': [True, False],\n",
       "                                        'max_depth': [10, 20, 30, 40, 50, 60,\n",
       "                                                      70, 80, 90, 100, 110,\n",
       "                                                      None],\n",
       "                                        'max_features': ['auto', 'sqrt'],\n",
       "                                        'min_samples_leaf': [1, 2, 4],\n",
       "                                        'min_samples_split': [2, 5, 10],\n",
       "                                        'n_estimators': [200, 400, 600, 800,\n",
       "                                                         1000, 1200, 1400, 1600,\n",
       "                                                         1800, 2000]},\n",
       "                   random_state=42, verbose=2)"
      ]
     },
     "execution_count": 27,
     "metadata": {},
     "output_type": "execute_result"
    }
   ],
   "source": [
    "# Use the random grid to search for best hyperparameters\n",
    "# First create the base model to tune\n",
    "rf = RandomForestRegressor()\n",
    "# Random search of parameters, using 3 fold cross validation, \n",
    "# search across 100 different combinations, and use all available cores\n",
    "rf_random = RandomizedSearchCV(estimator = rf, param_distributions = random_grid, n_iter = 100, cv = 3, verbose=2, random_state=42, n_jobs = -1)\n",
    "# Fit the random search model\n",
    "rf_random.fit(X_train, y_train)"
   ]
  },
  {
   "cell_type": "code",
   "execution_count": 28,
   "metadata": {},
   "outputs": [
    {
     "data": {
      "text/plain": [
       "{'n_estimators': 1800,\n",
       " 'min_samples_split': 10,\n",
       " 'min_samples_leaf': 1,\n",
       " 'max_features': 'sqrt',\n",
       " 'max_depth': 30,\n",
       " 'bootstrap': False}"
      ]
     },
     "execution_count": 28,
     "metadata": {},
     "output_type": "execute_result"
    }
   ],
   "source": [
    "rf_random.best_params_"
   ]
  },
  {
   "cell_type": "code",
   "execution_count": 29,
   "metadata": {},
   "outputs": [
    {
     "name": "stdout",
     "output_type": "stream",
     "text": [
      "Model Performance\n",
      "Average Error: 0.4928 degrees.\n",
      "Accuracy = 97.17%.\n",
      "Model Performance\n",
      "Average Error: 0.4942 degrees.\n",
      "Accuracy = 97.15%.\n",
      "Improvement of -0.02%.\n"
     ]
    }
   ],
   "source": [
    "def evaluate(model, X_test, y_test):\n",
    "    predictions = model.predict(X_test)\n",
    "    errors = abs(predictions - y_test)\n",
    "    mape = 100 * np.mean(errors / y_test)\n",
    "    accuracy = 100 - mape\n",
    "    print('Model Performance')\n",
    "    print('Average Error: {:0.4f} degrees.'.format(np.mean(errors)))\n",
    "    print('Accuracy = {:0.2f}%.'.format(accuracy))\n",
    "    return accuracy\n",
    "base_model = RandomForestRegressor(n_estimators = 10, random_state = 42)\n",
    "base_model.fit(X_train, y_train)\n",
    "base_accuracy = evaluate(base_model, X_test, y_test)\n",
    "\n",
    "best_random = rf_random.best_estimator_\n",
    "random_accuracy = evaluate(best_random, X_test, y_test)\n",
    "\n",
    "print('Improvement of {:0.2f}%.'.format( 100 * (random_accuracy - base_accuracy) / base_accuracy))"
   ]
  },
  {
   "cell_type": "code",
   "execution_count": 30,
   "metadata": {},
   "outputs": [
    {
     "data": {
      "text/plain": [
       "97.17024639473046"
      ]
     },
     "execution_count": 30,
     "metadata": {},
     "output_type": "execute_result"
    }
   ],
   "source": [
    "base_accuracy"
   ]
  },
  {
   "cell_type": "code",
   "execution_count": 31,
   "metadata": {},
   "outputs": [],
   "source": [
    "# Hyperparameter tuning has not improved accuracy significantly"
   ]
  },
  {
   "cell_type": "code",
   "execution_count": 32,
   "metadata": {},
   "outputs": [
    {
     "data": {
      "text/plain": [
       "array([27.83463742, 17.59990129, 21.82619703, ...,  4.74351824,\n",
       "        4.74351824, 17.59990129])"
      ]
     },
     "execution_count": 32,
     "metadata": {},
     "output_type": "execute_result"
    }
   ],
   "source": [
    "model_rfr = RandomForestRegressor()\n",
    "model_rfr.fit(X_train, y_train)\n",
    "y_test_pred = model_rfr.predict(X_test)\n",
    "y_test_pred"
   ]
  },
  {
   "cell_type": "code",
   "execution_count": 33,
   "metadata": {},
   "outputs": [
    {
     "data": {
      "text/plain": [
       "<bound method NDFrame.tail of         0          1          2          3          4          5         6     \\\n",
       "0  22.795671  17.066113  26.673709  27.472339  10.158684  24.404569  5.258452   \n",
       "1  22.900000  17.775217  27.090000  28.430000  10.222780  25.150000  5.340686   \n",
       "2  -0.104329  -0.709104  -0.416291  -0.957661  -0.064096  -0.745431 -0.082234   \n",
       "\n",
       "        7         8          9     ...       6518       6519       6520  \\\n",
       "0  18.254038  3.385509  28.312185  ...  17.066113  26.085312  19.877507   \n",
       "1  18.459999  3.515872  28.420000  ...  16.967903  26.150000  19.690001   \n",
       "2  -0.205961 -0.130363  -0.107815  ...   0.098210  -0.064688   0.187506   \n",
       "\n",
       "       6521       6522       6523      6524          6525       6526      6527  \n",
       "0  4.363916  21.161479  10.163924  26.16058  3.553979e+00  17.608252  5.175202  \n",
       "1  4.383119  20.850000   9.735526  26.41000  3.553979e+00  18.040001  5.171134  \n",
       "2 -0.019203   0.311479   0.428398  -0.24942  6.217249e-15  -0.431749  0.004068  \n",
       "\n",
       "[3 rows x 6528 columns]>"
      ]
     },
     "execution_count": 33,
     "metadata": {},
     "output_type": "execute_result"
    }
   ],
   "source": [
    "#RandomForestRegressor Residual showing difference actual vs predicted\n",
    "residual_dtr = pd.DataFrame([model_rfr.predict(X_train),y_train,(model_rfr.predict(X_train)-y_train)])\n",
    "residual_dtr.tail"
   ]
  },
  {
   "cell_type": "code",
   "execution_count": 34,
   "metadata": {},
   "outputs": [
    {
     "data": {
      "image/png": "[encoded data removed]",
      "text/plain": [
       "<Figure size 432x288 with 1 Axes>"
      ]
     },
     "metadata": {
      "needs_background": "light"
     },
     "output_type": "display_data"
    }
   ],
   "source": [
    "# Make predictions using fitted model\n",
    "predictions1 = model_rfr.predict(X_test)\n",
    "\n",
    "# Plotted the difference between the model predicted values and actual y values, versus the model predicted values\n",
    "plt.scatter(model_rfr.predict(X_train), y_train - model_rfr.predict(X_train), c=\"blue\", label=\"Training Data\")\n",
    "plt.scatter(model_rfr.predict(X_test), y_test - model_rfr.predict(X_test), c=\"orange\", label=\"Testing Data\")\n",
    "plt.legend()\n",
    "plt.hlines(y=0, xmin=y_test.min(), xmax=y_test.max())\n",
    "plt.title(\"Residual Plot\")\n",
    "plt.show()"
   ]
  },
  {
   "cell_type": "markdown",
   "metadata": {},
   "source": [
    "# Save the Model"
   ]
  },
  {
   "cell_type": "code",
   "execution_count": 35,
   "metadata": {},
   "outputs": [],
   "source": [
    "import pickle\n",
    "filename = '../../static/anz_model_rfr.sav'\n",
    "pickle.dump(model, open(filename, 'wb'))\n",
    "model_in_rfr = pickle.load(open(filename, 'rb'))"
   ]
  },
  {
   "cell_type": "code",
   "execution_count": 36,
   "metadata": {},
   "outputs": [],
   "source": [
    "# from joblib import dump,load\n",
    "# model_in_rfr = load('anz_model_rfr.sav')"
   ]
  },
  {
   "cell_type": "code",
   "execution_count": 37,
   "metadata": {},
   "outputs": [
    {
     "name": "stdout",
     "output_type": "stream",
     "text": [
      "      RBA    FED     CPI  Prediction\n",
      "0    1.35   1.75  123.90       33.20\n",
      "1    1.60   2.00  124.15       33.32\n",
      "2    1.85   2.25  124.40       33.44\n",
      "3    2.10   2.50  124.65       33.55\n",
      "4    2.35   2.75  124.90       33.67\n",
      "5    2.60   3.00  125.15       33.79\n",
      "6    2.85   3.25  125.40       33.91\n",
      "7    3.10   3.50  125.65       34.03\n",
      "8    3.35   3.75  125.90       34.15\n",
      "9    3.60   4.00  126.15       34.26\n",
      "10   3.85   4.25  126.40       34.38\n",
      "11   4.10   4.50  126.65       34.50\n",
      "12   4.35   4.75  126.90       34.62\n",
      "13   4.60   5.00  127.15       34.74\n",
      "14   4.85   5.25  127.40       34.86\n",
      "15   5.10   5.50  127.65       34.97\n",
      "16   5.35   5.75  127.90       35.09\n",
      "17   5.60   6.00  128.15       35.21\n",
      "18   5.85   6.25  128.40       35.33\n",
      "19   6.10   6.50  128.65       35.45\n",
      "20   6.35   6.75  128.90       35.57\n",
      "21   6.60   7.00  129.15       35.68\n",
      "22   6.85   7.25  129.40       35.80\n",
      "23   7.10   7.50  129.65       35.92\n",
      "24   7.35   7.75  129.90       36.04\n",
      "25   7.60   8.00  130.15       36.16\n",
      "26   7.85   8.25  130.40       36.28\n",
      "27   8.10   8.50  130.65       36.39\n",
      "28   8.35   8.75  130.90       36.51\n",
      "29   8.60   9.00  131.15       36.63\n",
      "30   8.85   9.25  131.40       36.75\n",
      "31   9.10   9.50  131.65       36.87\n",
      "32   9.35   9.75  131.90       36.99\n",
      "33   9.60  10.00  132.15       37.10\n",
      "34   9.85  10.25  132.40       37.22\n",
      "35  10.10  10.50  132.65       37.34\n",
      "36  10.35  10.75  132.90       37.46\n",
      "37  10.60  11.00  133.15       37.58\n",
      "38  10.85  11.25  133.40       37.70\n",
      "39  11.10  11.50  133.65       37.81 [{'RBA': 1.35, 'FED': 1.75, 'CPI': 123.9, 'Prediction': 33.2}, {'RBA': 1.6, 'FED': 2.0, 'CPI': 124.15, 'Prediction': 33.32}, {'RBA': 1.85, 'FED': 2.25, 'CPI': 124.4, 'Prediction': 33.44}, {'RBA': 2.1, 'FED': 2.5, 'CPI': 124.65, 'Prediction': 33.55}, {'RBA': 2.35, 'FED': 2.75, 'CPI': 124.9, 'Prediction': 33.67}, {'RBA': 2.6, 'FED': 3.0, 'CPI': 125.15, 'Prediction': 33.79}, {'RBA': 2.85, 'FED': 3.25, 'CPI': 125.4, 'Prediction': 33.91}, {'RBA': 3.1, 'FED': 3.5, 'CPI': 125.65, 'Prediction': 34.03}, {'RBA': 3.35, 'FED': 3.75, 'CPI': 125.9, 'Prediction': 34.15}, {'RBA': 3.6, 'FED': 4.0, 'CPI': 126.15, 'Prediction': 34.26}, {'RBA': 3.85, 'FED': 4.25, 'CPI': 126.4, 'Prediction': 34.38}, {'RBA': 4.1, 'FED': 4.5, 'CPI': 126.65, 'Prediction': 34.5}, {'RBA': 4.35, 'FED': 4.75, 'CPI': 126.9, 'Prediction': 34.62}, {'RBA': 4.6, 'FED': 5.0, 'CPI': 127.15, 'Prediction': 34.74}, {'RBA': 4.85, 'FED': 5.25, 'CPI': 127.4, 'Prediction': 34.86}, {'RBA': 5.1, 'FED': 5.5, 'CPI': 127.65, 'Prediction': 34.97}, {'RBA': 5.35, 'FED': 5.75, 'CPI': 127.9, 'Prediction': 35.09}, {'RBA': 5.6, 'FED': 6.0, 'CPI': 128.15, 'Prediction': 35.21}, {'RBA': 5.85, 'FED': 6.25, 'CPI': 128.4, 'Prediction': 35.33}, {'RBA': 6.1, 'FED': 6.5, 'CPI': 128.65, 'Prediction': 35.45}, {'RBA': 6.35, 'FED': 6.75, 'CPI': 128.9, 'Prediction': 35.57}, {'RBA': 6.6, 'FED': 7.0, 'CPI': 129.15, 'Prediction': 35.68}, {'RBA': 6.85, 'FED': 7.25, 'CPI': 129.4, 'Prediction': 35.8}, {'RBA': 7.1, 'FED': 7.5, 'CPI': 129.65, 'Prediction': 35.92}, {'RBA': 7.35, 'FED': 7.75, 'CPI': 129.9, 'Prediction': 36.04}, {'RBA': 7.6, 'FED': 8.0, 'CPI': 130.15, 'Prediction': 36.16}, {'RBA': 7.85, 'FED': 8.25, 'CPI': 130.4, 'Prediction': 36.28}, {'RBA': 8.1, 'FED': 8.5, 'CPI': 130.65, 'Prediction': 36.39}, {'RBA': 8.35, 'FED': 8.75, 'CPI': 130.9, 'Prediction': 36.51}, {'RBA': 8.6, 'FED': 9.0, 'CPI': 131.15, 'Prediction': 36.63}, {'RBA': 8.85, 'FED': 9.25, 'CPI': 131.4, 'Prediction': 36.75}, {'RBA': 9.1, 'FED': 9.5, 'CPI': 131.65, 'Prediction': 36.87}, {'RBA': 9.35, 'FED': 9.75, 'CPI': 131.9, 'Prediction': 36.99}, {'RBA': 9.6, 'FED': 10.0, 'CPI': 132.15, 'Prediction': 37.1}, {'RBA': 9.85, 'FED': 10.25, 'CPI': 132.4, 'Prediction': 37.22}, {'RBA': 10.1, 'FED': 10.5, 'CPI': 132.65, 'Prediction': 37.34}, {'RBA': 10.35, 'FED': 10.75, 'CPI': 132.9, 'Prediction': 37.46}, {'RBA': 10.6, 'FED': 11.0, 'CPI': 133.15, 'Prediction': 37.58}, {'RBA': 10.85, 'FED': 11.25, 'CPI': 133.4, 'Prediction': 37.7}, {'RBA': 11.1, 'FED': 11.5, 'CPI': 133.65, 'Prediction': 37.81}]\n"
     ]
    }
   ],
   "source": [
    "rba = float(1.35)\n",
    "fed = float(1.75)\n",
    "cpi = float(123.90)\n",
    "input =40\n",
    "rfr=[]\n",
    "\n",
    "def randomforest(rba,fed,cpi):\n",
    "    for i in range(0,input):\n",
    "      rfr.append([rba,fed,cpi])\n",
    "      np.round_(rfr,2,out = None) \n",
    "      df = pd.DataFrame(rfr, columns = ['RBA','FED',\"CPI\"])\n",
    "      df.round(2)\n",
    "      pred_rf=model_in_rfr.predict(df)\n",
    "      df['Prediction'] = pred_rf\n",
    "      df['Prediction'] = df['Prediction'].astype(float).round(2)\n",
    "      rba+=0.25\n",
    "      fed+=0.25\n",
    "      cpi+=0.25\n",
    "      # print(df)\n",
    "    my_rforest = df.to_dict(orient='records')\n",
    "    for dict_value in my_rforest:\n",
    "      for k, v in dict_value.items():\n",
    "        dict_value[k] = round(v, 2)\n",
    "    return my_rforest,df\n",
    "# print(my_rforest)\n",
    "my_rf,df = randomforest(rba,fed,cpi)\n",
    "print(df,my_rf)\n"
   ]
  },
  {
   "cell_type": "code",
   "execution_count": 38,
   "metadata": {},
   "outputs": [
    {
     "data": {
      "image/png": "[encoded data removed]",
      "text/plain": [
       "<Figure size 864x360 with 2 Axes>"
      ]
     },
     "metadata": {
      "needs_background": "light"
     },
     "output_type": "display_data"
    }
   ],
   "source": [
    "# DRAW THE PREDICTION\n",
    "#Append the input amount of trading days to dates dictionary\n",
    "input=40\n",
    "# df_pred = df.iloc[0:(input-1)]\n",
    "plot1 = df.plot(y=[\"CPI\",\"Prediction\"], figsize=(12, 5),color=['gold','green'],linewidth=2)\n",
    "plot2 = df.plot(y=[\"RBA\",\"FED\"],secondary_y=True, ax=plot1,color=['pink','steelblue'],linestyle='dashed')\n",
    "plt.title('ANZ PREDICTIONS')\n",
    "plot1.set_xlabel('Future Trading Days', fontsize=10)\n",
    "plot1.set_ylabel('Close Price AUD ($) or CPI', fontsize=10)\n",
    "plot1.legend(loc='upper left')\n",
    "plot2.legend(loc='upper right')\n",
    "plt.savefig('../../static/data/images/anz_rfr_pred.png', bbox_inches=\"tight\")\n",
    "plt.show()"
   ]
  },
  {
   "cell_type": "code",
   "execution_count": 39,
   "metadata": {},
   "outputs": [
    {
     "name": "stdout",
     "output_type": "stream",
     "text": [
      "    RBA   FED    CPI  Prediction\n",
      "0  1.35  1.75  123.9   33.199487\n",
      "[33.19948735]\n"
     ]
    }
   ],
   "source": [
    "rba = float(1.35)\n",
    "fed = float(1.75)\n",
    "cpi = float(123.90)\n",
    "def rforest(rba,fed,cpi):\n",
    "    dtr =[[rba,fed,cpi]]\n",
    "    df = pd.DataFrame (dtr, columns = ['RBA','FED',\"CPI\"])\n",
    "    pred_dtr=model_in_rfr.predict(df)\n",
    "    df['Prediction'] = pred_dtr\n",
    "    print(df)\n",
    "    df_dict = df.to_dict(orient='records')\n",
    "    return pred_dtr\n",
    "Pred_rf = rforest(rba,fed,cpi)\n",
    "print(Pred_rf)"
   ]
  },
  {
   "cell_type": "code",
   "execution_count": 40,
   "metadata": {},
   "outputs": [
    {
     "data": {
      "image/png": "[encoded data removed]",
      "text/plain": [
       "<Figure size 864x360 with 2 Axes>"
      ]
     },
     "metadata": {
      "needs_background": "light"
     },
     "output_type": "display_data"
    }
   ],
   "source": [
    "x = np.arange(2000,2024,4)\n",
    "ax = df_mongo.plot(y=[\"CPI\",\"Close\"], figsize=(12, 5),color=['grey','green'],linewidth=2)\n",
    "df_mongo.plot(y=[\"RBA\",\"FED\"],secondary_y=True, ax=ax,color=['pink','steelblue'],linestyle='dashed')\n",
    "plt.legend(bbox_to_anchor=(1.03, 1), loc='upper left', borderaxespad=-4, title=\"Interest rates\")\n",
    "ax.legend(loc='upper left')\n",
    "ax.set_xticks([0,1000,2000,3000,4000,5000])\n",
    "ax.set_xticklabels(x, rotation=0)\n",
    "ax.set_title('ANZ Random Forest Regression Model')\n",
    "ax.set_xlabel('Trading Date', fontsize=18)\n",
    "ax.set_ylabel('Close Price AUD ($) or CPI', fontsize=18)\n",
    "plt.savefig('../../static/data/images/anz_tree.png')"
   ]
  },
  {
   "cell_type": "markdown",
   "metadata": {},
   "source": [
    "#Save predicted error to MongoDB"
   ]
  },
  {
   "cell_type": "code",
   "execution_count": 41,
   "metadata": {},
   "outputs": [],
   "source": [
    "# Module used to connect Python with MongoDb\n",
    "import pymongo"
   ]
  },
  {
   "cell_type": "code",
   "execution_count": 42,
   "metadata": {},
   "outputs": [],
   "source": [
    "# The default port used by MongoDB is 27017\n",
    "# https://docs.mongodb.com/manual/reference/default-mongodb-port/\n",
    "conn = 'mongodb://localhost:27017'\n",
    "client = pymongo.MongoClient(conn)\n",
    "\n",
    "# Define the 'sharesDB' database in Mongo\n",
    "db = client.sharesDB.companys\n",
    "\n",
    "name = 'ANZ'"
   ]
  },
  {
   "cell_type": "code",
   "execution_count": 43,
   "metadata": {},
   "outputs": [
    {
     "name": "stdout",
     "output_type": "stream",
     "text": [
      "{'_id': ObjectId('62f22bc97670e8d914773cf5'), 'model': 'RFR', 'name': 'ANZ', 'date': '09/08/2022', 'predicted': 33, 'actual': 22, 'difference': 11.0548, 'accuracy': 97.18}\n"
     ]
    }
   ],
   "source": [
    "# query the classroom collection\n",
    "companys = db.find({\n",
    "      'model': 'RFR',\n",
    "      'name': name})\n",
    "\n",
    "# see change in collection\n",
    "for company in companys:\n",
    "    print(company)"
   ]
  },
  {
   "cell_type": "code",
   "execution_count": 44,
   "metadata": {},
   "outputs": [
    {
     "name": "stdout",
     "output_type": "stream",
     "text": [
      "97.17 24 12/08/2022\n"
     ]
    }
   ],
   "source": [
    "#save last price actual to variable\n",
    "actual_price = df_mongo.iloc[-1,5]\n",
    "actual_date = df_mongo.iloc[-1,1] \n",
    "actual_price = int(actual_price)\n",
    "base_accuracy=round(base_accuracy,2)\n",
    "print(base_accuracy,actual_price,actual_date)\n"
   ]
  },
  {
   "cell_type": "code",
   "execution_count": 45,
   "metadata": {},
   "outputs": [
    {
     "name": "stdout",
     "output_type": "stream",
     "text": [
      "date 12/08/2022,predicted 33,actual 24, difference 9.199487349856184,accuracy 97.17\n"
     ]
    }
   ],
   "source": [
    "# Set keys and values of company\n",
    "predicted = int(Pred_rf)\n",
    "difference = Pred_rf-actual_price\n",
    "difference=difference[0]\n",
    "print(f'date {actual_date},predicted {predicted},actual {actual_price}, difference {difference},accuracy {base_accuracy}')"
   ]
  },
  {
   "cell_type": "code",
   "execution_count": 46,
   "metadata": {},
   "outputs": [
    {
     "data": {
      "text/plain": [
       "<pymongo.results.DeleteResult at 0x13b7a1c5a00>"
      ]
     },
     "execution_count": 46,
     "metadata": {},
     "output_type": "execute_result"
    }
   ],
   "source": [
    "# Delete a document from a collection\n",
    "db.delete_one(\n",
    "    {'model': 'RFR','name': name}\n",
    ")\n"
   ]
  },
  {
   "cell_type": "code",
   "execution_count": 47,
   "metadata": {},
   "outputs": [
    {
     "name": "stdout",
     "output_type": "stream",
     "text": [
      "{'_id': ObjectId('62f72d88ba70ff4c205ba17f'), 'model': 'RFR', 'name': 'ANZ', 'date': '12/08/2022', 'predicted': 33, 'actual': 24, 'difference': 9.1995, 'accuracy': 97.17}\n"
     ]
    }
   ],
   "source": [
    "# Insert a document into the 'companys' collection\n",
    "db.insert_one(\n",
    "    {\n",
    "      'model': 'RFR',\n",
    "      'name': name,\n",
    "      'date': actual_date,\n",
    "      'predicted': predicted,\n",
    "      'actual': actual_price,\n",
    "      'difference': round(difference,4),\n",
    "      'accuracy': base_accuracy        \n",
    "    }\n",
    ")\n",
    "\n",
    "# query the classroom collection\n",
    "companys = db.find({\n",
    "  'model': 'RFR',\n",
    "  'name': name,})\n",
    "\n",
    "# see change in collection\n",
    "for company in companys:\n",
    "    print(company)"
   ]
  }
 ],
 "metadata": {
  "interpreter": {
   "hash": "45bb1cb4637e4034484920e5cfb24c9afd84b0847d6c36e39edd3067d3a05462"
  },
  "kernel_info": {
   "name": "dev"
  },
  "kernelspec": {
   "display_name": "Python 3.9.7 ('base')",
   "language": "python",
   "name": "python3"
  },
  "language_info": {
   "codemirror_mode": {
    "name": "ipython",
    "version": 3
   },
   "file_extension": ".py",
   "mimetype": "text/x-python",
   "name": "python",
   "nbconvert_exporter": "python",
   "pygments_lexer": "ipython3",
   "version": "3.9.7"
  },
  "nteract": {
   "version": "0.12.3"
  }
 },
 "nbformat": 4,
 "nbformat_minor": 2
}
