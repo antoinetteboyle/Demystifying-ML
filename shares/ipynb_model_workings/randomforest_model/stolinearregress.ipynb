{
 "cells": [
  {
   "cell_type": "code",
   "execution_count": 48,
   "metadata": {},
   "outputs": [
    {
     "name": "stdout",
     "output_type": "stream",
     "text": [
      "Requirement already satisfied: sklearn in c:\\users\\antoi\\anaconda3\\lib\\site-packages (0.0)\n",
      "Requirement already satisfied: scikit-learn in c:\\users\\antoi\\anaconda3\\lib\\site-packages (from sklearn) (0.24.2)\n",
      "Requirement already satisfied: threadpoolctl>=2.0.0 in c:\\users\\antoi\\anaconda3\\lib\\site-packages (from scikit-learn->sklearn) (2.2.0)\n",
      "Requirement already satisfied: numpy>=1.13.3 in c:\\users\\antoi\\anaconda3\\lib\\site-packages (from scikit-learn->sklearn) (1.20.3)\n",
      "Requirement already satisfied: scipy>=0.19.1 in c:\\users\\antoi\\anaconda3\\lib\\site-packages (from scikit-learn->sklearn) (1.7.1)\n",
      "Requirement already satisfied: joblib>=0.11 in c:\\users\\antoi\\anaconda3\\lib\\site-packages (from scikit-learn->sklearn) (1.1.0)\n",
      "Requirement already satisfied: joblib in c:\\users\\antoi\\anaconda3\\lib\\site-packages (1.1.0)\n"
     ]
    }
   ],
   "source": [
    "# Update sklearn to prevent version mismatches\n",
    "!pip install sklearn --upgrade\n",
    "# install joblib. This will be used to save your model. \n",
    "# Restart your kernel after installing \n",
    "!pip install joblib"
   ]
  },
  {
   "cell_type": "markdown",
   "metadata": {},
   "source": [
    "This model uses a neural network and GridSearchCV to predict share price impacts of Interest changes"
   ]
  },
  {
   "cell_type": "markdown",
   "metadata": {},
   "source": [
    "# Read the CSV and Perform Basic Data Cleaning"
   ]
  },
  {
   "cell_type": "code",
   "execution_count": 49,
   "metadata": {},
   "outputs": [],
   "source": [
    "import matplotlib.pyplot as plt\n",
    "import numpy as np\n",
    "import pandas as pd"
   ]
  },
  {
   "cell_type": "code",
   "execution_count": 50,
   "metadata": {},
   "outputs": [
    {
     "data": {
      "text/html": [
       "<div>\n",
       "<style scoped>\n",
       "    .dataframe tbody tr th:only-of-type {\n",
       "        vertical-align: middle;\n",
       "    }\n",
       "\n",
       "    .dataframe tbody tr th {\n",
       "        vertical-align: top;\n",
       "    }\n",
       "\n",
       "    .dataframe thead th {\n",
       "        text-align: right;\n",
       "    }\n",
       "</style>\n",
       "<table border=\"1\" class=\"dataframe\">\n",
       "  <thead>\n",
       "    <tr style=\"text-align: right;\">\n",
       "      <th></th>\n",
       "      <th>Date</th>\n",
       "      <th>Open</th>\n",
       "      <th>High</th>\n",
       "      <th>Low</th>\n",
       "      <th>Close</th>\n",
       "      <th>Adj Close</th>\n",
       "      <th>Volume</th>\n",
       "      <th>RBA</th>\n",
       "      <th>FED</th>\n",
       "      <th>CPI</th>\n",
       "    </tr>\n",
       "  </thead>\n",
       "  <tbody>\n",
       "    <tr>\n",
       "      <th>8854</th>\n",
       "      <td>25/07/2022</td>\n",
       "      <td>6.97</td>\n",
       "      <td>7.06</td>\n",
       "      <td>6.950</td>\n",
       "      <td>6.99</td>\n",
       "      <td>6.99</td>\n",
       "      <td>8681065.0</td>\n",
       "      <td>1.35</td>\n",
       "      <td>1.75</td>\n",
       "      <td>125.0</td>\n",
       "    </tr>\n",
       "    <tr>\n",
       "      <th>8855</th>\n",
       "      <td>26/07/2022</td>\n",
       "      <td>7.11</td>\n",
       "      <td>7.19</td>\n",
       "      <td>7.090</td>\n",
       "      <td>7.17</td>\n",
       "      <td>7.17</td>\n",
       "      <td>8187906.0</td>\n",
       "      <td>1.35</td>\n",
       "      <td>1.75</td>\n",
       "      <td>125.0</td>\n",
       "    </tr>\n",
       "    <tr>\n",
       "      <th>8856</th>\n",
       "      <td>27/07/2022</td>\n",
       "      <td>7.09</td>\n",
       "      <td>7.18</td>\n",
       "      <td>7.080</td>\n",
       "      <td>7.17</td>\n",
       "      <td>7.17</td>\n",
       "      <td>4226467.0</td>\n",
       "      <td>1.35</td>\n",
       "      <td>2.50</td>\n",
       "      <td>125.0</td>\n",
       "    </tr>\n",
       "    <tr>\n",
       "      <th>8857</th>\n",
       "      <td>28/07/2022</td>\n",
       "      <td>7.37</td>\n",
       "      <td>7.38</td>\n",
       "      <td>7.200</td>\n",
       "      <td>7.24</td>\n",
       "      <td>7.24</td>\n",
       "      <td>7646057.0</td>\n",
       "      <td>1.35</td>\n",
       "      <td>2.50</td>\n",
       "      <td>125.0</td>\n",
       "    </tr>\n",
       "    <tr>\n",
       "      <th>8858</th>\n",
       "      <td>29/07/2022</td>\n",
       "      <td>7.36</td>\n",
       "      <td>7.44</td>\n",
       "      <td>7.285</td>\n",
       "      <td>7.30</td>\n",
       "      <td>7.30</td>\n",
       "      <td>16205969.0</td>\n",
       "      <td>1.35</td>\n",
       "      <td>2.50</td>\n",
       "      <td>125.0</td>\n",
       "    </tr>\n",
       "  </tbody>\n",
       "</table>\n",
       "</div>"
      ],
      "text/plain": [
       "            Date  Open  High    Low  Close  Adj Close      Volume   RBA   FED  \\\n",
       "8854  25/07/2022  6.97  7.06  6.950   6.99       6.99   8681065.0  1.35  1.75   \n",
       "8855  26/07/2022  7.11  7.19  7.090   7.17       7.17   8187906.0  1.35  1.75   \n",
       "8856  27/07/2022  7.09  7.18  7.080   7.17       7.17   4226467.0  1.35  2.50   \n",
       "8857  28/07/2022  7.37  7.38  7.200   7.24       7.24   7646057.0  1.35  2.50   \n",
       "8858  29/07/2022  7.36  7.44  7.285   7.30       7.30  16205969.0  1.35  2.50   \n",
       "\n",
       "        CPI  \n",
       "8854  125.0  \n",
       "8855  125.0  \n",
       "8856  125.0  \n",
       "8857  125.0  \n",
       "8858  125.0  "
      ]
     },
     "execution_count": 50,
     "metadata": {},
     "output_type": "execute_result"
    }
   ],
   "source": [
    "df_stock1 = pd.read_csv(\"../../static/data/sto.csv\")\n",
    "# Drop the null columns where all values are null\n",
    "df_stock2 = df_stock1.dropna(axis='columns', how='all')\n",
    "# Drop the null rows\n",
    "df = df_stock2.dropna()\n",
    "df.tail()"
   ]
  },
  {
   "cell_type": "code",
   "execution_count": 51,
   "metadata": {},
   "outputs": [
    {
     "name": "stdout",
     "output_type": "stream",
     "text": [
      "02/08/2022 7.239999771118164\n"
     ]
    },
    {
     "data": {
      "text/plain": [
       "<bound method NDFrame.tail of                            _id        Date      Open      High       Low  \\\n",
       "0     62e9a86674c2537bdd4e8594   1/02/1988  2.524374  2.524374  2.524374   \n",
       "1     62e9a86674c2537bdd4e8595   2/02/1988  2.524374  2.524374  2.524374   \n",
       "2     62e9a86674c2537bdd4e8596   3/02/1988  2.524374  2.524374  2.524374   \n",
       "3     62e9a86674c2537bdd4e8597   4/02/1988  2.524374  2.524374  2.524374   \n",
       "4     62e9a86674c2537bdd4e8598   5/02/1988  2.524374  2.524374  2.524374   \n",
       "...                        ...         ...       ...       ...       ...   \n",
       "8702  62e9a86674c2537bdd4ea792  27/07/2022  7.090000  7.180000  7.080000   \n",
       "8703  62e9a86674c2537bdd4ea793  28/07/2022  7.370000  7.380000  7.200000   \n",
       "8704  62e9a86774c2537bdd4ea795  29/07/2022  7.360000  7.440000  7.285000   \n",
       "8705  62e9a86774c2537bdd4ea796  01/08/2022  7.420000  7.430000  7.300000   \n",
       "8706  62e9a86774c2537bdd4ea797  02/08/2022  7.300000  7.330000  7.220000   \n",
       "\n",
       "         Close  Adj Close      Volume    RBA   FED    CPI  \n",
       "0     2.524374   0.712189         0.0  17.50  9.97   48.4  \n",
       "1     2.524374   0.712189         0.0  17.50  9.97   48.4  \n",
       "2     2.524374   0.712189         0.0  17.50  9.97   48.4  \n",
       "3     2.524374   0.712189         0.0  17.50  9.97   48.4  \n",
       "4     2.524374   0.712189         0.0  17.50  9.97   48.4  \n",
       "...        ...        ...         ...    ...   ...    ...  \n",
       "8702  7.170000   7.170000   4226467.0   1.35  2.50  125.0  \n",
       "8703  7.240000   7.240000   7646057.0   1.35  2.50  125.0  \n",
       "8704  7.300000   7.300000  16205969.0   1.35  2.50  125.0  \n",
       "8705  7.380000   7.380000  10861226.0   1.35  2.50  125.0  \n",
       "8706  7.240000   7.240000  10202442.0   1.35  2.50  125.0  \n",
       "\n",
       "[8707 rows x 11 columns]>"
      ]
     },
     "execution_count": 51,
     "metadata": {},
     "output_type": "execute_result"
    }
   ],
   "source": [
    "# Connect to MongoDb\n",
    "from pymongo import MongoClient\n",
    "mongoClient = MongoClient()\n",
    "db = mongoClient.sharesDB\n",
    "\n",
    "df_mongo = pd.DataFrame(list(db.sto.find()))\n",
    "last_val = df_mongo.iloc[-1:].values\n",
    "last_date = last_val[0][1]\n",
    "last_close = last_val[0][5]\n",
    "# print(last_val)\n",
    "print(last_date,last_close)\n",
    "df_mongo.tail\n"
   ]
  },
  {
   "cell_type": "markdown",
   "metadata": {},
   "source": [
    "# Use `RBA`,`FED` and `CPI` for the X values"
   ]
  },
  {
   "cell_type": "code",
   "execution_count": 52,
   "metadata": {},
   "outputs": [
    {
     "name": "stdout",
     "output_type": "stream",
     "text": [
      "(8707, 3) (8707, 1)\n"
     ]
    }
   ],
   "source": [
    "X = df_mongo[[\"RBA\",\"FED\",\"CPI\"]]\n",
    "y = df_mongo[\"Close\"].values.reshape(-1, 1)\n",
    "print(X.shape, y.shape)"
   ]
  },
  {
   "cell_type": "code",
   "execution_count": 53,
   "metadata": {},
   "outputs": [],
   "source": [
    "# X = df_mongo[[\"RBA\",\"FED\",\"CPI\"]]\n",
    "# y = df_mongo[\"Close\"].values.reshape(-1, 1)\n",
    "# print(X.shape, y.shape)"
   ]
  },
  {
   "cell_type": "code",
   "execution_count": 54,
   "metadata": {},
   "outputs": [
    {
     "data": {
      "text/plain": [
       "array([[2.524374  ],\n",
       "       [2.524374  ],\n",
       "       [2.524374  ],\n",
       "       ...,\n",
       "       [7.30000019],\n",
       "       [7.38000011],\n",
       "       [7.23999977]])"
      ]
     },
     "execution_count": 54,
     "metadata": {},
     "output_type": "execute_result"
    }
   ],
   "source": [
    "y"
   ]
  },
  {
   "cell_type": "markdown",
   "metadata": {},
   "source": [
    "# Create a Train Test Split"
   ]
  },
  {
   "cell_type": "code",
   "execution_count": 55,
   "metadata": {},
   "outputs": [
    {
     "name": "stdout",
     "output_type": "stream",
     "text": [
      "(6530, 3) (6530, 1)\n",
      "(2177, 3) (2177, 1)\n",
      "<bound method DataFrame.info of        RBA   FED    CPI\n",
      "3391   5.0  3.75   74.7\n",
      "5397   3.0  0.25   93.8\n",
      "7001   2.0  0.25  108.4\n",
      "4675   6.0  5.25   86.7\n",
      "6464   2.5  0.25  104.0\n",
      "...    ...   ...    ...\n",
      "2895   5.0  5.50   68.7\n",
      "7813   1.5  2.50  114.1\n",
      "905    9.5  5.25   59.3\n",
      "5192   7.0  2.00   92.7\n",
      "235   17.5  9.97   51.7\n",
      "\n",
      "[6530 rows x 3 columns]>\n"
     ]
    }
   ],
   "source": [
    "# Use train_test_split to create training and testing data\n",
    "from sklearn.model_selection import train_test_split\n",
    "\n",
    "X_train, X_test, y_train, y_test = train_test_split(X, y, random_state=1)\n",
    "print(X_train.shape, y_train.shape)\n",
    "print(X_test.shape, y_test.shape)\n",
    "print(X_train.info)"
   ]
  },
  {
   "cell_type": "code",
   "execution_count": 56,
   "metadata": {},
   "outputs": [],
   "source": [
    "from sklearn.linear_model import LinearRegression\n",
    "model = LinearRegression()"
   ]
  },
  {
   "cell_type": "markdown",
   "metadata": {},
   "source": [
    "# Fit the model"
   ]
  },
  {
   "cell_type": "code",
   "execution_count": 57,
   "metadata": {},
   "outputs": [
    {
     "name": "stdout",
     "output_type": "stream",
     "text": [
      "Training Score: 0.485498431896238\n",
      "Testing Score: 0.47818215252798013\n"
     ]
    }
   ],
   "source": [
    "# Fit the model to the training data and calculate the scores for the training and testing data\n",
    "\n",
    "### BEGIN SOLUTION\n",
    "model.fit(X_train, y_train)\n",
    "training_score = model.score(X_train, y_train)\n",
    "testing_score = model.score(X_test, y_test)\n",
    "\n",
    "### END SOLUTION \n",
    "\n",
    "print(f\"Training Score: {training_score}\")\n",
    "print(f\"Testing Score: {testing_score}\")"
   ]
  },
  {
   "cell_type": "code",
   "execution_count": 58,
   "metadata": {},
   "outputs": [],
   "source": [
    "# X_train = X_train.reshape((X_train.shape[0], 1))"
   ]
  },
  {
   "cell_type": "code",
   "execution_count": 59,
   "metadata": {},
   "outputs": [],
   "source": [
    "#Linear Regression Residual showing difference actual vs predicted\n",
    "# residual = pd.DataFrame([model.predict(X_train),y_train,(model.predict(X_train)-y_train)])\n",
    "# residual.tail"
   ]
  },
  {
   "cell_type": "code",
   "execution_count": 60,
   "metadata": {},
   "outputs": [
    {
     "data": {
      "text/plain": [
       "Text(0.5, 1.0, 'Residual Plot')"
      ]
     },
     "execution_count": 60,
     "metadata": {},
     "output_type": "execute_result"
    },
    {
     "data": {
      "image/png": "[encoded data removed]",
      "text/plain": [
       "<Figure size 432x288 with 1 Axes>"
      ]
     },
     "metadata": {
      "needs_background": "light"
     },
     "output_type": "display_data"
    }
   ],
   "source": [
    "# Plot the Residuals for the Training and Testing data\n",
    "plt.scatter(model.predict(X_train), model.predict(X_train) - y_train, c=\"blue\", label=\"Training Data\")\n",
    "plt.scatter(model.predict(X_test), model.predict(X_test) - y_test, c=\"orange\", label=\"Testing Data\")\n",
    "plt.legend()\n",
    "plt.hlines(y=0, xmin=y.min(), xmax=y.max())\n",
    "plt.title(\"Residual Plot\")"
   ]
  },
  {
   "cell_type": "code",
   "execution_count": 61,
   "metadata": {},
   "outputs": [],
   "source": [
    "# Linear Regression: X_test predictions to variable\n",
    "predictions = model.predict(X_test)"
   ]
  },
  {
   "cell_type": "markdown",
   "metadata": {},
   "source": [
    "#### R2 Score is a very popular metric used for evaluating the performance of linear regression models. Where R2 Score is between 0 and 1, the closer to 1, the better the regression fit.\n",
    "#### Use MSE or MAE when comparing two or more models, the lower the value of MSE or MAE, the better. MSE (Mean Square Error): Uses Euclidean distance to calculate the error. MSE gives the magnitude of the error only."
   ]
  },
  {
   "cell_type": "code",
   "execution_count": 62,
   "metadata": {},
   "outputs": [
    {
     "name": "stdout",
     "output_type": "stream",
     "text": [
      "MSE: 6.090435894419179, R2: 0.47818215252798013\n"
     ]
    }
   ],
   "source": [
    "# Used X_test, y_test, and model.predict(X_test) to calculate MSE and R2\n",
    "\n",
    "### BEGIN SOLUTION\n",
    "from sklearn.metrics import mean_squared_error\n",
    "\n",
    "MSE = mean_squared_error(y_test, predictions)\n",
    "r2 = model.score(X_test, y_test)\n",
    "### END SOLUTION\n",
    "\n",
    "print(f\"MSE: {MSE}, R2: {r2}\")"
   ]
  },
  {
   "cell_type": "markdown",
   "metadata": {},
   "source": [
    "#### Lasso regression imposes a constraint on the model parameters that causes regression coefficients for some variables to shrink toward zero. It comes with a parameter, alpha , and the higher the alpha , the more feature coefficients are zero. When alpha is 0 , Lasso regression produces the same coefficients as a linear regression."
   ]
  },
  {
   "cell_type": "code",
   "execution_count": 63,
   "metadata": {},
   "outputs": [
    {
     "name": "stdout",
     "output_type": "stream",
     "text": [
      "MSE: 6.090358542166862, R2: 0.47818877993306275\n"
     ]
    }
   ],
   "source": [
    "# LASSO model\n",
    "# Note: Used an alpha of .01 when creating the model for this activity\n",
    "from sklearn.linear_model import Lasso\n",
    "\n",
    "### BEGIN SOLUTION\n",
    "lasso = Lasso(alpha=.01).fit(X_train, y_train)\n",
    "\n",
    "predictions = lasso.predict(X_test)\n",
    "\n",
    "MSE = mean_squared_error(y_test, predictions)\n",
    "r2 = lasso.score(X_test, y_test)\n",
    "### END SOLUTION\n",
    "\n",
    "print(f\"MSE: {MSE}, R2: {r2}\")"
   ]
  },
  {
   "cell_type": "code",
   "execution_count": 64,
   "metadata": {},
   "outputs": [
    {
     "name": "stdout",
     "output_type": "stream",
     "text": [
      "MSE: 6.090435858865956, R2: 0.4781821555741179\n"
     ]
    }
   ],
   "source": [
    "# Ridge model\n",
    "# Note: Used an alpha of .01 when creating the model for this activity\n",
    "from sklearn.linear_model import Ridge\n",
    "\n",
    "### BEGIN SOLUTION\n",
    "ridge = Ridge(alpha=.01).fit(X_train, y_train)\n",
    "\n",
    "predictions = ridge.predict(X_test)\n",
    "\n",
    "MSE = mean_squared_error(y_test, predictions)\n",
    "r2 = ridge.score(X_test, y_test)\n",
    "### END SOLUTION\n",
    "\n",
    "print(f\"MSE: {MSE}, R2: {r2}\")"
   ]
  },
  {
   "cell_type": "code",
   "execution_count": 65,
   "metadata": {},
   "outputs": [
    {
     "name": "stdout",
     "output_type": "stream",
     "text": [
      "MSE: 6.0903095637782325, R2: 0.47819297631535296\n"
     ]
    }
   ],
   "source": [
    "# ElasticNet model\n",
    "# Note: Use an alpha of .01 when creating the model for this activity\n",
    "from sklearn.linear_model import ElasticNet\n",
    "\n",
    "### BEGIN SOLUTION\n",
    "elasticnet = ElasticNet(alpha=.01).fit(X_train, y_train)\n",
    "\n",
    "predictions = elasticnet.predict(X_test)\n",
    "\n",
    "MSE = mean_squared_error(y_test, predictions)\n",
    "r2 = elasticnet.score(X_test, y_test)\n",
    "### END SOLUTION\n",
    "\n",
    "print(f\"MSE: {MSE}, R2: {r2}\")"
   ]
  },
  {
   "cell_type": "markdown",
   "metadata": {},
   "source": [
    "# Hyperparameter Tuning"
   ]
  },
  {
   "cell_type": "code",
   "execution_count": 66,
   "metadata": {},
   "outputs": [
    {
     "data": {
      "text/plain": [
       "(8707,)"
      ]
     },
     "execution_count": 66,
     "metadata": {},
     "output_type": "execute_result"
    }
   ],
   "source": [
    "y_target = df_mongo[\"Close\"]\n",
    "y_target.shape"
   ]
  },
  {
   "cell_type": "code",
   "execution_count": 67,
   "metadata": {},
   "outputs": [
    {
     "name": "stdout",
     "output_type": "stream",
     "text": [
      "(6530, 3) (6530,)\n",
      "(2177, 3) (2177,)\n"
     ]
    }
   ],
   "source": [
    "# Use train_test_split to create training and testing data\n",
    "from sklearn.model_selection import train_test_split\n",
    "\n",
    "X_train, X_test, y_train, y_test = train_test_split(X, y_target, random_state=1)\n",
    "print(X_train.shape, y_train.shape)\n",
    "print(X_test.shape, y_test.shape)"
   ]
  },
  {
   "cell_type": "code",
   "execution_count": 68,
   "metadata": {},
   "outputs": [
    {
     "name": "stdout",
     "output_type": "stream",
     "text": [
      "(6530, 3) (6530,)\n",
      "(2177, 3) (2177,)\n"
     ]
    }
   ],
   "source": [
    "print(X_train.shape,y_train.shape)\n",
    "print(X_test.shape,y_test.shape)"
   ]
  },
  {
   "cell_type": "markdown",
   "metadata": {},
   "source": [
    "#### GridSearchCV and RandomizedSearchCV are techniques to evaluate models for a given hyperparameter vector using cross-validation, hence the “CV” suffix of the class name.\n",
    "#### We are executing many models together is to find which machine learning model works best for this particular dataset."
   ]
  },
  {
   "cell_type": "code",
   "execution_count": 69,
   "metadata": {},
   "outputs": [],
   "source": [
    "from sklearn.linear_model import LinearRegression, Ridge,Lasso\n",
    "from sklearn.neighbors import KNeighborsRegressor\n",
    "from sklearn.ensemble import GradientBoostingRegressor\n",
    "from sklearn.ensemble import ExtraTreesRegressor, RandomForestRegressor\n",
    "from sklearn.tree import DecisionTreeRegressor"
   ]
  },
  {
   "cell_type": "code",
   "execution_count": 70,
   "metadata": {},
   "outputs": [],
   "source": [
    "regressors = [\n",
    "    RandomForestRegressor(),\n",
    "    DecisionTreeRegressor(),\n",
    "    KNeighborsRegressor(),\n",
    "    GradientBoostingRegressor(),\n",
    "    KNeighborsRegressor(),\n",
    "    ExtraTreesRegressor(),\n",
    "    LinearRegression(),\n",
    "    Lasso(),\n",
    "    Ridge()\n",
    "]"
   ]
  },
  {
   "cell_type": "code",
   "execution_count": 71,
   "metadata": {},
   "outputs": [
    {
     "name": "stdout",
     "output_type": "stream",
     "text": [
      "RandomForestRegressor()\n",
      "\tTraining time: 0.243s\n",
      "\tPrediction time: 0.022s\n",
      "\tExplained variance: 0.9867554529521203\n",
      "\tMean absolute error: 0.23932493964703275\n",
      "\tR2 score: 0.9867491362094191\n",
      "\n",
      "DecisionTreeRegressor()\n",
      "\tTraining time: 0.004s\n",
      "\tPrediction time: 0.001s\n",
      "\tExplained variance: 0.9866807298029482\n",
      "\tMean absolute error: 0.23935106327615677\n",
      "\tR2 score: 0.9866734987291753\n",
      "\n",
      "KNeighborsRegressor()\n",
      "\tTraining time: 0.006s\n",
      "\tPrediction time: 0.006s\n",
      "\tExplained variance: 0.9855522902203985\n",
      "\tMean absolute error: 0.25058159494717497\n",
      "\tR2 score: 0.9855389728697903\n",
      "\n",
      "GradientBoostingRegressor()\n",
      "\tTraining time: 0.129s\n",
      "\tPrediction time: 0.003s\n",
      "\tExplained variance: 0.9784394880563821\n",
      "\tMean absolute error: 0.3344488122182721\n",
      "\tR2 score: 0.9784378735423914\n",
      "\n",
      "KNeighborsRegressor()\n",
      "\tTraining time: 0.004s\n",
      "\tPrediction time: 0.006s\n",
      "\tExplained variance: 0.9855522902203985\n",
      "\tMean absolute error: 0.25058159494717497\n",
      "\tR2 score: 0.9855389728697903\n",
      "\n",
      "ExtraTreesRegressor()\n",
      "\tTraining time: 0.174s\n",
      "\tPrediction time: 0.022s\n",
      "\tExplained variance: 0.9866914536484418\n",
      "\tMean absolute error: 0.23925357210902626\n",
      "\tR2 score: 0.9866859582918304\n",
      "\n",
      "LinearRegression()\n",
      "\tTraining time: 0.001s\n",
      "\tPrediction time: 0.001s\n",
      "\tExplained variance: 0.4786994880968911\n",
      "\tMean absolute error: 2.0479546951901417\n",
      "\tR2 score: 0.47818215252798013\n",
      "\n",
      "Lasso()\n",
      "\tTraining time: 0.003s\n",
      "\tPrediction time: 0.000s\n",
      "\tExplained variance: 0.38089604152914414\n",
      "\tMean absolute error: 2.134374455997926\n",
      "\tR2 score: 0.38036579592500064\n",
      "\n",
      "Ridge()\n",
      "\tTraining time: 0.002s\n",
      "\tPrediction time: 0.000s\n",
      "\tExplained variance: 0.47869979834181564\n",
      "\tMean absolute error: 2.0479440915728033\n",
      "\tR2 score: 0.4781824559265684\n",
      "\n"
     ]
    }
   ],
   "source": [
    "from time import time\n",
    "from sklearn.metrics import explained_variance_score,mean_absolute_error,r2_score\n",
    "\n",
    "head = 10\n",
    "for model in regressors[:head]:\n",
    "    start = time()\n",
    "    model.fit(X_train, y_train)\n",
    "    train_time = time() - start\n",
    "    start = time()\n",
    "    y_pred = model.predict(X_test)\n",
    "    predict_time = time()-start    \n",
    "    print(model)\n",
    "    print(\"\\tTraining time: %0.3fs\" % train_time)\n",
    "    print(\"\\tPrediction time: %0.3fs\" % predict_time)\n",
    "    print(\"\\tExplained variance:\", explained_variance_score(y_test, y_pred))\n",
    "    print(\"\\tMean absolute error:\", mean_absolute_error(y_test, y_pred))\n",
    "    print(\"\\tR2 score:\", r2_score(y_test, y_pred))\n",
    "    print()"
   ]
  },
  {
   "cell_type": "markdown",
   "metadata": {},
   "source": [
    "#### By comparing these results, we can quickly see that RandomForestRegressor and DecisionTreeRegressor are the best models for our data\n",
    "#### Machine learning models have parameters, which are the internal coefficients set by training or optimizing the model on a training dataset.\n",
    "#### Parameters are different from hyperparameters. Parameters are learned automatically; hyperparameters are set manually to help guide the learning process."
   ]
  },
  {
   "cell_type": "code",
   "execution_count": 72,
   "metadata": {},
   "outputs": [
    {
     "name": "stdout",
     "output_type": "stream",
     "text": [
      "Parameters currently in use:\n",
      "\n",
      "{'bootstrap': True,\n",
      " 'ccp_alpha': 0.0,\n",
      " 'criterion': 'mse',\n",
      " 'max_depth': None,\n",
      " 'max_features': 'auto',\n",
      " 'max_leaf_nodes': None,\n",
      " 'max_samples': None,\n",
      " 'min_impurity_decrease': 0.0,\n",
      " 'min_impurity_split': None,\n",
      " 'min_samples_leaf': 1,\n",
      " 'min_samples_split': 2,\n",
      " 'min_weight_fraction_leaf': 0.0,\n",
      " 'n_estimators': 100,\n",
      " 'n_jobs': None,\n",
      " 'oob_score': False,\n",
      " 'random_state': 42,\n",
      " 'verbose': 0,\n",
      " 'warm_start': False}\n"
     ]
    }
   ],
   "source": [
    "from sklearn.ensemble import RandomForestRegressor\n",
    "rf = RandomForestRegressor(random_state = 42)\n",
    "from pprint import pprint\n",
    "# Look at parameters used by our current forest\n",
    "print('Parameters currently in use:\\n')\n",
    "pprint(rf.get_params())"
   ]
  },
  {
   "cell_type": "code",
   "execution_count": 73,
   "metadata": {},
   "outputs": [
    {
     "name": "stdout",
     "output_type": "stream",
     "text": [
      "{'bootstrap': [True, False],\n",
      " 'max_depth': [10, 20, 30, 40, 50, 60, 70, 80, 90, 100, 110, None],\n",
      " 'max_features': ['auto', 'sqrt'],\n",
      " 'min_samples_leaf': [1, 2, 4],\n",
      " 'min_samples_split': [2, 5, 10],\n",
      " 'n_estimators': [200, 400, 600, 800, 1000, 1200, 1400, 1600, 1800, 2000]}\n"
     ]
    }
   ],
   "source": [
    "from sklearn.model_selection import RandomizedSearchCV\n",
    "# Number of trees in random forest\n",
    "n_estimators = [int(x) for x in np.linspace(start = 200, stop = 2000, num = 10)]\n",
    "# Number of features to consider at every split\n",
    "max_features = ['auto', 'sqrt']\n",
    "# Maximum number of levels in tree\n",
    "max_depth = [int(x) for x in np.linspace(10, 110, num = 11)]\n",
    "max_depth.append(None)\n",
    "# Minimum number of samples required to split a node\n",
    "min_samples_split = [2, 5, 10]\n",
    "# Minimum number of samples required at each leaf node\n",
    "min_samples_leaf = [1, 2, 4]\n",
    "# Method of selecting samples for training each tree\n",
    "bootstrap = [True, False]\n",
    "# Create the random grid\n",
    "random_grid = {'n_estimators': n_estimators,\n",
    "               'max_features': max_features,\n",
    "               'max_depth': max_depth,\n",
    "               'min_samples_split': min_samples_split,\n",
    "               'min_samples_leaf': min_samples_leaf,\n",
    "               'bootstrap': bootstrap}\n",
    "pprint(random_grid)"
   ]
  },
  {
   "cell_type": "code",
   "execution_count": 74,
   "metadata": {},
   "outputs": [
    {
     "name": "stdout",
     "output_type": "stream",
     "text": [
      "Fitting 3 folds for each of 100 candidates, totalling 300 fits\n"
     ]
    },
    {
     "data": {
      "text/plain": [
       "RandomizedSearchCV(cv=3, estimator=RandomForestRegressor(), n_iter=100,\n",
       "                   n_jobs=-1,\n",
       "                   param_distributions={'bootstrap': [True, False],\n",
       "                                        'max_depth': [10, 20, 30, 40, 50, 60,\n",
       "                                                      70, 80, 90, 100, 110,\n",
       "                                                      None],\n",
       "                                        'max_features': ['auto', 'sqrt'],\n",
       "                                        'min_samples_leaf': [1, 2, 4],\n",
       "                                        'min_samples_split': [2, 5, 10],\n",
       "                                        'n_estimators': [200, 400, 600, 800,\n",
       "                                                         1000, 1200, 1400, 1600,\n",
       "                                                         1800, 2000]},\n",
       "                   random_state=42, verbose=2)"
      ]
     },
     "execution_count": 74,
     "metadata": {},
     "output_type": "execute_result"
    }
   ],
   "source": [
    "# Use the random grid to search for best hyperparameters\n",
    "# First create the base model to tune\n",
    "rf = RandomForestRegressor()\n",
    "# Random search of parameters, using 3 fold cross validation, \n",
    "# search across 100 different combinations, and use all available cores\n",
    "rf_random = RandomizedSearchCV(estimator = rf, param_distributions = random_grid, n_iter = 100, cv = 3, verbose=2, random_state=42, n_jobs = -1)\n",
    "# Fit the random search model\n",
    "rf_random.fit(X_train, y_train)"
   ]
  },
  {
   "cell_type": "code",
   "execution_count": 75,
   "metadata": {},
   "outputs": [
    {
     "data": {
      "text/plain": [
       "{'n_estimators': 200,\n",
       " 'min_samples_split': 2,\n",
       " 'min_samples_leaf': 1,\n",
       " 'max_features': 'sqrt',\n",
       " 'max_depth': 50,\n",
       " 'bootstrap': True}"
      ]
     },
     "execution_count": 75,
     "metadata": {},
     "output_type": "execute_result"
    }
   ],
   "source": [
    "rf_random.best_params_"
   ]
  },
  {
   "cell_type": "code",
   "execution_count": 76,
   "metadata": {},
   "outputs": [
    {
     "name": "stdout",
     "output_type": "stream",
     "text": [
      "Model Performance\n",
      "Average Error: 0.2391 degrees.\n",
      "Accuracy = 96.15%.\n",
      "Model Performance\n",
      "Average Error: 0.2394 degrees.\n",
      "Accuracy = 96.15%.\n",
      "Improvement of 0.00%.\n"
     ]
    }
   ],
   "source": [
    "def evaluate(model, X_test, y_test):\n",
    "    predictions = model.predict(X_test)\n",
    "    errors = abs(predictions - y_test)\n",
    "    mape = 100 * np.mean(errors / y_test)\n",
    "    accuracy = 100 - mape\n",
    "    print('Model Performance')\n",
    "    print('Average Error: {:0.4f} degrees.'.format(np.mean(errors)))\n",
    "    print('Accuracy = {:0.2f}%.'.format(accuracy))\n",
    "    return accuracy\n",
    "base_model = RandomForestRegressor(n_estimators = 10, random_state = 42)\n",
    "base_model.fit(X_train, y_train)\n",
    "base_accuracy = evaluate(base_model, X_test, y_test)\n",
    "\n",
    "best_random = rf_random.best_estimator_\n",
    "random_accuracy = evaluate(best_random, X_test, y_test)\n",
    "\n",
    "print('Improvement of {:0.2f}%.'.format( 100 * (random_accuracy - base_accuracy) / base_accuracy))"
   ]
  },
  {
   "cell_type": "code",
   "execution_count": 77,
   "metadata": {},
   "outputs": [
    {
     "data": {
      "text/plain": [
       "96.15148590774336"
      ]
     },
     "execution_count": 77,
     "metadata": {},
     "output_type": "execute_result"
    }
   ],
   "source": [
    "base_accuracy"
   ]
  },
  {
   "cell_type": "code",
   "execution_count": 78,
   "metadata": {},
   "outputs": [],
   "source": [
    "# Hyperparameter tuning has not improved accuracy significantly"
   ]
  },
  {
   "cell_type": "code",
   "execution_count": 79,
   "metadata": {},
   "outputs": [
    {
     "data": {
      "text/plain": [
       "array([2.78285052, 2.60250099, 4.08422803, ..., 1.781381  , 2.60250099,\n",
       "       2.60250099])"
      ]
     },
     "execution_count": 79,
     "metadata": {},
     "output_type": "execute_result"
    }
   ],
   "source": [
    "model_rfr = RandomForestRegressor()\n",
    "model_rfr.fit(X_train, y_train)\n",
    "y_test_pred = model_rfr.predict(X_test)\n",
    "y_test_pred"
   ]
  },
  {
   "cell_type": "code",
   "execution_count": 80,
   "metadata": {},
   "outputs": [
    {
     "data": {
      "text/plain": [
       "<bound method NDFrame.tail of        0          1         2         3          4         5          6     \\\n",
       "0  4.605771  12.855682  4.473311  8.327599  12.923826  5.402925  12.855682   \n",
       "1  4.810762  12.532299  5.234129  8.507921  13.150641  5.290000  13.742855   \n",
       "2 -0.204991   0.323383 -0.760818 -0.180322  -0.226815  0.112925  -0.887173   \n",
       "\n",
       "       7         8         9     ...      6520      6521      6522      6523  \\\n",
       "0  2.909472  5.093262  2.456136  ...  4.546782  6.379914  6.244515  2.947192   \n",
       "1  2.947244  4.922122  2.454830  ...  4.521225  6.930000  5.976332  3.058007   \n",
       "2 -0.037772  0.171140  0.001306  ...  0.025557 -0.550086  0.268183 -0.110815   \n",
       "\n",
       "       6524      6525      6526      6527       6528      6529  \n",
       "0  9.725628  3.624424  6.477865  2.360692  13.919498  2.488650  \n",
       "1  8.767762  3.504135  6.050000  2.360692  13.816093  2.393976  \n",
       "2  0.957866  0.120289  0.427865  0.000000   0.103405  0.094674  \n",
       "\n",
       "[3 rows x 6530 columns]>"
      ]
     },
     "execution_count": 80,
     "metadata": {},
     "output_type": "execute_result"
    }
   ],
   "source": [
    "#RandomForestRegressor Residual showing difference actual vs predicted\n",
    "residual_dtr = pd.DataFrame([model_rfr.predict(X_train),y_train,(model_rfr.predict(X_train)-y_train)])\n",
    "residual_dtr.tail"
   ]
  },
  {
   "cell_type": "code",
   "execution_count": 81,
   "metadata": {},
   "outputs": [
    {
     "data": {
      "image/png": "[encoded data removed]",
      "text/plain": [
       "<Figure size 432x288 with 1 Axes>"
      ]
     },
     "metadata": {
      "needs_background": "light"
     },
     "output_type": "display_data"
    }
   ],
   "source": [
    "# Make predictions using fitted model\n",
    "predictions1 = model_rfr.predict(X_test)\n",
    "\n",
    "# Plotted the difference between the model predicted values and actual y values, versus the model predicted values\n",
    "plt.scatter(model_rfr.predict(X_train), y_train - model_rfr.predict(X_train), c=\"blue\", label=\"Training Data\")\n",
    "plt.scatter(model_rfr.predict(X_test), y_test - model_rfr.predict(X_test), c=\"orange\", label=\"Testing Data\")\n",
    "plt.legend()\n",
    "plt.hlines(y=0, xmin=y_test.min(), xmax=y_test.max())\n",
    "plt.title(\"Residual Plot\")\n",
    "plt.show()"
   ]
  },
  {
   "cell_type": "markdown",
   "metadata": {},
   "source": [
    "# Save the Model"
   ]
  },
  {
   "cell_type": "code",
   "execution_count": 82,
   "metadata": {},
   "outputs": [],
   "source": [
    "import pickle\n",
    "filename = '../../static/sto_model_rfr.sav'\n",
    "pickle.dump(model, open(filename, 'wb'))\n",
    "model_in_rfr = pickle.load(open(filename, 'rb'))"
   ]
  },
  {
   "cell_type": "code",
   "execution_count": 83,
   "metadata": {},
   "outputs": [],
   "source": [
    "# from joblib import dump,load\n",
    "# model_in_rfr = load('sto_model_rfr.sav')"
   ]
  },
  {
   "cell_type": "code",
   "execution_count": 84,
   "metadata": {},
   "outputs": [
    {
     "name": "stdout",
     "output_type": "stream",
     "text": [
      "      RBA    FED     CPI  Prediction\n",
      "0    1.35   1.75  123.90        8.79\n",
      "1    1.60   2.00  124.15        8.75\n",
      "2    1.85   2.25  124.40        8.72\n",
      "3    2.10   2.50  124.65        8.68\n",
      "4    2.35   2.75  124.90        8.64\n",
      "5    2.60   3.00  125.15        8.60\n",
      "6    2.85   3.25  125.40        8.56\n",
      "7    3.10   3.50  125.65        8.52\n",
      "8    3.35   3.75  125.90        8.48\n",
      "9    3.60   4.00  126.15        8.44\n",
      "10   3.85   4.25  126.40        8.40\n",
      "11   4.10   4.50  126.65        8.36\n",
      "12   4.35   4.75  126.90        8.32\n",
      "13   4.60   5.00  127.15        8.28\n",
      "14   4.85   5.25  127.40        8.25\n",
      "15   5.10   5.50  127.65        8.21\n",
      "16   5.35   5.75  127.90        8.17\n",
      "17   5.60   6.00  128.15        8.13\n",
      "18   5.85   6.25  128.40        8.09\n",
      "19   6.10   6.50  128.65        8.05\n",
      "20   6.35   6.75  128.90        8.01\n",
      "21   6.60   7.00  129.15        7.97\n",
      "22   6.85   7.25  129.40        7.93\n",
      "23   7.10   7.50  129.65        7.89\n",
      "24   7.35   7.75  129.90        7.85\n",
      "25   7.60   8.00  130.15        7.81\n",
      "26   7.85   8.25  130.40        7.77\n",
      "27   8.10   8.50  130.65        7.74\n",
      "28   8.35   8.75  130.90        7.70\n",
      "29   8.60   9.00  131.15        7.66\n",
      "30   8.85   9.25  131.40        7.62\n",
      "31   9.10   9.50  131.65        7.58\n",
      "32   9.35   9.75  131.90        7.54\n",
      "33   9.60  10.00  132.15        7.50\n",
      "34   9.85  10.25  132.40        7.46\n",
      "35  10.10  10.50  132.65        7.42\n",
      "36  10.35  10.75  132.90        7.38\n",
      "37  10.60  11.00  133.15        7.34\n",
      "38  10.85  11.25  133.40        7.30\n",
      "39  11.10  11.50  133.65        7.27 [{'RBA': 1.35, 'FED': 1.75, 'CPI': 123.9, 'Prediction': 8.79}, {'RBA': 1.6, 'FED': 2.0, 'CPI': 124.15, 'Prediction': 8.75}, {'RBA': 1.85, 'FED': 2.25, 'CPI': 124.4, 'Prediction': 8.72}, {'RBA': 2.1, 'FED': 2.5, 'CPI': 124.65, 'Prediction': 8.68}, {'RBA': 2.35, 'FED': 2.75, 'CPI': 124.9, 'Prediction': 8.64}, {'RBA': 2.6, 'FED': 3.0, 'CPI': 125.15, 'Prediction': 8.6}, {'RBA': 2.85, 'FED': 3.25, 'CPI': 125.4, 'Prediction': 8.56}, {'RBA': 3.1, 'FED': 3.5, 'CPI': 125.65, 'Prediction': 8.52}, {'RBA': 3.35, 'FED': 3.75, 'CPI': 125.9, 'Prediction': 8.48}, {'RBA': 3.6, 'FED': 4.0, 'CPI': 126.15, 'Prediction': 8.44}, {'RBA': 3.85, 'FED': 4.25, 'CPI': 126.4, 'Prediction': 8.4}, {'RBA': 4.1, 'FED': 4.5, 'CPI': 126.65, 'Prediction': 8.36}, {'RBA': 4.35, 'FED': 4.75, 'CPI': 126.9, 'Prediction': 8.32}, {'RBA': 4.6, 'FED': 5.0, 'CPI': 127.15, 'Prediction': 8.28}, {'RBA': 4.85, 'FED': 5.25, 'CPI': 127.4, 'Prediction': 8.25}, {'RBA': 5.1, 'FED': 5.5, 'CPI': 127.65, 'Prediction': 8.21}, {'RBA': 5.35, 'FED': 5.75, 'CPI': 127.9, 'Prediction': 8.17}, {'RBA': 5.6, 'FED': 6.0, 'CPI': 128.15, 'Prediction': 8.13}, {'RBA': 5.85, 'FED': 6.25, 'CPI': 128.4, 'Prediction': 8.09}, {'RBA': 6.1, 'FED': 6.5, 'CPI': 128.65, 'Prediction': 8.05}, {'RBA': 6.35, 'FED': 6.75, 'CPI': 128.9, 'Prediction': 8.01}, {'RBA': 6.6, 'FED': 7.0, 'CPI': 129.15, 'Prediction': 7.97}, {'RBA': 6.85, 'FED': 7.25, 'CPI': 129.4, 'Prediction': 7.93}, {'RBA': 7.1, 'FED': 7.5, 'CPI': 129.65, 'Prediction': 7.89}, {'RBA': 7.35, 'FED': 7.75, 'CPI': 129.9, 'Prediction': 7.85}, {'RBA': 7.6, 'FED': 8.0, 'CPI': 130.15, 'Prediction': 7.81}, {'RBA': 7.85, 'FED': 8.25, 'CPI': 130.4, 'Prediction': 7.77}, {'RBA': 8.1, 'FED': 8.5, 'CPI': 130.65, 'Prediction': 7.74}, {'RBA': 8.35, 'FED': 8.75, 'CPI': 130.9, 'Prediction': 7.7}, {'RBA': 8.6, 'FED': 9.0, 'CPI': 131.15, 'Prediction': 7.66}, {'RBA': 8.85, 'FED': 9.25, 'CPI': 131.4, 'Prediction': 7.62}, {'RBA': 9.1, 'FED': 9.5, 'CPI': 131.65, 'Prediction': 7.58}, {'RBA': 9.35, 'FED': 9.75, 'CPI': 131.9, 'Prediction': 7.54}, {'RBA': 9.6, 'FED': 10.0, 'CPI': 132.15, 'Prediction': 7.5}, {'RBA': 9.85, 'FED': 10.25, 'CPI': 132.4, 'Prediction': 7.46}, {'RBA': 10.1, 'FED': 10.5, 'CPI': 132.65, 'Prediction': 7.42}, {'RBA': 10.35, 'FED': 10.75, 'CPI': 132.9, 'Prediction': 7.38}, {'RBA': 10.6, 'FED': 11.0, 'CPI': 133.15, 'Prediction': 7.34}, {'RBA': 10.85, 'FED': 11.25, 'CPI': 133.4, 'Prediction': 7.3}, {'RBA': 11.1, 'FED': 11.5, 'CPI': 133.65, 'Prediction': 7.27}]\n"
     ]
    }
   ],
   "source": [
    "rba = float(1.35)\n",
    "fed = float(1.75)\n",
    "cpi = float(123.90)\n",
    "input =40\n",
    "rfr=[]\n",
    "\n",
    "def randomforest(rba,fed,cpi):\n",
    "    for i in range(0,input):\n",
    "      rfr.append([rba,fed,cpi])\n",
    "      np.round_(rfr,2,out = None) \n",
    "      df = pd.DataFrame(rfr, columns = ['RBA','FED',\"CPI\"])\n",
    "      df.round(2)\n",
    "      pred_rf=model_in_rfr.predict(df)\n",
    "      df['Prediction'] = pred_rf\n",
    "      df['Prediction'] = df['Prediction'].astype(float).round(2)\n",
    "      rba+=0.25\n",
    "      fed+=0.25\n",
    "      cpi+=0.25\n",
    "      # print(df)\n",
    "    my_rforest = df.to_dict(orient='records')\n",
    "    for dict_value in my_rforest:\n",
    "      for k, v in dict_value.items():\n",
    "        dict_value[k] = round(v, 2)\n",
    "    return my_rforest,df\n",
    "# print(my_rforest)\n",
    "my_rf,df = randomforest(rba,fed,cpi)\n",
    "print(df,my_rf)\n"
   ]
  },
  {
   "cell_type": "code",
   "execution_count": 85,
   "metadata": {},
   "outputs": [
    {
     "data": {
      "image/png": "[encoded data removed]",
      "text/plain": [
       "<Figure size 864x360 with 2 Axes>"
      ]
     },
     "metadata": {
      "needs_background": "light"
     },
     "output_type": "display_data"
    }
   ],
   "source": [
    "# DRAW THE PREDICTION\n",
    "#Append the input amount of trading days to dates dictionary\n",
    "input=40\n",
    "# df_pred = df.iloc[0:(input-1)]\n",
    "plot1 = df.plot(y=[\"CPI\",\"Prediction\"], figsize=(12, 5),color=['gold','green'],linewidth=2)\n",
    "plot2 = df.plot(y=[\"RBA\",\"FED\"],secondary_y=True, ax=plot1,color=['pink','steelblue'],linestyle='dashed')\n",
    "plt.title('STO PREDICTIONS')\n",
    "plot1.set_xlabel('Future Trading Days', fontsize=10)\n",
    "plot1.set_ylabel('Close Price AUD ($) or CPI', fontsize=10)\n",
    "plot1.legend(loc='upper left')\n",
    "plot2.legend(loc='upper right')\n",
    "plt.savefig('../../static/data/images/sto_rfr_pred.png', bbox_inches=\"tight\")\n",
    "plt.show()"
   ]
  },
  {
   "cell_type": "code",
   "execution_count": 86,
   "metadata": {},
   "outputs": [
    {
     "name": "stdout",
     "output_type": "stream",
     "text": [
      "    RBA   FED    CPI  Prediction\n",
      "0  1.35  1.75  123.9    8.794066\n",
      "[8.7940663]\n"
     ]
    }
   ],
   "source": [
    "rba = float(1.35)\n",
    "fed = float(1.75)\n",
    "cpi = float(123.90)\n",
    "def rforest(rba,fed,cpi):\n",
    "    dtr =[[rba,fed,cpi]]\n",
    "    df = pd.DataFrame (dtr, columns = ['RBA','FED',\"CPI\"])\n",
    "    pred_dtr=model_in_rfr.predict(df)\n",
    "    df['Prediction'] = pred_dtr\n",
    "    print(df)\n",
    "    df_dict = df.to_dict(orient='records')\n",
    "    return pred_dtr\n",
    "Pred_rf = rforest(rba,fed,cpi)\n",
    "print(Pred_rf)"
   ]
  },
  {
   "cell_type": "code",
   "execution_count": 87,
   "metadata": {},
   "outputs": [
    {
     "data": {
      "image/png": "[encoded data removed]",
      "text/plain": [
       "<Figure size 864x360 with 2 Axes>"
      ]
     },
     "metadata": {
      "needs_background": "light"
     },
     "output_type": "display_data"
    }
   ],
   "source": [
    "x = np.arange(2000,2024,4)\n",
    "ax = df_mongo.plot(y=[\"CPI\",\"Close\"], figsize=(12, 5),color=['grey','green'],linewidth=2)\n",
    "df_mongo.plot(y=[\"RBA\",\"FED\"],secondary_y=True, ax=ax,color=['pink','steelblue'],linestyle='dashed')\n",
    "plt.legend(bbox_to_anchor=(1.03, 1), loc='upper left', borderaxespad=-4, title=\"Interest rates\")\n",
    "ax.legend(loc='upper left')\n",
    "ax.set_xticks([0,1000,2000,3000,4000,5000])\n",
    "ax.set_xticklabels(x, rotation=0)\n",
    "ax.set_title('STO Random Forest Regression Model')\n",
    "ax.set_xlabel('Trading Date', fontsize=18)\n",
    "ax.set_ylabel('Close Price AUD ($) or CPI', fontsize=18)\n",
    "plt.savefig('../../static/data/images/sto_tree.png')"
   ]
  },
  {
   "cell_type": "markdown",
   "metadata": {},
   "source": [
    "#Save predicted error to MongoDB"
   ]
  },
  {
   "cell_type": "code",
   "execution_count": 88,
   "metadata": {},
   "outputs": [],
   "source": [
    "# Module used to connect Python with MongoDb\n",
    "import pymongo"
   ]
  },
  {
   "cell_type": "code",
   "execution_count": 89,
   "metadata": {},
   "outputs": [],
   "source": [
    "# The default port used by MongoDB is 27017\n",
    "# https://docs.mongodb.com/manual/reference/default-mongodb-port/\n",
    "conn = 'mongodb://localhost:27017'\n",
    "client = pymongo.MongoClient(conn)\n",
    "\n",
    "# Define the 'sharesDB' database in Mongo\n",
    "db = client.sharesDB.companys\n",
    "\n",
    "name = 'STO'"
   ]
  },
  {
   "cell_type": "code",
   "execution_count": 90,
   "metadata": {},
   "outputs": [
    {
     "name": "stdout",
     "output_type": "stream",
     "text": [
      "{'_id': ObjectId('62e9da57fe3d2accf350db03'), 'model': 'RFR', 'name': 'STO', 'date': '02/08/2022', 'predicted': 8, 'actual': 7, 'difference': 1.7941, 'accuracy': 96.15}\n"
     ]
    }
   ],
   "source": [
    "# query the classroom collection\n",
    "companys = db.find({\n",
    "      'model': 'RFR',\n",
    "      'name': name})\n",
    "\n",
    "# see change in collection\n",
    "for company in companys:\n",
    "    print(company)"
   ]
  },
  {
   "cell_type": "code",
   "execution_count": 91,
   "metadata": {},
   "outputs": [
    {
     "name": "stdout",
     "output_type": "stream",
     "text": [
      "96.15 7 02/08/2022\n"
     ]
    }
   ],
   "source": [
    "#save last price actual to variable\n",
    "actual_price = df_mongo.iloc[-1,5]\n",
    "actual_date = df_mongo.iloc[-1,1] \n",
    "actual_price = int(actual_price)\n",
    "base_accuracy=round(base_accuracy,2)\n",
    "print(base_accuracy,actual_price,actual_date)\n"
   ]
  },
  {
   "cell_type": "code",
   "execution_count": 92,
   "metadata": {},
   "outputs": [
    {
     "name": "stdout",
     "output_type": "stream",
     "text": [
      "date 02/08/2022,predicted 8,actual 7, difference 1.794066299202374,accuracy 96.15\n"
     ]
    }
   ],
   "source": [
    "# Set keys and values of company\n",
    "predicted = int(Pred_rf)\n",
    "difference = Pred_rf-actual_price\n",
    "difference=difference[0]\n",
    "print(f'date {actual_date},predicted {predicted},actual {actual_price}, difference {difference},accuracy {base_accuracy}')"
   ]
  },
  {
   "cell_type": "code",
   "execution_count": 93,
   "metadata": {},
   "outputs": [
    {
     "data": {
      "text/plain": [
       "<pymongo.results.DeleteResult at 0x1d9fa033640>"
      ]
     },
     "execution_count": 93,
     "metadata": {},
     "output_type": "execute_result"
    }
   ],
   "source": [
    "# Delete a document from a collection\n",
    "db.delete_one(\n",
    "    {'model': 'RFR','name': name}\n",
    ")\n"
   ]
  },
  {
   "cell_type": "code",
   "execution_count": 94,
   "metadata": {},
   "outputs": [
    {
     "name": "stdout",
     "output_type": "stream",
     "text": [
      "{'_id': ObjectId('62e9dd14fe3d2accf350db06'), 'model': 'RFR', 'name': 'STO', 'date': '02/08/2022', 'predicted': 8, 'actual': 7, 'difference': 1.7941, 'accuracy': 96.15}\n"
     ]
    }
   ],
   "source": [
    "# Insert a document into the 'companys' collection\n",
    "db.insert_one(\n",
    "    {\n",
    "      'model': 'RFR',\n",
    "      'name': name,\n",
    "      'date': actual_date,\n",
    "      'predicted': predicted,\n",
    "      'actual': actual_price,\n",
    "      'difference': round(difference,4),\n",
    "      'accuracy': base_accuracy        \n",
    "    }\n",
    ")\n",
    "\n",
    "# query the classroom collection\n",
    "companys = db.find({\n",
    "  'model': 'RFR',\n",
    "  'name': name,})\n",
    "\n",
    "# see change in collection\n",
    "for company in companys:\n",
    "    print(company)"
   ]
  }
 ],
 "metadata": {
  "interpreter": {
   "hash": "45bb1cb4637e4034484920e5cfb24c9afd84b0847d6c36e39edd3067d3a05462"
  },
  "kernel_info": {
   "name": "dev"
  },
  "kernelspec": {
   "display_name": "Python 3.9.7 ('base')",
   "language": "python",
   "name": "python3"
  },
  "language_info": {
   "codemirror_mode": {
    "name": "ipython",
    "version": 3
   },
   "file_extension": ".py",
   "mimetype": "text/x-python",
   "name": "python",
   "nbconvert_exporter": "python",
   "pygments_lexer": "ipython3",
   "version": "3.9.7"
  },
  "nteract": {
   "version": "0.12.3"
  }
 },
 "nbformat": 4,
 "nbformat_minor": 2
}
