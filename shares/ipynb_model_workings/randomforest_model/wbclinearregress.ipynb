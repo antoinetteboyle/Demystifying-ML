{
 "cells": [
  {
   "cell_type": "code",
   "execution_count": 1,
   "metadata": {},
   "outputs": [
    {
     "name": "stdout",
     "output_type": "stream",
     "text": [
      "Requirement already satisfied: sklearn in c:\\users\\antoi\\anaconda3\\lib\\site-packages (0.0)\n",
      "Requirement already satisfied: scikit-learn in c:\\users\\antoi\\anaconda3\\lib\\site-packages (from sklearn) (0.24.2)\n",
      "Requirement already satisfied: joblib>=0.11 in c:\\users\\antoi\\anaconda3\\lib\\site-packages (from scikit-learn->sklearn) (1.1.0)\n",
      "Requirement already satisfied: scipy>=0.19.1 in c:\\users\\antoi\\anaconda3\\lib\\site-packages (from scikit-learn->sklearn) (1.7.1)\n",
      "Requirement already satisfied: threadpoolctl>=2.0.0 in c:\\users\\antoi\\anaconda3\\lib\\site-packages (from scikit-learn->sklearn) (2.2.0)\n",
      "Requirement already satisfied: numpy>=1.13.3 in c:\\users\\antoi\\anaconda3\\lib\\site-packages (from scikit-learn->sklearn) (1.20.3)\n",
      "Requirement already satisfied: joblib in c:\\users\\antoi\\anaconda3\\lib\\site-packages (1.1.0)\n"
     ]
    }
   ],
   "source": [
    "# Update sklearn to prevent version mismatches\n",
    "!pip install sklearn --upgrade\n",
    "# install joblib. This will be used to save your model. \n",
    "# Restart your kernel after installing \n",
    "!pip install joblib"
   ]
  },
  {
   "cell_type": "markdown",
   "metadata": {},
   "source": [
    "This model uses a neural network and GridSearchCV to predict share price impacts of Interest changes"
   ]
  },
  {
   "cell_type": "markdown",
   "metadata": {},
   "source": [
    "# Read the CSV and Perform Basic Data Cleaning"
   ]
  },
  {
   "cell_type": "code",
   "execution_count": 2,
   "metadata": {},
   "outputs": [],
   "source": [
    "import matplotlib.pyplot as plt\n",
    "import numpy as np\n",
    "import pandas as pd"
   ]
  },
  {
   "cell_type": "code",
   "execution_count": 3,
   "metadata": {},
   "outputs": [
    {
     "data": {
      "text/html": [
       "<div>\n",
       "<style scoped>\n",
       "    .dataframe tbody tr th:only-of-type {\n",
       "        vertical-align: middle;\n",
       "    }\n",
       "\n",
       "    .dataframe tbody tr th {\n",
       "        vertical-align: top;\n",
       "    }\n",
       "\n",
       "    .dataframe thead th {\n",
       "        text-align: right;\n",
       "    }\n",
       "</style>\n",
       "<table border=\"1\" class=\"dataframe\">\n",
       "  <thead>\n",
       "    <tr style=\"text-align: right;\">\n",
       "      <th></th>\n",
       "      <th>Date</th>\n",
       "      <th>Open</th>\n",
       "      <th>High</th>\n",
       "      <th>Low</th>\n",
       "      <th>Close</th>\n",
       "      <th>Adj Close</th>\n",
       "      <th>Volume</th>\n",
       "      <th>RBA</th>\n",
       "      <th>FED</th>\n",
       "      <th>CPI</th>\n",
       "    </tr>\n",
       "  </thead>\n",
       "  <tbody>\n",
       "    <tr>\n",
       "      <th>5746</th>\n",
       "      <td>27/07/2022</td>\n",
       "      <td>21.100000</td>\n",
       "      <td>21.530001</td>\n",
       "      <td>21.049999</td>\n",
       "      <td>21.41</td>\n",
       "      <td>21.41</td>\n",
       "      <td>5459593.0</td>\n",
       "      <td>1.35</td>\n",
       "      <td>2.5</td>\n",
       "      <td>125.0</td>\n",
       "    </tr>\n",
       "    <tr>\n",
       "      <th>5747</th>\n",
       "      <td>28/07/2022</td>\n",
       "      <td>21.610001</td>\n",
       "      <td>21.650000</td>\n",
       "      <td>21.410000</td>\n",
       "      <td>21.43</td>\n",
       "      <td>21.43</td>\n",
       "      <td>5165682.0</td>\n",
       "      <td>1.35</td>\n",
       "      <td>2.5</td>\n",
       "      <td>125.0</td>\n",
       "    </tr>\n",
       "    <tr>\n",
       "      <th>5748</th>\n",
       "      <td>29/07/2022</td>\n",
       "      <td>21.510000</td>\n",
       "      <td>21.600000</td>\n",
       "      <td>21.469999</td>\n",
       "      <td>21.51</td>\n",
       "      <td>21.51</td>\n",
       "      <td>7000330.0</td>\n",
       "      <td>1.35</td>\n",
       "      <td>2.5</td>\n",
       "      <td>125.0</td>\n",
       "    </tr>\n",
       "    <tr>\n",
       "      <th>5749</th>\n",
       "      <td>1/08/2022</td>\n",
       "      <td>21.500000</td>\n",
       "      <td>21.660000</td>\n",
       "      <td>21.230000</td>\n",
       "      <td>21.66</td>\n",
       "      <td>21.66</td>\n",
       "      <td>6824049.0</td>\n",
       "      <td>1.35</td>\n",
       "      <td>2.5</td>\n",
       "      <td>125.0</td>\n",
       "    </tr>\n",
       "    <tr>\n",
       "      <th>5750</th>\n",
       "      <td>2/08/2022</td>\n",
       "      <td>21.610001</td>\n",
       "      <td>22.020000</td>\n",
       "      <td>21.559999</td>\n",
       "      <td>22.00</td>\n",
       "      <td>22.00</td>\n",
       "      <td>6402716.0</td>\n",
       "      <td>1.35</td>\n",
       "      <td>2.5</td>\n",
       "      <td>125.0</td>\n",
       "    </tr>\n",
       "  </tbody>\n",
       "</table>\n",
       "</div>"
      ],
      "text/plain": [
       "            Date       Open       High        Low  Close  Adj Close  \\\n",
       "5746  27/07/2022  21.100000  21.530001  21.049999  21.41      21.41   \n",
       "5747  28/07/2022  21.610001  21.650000  21.410000  21.43      21.43   \n",
       "5748  29/07/2022  21.510000  21.600000  21.469999  21.51      21.51   \n",
       "5749   1/08/2022  21.500000  21.660000  21.230000  21.66      21.66   \n",
       "5750   2/08/2022  21.610001  22.020000  21.559999  22.00      22.00   \n",
       "\n",
       "         Volume   RBA  FED    CPI  \n",
       "5746  5459593.0  1.35  2.5  125.0  \n",
       "5747  5165682.0  1.35  2.5  125.0  \n",
       "5748  7000330.0  1.35  2.5  125.0  \n",
       "5749  6824049.0  1.35  2.5  125.0  \n",
       "5750  6402716.0  1.35  2.5  125.0  "
      ]
     },
     "execution_count": 3,
     "metadata": {},
     "output_type": "execute_result"
    }
   ],
   "source": [
    "df_stock1 = pd.read_csv(\"../../static/data/WBC.csv\")\n",
    "# Drop the null columns where all values are null\n",
    "df_stock2 = df_stock1.dropna(axis='columns', how='all')\n",
    "# Drop the null rows\n",
    "df = df_stock2.dropna()\n",
    "df.tail()"
   ]
  },
  {
   "cell_type": "code",
   "execution_count": 4,
   "metadata": {},
   "outputs": [
    {
     "name": "stdout",
     "output_type": "stream",
     "text": [
      "12/08/2022 22.65999984741211\n"
     ]
    },
    {
     "data": {
      "text/plain": [
       "<bound method NDFrame.tail of                            _id        Date       Open       High        Low  \\\n",
       "0     62eccb780b9367ab254e73d6   3/01/2000  10.435952  10.435952  10.435952   \n",
       "1     62eccb780b9367ab254e73d7   4/01/2000  10.448864  10.448864  10.240284   \n",
       "2     62eccb780b9367ab254e73d8   5/01/2000  10.063487  10.081366  10.001907   \n",
       "3     62eccb780b9367ab254e73d9   6/01/2000  10.081366  10.111163   9.942312   \n",
       "4     62eccb780b9367ab254e73da   7/01/2000  10.031704  10.061501   9.982042   \n",
       "...                        ...         ...        ...        ...        ...   \n",
       "5721  62f22301af5bd29652105878  08/08/2022  21.940001  22.100000  21.840000   \n",
       "5722  62f370c0fe264916b3667e94  09/08/2022  22.000000  22.020000  21.730000   \n",
       "5723  62f6ffd89f1566d03b3f9628  10/08/2022  22.000000  22.290001  21.915001   \n",
       "5724  62f6ffd89f1566d03b3f9629  11/08/2022  22.400000  22.490000  22.270000   \n",
       "5725  62f6ffd89f1566d03b3f962a  12/08/2022  22.400000  22.690001  22.379999   \n",
       "\n",
       "          Close  Adj Close     Volume   RBA  FED    CPI  \n",
       "0     10.435952   3.437588        0.0  5.00  5.5   69.7  \n",
       "1     10.240284   3.373133  2324971.0  5.00  5.5   69.7  \n",
       "2     10.051568   3.310971  2456811.0  5.00  5.5   69.7  \n",
       "3     10.031704   3.304429  4354261.0  5.00  5.5   69.7  \n",
       "4     10.031704   3.304429  2360114.0  5.00  5.5   69.7  \n",
       "...         ...        ...        ...   ...  ...    ...  \n",
       "5721  22.070000  22.070000  3955084.0  1.85  2.5  125.0  \n",
       "5722  21.900000  21.900000  6709172.0  1.85  2.5  125.0  \n",
       "5723  22.200001  22.200001  6487316.0  1.85  2.5  125.0  \n",
       "5724  22.480000  22.480000  5243205.0  1.85  2.5  125.0  \n",
       "5725  22.660000  22.660000  5774544.0  1.85  2.5  125.0  \n",
       "\n",
       "[5726 rows x 11 columns]>"
      ]
     },
     "execution_count": 4,
     "metadata": {},
     "output_type": "execute_result"
    }
   ],
   "source": [
    "# Connect to MongoDb\n",
    "from pymongo import MongoClient\n",
    "mongoClient = MongoClient()\n",
    "db = mongoClient.sharesDB\n",
    "\n",
    "df_mongo = pd.DataFrame(list(db.wbc.find()))\n",
    "last_val = df_mongo.iloc[-1:].values\n",
    "last_date = last_val[0][1]\n",
    "last_close = last_val[0][5]\n",
    "# print(last_val)\n",
    "print(last_date,last_close)\n",
    "df_mongo.tail"
   ]
  },
  {
   "cell_type": "markdown",
   "metadata": {},
   "source": [
    "# Use `RBA`,`FED` and `CPI` for the X values"
   ]
  },
  {
   "cell_type": "code",
   "execution_count": 5,
   "metadata": {},
   "outputs": [
    {
     "name": "stdout",
     "output_type": "stream",
     "text": [
      "(5726, 3) (5726, 1)\n"
     ]
    }
   ],
   "source": [
    "X = df_mongo[[\"RBA\",\"FED\",\"CPI\"]]\n",
    "y = df_mongo[\"Close\"].values.reshape(-1, 1)\n",
    "print(X.shape, y.shape)"
   ]
  },
  {
   "cell_type": "code",
   "execution_count": 6,
   "metadata": {},
   "outputs": [
    {
     "data": {
      "text/html": [
       "<div>\n",
       "<style scoped>\n",
       "    .dataframe tbody tr th:only-of-type {\n",
       "        vertical-align: middle;\n",
       "    }\n",
       "\n",
       "    .dataframe tbody tr th {\n",
       "        vertical-align: top;\n",
       "    }\n",
       "\n",
       "    .dataframe thead th {\n",
       "        text-align: right;\n",
       "    }\n",
       "</style>\n",
       "<table border=\"1\" class=\"dataframe\">\n",
       "  <thead>\n",
       "    <tr style=\"text-align: right;\">\n",
       "      <th></th>\n",
       "      <th>RBA</th>\n",
       "      <th>FED</th>\n",
       "      <th>CPI</th>\n",
       "    </tr>\n",
       "  </thead>\n",
       "  <tbody>\n",
       "    <tr>\n",
       "      <th>0</th>\n",
       "      <td>5.00</td>\n",
       "      <td>5.5</td>\n",
       "      <td>69.7</td>\n",
       "    </tr>\n",
       "    <tr>\n",
       "      <th>1</th>\n",
       "      <td>5.00</td>\n",
       "      <td>5.5</td>\n",
       "      <td>69.7</td>\n",
       "    </tr>\n",
       "    <tr>\n",
       "      <th>2</th>\n",
       "      <td>5.00</td>\n",
       "      <td>5.5</td>\n",
       "      <td>69.7</td>\n",
       "    </tr>\n",
       "    <tr>\n",
       "      <th>3</th>\n",
       "      <td>5.00</td>\n",
       "      <td>5.5</td>\n",
       "      <td>69.7</td>\n",
       "    </tr>\n",
       "    <tr>\n",
       "      <th>4</th>\n",
       "      <td>5.00</td>\n",
       "      <td>5.5</td>\n",
       "      <td>69.7</td>\n",
       "    </tr>\n",
       "    <tr>\n",
       "      <th>...</th>\n",
       "      <td>...</td>\n",
       "      <td>...</td>\n",
       "      <td>...</td>\n",
       "    </tr>\n",
       "    <tr>\n",
       "      <th>5721</th>\n",
       "      <td>1.85</td>\n",
       "      <td>2.5</td>\n",
       "      <td>125.0</td>\n",
       "    </tr>\n",
       "    <tr>\n",
       "      <th>5722</th>\n",
       "      <td>1.85</td>\n",
       "      <td>2.5</td>\n",
       "      <td>125.0</td>\n",
       "    </tr>\n",
       "    <tr>\n",
       "      <th>5723</th>\n",
       "      <td>1.85</td>\n",
       "      <td>2.5</td>\n",
       "      <td>125.0</td>\n",
       "    </tr>\n",
       "    <tr>\n",
       "      <th>5724</th>\n",
       "      <td>1.85</td>\n",
       "      <td>2.5</td>\n",
       "      <td>125.0</td>\n",
       "    </tr>\n",
       "    <tr>\n",
       "      <th>5725</th>\n",
       "      <td>1.85</td>\n",
       "      <td>2.5</td>\n",
       "      <td>125.0</td>\n",
       "    </tr>\n",
       "  </tbody>\n",
       "</table>\n",
       "<p>5726 rows × 3 columns</p>\n",
       "</div>"
      ],
      "text/plain": [
       "       RBA  FED    CPI\n",
       "0     5.00  5.5   69.7\n",
       "1     5.00  5.5   69.7\n",
       "2     5.00  5.5   69.7\n",
       "3     5.00  5.5   69.7\n",
       "4     5.00  5.5   69.7\n",
       "...    ...  ...    ...\n",
       "5721  1.85  2.5  125.0\n",
       "5722  1.85  2.5  125.0\n",
       "5723  1.85  2.5  125.0\n",
       "5724  1.85  2.5  125.0\n",
       "5725  1.85  2.5  125.0\n",
       "\n",
       "[5726 rows x 3 columns]"
      ]
     },
     "execution_count": 6,
     "metadata": {},
     "output_type": "execute_result"
    }
   ],
   "source": [
    "X"
   ]
  },
  {
   "cell_type": "markdown",
   "metadata": {},
   "source": [
    "# Create a Train Test Split"
   ]
  },
  {
   "cell_type": "code",
   "execution_count": 7,
   "metadata": {},
   "outputs": [
    {
     "name": "stdout",
     "output_type": "stream",
     "text": [
      "(4294, 3) (4294, 1)\n",
      "(1432, 3) (1432, 1)\n",
      "<bound method DataFrame.info of        RBA   FED    CPI\n",
      "4496  1.50  1.25  112.1\n",
      "4995  1.00  2.00  115.4\n",
      "5416  0.10  1.25  118.8\n",
      "1822  6.25  5.25   86.6\n",
      "99    6.00  6.50   70.2\n",
      "...    ...   ...    ...\n",
      "905   4.75  1.00   79.1\n",
      "5192  0.25  1.25  116.2\n",
      "3980  2.00  0.25  108.0\n",
      "235   6.25  6.50   73.1\n",
      "5157  0.25  1.25  114.4\n",
      "\n",
      "[4294 rows x 3 columns]>\n"
     ]
    }
   ],
   "source": [
    "# Use train_test_split to create training and testing data\n",
    "from sklearn.model_selection import train_test_split\n",
    "\n",
    "X_train, X_test, y_train, y_test = train_test_split(X, y, random_state=1)\n",
    "print(X_train.shape, y_train.shape)\n",
    "print(X_test.shape, y_test.shape)\n",
    "print(X_train.info)"
   ]
  },
  {
   "cell_type": "code",
   "execution_count": 8,
   "metadata": {},
   "outputs": [],
   "source": [
    "from sklearn.linear_model import LinearRegression\n",
    "model = LinearRegression()"
   ]
  },
  {
   "cell_type": "markdown",
   "metadata": {},
   "source": [
    "# Fit the model"
   ]
  },
  {
   "cell_type": "code",
   "execution_count": 9,
   "metadata": {},
   "outputs": [
    {
     "name": "stdout",
     "output_type": "stream",
     "text": [
      "Training Score: 0.5103232878441908\n",
      "Testing Score: 0.5078389048977525\n"
     ]
    }
   ],
   "source": [
    "# Fit the model to the training data and calculate the scores for the training and testing data\n",
    "\n",
    "### BEGIN SOLUTION\n",
    "model.fit(X_train, y_train)\n",
    "training_score = model.score(X_train, y_train)\n",
    "testing_score = model.score(X_test, y_test)\n",
    "\n",
    "### END SOLUTION \n",
    "\n",
    "print(f\"Training Score: {training_score}\")\n",
    "print(f\"Testing Score: {testing_score}\")"
   ]
  },
  {
   "cell_type": "code",
   "execution_count": 10,
   "metadata": {},
   "outputs": [],
   "source": [
    "# X_train = X_train.reshape((X_train.shape[0], 1))"
   ]
  },
  {
   "cell_type": "code",
   "execution_count": 11,
   "metadata": {},
   "outputs": [],
   "source": [
    "#Linear Regression Residual showing difference actual vs predicted\n",
    "# residual = pd.DataFrame([model.predict(X_train),y_train,(model.predict(X_train)-y_train)])\n",
    "# residual.tail"
   ]
  },
  {
   "cell_type": "code",
   "execution_count": 12,
   "metadata": {},
   "outputs": [
    {
     "data": {
      "text/plain": [
       "Text(0.5, 1.0, 'Residual Plot')"
      ]
     },
     "execution_count": 12,
     "metadata": {},
     "output_type": "execute_result"
    },
    {
     "data": {
      "image/png": "[encoded data removed]",
      "text/plain": [
       "<Figure size 432x288 with 1 Axes>"
      ]
     },
     "metadata": {
      "needs_background": "light"
     },
     "output_type": "display_data"
    }
   ],
   "source": [
    "# Plot the Residuals for the Training and Testing data\n",
    "plt.scatter(model.predict(X_train), model.predict(X_train) - y_train, c=\"blue\", label=\"Training Data\")\n",
    "plt.scatter(model.predict(X_test), model.predict(X_test) - y_test, c=\"orange\", label=\"Testing Data\")\n",
    "plt.legend()\n",
    "plt.hlines(y=0, xmin=y.min(), xmax=y.max())\n",
    "plt.title(\"Residual Plot\")"
   ]
  },
  {
   "cell_type": "code",
   "execution_count": 13,
   "metadata": {},
   "outputs": [],
   "source": [
    "# Linear Regression: X_test predictions to variable\n",
    "predictions = model.predict(X_test)"
   ]
  },
  {
   "cell_type": "markdown",
   "metadata": {},
   "source": [
    "#### R2 Score is a very popular metric used for evaluating the performance of linear regression models. Where R2 Score is between 0 and 1, the closer to 1, the better the regression fit.\n",
    "#### Use MSE or MAE when comparing two or more models, the lower the value of MSE or MAE, the better. MSE (Mean Square Error): Uses Euclidean distance to calculate the error. MSE gives the magnitude of the error only."
   ]
  },
  {
   "cell_type": "code",
   "execution_count": 14,
   "metadata": {},
   "outputs": [
    {
     "name": "stdout",
     "output_type": "stream",
     "text": [
      "MSE: 20.80608355346185, R2: 0.5078389048977525\n"
     ]
    }
   ],
   "source": [
    "# Used X_test, y_test, and model.predict(X_test) to calculate MSE and R2\n",
    "\n",
    "### BEGIN SOLUTION\n",
    "from sklearn.metrics import mean_squared_error\n",
    "\n",
    "MSE = mean_squared_error(y_test, predictions)\n",
    "r2 = model.score(X_test, y_test)\n",
    "### END SOLUTION\n",
    "\n",
    "print(f\"MSE: {MSE}, R2: {r2}\")"
   ]
  },
  {
   "cell_type": "markdown",
   "metadata": {},
   "source": [
    "#### Lasso regression imposes a constraint on the model parameters that causes regression coefficients for some variables to shrink toward zero. It comes with a parameter, alpha , and the higher the alpha , the more feature coefficients are zero. When alpha is 0 , Lasso regression produces the same coefficients as a linear regression."
   ]
  },
  {
   "cell_type": "code",
   "execution_count": 15,
   "metadata": {},
   "outputs": [
    {
     "name": "stdout",
     "output_type": "stream",
     "text": [
      "MSE: 20.807835494917263, R2: 0.5077974632961635\n"
     ]
    }
   ],
   "source": [
    "# LASSO model\n",
    "# Note: Used an alpha of .01 when creating the model for this activity\n",
    "from sklearn.linear_model import Lasso\n",
    "\n",
    "### BEGIN SOLUTION\n",
    "lasso = Lasso(alpha=.01).fit(X_train, y_train)\n",
    "\n",
    "predictions = lasso.predict(X_test)\n",
    "\n",
    "MSE = mean_squared_error(y_test, predictions)\n",
    "r2 = lasso.score(X_test, y_test)\n",
    "### END SOLUTION\n",
    "\n",
    "print(f\"MSE: {MSE}, R2: {r2}\")"
   ]
  },
  {
   "cell_type": "code",
   "execution_count": 16,
   "metadata": {},
   "outputs": [
    {
     "name": "stdout",
     "output_type": "stream",
     "text": [
      "MSE: 20.80608412097467, R2: 0.5078388914734225\n"
     ]
    }
   ],
   "source": [
    "# Ridge model\n",
    "# Note: Used an alpha of .01 when creating the model for this activity\n",
    "from sklearn.linear_model import Ridge\n",
    "\n",
    "### BEGIN SOLUTION\n",
    "ridge = Ridge(alpha=.01).fit(X_train, y_train)\n",
    "\n",
    "predictions = ridge.predict(X_test)\n",
    "\n",
    "MSE = mean_squared_error(y_test, predictions)\n",
    "r2 = ridge.score(X_test, y_test)\n",
    "### END SOLUTION\n",
    "\n",
    "print(f\"MSE: {MSE}, R2: {r2}\")"
   ]
  },
  {
   "cell_type": "code",
   "execution_count": 17,
   "metadata": {},
   "outputs": [
    {
     "name": "stdout",
     "output_type": "stream",
     "text": [
      "MSE: 20.80830158708169, R2: 0.5077864380386\n"
     ]
    }
   ],
   "source": [
    "# ElasticNet model\n",
    "# Note: Use an alpha of .01 when creating the model for this activity\n",
    "from sklearn.linear_model import ElasticNet\n",
    "\n",
    "### BEGIN SOLUTION\n",
    "elasticnet = ElasticNet(alpha=.01).fit(X_train, y_train)\n",
    "\n",
    "predictions = elasticnet.predict(X_test)\n",
    "\n",
    "MSE = mean_squared_error(y_test, predictions)\n",
    "r2 = elasticnet.score(X_test, y_test)\n",
    "### END SOLUTION\n",
    "\n",
    "print(f\"MSE: {MSE}, R2: {r2}\")"
   ]
  },
  {
   "cell_type": "markdown",
   "metadata": {},
   "source": [
    "# Hyperparameter Tuning"
   ]
  },
  {
   "cell_type": "code",
   "execution_count": 18,
   "metadata": {},
   "outputs": [
    {
     "data": {
      "text/plain": [
       "(5726,)"
      ]
     },
     "execution_count": 18,
     "metadata": {},
     "output_type": "execute_result"
    }
   ],
   "source": [
    "y_target = df_mongo[\"Close\"]\n",
    "y_target.shape"
   ]
  },
  {
   "cell_type": "code",
   "execution_count": 19,
   "metadata": {},
   "outputs": [
    {
     "name": "stdout",
     "output_type": "stream",
     "text": [
      "(4294, 3) (4294,)\n",
      "(1432, 3) (1432,)\n"
     ]
    }
   ],
   "source": [
    "# Use train_test_split to create training and testing data\n",
    "from sklearn.model_selection import train_test_split\n",
    "\n",
    "X_train, X_test, y_train, y_test = train_test_split(X, y_target, random_state=1)\n",
    "print(X_train.shape, y_train.shape)\n",
    "print(X_test.shape, y_test.shape)"
   ]
  },
  {
   "cell_type": "code",
   "execution_count": 20,
   "metadata": {},
   "outputs": [
    {
     "name": "stdout",
     "output_type": "stream",
     "text": [
      "(4294, 3) (4294,)\n",
      "(1432, 3) (1432,)\n"
     ]
    }
   ],
   "source": [
    "print(X_train.shape,y_train.shape)\n",
    "print(X_test.shape,y_test.shape)"
   ]
  },
  {
   "cell_type": "markdown",
   "metadata": {},
   "source": [
    "#### GridSearchCV and RandomizedSearchCV are techniques to evaluate models for a given hyperparameter vector using cross-validation, hence the “CV” suffix of the class name.\n",
    "#### We are executing many models together is to find which machine learning model works best for this particular dataset."
   ]
  },
  {
   "cell_type": "code",
   "execution_count": 21,
   "metadata": {},
   "outputs": [],
   "source": [
    "from sklearn.linear_model import LinearRegression, Ridge,Lasso\n",
    "from sklearn.neighbors import KNeighborsRegressor\n",
    "from sklearn.ensemble import GradientBoostingRegressor\n",
    "from sklearn.ensemble import ExtraTreesRegressor, RandomForestRegressor\n",
    "from sklearn.tree import DecisionTreeRegressor"
   ]
  },
  {
   "cell_type": "code",
   "execution_count": 22,
   "metadata": {},
   "outputs": [],
   "source": [
    "regressors = [\n",
    "    RandomForestRegressor(),\n",
    "    DecisionTreeRegressor(),\n",
    "    KNeighborsRegressor(),\n",
    "    GradientBoostingRegressor(),\n",
    "    KNeighborsRegressor(),\n",
    "    ExtraTreesRegressor(),\n",
    "    LinearRegression(),\n",
    "    Lasso(),\n",
    "    Ridge()\n",
    "]"
   ]
  },
  {
   "cell_type": "code",
   "execution_count": 23,
   "metadata": {},
   "outputs": [
    {
     "name": "stdout",
     "output_type": "stream",
     "text": [
      "RandomForestRegressor()\n",
      "\tTraining time: 0.241s\n",
      "\tPrediction time: 0.023s\n",
      "\tExplained variance: 0.979354715506385\n",
      "\tMean absolute error: 0.6781652184248806\n",
      "\tR2 score: 0.9793289564180208\n",
      "\n",
      "DecisionTreeRegressor()\n",
      "\tTraining time: 0.003s\n",
      "\tPrediction time: 0.001s\n",
      "\tExplained variance: 0.9793710628981334\n",
      "\tMean absolute error: 0.677500423890599\n",
      "\tR2 score: 0.9793439995643506\n",
      "\n",
      "KNeighborsRegressor()\n",
      "\tTraining time: 0.004s\n",
      "\tPrediction time: 0.006s\n",
      "\tExplained variance: 0.9752188202554671\n",
      "\tMean absolute error: 0.7215408199332467\n",
      "\tR2 score: 0.9750621950115101\n",
      "\n",
      "GradientBoostingRegressor()\n",
      "\tTraining time: 0.128s\n",
      "\tPrediction time: 0.003s\n",
      "\tExplained variance: 0.9712775926719357\n",
      "\tMean absolute error: 0.8346786162256248\n",
      "\tR2 score: 0.9712381671915724\n",
      "\n",
      "KNeighborsRegressor()\n",
      "\tTraining time: 0.004s\n",
      "\tPrediction time: 0.006s\n",
      "\tExplained variance: 0.9752188202554671\n",
      "\tMean absolute error: 0.7215408199332467\n",
      "\tR2 score: 0.9750621950115101\n",
      "\n",
      "ExtraTreesRegressor()\n",
      "\tTraining time: 0.173s\n",
      "\tPrediction time: 0.023s\n",
      "\tExplained variance: 0.9793684689087119\n",
      "\tMean absolute error: 0.6775315282142044\n",
      "\tR2 score: 0.9793426328813244\n",
      "\n",
      "LinearRegression()\n",
      "\tTraining time: 0.002s\n",
      "\tPrediction time: 0.001s\n",
      "\tExplained variance: 0.5078431047795919\n",
      "\tMean absolute error: 3.642622272309938\n",
      "\tR2 score: 0.5078389048977525\n",
      "\n",
      "Lasso()\n",
      "\tTraining time: 0.002s\n",
      "\tPrediction time: 0.001s\n",
      "\tExplained variance: 0.46453347853982707\n",
      "\tMean absolute error: 3.804807104684051\n",
      "\tR2 score: 0.4644872215664789\n",
      "\n",
      "Ridge()\n",
      "\tTraining time: 0.002s\n",
      "\tPrediction time: 0.003s\n",
      "\tExplained variance: 0.5078417638612298\n",
      "\tMean absolute error: 3.642642962817495\n",
      "\tR2 score: 0.5078375591482601\n",
      "\n"
     ]
    }
   ],
   "source": [
    "from time import time\n",
    "from sklearn.metrics import explained_variance_score,mean_absolute_error,r2_score\n",
    "\n",
    "head = 10\n",
    "for model in regressors[:head]:\n",
    "    start = time()\n",
    "    model.fit(X_train, y_train)\n",
    "    train_time = time() - start\n",
    "    start = time()\n",
    "    y_pred = model.predict(X_test)\n",
    "    predict_time = time()-start    \n",
    "    print(model)\n",
    "    print(\"\\tTraining time: %0.3fs\" % train_time)\n",
    "    print(\"\\tPrediction time: %0.3fs\" % predict_time)\n",
    "    print(\"\\tExplained variance:\", explained_variance_score(y_test, y_pred))\n",
    "    print(\"\\tMean absolute error:\", mean_absolute_error(y_test, y_pred))\n",
    "    print(\"\\tR2 score:\", r2_score(y_test, y_pred))\n",
    "    print()"
   ]
  },
  {
   "cell_type": "markdown",
   "metadata": {},
   "source": [
    "#### By comparing these results, we can quickly see that RandomForestRegressor and DecisionTreeRegressor are the best models for our data\n",
    "#### Machine learning models have parameters, which are the internal coefficients set by training or optimizing the model on a training dataset.\n",
    "#### Parameters are different from hyperparameters. Parameters are learned automatically; hyperparameters are set manually to help guide the learning process."
   ]
  },
  {
   "cell_type": "code",
   "execution_count": 24,
   "metadata": {},
   "outputs": [
    {
     "name": "stdout",
     "output_type": "stream",
     "text": [
      "Parameters currently in use:\n",
      "\n",
      "{'bootstrap': True,\n",
      " 'ccp_alpha': 0.0,\n",
      " 'criterion': 'mse',\n",
      " 'max_depth': None,\n",
      " 'max_features': 'auto',\n",
      " 'max_leaf_nodes': None,\n",
      " 'max_samples': None,\n",
      " 'min_impurity_decrease': 0.0,\n",
      " 'min_impurity_split': None,\n",
      " 'min_samples_leaf': 1,\n",
      " 'min_samples_split': 2,\n",
      " 'min_weight_fraction_leaf': 0.0,\n",
      " 'n_estimators': 100,\n",
      " 'n_jobs': None,\n",
      " 'oob_score': False,\n",
      " 'random_state': 42,\n",
      " 'verbose': 0,\n",
      " 'warm_start': False}\n"
     ]
    }
   ],
   "source": [
    "from sklearn.ensemble import RandomForestRegressor\n",
    "rf = RandomForestRegressor(random_state = 42)\n",
    "from pprint import pprint\n",
    "# Look at parameters used by our current forest\n",
    "print('Parameters currently in use:\\n')\n",
    "pprint(rf.get_params())"
   ]
  },
  {
   "cell_type": "code",
   "execution_count": 25,
   "metadata": {},
   "outputs": [
    {
     "name": "stdout",
     "output_type": "stream",
     "text": [
      "{'bootstrap': [True, False],\n",
      " 'max_depth': [10, 20, 30, 40, 50, 60, 70, 80, 90, 100, 110, None],\n",
      " 'max_features': ['auto', 'sqrt'],\n",
      " 'min_samples_leaf': [1, 2, 4],\n",
      " 'min_samples_split': [2, 5, 10],\n",
      " 'n_estimators': [200, 400, 600, 800, 1000, 1200, 1400, 1600, 1800, 2000]}\n"
     ]
    }
   ],
   "source": [
    "from sklearn.model_selection import RandomizedSearchCV\n",
    "# Number of trees in random forest\n",
    "n_estimators = [int(x) for x in np.linspace(start = 200, stop = 2000, num = 10)]\n",
    "# Number of features to consider at every split\n",
    "max_features = ['auto', 'sqrt']\n",
    "# Maximum number of levels in tree\n",
    "max_depth = [int(x) for x in np.linspace(10, 110, num = 11)]\n",
    "max_depth.append(None)\n",
    "# Minimum number of samples required to split a node\n",
    "min_samples_split = [2, 5, 10]\n",
    "# Minimum number of samples required at each leaf node\n",
    "min_samples_leaf = [1, 2, 4]\n",
    "# Method of selecting samples for training each tree\n",
    "bootstrap = [True, False]\n",
    "# Create the random grid\n",
    "random_grid = {'n_estimators': n_estimators,\n",
    "               'max_features': max_features,\n",
    "               'max_depth': max_depth,\n",
    "               'min_samples_split': min_samples_split,\n",
    "               'min_samples_leaf': min_samples_leaf,\n",
    "               'bootstrap': bootstrap}\n",
    "pprint(random_grid)"
   ]
  },
  {
   "cell_type": "code",
   "execution_count": 26,
   "metadata": {},
   "outputs": [
    {
     "name": "stdout",
     "output_type": "stream",
     "text": [
      "Fitting 3 folds for each of 100 candidates, totalling 300 fits\n"
     ]
    },
    {
     "data": {
      "text/plain": [
       "RandomizedSearchCV(cv=3, estimator=RandomForestRegressor(), n_iter=100,\n",
       "                   n_jobs=-1,\n",
       "                   param_distributions={'bootstrap': [True, False],\n",
       "                                        'max_depth': [10, 20, 30, 40, 50, 60,\n",
       "                                                      70, 80, 90, 100, 110,\n",
       "                                                      None],\n",
       "                                        'max_features': ['auto', 'sqrt'],\n",
       "                                        'min_samples_leaf': [1, 2, 4],\n",
       "                                        'min_samples_split': [2, 5, 10],\n",
       "                                        'n_estimators': [200, 400, 600, 800,\n",
       "                                                         1000, 1200, 1400, 1600,\n",
       "                                                         1800, 2000]},\n",
       "                   random_state=42, verbose=2)"
      ]
     },
     "execution_count": 26,
     "metadata": {},
     "output_type": "execute_result"
    }
   ],
   "source": [
    "# Use the random grid to search for best hyperparameters\n",
    "# First create the base model to tune\n",
    "rf = RandomForestRegressor()\n",
    "# Random search of parameters, using 3 fold cross validation, \n",
    "# search across 100 different combinations, and use all available cores\n",
    "rf_random = RandomizedSearchCV(estimator = rf, param_distributions = random_grid, n_iter = 100, cv = 3, verbose=2, random_state=42, n_jobs = -1)\n",
    "# Fit the random search model\n",
    "rf_random.fit(X_train, y_train)"
   ]
  },
  {
   "cell_type": "code",
   "execution_count": 27,
   "metadata": {},
   "outputs": [
    {
     "data": {
      "text/plain": [
       "{'n_estimators': 1600,\n",
       " 'min_samples_split': 5,\n",
       " 'min_samples_leaf': 1,\n",
       " 'max_features': 'sqrt',\n",
       " 'max_depth': 70,\n",
       " 'bootstrap': False}"
      ]
     },
     "execution_count": 27,
     "metadata": {},
     "output_type": "execute_result"
    }
   ],
   "source": [
    "rf_random.best_params_"
   ]
  },
  {
   "cell_type": "code",
   "execution_count": 28,
   "metadata": {},
   "outputs": [
    {
     "name": "stdout",
     "output_type": "stream",
     "text": [
      "Model Performance\n",
      "Average Error: 0.6791 degrees.\n",
      "Accuracy = 97.02%.\n",
      "Model Performance\n",
      "Average Error: 0.6773 degrees.\n",
      "Accuracy = 97.03%.\n",
      "Improvement of 0.01%.\n"
     ]
    }
   ],
   "source": [
    "def evaluate(model, X_test, y_test):\n",
    "    predictions = model.predict(X_test)\n",
    "    errors = abs(predictions - y_test)\n",
    "    mape = 100 * np.mean(errors / y_test)\n",
    "    accuracy = 100 - mape\n",
    "    print('Model Performance')\n",
    "    print('Average Error: {:0.4f} degrees.'.format(np.mean(errors)))\n",
    "    print('Accuracy = {:0.2f}%.'.format(accuracy))\n",
    "    return accuracy\n",
    "base_model = RandomForestRegressor(n_estimators = 10, random_state = 42)\n",
    "base_model.fit(X_train, y_train)\n",
    "base_accuracy = evaluate(base_model, X_test, y_test)\n",
    "\n",
    "best_random = rf_random.best_estimator_\n",
    "random_accuracy = evaluate(best_random, X_test, y_test)\n",
    "\n",
    "print('Improvement of {:0.2f}%.'.format( 100 * (random_accuracy - base_accuracy) / base_accuracy))"
   ]
  },
  {
   "cell_type": "code",
   "execution_count": 29,
   "metadata": {},
   "outputs": [],
   "source": [
    "# Hyperparameter tuning has not improved accuracy significantly"
   ]
  },
  {
   "cell_type": "code",
   "execution_count": 30,
   "metadata": {},
   "outputs": [
    {
     "data": {
      "text/plain": [
       "array([23.19247069, 25.48796332, 33.07768605, ..., 16.19918445,\n",
       "       13.19000146, 22.05253227])"
      ]
     },
     "execution_count": 30,
     "metadata": {},
     "output_type": "execute_result"
    }
   ],
   "source": [
    "model_rfr = RandomForestRegressor()\n",
    "model_rfr.fit(X_train, y_train)\n",
    "y_test_pred = model_rfr.predict(X_test)\n",
    "y_test_pred"
   ]
  },
  {
   "cell_type": "code",
   "execution_count": 31,
   "metadata": {},
   "outputs": [
    {
     "data": {
      "text/plain": [
       "<bound method NDFrame.tail of         0          1          2          3          4          5     \\\n",
       "0  32.321928  29.674561  25.718166  24.554961  11.955733  31.106792   \n",
       "1  31.860001  29.889999  26.200001  25.575878  11.789735  30.313623   \n",
       "2   0.461927  -0.215438  -0.481835  -1.020917   0.165998   0.793169   \n",
       "\n",
       "        6          7          8          9     ...       4284       4285  \\\n",
       "0  28.905664  12.848556  15.945019  17.254342  ...  29.899340  11.851979   \n",
       "1  29.190001  12.907128  16.289103  17.202883  ...  30.030001  12.025132   \n",
       "2  -0.284337  -0.058572  -0.344084   0.051459  ...  -0.130661  -0.173153   \n",
       "\n",
       "        4286       4287       4288       4289       4290       4291  \\\n",
       "0  25.493737  22.972965  22.053998  16.199184  17.525828  31.829517   \n",
       "1  24.389999  21.374481  21.165901  16.348698  18.160000  30.899635   \n",
       "2   1.103738   1.598484   0.888097  -0.149514  -0.634172   0.929882   \n",
       "\n",
       "        4292       4293  \n",
       "0  13.296188  16.516643  \n",
       "1  13.905332  14.910000  \n",
       "2  -0.609144   1.606643  \n",
       "\n",
       "[3 rows x 4294 columns]>"
      ]
     },
     "execution_count": 31,
     "metadata": {},
     "output_type": "execute_result"
    }
   ],
   "source": [
    "#RandomForestRegressor Residual showing difference actual vs predicted\n",
    "residual_dtr = pd.DataFrame([model_rfr.predict(X_train),y_train,(model_rfr.predict(X_train)-y_train)])\n",
    "residual_dtr.tail"
   ]
  },
  {
   "cell_type": "code",
   "execution_count": 32,
   "metadata": {},
   "outputs": [
    {
     "data": {
      "image/png": "[encoded data removed]",
      "text/plain": [
       "<Figure size 432x288 with 1 Axes>"
      ]
     },
     "metadata": {
      "needs_background": "light"
     },
     "output_type": "display_data"
    }
   ],
   "source": [
    "# Make predictions using fitted model\n",
    "predictions1 = model_rfr.predict(X_test)\n",
    "\n",
    "# Plotted the difference between the model predicted values and actual y values, versus the model predicted values\n",
    "plt.scatter(model_rfr.predict(X_train), y_train - model_rfr.predict(X_train), c=\"blue\", label=\"Training Data\")\n",
    "plt.scatter(model_rfr.predict(X_test), y_test - model_rfr.predict(X_test), c=\"orange\", label=\"Testing Data\")\n",
    "plt.legend()\n",
    "plt.hlines(y=0, xmin=y_test.min(), xmax=y_test.max())\n",
    "plt.title(\"Residual Plot\")\n",
    "plt.show()"
   ]
  },
  {
   "cell_type": "markdown",
   "metadata": {},
   "source": [
    "# Save the Model"
   ]
  },
  {
   "cell_type": "code",
   "execution_count": 33,
   "metadata": {},
   "outputs": [],
   "source": [
    "import pickle\n",
    "filename = '../../static/wbc_model_rfr.sav'\n",
    "pickle.dump(model, open(filename, 'wb'))\n",
    "model_in_rfr = pickle.load(open(filename, 'rb'))"
   ]
  },
  {
   "cell_type": "code",
   "execution_count": 34,
   "metadata": {},
   "outputs": [],
   "source": [
    "# from joblib import dump,load\n",
    "# model_in_rfr = load('WBC_model_rfr.sav')"
   ]
  },
  {
   "cell_type": "code",
   "execution_count": 35,
   "metadata": {},
   "outputs": [
    {
     "name": "stdout",
     "output_type": "stream",
     "text": [
      "    RBA   FED    CPI  Prediction\n",
      "0  0.85  1.75  125.0       31.55\n",
      "    RBA   FED     CPI  Prediction\n",
      "0  0.85  1.75  125.00       31.55\n",
      "1  0.86  1.76  125.01       31.56\n",
      "    RBA   FED     CPI  Prediction\n",
      "0  0.85  1.75  125.00       31.55\n",
      "1  0.86  1.76  125.01       31.56\n",
      "2  0.87  1.77  125.02       31.58\n",
      "    RBA   FED     CPI  Prediction\n",
      "0  0.85  1.75  125.00       31.55\n",
      "1  0.86  1.76  125.01       31.56\n",
      "2  0.87  1.77  125.02       31.58\n",
      "3  0.88  1.78  125.03       31.60\n",
      "    RBA   FED     CPI  Prediction\n",
      "0  0.85  1.75  125.00       31.55\n",
      "1  0.86  1.76  125.01       31.56\n",
      "2  0.87  1.77  125.02       31.58\n",
      "3  0.88  1.78  125.03       31.60\n",
      "4  0.89  1.79  125.04       31.61\n",
      "    RBA   FED     CPI  Prediction\n",
      "0  0.85  1.75  125.00       31.55\n",
      "1  0.86  1.76  125.01       31.56\n",
      "2  0.87  1.77  125.02       31.58\n",
      "3  0.88  1.78  125.03       31.60\n",
      "4  0.89  1.79  125.04       31.61\n",
      "5  0.90  1.80  125.05       31.63\n",
      "    RBA   FED     CPI  Prediction\n",
      "0  0.85  1.75  125.00       31.55\n",
      "1  0.86  1.76  125.01       31.56\n",
      "2  0.87  1.77  125.02       31.58\n",
      "3  0.88  1.78  125.03       31.60\n",
      "4  0.89  1.79  125.04       31.61\n",
      "5  0.90  1.80  125.05       31.63\n",
      "6  0.91  1.81  125.06       31.64\n",
      "    RBA   FED     CPI  Prediction\n",
      "0  0.85  1.75  125.00       31.55\n",
      "1  0.86  1.76  125.01       31.56\n",
      "2  0.87  1.77  125.02       31.58\n",
      "3  0.88  1.78  125.03       31.60\n",
      "4  0.89  1.79  125.04       31.61\n",
      "5  0.90  1.80  125.05       31.63\n",
      "6  0.91  1.81  125.06       31.64\n",
      "7  0.92  1.82  125.07       31.66\n",
      "    RBA   FED     CPI  Prediction\n",
      "0  0.85  1.75  125.00       31.55\n",
      "1  0.86  1.76  125.01       31.56\n",
      "2  0.87  1.77  125.02       31.58\n",
      "3  0.88  1.78  125.03       31.60\n",
      "4  0.89  1.79  125.04       31.61\n",
      "5  0.90  1.80  125.05       31.63\n",
      "6  0.91  1.81  125.06       31.64\n",
      "7  0.92  1.82  125.07       31.66\n",
      "8  0.93  1.83  125.08       31.67\n",
      "    RBA   FED     CPI  Prediction\n",
      "0  0.85  1.75  125.00       31.55\n",
      "1  0.86  1.76  125.01       31.56\n",
      "2  0.87  1.77  125.02       31.58\n",
      "3  0.88  1.78  125.03       31.60\n",
      "4  0.89  1.79  125.04       31.61\n",
      "5  0.90  1.80  125.05       31.63\n",
      "6  0.91  1.81  125.06       31.64\n",
      "7  0.92  1.82  125.07       31.66\n",
      "8  0.93  1.83  125.08       31.67\n",
      "9  0.94  1.84  125.09       31.69\n",
      "     RBA   FED     CPI  Prediction\n",
      "0   0.85  1.75  125.00       31.55\n",
      "1   0.86  1.76  125.01       31.56\n",
      "2   0.87  1.77  125.02       31.58\n",
      "3   0.88  1.78  125.03       31.60\n",
      "4   0.89  1.79  125.04       31.61\n",
      "5   0.90  1.80  125.05       31.63\n",
      "6   0.91  1.81  125.06       31.64\n",
      "7   0.92  1.82  125.07       31.66\n",
      "8   0.93  1.83  125.08       31.67\n",
      "9   0.94  1.84  125.09       31.69\n",
      "10  0.95  1.85  125.10       31.70\n",
      "     RBA   FED     CPI  Prediction\n",
      "0   0.85  1.75  125.00       31.55\n",
      "1   0.86  1.76  125.01       31.56\n",
      "2   0.87  1.77  125.02       31.58\n",
      "3   0.88  1.78  125.03       31.60\n",
      "4   0.89  1.79  125.04       31.61\n",
      "5   0.90  1.80  125.05       31.63\n",
      "6   0.91  1.81  125.06       31.64\n",
      "7   0.92  1.82  125.07       31.66\n",
      "8   0.93  1.83  125.08       31.67\n",
      "9   0.94  1.84  125.09       31.69\n",
      "10  0.95  1.85  125.10       31.70\n",
      "11  0.96  1.86  125.11       31.72\n",
      "     RBA   FED     CPI  Prediction\n",
      "0   0.85  1.75  125.00       31.55\n",
      "1   0.86  1.76  125.01       31.56\n",
      "2   0.87  1.77  125.02       31.58\n",
      "3   0.88  1.78  125.03       31.60\n",
      "4   0.89  1.79  125.04       31.61\n",
      "5   0.90  1.80  125.05       31.63\n",
      "6   0.91  1.81  125.06       31.64\n",
      "7   0.92  1.82  125.07       31.66\n",
      "8   0.93  1.83  125.08       31.67\n",
      "9   0.94  1.84  125.09       31.69\n",
      "10  0.95  1.85  125.10       31.70\n",
      "11  0.96  1.86  125.11       31.72\n",
      "12  0.97  1.87  125.12       31.74\n",
      "     RBA   FED     CPI  Prediction\n",
      "0   0.85  1.75  125.00       31.55\n",
      "1   0.86  1.76  125.01       31.56\n",
      "2   0.87  1.77  125.02       31.58\n",
      "3   0.88  1.78  125.03       31.60\n",
      "4   0.89  1.79  125.04       31.61\n",
      "5   0.90  1.80  125.05       31.63\n",
      "6   0.91  1.81  125.06       31.64\n",
      "7   0.92  1.82  125.07       31.66\n",
      "8   0.93  1.83  125.08       31.67\n",
      "9   0.94  1.84  125.09       31.69\n",
      "10  0.95  1.85  125.10       31.70\n",
      "11  0.96  1.86  125.11       31.72\n",
      "12  0.97  1.87  125.12       31.74\n",
      "13  0.98  1.88  125.13       31.75\n",
      "     RBA   FED     CPI  Prediction\n",
      "0   0.85  1.75  125.00       31.55\n",
      "1   0.86  1.76  125.01       31.56\n",
      "2   0.87  1.77  125.02       31.58\n",
      "3   0.88  1.78  125.03       31.60\n",
      "4   0.89  1.79  125.04       31.61\n",
      "5   0.90  1.80  125.05       31.63\n",
      "6   0.91  1.81  125.06       31.64\n",
      "7   0.92  1.82  125.07       31.66\n",
      "8   0.93  1.83  125.08       31.67\n",
      "9   0.94  1.84  125.09       31.69\n",
      "10  0.95  1.85  125.10       31.70\n",
      "11  0.96  1.86  125.11       31.72\n",
      "12  0.97  1.87  125.12       31.74\n",
      "13  0.98  1.88  125.13       31.75\n",
      "14  0.99  1.89  125.14       31.77\n",
      "     RBA   FED     CPI  Prediction\n",
      "0   0.85  1.75  125.00       31.55\n",
      "1   0.86  1.76  125.01       31.56\n",
      "2   0.87  1.77  125.02       31.58\n",
      "3   0.88  1.78  125.03       31.60\n",
      "4   0.89  1.79  125.04       31.61\n",
      "5   0.90  1.80  125.05       31.63\n",
      "6   0.91  1.81  125.06       31.64\n",
      "7   0.92  1.82  125.07       31.66\n",
      "8   0.93  1.83  125.08       31.67\n",
      "9   0.94  1.84  125.09       31.69\n",
      "10  0.95  1.85  125.10       31.70\n",
      "11  0.96  1.86  125.11       31.72\n",
      "12  0.97  1.87  125.12       31.74\n",
      "13  0.98  1.88  125.13       31.75\n",
      "14  0.99  1.89  125.14       31.77\n",
      "15  1.00  1.90  125.15       31.78\n",
      "     RBA   FED     CPI  Prediction\n",
      "0   0.85  1.75  125.00       31.55\n",
      "1   0.86  1.76  125.01       31.56\n",
      "2   0.87  1.77  125.02       31.58\n",
      "3   0.88  1.78  125.03       31.60\n",
      "4   0.89  1.79  125.04       31.61\n",
      "5   0.90  1.80  125.05       31.63\n",
      "6   0.91  1.81  125.06       31.64\n",
      "7   0.92  1.82  125.07       31.66\n",
      "8   0.93  1.83  125.08       31.67\n",
      "9   0.94  1.84  125.09       31.69\n",
      "10  0.95  1.85  125.10       31.70\n",
      "11  0.96  1.86  125.11       31.72\n",
      "12  0.97  1.87  125.12       31.74\n",
      "13  0.98  1.88  125.13       31.75\n",
      "14  0.99  1.89  125.14       31.77\n",
      "15  1.00  1.90  125.15       31.78\n",
      "16  1.01  1.91  125.16       31.80\n",
      "     RBA   FED     CPI  Prediction\n",
      "0   0.85  1.75  125.00       31.55\n",
      "1   0.86  1.76  125.01       31.56\n",
      "2   0.87  1.77  125.02       31.58\n",
      "3   0.88  1.78  125.03       31.60\n",
      "4   0.89  1.79  125.04       31.61\n",
      "5   0.90  1.80  125.05       31.63\n",
      "6   0.91  1.81  125.06       31.64\n",
      "7   0.92  1.82  125.07       31.66\n",
      "8   0.93  1.83  125.08       31.67\n",
      "9   0.94  1.84  125.09       31.69\n",
      "10  0.95  1.85  125.10       31.70\n",
      "11  0.96  1.86  125.11       31.72\n",
      "12  0.97  1.87  125.12       31.74\n",
      "13  0.98  1.88  125.13       31.75\n",
      "14  0.99  1.89  125.14       31.77\n",
      "15  1.00  1.90  125.15       31.78\n",
      "16  1.01  1.91  125.16       31.80\n",
      "17  1.02  1.92  125.17       31.81\n",
      "     RBA   FED     CPI  Prediction\n",
      "0   0.85  1.75  125.00       31.55\n",
      "1   0.86  1.76  125.01       31.56\n",
      "2   0.87  1.77  125.02       31.58\n",
      "3   0.88  1.78  125.03       31.60\n",
      "4   0.89  1.79  125.04       31.61\n",
      "5   0.90  1.80  125.05       31.63\n",
      "6   0.91  1.81  125.06       31.64\n",
      "7   0.92  1.82  125.07       31.66\n",
      "8   0.93  1.83  125.08       31.67\n",
      "9   0.94  1.84  125.09       31.69\n",
      "10  0.95  1.85  125.10       31.70\n",
      "11  0.96  1.86  125.11       31.72\n",
      "12  0.97  1.87  125.12       31.74\n",
      "13  0.98  1.88  125.13       31.75\n",
      "14  0.99  1.89  125.14       31.77\n",
      "15  1.00  1.90  125.15       31.78\n",
      "16  1.01  1.91  125.16       31.80\n",
      "17  1.02  1.92  125.17       31.81\n",
      "18  1.03  1.93  125.18       31.83\n",
      "     RBA   FED     CPI  Prediction\n",
      "0   0.85  1.75  125.00       31.55\n",
      "1   0.86  1.76  125.01       31.56\n",
      "2   0.87  1.77  125.02       31.58\n",
      "3   0.88  1.78  125.03       31.60\n",
      "4   0.89  1.79  125.04       31.61\n",
      "5   0.90  1.80  125.05       31.63\n",
      "6   0.91  1.81  125.06       31.64\n",
      "7   0.92  1.82  125.07       31.66\n",
      "8   0.93  1.83  125.08       31.67\n",
      "9   0.94  1.84  125.09       31.69\n",
      "10  0.95  1.85  125.10       31.70\n",
      "11  0.96  1.86  125.11       31.72\n",
      "12  0.97  1.87  125.12       31.74\n",
      "13  0.98  1.88  125.13       31.75\n",
      "14  0.99  1.89  125.14       31.77\n",
      "15  1.00  1.90  125.15       31.78\n",
      "16  1.01  1.91  125.16       31.80\n",
      "17  1.02  1.92  125.17       31.81\n",
      "18  1.03  1.93  125.18       31.83\n",
      "19  1.04  1.94  125.19       31.85\n",
      "     RBA   FED     CPI  Prediction\n",
      "0   0.85  1.75  125.00       31.55\n",
      "1   0.86  1.76  125.01       31.56\n",
      "2   0.87  1.77  125.02       31.58\n",
      "3   0.88  1.78  125.03       31.60\n",
      "4   0.89  1.79  125.04       31.61\n",
      "5   0.90  1.80  125.05       31.63\n",
      "6   0.91  1.81  125.06       31.64\n",
      "7   0.92  1.82  125.07       31.66\n",
      "8   0.93  1.83  125.08       31.67\n",
      "9   0.94  1.84  125.09       31.69\n",
      "10  0.95  1.85  125.10       31.70\n",
      "11  0.96  1.86  125.11       31.72\n",
      "12  0.97  1.87  125.12       31.74\n",
      "13  0.98  1.88  125.13       31.75\n",
      "14  0.99  1.89  125.14       31.77\n",
      "15  1.00  1.90  125.15       31.78\n",
      "16  1.01  1.91  125.16       31.80\n",
      "17  1.02  1.92  125.17       31.81\n",
      "18  1.03  1.93  125.18       31.83\n",
      "19  1.04  1.94  125.19       31.85\n",
      "20  1.05  1.95  125.20       31.86\n",
      "     RBA   FED     CPI  Prediction\n",
      "0   0.85  1.75  125.00       31.55\n",
      "1   0.86  1.76  125.01       31.56\n",
      "2   0.87  1.77  125.02       31.58\n",
      "3   0.88  1.78  125.03       31.60\n",
      "4   0.89  1.79  125.04       31.61\n",
      "5   0.90  1.80  125.05       31.63\n",
      "6   0.91  1.81  125.06       31.64\n",
      "7   0.92  1.82  125.07       31.66\n",
      "8   0.93  1.83  125.08       31.67\n",
      "9   0.94  1.84  125.09       31.69\n",
      "10  0.95  1.85  125.10       31.70\n",
      "11  0.96  1.86  125.11       31.72\n",
      "12  0.97  1.87  125.12       31.74\n",
      "13  0.98  1.88  125.13       31.75\n",
      "14  0.99  1.89  125.14       31.77\n",
      "15  1.00  1.90  125.15       31.78\n",
      "16  1.01  1.91  125.16       31.80\n",
      "17  1.02  1.92  125.17       31.81\n",
      "18  1.03  1.93  125.18       31.83\n",
      "19  1.04  1.94  125.19       31.85\n",
      "20  1.05  1.95  125.20       31.86\n",
      "21  1.06  1.96  125.21       31.88\n",
      "     RBA   FED     CPI  Prediction\n",
      "0   0.85  1.75  125.00       31.55\n",
      "1   0.86  1.76  125.01       31.56\n",
      "2   0.87  1.77  125.02       31.58\n",
      "3   0.88  1.78  125.03       31.60\n",
      "4   0.89  1.79  125.04       31.61\n",
      "5   0.90  1.80  125.05       31.63\n",
      "6   0.91  1.81  125.06       31.64\n",
      "7   0.92  1.82  125.07       31.66\n",
      "8   0.93  1.83  125.08       31.67\n",
      "9   0.94  1.84  125.09       31.69\n",
      "10  0.95  1.85  125.10       31.70\n",
      "11  0.96  1.86  125.11       31.72\n",
      "12  0.97  1.87  125.12       31.74\n",
      "13  0.98  1.88  125.13       31.75\n",
      "14  0.99  1.89  125.14       31.77\n",
      "15  1.00  1.90  125.15       31.78\n",
      "16  1.01  1.91  125.16       31.80\n",
      "17  1.02  1.92  125.17       31.81\n",
      "18  1.03  1.93  125.18       31.83\n",
      "19  1.04  1.94  125.19       31.85\n",
      "20  1.05  1.95  125.20       31.86\n",
      "21  1.06  1.96  125.21       31.88\n",
      "22  1.07  1.97  125.22       31.89\n",
      "     RBA   FED     CPI  Prediction\n",
      "0   0.85  1.75  125.00       31.55\n",
      "1   0.86  1.76  125.01       31.56\n",
      "2   0.87  1.77  125.02       31.58\n",
      "3   0.88  1.78  125.03       31.60\n",
      "4   0.89  1.79  125.04       31.61\n",
      "5   0.90  1.80  125.05       31.63\n",
      "6   0.91  1.81  125.06       31.64\n",
      "7   0.92  1.82  125.07       31.66\n",
      "8   0.93  1.83  125.08       31.67\n",
      "9   0.94  1.84  125.09       31.69\n",
      "10  0.95  1.85  125.10       31.70\n",
      "11  0.96  1.86  125.11       31.72\n",
      "12  0.97  1.87  125.12       31.74\n",
      "13  0.98  1.88  125.13       31.75\n",
      "14  0.99  1.89  125.14       31.77\n",
      "15  1.00  1.90  125.15       31.78\n",
      "16  1.01  1.91  125.16       31.80\n",
      "17  1.02  1.92  125.17       31.81\n",
      "18  1.03  1.93  125.18       31.83\n",
      "19  1.04  1.94  125.19       31.85\n",
      "20  1.05  1.95  125.20       31.86\n",
      "21  1.06  1.96  125.21       31.88\n",
      "22  1.07  1.97  125.22       31.89\n",
      "23  1.08  1.98  125.23       31.91\n",
      "     RBA   FED     CPI  Prediction\n",
      "0   0.85  1.75  125.00       31.55\n",
      "1   0.86  1.76  125.01       31.56\n",
      "2   0.87  1.77  125.02       31.58\n",
      "3   0.88  1.78  125.03       31.60\n",
      "4   0.89  1.79  125.04       31.61\n",
      "5   0.90  1.80  125.05       31.63\n",
      "6   0.91  1.81  125.06       31.64\n",
      "7   0.92  1.82  125.07       31.66\n",
      "8   0.93  1.83  125.08       31.67\n",
      "9   0.94  1.84  125.09       31.69\n",
      "10  0.95  1.85  125.10       31.70\n",
      "11  0.96  1.86  125.11       31.72\n",
      "12  0.97  1.87  125.12       31.74\n",
      "13  0.98  1.88  125.13       31.75\n",
      "14  0.99  1.89  125.14       31.77\n",
      "15  1.00  1.90  125.15       31.78\n",
      "16  1.01  1.91  125.16       31.80\n",
      "17  1.02  1.92  125.17       31.81\n",
      "18  1.03  1.93  125.18       31.83\n",
      "19  1.04  1.94  125.19       31.85\n",
      "20  1.05  1.95  125.20       31.86\n",
      "21  1.06  1.96  125.21       31.88\n",
      "22  1.07  1.97  125.22       31.89\n",
      "23  1.08  1.98  125.23       31.91\n",
      "24  1.09  1.99  125.24       31.92\n",
      "     RBA   FED     CPI  Prediction\n",
      "0   0.85  1.75  125.00       31.55\n",
      "1   0.86  1.76  125.01       31.56\n",
      "2   0.87  1.77  125.02       31.58\n",
      "3   0.88  1.78  125.03       31.60\n",
      "4   0.89  1.79  125.04       31.61\n",
      "5   0.90  1.80  125.05       31.63\n",
      "6   0.91  1.81  125.06       31.64\n",
      "7   0.92  1.82  125.07       31.66\n",
      "8   0.93  1.83  125.08       31.67\n",
      "9   0.94  1.84  125.09       31.69\n",
      "10  0.95  1.85  125.10       31.70\n",
      "11  0.96  1.86  125.11       31.72\n",
      "12  0.97  1.87  125.12       31.74\n",
      "13  0.98  1.88  125.13       31.75\n",
      "14  0.99  1.89  125.14       31.77\n",
      "15  1.00  1.90  125.15       31.78\n",
      "16  1.01  1.91  125.16       31.80\n",
      "17  1.02  1.92  125.17       31.81\n",
      "18  1.03  1.93  125.18       31.83\n",
      "19  1.04  1.94  125.19       31.85\n",
      "20  1.05  1.95  125.20       31.86\n",
      "21  1.06  1.96  125.21       31.88\n",
      "22  1.07  1.97  125.22       31.89\n",
      "23  1.08  1.98  125.23       31.91\n",
      "24  1.09  1.99  125.24       31.92\n",
      "25  1.10  2.00  125.25       31.94\n",
      "     RBA   FED     CPI  Prediction\n",
      "0   0.85  1.75  125.00       31.55\n",
      "1   0.86  1.76  125.01       31.56\n",
      "2   0.87  1.77  125.02       31.58\n",
      "3   0.88  1.78  125.03       31.60\n",
      "4   0.89  1.79  125.04       31.61\n",
      "5   0.90  1.80  125.05       31.63\n",
      "6   0.91  1.81  125.06       31.64\n",
      "7   0.92  1.82  125.07       31.66\n",
      "8   0.93  1.83  125.08       31.67\n",
      "9   0.94  1.84  125.09       31.69\n",
      "10  0.95  1.85  125.10       31.70\n",
      "11  0.96  1.86  125.11       31.72\n",
      "12  0.97  1.87  125.12       31.74\n",
      "13  0.98  1.88  125.13       31.75\n",
      "14  0.99  1.89  125.14       31.77\n",
      "15  1.00  1.90  125.15       31.78\n",
      "16  1.01  1.91  125.16       31.80\n",
      "17  1.02  1.92  125.17       31.81\n",
      "18  1.03  1.93  125.18       31.83\n",
      "19  1.04  1.94  125.19       31.85\n",
      "20  1.05  1.95  125.20       31.86\n",
      "21  1.06  1.96  125.21       31.88\n",
      "22  1.07  1.97  125.22       31.89\n",
      "23  1.08  1.98  125.23       31.91\n",
      "24  1.09  1.99  125.24       31.92\n",
      "25  1.10  2.00  125.25       31.94\n",
      "26  1.11  2.01  125.26       31.95\n",
      "     RBA   FED     CPI  Prediction\n",
      "0   0.85  1.75  125.00       31.55\n",
      "1   0.86  1.76  125.01       31.56\n",
      "2   0.87  1.77  125.02       31.58\n",
      "3   0.88  1.78  125.03       31.60\n",
      "4   0.89  1.79  125.04       31.61\n",
      "5   0.90  1.80  125.05       31.63\n",
      "6   0.91  1.81  125.06       31.64\n",
      "7   0.92  1.82  125.07       31.66\n",
      "8   0.93  1.83  125.08       31.67\n",
      "9   0.94  1.84  125.09       31.69\n",
      "10  0.95  1.85  125.10       31.70\n",
      "11  0.96  1.86  125.11       31.72\n",
      "12  0.97  1.87  125.12       31.74\n",
      "13  0.98  1.88  125.13       31.75\n",
      "14  0.99  1.89  125.14       31.77\n",
      "15  1.00  1.90  125.15       31.78\n",
      "16  1.01  1.91  125.16       31.80\n",
      "17  1.02  1.92  125.17       31.81\n",
      "18  1.03  1.93  125.18       31.83\n",
      "19  1.04  1.94  125.19       31.85\n",
      "20  1.05  1.95  125.20       31.86\n",
      "21  1.06  1.96  125.21       31.88\n",
      "22  1.07  1.97  125.22       31.89\n",
      "23  1.08  1.98  125.23       31.91\n",
      "24  1.09  1.99  125.24       31.92\n",
      "25  1.10  2.00  125.25       31.94\n",
      "26  1.11  2.01  125.26       31.95\n",
      "27  1.12  2.02  125.27       31.97\n",
      "     RBA   FED     CPI  Prediction\n",
      "0   0.85  1.75  125.00       31.55\n",
      "1   0.86  1.76  125.01       31.56\n",
      "2   0.87  1.77  125.02       31.58\n",
      "3   0.88  1.78  125.03       31.60\n",
      "4   0.89  1.79  125.04       31.61\n",
      "5   0.90  1.80  125.05       31.63\n",
      "6   0.91  1.81  125.06       31.64\n",
      "7   0.92  1.82  125.07       31.66\n",
      "8   0.93  1.83  125.08       31.67\n",
      "9   0.94  1.84  125.09       31.69\n",
      "10  0.95  1.85  125.10       31.70\n",
      "11  0.96  1.86  125.11       31.72\n",
      "12  0.97  1.87  125.12       31.74\n",
      "13  0.98  1.88  125.13       31.75\n",
      "14  0.99  1.89  125.14       31.77\n",
      "15  1.00  1.90  125.15       31.78\n",
      "16  1.01  1.91  125.16       31.80\n",
      "17  1.02  1.92  125.17       31.81\n",
      "18  1.03  1.93  125.18       31.83\n",
      "19  1.04  1.94  125.19       31.85\n",
      "20  1.05  1.95  125.20       31.86\n",
      "21  1.06  1.96  125.21       31.88\n",
      "22  1.07  1.97  125.22       31.89\n",
      "23  1.08  1.98  125.23       31.91\n",
      "24  1.09  1.99  125.24       31.92\n",
      "25  1.10  2.00  125.25       31.94\n",
      "26  1.11  2.01  125.26       31.95\n",
      "27  1.12  2.02  125.27       31.97\n",
      "28  1.13  2.03  125.28       31.99\n",
      "     RBA   FED     CPI  Prediction\n",
      "0   0.85  1.75  125.00       31.55\n",
      "1   0.86  1.76  125.01       31.56\n",
      "2   0.87  1.77  125.02       31.58\n",
      "3   0.88  1.78  125.03       31.60\n",
      "4   0.89  1.79  125.04       31.61\n",
      "5   0.90  1.80  125.05       31.63\n",
      "6   0.91  1.81  125.06       31.64\n",
      "7   0.92  1.82  125.07       31.66\n",
      "8   0.93  1.83  125.08       31.67\n",
      "9   0.94  1.84  125.09       31.69\n",
      "10  0.95  1.85  125.10       31.70\n",
      "11  0.96  1.86  125.11       31.72\n",
      "12  0.97  1.87  125.12       31.74\n",
      "13  0.98  1.88  125.13       31.75\n",
      "14  0.99  1.89  125.14       31.77\n",
      "15  1.00  1.90  125.15       31.78\n",
      "16  1.01  1.91  125.16       31.80\n",
      "17  1.02  1.92  125.17       31.81\n",
      "18  1.03  1.93  125.18       31.83\n",
      "19  1.04  1.94  125.19       31.85\n",
      "20  1.05  1.95  125.20       31.86\n",
      "21  1.06  1.96  125.21       31.88\n",
      "22  1.07  1.97  125.22       31.89\n",
      "23  1.08  1.98  125.23       31.91\n",
      "24  1.09  1.99  125.24       31.92\n",
      "25  1.10  2.00  125.25       31.94\n",
      "26  1.11  2.01  125.26       31.95\n",
      "27  1.12  2.02  125.27       31.97\n",
      "28  1.13  2.03  125.28       31.99\n",
      "29  1.14  2.04  125.29       32.00\n",
      "     RBA   FED     CPI  Prediction\n",
      "0   0.85  1.75  125.00       31.55\n",
      "1   0.86  1.76  125.01       31.56\n",
      "2   0.87  1.77  125.02       31.58\n",
      "3   0.88  1.78  125.03       31.60\n",
      "4   0.89  1.79  125.04       31.61\n",
      "5   0.90  1.80  125.05       31.63\n",
      "6   0.91  1.81  125.06       31.64\n",
      "7   0.92  1.82  125.07       31.66\n",
      "8   0.93  1.83  125.08       31.67\n",
      "9   0.94  1.84  125.09       31.69\n",
      "10  0.95  1.85  125.10       31.70\n",
      "11  0.96  1.86  125.11       31.72\n",
      "12  0.97  1.87  125.12       31.74\n",
      "13  0.98  1.88  125.13       31.75\n",
      "14  0.99  1.89  125.14       31.77\n",
      "15  1.00  1.90  125.15       31.78\n",
      "16  1.01  1.91  125.16       31.80\n",
      "17  1.02  1.92  125.17       31.81\n",
      "18  1.03  1.93  125.18       31.83\n",
      "19  1.04  1.94  125.19       31.85\n",
      "20  1.05  1.95  125.20       31.86\n",
      "21  1.06  1.96  125.21       31.88\n",
      "22  1.07  1.97  125.22       31.89\n",
      "23  1.08  1.98  125.23       31.91\n",
      "24  1.09  1.99  125.24       31.92\n",
      "25  1.10  2.00  125.25       31.94\n",
      "26  1.11  2.01  125.26       31.95\n",
      "27  1.12  2.02  125.27       31.97\n",
      "28  1.13  2.03  125.28       31.99\n",
      "29  1.14  2.04  125.29       32.00\n",
      "30  1.15  2.05  125.30       32.02\n",
      "     RBA   FED     CPI  Prediction\n",
      "0   0.85  1.75  125.00       31.55\n",
      "1   0.86  1.76  125.01       31.56\n",
      "2   0.87  1.77  125.02       31.58\n",
      "3   0.88  1.78  125.03       31.60\n",
      "4   0.89  1.79  125.04       31.61\n",
      "5   0.90  1.80  125.05       31.63\n",
      "6   0.91  1.81  125.06       31.64\n",
      "7   0.92  1.82  125.07       31.66\n",
      "8   0.93  1.83  125.08       31.67\n",
      "9   0.94  1.84  125.09       31.69\n",
      "10  0.95  1.85  125.10       31.70\n",
      "11  0.96  1.86  125.11       31.72\n",
      "12  0.97  1.87  125.12       31.74\n",
      "13  0.98  1.88  125.13       31.75\n",
      "14  0.99  1.89  125.14       31.77\n",
      "15  1.00  1.90  125.15       31.78\n",
      "16  1.01  1.91  125.16       31.80\n",
      "17  1.02  1.92  125.17       31.81\n",
      "18  1.03  1.93  125.18       31.83\n",
      "19  1.04  1.94  125.19       31.85\n",
      "20  1.05  1.95  125.20       31.86\n",
      "21  1.06  1.96  125.21       31.88\n",
      "22  1.07  1.97  125.22       31.89\n",
      "23  1.08  1.98  125.23       31.91\n",
      "24  1.09  1.99  125.24       31.92\n",
      "25  1.10  2.00  125.25       31.94\n",
      "26  1.11  2.01  125.26       31.95\n",
      "27  1.12  2.02  125.27       31.97\n",
      "28  1.13  2.03  125.28       31.99\n",
      "29  1.14  2.04  125.29       32.00\n",
      "30  1.15  2.05  125.30       32.02\n",
      "31  1.16  2.06  125.31       32.03\n",
      "     RBA   FED     CPI  Prediction\n",
      "0   0.85  1.75  125.00       31.55\n",
      "1   0.86  1.76  125.01       31.56\n",
      "2   0.87  1.77  125.02       31.58\n",
      "3   0.88  1.78  125.03       31.60\n",
      "4   0.89  1.79  125.04       31.61\n",
      "5   0.90  1.80  125.05       31.63\n",
      "6   0.91  1.81  125.06       31.64\n",
      "7   0.92  1.82  125.07       31.66\n",
      "8   0.93  1.83  125.08       31.67\n",
      "9   0.94  1.84  125.09       31.69\n",
      "10  0.95  1.85  125.10       31.70\n",
      "11  0.96  1.86  125.11       31.72\n",
      "12  0.97  1.87  125.12       31.74\n",
      "13  0.98  1.88  125.13       31.75\n",
      "14  0.99  1.89  125.14       31.77\n",
      "15  1.00  1.90  125.15       31.78\n",
      "16  1.01  1.91  125.16       31.80\n",
      "17  1.02  1.92  125.17       31.81\n",
      "18  1.03  1.93  125.18       31.83\n",
      "19  1.04  1.94  125.19       31.85\n",
      "20  1.05  1.95  125.20       31.86\n",
      "21  1.06  1.96  125.21       31.88\n",
      "22  1.07  1.97  125.22       31.89\n",
      "23  1.08  1.98  125.23       31.91\n",
      "24  1.09  1.99  125.24       31.92\n",
      "25  1.10  2.00  125.25       31.94\n",
      "26  1.11  2.01  125.26       31.95\n",
      "27  1.12  2.02  125.27       31.97\n",
      "28  1.13  2.03  125.28       31.99\n",
      "29  1.14  2.04  125.29       32.00\n",
      "30  1.15  2.05  125.30       32.02\n",
      "31  1.16  2.06  125.31       32.03\n",
      "32  1.17  2.07  125.32       32.05\n",
      "     RBA   FED     CPI  Prediction\n",
      "0   0.85  1.75  125.00       31.55\n",
      "1   0.86  1.76  125.01       31.56\n",
      "2   0.87  1.77  125.02       31.58\n",
      "3   0.88  1.78  125.03       31.60\n",
      "4   0.89  1.79  125.04       31.61\n",
      "5   0.90  1.80  125.05       31.63\n",
      "6   0.91  1.81  125.06       31.64\n",
      "7   0.92  1.82  125.07       31.66\n",
      "8   0.93  1.83  125.08       31.67\n",
      "9   0.94  1.84  125.09       31.69\n",
      "10  0.95  1.85  125.10       31.70\n",
      "11  0.96  1.86  125.11       31.72\n",
      "12  0.97  1.87  125.12       31.74\n",
      "13  0.98  1.88  125.13       31.75\n",
      "14  0.99  1.89  125.14       31.77\n",
      "15  1.00  1.90  125.15       31.78\n",
      "16  1.01  1.91  125.16       31.80\n",
      "17  1.02  1.92  125.17       31.81\n",
      "18  1.03  1.93  125.18       31.83\n",
      "19  1.04  1.94  125.19       31.85\n",
      "20  1.05  1.95  125.20       31.86\n",
      "21  1.06  1.96  125.21       31.88\n",
      "22  1.07  1.97  125.22       31.89\n",
      "23  1.08  1.98  125.23       31.91\n",
      "24  1.09  1.99  125.24       31.92\n",
      "25  1.10  2.00  125.25       31.94\n",
      "26  1.11  2.01  125.26       31.95\n",
      "27  1.12  2.02  125.27       31.97\n",
      "28  1.13  2.03  125.28       31.99\n",
      "29  1.14  2.04  125.29       32.00\n",
      "30  1.15  2.05  125.30       32.02\n",
      "31  1.16  2.06  125.31       32.03\n",
      "32  1.17  2.07  125.32       32.05\n",
      "33  1.18  2.08  125.33       32.06\n",
      "     RBA   FED     CPI  Prediction\n",
      "0   0.85  1.75  125.00       31.55\n",
      "1   0.86  1.76  125.01       31.56\n",
      "2   0.87  1.77  125.02       31.58\n",
      "3   0.88  1.78  125.03       31.60\n",
      "4   0.89  1.79  125.04       31.61\n",
      "5   0.90  1.80  125.05       31.63\n",
      "6   0.91  1.81  125.06       31.64\n",
      "7   0.92  1.82  125.07       31.66\n",
      "8   0.93  1.83  125.08       31.67\n",
      "9   0.94  1.84  125.09       31.69\n",
      "10  0.95  1.85  125.10       31.70\n",
      "11  0.96  1.86  125.11       31.72\n",
      "12  0.97  1.87  125.12       31.74\n",
      "13  0.98  1.88  125.13       31.75\n",
      "14  0.99  1.89  125.14       31.77\n",
      "15  1.00  1.90  125.15       31.78\n",
      "16  1.01  1.91  125.16       31.80\n",
      "17  1.02  1.92  125.17       31.81\n",
      "18  1.03  1.93  125.18       31.83\n",
      "19  1.04  1.94  125.19       31.85\n",
      "20  1.05  1.95  125.20       31.86\n",
      "21  1.06  1.96  125.21       31.88\n",
      "22  1.07  1.97  125.22       31.89\n",
      "23  1.08  1.98  125.23       31.91\n",
      "24  1.09  1.99  125.24       31.92\n",
      "25  1.10  2.00  125.25       31.94\n",
      "26  1.11  2.01  125.26       31.95\n",
      "27  1.12  2.02  125.27       31.97\n",
      "28  1.13  2.03  125.28       31.99\n",
      "29  1.14  2.04  125.29       32.00\n",
      "30  1.15  2.05  125.30       32.02\n",
      "31  1.16  2.06  125.31       32.03\n",
      "32  1.17  2.07  125.32       32.05\n",
      "33  1.18  2.08  125.33       32.06\n",
      "34  1.19  2.09  125.34       32.08\n",
      "     RBA   FED     CPI  Prediction\n",
      "0   0.85  1.75  125.00       31.55\n",
      "1   0.86  1.76  125.01       31.56\n",
      "2   0.87  1.77  125.02       31.58\n",
      "3   0.88  1.78  125.03       31.60\n",
      "4   0.89  1.79  125.04       31.61\n",
      "5   0.90  1.80  125.05       31.63\n",
      "6   0.91  1.81  125.06       31.64\n",
      "7   0.92  1.82  125.07       31.66\n",
      "8   0.93  1.83  125.08       31.67\n",
      "9   0.94  1.84  125.09       31.69\n",
      "10  0.95  1.85  125.10       31.70\n",
      "11  0.96  1.86  125.11       31.72\n",
      "12  0.97  1.87  125.12       31.74\n",
      "13  0.98  1.88  125.13       31.75\n",
      "14  0.99  1.89  125.14       31.77\n",
      "15  1.00  1.90  125.15       31.78\n",
      "16  1.01  1.91  125.16       31.80\n",
      "17  1.02  1.92  125.17       31.81\n",
      "18  1.03  1.93  125.18       31.83\n",
      "19  1.04  1.94  125.19       31.85\n",
      "20  1.05  1.95  125.20       31.86\n",
      "21  1.06  1.96  125.21       31.88\n",
      "22  1.07  1.97  125.22       31.89\n",
      "23  1.08  1.98  125.23       31.91\n",
      "24  1.09  1.99  125.24       31.92\n",
      "25  1.10  2.00  125.25       31.94\n",
      "26  1.11  2.01  125.26       31.95\n",
      "27  1.12  2.02  125.27       31.97\n",
      "28  1.13  2.03  125.28       31.99\n",
      "29  1.14  2.04  125.29       32.00\n",
      "30  1.15  2.05  125.30       32.02\n",
      "31  1.16  2.06  125.31       32.03\n",
      "32  1.17  2.07  125.32       32.05\n",
      "33  1.18  2.08  125.33       32.06\n",
      "34  1.19  2.09  125.34       32.08\n",
      "35  1.20  2.10  125.35       32.09\n",
      "     RBA   FED     CPI  Prediction\n",
      "0   0.85  1.75  125.00       31.55\n",
      "1   0.86  1.76  125.01       31.56\n",
      "2   0.87  1.77  125.02       31.58\n",
      "3   0.88  1.78  125.03       31.60\n",
      "4   0.89  1.79  125.04       31.61\n",
      "5   0.90  1.80  125.05       31.63\n",
      "6   0.91  1.81  125.06       31.64\n",
      "7   0.92  1.82  125.07       31.66\n",
      "8   0.93  1.83  125.08       31.67\n",
      "9   0.94  1.84  125.09       31.69\n",
      "10  0.95  1.85  125.10       31.70\n",
      "11  0.96  1.86  125.11       31.72\n",
      "12  0.97  1.87  125.12       31.74\n",
      "13  0.98  1.88  125.13       31.75\n",
      "14  0.99  1.89  125.14       31.77\n",
      "15  1.00  1.90  125.15       31.78\n",
      "16  1.01  1.91  125.16       31.80\n",
      "17  1.02  1.92  125.17       31.81\n",
      "18  1.03  1.93  125.18       31.83\n",
      "19  1.04  1.94  125.19       31.85\n",
      "20  1.05  1.95  125.20       31.86\n",
      "21  1.06  1.96  125.21       31.88\n",
      "22  1.07  1.97  125.22       31.89\n",
      "23  1.08  1.98  125.23       31.91\n",
      "24  1.09  1.99  125.24       31.92\n",
      "25  1.10  2.00  125.25       31.94\n",
      "26  1.11  2.01  125.26       31.95\n",
      "27  1.12  2.02  125.27       31.97\n",
      "28  1.13  2.03  125.28       31.99\n",
      "29  1.14  2.04  125.29       32.00\n",
      "30  1.15  2.05  125.30       32.02\n",
      "31  1.16  2.06  125.31       32.03\n",
      "32  1.17  2.07  125.32       32.05\n",
      "33  1.18  2.08  125.33       32.06\n",
      "34  1.19  2.09  125.34       32.08\n",
      "35  1.20  2.10  125.35       32.09\n",
      "36  1.21  2.11  125.36       32.11\n",
      "     RBA   FED     CPI  Prediction\n",
      "0   0.85  1.75  125.00       31.55\n",
      "1   0.86  1.76  125.01       31.56\n",
      "2   0.87  1.77  125.02       31.58\n",
      "3   0.88  1.78  125.03       31.60\n",
      "4   0.89  1.79  125.04       31.61\n",
      "5   0.90  1.80  125.05       31.63\n",
      "6   0.91  1.81  125.06       31.64\n",
      "7   0.92  1.82  125.07       31.66\n",
      "8   0.93  1.83  125.08       31.67\n",
      "9   0.94  1.84  125.09       31.69\n",
      "10  0.95  1.85  125.10       31.70\n",
      "11  0.96  1.86  125.11       31.72\n",
      "12  0.97  1.87  125.12       31.74\n",
      "13  0.98  1.88  125.13       31.75\n",
      "14  0.99  1.89  125.14       31.77\n",
      "15  1.00  1.90  125.15       31.78\n",
      "16  1.01  1.91  125.16       31.80\n",
      "17  1.02  1.92  125.17       31.81\n",
      "18  1.03  1.93  125.18       31.83\n",
      "19  1.04  1.94  125.19       31.85\n",
      "20  1.05  1.95  125.20       31.86\n",
      "21  1.06  1.96  125.21       31.88\n",
      "22  1.07  1.97  125.22       31.89\n",
      "23  1.08  1.98  125.23       31.91\n",
      "24  1.09  1.99  125.24       31.92\n",
      "25  1.10  2.00  125.25       31.94\n",
      "26  1.11  2.01  125.26       31.95\n",
      "27  1.12  2.02  125.27       31.97\n",
      "28  1.13  2.03  125.28       31.99\n",
      "29  1.14  2.04  125.29       32.00\n",
      "30  1.15  2.05  125.30       32.02\n",
      "31  1.16  2.06  125.31       32.03\n",
      "32  1.17  2.07  125.32       32.05\n",
      "33  1.18  2.08  125.33       32.06\n",
      "34  1.19  2.09  125.34       32.08\n",
      "35  1.20  2.10  125.35       32.09\n",
      "36  1.21  2.11  125.36       32.11\n",
      "37  1.22  2.12  125.37       32.13\n",
      "     RBA   FED     CPI  Prediction\n",
      "0   0.85  1.75  125.00       31.55\n",
      "1   0.86  1.76  125.01       31.56\n",
      "2   0.87  1.77  125.02       31.58\n",
      "3   0.88  1.78  125.03       31.60\n",
      "4   0.89  1.79  125.04       31.61\n",
      "5   0.90  1.80  125.05       31.63\n",
      "6   0.91  1.81  125.06       31.64\n",
      "7   0.92  1.82  125.07       31.66\n",
      "8   0.93  1.83  125.08       31.67\n",
      "9   0.94  1.84  125.09       31.69\n",
      "10  0.95  1.85  125.10       31.70\n",
      "11  0.96  1.86  125.11       31.72\n",
      "12  0.97  1.87  125.12       31.74\n",
      "13  0.98  1.88  125.13       31.75\n",
      "14  0.99  1.89  125.14       31.77\n",
      "15  1.00  1.90  125.15       31.78\n",
      "16  1.01  1.91  125.16       31.80\n",
      "17  1.02  1.92  125.17       31.81\n",
      "18  1.03  1.93  125.18       31.83\n",
      "19  1.04  1.94  125.19       31.85\n",
      "20  1.05  1.95  125.20       31.86\n",
      "21  1.06  1.96  125.21       31.88\n",
      "22  1.07  1.97  125.22       31.89\n",
      "23  1.08  1.98  125.23       31.91\n",
      "24  1.09  1.99  125.24       31.92\n",
      "25  1.10  2.00  125.25       31.94\n",
      "26  1.11  2.01  125.26       31.95\n",
      "27  1.12  2.02  125.27       31.97\n",
      "28  1.13  2.03  125.28       31.99\n",
      "29  1.14  2.04  125.29       32.00\n",
      "30  1.15  2.05  125.30       32.02\n",
      "31  1.16  2.06  125.31       32.03\n",
      "32  1.17  2.07  125.32       32.05\n",
      "33  1.18  2.08  125.33       32.06\n",
      "34  1.19  2.09  125.34       32.08\n",
      "35  1.20  2.10  125.35       32.09\n",
      "36  1.21  2.11  125.36       32.11\n",
      "37  1.22  2.12  125.37       32.13\n",
      "38  1.23  2.13  125.38       32.14\n",
      "     RBA   FED     CPI  Prediction\n",
      "0   0.85  1.75  125.00       31.55\n",
      "1   0.86  1.76  125.01       31.56\n",
      "2   0.87  1.77  125.02       31.58\n",
      "3   0.88  1.78  125.03       31.60\n",
      "4   0.89  1.79  125.04       31.61\n",
      "5   0.90  1.80  125.05       31.63\n",
      "6   0.91  1.81  125.06       31.64\n",
      "7   0.92  1.82  125.07       31.66\n",
      "8   0.93  1.83  125.08       31.67\n",
      "9   0.94  1.84  125.09       31.69\n",
      "10  0.95  1.85  125.10       31.70\n",
      "11  0.96  1.86  125.11       31.72\n",
      "12  0.97  1.87  125.12       31.74\n",
      "13  0.98  1.88  125.13       31.75\n",
      "14  0.99  1.89  125.14       31.77\n",
      "15  1.00  1.90  125.15       31.78\n",
      "16  1.01  1.91  125.16       31.80\n",
      "17  1.02  1.92  125.17       31.81\n",
      "18  1.03  1.93  125.18       31.83\n",
      "19  1.04  1.94  125.19       31.85\n",
      "20  1.05  1.95  125.20       31.86\n",
      "21  1.06  1.96  125.21       31.88\n",
      "22  1.07  1.97  125.22       31.89\n",
      "23  1.08  1.98  125.23       31.91\n",
      "24  1.09  1.99  125.24       31.92\n",
      "25  1.10  2.00  125.25       31.94\n",
      "26  1.11  2.01  125.26       31.95\n",
      "27  1.12  2.02  125.27       31.97\n",
      "28  1.13  2.03  125.28       31.99\n",
      "29  1.14  2.04  125.29       32.00\n",
      "30  1.15  2.05  125.30       32.02\n",
      "31  1.16  2.06  125.31       32.03\n",
      "32  1.17  2.07  125.32       32.05\n",
      "33  1.18  2.08  125.33       32.06\n",
      "34  1.19  2.09  125.34       32.08\n",
      "35  1.20  2.10  125.35       32.09\n",
      "36  1.21  2.11  125.36       32.11\n",
      "37  1.22  2.12  125.37       32.13\n",
      "38  1.23  2.13  125.38       32.14\n",
      "39  1.24  2.14  125.39       32.16\n",
      "[{'RBA': 0.85, 'FED': 1.75, 'CPI': 125.0, 'Prediction': 31.55}, {'RBA': 0.86, 'FED': 1.76, 'CPI': 125.01, 'Prediction': 31.56}, {'RBA': 0.87, 'FED': 1.77, 'CPI': 125.02, 'Prediction': 31.58}, {'RBA': 0.88, 'FED': 1.78, 'CPI': 125.03, 'Prediction': 31.6}, {'RBA': 0.89, 'FED': 1.79, 'CPI': 125.04, 'Prediction': 31.61}, {'RBA': 0.9, 'FED': 1.8, 'CPI': 125.05, 'Prediction': 31.63}, {'RBA': 0.91, 'FED': 1.81, 'CPI': 125.06, 'Prediction': 31.64}, {'RBA': 0.92, 'FED': 1.82, 'CPI': 125.07, 'Prediction': 31.66}, {'RBA': 0.93, 'FED': 1.83, 'CPI': 125.08, 'Prediction': 31.67}, {'RBA': 0.94, 'FED': 1.84, 'CPI': 125.09, 'Prediction': 31.69}, {'RBA': 0.95, 'FED': 1.85, 'CPI': 125.1, 'Prediction': 31.7}, {'RBA': 0.96, 'FED': 1.86, 'CPI': 125.11, 'Prediction': 31.72}, {'RBA': 0.97, 'FED': 1.87, 'CPI': 125.12, 'Prediction': 31.74}, {'RBA': 0.98, 'FED': 1.88, 'CPI': 125.13, 'Prediction': 31.75}, {'RBA': 0.99, 'FED': 1.89, 'CPI': 125.14, 'Prediction': 31.77}, {'RBA': 1.0, 'FED': 1.9, 'CPI': 125.15, 'Prediction': 31.78}, {'RBA': 1.01, 'FED': 1.91, 'CPI': 125.16, 'Prediction': 31.8}, {'RBA': 1.02, 'FED': 1.92, 'CPI': 125.17, 'Prediction': 31.81}, {'RBA': 1.03, 'FED': 1.93, 'CPI': 125.18, 'Prediction': 31.83}, {'RBA': 1.04, 'FED': 1.94, 'CPI': 125.19, 'Prediction': 31.85}, {'RBA': 1.05, 'FED': 1.95, 'CPI': 125.2, 'Prediction': 31.86}, {'RBA': 1.06, 'FED': 1.96, 'CPI': 125.21, 'Prediction': 31.88}, {'RBA': 1.07, 'FED': 1.97, 'CPI': 125.22, 'Prediction': 31.89}, {'RBA': 1.08, 'FED': 1.98, 'CPI': 125.23, 'Prediction': 31.91}, {'RBA': 1.09, 'FED': 1.99, 'CPI': 125.24, 'Prediction': 31.92}, {'RBA': 1.1, 'FED': 2.0, 'CPI': 125.25, 'Prediction': 31.94}, {'RBA': 1.11, 'FED': 2.01, 'CPI': 125.26, 'Prediction': 31.95}, {'RBA': 1.12, 'FED': 2.02, 'CPI': 125.27, 'Prediction': 31.97}, {'RBA': 1.13, 'FED': 2.03, 'CPI': 125.28, 'Prediction': 31.99}, {'RBA': 1.14, 'FED': 2.04, 'CPI': 125.29, 'Prediction': 32.0}, {'RBA': 1.15, 'FED': 2.05, 'CPI': 125.3, 'Prediction': 32.02}, {'RBA': 1.16, 'FED': 2.06, 'CPI': 125.31, 'Prediction': 32.03}, {'RBA': 1.17, 'FED': 2.07, 'CPI': 125.32, 'Prediction': 32.05}, {'RBA': 1.18, 'FED': 2.08, 'CPI': 125.33, 'Prediction': 32.06}, {'RBA': 1.19, 'FED': 2.09, 'CPI': 125.34, 'Prediction': 32.08}, {'RBA': 1.2, 'FED': 2.1, 'CPI': 125.35, 'Prediction': 32.09}, {'RBA': 1.21, 'FED': 2.11, 'CPI': 125.36, 'Prediction': 32.11}, {'RBA': 1.22, 'FED': 2.12, 'CPI': 125.37, 'Prediction': 32.13}, {'RBA': 1.23, 'FED': 2.13, 'CPI': 125.38, 'Prediction': 32.14}, {'RBA': 1.24, 'FED': 2.14, 'CPI': 125.39, 'Prediction': 32.16}]\n"
     ]
    }
   ],
   "source": [
    "rba = float(0.85)\n",
    "fed = float(1.75)\n",
    "cpi = float(125.00)\n",
    "input =40\n",
    "rfr=[]\n",
    "\n",
    "def randomforest(rba,fed,cpi):\n",
    "    for i in range(0,input):\n",
    "      rfr.append([rba,fed,cpi])\n",
    "      np.round_(rfr,2,out = None) \n",
    "      df = pd.DataFrame(rfr, columns = ['RBA','FED',\"CPI\"])\n",
    "      df.round(2)\n",
    "      pred_rf=model_in_rfr.predict(df)\n",
    "      df['Prediction'] = pred_rf\n",
    "      df['Prediction'] = df['Prediction'].astype(float).round(2)\n",
    "      rba+=0.01\n",
    "      fed+=0.01\n",
    "      cpi+=0.01\n",
    "      print(df)\n",
    "    my_rforest = df.to_dict(orient='records')\n",
    "    for dict_value in my_rforest:\n",
    "      for k, v in dict_value.items():\n",
    "        dict_value[k] = round(v, 2)\n",
    "    return my_rforest\n",
    "# print(my_rforest)\n",
    "my_rf = randomforest(rba,fed,cpi)\n",
    "print(my_rf)\n"
   ]
  },
  {
   "cell_type": "code",
   "execution_count": 36,
   "metadata": {},
   "outputs": [
    {
     "name": "stdout",
     "output_type": "stream",
     "text": [
      "    RBA   FED    CPI  Prediction\n",
      "0  0.85  1.75  125.0   31.548689\n",
      "[31.54868853]\n"
     ]
    }
   ],
   "source": [
    "rba = float(0.85)\n",
    "fed = float(1.75)\n",
    "cpi = float(125.00)\n",
    "def rforest(rba,fed,cpi):\n",
    "    dtr =[[rba,fed,cpi]]\n",
    "    df = pd.DataFrame (dtr, columns = ['RBA','FED',\"CPI\"])\n",
    "    pred_dtr=model_in_rfr.predict(df)\n",
    "    df['Prediction'] = pred_dtr\n",
    "    print(df)\n",
    "    df_dict = df.to_dict(orient='records')\n",
    "    return pred_dtr\n",
    "Pred_rf = rforest(rba,fed,cpi)\n",
    "print(Pred_rf)"
   ]
  },
  {
   "cell_type": "code",
   "execution_count": 37,
   "metadata": {},
   "outputs": [
    {
     "data": {
      "image/png": "[encoded data removed]",
      "text/plain": [
       "<Figure size 864x360 with 2 Axes>"
      ]
     },
     "metadata": {
      "needs_background": "light"
     },
     "output_type": "display_data"
    }
   ],
   "source": [
    "x = np.arange(2000,2024,4)\n",
    "ax = df_mongo.plot(y=[\"CPI\",\"Close\"], figsize=(12, 5),color=['grey','green'],linewidth=2)\n",
    "df_mongo.plot(y=[\"RBA\",\"FED\"],secondary_y=True, ax=ax,color=['pink','steelblue'],linestyle='dashed')\n",
    "plt.legend(bbox_to_anchor=(1.03, 1), loc='upper left', borderaxespad=-4, title=\"Interest rates\")\n",
    "ax.legend(loc='upper left')\n",
    "ax.set_xticks([0,1000,2000,3000,4000,5000])\n",
    "ax.set_xticklabels(x, rotation=0)\n",
    "ax.set_title('WBC Random Forest Regression Model')\n",
    "ax.set_xlabel('Trading Date', fontsize=18)\n",
    "ax.set_ylabel('Close Price AUD ($) or CPI', fontsize=18)\n",
    "plt.savefig('../../static/data/images/WBC_tree.png')"
   ]
  },
  {
   "cell_type": "markdown",
   "metadata": {},
   "source": [
    "#Save predicted error to MongoDB"
   ]
  },
  {
   "cell_type": "code",
   "execution_count": 38,
   "metadata": {},
   "outputs": [],
   "source": [
    "# Module used to connect Python with MongoDb\n",
    "import pymongo"
   ]
  },
  {
   "cell_type": "code",
   "execution_count": 39,
   "metadata": {},
   "outputs": [],
   "source": [
    "# The default port used by MongoDB is 27017\n",
    "# https://docs.mongodb.com/manual/reference/default-mongodb-port/\n",
    "conn = 'mongodb://localhost:27017'\n",
    "client = pymongo.MongoClient(conn)\n",
    "\n",
    "# Define the 'sharesDB' database in Mongo\n",
    "db = client.sharesDB.companys\n",
    "\n",
    "name = 'WBC'"
   ]
  },
  {
   "cell_type": "code",
   "execution_count": 40,
   "metadata": {},
   "outputs": [
    {
     "name": "stdout",
     "output_type": "stream",
     "text": [
      "{'_id': ObjectId('62ee244c8b20105d26c6c42b'), 'model': 'RFR', 'name': 'WBC', 'date': '05/08/2022', 'predicted': 31, 'actual': 21, 'difference': 10.5984, 'accuracy': 97.13}\n"
     ]
    }
   ],
   "source": [
    "# query the companys collection\n",
    "companys = db.find({\n",
    "      'model': 'RFR',\n",
    "      'name': name})\n",
    "# see change in the collection\n",
    "for company in companys:\n",
    "    print(company)"
   ]
  },
  {
   "cell_type": "code",
   "execution_count": null,
   "metadata": {},
   "outputs": [],
   "source": []
  },
  {
   "cell_type": "code",
   "execution_count": 41,
   "metadata": {},
   "outputs": [
    {
     "name": "stdout",
     "output_type": "stream",
     "text": [
      "97.02 22 12/08/2022\n"
     ]
    }
   ],
   "source": [
    "#save last price actual to variable\n",
    "actual_price = df_mongo.iloc[-1,5]\n",
    "actual_date = df_mongo.iloc[-1,1] \n",
    "actual_price = int(actual_price)\n",
    "base_accuracy=round(base_accuracy,2)\n",
    "print(base_accuracy,actual_price,actual_date)\n"
   ]
  },
  {
   "cell_type": "code",
   "execution_count": 42,
   "metadata": {},
   "outputs": [
    {
     "name": "stdout",
     "output_type": "stream",
     "text": [
      "date 12/08/2022,predicted 31,actual 22, difference 9.548688533900613,accuracy 97.02\n"
     ]
    }
   ],
   "source": [
    "# Set keys and values of company\n",
    "predicted = int(Pred_rf)\n",
    "difference = Pred_rf-actual_price\n",
    "difference=difference[0]\n",
    "print(f'date {actual_date},predicted {predicted},actual {actual_price}, difference {difference},accuracy {base_accuracy}')"
   ]
  },
  {
   "cell_type": "code",
   "execution_count": 43,
   "metadata": {},
   "outputs": [
    {
     "data": {
      "text/plain": [
       "<pymongo.results.DeleteResult at 0x229880894c0>"
      ]
     },
     "execution_count": 43,
     "metadata": {},
     "output_type": "execute_result"
    }
   ],
   "source": [
    "# Delete a document from a collection\n",
    "db.delete_one(\n",
    "    {'model': 'RFR','name': name}\n",
    ")\n"
   ]
  },
  {
   "cell_type": "code",
   "execution_count": 44,
   "metadata": {},
   "outputs": [
    {
     "name": "stdout",
     "output_type": "stream",
     "text": [
      "{'_id': ObjectId('62f86c94e8aa99df83075c2c'), 'model': 'RFR', 'name': 'WBC', 'date': '12/08/2022', 'predicted': 31, 'actual': 22, 'difference': 9.5487, 'accuracy': 97.02}\n"
     ]
    }
   ],
   "source": [
    "# Insert a document into the 'companys' collection\n",
    "db.insert_one(\n",
    "    {\n",
    "      'model': 'RFR',\n",
    "      'name': name,\n",
    "      'date': actual_date,\n",
    "      'predicted': predicted,\n",
    "      'actual': actual_price,\n",
    "      'difference': round(difference,4),\n",
    "      'accuracy': base_accuracy        \n",
    "    }\n",
    ")\n",
    "\n",
    "# query the classroom collection\n",
    "companys = db.find({\n",
    "  'model': 'RFR',\n",
    "  'name': name,})\n",
    "\n",
    "# see change in collection\n",
    "for company in companys:\n",
    "    print(company)"
   ]
  }
 ],
 "metadata": {
  "interpreter": {
   "hash": "45bb1cb4637e4034484920e5cfb24c9afd84b0847d6c36e39edd3067d3a05462"
  },
  "kernel_info": {
   "name": "dev"
  },
  "kernelspec": {
   "display_name": "Python 3.9.7 ('base')",
   "language": "python",
   "name": "python3"
  },
  "language_info": {
   "codemirror_mode": {
    "name": "ipython",
    "version": 3
   },
   "file_extension": ".py",
   "mimetype": "text/x-python",
   "name": "python",
   "nbconvert_exporter": "python",
   "pygments_lexer": "ipython3",
   "version": "3.9.7"
  },
  "nteract": {
   "version": "0.12.3"
  }
 },
 "nbformat": 4,
 "nbformat_minor": 2
}
