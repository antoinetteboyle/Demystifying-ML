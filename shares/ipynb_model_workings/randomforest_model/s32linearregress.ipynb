{
 "cells": [
  {
   "cell_type": "code",
   "execution_count": 1,
   "metadata": {},
   "outputs": [
    {
     "name": "stdout",
     "output_type": "stream",
     "text": [
      "Requirement already satisfied: sklearn in c:\\users\\antoi\\anaconda3\\lib\\site-packages (0.0)\n",
      "Requirement already satisfied: scikit-learn in c:\\users\\antoi\\anaconda3\\lib\\site-packages (from sklearn) (0.24.2)\n",
      "Requirement already satisfied: joblib>=0.11 in c:\\users\\antoi\\anaconda3\\lib\\site-packages (from scikit-learn->sklearn) (1.1.0)\n",
      "Requirement already satisfied: numpy>=1.13.3 in c:\\users\\antoi\\anaconda3\\lib\\site-packages (from scikit-learn->sklearn) (1.20.3)\n",
      "Requirement already satisfied: threadpoolctl>=2.0.0 in c:\\users\\antoi\\anaconda3\\lib\\site-packages (from scikit-learn->sklearn) (2.2.0)\n",
      "Requirement already satisfied: scipy>=0.19.1 in c:\\users\\antoi\\anaconda3\\lib\\site-packages (from scikit-learn->sklearn) (1.7.1)\n",
      "Requirement already satisfied: joblib in c:\\users\\antoi\\anaconda3\\lib\\site-packages (1.1.0)\n"
     ]
    }
   ],
   "source": [
    "# Update sklearn to prevent version mismatches\n",
    "!pip install sklearn --upgrade\n",
    "# install joblib. This will be used to save your model. \n",
    "# Restart your kernel after installing \n",
    "!pip install joblib"
   ]
  },
  {
   "cell_type": "markdown",
   "metadata": {},
   "source": [
    "This model uses a neural network and GridSearchCV to predict share price impacts of Interest changes"
   ]
  },
  {
   "cell_type": "markdown",
   "metadata": {},
   "source": [
    "# Read the CSV and Perform Basic Data Cleaning"
   ]
  },
  {
   "cell_type": "code",
   "execution_count": 2,
   "metadata": {},
   "outputs": [],
   "source": [
    "import matplotlib.pyplot as plt\n",
    "import numpy as np\n",
    "import pandas as pd"
   ]
  },
  {
   "cell_type": "code",
   "execution_count": 3,
   "metadata": {},
   "outputs": [
    {
     "data": {
      "text/html": [
       "<div>\n",
       "<style scoped>\n",
       "    .dataframe tbody tr th:only-of-type {\n",
       "        vertical-align: middle;\n",
       "    }\n",
       "\n",
       "    .dataframe tbody tr th {\n",
       "        vertical-align: top;\n",
       "    }\n",
       "\n",
       "    .dataframe thead th {\n",
       "        text-align: right;\n",
       "    }\n",
       "</style>\n",
       "<table border=\"1\" class=\"dataframe\">\n",
       "  <thead>\n",
       "    <tr style=\"text-align: right;\">\n",
       "      <th></th>\n",
       "      <th>Date</th>\n",
       "      <th>Open</th>\n",
       "      <th>High</th>\n",
       "      <th>Low</th>\n",
       "      <th>Close</th>\n",
       "      <th>Adj Close</th>\n",
       "      <th>Volume</th>\n",
       "      <th>RBA</th>\n",
       "      <th>FED</th>\n",
       "      <th>CPI</th>\n",
       "    </tr>\n",
       "  </thead>\n",
       "  <tbody>\n",
       "    <tr>\n",
       "      <th>1826</th>\n",
       "      <td>1/08/2022</td>\n",
       "      <td>3.88</td>\n",
       "      <td>3.91</td>\n",
       "      <td>3.83</td>\n",
       "      <td>3.86</td>\n",
       "      <td>3.86</td>\n",
       "      <td>14820144</td>\n",
       "      <td>1.35</td>\n",
       "      <td>2.5</td>\n",
       "      <td>125.0</td>\n",
       "    </tr>\n",
       "    <tr>\n",
       "      <th>1827</th>\n",
       "      <td>2/08/2022</td>\n",
       "      <td>3.78</td>\n",
       "      <td>3.81</td>\n",
       "      <td>3.71</td>\n",
       "      <td>3.74</td>\n",
       "      <td>3.74</td>\n",
       "      <td>15777818</td>\n",
       "      <td>1.35</td>\n",
       "      <td>2.5</td>\n",
       "      <td>125.0</td>\n",
       "    </tr>\n",
       "    <tr>\n",
       "      <th>1828</th>\n",
       "      <td>3/08/2022</td>\n",
       "      <td>3.69</td>\n",
       "      <td>3.81</td>\n",
       "      <td>3.67</td>\n",
       "      <td>3.77</td>\n",
       "      <td>3.77</td>\n",
       "      <td>17921594</td>\n",
       "      <td>1.85</td>\n",
       "      <td>2.5</td>\n",
       "      <td>125.0</td>\n",
       "    </tr>\n",
       "    <tr>\n",
       "      <th>1829</th>\n",
       "      <td>4/08/2022</td>\n",
       "      <td>3.78</td>\n",
       "      <td>3.84</td>\n",
       "      <td>3.73</td>\n",
       "      <td>3.74</td>\n",
       "      <td>3.74</td>\n",
       "      <td>18072367</td>\n",
       "      <td>1.85</td>\n",
       "      <td>2.5</td>\n",
       "      <td>125.0</td>\n",
       "    </tr>\n",
       "    <tr>\n",
       "      <th>1830</th>\n",
       "      <td>5/08/2022</td>\n",
       "      <td>3.74</td>\n",
       "      <td>3.85</td>\n",
       "      <td>3.72</td>\n",
       "      <td>3.83</td>\n",
       "      <td>3.83</td>\n",
       "      <td>13203688</td>\n",
       "      <td>1.85</td>\n",
       "      <td>2.5</td>\n",
       "      <td>125.0</td>\n",
       "    </tr>\n",
       "  </tbody>\n",
       "</table>\n",
       "</div>"
      ],
      "text/plain": [
       "           Date  Open  High   Low  Close  Adj Close    Volume   RBA  FED  \\\n",
       "1826  1/08/2022  3.88  3.91  3.83   3.86       3.86  14820144  1.35  2.5   \n",
       "1827  2/08/2022  3.78  3.81  3.71   3.74       3.74  15777818  1.35  2.5   \n",
       "1828  3/08/2022  3.69  3.81  3.67   3.77       3.77  17921594  1.85  2.5   \n",
       "1829  4/08/2022  3.78  3.84  3.73   3.74       3.74  18072367  1.85  2.5   \n",
       "1830  5/08/2022  3.74  3.85  3.72   3.83       3.83  13203688  1.85  2.5   \n",
       "\n",
       "        CPI  \n",
       "1826  125.0  \n",
       "1827  125.0  \n",
       "1828  125.0  \n",
       "1829  125.0  \n",
       "1830  125.0  "
      ]
     },
     "execution_count": 3,
     "metadata": {},
     "output_type": "execute_result"
    }
   ],
   "source": [
    "df_stock1 = pd.read_csv(\"../../static/data/s32.csv\")\n",
    "# Drop the null columns where all values are null\n",
    "df_stock2 = df_stock1.dropna(axis='columns', how='all')\n",
    "# Drop the null rows\n",
    "df = df_stock2.dropna()\n",
    "df.tail()"
   ]
  },
  {
   "cell_type": "code",
   "execution_count": 4,
   "metadata": {},
   "outputs": [
    {
     "name": "stdout",
     "output_type": "stream",
     "text": [
      "12/08/2022 4.050000190734863\n"
     ]
    },
    {
     "data": {
      "text/plain": [
       "<bound method NDFrame.tail of                            _id        Date  Open   High   Low  Close  \\\n",
       "0     62ecdaa9390f6730149e72fa  18/05/2015  2.13  2.220  2.01   2.05   \n",
       "1     62ecdaa9390f6730149e72fb  19/05/2015  2.17  2.340  2.16   2.33   \n",
       "2     62ecdaa9390f6730149e72fc  20/05/2015  2.35  2.370  2.25   2.36   \n",
       "3     62ecdaa9390f6730149e72fd  21/05/2015  2.35  2.450  2.34   2.37   \n",
       "4     62ecdaa9390f6730149e72fe  22/05/2015  2.36  2.390  2.30   2.31   \n",
       "...                        ...         ...   ...    ...   ...    ...   \n",
       "1831  62f2226303b51dc2011f527b  08/08/2022  3.88  3.970  3.87   3.92   \n",
       "1832  62f36f704f70a424d312bbfa  09/08/2022  3.95  3.970  3.89   3.90   \n",
       "1833  62f6fe5b8cf65b35ad100ad5  10/08/2022  3.88  3.945  3.87   3.88   \n",
       "1834  62f6fe5b8cf65b35ad100ad6  11/08/2022  3.95  4.040  3.95   4.04   \n",
       "1835  62f71c7a8cf65b35ad100ad9  12/08/2022  4.04  4.060  4.00   4.05   \n",
       "\n",
       "      Adj Close     Volume   RBA   FED    CPI  \n",
       "0      1.750502  160185286  2.00  0.25  107.5  \n",
       "1      1.989595  192730310  2.00  0.25  107.5  \n",
       "2      2.015213   59085150  2.00  0.25  107.5  \n",
       "3      2.023751   54016569  2.00  0.25  107.5  \n",
       "4      1.972517   38646976  2.00  0.25  107.5  \n",
       "...         ...        ...   ...   ...    ...  \n",
       "1831   3.920000   17656062  1.85  2.50  125.0  \n",
       "1832   3.900000   15955004  1.85  2.50  125.0  \n",
       "1833   3.880000   10241979  1.85  2.50  125.0  \n",
       "1834   4.040000   16443737  1.85  2.50  125.0  \n",
       "1835   4.050000   17223879  1.85  2.50  125.0  \n",
       "\n",
       "[1836 rows x 11 columns]>"
      ]
     },
     "execution_count": 4,
     "metadata": {},
     "output_type": "execute_result"
    }
   ],
   "source": [
    "# Connect to MongoDb\n",
    "from pymongo import MongoClient\n",
    "mongoClient = MongoClient()\n",
    "db = mongoClient.sharesDB\n",
    "\n",
    "df_mongo = pd.DataFrame(list(db.s32.find()))\n",
    "last_val = df_mongo.iloc[-1:].values\n",
    "last_date = last_val[0][1]\n",
    "last_close = last_val[0][5]\n",
    "# print(last_val)\n",
    "print(last_date,last_close)\n",
    "df_mongo.tail\n"
   ]
  },
  {
   "cell_type": "markdown",
   "metadata": {},
   "source": [
    "# Use `RBA`,`FED` and `CPI` for the X values"
   ]
  },
  {
   "cell_type": "code",
   "execution_count": 5,
   "metadata": {},
   "outputs": [
    {
     "name": "stdout",
     "output_type": "stream",
     "text": [
      "(1836, 3) (1836, 1)\n"
     ]
    }
   ],
   "source": [
    "X = df_mongo[[\"RBA\",\"FED\",\"CPI\"]]\n",
    "y = df_mongo[\"Close\"].values.reshape(-1, 1)\n",
    "print(X.shape, y.shape)"
   ]
  },
  {
   "cell_type": "code",
   "execution_count": 6,
   "metadata": {},
   "outputs": [],
   "source": [
    "# X = df_mongo[[\"RBA\",\"FED\",\"CPI\"]]\n",
    "# y = df_mongo[\"Close\"].values.reshape(-1, 1)\n",
    "# print(X.shape, y.shape)"
   ]
  },
  {
   "cell_type": "code",
   "execution_count": 7,
   "metadata": {},
   "outputs": [
    {
     "data": {
      "text/plain": [
       "array([[2.05      ],\n",
       "       [2.33      ],\n",
       "       [2.36      ],\n",
       "       ...,\n",
       "       [3.88000011],\n",
       "       [4.03999996],\n",
       "       [4.05000019]])"
      ]
     },
     "execution_count": 7,
     "metadata": {},
     "output_type": "execute_result"
    }
   ],
   "source": [
    "y"
   ]
  },
  {
   "cell_type": "markdown",
   "metadata": {},
   "source": [
    "# Create a Train Test Split"
   ]
  },
  {
   "cell_type": "code",
   "execution_count": 8,
   "metadata": {},
   "outputs": [
    {
     "name": "stdout",
     "output_type": "stream",
     "text": [
      "(1377, 3) (1377, 1)\n",
      "(459, 3) (459, 1)\n",
      "<bound method DataFrame.info of        RBA   FED    CPI\n",
      "1723  0.10  1.25  123.4\n",
      "812   1.50  2.00  113.5\n",
      "1387  0.25  1.25  117.2\n",
      "1204  0.75  1.75  116.6\n",
      "1281  0.25  1.25  114.4\n",
      "...    ...   ...    ...\n",
      "905   1.50  2.25  114.1\n",
      "1791  0.85  1.00  125.0\n",
      "1096  1.00  2.25  115.4\n",
      "235   2.00  0.50  108.6\n",
      "1061  1.00  2.50  115.4\n",
      "\n",
      "[1377 rows x 3 columns]>\n"
     ]
    }
   ],
   "source": [
    "# Use train_test_split to create training and testing data\n",
    "from sklearn.model_selection import train_test_split\n",
    "\n",
    "X_train, X_test, y_train, y_test = train_test_split(X, y, random_state=1)\n",
    "print(X_train.shape, y_train.shape)\n",
    "print(X_test.shape, y_test.shape)\n",
    "print(X_train.info)"
   ]
  },
  {
   "cell_type": "code",
   "execution_count": 9,
   "metadata": {},
   "outputs": [],
   "source": [
    "from sklearn.linear_model import LinearRegression\n",
    "model = LinearRegression()"
   ]
  },
  {
   "cell_type": "markdown",
   "metadata": {},
   "source": [
    "# Fit the model"
   ]
  },
  {
   "cell_type": "code",
   "execution_count": 10,
   "metadata": {},
   "outputs": [
    {
     "name": "stdout",
     "output_type": "stream",
     "text": [
      "Training Score: 0.6058611210213976\n",
      "Testing Score: 0.6284395827442691\n"
     ]
    }
   ],
   "source": [
    "# Fit the model to the training data and calculate the scores for the training and testing data\n",
    "\n",
    "### BEGIN SOLUTION\n",
    "model.fit(X_train, y_train)\n",
    "training_score = model.score(X_train, y_train)\n",
    "testing_score = model.score(X_test, y_test)\n",
    "\n",
    "### END SOLUTION \n",
    "\n",
    "print(f\"Training Score: {training_score}\")\n",
    "print(f\"Testing Score: {testing_score}\")"
   ]
  },
  {
   "cell_type": "code",
   "execution_count": 11,
   "metadata": {},
   "outputs": [
    {
     "name": "stdout",
     "output_type": "stream",
     "text": [
      "The history saving thread hit an unexpected error (OperationalError('database is locked')).History will not be written to the database.\n"
     ]
    }
   ],
   "source": [
    "# X_train = X_train.reshape((X_train.shape[0], 1))"
   ]
  },
  {
   "cell_type": "code",
   "execution_count": 12,
   "metadata": {},
   "outputs": [],
   "source": [
    "#Linear Regression Residual showing difference actual vs predicted\n",
    "# residual = pd.DataFrame([model.predict(X_train),y_train,(model.predict(X_train)-y_train)])\n",
    "# residual.tail"
   ]
  },
  {
   "cell_type": "code",
   "execution_count": 13,
   "metadata": {},
   "outputs": [
    {
     "data": {
      "text/plain": [
       "Text(0.5, 1.0, 'Residual Plot')"
      ]
     },
     "execution_count": 13,
     "metadata": {},
     "output_type": "execute_result"
    },
    {
     "data": {
      "image/png": "[encoded data removed]",
      "text/plain": [
       "<Figure size 432x288 with 1 Axes>"
      ]
     },
     "metadata": {
      "needs_background": "light"
     },
     "output_type": "display_data"
    }
   ],
   "source": [
    "# Plot the Residuals for the Training and Testing data\n",
    "plt.scatter(model.predict(X_train), model.predict(X_train) - y_train, c=\"blue\", label=\"Training Data\")\n",
    "plt.scatter(model.predict(X_test), model.predict(X_test) - y_test, c=\"orange\", label=\"Testing Data\")\n",
    "plt.legend()\n",
    "plt.hlines(y=0, xmin=y.min(), xmax=y.max())\n",
    "plt.title(\"Residual Plot\")"
   ]
  },
  {
   "cell_type": "code",
   "execution_count": 14,
   "metadata": {},
   "outputs": [],
   "source": [
    "# Linear Regression: X_test predictions to variable\n",
    "predictions = model.predict(X_test)"
   ]
  },
  {
   "cell_type": "markdown",
   "metadata": {},
   "source": [
    "#### R2 Score is a very popular metric used for evaluating the performance of linear regression models. Where R2 Score is between 0 and 1, the closer to 1, the better the regression fit.\n",
    "#### Use MSE or MAE when comparing two or more models, the lower the value of MSE or MAE, the better. MSE (Mean Square Error): Uses Euclidean distance to calculate the error. MSE gives the magnitude of the error only."
   ]
  },
  {
   "cell_type": "code",
   "execution_count": 15,
   "metadata": {},
   "outputs": [
    {
     "name": "stdout",
     "output_type": "stream",
     "text": [
      "MSE: 0.27527721041109265, R2: 0.6284395827442691\n"
     ]
    }
   ],
   "source": [
    "# Used X_test, y_test, and model.predict(X_test) to calculate MSE and R2\n",
    "\n",
    "### BEGIN SOLUTION\n",
    "from sklearn.metrics import mean_squared_error\n",
    "\n",
    "MSE = mean_squared_error(y_test, predictions)\n",
    "r2 = model.score(X_test, y_test)\n",
    "### END SOLUTION\n",
    "\n",
    "print(f\"MSE: {MSE}, R2: {r2}\")"
   ]
  },
  {
   "cell_type": "markdown",
   "metadata": {},
   "source": [
    "#### Lasso regression imposes a constraint on the model parameters that causes regression coefficients for some variables to shrink toward zero. It comes with a parameter, alpha , and the higher the alpha , the more feature coefficients are zero. When alpha is 0 , Lasso regression produces the same coefficients as a linear regression."
   ]
  },
  {
   "cell_type": "code",
   "execution_count": 16,
   "metadata": {},
   "outputs": [
    {
     "name": "stdout",
     "output_type": "stream",
     "text": [
      "MSE: 0.27888651136864756, R2: 0.6235678631864173\n"
     ]
    }
   ],
   "source": [
    "# LASSO model\n",
    "# Note: Used an alpha of .01 when creating the model for this activity\n",
    "from sklearn.linear_model import Lasso\n",
    "\n",
    "### BEGIN SOLUTION\n",
    "lasso = Lasso(alpha=.01).fit(X_train, y_train)\n",
    "\n",
    "predictions = lasso.predict(X_test)\n",
    "\n",
    "MSE = mean_squared_error(y_test, predictions)\n",
    "r2 = lasso.score(X_test, y_test)\n",
    "### END SOLUTION\n",
    "\n",
    "print(f\"MSE: {MSE}, R2: {r2}\")"
   ]
  },
  {
   "cell_type": "code",
   "execution_count": 17,
   "metadata": {},
   "outputs": [
    {
     "name": "stdout",
     "output_type": "stream",
     "text": [
      "MSE: 0.2752785217779475, R2: 0.6284378127030259\n"
     ]
    }
   ],
   "source": [
    "# Ridge model\n",
    "# Note: Used an alpha of .01 when creating the model for this activity\n",
    "from sklearn.linear_model import Ridge\n",
    "\n",
    "### BEGIN SOLUTION\n",
    "ridge = Ridge(alpha=.01).fit(X_train, y_train)\n",
    "\n",
    "predictions = ridge.predict(X_test)\n",
    "\n",
    "MSE = mean_squared_error(y_test, predictions)\n",
    "r2 = ridge.score(X_test, y_test)\n",
    "### END SOLUTION\n",
    "\n",
    "print(f\"MSE: {MSE}, R2: {r2}\")"
   ]
  },
  {
   "cell_type": "code",
   "execution_count": 18,
   "metadata": {},
   "outputs": [
    {
     "name": "stdout",
     "output_type": "stream",
     "text": [
      "MSE: 0.2779611581549473, R2: 0.6248168755026854\n"
     ]
    }
   ],
   "source": [
    "# ElasticNet model\n",
    "# Note: Use an alpha of .01 when creating the model for this activity\n",
    "from sklearn.linear_model import ElasticNet\n",
    "\n",
    "### BEGIN SOLUTION\n",
    "elasticnet = ElasticNet(alpha=.01).fit(X_train, y_train)\n",
    "\n",
    "predictions = elasticnet.predict(X_test)\n",
    "\n",
    "MSE = mean_squared_error(y_test, predictions)\n",
    "r2 = elasticnet.score(X_test, y_test)\n",
    "### END SOLUTION\n",
    "\n",
    "print(f\"MSE: {MSE}, R2: {r2}\")"
   ]
  },
  {
   "cell_type": "markdown",
   "metadata": {},
   "source": [
    "# Hyperparameter Tuning"
   ]
  },
  {
   "cell_type": "code",
   "execution_count": 19,
   "metadata": {},
   "outputs": [
    {
     "data": {
      "text/plain": [
       "(1836,)"
      ]
     },
     "execution_count": 19,
     "metadata": {},
     "output_type": "execute_result"
    }
   ],
   "source": [
    "y_target = df_mongo[\"Close\"]\n",
    "y_target.shape"
   ]
  },
  {
   "cell_type": "code",
   "execution_count": 20,
   "metadata": {},
   "outputs": [
    {
     "name": "stdout",
     "output_type": "stream",
     "text": [
      "(1377, 3) (1377,)\n",
      "(459, 3) (459,)\n"
     ]
    }
   ],
   "source": [
    "# Use train_test_split to create training and testing data\n",
    "from sklearn.model_selection import train_test_split\n",
    "\n",
    "X_train, X_test, y_train, y_test = train_test_split(X, y_target, random_state=1)\n",
    "print(X_train.shape, y_train.shape)\n",
    "print(X_test.shape, y_test.shape)"
   ]
  },
  {
   "cell_type": "code",
   "execution_count": 21,
   "metadata": {},
   "outputs": [
    {
     "name": "stdout",
     "output_type": "stream",
     "text": [
      "(1377, 3) (1377,)\n",
      "(459, 3) (459,)\n"
     ]
    }
   ],
   "source": [
    "print(X_train.shape,y_train.shape)\n",
    "print(X_test.shape,y_test.shape)"
   ]
  },
  {
   "cell_type": "markdown",
   "metadata": {},
   "source": [
    "#### GridSearchCV and RandomizedSearchCV are techniques to evaluate models for a given hyperparameter vector using cross-validation, hence the “CV” suffix of the class name.\n",
    "#### We are executing many models together is to find which machine learning model works best for this particular dataset."
   ]
  },
  {
   "cell_type": "code",
   "execution_count": 22,
   "metadata": {},
   "outputs": [],
   "source": [
    "from sklearn.linear_model import LinearRegression, Ridge,Lasso\n",
    "from sklearn.neighbors import KNeighborsRegressor\n",
    "from sklearn.ensemble import GradientBoostingRegressor\n",
    "from sklearn.ensemble import ExtraTreesRegressor, RandomForestRegressor\n",
    "from sklearn.tree import DecisionTreeRegressor"
   ]
  },
  {
   "cell_type": "code",
   "execution_count": 23,
   "metadata": {},
   "outputs": [],
   "source": [
    "regressors = [\n",
    "    RandomForestRegressor(),\n",
    "    DecisionTreeRegressor(),\n",
    "    KNeighborsRegressor(),\n",
    "    GradientBoostingRegressor(),\n",
    "    KNeighborsRegressor(),\n",
    "    ExtraTreesRegressor(),\n",
    "    LinearRegression(),\n",
    "    Lasso(),\n",
    "    Ridge()\n",
    "]"
   ]
  },
  {
   "cell_type": "code",
   "execution_count": 24,
   "metadata": {},
   "outputs": [
    {
     "name": "stdout",
     "output_type": "stream",
     "text": [
      "RandomForestRegressor()\n",
      "\tTraining time: 0.237s\n",
      "\tPrediction time: 0.016s\n",
      "\tExplained variance: 0.9601220328648158\n",
      "\tMean absolute error: 0.12967014845765928\n",
      "\tR2 score: 0.9601179570817873\n",
      "\n",
      "DecisionTreeRegressor()\n",
      "\tTraining time: 0.002s\n",
      "\tPrediction time: 0.000s\n",
      "\tExplained variance: 0.9602191212634253\n",
      "\tMean absolute error: 0.12948966961929687\n",
      "\tR2 score: 0.9602123335895094\n",
      "\n",
      "KNeighborsRegressor()\n",
      "\tTraining time: 0.003s\n",
      "\tPrediction time: 0.010s\n",
      "\tExplained variance: 0.9503322875811452\n",
      "\tMean absolute error: 0.13849019607843138\n",
      "\tR2 score: 0.9502343915346948\n",
      "\n",
      "GradientBoostingRegressor()\n",
      "\tTraining time: 0.068s\n",
      "\tPrediction time: 0.003s\n",
      "\tExplained variance: 0.9586836696947644\n",
      "\tMean absolute error: 0.1341475102070751\n",
      "\tR2 score: 0.958662068172619\n",
      "\n",
      "KNeighborsRegressor()\n",
      "\tTraining time: 0.003s\n",
      "\tPrediction time: 0.028s\n",
      "\tExplained variance: 0.9503322875811452\n",
      "\tMean absolute error: 0.13849019607843138\n",
      "\tR2 score: 0.9502343915346948\n",
      "\n",
      "ExtraTreesRegressor()\n",
      "\tTraining time: 0.169s\n",
      "\tPrediction time: 0.040s\n",
      "\tExplained variance: 0.9602204180978724\n",
      "\tMean absolute error: 0.12946203189754163\n",
      "\tR2 score: 0.9602143117947636\n",
      "\n",
      "LinearRegression()\n",
      "\tTraining time: 0.780s\n",
      "\tPrediction time: 0.001s\n",
      "\tExplained variance: 0.6284778584525503\n",
      "\tMean absolute error: 0.4426665557696357\n",
      "\tR2 score: 0.6284395827442691\n",
      "\n",
      "Lasso()\n",
      "\tTraining time: 0.003s\n",
      "\tPrediction time: 0.001s\n",
      "\tExplained variance: 0.3744967061710751\n",
      "\tMean absolute error: 0.5911270338403787\n",
      "\tR2 score: 0.3736026184212474\n",
      "\n",
      "Ridge()\n",
      "\tTraining time: 0.066s\n",
      "\tPrediction time: 0.001s\n",
      "\tExplained variance: 0.6283010408584846\n",
      "\tMean absolute error: 0.4429113511988323\n",
      "\tR2 score: 0.6282619763057791\n",
      "\n"
     ]
    }
   ],
   "source": [
    "from time import time\n",
    "from sklearn.metrics import explained_variance_score,mean_absolute_error,r2_score\n",
    "\n",
    "head = 10\n",
    "for model in regressors[:head]:\n",
    "    start = time()\n",
    "    model.fit(X_train, y_train)\n",
    "    train_time = time() - start\n",
    "    start = time()\n",
    "    y_pred = model.predict(X_test)\n",
    "    predict_time = time()-start    \n",
    "    print(model)\n",
    "    print(\"\\tTraining time: %0.3fs\" % train_time)\n",
    "    print(\"\\tPrediction time: %0.3fs\" % predict_time)\n",
    "    print(\"\\tExplained variance:\", explained_variance_score(y_test, y_pred))\n",
    "    print(\"\\tMean absolute error:\", mean_absolute_error(y_test, y_pred))\n",
    "    print(\"\\tR2 score:\", r2_score(y_test, y_pred))\n",
    "    print()"
   ]
  },
  {
   "cell_type": "markdown",
   "metadata": {},
   "source": [
    "#### By comparing these results, we can quickly see that RandomForestRegressor and DecisionTreeRegressor are the best models for our data\n",
    "#### Machine learning models have parameters, which are the internal coefficients set by training or optimizing the model on a training dataset.\n",
    "#### Parameters are different from hyperparameters. Parameters are learned automatically; hyperparameters are set manually to help guide the learning process."
   ]
  },
  {
   "cell_type": "code",
   "execution_count": 25,
   "metadata": {},
   "outputs": [
    {
     "name": "stdout",
     "output_type": "stream",
     "text": [
      "Parameters currently in use:\n",
      "\n",
      "{'bootstrap': True,\n",
      " 'ccp_alpha': 0.0,\n",
      " 'criterion': 'mse',\n",
      " 'max_depth': None,\n",
      " 'max_features': 'auto',\n",
      " 'max_leaf_nodes': None,\n",
      " 'max_samples': None,\n",
      " 'min_impurity_decrease': 0.0,\n",
      " 'min_impurity_split': None,\n",
      " 'min_samples_leaf': 1,\n",
      " 'min_samples_split': 2,\n",
      " 'min_weight_fraction_leaf': 0.0,\n",
      " 'n_estimators': 100,\n",
      " 'n_jobs': None,\n",
      " 'oob_score': False,\n",
      " 'random_state': 42,\n",
      " 'verbose': 0,\n",
      " 'warm_start': False}\n"
     ]
    }
   ],
   "source": [
    "from sklearn.ensemble import RandomForestRegressor\n",
    "rf = RandomForestRegressor(random_state = 42)\n",
    "from pprint import pprint\n",
    "# Look at parameters used by our current forest\n",
    "print('Parameters currently in use:\\n')\n",
    "pprint(rf.get_params())"
   ]
  },
  {
   "cell_type": "code",
   "execution_count": 26,
   "metadata": {},
   "outputs": [
    {
     "name": "stdout",
     "output_type": "stream",
     "text": [
      "{'bootstrap': [True, False],\n",
      " 'max_depth': [10, 20, 30, 40, 50, 60, 70, 80, 90, 100, 110, None],\n",
      " 'max_features': ['auto', 'sqrt'],\n",
      " 'min_samples_leaf': [1, 2, 4],\n",
      " 'min_samples_split': [2, 5, 10],\n",
      " 'n_estimators': [200, 400, 600, 800, 1000, 1200, 1400, 1600, 1800, 2000]}\n"
     ]
    }
   ],
   "source": [
    "from sklearn.model_selection import RandomizedSearchCV\n",
    "# Number of trees in random forest\n",
    "n_estimators = [int(x) for x in np.linspace(start = 200, stop = 2000, num = 10)]\n",
    "# Number of features to consider at every split\n",
    "max_features = ['auto', 'sqrt']\n",
    "# Maximum number of levels in tree\n",
    "max_depth = [int(x) for x in np.linspace(10, 110, num = 11)]\n",
    "max_depth.append(None)\n",
    "# Minimum number of samples required to split a node\n",
    "min_samples_split = [2, 5, 10]\n",
    "# Minimum number of samples required at each leaf node\n",
    "min_samples_leaf = [1, 2, 4]\n",
    "# Method of selecting samples for training each tree\n",
    "bootstrap = [True, False]\n",
    "# Create the random grid\n",
    "random_grid = {'n_estimators': n_estimators,\n",
    "               'max_features': max_features,\n",
    "               'max_depth': max_depth,\n",
    "               'min_samples_split': min_samples_split,\n",
    "               'min_samples_leaf': min_samples_leaf,\n",
    "               'bootstrap': bootstrap}\n",
    "pprint(random_grid)"
   ]
  },
  {
   "cell_type": "code",
   "execution_count": 27,
   "metadata": {},
   "outputs": [
    {
     "name": "stdout",
     "output_type": "stream",
     "text": [
      "Fitting 3 folds for each of 100 candidates, totalling 300 fits\n"
     ]
    },
    {
     "data": {
      "text/plain": [
       "RandomizedSearchCV(cv=3, estimator=RandomForestRegressor(), n_iter=100,\n",
       "                   n_jobs=-1,\n",
       "                   param_distributions={'bootstrap': [True, False],\n",
       "                                        'max_depth': [10, 20, 30, 40, 50, 60,\n",
       "                                                      70, 80, 90, 100, 110,\n",
       "                                                      None],\n",
       "                                        'max_features': ['auto', 'sqrt'],\n",
       "                                        'min_samples_leaf': [1, 2, 4],\n",
       "                                        'min_samples_split': [2, 5, 10],\n",
       "                                        'n_estimators': [200, 400, 600, 800,\n",
       "                                                         1000, 1200, 1400, 1600,\n",
       "                                                         1800, 2000]},\n",
       "                   random_state=42, verbose=2)"
      ]
     },
     "execution_count": 27,
     "metadata": {},
     "output_type": "execute_result"
    }
   ],
   "source": [
    "# Use the random grid to search for best hyperparameters\n",
    "# First create the base model to tune\n",
    "rf = RandomForestRegressor()\n",
    "# Random search of parameters, using 3 fold cross validation, \n",
    "# search across 100 different combinations, and use all available cores\n",
    "rf_random = RandomizedSearchCV(estimator = rf, param_distributions = random_grid, n_iter = 100, cv = 3, verbose=2, random_state=42, n_jobs = -1)\n",
    "# Fit the random search model\n",
    "rf_random.fit(X_train, y_train)"
   ]
  },
  {
   "cell_type": "code",
   "execution_count": 28,
   "metadata": {},
   "outputs": [
    {
     "data": {
      "text/plain": [
       "{'n_estimators': 800,\n",
       " 'min_samples_split': 5,\n",
       " 'min_samples_leaf': 1,\n",
       " 'max_features': 'sqrt',\n",
       " 'max_depth': 90,\n",
       " 'bootstrap': False}"
      ]
     },
     "execution_count": 28,
     "metadata": {},
     "output_type": "execute_result"
    }
   ],
   "source": [
    "rf_random.best_params_"
   ]
  },
  {
   "cell_type": "code",
   "execution_count": 29,
   "metadata": {},
   "outputs": [
    {
     "name": "stdout",
     "output_type": "stream",
     "text": [
      "Model Performance\n",
      "Average Error: 0.1289 degrees.\n",
      "Accuracy = 95.15%.\n",
      "Model Performance\n",
      "Average Error: 0.1295 degrees.\n",
      "Accuracy = 95.11%.\n",
      "Improvement of -0.03%.\n"
     ]
    }
   ],
   "source": [
    "def evaluate(model, X_test, y_test):\n",
    "    predictions = model.predict(X_test)\n",
    "    errors = abs(predictions - y_test)\n",
    "    mape = 100 * np.mean(errors / y_test)\n",
    "    accuracy = 100 - mape\n",
    "    print('Model Performance')\n",
    "    print('Average Error: {:0.4f} degrees.'.format(np.mean(errors)))\n",
    "    print('Accuracy = {:0.2f}%.'.format(accuracy))\n",
    "    return accuracy\n",
    "base_model = RandomForestRegressor(n_estimators = 10, random_state = 42)\n",
    "base_model.fit(X_train, y_train)\n",
    "base_accuracy = evaluate(base_model, X_test, y_test)\n",
    "\n",
    "best_random = rf_random.best_estimator_\n",
    "random_accuracy = evaluate(best_random, X_test, y_test)\n",
    "\n",
    "print('Improvement of {:0.2f}%.'.format( 100 * (random_accuracy - base_accuracy) / base_accuracy))"
   ]
  },
  {
   "cell_type": "code",
   "execution_count": 30,
   "metadata": {},
   "outputs": [
    {
     "data": {
      "text/plain": [
       "95.14736830074555"
      ]
     },
     "execution_count": 30,
     "metadata": {},
     "output_type": "execute_result"
    }
   ],
   "source": [
    "base_accuracy"
   ]
  },
  {
   "cell_type": "code",
   "execution_count": 31,
   "metadata": {},
   "outputs": [],
   "source": [
    "# Hyperparameter tuning has not improved accuracy significantly"
   ]
  },
  {
   "cell_type": "code",
   "execution_count": 32,
   "metadata": {},
   "outputs": [
    {
     "data": {
      "text/plain": [
       "array([2.96349437, 2.13694758, 2.71629124, 1.33079546, 4.67380137,\n",
       "       1.966537  , 3.58594537, 1.63134955, 1.21303947, 2.91606105,\n",
       "       2.96349437, 3.09242416, 1.05809727, 4.36098938, 2.91606105,\n",
       "       4.11546306, 3.56782204, 2.69268574, 2.71629124, 1.60379899,\n",
       "       1.60379899, 3.32499697, 2.63662468, 1.97136101, 2.15374433,\n",
       "       1.60379899, 2.63662468, 3.66048689, 3.21755339, 1.77397382,\n",
       "       1.60379899, 2.13694758, 3.66048689, 2.7311798 , 2.50155992,\n",
       "       1.33079546, 1.63134955, 2.80789618, 3.13282105, 1.79537337,\n",
       "       2.69268574, 4.94271964, 2.68887338, 1.33079546, 3.64160751,\n",
       "       1.33079546, 3.52298286, 2.13694758, 2.96349437, 2.68887338,\n",
       "       2.71629124, 3.73788453, 3.52298286, 3.09242416, 2.42302402,\n",
       "       1.79537337, 3.64160751, 2.80789618, 1.21303947, 2.63599089,\n",
       "       2.50155992, 2.42302402, 1.21303947, 4.36098938, 2.63599089,\n",
       "       3.13282105, 2.63599089, 2.63599089, 1.77397382, 2.71629124,\n",
       "       1.966537  , 1.21303947, 1.63134955, 2.63662468, 2.80789618,\n",
       "       2.96349437, 3.3304792 , 3.3304792 , 3.73788453, 3.66048689,\n",
       "       4.36098938, 3.32499697, 3.20209121, 2.50155992, 3.47726716,\n",
       "       1.55152566, 3.66048689, 3.66048689, 3.56782204, 2.96349437,\n",
       "       2.91606105, 2.91606105, 3.58594537, 2.11089516, 2.63834057,\n",
       "       3.47726716, 3.64160751, 1.33079546, 2.63599089, 2.11089516,\n",
       "       2.80789618, 1.63134955, 1.97136101, 3.32499697, 2.68425509,\n",
       "       3.73335526, 2.74352859, 3.73788453, 2.68887338, 2.91606105,\n",
       "       3.13282105, 2.96349437, 3.47726716, 2.7311798 , 3.47726716,\n",
       "       3.32499697, 3.64160751, 2.11089516, 2.74352859, 1.77397382,\n",
       "       1.97136101, 2.11089516, 3.56782204, 3.58594537, 2.11089516,\n",
       "       2.71629124, 4.67380137, 1.60379899, 2.15374433, 1.63134955,\n",
       "       3.73788453, 2.42302402, 3.56782204, 2.71629124, 4.67380137,\n",
       "       2.71629124, 2.91606105, 1.55152566, 3.09242416, 2.63662468,\n",
       "       2.69268574, 3.66048689, 2.91606105, 1.77397382, 2.96349437,\n",
       "       2.68425509, 3.27266038, 2.42302402, 3.56782204, 1.63134955,\n",
       "       3.64160751, 2.96349437, 1.97136101, 3.64160751, 3.73335526,\n",
       "       1.60379899, 2.69268574, 3.64160751, 2.7311798 , 3.58594537,\n",
       "       1.33079546, 4.36098938, 2.11089516, 3.56782204, 1.33079546,\n",
       "       2.91606105, 3.88583802, 2.15374433, 3.64160751, 1.05809727,\n",
       "       3.32499697, 2.15374433, 1.60379899, 1.21303947, 2.96349437,\n",
       "       3.64160751, 2.15374433, 3.64160751, 3.56782204, 2.69268574,\n",
       "       4.11546306, 1.21303947, 2.15374433, 3.32499697, 1.63134955,\n",
       "       4.36098938, 3.64160751, 2.69268574, 2.68887338, 2.91606105,\n",
       "       1.60379899, 2.91606105, 3.13282105, 4.36098938, 4.97022193,\n",
       "       1.97136101, 3.56782204, 2.42302402, 3.09242416, 2.63834057,\n",
       "       1.97136101, 3.58594537, 2.50155992, 2.96349437, 1.33079546,\n",
       "       1.97136101, 2.15374433, 2.63662468, 1.63134955, 3.32499697,\n",
       "       2.71629124, 3.32499697, 3.5591478 , 2.91606105, 3.58594537,\n",
       "       4.36098938, 4.97022193, 2.15374433, 2.42302402, 1.63134955,\n",
       "       3.47726716, 2.63834057, 3.52298286, 2.11089516, 2.63599089,\n",
       "       2.74352859, 3.52298286, 4.97022193, 1.77397382, 2.13694758,\n",
       "       1.33079546, 4.36098938, 1.55152566, 1.55152566, 1.63134955,\n",
       "       2.15374433, 2.63599089, 2.96349437, 1.63134955, 1.21303947,\n",
       "       3.66048689, 3.52298286, 2.15374433, 2.69268574, 3.3304792 ,\n",
       "       2.7311798 , 2.10220759, 2.96349437, 3.52298286, 2.71629124,\n",
       "       2.11089516, 4.11546306, 2.63599089, 3.58594537, 2.11089516,\n",
       "       3.66048689, 3.58594537, 2.10220759, 1.97136101, 4.36098938,\n",
       "       2.63662468, 2.63662468, 3.66048689, 1.60379899, 2.73555503,\n",
       "       4.36098938, 1.97136101, 2.69268574, 4.36098938, 3.09242416,\n",
       "       3.09242416, 2.91606105, 2.68887338, 3.58594537, 3.5591478 ,\n",
       "       2.96349437, 2.68887338, 2.68425509, 1.33079546, 3.52298286,\n",
       "       2.63599089, 2.71629124, 2.91606105, 2.68887338, 2.63662468,\n",
       "       2.74352859, 3.47726716, 4.36098938, 2.96349437, 2.71629124,\n",
       "       2.63834057, 3.52298286, 2.63599089, 3.66048689, 2.10220759,\n",
       "       3.58594537, 3.58594537, 2.80789618, 3.52298286, 1.33079546,\n",
       "       2.60495929, 1.21303947, 2.42302402, 2.10220759, 2.63662468,\n",
       "       2.63599089, 3.13282105, 3.32499697, 3.47726716, 3.47726716,\n",
       "       1.77397382, 1.77397382, 2.15374433, 1.33079546, 3.09242416,\n",
       "       3.56782204, 2.80789618, 3.64160751, 3.47726716, 3.32499697,\n",
       "       2.63599089, 3.58594537, 1.63134955, 2.63662468, 2.71629124,\n",
       "       3.66048689, 1.63134955, 2.96349437, 1.33079546, 2.15374433,\n",
       "       2.7311798 , 3.52298286, 4.94271964, 2.42302402, 3.58594537,\n",
       "       1.97136101, 3.3304792 , 3.21755339, 3.64160751, 2.91606105,\n",
       "       2.42302402, 2.42302402, 1.55152566, 3.64160751, 4.11546306,\n",
       "       2.11089516, 1.97136101, 4.97022193, 3.66048689, 3.56782204,\n",
       "       2.15374433, 1.60379899, 1.77397382, 2.63834057, 4.11546306,\n",
       "       2.71629124, 1.63134955, 3.64160751, 1.63134955, 3.52298286,\n",
       "       2.15374433, 3.73788453, 1.60379899, 3.73335526, 3.56782204,\n",
       "       3.32499697, 2.80789618, 3.09242416, 3.32499697, 3.27266038,\n",
       "       4.67380137, 2.69268574, 3.56782204, 1.33079546, 2.69268574,\n",
       "       2.91606105, 3.56782204, 2.71629124, 3.73335526, 3.3304792 ,\n",
       "       1.21303947, 2.7311798 , 2.96349437, 1.97136101, 2.63599089,\n",
       "       4.67380137, 3.56782204, 1.60379899, 2.96349437, 2.71629124,\n",
       "       2.80789618, 2.71629124, 3.66048689, 3.47726716, 3.32499697,\n",
       "       2.91606105, 2.15374433, 1.21303947, 1.77397382, 1.33079546,\n",
       "       1.55152566, 3.58594537, 2.42302402, 2.10220759, 1.21303947,\n",
       "       3.73788453, 3.56782204, 2.15374433, 2.13694758, 3.73788453,\n",
       "       3.5591478 , 2.50155992, 2.91606105, 3.32499697, 2.69268574,\n",
       "       3.66048689, 3.21755339, 2.10220759, 3.32499697, 2.69268574,\n",
       "       3.73788453, 3.5591478 , 1.63134955, 2.96349437, 2.63834057,\n",
       "       1.63134955, 1.60379899, 3.47726716, 2.42302402, 2.63662468,\n",
       "       3.66048689, 3.73788453, 3.58594537, 2.91606105, 2.68887338,\n",
       "       2.91606105, 4.67380137, 2.91606105, 1.63134955, 1.63134955,\n",
       "       3.66048689, 2.42302402, 1.77397382, 2.68887338, 2.68887338,\n",
       "       3.73788453, 3.21755339, 1.966537  , 3.32499697, 2.42302402,\n",
       "       2.69268574, 2.71629124, 2.91606105, 3.64160751, 2.15374433,\n",
       "       3.13282105, 3.09242416, 2.80789618, 3.09242416])"
      ]
     },
     "execution_count": 32,
     "metadata": {},
     "output_type": "execute_result"
    }
   ],
   "source": [
    "model_rfr = RandomForestRegressor()\n",
    "model_rfr.fit(X_train, y_train)\n",
    "y_test_pred = model_rfr.predict(X_test)\n",
    "y_test_pred"
   ]
  },
  {
   "cell_type": "code",
   "execution_count": 33,
   "metadata": {},
   "outputs": [
    {
     "data": {
      "text/plain": [
       "<bound method NDFrame.tail of        0         1         2         3         4         5         6     \\\n",
       "0  4.360989  3.567822  2.136948  2.635991  1.971361  3.641608  3.092424   \n",
       "1  5.120000  3.570000  2.130000  2.610000  2.190000  3.930000  2.890000   \n",
       "2 -0.759011 -0.002178  0.006948  0.025991 -0.218639 -0.288392  0.202424   \n",
       "\n",
       "      7         8         9     ...      1367      1368      1369      1370  \\\n",
       "0  4.94272  3.737885  2.688873  ...  1.330795  3.641608  3.567822  3.660487   \n",
       "1  5.03000  3.650000  2.780000  ...  1.120000  3.910000  3.810000  3.830000   \n",
       "2 -0.08728  0.087885 -0.091127  ...  0.210795 -0.268392 -0.242178 -0.169513   \n",
       "\n",
       "       1371      1372      1373      1374      1375      1376  \n",
       "0  3.585945  3.522983  4.985413  2.807896  1.551526  3.132821  \n",
       "1  3.240000  3.090000  4.800000  2.760000  1.550000  3.160000  \n",
       "2  0.345945  0.432983  0.185413  0.047896  0.001526 -0.027179  \n",
       "\n",
       "[3 rows x 1377 columns]>"
      ]
     },
     "execution_count": 33,
     "metadata": {},
     "output_type": "execute_result"
    }
   ],
   "source": [
    "#RandomForestRegressor Residual showing difference actual vs predicted\n",
    "residual_dtr = pd.DataFrame([model_rfr.predict(X_train),y_train,(model_rfr.predict(X_train)-y_train)])\n",
    "residual_dtr.tail"
   ]
  },
  {
   "cell_type": "code",
   "execution_count": 34,
   "metadata": {},
   "outputs": [
    {
     "data": {
      "image/png": "[encoded data removed]",
      "text/plain": [
       "<Figure size 432x288 with 1 Axes>"
      ]
     },
     "metadata": {
      "needs_background": "light"
     },
     "output_type": "display_data"
    }
   ],
   "source": [
    "# Make predictions using fitted model\n",
    "predictions1 = model_rfr.predict(X_test)\n",
    "\n",
    "# Plotted the difference between the model predicted values and actual y values, versus the model predicted values\n",
    "plt.scatter(model_rfr.predict(X_train), y_train - model_rfr.predict(X_train), c=\"blue\", label=\"Training Data\")\n",
    "plt.scatter(model_rfr.predict(X_test), y_test - model_rfr.predict(X_test), c=\"orange\", label=\"Testing Data\")\n",
    "plt.legend()\n",
    "plt.hlines(y=0, xmin=y_test.min(), xmax=y_test.max())\n",
    "plt.title(\"Residual Plot\")\n",
    "plt.show()"
   ]
  },
  {
   "cell_type": "markdown",
   "metadata": {},
   "source": [
    "# Save the Model"
   ]
  },
  {
   "cell_type": "code",
   "execution_count": 35,
   "metadata": {},
   "outputs": [],
   "source": [
    "import pickle\n",
    "filename = '../../static/s32_model_rfr.sav'\n",
    "pickle.dump(model, open(filename, 'wb'))\n",
    "model_in_rfr = pickle.load(open(filename, 'rb'))"
   ]
  },
  {
   "cell_type": "code",
   "execution_count": 36,
   "metadata": {},
   "outputs": [],
   "source": [
    "# from joblib import dump,load\n",
    "# model_in_rfr = load('s32_model_rfr.sav')"
   ]
  },
  {
   "cell_type": "code",
   "execution_count": 37,
   "metadata": {},
   "outputs": [
    {
     "name": "stdout",
     "output_type": "stream",
     "text": [
      "      RBA    FED     CPI  Prediction\n",
      "0    1.35   1.75  123.90        4.85\n",
      "1    1.60   2.00  124.15        5.14\n",
      "2    1.85   2.25  124.40        5.42\n",
      "3    2.10   2.50  124.65        5.71\n",
      "4    2.35   2.75  124.90        5.99\n",
      "5    2.60   3.00  125.15        6.27\n",
      "6    2.85   3.25  125.40        6.56\n",
      "7    3.10   3.50  125.65        6.84\n",
      "8    3.35   3.75  125.90        7.12\n",
      "9    3.60   4.00  126.15        7.41\n",
      "10   3.85   4.25  126.40        7.69\n",
      "11   4.10   4.50  126.65        7.98\n",
      "12   4.35   4.75  126.90        8.26\n",
      "13   4.60   5.00  127.15        8.54\n",
      "14   4.85   5.25  127.40        8.83\n",
      "15   5.10   5.50  127.65        9.11\n",
      "16   5.35   5.75  127.90        9.39\n",
      "17   5.60   6.00  128.15        9.68\n",
      "18   5.85   6.25  128.40        9.96\n",
      "19   6.10   6.50  128.65       10.24\n",
      "20   6.35   6.75  128.90       10.53\n",
      "21   6.60   7.00  129.15       10.81\n",
      "22   6.85   7.25  129.40       11.10\n",
      "23   7.10   7.50  129.65       11.38\n",
      "24   7.35   7.75  129.90       11.66\n",
      "25   7.60   8.00  130.15       11.95\n",
      "26   7.85   8.25  130.40       12.23\n",
      "27   8.10   8.50  130.65       12.51\n",
      "28   8.35   8.75  130.90       12.80\n",
      "29   8.60   9.00  131.15       13.08\n",
      "30   8.85   9.25  131.40       13.37\n",
      "31   9.10   9.50  131.65       13.65\n",
      "32   9.35   9.75  131.90       13.93\n",
      "33   9.60  10.00  132.15       14.22\n",
      "34   9.85  10.25  132.40       14.50\n",
      "35  10.10  10.50  132.65       14.78\n",
      "36  10.35  10.75  132.90       15.07\n",
      "37  10.60  11.00  133.15       15.35\n",
      "38  10.85  11.25  133.40       15.64\n",
      "39  11.10  11.50  133.65       15.92 [{'RBA': 1.35, 'FED': 1.75, 'CPI': 123.9, 'Prediction': 4.85}, {'RBA': 1.6, 'FED': 2.0, 'CPI': 124.15, 'Prediction': 5.14}, {'RBA': 1.85, 'FED': 2.25, 'CPI': 124.4, 'Prediction': 5.42}, {'RBA': 2.1, 'FED': 2.5, 'CPI': 124.65, 'Prediction': 5.71}, {'RBA': 2.35, 'FED': 2.75, 'CPI': 124.9, 'Prediction': 5.99}, {'RBA': 2.6, 'FED': 3.0, 'CPI': 125.15, 'Prediction': 6.27}, {'RBA': 2.85, 'FED': 3.25, 'CPI': 125.4, 'Prediction': 6.56}, {'RBA': 3.1, 'FED': 3.5, 'CPI': 125.65, 'Prediction': 6.84}, {'RBA': 3.35, 'FED': 3.75, 'CPI': 125.9, 'Prediction': 7.12}, {'RBA': 3.6, 'FED': 4.0, 'CPI': 126.15, 'Prediction': 7.41}, {'RBA': 3.85, 'FED': 4.25, 'CPI': 126.4, 'Prediction': 7.69}, {'RBA': 4.1, 'FED': 4.5, 'CPI': 126.65, 'Prediction': 7.98}, {'RBA': 4.35, 'FED': 4.75, 'CPI': 126.9, 'Prediction': 8.26}, {'RBA': 4.6, 'FED': 5.0, 'CPI': 127.15, 'Prediction': 8.54}, {'RBA': 4.85, 'FED': 5.25, 'CPI': 127.4, 'Prediction': 8.83}, {'RBA': 5.1, 'FED': 5.5, 'CPI': 127.65, 'Prediction': 9.11}, {'RBA': 5.35, 'FED': 5.75, 'CPI': 127.9, 'Prediction': 9.39}, {'RBA': 5.6, 'FED': 6.0, 'CPI': 128.15, 'Prediction': 9.68}, {'RBA': 5.85, 'FED': 6.25, 'CPI': 128.4, 'Prediction': 9.96}, {'RBA': 6.1, 'FED': 6.5, 'CPI': 128.65, 'Prediction': 10.24}, {'RBA': 6.35, 'FED': 6.75, 'CPI': 128.9, 'Prediction': 10.53}, {'RBA': 6.6, 'FED': 7.0, 'CPI': 129.15, 'Prediction': 10.81}, {'RBA': 6.85, 'FED': 7.25, 'CPI': 129.4, 'Prediction': 11.1}, {'RBA': 7.1, 'FED': 7.5, 'CPI': 129.65, 'Prediction': 11.38}, {'RBA': 7.35, 'FED': 7.75, 'CPI': 129.9, 'Prediction': 11.66}, {'RBA': 7.6, 'FED': 8.0, 'CPI': 130.15, 'Prediction': 11.95}, {'RBA': 7.85, 'FED': 8.25, 'CPI': 130.4, 'Prediction': 12.23}, {'RBA': 8.1, 'FED': 8.5, 'CPI': 130.65, 'Prediction': 12.51}, {'RBA': 8.35, 'FED': 8.75, 'CPI': 130.9, 'Prediction': 12.8}, {'RBA': 8.6, 'FED': 9.0, 'CPI': 131.15, 'Prediction': 13.08}, {'RBA': 8.85, 'FED': 9.25, 'CPI': 131.4, 'Prediction': 13.37}, {'RBA': 9.1, 'FED': 9.5, 'CPI': 131.65, 'Prediction': 13.65}, {'RBA': 9.35, 'FED': 9.75, 'CPI': 131.9, 'Prediction': 13.93}, {'RBA': 9.6, 'FED': 10.0, 'CPI': 132.15, 'Prediction': 14.22}, {'RBA': 9.85, 'FED': 10.25, 'CPI': 132.4, 'Prediction': 14.5}, {'RBA': 10.1, 'FED': 10.5, 'CPI': 132.65, 'Prediction': 14.78}, {'RBA': 10.35, 'FED': 10.75, 'CPI': 132.9, 'Prediction': 15.07}, {'RBA': 10.6, 'FED': 11.0, 'CPI': 133.15, 'Prediction': 15.35}, {'RBA': 10.85, 'FED': 11.25, 'CPI': 133.4, 'Prediction': 15.64}, {'RBA': 11.1, 'FED': 11.5, 'CPI': 133.65, 'Prediction': 15.92}]\n"
     ]
    }
   ],
   "source": [
    "rba = float(1.35)\n",
    "fed = float(1.75)\n",
    "cpi = float(123.90)\n",
    "input =40\n",
    "rfr=[]\n",
    "\n",
    "def randomforest(rba,fed,cpi):\n",
    "    for i in range(0,input):\n",
    "      rfr.append([rba,fed,cpi])\n",
    "      np.round_(rfr,2,out = None) \n",
    "      df = pd.DataFrame(rfr, columns = ['RBA','FED',\"CPI\"])\n",
    "      df.round(2)\n",
    "      pred_rf=model_in_rfr.predict(df)\n",
    "      df['Prediction'] = pred_rf\n",
    "      df['Prediction'] = df['Prediction'].astype(float).round(2)\n",
    "      rba+=0.25\n",
    "      fed+=0.25\n",
    "      cpi+=0.25\n",
    "      # print(df)\n",
    "    my_rforest = df.to_dict(orient='records')\n",
    "    for dict_value in my_rforest:\n",
    "      for k, v in dict_value.items():\n",
    "        dict_value[k] = round(v, 2)\n",
    "    return my_rforest,df\n",
    "# print(my_rforest)\n",
    "my_rf,df = randomforest(rba,fed,cpi)\n",
    "print(df,my_rf)\n"
   ]
  },
  {
   "cell_type": "code",
   "execution_count": 38,
   "metadata": {},
   "outputs": [
    {
     "data": {
      "image/png": "[encoded data removed]",
      "text/plain": [
       "<Figure size 864x360 with 2 Axes>"
      ]
     },
     "metadata": {
      "needs_background": "light"
     },
     "output_type": "display_data"
    }
   ],
   "source": [
    "# DRAW THE PREDICTION\n",
    "#Append the input amount of trading days to dates dictionary\n",
    "input=40\n",
    "# df_pred = df.iloc[0:(input-1)]\n",
    "plot1 = df.plot(y=[\"CPI\",\"Prediction\"], figsize=(12, 5),color=['gold','green'],linewidth=2)\n",
    "plot2 = df.plot(y=[\"RBA\",\"FED\"],secondary_y=True, ax=plot1,color=['pink','steelblue'],linestyle='dashed')\n",
    "plt.title('S32 PREDICTIONS')\n",
    "plot1.set_xlabel('Future Trading Days', fontsize=10)\n",
    "plot1.set_ylabel('Close Price AUD ($) or CPI', fontsize=10)\n",
    "plot1.legend(loc='upper left')\n",
    "plot2.legend(loc='upper right')\n",
    "plt.savefig('../../static/data/images/s32_rfr_pred.png', bbox_inches=\"tight\")\n",
    "plt.show()"
   ]
  },
  {
   "cell_type": "code",
   "execution_count": 39,
   "metadata": {},
   "outputs": [
    {
     "name": "stdout",
     "output_type": "stream",
     "text": [
      "    RBA   FED    CPI  Prediction\n",
      "0  1.35  1.75  123.9    4.854305\n",
      "[4.85430535]\n"
     ]
    }
   ],
   "source": [
    "rba = float(1.35)\n",
    "fed = float(1.75)\n",
    "cpi = float(123.90)\n",
    "def rforest(rba,fed,cpi):\n",
    "    dtr =[[rba,fed,cpi]]\n",
    "    df = pd.DataFrame (dtr, columns = ['RBA','FED',\"CPI\"])\n",
    "    pred_dtr=model_in_rfr.predict(df)\n",
    "    df['Prediction'] = pred_dtr\n",
    "    print(df)\n",
    "    df_dict = df.to_dict(orient='records')\n",
    "    return pred_dtr\n",
    "Pred_rf = rforest(rba,fed,cpi)\n",
    "print(Pred_rf)"
   ]
  },
  {
   "cell_type": "code",
   "execution_count": 40,
   "metadata": {},
   "outputs": [
    {
     "data": {
      "image/png": "[encoded data removed]",
      "text/plain": [
       "<Figure size 864x360 with 2 Axes>"
      ]
     },
     "metadata": {
      "needs_background": "light"
     },
     "output_type": "display_data"
    }
   ],
   "source": [
    "x = np.arange(2000,2024,4)\n",
    "ax = df_mongo.plot(y=[\"CPI\",\"Close\"], figsize=(12, 5),color=['grey','green'],linewidth=2)\n",
    "df_mongo.plot(y=[\"RBA\",\"FED\"],secondary_y=True, ax=ax,color=['pink','steelblue'],linestyle='dashed')\n",
    "plt.legend(bbox_to_anchor=(1.03, 1), loc='upper left', borderaxespad=-4, title=\"Interest rates\")\n",
    "ax.legend(loc='upper left')\n",
    "ax.set_xticks([0,1000,2000,3000,4000,5000])\n",
    "ax.set_xticklabels(x, rotation=0)\n",
    "ax.set_title('S32 Random Forest Regression Model')\n",
    "ax.set_xlabel('Trading Date', fontsize=18)\n",
    "ax.set_ylabel('Close Price AUD ($) or CPI', fontsize=18)\n",
    "plt.savefig('../../static/data/images/s32_tree.png')"
   ]
  },
  {
   "cell_type": "markdown",
   "metadata": {},
   "source": [
    "#Save predicted error to MongoDB"
   ]
  },
  {
   "cell_type": "code",
   "execution_count": 41,
   "metadata": {},
   "outputs": [],
   "source": [
    "# Module used to connect Python with MongoDb\n",
    "import pymongo"
   ]
  },
  {
   "cell_type": "code",
   "execution_count": 42,
   "metadata": {},
   "outputs": [],
   "source": [
    "# The default port used by MongoDB is 27017\n",
    "# https://docs.mongodb.com/manual/reference/default-mongodb-port/\n",
    "conn = 'mongodb://localhost:27017'\n",
    "client = pymongo.MongoClient(conn)\n",
    "\n",
    "# Define the 'sharesDB' database in Mongo\n",
    "db = client.sharesDB.companys\n",
    "\n",
    "name = 'S32'"
   ]
  },
  {
   "cell_type": "code",
   "execution_count": 43,
   "metadata": {},
   "outputs": [
    {
     "name": "stdout",
     "output_type": "stream",
     "text": [
      "{'_id': ObjectId('62ee1d261165ab3350beb01a'), 'model': 'RFR', 'name': 'S32', 'date': '05/08/2022', 'predicted': 5, 'actual': 3, 'difference': 2.0352, 'accuracy': 95.2}\n"
     ]
    }
   ],
   "source": [
    "# query the classroom collection\n",
    "companys = db.find({\n",
    "      'model': 'RFR',\n",
    "      'name': name})\n",
    "\n",
    "# see change in collection\n",
    "for company in companys:\n",
    "    print(company)"
   ]
  },
  {
   "cell_type": "code",
   "execution_count": 44,
   "metadata": {},
   "outputs": [
    {
     "name": "stdout",
     "output_type": "stream",
     "text": [
      "95.15 4 12/08/2022\n"
     ]
    }
   ],
   "source": [
    "#save last price actual to variable\n",
    "actual_price = df_mongo.iloc[-1,5]\n",
    "actual_date = df_mongo.iloc[-1,1] \n",
    "actual_price = int(actual_price)\n",
    "base_accuracy=round(base_accuracy,2)\n",
    "print(base_accuracy,actual_price,actual_date)\n"
   ]
  },
  {
   "cell_type": "code",
   "execution_count": 45,
   "metadata": {},
   "outputs": [
    {
     "name": "stdout",
     "output_type": "stream",
     "text": [
      "date 12/08/2022,predicted 4,actual 4, difference 0.8543053497600965,accuracy 95.15\n"
     ]
    }
   ],
   "source": [
    "# Set keys and values of company\n",
    "predicted = int(Pred_rf)\n",
    "difference = Pred_rf-actual_price\n",
    "difference=difference[0]\n",
    "print(f'date {actual_date},predicted {predicted},actual {actual_price}, difference {difference},accuracy {base_accuracy}')"
   ]
  },
  {
   "cell_type": "code",
   "execution_count": 46,
   "metadata": {},
   "outputs": [
    {
     "data": {
      "text/plain": [
       "<pymongo.results.DeleteResult at 0x22a195f1b00>"
      ]
     },
     "execution_count": 46,
     "metadata": {},
     "output_type": "execute_result"
    }
   ],
   "source": [
    "# Delete a document from a collection\n",
    "db.delete_one(\n",
    "    {'model': 'RFR','name': name}\n",
    ")\n"
   ]
  },
  {
   "cell_type": "code",
   "execution_count": 47,
   "metadata": {},
   "outputs": [
    {
     "name": "stdout",
     "output_type": "stream",
     "text": [
      "{'_id': ObjectId('62f85c3b11cc7bd61b8a9561'), 'model': 'RFR', 'name': 'S32', 'date': '12/08/2022', 'predicted': 4, 'actual': 4, 'difference': 0.8543, 'accuracy': 95.15}\n"
     ]
    }
   ],
   "source": [
    "# Insert a document into the 'companys' collection\n",
    "db.insert_one(\n",
    "    {\n",
    "      'model': 'RFR',\n",
    "      'name': name,\n",
    "      'date': actual_date,\n",
    "      'predicted': predicted,\n",
    "      'actual': actual_price,\n",
    "      'difference': round(difference,4),\n",
    "      'accuracy': base_accuracy        \n",
    "    }\n",
    ")\n",
    "\n",
    "# query the classroom collection\n",
    "companys = db.find({\n",
    "  'model': 'RFR',\n",
    "  'name': name,})\n",
    "\n",
    "# see change in collection\n",
    "for company in companys:\n",
    "    print(company)"
   ]
  }
 ],
 "metadata": {
  "interpreter": {
   "hash": "45bb1cb4637e4034484920e5cfb24c9afd84b0847d6c36e39edd3067d3a05462"
  },
  "kernel_info": {
   "name": "dev"
  },
  "kernelspec": {
   "display_name": "Python 3.9.7 ('base')",
   "language": "python",
   "name": "python3"
  },
  "language_info": {
   "codemirror_mode": {
    "name": "ipython",
    "version": 3
   },
   "file_extension": ".py",
   "mimetype": "text/x-python",
   "name": "python",
   "nbconvert_exporter": "python",
   "pygments_lexer": "ipython3",
   "version": "3.9.7"
  },
  "nteract": {
   "version": "0.12.3"
  }
 },
 "nbformat": 4,
 "nbformat_minor": 2
}
