{
 "cells": [
  {
   "cell_type": "code",
   "execution_count": 1,
   "metadata": {},
   "outputs": [
    {
     "name": "stdout",
     "output_type": "stream",
     "text": [
      "Requirement already satisfied: sklearn in c:\\users\\antoi\\anaconda3\\lib\\site-packages (0.0)\n",
      "Requirement already satisfied: scikit-learn in c:\\users\\antoi\\anaconda3\\lib\\site-packages (from sklearn) (0.24.2)\n",
      "Requirement already satisfied: joblib>=0.11 in c:\\users\\antoi\\anaconda3\\lib\\site-packages (from scikit-learn->sklearn) (1.1.0)\n",
      "Requirement already satisfied: threadpoolctl>=2.0.0 in c:\\users\\antoi\\anaconda3\\lib\\site-packages (from scikit-learn->sklearn) (2.2.0)\n",
      "Requirement already satisfied: scipy>=0.19.1 in c:\\users\\antoi\\anaconda3\\lib\\site-packages (from scikit-learn->sklearn) (1.7.1)\n",
      "Requirement already satisfied: numpy>=1.13.3 in c:\\users\\antoi\\anaconda3\\lib\\site-packages (from scikit-learn->sklearn) (1.20.3)\n",
      "Requirement already satisfied: joblib in c:\\users\\antoi\\anaconda3\\lib\\site-packages (1.1.0)\n"
     ]
    }
   ],
   "source": [
    "# Update sklearn to prevent version mismatches\n",
    "!pip install sklearn --upgrade\n",
    "# install joblib. This will be used to save your model. \n",
    "# Restart your kernel after installing \n",
    "!pip install joblib"
   ]
  },
  {
   "cell_type": "markdown",
   "metadata": {},
   "source": [
    "This model uses a neural network and GridSearchCV to predict share price impacts of Interest changes"
   ]
  },
  {
   "cell_type": "markdown",
   "metadata": {},
   "source": [
    "# Read the CSV and Perform Basic Data Cleaning"
   ]
  },
  {
   "cell_type": "code",
   "execution_count": 2,
   "metadata": {},
   "outputs": [],
   "source": [
    "import matplotlib.pyplot as plt\n",
    "import numpy as np\n",
    "import pandas as pd"
   ]
  },
  {
   "cell_type": "code",
   "execution_count": 3,
   "metadata": {},
   "outputs": [
    {
     "data": {
      "text/html": [
       "<div>\n",
       "<style scoped>\n",
       "    .dataframe tbody tr th:only-of-type {\n",
       "        vertical-align: middle;\n",
       "    }\n",
       "\n",
       "    .dataframe tbody tr th {\n",
       "        vertical-align: top;\n",
       "    }\n",
       "\n",
       "    .dataframe thead th {\n",
       "        text-align: right;\n",
       "    }\n",
       "</style>\n",
       "<table border=\"1\" class=\"dataframe\">\n",
       "  <thead>\n",
       "    <tr style=\"text-align: right;\">\n",
       "      <th></th>\n",
       "      <th>Date</th>\n",
       "      <th>Open</th>\n",
       "      <th>High</th>\n",
       "      <th>Low</th>\n",
       "      <th>Close</th>\n",
       "      <th>Adj Close</th>\n",
       "      <th>Volume</th>\n",
       "      <th>RBA</th>\n",
       "      <th>FED</th>\n",
       "      <th>CPI</th>\n",
       "    </tr>\n",
       "  </thead>\n",
       "  <tbody>\n",
       "    <tr>\n",
       "      <th>1821</th>\n",
       "      <td>25/07/2022</td>\n",
       "      <td>3.61</td>\n",
       "      <td>3.640</td>\n",
       "      <td>3.550</td>\n",
       "      <td>3.56</td>\n",
       "      <td>3.56</td>\n",
       "      <td>22780151</td>\n",
       "      <td>1.35</td>\n",
       "      <td>1.75</td>\n",
       "      <td>125.0</td>\n",
       "    </tr>\n",
       "    <tr>\n",
       "      <th>1822</th>\n",
       "      <td>26/07/2022</td>\n",
       "      <td>3.63</td>\n",
       "      <td>3.730</td>\n",
       "      <td>3.610</td>\n",
       "      <td>3.67</td>\n",
       "      <td>3.67</td>\n",
       "      <td>19296405</td>\n",
       "      <td>1.35</td>\n",
       "      <td>1.75</td>\n",
       "      <td>125.0</td>\n",
       "    </tr>\n",
       "    <tr>\n",
       "      <th>1823</th>\n",
       "      <td>27/07/2022</td>\n",
       "      <td>3.68</td>\n",
       "      <td>3.715</td>\n",
       "      <td>3.630</td>\n",
       "      <td>3.68</td>\n",
       "      <td>3.68</td>\n",
       "      <td>17368062</td>\n",
       "      <td>1.35</td>\n",
       "      <td>2.50</td>\n",
       "      <td>125.0</td>\n",
       "    </tr>\n",
       "    <tr>\n",
       "      <th>1824</th>\n",
       "      <td>28/07/2022</td>\n",
       "      <td>3.76</td>\n",
       "      <td>3.780</td>\n",
       "      <td>3.680</td>\n",
       "      <td>3.78</td>\n",
       "      <td>3.78</td>\n",
       "      <td>20452536</td>\n",
       "      <td>1.35</td>\n",
       "      <td>2.50</td>\n",
       "      <td>125.0</td>\n",
       "    </tr>\n",
       "    <tr>\n",
       "      <th>1825</th>\n",
       "      <td>29/07/2022</td>\n",
       "      <td>3.82</td>\n",
       "      <td>3.830</td>\n",
       "      <td>3.765</td>\n",
       "      <td>3.81</td>\n",
       "      <td>3.81</td>\n",
       "      <td>23019678</td>\n",
       "      <td>1.35</td>\n",
       "      <td>2.50</td>\n",
       "      <td>125.0</td>\n",
       "    </tr>\n",
       "  </tbody>\n",
       "</table>\n",
       "</div>"
      ],
      "text/plain": [
       "            Date  Open   High    Low  Close  Adj Close    Volume   RBA   FED  \\\n",
       "1821  25/07/2022  3.61  3.640  3.550   3.56       3.56  22780151  1.35  1.75   \n",
       "1822  26/07/2022  3.63  3.730  3.610   3.67       3.67  19296405  1.35  1.75   \n",
       "1823  27/07/2022  3.68  3.715  3.630   3.68       3.68  17368062  1.35  2.50   \n",
       "1824  28/07/2022  3.76  3.780  3.680   3.78       3.78  20452536  1.35  2.50   \n",
       "1825  29/07/2022  3.82  3.830  3.765   3.81       3.81  23019678  1.35  2.50   \n",
       "\n",
       "        CPI  \n",
       "1821  125.0  \n",
       "1822  125.0  \n",
       "1823  125.0  \n",
       "1824  125.0  \n",
       "1825  125.0  "
      ]
     },
     "execution_count": 3,
     "metadata": {},
     "output_type": "execute_result"
    }
   ],
   "source": [
    "df_stock1 = pd.read_csv(\"../../static/data/s32.csv\")\n",
    "# Drop the null columns where all values are null\n",
    "df_stock2 = df_stock1.dropna(axis='columns', how='all')\n",
    "# Drop the null rows\n",
    "df = df_stock2.dropna()\n",
    "df.tail()"
   ]
  },
  {
   "cell_type": "code",
   "execution_count": 4,
   "metadata": {},
   "outputs": [
    {
     "name": "stdout",
     "output_type": "stream",
     "text": [
      "02/08/2022 3.740000009536743\n"
     ]
    },
    {
     "data": {
      "text/plain": [
       "<bound method NDFrame.tail of                            _id        Date  Open   High    Low  Close  \\\n",
       "0     62e9a9b81d2ddbf9054d4028  18/05/2015  2.13  2.220  2.010   2.05   \n",
       "1     62e9a9b81d2ddbf9054d4029  19/05/2015  2.17  2.340  2.160   2.33   \n",
       "2     62e9a9b81d2ddbf9054d402a  20/05/2015  2.35  2.370  2.250   2.36   \n",
       "3     62e9a9b81d2ddbf9054d402b  21/05/2015  2.35  2.450  2.340   2.37   \n",
       "4     62e9a9b81d2ddbf9054d402c  22/05/2015  2.36  2.390  2.300   2.31   \n",
       "...                        ...         ...   ...    ...    ...    ...   \n",
       "1823  62e9a9b81d2ddbf9054d4747  27/07/2022  3.68  3.715  3.630   3.68   \n",
       "1824  62e9a9b81d2ddbf9054d4748  28/07/2022  3.76  3.780  3.680   3.78   \n",
       "1825  62e9a9ba1d2ddbf9054d474a  29/07/2022  3.82  3.830  3.765   3.81   \n",
       "1826  62e9a9ba1d2ddbf9054d474b  01/08/2022  3.88  3.910  3.830   3.86   \n",
       "1827  62e9a9ba1d2ddbf9054d474c  02/08/2022  3.78  3.810  3.710   3.74   \n",
       "\n",
       "      Adj Close     Volume   RBA   FED    CPI  \n",
       "0      1.750502  160185286  2.00  0.25  107.5  \n",
       "1      1.989595  192730310  2.00  0.25  107.5  \n",
       "2      2.015213   59085150  2.00  0.25  107.5  \n",
       "3      2.023751   54016569  2.00  0.25  107.5  \n",
       "4      1.972517   38646976  2.00  0.25  107.5  \n",
       "...         ...        ...   ...   ...    ...  \n",
       "1823   3.680000   17368062  1.35  2.50  125.0  \n",
       "1824   3.780000   20452536  1.35  2.50  125.0  \n",
       "1825   3.810000   23019678  1.35  2.50  125.0  \n",
       "1826   3.860000   14820144  1.35  2.50  125.0  \n",
       "1827   3.740000   15777818  1.35  2.50  125.0  \n",
       "\n",
       "[1828 rows x 11 columns]>"
      ]
     },
     "execution_count": 4,
     "metadata": {},
     "output_type": "execute_result"
    }
   ],
   "source": [
    "# Connect to MongoDb\n",
    "from pymongo import MongoClient\n",
    "mongoClient = MongoClient()\n",
    "db = mongoClient.sharesDB\n",
    "\n",
    "df_mongo = pd.DataFrame(list(db.s32.find()))\n",
    "last_val = df_mongo.iloc[-1:].values\n",
    "last_date = last_val[0][1]\n",
    "last_close = last_val[0][5]\n",
    "# print(last_val)\n",
    "print(last_date,last_close)\n",
    "df_mongo.tail\n"
   ]
  },
  {
   "cell_type": "markdown",
   "metadata": {},
   "source": [
    "# Use `RBA`,`FED` and `CPI` for the X values"
   ]
  },
  {
   "cell_type": "code",
   "execution_count": 5,
   "metadata": {},
   "outputs": [
    {
     "name": "stdout",
     "output_type": "stream",
     "text": [
      "(1828, 3) (1828, 1)\n"
     ]
    }
   ],
   "source": [
    "X = df_mongo[[\"RBA\",\"FED\",\"CPI\"]]\n",
    "y = df_mongo[\"Close\"].values.reshape(-1, 1)\n",
    "print(X.shape, y.shape)"
   ]
  },
  {
   "cell_type": "code",
   "execution_count": 6,
   "metadata": {},
   "outputs": [],
   "source": [
    "# X = df_mongo[[\"RBA\",\"FED\",\"CPI\"]]\n",
    "# y = df_mongo[\"Close\"].values.reshape(-1, 1)\n",
    "# print(X.shape, y.shape)"
   ]
  },
  {
   "cell_type": "code",
   "execution_count": 7,
   "metadata": {},
   "outputs": [
    {
     "data": {
      "text/plain": [
       "array([[2.05      ],\n",
       "       [2.33      ],\n",
       "       [2.36      ],\n",
       "       ...,\n",
       "       [3.80999994],\n",
       "       [3.8599999 ],\n",
       "       [3.74000001]])"
      ]
     },
     "execution_count": 7,
     "metadata": {},
     "output_type": "execute_result"
    }
   ],
   "source": [
    "y"
   ]
  },
  {
   "cell_type": "markdown",
   "metadata": {},
   "source": [
    "# Create a Train Test Split"
   ]
  },
  {
   "cell_type": "code",
   "execution_count": 8,
   "metadata": {},
   "outputs": [
    {
     "name": "stdout",
     "output_type": "stream",
     "text": [
      "(1371, 3) (1371, 1)\n",
      "(457, 3) (457, 1)\n",
      "<bound method DataFrame.info of        RBA   FED    CPI\n",
      "912   1.50  2.50  114.1\n",
      "1630  0.10  1.25  121.3\n",
      "1636  0.10  1.25  121.3\n",
      "1183  0.75  1.75  116.6\n",
      "228   2.00  0.50  108.6\n",
      "...    ...   ...    ...\n",
      "905   1.50  2.25  114.1\n",
      "1791  0.85  1.00  125.0\n",
      "1096  1.00  2.25  115.4\n",
      "235   2.00  0.50  108.6\n",
      "1061  1.00  2.50  115.4\n",
      "\n",
      "[1371 rows x 3 columns]>\n"
     ]
    }
   ],
   "source": [
    "# Use train_test_split to create training and testing data\n",
    "from sklearn.model_selection import train_test_split\n",
    "\n",
    "X_train, X_test, y_train, y_test = train_test_split(X, y, random_state=1)\n",
    "print(X_train.shape, y_train.shape)\n",
    "print(X_test.shape, y_test.shape)\n",
    "print(X_train.info)"
   ]
  },
  {
   "cell_type": "code",
   "execution_count": 9,
   "metadata": {},
   "outputs": [],
   "source": [
    "from sklearn.linear_model import LinearRegression\n",
    "model = LinearRegression()"
   ]
  },
  {
   "cell_type": "markdown",
   "metadata": {},
   "source": [
    "# Fit the model"
   ]
  },
  {
   "cell_type": "code",
   "execution_count": 10,
   "metadata": {},
   "outputs": [
    {
     "name": "stdout",
     "output_type": "stream",
     "text": [
      "Training Score: 0.6245298852344674\n",
      "Testing Score: 0.6474289134265858\n"
     ]
    }
   ],
   "source": [
    "# Fit the model to the training data and calculate the scores for the training and testing data\n",
    "\n",
    "### BEGIN SOLUTION\n",
    "model.fit(X_train, y_train)\n",
    "training_score = model.score(X_train, y_train)\n",
    "testing_score = model.score(X_test, y_test)\n",
    "\n",
    "### END SOLUTION \n",
    "\n",
    "print(f\"Training Score: {training_score}\")\n",
    "print(f\"Testing Score: {testing_score}\")"
   ]
  },
  {
   "cell_type": "code",
   "execution_count": 11,
   "metadata": {},
   "outputs": [],
   "source": [
    "# X_train = X_train.reshape((X_train.shape[0], 1))"
   ]
  },
  {
   "cell_type": "code",
   "execution_count": 12,
   "metadata": {},
   "outputs": [],
   "source": [
    "#Linear Regression Residual showing difference actual vs predicted\n",
    "# residual = pd.DataFrame([model.predict(X_train),y_train,(model.predict(X_train)-y_train)])\n",
    "# residual.tail"
   ]
  },
  {
   "cell_type": "code",
   "execution_count": 13,
   "metadata": {},
   "outputs": [
    {
     "data": {
      "text/plain": [
       "Text(0.5, 1.0, 'Residual Plot')"
      ]
     },
     "execution_count": 13,
     "metadata": {},
     "output_type": "execute_result"
    },
    {
     "data": {
      "image/png": "[encoded data removed]",
      "text/plain": [
       "<Figure size 432x288 with 1 Axes>"
      ]
     },
     "metadata": {
      "needs_background": "light"
     },
     "output_type": "display_data"
    }
   ],
   "source": [
    "# Plot the Residuals for the Training and Testing data\n",
    "plt.scatter(model.predict(X_train), model.predict(X_train) - y_train, c=\"blue\", label=\"Training Data\")\n",
    "plt.scatter(model.predict(X_test), model.predict(X_test) - y_test, c=\"orange\", label=\"Testing Data\")\n",
    "plt.legend()\n",
    "plt.hlines(y=0, xmin=y.min(), xmax=y.max())\n",
    "plt.title(\"Residual Plot\")"
   ]
  },
  {
   "cell_type": "code",
   "execution_count": 14,
   "metadata": {},
   "outputs": [],
   "source": [
    "# Linear Regression: X_test predictions to variable\n",
    "predictions = model.predict(X_test)"
   ]
  },
  {
   "cell_type": "markdown",
   "metadata": {},
   "source": [
    "#### R2 Score is a very popular metric used for evaluating the performance of linear regression models. Where R2 Score is between 0 and 1, the closer to 1, the better the regression fit.\n",
    "#### Use MSE or MAE when comparing two or more models, the lower the value of MSE or MAE, the better. MSE (Mean Square Error): Uses Euclidean distance to calculate the error. MSE gives the magnitude of the error only."
   ]
  },
  {
   "cell_type": "code",
   "execution_count": 15,
   "metadata": {},
   "outputs": [
    {
     "name": "stdout",
     "output_type": "stream",
     "text": [
      "MSE: 0.25844547054480127, R2: 0.6474289134265858\n"
     ]
    }
   ],
   "source": [
    "# Used X_test, y_test, and model.predict(X_test) to calculate MSE and R2\n",
    "\n",
    "### BEGIN SOLUTION\n",
    "from sklearn.metrics import mean_squared_error\n",
    "\n",
    "MSE = mean_squared_error(y_test, predictions)\n",
    "r2 = model.score(X_test, y_test)\n",
    "### END SOLUTION\n",
    "\n",
    "print(f\"MSE: {MSE}, R2: {r2}\")"
   ]
  },
  {
   "cell_type": "markdown",
   "metadata": {},
   "source": [
    "#### Lasso regression imposes a constraint on the model parameters that causes regression coefficients for some variables to shrink toward zero. It comes with a parameter, alpha , and the higher the alpha , the more feature coefficients are zero. When alpha is 0 , Lasso regression produces the same coefficients as a linear regression."
   ]
  },
  {
   "cell_type": "code",
   "execution_count": 16,
   "metadata": {},
   "outputs": [
    {
     "name": "stdout",
     "output_type": "stream",
     "text": [
      "MSE: 0.2627572959143783, R2: 0.6415467250002924\n"
     ]
    }
   ],
   "source": [
    "# LASSO model\n",
    "# Note: Used an alpha of .01 when creating the model for this activity\n",
    "from sklearn.linear_model import Lasso\n",
    "\n",
    "### BEGIN SOLUTION\n",
    "lasso = Lasso(alpha=.01).fit(X_train, y_train)\n",
    "\n",
    "predictions = lasso.predict(X_test)\n",
    "\n",
    "MSE = mean_squared_error(y_test, predictions)\n",
    "r2 = lasso.score(X_test, y_test)\n",
    "### END SOLUTION\n",
    "\n",
    "print(f\"MSE: {MSE}, R2: {r2}\")"
   ]
  },
  {
   "cell_type": "code",
   "execution_count": 17,
   "metadata": {},
   "outputs": [
    {
     "name": "stdout",
     "output_type": "stream",
     "text": [
      "MSE: 0.2584472137062574, R2: 0.6474265354072406\n"
     ]
    }
   ],
   "source": [
    "# Ridge model\n",
    "# Note: Used an alpha of .01 when creating the model for this activity\n",
    "from sklearn.linear_model import Ridge\n",
    "\n",
    "### BEGIN SOLUTION\n",
    "ridge = Ridge(alpha=.01).fit(X_train, y_train)\n",
    "\n",
    "predictions = ridge.predict(X_test)\n",
    "\n",
    "MSE = mean_squared_error(y_test, predictions)\n",
    "r2 = ridge.score(X_test, y_test)\n",
    "### END SOLUTION\n",
    "\n",
    "print(f\"MSE: {MSE}, R2: {r2}\")"
   ]
  },
  {
   "cell_type": "code",
   "execution_count": 18,
   "metadata": {},
   "outputs": [
    {
     "name": "stdout",
     "output_type": "stream",
     "text": [
      "MSE: 0.26181442497576035, R2: 0.6428329887162951\n"
     ]
    }
   ],
   "source": [
    "# ElasticNet model\n",
    "# Note: Use an alpha of .01 when creating the model for this activity\n",
    "from sklearn.linear_model import ElasticNet\n",
    "\n",
    "### BEGIN SOLUTION\n",
    "elasticnet = ElasticNet(alpha=.01).fit(X_train, y_train)\n",
    "\n",
    "predictions = elasticnet.predict(X_test)\n",
    "\n",
    "MSE = mean_squared_error(y_test, predictions)\n",
    "r2 = elasticnet.score(X_test, y_test)\n",
    "### END SOLUTION\n",
    "\n",
    "print(f\"MSE: {MSE}, R2: {r2}\")"
   ]
  },
  {
   "cell_type": "markdown",
   "metadata": {},
   "source": [
    "# Hyperparameter Tuning"
   ]
  },
  {
   "cell_type": "code",
   "execution_count": 19,
   "metadata": {},
   "outputs": [
    {
     "data": {
      "text/plain": [
       "(1828,)"
      ]
     },
     "execution_count": 19,
     "metadata": {},
     "output_type": "execute_result"
    }
   ],
   "source": [
    "y_target = df_mongo[\"Close\"]\n",
    "y_target.shape"
   ]
  },
  {
   "cell_type": "code",
   "execution_count": 20,
   "metadata": {},
   "outputs": [
    {
     "name": "stdout",
     "output_type": "stream",
     "text": [
      "(1371, 3) (1371,)\n",
      "(457, 3) (457,)\n"
     ]
    }
   ],
   "source": [
    "# Use train_test_split to create training and testing data\n",
    "from sklearn.model_selection import train_test_split\n",
    "\n",
    "X_train, X_test, y_train, y_test = train_test_split(X, y_target, random_state=1)\n",
    "print(X_train.shape, y_train.shape)\n",
    "print(X_test.shape, y_test.shape)"
   ]
  },
  {
   "cell_type": "code",
   "execution_count": 21,
   "metadata": {},
   "outputs": [
    {
     "name": "stdout",
     "output_type": "stream",
     "text": [
      "(1371, 3) (1371,)\n",
      "(457, 3) (457,)\n"
     ]
    }
   ],
   "source": [
    "print(X_train.shape,y_train.shape)\n",
    "print(X_test.shape,y_test.shape)"
   ]
  },
  {
   "cell_type": "markdown",
   "metadata": {},
   "source": [
    "#### GridSearchCV and RandomizedSearchCV are techniques to evaluate models for a given hyperparameter vector using cross-validation, hence the “CV” suffix of the class name.\n",
    "#### We are executing many models together is to find which machine learning model works best for this particular dataset."
   ]
  },
  {
   "cell_type": "code",
   "execution_count": 22,
   "metadata": {},
   "outputs": [],
   "source": [
    "from sklearn.linear_model import LinearRegression, Ridge,Lasso\n",
    "from sklearn.neighbors import KNeighborsRegressor\n",
    "from sklearn.ensemble import GradientBoostingRegressor\n",
    "from sklearn.ensemble import ExtraTreesRegressor, RandomForestRegressor\n",
    "from sklearn.tree import DecisionTreeRegressor"
   ]
  },
  {
   "cell_type": "code",
   "execution_count": 23,
   "metadata": {},
   "outputs": [],
   "source": [
    "regressors = [\n",
    "    RandomForestRegressor(),\n",
    "    DecisionTreeRegressor(),\n",
    "    KNeighborsRegressor(),\n",
    "    GradientBoostingRegressor(),\n",
    "    KNeighborsRegressor(),\n",
    "    ExtraTreesRegressor(),\n",
    "    LinearRegression(),\n",
    "    Lasso(),\n",
    "    Ridge()\n",
    "]"
   ]
  },
  {
   "cell_type": "code",
   "execution_count": 24,
   "metadata": {},
   "outputs": [
    {
     "name": "stdout",
     "output_type": "stream",
     "text": [
      "RandomForestRegressor()\n",
      "\tTraining time: 0.088s\n",
      "\tPrediction time: 0.007s\n",
      "\tExplained variance: 0.9631008301700937\n",
      "\tMean absolute error: 0.12381184664014527\n",
      "\tR2 score: 0.9630977422156461\n",
      "\n",
      "DecisionTreeRegressor()\n",
      "\tTraining time: 0.001s\n",
      "\tPrediction time: 0.001s\n",
      "\tExplained variance: 0.9626523607435762\n",
      "\tMean absolute error: 0.12449903876860326\n",
      "\tR2 score: 0.962652359515145\n",
      "\n",
      "KNeighborsRegressor()\n",
      "\tTraining time: 0.003s\n",
      "\tPrediction time: 0.001s\n",
      "\tExplained variance: 0.9582436699994155\n",
      "\tMean absolute error: 0.13120787746170678\n",
      "\tR2 score: 0.9582417511365346\n",
      "\n",
      "GradientBoostingRegressor()\n",
      "\tTraining time: 0.030s\n",
      "\tPrediction time: 0.001s\n",
      "\tExplained variance: 0.9614345541674171\n",
      "\tMean absolute error: 0.12830308559944603\n",
      "\tR2 score: 0.961434310480877\n",
      "\n",
      "KNeighborsRegressor()\n",
      "\tTraining time: 0.001s\n",
      "\tPrediction time: 0.002s\n",
      "\tExplained variance: 0.9582436699994155\n",
      "\tMean absolute error: 0.13120787746170678\n",
      "\tR2 score: 0.9582417511365346\n",
      "\n",
      "ExtraTreesRegressor()\n",
      "\tTraining time: 0.065s\n",
      "\tPrediction time: 0.009s\n",
      "\tExplained variance: 0.963051221700557\n",
      "\tMean absolute error: 0.12375004104324198\n",
      "\tR2 score: 0.9630501606648639\n",
      "\n",
      "LinearRegression()\n",
      "\tTraining time: 0.001s\n",
      "\tPrediction time: 0.001s\n",
      "\tExplained variance: 0.6484206189611701\n",
      "\tMean absolute error: 0.4202470427479084\n",
      "\tR2 score: 0.6474289134265858\n",
      "\n",
      "Lasso()\n",
      "\tTraining time: 0.002s\n",
      "\tPrediction time: 0.000s\n",
      "\tExplained variance: 0.36067957821748287\n",
      "\tMean absolute error: 0.5979549582063324\n",
      "\tR2 score: 0.35695229975554177\n",
      "\n",
      "Ridge()\n",
      "\tTraining time: 0.001s\n",
      "\tPrediction time: 0.001s\n",
      "\tExplained variance: 0.6481900913556812\n",
      "\tMean absolute error: 0.42063029289311704\n",
      "\tR2 score: 0.6471897591372866\n",
      "\n"
     ]
    }
   ],
   "source": [
    "from time import time\n",
    "from sklearn.metrics import explained_variance_score,mean_absolute_error,r2_score\n",
    "\n",
    "head = 10\n",
    "for model in regressors[:head]:\n",
    "    start = time()\n",
    "    model.fit(X_train, y_train)\n",
    "    train_time = time() - start\n",
    "    start = time()\n",
    "    y_pred = model.predict(X_test)\n",
    "    predict_time = time()-start    \n",
    "    print(model)\n",
    "    print(\"\\tTraining time: %0.3fs\" % train_time)\n",
    "    print(\"\\tPrediction time: %0.3fs\" % predict_time)\n",
    "    print(\"\\tExplained variance:\", explained_variance_score(y_test, y_pred))\n",
    "    print(\"\\tMean absolute error:\", mean_absolute_error(y_test, y_pred))\n",
    "    print(\"\\tR2 score:\", r2_score(y_test, y_pred))\n",
    "    print()"
   ]
  },
  {
   "cell_type": "markdown",
   "metadata": {},
   "source": [
    "#### By comparing these results, we can quickly see that RandomForestRegressor and DecisionTreeRegressor are the best models for our data\n",
    "#### Machine learning models have parameters, which are the internal coefficients set by training or optimizing the model on a training dataset.\n",
    "#### Parameters are different from hyperparameters. Parameters are learned automatically; hyperparameters are set manually to help guide the learning process."
   ]
  },
  {
   "cell_type": "code",
   "execution_count": 25,
   "metadata": {},
   "outputs": [
    {
     "name": "stdout",
     "output_type": "stream",
     "text": [
      "Parameters currently in use:\n",
      "\n",
      "{'bootstrap': True,\n",
      " 'ccp_alpha': 0.0,\n",
      " 'criterion': 'mse',\n",
      " 'max_depth': None,\n",
      " 'max_features': 'auto',\n",
      " 'max_leaf_nodes': None,\n",
      " 'max_samples': None,\n",
      " 'min_impurity_decrease': 0.0,\n",
      " 'min_impurity_split': None,\n",
      " 'min_samples_leaf': 1,\n",
      " 'min_samples_split': 2,\n",
      " 'min_weight_fraction_leaf': 0.0,\n",
      " 'n_estimators': 100,\n",
      " 'n_jobs': None,\n",
      " 'oob_score': False,\n",
      " 'random_state': 42,\n",
      " 'verbose': 0,\n",
      " 'warm_start': False}\n"
     ]
    }
   ],
   "source": [
    "from sklearn.ensemble import RandomForestRegressor\n",
    "rf = RandomForestRegressor(random_state = 42)\n",
    "from pprint import pprint\n",
    "# Look at parameters used by our current forest\n",
    "print('Parameters currently in use:\\n')\n",
    "pprint(rf.get_params())"
   ]
  },
  {
   "cell_type": "code",
   "execution_count": 26,
   "metadata": {},
   "outputs": [
    {
     "name": "stdout",
     "output_type": "stream",
     "text": [
      "{'bootstrap': [True, False],\n",
      " 'max_depth': [10, 20, 30, 40, 50, 60, 70, 80, 90, 100, 110, None],\n",
      " 'max_features': ['auto', 'sqrt'],\n",
      " 'min_samples_leaf': [1, 2, 4],\n",
      " 'min_samples_split': [2, 5, 10],\n",
      " 'n_estimators': [200, 400, 600, 800, 1000, 1200, 1400, 1600, 1800, 2000]}\n"
     ]
    }
   ],
   "source": [
    "from sklearn.model_selection import RandomizedSearchCV\n",
    "# Number of trees in random forest\n",
    "n_estimators = [int(x) for x in np.linspace(start = 200, stop = 2000, num = 10)]\n",
    "# Number of features to consider at every split\n",
    "max_features = ['auto', 'sqrt']\n",
    "# Maximum number of levels in tree\n",
    "max_depth = [int(x) for x in np.linspace(10, 110, num = 11)]\n",
    "max_depth.append(None)\n",
    "# Minimum number of samples required to split a node\n",
    "min_samples_split = [2, 5, 10]\n",
    "# Minimum number of samples required at each leaf node\n",
    "min_samples_leaf = [1, 2, 4]\n",
    "# Method of selecting samples for training each tree\n",
    "bootstrap = [True, False]\n",
    "# Create the random grid\n",
    "random_grid = {'n_estimators': n_estimators,\n",
    "               'max_features': max_features,\n",
    "               'max_depth': max_depth,\n",
    "               'min_samples_split': min_samples_split,\n",
    "               'min_samples_leaf': min_samples_leaf,\n",
    "               'bootstrap': bootstrap}\n",
    "pprint(random_grid)"
   ]
  },
  {
   "cell_type": "code",
   "execution_count": 27,
   "metadata": {},
   "outputs": [
    {
     "name": "stdout",
     "output_type": "stream",
     "text": [
      "Fitting 3 folds for each of 100 candidates, totalling 300 fits\n"
     ]
    },
    {
     "data": {
      "text/plain": [
       "RandomizedSearchCV(cv=3, estimator=RandomForestRegressor(), n_iter=100,\n",
       "                   n_jobs=-1,\n",
       "                   param_distributions={'bootstrap': [True, False],\n",
       "                                        'max_depth': [10, 20, 30, 40, 50, 60,\n",
       "                                                      70, 80, 90, 100, 110,\n",
       "                                                      None],\n",
       "                                        'max_features': ['auto', 'sqrt'],\n",
       "                                        'min_samples_leaf': [1, 2, 4],\n",
       "                                        'min_samples_split': [2, 5, 10],\n",
       "                                        'n_estimators': [200, 400, 600, 800,\n",
       "                                                         1000, 1200, 1400, 1600,\n",
       "                                                         1800, 2000]},\n",
       "                   random_state=42, verbose=2)"
      ]
     },
     "execution_count": 27,
     "metadata": {},
     "output_type": "execute_result"
    }
   ],
   "source": [
    "# Use the random grid to search for best hyperparameters\n",
    "# First create the base model to tune\n",
    "rf = RandomForestRegressor()\n",
    "# Random search of parameters, using 3 fold cross validation, \n",
    "# search across 100 different combinations, and use all available cores\n",
    "rf_random = RandomizedSearchCV(estimator = rf, param_distributions = random_grid, n_iter = 100, cv = 3, verbose=2, random_state=42, n_jobs = -1)\n",
    "# Fit the random search model\n",
    "rf_random.fit(X_train, y_train)"
   ]
  },
  {
   "cell_type": "code",
   "execution_count": 28,
   "metadata": {},
   "outputs": [
    {
     "data": {
      "text/plain": [
       "{'n_estimators': 400,\n",
       " 'min_samples_split': 5,\n",
       " 'min_samples_leaf': 1,\n",
       " 'max_features': 'auto',\n",
       " 'max_depth': 90,\n",
       " 'bootstrap': False}"
      ]
     },
     "execution_count": 28,
     "metadata": {},
     "output_type": "execute_result"
    }
   ],
   "source": [
    "rf_random.best_params_"
   ]
  },
  {
   "cell_type": "code",
   "execution_count": 29,
   "metadata": {},
   "outputs": [
    {
     "name": "stdout",
     "output_type": "stream",
     "text": [
      "Model Performance\n",
      "Average Error: 0.1236 degrees.\n",
      "Accuracy = 95.29%.\n",
      "Model Performance\n",
      "Average Error: 0.1241 degrees.\n",
      "Accuracy = 95.27%.\n",
      "Improvement of -0.02%.\n"
     ]
    }
   ],
   "source": [
    "def evaluate(model, X_test, y_test):\n",
    "    predictions = model.predict(X_test)\n",
    "    errors = abs(predictions - y_test)\n",
    "    mape = 100 * np.mean(errors / y_test)\n",
    "    accuracy = 100 - mape\n",
    "    print('Model Performance')\n",
    "    print('Average Error: {:0.4f} degrees.'.format(np.mean(errors)))\n",
    "    print('Accuracy = {:0.2f}%.'.format(accuracy))\n",
    "    return accuracy\n",
    "base_model = RandomForestRegressor(n_estimators = 10, random_state = 42)\n",
    "base_model.fit(X_train, y_train)\n",
    "base_accuracy = evaluate(base_model, X_test, y_test)\n",
    "\n",
    "best_random = rf_random.best_estimator_\n",
    "random_accuracy = evaluate(best_random, X_test, y_test)\n",
    "\n",
    "print('Improvement of {:0.2f}%.'.format( 100 * (random_accuracy - base_accuracy) / base_accuracy))"
   ]
  },
  {
   "cell_type": "code",
   "execution_count": 30,
   "metadata": {},
   "outputs": [
    {
     "data": {
      "text/plain": [
       "95.28834657981952"
      ]
     },
     "execution_count": 30,
     "metadata": {},
     "output_type": "execute_result"
    }
   ],
   "source": [
    "base_accuracy"
   ]
  },
  {
   "cell_type": "code",
   "execution_count": 31,
   "metadata": {},
   "outputs": [],
   "source": [
    "# Hyperparameter tuning has not improved accuracy significantly"
   ]
  },
  {
   "cell_type": "code",
   "execution_count": 32,
   "metadata": {},
   "outputs": [
    {
     "data": {
      "text/plain": [
       "array([1.60547893, 3.46298089, 3.60454192, 2.11256994, 1.5517186 ,\n",
       "       2.71093727, 3.57874014, 3.58184714, 2.95817118, 2.92273578,\n",
       "       2.11256994, 3.60454192, 3.31646634, 3.31646634, 4.35980462,\n",
       "       2.64400814, 1.32812615, 2.95817118, 3.69909643, 1.62790289,\n",
       "       2.11256994, 3.57874014, 2.15227447, 3.57874014, 1.96546544,\n",
       "       2.15331448, 4.14409966, 2.15331448, 2.69685654, 3.46298089,\n",
       "       2.15227447, 3.31646634, 3.31646634, 3.07622813, 1.99360005,\n",
       "       1.21018204, 3.70187009, 2.40263088, 2.92273578, 3.46298089,\n",
       "       2.92273578, 1.32812615, 3.58184714, 2.78839864, 1.62790289,\n",
       "       1.32812615, 1.62790289, 1.96546544, 1.21018204, 3.07622813,\n",
       "       2.69685654, 3.20681455, 3.58184714, 2.7289552 , 3.46298089,\n",
       "       2.92273578, 1.60547893, 2.11256994, 3.69909643, 2.40263088,\n",
       "       2.6627549 , 1.21018204, 2.92273578, 1.32812615, 2.66042636,\n",
       "       2.71093727, 3.46298089, 2.71093727, 2.22997651, 2.78839864,\n",
       "       2.40263088, 1.21018204, 2.95817118, 4.9993427 , 1.5517186 ,\n",
       "       3.46298089, 2.92273578, 3.60454192, 3.72268141, 2.95817118,\n",
       "       4.9993427 , 1.78428055, 2.64400814, 3.69909643, 3.58184714,\n",
       "       3.57874014, 2.11256994, 3.60454192, 3.31646634, 2.62137192,\n",
       "       1.78543672, 3.46298089, 3.72268141, 3.31646634, 4.93578058,\n",
       "       1.62790289, 3.511445  , 2.7289552 , 3.57874014, 3.69909643,\n",
       "       2.74449746, 2.15331448, 1.60547893, 1.60547893, 2.11256994,\n",
       "       2.71093727, 2.11256994, 3.69909643, 1.32812615, 3.69909643,\n",
       "       2.15331448, 2.40263088, 2.40263088, 2.66042636, 3.34159806,\n",
       "       3.511445  , 3.07622813, 2.64400814, 3.57874014, 1.99360005,\n",
       "       2.92273578, 3.07622813, 3.59136087, 2.64400814, 1.62790289,\n",
       "       2.78839864, 4.69401405, 1.05569068, 2.40263088, 4.35980462,\n",
       "       2.15331448, 2.92273578, 3.69909643, 2.70269551, 2.15227447,\n",
       "       2.6627549 , 3.31646634, 3.57874014, 3.72268141, 3.12965491,\n",
       "       2.95817118, 3.31646634, 1.21018204, 2.66042636, 1.62790289,\n",
       "       2.69685654, 2.49709504, 2.64400814, 2.49709504, 2.92273578,\n",
       "       3.20681455, 3.69909643, 2.7289552 , 3.88334787, 2.71093727,\n",
       "       1.32812615, 3.57874014, 3.72268141, 3.72268141, 1.32812615,\n",
       "       1.60547893, 3.58184714, 2.15331448, 3.46298089, 1.05569068,\n",
       "       3.57874014, 2.49709504, 2.92273578, 3.511445  , 2.71093727,\n",
       "       3.31646634, 1.60547893, 2.6627549 , 3.69909643, 2.15331448,\n",
       "       2.78839864, 1.78428055, 2.73470896, 1.62790289, 3.69909643,\n",
       "       3.60454192, 2.11256994, 3.60454192, 2.69685654, 2.71093727,\n",
       "       1.21018204, 3.07622813, 1.99360005, 2.6627549 , 2.71093727,\n",
       "       4.35980462, 3.511445  , 4.9993427 , 2.95817118, 3.72268141,\n",
       "       4.14409966, 2.92273578, 3.57874014, 1.32812615, 1.96546544,\n",
       "       1.5517186 , 2.64400814, 1.62790289, 2.69685654, 2.40263088,\n",
       "       3.60454192, 1.60547893, 2.15227447, 1.60547893, 2.71093727,\n",
       "       3.511445  , 1.62790289, 4.35980462, 3.511445  , 3.511445  ,\n",
       "       2.95817118, 3.07622813, 2.64400814, 2.71093727, 4.69401405,\n",
       "       3.69909643, 3.27697761, 1.32812615, 2.95817118, 1.5517186 ,\n",
       "       1.62790289, 2.71093727, 2.92273578, 2.40263088, 1.62790289,\n",
       "       1.21018204, 3.69909643, 3.511445  , 4.69401405, 3.72268141,\n",
       "       2.69685654, 4.35980462, 2.1068063 , 2.6627549 , 3.58184714,\n",
       "       2.40263088, 1.96546544, 2.62137192, 3.58184714, 4.93578058,\n",
       "       2.6627549 , 3.57874014, 2.1068063 , 1.96546544, 2.15331448,\n",
       "       2.11256994, 2.15331448, 2.15227447, 1.78428055, 3.07622813,\n",
       "       4.14409966, 3.60454192, 2.7289552 , 1.60547893, 1.78428055,\n",
       "       2.6627549 , 2.71093727, 2.64400814, 2.40263088, 3.69909643,\n",
       "       3.60454192, 2.6627549 , 2.95817118, 2.74449746, 4.14409966,\n",
       "       2.69685654, 3.69909643, 1.99360005, 1.32812615, 2.6627549 ,\n",
       "       3.58184714, 3.69909643, 2.95817118, 2.64400814, 3.57874014,\n",
       "       2.15331448, 3.46298089, 2.40263088, 3.59136087, 2.69685654,\n",
       "       2.15227447, 2.70269551, 3.69909643, 2.1068063 , 3.20681455,\n",
       "       3.58184714, 3.34159806, 3.57874014, 1.32812615, 3.511445  ,\n",
       "       1.21018204, 1.78428055, 2.1068063 , 1.78428055, 2.15331448,\n",
       "       3.12965491, 2.7289552 , 2.95817118, 4.35980462, 1.78428055,\n",
       "       2.15331448, 1.32812615, 2.70269551, 2.40263088, 3.69909643,\n",
       "       3.57874014, 3.72268141, 3.31646634, 2.70269551, 2.70269551,\n",
       "       1.62790289, 3.20681455, 2.71093727, 1.96546544, 1.62790289,\n",
       "       2.95817118, 1.32812615, 3.20681455, 4.14409966, 3.60454192,\n",
       "       4.35980462, 3.46298089, 3.60454192, 1.96546544, 2.69685654,\n",
       "       3.69909643, 3.60454192, 1.96546544, 1.78543672, 2.15227447,\n",
       "       2.70269551, 2.78839864, 2.15331448, 2.11256994, 1.96546544,\n",
       "       2.92273578, 2.69685654, 2.71093727, 2.95817118, 1.60547893,\n",
       "       1.78428055, 2.15331448, 2.40263088, 3.72268141, 1.62790289,\n",
       "       3.57874014, 1.62790289, 3.46298089, 4.35980462, 1.60547893,\n",
       "       2.15227447, 2.64400814, 2.78839864, 3.69909643, 3.31646634,\n",
       "       2.15331448, 2.71093727, 3.31646634, 1.96546544, 4.69401405,\n",
       "       1.32812615, 2.69685654, 2.92273578, 3.57874014, 4.69401405,\n",
       "       2.78839864, 2.74449746, 1.21018204, 3.34159806, 3.60454192,\n",
       "       2.95817118, 2.6627549 , 3.60454192, 2.92273578, 1.60547893,\n",
       "       2.95817118, 1.96546544, 2.62137192, 2.70269551, 3.60454192,\n",
       "       3.46298089, 2.69685654, 2.71093727, 2.92273578, 1.21018204,\n",
       "       1.78428055, 1.32812615, 1.5517186 , 3.07622813, 2.62137192,\n",
       "       2.1068063 , 1.21018204, 4.69401405, 3.60454192, 2.78839864,\n",
       "       2.70269551, 4.69401405, 2.40263088, 2.49709504, 2.92273578,\n",
       "       3.07622813, 2.92273578, 2.95817118, 3.20681455, 2.1068063 ,\n",
       "       2.40263088, 3.58184714, 2.95817118, 3.31646634, 1.62790289,\n",
       "       2.95817118, 2.62137192, 1.62790289, 1.60547893, 2.40263088,\n",
       "       3.31646634, 2.64400814, 2.70269551, 2.71093727, 3.58184714,\n",
       "       2.71093727, 2.70269551, 2.92273578, 2.15331448, 2.15331448,\n",
       "       1.62790289, 1.62790289, 3.69909643, 2.15331448, 1.78428055,\n",
       "       2.70269551, 2.70269551, 3.72268141, 2.78839864, 3.27697761,\n",
       "       4.69401405, 2.40263088, 2.6627549 , 2.71093727, 3.46298089,\n",
       "       3.31646634, 3.60454192, 3.07622813, 3.46298089, 2.78839864,\n",
       "       2.62137192, 2.40263088, 4.93578058, 2.95817118, 3.60454192,\n",
       "       3.57874014, 3.69909643])"
      ]
     },
     "execution_count": 32,
     "metadata": {},
     "output_type": "execute_result"
    }
   ],
   "source": [
    "model_rfr = RandomForestRegressor()\n",
    "model_rfr.fit(X_train, y_train)\n",
    "y_test_pred = model_rfr.predict(X_test)\n",
    "y_test_pred"
   ]
  },
  {
   "cell_type": "code",
   "execution_count": 33,
   "metadata": {},
   "outputs": [
    {
     "data": {
      "text/plain": [
       "<bound method NDFrame.tail of        0         1         2         3         4         5         6     \\\n",
       "0  3.604542  3.699096  3.699096  2.662755  1.551719  2.662755  3.604542   \n",
       "1  3.330000  3.880000  3.730000  2.850000  1.460000  2.880000  3.760000   \n",
       "2  0.274542 -0.180904 -0.030904 -0.187245  0.091719 -0.217245 -0.155458   \n",
       "\n",
       "       7         8         9     ...      1361      1362     1363      1364  \\\n",
       "0  2.621372  3.699096  3.511445  ...  1.328126  3.604542  3.57874  3.699096   \n",
       "1  2.510000  3.840000  3.100000  ...  1.120000  3.910000  3.81000  3.830000   \n",
       "2  0.111372 -0.140904  0.411445  ...  0.208126 -0.305458 -0.23126 -0.130904   \n",
       "\n",
       "       1365      1366      1367      1368      1369      1370  \n",
       "0  3.581847  3.511445  4.978082  2.788399  1.551719  3.129655  \n",
       "1  3.240000  3.090000  4.800000  2.760000  1.550000  3.160000  \n",
       "2  0.341847  0.421445  0.178082  0.028399  0.001719 -0.030345  \n",
       "\n",
       "[3 rows x 1371 columns]>"
      ]
     },
     "execution_count": 33,
     "metadata": {},
     "output_type": "execute_result"
    }
   ],
   "source": [
    "#RandomForestRegressor Residual showing difference actual vs predicted\n",
    "residual_dtr = pd.DataFrame([model_rfr.predict(X_train),y_train,(model_rfr.predict(X_train)-y_train)])\n",
    "residual_dtr.tail"
   ]
  },
  {
   "cell_type": "code",
   "execution_count": 34,
   "metadata": {},
   "outputs": [
    {
     "data": {
      "image/png": "[encoded data removed]",
      "text/plain": [
       "<Figure size 432x288 with 1 Axes>"
      ]
     },
     "metadata": {
      "needs_background": "light"
     },
     "output_type": "display_data"
    }
   ],
   "source": [
    "# Make predictions using fitted model\n",
    "predictions1 = model_rfr.predict(X_test)\n",
    "\n",
    "# Plotted the difference between the model predicted values and actual y values, versus the model predicted values\n",
    "plt.scatter(model_rfr.predict(X_train), y_train - model_rfr.predict(X_train), c=\"blue\", label=\"Training Data\")\n",
    "plt.scatter(model_rfr.predict(X_test), y_test - model_rfr.predict(X_test), c=\"orange\", label=\"Testing Data\")\n",
    "plt.legend()\n",
    "plt.hlines(y=0, xmin=y_test.min(), xmax=y_test.max())\n",
    "plt.title(\"Residual Plot\")\n",
    "plt.show()"
   ]
  },
  {
   "cell_type": "markdown",
   "metadata": {},
   "source": [
    "# Save the Model"
   ]
  },
  {
   "cell_type": "code",
   "execution_count": 35,
   "metadata": {},
   "outputs": [],
   "source": [
    "import pickle\n",
    "filename = '../../static/s32_model_rfr.sav'\n",
    "pickle.dump(model, open(filename, 'wb'))\n",
    "model_in_rfr = pickle.load(open(filename, 'rb'))"
   ]
  },
  {
   "cell_type": "code",
   "execution_count": 36,
   "metadata": {},
   "outputs": [],
   "source": [
    "# from joblib import dump,load\n",
    "# model_in_rfr = load('s32_model_rfr.sav')"
   ]
  },
  {
   "cell_type": "code",
   "execution_count": 37,
   "metadata": {},
   "outputs": [
    {
     "name": "stdout",
     "output_type": "stream",
     "text": [
      "      RBA    FED     CPI  Prediction\n",
      "0    1.35   1.75  123.90        5.07\n",
      "1    1.60   2.00  124.15        5.39\n",
      "2    1.85   2.25  124.40        5.70\n",
      "3    2.10   2.50  124.65        6.02\n",
      "4    2.35   2.75  124.90        6.33\n",
      "5    2.60   3.00  125.15        6.64\n",
      "6    2.85   3.25  125.40        6.96\n",
      "7    3.10   3.50  125.65        7.27\n",
      "8    3.35   3.75  125.90        7.59\n",
      "9    3.60   4.00  126.15        7.90\n",
      "10   3.85   4.25  126.40        8.21\n",
      "11   4.10   4.50  126.65        8.53\n",
      "12   4.35   4.75  126.90        8.84\n",
      "13   4.60   5.00  127.15        9.16\n",
      "14   4.85   5.25  127.40        9.47\n",
      "15   5.10   5.50  127.65        9.78\n",
      "16   5.35   5.75  127.90       10.10\n",
      "17   5.60   6.00  128.15       10.41\n",
      "18   5.85   6.25  128.40       10.73\n",
      "19   6.10   6.50  128.65       11.04\n",
      "20   6.35   6.75  128.90       11.35\n",
      "21   6.60   7.00  129.15       11.67\n",
      "22   6.85   7.25  129.40       11.98\n",
      "23   7.10   7.50  129.65       12.30\n",
      "24   7.35   7.75  129.90       12.61\n",
      "25   7.60   8.00  130.15       12.92\n",
      "26   7.85   8.25  130.40       13.24\n",
      "27   8.10   8.50  130.65       13.55\n",
      "28   8.35   8.75  130.90       13.87\n",
      "29   8.60   9.00  131.15       14.18\n",
      "30   8.85   9.25  131.40       14.49\n",
      "31   9.10   9.50  131.65       14.81\n",
      "32   9.35   9.75  131.90       15.12\n",
      "33   9.60  10.00  132.15       15.44\n",
      "34   9.85  10.25  132.40       15.75\n",
      "35  10.10  10.50  132.65       16.06\n",
      "36  10.35  10.75  132.90       16.38\n",
      "37  10.60  11.00  133.15       16.69\n",
      "38  10.85  11.25  133.40       17.01\n",
      "39  11.10  11.50  133.65       17.32 [{'RBA': 1.35, 'FED': 1.75, 'CPI': 123.9, 'Prediction': 5.07}, {'RBA': 1.6, 'FED': 2.0, 'CPI': 124.15, 'Prediction': 5.39}, {'RBA': 1.85, 'FED': 2.25, 'CPI': 124.4, 'Prediction': 5.7}, {'RBA': 2.1, 'FED': 2.5, 'CPI': 124.65, 'Prediction': 6.02}, {'RBA': 2.35, 'FED': 2.75, 'CPI': 124.9, 'Prediction': 6.33}, {'RBA': 2.6, 'FED': 3.0, 'CPI': 125.15, 'Prediction': 6.64}, {'RBA': 2.85, 'FED': 3.25, 'CPI': 125.4, 'Prediction': 6.96}, {'RBA': 3.1, 'FED': 3.5, 'CPI': 125.65, 'Prediction': 7.27}, {'RBA': 3.35, 'FED': 3.75, 'CPI': 125.9, 'Prediction': 7.59}, {'RBA': 3.6, 'FED': 4.0, 'CPI': 126.15, 'Prediction': 7.9}, {'RBA': 3.85, 'FED': 4.25, 'CPI': 126.4, 'Prediction': 8.21}, {'RBA': 4.1, 'FED': 4.5, 'CPI': 126.65, 'Prediction': 8.53}, {'RBA': 4.35, 'FED': 4.75, 'CPI': 126.9, 'Prediction': 8.84}, {'RBA': 4.6, 'FED': 5.0, 'CPI': 127.15, 'Prediction': 9.16}, {'RBA': 4.85, 'FED': 5.25, 'CPI': 127.4, 'Prediction': 9.47}, {'RBA': 5.1, 'FED': 5.5, 'CPI': 127.65, 'Prediction': 9.78}, {'RBA': 5.35, 'FED': 5.75, 'CPI': 127.9, 'Prediction': 10.1}, {'RBA': 5.6, 'FED': 6.0, 'CPI': 128.15, 'Prediction': 10.41}, {'RBA': 5.85, 'FED': 6.25, 'CPI': 128.4, 'Prediction': 10.73}, {'RBA': 6.1, 'FED': 6.5, 'CPI': 128.65, 'Prediction': 11.04}, {'RBA': 6.35, 'FED': 6.75, 'CPI': 128.9, 'Prediction': 11.35}, {'RBA': 6.6, 'FED': 7.0, 'CPI': 129.15, 'Prediction': 11.67}, {'RBA': 6.85, 'FED': 7.25, 'CPI': 129.4, 'Prediction': 11.98}, {'RBA': 7.1, 'FED': 7.5, 'CPI': 129.65, 'Prediction': 12.3}, {'RBA': 7.35, 'FED': 7.75, 'CPI': 129.9, 'Prediction': 12.61}, {'RBA': 7.6, 'FED': 8.0, 'CPI': 130.15, 'Prediction': 12.92}, {'RBA': 7.85, 'FED': 8.25, 'CPI': 130.4, 'Prediction': 13.24}, {'RBA': 8.1, 'FED': 8.5, 'CPI': 130.65, 'Prediction': 13.55}, {'RBA': 8.35, 'FED': 8.75, 'CPI': 130.9, 'Prediction': 13.87}, {'RBA': 8.6, 'FED': 9.0, 'CPI': 131.15, 'Prediction': 14.18}, {'RBA': 8.85, 'FED': 9.25, 'CPI': 131.4, 'Prediction': 14.49}, {'RBA': 9.1, 'FED': 9.5, 'CPI': 131.65, 'Prediction': 14.81}, {'RBA': 9.35, 'FED': 9.75, 'CPI': 131.9, 'Prediction': 15.12}, {'RBA': 9.6, 'FED': 10.0, 'CPI': 132.15, 'Prediction': 15.44}, {'RBA': 9.85, 'FED': 10.25, 'CPI': 132.4, 'Prediction': 15.75}, {'RBA': 10.1, 'FED': 10.5, 'CPI': 132.65, 'Prediction': 16.06}, {'RBA': 10.35, 'FED': 10.75, 'CPI': 132.9, 'Prediction': 16.38}, {'RBA': 10.6, 'FED': 11.0, 'CPI': 133.15, 'Prediction': 16.69}, {'RBA': 10.85, 'FED': 11.25, 'CPI': 133.4, 'Prediction': 17.01}, {'RBA': 11.1, 'FED': 11.5, 'CPI': 133.65, 'Prediction': 17.32}]\n"
     ]
    }
   ],
   "source": [
    "rba = float(1.35)\n",
    "fed = float(1.75)\n",
    "cpi = float(123.90)\n",
    "input =40\n",
    "rfr=[]\n",
    "\n",
    "def randomforest(rba,fed,cpi):\n",
    "    for i in range(0,input):\n",
    "      rfr.append([rba,fed,cpi])\n",
    "      np.round_(rfr,2,out = None) \n",
    "      df = pd.DataFrame(rfr, columns = ['RBA','FED',\"CPI\"])\n",
    "      df.round(2)\n",
    "      pred_rf=model_in_rfr.predict(df)\n",
    "      df['Prediction'] = pred_rf\n",
    "      df['Prediction'] = df['Prediction'].astype(float).round(2)\n",
    "      rba+=0.25\n",
    "      fed+=0.25\n",
    "      cpi+=0.25\n",
    "      # print(df)\n",
    "    my_rforest = df.to_dict(orient='records')\n",
    "    for dict_value in my_rforest:\n",
    "      for k, v in dict_value.items():\n",
    "        dict_value[k] = round(v, 2)\n",
    "    return my_rforest,df\n",
    "# print(my_rforest)\n",
    "my_rf,df = randomforest(rba,fed,cpi)\n",
    "print(df,my_rf)\n"
   ]
  },
  {
   "cell_type": "code",
   "execution_count": 38,
   "metadata": {},
   "outputs": [
    {
     "data": {
      "image/png": "[encoded data removed]",
      "text/plain": [
       "<Figure size 864x360 with 2 Axes>"
      ]
     },
     "metadata": {
      "needs_background": "light"
     },
     "output_type": "display_data"
    }
   ],
   "source": [
    "# DRAW THE PREDICTION\n",
    "#Append the input amount of trading days to dates dictionary\n",
    "input=40\n",
    "# df_pred = df.iloc[0:(input-1)]\n",
    "plot1 = df.plot(y=[\"CPI\",\"Prediction\"], figsize=(12, 5),color=['gold','green'],linewidth=2)\n",
    "plot2 = df.plot(y=[\"RBA\",\"FED\"],secondary_y=True, ax=plot1,color=['pink','steelblue'],linestyle='dashed')\n",
    "plt.title('S32 PREDICTIONS')\n",
    "plot1.set_xlabel('Future Trading Days', fontsize=10)\n",
    "plot1.set_ylabel('Close Price AUD ($) or CPI', fontsize=10)\n",
    "plot1.legend(loc='upper left')\n",
    "plot2.legend(loc='upper right')\n",
    "plt.savefig('../../static/data/images/s32_rfr_pred.png', bbox_inches=\"tight\")\n",
    "plt.show()"
   ]
  },
  {
   "cell_type": "code",
   "execution_count": 39,
   "metadata": {},
   "outputs": [
    {
     "name": "stdout",
     "output_type": "stream",
     "text": [
      "    RBA   FED    CPI  Prediction\n",
      "0  1.35  1.75  123.9    5.074194\n",
      "[5.07419395]\n"
     ]
    }
   ],
   "source": [
    "rba = float(1.35)\n",
    "fed = float(1.75)\n",
    "cpi = float(123.90)\n",
    "def rforest(rba,fed,cpi):\n",
    "    dtr =[[rba,fed,cpi]]\n",
    "    df = pd.DataFrame (dtr, columns = ['RBA','FED',\"CPI\"])\n",
    "    pred_dtr=model_in_rfr.predict(df)\n",
    "    df['Prediction'] = pred_dtr\n",
    "    print(df)\n",
    "    df_dict = df.to_dict(orient='records')\n",
    "    return pred_dtr\n",
    "Pred_rf = rforest(rba,fed,cpi)\n",
    "print(Pred_rf)"
   ]
  },
  {
   "cell_type": "code",
   "execution_count": 40,
   "metadata": {},
   "outputs": [
    {
     "data": {
      "image/png": "[encoded data removed]",
      "text/plain": [
       "<Figure size 864x360 with 2 Axes>"
      ]
     },
     "metadata": {
      "needs_background": "light"
     },
     "output_type": "display_data"
    }
   ],
   "source": [
    "x = np.arange(2000,2024,4)\n",
    "ax = df_mongo.plot(y=[\"CPI\",\"Close\"], figsize=(12, 5),color=['grey','green'],linewidth=2)\n",
    "df_mongo.plot(y=[\"RBA\",\"FED\"],secondary_y=True, ax=ax,color=['pink','steelblue'],linestyle='dashed')\n",
    "plt.legend(bbox_to_anchor=(1.03, 1), loc='upper left', borderaxespad=-4, title=\"Interest rates\")\n",
    "ax.legend(loc='upper left')\n",
    "ax.set_xticks([0,1000,2000,3000,4000,5000])\n",
    "ax.set_xticklabels(x, rotation=0)\n",
    "ax.set_title('S32 Random Forest Regression Model')\n",
    "ax.set_xlabel('Trading Date', fontsize=18)\n",
    "ax.set_ylabel('Close Price AUD ($) or CPI', fontsize=18)\n",
    "plt.savefig('../../static/data/images/s32_tree.png')"
   ]
  },
  {
   "cell_type": "markdown",
   "metadata": {},
   "source": [
    "#Save predicted error to MongoDB"
   ]
  },
  {
   "cell_type": "code",
   "execution_count": 41,
   "metadata": {},
   "outputs": [],
   "source": [
    "# Module used to connect Python with MongoDb\n",
    "import pymongo"
   ]
  },
  {
   "cell_type": "code",
   "execution_count": 42,
   "metadata": {},
   "outputs": [],
   "source": [
    "# The default port used by MongoDB is 27017\n",
    "# https://docs.mongodb.com/manual/reference/default-mongodb-port/\n",
    "conn = 'mongodb://localhost:27017'\n",
    "client = pymongo.MongoClient(conn)\n",
    "\n",
    "# Define the 'sharesDB' database in Mongo\n",
    "db = client.sharesDB.companys\n",
    "\n",
    "name = 'S32'"
   ]
  },
  {
   "cell_type": "code",
   "execution_count": 43,
   "metadata": {},
   "outputs": [
    {
     "name": "stdout",
     "output_type": "stream",
     "text": [
      "{'_id': ObjectId('62e603ea8b5a50a58d8a3c44'), 'model': 'RFR', 'name': 'S32', 'date': '29/07/2022', 'predicted': 5, 'actual': 3, 'difference': 2.2663, 'accuracy': 95.25}\n"
     ]
    }
   ],
   "source": [
    "# query the classroom collection\n",
    "companys = db.find({\n",
    "      'model': 'RFR',\n",
    "      'name': name})\n",
    "\n",
    "# see change in collection\n",
    "for company in companys:\n",
    "    print(company)"
   ]
  },
  {
   "cell_type": "code",
   "execution_count": 44,
   "metadata": {},
   "outputs": [
    {
     "name": "stdout",
     "output_type": "stream",
     "text": [
      "95.29 3 02/08/2022\n"
     ]
    }
   ],
   "source": [
    "#save last price actual to variable\n",
    "actual_price = df_mongo.iloc[-1,5]\n",
    "actual_date = df_mongo.iloc[-1,1] \n",
    "actual_price = int(actual_price)\n",
    "base_accuracy=round(base_accuracy,2)\n",
    "print(base_accuracy,actual_price,actual_date)\n"
   ]
  },
  {
   "cell_type": "code",
   "execution_count": 45,
   "metadata": {},
   "outputs": [
    {
     "name": "stdout",
     "output_type": "stream",
     "text": [
      "date 02/08/2022,predicted 5,actual 3, difference 2.0741939490912102,accuracy 95.29\n"
     ]
    }
   ],
   "source": [
    "# Set keys and values of company\n",
    "predicted = int(Pred_rf)\n",
    "difference = Pred_rf-actual_price\n",
    "difference=difference[0]\n",
    "print(f'date {actual_date},predicted {predicted},actual {actual_price}, difference {difference},accuracy {base_accuracy}')"
   ]
  },
  {
   "cell_type": "code",
   "execution_count": 46,
   "metadata": {},
   "outputs": [
    {
     "data": {
      "text/plain": [
       "<pymongo.results.DeleteResult at 0x2547e735dc0>"
      ]
     },
     "execution_count": 46,
     "metadata": {},
     "output_type": "execute_result"
    }
   ],
   "source": [
    "# Delete a document from a collection\n",
    "db.delete_one(\n",
    "    {'model': 'RFR','name': name}\n",
    ")\n"
   ]
  },
  {
   "cell_type": "code",
   "execution_count": 47,
   "metadata": {},
   "outputs": [
    {
     "name": "stdout",
     "output_type": "stream",
     "text": [
      "{'_id': ObjectId('62e9d8adf7fc31d527ccfa87'), 'model': 'RFR', 'name': 'S32', 'date': '02/08/2022', 'predicted': 5, 'actual': 3, 'difference': 2.0742, 'accuracy': 95.29}\n"
     ]
    }
   ],
   "source": [
    "# Insert a document into the 'companys' collection\n",
    "db.insert_one(\n",
    "    {\n",
    "      'model': 'RFR',\n",
    "      'name': name,\n",
    "      'date': actual_date,\n",
    "      'predicted': predicted,\n",
    "      'actual': actual_price,\n",
    "      'difference': round(difference,4),\n",
    "      'accuracy': base_accuracy        \n",
    "    }\n",
    ")\n",
    "\n",
    "# query the classroom collection\n",
    "companys = db.find({\n",
    "  'model': 'RFR',\n",
    "  'name': name,})\n",
    "\n",
    "# see change in collection\n",
    "for company in companys:\n",
    "    print(company)"
   ]
  }
 ],
 "metadata": {
  "interpreter": {
   "hash": "45bb1cb4637e4034484920e5cfb24c9afd84b0847d6c36e39edd3067d3a05462"
  },
  "kernel_info": {
   "name": "dev"
  },
  "kernelspec": {
   "display_name": "Python 3.9.7 ('base')",
   "language": "python",
   "name": "python3"
  },
  "language_info": {
   "codemirror_mode": {
    "name": "ipython",
    "version": 3
   },
   "file_extension": ".py",
   "mimetype": "text/x-python",
   "name": "python",
   "nbconvert_exporter": "python",
   "pygments_lexer": "ipython3",
   "version": "3.9.7"
  },
  "nteract": {
   "version": "0.12.3"
  }
 },
 "nbformat": 4,
 "nbformat_minor": 2
}
