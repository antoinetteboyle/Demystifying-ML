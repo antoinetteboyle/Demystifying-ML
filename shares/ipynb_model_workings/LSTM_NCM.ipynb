{
 "cells": [
  {
   "cell_type": "markdown",
   "metadata": {},
   "source": [
    "#This model uses LSTM to predict a Daily share price movements based on time series and batches of 60 days"
   ]
  },
  {
   "cell_type": "markdown",
   "metadata": {},
   "source": [
    "# Read the CSV and Perform Basic Data Cleaning"
   ]
  },
  {
   "cell_type": "code",
   "execution_count": 1,
   "metadata": {},
   "outputs": [],
   "source": [
    "import matplotlib.pyplot as plt\n",
    "import numpy as np\n",
    "import pandas as pd"
   ]
  },
  {
   "cell_type": "code",
   "execution_count": 2,
   "metadata": {},
   "outputs": [
    {
     "data": {
      "text/html": [
       "<div>\n",
       "<style scoped>\n",
       "    .dataframe tbody tr th:only-of-type {\n",
       "        vertical-align: middle;\n",
       "    }\n",
       "\n",
       "    .dataframe tbody tr th {\n",
       "        vertical-align: top;\n",
       "    }\n",
       "\n",
       "    .dataframe thead th {\n",
       "        text-align: right;\n",
       "    }\n",
       "</style>\n",
       "<table border=\"1\" class=\"dataframe\">\n",
       "  <thead>\n",
       "    <tr style=\"text-align: right;\">\n",
       "      <th></th>\n",
       "      <th>Date</th>\n",
       "      <th>Open</th>\n",
       "      <th>High</th>\n",
       "      <th>Low</th>\n",
       "      <th>Close</th>\n",
       "      <th>Adj Close</th>\n",
       "      <th>Volume</th>\n",
       "      <th>RBA</th>\n",
       "      <th>FED</th>\n",
       "      <th>CPI</th>\n",
       "    </tr>\n",
       "  </thead>\n",
       "  <tbody>\n",
       "    <tr>\n",
       "      <th>6009</th>\n",
       "      <td>1/08/2022</td>\n",
       "      <td>19.50</td>\n",
       "      <td>19.580000</td>\n",
       "      <td>19.059999</td>\n",
       "      <td>19.270000</td>\n",
       "      <td>19.270000</td>\n",
       "      <td>4266708.0</td>\n",
       "      <td>1.35</td>\n",
       "      <td>2.5</td>\n",
       "      <td>125.0</td>\n",
       "    </tr>\n",
       "    <tr>\n",
       "      <th>6010</th>\n",
       "      <td>2/08/2022</td>\n",
       "      <td>19.27</td>\n",
       "      <td>19.620001</td>\n",
       "      <td>19.120001</td>\n",
       "      <td>19.520000</td>\n",
       "      <td>19.520000</td>\n",
       "      <td>5613830.0</td>\n",
       "      <td>1.35</td>\n",
       "      <td>2.5</td>\n",
       "      <td>125.0</td>\n",
       "    </tr>\n",
       "    <tr>\n",
       "      <th>6011</th>\n",
       "      <td>3/08/2022</td>\n",
       "      <td>19.40</td>\n",
       "      <td>19.440001</td>\n",
       "      <td>18.900000</td>\n",
       "      <td>19.200001</td>\n",
       "      <td>19.200001</td>\n",
       "      <td>5490730.0</td>\n",
       "      <td>1.85</td>\n",
       "      <td>2.5</td>\n",
       "      <td>125.0</td>\n",
       "    </tr>\n",
       "    <tr>\n",
       "      <th>6012</th>\n",
       "      <td>4/08/2022</td>\n",
       "      <td>18.75</td>\n",
       "      <td>19.090000</td>\n",
       "      <td>18.660000</td>\n",
       "      <td>19.010000</td>\n",
       "      <td>19.010000</td>\n",
       "      <td>4600665.0</td>\n",
       "      <td>1.85</td>\n",
       "      <td>2.5</td>\n",
       "      <td>125.0</td>\n",
       "    </tr>\n",
       "    <tr>\n",
       "      <th>6013</th>\n",
       "      <td>5/08/2022</td>\n",
       "      <td>19.25</td>\n",
       "      <td>19.459999</td>\n",
       "      <td>19.250000</td>\n",
       "      <td>19.379999</td>\n",
       "      <td>19.379999</td>\n",
       "      <td>2793939.0</td>\n",
       "      <td>1.85</td>\n",
       "      <td>2.5</td>\n",
       "      <td>125.0</td>\n",
       "    </tr>\n",
       "  </tbody>\n",
       "</table>\n",
       "</div>"
      ],
      "text/plain": [
       "           Date   Open       High        Low      Close  Adj Close     Volume  \\\n",
       "6009  1/08/2022  19.50  19.580000  19.059999  19.270000  19.270000  4266708.0   \n",
       "6010  2/08/2022  19.27  19.620001  19.120001  19.520000  19.520000  5613830.0   \n",
       "6011  3/08/2022  19.40  19.440001  18.900000  19.200001  19.200001  5490730.0   \n",
       "6012  4/08/2022  18.75  19.090000  18.660000  19.010000  19.010000  4600665.0   \n",
       "6013  5/08/2022  19.25  19.459999  19.250000  19.379999  19.379999  2793939.0   \n",
       "\n",
       "       RBA  FED    CPI  \n",
       "6009  1.35  2.5  125.0  \n",
       "6010  1.35  2.5  125.0  \n",
       "6011  1.85  2.5  125.0  \n",
       "6012  1.85  2.5  125.0  \n",
       "6013  1.85  2.5  125.0  "
      ]
     },
     "execution_count": 2,
     "metadata": {},
     "output_type": "execute_result"
    }
   ],
   "source": [
    "df_stock1 = pd.read_csv(\"../static/data/ncm.csv\")\n",
    "# Drop the null columns where all values are null\n",
    "df_stock2 = df_stock1.dropna(axis='columns', how='all')\n",
    "# Drop the null rows\n",
    "df = df_stock2.dropna()\n",
    "# Drop the last rows to test prediction to actual\n",
    "df_stock_less1= df_stock2.iloc[:-1,:]\n",
    "df.tail()"
   ]
  },
  {
   "cell_type": "code",
   "execution_count": 3,
   "metadata": {},
   "outputs": [],
   "source": [
    "# Connect to MongoDb\n",
    "from pymongo import MongoClient\n",
    "mongoClient = MongoClient()\n",
    "db = mongoClient.sharesDB\n",
    "\n",
    "# # Drop all previous records now in MongoDb\n",
    "# db.ncm.drop()\n",
    "\n",
    "# # Insert df records in mongodb\n",
    "# records=df.to_dict('records')\n",
    "# records\n",
    "# db.ncm.insert_many(records)"
   ]
  },
  {
   "cell_type": "code",
   "execution_count": 4,
   "metadata": {},
   "outputs": [
    {
     "name": "stdout",
     "output_type": "stream",
     "text": [
      "DELETE: 29/08/2022 17.389999389648438\n"
     ]
    },
    {
     "data": {
      "text/plain": [
       "<pymongo.results.DeleteResult at 0x2a24bc3a740>"
      ]
     },
     "execution_count": 4,
     "metadata": {},
     "output_type": "execute_result"
    }
   ],
   "source": [
    "#Update latest data in mongoDb\n",
    "df_mongo = pd.DataFrame(list(db.ncm.find()))\n",
    "last_val = df_mongo.iloc[-1:].values\n",
    "\n",
    "last_date = last_val[0][1]\n",
    "last_close = last_val[0][5]\n",
    "print(\"DELETE: \"+last_date,last_close)\n",
    "\n",
    "db.ncm.delete_one(\n",
    "    {'Date': last_date}\n",
    ")"
   ]
  },
  {
   "cell_type": "code",
   "execution_count": 5,
   "metadata": {},
   "outputs": [
    {
     "name": "stdout",
     "output_type": "stream",
     "text": [
      "NEW LAST VALUE IN MONGODB: 26/08/2022 18.239999771118164\n",
      "Previous last date in MongoDb: 26-08-2022. Today's date: 30-08-2022\n"
     ]
    }
   ],
   "source": [
    "#Update latest data in mongoDb\n",
    "df_mongo = pd.DataFrame(list(db.ncm.find()))\n",
    "last_val = df_mongo.iloc[-1:].values\n",
    "\n",
    "last_date = last_val[0][1]\n",
    "last_close = last_val[0][5]\n",
    "print(\"NEW LAST VALUE IN MONGODB: \"+last_date,last_close)\n",
    "\n",
    "from datetime import date,datetime\n",
    "todaydt = date.today()\n",
    "today=todaydt.strftime('%d-%m-%Y')\n",
    "from_date = datetime.strptime(last_date, '%d/%m/%Y')\n",
    "last_date=from_date.strftime('%d-%m-%Y')\n",
    "print(\"Previous last date in MongoDb: \"+last_date+\". Today's date: \"+today)"
   ]
  },
  {
   "cell_type": "code",
   "execution_count": 6,
   "metadata": {},
   "outputs": [
    {
     "data": {
      "text/html": [
       "<div>\n",
       "<style scoped>\n",
       "    .dataframe tbody tr th:only-of-type {\n",
       "        vertical-align: middle;\n",
       "    }\n",
       "\n",
       "    .dataframe tbody tr th {\n",
       "        vertical-align: top;\n",
       "    }\n",
       "\n",
       "    .dataframe thead th {\n",
       "        text-align: right;\n",
       "    }\n",
       "</style>\n",
       "<table border=\"1\" class=\"dataframe\">\n",
       "  <thead>\n",
       "    <tr style=\"text-align: right;\">\n",
       "      <th></th>\n",
       "      <th>High</th>\n",
       "      <th>Low</th>\n",
       "      <th>Open</th>\n",
       "      <th>Close</th>\n",
       "      <th>Volume</th>\n",
       "      <th>Adj Close</th>\n",
       "    </tr>\n",
       "    <tr>\n",
       "      <th>Date</th>\n",
       "      <th></th>\n",
       "      <th></th>\n",
       "      <th></th>\n",
       "      <th></th>\n",
       "      <th></th>\n",
       "      <th></th>\n",
       "    </tr>\n",
       "  </thead>\n",
       "  <tbody>\n",
       "    <tr>\n",
       "      <th>2022-08-26</th>\n",
       "      <td>18.639999</td>\n",
       "      <td>18.240000</td>\n",
       "      <td>18.629999</td>\n",
       "      <td>18.240000</td>\n",
       "      <td>3453534.0</td>\n",
       "      <td>18.240000</td>\n",
       "    </tr>\n",
       "    <tr>\n",
       "      <th>2022-08-29</th>\n",
       "      <td>17.815001</td>\n",
       "      <td>17.350000</td>\n",
       "      <td>17.620001</td>\n",
       "      <td>17.389999</td>\n",
       "      <td>6190939.0</td>\n",
       "      <td>17.389999</td>\n",
       "    </tr>\n",
       "    <tr>\n",
       "      <th>2022-08-30</th>\n",
       "      <td>17.719999</td>\n",
       "      <td>17.370001</td>\n",
       "      <td>17.520000</td>\n",
       "      <td>17.639999</td>\n",
       "      <td>3819991.0</td>\n",
       "      <td>17.639999</td>\n",
       "    </tr>\n",
       "  </tbody>\n",
       "</table>\n",
       "</div>"
      ],
      "text/plain": [
       "                 High        Low       Open      Close     Volume  Adj Close\n",
       "Date                                                                        \n",
       "2022-08-26  18.639999  18.240000  18.629999  18.240000  3453534.0  18.240000\n",
       "2022-08-29  17.815001  17.350000  17.620001  17.389999  6190939.0  17.389999\n",
       "2022-08-30  17.719999  17.370001  17.520000  17.639999  3819991.0  17.639999"
      ]
     },
     "execution_count": 6,
     "metadata": {},
     "output_type": "execute_result"
    }
   ],
   "source": [
    "#Get latest quotes from yahoo finance:\n",
    "import pandas_datareader.data as web\n",
    "symbol = 'NCM.AX'\n",
    "start = from_date # yyyy-mm-dd\n",
    "end = todaydt  # yyyy-mm-dd\n",
    "stock_quote = web.DataReader(symbol,data_source='yahoo',start=start, end=end) # dataframe\n",
    "stock_quote\n"
   ]
  },
  {
   "cell_type": "code",
   "execution_count": 7,
   "metadata": {},
   "outputs": [
    {
     "data": {
      "text/html": [
       "<div>\n",
       "<style scoped>\n",
       "    .dataframe tbody tr th:only-of-type {\n",
       "        vertical-align: middle;\n",
       "    }\n",
       "\n",
       "    .dataframe tbody tr th {\n",
       "        vertical-align: top;\n",
       "    }\n",
       "\n",
       "    .dataframe thead th {\n",
       "        text-align: right;\n",
       "    }\n",
       "</style>\n",
       "<table border=\"1\" class=\"dataframe\">\n",
       "  <thead>\n",
       "    <tr style=\"text-align: right;\">\n",
       "      <th></th>\n",
       "      <th>High</th>\n",
       "      <th>Low</th>\n",
       "      <th>Open</th>\n",
       "      <th>Close</th>\n",
       "      <th>Volume</th>\n",
       "      <th>Adj Close</th>\n",
       "    </tr>\n",
       "    <tr>\n",
       "      <th>Date</th>\n",
       "      <th></th>\n",
       "      <th></th>\n",
       "      <th></th>\n",
       "      <th></th>\n",
       "      <th></th>\n",
       "      <th></th>\n",
       "    </tr>\n",
       "  </thead>\n",
       "  <tbody>\n",
       "    <tr>\n",
       "      <th>2022-08-29</th>\n",
       "      <td>17.815001</td>\n",
       "      <td>17.350000</td>\n",
       "      <td>17.620001</td>\n",
       "      <td>17.389999</td>\n",
       "      <td>6190939.0</td>\n",
       "      <td>17.389999</td>\n",
       "    </tr>\n",
       "    <tr>\n",
       "      <th>2022-08-30</th>\n",
       "      <td>17.719999</td>\n",
       "      <td>17.370001</td>\n",
       "      <td>17.520000</td>\n",
       "      <td>17.639999</td>\n",
       "      <td>3819991.0</td>\n",
       "      <td>17.639999</td>\n",
       "    </tr>\n",
       "  </tbody>\n",
       "</table>\n",
       "</div>"
      ],
      "text/plain": [
       "                 High        Low       Open      Close     Volume  Adj Close\n",
       "Date                                                                        \n",
       "2022-08-29  17.815001  17.350000  17.620001  17.389999  6190939.0  17.389999\n",
       "2022-08-30  17.719999  17.370001  17.520000  17.639999  3819991.0  17.639999"
      ]
     },
     "execution_count": 7,
     "metadata": {},
     "output_type": "execute_result"
    }
   ],
   "source": [
    "#remove last date already in mongodb\n",
    "stock_quote=stock_quote.iloc[1:]\n",
    "stock_quote"
   ]
  },
  {
   "cell_type": "code",
   "execution_count": 8,
   "metadata": {},
   "outputs": [
    {
     "name": "stderr",
     "output_type": "stream",
     "text": [
      "C:\\Users\\antoi\\AppData\\Local\\Temp/ipykernel_9736/307716900.py:12: SettingWithCopyWarning: \n",
      "A value is trying to be set on a copy of a slice from a DataFrame.\n",
      "Try using .loc[row_indexer,col_indexer] = value instead\n",
      "\n",
      "See the caveats in the documentation: https://pandas.pydata.org/pandas-docs/stable/user_guide/indexing.html#returning-a-view-versus-a-copy\n",
      "  stock_quote[\"RBA\"],stock_quote[\"FED\"],stock_quote[\"CPI\"] = a,b,c\n",
      "C:\\Users\\antoi\\AppData\\Local\\Temp/ipykernel_9736/307716900.py:15: SettingWithCopyWarning: \n",
      "A value is trying to be set on a copy of a slice from a DataFrame.\n",
      "Try using .loc[row_indexer,col_indexer] = value instead\n",
      "\n",
      "See the caveats in the documentation: https://pandas.pydata.org/pandas-docs/stable/user_guide/indexing.html#returning-a-view-versus-a-copy\n",
      "  stock_quote['Date'] = pd.to_datetime(stock_quote['Date'])\n",
      "C:\\Users\\antoi\\AppData\\Local\\Temp/ipykernel_9736/307716900.py:16: SettingWithCopyWarning: \n",
      "A value is trying to be set on a copy of a slice from a DataFrame.\n",
      "Try using .loc[row_indexer,col_indexer] = value instead\n",
      "\n",
      "See the caveats in the documentation: https://pandas.pydata.org/pandas-docs/stable/user_guide/indexing.html#returning-a-view-versus-a-copy\n",
      "  stock_quote['Date']=stock_quote['Date'].dt.strftime('%d/%m/%Y')\n",
      "C:\\Users\\antoi\\AppData\\Local\\Temp/ipykernel_9736/307716900.py:17: SettingWithCopyWarning: \n",
      "A value is trying to be set on a copy of a slice from a DataFrame.\n",
      "Try using .loc[row_indexer,col_indexer] = value instead\n",
      "\n",
      "See the caveats in the documentation: https://pandas.pydata.org/pandas-docs/stable/user_guide/indexing.html#returning-a-view-versus-a-copy\n",
      "  stock_quote['Date']=stock_quote['Date'].astype(str)\n"
     ]
    },
    {
     "data": {
      "text/html": [
       "<div>\n",
       "<style scoped>\n",
       "    .dataframe tbody tr th:only-of-type {\n",
       "        vertical-align: middle;\n",
       "    }\n",
       "\n",
       "    .dataframe tbody tr th {\n",
       "        vertical-align: top;\n",
       "    }\n",
       "\n",
       "    .dataframe thead th {\n",
       "        text-align: right;\n",
       "    }\n",
       "</style>\n",
       "<table border=\"1\" class=\"dataframe\">\n",
       "  <thead>\n",
       "    <tr style=\"text-align: right;\">\n",
       "      <th></th>\n",
       "      <th>Date</th>\n",
       "      <th>High</th>\n",
       "      <th>Low</th>\n",
       "      <th>Open</th>\n",
       "      <th>Close</th>\n",
       "      <th>Volume</th>\n",
       "      <th>Adj Close</th>\n",
       "      <th>RBA</th>\n",
       "      <th>FED</th>\n",
       "      <th>CPI</th>\n",
       "    </tr>\n",
       "  </thead>\n",
       "  <tbody>\n",
       "    <tr>\n",
       "      <th>0</th>\n",
       "      <td>29/08/2022</td>\n",
       "      <td>17.815001</td>\n",
       "      <td>17.350000</td>\n",
       "      <td>17.620001</td>\n",
       "      <td>17.389999</td>\n",
       "      <td>6190939.0</td>\n",
       "      <td>17.389999</td>\n",
       "      <td>1.85</td>\n",
       "      <td>2.5</td>\n",
       "      <td>125</td>\n",
       "    </tr>\n",
       "    <tr>\n",
       "      <th>1</th>\n",
       "      <td>30/08/2022</td>\n",
       "      <td>17.719999</td>\n",
       "      <td>17.370001</td>\n",
       "      <td>17.520000</td>\n",
       "      <td>17.639999</td>\n",
       "      <td>3819991.0</td>\n",
       "      <td>17.639999</td>\n",
       "      <td>1.85</td>\n",
       "      <td>2.5</td>\n",
       "      <td>125</td>\n",
       "    </tr>\n",
       "  </tbody>\n",
       "</table>\n",
       "</div>"
      ],
      "text/plain": [
       "         Date       High        Low       Open      Close     Volume  \\\n",
       "0  29/08/2022  17.815001  17.350000  17.620001  17.389999  6190939.0   \n",
       "1  30/08/2022  17.719999  17.370001  17.520000  17.639999  3819991.0   \n",
       "\n",
       "   Adj Close   RBA  FED  CPI  \n",
       "0  17.389999  1.85  2.5  125  \n",
       "1  17.639999  1.85  2.5  125  "
      ]
     },
     "execution_count": 8,
     "metadata": {},
     "output_type": "execute_result"
    }
   ],
   "source": [
    "tot=len(stock_quote)\n",
    "rba=1.85\n",
    "fed=2.5\n",
    "cpi=125\n",
    "a,b,c=[],[],[]\n",
    "for i in range(tot):\n",
    "    a.append(rba)\n",
    "    b.append(fed)\n",
    "    c.append(cpi)\n",
    "# print(a,b,c)\n",
    "#ADD NEW DATA IN DATAFRAME\n",
    "stock_quote[\"RBA\"],stock_quote[\"FED\"],stock_quote[\"CPI\"] = a,b,c\n",
    "stock_quote.reset_index(inplace=True)\n",
    "\n",
    "stock_quote['Date'] = pd.to_datetime(stock_quote['Date'])\n",
    "stock_quote['Date']=stock_quote['Date'].dt.strftime('%d/%m/%Y')\n",
    "stock_quote['Date']=stock_quote['Date'].astype(str)\n",
    "stock_quote"
   ]
  },
  {
   "cell_type": "markdown",
   "metadata": {},
   "source": [
    "UPDATE MONGO DB"
   ]
  },
  {
   "cell_type": "code",
   "execution_count": 9,
   "metadata": {},
   "outputs": [
    {
     "data": {
      "text/plain": [
       "[{'Date': '29/08/2022',\n",
       "  'High': 17.815000534057617,\n",
       "  'Low': 17.350000381469727,\n",
       "  'Open': 17.6200008392334,\n",
       "  'Close': 17.389999389648438,\n",
       "  'Volume': 6190939.0,\n",
       "  'Adj Close': 17.389999389648438,\n",
       "  'RBA': 1.85,\n",
       "  'FED': 2.5,\n",
       "  'CPI': 125},\n",
       " {'Date': '30/08/2022',\n",
       "  'High': 17.719999313354492,\n",
       "  'Low': 17.3700008392334,\n",
       "  'Open': 17.520000457763672,\n",
       "  'Close': 17.639999389648438,\n",
       "  'Volume': 3819991.0,\n",
       "  'Adj Close': 17.639999389648438,\n",
       "  'RBA': 1.85,\n",
       "  'FED': 2.5,\n",
       "  'CPI': 125}]"
      ]
     },
     "execution_count": 9,
     "metadata": {},
     "output_type": "execute_result"
    }
   ],
   "source": [
    "records=stock_quote.to_dict('records')\n",
    "records"
   ]
  },
  {
   "cell_type": "code",
   "execution_count": 10,
   "metadata": {},
   "outputs": [
    {
     "name": "stdout",
     "output_type": "stream",
     "text": [
      "[[ObjectId('62ff435e3c57b05d11747c5d') '17/08/2022' 19.09000015258789\n",
      "  19.280000686645508 19.079999923706055 19.219999313354492\n",
      "  19.219999313354492 4052357.0 1.85 2.5 125.0]\n",
      " [ObjectId('630497014ec94ce3bc8cff42') '18/08/2022' 18.799999237060547\n",
      "  19.010000228881836 18.520000457763672 18.670000076293945\n",
      "  18.670000076293945 6838418.0 1.85 2.5 125.0]\n",
      " [ObjectId('630497014ec94ce3bc8cff43') '19/08/2022' 19.399999618530273\n",
      "  19.584999084472656 19.1299991607666 19.350000381469727\n",
      "  19.350000381469727 7004870.0 1.85 2.5 125.0]\n",
      " [ObjectId('630497014ec94ce3bc8cff44') '22/08/2022' 18.93000030517578\n",
      "  19.049999237060547 18.375 18.489999771118164 18.489999771118164\n",
      "  6867462.0 1.85 2.5 125.0]\n",
      " [ObjectId('630746c97b81e63217807a77') '23/08/2022' 18.459999084472656\n",
      "  18.850000381469727 18.440000534057617 18.6200008392334 18.6200008392334\n",
      "  3669038.0 1.85 2.5 125.0]\n",
      " [ObjectId('630746c97b81e63217807a78') '24/08/2022' 18.84000015258789\n",
      "  18.899999618530273 18.260000228881836 18.350000381469727\n",
      "  18.350000381469727 4636742.0 1.85 2.5 125.0]\n",
      " [ObjectId('630af7e3588a94d9a16d3ef0') '25/08/2022' 18.489999771118164\n",
      "  18.959999084472656 18.450000762939453 18.899999618530273\n",
      "  18.61127471923828 3646301.0 1.85 2.5 125.0]\n",
      " [ObjectId('630c93d105ede3caee656dde') '26/08/2022' 18.6299991607666\n",
      "  18.639999389648438 18.239999771118164 18.239999771118164\n",
      "  18.239999771118164 3453534.0 1.85 2.5 125.0]\n",
      " [ObjectId('630dce1cb58df087a5ebb95e') '29/08/2022' 17.6200008392334\n",
      "  17.815000534057617 17.350000381469727 17.389999389648438\n",
      "  17.389999389648438 6190939.0 1.85 2.5 125.0]\n",
      " [ObjectId('630dce1cb58df087a5ebb95f') '30/08/2022' 17.520000457763672\n",
      "  17.719999313354492 17.3700008392334 17.639999389648438\n",
      "  17.639999389648438 3819991.0 1.85 2.5 125.0]]\n"
     ]
    }
   ],
   "source": [
    "#INSERT NEW DATA INTO MONGODB\n",
    "db.ncm.insert_many(records)\n",
    "\n",
    "#Check if mongoDb now has latest data\n",
    "df_mongo = pd.DataFrame(list(db.ncm.find()))\n",
    "\n",
    "last_val = df_mongo.iloc[-10:].values\n",
    "print(last_val)"
   ]
  },
  {
   "cell_type": "code",
   "execution_count": 11,
   "metadata": {},
   "outputs": [
    {
     "name": "stdout",
     "output_type": "stream",
     "text": [
      "30/08/2022 17.639999389648438\n"
     ]
    }
   ],
   "source": [
    "#Save latest to variables\n",
    "last_val = df_mongo.iloc[-1:].values\n",
    "last_date = last_val[0][1]\n",
    "last_close = last_val[0][5]\n",
    "print(last_date,last_close)"
   ]
  },
  {
   "cell_type": "markdown",
   "metadata": {},
   "source": [
    "# # Pre-processing : Scale the data using the MinMaxScaler and split train data"
   ]
  },
  {
   "cell_type": "code",
   "execution_count": 12,
   "metadata": {},
   "outputs": [
    {
     "data": {
      "text/plain": [
       "(5997, 1)"
      ]
     },
     "execution_count": 12,
     "metadata": {},
     "output_type": "execute_result"
    }
   ],
   "source": [
    "df_mongo = pd.DataFrame(list(db.ncm.find()))\n",
    "# Drop the null columns where all values are null\n",
    "df_mongo = df_mongo.dropna(axis='columns', how='all')\n",
    "# Drop the null rows\n",
    "df_mongo = df_mongo.dropna()\n",
    "# df_mongo.shape\n",
    "\n",
    "len_df_mongo=len(df_mongo)\n",
    "data = df_mongo.filter([\"Close\"])\n",
    "dataset=data.values\n",
    "dataset.shape"
   ]
  },
  {
   "cell_type": "code",
   "execution_count": 13,
   "metadata": {},
   "outputs": [],
   "source": [
    "# data = df.filter(['Close'])\n",
    "# dataset = data.values\n",
    "# dataset.shape\t"
   ]
  },
  {
   "cell_type": "code",
   "execution_count": 14,
   "metadata": {},
   "outputs": [
    {
     "data": {
      "text/plain": [
       "(4798, 1)"
      ]
     },
     "execution_count": 14,
     "metadata": {},
     "output_type": "execute_result"
    }
   ],
   "source": [
    "# Scale your data\n",
    "from sklearn.preprocessing import MinMaxScaler\n",
    "\n",
    "scaler = MinMaxScaler(feature_range=(0,1))\n",
    "dataset_scaled = scaler.fit_transform(dataset)\n",
    "\n",
    "# Split into train or test\n",
    "import math\n",
    "train_data_len = math.ceil(len(dataset)*.8)\n",
    "train_data = dataset_scaled[0:train_data_len,:]\n",
    "train_data.shape\n"
   ]
  },
  {
   "cell_type": "code",
   "execution_count": 15,
   "metadata": {},
   "outputs": [
    {
     "name": "stdout",
     "output_type": "stream",
     "text": [
      "[array([0.00143409, 0.00040975, 0.00090144, 0.00081949, 0.00204871,\n",
      "       0.00368767, 0.00430229, 0.00389255, 0.00434327, 0.00491689,\n",
      "       0.0028682 , 0.00204871, 0.00327793, 0.0028682 , 0.00307305,\n",
      "       0.00307305, 0.00307305, 0.00368767, 0.00409742, 0.00553151,\n",
      "       0.00327793, 0.00442522, 0.00491689, 0.0034828 , 0.00245846,\n",
      "       0.0028682 , 0.00389255, 0.00327793, 0.00389255, 0.00389255,\n",
      "       0.0034828 , 0.00182335, 0.00040975, 0.00081949, 0.        ,\n",
      "       0.00061462, 0.00225358, 0.00307305, 0.0034828 , 0.00307305,\n",
      "       0.00327793, 0.00389255, 0.00409742, 0.00471204, 0.00780558,\n",
      "       0.00798997, 0.00819484, 0.00901431, 0.01085815, 0.01208739,\n",
      "       0.00983381, 0.00942406, 0.00983381, 0.00962893, 0.00942406,\n",
      "       0.01106302, 0.01003868, 0.01079669, 0.01454582, 0.0147507 ])]\n",
      "[0.015160443032826147]\n"
     ]
    }
   ],
   "source": [
    "X_train = []\n",
    "y_train = []\n",
    "\n",
    "for i in range (60, len(train_data)):\n",
    "    X_train.append(train_data[i-60:i,0]) # contains 60 values\n",
    "    y_train.append(train_data[i,0])   # contains 61st value\n",
    "    if i<= 60:\n",
    "        print(X_train)\n",
    "        print(y_train) \n"
   ]
  },
  {
   "cell_type": "markdown",
   "metadata": {},
   "source": [
    "# Prepare train data for LSTM model"
   ]
  },
  {
   "cell_type": "code",
   "execution_count": 16,
   "metadata": {},
   "outputs": [
    {
     "data": {
      "text/plain": [
       "(4738, 60)"
      ]
     },
     "execution_count": 16,
     "metadata": {},
     "output_type": "execute_result"
    }
   ],
   "source": [
    "# Convert list to numpy array for LSTM model:\n",
    "X_train, y_train = np.array(X_train), np.array(y_train)\n",
    "X_train.shape"
   ]
  },
  {
   "cell_type": "code",
   "execution_count": 17,
   "metadata": {},
   "outputs": [
    {
     "data": {
      "text/plain": [
       "(4738, 60, 1)"
      ]
     },
     "execution_count": 17,
     "metadata": {},
     "output_type": "execute_result"
    }
   ],
   "source": [
    "# LSTM model expects 3D, reshape:\n",
    "X_train = np.reshape(X_train, (X_train.shape[0], X_train.shape[1], 1))\n",
    "X_train.shape"
   ]
  },
  {
   "cell_type": "markdown",
   "metadata": {},
   "source": [
    "# Build the LSTM model"
   ]
  },
  {
   "cell_type": "code",
   "execution_count": 18,
   "metadata": {},
   "outputs": [],
   "source": [
    "from tensorflow.keras.models import Sequential\n",
    "from tensorflow.keras.layers import Dense, LSTM\n",
    "model = Sequential()\n",
    "model.add(LSTM(50, return_sequences=True, input_shape=(X_train.shape[1], 1)))\n",
    "model.add(LSTM(50, return_sequences=False))\n",
    "model.add(Dense(25))\n",
    "model.add(Dense(1))"
   ]
  },
  {
   "cell_type": "code",
   "execution_count": 19,
   "metadata": {},
   "outputs": [],
   "source": [
    "model.compile(optimizer='adam', loss='mean_squared_error')"
   ]
  },
  {
   "cell_type": "code",
   "execution_count": 20,
   "metadata": {},
   "outputs": [
    {
     "name": "stdout",
     "output_type": "stream",
     "text": [
      "4738/4738 [==============================] - 155s 32ms/step - loss: 0.0012\n"
     ]
    },
    {
     "data": {
      "text/plain": [
       "<keras.callbacks.History at 0x2a25da26bb0>"
      ]
     },
     "execution_count": 20,
     "metadata": {},
     "output_type": "execute_result"
    }
   ],
   "source": [
    "model.fit(X_train, y_train, batch_size=1, epochs=1)"
   ]
  },
  {
   "cell_type": "code",
   "execution_count": 21,
   "metadata": {},
   "outputs": [],
   "source": [
    "#Create test data\n",
    "test_data = dataset_scaled[train_data_len-60:,:]\n",
    "X_test = []\n",
    "y_test = dataset[train_data_len:,:]\n",
    "for i in range(60, len(test_data)):\n",
    " X_test.append(test_data[i-60:i,0])"
   ]
  },
  {
   "cell_type": "code",
   "execution_count": 22,
   "metadata": {},
   "outputs": [],
   "source": [
    "#Covert test data to a numpy array and reshape\n",
    "X_test = np.array(X_test)\n",
    "X_test = np.reshape(X_test, (X_test.shape[0],X_test.shape[1],1))"
   ]
  },
  {
   "cell_type": "code",
   "execution_count": 23,
   "metadata": {},
   "outputs": [],
   "source": [
    "#Get predicted prices\n",
    "predictions_lstm = model.predict(X_test)\n",
    "predictions = scaler.inverse_transform(predictions_lstm)"
   ]
  },
  {
   "cell_type": "code",
   "execution_count": 24,
   "metadata": {},
   "outputs": [
    {
     "data": {
      "text/plain": [
       "0.40069991285248696"
      ]
     },
     "execution_count": 24,
     "metadata": {},
     "output_type": "execute_result"
    }
   ],
   "source": [
    "#Get the root mean square error (RMSE) 0 being most favourable\n",
    "rmse = np.sqrt(np.mean(predictions-y_test)**2)\n",
    "rmse"
   ]
  },
  {
   "cell_type": "code",
   "execution_count": 25,
   "metadata": {},
   "outputs": [
    {
     "name": "stderr",
     "output_type": "stream",
     "text": [
      "C:\\Users\\antoi\\AppData\\Local\\Temp/ipykernel_9736/465677522.py:5: SettingWithCopyWarning: \n",
      "A value is trying to be set on a copy of a slice from a DataFrame.\n",
      "Try using .loc[row_indexer,col_indexer] = value instead\n",
      "\n",
      "See the caveats in the documentation: https://pandas.pydata.org/pandas-docs/stable/user_guide/indexing.html#returning-a-view-versus-a-copy\n",
      "  valid['Predictions'] = predictions # another column for validating test\n"
     ]
    },
    {
     "data": {
      "image/png": "[encoded data removed]",
      "text/plain": [
       "<Figure size 1152x576 with 1 Axes>"
      ]
     },
     "metadata": {},
     "output_type": "display_data"
    }
   ],
   "source": [
    "#Plot the data to validate the test data\n",
    "plt.style.use('fivethirtyeight')\n",
    "train = data.iloc[:train_data_len] # actual train data from 0 rows until train data end\n",
    "valid = data.iloc[train_data_len:] # actual test data from train data end until end of all sampled data\n",
    "valid['Predictions'] = predictions # another column for validating test\n",
    "\n",
    "plt.figure(figsize=(16,8))\n",
    "plt.title('NCM LSTM Model')\n",
    "plt.xlabel('Trading Date', fontsize=18)\n",
    "plt.ylabel('Close Price AUD ($)',fontsize=18)\n",
    "plt.plot(train['Close'])\n",
    "plt.plot(valid[['Close','Predictions']])\n",
    "plt.legend(['Training','Validate','Tested'],loc='lower right')\n",
    "x = np.arange(2000,2024,4)\n",
    "plt.xticks([0,1000,2000,3000,4000,5000],x)\n",
    "plt.savefig('../static/data/images/ncm_graph.png')\n",
    "plt.show()"
   ]
  },
  {
   "cell_type": "markdown",
   "metadata": {},
   "source": [
    "# Test data Predictions on the Model"
   ]
  },
  {
   "cell_type": "code",
   "execution_count": 26,
   "metadata": {},
   "outputs": [
    {
     "name": "stderr",
     "output_type": "stream",
     "text": [
      "C:\\Users\\antoi\\AppData\\Local\\Temp/ipykernel_9736/3403988079.py:1: SettingWithCopyWarning: \n",
      "A value is trying to be set on a copy of a slice from a DataFrame.\n",
      "Try using .loc[row_indexer,col_indexer] = value instead\n",
      "\n",
      "See the caveats in the documentation: https://pandas.pydata.org/pandas-docs/stable/user_guide/indexing.html#returning-a-view-versus-a-copy\n",
      "  valid['Difference']= valid['Close']-valid['Predictions']\n"
     ]
    },
    {
     "data": {
      "text/plain": [
       "<bound method NDFrame.head of           Close  Predictions  Difference\n",
       "4798  23.330000    23.033091    0.296909\n",
       "4799  23.260000    22.970133    0.289867\n",
       "4800  22.879999    22.942453   -0.062454\n",
       "4801  23.049999    22.771717    0.278282\n",
       "4802  22.760000    22.744757    0.015243\n",
       "...         ...          ...         ...\n",
       "5992  18.350000    18.544319   -0.194319\n",
       "5993  18.900000    18.380903    0.519096\n",
       "5994  18.240000    18.521187   -0.281187\n",
       "5995  17.389999    18.378544   -0.988544\n",
       "5996  17.639999    17.896914   -0.256914\n",
       "\n",
       "[1199 rows x 3 columns]>"
      ]
     },
     "execution_count": 26,
     "metadata": {},
     "output_type": "execute_result"
    }
   ],
   "source": [
    "valid['Difference']= valid['Close']-valid['Predictions']\n",
    "valid.head"
   ]
  },
  {
   "cell_type": "code",
   "execution_count": 27,
   "metadata": {},
   "outputs": [
    {
     "data": {
      "text/plain": [
       "(60, 1)"
      ]
     },
     "execution_count": 27,
     "metadata": {},
     "output_type": "execute_result"
    }
   ],
   "source": [
    "# Use last 60 days price on model to predict next days price\n",
    "import pandas as pd\n",
    "\n",
    "df_mongo = pd.DataFrame(list(db.ncm.find()))\n",
    "sixty_val = df_mongo.iloc[-60:,4].values\n",
    "last_sixty = sixty_val.reshape(-1,1)\n",
    "\n",
    "last_sixty.shape"
   ]
  },
  {
   "cell_type": "code",
   "execution_count": 28,
   "metadata": {},
   "outputs": [
    {
     "data": {
      "text/plain": [
       "(1, 60, 1)"
      ]
     },
     "execution_count": 28,
     "metadata": {},
     "output_type": "execute_result"
    }
   ],
   "source": [
    "last_60_days_scaled = scaler.transform(last_sixty)\n",
    "X_tell = []\n",
    "X_tell.append(last_60_days_scaled)\n",
    "X_tell =np.array(X_tell)\n",
    "X_tell =np.reshape(X_tell, (X_tell.shape[0], X_tell.shape[1],1))\n",
    "X_tell.shape"
   ]
  },
  {
   "cell_type": "code",
   "execution_count": 29,
   "metadata": {},
   "outputs": [
    {
     "name": "stdout",
     "output_type": "stream",
     "text": [
      "30/08/2022 Last close $17.639999389648438 Predicted next day share price $17.52\n"
     ]
    }
   ],
   "source": [
    "pred_price = model.predict(X_tell)\n",
    "pred_price = scaler.inverse_transform(pred_price)\n",
    "pred_price = round(float(pred_price),2)\n",
    "print(f'{last_date} Last close ${last_close} Predicted next day share price ${pred_price}')"
   ]
  },
  {
   "cell_type": "markdown",
   "metadata": {},
   "source": [
    "# Save the Model"
   ]
  },
  {
   "cell_type": "code",
   "execution_count": 30,
   "metadata": {},
   "outputs": [],
   "source": [
    "# Save the entire model to a HDF5 file.\n",
    "# The '.h5' extension indicates that the model should be saved to HDF5.\n",
    "filepath = '../static/ncm_model.sav'\n",
    "model.save(filepath, save_format=\"h5\")"
   ]
  },
  {
   "cell_type": "markdown",
   "metadata": {},
   "source": [
    "#Save last 60 days to a list ncm_sixty and load df"
   ]
  },
  {
   "cell_type": "markdown",
   "metadata": {},
   "source": [
    "#PREDICT USING LOADED MODEL"
   ]
  },
  {
   "cell_type": "code",
   "execution_count": 31,
   "metadata": {},
   "outputs": [],
   "source": [
    "from keras.models import load_model\n",
    "model_in = load_model('../static/ncm_model.sav')"
   ]
  },
  {
   "cell_type": "code",
   "execution_count": 32,
   "metadata": {},
   "outputs": [
    {
     "data": {
      "text/plain": [
       "array([[23.98      ],\n",
       "       [24.120001  ],\n",
       "       [23.76      ],\n",
       "       [23.17      ],\n",
       "       [22.34      ],\n",
       "       [22.76      ],\n",
       "       [23.6       ],\n",
       "       [23.77      ],\n",
       "       [23.65      ],\n",
       "       [23.51      ],\n",
       "       [23.549999  ],\n",
       "       [23.01      ],\n",
       "       [22.700001  ],\n",
       "       [21.66      ],\n",
       "       [22.01      ],\n",
       "       [21.459999  ],\n",
       "       [20.889999  ],\n",
       "       [20.23      ],\n",
       "       [20.549999  ],\n",
       "       [20.73      ],\n",
       "       [19.58      ],\n",
       "       [19.41      ],\n",
       "       [19.75      ],\n",
       "       [19.059999  ],\n",
       "       [19.08      ],\n",
       "       [18.965     ],\n",
       "       [18.969999  ],\n",
       "       [18.620001  ],\n",
       "       [18.57      ],\n",
       "       [18.459999  ],\n",
       "       [18.75      ],\n",
       "       [19.040001  ],\n",
       "       [19.165001  ],\n",
       "       [18.879999  ],\n",
       "       [18.6       ],\n",
       "       [18.42      ],\n",
       "       [18.49      ],\n",
       "       [18.780001  ],\n",
       "       [19.059999  ],\n",
       "       [19.120001  ],\n",
       "       [18.9       ],\n",
       "       [18.66      ],\n",
       "       [19.09000015],\n",
       "       [19.        ],\n",
       "       [19.59000015],\n",
       "       [19.32999992],\n",
       "       [19.21999931],\n",
       "       [19.01000023],\n",
       "       [19.13999939],\n",
       "       [18.89999962],\n",
       "       [19.07999992],\n",
       "       [18.52000046],\n",
       "       [19.12999916],\n",
       "       [18.375     ],\n",
       "       [18.44000053],\n",
       "       [18.26000023],\n",
       "       [18.45000076],\n",
       "       [18.23999977],\n",
       "       [17.35000038],\n",
       "       [17.37000084]])"
      ]
     },
     "execution_count": 32,
     "metadata": {},
     "output_type": "execute_result"
    }
   ],
   "source": [
    "# query the ncm collection and load into dataframe\n",
    "\n",
    "df_mongo = pd.DataFrame(list(db.ncm.find()))\n",
    "sixty_val = df_mongo.iloc[-60:,4].values\n",
    "last_sixty = sixty_val.reshape(-1,1)\n",
    "\n",
    "last_sixty"
   ]
  },
  {
   "cell_type": "markdown",
   "metadata": {},
   "source": [
    "#Create a function to loop through the days input"
   ]
  },
  {
   "cell_type": "code",
   "execution_count": 33,
   "metadata": {},
   "outputs": [
    {
     "name": "stdout",
     "output_type": "stream",
     "text": [
      "1\n",
      "Day finished! Price: \n",
      "2\n",
      "Day finished! Price: \n",
      "3\n",
      "Day finished! Price: \n",
      "4\n",
      "Day finished! Price: \n",
      "5\n",
      "Day finished! Price: \n",
      "6\n",
      "Day finished! Price: \n",
      "7\n",
      "Day finished! Price: \n",
      "8\n",
      "Day finished! Price: \n",
      "9\n",
      "Day finished! Price: \n",
      "10\n",
      "Day finished! Price: \n",
      "11\n",
      "Day finished! Price: \n",
      "12\n",
      "Day finished! Price: \n",
      "13\n",
      "Day finished! Price: \n",
      "14\n",
      "Day finished! Price: \n",
      "15\n",
      "Day finished! Price: \n",
      "16\n",
      "Day finished! Price: \n",
      "17\n",
      "Day finished! Price: \n",
      "18\n",
      "Day finished! Price: \n",
      "19\n",
      "Day finished! Price: \n",
      "20\n",
      "Day finished! Price: \n",
      "21\n",
      "Day finished! Price: \n",
      "22\n",
      "Day finished! Price: \n",
      "23\n",
      "Day finished! Price: \n",
      "24\n",
      "Day finished! Price: \n",
      "25\n",
      "Day finished! Price: \n",
      "26\n",
      "Day finished! Price: \n",
      "27\n",
      "Day finished! Price: \n",
      "28\n",
      "Day finished! Price: \n",
      "29\n",
      "Day finished! Price: \n",
      "30\n",
      "Day finished! Price: \n",
      "31\n",
      "Day finished! Price: \n",
      "32\n",
      "Day finished! Price: \n",
      "33\n",
      "Day finished! Price: \n",
      "34\n",
      "Day finished! Price: \n",
      "35\n",
      "Day finished! Price: \n",
      "36\n",
      "Day finished! Price: \n",
      "37\n",
      "Day finished! Price: \n",
      "38\n",
      "Day finished! Price: \n",
      "39\n",
      "Day finished! Price: \n",
      "40\n",
      "Day finished! Price: \n",
      "41\n",
      "Day finished! Price: \n",
      "42\n",
      "Day finished! Price: \n",
      "43\n",
      "Day finished! Price: \n",
      "44\n",
      "Day finished! Price: \n",
      "45\n",
      "Day finished! Price: \n",
      "46\n",
      "Day finished! Price: \n",
      "47\n",
      "Day finished! Price: \n",
      "48\n",
      "Day finished! Price: \n",
      "49\n",
      "Day finished! Price: \n",
      "50\n",
      "Day finished! Price: \n",
      "51\n",
      "Day finished! Price: \n",
      "52\n",
      "Day finished! Price: \n",
      "53\n",
      "Day finished! Price: \n",
      "54\n",
      "Day finished! Price: \n",
      "55\n",
      "Day finished! Price: \n",
      "56\n",
      "Day finished! Price: \n",
      "57\n",
      "Day finished! Price: \n",
      "58\n",
      "Day finished! Price: \n",
      "59\n",
      "Day finished! Price: \n",
      "60\n",
      "Day finished! Price: \n",
      "61\n",
      "Day finished! Price: \n",
      "62\n",
      "Day finished! Price: \n",
      "63\n",
      "Day finished! Price: \n",
      "64\n",
      "Day finished! Price: \n",
      "65\n",
      "Day finished! Price: \n",
      "66\n",
      "Day finished! Price: \n",
      "67\n",
      "Day finished! Price: \n",
      "68\n",
      "Day finished! Price: \n",
      "69\n",
      "Day finished! Price: \n",
      "70\n",
      "Day finished! Price: \n",
      "71\n",
      "Day finished! Price: \n",
      "72\n",
      "Day finished! Price: \n",
      "73\n",
      "Day finished! Price: \n",
      "74\n",
      "Day finished! Price: \n",
      "75\n",
      "Day finished! Price: \n",
      "76\n",
      "Day finished! Price: \n",
      "77\n",
      "Day finished! Price: \n",
      "78\n",
      "Day finished! Price: \n",
      "79\n",
      "Day finished! Price: \n",
      "80\n",
      "Day finished! Price: \n",
      "81\n",
      "Day finished! Price: \n",
      "82\n",
      "Day finished! Price: \n",
      "83\n",
      "Day finished! Price: \n",
      "84\n",
      "Day finished! Price: \n",
      "85\n",
      "Day finished! Price: \n",
      "86\n",
      "Day finished! Price: \n",
      "87\n",
      "Day finished! Price: \n",
      "88\n",
      "Day finished! Price: \n",
      "89\n",
      "Day finished! Price: \n",
      "90\n",
      "Day finished! Price: \n",
      "91\n",
      "Day finished! Price: \n",
      "92\n",
      "Day finished! Price: \n",
      "93\n",
      "Day finished! Price: \n",
      "94\n",
      "Day finished! Price: \n",
      "95\n",
      "Day finished! Price: \n",
      "96\n",
      "Day finished! Price: \n",
      "97\n",
      "Day finished! Price: \n",
      "98\n",
      "Day finished! Price: \n",
      "99\n",
      "Day finished! Price: \n",
      "100\n",
      "Day finished! Price: \n",
      "101\n",
      "Day finished! Price: \n",
      "102\n",
      "Day finished! Price: \n",
      "103\n",
      "Day finished! Price: \n",
      "104\n",
      "Day finished! Price: \n",
      "105\n",
      "Day finished! Price: \n",
      "106\n",
      "Day finished! Price: \n",
      "107\n",
      "Day finished! Price: \n",
      "108\n",
      "Day finished! Price: \n",
      "109\n",
      "Day finished! Price: \n",
      "110\n",
      "Day finished! Price: \n",
      "111\n",
      "Day finished! Price: \n",
      "112\n",
      "Day finished! Price: \n",
      "113\n",
      "Day finished! Price: \n",
      "114\n",
      "Day finished! Price: \n",
      "115\n",
      "Day finished! Price: \n",
      "116\n",
      "Day finished! Price: \n",
      "117\n",
      "Day finished! Price: \n",
      "118\n",
      "Day finished! Price: \n",
      "119\n",
      "Day finished! Price: \n",
      "120\n",
      "Day finished! Price: \n",
      "121\n",
      "Day finished! Price: \n",
      "122\n",
      "Day finished! Price: \n",
      "123\n",
      "Day finished! Price: \n",
      "124\n",
      "Day finished! Price: \n",
      "125\n",
      "Day finished! Price: \n",
      "126\n",
      "Day finished! Price: \n",
      "127\n",
      "Day finished! Price: \n",
      "128\n",
      "Day finished! Price: \n",
      "129\n",
      "Day finished! Price: \n",
      "130\n",
      "Day finished! Price: \n",
      "131\n",
      "Day finished! Price: \n",
      "132\n",
      "Day finished! Price: \n",
      "133\n",
      "Day finished! Price: \n",
      "134\n",
      "Day finished! Price: \n",
      "135\n",
      "Day finished! Price: \n",
      "136\n",
      "Day finished! Price: \n",
      "137\n",
      "Day finished! Price: \n",
      "138\n",
      "Day finished! Price: \n",
      "139\n",
      "Day finished! Price: \n",
      "140\n",
      "Day finished! Price: \n",
      "141\n",
      "Day finished! Price: \n",
      "142\n",
      "Day finished! Price: \n",
      "143\n",
      "Day finished! Price: \n",
      "144\n",
      "Day finished! Price: \n",
      "145\n",
      "Day finished! Price: \n",
      "146\n",
      "Day finished! Price: \n",
      "147\n",
      "Day finished! Price: \n",
      "148\n",
      "Day finished! Price: \n",
      "149\n",
      "Day finished! Price: \n",
      "150\n",
      "Day finished! Price: \n",
      "151\n",
      "Day finished! Price: \n",
      "152\n",
      "Day finished! Price: \n",
      "153\n",
      "Day finished! Price: \n",
      "154\n",
      "Day finished! Price: \n",
      "155\n",
      "Day finished! Price: \n",
      "156\n",
      "Day finished! Price: \n",
      "157\n",
      "Day finished! Price: \n",
      "158\n",
      "Day finished! Price: \n",
      "159\n",
      "Day finished! Price: \n",
      "160\n",
      "Day finished! Price: \n",
      "161\n",
      "Day finished! Price: \n",
      "162\n",
      "Day finished! Price: \n",
      "163\n",
      "Day finished! Price: \n",
      "164\n",
      "Day finished! Price: \n",
      "165\n",
      "Day finished! Price: \n",
      "166\n",
      "Day finished! Price: \n",
      "167\n",
      "Day finished! Price: \n",
      "168\n",
      "Day finished! Price: \n",
      "169\n",
      "Day finished! Price: \n",
      "170\n",
      "Day finished! Price: \n",
      "171\n",
      "Day finished! Price: \n",
      "172\n",
      "Day finished! Price: \n",
      "173\n",
      "Day finished! Price: \n",
      "174\n",
      "Day finished! Price: \n",
      "175\n",
      "Day finished! Price: \n",
      "176\n",
      "Day finished! Price: \n",
      "177\n",
      "Day finished! Price: \n",
      "178\n",
      "Day finished! Price: \n",
      "179\n",
      "Day finished! Price: \n",
      "Could not predict further!\n",
      "180\n"
     ]
    },
    {
     "data": {
      "text/plain": [
       "[17.81,\n",
       " 17.81,\n",
       " 17.86,\n",
       " 17.92,\n",
       " 17.98,\n",
       " 18.04,\n",
       " 18.09,\n",
       " 18.12,\n",
       " 18.15,\n",
       " 18.17,\n",
       " 18.18,\n",
       " 18.18,\n",
       " 18.18,\n",
       " 18.17,\n",
       " 18.17,\n",
       " 18.16,\n",
       " 18.14,\n",
       " 18.13,\n",
       " 18.13,\n",
       " 18.12,\n",
       " 18.11,\n",
       " 18.11,\n",
       " 18.1,\n",
       " 18.1,\n",
       " 18.1,\n",
       " 18.09,\n",
       " 18.09,\n",
       " 18.09,\n",
       " 18.09,\n",
       " 18.09,\n",
       " 18.09,\n",
       " 18.09,\n",
       " 18.09,\n",
       " 18.09,\n",
       " 18.08,\n",
       " 18.08,\n",
       " 18.08,\n",
       " 18.08,\n",
       " 18.08,\n",
       " 18.07,\n",
       " 18.07,\n",
       " 18.07,\n",
       " 18.07,\n",
       " 18.07,\n",
       " 18.07,\n",
       " 18.06,\n",
       " 18.06,\n",
       " 18.06,\n",
       " 18.05,\n",
       " 18.05,\n",
       " 18.05,\n",
       " 18.05,\n",
       " 18.04,\n",
       " 18.03,\n",
       " 18.03,\n",
       " 18.02,\n",
       " 18.02,\n",
       " 18.01,\n",
       " 18.0,\n",
       " 18.0,\n",
       " 18.0,\n",
       " 18.0,\n",
       " 18.01,\n",
       " 18.01,\n",
       " 18.01,\n",
       " 18.01,\n",
       " 18.02,\n",
       " 18.02,\n",
       " 18.02,\n",
       " 18.02,\n",
       " 18.02,\n",
       " 18.02,\n",
       " 18.02,\n",
       " 18.02,\n",
       " 18.02,\n",
       " 18.02,\n",
       " 18.02,\n",
       " 18.02,\n",
       " 18.02,\n",
       " 18.02,\n",
       " 18.02,\n",
       " 18.02,\n",
       " 18.02,\n",
       " 18.02,\n",
       " 18.02,\n",
       " 18.02,\n",
       " 18.02,\n",
       " 18.02,\n",
       " 18.02,\n",
       " 18.02,\n",
       " 18.02,\n",
       " 18.02,\n",
       " 18.02,\n",
       " 18.02,\n",
       " 18.02,\n",
       " 18.02,\n",
       " 18.02,\n",
       " 18.02,\n",
       " 18.02,\n",
       " 18.02,\n",
       " 18.02,\n",
       " 18.02,\n",
       " 18.02,\n",
       " 18.02,\n",
       " 18.02,\n",
       " 18.02,\n",
       " 18.02,\n",
       " 18.02,\n",
       " 18.02,\n",
       " 18.02,\n",
       " 18.02,\n",
       " 18.02,\n",
       " 18.02,\n",
       " 18.02,\n",
       " 18.02,\n",
       " 18.02,\n",
       " 18.02,\n",
       " 18.02,\n",
       " 18.02,\n",
       " 18.01,\n",
       " 18.01,\n",
       " 18.01,\n",
       " 18.01,\n",
       " 18.01,\n",
       " 18.02,\n",
       " 18.02,\n",
       " 18.02,\n",
       " 18.02,\n",
       " 18.02,\n",
       " 18.02,\n",
       " 18.02,\n",
       " 18.02,\n",
       " 18.02,\n",
       " 18.02,\n",
       " 18.02,\n",
       " 18.02,\n",
       " 18.02,\n",
       " 18.02,\n",
       " 18.02,\n",
       " 18.02,\n",
       " 18.02,\n",
       " 18.02,\n",
       " 18.02,\n",
       " 18.02,\n",
       " 18.02,\n",
       " 18.02,\n",
       " 18.02,\n",
       " 18.02,\n",
       " 18.02,\n",
       " 18.02,\n",
       " 18.02,\n",
       " 18.02,\n",
       " 18.02,\n",
       " 18.02,\n",
       " 18.02,\n",
       " 18.02,\n",
       " 18.02,\n",
       " 18.02,\n",
       " 18.02,\n",
       " 18.02,\n",
       " 18.02,\n",
       " 18.02,\n",
       " 18.02,\n",
       " 18.02,\n",
       " 18.02,\n",
       " 18.02,\n",
       " 18.02,\n",
       " 18.02,\n",
       " 18.02,\n",
       " 18.02,\n",
       " 18.02,\n",
       " 18.02,\n",
       " 18.02,\n",
       " 18.02,\n",
       " 18.02,\n",
       " 18.02,\n",
       " 18.02,\n",
       " 18.02,\n",
       " 18.02]"
      ]
     },
     "execution_count": 33,
     "metadata": {},
     "output_type": "execute_result"
    }
   ],
   "source": [
    "from keras.models import load_model\n",
    "model_in = load_model('../static/ncm_model.sav')\n",
    "from sklearn.preprocessing import MinMaxScaler\n",
    "scaler = MinMaxScaler(feature_range=(0,1))\n",
    "\n",
    "price_list=[]\n",
    "\n",
    "#Function to predict future days predicted price, in loop\n",
    "input = 180 #days\n",
    "if input == \"\":\n",
    "    input = 180\n",
    "else:\n",
    "   input = int(input)\n",
    "\n",
    "def predict_ncm(last_sixty,model_in,input):\n",
    "    for i in range(1, input):\n",
    "\n",
    "        #Takes df and converts to model's predict shape\n",
    "        last_sixty_scaled = scaler.fit_transform(last_sixty)\n",
    "        new_X_tell = []\n",
    "        new_X_tell.append(last_sixty_scaled)\n",
    "        new_X_tell =np.array(new_X_tell)\n",
    "        new_X_tell =np.reshape(new_X_tell, (new_X_tell.shape[0], new_X_tell.shape[1],1))\n",
    "        \n",
    "        model_in_pd_scale = model_in.predict(new_X_tell)\n",
    "        model_in_price = scaler.inverse_transform(model_in_pd_scale) # New price predicted\n",
    "\n",
    "        last_sixty_less_one = np.delete(last_sixty, 0, 0)\n",
    "        last_sixty = np.append(last_sixty_less_one, model_in_price,axis = 0) # Update last 60\n",
    "        print(i)\n",
    "        print(\"Day finished! Price: \")\n",
    "        price_float = float(model_in_price)\n",
    "        price = round(price_float, 2)\n",
    "        price_list.append(price)\n",
    "    else:\n",
    "        print(\"Could not predict further!\")\n",
    "        print(input)\n",
    "    # print(price_list)\n",
    "    return price_list\n",
    "\n",
    "price_pred = predict_ncm(last_sixty,model_in,input)\n",
    "price_pred"
   ]
  },
  {
   "cell_type": "code",
   "execution_count": 34,
   "metadata": {},
   "outputs": [
    {
     "name": "stdout",
     "output_type": "stream",
     "text": [
      "<bound method NDFrame.tail of      Count        Date        DOW\n",
      "0        1  31-08-2022  Wednesday\n",
      "1        2  01-09-2022   Thursday\n",
      "2        3  02-09-2022     Friday\n",
      "3        4  05-09-2022     Monday\n",
      "4        5  06-09-2022    Tuesday\n",
      "..     ...         ...        ...\n",
      "203    204  12-06-2023     Monday\n",
      "204    205  13-06-2023    Tuesday\n",
      "205    206  14-06-2023  Wednesday\n",
      "206    207  15-06-2023   Thursday\n",
      "207    208  16-06-2023     Friday\n",
      "\n",
      "[208 rows x 3 columns]>\n"
     ]
    }
   ],
   "source": [
    "import pandas as pd\n",
    "from datetime import date,datetime,timedelta\n",
    "today1 = date.today()\n",
    "count=[]\n",
    "dates=[]\n",
    "dow=[]\n",
    "row=0\n",
    "for x in range(1,293,1): \n",
    "  d=today1+timedelta(days=x)\n",
    "  a=d.strftime(\"%A\")\n",
    "  if a != \"Saturday\" and a != \"Sunday\":\n",
    "     dates.append(d.strftime('%d-%m-%Y'))\n",
    "     dow.append(a)\n",
    "     row=row+1\n",
    "     count.append(row)\n",
    "\n",
    "data = {'Count': count,\n",
    "        'Date': dates,\n",
    "        'DOW': dow\n",
    "        }\n",
    "dates_df = pd.DataFrame(data)\n",
    "print (dates_df.tail)"
   ]
  },
  {
   "cell_type": "code",
   "execution_count": null,
   "metadata": {},
   "outputs": [],
   "source": []
  },
  {
   "cell_type": "code",
   "execution_count": 35,
   "metadata": {},
   "outputs": [
    {
     "name": "stdout",
     "output_type": "stream",
     "text": [
      "2022-08-31 00:00:00 2022-08-30 00:00:00\n",
      "5:11:25.326777\n",
      "[[ObjectId('630dc684ae0967d01293931d') 199 '05-06-2023' 'Monday']\n",
      " [ObjectId('630dc684ae0967d01293931e') 200 '06-06-2023' 'Tuesday']\n",
      " [ObjectId('630dc684ae0967d01293931f') 201 '07-06-2023' 'Wednesday']\n",
      " [ObjectId('630dc684ae0967d012939320') 202 '08-06-2023' 'Thursday']\n",
      " [ObjectId('630dc684ae0967d012939321') 203 '09-06-2023' 'Friday']\n",
      " [ObjectId('630dc684ae0967d012939322') 204 '12-06-2023' 'Monday']\n",
      " [ObjectId('630dc684ae0967d012939323') 205 '13-06-2023' 'Tuesday']\n",
      " [ObjectId('630dc684ae0967d012939324') 206 '14-06-2023' 'Wednesday']\n",
      " [ObjectId('630dc684ae0967d012939325') 207 '15-06-2023' 'Thursday']\n",
      " [ObjectId('630dc684ae0967d012939326') 208 '16-06-2023' 'Friday']]\n"
     ]
    }
   ],
   "source": [
    "today1= datetime.today()\n",
    "today3=today1.strftime('%d-%m-%Y')\n",
    "today2=datetime.strptime(today3, '%d-%m-%Y')\n",
    "\n",
    "\n",
    "#Check if mongoDb now has latest data\n",
    "dates_df = pd.DataFrame(list(db.dates.find()))\n",
    "dates_val = dates_df.iloc[0].values\n",
    "last_date1=dates_val[2]\n",
    "last_date2 = datetime.strptime(last_date1, '%d-%m-%Y')\n",
    "last_date3=from_date.strftime('%d-%m-%Y')\n",
    "\n",
    "today_str=today1.strftime('%d-%m-%Y')\n",
    "\n",
    "print(last_date2,today2)\n",
    "diff=last_date2-today1\n",
    "\n",
    "if diff is None:\n",
    "    print(\"huh\")\n",
    "else:\n",
    "    print(diff)\n",
    "\n",
    "    # Drop all previous records now in MongoDb\n",
    "    db.dates.drop()\n",
    "\n",
    "    records=dates_df.to_dict('records')\n",
    "\n",
    "    #INSERT NEW DATA INTO MONGODB\n",
    "    db.dates.insert_many(records)\n",
    "\n",
    "    #Check if mongoDb now has latest data\n",
    "    dates_df = pd.DataFrame(list(db.dates.find()))\n",
    "    dates_val = dates_df.iloc[-10:].values\n",
    "    print(dates_val)\n"
   ]
  },
  {
   "cell_type": "code",
   "execution_count": 36,
   "metadata": {},
   "outputs": [
    {
     "data": {
      "text/html": [
       "<div>\n",
       "<style scoped>\n",
       "    .dataframe tbody tr th:only-of-type {\n",
       "        vertical-align: middle;\n",
       "    }\n",
       "\n",
       "    .dataframe tbody tr th {\n",
       "        vertical-align: top;\n",
       "    }\n",
       "\n",
       "    .dataframe thead th {\n",
       "        text-align: right;\n",
       "    }\n",
       "</style>\n",
       "<table border=\"1\" class=\"dataframe\">\n",
       "  <thead>\n",
       "    <tr style=\"text-align: right;\">\n",
       "      <th></th>\n",
       "      <th>Count</th>\n",
       "      <th>Date</th>\n",
       "      <th>DOW</th>\n",
       "    </tr>\n",
       "  </thead>\n",
       "  <tbody>\n",
       "    <tr>\n",
       "      <th>0</th>\n",
       "      <td>1</td>\n",
       "      <td>31-08-2022</td>\n",
       "      <td>Wednesday</td>\n",
       "    </tr>\n",
       "    <tr>\n",
       "      <th>1</th>\n",
       "      <td>2</td>\n",
       "      <td>01-09-2022</td>\n",
       "      <td>Thursday</td>\n",
       "    </tr>\n",
       "    <tr>\n",
       "      <th>2</th>\n",
       "      <td>3</td>\n",
       "      <td>02-09-2022</td>\n",
       "      <td>Friday</td>\n",
       "    </tr>\n",
       "    <tr>\n",
       "      <th>3</th>\n",
       "      <td>4</td>\n",
       "      <td>05-09-2022</td>\n",
       "      <td>Monday</td>\n",
       "    </tr>\n",
       "    <tr>\n",
       "      <th>4</th>\n",
       "      <td>5</td>\n",
       "      <td>06-09-2022</td>\n",
       "      <td>Tuesday</td>\n",
       "    </tr>\n",
       "    <tr>\n",
       "      <th>...</th>\n",
       "      <td>...</td>\n",
       "      <td>...</td>\n",
       "      <td>...</td>\n",
       "    </tr>\n",
       "    <tr>\n",
       "      <th>203</th>\n",
       "      <td>204</td>\n",
       "      <td>12-06-2023</td>\n",
       "      <td>Monday</td>\n",
       "    </tr>\n",
       "    <tr>\n",
       "      <th>204</th>\n",
       "      <td>205</td>\n",
       "      <td>13-06-2023</td>\n",
       "      <td>Tuesday</td>\n",
       "    </tr>\n",
       "    <tr>\n",
       "      <th>205</th>\n",
       "      <td>206</td>\n",
       "      <td>14-06-2023</td>\n",
       "      <td>Wednesday</td>\n",
       "    </tr>\n",
       "    <tr>\n",
       "      <th>206</th>\n",
       "      <td>207</td>\n",
       "      <td>15-06-2023</td>\n",
       "      <td>Thursday</td>\n",
       "    </tr>\n",
       "    <tr>\n",
       "      <th>207</th>\n",
       "      <td>208</td>\n",
       "      <td>16-06-2023</td>\n",
       "      <td>Friday</td>\n",
       "    </tr>\n",
       "  </tbody>\n",
       "</table>\n",
       "<p>208 rows × 3 columns</p>\n",
       "</div>"
      ],
      "text/plain": [
       "     Count        Date        DOW\n",
       "0        1  31-08-2022  Wednesday\n",
       "1        2  01-09-2022   Thursday\n",
       "2        3  02-09-2022     Friday\n",
       "3        4  05-09-2022     Monday\n",
       "4        5  06-09-2022    Tuesday\n",
       "..     ...         ...        ...\n",
       "203    204  12-06-2023     Monday\n",
       "204    205  13-06-2023    Tuesday\n",
       "205    206  14-06-2023  Wednesday\n",
       "206    207  15-06-2023   Thursday\n",
       "207    208  16-06-2023     Friday\n",
       "\n",
       "[208 rows x 3 columns]"
      ]
     },
     "execution_count": 36,
     "metadata": {},
     "output_type": "execute_result"
    }
   ],
   "source": [
    "dates_df = pd.DataFrame(list(db.dates.find()))\n",
    "dates_val = dates_df.iloc[0:,1:]\n",
    "# dates_df['Count'].dtype\n",
    "# dates_df_iloc = dates_df.iloc[0:180,1:]\n",
    "dates_val"
   ]
  },
  {
   "cell_type": "code",
   "execution_count": 37,
   "metadata": {},
   "outputs": [],
   "source": [
    "# import pandas as pd\n",
    "# dates_df = pd.read_csv(\"../static/data/dates.csv\")\n",
    "# dates_df['Count'] = dates_df['Count'].fillna(0).astype(int)\n",
    "# dates_df"
   ]
  },
  {
   "cell_type": "code",
   "execution_count": 38,
   "metadata": {},
   "outputs": [
    {
     "name": "stderr",
     "output_type": "stream",
     "text": [
      "C:\\Users\\antoi\\AppData\\Local\\Temp/ipykernel_9736/3628631618.py:12: SettingWithCopyWarning: \n",
      "A value is trying to be set on a copy of a slice from a DataFrame.\n",
      "Try using .loc[row_indexer,col_indexer] = value instead\n",
      "\n",
      "See the caveats in the documentation: https://pandas.pydata.org/pandas-docs/stable/user_guide/indexing.html#returning-a-view-versus-a-copy\n",
      "  dates_df_iloc['Price'] = price_list\n"
     ]
    },
    {
     "data": {
      "image/png": "[encoded data removed]",
      "text/plain": [
       "<Figure size 432x288 with 1 Axes>"
      ]
     },
     "metadata": {},
     "output_type": "display_data"
    }
   ],
   "source": [
    "# DRAW THE PREDICTION\n",
    "day1=dates_df.iloc[0,3]+\" \"+dates_df.iloc[0,2]\n",
    "day2=dates_df.iloc[1,3]+\" \"+dates_df.iloc[1,2]\n",
    "day3=dates_df.iloc[2,3]+\" \"+dates_df.iloc[2,2]\n",
    "day4=dates_df.iloc[3,3]+\" \"+dates_df.iloc[3,2]\n",
    "day5=dates_df.iloc[4,3]+\" \"+dates_df.iloc[4,2]\n",
    "day6=dates_df.iloc[5,3]+\" \"+dates_df.iloc[5,2]\n",
    "day7=dates_df.iloc[6,3]+\" \"+dates_df.iloc[6,2]\n",
    "day8=dates_df.iloc[7,3]+\" \"+dates_df.iloc[7,2]\n",
    "#Append the input amount of trading days to dates dictionary\n",
    "dates_df_iloc = dates_df.iloc[0:(input-1)]\n",
    "dates_df_iloc['Price'] = price_list\n",
    "plt.plot(dates_df_iloc['Price'])\n",
    "plt.title('NCM LSTM PREDICTIONS : '+last_date+\"  $\"+str(round(last_close,2)))\n",
    "plt.xlabel('Future Trading Days', fontsize=10)\n",
    "plt.ylabel('Close Price AUD ($)',fontsize=10)\n",
    "plt.xticks([0,25,50,75,100,125,150,175],[day1,day2,day3,day4,day5,day6,day7,day8],fontsize=9,rotation=35)\n",
    "plt.savefig('../static/data/images/pred/ncm_pred.png', bbox_inches=\"tight\")\n",
    "plt.show()"
   ]
  },
  {
   "cell_type": "code",
   "execution_count": 39,
   "metadata": {},
   "outputs": [
    {
     "name": "stdout",
     "output_type": "stream",
     "text": [
      "{'_id': ObjectId('630dc684ae0967d012939257'), 'Count': 1, 'Date': '31-08-2022', 'DOW': 'Wednesday', 'Price': 17.81}\n"
     ]
    }
   ],
   "source": [
    "#Append the input amount of trading days to dates dictionary\n",
    "my_dict = dates_df_iloc.to_dict(orient='records')\n",
    "print(my_dict[0])\n",
    "price_dict = [dict(zip(['Price'],[x])) for x in price_list]\n",
    "# print(price_dict[0])"
   ]
  },
  {
   "cell_type": "code",
   "execution_count": 40,
   "metadata": {},
   "outputs": [
    {
     "name": "stdout",
     "output_type": "stream",
     "text": [
      "4798 5997 6160\n"
     ]
    }
   ],
   "source": [
    "len_df_mongo = len(df_mongo) # length of the original dataframe\n",
    "col_name = ['Close']\n",
    "df_filtered = df.filter(col_name)\n",
    "df_filtered_len = len(df_filtered.index)\n",
    "df_filtered_len\n",
    "len_pred_df = df_filtered_len+input # length of the original dataframe plus the users new inputs\n",
    "\n",
    "new_data =df_filtered.append(pd.DataFrame(price_list,columns=col_name),ignore_index=True)\n",
    "new_data.tail(10)\n",
    "print(train_data_len,len_df_mongo,len_pred_df)\n"
   ]
  },
  {
   "cell_type": "code",
   "execution_count": 41,
   "metadata": {},
   "outputs": [
    {
     "name": "stderr",
     "output_type": "stream",
     "text": [
      "C:\\Users\\antoi\\AppData\\Local\\Temp/ipykernel_9736/3970846848.py:6: SettingWithCopyWarning: \n",
      "A value is trying to be set on a copy of a slice from a DataFrame.\n",
      "Try using .loc[row_indexer,col_indexer] = value instead\n",
      "\n",
      "See the caveats in the documentation: https://pandas.pydata.org/pandas-docs/stable/user_guide/indexing.html#returning-a-view-versus-a-copy\n",
      "  valid['Predictions'] = predictions # another column for validating test\n"
     ]
    },
    {
     "data": {
      "image/png": "[encoded data removed]",
      "text/plain": [
       "<Figure size 1152x576 with 1 Axes>"
      ]
     },
     "metadata": {},
     "output_type": "display_data"
    }
   ],
   "source": [
    "#Plot the data to validate the test data\n",
    "\n",
    "plt.style.use('fivethirtyeight')\n",
    "train = new_data.iloc[:train_data_len] # actual train data from 0 rows until train data end\n",
    "valid = new_data.iloc[train_data_len:len_df_mongo] # actual test data from train data end until end of all sampled data\n",
    "valid['Predictions'] = predictions # another column for validating test\n",
    "predict = new_data.iloc[len_df_mongo:len_pred_df] # user prediction data from loop\n",
    "\n",
    "plt.figure(figsize=(16,8))\n",
    "plt.title('PREDICTION NCM Share Price - LSTM Model')\n",
    "plt.xlabel('Trading Date', fontsize=18)\n",
    "plt.ylabel('Close Price AUD ($)',fontsize=18)\n",
    "plt.plot(train['Close'])\n",
    "plt.plot(valid[['Close','Predictions']])\n",
    "plt.plot(predict['Close'])\n",
    "plt.legend(['Training data','Tested data','Validate test data','Prediction'],loc='lower right')\n",
    "x = np.arange(2000,2024,4)\n",
    "plt.xticks([0,1000,2000,3000,4000,5000],x)\n",
    "plt.savefig('../static/data/images/ncm_predict_graph.png')\n",
    "plt.show()"
   ]
  },
  {
   "cell_type": "markdown",
   "metadata": {},
   "source": [
    "#Save predicted price to MongoDB"
   ]
  },
  {
   "cell_type": "code",
   "execution_count": 42,
   "metadata": {},
   "outputs": [
    {
     "name": "stdout",
     "output_type": "stream",
     "text": [
      "{'_id': ObjectId('62f850fe1081f44aefd85c5a'), 'model': 'RFR', 'name': 'NCM', 'date': '12/08/2022', 'predicted': 32, 'actual': 19, 'difference': 13.3254, 'accuracy': 95.25}\n",
      "{'_id': ObjectId('630c94b805ede3caee656de1'), 'model': 'LSTM', 'name': 'NCM', 'date': '29/08/2022', 'predicted': 18.5, 'actual': 17.39, 'difference': 1.11, 'rmse': 0.63328}\n"
     ]
    }
   ],
   "source": [
    "# Query all\n",
    "name = 'NCM'\n",
    "companys = db.companys.find({'name': name})\n",
    "# Iterate through each company in the collection\n",
    "for company in companys:\n",
    "    print(company)"
   ]
  },
  {
   "cell_type": "code",
   "execution_count": 43,
   "metadata": {},
   "outputs": [
    {
     "name": "stdout",
     "output_type": "stream",
     "text": [
      "{'_id': ObjectId('62f850fe1081f44aefd85c5a'), 'model': 'RFR', 'name': 'NCM', 'date': '12/08/2022', 'predicted': 32, 'actual': 19, 'difference': 13.3254, 'accuracy': 95.25}\n"
     ]
    }
   ],
   "source": [
    "# Delete a document from a collection\n",
    "db.companys_agg.delete_one(\n",
    "    {'model': 'LSTM','name': name,'date':last_date}\n",
    ")\n",
    "\n",
    "db.companys.delete_one(\n",
    "    {'model': 'LSTM','name': name}\n",
    ")\n",
    "\n",
    "# query the companys collection\n",
    "companys = db.companys.find({'name': name})\n",
    "# see change in the collection\n",
    "for company in companys:\n",
    "    print(company)"
   ]
  },
  {
   "cell_type": "code",
   "execution_count": 44,
   "metadata": {},
   "outputs": [
    {
     "name": "stdout",
     "output_type": "stream",
     "text": [
      "date 30/08/2022,predicted $17.52, actual $17.64, difference -0.120000000000001, rmse 0.4007\n"
     ]
    }
   ],
   "source": [
    "# Set keys and values of company\n",
    "name = 'NCM'\n",
    "# Set keys and values of company\n",
    "last_close=round(float(last_close),2)\n",
    "difference = pred_price-last_close\n",
    "print(f'date {last_date},predicted ${pred_price}, actual ${last_close}, difference {difference}, rmse {round(rmse,5)}')"
   ]
  },
  {
   "cell_type": "code",
   "execution_count": 45,
   "metadata": {},
   "outputs": [
    {
     "name": "stdout",
     "output_type": "stream",
     "text": [
      "{'_id': ObjectId('62f850fe1081f44aefd85c5a'), 'model': 'RFR', 'name': 'NCM', 'date': '12/08/2022', 'predicted': 32, 'actual': 19, 'difference': 13.3254, 'accuracy': 95.25}\n",
      "{'_id': ObjectId('630dcee3b58df087a5ebb961'), 'model': 'LSTM', 'name': 'NCM', 'date': '30/08/2022', 'predicted': 17.52, 'actual': 17.64, 'difference': -0.12, 'rmse': 0.4007}\n"
     ]
    }
   ],
   "source": [
    "# Insert a document into the 'companys' collection\n",
    "db.companys_agg.insert_one(\n",
    "    {\n",
    "      'model': 'LSTM',\n",
    "      'name': name,\n",
    "      'date': last_date,\n",
    "      'predicted': pred_price,\n",
    "      'actual': last_close,\n",
    "      'difference': round(difference,4),\n",
    "      'rmse': round(rmse,5)        \n",
    "    }\n",
    ")\n",
    "\n",
    "db.companys.insert_one(\n",
    "    {\n",
    "      'model': 'LSTM',\n",
    "      'name': name,\n",
    "      'date': last_date,\n",
    "      'predicted': pred_price,\n",
    "      'actual': last_close,\n",
    "      'difference': round(difference,4),\n",
    "      'rmse': round(rmse,5)        \n",
    "    }\n",
    ")\n",
    "\n",
    "# query the classroom collection\n",
    "companys = db.companys.find({'name': name})\n",
    "\n",
    "# see change in collection\n",
    "for company in companys:\n",
    "    print(company)"
   ]
  },
  {
   "cell_type": "code",
   "execution_count": 46,
   "metadata": {},
   "outputs": [
    {
     "name": "stdout",
     "output_type": "stream",
     "text": [
      "{'_id': ObjectId('62cfb5f0a3e49b5607e1001b'), 'model': 'RFR', 'name': 'nhc', 'date': '14/07/2022', 'predicted': 3, 'actual': 4, 'differece': -0.4134955929131614, 'accuracy': 95.31}\n",
      "{'_id': ObjectId('62e47c25ddd32d7e027d5c65'), 'model': 'LSTM', 'name': 'fmg', 'date': '29/07/2022', 'predicted': 19, 'actual': 18.34, 'differece': 0.6600000000000001, 'rmse': 0.73826}\n",
      "{'_id': ObjectId('62e481c2f248345c96c9494d'), 'model': 'RFR', 'name': 'fmg', 'date': '29/07/2022', 'predicted': 12, 'actual': 18, 'differece': -5.209653763866996, 'accuracy': 91.31}\n",
      "{'_id': ObjectId('62e50595000bd2fa71a88d82'), 'model': 'RFR', 'name': 'wes', 'date': '29/07/2022', 'predicted': 44, 'actual': 38, 'difference': 6.9125, 'accuracy': 97.16}\n",
      "{'_id': ObjectId('62e63809b66c4b7fa3db1a22'), 'model': 'RFR', 'name': 'anz', 'date': '29/07/2022', 'predicted': 33, 'actual': 22, 'difference': 11.1838, 'accuracy': 97.09}\n",
      "{'_id': ObjectId('62ea3a74d27bca6473865515'), 'model': 'RFR', 'name': 'bhp', 'date': '02/08/2022', 'predicted': 47, 'actual': 38, 'difference': 9.0458, 'accuracy': 96.55}\n",
      "{'_id': ObjectId('62ee1dbc8d0aa1f1db925f04'), 'model': 'RFR', 'name': 'SHL', 'date': '05/08/2022', 'predicted': 32, 'actual': 35, 'difference': -2.9074, 'accuracy': 96.97}\n",
      "{'_id': ObjectId('62f72d88ba70ff4c205ba17f'), 'model': 'RFR', 'name': 'ANZ', 'date': '12/08/2022', 'predicted': 33, 'actual': 24, 'difference': 9.1995, 'accuracy': 97.17}\n",
      "{'_id': ObjectId('62f72f48de00168f436699ef'), 'model': 'RFR', 'name': 'BHP', 'date': '12/08/2022', 'predicted': 42, 'actual': 38, 'difference': 4.9902, 'accuracy': 96.75}\n",
      "{'_id': ObjectId('62f77b21e02817947b886fcd'), 'model': 'RFR', 'name': 'CSL', 'date': '12/08/2022', 'predicted': 244, 'actual': 290, 'difference': -45.2, 'accuracy': 96.14}\n",
      "{'_id': ObjectId('62f77e2f2a827b19bf6473c2'), 'model': 'RFR', 'name': 'FMG', 'date': '12/08/2022', 'predicted': 12, 'actual': 18, 'difference': -5.0768, 'accuracy': 91.24}\n",
      "{'_id': ObjectId('62f83471a0999ee2071b809d'), 'model': 'RFR', 'name': 'GMG', 'date': '12/08/2022', 'predicted': 18, 'actual': 20, 'difference': -1.9984, 'accuracy': 95.8}\n",
      "{'_id': ObjectId('62f83473d6fc67e45e0eff78'), 'model': 'RFR', 'name': 'MIN', 'date': '12/08/2022', 'predicted': 38, 'actual': 59, 'difference': -20.3236, 'accuracy': 93.74}\n",
      "{'_id': ObjectId('62f8348d83934ace5cf9129a'), 'model': 'RFR', 'name': 'MQG', 'date': '12/08/2022', 'predicted': 141, 'actual': 178, 'difference': -36.258, 'accuracy': 96.27}\n",
      "{'_id': ObjectId('62f8348e88f5e24597bc697a'), 'model': 'RFR', 'name': 'LYC', 'date': '12/08/2022', 'predicted': 6, 'actual': 9, 'difference': -2.6271, 'accuracy': 90.7}\n",
      "{'_id': ObjectId('62f850fe1081f44aefd85c5a'), 'model': 'RFR', 'name': 'NCM', 'date': '12/08/2022', 'predicted': 32, 'actual': 19, 'difference': 13.3254, 'accuracy': 95.25}\n",
      "{'_id': ObjectId('62f85c349cd16f126af85ea7'), 'model': 'RFR', 'name': 'NIC', 'date': '12/08/2022', 'predicted': 0.93, 'actual': 1.14, 'difference': -0.21, 'accuracy': 91.96}\n",
      "{'_id': ObjectId('62f85c3b11cc7bd61b8a9561'), 'model': 'RFR', 'name': 'S32', 'date': '12/08/2022', 'predicted': 4, 'actual': 4, 'difference': 0.8543, 'accuracy': 95.15}\n",
      "{'_id': ObjectId('62f85c3be24e5b9565f4566b'), 'model': 'RFR', 'name': 'NHC', 'date': '12/08/2022', 'predicted': 3.63, 'actual': 4.4, 'difference': -0.77, 'accuracy': 95.37}\n",
      "{'_id': ObjectId('62f85c3c324d73afb9fa1203'), 'model': 'RFR', 'name': 'PRU', 'date': '12/08/2022', 'predicted': 1, 'actual': 1, 'difference': 0.5741, 'accuracy': 92.31}\n",
      "{'_id': ObjectId('62f867c28186dd9129aea8b3'), 'model': 'RFR', 'name': 'SOL', 'date': '12/08/2022', 'predicted': 25, 'actual': 25, 'difference': 0.1119, 'accuracy': 97.48}\n",
      "{'_id': ObjectId('62f86865d548095e992ccb3a'), 'model': 'RFR', 'name': 'TCL', 'date': '12/08/2022', 'predicted': 14, 'actual': 14, 'difference': 0.1858, 'accuracy': 97.25}\n",
      "{'_id': ObjectId('62f868b7af264067b61a7d2d'), 'model': 'RFR', 'name': 'STO', 'date': '12/08/2022', 'predicted': 8, 'actual': 7, 'difference': 1.774, 'accuracy': 96.25}\n",
      "{'_id': ObjectId('62f869a32d48e159f9650d6b'), 'model': 'RFR', 'name': 'CBA', 'date': '12/08/2022', 'predicted': 97, 'actual': 100, 'difference': -2.7336, 'accuracy': 97.42}\n",
      "{'_id': ObjectId('62f869ba3bc6ea83a205aea8'), 'model': 'RFR', 'name': 'NAB', 'date': '12/08/2022', 'predicted': 28, 'actual': 30, 'difference': -1.8976, 'accuracy': 97.17}\n",
      "{'_id': ObjectId('62f86c94e8aa99df83075c2c'), 'model': 'RFR', 'name': 'WBC', 'date': '12/08/2022', 'predicted': 31, 'actual': 22, 'difference': 9.5487, 'accuracy': 97.02}\n",
      "{'_id': ObjectId('62f86d4682a83325a4b1cd10'), 'model': 'RFR', 'name': 'WOW', 'date': '12/08/2022', 'predicted': 40, 'actual': 38, 'difference': 2.4486, 'accuracy': 97.51}\n",
      "{'_id': ObjectId('62f86d4cd6d72aa104d49f9c'), 'model': 'RFR', 'name': 'WDS', 'date': '12/08/2022', 'predicted': 41, 'actual': 32, 'difference': 9.1736, 'accuracy': 96.93}\n",
      "{'_id': ObjectId('62f86d4d5bc1b7bdfbac98f7'), 'model': 'RFR', 'name': 'WES', 'date': '12/08/2022', 'predicted': 45, 'actual': 47, 'difference': -1.9191, 'accuracy': 97.18}\n",
      "{'_id': ObjectId('63083b64cd3920ce081aa1ec'), 'model': 'RFR', 'name': 'ALL', 'date': '25/08/2022', 'predicted': 31, 'actual': 36, 'difference': -4.9502, 'accuracy': 94.04}\n",
      "{'_id': ObjectId('630af98edb85926b1fc936cf'), 'model': 'LSTM', 'name': 'NHC', 'date': '26/08/2022', 'predicted': 4, 'actual': 5.13, 'difference': -0.3, 'rmse': 0.01811}\n",
      "{'_id': ObjectId('630b25a73674715d88278ff4'), 'model': 'LSTM', 'name': 'WOW', 'date': '26/08/2022', 'predicted': 36.81, 'actual': 36.76, 'difference': 0.05, 'rmse': 0.142}\n",
      "{'_id': ObjectId('630c9410a07dcddde21c3d60'), 'model': 'LSTM', 'name': 'PRU', 'date': '29/08/2022', 'predicted': 1.66, 'actual': 1.54, 'difference': 0.12, 'rmse': 0.02908}\n",
      "{'_id': ObjectId('630c9b5bef573254d440dc7d'), 'model': 'LSTM', 'name': 'WBC', 'date': '29/08/2022', 'predicted': 20.85, 'actual': 21.27, 'differece': -0.41999999999999815, 'rmse': 0.59742}\n",
      "{'_id': ObjectId('630c9b635e1e1a0c91cdef86'), 'model': 'LSTM', 'name': 'WDS', 'date': '29/08/2022', 'predicted': 35.52, 'actual': 35.35, 'difference': 0.17, 'rmse': 0.72869}\n",
      "{'_id': ObjectId('630c9b66d3173d3e00fa926d'), 'model': 'LSTM', 'name': 'WES', 'date': '29/08/2022', 'predicted': 48.97, 'actual': 47.4, 'difference': 1.57, 'rmse': 1.73803}\n",
      "{'_id': ObjectId('630ca377c65787a6bf38855e'), 'model': 'LSTM', 'name': 'SHL', 'date': '29/08/2022', 'predicted': 33.89, 'actual': 34.18, 'difference': -0.29, 'rmse': 0.55148}\n",
      "{'_id': ObjectId('630ca3a2db0c326f661a3a14'), 'model': 'LSTM', 'name': 'STO', 'date': '29/08/2022', 'predicted': 7.83, 'actual': 7.85, 'difference': -0.02, 'rmse': 0.19871}\n",
      "{'_id': ObjectId('630ca3a430f57d244fcdb1d2'), 'model': 'LSTM', 'name': 'SOL', 'date': '29/08/2022', 'predicted': 25.06, 'actual': 25.65, 'difference': -0.59, 'rmse': 0.51626}\n",
      "{'_id': ObjectId('630ca44f1f5365da5cc82415'), 'model': 'LSTM', 'name': 'TCL', 'date': '29/08/2022', 'predicted': 13.82, 'actual': 13.88, 'difference': -0.06, 'rmse': 0.04856}\n",
      "{'_id': ObjectId('630d3acbe38cc7245763958f'), 'model': 'LSTM', 'name': 'S32', 'date': '29/08/2022', 'predicted': 4.29, 'actual': 4.09, 'difference': 0.2, 'rmse': 0.10084}\n",
      "{'_id': ObjectId('630dc686ae0967d012939328'), 'model': 'LSTM', 'name': 'ALL', 'date': '30/08/2022', 'predicted': 34.34, 'actual': 35.3, 'difference': -0.96, 'rmse': 0.65113}\n",
      "{'_id': ObjectId('630dc693de01e11621c50261'), 'model': 'LSTM', 'name': 'CBA', 'date': '30/08/2022', 'predicted': 95.74, 'actual': 96.55, 'difference': -0.81, 'rmse': 0.5768}\n",
      "{'_id': ObjectId('630dc69746f8c2c8be21d8ae'), 'model': 'LSTM', 'name': 'ANZ', 'date': '30/08/2022', 'predicted': 22.59, 'actual': 22.57, 'difference': 0.02, 'rmse': 0.19239}\n",
      "{'_id': ObjectId('630dc69bfa90e1fdc0f38f71'), 'model': 'LSTM', 'name': 'BHP', 'date': '30/08/2022', 'predicted': 37.73, 'actual': 41.75, 'difference': -4.02, 'rmse': 3.30176}\n",
      "{'_id': ObjectId('630dcc6b77e246721e8ea5f5'), 'model': 'LSTM', 'name': 'CSL', 'date': '30/08/2022', 'predicted': 261.29, 'actual': 293.9, 'difference': -32.61, 'rmse': 22.01025}\n",
      "{'_id': ObjectId('630dcc6bf52ded7e84807581'), 'model': 'LSTM', 'name': 'FMG', 'date': '30/08/2022', 'predicted': 17.86, 'actual': 18.95, 'difference': -1.09, 'rmse': 0.68616}\n",
      "{'_id': ObjectId('630dcc6fe72dae51c8206e83'), 'model': 'LSTM', 'name': 'DJI', 'date': '29/08/2022', 'predicted': 32158.45, 'actual': 32098.99, 'difference': 59.46, 'rmse': 55.61885}\n",
      "{'_id': ObjectId('630dcc76d5ee5c4abea8ed33'), 'model': 'LSTM', 'name': 'GMG', 'date': '30/08/2022', 'predicted': 19.55, 'actual': 20.15, 'difference': -0.6, 'rmse': 0.31092}\n",
      "{'_id': ObjectId('630dcdc7b39ec0aa044e0443'), 'model': 'LSTM', 'name': 'MIN', 'date': '30/08/2022', 'predicted': 59.61, 'actual': 67.96, 'difference': -8.35, 'rmse': 1.4103}\n",
      "{'_id': ObjectId('630dcdcb45a6521a11c6e36b'), 'model': 'LSTM', 'name': 'LYC', 'date': '30/08/2022', 'predicted': 23.61, 'actual': 8.62, 'difference': 14.99, 'rmse': 0.50067}\n",
      "{'_id': ObjectId('630dcddfc85a6c2c460bcdd3'), 'model': 'LSTM', 'name': 'MQG', 'date': '30/08/2022', 'predicted': 172.41, 'actual': 175.17, 'difference': -2.76, 'rmse': 0.7346}\n",
      "{'_id': ObjectId('630dcdeb0a29fd36804fc140'), 'model': 'LSTM', 'name': 'NAB', 'date': '30/08/2022', 'predicted': 29.5, 'actual': 29.99, 'difference': -0.49, 'rmse': 0.23854}\n",
      "{'_id': ObjectId('630dce6096472ec0af670977'), 'model': 'LSTM', 'name': 'NIC', 'date': '30/08/2022', 'predicted': 1.06, 'actual': 1.02, 'difference': 0.04, 'rmse': 4e-05}\n",
      "{'_id': ObjectId('630dcee3b58df087a5ebb961'), 'model': 'LSTM', 'name': 'NCM', 'date': '30/08/2022', 'predicted': 17.52, 'actual': 17.64, 'difference': -0.12, 'rmse': 0.4007}\n"
     ]
    }
   ],
   "source": [
    "# query all companys collection\n",
    "companys = db.companys.find()\n",
    "\n",
    "# see change in collection\n",
    "for company in companys:\n",
    "    print(company)"
   ]
  },
  {
   "cell_type": "code",
   "execution_count": 47,
   "metadata": {},
   "outputs": [
    {
     "name": "stdout",
     "output_type": "stream",
     "text": [
      "{'_id': ObjectId('62cfb5f0a3e49b5607e1001b'), 'model': 'RFR', 'name': 'nhc', 'date': '14/07/2022', 'predicted': 3, 'actual': 4, 'differece': -0.4134955929131614, 'accuracy': 95.31}\n",
      "{'_id': ObjectId('62e47c25ddd32d7e027d5c65'), 'model': 'LSTM', 'name': 'fmg', 'date': '29/07/2022', 'predicted': 19, 'actual': 18.34, 'differece': 0.6600000000000001, 'rmse': 0.73826}\n",
      "{'_id': ObjectId('62e481c2f248345c96c9494d'), 'model': 'RFR', 'name': 'fmg', 'date': '29/07/2022', 'predicted': 12, 'actual': 18, 'differece': -5.209653763866996, 'accuracy': 91.31}\n",
      "{'_id': ObjectId('62e50595000bd2fa71a88d82'), 'model': 'RFR', 'name': 'wes', 'date': '29/07/2022', 'predicted': 44, 'actual': 38, 'difference': 6.9125, 'accuracy': 97.16}\n",
      "{'_id': ObjectId('62e63809b66c4b7fa3db1a22'), 'model': 'RFR', 'name': 'anz', 'date': '29/07/2022', 'predicted': 33, 'actual': 22, 'difference': 11.1838, 'accuracy': 97.09}\n",
      "{'_id': ObjectId('62ea3a74d27bca6473865515'), 'model': 'RFR', 'name': 'bhp', 'date': '02/08/2022', 'predicted': 47, 'actual': 38, 'difference': 9.0458, 'accuracy': 96.55}\n",
      "{'_id': ObjectId('62ee1dbc8d0aa1f1db925f04'), 'model': 'RFR', 'name': 'SHL', 'date': '05/08/2022', 'predicted': 32, 'actual': 35, 'difference': -2.9074, 'accuracy': 96.97}\n",
      "{'_id': ObjectId('62f72d88ba70ff4c205ba17f'), 'model': 'RFR', 'name': 'ANZ', 'date': '12/08/2022', 'predicted': 33, 'actual': 24, 'difference': 9.1995, 'accuracy': 97.17}\n",
      "{'_id': ObjectId('62f72f48de00168f436699ef'), 'model': 'RFR', 'name': 'BHP', 'date': '12/08/2022', 'predicted': 42, 'actual': 38, 'difference': 4.9902, 'accuracy': 96.75}\n",
      "{'_id': ObjectId('62f77b21e02817947b886fcd'), 'model': 'RFR', 'name': 'CSL', 'date': '12/08/2022', 'predicted': 244, 'actual': 290, 'difference': -45.2, 'accuracy': 96.14}\n",
      "{'_id': ObjectId('62f77e2f2a827b19bf6473c2'), 'model': 'RFR', 'name': 'FMG', 'date': '12/08/2022', 'predicted': 12, 'actual': 18, 'difference': -5.0768, 'accuracy': 91.24}\n",
      "{'_id': ObjectId('62f83471a0999ee2071b809d'), 'model': 'RFR', 'name': 'GMG', 'date': '12/08/2022', 'predicted': 18, 'actual': 20, 'difference': -1.9984, 'accuracy': 95.8}\n",
      "{'_id': ObjectId('62f83473d6fc67e45e0eff78'), 'model': 'RFR', 'name': 'MIN', 'date': '12/08/2022', 'predicted': 38, 'actual': 59, 'difference': -20.3236, 'accuracy': 93.74}\n",
      "{'_id': ObjectId('62f8348d83934ace5cf9129a'), 'model': 'RFR', 'name': 'MQG', 'date': '12/08/2022', 'predicted': 141, 'actual': 178, 'difference': -36.258, 'accuracy': 96.27}\n",
      "{'_id': ObjectId('62f8348e88f5e24597bc697a'), 'model': 'RFR', 'name': 'LYC', 'date': '12/08/2022', 'predicted': 6, 'actual': 9, 'difference': -2.6271, 'accuracy': 90.7}\n",
      "{'_id': ObjectId('62f850fe1081f44aefd85c5a'), 'model': 'RFR', 'name': 'NCM', 'date': '12/08/2022', 'predicted': 32, 'actual': 19, 'difference': 13.3254, 'accuracy': 95.25}\n",
      "{'_id': ObjectId('62f85c349cd16f126af85ea7'), 'model': 'RFR', 'name': 'NIC', 'date': '12/08/2022', 'predicted': 0.93, 'actual': 1.14, 'difference': -0.21, 'accuracy': 91.96}\n",
      "{'_id': ObjectId('62f85c3b11cc7bd61b8a9561'), 'model': 'RFR', 'name': 'S32', 'date': '12/08/2022', 'predicted': 4, 'actual': 4, 'difference': 0.8543, 'accuracy': 95.15}\n",
      "{'_id': ObjectId('62f85c3be24e5b9565f4566b'), 'model': 'RFR', 'name': 'NHC', 'date': '12/08/2022', 'predicted': 3.63, 'actual': 4.4, 'difference': -0.77, 'accuracy': 95.37}\n",
      "{'_id': ObjectId('62f85c3c324d73afb9fa1203'), 'model': 'RFR', 'name': 'PRU', 'date': '12/08/2022', 'predicted': 1, 'actual': 1, 'difference': 0.5741, 'accuracy': 92.31}\n",
      "{'_id': ObjectId('62f867c28186dd9129aea8b3'), 'model': 'RFR', 'name': 'SOL', 'date': '12/08/2022', 'predicted': 25, 'actual': 25, 'difference': 0.1119, 'accuracy': 97.48}\n",
      "{'_id': ObjectId('62f86865d548095e992ccb3a'), 'model': 'RFR', 'name': 'TCL', 'date': '12/08/2022', 'predicted': 14, 'actual': 14, 'difference': 0.1858, 'accuracy': 97.25}\n",
      "{'_id': ObjectId('62f868b7af264067b61a7d2d'), 'model': 'RFR', 'name': 'STO', 'date': '12/08/2022', 'predicted': 8, 'actual': 7, 'difference': 1.774, 'accuracy': 96.25}\n",
      "{'_id': ObjectId('62f869a32d48e159f9650d6b'), 'model': 'RFR', 'name': 'CBA', 'date': '12/08/2022', 'predicted': 97, 'actual': 100, 'difference': -2.7336, 'accuracy': 97.42}\n",
      "{'_id': ObjectId('62f869ba3bc6ea83a205aea8'), 'model': 'RFR', 'name': 'NAB', 'date': '12/08/2022', 'predicted': 28, 'actual': 30, 'difference': -1.8976, 'accuracy': 97.17}\n",
      "{'_id': ObjectId('62f86c94e8aa99df83075c2c'), 'model': 'RFR', 'name': 'WBC', 'date': '12/08/2022', 'predicted': 31, 'actual': 22, 'difference': 9.5487, 'accuracy': 97.02}\n",
      "{'_id': ObjectId('62f86d4682a83325a4b1cd10'), 'model': 'RFR', 'name': 'WOW', 'date': '12/08/2022', 'predicted': 40, 'actual': 38, 'difference': 2.4486, 'accuracy': 97.51}\n",
      "{'_id': ObjectId('62f86d4cd6d72aa104d49f9c'), 'model': 'RFR', 'name': 'WDS', 'date': '12/08/2022', 'predicted': 41, 'actual': 32, 'difference': 9.1736, 'accuracy': 96.93}\n",
      "{'_id': ObjectId('62f86d4d5bc1b7bdfbac98f7'), 'model': 'RFR', 'name': 'WES', 'date': '12/08/2022', 'predicted': 45, 'actual': 47, 'difference': -1.9191, 'accuracy': 97.18}\n",
      "{'_id': ObjectId('63083b64cd3920ce081aa1ec'), 'model': 'RFR', 'name': 'ALL', 'date': '25/08/2022', 'predicted': 31, 'actual': 36, 'difference': -4.9502, 'accuracy': 94.04}\n",
      "{'_id': ObjectId('630af98edb85926b1fc936cf'), 'model': 'LSTM', 'name': 'NHC', 'date': '26/08/2022', 'predicted': 4, 'actual': 5.13, 'difference': -0.3, 'rmse': 0.01811}\n",
      "{'_id': ObjectId('630b25a73674715d88278ff4'), 'model': 'LSTM', 'name': 'WOW', 'date': '26/08/2022', 'predicted': 36.81, 'actual': 36.76, 'difference': 0.05, 'rmse': 0.142}\n",
      "{'_id': ObjectId('630c9410a07dcddde21c3d60'), 'model': 'LSTM', 'name': 'PRU', 'date': '29/08/2022', 'predicted': 1.66, 'actual': 1.54, 'difference': 0.12, 'rmse': 0.02908}\n",
      "{'_id': ObjectId('630c9b5bef573254d440dc7d'), 'model': 'LSTM', 'name': 'WBC', 'date': '29/08/2022', 'predicted': 20.85, 'actual': 21.27, 'differece': -0.41999999999999815, 'rmse': 0.59742}\n",
      "{'_id': ObjectId('630c9b635e1e1a0c91cdef86'), 'model': 'LSTM', 'name': 'WDS', 'date': '29/08/2022', 'predicted': 35.52, 'actual': 35.35, 'difference': 0.17, 'rmse': 0.72869}\n",
      "{'_id': ObjectId('630c9b66d3173d3e00fa926d'), 'model': 'LSTM', 'name': 'WES', 'date': '29/08/2022', 'predicted': 48.97, 'actual': 47.4, 'difference': 1.57, 'rmse': 1.73803}\n",
      "{'_id': ObjectId('630ca377c65787a6bf38855e'), 'model': 'LSTM', 'name': 'SHL', 'date': '29/08/2022', 'predicted': 33.89, 'actual': 34.18, 'difference': -0.29, 'rmse': 0.55148}\n",
      "{'_id': ObjectId('630ca3a2db0c326f661a3a14'), 'model': 'LSTM', 'name': 'STO', 'date': '29/08/2022', 'predicted': 7.83, 'actual': 7.85, 'difference': -0.02, 'rmse': 0.19871}\n",
      "{'_id': ObjectId('630ca3a430f57d244fcdb1d2'), 'model': 'LSTM', 'name': 'SOL', 'date': '29/08/2022', 'predicted': 25.06, 'actual': 25.65, 'difference': -0.59, 'rmse': 0.51626}\n",
      "{'_id': ObjectId('630ca44f1f5365da5cc82415'), 'model': 'LSTM', 'name': 'TCL', 'date': '29/08/2022', 'predicted': 13.82, 'actual': 13.88, 'difference': -0.06, 'rmse': 0.04856}\n",
      "{'_id': ObjectId('630d3acbe38cc7245763958f'), 'model': 'LSTM', 'name': 'S32', 'date': '29/08/2022', 'predicted': 4.29, 'actual': 4.09, 'difference': 0.2, 'rmse': 0.10084}\n",
      "{'_id': ObjectId('630dc686ae0967d012939328'), 'model': 'LSTM', 'name': 'ALL', 'date': '30/08/2022', 'predicted': 34.34, 'actual': 35.3, 'difference': -0.96, 'rmse': 0.65113}\n",
      "{'_id': ObjectId('630dc693de01e11621c50261'), 'model': 'LSTM', 'name': 'CBA', 'date': '30/08/2022', 'predicted': 95.74, 'actual': 96.55, 'difference': -0.81, 'rmse': 0.5768}\n",
      "{'_id': ObjectId('630dc69746f8c2c8be21d8ae'), 'model': 'LSTM', 'name': 'ANZ', 'date': '30/08/2022', 'predicted': 22.59, 'actual': 22.57, 'difference': 0.02, 'rmse': 0.19239}\n",
      "{'_id': ObjectId('630dc69bfa90e1fdc0f38f71'), 'model': 'LSTM', 'name': 'BHP', 'date': '30/08/2022', 'predicted': 37.73, 'actual': 41.75, 'difference': -4.02, 'rmse': 3.30176}\n",
      "{'_id': ObjectId('630dcc6b77e246721e8ea5f5'), 'model': 'LSTM', 'name': 'CSL', 'date': '30/08/2022', 'predicted': 261.29, 'actual': 293.9, 'difference': -32.61, 'rmse': 22.01025}\n",
      "{'_id': ObjectId('630dcc6bf52ded7e84807581'), 'model': 'LSTM', 'name': 'FMG', 'date': '30/08/2022', 'predicted': 17.86, 'actual': 18.95, 'difference': -1.09, 'rmse': 0.68616}\n",
      "{'_id': ObjectId('630dcc6fe72dae51c8206e83'), 'model': 'LSTM', 'name': 'DJI', 'date': '29/08/2022', 'predicted': 32158.45, 'actual': 32098.99, 'difference': 59.46, 'rmse': 55.61885}\n",
      "{'_id': ObjectId('630dcc76d5ee5c4abea8ed33'), 'model': 'LSTM', 'name': 'GMG', 'date': '30/08/2022', 'predicted': 19.55, 'actual': 20.15, 'difference': -0.6, 'rmse': 0.31092}\n",
      "{'_id': ObjectId('630dcdc7b39ec0aa044e0443'), 'model': 'LSTM', 'name': 'MIN', 'date': '30/08/2022', 'predicted': 59.61, 'actual': 67.96, 'difference': -8.35, 'rmse': 1.4103}\n",
      "{'_id': ObjectId('630dcdcb45a6521a11c6e36b'), 'model': 'LSTM', 'name': 'LYC', 'date': '30/08/2022', 'predicted': 23.61, 'actual': 8.62, 'difference': 14.99, 'rmse': 0.50067}\n",
      "{'_id': ObjectId('630dcddfc85a6c2c460bcdd3'), 'model': 'LSTM', 'name': 'MQG', 'date': '30/08/2022', 'predicted': 172.41, 'actual': 175.17, 'difference': -2.76, 'rmse': 0.7346}\n",
      "{'_id': ObjectId('630dcdeb0a29fd36804fc140'), 'model': 'LSTM', 'name': 'NAB', 'date': '30/08/2022', 'predicted': 29.5, 'actual': 29.99, 'difference': -0.49, 'rmse': 0.23854}\n",
      "{'_id': ObjectId('630dce6096472ec0af670977'), 'model': 'LSTM', 'name': 'NIC', 'date': '30/08/2022', 'predicted': 1.06, 'actual': 1.02, 'difference': 0.04, 'rmse': 4e-05}\n",
      "{'_id': ObjectId('630dcee3b58df087a5ebb961'), 'model': 'LSTM', 'name': 'NCM', 'date': '30/08/2022', 'predicted': 17.52, 'actual': 17.64, 'difference': -0.12, 'rmse': 0.4007}\n"
     ]
    }
   ],
   "source": [
    "# query all the classroom collection\n",
    "companys = db.companys.find()\n",
    "\n",
    "# see change in collection\n",
    "for company in companys:\n",
    "    print(company)"
   ]
  }
 ],
 "metadata": {
  "kernel_info": {
   "name": "dev"
  },
  "kernelspec": {
   "display_name": "Python 3.9.7 ('base')",
   "language": "python",
   "name": "python3"
  },
  "language_info": {
   "codemirror_mode": {
    "name": "ipython",
    "version": 3
   },
   "file_extension": ".py",
   "mimetype": "text/x-python",
   "name": "python",
   "nbconvert_exporter": "python",
   "pygments_lexer": "ipython3",
   "version": "3.9.7"
  },
  "nteract": {
   "version": "0.12.3"
  },
  "vscode": {
   "interpreter": {
    "hash": "45bb1cb4637e4034484920e5cfb24c9afd84b0847d6c36e39edd3067d3a05462"
   }
  }
 },
 "nbformat": 4,
 "nbformat_minor": 2
}
