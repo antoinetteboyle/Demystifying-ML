{
 "cells": [
  {
   "cell_type": "markdown",
   "metadata": {},
   "source": [
    "#This model uses LSTM to predict a Daily share price movements based on time series and batches of 60 days"
   ]
  },
  {
   "cell_type": "markdown",
   "metadata": {},
   "source": [
    "# Read the CSV and Perform Basic Data Cleaning"
   ]
  },
  {
   "cell_type": "code",
   "execution_count": 99,
   "metadata": {},
   "outputs": [],
   "source": [
    "import matplotlib.pyplot as plt\n",
    "import numpy as np\n",
    "import pandas as pd"
   ]
  },
  {
   "cell_type": "code",
   "execution_count": 100,
   "metadata": {},
   "outputs": [
    {
     "data": {
      "text/html": [
       "<div>\n",
       "<style scoped>\n",
       "    .dataframe tbody tr th:only-of-type {\n",
       "        vertical-align: middle;\n",
       "    }\n",
       "\n",
       "    .dataframe tbody tr th {\n",
       "        vertical-align: top;\n",
       "    }\n",
       "\n",
       "    .dataframe thead th {\n",
       "        text-align: right;\n",
       "    }\n",
       "</style>\n",
       "<table border=\"1\" class=\"dataframe\">\n",
       "  <thead>\n",
       "    <tr style=\"text-align: right;\">\n",
       "      <th></th>\n",
       "      <th>Date</th>\n",
       "      <th>Open</th>\n",
       "      <th>High</th>\n",
       "      <th>Low</th>\n",
       "      <th>Close</th>\n",
       "      <th>Adj Close</th>\n",
       "      <th>Volume</th>\n",
       "    </tr>\n",
       "  </thead>\n",
       "  <tbody>\n",
       "    <tr>\n",
       "      <th>0</th>\n",
       "      <td>3/01/2000</td>\n",
       "      <td>10.435952</td>\n",
       "      <td>10.435952</td>\n",
       "      <td>10.435952</td>\n",
       "      <td>10.435952</td>\n",
       "      <td>3.437588</td>\n",
       "      <td>0.0</td>\n",
       "    </tr>\n",
       "    <tr>\n",
       "      <th>1</th>\n",
       "      <td>4/01/2000</td>\n",
       "      <td>10.448864</td>\n",
       "      <td>10.448864</td>\n",
       "      <td>10.240284</td>\n",
       "      <td>10.240284</td>\n",
       "      <td>3.373133</td>\n",
       "      <td>2324971.0</td>\n",
       "    </tr>\n",
       "    <tr>\n",
       "      <th>2</th>\n",
       "      <td>5/01/2000</td>\n",
       "      <td>10.063487</td>\n",
       "      <td>10.081366</td>\n",
       "      <td>10.001907</td>\n",
       "      <td>10.051568</td>\n",
       "      <td>3.310971</td>\n",
       "      <td>2456811.0</td>\n",
       "    </tr>\n",
       "    <tr>\n",
       "      <th>3</th>\n",
       "      <td>6/01/2000</td>\n",
       "      <td>10.081366</td>\n",
       "      <td>10.111163</td>\n",
       "      <td>9.942312</td>\n",
       "      <td>10.031704</td>\n",
       "      <td>3.304429</td>\n",
       "      <td>4354261.0</td>\n",
       "    </tr>\n",
       "    <tr>\n",
       "      <th>4</th>\n",
       "      <td>7/01/2000</td>\n",
       "      <td>10.031704</td>\n",
       "      <td>10.061501</td>\n",
       "      <td>9.982042</td>\n",
       "      <td>10.031704</td>\n",
       "      <td>3.304429</td>\n",
       "      <td>2360114.0</td>\n",
       "    </tr>\n",
       "  </tbody>\n",
       "</table>\n",
       "</div>"
      ],
      "text/plain": [
       "        Date       Open       High        Low      Close  Adj Close     Volume\n",
       "0  3/01/2000  10.435952  10.435952  10.435952  10.435952   3.437588        0.0\n",
       "1  4/01/2000  10.448864  10.448864  10.240284  10.240284   3.373133  2324971.0\n",
       "2  5/01/2000  10.063487  10.081366  10.001907  10.051568   3.310971  2456811.0\n",
       "3  6/01/2000  10.081366  10.111163   9.942312  10.031704   3.304429  4354261.0\n",
       "4  7/01/2000  10.031704  10.061501   9.982042  10.031704   3.304429  2360114.0"
      ]
     },
     "execution_count": 100,
     "metadata": {},
     "output_type": "execute_result"
    }
   ],
   "source": [
    "df_stock1 = pd.read_csv(\"../static/data/wbc.csv\")\n",
    "# Drop the null columns where all values are null\n",
    "df_stock2 = df_stock1.dropna(axis='columns', how='all')\n",
    "# Drop the null rows\n",
    "df_stock3 = df_stock2.dropna()\n",
    "# Drop the last rows to test prediction to actual\n",
    "df_stock_less1= df_stock3.iloc[:-1,:]\n",
    "# Drop last 3 columns sentiment RBA FED\n",
    "N=3\n",
    "df = df_stock_less1.iloc[: , :-N]\n",
    "df.head()"
   ]
  },
  {
   "cell_type": "code",
   "execution_count": 101,
   "metadata": {},
   "outputs": [
    {
     "data": {
      "text/plain": [
       "<AxesSubplot:>"
      ]
     },
     "execution_count": 101,
     "metadata": {},
     "output_type": "execute_result"
    },
    {
     "data": {
      "image/png": "[encoded data removed]",
      "text/plain": [
       "<Figure size 432x288 with 1 Axes>"
      ]
     },
     "metadata": {},
     "output_type": "display_data"
    }
   ],
   "source": [
    "df[\"Close\"].plot()"
   ]
  },
  {
   "cell_type": "code",
   "execution_count": 102,
   "metadata": {},
   "outputs": [
    {
     "name": "stdout",
     "output_type": "stream",
     "text": [
      "<class 'pandas.core.frame.DataFrame'>\n",
      "Int64Index: 5692 entries, 0 to 5724\n",
      "Data columns (total 7 columns):\n",
      " #   Column     Non-Null Count  Dtype  \n",
      "---  ------     --------------  -----  \n",
      " 0   Date       5692 non-null   object \n",
      " 1   Open       5692 non-null   float64\n",
      " 2   High       5692 non-null   float64\n",
      " 3   Low        5692 non-null   float64\n",
      " 4   Close      5692 non-null   float64\n",
      " 5   Adj Close  5692 non-null   float64\n",
      " 6   Volume     5692 non-null   float64\n",
      "dtypes: float64(6), object(1)\n",
      "memory usage: 355.8+ KB\n"
     ]
    }
   ],
   "source": [
    "df.info()"
   ]
  },
  {
   "cell_type": "code",
   "execution_count": 103,
   "metadata": {},
   "outputs": [
    {
     "data": {
      "text/plain": [
       "(5692, 1)"
      ]
     },
     "execution_count": 103,
     "metadata": {},
     "output_type": "execute_result"
    }
   ],
   "source": [
    "data = df.filter(['Close'])\n",
    "dataset = data.values\n",
    "dataset.shape\n"
   ]
  },
  {
   "cell_type": "markdown",
   "metadata": {},
   "source": [
    "# # Pre-processing : Scale the data using the MinMaxScaler and split train data"
   ]
  },
  {
   "cell_type": "code",
   "execution_count": 104,
   "metadata": {},
   "outputs": [
    {
     "data": {
      "text/plain": [
       "(4554, 1)"
      ]
     },
     "execution_count": 104,
     "metadata": {},
     "output_type": "execute_result"
    }
   ],
   "source": [
    "# Scale your data\n",
    "from sklearn.preprocessing import MinMaxScaler\n",
    "\n",
    "scaler = MinMaxScaler(feature_range=(0,1))\n",
    "dataset_scaled = scaler.fit_transform(dataset)\n",
    "\n",
    "# Split into train or test\n",
    "import math\n",
    "train_data_len = math.ceil(len(dataset)*.8)\n",
    "train_data = dataset_scaled[0:train_data_len,:]\n",
    "train_data.shape\n"
   ]
  },
  {
   "cell_type": "code",
   "execution_count": 105,
   "metadata": {},
   "outputs": [
    {
     "name": "stdout",
     "output_type": "stream",
     "text": [
      "[array([0.01366231, 0.00704935, 0.00067134, 0.        , 0.        ,\n",
      "       0.00359179, 0.00386034, 0.00402818, 0.00704935, 0.01208457,\n",
      "       0.02181938, 0.02249075, 0.01812687, 0.01879824, 0.01376299,\n",
      "       0.01342732, 0.01208457, 0.01208457, 0.01715339, 0.0234978 ,\n",
      "       0.01819402, 0.01376299, 0.01678415, 0.02282646, 0.02205437,\n",
      "       0.02551192, 0.02745885, 0.03625377, 0.03289693, 0.02181938,\n",
      "       0.01913391, 0.01544141, 0.01074185, 0.00268546, 0.        ,\n",
      "       0.00167842, 0.        , 0.00268546, 0.00201409, 0.01342732,\n",
      "       0.00201409, 0.01007048, 0.02239004, 0.01611278, 0.01040615,\n",
      "       0.01040615, 0.01054042, 0.01342732, 0.0234978 , 0.02685463,\n",
      "       0.02282646, 0.02249075, 0.02685463, 0.02886872, 0.02685463,\n",
      "       0.0177912 , 0.01443436, 0.01611278, 0.00738502, 0.01510574])]\n",
      "[0.010775413823760738]\n"
     ]
    }
   ],
   "source": [
    "X_train = []\n",
    "y_train = []\n",
    "\n",
    "for i in range (60, len(train_data)):\n",
    "    X_train.append(train_data[i-60:i,0]) # contains 60 values\n",
    "    y_train.append(train_data[i,0])   # contains 61st value\n",
    "    if i<= 60:\n",
    "        print(X_train)\n",
    "        print(y_train) \n"
   ]
  },
  {
   "cell_type": "markdown",
   "metadata": {},
   "source": [
    "# Prepare train data for LSTM model"
   ]
  },
  {
   "cell_type": "code",
   "execution_count": 106,
   "metadata": {},
   "outputs": [
    {
     "data": {
      "text/plain": [
       "(4494, 60)"
      ]
     },
     "execution_count": 106,
     "metadata": {},
     "output_type": "execute_result"
    }
   ],
   "source": [
    "# Convert list to numpy array for LSTM model:\n",
    "X_train, y_train = np.array(X_train), np.array(y_train)\n",
    "X_train.shape"
   ]
  },
  {
   "cell_type": "code",
   "execution_count": 107,
   "metadata": {},
   "outputs": [
    {
     "data": {
      "text/plain": [
       "(4494, 60, 1)"
      ]
     },
     "execution_count": 107,
     "metadata": {},
     "output_type": "execute_result"
    }
   ],
   "source": [
    "# LSTM model expects 3D, reshape:\n",
    "X_train = np.reshape(X_train, (X_train.shape[0], X_train.shape[1], 1))\n",
    "X_train.shape"
   ]
  },
  {
   "cell_type": "markdown",
   "metadata": {},
   "source": [
    "# Build the LSTM model"
   ]
  },
  {
   "cell_type": "code",
   "execution_count": 108,
   "metadata": {},
   "outputs": [],
   "source": [
    "from tensorflow.keras.models import Sequential\n",
    "from tensorflow.keras.layers import Dense, LSTM\n",
    "model = Sequential()\n",
    "model.add(LSTM(50, return_sequences=True, input_shape=(X_train.shape[1], 1)))\n",
    "model.add(LSTM(50, return_sequences=False))\n",
    "model.add(Dense(25))\n",
    "model.add(Dense(1))"
   ]
  },
  {
   "cell_type": "code",
   "execution_count": 109,
   "metadata": {},
   "outputs": [],
   "source": [
    "model.compile(optimizer='adam', loss='mean_squared_error')"
   ]
  },
  {
   "cell_type": "code",
   "execution_count": 110,
   "metadata": {},
   "outputs": [
    {
     "name": "stdout",
     "output_type": "stream",
     "text": [
      "4494/4494 [==============================] - 116s 25ms/step - loss: 0.0012\n"
     ]
    },
    {
     "data": {
      "text/plain": [
       "<keras.callbacks.History at 0x24c20fcf1f0>"
      ]
     },
     "execution_count": 110,
     "metadata": {},
     "output_type": "execute_result"
    }
   ],
   "source": [
    "model.fit(X_train, y_train, batch_size=1, epochs=1)"
   ]
  },
  {
   "cell_type": "code",
   "execution_count": 111,
   "metadata": {},
   "outputs": [],
   "source": [
    "#Create test data\n",
    "test_data = dataset_scaled[train_data_len-60:,:]\n",
    "X_test = []\n",
    "y_test = dataset[train_data_len:,:]\n",
    "for i in range(60, len(test_data)):\n",
    " X_test.append(test_data[i-60:i,0])"
   ]
  },
  {
   "cell_type": "code",
   "execution_count": 112,
   "metadata": {},
   "outputs": [],
   "source": [
    "#Covert test data to a numpy array and reshape\n",
    "X_test = np.array(X_test)\n",
    "X_test = np.reshape(X_test, (X_test.shape[0],X_test.shape[1],1))"
   ]
  },
  {
   "cell_type": "code",
   "execution_count": 113,
   "metadata": {},
   "outputs": [],
   "source": [
    "#Get predicted prices\n",
    "predictions_lstm = model.predict(X_test)\n",
    "predictions = scaler.inverse_transform(predictions_lstm)"
   ]
  },
  {
   "cell_type": "code",
   "execution_count": 114,
   "metadata": {},
   "outputs": [
    {
     "data": {
      "text/plain": [
       "0.15230915692358568"
      ]
     },
     "execution_count": 114,
     "metadata": {},
     "output_type": "execute_result"
    }
   ],
   "source": [
    "#Get the root mean square error (RMSE) 0 being most favourable\n",
    "rmse = np.sqrt(np.mean(predictions-y_test)**2)\n",
    "rmse"
   ]
  },
  {
   "cell_type": "code",
   "execution_count": 115,
   "metadata": {},
   "outputs": [
    {
     "name": "stderr",
     "output_type": "stream",
     "text": [
      "C:\\Users\\antoi\\AppData\\Local\\Temp/ipykernel_29824/1869826583.py:5: SettingWithCopyWarning: \n",
      "A value is trying to be set on a copy of a slice from a DataFrame.\n",
      "Try using .loc[row_indexer,col_indexer] = value instead\n",
      "\n",
      "See the caveats in the documentation: https://pandas.pydata.org/pandas-docs/stable/user_guide/indexing.html#returning-a-view-versus-a-copy\n",
      "  valid['Predictions'] = predictions # another column for validating test\n"
     ]
    },
    {
     "data": {
      "image/png": "[encoded data removed]",
      "text/plain": [
       "<Figure size 1152x576 with 1 Axes>"
      ]
     },
     "metadata": {},
     "output_type": "display_data"
    }
   ],
   "source": [
    "#Plot the data to validate the test data\n",
    "plt.style.use('fivethirtyeight')\n",
    "train = data.iloc[:train_data_len] # actual train data from 0 rows until train data end\n",
    "valid = data.iloc[train_data_len:] # actual test data from train data end until end of all sampled data\n",
    "valid['Predictions'] = predictions # another column for validating test\n",
    "\n",
    "plt.figure(figsize=(16,8))\n",
    "plt.title('WBC LSTM Model')\n",
    "plt.xlabel('Trading Date', fontsize=18)\n",
    "plt.ylabel('Close Price AUD ($)',fontsize=18)\n",
    "plt.plot(train['Close'])\n",
    "plt.plot(valid[['Close','Predictions']])\n",
    "plt.legend(['Training','Validate','Tested'],loc='lower right')\n",
    "x = np.arange(2000,2024,4)\n",
    "plt.xticks([0,1000,2000,3000,4000,5000],x)\n",
    "plt.savefig('../static/data/images/wbc_graph.png')\n",
    "plt.show()\n"
   ]
  },
  {
   "cell_type": "markdown",
   "metadata": {},
   "source": [
    "# Test data Predictions on the Model"
   ]
  },
  {
   "cell_type": "code",
   "execution_count": 116,
   "metadata": {},
   "outputs": [
    {
     "name": "stderr",
     "output_type": "stream",
     "text": [
      "C:\\Users\\antoi\\AppData\\Local\\Temp/ipykernel_29824/3952761259.py:1: SettingWithCopyWarning: \n",
      "A value is trying to be set on a copy of a slice from a DataFrame.\n",
      "Try using .loc[row_indexer,col_indexer] = value instead\n",
      "\n",
      "See the caveats in the documentation: https://pandas.pydata.org/pandas-docs/stable/user_guide/indexing.html#returning-a-view-versus-a-copy\n",
      "  valid['Difference']= valid['Close']-valid['Predictions']\n"
     ]
    },
    {
     "data": {
      "text/html": [
       "<div>\n",
       "<style scoped>\n",
       "    .dataframe tbody tr th:only-of-type {\n",
       "        vertical-align: middle;\n",
       "    }\n",
       "\n",
       "    .dataframe tbody tr th {\n",
       "        vertical-align: top;\n",
       "    }\n",
       "\n",
       "    .dataframe thead th {\n",
       "        text-align: right;\n",
       "    }\n",
       "</style>\n",
       "<table border=\"1\" class=\"dataframe\">\n",
       "  <thead>\n",
       "    <tr style=\"text-align: right;\">\n",
       "      <th></th>\n",
       "      <th>Close</th>\n",
       "      <th>Predictions</th>\n",
       "      <th>Difference</th>\n",
       "    </tr>\n",
       "  </thead>\n",
       "  <tbody>\n",
       "    <tr>\n",
       "      <th>4587</th>\n",
       "      <td>31.389999</td>\n",
       "      <td>31.078079</td>\n",
       "      <td>0.311920</td>\n",
       "    </tr>\n",
       "    <tr>\n",
       "      <th>4588</th>\n",
       "      <td>31.549999</td>\n",
       "      <td>31.089184</td>\n",
       "      <td>0.460815</td>\n",
       "    </tr>\n",
       "    <tr>\n",
       "      <th>4589</th>\n",
       "      <td>31.350000</td>\n",
       "      <td>31.175932</td>\n",
       "      <td>0.174068</td>\n",
       "    </tr>\n",
       "    <tr>\n",
       "      <th>4590</th>\n",
       "      <td>31.250000</td>\n",
       "      <td>31.187746</td>\n",
       "      <td>0.062254</td>\n",
       "    </tr>\n",
       "    <tr>\n",
       "      <th>4591</th>\n",
       "      <td>31.230000</td>\n",
       "      <td>31.141199</td>\n",
       "      <td>0.088801</td>\n",
       "    </tr>\n",
       "    <tr>\n",
       "      <th>...</th>\n",
       "      <td>...</td>\n",
       "      <td>...</td>\n",
       "      <td>...</td>\n",
       "    </tr>\n",
       "    <tr>\n",
       "      <th>5720</th>\n",
       "      <td>19.709999</td>\n",
       "      <td>19.256002</td>\n",
       "      <td>0.453997</td>\n",
       "    </tr>\n",
       "    <tr>\n",
       "      <th>5721</th>\n",
       "      <td>19.530001</td>\n",
       "      <td>19.339804</td>\n",
       "      <td>0.190197</td>\n",
       "    </tr>\n",
       "    <tr>\n",
       "      <th>5722</th>\n",
       "      <td>19.620001</td>\n",
       "      <td>19.441034</td>\n",
       "      <td>0.178967</td>\n",
       "    </tr>\n",
       "    <tr>\n",
       "      <th>5723</th>\n",
       "      <td>19.480000</td>\n",
       "      <td>19.547396</td>\n",
       "      <td>-0.067396</td>\n",
       "    </tr>\n",
       "    <tr>\n",
       "      <th>5724</th>\n",
       "      <td>19.920000</td>\n",
       "      <td>19.582226</td>\n",
       "      <td>0.337774</td>\n",
       "    </tr>\n",
       "  </tbody>\n",
       "</table>\n",
       "<p>1138 rows × 3 columns</p>\n",
       "</div>"
      ],
      "text/plain": [
       "          Close  Predictions  Difference\n",
       "4587  31.389999    31.078079    0.311920\n",
       "4588  31.549999    31.089184    0.460815\n",
       "4589  31.350000    31.175932    0.174068\n",
       "4590  31.250000    31.187746    0.062254\n",
       "4591  31.230000    31.141199    0.088801\n",
       "...         ...          ...         ...\n",
       "5720  19.709999    19.256002    0.453997\n",
       "5721  19.530001    19.339804    0.190197\n",
       "5722  19.620001    19.441034    0.178967\n",
       "5723  19.480000    19.547396   -0.067396\n",
       "5724  19.920000    19.582226    0.337774\n",
       "\n",
       "[1138 rows x 3 columns]"
      ]
     },
     "execution_count": 116,
     "metadata": {},
     "output_type": "execute_result"
    }
   ],
   "source": [
    "valid['Difference']= valid['Close']-valid['Predictions']\n",
    "valid"
   ]
  },
  {
   "cell_type": "code",
   "execution_count": 117,
   "metadata": {},
   "outputs": [],
   "source": [
    "#Get latest 60 quotes less 1 to predict:\n",
    "\n",
    "#import pandas_datareader.data as web\n",
    "#symbol = 'WBC.AX'\n",
    "#stock_quote = web.DataReader(symbol,data_source='yahoo',start='2022-01-01', end='2022-04-13')\n",
    "#stock_quotes_sixty = stock_quotes_sixty.filter(['Close'])\n",
    "#stock_quotes_sixty\n",
    "#OR use csv data \n",
    "\n",
    "\n"
   ]
  },
  {
   "cell_type": "code",
   "execution_count": 118,
   "metadata": {},
   "outputs": [
    {
     "data": {
      "text/plain": [
       "(60, 1)"
      ]
     },
     "execution_count": 118,
     "metadata": {},
     "output_type": "execute_result"
    }
   ],
   "source": [
    "# Use last 60 days price on model to predict next days price\n",
    "stock_quotes_sixty = df_stock_less1.tail(60)\n",
    "stock_close_sixty = stock_quotes_sixty['Close']\n",
    "last_60_days = stock_close_sixty[-60:].values\n",
    "last_60_days = last_60_days.reshape(-1,1)\n",
    "last_60_days.shape"
   ]
  },
  {
   "cell_type": "code",
   "execution_count": 146,
   "metadata": {},
   "outputs": [
    {
     "data": {
      "text/plain": [
       "(1, 60, 1)"
      ]
     },
     "execution_count": 146,
     "metadata": {},
     "output_type": "execute_result"
    }
   ],
   "source": [
    "last_60_days_scaled = scaler.transform(last_60_days)\n",
    "X_tell = []\n",
    "X_tell.append(last_60_days_scaled)\n",
    "X_tell =np.array(X_tell)\n",
    "X_tell =np.reshape(X_tell, (X_tell.shape[0], X_tell.shape[1],1))\n",
    "X_tell.shape"
   ]
  },
  {
   "cell_type": "code",
   "execution_count": 120,
   "metadata": {},
   "outputs": [
    {
     "name": "stdout",
     "output_type": "stream",
     "text": [
      "Predicted next day share price 19\n"
     ]
    }
   ],
   "source": [
    "pred_price = model.predict(X_tell)\n",
    "pred_price = scaler.inverse_transform(pred_price)\n",
    "pred_price = int(pred_price)\n",
    "print(f'Predicted next day share price {pred_price}')"
   ]
  },
  {
   "cell_type": "code",
   "execution_count": 121,
   "metadata": {},
   "outputs": [
    {
     "data": {
      "text/html": [
       "<div>\n",
       "<style scoped>\n",
       "    .dataframe tbody tr th:only-of-type {\n",
       "        vertical-align: middle;\n",
       "    }\n",
       "\n",
       "    .dataframe tbody tr th {\n",
       "        vertical-align: top;\n",
       "    }\n",
       "\n",
       "    .dataframe thead th {\n",
       "        text-align: right;\n",
       "    }\n",
       "</style>\n",
       "<table border=\"1\" class=\"dataframe\">\n",
       "  <thead>\n",
       "    <tr style=\"text-align: right;\">\n",
       "      <th></th>\n",
       "      <th>Date</th>\n",
       "      <th>Open</th>\n",
       "      <th>High</th>\n",
       "      <th>Low</th>\n",
       "      <th>Close</th>\n",
       "      <th>Adj Close</th>\n",
       "      <th>Volume</th>\n",
       "      <th>SENTIMENT</th>\n",
       "      <th>RBA</th>\n",
       "      <th>FED</th>\n",
       "    </tr>\n",
       "  </thead>\n",
       "  <tbody>\n",
       "    <tr>\n",
       "      <th>5725</th>\n",
       "      <td>28/06/2022</td>\n",
       "      <td>19.959999</td>\n",
       "      <td>19.959999</td>\n",
       "      <td>19.620001</td>\n",
       "      <td>19.75</td>\n",
       "      <td>19.75</td>\n",
       "      <td>8230601.0</td>\n",
       "      <td>NEGATIVE</td>\n",
       "      <td>0.85</td>\n",
       "      <td>1.75</td>\n",
       "    </tr>\n",
       "  </tbody>\n",
       "</table>\n",
       "</div>"
      ],
      "text/plain": [
       "            Date       Open       High        Low  Close  Adj Close  \\\n",
       "5725  28/06/2022  19.959999  19.959999  19.620001  19.75      19.75   \n",
       "\n",
       "         Volume SENTIMENT   RBA   FED  \n",
       "5725  8230601.0  NEGATIVE  0.85  1.75  "
      ]
     },
     "execution_count": 121,
     "metadata": {},
     "output_type": "execute_result"
    }
   ],
   "source": [
    "#stock_quote_acual = web.DataReader('WBC.AX',data_source='yahoo',start='2022-04-14', end='2022-04-14')\n",
    "#OR get last quote from latest csv\n",
    "stock_quote_last_one = df_stock1.tail(1)\n",
    "stock_quote_last_one\n"
   ]
  },
  {
   "cell_type": "code",
   "execution_count": 122,
   "metadata": {},
   "outputs": [
    {
     "data": {
      "text/plain": [
       "'28/06/2022'"
      ]
     },
     "execution_count": 122,
     "metadata": {},
     "output_type": "execute_result"
    }
   ],
   "source": [
    "#save actual to variable\n",
    "actual_price = stock_quote_last_one.iloc[0,4]\n",
    "actual_date = stock_quote_last_one.iloc[0,0] \n",
    "actual_price = int(actual_price)\n",
    "actual_price\n",
    "actual_date\n"
   ]
  },
  {
   "cell_type": "markdown",
   "metadata": {},
   "source": [
    "# Save the Model"
   ]
  },
  {
   "cell_type": "code",
   "execution_count": 123,
   "metadata": {},
   "outputs": [],
   "source": [
    "# Save the entire model to a HDF5 file.\n",
    "# The '.h5' extension indicates that the model should be saved to HDF5.\n",
    "filepath = '../static/wbc_model.sav'\n",
    "model.save(filepath, save_format=\"h5\")"
   ]
  },
  {
   "cell_type": "markdown",
   "metadata": {},
   "source": [
    "#Save last 60 days to a list wbc_sixty and load df"
   ]
  },
  {
   "cell_type": "code",
   "execution_count": 124,
   "metadata": {},
   "outputs": [],
   "source": [
    "# Read in the CSV file\n",
    "# df_wbc_sixty = pd.read_csv(\"../static/data/wbc_sixty.csv\")\n",
    "# df_wbc_sixty.head()\n",
    "wbcdump_sixty = pd.read_csv(\"../static/data/wbc.csv\")\n",
    "wbcdump_sixty = wbcdump_sixty.dropna()\n",
    "wbcdump_sixty = wbcdump_sixty.iloc[-4250:]\n",
    "sixty_val = wbcdump_sixty.iloc[-60:,4].values\n",
    "last_sixty = sixty_val.reshape(-1,1)"
   ]
  },
  {
   "cell_type": "code",
   "execution_count": 125,
   "metadata": {},
   "outputs": [],
   "source": [
    "# close_sixty_val = df_wbc_sixty[-60:].values\n",
    "# last_sixty = close_sixty_val.reshape(-1,1)\n",
    "# last_sixty.shape"
   ]
  },
  {
   "cell_type": "code",
   "execution_count": 126,
   "metadata": {},
   "outputs": [
    {
     "data": {
      "text/plain": [
       "(1, 60, 1)"
      ]
     },
     "execution_count": 126,
     "metadata": {},
     "output_type": "execute_result"
    }
   ],
   "source": [
    "last_sixty_scaled = scaler.transform(last_sixty)\n",
    "new_X_tell = []\n",
    "new_X_tell.append(last_sixty_scaled)\n",
    "new_X_tell =np.array(new_X_tell)\n",
    "new_X_tell =np.reshape(new_X_tell, (new_X_tell.shape[0], new_X_tell.shape[1],1))\n",
    "new_X_tell.shape"
   ]
  },
  {
   "cell_type": "markdown",
   "metadata": {},
   "source": [
    "#PREDICT USING LOADED MODEL"
   ]
  },
  {
   "cell_type": "code",
   "execution_count": 127,
   "metadata": {},
   "outputs": [],
   "source": [
    "from keras.models import load_model"
   ]
  },
  {
   "cell_type": "code",
   "execution_count": 128,
   "metadata": {},
   "outputs": [],
   "source": [
    "model_in = load_model('../static/wbc_model.sav')"
   ]
  },
  {
   "cell_type": "code",
   "execution_count": 129,
   "metadata": {},
   "outputs": [
    {
     "data": {
      "text/plain": [
       "array([[0.32866663]], dtype=float32)"
      ]
     },
     "execution_count": 129,
     "metadata": {},
     "output_type": "execute_result"
    }
   ],
   "source": [
    "model_in_pd_scale = model_in.predict(new_X_tell)\n",
    "model_in_pd_scale"
   ]
  },
  {
   "cell_type": "code",
   "execution_count": 130,
   "metadata": {},
   "outputs": [
    {
     "name": "stdout",
     "output_type": "stream",
     "text": [
      "Predicted next day share price [[19.756477]]\n"
     ]
    }
   ],
   "source": [
    "model_in_price = scaler.inverse_transform(model_in_pd_scale)\n",
    "#model_in_price_int = int(model_in_price)\n",
    "print(f'Predicted next day share price {model_in_price}')"
   ]
  },
  {
   "cell_type": "markdown",
   "metadata": {},
   "source": [
    "#Create a function to loop through the days input"
   ]
  },
  {
   "cell_type": "code",
   "execution_count": 131,
   "metadata": {},
   "outputs": [],
   "source": [
    "from keras.models import load_model\n",
    "model_in = load_model('../static/wbc_model.sav')\n",
    "from sklearn.preprocessing import MinMaxScaler\n",
    "scaler = MinMaxScaler(feature_range=(0,1))\n",
    "# Read in the CSV file\n",
    "\n",
    "wbcdump_sixty = pd.read_csv(\"../static/data/wbc.csv\")\n",
    "wbcdump_sixty = wbcdump_sixty.dropna()\n",
    "wbcdump_sixty = wbcdump_sixty.iloc[-4250:]\n",
    "sixty_val = wbcdump_sixty.iloc[-60:,4].values\n",
    "last_sixty = sixty_val.reshape(-1,1)\n",
    "\n",
    "price_list=[]\n",
    "\n",
    "#Function to predict future days predicted price, in loop\n",
    "input = 100 #days\n",
    "if input == \"\":\n",
    "    input = 100\n",
    "else:\n",
    "   input = int(input)\n",
    "\n",
    "def predict_wbc(last_sixty,model_in,input):\n",
    "    for i in range(1, input):\n",
    "\n",
    "        #Takes df and converts to model's predict shape\n",
    "        last_sixty_scaled = scaler.fit_transform(last_sixty)\n",
    "        new_X_tell = []\n",
    "        new_X_tell.append(last_sixty_scaled)\n",
    "        new_X_tell =np.array(new_X_tell)\n",
    "        new_X_tell =np.reshape(new_X_tell, (new_X_tell.shape[0], new_X_tell.shape[1],1))\n",
    "        \n",
    "        model_in_pd_scale = model_in.predict(new_X_tell)\n",
    "        model_in_price = scaler.inverse_transform(model_in_pd_scale) # New price predicted\n",
    "\n",
    "        last_sixty_less_one = np.delete(last_sixty, 0, 0)\n",
    "        last_sixty = np.append(last_sixty_less_one, model_in_price,axis = 0) # Update last 60\n",
    "        print(i)\n",
    "        print(\"Day finished! Price: \")\n",
    "        price_float = float(model_in_price)\n",
    "        price = round(price_float, 2)\n",
    "        price_list.append(price)\n",
    "    else:\n",
    "        print(\"Could not predict further!\")\n",
    "        print(input)\n",
    "    print(price_list)"
   ]
  },
  {
   "cell_type": "code",
   "execution_count": 132,
   "metadata": {},
   "outputs": [
    {
     "name": "stdout",
     "output_type": "stream",
     "text": [
      "1\n",
      "Day finished! Price: \n",
      "2\n",
      "Day finished! Price: \n",
      "3\n",
      "Day finished! Price: \n",
      "4\n",
      "Day finished! Price: \n",
      "5\n",
      "Day finished! Price: \n",
      "6\n",
      "Day finished! Price: \n",
      "7\n",
      "Day finished! Price: \n",
      "8\n",
      "Day finished! Price: \n",
      "9\n",
      "Day finished! Price: \n",
      "10\n",
      "Day finished! Price: \n",
      "11\n",
      "Day finished! Price: \n",
      "12\n",
      "Day finished! Price: \n",
      "13\n",
      "Day finished! Price: \n",
      "14\n",
      "Day finished! Price: \n",
      "15\n",
      "Day finished! Price: \n",
      "16\n",
      "Day finished! Price: \n",
      "17\n",
      "Day finished! Price: \n",
      "18\n",
      "Day finished! Price: \n",
      "19\n",
      "Day finished! Price: \n",
      "20\n",
      "Day finished! Price: \n",
      "21\n",
      "Day finished! Price: \n",
      "22\n",
      "Day finished! Price: \n",
      "23\n",
      "Day finished! Price: \n",
      "24\n",
      "Day finished! Price: \n",
      "25\n",
      "Day finished! Price: \n",
      "26\n",
      "Day finished! Price: \n",
      "27\n",
      "Day finished! Price: \n",
      "28\n",
      "Day finished! Price: \n",
      "29\n",
      "Day finished! Price: \n",
      "30\n",
      "Day finished! Price: \n",
      "31\n",
      "Day finished! Price: \n",
      "32\n",
      "Day finished! Price: \n",
      "33\n",
      "Day finished! Price: \n",
      "34\n",
      "Day finished! Price: \n",
      "35\n",
      "Day finished! Price: \n",
      "36\n",
      "Day finished! Price: \n",
      "37\n",
      "Day finished! Price: \n",
      "38\n",
      "Day finished! Price: \n",
      "39\n",
      "Day finished! Price: \n",
      "40\n",
      "Day finished! Price: \n",
      "41\n",
      "Day finished! Price: \n",
      "42\n",
      "Day finished! Price: \n",
      "43\n",
      "Day finished! Price: \n",
      "44\n",
      "Day finished! Price: \n",
      "45\n",
      "Day finished! Price: \n",
      "46\n",
      "Day finished! Price: \n",
      "47\n",
      "Day finished! Price: \n",
      "48\n",
      "Day finished! Price: \n",
      "49\n",
      "Day finished! Price: \n",
      "50\n",
      "Day finished! Price: \n",
      "51\n",
      "Day finished! Price: \n",
      "52\n",
      "Day finished! Price: \n",
      "53\n",
      "Day finished! Price: \n",
      "54\n",
      "Day finished! Price: \n",
      "55\n",
      "Day finished! Price: \n",
      "56\n",
      "Day finished! Price: \n",
      "57\n",
      "Day finished! Price: \n",
      "58\n",
      "Day finished! Price: \n",
      "59\n",
      "Day finished! Price: \n",
      "60\n",
      "Day finished! Price: \n",
      "61\n",
      "Day finished! Price: \n",
      "62\n",
      "Day finished! Price: \n",
      "63\n",
      "Day finished! Price: \n",
      "64\n",
      "Day finished! Price: \n",
      "65\n",
      "Day finished! Price: \n",
      "66\n",
      "Day finished! Price: \n",
      "67\n",
      "Day finished! Price: \n",
      "68\n",
      "Day finished! Price: \n",
      "69\n",
      "Day finished! Price: \n",
      "70\n",
      "Day finished! Price: \n",
      "71\n",
      "Day finished! Price: \n",
      "72\n",
      "Day finished! Price: \n",
      "73\n",
      "Day finished! Price: \n",
      "74\n",
      "Day finished! Price: \n",
      "75\n",
      "Day finished! Price: \n",
      "76\n",
      "Day finished! Price: \n",
      "77\n",
      "Day finished! Price: \n",
      "78\n",
      "Day finished! Price: \n",
      "79\n",
      "Day finished! Price: \n",
      "80\n",
      "Day finished! Price: \n",
      "81\n",
      "Day finished! Price: \n",
      "82\n",
      "Day finished! Price: \n",
      "83\n",
      "Day finished! Price: \n",
      "84\n",
      "Day finished! Price: \n",
      "85\n",
      "Day finished! Price: \n",
      "86\n",
      "Day finished! Price: \n",
      "87\n",
      "Day finished! Price: \n",
      "88\n",
      "Day finished! Price: \n",
      "89\n",
      "Day finished! Price: \n",
      "90\n",
      "Day finished! Price: \n",
      "91\n",
      "Day finished! Price: \n",
      "92\n",
      "Day finished! Price: \n",
      "93\n",
      "Day finished! Price: \n",
      "94\n",
      "Day finished! Price: \n",
      "95\n",
      "Day finished! Price: \n",
      "96\n",
      "Day finished! Price: \n",
      "97\n",
      "Day finished! Price: \n",
      "98\n",
      "Day finished! Price: \n",
      "99\n",
      "Day finished! Price: \n",
      "Could not predict further!\n",
      "100\n",
      "[19.87, 19.92, 19.96, 19.99, 20.01, 20.03, 20.03, 20.03, 20.02, 20.02, 20.01, 19.99, 19.98, 19.97, 19.96, 19.96, 19.95, 19.94, 19.94, 19.93, 19.93, 19.92, 19.92, 19.92, 19.92, 19.91, 19.91, 19.91, 19.91, 19.9, 19.9, 19.9, 19.9, 19.89, 19.89, 19.89, 19.88, 19.88, 19.88, 19.88, 19.87, 19.87, 19.87, 19.86, 19.86, 19.86, 19.85, 19.85, 19.85, 19.84, 19.84, 19.84, 19.84, 19.83, 19.83, 19.83, 19.83, 19.83, 19.83, 19.83, 19.83, 19.83, 19.83, 19.83, 19.83, 19.84, 19.84, 19.84, 19.84, 19.84, 19.84, 19.84, 19.84, 19.84, 19.84, 19.84, 19.84, 19.84, 19.84, 19.84, 19.84, 19.84, 19.84, 19.84, 19.84, 19.84, 19.84, 19.84, 19.84, 19.84, 19.84, 19.84, 19.84, 19.84, 19.84, 19.84, 19.84, 19.84, 19.84]\n"
     ]
    }
   ],
   "source": [
    "predict_wbc(last_sixty,model_in,input)"
   ]
  },
  {
   "cell_type": "code",
   "execution_count": 133,
   "metadata": {},
   "outputs": [
    {
     "data": {
      "text/html": [
       "<div>\n",
       "<style scoped>\n",
       "    .dataframe tbody tr th:only-of-type {\n",
       "        vertical-align: middle;\n",
       "    }\n",
       "\n",
       "    .dataframe tbody tr th {\n",
       "        vertical-align: top;\n",
       "    }\n",
       "\n",
       "    .dataframe thead th {\n",
       "        text-align: right;\n",
       "    }\n",
       "</style>\n",
       "<table border=\"1\" class=\"dataframe\">\n",
       "  <thead>\n",
       "    <tr style=\"text-align: right;\">\n",
       "      <th></th>\n",
       "      <th>Count</th>\n",
       "      <th>Date</th>\n",
       "      <th>DOW</th>\n",
       "    </tr>\n",
       "  </thead>\n",
       "  <tbody>\n",
       "    <tr>\n",
       "      <th>0</th>\n",
       "      <td>1</td>\n",
       "      <td>29/06/2022</td>\n",
       "      <td>Wednesday</td>\n",
       "    </tr>\n",
       "    <tr>\n",
       "      <th>1</th>\n",
       "      <td>2</td>\n",
       "      <td>30/06/2022</td>\n",
       "      <td>Thursday</td>\n",
       "    </tr>\n",
       "    <tr>\n",
       "      <th>2</th>\n",
       "      <td>3</td>\n",
       "      <td>1/07/2022</td>\n",
       "      <td>Friday</td>\n",
       "    </tr>\n",
       "    <tr>\n",
       "      <th>3</th>\n",
       "      <td>4</td>\n",
       "      <td>2/07/2022</td>\n",
       "      <td>Monday</td>\n",
       "    </tr>\n",
       "    <tr>\n",
       "      <th>4</th>\n",
       "      <td>5</td>\n",
       "      <td>3/07/2022</td>\n",
       "      <td>Tuesday</td>\n",
       "    </tr>\n",
       "    <tr>\n",
       "      <th>...</th>\n",
       "      <td>...</td>\n",
       "      <td>...</td>\n",
       "      <td>...</td>\n",
       "    </tr>\n",
       "    <tr>\n",
       "      <th>377</th>\n",
       "      <td>0</td>\n",
       "      <td>11/07/2023</td>\n",
       "      <td>Friday</td>\n",
       "    </tr>\n",
       "    <tr>\n",
       "      <th>378</th>\n",
       "      <td>0</td>\n",
       "      <td>12/07/2023</td>\n",
       "      <td>Monday</td>\n",
       "    </tr>\n",
       "    <tr>\n",
       "      <th>379</th>\n",
       "      <td>0</td>\n",
       "      <td>13/07/2023</td>\n",
       "      <td>Tuesday</td>\n",
       "    </tr>\n",
       "    <tr>\n",
       "      <th>380</th>\n",
       "      <td>0</td>\n",
       "      <td>14/07/2023</td>\n",
       "      <td>Wednesday</td>\n",
       "    </tr>\n",
       "    <tr>\n",
       "      <th>381</th>\n",
       "      <td>0</td>\n",
       "      <td>15/07/2023</td>\n",
       "      <td>Thursday</td>\n",
       "    </tr>\n",
       "  </tbody>\n",
       "</table>\n",
       "<p>382 rows × 3 columns</p>\n",
       "</div>"
      ],
      "text/plain": [
       "     Count        Date        DOW\n",
       "0        1  29/06/2022  Wednesday\n",
       "1        2  30/06/2022   Thursday\n",
       "2        3   1/07/2022     Friday\n",
       "3        4   2/07/2022     Monday\n",
       "4        5   3/07/2022    Tuesday\n",
       "..     ...         ...        ...\n",
       "377      0  11/07/2023     Friday\n",
       "378      0  12/07/2023     Monday\n",
       "379      0  13/07/2023    Tuesday\n",
       "380      0  14/07/2023  Wednesday\n",
       "381      0  15/07/2023   Thursday\n",
       "\n",
       "[382 rows x 3 columns]"
      ]
     },
     "execution_count": 133,
     "metadata": {},
     "output_type": "execute_result"
    }
   ],
   "source": [
    "import pandas as pd\n",
    "dates_df = pd.read_csv(\"../static/data/dates.csv\")\n",
    "dates_df['Count'] = dates_df['Count'].fillna(0).astype(int)\n",
    "dates_df"
   ]
  },
  {
   "cell_type": "code",
   "execution_count": 134,
   "metadata": {},
   "outputs": [
    {
     "name": "stderr",
     "output_type": "stream",
     "text": [
      "C:\\Users\\antoi\\AppData\\Local\\Temp/ipykernel_29824/2919172947.py:3: SettingWithCopyWarning: \n",
      "A value is trying to be set on a copy of a slice from a DataFrame.\n",
      "Try using .loc[row_indexer,col_indexer] = value instead\n",
      "\n",
      "See the caveats in the documentation: https://pandas.pydata.org/pandas-docs/stable/user_guide/indexing.html#returning-a-view-versus-a-copy\n",
      "  dates_df_iloc['Price'] = price_list\n"
     ]
    },
    {
     "data": {
      "text/plain": [
       "[{'Count': 1, 'Date': '29/06/2022', 'DOW': 'Wednesday', 'Price': 19.87},\n",
       " {'Count': 2, 'Date': '30/06/2022', 'DOW': 'Thursday', 'Price': 19.92},\n",
       " {'Count': 3, 'Date': '1/07/2022', 'DOW': 'Friday', 'Price': 19.96},\n",
       " {'Count': 4, 'Date': '2/07/2022', 'DOW': 'Monday', 'Price': 19.99},\n",
       " {'Count': 5, 'Date': '3/07/2022', 'DOW': 'Tuesday', 'Price': 20.01},\n",
       " {'Count': 6, 'Date': '4/07/2022', 'DOW': 'Wednesday', 'Price': 20.03},\n",
       " {'Count': 7, 'Date': '5/07/2022', 'DOW': 'Thursday', 'Price': 20.03},\n",
       " {'Count': 8, 'Date': '6/07/2022', 'DOW': 'Friday', 'Price': 20.03},\n",
       " {'Count': 9, 'Date': '7/07/2022', 'DOW': 'Monday', 'Price': 20.02},\n",
       " {'Count': 10, 'Date': '8/07/2022', 'DOW': 'Tuesday', 'Price': 20.02},\n",
       " {'Count': 11, 'Date': '9/07/2022', 'DOW': 'Wednesday', 'Price': 20.01},\n",
       " {'Count': 12, 'Date': '10/07/2022', 'DOW': 'Thursday', 'Price': 19.99},\n",
       " {'Count': 13, 'Date': '11/07/2022', 'DOW': 'Friday', 'Price': 19.98},\n",
       " {'Count': 14, 'Date': '12/07/2022', 'DOW': 'Monday', 'Price': 19.97},\n",
       " {'Count': 15, 'Date': '13/07/2022', 'DOW': 'Tuesday', 'Price': 19.96},\n",
       " {'Count': 16, 'Date': '14/07/2022', 'DOW': 'Wednesday', 'Price': 19.96},\n",
       " {'Count': 17, 'Date': '15/07/2022', 'DOW': 'Thursday', 'Price': 19.95},\n",
       " {'Count': 18, 'Date': '16/07/2022', 'DOW': 'Friday', 'Price': 19.94},\n",
       " {'Count': 19, 'Date': '17/07/2022', 'DOW': 'Monday', 'Price': 19.94},\n",
       " {'Count': 20, 'Date': '18/07/2022', 'DOW': 'Tuesday', 'Price': 19.93},\n",
       " {'Count': 21, 'Date': '19/07/2022', 'DOW': 'Wednesday', 'Price': 19.93},\n",
       " {'Count': 22, 'Date': '20/07/2022', 'DOW': 'Thursday', 'Price': 19.92},\n",
       " {'Count': 23, 'Date': '21/07/2022', 'DOW': 'Friday', 'Price': 19.92},\n",
       " {'Count': 24, 'Date': '22/07/2022', 'DOW': 'Monday', 'Price': 19.92},\n",
       " {'Count': 25, 'Date': '23/07/2022', 'DOW': 'Tuesday', 'Price': 19.92},\n",
       " {'Count': 26, 'Date': '24/07/2022', 'DOW': 'Wednesday', 'Price': 19.91},\n",
       " {'Count': 27, 'Date': '25/07/2022', 'DOW': 'Thursday', 'Price': 19.91},\n",
       " {'Count': 28, 'Date': '26/07/2022', 'DOW': 'Friday', 'Price': 19.91},\n",
       " {'Count': 29, 'Date': '27/07/2022', 'DOW': 'Monday', 'Price': 19.91},\n",
       " {'Count': 30, 'Date': '28/07/2022', 'DOW': 'Tuesday', 'Price': 19.9},\n",
       " {'Count': 31, 'Date': '29/07/2022', 'DOW': 'Wednesday', 'Price': 19.9},\n",
       " {'Count': 32, 'Date': '30/07/2022', 'DOW': 'Thursday', 'Price': 19.9},\n",
       " {'Count': 33, 'Date': '31/07/2022', 'DOW': 'Friday', 'Price': 19.9},\n",
       " {'Count': 34, 'Date': '1/08/2022', 'DOW': 'Monday', 'Price': 19.89},\n",
       " {'Count': 35, 'Date': '2/08/2022', 'DOW': 'Tuesday', 'Price': 19.89},\n",
       " {'Count': 36, 'Date': '3/08/2022', 'DOW': 'Wednesday', 'Price': 19.89},\n",
       " {'Count': 37, 'Date': '4/08/2022', 'DOW': 'Thursday', 'Price': 19.88},\n",
       " {'Count': 38, 'Date': '5/08/2022', 'DOW': 'Friday', 'Price': 19.88},\n",
       " {'Count': 39, 'Date': '6/08/2022', 'DOW': 'Monday', 'Price': 19.88},\n",
       " {'Count': 40, 'Date': '7/08/2022', 'DOW': 'Tuesday', 'Price': 19.88},\n",
       " {'Count': 41, 'Date': '8/08/2022', 'DOW': 'Wednesday', 'Price': 19.87},\n",
       " {'Count': 42, 'Date': '9/08/2022', 'DOW': 'Thursday', 'Price': 19.87},\n",
       " {'Count': 43, 'Date': '10/08/2022', 'DOW': 'Friday', 'Price': 19.87},\n",
       " {'Count': 44, 'Date': '11/08/2022', 'DOW': 'Monday', 'Price': 19.86},\n",
       " {'Count': 45, 'Date': '12/08/2022', 'DOW': 'Tuesday', 'Price': 19.86},\n",
       " {'Count': 46, 'Date': '13/08/2022', 'DOW': 'Wednesday', 'Price': 19.86},\n",
       " {'Count': 47, 'Date': '14/08/2022', 'DOW': 'Thursday', 'Price': 19.85},\n",
       " {'Count': 48, 'Date': '15/08/2022', 'DOW': 'Friday', 'Price': 19.85},\n",
       " {'Count': 49, 'Date': '16/08/2022', 'DOW': 'Monday', 'Price': 19.85},\n",
       " {'Count': 50, 'Date': '17/08/2022', 'DOW': 'Tuesday', 'Price': 19.84},\n",
       " {'Count': 51, 'Date': '18/08/2022', 'DOW': 'Wednesday', 'Price': 19.84},\n",
       " {'Count': 52, 'Date': '19/08/2022', 'DOW': 'Thursday', 'Price': 19.84},\n",
       " {'Count': 53, 'Date': '20/08/2022', 'DOW': 'Friday', 'Price': 19.84},\n",
       " {'Count': 54, 'Date': '21/08/2022', 'DOW': 'Monday', 'Price': 19.83},\n",
       " {'Count': 55, 'Date': '22/08/2022', 'DOW': 'Tuesday', 'Price': 19.83},\n",
       " {'Count': 56, 'Date': '23/08/2022', 'DOW': 'Wednesday', 'Price': 19.83},\n",
       " {'Count': 57, 'Date': '24/08/2022', 'DOW': 'Thursday', 'Price': 19.83},\n",
       " {'Count': 58, 'Date': '25/08/2022', 'DOW': 'Friday', 'Price': 19.83},\n",
       " {'Count': 59, 'Date': '26/08/2022', 'DOW': 'Monday', 'Price': 19.83},\n",
       " {'Count': 60, 'Date': '27/08/2022', 'DOW': 'Tuesday', 'Price': 19.83},\n",
       " {'Count': 61, 'Date': '28/08/2022', 'DOW': 'Wednesday', 'Price': 19.83},\n",
       " {'Count': 62, 'Date': '29/08/2022', 'DOW': 'Thursday', 'Price': 19.83},\n",
       " {'Count': 63, 'Date': '30/08/2022', 'DOW': 'Friday', 'Price': 19.83},\n",
       " {'Count': 64, 'Date': '31/08/2022', 'DOW': 'Monday', 'Price': 19.83},\n",
       " {'Count': 65, 'Date': '1/09/2022', 'DOW': 'Tuesday', 'Price': 19.83},\n",
       " {'Count': 66, 'Date': '2/09/2022', 'DOW': 'Wednesday', 'Price': 19.84},\n",
       " {'Count': 67, 'Date': '3/09/2022', 'DOW': 'Thursday', 'Price': 19.84},\n",
       " {'Count': 68, 'Date': '4/09/2022', 'DOW': 'Friday', 'Price': 19.84},\n",
       " {'Count': 69, 'Date': '5/09/2022', 'DOW': 'Monday', 'Price': 19.84},\n",
       " {'Count': 70, 'Date': '6/09/2022', 'DOW': 'Tuesday', 'Price': 19.84},\n",
       " {'Count': 71, 'Date': '7/09/2022', 'DOW': 'Wednesday', 'Price': 19.84},\n",
       " {'Count': 72, 'Date': '8/09/2022', 'DOW': 'Thursday', 'Price': 19.84},\n",
       " {'Count': 73, 'Date': '9/09/2022', 'DOW': 'Friday', 'Price': 19.84},\n",
       " {'Count': 74, 'Date': '10/09/2022', 'DOW': 'Monday', 'Price': 19.84},\n",
       " {'Count': 75, 'Date': '11/09/2022', 'DOW': 'Tuesday', 'Price': 19.84},\n",
       " {'Count': 76, 'Date': '12/09/2022', 'DOW': 'Wednesday', 'Price': 19.84},\n",
       " {'Count': 77, 'Date': '13/09/2022', 'DOW': 'Thursday', 'Price': 19.84},\n",
       " {'Count': 78, 'Date': '14/09/2022', 'DOW': 'Friday', 'Price': 19.84},\n",
       " {'Count': 79, 'Date': '15/09/2022', 'DOW': 'Monday', 'Price': 19.84},\n",
       " {'Count': 80, 'Date': '16/09/2022', 'DOW': 'Tuesday', 'Price': 19.84},\n",
       " {'Count': 81, 'Date': '17/09/2022', 'DOW': 'Wednesday', 'Price': 19.84},\n",
       " {'Count': 82, 'Date': '18/09/2022', 'DOW': 'Thursday', 'Price': 19.84},\n",
       " {'Count': 83, 'Date': '19/09/2022', 'DOW': 'Friday', 'Price': 19.84},\n",
       " {'Count': 84, 'Date': '20/09/2022', 'DOW': 'Monday', 'Price': 19.84},\n",
       " {'Count': 85, 'Date': '21/09/2022', 'DOW': 'Tuesday', 'Price': 19.84},\n",
       " {'Count': 86, 'Date': '22/09/2022', 'DOW': 'Wednesday', 'Price': 19.84},\n",
       " {'Count': 87, 'Date': '23/09/2022', 'DOW': 'Thursday', 'Price': 19.84},\n",
       " {'Count': 88, 'Date': '24/09/2022', 'DOW': 'Friday', 'Price': 19.84},\n",
       " {'Count': 89, 'Date': '25/09/2022', 'DOW': 'Monday', 'Price': 19.84},\n",
       " {'Count': 90, 'Date': '26/09/2022', 'DOW': 'Tuesday', 'Price': 19.84},\n",
       " {'Count': 91, 'Date': '27/09/2022', 'DOW': 'Wednesday', 'Price': 19.84},\n",
       " {'Count': 92, 'Date': '28/09/2022', 'DOW': 'Thursday', 'Price': 19.84},\n",
       " {'Count': 93, 'Date': '29/09/2022', 'DOW': 'Friday', 'Price': 19.84},\n",
       " {'Count': 94, 'Date': '30/09/2022', 'DOW': 'Monday', 'Price': 19.84},\n",
       " {'Count': 95, 'Date': '1/10/2022', 'DOW': 'Tuesday', 'Price': 19.84},\n",
       " {'Count': 96, 'Date': '2/10/2022', 'DOW': 'Wednesday', 'Price': 19.84},\n",
       " {'Count': 97, 'Date': '3/10/2022', 'DOW': 'Thursday', 'Price': 19.84},\n",
       " {'Count': 98, 'Date': '4/10/2022', 'DOW': 'Friday', 'Price': 19.84},\n",
       " {'Count': 99, 'Date': '5/10/2022', 'DOW': 'Monday', 'Price': 19.84}]"
      ]
     },
     "execution_count": 134,
     "metadata": {},
     "output_type": "execute_result"
    }
   ],
   "source": [
    "#Append the input amount of trading days to dates dictionary\n",
    "dates_df_iloc = dates_df.iloc[0:input-1]\n",
    "dates_df_iloc['Price'] = price_list\n",
    "my_dict = dates_df_iloc.to_dict(orient='records')\n",
    "my_dict"
   ]
  },
  {
   "cell_type": "code",
   "execution_count": 135,
   "metadata": {},
   "outputs": [
    {
     "data": {
      "text/plain": [
       "[{'Price': 19.87},\n",
       " {'Price': 19.92},\n",
       " {'Price': 19.96},\n",
       " {'Price': 19.99},\n",
       " {'Price': 20.01},\n",
       " {'Price': 20.03},\n",
       " {'Price': 20.03},\n",
       " {'Price': 20.03},\n",
       " {'Price': 20.02},\n",
       " {'Price': 20.02},\n",
       " {'Price': 20.01},\n",
       " {'Price': 19.99},\n",
       " {'Price': 19.98},\n",
       " {'Price': 19.97},\n",
       " {'Price': 19.96},\n",
       " {'Price': 19.96},\n",
       " {'Price': 19.95},\n",
       " {'Price': 19.94},\n",
       " {'Price': 19.94},\n",
       " {'Price': 19.93},\n",
       " {'Price': 19.93},\n",
       " {'Price': 19.92},\n",
       " {'Price': 19.92},\n",
       " {'Price': 19.92},\n",
       " {'Price': 19.92},\n",
       " {'Price': 19.91},\n",
       " {'Price': 19.91},\n",
       " {'Price': 19.91},\n",
       " {'Price': 19.91},\n",
       " {'Price': 19.9},\n",
       " {'Price': 19.9},\n",
       " {'Price': 19.9},\n",
       " {'Price': 19.9},\n",
       " {'Price': 19.89},\n",
       " {'Price': 19.89},\n",
       " {'Price': 19.89},\n",
       " {'Price': 19.88},\n",
       " {'Price': 19.88},\n",
       " {'Price': 19.88},\n",
       " {'Price': 19.88},\n",
       " {'Price': 19.87},\n",
       " {'Price': 19.87},\n",
       " {'Price': 19.87},\n",
       " {'Price': 19.86},\n",
       " {'Price': 19.86},\n",
       " {'Price': 19.86},\n",
       " {'Price': 19.85},\n",
       " {'Price': 19.85},\n",
       " {'Price': 19.85},\n",
       " {'Price': 19.84},\n",
       " {'Price': 19.84},\n",
       " {'Price': 19.84},\n",
       " {'Price': 19.84},\n",
       " {'Price': 19.83},\n",
       " {'Price': 19.83},\n",
       " {'Price': 19.83},\n",
       " {'Price': 19.83},\n",
       " {'Price': 19.83},\n",
       " {'Price': 19.83},\n",
       " {'Price': 19.83},\n",
       " {'Price': 19.83},\n",
       " {'Price': 19.83},\n",
       " {'Price': 19.83},\n",
       " {'Price': 19.83},\n",
       " {'Price': 19.83},\n",
       " {'Price': 19.84},\n",
       " {'Price': 19.84},\n",
       " {'Price': 19.84},\n",
       " {'Price': 19.84},\n",
       " {'Price': 19.84},\n",
       " {'Price': 19.84},\n",
       " {'Price': 19.84},\n",
       " {'Price': 19.84},\n",
       " {'Price': 19.84},\n",
       " {'Price': 19.84},\n",
       " {'Price': 19.84},\n",
       " {'Price': 19.84},\n",
       " {'Price': 19.84},\n",
       " {'Price': 19.84},\n",
       " {'Price': 19.84},\n",
       " {'Price': 19.84},\n",
       " {'Price': 19.84},\n",
       " {'Price': 19.84},\n",
       " {'Price': 19.84},\n",
       " {'Price': 19.84},\n",
       " {'Price': 19.84},\n",
       " {'Price': 19.84},\n",
       " {'Price': 19.84},\n",
       " {'Price': 19.84},\n",
       " {'Price': 19.84},\n",
       " {'Price': 19.84},\n",
       " {'Price': 19.84},\n",
       " {'Price': 19.84},\n",
       " {'Price': 19.84},\n",
       " {'Price': 19.84},\n",
       " {'Price': 19.84},\n",
       " {'Price': 19.84},\n",
       " {'Price': 19.84},\n",
       " {'Price': 19.84}]"
      ]
     },
     "execution_count": 135,
     "metadata": {},
     "output_type": "execute_result"
    }
   ],
   "source": [
    "price_dict = [dict(zip(['Price'],[x])) for x in price_list]\n",
    "price_dict"
   ]
  },
  {
   "cell_type": "code",
   "execution_count": 136,
   "metadata": {},
   "outputs": [
    {
     "name": "stdout",
     "output_type": "stream",
     "text": [
      "4554 5692 5792\n"
     ]
    },
    {
     "data": {
      "text/html": [
       "<div>\n",
       "<style scoped>\n",
       "    .dataframe tbody tr th:only-of-type {\n",
       "        vertical-align: middle;\n",
       "    }\n",
       "\n",
       "    .dataframe tbody tr th {\n",
       "        vertical-align: top;\n",
       "    }\n",
       "\n",
       "    .dataframe thead th {\n",
       "        text-align: right;\n",
       "    }\n",
       "</style>\n",
       "<table border=\"1\" class=\"dataframe\">\n",
       "  <thead>\n",
       "    <tr style=\"text-align: right;\">\n",
       "      <th></th>\n",
       "      <th>Close</th>\n",
       "    </tr>\n",
       "  </thead>\n",
       "  <tbody>\n",
       "    <tr>\n",
       "      <th>5781</th>\n",
       "      <td>19.84</td>\n",
       "    </tr>\n",
       "    <tr>\n",
       "      <th>5782</th>\n",
       "      <td>19.84</td>\n",
       "    </tr>\n",
       "    <tr>\n",
       "      <th>5783</th>\n",
       "      <td>19.84</td>\n",
       "    </tr>\n",
       "    <tr>\n",
       "      <th>5784</th>\n",
       "      <td>19.84</td>\n",
       "    </tr>\n",
       "    <tr>\n",
       "      <th>5785</th>\n",
       "      <td>19.84</td>\n",
       "    </tr>\n",
       "    <tr>\n",
       "      <th>5786</th>\n",
       "      <td>19.84</td>\n",
       "    </tr>\n",
       "    <tr>\n",
       "      <th>5787</th>\n",
       "      <td>19.84</td>\n",
       "    </tr>\n",
       "    <tr>\n",
       "      <th>5788</th>\n",
       "      <td>19.84</td>\n",
       "    </tr>\n",
       "    <tr>\n",
       "      <th>5789</th>\n",
       "      <td>19.84</td>\n",
       "    </tr>\n",
       "    <tr>\n",
       "      <th>5790</th>\n",
       "      <td>19.84</td>\n",
       "    </tr>\n",
       "  </tbody>\n",
       "</table>\n",
       "</div>"
      ],
      "text/plain": [
       "      Close\n",
       "5781  19.84\n",
       "5782  19.84\n",
       "5783  19.84\n",
       "5784  19.84\n",
       "5785  19.84\n",
       "5786  19.84\n",
       "5787  19.84\n",
       "5788  19.84\n",
       "5789  19.84\n",
       "5790  19.84"
      ]
     },
     "execution_count": 136,
     "metadata": {},
     "output_type": "execute_result"
    }
   ],
   "source": [
    "# DRAW THE PREDICTION\n",
    "df_len = len(df.index) # length of the original dataframe\n",
    "col_name = ['Close']\n",
    "df_filtered = df.filter(col_name)\n",
    "df_filtered_len = len(df_filtered.index)\n",
    "df_filtered_len\n",
    "len_pred_df = df_filtered_len+input # length of the original dataframe plus the users new inputs\n",
    "print(train_data_len,df_len,len_pred_df)\n",
    "new_data =df_filtered.append(pd.DataFrame(price_list,columns=col_name),ignore_index=True)\n",
    "new_data.tail(10)"
   ]
  },
  {
   "cell_type": "code",
   "execution_count": 137,
   "metadata": {},
   "outputs": [
    {
     "name": "stderr",
     "output_type": "stream",
     "text": [
      "C:\\Users\\antoi\\AppData\\Local\\Temp/ipykernel_29824/972127207.py:6: SettingWithCopyWarning: \n",
      "A value is trying to be set on a copy of a slice from a DataFrame.\n",
      "Try using .loc[row_indexer,col_indexer] = value instead\n",
      "\n",
      "See the caveats in the documentation: https://pandas.pydata.org/pandas-docs/stable/user_guide/indexing.html#returning-a-view-versus-a-copy\n",
      "  valid['Predictions'] = predictions # another column for validating test\n"
     ]
    },
    {
     "data": {
      "image/png": "[encoded data removed]",
      "text/plain": [
       "<Figure size 1152x576 with 1 Axes>"
      ]
     },
     "metadata": {},
     "output_type": "display_data"
    }
   ],
   "source": [
    "#Plot the data to validate the test data\n",
    "\n",
    "plt.style.use('fivethirtyeight')\n",
    "train = new_data.iloc[:train_data_len] # actual train data from 0 rows until train data end\n",
    "valid = new_data.iloc[train_data_len:df_len] # actual test data from train data end until end of all sampled data\n",
    "valid['Predictions'] = predictions # another column for validating test\n",
    "predict = new_data.iloc[df_len:len_pred_df] # user prediction data from loop\n",
    "\n",
    "plt.figure(figsize=(16,8))\n",
    "plt.title('PREDICTED WBC Share Price LSTM Model')\n",
    "plt.xlabel('Trading Date', fontsize=18)\n",
    "plt.ylabel('Close Price AUD ($)',fontsize=18)\n",
    "plt.plot(train['Close'])\n",
    "plt.plot(valid[['Close','Predictions']])\n",
    "plt.plot(predict['Close'])\n",
    "plt.legend(['Training data','Tested data','Validate test data','Prediction'],loc='lower right')\n",
    "x = np.arange(2000,2024,4)\n",
    "plt.xticks([0,1000,2000,3000,4000,5000],x)\n",
    "plt.savefig('../static/data/images/wbc_predict_graph.png')\n",
    "plt.show()"
   ]
  },
  {
   "cell_type": "code",
   "execution_count": null,
   "metadata": {},
   "outputs": [],
   "source": []
  },
  {
   "cell_type": "markdown",
   "metadata": {},
   "source": [
    "#Save predicted price to MongoDB"
   ]
  },
  {
   "cell_type": "code",
   "execution_count": 138,
   "metadata": {},
   "outputs": [],
   "source": [
    "# Module used to connect Python with MongoDb\n",
    "import pymongo"
   ]
  },
  {
   "cell_type": "code",
   "execution_count": 139,
   "metadata": {},
   "outputs": [],
   "source": [
    "# The default port used by MongoDB is 27017\n",
    "# https://docs.mongodb.com/manual/reference/default-mongodb-port/\n",
    "conn = 'mongodb://localhost:27017'\n",
    "client = pymongo.MongoClient(conn)\n",
    "\n",
    "# Define the 'sharesDB' database in Mongo\n",
    "db = client.sharesDB.companys"
   ]
  },
  {
   "cell_type": "code",
   "execution_count": 140,
   "metadata": {},
   "outputs": [
    {
     "name": "stdout",
     "output_type": "stream",
     "text": [
      "{'_id': ObjectId('62bbaebc940901ee4c7522f2'), 'model': 'LSTM', 'name': 'BHP', 'date': '28/06/2022', 'predicted': 41, 'actual': 42, 'differece': -1, 'rmse': 0.53768}\n",
      "{'_id': ObjectId('62bbb5d8d8978fe40ad3d64c'), 'model': 'LSTM', 'name': 'CBA', 'date': '28/06/2022', 'predicted': 91, 'actual': 93, 'differece': -2, 'rmse': 0.33103}\n",
      "{'_id': ObjectId('62bbc4728f600c8c92330dab'), 'model': 'LSTM', 'name': 'CSL', 'date': '28/06/2022', 'predicted': 248, 'actual': 274, 'differece': -26, 'rmse': 16.33896}\n",
      "{'_id': ObjectId('62bbc7cb193d5e9ca1048e2b'), 'model': 'LSTM', 'name': 'NAB', 'date': '28/06/2022', 'predicted': 27, 'actual': 27, 'differece': 0, 'rmse': 0.32984}\n",
      "{'_id': ObjectId('62bbc9b3cc73d07c34c73fb9'), 'model': 'LSTM', 'name': 'WBC', 'date': '28/06/2022', 'predicted': 20, 'actual': 19, 'differece': 1, 'rmse': 0.60777}\n"
     ]
    }
   ],
   "source": [
    "# Query all\n",
    "companys = db.find()\n",
    "# Iterate through each company in the collection\n",
    "for company in companys:\n",
    "    print(company)\n",
    "\n",
    "# Here, db.companys refers to the collection 'companys '\n",
    "# company_nab = db.find_one({'name': 'NAB'})\n",
    "# print(company_nab)\n"
   ]
  },
  {
   "cell_type": "code",
   "execution_count": 141,
   "metadata": {},
   "outputs": [
    {
     "name": "stdout",
     "output_type": "stream",
     "text": [
      "{'_id': ObjectId('62bbaebc940901ee4c7522f2'), 'model': 'LSTM', 'name': 'BHP', 'date': '28/06/2022', 'predicted': 41, 'actual': 42, 'differece': -1, 'rmse': 0.53768}\n",
      "{'_id': ObjectId('62bbb5d8d8978fe40ad3d64c'), 'model': 'LSTM', 'name': 'CBA', 'date': '28/06/2022', 'predicted': 91, 'actual': 93, 'differece': -2, 'rmse': 0.33103}\n",
      "{'_id': ObjectId('62bbc4728f600c8c92330dab'), 'model': 'LSTM', 'name': 'CSL', 'date': '28/06/2022', 'predicted': 248, 'actual': 274, 'differece': -26, 'rmse': 16.33896}\n",
      "{'_id': ObjectId('62bbc7cb193d5e9ca1048e2b'), 'model': 'LSTM', 'name': 'NAB', 'date': '28/06/2022', 'predicted': 27, 'actual': 27, 'differece': 0, 'rmse': 0.32984}\n"
     ]
    }
   ],
   "source": [
    "# Delete a document from a collection\n",
    "db.delete_one(\n",
    "    {'name': 'WBC'}\n",
    ")\n",
    "\n",
    "# query the companys collection\n",
    "companys = db.find()\n",
    "# see change in the collection\n",
    "for company in companys:\n",
    "    print(company)"
   ]
  },
  {
   "cell_type": "code",
   "execution_count": 142,
   "metadata": {},
   "outputs": [
    {
     "name": "stdout",
     "output_type": "stream",
     "text": [
      "date 28/06/2022,predicted 19,actual 19, difference 0, rmse 0.15231\n"
     ]
    }
   ],
   "source": [
    "# Set keys and values of company\n",
    "name = 'WBC'\n",
    "predicted = int(pred_price)\n",
    "difference = pred_price-actual_price\n",
    "print(f'date {actual_date},predicted {predicted},actual {actual_price}, difference {difference}, rmse {round(rmse,5)}')"
   ]
  },
  {
   "cell_type": "code",
   "execution_count": 143,
   "metadata": {},
   "outputs": [
    {
     "name": "stdout",
     "output_type": "stream",
     "text": [
      "{'_id': ObjectId('62bbaebc940901ee4c7522f2'), 'model': 'LSTM', 'name': 'BHP', 'date': '28/06/2022', 'predicted': 41, 'actual': 42, 'differece': -1, 'rmse': 0.53768}\n",
      "{'_id': ObjectId('62bbb5d8d8978fe40ad3d64c'), 'model': 'LSTM', 'name': 'CBA', 'date': '28/06/2022', 'predicted': 91, 'actual': 93, 'differece': -2, 'rmse': 0.33103}\n",
      "{'_id': ObjectId('62bbc4728f600c8c92330dab'), 'model': 'LSTM', 'name': 'CSL', 'date': '28/06/2022', 'predicted': 248, 'actual': 274, 'differece': -26, 'rmse': 16.33896}\n",
      "{'_id': ObjectId('62bbc7cb193d5e9ca1048e2b'), 'model': 'LSTM', 'name': 'NAB', 'date': '28/06/2022', 'predicted': 27, 'actual': 27, 'differece': 0, 'rmse': 0.32984}\n",
      "{'_id': ObjectId('62bbca7acc73d07c34c73fbb'), 'model': 'LSTM', 'name': 'WBC', 'date': '28/06/2022', 'predicted': 19, 'actual': 19, 'differece': 0, 'rmse': 0.15231}\n"
     ]
    }
   ],
   "source": [
    "# Insert a document into the 'companys' collection\n",
    "db.insert_one(\n",
    "    {\n",
    "      'model': 'LSTM',\n",
    "      'name': name,\n",
    "      'date': actual_date,\n",
    "      'predicted': predicted,\n",
    "      'actual': actual_price,\n",
    "      'differece': difference,\n",
    "      'rmse': round(rmse,5)        \n",
    "    }\n",
    ")\n",
    "\n",
    "# query the classroom collection\n",
    "companys = db.find()\n",
    "\n",
    "# see change in collection\n",
    "for company in companys:\n",
    "    print(company)"
   ]
  },
  {
   "cell_type": "code",
   "execution_count": 144,
   "metadata": {},
   "outputs": [],
   "source": [
    "# from pymongo import MongoClient\n",
    "# mongoClient = MongoClient()\n",
    "# db = mongoClient.sharesDB\n",
    "# db.wbc.drop()\n",
    "\n",
    "# import csv\n",
    "# header = [\"Date\",\"Open\",\"High\",\"Low\",\"Close\",\"Adj Close\",\"Volume\",\"SENTIMENT\",\"RBA\",\"FED\"]\n",
    "# csvfile = open('../static/data/wbc.csv', 'r')\n",
    "# reader = csv.DictReader( csvfile )\n",
    "\n",
    "# for each in reader:\n",
    "#     row={}\n",
    "#     for field in header:\n",
    "#         row[field]=each[field]\n",
    "        \n",
    "#     print (row)\n",
    "#     db.wbc.insert_one(row)\t\t\t\t "
   ]
  },
  {
   "cell_type": "code",
   "execution_count": 145,
   "metadata": {},
   "outputs": [],
   "source": [
    "# # query the collection\n",
    "# wbcs = db.wbc.find()\n",
    "\n",
    "# # see change in collection\n",
    "# for wbc in wbcs:\n",
    "#     print(wbc)"
   ]
  }
 ],
 "metadata": {
  "kernel_info": {
   "name": "dev"
  },
  "kernelspec": {
   "display_name": "Python 3.9.7 ('base')",
   "language": "python",
   "name": "python3"
  },
  "language_info": {
   "codemirror_mode": {
    "name": "ipython",
    "version": 3
   },
   "file_extension": ".py",
   "mimetype": "text/x-python",
   "name": "python",
   "nbconvert_exporter": "python",
   "pygments_lexer": "ipython3",
   "version": "3.9.7"
  },
  "nteract": {
   "version": "0.12.3"
  },
  "vscode": {
   "interpreter": {
    "hash": "45bb1cb4637e4034484920e5cfb24c9afd84b0847d6c36e39edd3067d3a05462"
   }
  }
 },
 "nbformat": 4,
 "nbformat_minor": 2
}
