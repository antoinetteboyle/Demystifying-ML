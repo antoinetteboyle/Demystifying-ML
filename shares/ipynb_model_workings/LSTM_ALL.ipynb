{
 "cells": [
  {
   "cell_type": "markdown",
   "metadata": {},
   "source": [
    "#This model uses LSTM to predict a Daily share price movements based on time series and batches of 60 days"
   ]
  },
  {
   "cell_type": "markdown",
   "metadata": {},
   "source": [
    "# Read the CSV and Perform Basic Data Cleaning"
   ]
  },
  {
   "cell_type": "code",
   "execution_count": 1,
   "metadata": {},
   "outputs": [],
   "source": [
    "import matplotlib.pyplot as plt\n",
    "import numpy as np\n",
    "import pandas as pd"
   ]
  },
  {
   "cell_type": "code",
   "execution_count": 2,
   "metadata": {},
   "outputs": [
    {
     "data": {
      "text/html": [
       "<div>\n",
       "<style scoped>\n",
       "    .dataframe tbody tr th:only-of-type {\n",
       "        vertical-align: middle;\n",
       "    }\n",
       "\n",
       "    .dataframe tbody tr th {\n",
       "        vertical-align: top;\n",
       "    }\n",
       "\n",
       "    .dataframe thead th {\n",
       "        text-align: right;\n",
       "    }\n",
       "</style>\n",
       "<table border=\"1\" class=\"dataframe\">\n",
       "  <thead>\n",
       "    <tr style=\"text-align: right;\">\n",
       "      <th></th>\n",
       "      <th>Date</th>\n",
       "      <th>Open</th>\n",
       "      <th>High</th>\n",
       "      <th>Low</th>\n",
       "      <th>Close</th>\n",
       "      <th>Adj Close</th>\n",
       "      <th>Volume</th>\n",
       "      <th>RBA</th>\n",
       "      <th>FED</th>\n",
       "      <th>CPI</th>\n",
       "    </tr>\n",
       "  </thead>\n",
       "  <tbody>\n",
       "    <tr>\n",
       "      <th>6639</th>\n",
       "      <td>28/07/2022</td>\n",
       "      <td>36.389999</td>\n",
       "      <td>36.439999</td>\n",
       "      <td>35.380001</td>\n",
       "      <td>36.020000</td>\n",
       "      <td>36.020000</td>\n",
       "      <td>1622984.0</td>\n",
       "      <td>1.35</td>\n",
       "      <td>2.5</td>\n",
       "      <td>125.0</td>\n",
       "    </tr>\n",
       "    <tr>\n",
       "      <th>6640</th>\n",
       "      <td>29/07/2022</td>\n",
       "      <td>36.400002</td>\n",
       "      <td>36.400002</td>\n",
       "      <td>35.259998</td>\n",
       "      <td>35.299999</td>\n",
       "      <td>35.299999</td>\n",
       "      <td>1999143.0</td>\n",
       "      <td>1.35</td>\n",
       "      <td>2.5</td>\n",
       "      <td>125.0</td>\n",
       "    </tr>\n",
       "    <tr>\n",
       "      <th>6641</th>\n",
       "      <td>1/08/2022</td>\n",
       "      <td>35.349998</td>\n",
       "      <td>35.549999</td>\n",
       "      <td>35.099998</td>\n",
       "      <td>35.209999</td>\n",
       "      <td>35.209999</td>\n",
       "      <td>1910979.0</td>\n",
       "      <td>1.35</td>\n",
       "      <td>2.5</td>\n",
       "      <td>125.0</td>\n",
       "    </tr>\n",
       "    <tr>\n",
       "      <th>6642</th>\n",
       "      <td>2/08/2022</td>\n",
       "      <td>35.119999</td>\n",
       "      <td>35.450001</td>\n",
       "      <td>34.840000</td>\n",
       "      <td>35.320000</td>\n",
       "      <td>35.320000</td>\n",
       "      <td>2274146.0</td>\n",
       "      <td>1.35</td>\n",
       "      <td>2.5</td>\n",
       "      <td>125.0</td>\n",
       "    </tr>\n",
       "    <tr>\n",
       "      <th>6643</th>\n",
       "      <td>3/08/2022</td>\n",
       "      <td>35.320000</td>\n",
       "      <td>35.709999</td>\n",
       "      <td>35.169998</td>\n",
       "      <td>35.680000</td>\n",
       "      <td>35.680000</td>\n",
       "      <td>222870.0</td>\n",
       "      <td>1.85</td>\n",
       "      <td>2.5</td>\n",
       "      <td>125.0</td>\n",
       "    </tr>\n",
       "  </tbody>\n",
       "</table>\n",
       "</div>"
      ],
      "text/plain": [
       "            Date       Open       High        Low      Close  Adj Close  \\\n",
       "6639  28/07/2022  36.389999  36.439999  35.380001  36.020000  36.020000   \n",
       "6640  29/07/2022  36.400002  36.400002  35.259998  35.299999  35.299999   \n",
       "6641   1/08/2022  35.349998  35.549999  35.099998  35.209999  35.209999   \n",
       "6642   2/08/2022  35.119999  35.450001  34.840000  35.320000  35.320000   \n",
       "6643   3/08/2022  35.320000  35.709999  35.169998  35.680000  35.680000   \n",
       "\n",
       "         Volume   RBA  FED    CPI  \n",
       "6639  1622984.0  1.35  2.5  125.0  \n",
       "6640  1999143.0  1.35  2.5  125.0  \n",
       "6641  1910979.0  1.35  2.5  125.0  \n",
       "6642  2274146.0  1.35  2.5  125.0  \n",
       "6643   222870.0  1.85  2.5  125.0  "
      ]
     },
     "execution_count": 2,
     "metadata": {},
     "output_type": "execute_result"
    }
   ],
   "source": [
    "df_stock1 = pd.read_csv(\"../static/data/all.csv\")\n",
    "# Drop the null columns where all values are null\n",
    "df_stock2 = df_stock1.dropna(axis='columns', how='all')\n",
    "# Drop the null rows\n",
    "df = df_stock2.dropna()\n",
    "# Drop the last rows to test prediction to actual\n",
    "df_stock_less1= df_stock2.iloc[:-1,:]\n",
    "df.tail()"
   ]
  },
  {
   "cell_type": "code",
   "execution_count": 3,
   "metadata": {},
   "outputs": [],
   "source": [
    "# Connect to MongoDb\n",
    "from pymongo import MongoClient\n",
    "mongoClient = MongoClient()\n",
    "db = mongoClient.sharesDB\n",
    "\n",
    "# # Drop all previous records now in MongoDb\n",
    "# db.all.drop()\n",
    "\n",
    "# # Insert df records in mongodb\n",
    "# records=df.to_dict('records')\n",
    "# records\n",
    "# db.all.insert_many(records)"
   ]
  },
  {
   "cell_type": "code",
   "execution_count": 4,
   "metadata": {},
   "outputs": [
    {
     "name": "stdout",
     "output_type": "stream",
     "text": [
      "DELETE: 29/08/2022 35.099998474121094\n"
     ]
    },
    {
     "data": {
      "text/plain": [
       "<pymongo.results.DeleteResult at 0x24b0c5491c0>"
      ]
     },
     "execution_count": 4,
     "metadata": {},
     "output_type": "execute_result"
    }
   ],
   "source": [
    "#Update latest data in mongoDb\n",
    "df_mongo = pd.DataFrame(list(db.all.find()))\n",
    "last_val = df_mongo.iloc[-1:].values\n",
    "\n",
    "last_date = last_val[0][1]\n",
    "last_close = last_val[0][5]\n",
    "print(\"DELETE: \"+last_date,last_close)\n",
    "\n",
    "db.all.delete_one(\n",
    "    {'Date': last_date}\n",
    ")\n",
    "\n"
   ]
  },
  {
   "cell_type": "code",
   "execution_count": 5,
   "metadata": {},
   "outputs": [
    {
     "name": "stdout",
     "output_type": "stream",
     "text": [
      "NEW LAST VALUE IN MONGODB: 26/08/2022 35.959999084472656\n",
      "Previous last date in MongoDb: 26-08-2022. Today's date: 01-09-2022\n"
     ]
    }
   ],
   "source": [
    "#Update latest data in mongoDb\n",
    "df_mongo = pd.DataFrame(list(db.all.find()))\n",
    "last_val = df_mongo.iloc[-1:].values\n",
    "\n",
    "last_date = last_val[0][1]\n",
    "last_close = last_val[0][5]\n",
    "print(\"NEW LAST VALUE IN MONGODB: \"+last_date,last_close)\n",
    "\n",
    "from datetime import date,datetime\n",
    "todaydt = date.today()\n",
    "today=todaydt.strftime('%d-%m-%Y')\n",
    "from_date = datetime.strptime(last_date, '%d/%m/%Y')\n",
    "last_date=from_date.strftime('%d-%m-%Y')\n",
    "print(\"Previous last date in MongoDb: \"+last_date+\". Today's date: \"+today)"
   ]
  },
  {
   "cell_type": "code",
   "execution_count": 6,
   "metadata": {},
   "outputs": [
    {
     "data": {
      "text/html": [
       "<div>\n",
       "<style scoped>\n",
       "    .dataframe tbody tr th:only-of-type {\n",
       "        vertical-align: middle;\n",
       "    }\n",
       "\n",
       "    .dataframe tbody tr th {\n",
       "        vertical-align: top;\n",
       "    }\n",
       "\n",
       "    .dataframe thead th {\n",
       "        text-align: right;\n",
       "    }\n",
       "</style>\n",
       "<table border=\"1\" class=\"dataframe\">\n",
       "  <thead>\n",
       "    <tr style=\"text-align: right;\">\n",
       "      <th></th>\n",
       "      <th>High</th>\n",
       "      <th>Low</th>\n",
       "      <th>Open</th>\n",
       "      <th>Close</th>\n",
       "      <th>Volume</th>\n",
       "      <th>Adj Close</th>\n",
       "    </tr>\n",
       "    <tr>\n",
       "      <th>Date</th>\n",
       "      <th></th>\n",
       "      <th></th>\n",
       "      <th></th>\n",
       "      <th></th>\n",
       "      <th></th>\n",
       "      <th></th>\n",
       "    </tr>\n",
       "  </thead>\n",
       "  <tbody>\n",
       "    <tr>\n",
       "      <th>2022-08-26</th>\n",
       "      <td>36.240002</td>\n",
       "      <td>35.650002</td>\n",
       "      <td>36.009998</td>\n",
       "      <td>35.959999</td>\n",
       "      <td>1035840</td>\n",
       "      <td>35.959999</td>\n",
       "    </tr>\n",
       "    <tr>\n",
       "      <th>2022-08-29</th>\n",
       "      <td>35.290001</td>\n",
       "      <td>34.639999</td>\n",
       "      <td>35.000000</td>\n",
       "      <td>35.099998</td>\n",
       "      <td>1302037</td>\n",
       "      <td>35.099998</td>\n",
       "    </tr>\n",
       "    <tr>\n",
       "      <th>2022-08-30</th>\n",
       "      <td>35.529999</td>\n",
       "      <td>35.020000</td>\n",
       "      <td>35.299999</td>\n",
       "      <td>35.299999</td>\n",
       "      <td>1486236</td>\n",
       "      <td>35.299999</td>\n",
       "    </tr>\n",
       "    <tr>\n",
       "      <th>2022-08-31</th>\n",
       "      <td>35.799999</td>\n",
       "      <td>35.110001</td>\n",
       "      <td>35.110001</td>\n",
       "      <td>35.700001</td>\n",
       "      <td>2122601</td>\n",
       "      <td>35.700001</td>\n",
       "    </tr>\n",
       "  </tbody>\n",
       "</table>\n",
       "</div>"
      ],
      "text/plain": [
       "                 High        Low       Open      Close   Volume  Adj Close\n",
       "Date                                                                      \n",
       "2022-08-26  36.240002  35.650002  36.009998  35.959999  1035840  35.959999\n",
       "2022-08-29  35.290001  34.639999  35.000000  35.099998  1302037  35.099998\n",
       "2022-08-30  35.529999  35.020000  35.299999  35.299999  1486236  35.299999\n",
       "2022-08-31  35.799999  35.110001  35.110001  35.700001  2122601  35.700001"
      ]
     },
     "execution_count": 6,
     "metadata": {},
     "output_type": "execute_result"
    }
   ],
   "source": [
    "#Get latest quotes from yahoo finance:\n",
    "import pandas_datareader.data as web\n",
    "symbol = 'ALL.AX'\n",
    "start = from_date # yyyy-mm-dd\n",
    "end = todaydt  # yyyy-mm-dd\n",
    "stock_quote = web.DataReader(symbol,data_source='yahoo',start=start, end=end) # dataframe\n",
    "stock_quote\n"
   ]
  },
  {
   "cell_type": "code",
   "execution_count": 7,
   "metadata": {},
   "outputs": [
    {
     "data": {
      "text/html": [
       "<div>\n",
       "<style scoped>\n",
       "    .dataframe tbody tr th:only-of-type {\n",
       "        vertical-align: middle;\n",
       "    }\n",
       "\n",
       "    .dataframe tbody tr th {\n",
       "        vertical-align: top;\n",
       "    }\n",
       "\n",
       "    .dataframe thead th {\n",
       "        text-align: right;\n",
       "    }\n",
       "</style>\n",
       "<table border=\"1\" class=\"dataframe\">\n",
       "  <thead>\n",
       "    <tr style=\"text-align: right;\">\n",
       "      <th></th>\n",
       "      <th>High</th>\n",
       "      <th>Low</th>\n",
       "      <th>Open</th>\n",
       "      <th>Close</th>\n",
       "      <th>Volume</th>\n",
       "      <th>Adj Close</th>\n",
       "    </tr>\n",
       "    <tr>\n",
       "      <th>Date</th>\n",
       "      <th></th>\n",
       "      <th></th>\n",
       "      <th></th>\n",
       "      <th></th>\n",
       "      <th></th>\n",
       "      <th></th>\n",
       "    </tr>\n",
       "  </thead>\n",
       "  <tbody>\n",
       "    <tr>\n",
       "      <th>2022-08-29</th>\n",
       "      <td>35.290001</td>\n",
       "      <td>34.639999</td>\n",
       "      <td>35.000000</td>\n",
       "      <td>35.099998</td>\n",
       "      <td>1302037</td>\n",
       "      <td>35.099998</td>\n",
       "    </tr>\n",
       "    <tr>\n",
       "      <th>2022-08-30</th>\n",
       "      <td>35.529999</td>\n",
       "      <td>35.020000</td>\n",
       "      <td>35.299999</td>\n",
       "      <td>35.299999</td>\n",
       "      <td>1486236</td>\n",
       "      <td>35.299999</td>\n",
       "    </tr>\n",
       "    <tr>\n",
       "      <th>2022-08-31</th>\n",
       "      <td>35.799999</td>\n",
       "      <td>35.110001</td>\n",
       "      <td>35.110001</td>\n",
       "      <td>35.700001</td>\n",
       "      <td>2122601</td>\n",
       "      <td>35.700001</td>\n",
       "    </tr>\n",
       "  </tbody>\n",
       "</table>\n",
       "</div>"
      ],
      "text/plain": [
       "                 High        Low       Open      Close   Volume  Adj Close\n",
       "Date                                                                      \n",
       "2022-08-29  35.290001  34.639999  35.000000  35.099998  1302037  35.099998\n",
       "2022-08-30  35.529999  35.020000  35.299999  35.299999  1486236  35.299999\n",
       "2022-08-31  35.799999  35.110001  35.110001  35.700001  2122601  35.700001"
      ]
     },
     "execution_count": 7,
     "metadata": {},
     "output_type": "execute_result"
    }
   ],
   "source": [
    "#remove last date already in mongodb\n",
    "stock_quote=stock_quote.iloc[1:]\n",
    "stock_quote"
   ]
  },
  {
   "cell_type": "code",
   "execution_count": 8,
   "metadata": {},
   "outputs": [
    {
     "name": "stderr",
     "output_type": "stream",
     "text": [
      "C:\\Users\\antoi\\AppData\\Local\\Temp/ipykernel_10376/307716900.py:12: SettingWithCopyWarning: \n",
      "A value is trying to be set on a copy of a slice from a DataFrame.\n",
      "Try using .loc[row_indexer,col_indexer] = value instead\n",
      "\n",
      "See the caveats in the documentation: https://pandas.pydata.org/pandas-docs/stable/user_guide/indexing.html#returning-a-view-versus-a-copy\n",
      "  stock_quote[\"RBA\"],stock_quote[\"FED\"],stock_quote[\"CPI\"] = a,b,c\n",
      "C:\\Users\\antoi\\AppData\\Local\\Temp/ipykernel_10376/307716900.py:15: SettingWithCopyWarning: \n",
      "A value is trying to be set on a copy of a slice from a DataFrame.\n",
      "Try using .loc[row_indexer,col_indexer] = value instead\n",
      "\n",
      "See the caveats in the documentation: https://pandas.pydata.org/pandas-docs/stable/user_guide/indexing.html#returning-a-view-versus-a-copy\n",
      "  stock_quote['Date'] = pd.to_datetime(stock_quote['Date'])\n",
      "C:\\Users\\antoi\\AppData\\Local\\Temp/ipykernel_10376/307716900.py:16: SettingWithCopyWarning: \n",
      "A value is trying to be set on a copy of a slice from a DataFrame.\n",
      "Try using .loc[row_indexer,col_indexer] = value instead\n",
      "\n",
      "See the caveats in the documentation: https://pandas.pydata.org/pandas-docs/stable/user_guide/indexing.html#returning-a-view-versus-a-copy\n",
      "  stock_quote['Date']=stock_quote['Date'].dt.strftime('%d/%m/%Y')\n",
      "C:\\Users\\antoi\\AppData\\Local\\Temp/ipykernel_10376/307716900.py:17: SettingWithCopyWarning: \n",
      "A value is trying to be set on a copy of a slice from a DataFrame.\n",
      "Try using .loc[row_indexer,col_indexer] = value instead\n",
      "\n",
      "See the caveats in the documentation: https://pandas.pydata.org/pandas-docs/stable/user_guide/indexing.html#returning-a-view-versus-a-copy\n",
      "  stock_quote['Date']=stock_quote['Date'].astype(str)\n"
     ]
    },
    {
     "data": {
      "text/html": [
       "<div>\n",
       "<style scoped>\n",
       "    .dataframe tbody tr th:only-of-type {\n",
       "        vertical-align: middle;\n",
       "    }\n",
       "\n",
       "    .dataframe tbody tr th {\n",
       "        vertical-align: top;\n",
       "    }\n",
       "\n",
       "    .dataframe thead th {\n",
       "        text-align: right;\n",
       "    }\n",
       "</style>\n",
       "<table border=\"1\" class=\"dataframe\">\n",
       "  <thead>\n",
       "    <tr style=\"text-align: right;\">\n",
       "      <th></th>\n",
       "      <th>Date</th>\n",
       "      <th>High</th>\n",
       "      <th>Low</th>\n",
       "      <th>Open</th>\n",
       "      <th>Close</th>\n",
       "      <th>Volume</th>\n",
       "      <th>Adj Close</th>\n",
       "      <th>RBA</th>\n",
       "      <th>FED</th>\n",
       "      <th>CPI</th>\n",
       "    </tr>\n",
       "  </thead>\n",
       "  <tbody>\n",
       "    <tr>\n",
       "      <th>0</th>\n",
       "      <td>29/08/2022</td>\n",
       "      <td>35.290001</td>\n",
       "      <td>34.639999</td>\n",
       "      <td>35.000000</td>\n",
       "      <td>35.099998</td>\n",
       "      <td>1302037</td>\n",
       "      <td>35.099998</td>\n",
       "      <td>1.85</td>\n",
       "      <td>2.5</td>\n",
       "      <td>125</td>\n",
       "    </tr>\n",
       "    <tr>\n",
       "      <th>1</th>\n",
       "      <td>30/08/2022</td>\n",
       "      <td>35.529999</td>\n",
       "      <td>35.020000</td>\n",
       "      <td>35.299999</td>\n",
       "      <td>35.299999</td>\n",
       "      <td>1486236</td>\n",
       "      <td>35.299999</td>\n",
       "      <td>1.85</td>\n",
       "      <td>2.5</td>\n",
       "      <td>125</td>\n",
       "    </tr>\n",
       "    <tr>\n",
       "      <th>2</th>\n",
       "      <td>31/08/2022</td>\n",
       "      <td>35.799999</td>\n",
       "      <td>35.110001</td>\n",
       "      <td>35.110001</td>\n",
       "      <td>35.700001</td>\n",
       "      <td>2122601</td>\n",
       "      <td>35.700001</td>\n",
       "      <td>1.85</td>\n",
       "      <td>2.5</td>\n",
       "      <td>125</td>\n",
       "    </tr>\n",
       "  </tbody>\n",
       "</table>\n",
       "</div>"
      ],
      "text/plain": [
       "         Date       High        Low       Open      Close   Volume  Adj Close  \\\n",
       "0  29/08/2022  35.290001  34.639999  35.000000  35.099998  1302037  35.099998   \n",
       "1  30/08/2022  35.529999  35.020000  35.299999  35.299999  1486236  35.299999   \n",
       "2  31/08/2022  35.799999  35.110001  35.110001  35.700001  2122601  35.700001   \n",
       "\n",
       "    RBA  FED  CPI  \n",
       "0  1.85  2.5  125  \n",
       "1  1.85  2.5  125  \n",
       "2  1.85  2.5  125  "
      ]
     },
     "execution_count": 8,
     "metadata": {},
     "output_type": "execute_result"
    }
   ],
   "source": [
    "tot=len(stock_quote)\n",
    "rba=1.85\n",
    "fed=2.5\n",
    "cpi=125\n",
    "a,b,c=[],[],[]\n",
    "for i in range(tot):\n",
    "    a.append(rba)\n",
    "    b.append(fed)\n",
    "    c.append(cpi)\n",
    "# print(a,b,c)\n",
    "#ADD NEW DATA IN DATAFRAME\n",
    "stock_quote[\"RBA\"],stock_quote[\"FED\"],stock_quote[\"CPI\"] = a,b,c\n",
    "stock_quote.reset_index(inplace=True)\n",
    "\n",
    "stock_quote['Date'] = pd.to_datetime(stock_quote['Date'])\n",
    "stock_quote['Date']=stock_quote['Date'].dt.strftime('%d/%m/%Y')\n",
    "stock_quote['Date']=stock_quote['Date'].astype(str)\n",
    "stock_quote"
   ]
  },
  {
   "cell_type": "markdown",
   "metadata": {},
   "source": [
    "UPDATE MONGO DB"
   ]
  },
  {
   "cell_type": "code",
   "execution_count": 9,
   "metadata": {},
   "outputs": [
    {
     "data": {
      "text/plain": [
       "[{'Date': '29/08/2022',\n",
       "  'High': 35.290000915527344,\n",
       "  'Low': 34.63999938964844,\n",
       "  'Open': 35.0,\n",
       "  'Close': 35.099998474121094,\n",
       "  'Volume': 1302037,\n",
       "  'Adj Close': 35.099998474121094,\n",
       "  'RBA': 1.85,\n",
       "  'FED': 2.5,\n",
       "  'CPI': 125},\n",
       " {'Date': '30/08/2022',\n",
       "  'High': 35.529998779296875,\n",
       "  'Low': 35.02000045776367,\n",
       "  'Open': 35.29999923706055,\n",
       "  'Close': 35.29999923706055,\n",
       "  'Volume': 1486236,\n",
       "  'Adj Close': 35.29999923706055,\n",
       "  'RBA': 1.85,\n",
       "  'FED': 2.5,\n",
       "  'CPI': 125},\n",
       " {'Date': '31/08/2022',\n",
       "  'High': 35.79999923706055,\n",
       "  'Low': 35.11000061035156,\n",
       "  'Open': 35.11000061035156,\n",
       "  'Close': 35.70000076293945,\n",
       "  'Volume': 2122601,\n",
       "  'Adj Close': 35.70000076293945,\n",
       "  'RBA': 1.85,\n",
       "  'FED': 2.5,\n",
       "  'CPI': 125}]"
      ]
     },
     "execution_count": 9,
     "metadata": {},
     "output_type": "execute_result"
    }
   ],
   "source": [
    "records=stock_quote.to_dict('records')\n",
    "records"
   ]
  },
  {
   "cell_type": "code",
   "execution_count": 10,
   "metadata": {},
   "outputs": [
    {
     "name": "stdout",
     "output_type": "stream",
     "text": [
      "[[ObjectId('62ff3d91531e1e0a184616e3') '18/08/2022' 36.599998474121094\n",
      "  36.66999816894531 36.11000061035156 36.25 36.25 1373026.0 1.85 2.5\n",
      "  125.0]\n",
      " [ObjectId('630332c6b33ab07a7e66cbde') '19/08/2022' 36.20000076293945\n",
      "  36.56999969482422 36.16999816894531 36.349998474121094\n",
      "  36.349998474121094 1360866.0 1.85 2.5 125.0]\n",
      " [ObjectId('63049c75b33ab07a7e66cbe3') '22/08/2022' 36.0099983215332\n",
      "  36.15999984741211 35.11000061035156 35.380001068115234\n",
      "  35.380001068115234 1165566.0 1.85 2.5 125.0]\n",
      " [ObjectId('630725c3a25ac8ff42c58e29') '23/08/2022' 35.09000015258789\n",
      "  35.31999969482422 34.81999969482422 34.93000030517578 34.93000030517578\n",
      "  1402443.0 1.85 2.5 125.0]\n",
      " [ObjectId('630725c3a25ac8ff42c58e2a') '24/08/2022' 35.4900016784668\n",
      "  36.04999923706055 35.439998626708984 35.59000015258789\n",
      "  35.59000015258789 1654892.0 1.85 2.5 125.0]\n",
      " [ObjectId('630ae52925ef5744fd645d2d') '25/08/2022' 35.689998626708984\n",
      "  36.130001068115234 35.11000061035156 36.0 36.0 1156021.0 1.85 2.5 125.0]\n",
      " [ObjectId('630c8a3d2ef5806fd1203c95') '26/08/2022' 36.0099983215332\n",
      "  36.2400016784668 35.650001525878906 35.959999084472656\n",
      "  35.959999084472656 1035840.0 1.85 2.5 125.0]\n",
      " [ObjectId('630ff93b41269e1989242175') '29/08/2022' 35.0\n",
      "  35.290000915527344 34.63999938964844 35.099998474121094\n",
      "  35.099998474121094 1302037.0 1.85 2.5 125.0]\n",
      " [ObjectId('630ff93b41269e1989242176') '30/08/2022' 35.29999923706055\n",
      "  35.529998779296875 35.02000045776367 35.29999923706055\n",
      "  35.29999923706055 1486236.0 1.85 2.5 125.0]\n",
      " [ObjectId('630ff93b41269e1989242177') '31/08/2022' 35.11000061035156\n",
      "  35.79999923706055 35.11000061035156 35.70000076293945 35.70000076293945\n",
      "  2122601.0 1.85 2.5 125.0]]\n"
     ]
    }
   ],
   "source": [
    "#INSERT NEW DATA INTO MONGODB\n",
    "db.all.insert_many(records)\n",
    "\n",
    "#Check if mongoDb now has latest data\n",
    "df_mongo = pd.DataFrame(list(db.all.find()))\n",
    "\n",
    "last_vals = df_mongo.iloc[-10:].values\n",
    "print(last_vals)"
   ]
  },
  {
   "cell_type": "code",
   "execution_count": 11,
   "metadata": {},
   "outputs": [
    {
     "name": "stdout",
     "output_type": "stream",
     "text": [
      "[[ObjectId('630ff93b41269e1989242177') '31/08/2022' 35.11000061035156\n",
      "  35.79999923706055 35.11000061035156 35.70000076293945 35.70000076293945\n",
      "  2122601.0 1.85 2.5 125.0]] 31/08/2022 35.70000076293945\n"
     ]
    }
   ],
   "source": [
    "#Save latest to variables\n",
    "last_val = df_mongo.iloc[-1:].values\n",
    "last_date = last_val[0][1]\n",
    "last_close = last_val[0][5]\n",
    "print(last_val,last_date,last_close)"
   ]
  },
  {
   "cell_type": "markdown",
   "metadata": {},
   "source": [
    "# # Pre-processing : Scale the data using the MinMaxScaler and split train data"
   ]
  },
  {
   "cell_type": "code",
   "execution_count": 12,
   "metadata": {},
   "outputs": [
    {
     "data": {
      "text/plain": [
       "(6603, 1)"
      ]
     },
     "execution_count": 12,
     "metadata": {},
     "output_type": "execute_result"
    }
   ],
   "source": [
    "df_mongo = pd.DataFrame(list(db.all.find()))\n",
    "# Drop the null columns where all values are null\n",
    "df_mongo = df_mongo.dropna(axis='columns', how='all')\n",
    "# Drop the null rows\n",
    "df_mongo = df_mongo.dropna()\n",
    "# df_mongo.shape\n",
    "\n",
    "len_df_mongo=len(df_mongo)\n",
    "data = df_mongo.filter([\"Close\"])\n",
    "dataset=data.values\n",
    "dataset.shape"
   ]
  },
  {
   "cell_type": "code",
   "execution_count": 13,
   "metadata": {},
   "outputs": [],
   "source": [
    "# data = df.filter(['Close'])\n",
    "# dataset = data.values\n",
    "# dataset.shape\t"
   ]
  },
  {
   "cell_type": "code",
   "execution_count": 14,
   "metadata": {},
   "outputs": [
    {
     "data": {
      "text/plain": [
       "(5283, 1)"
      ]
     },
     "execution_count": 14,
     "metadata": {},
     "output_type": "execute_result"
    }
   ],
   "source": [
    "# Scale your data\n",
    "from sklearn.preprocessing import MinMaxScaler\n",
    "\n",
    "scaler = MinMaxScaler(feature_range=(0,1))\n",
    "dataset_scaled = scaler.fit_transform(dataset)\n",
    "\n",
    "# Split into train or test\n",
    "import math\n",
    "train_data_len = math.ceil(len(dataset)*.8)\n",
    "train_data = dataset_scaled[0:train_data_len,:]\n",
    "train_data.shape\n"
   ]
  },
  {
   "cell_type": "code",
   "execution_count": 15,
   "metadata": {},
   "outputs": [
    {
     "name": "stdout",
     "output_type": "stream",
     "text": [
      "[array([0.00286563, 0.00286563, 0.00286563, 0.00286563, 0.00286563,\n",
      "       0.00286563, 0.00286563, 0.00286563, 0.00286563, 0.00286563,\n",
      "       0.00286563, 0.00286563, 0.00286563, 0.00286563, 0.00286563,\n",
      "       0.00286563, 0.00286563, 0.00286563, 0.00286563, 0.00286563,\n",
      "       0.00286563, 0.00286563, 0.00286563, 0.00286563, 0.00286563,\n",
      "       0.00286563, 0.00286563, 0.00286563, 0.00286563, 0.00286563,\n",
      "       0.00286563, 0.00286563, 0.00286563, 0.00286563, 0.00286563,\n",
      "       0.00286563, 0.00286563, 0.00286563, 0.00286563, 0.00286563,\n",
      "       0.00286563, 0.00479341, 0.00479341, 0.00479341, 0.00479341,\n",
      "       0.00479341, 0.00479341, 0.00479341, 0.00479341, 0.00479341,\n",
      "       0.00479341, 0.00479341, 0.00479341, 0.00479341, 0.00479341,\n",
      "       0.00479341, 0.00479341, 0.00479341, 0.00479341, 0.00479341])]\n",
      "[0.004793414365516892]\n"
     ]
    }
   ],
   "source": [
    "X_train = []\n",
    "y_train = []\n",
    "\n",
    "for i in range (60, len(train_data)):\n",
    "    X_train.append(train_data[i-60:i,0]) # contains 60 values\n",
    "    y_train.append(train_data[i,0])   # contains 61st value\n",
    "    if i<= 60:\n",
    "        print(X_train)\n",
    "        print(y_train) \n"
   ]
  },
  {
   "cell_type": "markdown",
   "metadata": {},
   "source": [
    "# Prepare train data for LSTM model"
   ]
  },
  {
   "cell_type": "code",
   "execution_count": 16,
   "metadata": {},
   "outputs": [
    {
     "data": {
      "text/plain": [
       "(5223, 60)"
      ]
     },
     "execution_count": 16,
     "metadata": {},
     "output_type": "execute_result"
    }
   ],
   "source": [
    "# Convert list to numpy array for LSTM model:\n",
    "X_train, y_train = np.array(X_train), np.array(y_train)\n",
    "X_train.shape"
   ]
  },
  {
   "cell_type": "code",
   "execution_count": 17,
   "metadata": {},
   "outputs": [
    {
     "data": {
      "text/plain": [
       "(5223, 60, 1)"
      ]
     },
     "execution_count": 17,
     "metadata": {},
     "output_type": "execute_result"
    }
   ],
   "source": [
    "# LSTM model expects 3D, reshape:\n",
    "X_train = np.reshape(X_train, (X_train.shape[0], X_train.shape[1], 1))\n",
    "X_train.shape"
   ]
  },
  {
   "cell_type": "markdown",
   "metadata": {},
   "source": [
    "# Build the LSTM model"
   ]
  },
  {
   "cell_type": "code",
   "execution_count": 18,
   "metadata": {},
   "outputs": [],
   "source": [
    "from tensorflow.keras.models import Sequential\n",
    "from tensorflow.keras.layers import Dense, LSTM\n",
    "model = Sequential()\n",
    "model.add(LSTM(50, return_sequences=True, input_shape=(X_train.shape[1], 1)))\n",
    "model.add(LSTM(50, return_sequences=False))\n",
    "model.add(Dense(25))\n",
    "model.add(Dense(1))"
   ]
  },
  {
   "cell_type": "code",
   "execution_count": 19,
   "metadata": {},
   "outputs": [],
   "source": [
    "model.compile(optimizer='adam', loss='mean_squared_error')"
   ]
  },
  {
   "cell_type": "code",
   "execution_count": 20,
   "metadata": {},
   "outputs": [
    {
     "name": "stdout",
     "output_type": "stream",
     "text": [
      "5223/5223 [==============================] - 329s 63ms/step - loss: 1.3133e-04\n"
     ]
    },
    {
     "data": {
      "text/plain": [
       "<keras.callbacks.History at 0x24b1d688670>"
      ]
     },
     "execution_count": 20,
     "metadata": {},
     "output_type": "execute_result"
    }
   ],
   "source": [
    "model.fit(X_train, y_train, batch_size=1, epochs=1)"
   ]
  },
  {
   "cell_type": "code",
   "execution_count": 21,
   "metadata": {},
   "outputs": [],
   "source": [
    "#Create test data\n",
    "test_data = dataset_scaled[train_data_len-60:,:]\n",
    "X_test = []\n",
    "y_test = dataset[train_data_len:,:]\n",
    "for i in range(60, len(test_data)):\n",
    " X_test.append(test_data[i-60:i,0])"
   ]
  },
  {
   "cell_type": "code",
   "execution_count": 22,
   "metadata": {},
   "outputs": [],
   "source": [
    "#Covert test data to a numpy array and reshape\n",
    "X_test = np.array(X_test)\n",
    "X_test = np.reshape(X_test, (X_test.shape[0],X_test.shape[1],1))"
   ]
  },
  {
   "cell_type": "code",
   "execution_count": 23,
   "metadata": {},
   "outputs": [],
   "source": [
    "#Get predicted prices\n",
    "predictions_lstm = model.predict(X_test)\n",
    "predictions = scaler.inverse_transform(predictions_lstm)"
   ]
  },
  {
   "cell_type": "code",
   "execution_count": 24,
   "metadata": {},
   "outputs": [
    {
     "data": {
      "text/plain": [
       "0.6666963380528307"
      ]
     },
     "execution_count": 24,
     "metadata": {},
     "output_type": "execute_result"
    }
   ],
   "source": [
    "#Get the root mean square error (RMSE) 0 being most favourable\n",
    "rmse = np.sqrt(np.mean(predictions-y_test)**2)\n",
    "rmse"
   ]
  },
  {
   "cell_type": "code",
   "execution_count": 25,
   "metadata": {},
   "outputs": [
    {
     "name": "stderr",
     "output_type": "stream",
     "text": [
      "C:\\Users\\antoi\\AppData\\Local\\Temp/ipykernel_10376/4154416992.py:5: SettingWithCopyWarning: \n",
      "A value is trying to be set on a copy of a slice from a DataFrame.\n",
      "Try using .loc[row_indexer,col_indexer] = value instead\n",
      "\n",
      "See the caveats in the documentation: https://pandas.pydata.org/pandas-docs/stable/user_guide/indexing.html#returning-a-view-versus-a-copy\n",
      "  valid['Predictions'] = predictions # another column for validating test\n"
     ]
    },
    {
     "data": {
      "image/png": "[encoded data removed]",
      "text/plain": [
       "<Figure size 1152x576 with 1 Axes>"
      ]
     },
     "metadata": {},
     "output_type": "display_data"
    }
   ],
   "source": [
    "#Plot the data to validate the test data\n",
    "plt.style.use('fivethirtyeight')\n",
    "train = data.iloc[:train_data_len] # actual train data from 0 rows until train data end\n",
    "valid = data.iloc[train_data_len:] # actual test data from train data end until end of all sampled data\n",
    "valid['Predictions'] = predictions # another column for validating test\n",
    "\n",
    "plt.figure(figsize=(16,8))\n",
    "plt.title('ALL LSTM Model')\n",
    "plt.xlabel('Trading Date', fontsize=18)\n",
    "plt.ylabel('Close Price AUD ($)',fontsize=18)\n",
    "plt.plot(train['Close'])\n",
    "plt.plot(valid[['Close','Predictions']])\n",
    "plt.legend(['Training','Validate','Tested'],loc='lower right')\n",
    "x = np.arange(2000,2024,4)\n",
    "plt.xticks([0,1000,2000,3000,4000,5000],x)\n",
    "plt.savefig('../static/data/images/all_graph.png')\n",
    "plt.show()"
   ]
  },
  {
   "cell_type": "markdown",
   "metadata": {},
   "source": [
    "# Test data Predictions on the Model"
   ]
  },
  {
   "cell_type": "code",
   "execution_count": 26,
   "metadata": {},
   "outputs": [
    {
     "name": "stderr",
     "output_type": "stream",
     "text": [
      "C:\\Users\\antoi\\AppData\\Local\\Temp/ipykernel_10376/3403988079.py:1: SettingWithCopyWarning: \n",
      "A value is trying to be set on a copy of a slice from a DataFrame.\n",
      "Try using .loc[row_indexer,col_indexer] = value instead\n",
      "\n",
      "See the caveats in the documentation: https://pandas.pydata.org/pandas-docs/stable/user_guide/indexing.html#returning-a-view-versus-a-copy\n",
      "  valid['Difference']= valid['Close']-valid['Predictions']\n"
     ]
    },
    {
     "data": {
      "text/plain": [
       "<bound method NDFrame.head of           Close  Predictions  Difference\n",
       "5283  23.100000    22.514273    0.585727\n",
       "5284  23.080000    22.552820    0.527180\n",
       "5285  23.200001    22.546074    0.653927\n",
       "5286  23.430000    22.564289    0.865711\n",
       "5287  23.559999    22.661217    0.898782\n",
       "...         ...          ...         ...\n",
       "6598  36.000000    34.553505    1.446495\n",
       "6599  35.959999    34.706608    1.253391\n",
       "6600  35.099998    34.932339    0.167660\n",
       "6601  35.299999    34.825981    0.474018\n",
       "6602  35.700001    34.719147    0.980854\n",
       "\n",
       "[1320 rows x 3 columns]>"
      ]
     },
     "execution_count": 26,
     "metadata": {},
     "output_type": "execute_result"
    }
   ],
   "source": [
    "valid['Difference']= valid['Close']-valid['Predictions']\n",
    "valid.head"
   ]
  },
  {
   "cell_type": "code",
   "execution_count": 27,
   "metadata": {},
   "outputs": [
    {
     "data": {
      "text/plain": [
       "(60, 1)"
      ]
     },
     "execution_count": 27,
     "metadata": {},
     "output_type": "execute_result"
    }
   ],
   "source": [
    "# Use last 60 days price on model to predict next days price\n",
    "import pandas as pd\n",
    "\n",
    "df_mongo = pd.DataFrame(list(db.all.find()))\n",
    "sixty_val = df_mongo.iloc[-60:,4].values\n",
    "last_sixty = sixty_val.reshape(-1,1)\n",
    "\n",
    "last_sixty.shape"
   ]
  },
  {
   "cell_type": "code",
   "execution_count": 28,
   "metadata": {},
   "outputs": [
    {
     "data": {
      "text/plain": [
       "(1, 60, 1)"
      ]
     },
     "execution_count": 28,
     "metadata": {},
     "output_type": "execute_result"
    }
   ],
   "source": [
    "last_60_days_scaled = scaler.transform(last_sixty)\n",
    "X_tell = []\n",
    "X_tell.append(last_60_days_scaled)\n",
    "X_tell =np.array(X_tell)\n",
    "X_tell =np.reshape(X_tell, (X_tell.shape[0], X_tell.shape[1],1))\n",
    "X_tell.shape"
   ]
  },
  {
   "cell_type": "code",
   "execution_count": 29,
   "metadata": {},
   "outputs": [
    {
     "name": "stdout",
     "output_type": "stream",
     "text": [
      "31/08/2022 Last close $35.70000076293945 Predicted next day share price $34.33\n"
     ]
    }
   ],
   "source": [
    "pred_price = model.predict(X_tell)\n",
    "pred_price = scaler.inverse_transform(pred_price)\n",
    "pred_price = round(float(pred_price),2)\n",
    "print(f'{last_date} Last close ${last_close} Predicted next day share price ${pred_price}')"
   ]
  },
  {
   "cell_type": "markdown",
   "metadata": {},
   "source": [
    "# Save the Model"
   ]
  },
  {
   "cell_type": "code",
   "execution_count": 30,
   "metadata": {},
   "outputs": [],
   "source": [
    "# Save the entire model to a HDF5 file.\n",
    "# The '.h5' extension indicates that the model should be saved to HDF5.\n",
    "filepath = '../static/all_model.sav'\n",
    "model.save(filepath, save_format=\"h5\")"
   ]
  },
  {
   "cell_type": "markdown",
   "metadata": {},
   "source": [
    "#Save last 60 days to a list all_sixty and load df"
   ]
  },
  {
   "cell_type": "markdown",
   "metadata": {},
   "source": [
    "#PREDICT USING LOADED MODEL"
   ]
  },
  {
   "cell_type": "code",
   "execution_count": 31,
   "metadata": {},
   "outputs": [],
   "source": [
    "from keras.models import load_model\n",
    "model_in = load_model('../static/all_model.sav')"
   ]
  },
  {
   "cell_type": "code",
   "execution_count": 32,
   "metadata": {},
   "outputs": [
    {
     "data": {
      "text/plain": [
       "array([[33.66      ],\n",
       "       [34.209999  ],\n",
       "       [34.099998  ],\n",
       "       [32.860001  ],\n",
       "       [33.        ],\n",
       "       [32.810001  ],\n",
       "       [31.18      ],\n",
       "       [32.950001  ],\n",
       "       [33.43      ],\n",
       "       [33.07      ],\n",
       "       [33.009998  ],\n",
       "       [32.689999  ],\n",
       "       [34.299999  ],\n",
       "       [33.959999  ],\n",
       "       [33.869999  ],\n",
       "       [34.380001  ],\n",
       "       [34.389999  ],\n",
       "       [34.509998  ],\n",
       "       [34.549999  ],\n",
       "       [34.759998  ],\n",
       "       [35.93      ],\n",
       "       [36.25      ],\n",
       "       [35.419998  ],\n",
       "       [35.5       ],\n",
       "       [35.349998  ],\n",
       "       [36.060001  ],\n",
       "       [35.959999  ],\n",
       "       [36.509998  ],\n",
       "       [35.470001  ],\n",
       "       [35.939999  ],\n",
       "       [36.040001  ],\n",
       "       [35.900002  ],\n",
       "       [35.919998  ],\n",
       "       [35.380001  ],\n",
       "       [35.310001  ],\n",
       "       [35.380001  ],\n",
       "       [35.259998  ],\n",
       "       [35.099998  ],\n",
       "       [34.84      ],\n",
       "       [34.45000076],\n",
       "       [34.90000153],\n",
       "       [34.75      ],\n",
       "       [33.93000031],\n",
       "       [33.81999969],\n",
       "       [33.99000168],\n",
       "       [34.45999908],\n",
       "       [34.56999969],\n",
       "       [35.02999878],\n",
       "       [35.5       ],\n",
       "       [36.52000046],\n",
       "       [36.11000061],\n",
       "       [36.16999817],\n",
       "       [35.11000061],\n",
       "       [34.81999969],\n",
       "       [35.43999863],\n",
       "       [35.11000061],\n",
       "       [35.65000153],\n",
       "       [34.63999939],\n",
       "       [35.02000046],\n",
       "       [35.11000061]])"
      ]
     },
     "execution_count": 32,
     "metadata": {},
     "output_type": "execute_result"
    }
   ],
   "source": [
    "# query the all collection and load into dataframe\n",
    "\n",
    "df_mongo = pd.DataFrame(list(db.all.find()))\n",
    "sixty_val = df_mongo.iloc[-60:,4].values\n",
    "last_sixty = sixty_val.reshape(-1,1)\n",
    "\n",
    "last_sixty"
   ]
  },
  {
   "cell_type": "markdown",
   "metadata": {},
   "source": [
    "#Create a function to loop through the days input"
   ]
  },
  {
   "cell_type": "code",
   "execution_count": 33,
   "metadata": {},
   "outputs": [
    {
     "name": "stdout",
     "output_type": "stream",
     "text": [
      "1\n",
      "Day finished! Price: \n",
      "2\n",
      "Day finished! Price: \n",
      "3\n",
      "Day finished! Price: \n",
      "4\n",
      "Day finished! Price: \n",
      "5\n",
      "Day finished! Price: \n",
      "6\n",
      "Day finished! Price: \n",
      "7\n",
      "Day finished! Price: \n",
      "8\n",
      "Day finished! Price: \n",
      "9\n",
      "Day finished! Price: \n",
      "10\n",
      "Day finished! Price: \n",
      "11\n",
      "Day finished! Price: \n",
      "12\n",
      "Day finished! Price: \n",
      "13\n",
      "Day finished! Price: \n",
      "14\n",
      "Day finished! Price: \n",
      "15\n",
      "Day finished! Price: \n",
      "16\n",
      "Day finished! Price: \n",
      "17\n",
      "Day finished! Price: \n",
      "18\n",
      "Day finished! Price: \n",
      "19\n",
      "Day finished! Price: \n",
      "20\n",
      "Day finished! Price: \n",
      "21\n",
      "Day finished! Price: \n",
      "22\n",
      "Day finished! Price: \n",
      "23\n",
      "Day finished! Price: \n",
      "24\n",
      "Day finished! Price: \n",
      "25\n",
      "Day finished! Price: \n",
      "26\n",
      "Day finished! Price: \n",
      "27\n",
      "Day finished! Price: \n",
      "28\n",
      "Day finished! Price: \n",
      "29\n",
      "Day finished! Price: \n",
      "30\n",
      "Day finished! Price: \n",
      "31\n",
      "Day finished! Price: \n",
      "32\n",
      "Day finished! Price: \n",
      "33\n",
      "Day finished! Price: \n",
      "34\n",
      "Day finished! Price: \n",
      "35\n",
      "Day finished! Price: \n",
      "36\n",
      "Day finished! Price: \n",
      "37\n",
      "Day finished! Price: \n",
      "38\n",
      "Day finished! Price: \n",
      "39\n",
      "Day finished! Price: \n",
      "40\n",
      "Day finished! Price: \n",
      "41\n",
      "Day finished! Price: \n",
      "42\n",
      "Day finished! Price: \n",
      "43\n",
      "Day finished! Price: \n",
      "44\n",
      "Day finished! Price: \n",
      "45\n",
      "Day finished! Price: \n",
      "46\n",
      "Day finished! Price: \n",
      "47\n",
      "Day finished! Price: \n",
      "48\n",
      "Day finished! Price: \n",
      "49\n",
      "Day finished! Price: \n",
      "50\n",
      "Day finished! Price: \n",
      "51\n",
      "Day finished! Price: \n",
      "52\n",
      "Day finished! Price: \n",
      "53\n",
      "Day finished! Price: \n",
      "54\n",
      "Day finished! Price: \n",
      "55\n",
      "Day finished! Price: \n",
      "56\n",
      "Day finished! Price: \n",
      "57\n",
      "Day finished! Price: \n",
      "58\n",
      "Day finished! Price: \n",
      "59\n",
      "Day finished! Price: \n",
      "60\n",
      "Day finished! Price: \n",
      "61\n",
      "Day finished! Price: \n",
      "62\n",
      "Day finished! Price: \n",
      "63\n",
      "Day finished! Price: \n",
      "64\n",
      "Day finished! Price: \n",
      "65\n",
      "Day finished! Price: \n",
      "66\n",
      "Day finished! Price: \n",
      "67\n",
      "Day finished! Price: \n",
      "68\n",
      "Day finished! Price: \n",
      "69\n",
      "Day finished! Price: \n",
      "70\n",
      "Day finished! Price: \n",
      "71\n",
      "Day finished! Price: \n",
      "72\n",
      "Day finished! Price: \n",
      "73\n",
      "Day finished! Price: \n",
      "74\n",
      "Day finished! Price: \n",
      "75\n",
      "Day finished! Price: \n",
      "76\n",
      "Day finished! Price: \n",
      "77\n",
      "Day finished! Price: \n",
      "78\n",
      "Day finished! Price: \n",
      "79\n",
      "Day finished! Price: \n",
      "80\n",
      "Day finished! Price: \n",
      "81\n",
      "Day finished! Price: \n",
      "82\n",
      "Day finished! Price: \n",
      "83\n",
      "Day finished! Price: \n",
      "84\n",
      "Day finished! Price: \n",
      "85\n",
      "Day finished! Price: \n",
      "86\n",
      "Day finished! Price: \n",
      "87\n",
      "Day finished! Price: \n",
      "88\n",
      "Day finished! Price: \n",
      "89\n",
      "Day finished! Price: \n",
      "90\n",
      "Day finished! Price: \n",
      "91\n",
      "Day finished! Price: \n",
      "92\n",
      "Day finished! Price: \n",
      "93\n",
      "Day finished! Price: \n",
      "94\n",
      "Day finished! Price: \n",
      "95\n",
      "Day finished! Price: \n",
      "96\n",
      "Day finished! Price: \n",
      "97\n",
      "Day finished! Price: \n",
      "98\n",
      "Day finished! Price: \n",
      "99\n",
      "Day finished! Price: \n",
      "100\n",
      "Day finished! Price: \n",
      "101\n",
      "Day finished! Price: \n",
      "102\n",
      "Day finished! Price: \n",
      "103\n",
      "Day finished! Price: \n",
      "104\n",
      "Day finished! Price: \n",
      "105\n",
      "Day finished! Price: \n",
      "106\n",
      "Day finished! Price: \n",
      "107\n",
      "Day finished! Price: \n",
      "108\n",
      "Day finished! Price: \n",
      "109\n",
      "Day finished! Price: \n",
      "110\n",
      "Day finished! Price: \n",
      "111\n",
      "Day finished! Price: \n",
      "112\n",
      "Day finished! Price: \n",
      "113\n",
      "Day finished! Price: \n",
      "114\n",
      "Day finished! Price: \n",
      "115\n",
      "Day finished! Price: \n",
      "116\n",
      "Day finished! Price: \n",
      "117\n",
      "Day finished! Price: \n",
      "118\n",
      "Day finished! Price: \n",
      "119\n",
      "Day finished! Price: \n",
      "120\n",
      "Day finished! Price: \n",
      "121\n",
      "Day finished! Price: \n",
      "122\n",
      "Day finished! Price: \n",
      "123\n",
      "Day finished! Price: \n",
      "124\n",
      "Day finished! Price: \n",
      "125\n",
      "Day finished! Price: \n",
      "126\n",
      "Day finished! Price: \n",
      "127\n",
      "Day finished! Price: \n",
      "128\n",
      "Day finished! Price: \n",
      "129\n",
      "Day finished! Price: \n",
      "130\n",
      "Day finished! Price: \n",
      "131\n",
      "Day finished! Price: \n",
      "132\n",
      "Day finished! Price: \n",
      "133\n",
      "Day finished! Price: \n",
      "134\n",
      "Day finished! Price: \n",
      "135\n",
      "Day finished! Price: \n",
      "136\n",
      "Day finished! Price: \n",
      "137\n",
      "Day finished! Price: \n",
      "138\n",
      "Day finished! Price: \n",
      "139\n",
      "Day finished! Price: \n",
      "140\n",
      "Day finished! Price: \n",
      "141\n",
      "Day finished! Price: \n",
      "142\n",
      "Day finished! Price: \n",
      "143\n",
      "Day finished! Price: \n",
      "144\n",
      "Day finished! Price: \n",
      "145\n",
      "Day finished! Price: \n",
      "146\n",
      "Day finished! Price: \n",
      "147\n",
      "Day finished! Price: \n",
      "148\n",
      "Day finished! Price: \n",
      "149\n",
      "Day finished! Price: \n",
      "150\n",
      "Day finished! Price: \n",
      "151\n",
      "Day finished! Price: \n",
      "152\n",
      "Day finished! Price: \n",
      "153\n",
      "Day finished! Price: \n",
      "154\n",
      "Day finished! Price: \n",
      "155\n",
      "Day finished! Price: \n",
      "156\n",
      "Day finished! Price: \n",
      "157\n",
      "Day finished! Price: \n",
      "158\n",
      "Day finished! Price: \n",
      "159\n",
      "Day finished! Price: \n",
      "160\n",
      "Day finished! Price: \n",
      "161\n",
      "Day finished! Price: \n",
      "162\n",
      "Day finished! Price: \n",
      "163\n",
      "Day finished! Price: \n",
      "164\n",
      "Day finished! Price: \n",
      "165\n",
      "Day finished! Price: \n",
      "166\n",
      "Day finished! Price: \n",
      "167\n",
      "Day finished! Price: \n",
      "168\n",
      "Day finished! Price: \n",
      "169\n",
      "Day finished! Price: \n",
      "170\n",
      "Day finished! Price: \n",
      "171\n",
      "Day finished! Price: \n",
      "172\n",
      "Day finished! Price: \n",
      "173\n",
      "Day finished! Price: \n",
      "174\n",
      "Day finished! Price: \n",
      "175\n",
      "Day finished! Price: \n",
      "176\n",
      "Day finished! Price: \n",
      "177\n",
      "Day finished! Price: \n",
      "178\n",
      "Day finished! Price: \n",
      "179\n",
      "Day finished! Price: \n",
      "Could not predict further!\n",
      "180\n"
     ]
    },
    {
     "data": {
      "text/plain": [
       "[34.96,\n",
       " 34.96,\n",
       " 34.95,\n",
       " 34.93,\n",
       " 34.91,\n",
       " 34.89,\n",
       " 34.86,\n",
       " 34.86,\n",
       " 34.84,\n",
       " 34.82,\n",
       " 34.8,\n",
       " 34.78,\n",
       " 34.79,\n",
       " 34.77,\n",
       " 34.77,\n",
       " 34.76,\n",
       " 34.75,\n",
       " 34.75,\n",
       " 34.74,\n",
       " 34.73,\n",
       " 34.73,\n",
       " 34.72,\n",
       " 34.71,\n",
       " 34.7,\n",
       " 34.69,\n",
       " 34.69,\n",
       " 34.68,\n",
       " 34.67,\n",
       " 34.66,\n",
       " 34.66,\n",
       " 34.65,\n",
       " 34.64,\n",
       " 34.63,\n",
       " 34.63,\n",
       " 34.62,\n",
       " 34.61,\n",
       " 34.61,\n",
       " 34.6,\n",
       " 34.59,\n",
       " 34.59,\n",
       " 34.58,\n",
       " 34.57,\n",
       " 34.57,\n",
       " 34.56,\n",
       " 34.56,\n",
       " 34.57,\n",
       " 34.58,\n",
       " 34.58,\n",
       " 34.59,\n",
       " 34.59,\n",
       " 34.6,\n",
       " 34.6,\n",
       " 34.6,\n",
       " 34.6,\n",
       " 34.6,\n",
       " 34.61,\n",
       " 34.61,\n",
       " 34.6,\n",
       " 34.6,\n",
       " 34.6,\n",
       " 34.6,\n",
       " 34.6,\n",
       " 34.6,\n",
       " 34.6,\n",
       " 34.6,\n",
       " 34.6,\n",
       " 34.6,\n",
       " 34.6,\n",
       " 34.6,\n",
       " 34.6,\n",
       " 34.6,\n",
       " 34.6,\n",
       " 34.6,\n",
       " 34.6,\n",
       " 34.6,\n",
       " 34.6,\n",
       " 34.6,\n",
       " 34.6,\n",
       " 34.6,\n",
       " 34.6,\n",
       " 34.6,\n",
       " 34.6,\n",
       " 34.6,\n",
       " 34.6,\n",
       " 34.6,\n",
       " 34.6,\n",
       " 34.59,\n",
       " 34.59,\n",
       " 34.59,\n",
       " 34.59,\n",
       " 34.59,\n",
       " 34.59,\n",
       " 34.59,\n",
       " 34.59,\n",
       " 34.59,\n",
       " 34.59,\n",
       " 34.59,\n",
       " 34.59,\n",
       " 34.59,\n",
       " 34.59,\n",
       " 34.59,\n",
       " 34.59,\n",
       " 34.59,\n",
       " 34.59,\n",
       " 34.59,\n",
       " 34.59,\n",
       " 34.59,\n",
       " 34.59,\n",
       " 34.59,\n",
       " 34.59,\n",
       " 34.59,\n",
       " 34.59,\n",
       " 34.59,\n",
       " 34.59,\n",
       " 34.59,\n",
       " 34.59,\n",
       " 34.59,\n",
       " 34.59,\n",
       " 34.59,\n",
       " 34.59,\n",
       " 34.59,\n",
       " 34.59,\n",
       " 34.59,\n",
       " 34.59,\n",
       " 34.59,\n",
       " 34.59,\n",
       " 34.59,\n",
       " 34.59,\n",
       " 34.59,\n",
       " 34.59,\n",
       " 34.59,\n",
       " 34.59,\n",
       " 34.59,\n",
       " 34.59,\n",
       " 34.59,\n",
       " 34.59,\n",
       " 34.59,\n",
       " 34.59,\n",
       " 34.59,\n",
       " 34.59,\n",
       " 34.59,\n",
       " 34.59,\n",
       " 34.59,\n",
       " 34.59,\n",
       " 34.59,\n",
       " 34.59,\n",
       " 34.59,\n",
       " 34.59,\n",
       " 34.59,\n",
       " 34.59,\n",
       " 34.59,\n",
       " 34.59,\n",
       " 34.59,\n",
       " 34.59,\n",
       " 34.59,\n",
       " 34.59,\n",
       " 34.59,\n",
       " 34.59,\n",
       " 34.59,\n",
       " 34.59,\n",
       " 34.59,\n",
       " 34.59,\n",
       " 34.59,\n",
       " 34.59,\n",
       " 34.59,\n",
       " 34.59,\n",
       " 34.59,\n",
       " 34.59,\n",
       " 34.59,\n",
       " 34.59,\n",
       " 34.59,\n",
       " 34.59,\n",
       " 34.59,\n",
       " 34.59,\n",
       " 34.59,\n",
       " 34.59,\n",
       " 34.59,\n",
       " 34.59,\n",
       " 34.59]"
      ]
     },
     "execution_count": 33,
     "metadata": {},
     "output_type": "execute_result"
    }
   ],
   "source": [
    "from keras.models import load_model\n",
    "model_in = load_model('../static/all_model.sav')\n",
    "from sklearn.preprocessing import MinMaxScaler\n",
    "scaler = MinMaxScaler(feature_range=(0,1))\n",
    "\n",
    "price_list=[]\n",
    "\n",
    "#Function to predict future days predicted price, in loop\n",
    "input = 180 #days\n",
    "if input == \"\":\n",
    "    input = 180\n",
    "else:\n",
    "   input = int(input)\n",
    "\n",
    "def predict_all(last_sixty,model_in,input):\n",
    "    for i in range(1, input):\n",
    "\n",
    "        #Takes df and converts to model's predict shape\n",
    "        last_sixty_scaled = scaler.fit_transform(last_sixty)\n",
    "        new_X_tell = []\n",
    "        new_X_tell.append(last_sixty_scaled)\n",
    "        new_X_tell =np.array(new_X_tell)\n",
    "        new_X_tell =np.reshape(new_X_tell, (new_X_tell.shape[0], new_X_tell.shape[1],1))\n",
    "        \n",
    "        model_in_pd_scale = model_in.predict(new_X_tell)\n",
    "        model_in_price = scaler.inverse_transform(model_in_pd_scale) # New price predicted\n",
    "\n",
    "        last_sixty_less_one = np.delete(last_sixty, 0, 0)\n",
    "        last_sixty = np.append(last_sixty_less_one, model_in_price,axis = 0) # Update last 60\n",
    "        print(i)\n",
    "        print(\"Day finished! Price: \")\n",
    "        price_float = float(model_in_price)\n",
    "        price = round(price_float, 2)\n",
    "        price_list.append(price)\n",
    "    else:\n",
    "        print(\"Could not predict further!\")\n",
    "        print(input)\n",
    "    # print(price_list)\n",
    "    return price_list\n",
    "\n",
    "price_pred = predict_all(last_sixty,model_in,input)\n",
    "price_pred"
   ]
  },
  {
   "cell_type": "code",
   "execution_count": 34,
   "metadata": {},
   "outputs": [
    {
     "name": "stdout",
     "output_type": "stream",
     "text": [
      "<bound method NDFrame.tail of      Count        Date        DOW\n",
      "0        1  02-09-2022     Friday\n",
      "1        2  05-09-2022     Monday\n",
      "2        3  06-09-2022    Tuesday\n",
      "3        4  07-09-2022  Wednesday\n",
      "4        5  08-09-2022   Thursday\n",
      "..     ...         ...        ...\n",
      "203    204  14-06-2023  Wednesday\n",
      "204    205  15-06-2023   Thursday\n",
      "205    206  16-06-2023     Friday\n",
      "206    207  19-06-2023     Monday\n",
      "207    208  20-06-2023    Tuesday\n",
      "\n",
      "[208 rows x 3 columns]>\n"
     ]
    }
   ],
   "source": [
    "import pandas as pd\n",
    "from datetime import date,datetime,timedelta\n",
    "today1 = date.today()\n",
    "count=[]\n",
    "dates=[]\n",
    "dow=[]\n",
    "row=0\n",
    "for x in range(1,293,1): \n",
    "  d=today1+timedelta(days=x)\n",
    "  a=d.strftime(\"%A\")\n",
    "  if a != \"Saturday\" and a != \"Sunday\":\n",
    "     dates.append(d.strftime('%d-%m-%Y'))\n",
    "     dow.append(a)\n",
    "     row=row+1\n",
    "     count.append(row)\n",
    "\n",
    "data = {'Count': count,\n",
    "        'Date': dates,\n",
    "        'DOW': dow\n",
    "        }\n",
    "dates_df = pd.DataFrame(data)\n",
    "print (dates_df.tail)"
   ]
  },
  {
   "cell_type": "code",
   "execution_count": 35,
   "metadata": {},
   "outputs": [
    {
     "name": "stdout",
     "output_type": "stream",
     "text": [
      "Today plus one day:   02-09-2022\n",
      "Predicted next date in mongodb:   31-08-2022\n",
      "Dates need to be updated02-09-2022  31-08-2022\n",
      "[[1 '02-09-2022' 'Friday']\n",
      " [2 '05-09-2022' 'Monday']\n",
      " [3 '06-09-2022' 'Tuesday']\n",
      " [4 '07-09-2022' 'Wednesday']\n",
      " [5 '08-09-2022' 'Thursday']\n",
      " [6 '09-09-2022' 'Friday']\n",
      " [7 '12-09-2022' 'Monday']\n",
      " [8 '13-09-2022' 'Tuesday']\n",
      " [9 '14-09-2022' 'Wednesday']\n",
      " [10 '15-09-2022' 'Thursday']\n",
      " [11 '16-09-2022' 'Friday']\n",
      " [12 '19-09-2022' 'Monday']\n",
      " [13 '20-09-2022' 'Tuesday']\n",
      " [14 '21-09-2022' 'Wednesday']\n",
      " [15 '22-09-2022' 'Thursday']\n",
      " [16 '23-09-2022' 'Friday']\n",
      " [17 '26-09-2022' 'Monday']\n",
      " [18 '27-09-2022' 'Tuesday']\n",
      " [19 '28-09-2022' 'Wednesday']\n",
      " [20 '29-09-2022' 'Thursday']\n",
      " [21 '30-09-2022' 'Friday']\n",
      " [22 '03-10-2022' 'Monday']\n",
      " [23 '04-10-2022' 'Tuesday']\n",
      " [24 '05-10-2022' 'Wednesday']\n",
      " [25 '06-10-2022' 'Thursday']\n",
      " [26 '07-10-2022' 'Friday']\n",
      " [27 '10-10-2022' 'Monday']\n",
      " [28 '11-10-2022' 'Tuesday']\n",
      " [29 '12-10-2022' 'Wednesday']\n",
      " [30 '13-10-2022' 'Thursday']\n",
      " [31 '14-10-2022' 'Friday']\n",
      " [32 '17-10-2022' 'Monday']\n",
      " [33 '18-10-2022' 'Tuesday']\n",
      " [34 '19-10-2022' 'Wednesday']\n",
      " [35 '20-10-2022' 'Thursday']\n",
      " [36 '21-10-2022' 'Friday']\n",
      " [37 '24-10-2022' 'Monday']\n",
      " [38 '25-10-2022' 'Tuesday']\n",
      " [39 '26-10-2022' 'Wednesday']\n",
      " [40 '27-10-2022' 'Thursday']\n",
      " [41 '28-10-2022' 'Friday']\n",
      " [42 '31-10-2022' 'Monday']\n",
      " [43 '01-11-2022' 'Tuesday']\n",
      " [44 '02-11-2022' 'Wednesday']\n",
      " [45 '03-11-2022' 'Thursday']\n",
      " [46 '04-11-2022' 'Friday']\n",
      " [47 '07-11-2022' 'Monday']\n",
      " [48 '08-11-2022' 'Tuesday']\n",
      " [49 '09-11-2022' 'Wednesday']\n",
      " [50 '10-11-2022' 'Thursday']\n",
      " [51 '11-11-2022' 'Friday']\n",
      " [52 '14-11-2022' 'Monday']\n",
      " [53 '15-11-2022' 'Tuesday']\n",
      " [54 '16-11-2022' 'Wednesday']\n",
      " [55 '17-11-2022' 'Thursday']\n",
      " [56 '18-11-2022' 'Friday']\n",
      " [57 '21-11-2022' 'Monday']\n",
      " [58 '22-11-2022' 'Tuesday']\n",
      " [59 '23-11-2022' 'Wednesday']\n",
      " [60 '24-11-2022' 'Thursday']\n",
      " [61 '25-11-2022' 'Friday']\n",
      " [62 '28-11-2022' 'Monday']\n",
      " [63 '29-11-2022' 'Tuesday']\n",
      " [64 '30-11-2022' 'Wednesday']\n",
      " [65 '01-12-2022' 'Thursday']\n",
      " [66 '02-12-2022' 'Friday']\n",
      " [67 '05-12-2022' 'Monday']\n",
      " [68 '06-12-2022' 'Tuesday']\n",
      " [69 '07-12-2022' 'Wednesday']\n",
      " [70 '08-12-2022' 'Thursday']\n",
      " [71 '09-12-2022' 'Friday']\n",
      " [72 '12-12-2022' 'Monday']\n",
      " [73 '13-12-2022' 'Tuesday']\n",
      " [74 '14-12-2022' 'Wednesday']\n",
      " [75 '15-12-2022' 'Thursday']\n",
      " [76 '16-12-2022' 'Friday']\n",
      " [77 '19-12-2022' 'Monday']\n",
      " [78 '20-12-2022' 'Tuesday']\n",
      " [79 '21-12-2022' 'Wednesday']\n",
      " [80 '22-12-2022' 'Thursday']\n",
      " [81 '23-12-2022' 'Friday']\n",
      " [82 '26-12-2022' 'Monday']\n",
      " [83 '27-12-2022' 'Tuesday']\n",
      " [84 '28-12-2022' 'Wednesday']\n",
      " [85 '29-12-2022' 'Thursday']\n",
      " [86 '30-12-2022' 'Friday']\n",
      " [87 '02-01-2023' 'Monday']\n",
      " [88 '03-01-2023' 'Tuesday']\n",
      " [89 '04-01-2023' 'Wednesday']\n",
      " [90 '05-01-2023' 'Thursday']\n",
      " [91 '06-01-2023' 'Friday']\n",
      " [92 '09-01-2023' 'Monday']\n",
      " [93 '10-01-2023' 'Tuesday']\n",
      " [94 '11-01-2023' 'Wednesday']\n",
      " [95 '12-01-2023' 'Thursday']\n",
      " [96 '13-01-2023' 'Friday']\n",
      " [97 '16-01-2023' 'Monday']\n",
      " [98 '17-01-2023' 'Tuesday']\n",
      " [99 '18-01-2023' 'Wednesday']\n",
      " [100 '19-01-2023' 'Thursday']\n",
      " [101 '20-01-2023' 'Friday']\n",
      " [102 '23-01-2023' 'Monday']\n",
      " [103 '24-01-2023' 'Tuesday']\n",
      " [104 '25-01-2023' 'Wednesday']\n",
      " [105 '26-01-2023' 'Thursday']\n",
      " [106 '27-01-2023' 'Friday']\n",
      " [107 '30-01-2023' 'Monday']\n",
      " [108 '31-01-2023' 'Tuesday']\n",
      " [109 '01-02-2023' 'Wednesday']\n",
      " [110 '02-02-2023' 'Thursday']\n",
      " [111 '03-02-2023' 'Friday']\n",
      " [112 '06-02-2023' 'Monday']\n",
      " [113 '07-02-2023' 'Tuesday']\n",
      " [114 '08-02-2023' 'Wednesday']\n",
      " [115 '09-02-2023' 'Thursday']\n",
      " [116 '10-02-2023' 'Friday']\n",
      " [117 '13-02-2023' 'Monday']\n",
      " [118 '14-02-2023' 'Tuesday']\n",
      " [119 '15-02-2023' 'Wednesday']\n",
      " [120 '16-02-2023' 'Thursday']\n",
      " [121 '17-02-2023' 'Friday']\n",
      " [122 '20-02-2023' 'Monday']\n",
      " [123 '21-02-2023' 'Tuesday']\n",
      " [124 '22-02-2023' 'Wednesday']\n",
      " [125 '23-02-2023' 'Thursday']\n",
      " [126 '24-02-2023' 'Friday']\n",
      " [127 '27-02-2023' 'Monday']\n",
      " [128 '28-02-2023' 'Tuesday']\n",
      " [129 '01-03-2023' 'Wednesday']\n",
      " [130 '02-03-2023' 'Thursday']\n",
      " [131 '03-03-2023' 'Friday']\n",
      " [132 '06-03-2023' 'Monday']\n",
      " [133 '07-03-2023' 'Tuesday']\n",
      " [134 '08-03-2023' 'Wednesday']\n",
      " [135 '09-03-2023' 'Thursday']\n",
      " [136 '10-03-2023' 'Friday']\n",
      " [137 '13-03-2023' 'Monday']\n",
      " [138 '14-03-2023' 'Tuesday']\n",
      " [139 '15-03-2023' 'Wednesday']\n",
      " [140 '16-03-2023' 'Thursday']\n",
      " [141 '17-03-2023' 'Friday']\n",
      " [142 '20-03-2023' 'Monday']\n",
      " [143 '21-03-2023' 'Tuesday']\n",
      " [144 '22-03-2023' 'Wednesday']\n",
      " [145 '23-03-2023' 'Thursday']\n",
      " [146 '24-03-2023' 'Friday']\n",
      " [147 '27-03-2023' 'Monday']\n",
      " [148 '28-03-2023' 'Tuesday']\n",
      " [149 '29-03-2023' 'Wednesday']\n",
      " [150 '30-03-2023' 'Thursday']\n",
      " [151 '31-03-2023' 'Friday']\n",
      " [152 '03-04-2023' 'Monday']\n",
      " [153 '04-04-2023' 'Tuesday']\n",
      " [154 '05-04-2023' 'Wednesday']\n",
      " [155 '06-04-2023' 'Thursday']\n",
      " [156 '07-04-2023' 'Friday']\n",
      " [157 '10-04-2023' 'Monday']\n",
      " [158 '11-04-2023' 'Tuesday']\n",
      " [159 '12-04-2023' 'Wednesday']\n",
      " [160 '13-04-2023' 'Thursday']\n",
      " [161 '14-04-2023' 'Friday']\n",
      " [162 '17-04-2023' 'Monday']\n",
      " [163 '18-04-2023' 'Tuesday']\n",
      " [164 '19-04-2023' 'Wednesday']\n",
      " [165 '20-04-2023' 'Thursday']\n",
      " [166 '21-04-2023' 'Friday']\n",
      " [167 '24-04-2023' 'Monday']\n",
      " [168 '25-04-2023' 'Tuesday']\n",
      " [169 '26-04-2023' 'Wednesday']\n",
      " [170 '27-04-2023' 'Thursday']\n",
      " [171 '28-04-2023' 'Friday']\n",
      " [172 '01-05-2023' 'Monday']\n",
      " [173 '02-05-2023' 'Tuesday']\n",
      " [174 '03-05-2023' 'Wednesday']\n",
      " [175 '04-05-2023' 'Thursday']\n",
      " [176 '05-05-2023' 'Friday']\n",
      " [177 '08-05-2023' 'Monday']\n",
      " [178 '09-05-2023' 'Tuesday']\n",
      " [179 '10-05-2023' 'Wednesday']\n",
      " [180 '11-05-2023' 'Thursday']\n",
      " [181 '12-05-2023' 'Friday']\n",
      " [182 '15-05-2023' 'Monday']\n",
      " [183 '16-05-2023' 'Tuesday']\n",
      " [184 '17-05-2023' 'Wednesday']\n",
      " [185 '18-05-2023' 'Thursday']\n",
      " [186 '19-05-2023' 'Friday']\n",
      " [187 '22-05-2023' 'Monday']\n",
      " [188 '23-05-2023' 'Tuesday']\n",
      " [189 '24-05-2023' 'Wednesday']\n",
      " [190 '25-05-2023' 'Thursday']\n",
      " [191 '26-05-2023' 'Friday']\n",
      " [192 '29-05-2023' 'Monday']\n",
      " [193 '30-05-2023' 'Tuesday']\n",
      " [194 '31-05-2023' 'Wednesday']\n",
      " [195 '01-06-2023' 'Thursday']\n",
      " [196 '02-06-2023' 'Friday']\n",
      " [197 '05-06-2023' 'Monday']\n",
      " [198 '06-06-2023' 'Tuesday']\n",
      " [199 '07-06-2023' 'Wednesday']\n",
      " [200 '08-06-2023' 'Thursday']\n",
      " [201 '09-06-2023' 'Friday']\n",
      " [202 '12-06-2023' 'Monday']\n",
      " [203 '13-06-2023' 'Tuesday']\n",
      " [204 '14-06-2023' 'Wednesday']\n",
      " [205 '15-06-2023' 'Thursday']\n",
      " [206 '16-06-2023' 'Friday']\n",
      " [207 '19-06-2023' 'Monday']\n",
      " [208 '20-06-2023' 'Tuesday']]\n"
     ]
    }
   ],
   "source": [
    "today4 = date.today()\n",
    "d=today4+timedelta(days=1)\n",
    "d=d.strftime('%d-%m-%Y')\n",
    "print(\"Today plus one day:   \"+d)\n",
    "\n",
    "\n",
    "#Check if mongoDb now has latest data\n",
    "dates_df_mongo = pd.DataFrame(list(db.dates.find()))\n",
    "d_mdb = dates_df_mongo.iloc[0,2]\n",
    "print(\"Predicted next date in mongodb:   \"+d_mdb)\n",
    "\n",
    "# print(d,d_mdb)\n",
    "\n",
    "\n",
    "\n",
    "def update_date():\n",
    "    # Drop all previous records now in MongoDb\n",
    "    db.dates.drop()\n",
    "    records=dates_df.to_dict('records')\n",
    "\n",
    "    #INSERT NEW DATA INTO MONGODB\n",
    "    db.dates.insert_many(records)\n",
    "\n",
    "    #Check if mongoDb now has latest data\n",
    "    dates_mongo = pd.DataFrame(list(db.dates.find()))\n",
    "    dates_val = dates_mongo.iloc[:,1:].values\n",
    "    return dates_val\n",
    "\n",
    "if d==d_mdb:\n",
    "    print(\"Awesome! dates are already correctly updated!\")\n",
    "else:\n",
    "    print(\"Dates need to be updated\"+d+\"  \"+d_mdb)\n",
    "    dates_val = update_date()\n",
    "    print(dates_val)"
   ]
  },
  {
   "cell_type": "code",
   "execution_count": 36,
   "metadata": {},
   "outputs": [
    {
     "data": {
      "text/html": [
       "<div>\n",
       "<style scoped>\n",
       "    .dataframe tbody tr th:only-of-type {\n",
       "        vertical-align: middle;\n",
       "    }\n",
       "\n",
       "    .dataframe tbody tr th {\n",
       "        vertical-align: top;\n",
       "    }\n",
       "\n",
       "    .dataframe thead th {\n",
       "        text-align: right;\n",
       "    }\n",
       "</style>\n",
       "<table border=\"1\" class=\"dataframe\">\n",
       "  <thead>\n",
       "    <tr style=\"text-align: right;\">\n",
       "      <th></th>\n",
       "      <th>Count</th>\n",
       "      <th>Date</th>\n",
       "      <th>DOW</th>\n",
       "    </tr>\n",
       "  </thead>\n",
       "  <tbody>\n",
       "    <tr>\n",
       "      <th>0</th>\n",
       "      <td>1</td>\n",
       "      <td>02-09-2022</td>\n",
       "      <td>Friday</td>\n",
       "    </tr>\n",
       "    <tr>\n",
       "      <th>1</th>\n",
       "      <td>2</td>\n",
       "      <td>05-09-2022</td>\n",
       "      <td>Monday</td>\n",
       "    </tr>\n",
       "    <tr>\n",
       "      <th>2</th>\n",
       "      <td>3</td>\n",
       "      <td>06-09-2022</td>\n",
       "      <td>Tuesday</td>\n",
       "    </tr>\n",
       "    <tr>\n",
       "      <th>3</th>\n",
       "      <td>4</td>\n",
       "      <td>07-09-2022</td>\n",
       "      <td>Wednesday</td>\n",
       "    </tr>\n",
       "    <tr>\n",
       "      <th>4</th>\n",
       "      <td>5</td>\n",
       "      <td>08-09-2022</td>\n",
       "      <td>Thursday</td>\n",
       "    </tr>\n",
       "    <tr>\n",
       "      <th>...</th>\n",
       "      <td>...</td>\n",
       "      <td>...</td>\n",
       "      <td>...</td>\n",
       "    </tr>\n",
       "    <tr>\n",
       "      <th>203</th>\n",
       "      <td>204</td>\n",
       "      <td>14-06-2023</td>\n",
       "      <td>Wednesday</td>\n",
       "    </tr>\n",
       "    <tr>\n",
       "      <th>204</th>\n",
       "      <td>205</td>\n",
       "      <td>15-06-2023</td>\n",
       "      <td>Thursday</td>\n",
       "    </tr>\n",
       "    <tr>\n",
       "      <th>205</th>\n",
       "      <td>206</td>\n",
       "      <td>16-06-2023</td>\n",
       "      <td>Friday</td>\n",
       "    </tr>\n",
       "    <tr>\n",
       "      <th>206</th>\n",
       "      <td>207</td>\n",
       "      <td>19-06-2023</td>\n",
       "      <td>Monday</td>\n",
       "    </tr>\n",
       "    <tr>\n",
       "      <th>207</th>\n",
       "      <td>208</td>\n",
       "      <td>20-06-2023</td>\n",
       "      <td>Tuesday</td>\n",
       "    </tr>\n",
       "  </tbody>\n",
       "</table>\n",
       "<p>208 rows × 3 columns</p>\n",
       "</div>"
      ],
      "text/plain": [
       "     Count        Date        DOW\n",
       "0        1  02-09-2022     Friday\n",
       "1        2  05-09-2022     Monday\n",
       "2        3  06-09-2022    Tuesday\n",
       "3        4  07-09-2022  Wednesday\n",
       "4        5  08-09-2022   Thursday\n",
       "..     ...         ...        ...\n",
       "203    204  14-06-2023  Wednesday\n",
       "204    205  15-06-2023   Thursday\n",
       "205    206  16-06-2023     Friday\n",
       "206    207  19-06-2023     Monday\n",
       "207    208  20-06-2023    Tuesday\n",
       "\n",
       "[208 rows x 3 columns]"
      ]
     },
     "execution_count": 36,
     "metadata": {},
     "output_type": "execute_result"
    }
   ],
   "source": [
    "dates_df"
   ]
  },
  {
   "cell_type": "code",
   "execution_count": 37,
   "metadata": {},
   "outputs": [],
   "source": [
    "day1=dates_df.iloc[0,1]+\" \"+dates_df.iloc[0,2]\n",
    "day2=dates_df.iloc[1,1]+\" \"+dates_df.iloc[1,2]\n",
    "day3=dates_df.iloc[2,1]+\" \"+dates_df.iloc[2,2]\n",
    "day4=dates_df.iloc[3,1]+\" \"+dates_df.iloc[3,2]\n",
    "day5=dates_df.iloc[4,1]+\" \"+dates_df.iloc[4,2]\n",
    "day6=dates_df.iloc[5,1]+\" \"+dates_df.iloc[5,2]\n",
    "day7=dates_df.iloc[6,1]+\" \"+dates_df.iloc[6,2]\n",
    "day8=dates_df.iloc[7,1]+\" \"+dates_df.iloc[7,2]"
   ]
  },
  {
   "cell_type": "code",
   "execution_count": 38,
   "metadata": {},
   "outputs": [
    {
     "name": "stderr",
     "output_type": "stream",
     "text": [
      "C:\\Users\\antoi\\AppData\\Local\\Temp/ipykernel_10376/2507289043.py:4: SettingWithCopyWarning: \n",
      "A value is trying to be set on a copy of a slice from a DataFrame.\n",
      "Try using .loc[row_indexer,col_indexer] = value instead\n",
      "\n",
      "See the caveats in the documentation: https://pandas.pydata.org/pandas-docs/stable/user_guide/indexing.html#returning-a-view-versus-a-copy\n",
      "  dates_df_iloc['Price'] = price_list\n"
     ]
    },
    {
     "data": {
      "image/png": "[encoded data removed]",
      "text/plain": [
       "<Figure size 432x288 with 1 Axes>"
      ]
     },
     "metadata": {},
     "output_type": "display_data"
    }
   ],
   "source": [
    "# DRAW THE PREDICTION\n",
    "#Append the input amount of trading days to dates dictionary\n",
    "dates_df_iloc = dates_df.iloc[0:(input-1)]\n",
    "dates_df_iloc['Price'] = price_list\n",
    "plt.plot(dates_df_iloc['Price'])\n",
    "plt.title('ALL LSTM PREDICTIONS : '+last_date+\"  $\"+str(round(last_close,2)))\n",
    "plt.xlabel('Future Trading Days', fontsize=12)\n",
    "plt.ylabel('Close Price AUD ($)',fontsize=10)\n",
    "plt.xticks([0,25,50,75,100,125,150,175],[day1,day2,day3,day4,day5,day6,day7,day8],fontsize=9,rotation=35)\n",
    "plt.savefig('../static/data/images/pred/all_pred.png', bbox_inches=\"tight\")\n",
    "plt.show()"
   ]
  },
  {
   "cell_type": "code",
   "execution_count": 39,
   "metadata": {},
   "outputs": [
    {
     "name": "stdout",
     "output_type": "stream",
     "text": [
      "{'Count': 1, 'Date': '02-09-2022', 'DOW': 'Friday', 'Price': 34.96}\n"
     ]
    }
   ],
   "source": [
    "#Append the input amount of trading days to dates dictionary\n",
    "my_dict = dates_df_iloc.to_dict(orient='records')\n",
    "print(my_dict[0])\n",
    "price_dict = [dict(zip(['Price'],[x])) for x in price_list]\n",
    "# print(price_dict[0])"
   ]
  },
  {
   "cell_type": "code",
   "execution_count": 40,
   "metadata": {},
   "outputs": [
    {
     "name": "stdout",
     "output_type": "stream",
     "text": [
      "5283 6603 6763\n"
     ]
    }
   ],
   "source": [
    "len_df_mongo = len(df_mongo) # length of the original dataframe\n",
    "col_name = ['Close']\n",
    "df_filtered = df.filter(col_name)\n",
    "df_filtered_len = len(df_filtered.index)\n",
    "df_filtered_len\n",
    "len_pred_df = df_filtered_len+input # length of the original dataframe plus the users new inputs\n",
    "\n",
    "new_data =df_filtered.append(pd.DataFrame(price_list,columns=col_name),ignore_index=True)\n",
    "new_data.tail(10)\n",
    "print(train_data_len,len_df_mongo,len_pred_df)\n"
   ]
  },
  {
   "cell_type": "code",
   "execution_count": 41,
   "metadata": {},
   "outputs": [
    {
     "name": "stderr",
     "output_type": "stream",
     "text": [
      "C:\\Users\\antoi\\AppData\\Local\\Temp/ipykernel_10376/3391947158.py:6: SettingWithCopyWarning: \n",
      "A value is trying to be set on a copy of a slice from a DataFrame.\n",
      "Try using .loc[row_indexer,col_indexer] = value instead\n",
      "\n",
      "See the caveats in the documentation: https://pandas.pydata.org/pandas-docs/stable/user_guide/indexing.html#returning-a-view-versus-a-copy\n",
      "  valid['Predictions'] = predictions # another column for validating test\n"
     ]
    },
    {
     "data": {
      "image/png": "[encoded data removed]",
      "text/plain": [
       "<Figure size 1152x576 with 1 Axes>"
      ]
     },
     "metadata": {},
     "output_type": "display_data"
    }
   ],
   "source": [
    "#Plot the data to validate the test data\n",
    "\n",
    "plt.style.use('fivethirtyeight')\n",
    "train = new_data.iloc[:train_data_len] # actual train data from 0 rows until train data end\n",
    "valid = new_data.iloc[train_data_len:len_df_mongo] # actual test data from train data end until end of all sampled data\n",
    "valid['Predictions'] = predictions # another column for validating test\n",
    "predict = new_data.iloc[len_df_mongo:len_pred_df] # user prediction data from loop\n",
    "\n",
    "plt.figure(figsize=(16,8))\n",
    "plt.title('PREDICTION ALL Share Price - LSTM Model')\n",
    "plt.xlabel('Trading Date', fontsize=18)\n",
    "plt.ylabel('Close Price AUD ($)',fontsize=18)\n",
    "plt.plot(train['Close'])\n",
    "plt.plot(valid[['Close','Predictions']])\n",
    "plt.plot(predict['Close'])\n",
    "plt.legend(['Training data','Tested data','Validate test data','Prediction'],loc='lower right')\n",
    "x = np.arange(2000,2024,4)\n",
    "plt.xticks([0,1000,2000,3000,4000,5000],x)\n",
    "plt.savefig('../static/data/images/all_predict_graph.png')\n",
    "plt.show()"
   ]
  },
  {
   "cell_type": "markdown",
   "metadata": {},
   "source": [
    "#Save predicted price to MongoDB"
   ]
  },
  {
   "cell_type": "code",
   "execution_count": 42,
   "metadata": {},
   "outputs": [
    {
     "name": "stdout",
     "output_type": "stream",
     "text": [
      "{'_id': ObjectId('63083b64cd3920ce081aa1ec'), 'model': 'RFR', 'name': 'ALL', 'date': '25/08/2022', 'predicted': 31, 'actual': 36, 'difference': -4.9502, 'accuracy': 94.04}\n",
      "{'_id': ObjectId('630dc686ae0967d012939328'), 'model': 'LSTM', 'name': 'ALL', 'date': '30/08/2022', 'predicted': 34.34, 'actual': 35.3, 'difference': -0.96, 'rmse': 0.65113}\n",
      "01-09-2022\n"
     ]
    }
   ],
   "source": [
    "# Query all\n",
    "name = 'ALL'\n",
    "companys = db.companys.find({'name': name})\n",
    "# Iterate through each company in the collection\n",
    "for company in companys:\n",
    "    print(company)\n",
    "\n",
    "print(today)"
   ]
  },
  {
   "cell_type": "code",
   "execution_count": 43,
   "metadata": {},
   "outputs": [
    {
     "name": "stdout",
     "output_type": "stream",
     "text": [
      "01-09-2022 31/08/2022\n"
     ]
    }
   ],
   "source": [
    "print(today,last_date)"
   ]
  },
  {
   "cell_type": "code",
   "execution_count": 44,
   "metadata": {},
   "outputs": [
    {
     "name": "stdout",
     "output_type": "stream",
     "text": [
      "{'_id': ObjectId('63083b64cd3920ce081aa1ec'), 'model': 'RFR', 'name': 'ALL', 'date': '25/08/2022', 'predicted': 31, 'actual': 36, 'difference': -4.9502, 'accuracy': 94.04}\n"
     ]
    }
   ],
   "source": [
    "# Delete a document from a collection\n",
    "db.companys_agg.delete_one(\n",
    "    {'model': 'LSTM','name': name,'date':last_date}\n",
    ")\n",
    "db.companys.delete_one(\n",
    "    {'model': 'LSTM','name': name}\n",
    ")\n",
    "\n",
    "# query the companys collection\n",
    "companys = db.companys.find({'name': name})\n",
    "# see change in the collection\n",
    "for company in companys:\n",
    "    print(company)"
   ]
  },
  {
   "cell_type": "code",
   "execution_count": 45,
   "metadata": {},
   "outputs": [
    {
     "name": "stdout",
     "output_type": "stream",
     "text": [
      "INSERT: date 31/08/2022,predicted $34.33, actual $35.7, difference -1.3700000000000045, rmse 0.6667\n"
     ]
    }
   ],
   "source": [
    "# Set keys and values of company\n",
    "name = 'ALL'\n",
    "# Set keys and values of company\n",
    "last_close=round(float(last_close),2)\n",
    "difference = pred_price-last_close\n",
    "print(f'INSERT: date {last_date},predicted ${pred_price}, actual ${last_close}, difference {difference}, rmse {round(rmse,5)}')"
   ]
  },
  {
   "cell_type": "code",
   "execution_count": 46,
   "metadata": {},
   "outputs": [
    {
     "name": "stdout",
     "output_type": "stream",
     "text": [
      "{'_id': ObjectId('63083b64cd3920ce081aa1ec'), 'model': 'RFR', 'name': 'ALL', 'date': '25/08/2022', 'predicted': 31, 'actual': 36, 'difference': -4.9502, 'accuracy': 94.04}\n",
      "{'_id': ObjectId('630ffb2e41269e1989242249'), 'model': 'LSTM', 'name': 'ALL', 'date': '31/08/2022', 'predicted': 34.33, 'actual': 35.7, 'difference': -1.37, 'rmse': 0.6667}\n"
     ]
    }
   ],
   "source": [
    "# Insert a document into the 'companys' collection\n",
    "db.companys_agg.insert_one(\n",
    "    {\n",
    "      'model': 'LSTM',\n",
    "      'name': name,\n",
    "      'date': last_date,\n",
    "      'predicted': pred_price,\n",
    "      'actual': last_close,\n",
    "      'difference': round(difference,4),\n",
    "      'rmse': round(rmse,5)        \n",
    "    }\n",
    ")\n",
    "\n",
    "db.companys.insert_one(\n",
    "    {\n",
    "      'model': 'LSTM',\n",
    "      'name': name,\n",
    "      'date': last_date,\n",
    "      'predicted': pred_price,\n",
    "      'actual': last_close,\n",
    "      'difference': round(difference,4),\n",
    "      'rmse': round(rmse,5)        \n",
    "    }\n",
    ")\n",
    "\n",
    "# query the companys collection\n",
    "companys = db.companys.find({'name': name})\n",
    "\n",
    "# see change in collection\n",
    "for company in companys:\n",
    "    print(company)"
   ]
  },
  {
   "cell_type": "code",
   "execution_count": 47,
   "metadata": {},
   "outputs": [
    {
     "name": "stdout",
     "output_type": "stream",
     "text": [
      "{'_id': ObjectId('62ec4de61cfb4e6d9db0dc79'), 'model': 'LSTM', 'name': 'ALL', 'date': '04/08/2022', 'predicted': 33, 'actual': 35.12, 'difference': -2.12, 'rmse': 1.30634}\n",
      "{'_id': ObjectId('62eccf65ba8998cd29835929'), 'model': 'LSTM', 'name': 'ALL', 'date': '05/08/2022', 'predicted': 36, 'actual': 35.12, 'difference': 0.88, 'rmse': 1.69207}\n",
      "{'_id': ObjectId('62f0bc516eb9c30ce4d6de07'), 'model': 'LSTM', 'name': 'ALL', 'date': '08/08/2022', 'predicted': 33, 'actual': 34.06, 'difference': -1.06, 'rmse': 0.46389}\n",
      "{'_id': ObjectId('62f2053fe6ee820708a522a7'), 'model': 'LSTM', 'name': 'ALL', 'date': '09/08/2022', 'predicted': 34, 'actual': 34.53, 'difference': -0.53, 'rmse': 0.20756}\n",
      "{'_id': ObjectId('62f36b45c0c176a3a2f03719'), 'model': 'LSTM', 'name': 'ALL', 'date': '10/08/2022', 'predicted': 33, 'actual': 34.11, 'difference': -1.11, 'rmse': 0.14037}\n",
      "{'_id': ObjectId('62f9fbbf536671c90f137c73'), 'model': 'LSTM', 'name': 'ALL', 'date': '15/08/2022', 'predicted': 33.65, 'actual': 35.64, 'difference': -1.99, 'rmse': 0.92359}\n",
      "{'_id': ObjectId('62fb4ae6e17330de499251cb'), 'model': 'LSTM', 'name': 'ALL', 'date': '16/08/2022', 'predicted': 38.15, 'actual': 36.32, 'difference': 1.83, 'rmse': 2.85685}\n",
      "{'_id': ObjectId('62fd6d35b8a15a8b14a00aa8'), 'model': 'LSTM', 'name': 'ALL', 'date': '17/08/2022', 'predicted': 37.05, 'actual': 36.75, 'difference': 0.3, 'rmse': 1.30329}\n",
      "{'_id': ObjectId('6302ad8133887d0b8e31ac69'), 'model': 'LSTM', 'name': 'ALL', 'date': '19/08/2022', 'predicted': 36.07, 'actual': 36.35, 'difference': -0.28, 'rmse': 0.03521}\n",
      "{'_id': ObjectId('6302b328b33ab07a7e66cbdb'), 'model': 'LSTM', 'name': 'ALL', 'date': '19/08/2022', 'predicted': 36.3, 'actual': 36.35, 'difference': -0.05, 'rmse': 0.08995}\n",
      "{'_id': ObjectId('630334dbb33ab07a7e66cbe0'), 'model': 'LSTM', 'name': 'ALL', 'date': '22/08/2022', 'predicted': 38.92, 'actual': 35.38, 'difference': 3.54, 'rmse': 2.73763}\n",
      "{'_id': ObjectId('6304ad2bf3851404a369e9ad'), 'model': 'LSTM', 'name': 'ALL', 'date': '23/08/2022', 'predicted': 34.52, 'actual': 34.93, 'difference': -0.41, 'rmse': 0.68177}\n",
      "{'_id': ObjectId('6307270da25ac8ff42c58efc'), 'model': 'LSTM', 'name': 'ALL', 'date': '25/08/2022', 'predicted': 34.83, 'actual': 36.0, 'difference': -1.17, 'rmse': 0.37472}\n",
      "{'_id': ObjectId('630ae59125ef5744fd645e01'), 'model': 'LSTM', 'name': 'ALL', 'date': '26/08/2022', 'predicted': 36.42, 'actual': 35.96, 'difference': 0.46, 'rmse': 1.01103}\n",
      "{'_id': ObjectId('630c8b402ef5806fd1203d68'), 'model': 'LSTM', 'name': 'ALL', 'date': '29/08/2022', 'predicted': 34.86, 'actual': 35.1, 'difference': -0.24, 'rmse': 0.21941}\n",
      "{'_id': ObjectId('630dc686ae0967d012939327'), 'model': 'LSTM', 'name': 'ALL', 'date': '30/08/2022', 'predicted': 34.34, 'actual': 35.3, 'difference': -0.96, 'rmse': 0.65113}\n",
      "{'_id': ObjectId('630ffb2e41269e1989242248'), 'model': 'LSTM', 'name': 'ALL', 'date': '31/08/2022', 'predicted': 34.33, 'actual': 35.7, 'difference': -1.37, 'rmse': 0.6667}\n"
     ]
    }
   ],
   "source": [
    "# query all companys_agg collection\n",
    "companys = db.companys_agg.find({'name': name})\n",
    "\n",
    "# see change in collection\n",
    "for company in companys:\n",
    "    print(company)"
   ]
  },
  {
   "cell_type": "markdown",
   "metadata": {},
   "source": []
  },
  {
   "cell_type": "code",
   "execution_count": 48,
   "metadata": {},
   "outputs": [],
   "source": [
    "# # Delete a document from a collection\n",
    "# duplicate_date =\"12/08/2022\"\n",
    "# db.companys_agg.delete_one(\n",
    "#     {'model': 'LSTM','name': name,'date':duplicate_date}\n",
    "# )"
   ]
  }
 ],
 "metadata": {
  "kernel_info": {
   "name": "dev"
  },
  "kernelspec": {
   "display_name": "Python 3.9.7 ('base')",
   "language": "python",
   "name": "python3"
  },
  "language_info": {
   "codemirror_mode": {
    "name": "ipython",
    "version": 3
   },
   "file_extension": ".py",
   "mimetype": "text/x-python",
   "name": "python",
   "nbconvert_exporter": "python",
   "pygments_lexer": "ipython3",
   "version": "3.9.7"
  },
  "nteract": {
   "version": "0.12.3"
  },
  "vscode": {
   "interpreter": {
    "hash": "45bb1cb4637e4034484920e5cfb24c9afd84b0847d6c36e39edd3067d3a05462"
   }
  }
 },
 "nbformat": 4,
 "nbformat_minor": 2
}
