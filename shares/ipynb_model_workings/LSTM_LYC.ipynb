{
 "cells": [
  {
   "cell_type": "markdown",
   "metadata": {},
   "source": [
    "#This model uses LSTM to predict a Daily share price movements based on time series and batches of 60 days"
   ]
  },
  {
   "cell_type": "markdown",
   "metadata": {},
   "source": [
    "# Read the CSV and Perform Basic Data Cleaning"
   ]
  },
  {
   "cell_type": "code",
   "execution_count": 1,
   "metadata": {},
   "outputs": [],
   "source": [
    "import matplotlib.pyplot as plt\n",
    "import numpy as np\n",
    "import pandas as pd"
   ]
  },
  {
   "cell_type": "code",
   "execution_count": 2,
   "metadata": {},
   "outputs": [
    {
     "data": {
      "text/html": [
       "<div>\n",
       "<style scoped>\n",
       "    .dataframe tbody tr th:only-of-type {\n",
       "        vertical-align: middle;\n",
       "    }\n",
       "\n",
       "    .dataframe tbody tr th {\n",
       "        vertical-align: top;\n",
       "    }\n",
       "\n",
       "    .dataframe thead th {\n",
       "        text-align: right;\n",
       "    }\n",
       "</style>\n",
       "<table border=\"1\" class=\"dataframe\">\n",
       "  <thead>\n",
       "    <tr style=\"text-align: right;\">\n",
       "      <th></th>\n",
       "      <th>Date</th>\n",
       "      <th>Open</th>\n",
       "      <th>High</th>\n",
       "      <th>Low</th>\n",
       "      <th>Close</th>\n",
       "      <th>Adj Close</th>\n",
       "      <th>Volume</th>\n",
       "      <th>RBA</th>\n",
       "      <th>FED</th>\n",
       "      <th>CPI</th>\n",
       "    </tr>\n",
       "  </thead>\n",
       "  <tbody>\n",
       "    <tr>\n",
       "      <th>5729</th>\n",
       "      <td>4/07/2022</td>\n",
       "      <td>9.15</td>\n",
       "      <td>9.21</td>\n",
       "      <td>8.980</td>\n",
       "      <td>9.06</td>\n",
       "      <td>9.06</td>\n",
       "      <td>3278999</td>\n",
       "      <td>1.35</td>\n",
       "      <td>1.75</td>\n",
       "      <td>125.0</td>\n",
       "    </tr>\n",
       "    <tr>\n",
       "      <th>5730</th>\n",
       "      <td>5/07/2022</td>\n",
       "      <td>9.12</td>\n",
       "      <td>9.18</td>\n",
       "      <td>8.950</td>\n",
       "      <td>8.99</td>\n",
       "      <td>8.99</td>\n",
       "      <td>1582719</td>\n",
       "      <td>1.35</td>\n",
       "      <td>1.75</td>\n",
       "      <td>125.0</td>\n",
       "    </tr>\n",
       "    <tr>\n",
       "      <th>5731</th>\n",
       "      <td>6/07/2022</td>\n",
       "      <td>8.75</td>\n",
       "      <td>8.96</td>\n",
       "      <td>8.500</td>\n",
       "      <td>8.53</td>\n",
       "      <td>8.53</td>\n",
       "      <td>4174514</td>\n",
       "      <td>1.35</td>\n",
       "      <td>1.75</td>\n",
       "      <td>125.0</td>\n",
       "    </tr>\n",
       "    <tr>\n",
       "      <th>5732</th>\n",
       "      <td>7/07/2022</td>\n",
       "      <td>8.43</td>\n",
       "      <td>8.49</td>\n",
       "      <td>7.925</td>\n",
       "      <td>8.00</td>\n",
       "      <td>8.00</td>\n",
       "      <td>11241703</td>\n",
       "      <td>1.35</td>\n",
       "      <td>1.75</td>\n",
       "      <td>125.0</td>\n",
       "    </tr>\n",
       "    <tr>\n",
       "      <th>5733</th>\n",
       "      <td>8/07/2022</td>\n",
       "      <td>8.31</td>\n",
       "      <td>8.52</td>\n",
       "      <td>8.230</td>\n",
       "      <td>8.36</td>\n",
       "      <td>8.36</td>\n",
       "      <td>6211334</td>\n",
       "      <td>1.35</td>\n",
       "      <td>1.75</td>\n",
       "      <td>125.0</td>\n",
       "    </tr>\n",
       "  </tbody>\n",
       "</table>\n",
       "</div>"
      ],
      "text/plain": [
       "           Date  Open  High    Low  Close  Adj Close    Volume   RBA   FED  \\\n",
       "5729  4/07/2022  9.15  9.21  8.980   9.06       9.06   3278999  1.35  1.75   \n",
       "5730  5/07/2022  9.12  9.18  8.950   8.99       8.99   1582719  1.35  1.75   \n",
       "5731  6/07/2022  8.75  8.96  8.500   8.53       8.53   4174514  1.35  1.75   \n",
       "5732  7/07/2022  8.43  8.49  7.925   8.00       8.00  11241703  1.35  1.75   \n",
       "5733  8/07/2022  8.31  8.52  8.230   8.36       8.36   6211334  1.35  1.75   \n",
       "\n",
       "        CPI  \n",
       "5729  125.0  \n",
       "5730  125.0  \n",
       "5731  125.0  \n",
       "5732  125.0  \n",
       "5733  125.0  "
      ]
     },
     "execution_count": 2,
     "metadata": {},
     "output_type": "execute_result"
    }
   ],
   "source": [
    "df_stock1 = pd.read_csv(\"../static/data/LYC.csv\")\n",
    "# Drop the null columns where all values are null\n",
    "df_stock2 = df_stock1.dropna(axis='columns', how='all')\n",
    "# Drop the null rows\n",
    "df = df_stock2.dropna()\n",
    "# Drop the last rows to test prediction to actual\n",
    "df_stock_less1= df_stock2.iloc[:-1,:]\n",
    "df.tail()"
   ]
  },
  {
   "cell_type": "code",
   "execution_count": 3,
   "metadata": {},
   "outputs": [],
   "source": [
    "#Connect to MongoDb\n",
    "from pymongo import MongoClient\n",
    "mongoClient = MongoClient()\n",
    "db = mongoClient.sharesDB"
   ]
  },
  {
   "cell_type": "code",
   "execution_count": 4,
   "metadata": {},
   "outputs": [],
   "source": [
    "# # Drop all previous records now in MongoDb\n",
    "#db.lyc.drop()\n",
    "# # Insert all the records in the CSV into MongoDb\n",
    "# Insert df records in mongodb\n",
    "# records=df.to_dict('records')\n",
    "# records\n",
    "# db.lyc.insert_many(records)"
   ]
  },
  {
   "cell_type": "code",
   "execution_count": 5,
   "metadata": {},
   "outputs": [
    {
     "name": "stdout",
     "output_type": "stream",
     "text": [
      "DELETE: 28/07/2022 8.699999809265137\n"
     ]
    }
   ],
   "source": [
    "#Update latest data in mongoDb\n",
    "df_mongo = pd.DataFrame(list(db.lyc.find()))\n",
    "last_val = df_mongo.iloc[-1:].values\n",
    "\n",
    "last_date = last_val[0][1]\n",
    "last_close = last_val[0][5]\n",
    "print(\"DELETE: \"+last_date,last_close)\n",
    "\n",
    "db.lyc.delete_one(\n",
    "    {'Date': last_date}\n",
    ")"
   ]
  },
  {
   "cell_type": "code",
   "execution_count": 6,
   "metadata": {},
   "outputs": [
    {
     "name": "stdout",
     "output_type": "stream",
     "text": [
      "NEW LAST VALUE IN MONGODB: 27/07/2022 8.489999771118164\n",
      "Previous last date in MongoDb: 27-07-2022. Today's date: 02-08-2022\n"
     ]
    }
   ],
   "source": [
    "#Update latest data in mongoDb\n",
    "df_mongo = pd.DataFrame(list(db.lyc.find()))\n",
    "last_val = df_mongo.iloc[-1:].values\n",
    "\n",
    "last_date = last_val[0][1]\n",
    "last_close = last_val[0][5]\n",
    "print(\"NEW LAST VALUE IN MONGODB: \"+last_date,last_close)\n",
    "\n",
    "from datetime import date,datetime\n",
    "todaydt = date.today()\n",
    "today=todaydt.strftime('%d-%m-%Y')\n",
    "from_date = datetime.strptime(last_date, '%d/%m/%Y')\n",
    "last_date=from_date.strftime('%d-%m-%Y')\n",
    "print(\"Previous last date in MongoDb: \"+last_date+\". Today's date: \"+today)"
   ]
  },
  {
   "cell_type": "markdown",
   "metadata": {},
   "source": [
    "UPDATE MONGO DB"
   ]
  },
  {
   "cell_type": "code",
   "execution_count": 7,
   "metadata": {},
   "outputs": [
    {
     "data": {
      "text/html": [
       "<div>\n",
       "<style scoped>\n",
       "    .dataframe tbody tr th:only-of-type {\n",
       "        vertical-align: middle;\n",
       "    }\n",
       "\n",
       "    .dataframe tbody tr th {\n",
       "        vertical-align: top;\n",
       "    }\n",
       "\n",
       "    .dataframe thead th {\n",
       "        text-align: right;\n",
       "    }\n",
       "</style>\n",
       "<table border=\"1\" class=\"dataframe\">\n",
       "  <thead>\n",
       "    <tr style=\"text-align: right;\">\n",
       "      <th></th>\n",
       "      <th>High</th>\n",
       "      <th>Low</th>\n",
       "      <th>Open</th>\n",
       "      <th>Close</th>\n",
       "      <th>Volume</th>\n",
       "      <th>Adj Close</th>\n",
       "    </tr>\n",
       "    <tr>\n",
       "      <th>Date</th>\n",
       "      <th></th>\n",
       "      <th></th>\n",
       "      <th></th>\n",
       "      <th></th>\n",
       "      <th></th>\n",
       "      <th></th>\n",
       "    </tr>\n",
       "  </thead>\n",
       "  <tbody>\n",
       "    <tr>\n",
       "      <th>2022-07-28</th>\n",
       "      <td>8.76</td>\n",
       "      <td>8.540</td>\n",
       "      <td>8.65</td>\n",
       "      <td>8.72</td>\n",
       "      <td>3305955</td>\n",
       "      <td>8.72</td>\n",
       "    </tr>\n",
       "    <tr>\n",
       "      <th>2022-07-29</th>\n",
       "      <td>8.96</td>\n",
       "      <td>8.615</td>\n",
       "      <td>8.82</td>\n",
       "      <td>8.71</td>\n",
       "      <td>3372723</td>\n",
       "      <td>8.71</td>\n",
       "    </tr>\n",
       "    <tr>\n",
       "      <th>2022-08-01</th>\n",
       "      <td>9.17</td>\n",
       "      <td>8.860</td>\n",
       "      <td>8.90</td>\n",
       "      <td>9.10</td>\n",
       "      <td>4382085</td>\n",
       "      <td>9.10</td>\n",
       "    </tr>\n",
       "    <tr>\n",
       "      <th>2022-08-02</th>\n",
       "      <td>8.98</td>\n",
       "      <td>8.850</td>\n",
       "      <td>8.90</td>\n",
       "      <td>8.88</td>\n",
       "      <td>3741061</td>\n",
       "      <td>8.88</td>\n",
       "    </tr>\n",
       "  </tbody>\n",
       "</table>\n",
       "</div>"
      ],
      "text/plain": [
       "            High    Low  Open  Close   Volume  Adj Close\n",
       "Date                                                    \n",
       "2022-07-28  8.76  8.540  8.65   8.72  3305955       8.72\n",
       "2022-07-29  8.96  8.615  8.82   8.71  3372723       8.71\n",
       "2022-08-01  9.17  8.860  8.90   9.10  4382085       9.10\n",
       "2022-08-02  8.98  8.850  8.90   8.88  3741061       8.88"
      ]
     },
     "execution_count": 7,
     "metadata": {},
     "output_type": "execute_result"
    }
   ],
   "source": [
    "#Get latest quotes from yahoo finance:\n",
    "import pandas_datareader.data as web\n",
    "symbol = 'LYC.AX'\n",
    "start = from_date # yyyy-mm-dd\n",
    "end = todaydt  # yyyy-mm-dd\n",
    "stock_quote = web.DataReader(symbol,data_source='yahoo',start=start, end=end) # dataframe\n",
    "stock_quote=stock_quote.iloc[1:] #skips first record\n",
    "stock_quote\n"
   ]
  },
  {
   "cell_type": "code",
   "execution_count": 8,
   "metadata": {},
   "outputs": [
    {
     "data": {
      "text/html": [
       "<div>\n",
       "<style scoped>\n",
       "    .dataframe tbody tr th:only-of-type {\n",
       "        vertical-align: middle;\n",
       "    }\n",
       "\n",
       "    .dataframe tbody tr th {\n",
       "        vertical-align: top;\n",
       "    }\n",
       "\n",
       "    .dataframe thead th {\n",
       "        text-align: right;\n",
       "    }\n",
       "</style>\n",
       "<table border=\"1\" class=\"dataframe\">\n",
       "  <thead>\n",
       "    <tr style=\"text-align: right;\">\n",
       "      <th></th>\n",
       "      <th>Date</th>\n",
       "      <th>High</th>\n",
       "      <th>Low</th>\n",
       "      <th>Open</th>\n",
       "      <th>Close</th>\n",
       "      <th>Volume</th>\n",
       "      <th>Adj Close</th>\n",
       "      <th>RBA</th>\n",
       "      <th>FED</th>\n",
       "      <th>CPI</th>\n",
       "    </tr>\n",
       "  </thead>\n",
       "  <tbody>\n",
       "    <tr>\n",
       "      <th>0</th>\n",
       "      <td>28/07/2022</td>\n",
       "      <td>8.76</td>\n",
       "      <td>8.540</td>\n",
       "      <td>8.65</td>\n",
       "      <td>8.72</td>\n",
       "      <td>3305955</td>\n",
       "      <td>8.72</td>\n",
       "      <td>1.35</td>\n",
       "      <td>2.5</td>\n",
       "      <td>125</td>\n",
       "    </tr>\n",
       "    <tr>\n",
       "      <th>1</th>\n",
       "      <td>29/07/2022</td>\n",
       "      <td>8.96</td>\n",
       "      <td>8.615</td>\n",
       "      <td>8.82</td>\n",
       "      <td>8.71</td>\n",
       "      <td>3372723</td>\n",
       "      <td>8.71</td>\n",
       "      <td>1.35</td>\n",
       "      <td>2.5</td>\n",
       "      <td>125</td>\n",
       "    </tr>\n",
       "    <tr>\n",
       "      <th>2</th>\n",
       "      <td>01/08/2022</td>\n",
       "      <td>9.17</td>\n",
       "      <td>8.860</td>\n",
       "      <td>8.90</td>\n",
       "      <td>9.10</td>\n",
       "      <td>4382085</td>\n",
       "      <td>9.10</td>\n",
       "      <td>1.35</td>\n",
       "      <td>2.5</td>\n",
       "      <td>125</td>\n",
       "    </tr>\n",
       "    <tr>\n",
       "      <th>3</th>\n",
       "      <td>02/08/2022</td>\n",
       "      <td>8.98</td>\n",
       "      <td>8.850</td>\n",
       "      <td>8.90</td>\n",
       "      <td>8.88</td>\n",
       "      <td>3741061</td>\n",
       "      <td>8.88</td>\n",
       "      <td>1.35</td>\n",
       "      <td>2.5</td>\n",
       "      <td>125</td>\n",
       "    </tr>\n",
       "  </tbody>\n",
       "</table>\n",
       "</div>"
      ],
      "text/plain": [
       "         Date  High    Low  Open  Close   Volume  Adj Close   RBA  FED  CPI\n",
       "0  28/07/2022  8.76  8.540  8.65   8.72  3305955       8.72  1.35  2.5  125\n",
       "1  29/07/2022  8.96  8.615  8.82   8.71  3372723       8.71  1.35  2.5  125\n",
       "2  01/08/2022  9.17  8.860  8.90   9.10  4382085       9.10  1.35  2.5  125\n",
       "3  02/08/2022  8.98  8.850  8.90   8.88  3741061       8.88  1.35  2.5  125"
      ]
     },
     "execution_count": 8,
     "metadata": {},
     "output_type": "execute_result"
    }
   ],
   "source": [
    "tot=len(stock_quote)\n",
    "rba=1.35\n",
    "fed=2.5\n",
    "cpi=125\n",
    "a,b,c=[],[],[]\n",
    "for i in range(tot):\n",
    "    a.append(rba)\n",
    "    b.append(fed)\n",
    "    c.append(cpi)\n",
    "\n",
    "#ADD NEW DATA IN DATAFRAME\n",
    "stock_quote[\"RBA\"],stock_quote[\"FED\"],stock_quote[\"CPI\"] = a,b,c\n",
    "stock_quote.reset_index(inplace=True)\n",
    "\n",
    "stock_quote['Date'] = pd.to_datetime(stock_quote['Date'])\n",
    "stock_quote['Date']=stock_quote['Date'].dt.strftime('%d/%m/%Y')\n",
    "stock_quote['Date']=stock_quote['Date'].astype(str)\n",
    "\n",
    "stock_quote"
   ]
  },
  {
   "cell_type": "code",
   "execution_count": 9,
   "metadata": {},
   "outputs": [
    {
     "name": "stdout",
     "output_type": "stream",
     "text": [
      "[{'Date': '28/07/2022', 'High': 8.760000228881836, 'Low': 8.539999961853027, 'Open': 8.649999618530273, 'Close': 8.720000267028809, 'Volume': 3305955, 'Adj Close': 8.720000267028809, 'RBA': 1.35, 'FED': 2.5, 'CPI': 125}, {'Date': '29/07/2022', 'High': 8.960000038146973, 'Low': 8.614999771118164, 'Open': 8.819999694824219, 'Close': 8.710000038146973, 'Volume': 3372723, 'Adj Close': 8.710000038146973, 'RBA': 1.35, 'FED': 2.5, 'CPI': 125}, {'Date': '01/08/2022', 'High': 9.170000076293945, 'Low': 8.859999656677246, 'Open': 8.899999618530273, 'Close': 9.100000381469727, 'Volume': 4382085, 'Adj Close': 9.100000381469727, 'RBA': 1.35, 'FED': 2.5, 'CPI': 125}, {'Date': '02/08/2022', 'High': 8.979999542236328, 'Low': 8.850000381469727, 'Open': 8.899999618530273, 'Close': 8.880000114440918, 'Volume': 3741061, 'Adj Close': 8.880000114440918, 'RBA': 1.35, 'FED': 2.5, 'CPI': 125}]\n"
     ]
    }
   ],
   "source": [
    "records=stock_quote.to_dict('records',)\n",
    "print(records)"
   ]
  },
  {
   "cell_type": "code",
   "execution_count": 10,
   "metadata": {},
   "outputs": [
    {
     "data": {
      "text/plain": [
       "array([[ObjectId('62dcf77def27b9b2d9ba6cd8'), '20/07/2022',\n",
       "        8.180000305175781, 8.470000267028809, 8.079999923706055,\n",
       "        8.420000076293945, 8.420000076293945, 5035671, 1.35, 1.75, 125.0],\n",
       "       [ObjectId('62e215b8b468768a09acc557'), '21/07/2022',\n",
       "        8.4399995803833, 8.470000267028809, 8.130000114440918,\n",
       "        8.34000015258789, 8.34000015258789, 4447039, 1.35, 1.75, 125.0],\n",
       "       [ObjectId('62e215b8b468768a09acc558'), '22/07/2022',\n",
       "        8.3100004196167, 8.46500015258789, 8.15999984741211,\n",
       "        8.300000190734863, 8.300000190734863, 3884810, 1.35, 1.75, 125.0],\n",
       "       [ObjectId('62e215b8b468768a09acc559'), '25/07/2022',\n",
       "        8.220000267028809, 8.359999656677246, 8.220000267028809,\n",
       "        8.34000015258789, 8.34000015258789, 2001008, 1.35, 1.75, 125.0],\n",
       "       [ObjectId('62e215b8b468768a09acc55a'), '26/07/2022',\n",
       "        8.359999656677246, 8.609999656677246, 8.359999656677246,\n",
       "        8.550000190734863, 8.550000190734863, 3296130, 1.35, 1.75, 125.0],\n",
       "       [ObjectId('62e215b8b468768a09acc55b'), '27/07/2022', 8.5,\n",
       "        8.529999732971191, 8.279999732971191, 8.489999771118164,\n",
       "        8.489999771118164, 2299944, 1.35, 1.75, 125.0],\n",
       "       [ObjectId('62e8d0a46268ec69462793eb'), '28/07/2022',\n",
       "        8.649999618530273, 8.760000228881836, 8.539999961853027,\n",
       "        8.720000267028809, 8.720000267028809, 3305955, 1.35, 2.5, 125.0],\n",
       "       [ObjectId('62e8d0a46268ec69462793ec'), '29/07/2022',\n",
       "        8.819999694824219, 8.960000038146973, 8.614999771118164,\n",
       "        8.710000038146973, 8.710000038146973, 3372723, 1.35, 2.5, 125.0],\n",
       "       [ObjectId('62e8d0a46268ec69462793ed'), '01/08/2022',\n",
       "        8.899999618530273, 9.170000076293945, 8.859999656677246,\n",
       "        9.100000381469727, 9.100000381469727, 4382085, 1.35, 2.5, 125.0],\n",
       "       [ObjectId('62e8d0a46268ec69462793ee'), '02/08/2022',\n",
       "        8.899999618530273, 8.979999542236328, 8.850000381469727,\n",
       "        8.880000114440918, 8.880000114440918, 3741061, 1.35, 2.5, 125.0]],\n",
       "      dtype=object)"
      ]
     },
     "execution_count": 10,
     "metadata": {},
     "output_type": "execute_result"
    }
   ],
   "source": [
    "\n",
    "db.lyc.insert_many(records)\n",
    "#Check if mongoDb now has latest data\n",
    "df_mongo = pd.DataFrame(list(db.lyc.find()))\n",
    "last_vals = df_mongo.iloc[-10:].values\n",
    "last_vals"
   ]
  },
  {
   "cell_type": "code",
   "execution_count": 11,
   "metadata": {},
   "outputs": [
    {
     "name": "stdout",
     "output_type": "stream",
     "text": [
      "8.880000114440918 02/08/2022\n"
     ]
    }
   ],
   "source": [
    "import pandas as pd\n",
    "df_mongo = pd.DataFrame(list(db.lyc.find()))\n",
    "last_val_10 = df_mongo.iloc[-1:].values\n",
    "last_date = last_val_10[-1][1]\n",
    "last_close = last_val_10[-1][5]\n",
    "print(last_close,last_date)"
   ]
  },
  {
   "cell_type": "markdown",
   "metadata": {},
   "source": [
    "# # Pre-processing : Scale the data using the MinMaxScaler and split train data"
   ]
  },
  {
   "cell_type": "code",
   "execution_count": 12,
   "metadata": {},
   "outputs": [
    {
     "data": {
      "text/plain": [
       "(5751, 1)"
      ]
     },
     "execution_count": 12,
     "metadata": {},
     "output_type": "execute_result"
    }
   ],
   "source": [
    "df_mongo = pd.DataFrame(list(db.lyc.find()))\n",
    "# Drop the null columns where all values are null\n",
    "df_mongo = df_mongo.dropna(axis='columns', how='all')\n",
    "# Drop the null rows\n",
    "df_mongo = df_mongo.dropna()\n",
    "# df_mongo.shape\n",
    "len_df_mongo=len(df_mongo)\n",
    "data = df_mongo.filter([\"Close\"])\n",
    "dataset=data.values\n",
    "dataset.shape"
   ]
  },
  {
   "cell_type": "code",
   "execution_count": 13,
   "metadata": {},
   "outputs": [],
   "source": [
    "# data = df.filter(['Close'])\n",
    "# dataset = data.values\n",
    "# dataset.shape\t"
   ]
  },
  {
   "cell_type": "code",
   "execution_count": 14,
   "metadata": {},
   "outputs": [
    {
     "data": {
      "text/plain": [
       "(4601, 1)"
      ]
     },
     "execution_count": 14,
     "metadata": {},
     "output_type": "execute_result"
    }
   ],
   "source": [
    "# Scale your data\n",
    "from sklearn.preprocessing import MinMaxScaler\n",
    "\n",
    "scaler = MinMaxScaler(feature_range=(0,1))\n",
    "dataset_scaled = scaler.fit_transform(dataset)\n",
    "\n",
    "# Split into train or test\n",
    "import math\n",
    "train_data_len = math.ceil(len(dataset)*.8)\n",
    "train_data = dataset_scaled[0:train_data_len,:]\n",
    "train_data.shape\n"
   ]
  },
  {
   "cell_type": "code",
   "execution_count": 15,
   "metadata": {},
   "outputs": [
    {
     "name": "stdout",
     "output_type": "stream",
     "text": [
      "[array([0.02178009, 0.02077296, 0.01976587, 0.01976587, 0.01976587,\n",
      "       0.01875878, 0.02178009, 0.01875878, 0.02278718, 0.02278718,\n",
      "       0.02278718, 0.02278718, 0.02178009, 0.02178009, 0.01875878,\n",
      "       0.02077296, 0.02077296, 0.02077296, 0.01976587, 0.02077296,\n",
      "       0.02379427, 0.03185099, 0.03285808, 0.03487226, 0.03688644,\n",
      "       0.04192193, 0.03789353, 0.04393611, 0.04595029, 0.04796447,\n",
      "       0.04595029, 0.04595029, 0.04192193, 0.03789353, 0.03990775,\n",
      "       0.03890066, 0.04192193, 0.03990775, 0.03990775, 0.03789353,\n",
      "       0.03587935, 0.03285808, 0.03185099, 0.03487226, 0.03688644,\n",
      "       0.03990775, 0.03789353, 0.03386517, 0.03587935, 0.03587935,\n",
      "       0.03587935, 0.04192193, 0.03990775, 0.03990775, 0.0449432 ,\n",
      "       0.03990775, 0.04393611, 0.03990775, 0.03890066, 0.03890066])]\n",
      "[0.03890066154311104]\n"
     ]
    }
   ],
   "source": [
    "X_train = []\n",
    "y_train = []\n",
    "\n",
    "for i in range (60, len(train_data)):\n",
    "    X_train.append(train_data[i-60:i,0]) # contains 60 values\n",
    "    y_train.append(train_data[i,0])   # contains 61st value\n",
    "    if i<= 60:\n",
    "        print(X_train)\n",
    "        print(y_train) \n"
   ]
  },
  {
   "cell_type": "markdown",
   "metadata": {},
   "source": [
    "# Prepare train data for LSTM model"
   ]
  },
  {
   "cell_type": "code",
   "execution_count": 16,
   "metadata": {},
   "outputs": [
    {
     "data": {
      "text/plain": [
       "(4541, 60)"
      ]
     },
     "execution_count": 16,
     "metadata": {},
     "output_type": "execute_result"
    }
   ],
   "source": [
    "# Convert list to numpy array for LSTM model:\n",
    "X_train, y_train = np.array(X_train), np.array(y_train)\n",
    "X_train.shape"
   ]
  },
  {
   "cell_type": "code",
   "execution_count": 17,
   "metadata": {},
   "outputs": [
    {
     "data": {
      "text/plain": [
       "(4541, 60, 1)"
      ]
     },
     "execution_count": 17,
     "metadata": {},
     "output_type": "execute_result"
    }
   ],
   "source": [
    "# LSTM model expects 3D, reshape:\n",
    "X_train = np.reshape(X_train, (X_train.shape[0], X_train.shape[1], 1))\n",
    "X_train.shape"
   ]
  },
  {
   "cell_type": "markdown",
   "metadata": {},
   "source": [
    "# Build the LSTM model"
   ]
  },
  {
   "cell_type": "code",
   "execution_count": 18,
   "metadata": {},
   "outputs": [],
   "source": [
    "from tensorflow.keras.models import Sequential\n",
    "from tensorflow.keras.layers import Dense, LSTM\n",
    "model = Sequential()\n",
    "model.add(LSTM(50, return_sequences=True, input_shape=(X_train.shape[1], 1)))\n",
    "model.add(LSTM(50, return_sequences=False))\n",
    "model.add(Dense(25))\n",
    "model.add(Dense(1))"
   ]
  },
  {
   "cell_type": "code",
   "execution_count": 19,
   "metadata": {},
   "outputs": [],
   "source": [
    "model.compile(optimizer='adam', loss='mean_squared_error')"
   ]
  },
  {
   "cell_type": "code",
   "execution_count": 20,
   "metadata": {},
   "outputs": [
    {
     "name": "stdout",
     "output_type": "stream",
     "text": [
      "4541/4541 [==============================] - 68s 15ms/step - loss: 0.0010\n"
     ]
    },
    {
     "data": {
      "text/plain": [
       "<keras.callbacks.History at 0x1b65e2b5f70>"
      ]
     },
     "execution_count": 20,
     "metadata": {},
     "output_type": "execute_result"
    }
   ],
   "source": [
    "model.fit(X_train, y_train, batch_size=1, epochs=1)"
   ]
  },
  {
   "cell_type": "code",
   "execution_count": 21,
   "metadata": {},
   "outputs": [],
   "source": [
    "#Create test data\n",
    "test_data = dataset_scaled[train_data_len-60:,:]\n",
    "X_test = []\n",
    "y_test = dataset[train_data_len:,:]\n",
    "for i in range(60, len(test_data)):\n",
    " X_test.append(test_data[i-60:i,0])"
   ]
  },
  {
   "cell_type": "code",
   "execution_count": 22,
   "metadata": {},
   "outputs": [],
   "source": [
    "#Covert test data to a numpy array and reshape\n",
    "X_test = np.array(X_test)\n",
    "X_test = np.reshape(X_test, (X_test.shape[0],X_test.shape[1],1))"
   ]
  },
  {
   "cell_type": "code",
   "execution_count": 23,
   "metadata": {},
   "outputs": [],
   "source": [
    "#Get predicted prices\n",
    "predictions_lstm = model.predict(X_test)\n",
    "predictions = scaler.inverse_transform(predictions_lstm)"
   ]
  },
  {
   "cell_type": "code",
   "execution_count": 24,
   "metadata": {},
   "outputs": [
    {
     "data": {
      "text/plain": [
       "0.0183379671645521"
      ]
     },
     "execution_count": 24,
     "metadata": {},
     "output_type": "execute_result"
    }
   ],
   "source": [
    "#Get the root mean square error (RMSE) 0 being most favourable\n",
    "rmse = np.sqrt(np.mean(predictions-y_test)**2)\n",
    "rmse"
   ]
  },
  {
   "cell_type": "code",
   "execution_count": 25,
   "metadata": {},
   "outputs": [
    {
     "name": "stderr",
     "output_type": "stream",
     "text": [
      "C:\\Users\\antoi\\AppData\\Local\\Temp/ipykernel_27792/3474577724.py:5: SettingWithCopyWarning: \n",
      "A value is trying to be set on a copy of a slice from a DataFrame.\n",
      "Try using .loc[row_indexer,col_indexer] = value instead\n",
      "\n",
      "See the caveats in the documentation: https://pandas.pydata.org/pandas-docs/stable/user_guide/indexing.html#returning-a-view-versus-a-copy\n",
      "  valid['Predictions'] = predictions # another column for validating test\n"
     ]
    },
    {
     "data": {
      "image/png": "[encoded data removed]",
      "text/plain": [
       "<Figure size 1152x576 with 1 Axes>"
      ]
     },
     "metadata": {},
     "output_type": "display_data"
    }
   ],
   "source": [
    "#Plot the data to validate the test data\n",
    "plt.style.use('fivethirtyeight')\n",
    "train = data.iloc[:train_data_len] # actual train data from 0 rows until train data end\n",
    "valid = data.iloc[train_data_len:] # actual test data from train data end until end of all sampled data\n",
    "valid['Predictions'] = predictions # another column for validating test\n",
    "\n",
    "plt.figure(figsize=(16,8))\n",
    "plt.title('LYC LSTM Model')\n",
    "plt.xlabel('Trading Date', fontsize=18)\n",
    "plt.ylabel('Close Price AUD ($)',fontsize=18)\n",
    "plt.plot(train['Close'])\n",
    "plt.plot(valid[['Close','Predictions']])\n",
    "plt.legend(['Training','Validate','Tested'],loc='lower right')\n",
    "x = np.arange(2000,2024,4)\n",
    "plt.xticks([0,1000,2000,3000,4000,5000],x)\n",
    "plt.savefig('../static/data/images/lyc_graph.png')\n",
    "plt.show()"
   ]
  },
  {
   "cell_type": "markdown",
   "metadata": {},
   "source": [
    "# Test data Predictions on the Model"
   ]
  },
  {
   "cell_type": "code",
   "execution_count": 26,
   "metadata": {},
   "outputs": [
    {
     "name": "stderr",
     "output_type": "stream",
     "text": [
      "C:\\Users\\antoi\\AppData\\Local\\Temp/ipykernel_27792/3403988079.py:1: SettingWithCopyWarning: \n",
      "A value is trying to be set on a copy of a slice from a DataFrame.\n",
      "Try using .loc[row_indexer,col_indexer] = value instead\n",
      "\n",
      "See the caveats in the documentation: https://pandas.pydata.org/pandas-docs/stable/user_guide/indexing.html#returning-a-view-versus-a-copy\n",
      "  valid['Difference']= valid['Close']-valid['Predictions']\n"
     ]
    },
    {
     "data": {
      "text/plain": [
       "<bound method NDFrame.head of          Close  Predictions  Difference\n",
       "4601  2.100921     2.126303   -0.025382\n",
       "4602  2.031876     2.101973   -0.070097\n",
       "4603  1.982559     2.057464   -0.074905\n",
       "4604  2.002286     2.004715   -0.002429\n",
       "4605  2.150238     1.969968    0.180270\n",
       "...        ...          ...         ...\n",
       "5746  8.490000     8.527723   -0.037724\n",
       "5747  8.720000     8.570439    0.149561\n",
       "5748  8.710000     8.660704    0.049296\n",
       "5749  9.100000     8.733590    0.366410\n",
       "5750  8.880000     8.897622   -0.017622\n",
       "\n",
       "[1150 rows x 3 columns]>"
      ]
     },
     "execution_count": 26,
     "metadata": {},
     "output_type": "execute_result"
    }
   ],
   "source": [
    "valid['Difference']= valid['Close']-valid['Predictions']\n",
    "valid.head"
   ]
  },
  {
   "cell_type": "code",
   "execution_count": 27,
   "metadata": {},
   "outputs": [
    {
     "data": {
      "text/plain": [
       "(60, 1)"
      ]
     },
     "execution_count": 27,
     "metadata": {},
     "output_type": "execute_result"
    }
   ],
   "source": [
    "# Use last 60 days price on model to predict next days price\n",
    "import pandas as pd\n",
    "\n",
    "df_mongo = pd.DataFrame(list(db.wbc.find()))\n",
    "sixty_val = df_mongo.iloc[-60:,4].values\n",
    "last_sixty = sixty_val.reshape(-1,1)\n",
    "\n",
    "last_sixty.shape"
   ]
  },
  {
   "cell_type": "code",
   "execution_count": 28,
   "metadata": {},
   "outputs": [
    {
     "data": {
      "text/plain": [
       "(1, 60, 1)"
      ]
     },
     "execution_count": 28,
     "metadata": {},
     "output_type": "execute_result"
    }
   ],
   "source": [
    "last_60_days_scaled = scaler.transform(last_sixty)\n",
    "X_tell = []\n",
    "X_tell.append(last_60_days_scaled)\n",
    "X_tell =np.array(X_tell)\n",
    "X_tell =np.reshape(X_tell, (X_tell.shape[0], X_tell.shape[1],1))\n",
    "X_tell.shape"
   ]
  },
  {
   "cell_type": "code",
   "execution_count": 29,
   "metadata": {},
   "outputs": [
    {
     "name": "stdout",
     "output_type": "stream",
     "text": [
      "02/08/2022 Last close $8.880000114440918 Predicted next day share price $20.89\n"
     ]
    }
   ],
   "source": [
    "pred_price = model.predict(X_tell)\n",
    "pred_price = scaler.inverse_transform(pred_price)\n",
    "pred_price = round(float(pred_price),2)\n",
    "print(f'{last_date} Last close ${last_close} Predicted next day share price ${pred_price}')"
   ]
  },
  {
   "cell_type": "markdown",
   "metadata": {},
   "source": [
    "# Save the Model"
   ]
  },
  {
   "cell_type": "code",
   "execution_count": 30,
   "metadata": {},
   "outputs": [],
   "source": [
    "# Save the entire model to a HDF5 file.\n",
    "# The '.h5' extension indicates that the model should be saved to HDF5.\n",
    "filepath = '../static/lyc_model.sav'\n",
    "model.save(filepath, save_format=\"h5\")"
   ]
  },
  {
   "cell_type": "markdown",
   "metadata": {},
   "source": [
    "#Save last 60 days to a list lyc_sixty and load df"
   ]
  },
  {
   "cell_type": "markdown",
   "metadata": {},
   "source": [
    "#PREDICT USING LOADED MODEL"
   ]
  },
  {
   "cell_type": "code",
   "execution_count": 31,
   "metadata": {},
   "outputs": [],
   "source": [
    "from keras.models import load_model\n",
    "model_in = load_model('../static/lyc_model.sav')"
   ]
  },
  {
   "cell_type": "code",
   "execution_count": 32,
   "metadata": {},
   "outputs": [
    {
     "data": {
      "text/plain": [
       "array([[7.895     ],\n",
       "       [8.24      ],\n",
       "       [8.47      ],\n",
       "       [8.57      ],\n",
       "       [8.65      ],\n",
       "       [8.94      ],\n",
       "       [9.58      ],\n",
       "       [9.38      ],\n",
       "       [9.425     ],\n",
       "       [9.5       ],\n",
       "       [9.47      ],\n",
       "       [9.29      ],\n",
       "       [9.29      ],\n",
       "       [9.36      ],\n",
       "       [9.56      ],\n",
       "       [9.8       ],\n",
       "       [9.15      ],\n",
       "       [9.09      ],\n",
       "       [9.36      ],\n",
       "       [9.32      ],\n",
       "       [9.35      ],\n",
       "       [9.52      ],\n",
       "       [9.09      ],\n",
       "       [8.31      ],\n",
       "       [7.81      ],\n",
       "       [8.5       ],\n",
       "       [8.85      ],\n",
       "       [8.47      ],\n",
       "       [8.21      ],\n",
       "       [8.49      ],\n",
       "       [8.29      ],\n",
       "       [8.24      ],\n",
       "       [8.275     ],\n",
       "       [8.87      ],\n",
       "       [9.1       ],\n",
       "       [8.79      ],\n",
       "       [8.61      ],\n",
       "       [8.78      ],\n",
       "       [8.98      ],\n",
       "       [8.95      ],\n",
       "       [8.5       ],\n",
       "       [7.925     ],\n",
       "       [8.23      ],\n",
       "       [7.94000006],\n",
       "       [7.51999998],\n",
       "       [7.42000008],\n",
       "       [7.75      ],\n",
       "       [7.80999994],\n",
       "       [7.80000019],\n",
       "       [7.92999983],\n",
       "       [8.07999992],\n",
       "       [8.13000011],\n",
       "       [8.15999985],\n",
       "       [8.22000027],\n",
       "       [8.35999966],\n",
       "       [8.27999973],\n",
       "       [8.53999996],\n",
       "       [8.61499977],\n",
       "       [8.85999966],\n",
       "       [8.85000038]])"
      ]
     },
     "execution_count": 32,
     "metadata": {},
     "output_type": "execute_result"
    }
   ],
   "source": [
    "# query the lyc collection and load into dataframe\n",
    "\n",
    "df_mongo = pd.DataFrame(list(db.lyc.find()))\n",
    "sixty_val = df_mongo.iloc[-60:,4].values\n",
    "last_sixty = sixty_val.reshape(-1,1)\n",
    "\n",
    "last_sixty"
   ]
  },
  {
   "cell_type": "markdown",
   "metadata": {},
   "source": [
    "#Create a function to loop through the days input"
   ]
  },
  {
   "cell_type": "code",
   "execution_count": 33,
   "metadata": {},
   "outputs": [
    {
     "name": "stdout",
     "output_type": "stream",
     "text": [
      "1\n",
      "Day finished! Price: \n",
      "2\n",
      "Day finished! Price: \n",
      "3\n",
      "Day finished! Price: \n",
      "4\n",
      "Day finished! Price: \n",
      "5\n",
      "Day finished! Price: \n",
      "6\n",
      "Day finished! Price: \n",
      "7\n",
      "Day finished! Price: \n",
      "8\n",
      "Day finished! Price: \n",
      "9\n",
      "Day finished! Price: \n",
      "10\n",
      "Day finished! Price: \n",
      "11\n",
      "Day finished! Price: \n",
      "12\n",
      "Day finished! Price: \n",
      "13\n",
      "Day finished! Price: \n",
      "14\n",
      "Day finished! Price: \n",
      "15\n",
      "Day finished! Price: \n",
      "16\n",
      "Day finished! Price: \n",
      "17\n",
      "Day finished! Price: \n",
      "18\n",
      "Day finished! Price: \n",
      "19\n",
      "Day finished! Price: \n",
      "20\n",
      "Day finished! Price: \n",
      "21\n",
      "Day finished! Price: \n",
      "22\n",
      "Day finished! Price: \n",
      "23\n",
      "Day finished! Price: \n",
      "24\n",
      "Day finished! Price: \n",
      "25\n",
      "Day finished! Price: \n",
      "26\n",
      "Day finished! Price: \n",
      "27\n",
      "Day finished! Price: \n",
      "28\n",
      "Day finished! Price: \n",
      "29\n",
      "Day finished! Price: \n",
      "30\n",
      "Day finished! Price: \n",
      "31\n",
      "Day finished! Price: \n",
      "32\n",
      "Day finished! Price: \n",
      "33\n",
      "Day finished! Price: \n",
      "34\n",
      "Day finished! Price: \n",
      "35\n",
      "Day finished! Price: \n",
      "36\n",
      "Day finished! Price: \n",
      "37\n",
      "Day finished! Price: \n",
      "38\n",
      "Day finished! Price: \n",
      "39\n",
      "Day finished! Price: \n",
      "40\n",
      "Day finished! Price: \n",
      "41\n",
      "Day finished! Price: \n",
      "42\n",
      "Day finished! Price: \n",
      "43\n",
      "Day finished! Price: \n",
      "44\n",
      "Day finished! Price: \n",
      "45\n",
      "Day finished! Price: \n",
      "46\n",
      "Day finished! Price: \n",
      "47\n",
      "Day finished! Price: \n",
      "48\n",
      "Day finished! Price: \n",
      "49\n",
      "Day finished! Price: \n",
      "50\n",
      "Day finished! Price: \n",
      "51\n",
      "Day finished! Price: \n",
      "52\n",
      "Day finished! Price: \n",
      "53\n",
      "Day finished! Price: \n",
      "54\n",
      "Day finished! Price: \n",
      "55\n",
      "Day finished! Price: \n",
      "56\n",
      "Day finished! Price: \n",
      "57\n",
      "Day finished! Price: \n",
      "58\n",
      "Day finished! Price: \n",
      "59\n",
      "Day finished! Price: \n",
      "60\n",
      "Day finished! Price: \n",
      "61\n",
      "Day finished! Price: \n",
      "62\n",
      "Day finished! Price: \n",
      "63\n",
      "Day finished! Price: \n",
      "64\n",
      "Day finished! Price: \n",
      "65\n",
      "Day finished! Price: \n",
      "66\n",
      "Day finished! Price: \n",
      "67\n",
      "Day finished! Price: \n",
      "68\n",
      "Day finished! Price: \n",
      "69\n",
      "Day finished! Price: \n",
      "70\n",
      "Day finished! Price: \n",
      "71\n",
      "Day finished! Price: \n",
      "72\n",
      "Day finished! Price: \n",
      "73\n",
      "Day finished! Price: \n",
      "74\n",
      "Day finished! Price: \n",
      "75\n",
      "Day finished! Price: \n",
      "76\n",
      "Day finished! Price: \n",
      "77\n",
      "Day finished! Price: \n",
      "78\n",
      "Day finished! Price: \n",
      "79\n",
      "Day finished! Price: \n",
      "80\n",
      "Day finished! Price: \n",
      "81\n",
      "Day finished! Price: \n",
      "82\n",
      "Day finished! Price: \n",
      "83\n",
      "Day finished! Price: \n",
      "84\n",
      "Day finished! Price: \n",
      "85\n",
      "Day finished! Price: \n",
      "86\n",
      "Day finished! Price: \n",
      "87\n",
      "Day finished! Price: \n",
      "88\n",
      "Day finished! Price: \n",
      "89\n",
      "Day finished! Price: \n",
      "90\n",
      "Day finished! Price: \n",
      "91\n",
      "Day finished! Price: \n",
      "92\n",
      "Day finished! Price: \n",
      "93\n",
      "Day finished! Price: \n",
      "94\n",
      "Day finished! Price: \n",
      "95\n",
      "Day finished! Price: \n",
      "96\n",
      "Day finished! Price: \n",
      "97\n",
      "Day finished! Price: \n",
      "98\n",
      "Day finished! Price: \n",
      "99\n",
      "Day finished! Price: \n",
      "100\n",
      "Day finished! Price: \n",
      "101\n",
      "Day finished! Price: \n",
      "102\n",
      "Day finished! Price: \n",
      "103\n",
      "Day finished! Price: \n",
      "104\n",
      "Day finished! Price: \n",
      "105\n",
      "Day finished! Price: \n",
      "106\n",
      "Day finished! Price: \n",
      "107\n",
      "Day finished! Price: \n",
      "108\n",
      "Day finished! Price: \n",
      "109\n",
      "Day finished! Price: \n",
      "110\n",
      "Day finished! Price: \n",
      "111\n",
      "Day finished! Price: \n",
      "112\n",
      "Day finished! Price: \n",
      "113\n",
      "Day finished! Price: \n",
      "114\n",
      "Day finished! Price: \n",
      "115\n",
      "Day finished! Price: \n",
      "116\n",
      "Day finished! Price: \n",
      "117\n",
      "Day finished! Price: \n",
      "118\n",
      "Day finished! Price: \n",
      "119\n",
      "Day finished! Price: \n",
      "120\n",
      "Day finished! Price: \n",
      "121\n",
      "Day finished! Price: \n",
      "122\n",
      "Day finished! Price: \n",
      "123\n",
      "Day finished! Price: \n",
      "124\n",
      "Day finished! Price: \n",
      "125\n",
      "Day finished! Price: \n",
      "126\n",
      "Day finished! Price: \n",
      "127\n",
      "Day finished! Price: \n",
      "128\n",
      "Day finished! Price: \n",
      "129\n",
      "Day finished! Price: \n",
      "130\n",
      "Day finished! Price: \n",
      "131\n",
      "Day finished! Price: \n",
      "132\n",
      "Day finished! Price: \n",
      "133\n",
      "Day finished! Price: \n",
      "134\n",
      "Day finished! Price: \n",
      "135\n",
      "Day finished! Price: \n",
      "136\n",
      "Day finished! Price: \n",
      "137\n",
      "Day finished! Price: \n",
      "138\n",
      "Day finished! Price: \n",
      "139\n",
      "Day finished! Price: \n",
      "140\n",
      "Day finished! Price: \n",
      "141\n",
      "Day finished! Price: \n",
      "142\n",
      "Day finished! Price: \n",
      "143\n",
      "Day finished! Price: \n",
      "144\n",
      "Day finished! Price: \n",
      "145\n",
      "Day finished! Price: \n",
      "146\n",
      "Day finished! Price: \n",
      "147\n",
      "Day finished! Price: \n",
      "148\n",
      "Day finished! Price: \n",
      "149\n",
      "Day finished! Price: \n",
      "150\n",
      "Day finished! Price: \n",
      "151\n",
      "Day finished! Price: \n",
      "152\n",
      "Day finished! Price: \n",
      "153\n",
      "Day finished! Price: \n",
      "154\n",
      "Day finished! Price: \n",
      "155\n",
      "Day finished! Price: \n",
      "156\n",
      "Day finished! Price: \n",
      "157\n",
      "Day finished! Price: \n",
      "158\n",
      "Day finished! Price: \n",
      "159\n",
      "Day finished! Price: \n",
      "160\n",
      "Day finished! Price: \n",
      "161\n",
      "Day finished! Price: \n",
      "162\n",
      "Day finished! Price: \n",
      "163\n",
      "Day finished! Price: \n",
      "164\n",
      "Day finished! Price: \n",
      "165\n",
      "Day finished! Price: \n",
      "166\n",
      "Day finished! Price: \n",
      "167\n",
      "Day finished! Price: \n",
      "168\n",
      "Day finished! Price: \n",
      "169\n",
      "Day finished! Price: \n",
      "170\n",
      "Day finished! Price: \n",
      "171\n",
      "Day finished! Price: \n",
      "172\n",
      "Day finished! Price: \n",
      "173\n",
      "Day finished! Price: \n",
      "174\n",
      "Day finished! Price: \n",
      "175\n",
      "Day finished! Price: \n",
      "176\n",
      "Day finished! Price: \n",
      "177\n",
      "Day finished! Price: \n",
      "178\n",
      "Day finished! Price: \n",
      "179\n",
      "Day finished! Price: \n",
      "Could not predict further!\n",
      "180\n"
     ]
    },
    {
     "data": {
      "text/plain": [
       "[8.74,\n",
       " 8.77,\n",
       " 8.77,\n",
       " 8.77,\n",
       " 8.76,\n",
       " 8.74,\n",
       " 8.73,\n",
       " 8.73,\n",
       " 8.72,\n",
       " 8.71,\n",
       " 8.71,\n",
       " 8.71,\n",
       " 8.71,\n",
       " 8.71,\n",
       " 8.71,\n",
       " 8.72,\n",
       " 8.72,\n",
       " 8.72,\n",
       " 8.72,\n",
       " 8.72,\n",
       " 8.72,\n",
       " 8.73,\n",
       " 8.71,\n",
       " 8.71,\n",
       " 8.71,\n",
       " 8.7,\n",
       " 8.7,\n",
       " 8.69,\n",
       " 8.69,\n",
       " 8.68,\n",
       " 8.68,\n",
       " 8.68,\n",
       " 8.67,\n",
       " 8.67,\n",
       " 8.67,\n",
       " 8.66,\n",
       " 8.65,\n",
       " 8.65,\n",
       " 8.64,\n",
       " 8.64,\n",
       " 8.63,\n",
       " 8.62,\n",
       " 8.61,\n",
       " 8.61,\n",
       " 8.6,\n",
       " 8.59,\n",
       " 8.6,\n",
       " 8.59,\n",
       " 8.59,\n",
       " 8.59,\n",
       " 8.6,\n",
       " 8.6,\n",
       " 8.6,\n",
       " 8.6,\n",
       " 8.6,\n",
       " 8.6,\n",
       " 8.6,\n",
       " 8.6,\n",
       " 8.6,\n",
       " 8.6,\n",
       " 8.6,\n",
       " 8.6,\n",
       " 8.6,\n",
       " 8.6,\n",
       " 8.6,\n",
       " 8.6,\n",
       " 8.6,\n",
       " 8.6,\n",
       " 8.6,\n",
       " 8.6,\n",
       " 8.6,\n",
       " 8.6,\n",
       " 8.6,\n",
       " 8.6,\n",
       " 8.6,\n",
       " 8.6,\n",
       " 8.6,\n",
       " 8.6,\n",
       " 8.6,\n",
       " 8.6,\n",
       " 8.6,\n",
       " 8.6,\n",
       " 8.6,\n",
       " 8.6,\n",
       " 8.6,\n",
       " 8.6,\n",
       " 8.6,\n",
       " 8.6,\n",
       " 8.6,\n",
       " 8.6,\n",
       " 8.6,\n",
       " 8.6,\n",
       " 8.6,\n",
       " 8.6,\n",
       " 8.6,\n",
       " 8.6,\n",
       " 8.6,\n",
       " 8.6,\n",
       " 8.6,\n",
       " 8.6,\n",
       " 8.6,\n",
       " 8.6,\n",
       " 8.6,\n",
       " 8.6,\n",
       " 8.6,\n",
       " 8.6,\n",
       " 8.6,\n",
       " 8.6,\n",
       " 8.6,\n",
       " 8.6,\n",
       " 8.6,\n",
       " 8.6,\n",
       " 8.6,\n",
       " 8.6,\n",
       " 8.6,\n",
       " 8.6,\n",
       " 8.6,\n",
       " 8.6,\n",
       " 8.6,\n",
       " 8.6,\n",
       " 8.6,\n",
       " 8.6,\n",
       " 8.6,\n",
       " 8.6,\n",
       " 8.6,\n",
       " 8.6,\n",
       " 8.6,\n",
       " 8.6,\n",
       " 8.6,\n",
       " 8.6,\n",
       " 8.6,\n",
       " 8.6,\n",
       " 8.6,\n",
       " 8.6,\n",
       " 8.6,\n",
       " 8.6,\n",
       " 8.6,\n",
       " 8.6,\n",
       " 8.6,\n",
       " 8.6,\n",
       " 8.6,\n",
       " 8.6,\n",
       " 8.6,\n",
       " 8.6,\n",
       " 8.6,\n",
       " 8.6,\n",
       " 8.6,\n",
       " 8.6,\n",
       " 8.6,\n",
       " 8.6,\n",
       " 8.6,\n",
       " 8.6,\n",
       " 8.6,\n",
       " 8.6,\n",
       " 8.6,\n",
       " 8.6,\n",
       " 8.6,\n",
       " 8.6,\n",
       " 8.6,\n",
       " 8.6,\n",
       " 8.6,\n",
       " 8.6,\n",
       " 8.6,\n",
       " 8.6,\n",
       " 8.6,\n",
       " 8.6,\n",
       " 8.6,\n",
       " 8.6,\n",
       " 8.6,\n",
       " 8.6,\n",
       " 8.6,\n",
       " 8.6,\n",
       " 8.6,\n",
       " 8.6,\n",
       " 8.6,\n",
       " 8.6,\n",
       " 8.6,\n",
       " 8.6,\n",
       " 8.6]"
      ]
     },
     "execution_count": 33,
     "metadata": {},
     "output_type": "execute_result"
    }
   ],
   "source": [
    "from keras.models import load_model\n",
    "model_in = load_model('../static/lyc_model.sav')\n",
    "from sklearn.preprocessing import MinMaxScaler\n",
    "scaler = MinMaxScaler(feature_range=(0,1))\n",
    "\n",
    "price_list=[]\n",
    "\n",
    "#Function to predict future days predicted price, in loop\n",
    "input = 180 #days\n",
    "if input == \"\":\n",
    "    input = 180\n",
    "else:\n",
    "   input = int(input)\n",
    "\n",
    "def predict_lyc(last_sixty,model_in,input):\n",
    "    for i in range(1, input):\n",
    "\n",
    "        #Takes df and converts to model's predict shape\n",
    "        last_sixty_scaled = scaler.fit_transform(last_sixty)\n",
    "        new_X_tell = []\n",
    "        new_X_tell.append(last_sixty_scaled)\n",
    "        new_X_tell =np.array(new_X_tell)\n",
    "        new_X_tell =np.reshape(new_X_tell, (new_X_tell.shape[0], new_X_tell.shape[1],1))\n",
    "        \n",
    "        model_in_pd_scale = model_in.predict(new_X_tell)\n",
    "        model_in_price = scaler.inverse_transform(model_in_pd_scale) # New price predicted\n",
    "\n",
    "        last_sixty_less_one = np.delete(last_sixty, 0, 0)\n",
    "        last_sixty = np.append(last_sixty_less_one, model_in_price,axis = 0) # Update last 60\n",
    "        print(i)\n",
    "        print(\"Day finished! Price: \")\n",
    "        price_float = float(model_in_price)\n",
    "        price = round(price_float, 2)\n",
    "        price_list.append(price)\n",
    "    else:\n",
    "        print(\"Could not predict further!\")\n",
    "        print(input)\n",
    "    # print(price_list)\n",
    "    return price_list\n",
    "\n",
    "price_pred = predict_lyc(last_sixty,model_in,input)\n",
    "price_pred"
   ]
  },
  {
   "cell_type": "code",
   "execution_count": 34,
   "metadata": {},
   "outputs": [
    {
     "data": {
      "text/html": [
       "<div>\n",
       "<style scoped>\n",
       "    .dataframe tbody tr th:only-of-type {\n",
       "        vertical-align: middle;\n",
       "    }\n",
       "\n",
       "    .dataframe tbody tr th {\n",
       "        vertical-align: top;\n",
       "    }\n",
       "\n",
       "    .dataframe thead th {\n",
       "        text-align: right;\n",
       "    }\n",
       "</style>\n",
       "<table border=\"1\" class=\"dataframe\">\n",
       "  <thead>\n",
       "    <tr style=\"text-align: right;\">\n",
       "      <th></th>\n",
       "      <th>Count</th>\n",
       "      <th>Date</th>\n",
       "      <th>DOW</th>\n",
       "    </tr>\n",
       "  </thead>\n",
       "  <tbody>\n",
       "    <tr>\n",
       "      <th>0</th>\n",
       "      <td>1</td>\n",
       "      <td>11/07/2022</td>\n",
       "      <td>Monday</td>\n",
       "    </tr>\n",
       "    <tr>\n",
       "      <th>1</th>\n",
       "      <td>2</td>\n",
       "      <td>12/07/2022</td>\n",
       "      <td>Tuesday</td>\n",
       "    </tr>\n",
       "    <tr>\n",
       "      <th>2</th>\n",
       "      <td>3</td>\n",
       "      <td>13/07/2022</td>\n",
       "      <td>Wednesday</td>\n",
       "    </tr>\n",
       "    <tr>\n",
       "      <th>3</th>\n",
       "      <td>4</td>\n",
       "      <td>14/07/2022</td>\n",
       "      <td>Thursday</td>\n",
       "    </tr>\n",
       "    <tr>\n",
       "      <th>4</th>\n",
       "      <td>5</td>\n",
       "      <td>15/07/2022</td>\n",
       "      <td>Friday</td>\n",
       "    </tr>\n",
       "    <tr>\n",
       "      <th>...</th>\n",
       "      <td>...</td>\n",
       "      <td>...</td>\n",
       "      <td>...</td>\n",
       "    </tr>\n",
       "    <tr>\n",
       "      <th>260</th>\n",
       "      <td>261</td>\n",
       "      <td>10/07/2023</td>\n",
       "      <td>Monday</td>\n",
       "    </tr>\n",
       "    <tr>\n",
       "      <th>261</th>\n",
       "      <td>262</td>\n",
       "      <td>11/07/2023</td>\n",
       "      <td>Tuesday</td>\n",
       "    </tr>\n",
       "    <tr>\n",
       "      <th>262</th>\n",
       "      <td>263</td>\n",
       "      <td>12/07/2023</td>\n",
       "      <td>Wednesday</td>\n",
       "    </tr>\n",
       "    <tr>\n",
       "      <th>263</th>\n",
       "      <td>264</td>\n",
       "      <td>13/07/2023</td>\n",
       "      <td>Thursday</td>\n",
       "    </tr>\n",
       "    <tr>\n",
       "      <th>264</th>\n",
       "      <td>265</td>\n",
       "      <td>14/07/2023</td>\n",
       "      <td>Friday</td>\n",
       "    </tr>\n",
       "  </tbody>\n",
       "</table>\n",
       "<p>265 rows × 3 columns</p>\n",
       "</div>"
      ],
      "text/plain": [
       "     Count        Date        DOW\n",
       "0        1  11/07/2022     Monday\n",
       "1        2  12/07/2022    Tuesday\n",
       "2        3  13/07/2022  Wednesday\n",
       "3        4  14/07/2022   Thursday\n",
       "4        5  15/07/2022     Friday\n",
       "..     ...         ...        ...\n",
       "260    261  10/07/2023     Monday\n",
       "261    262  11/07/2023    Tuesday\n",
       "262    263  12/07/2023  Wednesday\n",
       "263    264  13/07/2023   Thursday\n",
       "264    265  14/07/2023     Friday\n",
       "\n",
       "[265 rows x 3 columns]"
      ]
     },
     "execution_count": 34,
     "metadata": {},
     "output_type": "execute_result"
    }
   ],
   "source": [
    "import pandas as pd\n",
    "dates_df = pd.read_csv(\"../static/data/dates.csv\")\n",
    "dates_df['Count'] = dates_df['Count'].fillna(0).astype(int)\n",
    "dates_df"
   ]
  },
  {
   "cell_type": "code",
   "execution_count": 35,
   "metadata": {},
   "outputs": [
    {
     "name": "stderr",
     "output_type": "stream",
     "text": [
      "C:\\Users\\antoi\\AppData\\Local\\Temp/ipykernel_27792/2869323903.py:4: SettingWithCopyWarning: \n",
      "A value is trying to be set on a copy of a slice from a DataFrame.\n",
      "Try using .loc[row_indexer,col_indexer] = value instead\n",
      "\n",
      "See the caveats in the documentation: https://pandas.pydata.org/pandas-docs/stable/user_guide/indexing.html#returning-a-view-versus-a-copy\n",
      "  dates_df_iloc['Price'] = price_list\n"
     ]
    },
    {
     "data": {
      "image/png": "[encoded data removed]",
      "text/plain": [
       "<Figure size 432x288 with 1 Axes>"
      ]
     },
     "metadata": {},
     "output_type": "display_data"
    }
   ],
   "source": [
    "# DRAW THE PREDICTION\n",
    "#Append the input amount of trading days to dates dictionary\n",
    "dates_df_iloc = dates_df.iloc[0:(input-1)]\n",
    "dates_df_iloc['Price'] = price_list\n",
    "plt.plot(dates_df_iloc['Price'])\n",
    "plt.title('LYC LSTM PREDICTIONS')\n",
    "plt.xlabel('Future Trading Days', fontsize=10)\n",
    "plt.ylabel('Close Price AUD ($)',fontsize=10)\n",
    "plt.savefig('../static/data/images/pred/lyc_pred.png', bbox_inches=\"tight\")\n",
    "plt.show()"
   ]
  },
  {
   "cell_type": "code",
   "execution_count": 36,
   "metadata": {},
   "outputs": [
    {
     "data": {
      "text/plain": [
       "[{'Price': 8.74},\n",
       " {'Price': 8.77},\n",
       " {'Price': 8.77},\n",
       " {'Price': 8.77},\n",
       " {'Price': 8.76},\n",
       " {'Price': 8.74},\n",
       " {'Price': 8.73},\n",
       " {'Price': 8.73},\n",
       " {'Price': 8.72},\n",
       " {'Price': 8.71},\n",
       " {'Price': 8.71},\n",
       " {'Price': 8.71},\n",
       " {'Price': 8.71},\n",
       " {'Price': 8.71},\n",
       " {'Price': 8.71},\n",
       " {'Price': 8.72},\n",
       " {'Price': 8.72},\n",
       " {'Price': 8.72},\n",
       " {'Price': 8.72},\n",
       " {'Price': 8.72},\n",
       " {'Price': 8.72},\n",
       " {'Price': 8.73},\n",
       " {'Price': 8.71},\n",
       " {'Price': 8.71},\n",
       " {'Price': 8.71},\n",
       " {'Price': 8.7},\n",
       " {'Price': 8.7},\n",
       " {'Price': 8.69},\n",
       " {'Price': 8.69},\n",
       " {'Price': 8.68},\n",
       " {'Price': 8.68},\n",
       " {'Price': 8.68},\n",
       " {'Price': 8.67},\n",
       " {'Price': 8.67},\n",
       " {'Price': 8.67},\n",
       " {'Price': 8.66},\n",
       " {'Price': 8.65},\n",
       " {'Price': 8.65},\n",
       " {'Price': 8.64},\n",
       " {'Price': 8.64},\n",
       " {'Price': 8.63},\n",
       " {'Price': 8.62},\n",
       " {'Price': 8.61},\n",
       " {'Price': 8.61},\n",
       " {'Price': 8.6},\n",
       " {'Price': 8.59},\n",
       " {'Price': 8.6},\n",
       " {'Price': 8.59},\n",
       " {'Price': 8.59},\n",
       " {'Price': 8.59},\n",
       " {'Price': 8.6},\n",
       " {'Price': 8.6},\n",
       " {'Price': 8.6},\n",
       " {'Price': 8.6},\n",
       " {'Price': 8.6},\n",
       " {'Price': 8.6},\n",
       " {'Price': 8.6},\n",
       " {'Price': 8.6},\n",
       " {'Price': 8.6},\n",
       " {'Price': 8.6},\n",
       " {'Price': 8.6},\n",
       " {'Price': 8.6},\n",
       " {'Price': 8.6},\n",
       " {'Price': 8.6},\n",
       " {'Price': 8.6},\n",
       " {'Price': 8.6},\n",
       " {'Price': 8.6},\n",
       " {'Price': 8.6},\n",
       " {'Price': 8.6},\n",
       " {'Price': 8.6},\n",
       " {'Price': 8.6},\n",
       " {'Price': 8.6},\n",
       " {'Price': 8.6},\n",
       " {'Price': 8.6},\n",
       " {'Price': 8.6},\n",
       " {'Price': 8.6},\n",
       " {'Price': 8.6},\n",
       " {'Price': 8.6},\n",
       " {'Price': 8.6},\n",
       " {'Price': 8.6},\n",
       " {'Price': 8.6},\n",
       " {'Price': 8.6},\n",
       " {'Price': 8.6},\n",
       " {'Price': 8.6},\n",
       " {'Price': 8.6},\n",
       " {'Price': 8.6},\n",
       " {'Price': 8.6},\n",
       " {'Price': 8.6},\n",
       " {'Price': 8.6},\n",
       " {'Price': 8.6},\n",
       " {'Price': 8.6},\n",
       " {'Price': 8.6},\n",
       " {'Price': 8.6},\n",
       " {'Price': 8.6},\n",
       " {'Price': 8.6},\n",
       " {'Price': 8.6},\n",
       " {'Price': 8.6},\n",
       " {'Price': 8.6},\n",
       " {'Price': 8.6},\n",
       " {'Price': 8.6},\n",
       " {'Price': 8.6},\n",
       " {'Price': 8.6},\n",
       " {'Price': 8.6},\n",
       " {'Price': 8.6},\n",
       " {'Price': 8.6},\n",
       " {'Price': 8.6},\n",
       " {'Price': 8.6},\n",
       " {'Price': 8.6},\n",
       " {'Price': 8.6},\n",
       " {'Price': 8.6},\n",
       " {'Price': 8.6},\n",
       " {'Price': 8.6},\n",
       " {'Price': 8.6},\n",
       " {'Price': 8.6},\n",
       " {'Price': 8.6},\n",
       " {'Price': 8.6},\n",
       " {'Price': 8.6},\n",
       " {'Price': 8.6},\n",
       " {'Price': 8.6},\n",
       " {'Price': 8.6},\n",
       " {'Price': 8.6},\n",
       " {'Price': 8.6},\n",
       " {'Price': 8.6},\n",
       " {'Price': 8.6},\n",
       " {'Price': 8.6},\n",
       " {'Price': 8.6},\n",
       " {'Price': 8.6},\n",
       " {'Price': 8.6},\n",
       " {'Price': 8.6},\n",
       " {'Price': 8.6},\n",
       " {'Price': 8.6},\n",
       " {'Price': 8.6},\n",
       " {'Price': 8.6},\n",
       " {'Price': 8.6},\n",
       " {'Price': 8.6},\n",
       " {'Price': 8.6},\n",
       " {'Price': 8.6},\n",
       " {'Price': 8.6},\n",
       " {'Price': 8.6},\n",
       " {'Price': 8.6},\n",
       " {'Price': 8.6},\n",
       " {'Price': 8.6},\n",
       " {'Price': 8.6},\n",
       " {'Price': 8.6},\n",
       " {'Price': 8.6},\n",
       " {'Price': 8.6},\n",
       " {'Price': 8.6},\n",
       " {'Price': 8.6},\n",
       " {'Price': 8.6},\n",
       " {'Price': 8.6},\n",
       " {'Price': 8.6},\n",
       " {'Price': 8.6},\n",
       " {'Price': 8.6},\n",
       " {'Price': 8.6},\n",
       " {'Price': 8.6},\n",
       " {'Price': 8.6},\n",
       " {'Price': 8.6},\n",
       " {'Price': 8.6},\n",
       " {'Price': 8.6},\n",
       " {'Price': 8.6},\n",
       " {'Price': 8.6},\n",
       " {'Price': 8.6},\n",
       " {'Price': 8.6},\n",
       " {'Price': 8.6},\n",
       " {'Price': 8.6},\n",
       " {'Price': 8.6},\n",
       " {'Price': 8.6},\n",
       " {'Price': 8.6},\n",
       " {'Price': 8.6},\n",
       " {'Price': 8.6},\n",
       " {'Price': 8.6},\n",
       " {'Price': 8.6},\n",
       " {'Price': 8.6},\n",
       " {'Price': 8.6},\n",
       " {'Price': 8.6},\n",
       " {'Price': 8.6},\n",
       " {'Price': 8.6},\n",
       " {'Price': 8.6},\n",
       " {'Price': 8.6}]"
      ]
     },
     "execution_count": 36,
     "metadata": {},
     "output_type": "execute_result"
    }
   ],
   "source": [
    "#Append the input amount of trading days to dates dictionary\n",
    "my_dict = dates_df_iloc.to_dict(orient='records')\n",
    "my_dict\n",
    "price_dict = [dict(zip(['Price'],[x])) for x in price_list]\n",
    "price_dict"
   ]
  },
  {
   "cell_type": "code",
   "execution_count": 37,
   "metadata": {},
   "outputs": [
    {
     "name": "stdout",
     "output_type": "stream",
     "text": [
      "4601 5751 5914\n"
     ]
    },
    {
     "data": {
      "text/html": [
       "<div>\n",
       "<style scoped>\n",
       "    .dataframe tbody tr th:only-of-type {\n",
       "        vertical-align: middle;\n",
       "    }\n",
       "\n",
       "    .dataframe tbody tr th {\n",
       "        vertical-align: top;\n",
       "    }\n",
       "\n",
       "    .dataframe thead th {\n",
       "        text-align: right;\n",
       "    }\n",
       "</style>\n",
       "<table border=\"1\" class=\"dataframe\">\n",
       "  <thead>\n",
       "    <tr style=\"text-align: right;\">\n",
       "      <th></th>\n",
       "      <th>Close</th>\n",
       "    </tr>\n",
       "  </thead>\n",
       "  <tbody>\n",
       "    <tr>\n",
       "      <th>5903</th>\n",
       "      <td>8.6</td>\n",
       "    </tr>\n",
       "    <tr>\n",
       "      <th>5904</th>\n",
       "      <td>8.6</td>\n",
       "    </tr>\n",
       "    <tr>\n",
       "      <th>5905</th>\n",
       "      <td>8.6</td>\n",
       "    </tr>\n",
       "    <tr>\n",
       "      <th>5906</th>\n",
       "      <td>8.6</td>\n",
       "    </tr>\n",
       "    <tr>\n",
       "      <th>5907</th>\n",
       "      <td>8.6</td>\n",
       "    </tr>\n",
       "    <tr>\n",
       "      <th>5908</th>\n",
       "      <td>8.6</td>\n",
       "    </tr>\n",
       "    <tr>\n",
       "      <th>5909</th>\n",
       "      <td>8.6</td>\n",
       "    </tr>\n",
       "    <tr>\n",
       "      <th>5910</th>\n",
       "      <td>8.6</td>\n",
       "    </tr>\n",
       "    <tr>\n",
       "      <th>5911</th>\n",
       "      <td>8.6</td>\n",
       "    </tr>\n",
       "    <tr>\n",
       "      <th>5912</th>\n",
       "      <td>8.6</td>\n",
       "    </tr>\n",
       "  </tbody>\n",
       "</table>\n",
       "</div>"
      ],
      "text/plain": [
       "      Close\n",
       "5903    8.6\n",
       "5904    8.6\n",
       "5905    8.6\n",
       "5906    8.6\n",
       "5907    8.6\n",
       "5908    8.6\n",
       "5909    8.6\n",
       "5910    8.6\n",
       "5911    8.6\n",
       "5912    8.6"
      ]
     },
     "execution_count": 37,
     "metadata": {},
     "output_type": "execute_result"
    }
   ],
   "source": [
    "# len_df_mongo = len(df.index) # length of the original dataframe\n",
    "len_df_mongo=len(df_mongo)\n",
    "col_name = ['Close']\n",
    "df_filtered = df.filter(col_name)\n",
    "df_filtered_len = len(df_filtered.index)\n",
    "df_filtered_len\n",
    "len_pred_df = df_filtered_len+input # length of the original dataframe plus the users new inputs\n",
    "print(train_data_len,len_df_mongo,len_pred_df)\n",
    "new_data =df_filtered.append(pd.DataFrame(price_list,columns=col_name),ignore_index=True)\n",
    "new_data.tail(10)"
   ]
  },
  {
   "cell_type": "code",
   "execution_count": 38,
   "metadata": {},
   "outputs": [
    {
     "name": "stderr",
     "output_type": "stream",
     "text": [
      "C:\\Users\\antoi\\AppData\\Local\\Temp/ipykernel_27792/1830226815.py:6: SettingWithCopyWarning: \n",
      "A value is trying to be set on a copy of a slice from a DataFrame.\n",
      "Try using .loc[row_indexer,col_indexer] = value instead\n",
      "\n",
      "See the caveats in the documentation: https://pandas.pydata.org/pandas-docs/stable/user_guide/indexing.html#returning-a-view-versus-a-copy\n",
      "  valid['Predictions'] = predictions # another column for validating test\n"
     ]
    },
    {
     "data": {
      "image/png": "[encoded data removed]",
      "text/plain": [
       "<Figure size 1152x576 with 1 Axes>"
      ]
     },
     "metadata": {},
     "output_type": "display_data"
    }
   ],
   "source": [
    "#Plot the data to validate the test data\n",
    "\n",
    "plt.style.use('fivethirtyeight')\n",
    "train = new_data.iloc[:train_data_len] # actual train data from 0 rows until train data end\n",
    "valid = new_data.iloc[train_data_len:len_df_mongo] # actual test data from train data end until end of all sampled data\n",
    "valid['Predictions'] = predictions # another column for validating test\n",
    "predict = new_data.iloc[len_df_mongo:len_pred_df] # user prediction data from loop\n",
    "\n",
    "plt.figure(figsize=(16,8))\n",
    "plt.title('PREDICTION LYC Share Price - LSTM Model')\n",
    "plt.xlabel('Trading Date', fontsize=18)\n",
    "plt.ylabel('Close Price AUD ($)',fontsize=18)\n",
    "plt.plot(train['Close'])\n",
    "plt.plot(valid[['Close','Predictions']])\n",
    "plt.plot(predict['Close'])\n",
    "plt.legend(['Training data','Tested data','Validate test data','Prediction'],loc='lower right')\n",
    "x = np.arange(2000,2024,4)\n",
    "plt.xticks([0,1000,2000,3000,4000,5000],x)\n",
    "plt.savefig('../static/data/images/lyc_predict_graph.png')\n",
    "plt.show()"
   ]
  },
  {
   "cell_type": "markdown",
   "metadata": {},
   "source": [
    "#Save predicted price to MongoDB"
   ]
  },
  {
   "cell_type": "code",
   "execution_count": 39,
   "metadata": {},
   "outputs": [
    {
     "name": "stdout",
     "output_type": "stream",
     "text": [
      "{'_id': ObjectId('62e21618b468768a09acc55d'), 'model': 'LSTM', 'name': 'LYC', 'date': '28/07/2022', 'predicted': 18.23, 'actual': 8.7, 'differece': 9.530000000000001, 'rmse': 0.14555}\n",
      "{'_id': ObjectId('62e36d4d3ecef61f4fa45c4f'), 'model': 'RFR', 'name': 'LYC', 'date': '28/07/2022', 'predicted': 6, 'actual': 8, 'differece': -1.6143369469894608, 'accuracy': 89.99}\n"
     ]
    }
   ],
   "source": [
    "# Query all\n",
    "name = 'LYC'\n",
    "companys = db.companys.find({'name': name})\n",
    "# Iterate through each company in the collection\n",
    "for company in companys:\n",
    "    print(company)\n"
   ]
  },
  {
   "cell_type": "code",
   "execution_count": 40,
   "metadata": {},
   "outputs": [
    {
     "name": "stdout",
     "output_type": "stream",
     "text": [
      "{'_id': ObjectId('62e36d4d3ecef61f4fa45c4f'), 'model': 'RFR', 'name': 'LYC', 'date': '28/07/2022', 'predicted': 6, 'actual': 8, 'differece': -1.6143369469894608, 'accuracy': 89.99}\n"
     ]
    }
   ],
   "source": [
    "# Delete a document from a collection\n",
    "db.companys.delete_one(\n",
    "    {'model': 'LSTM','name': name}\n",
    ")\n",
    "\n",
    "# query the companys collection\n",
    "companys = db.companys.find({'name': name})\n",
    "# see change in the collection\n",
    "for company in companys:\n",
    "    print(company)"
   ]
  },
  {
   "cell_type": "code",
   "execution_count": 41,
   "metadata": {},
   "outputs": [
    {
     "name": "stdout",
     "output_type": "stream",
     "text": [
      "date 02/08/2022, predicted $20.89, actual $8.88, difference 12.01, rmse 0.01834\n"
     ]
    }
   ],
   "source": [
    "# Set keys and values of company\n",
    "last_close=round(float(last_close),2)\n",
    "difference = pred_price-last_close\n",
    "print(f'date {last_date}, predicted ${pred_price}, actual ${last_close}, difference {difference}, rmse {round(rmse,5)}')"
   ]
  },
  {
   "cell_type": "code",
   "execution_count": 42,
   "metadata": {},
   "outputs": [
    {
     "name": "stdout",
     "output_type": "stream",
     "text": [
      "{'_id': ObjectId('62e36d4d3ecef61f4fa45c4f'), 'model': 'RFR', 'name': 'LYC', 'date': '28/07/2022', 'predicted': 6, 'actual': 8, 'differece': -1.6143369469894608, 'accuracy': 89.99}\n",
      "{'_id': ObjectId('62e8d1006268ec69462793ef'), 'model': 'LSTM', 'name': 'LYC', 'date': '02/08/2022', 'predicted': 20.89, 'actual': 8.88, 'difference': 12.01, 'rmse': 0.01834}\n"
     ]
    }
   ],
   "source": [
    "# Insert a document into the 'companys' collection\n",
    "db.companys.insert_one(\n",
    "    {\n",
    "      'model': 'LSTM',\n",
    "      'name': name,\n",
    "      'date': last_date,\n",
    "      'predicted': pred_price,\n",
    "      'actual': last_close,\n",
    "      'difference': round(difference,4),\n",
    "      'rmse': round(rmse,5)        \n",
    "    }\n",
    ")\n",
    "\n",
    "# query the classroom collection\n",
    "companys = db.companys.find({'name': name})\n",
    "\n",
    "# see change in collection\n",
    "for company in companys:\n",
    "    print(company)"
   ]
  },
  {
   "cell_type": "code",
   "execution_count": 43,
   "metadata": {},
   "outputs": [
    {
     "name": "stdout",
     "output_type": "stream",
     "text": [
      "{'_id': ObjectId('62cfb5f0a3e49b5607e1001b'), 'model': 'RFR', 'name': 'nhc', 'date': '14/07/2022', 'predicted': 3, 'actual': 4, 'differece': -0.4134955929131614, 'accuracy': 95.31}\n",
      "{'_id': ObjectId('62df8ae0427af058c4334ede'), 'model': 'RFR', 'name': 'CBA', 'date': '26/07/2022', 'predicted': 97, 'actual': 96, 'differece': 1.0204273335669143, 'accuracy': 97.43}\n",
      "{'_id': ObjectId('62dfa392f178c5283b8b5648'), 'model': 'RFR', 'name': 'MIN', 'date': '22/07/2022', 'predicted': 38, 'actual': 46, 'differece': -7.74920083942115, 'accuracy': 93.63}\n",
      "{'_id': ObjectId('62dfa4d3643d249dfcfea5f3'), 'model': 'RFR', 'name': 'NAB', 'date': '26/07/2022', 'predicted': 28, 'actual': 29, 'differece': -0.9521357946721061, 'accuracy': 97.23}\n",
      "{'_id': ObjectId('62e219cf92eb597dfa71446b'), 'model': 'LSTM', 'name': 'NAB', 'date': '28/07/2022', 'predicted': 29.89, 'actual': 30.28, 'differece': -0.39000000000000057, 'rmse': 0.4037}\n",
      "{'_id': ObjectId('62e22127c7e5ff501a0a119c'), 'model': 'LSTM', 'name': 'WBC', 'date': '28/07/2022', 'predicted': 20.96, 'actual': 21.47, 'differece': -0.509999999999998, 'rmse': 0.17596}\n",
      "{'_id': ObjectId('62e223a5553c4e8d8e53f30a'), 'model': 'LSTM', 'name': 'NHC', 'date': '28/07/2022', 'predicted': 4, 'actual': 4.4, 'differece': -0.15000000000000036, 'rmse': 0.04529}\n",
      "{'_id': ObjectId('62e230eafd3e48eabe9b8365'), 'model': 'RFR', 'name': 'WBC', 'date': '28/07/2022', 'predicted': 31, 'actual': 21, 'differece': 10.425907785164608, 'accuracy': 97.16}\n",
      "{'_id': ObjectId('62e231a1127d7076c5d68361'), 'model': 'LSTM', 'name': 'MIN', 'date': '28/07/2022', 'predicted': 47.41, 'actual': 53.21, 'differece': -5.800000000000004, 'rmse': 0.46379}\n",
      "{'_id': ObjectId('62e236dd0512e77444960bd6'), 'model': 'RFR', 'name': 'NIC', 'date': '28/07/2022', 'predicted': 0.92, 'actual': 1.09, 'differece': -0.170910457265107, 'accuracy': 91.93}\n",
      "{'_id': ObjectId('62e344e41db0d4fd35f906fc'), 'model': 'RFR', 'name': 'BHP', 'date': '28/07/2022', 'predicted': 46, 'actual': 37, 'differece': 9.531186964187029, 'accuracy': 96.63}\n",
      "{'_id': ObjectId('62e36c15061c0e61acc858fc'), 'model': 'RFR', 'name': 'NHC', 'date': '28/07/2022', 'predicted': 3.57, 'actual': 4.4, 'differece': -0.83, 'accuracy': 95.24}\n",
      "{'_id': ObjectId('62e36d4d3ecef61f4fa45c4f'), 'model': 'RFR', 'name': 'LYC', 'date': '28/07/2022', 'predicted': 6, 'actual': 8, 'differece': -1.6143369469894608, 'accuracy': 89.99}\n",
      "{'_id': ObjectId('62e39fc31db0d4fd35f90704'), 'model': 'RFR', 'name': 'SHL', 'date': '29/07/2022', 'predicted': 32, 'actual': 34, 'differece': -1.9845215812565442, 'accuracy': 96.92}\n",
      "{'_id': ObjectId('62e3a70610019b2a826ddf03'), 'model': 'LSTM', 'name': 'MQG', 'date': '29/07/2022', 'predicted': 158, 'actual': 181.13, 'differece': -23.129999999999995, 'rmse': 12.32756}\n",
      "{'_id': ObjectId('62e3b609582c490ccc726a69'), 'model': 'RFR', 'name': 'MQG', 'date': '29/07/2022', 'predicted': 140, 'actual': 181, 'differece': -40.07434365179597, 'accuracy': 96.3}\n",
      "{'_id': ObjectId('62e47c25ddd32d7e027d5c65'), 'model': 'LSTM', 'name': 'fmg', 'date': '29/07/2022', 'predicted': 19, 'actual': 18.34, 'differece': 0.6600000000000001, 'rmse': 0.73826}\n",
      "{'_id': ObjectId('62e47f0dd8ea1e501830cc74'), 'model': 'RFR', 'name': 'CSL', 'date': '28/07/2022', 'predicted': 244, 'actual': 289, 'differece': -44.766444751532276, 'accuracy': 96.25}\n",
      "{'_id': ObjectId('62e481c2f248345c96c9494d'), 'model': 'RFR', 'name': 'fmg', 'date': '29/07/2022', 'predicted': 12, 'actual': 18, 'differece': -5.209653763866996, 'accuracy': 91.31}\n",
      "{'_id': ObjectId('62e48709f248345c96c94950'), 'model': 'RFR', 'name': 'FMG', 'date': '29/07/2022', 'predicted': 12, 'actual': 18, 'differece': -5.209653763866996, 'accuracy': 91.31}\n",
      "{'_id': ObjectId('62e4b499ae01b19986bd7786'), 'model': 'RFR', 'name': 'WDS', 'date': '29/07/2022', 'predicted': 41, 'actual': 31, 'differece': 10.379854935366822, 'accuracy': 96.85}\n",
      "{'_id': ObjectId('62e50595000bd2fa71a88d82'), 'model': 'RFR', 'name': 'wes', 'date': '29/07/2022', 'predicted': 44, 'actual': 38, 'difference': 6.9125, 'accuracy': 97.16}\n",
      "{'_id': ObjectId('62e508895fb28a99d3939b6d'), 'model': 'LSTM', 'name': 'WES', 'date': '29/07/2022', 'predicted': 44, 'actual': 46.63, 'difference': -2.63, 'rmse': 0.96712}\n",
      "{'_id': ObjectId('62e509e0eccd83cafd3f67a0'), 'model': 'RFR', 'name': 'WOW', 'date': '29/07/2022', 'predicted': 40, 'actual': 37, 'difference': 3.4309, 'accuracy': 97.47}\n",
      "{'_id': ObjectId('62e5c2c1e4b78d2e67be8ed0'), 'model': 'RFR', 'name': 'TCL', 'date': '29/07/2022', 'predicted': 14, 'actual': 14, 'difference': 0.2165, 'accuracy': 97.16}\n",
      "{'_id': ObjectId('62e5c440f8275a0e310a35c2'), 'model': 'RFR', 'name': 'bhp', 'date': '28/07/2022', 'predicted': 46, 'actual': 37, 'difference': 9.5312, 'accuracy': 96.63}\n",
      "{'_id': ObjectId('62e5c51ef8275a0e310a35c5'), 'model': 'RFR', 'name': 'GMG', 'date': '29/07/2022', 'predicted': 18, 'actual': 20, 'difference': -1.7349, 'accuracy': 95.85}\n",
      "{'_id': ObjectId('62e5c6f68d8c67d07d68d3dd'), 'model': 'RFR', 'name': 'WES', 'date': '29/07/2022', 'predicted': 44, 'actual': 46, 'difference': -1.0795, 'accuracy': 97.16}\n",
      "{'_id': ObjectId('62e5f583c574b2d00954e4c2'), 'model': 'LSTM', 'name': 'NCM', 'date': '29/07/2022', 'predicted': 18, 'actual': 19.3, 'difference': -1.3, 'rmse': 0.14373}\n",
      "{'_id': ObjectId('62e5f73678803df19b49e2e2'), 'model': 'LSTM', 'name': 'S32', 'date': '29/07/2022', 'predicted': 3, 'actual': 3.81, 'difference': -0.81, 'rmse': 0.00556}\n",
      "{'_id': ObjectId('62e5f95b66dc62408069f355'), 'model': 'RFR', 'name': 'NCM', 'date': '29/07/2022', 'predicted': 32, 'actual': 19, 'difference': 13.4814, 'accuracy': 95.05}\n",
      "{'_id': ObjectId('62e5fa07a26c8f51fec3b98e'), 'model': 'RFR', 'name': 'STO', 'date': '29/07/2022', 'predicted': 8, 'actual': 7, 'difference': 1.9036, 'accuracy': 96.1}\n",
      "{'_id': ObjectId('62e603ea8b5a50a58d8a3c44'), 'model': 'RFR', 'name': 'S32', 'date': '29/07/2022', 'predicted': 5, 'actual': 3, 'difference': 2.2663, 'accuracy': 95.25}\n",
      "{'_id': ObjectId('62e6068c01de7fcbe6e01c52'), 'model': 'LSTM', 'name': 'WOW', 'date': '29/07/2022', 'predicted': 37, 'actual': 37.52, 'difference': -0.52, 'rmse': 0.42353}\n",
      "{'_id': ObjectId('62e61a127d0ca0f96027ba6d'), 'model': 'LSTM', 'name': 'WDS', 'date': '29/07/2022', 'predicted': 32, 'actual': 31.98, 'difference': 0.02, 'rmse': 0.57974}\n",
      "{'_id': ObjectId('62e61a59f0b1c9c10496cd17'), 'model': 'LSTM', 'name': 'NIC', 'date': '29/07/2022', 'predicted': 0.98, 'actual': 1.09, 'difference': -0.11, 'rmse': 0.06457}\n",
      "{'_id': ObjectId('62e61afbfc678b2079eb47dc'), 'model': 'LSTM', 'name': 'TCL', 'date': '29/07/2022', 'predicted': 14, 'actual': 14.51, 'difference': -0.51, 'rmse': 0.54054}\n",
      "{'_id': ObjectId('62e6293d61d30df3b02b8133'), 'model': 'LSTM', 'name': 'STO', 'date': '29/07/2022', 'predicted': 6, 'actual': 7.3, 'difference': -1.3, 'rmse': 0.43219}\n",
      "{'_id': ObjectId('62e630de01fb10179c7be4b4'), 'model': 'LSTM', 'name': 'SHL', 'date': '29/07/2022', 'predicted': 33, 'actual': 34.27, 'difference': -1.27, 'rmse': 0.07788}\n",
      "{'_id': ObjectId('62e63809b66c4b7fa3db1a22'), 'model': 'RFR', 'name': 'anz', 'date': '29/07/2022', 'predicted': 33, 'actual': 22, 'difference': 11.1838, 'accuracy': 97.09}\n",
      "{'_id': ObjectId('62e79232e8f9771757706e98'), 'model': 'RFR', 'name': 'ANZ', 'date': '29/07/2022', 'predicted': 33, 'actual': 22, 'difference': 11.1838, 'accuracy': 97.09}\n",
      "{'_id': ObjectId('62e89d76aca4dfecd59ea2b5'), 'model': 'LSTM', 'name': 'BHP', 'date': '02/08/2022', 'predicted': 36, 'actual': 38.5, 'difference': -2.5, 'rmse': 1.92406}\n",
      "{'_id': ObjectId('62e89ea1c861fc9168019521'), 'model': 'LSTM', 'name': 'CBA', 'date': '02/08/2022', 'predicted': 96.49, 'actual': 101.84, 'difference': -5.35, 'rmse': 1.95705}\n",
      "{'_id': ObjectId('62e89f8c573d4d6ff28140cc'), 'model': 'LSTM', 'name': 'CSL', 'date': '02/08/2022', 'predicted': 20.86, 'actual': 296.17, 'difference': -275.31, 'rmse': 2.55927}\n",
      "{'_id': ObjectId('62e8a0a42529c40d566fc2b9'), 'model': 'LSTM', 'name': 'FMG', 'date': '02/08/2022', 'predicted': 19, 'actual': 17.7, 'difference': 1.3, 'rmse': 0.94076}\n",
      "{'_id': ObjectId('62e8a15c9c9e803afb20722b'), 'model': 'LSTM', 'name': 'GMG', 'date': '02/08/2022', 'predicted': 19, 'actual': 20.21, 'difference': -1.21, 'rmse': 0.42871}\n",
      "{'_id': ObjectId('62e8a1a6eec2ef8f24254bda'), 'model': 'LSTM', 'name': 'ANZ', 'date': '02/08/2022', 'predicted': 22, 'actual': 22.75, 'difference': -0.75, 'rmse': 0.23908}\n",
      "{'_id': ObjectId('62e8d1006268ec69462793ef'), 'model': 'LSTM', 'name': 'LYC', 'date': '02/08/2022', 'predicted': 20.89, 'actual': 8.88, 'difference': 12.01, 'rmse': 0.01834}\n"
     ]
    }
   ],
   "source": [
    "# query all the classroom collection\n",
    "companys = db.companys.find()\n",
    "\n",
    "# see change in collection\n",
    "for company in companys:\n",
    "    print(company)"
   ]
  }
 ],
 "metadata": {
  "kernel_info": {
   "name": "dev"
  },
  "kernelspec": {
   "display_name": "Python 3.9.7 ('base')",
   "language": "python",
   "name": "python3"
  },
  "language_info": {
   "codemirror_mode": {
    "name": "ipython",
    "version": 3
   },
   "file_extension": ".py",
   "mimetype": "text/x-python",
   "name": "python",
   "nbconvert_exporter": "python",
   "pygments_lexer": "ipython3",
   "version": "3.9.7"
  },
  "nteract": {
   "version": "0.12.3"
  },
  "vscode": {
   "interpreter": {
    "hash": "45bb1cb4637e4034484920e5cfb24c9afd84b0847d6c36e39edd3067d3a05462"
   }
  }
 },
 "nbformat": 4,
 "nbformat_minor": 2
}
