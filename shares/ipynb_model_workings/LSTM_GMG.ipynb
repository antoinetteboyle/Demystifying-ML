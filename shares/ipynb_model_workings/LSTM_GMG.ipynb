{
 "cells": [
  {
   "cell_type": "markdown",
   "metadata": {},
   "source": [
    "#This model uses LSTM to predict a Daily share price movements based on time series and batches of 60 days"
   ]
  },
  {
   "cell_type": "markdown",
   "metadata": {},
   "source": [
    "# Read the CSV and Perform Basic Data Cleaning"
   ]
  },
  {
   "cell_type": "code",
   "execution_count": 1,
   "metadata": {},
   "outputs": [],
   "source": [
    "import matplotlib.pyplot as plt\n",
    "import numpy as np\n",
    "import pandas as pd"
   ]
  },
  {
   "cell_type": "code",
   "execution_count": 2,
   "metadata": {},
   "outputs": [
    {
     "data": {
      "text/html": [
       "<div>\n",
       "<style scoped>\n",
       "    .dataframe tbody tr th:only-of-type {\n",
       "        vertical-align: middle;\n",
       "    }\n",
       "\n",
       "    .dataframe tbody tr th {\n",
       "        vertical-align: top;\n",
       "    }\n",
       "\n",
       "    .dataframe thead th {\n",
       "        text-align: right;\n",
       "    }\n",
       "</style>\n",
       "<table border=\"1\" class=\"dataframe\">\n",
       "  <thead>\n",
       "    <tr style=\"text-align: right;\">\n",
       "      <th></th>\n",
       "      <th>Date</th>\n",
       "      <th>Open</th>\n",
       "      <th>High</th>\n",
       "      <th>Low</th>\n",
       "      <th>Close</th>\n",
       "      <th>Adj Close</th>\n",
       "      <th>Volume</th>\n",
       "      <th>RBA</th>\n",
       "      <th>FED</th>\n",
       "      <th>CPI</th>\n",
       "    </tr>\n",
       "  </thead>\n",
       "  <tbody>\n",
       "    <tr>\n",
       "      <th>4424</th>\n",
       "      <td>1/08/2022</td>\n",
       "      <td>20.750000</td>\n",
       "      <td>20.879999</td>\n",
       "      <td>20.530001</td>\n",
       "      <td>20.650000</td>\n",
       "      <td>20.650000</td>\n",
       "      <td>3380282</td>\n",
       "      <td>1.35</td>\n",
       "      <td>2.5</td>\n",
       "      <td>125.0</td>\n",
       "    </tr>\n",
       "    <tr>\n",
       "      <th>4425</th>\n",
       "      <td>2/08/2022</td>\n",
       "      <td>20.520000</td>\n",
       "      <td>20.549999</td>\n",
       "      <td>19.980000</td>\n",
       "      <td>20.430000</td>\n",
       "      <td>20.430000</td>\n",
       "      <td>3492361</td>\n",
       "      <td>1.35</td>\n",
       "      <td>2.5</td>\n",
       "      <td>125.0</td>\n",
       "    </tr>\n",
       "    <tr>\n",
       "      <th>4426</th>\n",
       "      <td>3/08/2022</td>\n",
       "      <td>20.370001</td>\n",
       "      <td>20.600000</td>\n",
       "      <td>20.190001</td>\n",
       "      <td>20.469999</td>\n",
       "      <td>20.469999</td>\n",
       "      <td>3051566</td>\n",
       "      <td>1.85</td>\n",
       "      <td>2.5</td>\n",
       "      <td>125.0</td>\n",
       "    </tr>\n",
       "    <tr>\n",
       "      <th>4427</th>\n",
       "      <td>4/08/2022</td>\n",
       "      <td>20.740000</td>\n",
       "      <td>20.959999</td>\n",
       "      <td>20.490000</td>\n",
       "      <td>20.500000</td>\n",
       "      <td>20.500000</td>\n",
       "      <td>3041303</td>\n",
       "      <td>1.85</td>\n",
       "      <td>2.5</td>\n",
       "      <td>125.0</td>\n",
       "    </tr>\n",
       "    <tr>\n",
       "      <th>4428</th>\n",
       "      <td>5/08/2022</td>\n",
       "      <td>20.700001</td>\n",
       "      <td>20.709999</td>\n",
       "      <td>20.520000</td>\n",
       "      <td>20.600000</td>\n",
       "      <td>20.600000</td>\n",
       "      <td>205737</td>\n",
       "      <td>1.85</td>\n",
       "      <td>2.5</td>\n",
       "      <td>125.0</td>\n",
       "    </tr>\n",
       "  </tbody>\n",
       "</table>\n",
       "</div>"
      ],
      "text/plain": [
       "           Date       Open       High        Low      Close  Adj Close  \\\n",
       "4424  1/08/2022  20.750000  20.879999  20.530001  20.650000  20.650000   \n",
       "4425  2/08/2022  20.520000  20.549999  19.980000  20.430000  20.430000   \n",
       "4426  3/08/2022  20.370001  20.600000  20.190001  20.469999  20.469999   \n",
       "4427  4/08/2022  20.740000  20.959999  20.490000  20.500000  20.500000   \n",
       "4428  5/08/2022  20.700001  20.709999  20.520000  20.600000  20.600000   \n",
       "\n",
       "       Volume   RBA  FED    CPI  \n",
       "4424  3380282  1.35  2.5  125.0  \n",
       "4425  3492361  1.35  2.5  125.0  \n",
       "4426  3051566  1.85  2.5  125.0  \n",
       "4427  3041303  1.85  2.5  125.0  \n",
       "4428   205737  1.85  2.5  125.0  "
      ]
     },
     "execution_count": 2,
     "metadata": {},
     "output_type": "execute_result"
    }
   ],
   "source": [
    "df_stock1 = pd.read_csv(\"../static/data/gmg.csv\")\n",
    "# Drop the null columns where all values are null\n",
    "df_stock2 = df_stock1.dropna(axis='columns', how='all')\n",
    "# Drop the null rows\n",
    "df = df_stock2.dropna()\n",
    "# Drop the last rows to test prediction to actual\n",
    "df_stock_less1= df_stock2.iloc[:-1,:]\n",
    "df.tail()"
   ]
  },
  {
   "cell_type": "code",
   "execution_count": 3,
   "metadata": {},
   "outputs": [],
   "source": [
    "# Connect to MongoDb\n",
    "from pymongo import MongoClient\n",
    "mongoClient = MongoClient()\n",
    "db = mongoClient.sharesDB\n",
    "\n",
    "# # Drop all previous records now in MongoDb\n",
    "# db.gmg.drop()\n",
    "\n",
    "# # Insert df records in mongodb\n",
    "# records=df.to_dict('records')\n",
    "# records\n",
    "# db.gmg.insert_many(records)"
   ]
  },
  {
   "cell_type": "code",
   "execution_count": 4,
   "metadata": {},
   "outputs": [
    {
     "name": "stdout",
     "output_type": "stream",
     "text": [
      "DELETE: 29/08/2022 20.1299991607666\n"
     ]
    },
    {
     "data": {
      "text/plain": [
       "<pymongo.results.DeleteResult at 0x1fbf1dc1740>"
      ]
     },
     "execution_count": 4,
     "metadata": {},
     "output_type": "execute_result"
    }
   ],
   "source": [
    "#Update latest data in mongoDb\n",
    "df_mongo = pd.DataFrame(list(db.gmg.find()))\n",
    "last_val = df_mongo.iloc[-1:].values\n",
    "\n",
    "last_date = last_val[0][1]\n",
    "last_close = last_val[0][5]\n",
    "print(\"DELETE: \"+last_date,last_close)\n",
    "\n",
    "db.gmg.delete_one(\n",
    "    {'Date': last_date}\n",
    ")"
   ]
  },
  {
   "cell_type": "code",
   "execution_count": 5,
   "metadata": {},
   "outputs": [
    {
     "name": "stdout",
     "output_type": "stream",
     "text": [
      "NEW LAST VALUE IN MONGODB: 26/08/2022 20.520000457763672\n",
      "Previous last date in MongoDb: 26-08-2022. Today's date: 30-08-2022\n"
     ]
    }
   ],
   "source": [
    "#Update latest data in mongoDb\n",
    "df_mongo = pd.DataFrame(list(db.gmg.find()))\n",
    "last_val = df_mongo.iloc[-1:].values\n",
    "\n",
    "last_date = last_val[0][1]\n",
    "last_close = last_val[0][5]\n",
    "print(\"NEW LAST VALUE IN MONGODB: \"+last_date,last_close)\n",
    "\n",
    "from datetime import date,datetime\n",
    "todaydt = date.today()\n",
    "today=todaydt.strftime('%d-%m-%Y')\n",
    "from_date = datetime.strptime(last_date, '%d/%m/%Y')\n",
    "last_date=from_date.strftime('%d-%m-%Y')\n",
    "print(\"Previous last date in MongoDb: \"+last_date+\". Today's date: \"+today)"
   ]
  },
  {
   "cell_type": "code",
   "execution_count": 6,
   "metadata": {},
   "outputs": [
    {
     "data": {
      "text/html": [
       "<div>\n",
       "<style scoped>\n",
       "    .dataframe tbody tr th:only-of-type {\n",
       "        vertical-align: middle;\n",
       "    }\n",
       "\n",
       "    .dataframe tbody tr th {\n",
       "        vertical-align: top;\n",
       "    }\n",
       "\n",
       "    .dataframe thead th {\n",
       "        text-align: right;\n",
       "    }\n",
       "</style>\n",
       "<table border=\"1\" class=\"dataframe\">\n",
       "  <thead>\n",
       "    <tr style=\"text-align: right;\">\n",
       "      <th></th>\n",
       "      <th>High</th>\n",
       "      <th>Low</th>\n",
       "      <th>Open</th>\n",
       "      <th>Close</th>\n",
       "      <th>Volume</th>\n",
       "      <th>Adj Close</th>\n",
       "    </tr>\n",
       "    <tr>\n",
       "      <th>Date</th>\n",
       "      <th></th>\n",
       "      <th></th>\n",
       "      <th></th>\n",
       "      <th></th>\n",
       "      <th></th>\n",
       "      <th></th>\n",
       "    </tr>\n",
       "  </thead>\n",
       "  <tbody>\n",
       "    <tr>\n",
       "      <th>2022-08-26</th>\n",
       "      <td>20.709999</td>\n",
       "      <td>20.209999</td>\n",
       "      <td>20.26</td>\n",
       "      <td>20.520000</td>\n",
       "      <td>5338140</td>\n",
       "      <td>20.520000</td>\n",
       "    </tr>\n",
       "    <tr>\n",
       "      <th>2022-08-29</th>\n",
       "      <td>20.250000</td>\n",
       "      <td>19.870001</td>\n",
       "      <td>19.90</td>\n",
       "      <td>20.129999</td>\n",
       "      <td>4319335</td>\n",
       "      <td>20.129999</td>\n",
       "    </tr>\n",
       "    <tr>\n",
       "      <th>2022-08-30</th>\n",
       "      <td>20.389999</td>\n",
       "      <td>20.090000</td>\n",
       "      <td>20.09</td>\n",
       "      <td>20.150000</td>\n",
       "      <td>2952756</td>\n",
       "      <td>20.150000</td>\n",
       "    </tr>\n",
       "  </tbody>\n",
       "</table>\n",
       "</div>"
      ],
      "text/plain": [
       "                 High        Low   Open      Close   Volume  Adj Close\n",
       "Date                                                                  \n",
       "2022-08-26  20.709999  20.209999  20.26  20.520000  5338140  20.520000\n",
       "2022-08-29  20.250000  19.870001  19.90  20.129999  4319335  20.129999\n",
       "2022-08-30  20.389999  20.090000  20.09  20.150000  2952756  20.150000"
      ]
     },
     "execution_count": 6,
     "metadata": {},
     "output_type": "execute_result"
    }
   ],
   "source": [
    "#Get latest quotes from yahoo finance:\n",
    "import pandas_datareader.data as web\n",
    "symbol = 'GMG.AX'\n",
    "start = from_date # yyyy-mm-dd\n",
    "end = todaydt  # yyyy-mm-dd\n",
    "stock_quote = web.DataReader(symbol,data_source='yahoo',start=start, end=end) # dataframe\n",
    "stock_quote\n"
   ]
  },
  {
   "cell_type": "code",
   "execution_count": 7,
   "metadata": {},
   "outputs": [
    {
     "data": {
      "text/html": [
       "<div>\n",
       "<style scoped>\n",
       "    .dataframe tbody tr th:only-of-type {\n",
       "        vertical-align: middle;\n",
       "    }\n",
       "\n",
       "    .dataframe tbody tr th {\n",
       "        vertical-align: top;\n",
       "    }\n",
       "\n",
       "    .dataframe thead th {\n",
       "        text-align: right;\n",
       "    }\n",
       "</style>\n",
       "<table border=\"1\" class=\"dataframe\">\n",
       "  <thead>\n",
       "    <tr style=\"text-align: right;\">\n",
       "      <th></th>\n",
       "      <th>High</th>\n",
       "      <th>Low</th>\n",
       "      <th>Open</th>\n",
       "      <th>Close</th>\n",
       "      <th>Volume</th>\n",
       "      <th>Adj Close</th>\n",
       "    </tr>\n",
       "    <tr>\n",
       "      <th>Date</th>\n",
       "      <th></th>\n",
       "      <th></th>\n",
       "      <th></th>\n",
       "      <th></th>\n",
       "      <th></th>\n",
       "      <th></th>\n",
       "    </tr>\n",
       "  </thead>\n",
       "  <tbody>\n",
       "    <tr>\n",
       "      <th>2022-08-29</th>\n",
       "      <td>20.250000</td>\n",
       "      <td>19.870001</td>\n",
       "      <td>19.90</td>\n",
       "      <td>20.129999</td>\n",
       "      <td>4319335</td>\n",
       "      <td>20.129999</td>\n",
       "    </tr>\n",
       "    <tr>\n",
       "      <th>2022-08-30</th>\n",
       "      <td>20.389999</td>\n",
       "      <td>20.090000</td>\n",
       "      <td>20.09</td>\n",
       "      <td>20.150000</td>\n",
       "      <td>2952756</td>\n",
       "      <td>20.150000</td>\n",
       "    </tr>\n",
       "  </tbody>\n",
       "</table>\n",
       "</div>"
      ],
      "text/plain": [
       "                 High        Low   Open      Close   Volume  Adj Close\n",
       "Date                                                                  \n",
       "2022-08-29  20.250000  19.870001  19.90  20.129999  4319335  20.129999\n",
       "2022-08-30  20.389999  20.090000  20.09  20.150000  2952756  20.150000"
      ]
     },
     "execution_count": 7,
     "metadata": {},
     "output_type": "execute_result"
    }
   ],
   "source": [
    "#remove last date already in mongodb\n",
    "stock_quote=stock_quote.iloc[1:]\n",
    "stock_quote"
   ]
  },
  {
   "cell_type": "code",
   "execution_count": 8,
   "metadata": {},
   "outputs": [
    {
     "name": "stderr",
     "output_type": "stream",
     "text": [
      "C:\\Users\\antoi\\AppData\\Local\\Temp/ipykernel_21276/307716900.py:12: SettingWithCopyWarning: \n",
      "A value is trying to be set on a copy of a slice from a DataFrame.\n",
      "Try using .loc[row_indexer,col_indexer] = value instead\n",
      "\n",
      "See the caveats in the documentation: https://pandas.pydata.org/pandas-docs/stable/user_guide/indexing.html#returning-a-view-versus-a-copy\n",
      "  stock_quote[\"RBA\"],stock_quote[\"FED\"],stock_quote[\"CPI\"] = a,b,c\n",
      "C:\\Users\\antoi\\AppData\\Local\\Temp/ipykernel_21276/307716900.py:15: SettingWithCopyWarning: \n",
      "A value is trying to be set on a copy of a slice from a DataFrame.\n",
      "Try using .loc[row_indexer,col_indexer] = value instead\n",
      "\n",
      "See the caveats in the documentation: https://pandas.pydata.org/pandas-docs/stable/user_guide/indexing.html#returning-a-view-versus-a-copy\n",
      "  stock_quote['Date'] = pd.to_datetime(stock_quote['Date'])\n",
      "C:\\Users\\antoi\\AppData\\Local\\Temp/ipykernel_21276/307716900.py:16: SettingWithCopyWarning: \n",
      "A value is trying to be set on a copy of a slice from a DataFrame.\n",
      "Try using .loc[row_indexer,col_indexer] = value instead\n",
      "\n",
      "See the caveats in the documentation: https://pandas.pydata.org/pandas-docs/stable/user_guide/indexing.html#returning-a-view-versus-a-copy\n",
      "  stock_quote['Date']=stock_quote['Date'].dt.strftime('%d/%m/%Y')\n",
      "C:\\Users\\antoi\\AppData\\Local\\Temp/ipykernel_21276/307716900.py:17: SettingWithCopyWarning: \n",
      "A value is trying to be set on a copy of a slice from a DataFrame.\n",
      "Try using .loc[row_indexer,col_indexer] = value instead\n",
      "\n",
      "See the caveats in the documentation: https://pandas.pydata.org/pandas-docs/stable/user_guide/indexing.html#returning-a-view-versus-a-copy\n",
      "  stock_quote['Date']=stock_quote['Date'].astype(str)\n"
     ]
    },
    {
     "data": {
      "text/html": [
       "<div>\n",
       "<style scoped>\n",
       "    .dataframe tbody tr th:only-of-type {\n",
       "        vertical-align: middle;\n",
       "    }\n",
       "\n",
       "    .dataframe tbody tr th {\n",
       "        vertical-align: top;\n",
       "    }\n",
       "\n",
       "    .dataframe thead th {\n",
       "        text-align: right;\n",
       "    }\n",
       "</style>\n",
       "<table border=\"1\" class=\"dataframe\">\n",
       "  <thead>\n",
       "    <tr style=\"text-align: right;\">\n",
       "      <th></th>\n",
       "      <th>Date</th>\n",
       "      <th>High</th>\n",
       "      <th>Low</th>\n",
       "      <th>Open</th>\n",
       "      <th>Close</th>\n",
       "      <th>Volume</th>\n",
       "      <th>Adj Close</th>\n",
       "      <th>RBA</th>\n",
       "      <th>FED</th>\n",
       "      <th>CPI</th>\n",
       "    </tr>\n",
       "  </thead>\n",
       "  <tbody>\n",
       "    <tr>\n",
       "      <th>0</th>\n",
       "      <td>29/08/2022</td>\n",
       "      <td>20.250000</td>\n",
       "      <td>19.870001</td>\n",
       "      <td>19.90</td>\n",
       "      <td>20.129999</td>\n",
       "      <td>4319335</td>\n",
       "      <td>20.129999</td>\n",
       "      <td>1.85</td>\n",
       "      <td>2.5</td>\n",
       "      <td>125</td>\n",
       "    </tr>\n",
       "    <tr>\n",
       "      <th>1</th>\n",
       "      <td>30/08/2022</td>\n",
       "      <td>20.389999</td>\n",
       "      <td>20.090000</td>\n",
       "      <td>20.09</td>\n",
       "      <td>20.150000</td>\n",
       "      <td>2952756</td>\n",
       "      <td>20.150000</td>\n",
       "      <td>1.85</td>\n",
       "      <td>2.5</td>\n",
       "      <td>125</td>\n",
       "    </tr>\n",
       "  </tbody>\n",
       "</table>\n",
       "</div>"
      ],
      "text/plain": [
       "         Date       High        Low   Open      Close   Volume  Adj Close  \\\n",
       "0  29/08/2022  20.250000  19.870001  19.90  20.129999  4319335  20.129999   \n",
       "1  30/08/2022  20.389999  20.090000  20.09  20.150000  2952756  20.150000   \n",
       "\n",
       "    RBA  FED  CPI  \n",
       "0  1.85  2.5  125  \n",
       "1  1.85  2.5  125  "
      ]
     },
     "execution_count": 8,
     "metadata": {},
     "output_type": "execute_result"
    }
   ],
   "source": [
    "tot=len(stock_quote)\n",
    "rba=1.85\n",
    "fed=2.5\n",
    "cpi=125\n",
    "a,b,c=[],[],[]\n",
    "for i in range(tot):\n",
    "    a.append(rba)\n",
    "    b.append(fed)\n",
    "    c.append(cpi)\n",
    "# print(a,b,c)\n",
    "#ADD NEW DATA IN DATAFRAME\n",
    "stock_quote[\"RBA\"],stock_quote[\"FED\"],stock_quote[\"CPI\"] = a,b,c\n",
    "stock_quote.reset_index(inplace=True)\n",
    "\n",
    "stock_quote['Date'] = pd.to_datetime(stock_quote['Date'])\n",
    "stock_quote['Date']=stock_quote['Date'].dt.strftime('%d/%m/%Y')\n",
    "stock_quote['Date']=stock_quote['Date'].astype(str)\n",
    "stock_quote"
   ]
  },
  {
   "cell_type": "markdown",
   "metadata": {},
   "source": [
    "UPDATE MONGO DB"
   ]
  },
  {
   "cell_type": "code",
   "execution_count": 9,
   "metadata": {},
   "outputs": [
    {
     "data": {
      "text/plain": [
       "[{'Date': '29/08/2022',\n",
       "  'High': 20.25,\n",
       "  'Low': 19.8700008392334,\n",
       "  'Open': 19.899999618530273,\n",
       "  'Close': 20.1299991607666,\n",
       "  'Volume': 4319335,\n",
       "  'Adj Close': 20.1299991607666,\n",
       "  'RBA': 1.85,\n",
       "  'FED': 2.5,\n",
       "  'CPI': 125},\n",
       " {'Date': '30/08/2022',\n",
       "  'High': 20.389999389648438,\n",
       "  'Low': 20.09000015258789,\n",
       "  'Open': 20.09000015258789,\n",
       "  'Close': 20.149999618530273,\n",
       "  'Volume': 2952756,\n",
       "  'Adj Close': 20.149999618530273,\n",
       "  'RBA': 1.85,\n",
       "  'FED': 2.5,\n",
       "  'CPI': 125}]"
      ]
     },
     "execution_count": 9,
     "metadata": {},
     "output_type": "execute_result"
    }
   ],
   "source": [
    "records=stock_quote.to_dict('records')\n",
    "records"
   ]
  },
  {
   "cell_type": "code",
   "execution_count": 10,
   "metadata": {},
   "outputs": [
    {
     "name": "stdout",
     "output_type": "stream",
     "text": [
      "[[ObjectId('62ff4291cd1aef641f3aeaaa') '17/08/2022' 20.6200008392334\n",
      "  21.15999984741211 20.540000915527344 21.059999465942383\n",
      "  21.059999465942383 3578947 1.85 2.5 125.0]\n",
      " [ObjectId('62ff4291cd1aef641f3aeaab') '18/08/2022' 21.09000015258789\n",
      "  21.1200008392334 20.690000534057617 21.040000915527344\n",
      "  21.040000915527344 4638834 1.85 2.5 125.0]\n",
      " [ObjectId('63035adbd23548fbfe8828e6') '19/08/2022' 21.040000915527344\n",
      "  21.040000915527344 20.399999618530273 20.489999771118164\n",
      "  20.489999771118164 4876563 1.85 2.5 125.0]\n",
      " [ObjectId('6304a8afa80c8324eee6df58') '22/08/2022' 20.200000762939453\n",
      "  20.30500030517578 19.979999542236328 20.200000762939453\n",
      "  20.200000762939453 3635526 1.85 2.5 125.0]\n",
      " [ObjectId('63072a827264d5430f07890b') '23/08/2022' 19.90999984741211\n",
      "  20.020000457763672 19.65999984741211 19.75 19.75 4454126 1.85 2.5 125.0]\n",
      " [ObjectId('63072a827264d5430f07890c') '24/08/2022' 19.399999618530273\n",
      "  19.579999923706055 19.200000762939453 19.350000381469727\n",
      "  19.350000381469727 3969790 1.85 2.5 125.0]\n",
      " [ObjectId('630aefbccaaee22d128e9222') '25/08/2022' 19.510000228881836\n",
      "  20.18000030517578 19.350000381469727 20.139999389648438\n",
      "  20.139999389648438 3962357 1.85 2.5 125.0]\n",
      " [ObjectId('630c8cd48890fd7e5e7a3f82') '26/08/2022' 20.260000228881836\n",
      "  20.709999084472656 20.209999084472656 20.520000457763672\n",
      "  20.520000457763672 5338140 1.85 2.5 125.0]\n",
      " [ObjectId('630dc6d7d5ee5c4abea8ed30') '29/08/2022' 19.899999618530273\n",
      "  20.25 19.8700008392334 20.1299991607666 20.1299991607666 4319335 1.85\n",
      "  2.5 125.0]\n",
      " [ObjectId('630dc6d7d5ee5c4abea8ed31') '30/08/2022' 20.09000015258789\n",
      "  20.389999389648438 20.09000015258789 20.149999618530273\n",
      "  20.149999618530273 2952756 1.85 2.5 125.0]]\n"
     ]
    }
   ],
   "source": [
    "#INSERT NEW DATA INTO MONGODB\n",
    "db.gmg.insert_many(records)\n",
    "\n",
    "#Check if mongoDb now has latest data\n",
    "df_mongo = pd.DataFrame(list(db.gmg.find()))\n",
    "\n",
    "last_val = df_mongo.iloc[-10:].values\n",
    "print(last_val)"
   ]
  },
  {
   "cell_type": "code",
   "execution_count": 11,
   "metadata": {},
   "outputs": [
    {
     "name": "stdout",
     "output_type": "stream",
     "text": [
      "30/08/2022 20.149999618530273\n"
     ]
    }
   ],
   "source": [
    "#Save latest to variables\n",
    "last_val = df_mongo.iloc[-1:].values\n",
    "last_date = last_val[0][1]\n",
    "last_close = last_val[0][5]\n",
    "print(last_date,last_close)"
   ]
  },
  {
   "cell_type": "markdown",
   "metadata": {},
   "source": [
    "# # Pre-processing : Scale the data using the MinMaxScaler and split train data"
   ]
  },
  {
   "cell_type": "code",
   "execution_count": 12,
   "metadata": {},
   "outputs": [
    {
     "data": {
      "text/plain": [
       "(4446, 1)"
      ]
     },
     "execution_count": 12,
     "metadata": {},
     "output_type": "execute_result"
    }
   ],
   "source": [
    "df_mongo = pd.DataFrame(list(db.gmg.find()))\n",
    "# Drop the null columns where all values are null\n",
    "df_mongo = df_mongo.dropna(axis='columns', how='all')\n",
    "# Drop the null rows\n",
    "df_mongo = df_mongo.dropna()\n",
    "# df_mongo.shape\n",
    "\n",
    "len_df_mongo=len(df_mongo)\n",
    "data = df_mongo.filter([\"Close\"])\n",
    "dataset=data.values\n",
    "dataset.shape"
   ]
  },
  {
   "cell_type": "code",
   "execution_count": 13,
   "metadata": {},
   "outputs": [],
   "source": [
    "# data = df.filter(['Close'])\n",
    "# dataset = data.values\n",
    "# dataset.shape\t"
   ]
  },
  {
   "cell_type": "code",
   "execution_count": 14,
   "metadata": {},
   "outputs": [
    {
     "data": {
      "text/plain": [
       "(3557, 1)"
      ]
     },
     "execution_count": 14,
     "metadata": {},
     "output_type": "execute_result"
    }
   ],
   "source": [
    "# Scale your data\n",
    "from sklearn.preprocessing import MinMaxScaler\n",
    "\n",
    "scaler = MinMaxScaler(feature_range=(0,1))\n",
    "dataset_scaled = scaler.fit_transform(dataset)\n",
    "\n",
    "# Split into train or test\n",
    "import math\n",
    "train_data_len = math.ceil(len(dataset)*.8)\n",
    "train_data = dataset_scaled[0:train_data_len,:]\n",
    "train_data.shape\n"
   ]
  },
  {
   "cell_type": "code",
   "execution_count": 15,
   "metadata": {},
   "outputs": [
    {
     "name": "stdout",
     "output_type": "stream",
     "text": [
      "[array([0.53145168, 0.52743552, 0.52877425, 0.54751621, 0.54082264,\n",
      "       0.53680651, 0.53279035, 0.53412914, 0.52743552, 0.51270973,\n",
      "       0.51137103, 0.50333874, 0.5060162 , 0.50200007, 0.49664524,\n",
      "       0.50200007, 0.49396781, 0.48995168, 0.50333874, 0.50467753,\n",
      "       0.51003236, 0.5073549 , 0.50333874, 0.51003236, 0.50869363,\n",
      "       0.50333874, 0.49262914, 0.49262914, 0.49530651, 0.49129041,\n",
      "       0.49530651, 0.49664524, 0.49932264, 0.50066137, 0.49798397,\n",
      "       0.48861298, 0.48727431, 0.48727431, 0.48861298, 0.48727431,\n",
      "       0.48861298, 0.48727431, 0.48459685, 0.48995168, 0.48191942,\n",
      "       0.48861298, 0.48727431, 0.48727431, 0.48727431, 0.49798397,\n",
      "       0.49262914, 0.48459685, 0.49530651, 0.5060162 , 0.50200007,\n",
      "       0.50467753, 0.51003236, 0.51270973, 0.50467753, 0.5073549 ])]\n",
      "[0.5100323619667402]\n"
     ]
    }
   ],
   "source": [
    "X_train = []\n",
    "y_train = []\n",
    "\n",
    "for i in range (60, len(train_data)):\n",
    "    X_train.append(train_data[i-60:i,0]) # contains 60 values\n",
    "    y_train.append(train_data[i,0])   # contains 61st value\n",
    "    if i<= 60:\n",
    "        print(X_train)\n",
    "        print(y_train) \n"
   ]
  },
  {
   "cell_type": "markdown",
   "metadata": {},
   "source": [
    "# Prepare train data for LSTM model"
   ]
  },
  {
   "cell_type": "code",
   "execution_count": 16,
   "metadata": {},
   "outputs": [
    {
     "data": {
      "text/plain": [
       "(3497, 60)"
      ]
     },
     "execution_count": 16,
     "metadata": {},
     "output_type": "execute_result"
    }
   ],
   "source": [
    "# Convert list to numpy array for LSTM model:\n",
    "X_train, y_train = np.array(X_train), np.array(y_train)\n",
    "X_train.shape"
   ]
  },
  {
   "cell_type": "code",
   "execution_count": 17,
   "metadata": {},
   "outputs": [
    {
     "data": {
      "text/plain": [
       "(3497, 60, 1)"
      ]
     },
     "execution_count": 17,
     "metadata": {},
     "output_type": "execute_result"
    }
   ],
   "source": [
    "# LSTM model expects 3D, reshape:\n",
    "X_train = np.reshape(X_train, (X_train.shape[0], X_train.shape[1], 1))\n",
    "X_train.shape"
   ]
  },
  {
   "cell_type": "markdown",
   "metadata": {},
   "source": [
    "# Build the LSTM model"
   ]
  },
  {
   "cell_type": "code",
   "execution_count": 18,
   "metadata": {},
   "outputs": [],
   "source": [
    "from tensorflow.keras.models import Sequential\n",
    "from tensorflow.keras.layers import Dense, LSTM\n",
    "model = Sequential()\n",
    "model.add(LSTM(50, return_sequences=True, input_shape=(X_train.shape[1], 1)))\n",
    "model.add(LSTM(50, return_sequences=False))\n",
    "model.add(Dense(25))\n",
    "model.add(Dense(1))"
   ]
  },
  {
   "cell_type": "code",
   "execution_count": 19,
   "metadata": {},
   "outputs": [],
   "source": [
    "model.compile(optimizer='adam', loss='mean_squared_error')"
   ]
  },
  {
   "cell_type": "code",
   "execution_count": 20,
   "metadata": {},
   "outputs": [
    {
     "name": "stdout",
     "output_type": "stream",
     "text": [
      "3497/3497 [==============================] - 1250s 347ms/step - loss: 0.0011\n"
     ]
    },
    {
     "data": {
      "text/plain": [
       "<keras.callbacks.History at 0x1fbfca45070>"
      ]
     },
     "execution_count": 20,
     "metadata": {},
     "output_type": "execute_result"
    }
   ],
   "source": [
    "model.fit(X_train, y_train, batch_size=1, epochs=1)"
   ]
  },
  {
   "cell_type": "code",
   "execution_count": 21,
   "metadata": {},
   "outputs": [],
   "source": [
    "#Create test data\n",
    "test_data = dataset_scaled[train_data_len-60:,:]\n",
    "X_test = []\n",
    "y_test = dataset[train_data_len:,:]\n",
    "for i in range(60, len(test_data)):\n",
    " X_test.append(test_data[i-60:i,0])"
   ]
  },
  {
   "cell_type": "code",
   "execution_count": 22,
   "metadata": {},
   "outputs": [],
   "source": [
    "#Covert test data to a numpy array and reshape\n",
    "X_test = np.array(X_test)\n",
    "X_test = np.reshape(X_test, (X_test.shape[0],X_test.shape[1],1))"
   ]
  },
  {
   "cell_type": "code",
   "execution_count": 23,
   "metadata": {},
   "outputs": [],
   "source": [
    "#Get predicted prices\n",
    "predictions_lstm = model.predict(X_test)\n",
    "predictions = scaler.inverse_transform(predictions_lstm)"
   ]
  },
  {
   "cell_type": "code",
   "execution_count": 24,
   "metadata": {},
   "outputs": [
    {
     "data": {
      "text/plain": [
       "0.31091861397213494"
      ]
     },
     "execution_count": 24,
     "metadata": {},
     "output_type": "execute_result"
    }
   ],
   "source": [
    "#Get the root mean square error (RMSE) 0 being most favourable\n",
    "rmse = np.sqrt(np.mean(predictions-y_test)**2)\n",
    "rmse"
   ]
  },
  {
   "cell_type": "code",
   "execution_count": 25,
   "metadata": {},
   "outputs": [
    {
     "name": "stderr",
     "output_type": "stream",
     "text": [
      "C:\\Users\\antoi\\AppData\\Local\\Temp/ipykernel_21276/4067381219.py:5: SettingWithCopyWarning: \n",
      "A value is trying to be set on a copy of a slice from a DataFrame.\n",
      "Try using .loc[row_indexer,col_indexer] = value instead\n",
      "\n",
      "See the caveats in the documentation: https://pandas.pydata.org/pandas-docs/stable/user_guide/indexing.html#returning-a-view-versus-a-copy\n",
      "  valid['Predictions'] = predictions # another column for validating test\n"
     ]
    },
    {
     "data": {
      "image/png": "[encoded data removed]",
      "text/plain": [
       "<Figure size 1152x576 with 1 Axes>"
      ]
     },
     "metadata": {},
     "output_type": "display_data"
    }
   ],
   "source": [
    "#Plot the data to validate the test data\n",
    "plt.style.use('fivethirtyeight')\n",
    "train = data.iloc[:train_data_len] # actual train data from 0 rows until train data end\n",
    "valid = data.iloc[train_data_len:] # actual test data from train data end until end of all sampled data\n",
    "valid['Predictions'] = predictions # another column for validating test\n",
    "\n",
    "plt.figure(figsize=(16,8))\n",
    "plt.title('GMG LSTM Model')\n",
    "plt.xlabel('Trading Date', fontsize=18)\n",
    "plt.ylabel('Close Price AUD ($)',fontsize=18)\n",
    "plt.plot(train['Close'])\n",
    "plt.plot(valid[['Close','Predictions']])\n",
    "plt.legend(['Training','Validate','Tested'],loc='lower right')\n",
    "x = np.arange(2000,2024,4)\n",
    "plt.xticks([0,1000,2000,3000,4000,5000],x)\n",
    "plt.savefig('../static/data/images/gmg_graph.png')\n",
    "plt.show()"
   ]
  },
  {
   "cell_type": "markdown",
   "metadata": {},
   "source": [
    "# Test data Predictions on the Model"
   ]
  },
  {
   "cell_type": "code",
   "execution_count": 26,
   "metadata": {},
   "outputs": [
    {
     "name": "stderr",
     "output_type": "stream",
     "text": [
      "C:\\Users\\antoi\\AppData\\Local\\Temp/ipykernel_21276/3403988079.py:1: SettingWithCopyWarning: \n",
      "A value is trying to be set on a copy of a slice from a DataFrame.\n",
      "Try using .loc[row_indexer,col_indexer] = value instead\n",
      "\n",
      "See the caveats in the documentation: https://pandas.pydata.org/pandas-docs/stable/user_guide/indexing.html#returning-a-view-versus-a-copy\n",
      "  valid['Difference']= valid['Close']-valid['Predictions']\n"
     ]
    },
    {
     "data": {
      "text/plain": [
       "<bound method NDFrame.head of           Close  Predictions  Difference\n",
       "3557  12.820000    12.644043    0.175957\n",
       "3558  12.800000    12.645679    0.154321\n",
       "3559  13.210000    12.635789    0.574211\n",
       "3560  13.100000    12.704652    0.395348\n",
       "3561  13.080000    12.765970    0.314030\n",
       "...         ...          ...         ...\n",
       "4441  19.350000    20.051769   -0.701769\n",
       "4442  20.139999    19.766062    0.373938\n",
       "4443  20.520000    19.685028    0.834972\n",
       "4444  20.129999    19.765720    0.364279\n",
       "4445  20.150000    19.802572    0.347427\n",
       "\n",
       "[889 rows x 3 columns]>"
      ]
     },
     "execution_count": 26,
     "metadata": {},
     "output_type": "execute_result"
    }
   ],
   "source": [
    "valid['Difference']= valid['Close']-valid['Predictions']\n",
    "valid.head"
   ]
  },
  {
   "cell_type": "code",
   "execution_count": 27,
   "metadata": {},
   "outputs": [
    {
     "data": {
      "text/plain": [
       "(60, 1)"
      ]
     },
     "execution_count": 27,
     "metadata": {},
     "output_type": "execute_result"
    }
   ],
   "source": [
    "# Use last 60 days price on model to predict next days price\n",
    "import pandas as pd\n",
    "\n",
    "df_mongo = pd.DataFrame(list(db.gmg.find()))\n",
    "sixty_val = df_mongo.iloc[-60:,4].values\n",
    "last_sixty = sixty_val.reshape(-1,1)\n",
    "\n",
    "last_sixty.shape"
   ]
  },
  {
   "cell_type": "code",
   "execution_count": 28,
   "metadata": {},
   "outputs": [
    {
     "data": {
      "text/plain": [
       "(1, 60, 1)"
      ]
     },
     "execution_count": 28,
     "metadata": {},
     "output_type": "execute_result"
    }
   ],
   "source": [
    "last_60_days_scaled = scaler.transform(last_sixty)\n",
    "X_tell = []\n",
    "X_tell.append(last_60_days_scaled)\n",
    "X_tell =np.array(X_tell)\n",
    "X_tell =np.reshape(X_tell, (X_tell.shape[0], X_tell.shape[1],1))\n",
    "X_tell.shape"
   ]
  },
  {
   "cell_type": "code",
   "execution_count": 29,
   "metadata": {},
   "outputs": [
    {
     "name": "stdout",
     "output_type": "stream",
     "text": [
      "30/08/2022 Last close $20.149999618530273 Predicted next day share price $19.55\n"
     ]
    }
   ],
   "source": [
    "pred_price = model.predict(X_tell)\n",
    "pred_price = scaler.inverse_transform(pred_price)\n",
    "pred_price = round(float(pred_price),2)\n",
    "print(f'{last_date} Last close ${last_close} Predicted next day share price ${pred_price}')"
   ]
  },
  {
   "cell_type": "markdown",
   "metadata": {},
   "source": [
    "# Save the Model"
   ]
  },
  {
   "cell_type": "code",
   "execution_count": 30,
   "metadata": {},
   "outputs": [],
   "source": [
    "# Save the entire model to a HDF5 file.\n",
    "# The '.h5' extension indicates that the model should be saved to HDF5.\n",
    "filepath = '../static/gmg_model.sav'\n",
    "model.save(filepath, save_format=\"h5\")"
   ]
  },
  {
   "cell_type": "markdown",
   "metadata": {},
   "source": [
    "#Save last 60 days to a list gmg_sixty and load df"
   ]
  },
  {
   "cell_type": "markdown",
   "metadata": {},
   "source": [
    "#PREDICT USING LOADED MODEL"
   ]
  },
  {
   "cell_type": "code",
   "execution_count": 31,
   "metadata": {},
   "outputs": [],
   "source": [
    "from keras.models import load_model\n",
    "model_in = load_model('../static/gmg_model.sav')"
   ]
  },
  {
   "cell_type": "code",
   "execution_count": 32,
   "metadata": {},
   "outputs": [
    {
     "data": {
      "text/plain": [
       "array([[19.4       ],\n",
       "       [19.360001  ],\n",
       "       [18.879999  ],\n",
       "       [18.58      ],\n",
       "       [17.209999  ],\n",
       "       [17.049999  ],\n",
       "       [17.325001  ],\n",
       "       [16.799999  ],\n",
       "       [17.129999  ],\n",
       "       [17.370001  ],\n",
       "       [17.219999  ],\n",
       "       [17.65      ],\n",
       "       [18.184999  ],\n",
       "       [18.68      ],\n",
       "       [18.74      ],\n",
       "       [18.129999  ],\n",
       "       [17.84      ],\n",
       "       [18.139999  ],\n",
       "       [18.540001  ],\n",
       "       [18.43      ],\n",
       "       [18.530001  ],\n",
       "       [19.030001  ],\n",
       "       [18.75      ],\n",
       "       [18.549999  ],\n",
       "       [18.52      ],\n",
       "       [18.85      ],\n",
       "       [18.530001  ],\n",
       "       [18.57      ],\n",
       "       [18.67      ],\n",
       "       [18.51      ],\n",
       "       [18.76      ],\n",
       "       [18.98      ],\n",
       "       [19.190001  ],\n",
       "       [19.09      ],\n",
       "       [19.18      ],\n",
       "       [19.225     ],\n",
       "       [19.315001  ],\n",
       "       [20.200001  ],\n",
       "       [20.530001  ],\n",
       "       [19.98      ],\n",
       "       [20.190001  ],\n",
       "       [20.49      ],\n",
       "       [20.52000046],\n",
       "       [20.07999992],\n",
       "       [20.23999977],\n",
       "       [19.95999908],\n",
       "       [20.34000015],\n",
       "       [20.15500069],\n",
       "       [20.28000069],\n",
       "       [19.95000076],\n",
       "       [20.54000092],\n",
       "       [20.69000053],\n",
       "       [20.39999962],\n",
       "       [19.97999954],\n",
       "       [19.65999985],\n",
       "       [19.20000076],\n",
       "       [19.35000038],\n",
       "       [20.20999908],\n",
       "       [19.87000084],\n",
       "       [20.09000015]])"
      ]
     },
     "execution_count": 32,
     "metadata": {},
     "output_type": "execute_result"
    }
   ],
   "source": [
    "# query the gmg collection and load into dataframe\n",
    "\n",
    "df_mongo = pd.DataFrame(list(db.gmg.find()))\n",
    "sixty_val = df_mongo.iloc[-60:,4].values\n",
    "last_sixty = sixty_val.reshape(-1,1)\n",
    "\n",
    "last_sixty"
   ]
  },
  {
   "cell_type": "markdown",
   "metadata": {},
   "source": [
    "#Create a function to loop through the days input"
   ]
  },
  {
   "cell_type": "code",
   "execution_count": 33,
   "metadata": {},
   "outputs": [
    {
     "name": "stdout",
     "output_type": "stream",
     "text": [
      "1\n",
      "Day finished! Price: \n",
      "2\n",
      "Day finished! Price: \n",
      "3\n",
      "Day finished! Price: \n",
      "4\n",
      "Day finished! Price: \n",
      "5\n",
      "Day finished! Price: \n",
      "6\n",
      "Day finished! Price: \n",
      "7\n",
      "Day finished! Price: \n",
      "8\n",
      "Day finished! Price: \n",
      "9\n",
      "Day finished! Price: \n",
      "10\n",
      "Day finished! Price: \n",
      "11\n",
      "Day finished! Price: \n",
      "12\n",
      "Day finished! Price: \n",
      "13\n",
      "Day finished! Price: \n",
      "14\n",
      "Day finished! Price: \n",
      "15\n",
      "Day finished! Price: \n",
      "16\n",
      "Day finished! Price: \n",
      "17\n",
      "Day finished! Price: \n",
      "18\n",
      "Day finished! Price: \n",
      "19\n",
      "Day finished! Price: \n",
      "20\n",
      "Day finished! Price: \n",
      "21\n",
      "Day finished! Price: \n",
      "22\n",
      "Day finished! Price: \n",
      "23\n",
      "Day finished! Price: \n",
      "24\n",
      "Day finished! Price: \n",
      "25\n",
      "Day finished! Price: \n",
      "26\n",
      "Day finished! Price: \n",
      "27\n",
      "Day finished! Price: \n",
      "28\n",
      "Day finished! Price: \n",
      "29\n",
      "Day finished! Price: \n",
      "30\n",
      "Day finished! Price: \n",
      "31\n",
      "Day finished! Price: \n",
      "32\n",
      "Day finished! Price: \n",
      "33\n",
      "Day finished! Price: \n",
      "34\n",
      "Day finished! Price: \n",
      "35\n",
      "Day finished! Price: \n",
      "36\n",
      "Day finished! Price: \n",
      "37\n",
      "Day finished! Price: \n",
      "38\n",
      "Day finished! Price: \n",
      "39\n",
      "Day finished! Price: \n",
      "40\n",
      "Day finished! Price: \n",
      "41\n",
      "Day finished! Price: \n",
      "42\n",
      "Day finished! Price: \n",
      "43\n",
      "Day finished! Price: \n",
      "44\n",
      "Day finished! Price: \n",
      "45\n",
      "Day finished! Price: \n",
      "46\n",
      "Day finished! Price: \n",
      "47\n",
      "Day finished! Price: \n",
      "48\n",
      "Day finished! Price: \n",
      "49\n",
      "Day finished! Price: \n",
      "50\n",
      "Day finished! Price: \n",
      "51\n",
      "Day finished! Price: \n",
      "52\n",
      "Day finished! Price: \n",
      "53\n",
      "Day finished! Price: \n",
      "54\n",
      "Day finished! Price: \n",
      "55\n",
      "Day finished! Price: \n",
      "56\n",
      "Day finished! Price: \n",
      "57\n",
      "Day finished! Price: \n",
      "58\n",
      "Day finished! Price: \n",
      "59\n",
      "Day finished! Price: \n",
      "60\n",
      "Day finished! Price: \n",
      "61\n",
      "Day finished! Price: \n",
      "62\n",
      "Day finished! Price: \n",
      "63\n",
      "Day finished! Price: \n",
      "64\n",
      "Day finished! Price: \n",
      "65\n",
      "Day finished! Price: \n",
      "66\n",
      "Day finished! Price: \n",
      "67\n",
      "Day finished! Price: \n",
      "68\n",
      "Day finished! Price: \n",
      "69\n",
      "Day finished! Price: \n",
      "70\n",
      "Day finished! Price: \n",
      "71\n",
      "Day finished! Price: \n",
      "72\n",
      "Day finished! Price: \n",
      "73\n",
      "Day finished! Price: \n",
      "74\n",
      "Day finished! Price: \n",
      "75\n",
      "Day finished! Price: \n",
      "76\n",
      "Day finished! Price: \n",
      "77\n",
      "Day finished! Price: \n",
      "78\n",
      "Day finished! Price: \n",
      "79\n",
      "Day finished! Price: \n",
      "80\n",
      "Day finished! Price: \n",
      "81\n",
      "Day finished! Price: \n",
      "82\n",
      "Day finished! Price: \n",
      "83\n",
      "Day finished! Price: \n",
      "84\n",
      "Day finished! Price: \n",
      "85\n",
      "Day finished! Price: \n",
      "86\n",
      "Day finished! Price: \n",
      "87\n",
      "Day finished! Price: \n",
      "88\n",
      "Day finished! Price: \n",
      "89\n",
      "Day finished! Price: \n",
      "90\n",
      "Day finished! Price: \n",
      "91\n",
      "Day finished! Price: \n",
      "92\n",
      "Day finished! Price: \n",
      "93\n",
      "Day finished! Price: \n",
      "94\n",
      "Day finished! Price: \n",
      "95\n",
      "Day finished! Price: \n",
      "96\n",
      "Day finished! Price: \n",
      "97\n",
      "Day finished! Price: \n",
      "98\n",
      "Day finished! Price: \n",
      "99\n",
      "Day finished! Price: \n",
      "100\n",
      "Day finished! Price: \n",
      "101\n",
      "Day finished! Price: \n",
      "102\n",
      "Day finished! Price: \n",
      "103\n",
      "Day finished! Price: \n",
      "104\n",
      "Day finished! Price: \n",
      "105\n",
      "Day finished! Price: \n",
      "106\n",
      "Day finished! Price: \n",
      "107\n",
      "Day finished! Price: \n",
      "108\n",
      "Day finished! Price: \n",
      "109\n",
      "Day finished! Price: \n",
      "110\n",
      "Day finished! Price: \n",
      "111\n",
      "Day finished! Price: \n",
      "112\n",
      "Day finished! Price: \n",
      "113\n",
      "Day finished! Price: \n",
      "114\n",
      "Day finished! Price: \n",
      "115\n",
      "Day finished! Price: \n",
      "116\n",
      "Day finished! Price: \n",
      "117\n",
      "Day finished! Price: \n",
      "118\n",
      "Day finished! Price: \n",
      "119\n",
      "Day finished! Price: \n",
      "120\n",
      "Day finished! Price: \n",
      "121\n",
      "Day finished! Price: \n",
      "122\n",
      "Day finished! Price: \n",
      "123\n",
      "Day finished! Price: \n",
      "124\n",
      "Day finished! Price: \n",
      "125\n",
      "Day finished! Price: \n",
      "126\n",
      "Day finished! Price: \n",
      "127\n",
      "Day finished! Price: \n",
      "128\n",
      "Day finished! Price: \n",
      "129\n",
      "Day finished! Price: \n",
      "130\n",
      "Day finished! Price: \n",
      "131\n",
      "Day finished! Price: \n",
      "132\n",
      "Day finished! Price: \n",
      "133\n",
      "Day finished! Price: \n",
      "134\n",
      "Day finished! Price: \n",
      "135\n",
      "Day finished! Price: \n",
      "136\n",
      "Day finished! Price: \n",
      "137\n",
      "Day finished! Price: \n",
      "138\n",
      "Day finished! Price: \n",
      "139\n",
      "Day finished! Price: \n",
      "140\n",
      "Day finished! Price: \n",
      "141\n",
      "Day finished! Price: \n",
      "142\n",
      "Day finished! Price: \n",
      "143\n",
      "Day finished! Price: \n",
      "144\n",
      "Day finished! Price: \n",
      "145\n",
      "Day finished! Price: \n",
      "146\n",
      "Day finished! Price: \n",
      "147\n",
      "Day finished! Price: \n",
      "148\n",
      "Day finished! Price: \n",
      "149\n",
      "Day finished! Price: \n",
      "150\n",
      "Day finished! Price: \n",
      "151\n",
      "Day finished! Price: \n",
      "152\n",
      "Day finished! Price: \n",
      "153\n",
      "Day finished! Price: \n",
      "154\n",
      "Day finished! Price: \n",
      "155\n",
      "Day finished! Price: \n",
      "156\n",
      "Day finished! Price: \n",
      "157\n",
      "Day finished! Price: \n",
      "158\n",
      "Day finished! Price: \n",
      "159\n",
      "Day finished! Price: \n",
      "160\n",
      "Day finished! Price: \n",
      "161\n",
      "Day finished! Price: \n",
      "162\n",
      "Day finished! Price: \n",
      "163\n",
      "Day finished! Price: \n",
      "164\n",
      "Day finished! Price: \n",
      "165\n",
      "Day finished! Price: \n",
      "166\n",
      "Day finished! Price: \n",
      "167\n",
      "Day finished! Price: \n",
      "168\n",
      "Day finished! Price: \n",
      "169\n",
      "Day finished! Price: \n",
      "170\n",
      "Day finished! Price: \n",
      "171\n",
      "Day finished! Price: \n",
      "172\n",
      "Day finished! Price: \n",
      "173\n",
      "Day finished! Price: \n",
      "174\n",
      "Day finished! Price: \n",
      "175\n",
      "Day finished! Price: \n",
      "176\n",
      "Day finished! Price: \n",
      "177\n",
      "Day finished! Price: \n",
      "178\n",
      "Day finished! Price: \n",
      "179\n",
      "Day finished! Price: \n",
      "Could not predict further!\n",
      "180\n"
     ]
    },
    {
     "data": {
      "text/plain": [
       "[19.81,\n",
       " 19.82,\n",
       " 19.82,\n",
       " 19.81,\n",
       " 19.79,\n",
       " 19.77,\n",
       " 19.76,\n",
       " 19.74,\n",
       " 19.73,\n",
       " 19.72,\n",
       " 19.7,\n",
       " 19.7,\n",
       " 19.69,\n",
       " 19.68,\n",
       " 19.67,\n",
       " 19.66,\n",
       " 19.66,\n",
       " 19.65,\n",
       " 19.65,\n",
       " 19.65,\n",
       " 19.64,\n",
       " 19.64,\n",
       " 19.63,\n",
       " 19.63,\n",
       " 19.62,\n",
       " 19.62,\n",
       " 19.62,\n",
       " 19.61,\n",
       " 19.61,\n",
       " 19.6,\n",
       " 19.6,\n",
       " 19.6,\n",
       " 19.6,\n",
       " 19.6,\n",
       " 19.6,\n",
       " 19.6,\n",
       " 19.6,\n",
       " 19.59,\n",
       " 19.59,\n",
       " 19.59,\n",
       " 19.59,\n",
       " 19.59,\n",
       " 19.59,\n",
       " 19.59,\n",
       " 19.58,\n",
       " 19.58,\n",
       " 19.58,\n",
       " 19.58,\n",
       " 19.58,\n",
       " 19.58,\n",
       " 19.58,\n",
       " 19.57,\n",
       " 19.57,\n",
       " 19.57,\n",
       " 19.57,\n",
       " 19.57,\n",
       " 19.57,\n",
       " 19.57,\n",
       " 19.57,\n",
       " 19.57,\n",
       " 19.57,\n",
       " 19.57,\n",
       " 19.57,\n",
       " 19.57,\n",
       " 19.57,\n",
       " 19.57,\n",
       " 19.57,\n",
       " 19.57,\n",
       " 19.57,\n",
       " 19.57,\n",
       " 19.57,\n",
       " 19.57,\n",
       " 19.57,\n",
       " 19.57,\n",
       " 19.57,\n",
       " 19.57,\n",
       " 19.57,\n",
       " 19.57,\n",
       " 19.57,\n",
       " 19.57,\n",
       " 19.57,\n",
       " 19.57,\n",
       " 19.57,\n",
       " 19.57,\n",
       " 19.57,\n",
       " 19.57,\n",
       " 19.57,\n",
       " 19.57,\n",
       " 19.57,\n",
       " 19.57,\n",
       " 19.57,\n",
       " 19.57,\n",
       " 19.57,\n",
       " 19.57,\n",
       " 19.57,\n",
       " 19.57,\n",
       " 19.57,\n",
       " 19.57,\n",
       " 19.57,\n",
       " 19.57,\n",
       " 19.57,\n",
       " 19.57,\n",
       " 19.57,\n",
       " 19.57,\n",
       " 19.57,\n",
       " 19.57,\n",
       " 19.57,\n",
       " 19.57,\n",
       " 19.57,\n",
       " 19.57,\n",
       " 19.57,\n",
       " 19.57,\n",
       " 19.57,\n",
       " 19.57,\n",
       " 19.57,\n",
       " 19.57,\n",
       " 19.57,\n",
       " 19.57,\n",
       " 19.57,\n",
       " 19.57,\n",
       " 19.57,\n",
       " 19.57,\n",
       " 19.57,\n",
       " 19.57,\n",
       " 19.57,\n",
       " 19.57,\n",
       " 19.57,\n",
       " 19.57,\n",
       " 19.57,\n",
       " 19.57,\n",
       " 19.57,\n",
       " 19.57,\n",
       " 19.57,\n",
       " 19.57,\n",
       " 19.57,\n",
       " 19.57,\n",
       " 19.57,\n",
       " 19.57,\n",
       " 19.57,\n",
       " 19.57,\n",
       " 19.57,\n",
       " 19.57,\n",
       " 19.57,\n",
       " 19.57,\n",
       " 19.57,\n",
       " 19.57,\n",
       " 19.57,\n",
       " 19.57,\n",
       " 19.57,\n",
       " 19.57,\n",
       " 19.57,\n",
       " 19.57,\n",
       " 19.57,\n",
       " 19.57,\n",
       " 19.57,\n",
       " 19.57,\n",
       " 19.57,\n",
       " 19.57,\n",
       " 19.57,\n",
       " 19.57,\n",
       " 19.57,\n",
       " 19.57,\n",
       " 19.57,\n",
       " 19.57,\n",
       " 19.57,\n",
       " 19.57,\n",
       " 19.57,\n",
       " 19.57,\n",
       " 19.57,\n",
       " 19.57,\n",
       " 19.57,\n",
       " 19.57,\n",
       " 19.57,\n",
       " 19.57,\n",
       " 19.57,\n",
       " 19.57,\n",
       " 19.57,\n",
       " 19.57,\n",
       " 19.57]"
      ]
     },
     "execution_count": 33,
     "metadata": {},
     "output_type": "execute_result"
    }
   ],
   "source": [
    "from keras.models import load_model\n",
    "model_in = load_model('../static/gmg_model.sav')\n",
    "from sklearn.preprocessing import MinMaxScaler\n",
    "scaler = MinMaxScaler(feature_range=(0,1))\n",
    "\n",
    "price_list=[]\n",
    "\n",
    "#Function to predict future days predicted price, in loop\n",
    "input = 180 #days\n",
    "if input == \"\":\n",
    "    input = 180\n",
    "else:\n",
    "   input = int(input)\n",
    "\n",
    "def predict_gmg(last_sixty,model_in,input):\n",
    "    for i in range(1, input):\n",
    "\n",
    "        #Takes df and converts to model's predict shape\n",
    "        last_sixty_scaled = scaler.fit_transform(last_sixty)\n",
    "        new_X_tell = []\n",
    "        new_X_tell.append(last_sixty_scaled)\n",
    "        new_X_tell =np.array(new_X_tell)\n",
    "        new_X_tell =np.reshape(new_X_tell, (new_X_tell.shape[0], new_X_tell.shape[1],1))\n",
    "        \n",
    "        model_in_pd_scale = model_in.predict(new_X_tell)\n",
    "        model_in_price = scaler.inverse_transform(model_in_pd_scale) # New price predicted\n",
    "\n",
    "        last_sixty_less_one = np.delete(last_sixty, 0, 0)\n",
    "        last_sixty = np.append(last_sixty_less_one, model_in_price,axis = 0) # Update last 60\n",
    "        print(i)\n",
    "        print(\"Day finished! Price: \")\n",
    "        price_float = float(model_in_price)\n",
    "        price = round(price_float, 2)\n",
    "        price_list.append(price)\n",
    "    else:\n",
    "        print(\"Could not predict further!\")\n",
    "        print(input)\n",
    "    # print(price_list)\n",
    "    return price_list\n",
    "\n",
    "price_pred = predict_gmg(last_sixty,model_in,input)\n",
    "price_pred"
   ]
  },
  {
   "cell_type": "code",
   "execution_count": 34,
   "metadata": {},
   "outputs": [
    {
     "name": "stdout",
     "output_type": "stream",
     "text": [
      "<bound method NDFrame.tail of      Count        Date        DOW\n",
      "0        1  31-08-2022  Wednesday\n",
      "1        2  01-09-2022   Thursday\n",
      "2        3  02-09-2022     Friday\n",
      "3        4  05-09-2022     Monday\n",
      "4        5  06-09-2022    Tuesday\n",
      "..     ...         ...        ...\n",
      "203    204  12-06-2023     Monday\n",
      "204    205  13-06-2023    Tuesday\n",
      "205    206  14-06-2023  Wednesday\n",
      "206    207  15-06-2023   Thursday\n",
      "207    208  16-06-2023     Friday\n",
      "\n",
      "[208 rows x 3 columns]>\n"
     ]
    }
   ],
   "source": [
    "import pandas as pd\n",
    "from datetime import date,datetime,timedelta\n",
    "today1 = date.today()\n",
    "count=[]\n",
    "dates=[]\n",
    "dow=[]\n",
    "row=0\n",
    "for x in range(1,293,1): \n",
    "  d=today1+timedelta(days=x)\n",
    "  a=d.strftime(\"%A\")\n",
    "  if a != \"Saturday\" and a != \"Sunday\":\n",
    "     dates.append(d.strftime('%d-%m-%Y'))\n",
    "     dow.append(a)\n",
    "     row=row+1\n",
    "     count.append(row)\n",
    "\n",
    "data = {'Count': count,\n",
    "        'Date': dates,\n",
    "        'DOW': dow\n",
    "        }\n",
    "dates_df = pd.DataFrame(data)\n",
    "print (dates_df.tail)"
   ]
  },
  {
   "cell_type": "code",
   "execution_count": 35,
   "metadata": {},
   "outputs": [
    {
     "name": "stdout",
     "output_type": "stream",
     "text": [
      "2022-08-31 00:00:00 2022-08-30 00:00:00\n",
      "5:21:46.988140\n",
      "[[ObjectId('630dc684ae0967d01293931d') 199 '05-06-2023' 'Monday']\n",
      " [ObjectId('630dc684ae0967d01293931e') 200 '06-06-2023' 'Tuesday']\n",
      " [ObjectId('630dc684ae0967d01293931f') 201 '07-06-2023' 'Wednesday']\n",
      " [ObjectId('630dc684ae0967d012939320') 202 '08-06-2023' 'Thursday']\n",
      " [ObjectId('630dc684ae0967d012939321') 203 '09-06-2023' 'Friday']\n",
      " [ObjectId('630dc684ae0967d012939322') 204 '12-06-2023' 'Monday']\n",
      " [ObjectId('630dc684ae0967d012939323') 205 '13-06-2023' 'Tuesday']\n",
      " [ObjectId('630dc684ae0967d012939324') 206 '14-06-2023' 'Wednesday']\n",
      " [ObjectId('630dc684ae0967d012939325') 207 '15-06-2023' 'Thursday']\n",
      " [ObjectId('630dc684ae0967d012939326') 208 '16-06-2023' 'Friday']]\n"
     ]
    }
   ],
   "source": [
    "today1= datetime.today()\n",
    "today3=today1.strftime('%d-%m-%Y')\n",
    "today2=datetime.strptime(today3, '%d-%m-%Y')\n",
    "\n",
    "#Check if mongoDb now has latest data\n",
    "dates_df = pd.DataFrame(list(db.dates.find()))\n",
    "dates_val = dates_df.iloc[0].values\n",
    "last_date1=dates_val[2]\n",
    "last_date2 = datetime.strptime(last_date1, '%d-%m-%Y')\n",
    "last_date3=from_date.strftime('%d-%m-%Y')\n",
    "\n",
    "today_str=today1.strftime('%d-%m-%Y')\n",
    "\n",
    "print(last_date2,today2)\n",
    "diff=last_date2-today1\n",
    "\n",
    "if diff is None:\n",
    "    print(\"huh\")\n",
    "else:\n",
    "    print(diff)\n",
    "\n",
    "    # Drop all previous records now in MongoDb\n",
    "    db.dates.drop()\n",
    "\n",
    "    records=dates_df.to_dict('records')\n",
    "\n",
    "    #INSERT NEW DATA INTO MONGODB\n",
    "    db.dates.insert_many(records)\n",
    "\n",
    "    #Check if mongoDb now has latest data\n",
    "    dates_df = pd.DataFrame(list(db.dates.find()))\n",
    "    dates_val = dates_df.iloc[-10:].values\n",
    "    print(dates_val)\n"
   ]
  },
  {
   "cell_type": "code",
   "execution_count": 36,
   "metadata": {},
   "outputs": [
    {
     "data": {
      "text/html": [
       "<div>\n",
       "<style scoped>\n",
       "    .dataframe tbody tr th:only-of-type {\n",
       "        vertical-align: middle;\n",
       "    }\n",
       "\n",
       "    .dataframe tbody tr th {\n",
       "        vertical-align: top;\n",
       "    }\n",
       "\n",
       "    .dataframe thead th {\n",
       "        text-align: right;\n",
       "    }\n",
       "</style>\n",
       "<table border=\"1\" class=\"dataframe\">\n",
       "  <thead>\n",
       "    <tr style=\"text-align: right;\">\n",
       "      <th></th>\n",
       "      <th>Count</th>\n",
       "      <th>Date</th>\n",
       "      <th>DOW</th>\n",
       "    </tr>\n",
       "  </thead>\n",
       "  <tbody>\n",
       "    <tr>\n",
       "      <th>0</th>\n",
       "      <td>1</td>\n",
       "      <td>31-08-2022</td>\n",
       "      <td>Wednesday</td>\n",
       "    </tr>\n",
       "    <tr>\n",
       "      <th>1</th>\n",
       "      <td>2</td>\n",
       "      <td>01-09-2022</td>\n",
       "      <td>Thursday</td>\n",
       "    </tr>\n",
       "    <tr>\n",
       "      <th>2</th>\n",
       "      <td>3</td>\n",
       "      <td>02-09-2022</td>\n",
       "      <td>Friday</td>\n",
       "    </tr>\n",
       "    <tr>\n",
       "      <th>3</th>\n",
       "      <td>4</td>\n",
       "      <td>05-09-2022</td>\n",
       "      <td>Monday</td>\n",
       "    </tr>\n",
       "    <tr>\n",
       "      <th>4</th>\n",
       "      <td>5</td>\n",
       "      <td>06-09-2022</td>\n",
       "      <td>Tuesday</td>\n",
       "    </tr>\n",
       "    <tr>\n",
       "      <th>...</th>\n",
       "      <td>...</td>\n",
       "      <td>...</td>\n",
       "      <td>...</td>\n",
       "    </tr>\n",
       "    <tr>\n",
       "      <th>203</th>\n",
       "      <td>204</td>\n",
       "      <td>12-06-2023</td>\n",
       "      <td>Monday</td>\n",
       "    </tr>\n",
       "    <tr>\n",
       "      <th>204</th>\n",
       "      <td>205</td>\n",
       "      <td>13-06-2023</td>\n",
       "      <td>Tuesday</td>\n",
       "    </tr>\n",
       "    <tr>\n",
       "      <th>205</th>\n",
       "      <td>206</td>\n",
       "      <td>14-06-2023</td>\n",
       "      <td>Wednesday</td>\n",
       "    </tr>\n",
       "    <tr>\n",
       "      <th>206</th>\n",
       "      <td>207</td>\n",
       "      <td>15-06-2023</td>\n",
       "      <td>Thursday</td>\n",
       "    </tr>\n",
       "    <tr>\n",
       "      <th>207</th>\n",
       "      <td>208</td>\n",
       "      <td>16-06-2023</td>\n",
       "      <td>Friday</td>\n",
       "    </tr>\n",
       "  </tbody>\n",
       "</table>\n",
       "<p>208 rows × 3 columns</p>\n",
       "</div>"
      ],
      "text/plain": [
       "     Count        Date        DOW\n",
       "0        1  31-08-2022  Wednesday\n",
       "1        2  01-09-2022   Thursday\n",
       "2        3  02-09-2022     Friday\n",
       "3        4  05-09-2022     Monday\n",
       "4        5  06-09-2022    Tuesday\n",
       "..     ...         ...        ...\n",
       "203    204  12-06-2023     Monday\n",
       "204    205  13-06-2023    Tuesday\n",
       "205    206  14-06-2023  Wednesday\n",
       "206    207  15-06-2023   Thursday\n",
       "207    208  16-06-2023     Friday\n",
       "\n",
       "[208 rows x 3 columns]"
      ]
     },
     "execution_count": 36,
     "metadata": {},
     "output_type": "execute_result"
    }
   ],
   "source": [
    "dates_df = pd.DataFrame(list(db.dates.find()))\n",
    "dates_val = dates_df.iloc[0:,1:]\n",
    "# dates_df['Count'].dtype\n",
    "# dates_df_iloc = dates_df.iloc[0:180,1:]\n",
    "dates_val"
   ]
  },
  {
   "cell_type": "code",
   "execution_count": 37,
   "metadata": {},
   "outputs": [],
   "source": [
    "# import pandas as pd\n",
    "# dates_df = pd.read_csv(\"../static/data/dates.csv\")\n",
    "# dates_df['Count'] = dates_df['Count'].fillna(0).astype(int)\n",
    "# dates_df"
   ]
  },
  {
   "cell_type": "code",
   "execution_count": 38,
   "metadata": {},
   "outputs": [
    {
     "name": "stdout",
     "output_type": "stream",
     "text": [
      "Friday 09-09-2022\n"
     ]
    },
    {
     "name": "stderr",
     "output_type": "stream",
     "text": [
      "C:\\Users\\antoi\\AppData\\Local\\Temp/ipykernel_21276/2944284658.py:13: SettingWithCopyWarning: \n",
      "A value is trying to be set on a copy of a slice from a DataFrame.\n",
      "Try using .loc[row_indexer,col_indexer] = value instead\n",
      "\n",
      "See the caveats in the documentation: https://pandas.pydata.org/pandas-docs/stable/user_guide/indexing.html#returning-a-view-versus-a-copy\n",
      "  dates_df_iloc['Price'] = price_list\n"
     ]
    },
    {
     "data": {
      "image/png": "[encoded data removed]",
      "text/plain": [
       "<Figure size 432x288 with 1 Axes>"
      ]
     },
     "metadata": {},
     "output_type": "display_data"
    }
   ],
   "source": [
    "# DRAW THE PREDICTION\n",
    "day1=dates_df.iloc[0,3]+\" \"+dates_df.iloc[0,2]\n",
    "day2=dates_df.iloc[1,3]+\" \"+dates_df.iloc[1,2]\n",
    "day3=dates_df.iloc[2,3]+\" \"+dates_df.iloc[2,2]\n",
    "day4=dates_df.iloc[3,3]+\" \"+dates_df.iloc[3,2]\n",
    "day5=dates_df.iloc[4,3]+\" \"+dates_df.iloc[4,2]\n",
    "day6=dates_df.iloc[5,3]+\" \"+dates_df.iloc[5,2]\n",
    "day7=dates_df.iloc[6,3]+\" \"+dates_df.iloc[6,2]\n",
    "day8=dates_df.iloc[7,3]+\" \"+dates_df.iloc[7,2]\n",
    "print(day8)\n",
    "#Append the input amount of trading days to dates dictionary\n",
    "dates_df_iloc = dates_df.iloc[0:(input-1)]\n",
    "dates_df_iloc['Price'] = price_list\n",
    "plt.plot(dates_df_iloc['Price'])\n",
    "plt.title('GMG LSTM PREDICTIONS: '+last_date+\"  $\"+str(round(last_close,2)))\n",
    "plt.xlabel('Future Trading Days', fontsize=10)\n",
    "plt.ylabel('Close Price AUD ($)',fontsize=10)\n",
    "plt.xticks([0,25,50,75,100,125,150,175],[day1,day2,day3,day4,day5,day6,day7,day8],fontsize=9,rotation=35)\n",
    "plt.savefig('../static/data/images/pred/gmg_pred.png', bbox_inches=\"tight\")\n",
    "plt.show()"
   ]
  },
  {
   "cell_type": "code",
   "execution_count": 39,
   "metadata": {},
   "outputs": [
    {
     "name": "stdout",
     "output_type": "stream",
     "text": [
      "{'_id': ObjectId('630dc684ae0967d012939257'), 'Count': 1, 'Date': '31-08-2022', 'DOW': 'Wednesday', 'Price': 19.81}\n"
     ]
    }
   ],
   "source": [
    "#Append the input amount of trading days to dates dictionary\n",
    "my_dict = dates_df_iloc.to_dict(orient='records')\n",
    "print(my_dict[0])\n",
    "price_dict = [dict(zip(['Price'],[x])) for x in price_list]\n",
    "# print(price_dict[0])"
   ]
  },
  {
   "cell_type": "code",
   "execution_count": 40,
   "metadata": {},
   "outputs": [
    {
     "name": "stdout",
     "output_type": "stream",
     "text": [
      "3557 4446 4609\n"
     ]
    }
   ],
   "source": [
    "len_df_mongo = len(df_mongo) # length of the original dataframe\n",
    "col_name = ['Close']\n",
    "df_filtered = df.filter(col_name)\n",
    "df_filtered_len = len(df_filtered.index)\n",
    "df_filtered_len\n",
    "len_pred_df = df_filtered_len+input # length of the original dataframe plus the users new inputs\n",
    "\n",
    "new_data =df_filtered.append(pd.DataFrame(price_list,columns=col_name),ignore_index=True)\n",
    "new_data.tail(10)\n",
    "print(train_data_len,len_df_mongo,len_pred_df)\n"
   ]
  },
  {
   "cell_type": "code",
   "execution_count": 41,
   "metadata": {},
   "outputs": [
    {
     "name": "stderr",
     "output_type": "stream",
     "text": [
      "C:\\Users\\antoi\\AppData\\Local\\Temp/ipykernel_21276/3489515865.py:6: SettingWithCopyWarning: \n",
      "A value is trying to be set on a copy of a slice from a DataFrame.\n",
      "Try using .loc[row_indexer,col_indexer] = value instead\n",
      "\n",
      "See the caveats in the documentation: https://pandas.pydata.org/pandas-docs/stable/user_guide/indexing.html#returning-a-view-versus-a-copy\n",
      "  valid['Predictions'] = predictions # another column for validating test\n"
     ]
    },
    {
     "data": {
      "image/png": "[encoded data removed]",
      "text/plain": [
       "<Figure size 1152x576 with 1 Axes>"
      ]
     },
     "metadata": {},
     "output_type": "display_data"
    }
   ],
   "source": [
    "#Plot the data to validate the test data\n",
    "\n",
    "plt.style.use('fivethirtyeight')\n",
    "train = new_data.iloc[:train_data_len] # actual train data from 0 rows until train data end\n",
    "valid = new_data.iloc[train_data_len:len_df_mongo] # actual test data from train data end until end of all sampled data\n",
    "valid['Predictions'] = predictions # another column for validating test\n",
    "predict = new_data.iloc[len_df_mongo:len_pred_df] # user prediction data from loop\n",
    "\n",
    "plt.figure(figsize=(16,8))\n",
    "plt.title('PREDICTION GMG Share Price - LSTM Model')\n",
    "plt.xlabel('Trading Date', fontsize=18)\n",
    "plt.ylabel('Close Price AUD ($)',fontsize=18)\n",
    "plt.plot(train['Close'])\n",
    "plt.plot(valid[['Close','Predictions']])\n",
    "plt.plot(predict['Close'])\n",
    "plt.legend(['Training data','Tested data','Validate test data','Prediction'],loc='lower right')\n",
    "x = np.arange(2000,2024,4)\n",
    "plt.xticks([0,1000,2000,3000,4000,5000],x)\n",
    "plt.savefig('../static/data/images/gmg_predict_graph.png')\n",
    "plt.show()"
   ]
  },
  {
   "cell_type": "markdown",
   "metadata": {},
   "source": [
    "#Save predicted price to MongoDB"
   ]
  },
  {
   "cell_type": "code",
   "execution_count": 42,
   "metadata": {},
   "outputs": [
    {
     "name": "stdout",
     "output_type": "stream",
     "text": [
      "{'_id': ObjectId('62f83471a0999ee2071b809d'), 'model': 'RFR', 'name': 'GMG', 'date': '12/08/2022', 'predicted': 18, 'actual': 20, 'difference': -1.9984, 'accuracy': 95.8}\n",
      "{'_id': ObjectId('630af0a1caaee22d128e9225'), 'model': 'LSTM', 'name': 'GMG', 'date': '26/08/2022', 'predicted': 19.88, 'actual': 20.52, 'difference': -0.64, 'rmse': 0.00238}\n"
     ]
    }
   ],
   "source": [
    "# Query all\n",
    "name = 'GMG'\n",
    "companys = db.companys.find({'name': name})\n",
    "# Iterate through each company in the collection\n",
    "for company in companys:\n",
    "    print(company)"
   ]
  },
  {
   "cell_type": "code",
   "execution_count": 43,
   "metadata": {},
   "outputs": [
    {
     "name": "stdout",
     "output_type": "stream",
     "text": [
      "{'_id': ObjectId('62f83471a0999ee2071b809d'), 'model': 'RFR', 'name': 'GMG', 'date': '12/08/2022', 'predicted': 18, 'actual': 20, 'difference': -1.9984, 'accuracy': 95.8}\n"
     ]
    }
   ],
   "source": [
    "# Delete a document from a collection\n",
    "db.companys_agg.delete_one(\n",
    "    {'model': 'LSTM','name': name,'date':last_date}\n",
    ")\n",
    "db.companys.delete_one(\n",
    "    {'model': 'LSTM','name': name}\n",
    ")\n",
    "\n",
    "# query the companys collection\n",
    "companys = db.companys.find({'name': name})\n",
    "# see change in the collection\n",
    "for company in companys:\n",
    "    print(company)"
   ]
  },
  {
   "cell_type": "code",
   "execution_count": 44,
   "metadata": {},
   "outputs": [
    {
     "name": "stdout",
     "output_type": "stream",
     "text": [
      "date 30/08/2022,predicted $19.55, actual $20.15, difference -0.5999999999999979, rmse 0.31092\n"
     ]
    }
   ],
   "source": [
    "# Set keys and values of company\n",
    "name = 'GMG'\n",
    "# Set keys and values of company\n",
    "last_close=round(float(last_close),2)\n",
    "difference = pred_price-last_close\n",
    "print(f'date {last_date},predicted ${pred_price}, actual ${last_close}, difference {difference}, rmse {round(rmse,5)}')"
   ]
  },
  {
   "cell_type": "code",
   "execution_count": 45,
   "metadata": {},
   "outputs": [
    {
     "name": "stdout",
     "output_type": "stream",
     "text": [
      "{'_id': ObjectId('62f83471a0999ee2071b809d'), 'model': 'RFR', 'name': 'GMG', 'date': '12/08/2022', 'predicted': 18, 'actual': 20, 'difference': -1.9984, 'accuracy': 95.8}\n",
      "{'_id': ObjectId('630dcc76d5ee5c4abea8ed33'), 'model': 'LSTM', 'name': 'GMG', 'date': '30/08/2022', 'predicted': 19.55, 'actual': 20.15, 'difference': -0.6, 'rmse': 0.31092}\n"
     ]
    }
   ],
   "source": [
    "# Insert a document into the 'companys' collection\n",
    "db.companys_agg.insert_one(\n",
    "    {\n",
    "      'model': 'LSTM',\n",
    "      'name': name,\n",
    "      'date': last_date,\n",
    "      'predicted': pred_price,\n",
    "      'actual': last_close,\n",
    "      'difference': round(difference,4),\n",
    "      'rmse': round(rmse,5)        \n",
    "    }\n",
    ")\n",
    "\n",
    "db.companys.insert_one(\n",
    "    {\n",
    "      'model': 'LSTM',\n",
    "      'name': name,\n",
    "      'date': last_date,\n",
    "      'predicted': pred_price,\n",
    "      'actual': last_close,\n",
    "      'difference': round(difference,4),\n",
    "      'rmse': round(rmse,5)        \n",
    "    }\n",
    ")\n",
    "\n",
    "# query the classroom collection\n",
    "companys = db.companys.find({'name': name})\n",
    "\n",
    "# see change in collection\n",
    "for company in companys:\n",
    "    print(company)"
   ]
  },
  {
   "cell_type": "code",
   "execution_count": 46,
   "metadata": {},
   "outputs": [
    {
     "name": "stdout",
     "output_type": "stream",
     "text": [
      "{'_id': ObjectId('62cfb5f0a3e49b5607e1001b'), 'model': 'RFR', 'name': 'nhc', 'date': '14/07/2022', 'predicted': 3, 'actual': 4, 'differece': -0.4134955929131614, 'accuracy': 95.31}\n",
      "{'_id': ObjectId('62e47c25ddd32d7e027d5c65'), 'model': 'LSTM', 'name': 'fmg', 'date': '29/07/2022', 'predicted': 19, 'actual': 18.34, 'differece': 0.6600000000000001, 'rmse': 0.73826}\n",
      "{'_id': ObjectId('62e481c2f248345c96c9494d'), 'model': 'RFR', 'name': 'fmg', 'date': '29/07/2022', 'predicted': 12, 'actual': 18, 'differece': -5.209653763866996, 'accuracy': 91.31}\n",
      "{'_id': ObjectId('62e50595000bd2fa71a88d82'), 'model': 'RFR', 'name': 'wes', 'date': '29/07/2022', 'predicted': 44, 'actual': 38, 'difference': 6.9125, 'accuracy': 97.16}\n",
      "{'_id': ObjectId('62e63809b66c4b7fa3db1a22'), 'model': 'RFR', 'name': 'anz', 'date': '29/07/2022', 'predicted': 33, 'actual': 22, 'difference': 11.1838, 'accuracy': 97.09}\n",
      "{'_id': ObjectId('62ea3a74d27bca6473865515'), 'model': 'RFR', 'name': 'bhp', 'date': '02/08/2022', 'predicted': 47, 'actual': 38, 'difference': 9.0458, 'accuracy': 96.55}\n",
      "{'_id': ObjectId('62ee1dbc8d0aa1f1db925f04'), 'model': 'RFR', 'name': 'SHL', 'date': '05/08/2022', 'predicted': 32, 'actual': 35, 'difference': -2.9074, 'accuracy': 96.97}\n",
      "{'_id': ObjectId('62f72d88ba70ff4c205ba17f'), 'model': 'RFR', 'name': 'ANZ', 'date': '12/08/2022', 'predicted': 33, 'actual': 24, 'difference': 9.1995, 'accuracy': 97.17}\n",
      "{'_id': ObjectId('62f72f48de00168f436699ef'), 'model': 'RFR', 'name': 'BHP', 'date': '12/08/2022', 'predicted': 42, 'actual': 38, 'difference': 4.9902, 'accuracy': 96.75}\n",
      "{'_id': ObjectId('62f77b21e02817947b886fcd'), 'model': 'RFR', 'name': 'CSL', 'date': '12/08/2022', 'predicted': 244, 'actual': 290, 'difference': -45.2, 'accuracy': 96.14}\n",
      "{'_id': ObjectId('62f77e2f2a827b19bf6473c2'), 'model': 'RFR', 'name': 'FMG', 'date': '12/08/2022', 'predicted': 12, 'actual': 18, 'difference': -5.0768, 'accuracy': 91.24}\n",
      "{'_id': ObjectId('62f83471a0999ee2071b809d'), 'model': 'RFR', 'name': 'GMG', 'date': '12/08/2022', 'predicted': 18, 'actual': 20, 'difference': -1.9984, 'accuracy': 95.8}\n",
      "{'_id': ObjectId('62f83473d6fc67e45e0eff78'), 'model': 'RFR', 'name': 'MIN', 'date': '12/08/2022', 'predicted': 38, 'actual': 59, 'difference': -20.3236, 'accuracy': 93.74}\n",
      "{'_id': ObjectId('62f8348d83934ace5cf9129a'), 'model': 'RFR', 'name': 'MQG', 'date': '12/08/2022', 'predicted': 141, 'actual': 178, 'difference': -36.258, 'accuracy': 96.27}\n",
      "{'_id': ObjectId('62f8348e88f5e24597bc697a'), 'model': 'RFR', 'name': 'LYC', 'date': '12/08/2022', 'predicted': 6, 'actual': 9, 'difference': -2.6271, 'accuracy': 90.7}\n",
      "{'_id': ObjectId('62f850fe1081f44aefd85c5a'), 'model': 'RFR', 'name': 'NCM', 'date': '12/08/2022', 'predicted': 32, 'actual': 19, 'difference': 13.3254, 'accuracy': 95.25}\n",
      "{'_id': ObjectId('62f85c349cd16f126af85ea7'), 'model': 'RFR', 'name': 'NIC', 'date': '12/08/2022', 'predicted': 0.93, 'actual': 1.14, 'difference': -0.21, 'accuracy': 91.96}\n",
      "{'_id': ObjectId('62f85c3b11cc7bd61b8a9561'), 'model': 'RFR', 'name': 'S32', 'date': '12/08/2022', 'predicted': 4, 'actual': 4, 'difference': 0.8543, 'accuracy': 95.15}\n",
      "{'_id': ObjectId('62f85c3be24e5b9565f4566b'), 'model': 'RFR', 'name': 'NHC', 'date': '12/08/2022', 'predicted': 3.63, 'actual': 4.4, 'difference': -0.77, 'accuracy': 95.37}\n",
      "{'_id': ObjectId('62f85c3c324d73afb9fa1203'), 'model': 'RFR', 'name': 'PRU', 'date': '12/08/2022', 'predicted': 1, 'actual': 1, 'difference': 0.5741, 'accuracy': 92.31}\n",
      "{'_id': ObjectId('62f867c28186dd9129aea8b3'), 'model': 'RFR', 'name': 'SOL', 'date': '12/08/2022', 'predicted': 25, 'actual': 25, 'difference': 0.1119, 'accuracy': 97.48}\n",
      "{'_id': ObjectId('62f86865d548095e992ccb3a'), 'model': 'RFR', 'name': 'TCL', 'date': '12/08/2022', 'predicted': 14, 'actual': 14, 'difference': 0.1858, 'accuracy': 97.25}\n",
      "{'_id': ObjectId('62f868b7af264067b61a7d2d'), 'model': 'RFR', 'name': 'STO', 'date': '12/08/2022', 'predicted': 8, 'actual': 7, 'difference': 1.774, 'accuracy': 96.25}\n",
      "{'_id': ObjectId('62f869a32d48e159f9650d6b'), 'model': 'RFR', 'name': 'CBA', 'date': '12/08/2022', 'predicted': 97, 'actual': 100, 'difference': -2.7336, 'accuracy': 97.42}\n",
      "{'_id': ObjectId('62f869ba3bc6ea83a205aea8'), 'model': 'RFR', 'name': 'NAB', 'date': '12/08/2022', 'predicted': 28, 'actual': 30, 'difference': -1.8976, 'accuracy': 97.17}\n",
      "{'_id': ObjectId('62f86c94e8aa99df83075c2c'), 'model': 'RFR', 'name': 'WBC', 'date': '12/08/2022', 'predicted': 31, 'actual': 22, 'difference': 9.5487, 'accuracy': 97.02}\n",
      "{'_id': ObjectId('62f86d4682a83325a4b1cd10'), 'model': 'RFR', 'name': 'WOW', 'date': '12/08/2022', 'predicted': 40, 'actual': 38, 'difference': 2.4486, 'accuracy': 97.51}\n",
      "{'_id': ObjectId('62f86d4cd6d72aa104d49f9c'), 'model': 'RFR', 'name': 'WDS', 'date': '12/08/2022', 'predicted': 41, 'actual': 32, 'difference': 9.1736, 'accuracy': 96.93}\n",
      "{'_id': ObjectId('62f86d4d5bc1b7bdfbac98f7'), 'model': 'RFR', 'name': 'WES', 'date': '12/08/2022', 'predicted': 45, 'actual': 47, 'difference': -1.9191, 'accuracy': 97.18}\n",
      "{'_id': ObjectId('63083b64cd3920ce081aa1ec'), 'model': 'RFR', 'name': 'ALL', 'date': '25/08/2022', 'predicted': 31, 'actual': 36, 'difference': -4.9502, 'accuracy': 94.04}\n",
      "{'_id': ObjectId('630af98edb85926b1fc936cf'), 'model': 'LSTM', 'name': 'NHC', 'date': '26/08/2022', 'predicted': 4, 'actual': 5.13, 'difference': -0.3, 'rmse': 0.01811}\n",
      "{'_id': ObjectId('630b25a73674715d88278ff4'), 'model': 'LSTM', 'name': 'WOW', 'date': '26/08/2022', 'predicted': 36.81, 'actual': 36.76, 'difference': 0.05, 'rmse': 0.142}\n",
      "{'_id': ObjectId('630c8ec185d5686c1b532820'), 'model': 'LSTM', 'name': 'LYC', 'date': '29/08/2022', 'predicted': 21.27, 'actual': 8.83, 'difference': 12.44, 'rmse': 0.19764}\n",
      "{'_id': ObjectId('630c8ec2135a740543b40a14'), 'model': 'LSTM', 'name': 'MIN', 'date': '29/08/2022', 'predicted': 64.41, 'actual': 63.99, 'difference': 0.42, 'rmse': 0.75166}\n",
      "{'_id': ObjectId('630c94101ff5dd4672f9df4b'), 'model': 'LSTM', 'name': 'MQG', 'date': '29/08/2022', 'predicted': 167.68, 'actual': 174.06, 'difference': -6.38, 'rmse': 3.53619}\n",
      "{'_id': ObjectId('630c9410a07dcddde21c3d60'), 'model': 'LSTM', 'name': 'PRU', 'date': '29/08/2022', 'predicted': 1.66, 'actual': 1.54, 'difference': 0.12, 'rmse': 0.02908}\n",
      "{'_id': ObjectId('630c942c97d791937f1832cd'), 'model': 'LSTM', 'name': 'NAB', 'date': '29/08/2022', 'predicted': 29.84, 'actual': 29.84, 'difference': 0.0, 'rmse': 0.14082}\n",
      "{'_id': ObjectId('630c9431a16d0c7f06e32a45'), 'model': 'LSTM', 'name': 'NIC', 'date': '29/08/2022', 'predicted': 1.03, 'actual': 1.01, 'difference': 0.02, 'rmse': 0.0299}\n",
      "{'_id': ObjectId('630c94b805ede3caee656de1'), 'model': 'LSTM', 'name': 'NCM', 'date': '29/08/2022', 'predicted': 18.5, 'actual': 17.39, 'difference': 1.11, 'rmse': 0.63328}\n",
      "{'_id': ObjectId('630c9b5bef573254d440dc7d'), 'model': 'LSTM', 'name': 'WBC', 'date': '29/08/2022', 'predicted': 20.85, 'actual': 21.27, 'differece': -0.41999999999999815, 'rmse': 0.59742}\n",
      "{'_id': ObjectId('630c9b635e1e1a0c91cdef86'), 'model': 'LSTM', 'name': 'WDS', 'date': '29/08/2022', 'predicted': 35.52, 'actual': 35.35, 'difference': 0.17, 'rmse': 0.72869}\n",
      "{'_id': ObjectId('630c9b66d3173d3e00fa926d'), 'model': 'LSTM', 'name': 'WES', 'date': '29/08/2022', 'predicted': 48.97, 'actual': 47.4, 'difference': 1.57, 'rmse': 1.73803}\n",
      "{'_id': ObjectId('630ca377c65787a6bf38855e'), 'model': 'LSTM', 'name': 'SHL', 'date': '29/08/2022', 'predicted': 33.89, 'actual': 34.18, 'difference': -0.29, 'rmse': 0.55148}\n",
      "{'_id': ObjectId('630ca3a2db0c326f661a3a14'), 'model': 'LSTM', 'name': 'STO', 'date': '29/08/2022', 'predicted': 7.83, 'actual': 7.85, 'difference': -0.02, 'rmse': 0.19871}\n",
      "{'_id': ObjectId('630ca3a430f57d244fcdb1d2'), 'model': 'LSTM', 'name': 'SOL', 'date': '29/08/2022', 'predicted': 25.06, 'actual': 25.65, 'difference': -0.59, 'rmse': 0.51626}\n",
      "{'_id': ObjectId('630ca44f1f5365da5cc82415'), 'model': 'LSTM', 'name': 'TCL', 'date': '29/08/2022', 'predicted': 13.82, 'actual': 13.88, 'difference': -0.06, 'rmse': 0.04856}\n",
      "{'_id': ObjectId('630d3acbe38cc7245763958f'), 'model': 'LSTM', 'name': 'S32', 'date': '29/08/2022', 'predicted': 4.29, 'actual': 4.09, 'difference': 0.2, 'rmse': 0.10084}\n",
      "{'_id': ObjectId('630dc686ae0967d012939328'), 'model': 'LSTM', 'name': 'ALL', 'date': '30/08/2022', 'predicted': 34.34, 'actual': 35.3, 'difference': -0.96, 'rmse': 0.65113}\n",
      "{'_id': ObjectId('630dc693de01e11621c50261'), 'model': 'LSTM', 'name': 'CBA', 'date': '30/08/2022', 'predicted': 95.74, 'actual': 96.55, 'difference': -0.81, 'rmse': 0.5768}\n",
      "{'_id': ObjectId('630dc69746f8c2c8be21d8ae'), 'model': 'LSTM', 'name': 'ANZ', 'date': '30/08/2022', 'predicted': 22.59, 'actual': 22.57, 'difference': 0.02, 'rmse': 0.19239}\n",
      "{'_id': ObjectId('630dc69bfa90e1fdc0f38f71'), 'model': 'LSTM', 'name': 'BHP', 'date': '30/08/2022', 'predicted': 37.73, 'actual': 41.75, 'difference': -4.02, 'rmse': 3.30176}\n",
      "{'_id': ObjectId('630dcc6b77e246721e8ea5f5'), 'model': 'LSTM', 'name': 'CSL', 'date': '30/08/2022', 'predicted': 261.29, 'actual': 293.9, 'difference': -32.61, 'rmse': 22.01025}\n",
      "{'_id': ObjectId('630dcc6bf52ded7e84807581'), 'model': 'LSTM', 'name': 'FMG', 'date': '30/08/2022', 'predicted': 17.86, 'actual': 18.95, 'difference': -1.09, 'rmse': 0.68616}\n",
      "{'_id': ObjectId('630dcc6fe72dae51c8206e83'), 'model': 'LSTM', 'name': 'DJI', 'date': '29/08/2022', 'predicted': 32158.45, 'actual': 32098.99, 'difference': 59.46, 'rmse': 55.61885}\n",
      "{'_id': ObjectId('630dcc76d5ee5c4abea8ed33'), 'model': 'LSTM', 'name': 'GMG', 'date': '30/08/2022', 'predicted': 19.55, 'actual': 20.15, 'difference': -0.6, 'rmse': 0.31092}\n"
     ]
    }
   ],
   "source": [
    "# query all the classroom collection\n",
    "companys = db.companys.find()\n",
    "\n",
    "# see change in collection\n",
    "for company in companys:\n",
    "    print(company)"
   ]
  }
 ],
 "metadata": {
  "kernel_info": {
   "name": "dev"
  },
  "kernelspec": {
   "display_name": "Python 3.9.7 ('base')",
   "language": "python",
   "name": "python3"
  },
  "language_info": {
   "codemirror_mode": {
    "name": "ipython",
    "version": 3
   },
   "file_extension": ".py",
   "mimetype": "text/x-python",
   "name": "python",
   "nbconvert_exporter": "python",
   "pygments_lexer": "ipython3",
   "version": "3.9.7"
  },
  "nteract": {
   "version": "0.12.3"
  },
  "vscode": {
   "interpreter": {
    "hash": "45bb1cb4637e4034484920e5cfb24c9afd84b0847d6c36e39edd3067d3a05462"
   }
  }
 },
 "nbformat": 4,
 "nbformat_minor": 2
}
