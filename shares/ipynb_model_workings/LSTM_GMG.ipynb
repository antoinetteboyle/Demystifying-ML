{
 "cells": [
  {
   "cell_type": "markdown",
   "metadata": {},
   "source": [
    "#This model uses LSTM to predict a Daily share price movements based on time series and batches of 60 days"
   ]
  },
  {
   "cell_type": "markdown",
   "metadata": {},
   "source": [
    "# Read the CSV and Perform Basic Data Cleaning"
   ]
  },
  {
   "cell_type": "code",
   "execution_count": 1,
   "metadata": {},
   "outputs": [],
   "source": [
    "import matplotlib.pyplot as plt\n",
    "import numpy as np\n",
    "import pandas as pd"
   ]
  },
  {
   "cell_type": "code",
   "execution_count": 2,
   "metadata": {},
   "outputs": [
    {
     "data": {
      "text/html": [
       "<div>\n",
       "<style scoped>\n",
       "    .dataframe tbody tr th:only-of-type {\n",
       "        vertical-align: middle;\n",
       "    }\n",
       "\n",
       "    .dataframe tbody tr th {\n",
       "        vertical-align: top;\n",
       "    }\n",
       "\n",
       "    .dataframe thead th {\n",
       "        text-align: right;\n",
       "    }\n",
       "</style>\n",
       "<table border=\"1\" class=\"dataframe\">\n",
       "  <thead>\n",
       "    <tr style=\"text-align: right;\">\n",
       "      <th></th>\n",
       "      <th>Date</th>\n",
       "      <th>Open</th>\n",
       "      <th>High</th>\n",
       "      <th>Low</th>\n",
       "      <th>Close</th>\n",
       "      <th>Adj Close</th>\n",
       "      <th>Volume</th>\n",
       "      <th>RBA</th>\n",
       "      <th>FED</th>\n",
       "      <th>CPI</th>\n",
       "    </tr>\n",
       "  </thead>\n",
       "  <tbody>\n",
       "    <tr>\n",
       "      <th>4419</th>\n",
       "      <td>25/07/2022</td>\n",
       "      <td>19.250000</td>\n",
       "      <td>19.370001</td>\n",
       "      <td>19.090000</td>\n",
       "      <td>19.350000</td>\n",
       "      <td>19.350000</td>\n",
       "      <td>2557809</td>\n",
       "      <td>1.35</td>\n",
       "      <td>1.75</td>\n",
       "      <td>125.0</td>\n",
       "    </tr>\n",
       "    <tr>\n",
       "      <th>4420</th>\n",
       "      <td>26/07/2022</td>\n",
       "      <td>19.360001</td>\n",
       "      <td>19.469999</td>\n",
       "      <td>19.180000</td>\n",
       "      <td>19.340000</td>\n",
       "      <td>19.340000</td>\n",
       "      <td>1828309</td>\n",
       "      <td>1.35</td>\n",
       "      <td>1.75</td>\n",
       "      <td>125.0</td>\n",
       "    </tr>\n",
       "    <tr>\n",
       "      <th>4421</th>\n",
       "      <td>27/07/2022</td>\n",
       "      <td>19.350000</td>\n",
       "      <td>19.520000</td>\n",
       "      <td>19.225000</td>\n",
       "      <td>19.440001</td>\n",
       "      <td>19.440001</td>\n",
       "      <td>1532053</td>\n",
       "      <td>1.35</td>\n",
       "      <td>2.50</td>\n",
       "      <td>125.0</td>\n",
       "    </tr>\n",
       "    <tr>\n",
       "      <th>4422</th>\n",
       "      <td>28/07/2022</td>\n",
       "      <td>19.520000</td>\n",
       "      <td>19.809999</td>\n",
       "      <td>19.315001</td>\n",
       "      <td>19.790001</td>\n",
       "      <td>19.790001</td>\n",
       "      <td>2882320</td>\n",
       "      <td>1.35</td>\n",
       "      <td>2.50</td>\n",
       "      <td>125.0</td>\n",
       "    </tr>\n",
       "    <tr>\n",
       "      <th>4423</th>\n",
       "      <td>29/07/2022</td>\n",
       "      <td>20.290001</td>\n",
       "      <td>20.850000</td>\n",
       "      <td>20.200001</td>\n",
       "      <td>20.700001</td>\n",
       "      <td>20.700001</td>\n",
       "      <td>5376051</td>\n",
       "      <td>1.35</td>\n",
       "      <td>2.50</td>\n",
       "      <td>125.0</td>\n",
       "    </tr>\n",
       "  </tbody>\n",
       "</table>\n",
       "</div>"
      ],
      "text/plain": [
       "            Date       Open       High        Low      Close  Adj Close  \\\n",
       "4419  25/07/2022  19.250000  19.370001  19.090000  19.350000  19.350000   \n",
       "4420  26/07/2022  19.360001  19.469999  19.180000  19.340000  19.340000   \n",
       "4421  27/07/2022  19.350000  19.520000  19.225000  19.440001  19.440001   \n",
       "4422  28/07/2022  19.520000  19.809999  19.315001  19.790001  19.790001   \n",
       "4423  29/07/2022  20.290001  20.850000  20.200001  20.700001  20.700001   \n",
       "\n",
       "       Volume   RBA   FED    CPI  \n",
       "4419  2557809  1.35  1.75  125.0  \n",
       "4420  1828309  1.35  1.75  125.0  \n",
       "4421  1532053  1.35  2.50  125.0  \n",
       "4422  2882320  1.35  2.50  125.0  \n",
       "4423  5376051  1.35  2.50  125.0  "
      ]
     },
     "execution_count": 2,
     "metadata": {},
     "output_type": "execute_result"
    }
   ],
   "source": [
    "df_stock1 = pd.read_csv(\"../static/data/gmg.csv\")\n",
    "# Drop the null columns where all values are null\n",
    "df_stock2 = df_stock1.dropna(axis='columns', how='all')\n",
    "# Drop the null rows\n",
    "df = df_stock2.dropna()\n",
    "# Drop the last rows to test prediction to actual\n",
    "df_stock_less1= df_stock2.iloc[:-1,:]\n",
    "df.tail()"
   ]
  },
  {
   "cell_type": "code",
   "execution_count": 3,
   "metadata": {},
   "outputs": [],
   "source": [
    "# Connect to MongoDb\n",
    "from pymongo import MongoClient\n",
    "mongoClient = MongoClient()\n",
    "db = mongoClient.sharesDB\n",
    "\n",
    "# # Drop all previous records now in MongoDb\n",
    "# db.gmg.drop()\n",
    "\n",
    "# # Insert df records in mongodb\n",
    "# records=df.to_dict('records')\n",
    "# records\n",
    "# db.gmg.insert_many(records)"
   ]
  },
  {
   "cell_type": "code",
   "execution_count": 4,
   "metadata": {},
   "outputs": [
    {
     "name": "stdout",
     "output_type": "stream",
     "text": [
      "DELETE: 02/08/2022 20.43000030517578\n"
     ]
    },
    {
     "data": {
      "text/plain": [
       "<pymongo.results.DeleteResult at 0x27f5dfcf600>"
      ]
     },
     "execution_count": 4,
     "metadata": {},
     "output_type": "execute_result"
    }
   ],
   "source": [
    "#Update latest data in mongoDb\n",
    "df_mongo = pd.DataFrame(list(db.gmg.find()))\n",
    "last_val = df_mongo.iloc[-1:].values\n",
    "\n",
    "last_date = last_val[0][1]\n",
    "last_close = last_val[0][5]\n",
    "print(\"DELETE: \"+last_date,last_close)\n",
    "\n",
    "db.gmg.delete_one(\n",
    "    {'Date': last_date}\n",
    ")"
   ]
  },
  {
   "cell_type": "code",
   "execution_count": 5,
   "metadata": {},
   "outputs": [
    {
     "name": "stdout",
     "output_type": "stream",
     "text": [
      "NEW LAST VALUE IN MONGODB: 01/08/2022 20.649999618530273\n",
      "Previous last date in MongoDb: 01-08-2022. Today's date: 03-08-2022\n"
     ]
    }
   ],
   "source": [
    "#Update latest data in mongoDb\n",
    "df_mongo = pd.DataFrame(list(db.gmg.find()))\n",
    "last_val = df_mongo.iloc[-1:].values\n",
    "\n",
    "last_date = last_val[0][1]\n",
    "last_close = last_val[0][5]\n",
    "print(\"NEW LAST VALUE IN MONGODB: \"+last_date,last_close)\n",
    "\n",
    "from datetime import date,datetime\n",
    "todaydt = date.today()\n",
    "today=todaydt.strftime('%d-%m-%Y')\n",
    "from_date = datetime.strptime(last_date, '%d/%m/%Y')\n",
    "last_date=from_date.strftime('%d-%m-%Y')\n",
    "print(\"Previous last date in MongoDb: \"+last_date+\". Today's date: \"+today)"
   ]
  },
  {
   "cell_type": "code",
   "execution_count": 6,
   "metadata": {},
   "outputs": [
    {
     "data": {
      "text/html": [
       "<div>\n",
       "<style scoped>\n",
       "    .dataframe tbody tr th:only-of-type {\n",
       "        vertical-align: middle;\n",
       "    }\n",
       "\n",
       "    .dataframe tbody tr th {\n",
       "        vertical-align: top;\n",
       "    }\n",
       "\n",
       "    .dataframe thead th {\n",
       "        text-align: right;\n",
       "    }\n",
       "</style>\n",
       "<table border=\"1\" class=\"dataframe\">\n",
       "  <thead>\n",
       "    <tr style=\"text-align: right;\">\n",
       "      <th></th>\n",
       "      <th>High</th>\n",
       "      <th>Low</th>\n",
       "      <th>Open</th>\n",
       "      <th>Close</th>\n",
       "      <th>Volume</th>\n",
       "      <th>Adj Close</th>\n",
       "    </tr>\n",
       "    <tr>\n",
       "      <th>Date</th>\n",
       "      <th></th>\n",
       "      <th></th>\n",
       "      <th></th>\n",
       "      <th></th>\n",
       "      <th></th>\n",
       "      <th></th>\n",
       "    </tr>\n",
       "  </thead>\n",
       "  <tbody>\n",
       "    <tr>\n",
       "      <th>2022-08-01</th>\n",
       "      <td>20.879999</td>\n",
       "      <td>20.530001</td>\n",
       "      <td>20.750000</td>\n",
       "      <td>20.650000</td>\n",
       "      <td>3380282</td>\n",
       "      <td>20.650000</td>\n",
       "    </tr>\n",
       "    <tr>\n",
       "      <th>2022-08-02</th>\n",
       "      <td>20.549999</td>\n",
       "      <td>19.980000</td>\n",
       "      <td>20.520000</td>\n",
       "      <td>20.430000</td>\n",
       "      <td>3492361</td>\n",
       "      <td>20.430000</td>\n",
       "    </tr>\n",
       "    <tr>\n",
       "      <th>2022-08-03</th>\n",
       "      <td>20.600000</td>\n",
       "      <td>20.190001</td>\n",
       "      <td>20.370001</td>\n",
       "      <td>20.469999</td>\n",
       "      <td>3051566</td>\n",
       "      <td>20.469999</td>\n",
       "    </tr>\n",
       "  </tbody>\n",
       "</table>\n",
       "</div>"
      ],
      "text/plain": [
       "                 High        Low       Open      Close   Volume  Adj Close\n",
       "Date                                                                      \n",
       "2022-08-01  20.879999  20.530001  20.750000  20.650000  3380282  20.650000\n",
       "2022-08-02  20.549999  19.980000  20.520000  20.430000  3492361  20.430000\n",
       "2022-08-03  20.600000  20.190001  20.370001  20.469999  3051566  20.469999"
      ]
     },
     "execution_count": 6,
     "metadata": {},
     "output_type": "execute_result"
    }
   ],
   "source": [
    "#Get latest quotes from yahoo finance:\n",
    "import pandas_datareader.data as web\n",
    "symbol = 'GMG.AX'\n",
    "start = from_date # yyyy-mm-dd\n",
    "end = todaydt  # yyyy-mm-dd\n",
    "stock_quote = web.DataReader(symbol,data_source='yahoo',start=start, end=end) # dataframe\n",
    "stock_quote\n"
   ]
  },
  {
   "cell_type": "code",
   "execution_count": 7,
   "metadata": {},
   "outputs": [
    {
     "data": {
      "text/html": [
       "<div>\n",
       "<style scoped>\n",
       "    .dataframe tbody tr th:only-of-type {\n",
       "        vertical-align: middle;\n",
       "    }\n",
       "\n",
       "    .dataframe tbody tr th {\n",
       "        vertical-align: top;\n",
       "    }\n",
       "\n",
       "    .dataframe thead th {\n",
       "        text-align: right;\n",
       "    }\n",
       "</style>\n",
       "<table border=\"1\" class=\"dataframe\">\n",
       "  <thead>\n",
       "    <tr style=\"text-align: right;\">\n",
       "      <th></th>\n",
       "      <th>High</th>\n",
       "      <th>Low</th>\n",
       "      <th>Open</th>\n",
       "      <th>Close</th>\n",
       "      <th>Volume</th>\n",
       "      <th>Adj Close</th>\n",
       "    </tr>\n",
       "    <tr>\n",
       "      <th>Date</th>\n",
       "      <th></th>\n",
       "      <th></th>\n",
       "      <th></th>\n",
       "      <th></th>\n",
       "      <th></th>\n",
       "      <th></th>\n",
       "    </tr>\n",
       "  </thead>\n",
       "  <tbody>\n",
       "    <tr>\n",
       "      <th>2022-08-02</th>\n",
       "      <td>20.549999</td>\n",
       "      <td>19.980000</td>\n",
       "      <td>20.520000</td>\n",
       "      <td>20.430000</td>\n",
       "      <td>3492361</td>\n",
       "      <td>20.430000</td>\n",
       "    </tr>\n",
       "    <tr>\n",
       "      <th>2022-08-03</th>\n",
       "      <td>20.600000</td>\n",
       "      <td>20.190001</td>\n",
       "      <td>20.370001</td>\n",
       "      <td>20.469999</td>\n",
       "      <td>3051566</td>\n",
       "      <td>20.469999</td>\n",
       "    </tr>\n",
       "  </tbody>\n",
       "</table>\n",
       "</div>"
      ],
      "text/plain": [
       "                 High        Low       Open      Close   Volume  Adj Close\n",
       "Date                                                                      \n",
       "2022-08-02  20.549999  19.980000  20.520000  20.430000  3492361  20.430000\n",
       "2022-08-03  20.600000  20.190001  20.370001  20.469999  3051566  20.469999"
      ]
     },
     "execution_count": 7,
     "metadata": {},
     "output_type": "execute_result"
    }
   ],
   "source": [
    "#remove last date already in mongodb\n",
    "stock_quote=stock_quote.iloc[1:]\n",
    "stock_quote"
   ]
  },
  {
   "cell_type": "code",
   "execution_count": 8,
   "metadata": {},
   "outputs": [
    {
     "name": "stderr",
     "output_type": "stream",
     "text": [
      "C:\\Users\\antoi\\AppData\\Local\\Temp/ipykernel_31584/1960956411.py:12: SettingWithCopyWarning: \n",
      "A value is trying to be set on a copy of a slice from a DataFrame.\n",
      "Try using .loc[row_indexer,col_indexer] = value instead\n",
      "\n",
      "See the caveats in the documentation: https://pandas.pydata.org/pandas-docs/stable/user_guide/indexing.html#returning-a-view-versus-a-copy\n",
      "  stock_quote[\"RBA\"],stock_quote[\"FED\"],stock_quote[\"CPI\"] = a,b,c\n",
      "C:\\Users\\antoi\\AppData\\Local\\Temp/ipykernel_31584/1960956411.py:15: SettingWithCopyWarning: \n",
      "A value is trying to be set on a copy of a slice from a DataFrame.\n",
      "Try using .loc[row_indexer,col_indexer] = value instead\n",
      "\n",
      "See the caveats in the documentation: https://pandas.pydata.org/pandas-docs/stable/user_guide/indexing.html#returning-a-view-versus-a-copy\n",
      "  stock_quote['Date'] = pd.to_datetime(stock_quote['Date'])\n",
      "C:\\Users\\antoi\\AppData\\Local\\Temp/ipykernel_31584/1960956411.py:16: SettingWithCopyWarning: \n",
      "A value is trying to be set on a copy of a slice from a DataFrame.\n",
      "Try using .loc[row_indexer,col_indexer] = value instead\n",
      "\n",
      "See the caveats in the documentation: https://pandas.pydata.org/pandas-docs/stable/user_guide/indexing.html#returning-a-view-versus-a-copy\n",
      "  stock_quote['Date']=stock_quote['Date'].dt.strftime('%d/%m/%Y')\n",
      "C:\\Users\\antoi\\AppData\\Local\\Temp/ipykernel_31584/1960956411.py:17: SettingWithCopyWarning: \n",
      "A value is trying to be set on a copy of a slice from a DataFrame.\n",
      "Try using .loc[row_indexer,col_indexer] = value instead\n",
      "\n",
      "See the caveats in the documentation: https://pandas.pydata.org/pandas-docs/stable/user_guide/indexing.html#returning-a-view-versus-a-copy\n",
      "  stock_quote['Date']=stock_quote['Date'].astype(str)\n"
     ]
    },
    {
     "data": {
      "text/html": [
       "<div>\n",
       "<style scoped>\n",
       "    .dataframe tbody tr th:only-of-type {\n",
       "        vertical-align: middle;\n",
       "    }\n",
       "\n",
       "    .dataframe tbody tr th {\n",
       "        vertical-align: top;\n",
       "    }\n",
       "\n",
       "    .dataframe thead th {\n",
       "        text-align: right;\n",
       "    }\n",
       "</style>\n",
       "<table border=\"1\" class=\"dataframe\">\n",
       "  <thead>\n",
       "    <tr style=\"text-align: right;\">\n",
       "      <th></th>\n",
       "      <th>Date</th>\n",
       "      <th>High</th>\n",
       "      <th>Low</th>\n",
       "      <th>Open</th>\n",
       "      <th>Close</th>\n",
       "      <th>Volume</th>\n",
       "      <th>Adj Close</th>\n",
       "      <th>RBA</th>\n",
       "      <th>FED</th>\n",
       "      <th>CPI</th>\n",
       "    </tr>\n",
       "  </thead>\n",
       "  <tbody>\n",
       "    <tr>\n",
       "      <th>0</th>\n",
       "      <td>02/08/2022</td>\n",
       "      <td>20.549999</td>\n",
       "      <td>19.980000</td>\n",
       "      <td>20.520000</td>\n",
       "      <td>20.430000</td>\n",
       "      <td>3492361</td>\n",
       "      <td>20.430000</td>\n",
       "      <td>1.35</td>\n",
       "      <td>2.5</td>\n",
       "      <td>125</td>\n",
       "    </tr>\n",
       "    <tr>\n",
       "      <th>1</th>\n",
       "      <td>03/08/2022</td>\n",
       "      <td>20.600000</td>\n",
       "      <td>20.190001</td>\n",
       "      <td>20.370001</td>\n",
       "      <td>20.469999</td>\n",
       "      <td>3051566</td>\n",
       "      <td>20.469999</td>\n",
       "      <td>1.35</td>\n",
       "      <td>2.5</td>\n",
       "      <td>125</td>\n",
       "    </tr>\n",
       "  </tbody>\n",
       "</table>\n",
       "</div>"
      ],
      "text/plain": [
       "         Date       High        Low       Open      Close   Volume  Adj Close  \\\n",
       "0  02/08/2022  20.549999  19.980000  20.520000  20.430000  3492361  20.430000   \n",
       "1  03/08/2022  20.600000  20.190001  20.370001  20.469999  3051566  20.469999   \n",
       "\n",
       "    RBA  FED  CPI  \n",
       "0  1.35  2.5  125  \n",
       "1  1.35  2.5  125  "
      ]
     },
     "execution_count": 8,
     "metadata": {},
     "output_type": "execute_result"
    }
   ],
   "source": [
    "tot=len(stock_quote)\n",
    "rba=1.35\n",
    "fed=2.5\n",
    "cpi=125\n",
    "a,b,c=[],[],[]\n",
    "for i in range(tot):\n",
    "    a.append(rba)\n",
    "    b.append(fed)\n",
    "    c.append(cpi)\n",
    "# print(a,b,c)\n",
    "#ADD NEW DATA IN DATAFRAME\n",
    "stock_quote[\"RBA\"],stock_quote[\"FED\"],stock_quote[\"CPI\"] = a,b,c\n",
    "stock_quote.reset_index(inplace=True)\n",
    "\n",
    "stock_quote['Date'] = pd.to_datetime(stock_quote['Date'])\n",
    "stock_quote['Date']=stock_quote['Date'].dt.strftime('%d/%m/%Y')\n",
    "stock_quote['Date']=stock_quote['Date'].astype(str)\n",
    "stock_quote"
   ]
  },
  {
   "cell_type": "markdown",
   "metadata": {},
   "source": [
    "UPDATE MONGO DB"
   ]
  },
  {
   "cell_type": "code",
   "execution_count": 9,
   "metadata": {},
   "outputs": [
    {
     "data": {
      "text/plain": [
       "[{'Date': '02/08/2022',\n",
       "  'High': 20.549999237060547,\n",
       "  'Low': 19.979999542236328,\n",
       "  'Open': 20.520000457763672,\n",
       "  'Close': 20.43000030517578,\n",
       "  'Volume': 3492361,\n",
       "  'Adj Close': 20.43000030517578,\n",
       "  'RBA': 1.35,\n",
       "  'FED': 2.5,\n",
       "  'CPI': 125},\n",
       " {'Date': '03/08/2022',\n",
       "  'High': 20.600000381469727,\n",
       "  'Low': 20.190000534057617,\n",
       "  'Open': 20.3700008392334,\n",
       "  'Close': 20.469999313354492,\n",
       "  'Volume': 3051566,\n",
       "  'Adj Close': 20.469999313354492,\n",
       "  'RBA': 1.35,\n",
       "  'FED': 2.5,\n",
       "  'CPI': 125}]"
      ]
     },
     "execution_count": 9,
     "metadata": {},
     "output_type": "execute_result"
    }
   ],
   "source": [
    "records=stock_quote.to_dict('records')\n",
    "records"
   ]
  },
  {
   "cell_type": "code",
   "execution_count": 10,
   "metadata": {},
   "outputs": [
    {
     "name": "stdout",
     "output_type": "stream",
     "text": [
      "[[ObjectId('62e9ad47170cc681fe87727a') '21/07/2022' 19.280001 19.389999\n",
      "  18.98 19.15 19.15 3334028 1.35 1.75 125.0]\n",
      " [ObjectId('62e9ad47170cc681fe87727b') '22/07/2022' 19.200001 19.41\n",
      "  19.190001 19.23 19.23 4059016 1.35 1.75 125.0]\n",
      " [ObjectId('62e9ad47170cc681fe87727c') '25/07/2022' 19.25 19.370001 19.09\n",
      "  19.35 19.35 2557809 1.35 1.75 125.0]\n",
      " [ObjectId('62e9ad47170cc681fe87727d') '26/07/2022' 19.360001 19.469999\n",
      "  19.18 19.34 19.34 1828309 1.35 1.75 125.0]\n",
      " [ObjectId('62e9ad47170cc681fe87727e') '27/07/2022' 19.35 19.52 19.225\n",
      "  19.440001 19.440001 1532053 1.35 2.5 125.0]\n",
      " [ObjectId('62e9ad47170cc681fe87727f') '28/07/2022' 19.52 19.809999\n",
      "  19.315001 19.790001 19.790001 2882320 1.35 2.5 125.0]\n",
      " [ObjectId('62e9ad4a170cc681fe877281') '29/07/2022' 20.290000915527344\n",
      "  20.850000381469727 20.200000762939453 20.700000762939453\n",
      "  20.700000762939453 5376051 1.35 2.5 125.0]\n",
      " [ObjectId('62e9ad4a170cc681fe877282') '01/08/2022' 20.75\n",
      "  20.8799991607666 20.530000686645508 20.649999618530273\n",
      "  20.649999618530273 3380282 1.35 2.5 125.0]\n",
      " [ObjectId('62ea48c5c12cdc87826b5447') '02/08/2022' 20.520000457763672\n",
      "  20.549999237060547 19.979999542236328 20.43000030517578\n",
      "  20.43000030517578 3492361 1.35 2.5 125.0]\n",
      " [ObjectId('62ea48c5c12cdc87826b5448') '03/08/2022' 20.3700008392334\n",
      "  20.600000381469727 20.190000534057617 20.469999313354492\n",
      "  20.469999313354492 3051566 1.35 2.5 125.0]]\n"
     ]
    }
   ],
   "source": [
    "#INSERT NEW DATA INTO MONGODB\n",
    "db.gmg.insert_many(records)\n",
    "\n",
    "#Check if mongoDb now has latest data\n",
    "df_mongo = pd.DataFrame(list(db.gmg.find()))\n",
    "\n",
    "last_val = df_mongo.iloc[-10:].values\n",
    "print(last_val)"
   ]
  },
  {
   "cell_type": "code",
   "execution_count": 11,
   "metadata": {},
   "outputs": [
    {
     "name": "stdout",
     "output_type": "stream",
     "text": [
      "03/08/2022 20.469999313354492\n"
     ]
    }
   ],
   "source": [
    "#Save latest to variables\n",
    "last_val = df_mongo.iloc[-1:].values\n",
    "last_date = last_val[0][1]\n",
    "last_close = last_val[0][5]\n",
    "print(last_date,last_close)"
   ]
  },
  {
   "cell_type": "markdown",
   "metadata": {},
   "source": [
    "# # Pre-processing : Scale the data using the MinMaxScaler and split train data"
   ]
  },
  {
   "cell_type": "code",
   "execution_count": 12,
   "metadata": {},
   "outputs": [
    {
     "data": {
      "text/plain": [
       "(4427, 1)"
      ]
     },
     "execution_count": 12,
     "metadata": {},
     "output_type": "execute_result"
    }
   ],
   "source": [
    "df_mongo = pd.DataFrame(list(db.gmg.find()))\n",
    "# Drop the null columns where all values are null\n",
    "df_mongo = df_mongo.dropna(axis='columns', how='all')\n",
    "# Drop the null rows\n",
    "df_mongo = df_mongo.dropna()\n",
    "# df_mongo.shape\n",
    "\n",
    "len_df_mongo=len(df_mongo)\n",
    "data = df_mongo.filter([\"Close\"])\n",
    "dataset=data.values\n",
    "dataset.shape"
   ]
  },
  {
   "cell_type": "code",
   "execution_count": 13,
   "metadata": {},
   "outputs": [],
   "source": [
    "# data = df.filter(['Close'])\n",
    "# dataset = data.values\n",
    "# dataset.shape\t"
   ]
  },
  {
   "cell_type": "code",
   "execution_count": 14,
   "metadata": {},
   "outputs": [
    {
     "data": {
      "text/plain": [
       "(3542, 1)"
      ]
     },
     "execution_count": 14,
     "metadata": {},
     "output_type": "execute_result"
    }
   ],
   "source": [
    "# Scale your data\n",
    "from sklearn.preprocessing import MinMaxScaler\n",
    "\n",
    "scaler = MinMaxScaler(feature_range=(0,1))\n",
    "dataset_scaled = scaler.fit_transform(dataset)\n",
    "\n",
    "# Split into train or test\n",
    "import math\n",
    "train_data_len = math.ceil(len(dataset)*.8)\n",
    "train_data = dataset_scaled[0:train_data_len,:]\n",
    "train_data.shape\n"
   ]
  },
  {
   "cell_type": "code",
   "execution_count": 15,
   "metadata": {},
   "outputs": [
    {
     "name": "stdout",
     "output_type": "stream",
     "text": [
      "[array([0.53145168, 0.52743552, 0.52877425, 0.54751621, 0.54082264,\n",
      "       0.53680651, 0.53279035, 0.53412914, 0.52743552, 0.51270973,\n",
      "       0.51137103, 0.50333874, 0.5060162 , 0.50200007, 0.49664524,\n",
      "       0.50200007, 0.49396781, 0.48995168, 0.50333874, 0.50467753,\n",
      "       0.51003236, 0.5073549 , 0.50333874, 0.51003236, 0.50869363,\n",
      "       0.50333874, 0.49262914, 0.49262914, 0.49530651, 0.49129041,\n",
      "       0.49530651, 0.49664524, 0.49932264, 0.50066137, 0.49798397,\n",
      "       0.48861298, 0.48727431, 0.48727431, 0.48861298, 0.48727431,\n",
      "       0.48861298, 0.48727431, 0.48459685, 0.48995168, 0.48191942,\n",
      "       0.48861298, 0.48727431, 0.48727431, 0.48727431, 0.49798397,\n",
      "       0.49262914, 0.48459685, 0.49530651, 0.5060162 , 0.50200007,\n",
      "       0.50467753, 0.51003236, 0.51270973, 0.50467753, 0.5073549 ])]\n",
      "[0.5100323619667402]\n"
     ]
    }
   ],
   "source": [
    "X_train = []\n",
    "y_train = []\n",
    "\n",
    "for i in range (60, len(train_data)):\n",
    "    X_train.append(train_data[i-60:i,0]) # contains 60 values\n",
    "    y_train.append(train_data[i,0])   # contains 61st value\n",
    "    if i<= 60:\n",
    "        print(X_train)\n",
    "        print(y_train) \n"
   ]
  },
  {
   "cell_type": "markdown",
   "metadata": {},
   "source": [
    "# Prepare train data for LSTM model"
   ]
  },
  {
   "cell_type": "code",
   "execution_count": 16,
   "metadata": {},
   "outputs": [
    {
     "data": {
      "text/plain": [
       "(3482, 60)"
      ]
     },
     "execution_count": 16,
     "metadata": {},
     "output_type": "execute_result"
    }
   ],
   "source": [
    "# Convert list to numpy array for LSTM model:\n",
    "X_train, y_train = np.array(X_train), np.array(y_train)\n",
    "X_train.shape"
   ]
  },
  {
   "cell_type": "code",
   "execution_count": 17,
   "metadata": {},
   "outputs": [
    {
     "data": {
      "text/plain": [
       "(3482, 60, 1)"
      ]
     },
     "execution_count": 17,
     "metadata": {},
     "output_type": "execute_result"
    }
   ],
   "source": [
    "# LSTM model expects 3D, reshape:\n",
    "X_train = np.reshape(X_train, (X_train.shape[0], X_train.shape[1], 1))\n",
    "X_train.shape"
   ]
  },
  {
   "cell_type": "markdown",
   "metadata": {},
   "source": [
    "# Build the LSTM model"
   ]
  },
  {
   "cell_type": "code",
   "execution_count": 18,
   "metadata": {},
   "outputs": [],
   "source": [
    "from tensorflow.keras.models import Sequential\n",
    "from tensorflow.keras.layers import Dense, LSTM\n",
    "model = Sequential()\n",
    "model.add(LSTM(50, return_sequences=True, input_shape=(X_train.shape[1], 1)))\n",
    "model.add(LSTM(50, return_sequences=False))\n",
    "model.add(Dense(25))\n",
    "model.add(Dense(1))"
   ]
  },
  {
   "cell_type": "code",
   "execution_count": 19,
   "metadata": {},
   "outputs": [],
   "source": [
    "model.compile(optimizer='adam', loss='mean_squared_error')"
   ]
  },
  {
   "cell_type": "code",
   "execution_count": 20,
   "metadata": {},
   "outputs": [
    {
     "name": "stdout",
     "output_type": "stream",
     "text": [
      "3482/3482 [==============================] - 54s 15ms/step - loss: 0.0011\n"
     ]
    },
    {
     "data": {
      "text/plain": [
       "<keras.callbacks.History at 0x27f691d6be0>"
      ]
     },
     "execution_count": 20,
     "metadata": {},
     "output_type": "execute_result"
    }
   ],
   "source": [
    "model.fit(X_train, y_train, batch_size=1, epochs=1)"
   ]
  },
  {
   "cell_type": "code",
   "execution_count": 21,
   "metadata": {},
   "outputs": [],
   "source": [
    "#Create test data\n",
    "test_data = dataset_scaled[train_data_len-60:,:]\n",
    "X_test = []\n",
    "y_test = dataset[train_data_len:,:]\n",
    "for i in range(60, len(test_data)):\n",
    " X_test.append(test_data[i-60:i,0])"
   ]
  },
  {
   "cell_type": "code",
   "execution_count": 22,
   "metadata": {},
   "outputs": [],
   "source": [
    "#Covert test data to a numpy array and reshape\n",
    "X_test = np.array(X_test)\n",
    "X_test = np.reshape(X_test, (X_test.shape[0],X_test.shape[1],1))"
   ]
  },
  {
   "cell_type": "code",
   "execution_count": 23,
   "metadata": {},
   "outputs": [],
   "source": [
    "#Get predicted prices\n",
    "predictions_lstm = model.predict(X_test)\n",
    "predictions = scaler.inverse_transform(predictions_lstm)"
   ]
  },
  {
   "cell_type": "code",
   "execution_count": 24,
   "metadata": {},
   "outputs": [
    {
     "data": {
      "text/plain": [
       "0.05309190473632818"
      ]
     },
     "execution_count": 24,
     "metadata": {},
     "output_type": "execute_result"
    }
   ],
   "source": [
    "#Get the root mean square error (RMSE) 0 being most favourable\n",
    "rmse = np.sqrt(np.mean(predictions-y_test)**2)\n",
    "rmse"
   ]
  },
  {
   "cell_type": "code",
   "execution_count": 25,
   "metadata": {},
   "outputs": [
    {
     "name": "stderr",
     "output_type": "stream",
     "text": [
      "C:\\Users\\antoi\\AppData\\Local\\Temp/ipykernel_31584/4067381219.py:5: SettingWithCopyWarning: \n",
      "A value is trying to be set on a copy of a slice from a DataFrame.\n",
      "Try using .loc[row_indexer,col_indexer] = value instead\n",
      "\n",
      "See the caveats in the documentation: https://pandas.pydata.org/pandas-docs/stable/user_guide/indexing.html#returning-a-view-versus-a-copy\n",
      "  valid['Predictions'] = predictions # another column for validating test\n"
     ]
    },
    {
     "data": {
      "image/png": "[encoded data removed]",
      "text/plain": [
       "<Figure size 1152x576 with 1 Axes>"
      ]
     },
     "metadata": {},
     "output_type": "display_data"
    }
   ],
   "source": [
    "#Plot the data to validate the test data\n",
    "plt.style.use('fivethirtyeight')\n",
    "train = data.iloc[:train_data_len] # actual train data from 0 rows until train data end\n",
    "valid = data.iloc[train_data_len:] # actual test data from train data end until end of all sampled data\n",
    "valid['Predictions'] = predictions # another column for validating test\n",
    "\n",
    "plt.figure(figsize=(16,8))\n",
    "plt.title('GMG LSTM Model')\n",
    "plt.xlabel('Trading Date', fontsize=18)\n",
    "plt.ylabel('Close Price AUD ($)',fontsize=18)\n",
    "plt.plot(train['Close'])\n",
    "plt.plot(valid[['Close','Predictions']])\n",
    "plt.legend(['Training','Validate','Tested'],loc='lower right')\n",
    "x = np.arange(2000,2024,4)\n",
    "plt.xticks([0,1000,2000,3000,4000,5000],x)\n",
    "plt.savefig('../static/data/images/gmg_graph.png')\n",
    "plt.show()"
   ]
  },
  {
   "cell_type": "markdown",
   "metadata": {},
   "source": [
    "# Test data Predictions on the Model"
   ]
  },
  {
   "cell_type": "code",
   "execution_count": 26,
   "metadata": {},
   "outputs": [
    {
     "name": "stderr",
     "output_type": "stream",
     "text": [
      "C:\\Users\\antoi\\AppData\\Local\\Temp/ipykernel_31584/3403988079.py:1: SettingWithCopyWarning: \n",
      "A value is trying to be set on a copy of a slice from a DataFrame.\n",
      "Try using .loc[row_indexer,col_indexer] = value instead\n",
      "\n",
      "See the caveats in the documentation: https://pandas.pydata.org/pandas-docs/stable/user_guide/indexing.html#returning-a-view-versus-a-copy\n",
      "  valid['Difference']= valid['Close']-valid['Predictions']\n"
     ]
    },
    {
     "data": {
      "text/plain": [
       "<bound method NDFrame.head of           Close  Predictions  Difference\n",
       "3542  11.860000    11.677094    0.182906\n",
       "3543  11.910000    11.686198    0.223802\n",
       "3544  12.030000    11.713263    0.316737\n",
       "3545  12.000000    11.762479    0.237521\n",
       "3546  12.020000    11.809161    0.210839\n",
       "...         ...          ...         ...\n",
       "4422  19.790001    19.366961    0.423040\n",
       "4423  20.700001    19.484758    1.215242\n",
       "4424  20.650000    19.748180    0.901819\n",
       "4425  20.430000    20.016134    0.413866\n",
       "4426  20.469999    20.210196    0.259804\n",
       "\n",
       "[885 rows x 3 columns]>"
      ]
     },
     "execution_count": 26,
     "metadata": {},
     "output_type": "execute_result"
    }
   ],
   "source": [
    "valid['Difference']= valid['Close']-valid['Predictions']\n",
    "valid.head"
   ]
  },
  {
   "cell_type": "code",
   "execution_count": 27,
   "metadata": {},
   "outputs": [
    {
     "data": {
      "text/plain": [
       "(60, 1)"
      ]
     },
     "execution_count": 27,
     "metadata": {},
     "output_type": "execute_result"
    }
   ],
   "source": [
    "# Use last 60 days price on model to predict next days price\n",
    "import pandas as pd\n",
    "\n",
    "df_mongo = pd.DataFrame(list(db.gmg.find()))\n",
    "sixty_val = df_mongo.iloc[-60:,4].values\n",
    "last_sixty = sixty_val.reshape(-1,1)\n",
    "\n",
    "last_sixty.shape"
   ]
  },
  {
   "cell_type": "code",
   "execution_count": 28,
   "metadata": {},
   "outputs": [
    {
     "data": {
      "text/plain": [
       "(1, 60, 1)"
      ]
     },
     "execution_count": 28,
     "metadata": {},
     "output_type": "execute_result"
    }
   ],
   "source": [
    "last_60_days_scaled = scaler.transform(last_sixty)\n",
    "X_tell = []\n",
    "X_tell.append(last_60_days_scaled)\n",
    "X_tell =np.array(X_tell)\n",
    "X_tell =np.reshape(X_tell, (X_tell.shape[0], X_tell.shape[1],1))\n",
    "X_tell.shape"
   ]
  },
  {
   "cell_type": "code",
   "execution_count": 29,
   "metadata": {},
   "outputs": [
    {
     "name": "stdout",
     "output_type": "stream",
     "text": [
      "03/08/2022 Last close $20.469999313354492 Predicted next day share price $20\n"
     ]
    }
   ],
   "source": [
    "pred_price = model.predict(X_tell)\n",
    "pred_price = scaler.inverse_transform(pred_price)\n",
    "pred_price = int(pred_price)\n",
    "print(f'{last_date} Last close ${last_close} Predicted next day share price ${pred_price}')"
   ]
  },
  {
   "cell_type": "markdown",
   "metadata": {},
   "source": [
    "# Save the Model"
   ]
  },
  {
   "cell_type": "code",
   "execution_count": 30,
   "metadata": {},
   "outputs": [],
   "source": [
    "# Save the entire model to a HDF5 file.\n",
    "# The '.h5' extension indicates that the model should be saved to HDF5.\n",
    "filepath = '../static/gmg_model.sav'\n",
    "model.save(filepath, save_format=\"h5\")"
   ]
  },
  {
   "cell_type": "markdown",
   "metadata": {},
   "source": [
    "#Save last 60 days to a list gmg_sixty and load df"
   ]
  },
  {
   "cell_type": "markdown",
   "metadata": {},
   "source": [
    "#PREDICT USING LOADED MODEL"
   ]
  },
  {
   "cell_type": "code",
   "execution_count": 31,
   "metadata": {},
   "outputs": [],
   "source": [
    "from keras.models import load_model\n",
    "model_in = load_model('../static/gmg_model.sav')"
   ]
  },
  {
   "cell_type": "code",
   "execution_count": 32,
   "metadata": {},
   "outputs": [
    {
     "data": {
      "text/plain": [
       "array([[19.        ],\n",
       "       [18.860001  ],\n",
       "       [19.190001  ],\n",
       "       [19.469999  ],\n",
       "       [18.75      ],\n",
       "       [18.719999  ],\n",
       "       [18.67      ],\n",
       "       [19.030001  ],\n",
       "       [19.07      ],\n",
       "       [19.110001  ],\n",
       "       [19.43      ],\n",
       "       [19.620001  ],\n",
       "       [19.6       ],\n",
       "       [20.040001  ],\n",
       "       [20.219999  ],\n",
       "       [20.23      ],\n",
       "       [19.91      ],\n",
       "       [20.08      ],\n",
       "       [20.        ],\n",
       "       [19.4       ],\n",
       "       [19.360001  ],\n",
       "       [18.879999  ],\n",
       "       [18.58      ],\n",
       "       [17.209999  ],\n",
       "       [17.049999  ],\n",
       "       [17.325001  ],\n",
       "       [16.799999  ],\n",
       "       [17.129999  ],\n",
       "       [17.370001  ],\n",
       "       [17.219999  ],\n",
       "       [17.65      ],\n",
       "       [18.184999  ],\n",
       "       [18.68      ],\n",
       "       [18.74      ],\n",
       "       [18.129999  ],\n",
       "       [17.84      ],\n",
       "       [18.139999  ],\n",
       "       [18.540001  ],\n",
       "       [18.43      ],\n",
       "       [18.530001  ],\n",
       "       [19.030001  ],\n",
       "       [18.75      ],\n",
       "       [18.549999  ],\n",
       "       [18.52      ],\n",
       "       [18.85      ],\n",
       "       [18.530001  ],\n",
       "       [18.57      ],\n",
       "       [18.67      ],\n",
       "       [18.51      ],\n",
       "       [18.76      ],\n",
       "       [18.98      ],\n",
       "       [19.190001  ],\n",
       "       [19.09      ],\n",
       "       [19.18      ],\n",
       "       [19.225     ],\n",
       "       [19.315001  ],\n",
       "       [20.20000076],\n",
       "       [20.53000069],\n",
       "       [19.97999954],\n",
       "       [20.19000053]])"
      ]
     },
     "execution_count": 32,
     "metadata": {},
     "output_type": "execute_result"
    }
   ],
   "source": [
    "# query the gmg collection and load into dataframe\n",
    "\n",
    "df_mongo = pd.DataFrame(list(db.gmg.find()))\n",
    "sixty_val = df_mongo.iloc[-60:,4].values\n",
    "last_sixty = sixty_val.reshape(-1,1)\n",
    "\n",
    "last_sixty"
   ]
  },
  {
   "cell_type": "markdown",
   "metadata": {},
   "source": [
    "#Create a function to loop through the days input"
   ]
  },
  {
   "cell_type": "code",
   "execution_count": 33,
   "metadata": {},
   "outputs": [
    {
     "name": "stdout",
     "output_type": "stream",
     "text": [
      "1\n",
      "Day finished! Price: \n",
      "2\n",
      "Day finished! Price: \n",
      "3\n",
      "Day finished! Price: \n",
      "4\n",
      "Day finished! Price: \n",
      "5\n",
      "Day finished! Price: \n",
      "6\n",
      "Day finished! Price: \n",
      "7\n",
      "Day finished! Price: \n",
      "8\n",
      "Day finished! Price: \n",
      "9\n",
      "Day finished! Price: \n",
      "10\n",
      "Day finished! Price: \n",
      "11\n",
      "Day finished! Price: \n",
      "12\n",
      "Day finished! Price: \n",
      "13\n",
      "Day finished! Price: \n",
      "14\n",
      "Day finished! Price: \n",
      "15\n",
      "Day finished! Price: \n",
      "16\n",
      "Day finished! Price: \n",
      "17\n",
      "Day finished! Price: \n",
      "18\n",
      "Day finished! Price: \n",
      "19\n",
      "Day finished! Price: \n",
      "20\n",
      "Day finished! Price: \n",
      "21\n",
      "Day finished! Price: \n",
      "22\n",
      "Day finished! Price: \n",
      "23\n",
      "Day finished! Price: \n",
      "24\n",
      "Day finished! Price: \n",
      "25\n",
      "Day finished! Price: \n",
      "26\n",
      "Day finished! Price: \n",
      "27\n",
      "Day finished! Price: \n",
      "28\n",
      "Day finished! Price: \n",
      "29\n",
      "Day finished! Price: \n",
      "30\n",
      "Day finished! Price: \n",
      "31\n",
      "Day finished! Price: \n",
      "32\n",
      "Day finished! Price: \n",
      "33\n",
      "Day finished! Price: \n",
      "34\n",
      "Day finished! Price: \n",
      "35\n",
      "Day finished! Price: \n",
      "36\n",
      "Day finished! Price: \n",
      "37\n",
      "Day finished! Price: \n",
      "38\n",
      "Day finished! Price: \n",
      "39\n",
      "Day finished! Price: \n",
      "40\n",
      "Day finished! Price: \n",
      "41\n",
      "Day finished! Price: \n",
      "42\n",
      "Day finished! Price: \n",
      "43\n",
      "Day finished! Price: \n",
      "44\n",
      "Day finished! Price: \n",
      "45\n",
      "Day finished! Price: \n",
      "46\n",
      "Day finished! Price: \n",
      "47\n",
      "Day finished! Price: \n",
      "48\n",
      "Day finished! Price: \n",
      "49\n",
      "Day finished! Price: \n",
      "50\n",
      "Day finished! Price: \n",
      "51\n",
      "Day finished! Price: \n",
      "52\n",
      "Day finished! Price: \n",
      "53\n",
      "Day finished! Price: \n",
      "54\n",
      "Day finished! Price: \n",
      "55\n",
      "Day finished! Price: \n",
      "56\n",
      "Day finished! Price: \n",
      "57\n",
      "Day finished! Price: \n",
      "58\n",
      "Day finished! Price: \n",
      "59\n",
      "Day finished! Price: \n",
      "60\n",
      "Day finished! Price: \n",
      "61\n",
      "Day finished! Price: \n",
      "62\n",
      "Day finished! Price: \n",
      "63\n",
      "Day finished! Price: \n",
      "64\n",
      "Day finished! Price: \n",
      "65\n",
      "Day finished! Price: \n",
      "66\n",
      "Day finished! Price: \n",
      "67\n",
      "Day finished! Price: \n",
      "68\n",
      "Day finished! Price: \n",
      "69\n",
      "Day finished! Price: \n",
      "70\n",
      "Day finished! Price: \n",
      "71\n",
      "Day finished! Price: \n",
      "72\n",
      "Day finished! Price: \n",
      "73\n",
      "Day finished! Price: \n",
      "74\n",
      "Day finished! Price: \n",
      "75\n",
      "Day finished! Price: \n",
      "76\n",
      "Day finished! Price: \n",
      "77\n",
      "Day finished! Price: \n",
      "78\n",
      "Day finished! Price: \n",
      "79\n",
      "Day finished! Price: \n",
      "80\n",
      "Day finished! Price: \n",
      "81\n",
      "Day finished! Price: \n",
      "82\n",
      "Day finished! Price: \n",
      "83\n",
      "Day finished! Price: \n",
      "84\n",
      "Day finished! Price: \n",
      "85\n",
      "Day finished! Price: \n",
      "86\n",
      "Day finished! Price: \n",
      "87\n",
      "Day finished! Price: \n",
      "88\n",
      "Day finished! Price: \n",
      "89\n",
      "Day finished! Price: \n",
      "90\n",
      "Day finished! Price: \n",
      "91\n",
      "Day finished! Price: \n",
      "92\n",
      "Day finished! Price: \n",
      "93\n",
      "Day finished! Price: \n",
      "94\n",
      "Day finished! Price: \n",
      "95\n",
      "Day finished! Price: \n",
      "96\n",
      "Day finished! Price: \n",
      "97\n",
      "Day finished! Price: \n",
      "98\n",
      "Day finished! Price: \n",
      "99\n",
      "Day finished! Price: \n",
      "100\n",
      "Day finished! Price: \n",
      "101\n",
      "Day finished! Price: \n",
      "102\n",
      "Day finished! Price: \n",
      "103\n",
      "Day finished! Price: \n",
      "104\n",
      "Day finished! Price: \n",
      "105\n",
      "Day finished! Price: \n",
      "106\n",
      "Day finished! Price: \n",
      "107\n",
      "Day finished! Price: \n",
      "108\n",
      "Day finished! Price: \n",
      "109\n",
      "Day finished! Price: \n",
      "110\n",
      "Day finished! Price: \n",
      "111\n",
      "Day finished! Price: \n",
      "112\n",
      "Day finished! Price: \n",
      "113\n",
      "Day finished! Price: \n",
      "114\n",
      "Day finished! Price: \n",
      "115\n",
      "Day finished! Price: \n",
      "116\n",
      "Day finished! Price: \n",
      "117\n",
      "Day finished! Price: \n",
      "118\n",
      "Day finished! Price: \n",
      "119\n",
      "Day finished! Price: \n",
      "120\n",
      "Day finished! Price: \n",
      "121\n",
      "Day finished! Price: \n",
      "122\n",
      "Day finished! Price: \n",
      "123\n",
      "Day finished! Price: \n",
      "124\n",
      "Day finished! Price: \n",
      "125\n",
      "Day finished! Price: \n",
      "126\n",
      "Day finished! Price: \n",
      "127\n",
      "Day finished! Price: \n",
      "128\n",
      "Day finished! Price: \n",
      "129\n",
      "Day finished! Price: \n",
      "130\n",
      "Day finished! Price: \n",
      "131\n",
      "Day finished! Price: \n",
      "132\n",
      "Day finished! Price: \n",
      "133\n",
      "Day finished! Price: \n",
      "134\n",
      "Day finished! Price: \n",
      "135\n",
      "Day finished! Price: \n",
      "136\n",
      "Day finished! Price: \n",
      "137\n",
      "Day finished! Price: \n",
      "138\n",
      "Day finished! Price: \n",
      "139\n",
      "Day finished! Price: \n",
      "140\n",
      "Day finished! Price: \n",
      "141\n",
      "Day finished! Price: \n",
      "142\n",
      "Day finished! Price: \n",
      "143\n",
      "Day finished! Price: \n",
      "144\n",
      "Day finished! Price: \n",
      "145\n",
      "Day finished! Price: \n",
      "146\n",
      "Day finished! Price: \n",
      "147\n",
      "Day finished! Price: \n",
      "148\n",
      "Day finished! Price: \n",
      "149\n",
      "Day finished! Price: \n",
      "150\n",
      "Day finished! Price: \n",
      "151\n",
      "Day finished! Price: \n",
      "152\n",
      "Day finished! Price: \n",
      "153\n",
      "Day finished! Price: \n",
      "154\n",
      "Day finished! Price: \n",
      "155\n",
      "Day finished! Price: \n",
      "156\n",
      "Day finished! Price: \n",
      "157\n",
      "Day finished! Price: \n",
      "158\n",
      "Day finished! Price: \n",
      "159\n",
      "Day finished! Price: \n",
      "160\n",
      "Day finished! Price: \n",
      "161\n",
      "Day finished! Price: \n",
      "162\n",
      "Day finished! Price: \n",
      "163\n",
      "Day finished! Price: \n",
      "164\n",
      "Day finished! Price: \n",
      "165\n",
      "Day finished! Price: \n",
      "166\n",
      "Day finished! Price: \n",
      "167\n",
      "Day finished! Price: \n",
      "168\n",
      "Day finished! Price: \n",
      "169\n",
      "Day finished! Price: \n",
      "170\n",
      "Day finished! Price: \n",
      "171\n",
      "Day finished! Price: \n",
      "172\n",
      "Day finished! Price: \n",
      "173\n",
      "Day finished! Price: \n",
      "174\n",
      "Day finished! Price: \n",
      "175\n",
      "Day finished! Price: \n",
      "176\n",
      "Day finished! Price: \n",
      "177\n",
      "Day finished! Price: \n",
      "178\n",
      "Day finished! Price: \n",
      "179\n",
      "Day finished! Price: \n",
      "Could not predict further!\n",
      "180\n"
     ]
    },
    {
     "data": {
      "text/plain": [
       "[19.91,\n",
       " 19.96,\n",
       " 19.98,\n",
       " 19.99,\n",
       " 19.99,\n",
       " 20.0,\n",
       " 20.0,\n",
       " 20.0,\n",
       " 20.0,\n",
       " 20.0,\n",
       " 20.0,\n",
       " 20.01,\n",
       " 20.01,\n",
       " 20.02,\n",
       " 20.02,\n",
       " 20.02,\n",
       " 20.03,\n",
       " 20.03,\n",
       " 20.04,\n",
       " 20.04,\n",
       " 20.05,\n",
       " 20.05,\n",
       " 20.06,\n",
       " 20.07,\n",
       " 20.07,\n",
       " 20.08,\n",
       " 20.08,\n",
       " 20.09,\n",
       " 20.09,\n",
       " 20.09,\n",
       " 20.1,\n",
       " 20.1,\n",
       " 20.11,\n",
       " 20.11,\n",
       " 20.11,\n",
       " 20.12,\n",
       " 20.12,\n",
       " 20.12,\n",
       " 20.13,\n",
       " 20.13,\n",
       " 20.13,\n",
       " 20.14,\n",
       " 20.14,\n",
       " 20.14,\n",
       " 20.15,\n",
       " 20.15,\n",
       " 20.15,\n",
       " 20.16,\n",
       " 20.16,\n",
       " 20.16,\n",
       " 20.16,\n",
       " 20.17,\n",
       " 20.17,\n",
       " 20.17,\n",
       " 20.17,\n",
       " 20.17,\n",
       " 20.17,\n",
       " 20.17,\n",
       " 20.17,\n",
       " 20.17,\n",
       " 20.17,\n",
       " 20.17,\n",
       " 20.17,\n",
       " 20.17,\n",
       " 20.17,\n",
       " 20.17,\n",
       " 20.17,\n",
       " 20.17,\n",
       " 20.17,\n",
       " 20.17,\n",
       " 20.17,\n",
       " 20.17,\n",
       " 20.17,\n",
       " 20.17,\n",
       " 20.17,\n",
       " 20.17,\n",
       " 20.17,\n",
       " 20.17,\n",
       " 20.17,\n",
       " 20.17,\n",
       " 20.17,\n",
       " 20.17,\n",
       " 20.17,\n",
       " 20.17,\n",
       " 20.17,\n",
       " 20.17,\n",
       " 20.17,\n",
       " 20.17,\n",
       " 20.17,\n",
       " 20.17,\n",
       " 20.17,\n",
       " 20.17,\n",
       " 20.17,\n",
       " 20.17,\n",
       " 20.17,\n",
       " 20.17,\n",
       " 20.17,\n",
       " 20.17,\n",
       " 20.17,\n",
       " 20.17,\n",
       " 20.17,\n",
       " 20.17,\n",
       " 20.17,\n",
       " 20.17,\n",
       " 20.17,\n",
       " 20.17,\n",
       " 20.17,\n",
       " 20.17,\n",
       " 20.17,\n",
       " 20.17,\n",
       " 20.17,\n",
       " 20.17,\n",
       " 20.17,\n",
       " 20.17,\n",
       " 20.17,\n",
       " 20.17,\n",
       " 20.17,\n",
       " 20.17,\n",
       " 20.17,\n",
       " 20.17,\n",
       " 20.17,\n",
       " 20.17,\n",
       " 20.17,\n",
       " 20.17,\n",
       " 20.17,\n",
       " 20.17,\n",
       " 20.17,\n",
       " 20.17,\n",
       " 20.17,\n",
       " 20.17,\n",
       " 20.17,\n",
       " 20.17,\n",
       " 20.17,\n",
       " 20.17,\n",
       " 20.17,\n",
       " 20.17,\n",
       " 20.17,\n",
       " 20.17,\n",
       " 20.17,\n",
       " 20.17,\n",
       " 20.17,\n",
       " 20.17,\n",
       " 20.17,\n",
       " 20.17,\n",
       " 20.17,\n",
       " 20.17,\n",
       " 20.17,\n",
       " 20.17,\n",
       " 20.17,\n",
       " 20.17,\n",
       " 20.17,\n",
       " 20.17,\n",
       " 20.17,\n",
       " 20.17,\n",
       " 20.17,\n",
       " 20.17,\n",
       " 20.17,\n",
       " 20.17,\n",
       " 20.17,\n",
       " 20.17,\n",
       " 20.17,\n",
       " 20.17,\n",
       " 20.17,\n",
       " 20.17,\n",
       " 20.17,\n",
       " 20.17,\n",
       " 20.17,\n",
       " 20.17,\n",
       " 20.17,\n",
       " 20.17,\n",
       " 20.17,\n",
       " 20.17,\n",
       " 20.17,\n",
       " 20.17,\n",
       " 20.17,\n",
       " 20.17,\n",
       " 20.17,\n",
       " 20.17,\n",
       " 20.17]"
      ]
     },
     "execution_count": 33,
     "metadata": {},
     "output_type": "execute_result"
    }
   ],
   "source": [
    "from keras.models import load_model\n",
    "model_in = load_model('../static/gmg_model.sav')\n",
    "from sklearn.preprocessing import MinMaxScaler\n",
    "scaler = MinMaxScaler(feature_range=(0,1))\n",
    "\n",
    "price_list=[]\n",
    "\n",
    "#Function to predict future days predicted price, in loop\n",
    "input = 180 #days\n",
    "if input == \"\":\n",
    "    input = 180\n",
    "else:\n",
    "   input = int(input)\n",
    "\n",
    "def predict_gmg(last_sixty,model_in,input):\n",
    "    for i in range(1, input):\n",
    "\n",
    "        #Takes df and converts to model's predict shape\n",
    "        last_sixty_scaled = scaler.fit_transform(last_sixty)\n",
    "        new_X_tell = []\n",
    "        new_X_tell.append(last_sixty_scaled)\n",
    "        new_X_tell =np.array(new_X_tell)\n",
    "        new_X_tell =np.reshape(new_X_tell, (new_X_tell.shape[0], new_X_tell.shape[1],1))\n",
    "        \n",
    "        model_in_pd_scale = model_in.predict(new_X_tell)\n",
    "        model_in_price = scaler.inverse_transform(model_in_pd_scale) # New price predicted\n",
    "\n",
    "        last_sixty_less_one = np.delete(last_sixty, 0, 0)\n",
    "        last_sixty = np.append(last_sixty_less_one, model_in_price,axis = 0) # Update last 60\n",
    "        print(i)\n",
    "        print(\"Day finished! Price: \")\n",
    "        price_float = float(model_in_price)\n",
    "        price = round(price_float, 2)\n",
    "        price_list.append(price)\n",
    "    else:\n",
    "        print(\"Could not predict further!\")\n",
    "        print(input)\n",
    "    # print(price_list)\n",
    "    return price_list\n",
    "\n",
    "price_pred = predict_gmg(last_sixty,model_in,input)\n",
    "price_pred"
   ]
  },
  {
   "cell_type": "code",
   "execution_count": 34,
   "metadata": {},
   "outputs": [
    {
     "name": "stdout",
     "output_type": "stream",
     "text": [
      "<bound method NDFrame.tail of      Count        Date        DOW\n",
      "0        1  04-08-2022   Thursday\n",
      "1        2  05-08-2022     Friday\n",
      "2        3  08-08-2022     Monday\n",
      "3        4  09-08-2022    Tuesday\n",
      "4        5  10-08-2022  Wednesday\n",
      "..     ...         ...        ...\n",
      "203    204  16-05-2023    Tuesday\n",
      "204    205  17-05-2023  Wednesday\n",
      "205    206  18-05-2023   Thursday\n",
      "206    207  19-05-2023     Friday\n",
      "207    208  22-05-2023     Monday\n",
      "\n",
      "[208 rows x 3 columns]>\n"
     ]
    }
   ],
   "source": [
    "import pandas as pd\n",
    "from datetime import date,datetime,timedelta\n",
    "today1 = date.today()\n",
    "count=[]\n",
    "dates=[]\n",
    "dow=[]\n",
    "row=0\n",
    "for x in range(1,293,1): \n",
    "  d=today1+timedelta(days=x)\n",
    "  a=d.strftime(\"%A\")\n",
    "  if a != \"Saturday\" and a != \"Sunday\":\n",
    "     dates.append(d.strftime('%d-%m-%Y'))\n",
    "     dow.append(a)\n",
    "     row=row+1\n",
    "     count.append(row)\n",
    "\n",
    "data = {'Count': count,\n",
    "        'Date': dates,\n",
    "        'DOW': dow\n",
    "        }\n",
    "dates_df = pd.DataFrame(data)\n",
    "print (dates_df.tail)"
   ]
  },
  {
   "cell_type": "code",
   "execution_count": null,
   "metadata": {},
   "outputs": [],
   "source": []
  },
  {
   "cell_type": "code",
   "execution_count": 35,
   "metadata": {},
   "outputs": [
    {
     "name": "stdout",
     "output_type": "stream",
     "text": [
      "2022-07-28 00:00:00 2022-08-03 00:00:00\n",
      "-7 days, 3:51:50.538774\n",
      "[[ObjectId('62e112b2fb7cbba54bf62c9f') 199 '02-05-2023' 'Tuesday']\n",
      " [ObjectId('62e112b2fb7cbba54bf62ca0') 200 '03-05-2023' 'Wednesday']\n",
      " [ObjectId('62e112b2fb7cbba54bf62ca1') 201 '04-05-2023' 'Thursday']\n",
      " [ObjectId('62e112b2fb7cbba54bf62ca2') 202 '05-05-2023' 'Friday']\n",
      " [ObjectId('62e112b2fb7cbba54bf62ca3') 203 '08-05-2023' 'Monday']\n",
      " [ObjectId('62e112b2fb7cbba54bf62ca4') 204 '09-05-2023' 'Tuesday']\n",
      " [ObjectId('62e112b2fb7cbba54bf62ca5') 205 '10-05-2023' 'Wednesday']\n",
      " [ObjectId('62e112b2fb7cbba54bf62ca6') 206 '11-05-2023' 'Thursday']\n",
      " [ObjectId('62e112b2fb7cbba54bf62ca7') 207 '12-05-2023' 'Friday']\n",
      " [ObjectId('62e112b2fb7cbba54bf62ca8') 208 '15-05-2023' 'Monday']]\n"
     ]
    }
   ],
   "source": [
    "today1= datetime.today()\n",
    "today3=today1.strftime('%d-%m-%Y')\n",
    "today2=datetime.strptime(today3, '%d-%m-%Y')\n",
    "\n",
    "\n",
    "#Check if mongoDb now has latest data\n",
    "dates_df = pd.DataFrame(list(db.dates.find()))\n",
    "dates_val = dates_df.iloc[0].values\n",
    "last_date1=dates_val[2]\n",
    "last_date2 = datetime.strptime(last_date1, '%d-%m-%Y')\n",
    "last_date3=from_date.strftime('%d-%m-%Y')\n",
    "\n",
    "today_str=today1.strftime('%d-%m-%Y')\n",
    "\n",
    "print(last_date2,today2)\n",
    "diff=last_date2-today1\n",
    "\n",
    "if diff is None:\n",
    "    print(\"huh\")\n",
    "else:\n",
    "    print(diff)\n",
    "\n",
    "    # Drop all previous records now in MongoDb\n",
    "    db.dates.drop()\n",
    "\n",
    "    records=dates_df.to_dict('records')\n",
    "\n",
    "    #INSERT NEW DATA INTO MONGODB\n",
    "    db.dates.insert_many(records)\n",
    "\n",
    "    #Check if mongoDb now has latest data\n",
    "    dates_df = pd.DataFrame(list(db.dates.find()))\n",
    "    dates_val = dates_df.iloc[-10:].values\n",
    "    print(dates_val)\n"
   ]
  },
  {
   "cell_type": "code",
   "execution_count": 36,
   "metadata": {},
   "outputs": [
    {
     "data": {
      "text/html": [
       "<div>\n",
       "<style scoped>\n",
       "    .dataframe tbody tr th:only-of-type {\n",
       "        vertical-align: middle;\n",
       "    }\n",
       "\n",
       "    .dataframe tbody tr th {\n",
       "        vertical-align: top;\n",
       "    }\n",
       "\n",
       "    .dataframe thead th {\n",
       "        text-align: right;\n",
       "    }\n",
       "</style>\n",
       "<table border=\"1\" class=\"dataframe\">\n",
       "  <thead>\n",
       "    <tr style=\"text-align: right;\">\n",
       "      <th></th>\n",
       "      <th>Count</th>\n",
       "      <th>Date</th>\n",
       "      <th>DOW</th>\n",
       "    </tr>\n",
       "  </thead>\n",
       "  <tbody>\n",
       "    <tr>\n",
       "      <th>0</th>\n",
       "      <td>1</td>\n",
       "      <td>28-07-2022</td>\n",
       "      <td>Thursday</td>\n",
       "    </tr>\n",
       "    <tr>\n",
       "      <th>1</th>\n",
       "      <td>2</td>\n",
       "      <td>29-07-2022</td>\n",
       "      <td>Friday</td>\n",
       "    </tr>\n",
       "    <tr>\n",
       "      <th>2</th>\n",
       "      <td>3</td>\n",
       "      <td>01-08-2022</td>\n",
       "      <td>Monday</td>\n",
       "    </tr>\n",
       "    <tr>\n",
       "      <th>3</th>\n",
       "      <td>4</td>\n",
       "      <td>02-08-2022</td>\n",
       "      <td>Tuesday</td>\n",
       "    </tr>\n",
       "    <tr>\n",
       "      <th>4</th>\n",
       "      <td>5</td>\n",
       "      <td>03-08-2022</td>\n",
       "      <td>Wednesday</td>\n",
       "    </tr>\n",
       "    <tr>\n",
       "      <th>...</th>\n",
       "      <td>...</td>\n",
       "      <td>...</td>\n",
       "      <td>...</td>\n",
       "    </tr>\n",
       "    <tr>\n",
       "      <th>203</th>\n",
       "      <td>204</td>\n",
       "      <td>09-05-2023</td>\n",
       "      <td>Tuesday</td>\n",
       "    </tr>\n",
       "    <tr>\n",
       "      <th>204</th>\n",
       "      <td>205</td>\n",
       "      <td>10-05-2023</td>\n",
       "      <td>Wednesday</td>\n",
       "    </tr>\n",
       "    <tr>\n",
       "      <th>205</th>\n",
       "      <td>206</td>\n",
       "      <td>11-05-2023</td>\n",
       "      <td>Thursday</td>\n",
       "    </tr>\n",
       "    <tr>\n",
       "      <th>206</th>\n",
       "      <td>207</td>\n",
       "      <td>12-05-2023</td>\n",
       "      <td>Friday</td>\n",
       "    </tr>\n",
       "    <tr>\n",
       "      <th>207</th>\n",
       "      <td>208</td>\n",
       "      <td>15-05-2023</td>\n",
       "      <td>Monday</td>\n",
       "    </tr>\n",
       "  </tbody>\n",
       "</table>\n",
       "<p>208 rows × 3 columns</p>\n",
       "</div>"
      ],
      "text/plain": [
       "     Count        Date        DOW\n",
       "0        1  28-07-2022   Thursday\n",
       "1        2  29-07-2022     Friday\n",
       "2        3  01-08-2022     Monday\n",
       "3        4  02-08-2022    Tuesday\n",
       "4        5  03-08-2022  Wednesday\n",
       "..     ...         ...        ...\n",
       "203    204  09-05-2023    Tuesday\n",
       "204    205  10-05-2023  Wednesday\n",
       "205    206  11-05-2023   Thursday\n",
       "206    207  12-05-2023     Friday\n",
       "207    208  15-05-2023     Monday\n",
       "\n",
       "[208 rows x 3 columns]"
      ]
     },
     "execution_count": 36,
     "metadata": {},
     "output_type": "execute_result"
    }
   ],
   "source": [
    "dates_df = pd.DataFrame(list(db.dates.find()))\n",
    "dates_val = dates_df.iloc[0:,1:]\n",
    "# dates_df['Count'].dtype\n",
    "# dates_df_iloc = dates_df.iloc[0:180,1:]\n",
    "dates_val"
   ]
  },
  {
   "cell_type": "code",
   "execution_count": 37,
   "metadata": {},
   "outputs": [],
   "source": [
    "# import pandas as pd\n",
    "# dates_df = pd.read_csv(\"../static/data/dates.csv\")\n",
    "# dates_df['Count'] = dates_df['Count'].fillna(0).astype(int)\n",
    "# dates_df"
   ]
  },
  {
   "cell_type": "code",
   "execution_count": 38,
   "metadata": {},
   "outputs": [
    {
     "name": "stderr",
     "output_type": "stream",
     "text": [
      "C:\\Users\\antoi\\AppData\\Local\\Temp/ipykernel_31584/3701609558.py:4: SettingWithCopyWarning: \n",
      "A value is trying to be set on a copy of a slice from a DataFrame.\n",
      "Try using .loc[row_indexer,col_indexer] = value instead\n",
      "\n",
      "See the caveats in the documentation: https://pandas.pydata.org/pandas-docs/stable/user_guide/indexing.html#returning-a-view-versus-a-copy\n",
      "  dates_df_iloc['Price'] = price_list\n"
     ]
    },
    {
     "data": {
      "image/png": "[encoded data removed]",
      "text/plain": [
       "<Figure size 432x288 with 1 Axes>"
      ]
     },
     "metadata": {},
     "output_type": "display_data"
    }
   ],
   "source": [
    "# DRAW THE PREDICTION\n",
    "#Append the input amount of trading days to dates dictionary\n",
    "dates_df_iloc = dates_df.iloc[0:(input-1)]\n",
    "dates_df_iloc['Price'] = price_list\n",
    "plt.plot(dates_df_iloc['Price'])\n",
    "plt.title('GMG LSTM PREDICTIONS')\n",
    "plt.xlabel('Future Trading Days', fontsize=10)\n",
    "plt.ylabel('Close Price AUD ($)',fontsize=10)\n",
    "plt.savefig('../static/data/images/gmg_pred.png', bbox_inches=\"tight\")\n",
    "plt.show()"
   ]
  },
  {
   "cell_type": "code",
   "execution_count": 39,
   "metadata": {},
   "outputs": [
    {
     "name": "stdout",
     "output_type": "stream",
     "text": [
      "{'_id': ObjectId('62e112b2fb7cbba54bf62bd9'), 'Count': 1, 'Date': '28-07-2022', 'DOW': 'Thursday', 'Price': 19.91}\n"
     ]
    }
   ],
   "source": [
    "#Append the input amount of trading days to dates dictionary\n",
    "my_dict = dates_df_iloc.to_dict(orient='records')\n",
    "print(my_dict[0])\n",
    "price_dict = [dict(zip(['Price'],[x])) for x in price_list]\n",
    "# print(price_dict[0])"
   ]
  },
  {
   "cell_type": "code",
   "execution_count": 40,
   "metadata": {},
   "outputs": [
    {
     "name": "stdout",
     "output_type": "stream",
     "text": [
      "3542 4427 4604\n"
     ]
    }
   ],
   "source": [
    "len_df_mongo = len(df_mongo) # length of the original dataframe\n",
    "col_name = ['Close']\n",
    "df_filtered = df.filter(col_name)\n",
    "df_filtered_len = len(df_filtered.index)\n",
    "df_filtered_len\n",
    "len_pred_df = df_filtered_len+input # length of the original dataframe plus the users new inputs\n",
    "\n",
    "new_data =df_filtered.append(pd.DataFrame(price_list,columns=col_name),ignore_index=True)\n",
    "new_data.tail(10)\n",
    "print(train_data_len,len_df_mongo,len_pred_df)\n"
   ]
  },
  {
   "cell_type": "code",
   "execution_count": 41,
   "metadata": {},
   "outputs": [
    {
     "name": "stderr",
     "output_type": "stream",
     "text": [
      "C:\\Users\\antoi\\AppData\\Local\\Temp/ipykernel_31584/3489515865.py:6: SettingWithCopyWarning: \n",
      "A value is trying to be set on a copy of a slice from a DataFrame.\n",
      "Try using .loc[row_indexer,col_indexer] = value instead\n",
      "\n",
      "See the caveats in the documentation: https://pandas.pydata.org/pandas-docs/stable/user_guide/indexing.html#returning-a-view-versus-a-copy\n",
      "  valid['Predictions'] = predictions # another column for validating test\n"
     ]
    },
    {
     "data": {
      "image/png": "[encoded data removed]",
      "text/plain": [
       "<Figure size 1152x576 with 1 Axes>"
      ]
     },
     "metadata": {},
     "output_type": "display_data"
    }
   ],
   "source": [
    "#Plot the data to validate the test data\n",
    "\n",
    "plt.style.use('fivethirtyeight')\n",
    "train = new_data.iloc[:train_data_len] # actual train data from 0 rows until train data end\n",
    "valid = new_data.iloc[train_data_len:len_df_mongo] # actual test data from train data end until end of all sampled data\n",
    "valid['Predictions'] = predictions # another column for validating test\n",
    "predict = new_data.iloc[len_df_mongo:len_pred_df] # user prediction data from loop\n",
    "\n",
    "plt.figure(figsize=(16,8))\n",
    "plt.title('PREDICTION GMG Share Price - LSTM Model')\n",
    "plt.xlabel('Trading Date', fontsize=18)\n",
    "plt.ylabel('Close Price AUD ($)',fontsize=18)\n",
    "plt.plot(train['Close'])\n",
    "plt.plot(valid[['Close','Predictions']])\n",
    "plt.plot(predict['Close'])\n",
    "plt.legend(['Training data','Tested data','Validate test data','Prediction'],loc='lower right')\n",
    "x = np.arange(2000,2024,4)\n",
    "plt.xticks([0,1000,2000,3000,4000,5000],x)\n",
    "plt.savefig('../static/data/images/gmg_predict_graph.png')\n",
    "plt.show()"
   ]
  },
  {
   "cell_type": "markdown",
   "metadata": {},
   "source": [
    "#Save predicted price to MongoDB"
   ]
  },
  {
   "cell_type": "code",
   "execution_count": 42,
   "metadata": {},
   "outputs": [
    {
     "name": "stdout",
     "output_type": "stream",
     "text": [
      "{'_id': ObjectId('62e9ad88170cc681fe877284'), 'model': 'LSTM', 'name': 'GMG', 'date': '02/08/2022', 'predicted': 18, 'actual': 20.43, 'difference': -2.43, 'rmse': 0.77751}\n",
      "{'_id': ObjectId('62e9c67c308fc9501734fafc'), 'model': 'RFR', 'name': 'GMG', 'date': '02/08/2022', 'predicted': 18, 'actual': 20, 'difference': -1.8275, 'accuracy': 95.75}\n"
     ]
    }
   ],
   "source": [
    "# Query all\n",
    "name = 'GMG'\n",
    "companys = db.companys.find({'name': name})\n",
    "# Iterate through each company in the collection\n",
    "for company in companys:\n",
    "    print(company)"
   ]
  },
  {
   "cell_type": "code",
   "execution_count": 43,
   "metadata": {},
   "outputs": [
    {
     "name": "stdout",
     "output_type": "stream",
     "text": [
      "{'_id': ObjectId('62e9c67c308fc9501734fafc'), 'model': 'RFR', 'name': 'GMG', 'date': '02/08/2022', 'predicted': 18, 'actual': 20, 'difference': -1.8275, 'accuracy': 95.75}\n"
     ]
    }
   ],
   "source": [
    "# Delete a document from a collection\n",
    "db.companys.delete_one(\n",
    "    {'model': 'LSTM','name': name}\n",
    ")\n",
    "\n",
    "# query the companys collection\n",
    "companys = db.companys.find({'name': name})\n",
    "# see change in the collection\n",
    "for company in companys:\n",
    "    print(company)"
   ]
  },
  {
   "cell_type": "code",
   "execution_count": 44,
   "metadata": {},
   "outputs": [
    {
     "name": "stdout",
     "output_type": "stream",
     "text": [
      "date 03/08/2022,predicted $20, actual $20.47, difference -0.46999999999999886, rmse 0.05309\n"
     ]
    }
   ],
   "source": [
    "# Set keys and values of company\n",
    "name = 'GMG'\n",
    "# Set keys and values of company\n",
    "last_close=round(float(last_close),2)\n",
    "difference = pred_price-last_close\n",
    "print(f'date {last_date},predicted ${pred_price}, actual ${last_close}, difference {difference}, rmse {round(rmse,5)}')"
   ]
  },
  {
   "cell_type": "code",
   "execution_count": 45,
   "metadata": {},
   "outputs": [
    {
     "name": "stdout",
     "output_type": "stream",
     "text": [
      "{'_id': ObjectId('62e9c67c308fc9501734fafc'), 'model': 'RFR', 'name': 'GMG', 'date': '02/08/2022', 'predicted': 18, 'actual': 20, 'difference': -1.8275, 'accuracy': 95.75}\n",
      "{'_id': ObjectId('62ea490ac12cdc87826b5449'), 'model': 'LSTM', 'name': 'GMG', 'date': '03/08/2022', 'predicted': 20, 'actual': 20.47, 'difference': -0.47, 'rmse': 0.05309}\n"
     ]
    }
   ],
   "source": [
    "# Insert a document into the 'companys' collection\n",
    "db.companys.insert_one(\n",
    "    {\n",
    "      'model': 'LSTM',\n",
    "      'name': name,\n",
    "      'date': last_date,\n",
    "      'predicted': pred_price,\n",
    "      'actual': last_close,\n",
    "      'difference': round(difference,4),\n",
    "      'rmse': round(rmse,5)        \n",
    "    }\n",
    ")\n",
    "\n",
    "# query the classroom collection\n",
    "companys = db.companys.find({'name': name})\n",
    "\n",
    "# see change in collection\n",
    "for company in companys:\n",
    "    print(company)"
   ]
  },
  {
   "cell_type": "code",
   "execution_count": 46,
   "metadata": {},
   "outputs": [
    {
     "name": "stdout",
     "output_type": "stream",
     "text": [
      "{'_id': ObjectId('62cfb5f0a3e49b5607e1001b'), 'model': 'RFR', 'name': 'nhc', 'date': '14/07/2022', 'predicted': 3, 'actual': 4, 'differece': -0.4134955929131614, 'accuracy': 95.31}\n",
      "{'_id': ObjectId('62e236dd0512e77444960bd6'), 'model': 'RFR', 'name': 'NIC', 'date': '28/07/2022', 'predicted': 0.92, 'actual': 1.09, 'differece': -0.170910457265107, 'accuracy': 91.93}\n",
      "{'_id': ObjectId('62e47c25ddd32d7e027d5c65'), 'model': 'LSTM', 'name': 'fmg', 'date': '29/07/2022', 'predicted': 19, 'actual': 18.34, 'differece': 0.6600000000000001, 'rmse': 0.73826}\n",
      "{'_id': ObjectId('62e481c2f248345c96c9494d'), 'model': 'RFR', 'name': 'fmg', 'date': '29/07/2022', 'predicted': 12, 'actual': 18, 'differece': -5.209653763866996, 'accuracy': 91.31}\n",
      "{'_id': ObjectId('62e50595000bd2fa71a88d82'), 'model': 'RFR', 'name': 'wes', 'date': '29/07/2022', 'predicted': 44, 'actual': 38, 'difference': 6.9125, 'accuracy': 97.16}\n",
      "{'_id': ObjectId('62e63809b66c4b7fa3db1a22'), 'model': 'RFR', 'name': 'anz', 'date': '29/07/2022', 'predicted': 33, 'actual': 22, 'difference': 11.1838, 'accuracy': 97.09}\n",
      "{'_id': ObjectId('62e8d1006268ec69462793ef'), 'model': 'LSTM', 'name': 'LYC', 'date': '02/08/2022', 'predicted': 20.89, 'actual': 8.88, 'difference': 12.01, 'rmse': 0.01834}\n",
      "{'_id': ObjectId('62e8dca0b10b641fd8c7ccc0'), 'model': 'LSTM', 'name': 'MIN', 'date': '02/08/2022', 'predicted': 54.55, 'actual': 53.08, 'difference': 1.47, 'rmse': 1.15967}\n",
      "{'_id': ObjectId('62e8ee73664b65ec69d765cf'), 'model': 'LSTM', 'name': 'NCM', 'date': '02/08/2022', 'predicted': 18, 'actual': 19.52, 'difference': -1.52, 'rmse': 0.65037}\n",
      "{'_id': ObjectId('62e99c9e7bcc52d27466076f'), 'model': 'LSTM', 'name': 'WOW', 'date': '02/08/2022', 'predicted': 37, 'actual': 38.6, 'difference': -1.6, 'rmse': 0.10503}\n",
      "{'_id': ObjectId('62e99ed6a6603b576513a662'), 'model': 'LSTM', 'name': 'WES', 'date': '02/08/2022', 'predicted': 46, 'actual': 47.57, 'difference': -1.57, 'rmse': 0.00558}\n",
      "{'_id': ObjectId('62e9a4b2177e6e36996be027'), 'model': 'LSTM', 'name': 'WDS', 'date': '02/08/2022', 'predicted': 31, 'actual': 32.59, 'difference': -1.59, 'rmse': 0.49726}\n",
      "{'_id': ObjectId('62e9a652ce9f5043b5bafdd3'), 'model': 'LSTM', 'name': 'WBC', 'date': '02/08/2022', 'predicted': 21.24, 'actual': 22.0, 'differece': -0.7600000000000016, 'rmse': 0.04543}\n",
      "{'_id': ObjectId('62e9a7c0bdc1486f39b68a13'), 'model': 'LSTM', 'name': 'TCL', 'date': '02/08/2022', 'predicted': 14, 'actual': 14.71, 'difference': -0.71, 'rmse': 0.28498}\n",
      "{'_id': ObjectId('62e9a8e374c2537bdd4ea798'), 'model': 'LSTM', 'name': 'STO', 'date': '02/08/2022', 'predicted': 6, 'actual': 7.24, 'difference': -1.24, 'rmse': 0.25723}\n",
      "{'_id': ObjectId('62e9a9db1d2ddbf9054d474d'), 'model': 'LSTM', 'name': 'S32', 'date': '02/08/2022', 'predicted': 3, 'actual': 3.74, 'difference': -0.74, 'rmse': 0.09394}\n",
      "{'_id': ObjectId('62e9aa3acd9f66ee3af669ed'), 'model': 'LSTM', 'name': 'NIC', 'date': '02/08/2022', 'predicted': 0.99, 'actual': 1.05, 'difference': -0.06, 'rmse': 0.07645}\n",
      "{'_id': ObjectId('62e9aad5b214a03b317b2218'), 'model': 'LSTM', 'name': 'NAB', 'date': '02/08/2022', 'predicted': 30.35, 'actual': 30.96, 'difference': -0.61, 'rmse': 0.10664}\n",
      "{'_id': ObjectId('62e9ab377f7a405329904b69'), 'model': 'LSTM', 'name': 'NHC', 'date': '02/08/2022', 'predicted': 4, 'actual': 4.31, 'difference': 0.16, 'rmse': 0.08238}\n",
      "{'_id': ObjectId('62e9ababf960869af4d2c2f6'), 'model': 'LSTM', 'name': 'MQG', 'date': '02/08/2022', 'predicted': 177, 'actual': 178.86, 'difference': -1.86, 'rmse': 1.21544}\n",
      "{'_id': ObjectId('62e9aeeed634397f62f73fbc'), 'model': 'LSTM', 'name': 'FMG', 'date': '02/08/2022', 'predicted': 17, 'actual': 17.9, 'difference': -0.9, 'rmse': 0.12267}\n",
      "{'_id': ObjectId('62e9af65b1e6f1858d541db6'), 'model': 'LSTM', 'name': 'CSL', 'date': '02/08/2022', 'predicted': 16.59, 'actual': 296.85, 'difference': -280.26, 'rmse': 7.29766}\n",
      "{'_id': ObjectId('62e9b2c25c10aa6556d978cd'), 'model': 'RFR', 'name': 'ANZ', 'date': '02/08/2022', 'predicted': 33, 'actual': 22, 'difference': 11.055, 'accuracy': 97.12}\n",
      "{'_id': ObjectId('62e9bb9dde34e4423d8c9aac'), 'model': 'RFR', 'name': 'CBA', 'date': '02/08/2022', 'predicted': 97, 'actual': 101, 'difference': -3.8786, 'accuracy': 97.43}\n",
      "{'_id': ObjectId('62e9c3795e678e40de0b3161'), 'model': 'RFR', 'name': 'CSL', 'date': '02/08/2022', 'predicted': 244, 'actual': 293, 'difference': -48.7978, 'accuracy': 96.25}\n",
      "{'_id': ObjectId('62e9c67c308fc9501734fafc'), 'model': 'RFR', 'name': 'GMG', 'date': '02/08/2022', 'predicted': 18, 'actual': 20, 'difference': -1.8275, 'accuracy': 95.75}\n",
      "{'_id': ObjectId('62e9c8fbd46dd669cac90805'), 'model': 'RFR', 'name': 'LYC', 'date': '02/08/2022', 'predicted': 6, 'actual': 8, 'difference': -1.5986, 'accuracy': 90.52}\n",
      "{'_id': ObjectId('62e9cb2a245b9ef020714960'), 'model': 'RFR', 'name': 'MIN', 'date': '02/08/2022', 'predicted': 38, 'actual': 53, 'difference': -14.7701, 'accuracy': 93.86}\n",
      "{'_id': ObjectId('62e9cdce63ecd05841b5d26d'), 'model': 'RFR', 'name': 'MQG', 'date': '02/08/2022', 'predicted': 140, 'actual': 178, 'difference': -37.1561, 'accuracy': 96.25}\n",
      "{'_id': ObjectId('62e9d694e78798d4aa5c59e9'), 'model': 'RFR', 'name': 'NAB', 'date': '02/08/2022', 'predicted': 28, 'actual': 30, 'difference': -1.9228, 'accuracy': 97.24}\n",
      "{'_id': ObjectId('62e9d79681b4e553a5fe8a78'), 'model': 'RFR', 'name': 'NCM', 'date': '02/08/2022', 'predicted': 32, 'actual': 19, 'difference': 13.5228, 'accuracy': 95.16}\n",
      "{'_id': ObjectId('62e9d82acc0fc2fe1f36e80f'), 'model': 'RFR', 'name': 'NHC', 'date': '02/08/2022', 'predicted': 3.61, 'actual': 4.31, 'difference': -0.7, 'accuracy': 95.18}\n",
      "{'_id': ObjectId('62e9d8adf7fc31d527ccfa87'), 'model': 'RFR', 'name': 'S32', 'date': '02/08/2022', 'predicted': 5, 'actual': 3, 'difference': 2.0742, 'accuracy': 95.29}\n",
      "{'_id': ObjectId('62e9db147dd298e51d7184ea'), 'model': 'RFR', 'name': 'TCL', 'date': '02/08/2022', 'predicted': 14, 'actual': 14, 'difference': 0.2311, 'accuracy': 97.12}\n",
      "{'_id': ObjectId('62e9dd14fe3d2accf350db06'), 'model': 'RFR', 'name': 'STO', 'date': '02/08/2022', 'predicted': 8, 'actual': 7, 'difference': 1.7941, 'accuracy': 96.15}\n",
      "{'_id': ObjectId('62e9ddc2a9591d4fbfaffb96'), 'model': 'RFR', 'name': 'WBC', 'date': '02/08/2022', 'predicted': 31, 'actual': 22, 'difference': 9.5657, 'accuracy': 97.12}\n",
      "{'_id': ObjectId('62e9e2f14118c390308ce8d9'), 'model': 'RFR', 'name': 'WDS', 'date': '02/08/2022', 'predicted': 41, 'actual': 32, 'difference': 9.1638, 'accuracy': 96.82}\n",
      "{'_id': ObjectId('62e9e6fe5d1dc2c159bc02f1'), 'model': 'RFR', 'name': 'WOW', 'date': '02/08/2022', 'predicted': 40, 'actual': 38, 'difference': 2.5184, 'accuracy': 97.48}\n",
      "{'_id': ObjectId('62ea35a1121f3c9a82bba01f'), 'model': 'RFR', 'name': 'FMG', 'date': '02/08/2022', 'predicted': 12, 'actual': 17, 'difference': -4.1908, 'accuracy': 91.06}\n",
      "{'_id': ObjectId('62ea37dfda2eea6fc9279b2b'), 'model': 'LSTM', 'name': 'ANZ', 'date': '03/08/2022', 'predicted': 22, 'actual': 22.71, 'difference': -0.71, 'rmse': 0.35851}\n",
      "{'_id': ObjectId('62ea39c4ced315858c99436d'), 'model': 'RFR', 'name': 'WES', 'date': '02/08/2022', 'predicted': 45, 'actual': 47, 'difference': -1.8357, 'accuracy': 97.2}\n",
      "{'_id': ObjectId('62ea3a74d27bca6473865515'), 'model': 'RFR', 'name': 'bhp', 'date': '02/08/2022', 'predicted': 47, 'actual': 38, 'difference': 9.0458, 'accuracy': 96.55}\n",
      "{'_id': ObjectId('62ea3af48b4c3f84ed6807a7'), 'model': 'RFR', 'name': 'SHL', 'date': '29/07/2022', 'predicted': 32, 'actual': 34, 'difference': -1.9845, 'accuracy': 96.92}\n",
      "{'_id': ObjectId('62ea3b97d27bca6473865517'), 'model': 'RFR', 'name': 'BHP', 'date': '02/08/2022', 'predicted': 47, 'actual': 38, 'difference': 9.0458, 'accuracy': 96.55}\n",
      "{'_id': ObjectId('62ea3ba5b3a478d58fd7aceb'), 'model': 'LSTM', 'name': 'SHL', 'date': '03/08/2022', 'predicted': 34, 'actual': 34.82, 'difference': -0.82, 'rmse': 0.2318}\n",
      "{'_id': ObjectId('62ea3d0ee09cd46656ca44b5'), 'model': 'LSTM', 'name': 'BHP', 'date': '03/08/2022', 'predicted': 42, 'actual': 38.61, 'difference': 3.39, 'rmse': 0.43516}\n",
      "{'_id': ObjectId('62ea444e1ce876811e7c9385'), 'model': 'LSTM', 'name': 'CBA', 'date': '03/08/2022', 'predicted': 99.2, 'actual': 100.47, 'difference': -1.27, 'rmse': 0.14684}\n",
      "{'_id': ObjectId('62ea490ac12cdc87826b5449'), 'model': 'LSTM', 'name': 'GMG', 'date': '03/08/2022', 'predicted': 20, 'actual': 20.47, 'difference': -0.47, 'rmse': 0.05309}\n"
     ]
    }
   ],
   "source": [
    "# query all the classroom collection\n",
    "companys = db.companys.find()\n",
    "\n",
    "# see change in collection\n",
    "for company in companys:\n",
    "    print(company)"
   ]
  }
 ],
 "metadata": {
  "kernel_info": {
   "name": "dev"
  },
  "kernelspec": {
   "display_name": "Python 3.9.7 ('base')",
   "language": "python",
   "name": "python3"
  },
  "language_info": {
   "codemirror_mode": {
    "name": "ipython",
    "version": 3
   },
   "file_extension": ".py",
   "mimetype": "text/x-python",
   "name": "python",
   "nbconvert_exporter": "python",
   "pygments_lexer": "ipython3",
   "version": "3.9.7"
  },
  "nteract": {
   "version": "0.12.3"
  },
  "vscode": {
   "interpreter": {
    "hash": "45bb1cb4637e4034484920e5cfb24c9afd84b0847d6c36e39edd3067d3a05462"
   }
  }
 },
 "nbformat": 4,
 "nbformat_minor": 2
}
