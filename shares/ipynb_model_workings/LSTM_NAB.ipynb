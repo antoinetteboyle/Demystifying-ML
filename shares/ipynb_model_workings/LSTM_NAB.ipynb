{
 "cells": [
  {
   "cell_type": "markdown",
   "metadata": {},
   "source": [
    "#This model uses LSTM to predict a Daily share price movements based on time series and batches of 60 days"
   ]
  },
  {
   "cell_type": "markdown",
   "metadata": {},
   "source": [
    "# Read the CSV and Perform Basic Data Cleaning"
   ]
  },
  {
   "cell_type": "code",
   "execution_count": 1,
   "metadata": {},
   "outputs": [],
   "source": [
    "import matplotlib.pyplot as plt\n",
    "import numpy as np\n",
    "import pandas as pd"
   ]
  },
  {
   "cell_type": "code",
   "execution_count": 2,
   "metadata": {},
   "outputs": [
    {
     "data": {
      "text/html": [
       "<div>\n",
       "<style scoped>\n",
       "    .dataframe tbody tr th:only-of-type {\n",
       "        vertical-align: middle;\n",
       "    }\n",
       "\n",
       "    .dataframe tbody tr th {\n",
       "        vertical-align: top;\n",
       "    }\n",
       "\n",
       "    .dataframe thead th {\n",
       "        text-align: right;\n",
       "    }\n",
       "</style>\n",
       "<table border=\"1\" class=\"dataframe\">\n",
       "  <thead>\n",
       "    <tr style=\"text-align: right;\">\n",
       "      <th></th>\n",
       "      <th>Date</th>\n",
       "      <th>Open</th>\n",
       "      <th>High</th>\n",
       "      <th>Low</th>\n",
       "      <th>Close</th>\n",
       "      <th>Adj Close</th>\n",
       "      <th>Volume</th>\n",
       "    </tr>\n",
       "  </thead>\n",
       "  <tbody>\n",
       "    <tr>\n",
       "      <th>0</th>\n",
       "      <td>3/01/2000</td>\n",
       "      <td>22.164883</td>\n",
       "      <td>22.164883</td>\n",
       "      <td>22.164883</td>\n",
       "      <td>22.164883</td>\n",
       "      <td>6.412319</td>\n",
       "      <td>0.0</td>\n",
       "    </tr>\n",
       "    <tr>\n",
       "      <th>1</th>\n",
       "      <td>4/01/2000</td>\n",
       "      <td>21.869984</td>\n",
       "      <td>21.879498</td>\n",
       "      <td>21.308727</td>\n",
       "      <td>21.403856</td>\n",
       "      <td>6.192155</td>\n",
       "      <td>3005390.0</td>\n",
       "    </tr>\n",
       "    <tr>\n",
       "      <th>2</th>\n",
       "      <td>5/01/2000</td>\n",
       "      <td>20.918701</td>\n",
       "      <td>21.099445</td>\n",
       "      <td>20.785522</td>\n",
       "      <td>20.975779</td>\n",
       "      <td>6.068309</td>\n",
       "      <td>4604126.0</td>\n",
       "    </tr>\n",
       "    <tr>\n",
       "      <th>3</th>\n",
       "      <td>6/01/2000</td>\n",
       "      <td>21.207891</td>\n",
       "      <td>21.213600</td>\n",
       "      <td>20.642830</td>\n",
       "      <td>20.642830</td>\n",
       "      <td>5.971987</td>\n",
       "      <td>2574906.0</td>\n",
       "    </tr>\n",
       "    <tr>\n",
       "      <th>4</th>\n",
       "      <td>7/01/2000</td>\n",
       "      <td>20.737959</td>\n",
       "      <td>20.880651</td>\n",
       "      <td>20.623804</td>\n",
       "      <td>20.823574</td>\n",
       "      <td>6.024276</td>\n",
       "      <td>3028993.0</td>\n",
       "    </tr>\n",
       "  </tbody>\n",
       "</table>\n",
       "</div>"
      ],
      "text/plain": [
       "        Date       Open       High        Low      Close  Adj Close     Volume\n",
       "0  3/01/2000  22.164883  22.164883  22.164883  22.164883   6.412319        0.0\n",
       "1  4/01/2000  21.869984  21.879498  21.308727  21.403856   6.192155  3005390.0\n",
       "2  5/01/2000  20.918701  21.099445  20.785522  20.975779   6.068309  4604126.0\n",
       "3  6/01/2000  21.207891  21.213600  20.642830  20.642830   5.971987  2574906.0\n",
       "4  7/01/2000  20.737959  20.880651  20.623804  20.823574   6.024276  3028993.0"
      ]
     },
     "execution_count": 2,
     "metadata": {},
     "output_type": "execute_result"
    }
   ],
   "source": [
    "df_stock1 = pd.read_csv(\"../static/data/nab.csv\")\n",
    "# Drop the null columns where all values are null\n",
    "df_stock2 = df_stock1.dropna(axis='columns', how='all')\n",
    "# Drop the null rows\n",
    "df_stock3 = df_stock2.dropna()\n",
    "# Drop the last rows to test prediction to actual\n",
    "df_stock_less1= df_stock3.iloc[:-1,:]\n",
    "# Drop last 3 columns sentiment RBA FED\n",
    "N=3\n",
    "df = df_stock_less1.iloc[: , :-N]\n",
    "df.head()"
   ]
  },
  {
   "cell_type": "code",
   "execution_count": 3,
   "metadata": {},
   "outputs": [
    {
     "data": {
      "text/plain": [
       "<AxesSubplot:>"
      ]
     },
     "execution_count": 3,
     "metadata": {},
     "output_type": "execute_result"
    },
    {
     "data": {
      "image/png": "[encoded data removed]",
      "text/plain": [
       "<Figure size 432x288 with 1 Axes>"
      ]
     },
     "metadata": {
      "needs_background": "light"
     },
     "output_type": "display_data"
    }
   ],
   "source": [
    "df[\"Close\"].plot()"
   ]
  },
  {
   "cell_type": "code",
   "execution_count": 4,
   "metadata": {},
   "outputs": [
    {
     "name": "stdout",
     "output_type": "stream",
     "text": [
      "<class 'pandas.core.frame.DataFrame'>\n",
      "Int64Index: 5690 entries, 0 to 5722\n",
      "Data columns (total 7 columns):\n",
      " #   Column     Non-Null Count  Dtype  \n",
      "---  ------     --------------  -----  \n",
      " 0   Date       5690 non-null   object \n",
      " 1   Open       5690 non-null   float64\n",
      " 2   High       5690 non-null   float64\n",
      " 3   Low        5690 non-null   float64\n",
      " 4   Close      5690 non-null   float64\n",
      " 5   Adj Close  5690 non-null   float64\n",
      " 6   Volume     5690 non-null   float64\n",
      "dtypes: float64(6), object(1)\n",
      "memory usage: 355.6+ KB\n"
     ]
    }
   ],
   "source": [
    "df.info()"
   ]
  },
  {
   "cell_type": "code",
   "execution_count": 5,
   "metadata": {},
   "outputs": [
    {
     "data": {
      "text/plain": [
       "(5690, 1)"
      ]
     },
     "execution_count": 5,
     "metadata": {},
     "output_type": "execute_result"
    }
   ],
   "source": [
    "data = df.filter(['Close'])\n",
    "dataset = data.values\n",
    "dataset.shape\n"
   ]
  },
  {
   "cell_type": "markdown",
   "metadata": {},
   "source": [
    "# # Pre-processing : Scale the data using the MinMaxScaler and split train data"
   ]
  },
  {
   "cell_type": "code",
   "execution_count": 6,
   "metadata": {},
   "outputs": [
    {
     "data": {
      "text/plain": [
       "(4552, 1)"
      ]
     },
     "execution_count": 6,
     "metadata": {},
     "output_type": "execute_result"
    }
   ],
   "source": [
    "# Scale your data\n",
    "from sklearn.preprocessing import MinMaxScaler\n",
    "\n",
    "scaler = MinMaxScaler(feature_range=(0,1))\n",
    "dataset_scaled = scaler.fit_transform(dataset)\n",
    "\n",
    "# Split into train or test\n",
    "import math\n",
    "train_data_len = math.ceil(len(dataset)*.8)\n",
    "train_data = dataset_scaled[0:train_data_len,:]\n",
    "train_data.shape\n"
   ]
  },
  {
   "cell_type": "code",
   "execution_count": 7,
   "metadata": {},
   "outputs": [
    {
     "name": "stdout",
     "output_type": "stream",
     "text": [
      "[array([0.28791442, 0.26146737, 0.24659094, 0.23502037, 0.24130154,\n",
      "       0.25154974, 0.23832627, 0.23270628, 0.22609451, 0.2418305 ,\n",
      "       0.2783273 , 0.28956731, 0.27634378, 0.26232689, 0.24692153,\n",
      "       0.26807911, 0.25419445, 0.25419445, 0.23802872, 0.2502274 ,\n",
      "       0.23935106, 0.23766508, 0.24394619, 0.23164837, 0.23601218,\n",
      "       0.24163217, 0.23832627, 0.24229329, 0.23964864, 0.23402862,\n",
      "       0.2217969 , 0.2211688 , 0.2049369 , 0.19663915, 0.19204396,\n",
      "       0.18708515, 0.17981223, 0.17551465, 0.17848986, 0.20496995,\n",
      "       0.20526749, 0.22510273, 0.24844223, 0.25396308, 0.22649124,\n",
      "       0.21022626, 0.22311917, 0.20625924, 0.18146513, 0.19138277,\n",
      "       0.18410988, 0.19733342, 0.20526749, 0.21518516, 0.20625924,\n",
      "       0.20715184, 0.21981334, 0.23733445, 0.23832627, 0.24179742])]\n",
      "[0.22344979789408392]\n"
     ]
    }
   ],
   "source": [
    "X_train = []\n",
    "y_train = []\n",
    "\n",
    "for i in range (60, len(train_data)):\n",
    "    X_train.append(train_data[i-60:i,0]) # contains 60 values\n",
    "    y_train.append(train_data[i,0])   # contains 61st value\n",
    "    if i<= 60:\n",
    "        print(X_train)\n",
    "        print(y_train) \n"
   ]
  },
  {
   "cell_type": "markdown",
   "metadata": {},
   "source": [
    "# Prepare train data for LSTM model"
   ]
  },
  {
   "cell_type": "code",
   "execution_count": 8,
   "metadata": {},
   "outputs": [
    {
     "data": {
      "text/plain": [
       "(4492, 60)"
      ]
     },
     "execution_count": 8,
     "metadata": {},
     "output_type": "execute_result"
    }
   ],
   "source": [
    "# Convert list to numpy array for LSTM model:\n",
    "X_train, y_train = np.array(X_train), np.array(y_train)\n",
    "X_train.shape"
   ]
  },
  {
   "cell_type": "code",
   "execution_count": 9,
   "metadata": {},
   "outputs": [
    {
     "data": {
      "text/plain": [
       "(4492, 60, 1)"
      ]
     },
     "execution_count": 9,
     "metadata": {},
     "output_type": "execute_result"
    }
   ],
   "source": [
    "# LSTM model expects 3D, reshape:\n",
    "X_train = np.reshape(X_train, (X_train.shape[0], X_train.shape[1], 1))\n",
    "X_train.shape"
   ]
  },
  {
   "cell_type": "markdown",
   "metadata": {},
   "source": [
    "# Build the LSTM model"
   ]
  },
  {
   "cell_type": "code",
   "execution_count": 10,
   "metadata": {},
   "outputs": [],
   "source": [
    "from tensorflow.keras.models import Sequential\n",
    "from tensorflow.keras.layers import Dense, LSTM\n",
    "model = Sequential()\n",
    "model.add(LSTM(50, return_sequences=True, input_shape=(X_train.shape[1], 1)))\n",
    "model.add(LSTM(50, return_sequences=False))\n",
    "model.add(Dense(25))\n",
    "model.add(Dense(1))"
   ]
  },
  {
   "cell_type": "code",
   "execution_count": 11,
   "metadata": {},
   "outputs": [],
   "source": [
    "model.compile(optimizer='adam', loss='mean_squared_error')"
   ]
  },
  {
   "cell_type": "code",
   "execution_count": 12,
   "metadata": {},
   "outputs": [
    {
     "name": "stdout",
     "output_type": "stream",
     "text": [
      "4492/4492 [==============================] - 70s 15ms/step - loss: 0.0014\n"
     ]
    },
    {
     "data": {
      "text/plain": [
       "<keras.callbacks.History at 0x1ad7f0a8cd0>"
      ]
     },
     "execution_count": 12,
     "metadata": {},
     "output_type": "execute_result"
    }
   ],
   "source": [
    "model.fit(X_train, y_train, batch_size=1, epochs=1)"
   ]
  },
  {
   "cell_type": "code",
   "execution_count": 13,
   "metadata": {},
   "outputs": [],
   "source": [
    "#Create test data\n",
    "test_data = dataset_scaled[train_data_len-60:,:]\n",
    "X_test = []\n",
    "y_test = dataset[train_data_len:,:]\n",
    "for i in range(60, len(test_data)):\n",
    " X_test.append(test_data[i-60:i,0])"
   ]
  },
  {
   "cell_type": "code",
   "execution_count": 14,
   "metadata": {},
   "outputs": [],
   "source": [
    "#Covert test data to a numpy array and reshape\n",
    "X_test = np.array(X_test)\n",
    "X_test = np.reshape(X_test, (X_test.shape[0],X_test.shape[1],1))"
   ]
  },
  {
   "cell_type": "code",
   "execution_count": 15,
   "metadata": {},
   "outputs": [],
   "source": [
    "#Get predicted prices\n",
    "predictions_lstm = model.predict(X_test)\n",
    "predictions = scaler.inverse_transform(predictions_lstm)"
   ]
  },
  {
   "cell_type": "code",
   "execution_count": 16,
   "metadata": {},
   "outputs": [
    {
     "data": {
      "text/plain": [
       "0.04880319964535249"
      ]
     },
     "execution_count": 16,
     "metadata": {},
     "output_type": "execute_result"
    }
   ],
   "source": [
    "#Get the root mean square error (RMSE) 0 being most favourable\n",
    "rmse = np.sqrt(np.mean(predictions-y_test)**2)\n",
    "rmse"
   ]
  },
  {
   "cell_type": "code",
   "execution_count": 17,
   "metadata": {},
   "outputs": [
    {
     "name": "stderr",
     "output_type": "stream",
     "text": [
      "C:\\Users\\antoi\\AppData\\Local\\Temp/ipykernel_17448/1559395553.py:5: SettingWithCopyWarning: \n",
      "A value is trying to be set on a copy of a slice from a DataFrame.\n",
      "Try using .loc[row_indexer,col_indexer] = value instead\n",
      "\n",
      "See the caveats in the documentation: https://pandas.pydata.org/pandas-docs/stable/user_guide/indexing.html#returning-a-view-versus-a-copy\n",
      "  valid['Predictions'] = predictions # another column for validating test\n"
     ]
    },
    {
     "data": {
      "image/png": "[encoded data removed]",
      "text/plain": [
       "<Figure size 1152x576 with 1 Axes>"
      ]
     },
     "metadata": {},
     "output_type": "display_data"
    }
   ],
   "source": [
    "#Plot the data to validate the test data\n",
    "plt.style.use('fivethirtyeight')\n",
    "train = data.iloc[:train_data_len] # actual train data from 0 rows until train data end\n",
    "valid = data.iloc[train_data_len:] # actual test data from train data end until end of all sampled data\n",
    "valid['Predictions'] = predictions # another column for validating test\n",
    "\n",
    "plt.figure(figsize=(16,8))\n",
    "plt.title('NAB LSTM Model')\n",
    "plt.xlabel('Trading Date', fontsize=18)\n",
    "plt.ylabel('Close Price AUD ($)',fontsize=18)\n",
    "plt.plot(train['Close'])\n",
    "plt.plot(valid[['Close','Predictions']])\n",
    "plt.legend(['Training','Validate','Tested'],loc='lower right')\n",
    "x = np.arange(2000,2024,4)\n",
    "plt.xticks([0,1000,2000,3000,4000,5000],x)\n",
    "plt.savefig('../static/data/images/nab_graph.png')\n",
    "plt.show()\n"
   ]
  },
  {
   "cell_type": "markdown",
   "metadata": {},
   "source": [
    "# Test data Predictions on the Model"
   ]
  },
  {
   "cell_type": "code",
   "execution_count": 18,
   "metadata": {},
   "outputs": [
    {
     "name": "stderr",
     "output_type": "stream",
     "text": [
      "C:\\Users\\antoi\\AppData\\Local\\Temp/ipykernel_17448/3952761259.py:1: SettingWithCopyWarning: \n",
      "A value is trying to be set on a copy of a slice from a DataFrame.\n",
      "Try using .loc[row_indexer,col_indexer] = value instead\n",
      "\n",
      "See the caveats in the documentation: https://pandas.pydata.org/pandas-docs/stable/user_guide/indexing.html#returning-a-view-versus-a-copy\n",
      "  valid['Difference']= valid['Close']-valid['Predictions']\n"
     ]
    },
    {
     "data": {
      "text/html": [
       "<div>\n",
       "<style scoped>\n",
       "    .dataframe tbody tr th:only-of-type {\n",
       "        vertical-align: middle;\n",
       "    }\n",
       "\n",
       "    .dataframe tbody tr th {\n",
       "        vertical-align: top;\n",
       "    }\n",
       "\n",
       "    .dataframe thead th {\n",
       "        text-align: right;\n",
       "    }\n",
       "</style>\n",
       "<table border=\"1\" class=\"dataframe\">\n",
       "  <thead>\n",
       "    <tr style=\"text-align: right;\">\n",
       "      <th></th>\n",
       "      <th>Close</th>\n",
       "      <th>Predictions</th>\n",
       "      <th>Difference</th>\n",
       "    </tr>\n",
       "  </thead>\n",
       "  <tbody>\n",
       "    <tr>\n",
       "      <th>4585</th>\n",
       "      <td>29.450001</td>\n",
       "      <td>29.724419</td>\n",
       "      <td>-0.274418</td>\n",
       "    </tr>\n",
       "    <tr>\n",
       "      <th>4586</th>\n",
       "      <td>29.570000</td>\n",
       "      <td>29.569386</td>\n",
       "      <td>0.000614</td>\n",
       "    </tr>\n",
       "    <tr>\n",
       "      <th>4587</th>\n",
       "      <td>29.559999</td>\n",
       "      <td>29.509804</td>\n",
       "      <td>0.050195</td>\n",
       "    </tr>\n",
       "    <tr>\n",
       "      <th>4588</th>\n",
       "      <td>29.650000</td>\n",
       "      <td>29.495195</td>\n",
       "      <td>0.154805</td>\n",
       "    </tr>\n",
       "    <tr>\n",
       "      <th>4589</th>\n",
       "      <td>29.570000</td>\n",
       "      <td>29.542299</td>\n",
       "      <td>0.027701</td>\n",
       "    </tr>\n",
       "    <tr>\n",
       "      <th>...</th>\n",
       "      <td>...</td>\n",
       "      <td>...</td>\n",
       "      <td>...</td>\n",
       "    </tr>\n",
       "    <tr>\n",
       "      <th>5718</th>\n",
       "      <td>25.920000</td>\n",
       "      <td>26.484171</td>\n",
       "      <td>-0.564171</td>\n",
       "    </tr>\n",
       "    <tr>\n",
       "      <th>5719</th>\n",
       "      <td>26.059999</td>\n",
       "      <td>26.207615</td>\n",
       "      <td>-0.147616</td>\n",
       "    </tr>\n",
       "    <tr>\n",
       "      <th>5720</th>\n",
       "      <td>27.049999</td>\n",
       "      <td>26.136503</td>\n",
       "      <td>0.913496</td>\n",
       "    </tr>\n",
       "    <tr>\n",
       "      <th>5721</th>\n",
       "      <td>26.990000</td>\n",
       "      <td>26.565907</td>\n",
       "      <td>0.424093</td>\n",
       "    </tr>\n",
       "    <tr>\n",
       "      <th>5722</th>\n",
       "      <td>27.129999</td>\n",
       "      <td>26.936155</td>\n",
       "      <td>0.193844</td>\n",
       "    </tr>\n",
       "  </tbody>\n",
       "</table>\n",
       "<p>1138 rows × 3 columns</p>\n",
       "</div>"
      ],
      "text/plain": [
       "          Close  Predictions  Difference\n",
       "4585  29.450001    29.724419   -0.274418\n",
       "4586  29.570000    29.569386    0.000614\n",
       "4587  29.559999    29.509804    0.050195\n",
       "4588  29.650000    29.495195    0.154805\n",
       "4589  29.570000    29.542299    0.027701\n",
       "...         ...          ...         ...\n",
       "5718  25.920000    26.484171   -0.564171\n",
       "5719  26.059999    26.207615   -0.147616\n",
       "5720  27.049999    26.136503    0.913496\n",
       "5721  26.990000    26.565907    0.424093\n",
       "5722  27.129999    26.936155    0.193844\n",
       "\n",
       "[1138 rows x 3 columns]"
      ]
     },
     "execution_count": 18,
     "metadata": {},
     "output_type": "execute_result"
    }
   ],
   "source": [
    "valid['Difference']= valid['Close']-valid['Predictions']\n",
    "valid"
   ]
  },
  {
   "cell_type": "code",
   "execution_count": 19,
   "metadata": {},
   "outputs": [],
   "source": [
    "#Get latest 60 quotes less 1 to predict:\n",
    "\n",
    "#import pandas_datareader.data as web\n",
    "#symbol = 'NAB.AX'\n",
    "#stock_quote = web.DataReader(symbol,data_source='yahoo',start='2022-01-01', end='2022-04-13')\n",
    "#stock_quotes_sixty = stock_quotes_sixty.filter(['Close'])\n",
    "#stock_quotes_sixty\n",
    "#OR use csv data "
   ]
  },
  {
   "cell_type": "code",
   "execution_count": 20,
   "metadata": {},
   "outputs": [
    {
     "data": {
      "text/plain": [
       "(60, 1)"
      ]
     },
     "execution_count": 20,
     "metadata": {},
     "output_type": "execute_result"
    }
   ],
   "source": [
    "# Use last 60 days price on model to predict next days price\n",
    "stock_quotes_sixty = df_stock_less1.tail(60)\n",
    "stock_close_sixty = stock_quotes_sixty['Close']\n",
    "last_60_days = stock_close_sixty[-60:].values\n",
    "last_60_days = last_60_days.reshape(-1,1)\n",
    "last_60_days .shape"
   ]
  },
  {
   "cell_type": "code",
   "execution_count": 21,
   "metadata": {},
   "outputs": [
    {
     "data": {
      "text/plain": [
       "(1, 60, 1)"
      ]
     },
     "execution_count": 21,
     "metadata": {},
     "output_type": "execute_result"
    }
   ],
   "source": [
    "last_60_days_scaled = scaler.transform(last_60_days)\n",
    "X_tell = []\n",
    "X_tell.append(last_60_days_scaled)\n",
    "X_tell =np.array(X_tell)\n",
    "X_tell =np.reshape(X_tell, (X_tell.shape[0], X_tell.shape[1],1))\n",
    "X_tell.shape"
   ]
  },
  {
   "cell_type": "code",
   "execution_count": 22,
   "metadata": {},
   "outputs": [
    {
     "name": "stdout",
     "output_type": "stream",
     "text": [
      "Predicted next day share price 27\n"
     ]
    }
   ],
   "source": [
    "pred_price = model.predict(X_tell)\n",
    "pred_price = scaler.inverse_transform(pred_price)\n",
    "pred_price = int(pred_price)\n",
    "print(f'Predicted next day share price {pred_price}')"
   ]
  },
  {
   "cell_type": "code",
   "execution_count": 23,
   "metadata": {},
   "outputs": [
    {
     "data": {
      "text/html": [
       "<div>\n",
       "<style scoped>\n",
       "    .dataframe tbody tr th:only-of-type {\n",
       "        vertical-align: middle;\n",
       "    }\n",
       "\n",
       "    .dataframe tbody tr th {\n",
       "        vertical-align: top;\n",
       "    }\n",
       "\n",
       "    .dataframe thead th {\n",
       "        text-align: right;\n",
       "    }\n",
       "</style>\n",
       "<table border=\"1\" class=\"dataframe\">\n",
       "  <thead>\n",
       "    <tr style=\"text-align: right;\">\n",
       "      <th></th>\n",
       "      <th>Date</th>\n",
       "      <th>Open</th>\n",
       "      <th>High</th>\n",
       "      <th>Low</th>\n",
       "      <th>Close</th>\n",
       "      <th>Adj Close</th>\n",
       "      <th>Volume</th>\n",
       "      <th>SENTIMENT</th>\n",
       "      <th>RBA</th>\n",
       "      <th>FED</th>\n",
       "    </tr>\n",
       "  </thead>\n",
       "  <tbody>\n",
       "    <tr>\n",
       "      <th>5723</th>\n",
       "      <td>24/06/2022</td>\n",
       "      <td>27.059999</td>\n",
       "      <td>27.24</td>\n",
       "      <td>26.870001</td>\n",
       "      <td>27.02</td>\n",
       "      <td>27.02</td>\n",
       "      <td>4486764.0</td>\n",
       "      <td>NEGATIVE</td>\n",
       "      <td>0.85</td>\n",
       "      <td>1.75</td>\n",
       "    </tr>\n",
       "  </tbody>\n",
       "</table>\n",
       "</div>"
      ],
      "text/plain": [
       "            Date       Open   High        Low  Close  Adj Close     Volume  \\\n",
       "5723  24/06/2022  27.059999  27.24  26.870001  27.02      27.02  4486764.0   \n",
       "\n",
       "     SENTIMENT   RBA   FED  \n",
       "5723  NEGATIVE  0.85  1.75  "
      ]
     },
     "execution_count": 23,
     "metadata": {},
     "output_type": "execute_result"
    }
   ],
   "source": [
    "#stock_quote_acual = web.DataReader('CBA.AX',data_source='yahoo',start='2022-04-14', end='2022-04-14')\n",
    "#OR get last quote from latest csv\n",
    "stock_quote_last_one = df_stock1.tail(1)\n",
    "stock_quote_last_one\n"
   ]
  },
  {
   "cell_type": "code",
   "execution_count": 24,
   "metadata": {},
   "outputs": [
    {
     "data": {
      "text/plain": [
       "'24/06/2022'"
      ]
     },
     "execution_count": 24,
     "metadata": {},
     "output_type": "execute_result"
    }
   ],
   "source": [
    "#save actual to variable\n",
    "actual_price = stock_quote_last_one.iloc[0,4]\n",
    "actual_date = stock_quote_last_one.iloc[0,0] \n",
    "actual_price = int(actual_price)\n",
    "actual_price\n",
    "actual_date\n"
   ]
  },
  {
   "cell_type": "markdown",
   "metadata": {},
   "source": [
    "# Save the Model"
   ]
  },
  {
   "cell_type": "code",
   "execution_count": 25,
   "metadata": {},
   "outputs": [],
   "source": [
    "# Save the entire model to a HDF5 file.\n",
    "# The '.h5' extension indicates that the model should be saved to HDF5.\n",
    "filepath = '../static/nab_model.sav'\n",
    "model.save(filepath, save_format=\"h5\")"
   ]
  },
  {
   "cell_type": "markdown",
   "metadata": {},
   "source": [
    "#Save last 60 days to a list cba_sixty and load df"
   ]
  },
  {
   "cell_type": "code",
   "execution_count": 26,
   "metadata": {},
   "outputs": [
    {
     "data": {
      "text/html": [
       "<div>\n",
       "<style scoped>\n",
       "    .dataframe tbody tr th:only-of-type {\n",
       "        vertical-align: middle;\n",
       "    }\n",
       "\n",
       "    .dataframe tbody tr th {\n",
       "        vertical-align: top;\n",
       "    }\n",
       "\n",
       "    .dataframe thead th {\n",
       "        text-align: right;\n",
       "    }\n",
       "</style>\n",
       "<table border=\"1\" class=\"dataframe\">\n",
       "  <thead>\n",
       "    <tr style=\"text-align: right;\">\n",
       "      <th></th>\n",
       "      <th>29</th>\n",
       "    </tr>\n",
       "  </thead>\n",
       "  <tbody>\n",
       "    <tr>\n",
       "      <th>0</th>\n",
       "      <td>29.110001</td>\n",
       "    </tr>\n",
       "    <tr>\n",
       "      <th>1</th>\n",
       "      <td>28.889999</td>\n",
       "    </tr>\n",
       "    <tr>\n",
       "      <th>2</th>\n",
       "      <td>28.440001</td>\n",
       "    </tr>\n",
       "    <tr>\n",
       "      <th>3</th>\n",
       "      <td>28.490000</td>\n",
       "    </tr>\n",
       "    <tr>\n",
       "      <th>4</th>\n",
       "      <td>28.980000</td>\n",
       "    </tr>\n",
       "  </tbody>\n",
       "</table>\n",
       "</div>"
      ],
      "text/plain": [
       "          29\n",
       "0  29.110001\n",
       "1  28.889999\n",
       "2  28.440001\n",
       "3  28.490000\n",
       "4  28.980000"
      ]
     },
     "execution_count": 26,
     "metadata": {},
     "output_type": "execute_result"
    }
   ],
   "source": [
    "# Read in the CSV file\n",
    "df_nab_sixty = pd.read_csv(\"../static/data/nab_sixty.csv\")\n",
    "df_nab_sixty.head()"
   ]
  },
  {
   "cell_type": "code",
   "execution_count": 27,
   "metadata": {},
   "outputs": [
    {
     "data": {
      "text/plain": [
       "(60, 1)"
      ]
     },
     "execution_count": 27,
     "metadata": {},
     "output_type": "execute_result"
    }
   ],
   "source": [
    "close_sixty_val = df_nab_sixty[-60:].values\n",
    "last_sixty = close_sixty_val.reshape(-1,1)\n",
    "last_sixty.shape"
   ]
  },
  {
   "cell_type": "code",
   "execution_count": 28,
   "metadata": {},
   "outputs": [
    {
     "data": {
      "text/plain": [
       "(1, 60, 1)"
      ]
     },
     "execution_count": 28,
     "metadata": {},
     "output_type": "execute_result"
    }
   ],
   "source": [
    "last_sixty_scaled = scaler.transform(last_sixty)\n",
    "new_X_tell = []\n",
    "new_X_tell.append(last_sixty_scaled)\n",
    "new_X_tell =np.array(new_X_tell)\n",
    "new_X_tell =np.reshape(new_X_tell, (new_X_tell.shape[0], new_X_tell.shape[1],1))\n",
    "new_X_tell.shape"
   ]
  },
  {
   "cell_type": "markdown",
   "metadata": {},
   "source": [
    "#PREDICT USING LOADED MODEL"
   ]
  },
  {
   "cell_type": "code",
   "execution_count": 29,
   "metadata": {},
   "outputs": [],
   "source": [
    "from keras.models import load_model"
   ]
  },
  {
   "cell_type": "code",
   "execution_count": 30,
   "metadata": {},
   "outputs": [],
   "source": [
    "model_in = load_model('../static/nab_model.sav')"
   ]
  },
  {
   "cell_type": "code",
   "execution_count": 31,
   "metadata": {},
   "outputs": [
    {
     "data": {
      "text/plain": [
       "array([[0.62284774]], dtype=float32)"
      ]
     },
     "execution_count": 31,
     "metadata": {},
     "output_type": "execute_result"
    }
   ],
   "source": [
    "model_in_pd_scale = model_in.predict(new_X_tell)\n",
    "model_in_pd_scale"
   ]
  },
  {
   "cell_type": "code",
   "execution_count": 32,
   "metadata": {},
   "outputs": [
    {
     "name": "stdout",
     "output_type": "stream",
     "text": [
      "Predicted next day share price [[31.80276]]\n"
     ]
    }
   ],
   "source": [
    "model_in_price = scaler.inverse_transform(model_in_pd_scale)\n",
    "#model_in_price_int = int(model_in_price)\n",
    "print(f'Predicted next day share price {model_in_price}')"
   ]
  },
  {
   "cell_type": "code",
   "execution_count": 35,
   "metadata": {},
   "outputs": [],
   "source": [
    "from keras.models import load_model\n",
    "model_in = load_model('../static/nab_model.sav')\n",
    "from sklearn.preprocessing import MinMaxScaler\n",
    "scaler = MinMaxScaler(feature_range=(0,1))\n",
    "# Read in the CSV file\n",
    "\n",
    "nabdump_sixty = pd.read_csv(\"../static/data/nab.csv\")\n",
    "nabdump_sixty = nabdump_sixty.dropna()\n",
    "nabdump_sixty = nabdump_sixty.iloc[-4250:]\n",
    "sixty_val = nabdump_sixty.iloc[-60:,4].values\n",
    "last_sixty = sixty_val.reshape(-1,1)\n",
    "\n",
    "price_list=[]\n",
    "\n",
    "#Function to predict future days predicted price, in loop\n",
    "input = 100 #days\n",
    "if input == \"\":\n",
    "    input = 100\n",
    "else:\n",
    "   input = int(input)\n",
    "\n",
    "def predict_nab(last_sixty,model_in,input):\n",
    "    for i in range(1, input):\n",
    "\n",
    "        #Takes df and converts to model's predict shape\n",
    "        last_sixty_scaled = scaler.fit_transform(last_sixty)\n",
    "        new_X_tell = []\n",
    "        new_X_tell.append(last_sixty_scaled)\n",
    "        new_X_tell =np.array(new_X_tell)\n",
    "        new_X_tell =np.reshape(new_X_tell, (new_X_tell.shape[0], new_X_tell.shape[1],1))\n",
    "        \n",
    "        model_in_pd_scale = model_in.predict(new_X_tell)\n",
    "        model_in_price = scaler.inverse_transform(model_in_pd_scale) # New price predicted\n",
    "\n",
    "        last_sixty_less_one = np.delete(last_sixty, 0, 0)\n",
    "        last_sixty = np.append(last_sixty_less_one, model_in_price,axis = 0) # Update last 60\n",
    "        print(i)\n",
    "        print(\"Day finished! Price: \")\n",
    "        price_float = float(model_in_price)\n",
    "        price = round(price_float, 2)\n",
    "        price_list.append(price)\n",
    "    else:\n",
    "        print(\"Could not predict further!\")\n",
    "        print(input)\n",
    "    print(price_list)"
   ]
  },
  {
   "cell_type": "code",
   "execution_count": 36,
   "metadata": {},
   "outputs": [
    {
     "name": "stdout",
     "output_type": "stream",
     "text": [
      "1\n",
      "Day finished! Price: \n",
      "2\n",
      "Day finished! Price: \n",
      "3\n",
      "Day finished! Price: \n",
      "4\n",
      "Day finished! Price: \n",
      "5\n",
      "Day finished! Price: \n",
      "6\n",
      "Day finished! Price: \n",
      "7\n",
      "Day finished! Price: \n",
      "8\n",
      "Day finished! Price: \n",
      "9\n",
      "Day finished! Price: \n",
      "10\n",
      "Day finished! Price: \n",
      "11\n",
      "Day finished! Price: \n",
      "12\n",
      "Day finished! Price: \n",
      "13\n",
      "Day finished! Price: \n",
      "14\n",
      "Day finished! Price: \n",
      "15\n",
      "Day finished! Price: \n",
      "16\n",
      "Day finished! Price: \n",
      "17\n",
      "Day finished! Price: \n",
      "18\n",
      "Day finished! Price: \n",
      "19\n",
      "Day finished! Price: \n",
      "20\n",
      "Day finished! Price: \n",
      "21\n",
      "Day finished! Price: \n",
      "22\n",
      "Day finished! Price: \n",
      "23\n",
      "Day finished! Price: \n",
      "24\n",
      "Day finished! Price: \n",
      "25\n",
      "Day finished! Price: \n",
      "26\n",
      "Day finished! Price: \n",
      "27\n",
      "Day finished! Price: \n",
      "28\n",
      "Day finished! Price: \n",
      "29\n",
      "Day finished! Price: \n",
      "30\n",
      "Day finished! Price: \n",
      "31\n",
      "Day finished! Price: \n",
      "32\n",
      "Day finished! Price: \n",
      "33\n",
      "Day finished! Price: \n",
      "34\n",
      "Day finished! Price: \n",
      "35\n",
      "Day finished! Price: \n",
      "36\n",
      "Day finished! Price: \n",
      "37\n",
      "Day finished! Price: \n",
      "38\n",
      "Day finished! Price: \n",
      "39\n",
      "Day finished! Price: \n",
      "40\n",
      "Day finished! Price: \n",
      "41\n",
      "Day finished! Price: \n",
      "42\n",
      "Day finished! Price: \n",
      "43\n",
      "Day finished! Price: \n",
      "44\n",
      "Day finished! Price: \n",
      "45\n",
      "Day finished! Price: \n",
      "46\n",
      "Day finished! Price: \n",
      "47\n",
      "Day finished! Price: \n",
      "48\n",
      "Day finished! Price: \n",
      "49\n",
      "Day finished! Price: \n",
      "50\n",
      "Day finished! Price: \n",
      "51\n",
      "Day finished! Price: \n",
      "52\n",
      "Day finished! Price: \n",
      "53\n",
      "Day finished! Price: \n",
      "54\n",
      "Day finished! Price: \n",
      "55\n",
      "Day finished! Price: \n",
      "56\n",
      "Day finished! Price: \n",
      "57\n",
      "Day finished! Price: \n",
      "58\n",
      "Day finished! Price: \n",
      "59\n",
      "Day finished! Price: \n",
      "60\n",
      "Day finished! Price: \n",
      "61\n",
      "Day finished! Price: \n",
      "62\n",
      "Day finished! Price: \n",
      "63\n",
      "Day finished! Price: \n",
      "64\n",
      "Day finished! Price: \n",
      "65\n",
      "Day finished! Price: \n",
      "66\n",
      "Day finished! Price: \n",
      "67\n",
      "Day finished! Price: \n",
      "68\n",
      "Day finished! Price: \n",
      "69\n",
      "Day finished! Price: \n",
      "70\n",
      "Day finished! Price: \n",
      "71\n",
      "Day finished! Price: \n",
      "72\n",
      "Day finished! Price: \n",
      "73\n",
      "Day finished! Price: \n",
      "74\n",
      "Day finished! Price: \n",
      "75\n",
      "Day finished! Price: \n",
      "76\n",
      "Day finished! Price: \n",
      "77\n",
      "Day finished! Price: \n",
      "78\n",
      "Day finished! Price: \n",
      "79\n",
      "Day finished! Price: \n",
      "80\n",
      "Day finished! Price: \n",
      "81\n",
      "Day finished! Price: \n",
      "82\n",
      "Day finished! Price: \n",
      "83\n",
      "Day finished! Price: \n",
      "84\n",
      "Day finished! Price: \n",
      "85\n",
      "Day finished! Price: \n",
      "86\n",
      "Day finished! Price: \n",
      "87\n",
      "Day finished! Price: \n",
      "88\n",
      "Day finished! Price: \n",
      "89\n",
      "Day finished! Price: \n",
      "90\n",
      "Day finished! Price: \n",
      "91\n",
      "Day finished! Price: \n",
      "92\n",
      "Day finished! Price: \n",
      "93\n",
      "Day finished! Price: \n",
      "94\n",
      "Day finished! Price: \n",
      "95\n",
      "Day finished! Price: \n",
      "96\n",
      "Day finished! Price: \n",
      "97\n",
      "Day finished! Price: \n",
      "98\n",
      "Day finished! Price: \n",
      "99\n",
      "Day finished! Price: \n",
      "Could not predict further!\n",
      "100\n",
      "[27.2, 27.3, 27.37, 27.43, 27.47, 27.5, 27.51, 27.52, 27.52, 27.51, 27.5, 27.49, 27.47, 27.46, 27.44, 27.43, 27.42, 27.41, 27.4, 27.39, 27.38, 27.37, 27.37, 27.36, 27.35, 27.35, 27.34, 27.34, 27.33, 27.33, 27.32, 27.32, 27.31, 27.3, 27.3, 27.29, 27.29, 27.28, 27.28, 27.27, 27.27, 27.26, 27.25, 27.25, 27.24, 27.24, 27.23, 27.23, 27.23, 27.23, 27.23, 27.24, 27.24, 27.25, 27.25, 27.25, 27.25, 27.25, 27.25, 27.25, 27.25, 27.25, 27.25, 27.25, 27.25, 27.25, 27.25, 27.25, 27.25, 27.25, 27.25, 27.25, 27.25, 27.25, 27.25, 27.25, 27.25, 27.25, 27.25, 27.25, 27.25, 27.25, 27.25, 27.25, 27.25, 27.25, 27.25, 27.25, 27.25, 27.25, 27.25, 27.25, 27.25, 27.25, 27.25, 27.25, 27.25, 27.25, 27.25]\n"
     ]
    }
   ],
   "source": [
    "predict_nab(last_sixty,model_in,input)"
   ]
  },
  {
   "cell_type": "code",
   "execution_count": 37,
   "metadata": {},
   "outputs": [
    {
     "data": {
      "text/html": [
       "<div>\n",
       "<style scoped>\n",
       "    .dataframe tbody tr th:only-of-type {\n",
       "        vertical-align: middle;\n",
       "    }\n",
       "\n",
       "    .dataframe tbody tr th {\n",
       "        vertical-align: top;\n",
       "    }\n",
       "\n",
       "    .dataframe thead th {\n",
       "        text-align: right;\n",
       "    }\n",
       "</style>\n",
       "<table border=\"1\" class=\"dataframe\">\n",
       "  <thead>\n",
       "    <tr style=\"text-align: right;\">\n",
       "      <th></th>\n",
       "      <th>Count</th>\n",
       "      <th>Date</th>\n",
       "      <th>DOW</th>\n",
       "    </tr>\n",
       "  </thead>\n",
       "  <tbody>\n",
       "    <tr>\n",
       "      <th>0</th>\n",
       "      <td>1</td>\n",
       "      <td>29/06/2022</td>\n",
       "      <td>Wednesday</td>\n",
       "    </tr>\n",
       "    <tr>\n",
       "      <th>1</th>\n",
       "      <td>2</td>\n",
       "      <td>30/06/2022</td>\n",
       "      <td>Thursday</td>\n",
       "    </tr>\n",
       "    <tr>\n",
       "      <th>2</th>\n",
       "      <td>3</td>\n",
       "      <td>1/07/2022</td>\n",
       "      <td>Friday</td>\n",
       "    </tr>\n",
       "    <tr>\n",
       "      <th>3</th>\n",
       "      <td>4</td>\n",
       "      <td>2/07/2022</td>\n",
       "      <td>Monday</td>\n",
       "    </tr>\n",
       "    <tr>\n",
       "      <th>4</th>\n",
       "      <td>5</td>\n",
       "      <td>3/07/2022</td>\n",
       "      <td>Tuesday</td>\n",
       "    </tr>\n",
       "    <tr>\n",
       "      <th>...</th>\n",
       "      <td>...</td>\n",
       "      <td>...</td>\n",
       "      <td>...</td>\n",
       "    </tr>\n",
       "    <tr>\n",
       "      <th>377</th>\n",
       "      <td>0</td>\n",
       "      <td>11/07/2023</td>\n",
       "      <td>Friday</td>\n",
       "    </tr>\n",
       "    <tr>\n",
       "      <th>378</th>\n",
       "      <td>0</td>\n",
       "      <td>12/07/2023</td>\n",
       "      <td>Monday</td>\n",
       "    </tr>\n",
       "    <tr>\n",
       "      <th>379</th>\n",
       "      <td>0</td>\n",
       "      <td>13/07/2023</td>\n",
       "      <td>Tuesday</td>\n",
       "    </tr>\n",
       "    <tr>\n",
       "      <th>380</th>\n",
       "      <td>0</td>\n",
       "      <td>14/07/2023</td>\n",
       "      <td>Wednesday</td>\n",
       "    </tr>\n",
       "    <tr>\n",
       "      <th>381</th>\n",
       "      <td>0</td>\n",
       "      <td>15/07/2023</td>\n",
       "      <td>Thursday</td>\n",
       "    </tr>\n",
       "  </tbody>\n",
       "</table>\n",
       "<p>382 rows × 3 columns</p>\n",
       "</div>"
      ],
      "text/plain": [
       "     Count        Date        DOW\n",
       "0        1  29/06/2022  Wednesday\n",
       "1        2  30/06/2022   Thursday\n",
       "2        3   1/07/2022     Friday\n",
       "3        4   2/07/2022     Monday\n",
       "4        5   3/07/2022    Tuesday\n",
       "..     ...         ...        ...\n",
       "377      0  11/07/2023     Friday\n",
       "378      0  12/07/2023     Monday\n",
       "379      0  13/07/2023    Tuesday\n",
       "380      0  14/07/2023  Wednesday\n",
       "381      0  15/07/2023   Thursday\n",
       "\n",
       "[382 rows x 3 columns]"
      ]
     },
     "execution_count": 37,
     "metadata": {},
     "output_type": "execute_result"
    }
   ],
   "source": [
    "import pandas as pd\n",
    "dates_df = pd.read_csv(\"../static/data/dates.csv\")\n",
    "dates_df['Count'] = dates_df['Count'].fillna(0).astype(int)\n",
    "dates_df"
   ]
  },
  {
   "cell_type": "code",
   "execution_count": 38,
   "metadata": {},
   "outputs": [
    {
     "name": "stderr",
     "output_type": "stream",
     "text": [
      "C:\\Users\\antoi\\AppData\\Local\\Temp/ipykernel_17448/2919172947.py:3: SettingWithCopyWarning: \n",
      "A value is trying to be set on a copy of a slice from a DataFrame.\n",
      "Try using .loc[row_indexer,col_indexer] = value instead\n",
      "\n",
      "See the caveats in the documentation: https://pandas.pydata.org/pandas-docs/stable/user_guide/indexing.html#returning-a-view-versus-a-copy\n",
      "  dates_df_iloc['Price'] = price_list\n"
     ]
    },
    {
     "data": {
      "text/plain": [
       "[{'Count': 1, 'Date': '29/06/2022', 'DOW': 'Wednesday', 'Price': 27.2},\n",
       " {'Count': 2, 'Date': '30/06/2022', 'DOW': 'Thursday', 'Price': 27.3},\n",
       " {'Count': 3, 'Date': '1/07/2022', 'DOW': 'Friday', 'Price': 27.37},\n",
       " {'Count': 4, 'Date': '2/07/2022', 'DOW': 'Monday', 'Price': 27.43},\n",
       " {'Count': 5, 'Date': '3/07/2022', 'DOW': 'Tuesday', 'Price': 27.47},\n",
       " {'Count': 6, 'Date': '4/07/2022', 'DOW': 'Wednesday', 'Price': 27.5},\n",
       " {'Count': 7, 'Date': '5/07/2022', 'DOW': 'Thursday', 'Price': 27.51},\n",
       " {'Count': 8, 'Date': '6/07/2022', 'DOW': 'Friday', 'Price': 27.52},\n",
       " {'Count': 9, 'Date': '7/07/2022', 'DOW': 'Monday', 'Price': 27.52},\n",
       " {'Count': 10, 'Date': '8/07/2022', 'DOW': 'Tuesday', 'Price': 27.51},\n",
       " {'Count': 11, 'Date': '9/07/2022', 'DOW': 'Wednesday', 'Price': 27.5},\n",
       " {'Count': 12, 'Date': '10/07/2022', 'DOW': 'Thursday', 'Price': 27.49},\n",
       " {'Count': 13, 'Date': '11/07/2022', 'DOW': 'Friday', 'Price': 27.47},\n",
       " {'Count': 14, 'Date': '12/07/2022', 'DOW': 'Monday', 'Price': 27.46},\n",
       " {'Count': 15, 'Date': '13/07/2022', 'DOW': 'Tuesday', 'Price': 27.44},\n",
       " {'Count': 16, 'Date': '14/07/2022', 'DOW': 'Wednesday', 'Price': 27.43},\n",
       " {'Count': 17, 'Date': '15/07/2022', 'DOW': 'Thursday', 'Price': 27.42},\n",
       " {'Count': 18, 'Date': '16/07/2022', 'DOW': 'Friday', 'Price': 27.41},\n",
       " {'Count': 19, 'Date': '17/07/2022', 'DOW': 'Monday', 'Price': 27.4},\n",
       " {'Count': 20, 'Date': '18/07/2022', 'DOW': 'Tuesday', 'Price': 27.39},\n",
       " {'Count': 21, 'Date': '19/07/2022', 'DOW': 'Wednesday', 'Price': 27.38},\n",
       " {'Count': 22, 'Date': '20/07/2022', 'DOW': 'Thursday', 'Price': 27.37},\n",
       " {'Count': 23, 'Date': '21/07/2022', 'DOW': 'Friday', 'Price': 27.37},\n",
       " {'Count': 24, 'Date': '22/07/2022', 'DOW': 'Monday', 'Price': 27.36},\n",
       " {'Count': 25, 'Date': '23/07/2022', 'DOW': 'Tuesday', 'Price': 27.35},\n",
       " {'Count': 26, 'Date': '24/07/2022', 'DOW': 'Wednesday', 'Price': 27.35},\n",
       " {'Count': 27, 'Date': '25/07/2022', 'DOW': 'Thursday', 'Price': 27.34},\n",
       " {'Count': 28, 'Date': '26/07/2022', 'DOW': 'Friday', 'Price': 27.34},\n",
       " {'Count': 29, 'Date': '27/07/2022', 'DOW': 'Monday', 'Price': 27.33},\n",
       " {'Count': 30, 'Date': '28/07/2022', 'DOW': 'Tuesday', 'Price': 27.33},\n",
       " {'Count': 31, 'Date': '29/07/2022', 'DOW': 'Wednesday', 'Price': 27.32},\n",
       " {'Count': 32, 'Date': '30/07/2022', 'DOW': 'Thursday', 'Price': 27.32},\n",
       " {'Count': 33, 'Date': '31/07/2022', 'DOW': 'Friday', 'Price': 27.31},\n",
       " {'Count': 34, 'Date': '1/08/2022', 'DOW': 'Monday', 'Price': 27.3},\n",
       " {'Count': 35, 'Date': '2/08/2022', 'DOW': 'Tuesday', 'Price': 27.3},\n",
       " {'Count': 36, 'Date': '3/08/2022', 'DOW': 'Wednesday', 'Price': 27.29},\n",
       " {'Count': 37, 'Date': '4/08/2022', 'DOW': 'Thursday', 'Price': 27.29},\n",
       " {'Count': 38, 'Date': '5/08/2022', 'DOW': 'Friday', 'Price': 27.28},\n",
       " {'Count': 39, 'Date': '6/08/2022', 'DOW': 'Monday', 'Price': 27.28},\n",
       " {'Count': 40, 'Date': '7/08/2022', 'DOW': 'Tuesday', 'Price': 27.27},\n",
       " {'Count': 41, 'Date': '8/08/2022', 'DOW': 'Wednesday', 'Price': 27.27},\n",
       " {'Count': 42, 'Date': '9/08/2022', 'DOW': 'Thursday', 'Price': 27.26},\n",
       " {'Count': 43, 'Date': '10/08/2022', 'DOW': 'Friday', 'Price': 27.25},\n",
       " {'Count': 44, 'Date': '11/08/2022', 'DOW': 'Monday', 'Price': 27.25},\n",
       " {'Count': 45, 'Date': '12/08/2022', 'DOW': 'Tuesday', 'Price': 27.24},\n",
       " {'Count': 46, 'Date': '13/08/2022', 'DOW': 'Wednesday', 'Price': 27.24},\n",
       " {'Count': 47, 'Date': '14/08/2022', 'DOW': 'Thursday', 'Price': 27.23},\n",
       " {'Count': 48, 'Date': '15/08/2022', 'DOW': 'Friday', 'Price': 27.23},\n",
       " {'Count': 49, 'Date': '16/08/2022', 'DOW': 'Monday', 'Price': 27.23},\n",
       " {'Count': 50, 'Date': '17/08/2022', 'DOW': 'Tuesday', 'Price': 27.23},\n",
       " {'Count': 51, 'Date': '18/08/2022', 'DOW': 'Wednesday', 'Price': 27.23},\n",
       " {'Count': 52, 'Date': '19/08/2022', 'DOW': 'Thursday', 'Price': 27.24},\n",
       " {'Count': 53, 'Date': '20/08/2022', 'DOW': 'Friday', 'Price': 27.24},\n",
       " {'Count': 54, 'Date': '21/08/2022', 'DOW': 'Monday', 'Price': 27.25},\n",
       " {'Count': 55, 'Date': '22/08/2022', 'DOW': 'Tuesday', 'Price': 27.25},\n",
       " {'Count': 56, 'Date': '23/08/2022', 'DOW': 'Wednesday', 'Price': 27.25},\n",
       " {'Count': 57, 'Date': '24/08/2022', 'DOW': 'Thursday', 'Price': 27.25},\n",
       " {'Count': 58, 'Date': '25/08/2022', 'DOW': 'Friday', 'Price': 27.25},\n",
       " {'Count': 59, 'Date': '26/08/2022', 'DOW': 'Monday', 'Price': 27.25},\n",
       " {'Count': 60, 'Date': '27/08/2022', 'DOW': 'Tuesday', 'Price': 27.25},\n",
       " {'Count': 61, 'Date': '28/08/2022', 'DOW': 'Wednesday', 'Price': 27.25},\n",
       " {'Count': 62, 'Date': '29/08/2022', 'DOW': 'Thursday', 'Price': 27.25},\n",
       " {'Count': 63, 'Date': '30/08/2022', 'DOW': 'Friday', 'Price': 27.25},\n",
       " {'Count': 64, 'Date': '31/08/2022', 'DOW': 'Monday', 'Price': 27.25},\n",
       " {'Count': 65, 'Date': '1/09/2022', 'DOW': 'Tuesday', 'Price': 27.25},\n",
       " {'Count': 66, 'Date': '2/09/2022', 'DOW': 'Wednesday', 'Price': 27.25},\n",
       " {'Count': 67, 'Date': '3/09/2022', 'DOW': 'Thursday', 'Price': 27.25},\n",
       " {'Count': 68, 'Date': '4/09/2022', 'DOW': 'Friday', 'Price': 27.25},\n",
       " {'Count': 69, 'Date': '5/09/2022', 'DOW': 'Monday', 'Price': 27.25},\n",
       " {'Count': 70, 'Date': '6/09/2022', 'DOW': 'Tuesday', 'Price': 27.25},\n",
       " {'Count': 71, 'Date': '7/09/2022', 'DOW': 'Wednesday', 'Price': 27.25},\n",
       " {'Count': 72, 'Date': '8/09/2022', 'DOW': 'Thursday', 'Price': 27.25},\n",
       " {'Count': 73, 'Date': '9/09/2022', 'DOW': 'Friday', 'Price': 27.25},\n",
       " {'Count': 74, 'Date': '10/09/2022', 'DOW': 'Monday', 'Price': 27.25},\n",
       " {'Count': 75, 'Date': '11/09/2022', 'DOW': 'Tuesday', 'Price': 27.25},\n",
       " {'Count': 76, 'Date': '12/09/2022', 'DOW': 'Wednesday', 'Price': 27.25},\n",
       " {'Count': 77, 'Date': '13/09/2022', 'DOW': 'Thursday', 'Price': 27.25},\n",
       " {'Count': 78, 'Date': '14/09/2022', 'DOW': 'Friday', 'Price': 27.25},\n",
       " {'Count': 79, 'Date': '15/09/2022', 'DOW': 'Monday', 'Price': 27.25},\n",
       " {'Count': 80, 'Date': '16/09/2022', 'DOW': 'Tuesday', 'Price': 27.25},\n",
       " {'Count': 81, 'Date': '17/09/2022', 'DOW': 'Wednesday', 'Price': 27.25},\n",
       " {'Count': 82, 'Date': '18/09/2022', 'DOW': 'Thursday', 'Price': 27.25},\n",
       " {'Count': 83, 'Date': '19/09/2022', 'DOW': 'Friday', 'Price': 27.25},\n",
       " {'Count': 84, 'Date': '20/09/2022', 'DOW': 'Monday', 'Price': 27.25},\n",
       " {'Count': 85, 'Date': '21/09/2022', 'DOW': 'Tuesday', 'Price': 27.25},\n",
       " {'Count': 86, 'Date': '22/09/2022', 'DOW': 'Wednesday', 'Price': 27.25},\n",
       " {'Count': 87, 'Date': '23/09/2022', 'DOW': 'Thursday', 'Price': 27.25},\n",
       " {'Count': 88, 'Date': '24/09/2022', 'DOW': 'Friday', 'Price': 27.25},\n",
       " {'Count': 89, 'Date': '25/09/2022', 'DOW': 'Monday', 'Price': 27.25},\n",
       " {'Count': 90, 'Date': '26/09/2022', 'DOW': 'Tuesday', 'Price': 27.25},\n",
       " {'Count': 91, 'Date': '27/09/2022', 'DOW': 'Wednesday', 'Price': 27.25},\n",
       " {'Count': 92, 'Date': '28/09/2022', 'DOW': 'Thursday', 'Price': 27.25},\n",
       " {'Count': 93, 'Date': '29/09/2022', 'DOW': 'Friday', 'Price': 27.25},\n",
       " {'Count': 94, 'Date': '30/09/2022', 'DOW': 'Monday', 'Price': 27.25},\n",
       " {'Count': 95, 'Date': '1/10/2022', 'DOW': 'Tuesday', 'Price': 27.25},\n",
       " {'Count': 96, 'Date': '2/10/2022', 'DOW': 'Wednesday', 'Price': 27.25},\n",
       " {'Count': 97, 'Date': '3/10/2022', 'DOW': 'Thursday', 'Price': 27.25},\n",
       " {'Count': 98, 'Date': '4/10/2022', 'DOW': 'Friday', 'Price': 27.25},\n",
       " {'Count': 99, 'Date': '5/10/2022', 'DOW': 'Monday', 'Price': 27.25}]"
      ]
     },
     "execution_count": 38,
     "metadata": {},
     "output_type": "execute_result"
    }
   ],
   "source": [
    "#Append the input amount of trading days to dates dictionary\n",
    "dates_df_iloc = dates_df.iloc[0:input-1]\n",
    "dates_df_iloc['Price'] = price_list\n",
    "my_dict = dates_df_iloc.to_dict(orient='records')\n",
    "my_dict"
   ]
  },
  {
   "cell_type": "code",
   "execution_count": 39,
   "metadata": {},
   "outputs": [
    {
     "data": {
      "text/plain": [
       "[{'Price': 27.2},\n",
       " {'Price': 27.3},\n",
       " {'Price': 27.37},\n",
       " {'Price': 27.43},\n",
       " {'Price': 27.47},\n",
       " {'Price': 27.5},\n",
       " {'Price': 27.51},\n",
       " {'Price': 27.52},\n",
       " {'Price': 27.52},\n",
       " {'Price': 27.51},\n",
       " {'Price': 27.5},\n",
       " {'Price': 27.49},\n",
       " {'Price': 27.47},\n",
       " {'Price': 27.46},\n",
       " {'Price': 27.44},\n",
       " {'Price': 27.43},\n",
       " {'Price': 27.42},\n",
       " {'Price': 27.41},\n",
       " {'Price': 27.4},\n",
       " {'Price': 27.39},\n",
       " {'Price': 27.38},\n",
       " {'Price': 27.37},\n",
       " {'Price': 27.37},\n",
       " {'Price': 27.36},\n",
       " {'Price': 27.35},\n",
       " {'Price': 27.35},\n",
       " {'Price': 27.34},\n",
       " {'Price': 27.34},\n",
       " {'Price': 27.33},\n",
       " {'Price': 27.33},\n",
       " {'Price': 27.32},\n",
       " {'Price': 27.32},\n",
       " {'Price': 27.31},\n",
       " {'Price': 27.3},\n",
       " {'Price': 27.3},\n",
       " {'Price': 27.29},\n",
       " {'Price': 27.29},\n",
       " {'Price': 27.28},\n",
       " {'Price': 27.28},\n",
       " {'Price': 27.27},\n",
       " {'Price': 27.27},\n",
       " {'Price': 27.26},\n",
       " {'Price': 27.25},\n",
       " {'Price': 27.25},\n",
       " {'Price': 27.24},\n",
       " {'Price': 27.24},\n",
       " {'Price': 27.23},\n",
       " {'Price': 27.23},\n",
       " {'Price': 27.23},\n",
       " {'Price': 27.23},\n",
       " {'Price': 27.23},\n",
       " {'Price': 27.24},\n",
       " {'Price': 27.24},\n",
       " {'Price': 27.25},\n",
       " {'Price': 27.25},\n",
       " {'Price': 27.25},\n",
       " {'Price': 27.25},\n",
       " {'Price': 27.25},\n",
       " {'Price': 27.25},\n",
       " {'Price': 27.25},\n",
       " {'Price': 27.25},\n",
       " {'Price': 27.25},\n",
       " {'Price': 27.25},\n",
       " {'Price': 27.25},\n",
       " {'Price': 27.25},\n",
       " {'Price': 27.25},\n",
       " {'Price': 27.25},\n",
       " {'Price': 27.25},\n",
       " {'Price': 27.25},\n",
       " {'Price': 27.25},\n",
       " {'Price': 27.25},\n",
       " {'Price': 27.25},\n",
       " {'Price': 27.25},\n",
       " {'Price': 27.25},\n",
       " {'Price': 27.25},\n",
       " {'Price': 27.25},\n",
       " {'Price': 27.25},\n",
       " {'Price': 27.25},\n",
       " {'Price': 27.25},\n",
       " {'Price': 27.25},\n",
       " {'Price': 27.25},\n",
       " {'Price': 27.25},\n",
       " {'Price': 27.25},\n",
       " {'Price': 27.25},\n",
       " {'Price': 27.25},\n",
       " {'Price': 27.25},\n",
       " {'Price': 27.25},\n",
       " {'Price': 27.25},\n",
       " {'Price': 27.25},\n",
       " {'Price': 27.25},\n",
       " {'Price': 27.25},\n",
       " {'Price': 27.25},\n",
       " {'Price': 27.25},\n",
       " {'Price': 27.25},\n",
       " {'Price': 27.25},\n",
       " {'Price': 27.25},\n",
       " {'Price': 27.25},\n",
       " {'Price': 27.25},\n",
       " {'Price': 27.25}]"
      ]
     },
     "execution_count": 39,
     "metadata": {},
     "output_type": "execute_result"
    }
   ],
   "source": [
    "price_dict = [dict(zip(['Price'],[x])) for x in price_list]\n",
    "price_dict"
   ]
  },
  {
   "cell_type": "code",
   "execution_count": 40,
   "metadata": {},
   "outputs": [
    {
     "name": "stdout",
     "output_type": "stream",
     "text": [
      "4552 5690 5790\n"
     ]
    },
    {
     "data": {
      "text/html": [
       "<div>\n",
       "<style scoped>\n",
       "    .dataframe tbody tr th:only-of-type {\n",
       "        vertical-align: middle;\n",
       "    }\n",
       "\n",
       "    .dataframe tbody tr th {\n",
       "        vertical-align: top;\n",
       "    }\n",
       "\n",
       "    .dataframe thead th {\n",
       "        text-align: right;\n",
       "    }\n",
       "</style>\n",
       "<table border=\"1\" class=\"dataframe\">\n",
       "  <thead>\n",
       "    <tr style=\"text-align: right;\">\n",
       "      <th></th>\n",
       "      <th>Close</th>\n",
       "    </tr>\n",
       "  </thead>\n",
       "  <tbody>\n",
       "    <tr>\n",
       "      <th>5779</th>\n",
       "      <td>27.25</td>\n",
       "    </tr>\n",
       "    <tr>\n",
       "      <th>5780</th>\n",
       "      <td>27.25</td>\n",
       "    </tr>\n",
       "    <tr>\n",
       "      <th>5781</th>\n",
       "      <td>27.25</td>\n",
       "    </tr>\n",
       "    <tr>\n",
       "      <th>5782</th>\n",
       "      <td>27.25</td>\n",
       "    </tr>\n",
       "    <tr>\n",
       "      <th>5783</th>\n",
       "      <td>27.25</td>\n",
       "    </tr>\n",
       "    <tr>\n",
       "      <th>5784</th>\n",
       "      <td>27.25</td>\n",
       "    </tr>\n",
       "    <tr>\n",
       "      <th>5785</th>\n",
       "      <td>27.25</td>\n",
       "    </tr>\n",
       "    <tr>\n",
       "      <th>5786</th>\n",
       "      <td>27.25</td>\n",
       "    </tr>\n",
       "    <tr>\n",
       "      <th>5787</th>\n",
       "      <td>27.25</td>\n",
       "    </tr>\n",
       "    <tr>\n",
       "      <th>5788</th>\n",
       "      <td>27.25</td>\n",
       "    </tr>\n",
       "  </tbody>\n",
       "</table>\n",
       "</div>"
      ],
      "text/plain": [
       "      Close\n",
       "5779  27.25\n",
       "5780  27.25\n",
       "5781  27.25\n",
       "5782  27.25\n",
       "5783  27.25\n",
       "5784  27.25\n",
       "5785  27.25\n",
       "5786  27.25\n",
       "5787  27.25\n",
       "5788  27.25"
      ]
     },
     "execution_count": 40,
     "metadata": {},
     "output_type": "execute_result"
    }
   ],
   "source": [
    "df_len = len(df.index) # length of the original dataframe\n",
    "col_name = ['Close']\n",
    "df_filtered = df.filter(col_name)\n",
    "df_filtered_len = len(df_filtered.index)\n",
    "df_filtered_len\n",
    "len_pred_df = df_filtered_len+input # length of the original dataframe plus the users new inputs\n",
    "print(train_data_len,df_len,len_pred_df)\n",
    "new_data =df_filtered.append(pd.DataFrame(price_list,columns=col_name),ignore_index=True)\n",
    "new_data.tail(10)"
   ]
  },
  {
   "cell_type": "code",
   "execution_count": 41,
   "metadata": {},
   "outputs": [
    {
     "name": "stderr",
     "output_type": "stream",
     "text": [
      "C:\\Users\\antoi\\AppData\\Local\\Temp/ipykernel_17448/2154112330.py:6: SettingWithCopyWarning: \n",
      "A value is trying to be set on a copy of a slice from a DataFrame.\n",
      "Try using .loc[row_indexer,col_indexer] = value instead\n",
      "\n",
      "See the caveats in the documentation: https://pandas.pydata.org/pandas-docs/stable/user_guide/indexing.html#returning-a-view-versus-a-copy\n",
      "  valid['Predictions'] = predictions # another column for validating test\n"
     ]
    },
    {
     "data": {
      "image/png": "[encoded data removed]",
      "text/plain": [
       "<Figure size 1152x576 with 1 Axes>"
      ]
     },
     "metadata": {},
     "output_type": "display_data"
    }
   ],
   "source": [
    "#Plot the data to validate the test data\n",
    "\n",
    "plt.style.use('fivethirtyeight')\n",
    "train = new_data.iloc[:train_data_len] # actual train data from 0 rows until train data end\n",
    "valid = new_data.iloc[train_data_len:df_len] # actual test data from train data end until end of all sampled data\n",
    "valid['Predictions'] = predictions # another column for validating test\n",
    "predict = new_data.iloc[df_len:len_pred_df] # user prediction data from loop\n",
    "\n",
    "plt.figure(figsize=(16,8))\n",
    "plt.title('PREDICTION - NAB Share Price - LSTM Model')\n",
    "plt.xlabel('Trading Date', fontsize=18)\n",
    "plt.ylabel('Close Price AUD ($)',fontsize=18)\n",
    "plt.plot(train['Close'])\n",
    "plt.plot(valid[['Close','Predictions']])\n",
    "plt.plot(predict['Close'])\n",
    "plt.legend(['Training data','Tested data','Validate test data','Prediction'],loc='lower right')\n",
    "x = np.arange(2000,2024,4)\n",
    "plt.xticks([0,1000,2000,3000,4000,5000],x)\n",
    "plt.savefig('../static/data/images/nab_predict_graph.png')\n",
    "plt.show()"
   ]
  },
  {
   "cell_type": "code",
   "execution_count": null,
   "metadata": {},
   "outputs": [],
   "source": []
  },
  {
   "cell_type": "markdown",
   "metadata": {},
   "source": [
    "#Save predicted price to MongoDB"
   ]
  },
  {
   "cell_type": "code",
   "execution_count": 42,
   "metadata": {},
   "outputs": [],
   "source": [
    "# # Module used to connect Python with MongoDb\n",
    "# import pymongo"
   ]
  },
  {
   "cell_type": "code",
   "execution_count": 43,
   "metadata": {},
   "outputs": [],
   "source": [
    "# # The default port used by MongoDB is 27017\n",
    "# # https://docs.mongodb.com/manual/reference/default-mongodb-port/\n",
    "# conn = 'mongodb://localhost:27017'\n",
    "# client = pymongo.MongoClient(conn)\n",
    "\n",
    "# # Define the 'sharesDB' database in Mongo\n",
    "# db = client.sharesDB"
   ]
  },
  {
   "cell_type": "code",
   "execution_count": 44,
   "metadata": {},
   "outputs": [],
   "source": [
    "# # Query all\n",
    "# # Here, db.companys refers to the collection 'companys '\n",
    "# companys = db.companys.find()\n",
    "\n",
    "# # Iterate through each company in the collection\n",
    "# for company in companys:\n",
    "#     print(company)"
   ]
  },
  {
   "cell_type": "code",
   "execution_count": 45,
   "metadata": {},
   "outputs": [],
   "source": [
    "# # Set keys and values of company\n",
    "# name = 'NAB'\n",
    "# predicted = int(pred_price)\n",
    "# difference = pred_price-actual_price\n",
    "# print(f'date {actual_date},predicted {predicted},actual {actual_price}, difference {difference}')"
   ]
  },
  {
   "cell_type": "code",
   "execution_count": 46,
   "metadata": {},
   "outputs": [],
   "source": [
    "# # Insert a document into the 'companys' collection\n",
    "# db.companys.insert_one(\n",
    "#     {\n",
    "#       'model': 'LSTM',\n",
    "#       'name': name,\n",
    "#       'date': actual_date,\n",
    "#       'predicted': predicted,\n",
    "#       'actual': actual_price,\n",
    "#       'differece': difference\n",
    "#     }\n",
    "# )\n",
    "\n",
    "# # query the classroom collection\n",
    "# companys = db.companys.find()\n",
    "\n",
    "# # see change in collection\n",
    "# for company in companys:\n",
    "#     print(company)"
   ]
  },
  {
   "cell_type": "code",
   "execution_count": 47,
   "metadata": {},
   "outputs": [],
   "source": [
    "# # Delete a document from a collection\n",
    "# db.companys.delete_one(\n",
    "#     {'name': 'NAB'}\n",
    "# )\n",
    "\n",
    "# # query the companys collection\n",
    "# companys = db.companys.find()\n",
    "\n",
    "# # see change in the collection\n",
    "# for company in companys:\n",
    "#     print(company)"
   ]
  },
  {
   "cell_type": "code",
   "execution_count": 48,
   "metadata": {},
   "outputs": [],
   "source": [
    "# from pymongo import MongoClient\n",
    "# mongoClient = MongoClient()\n",
    "# db = mongoClient.sharesDB\n",
    "# db.nab.drop()\n",
    "\n",
    "# import csv\n",
    "# header = [\"Date\",\"Open\",\"High\",\"Low\",\"Close\",\"Adj Close\",\"Volume\",\"SENTIMENT\",\"RBA\",\"FED\"]\n",
    "# csvfile = open('../static/data/nab.csv', 'r')\n",
    "# reader = csv.DictReader( csvfile )\n",
    "\n",
    "# for each in reader:\n",
    "#     row={}\n",
    "#     for field in header:\n",
    "#         row[field]=each[field]\n",
    "        \n",
    "#     print (row)\n",
    "#     db.nab.insert_one(row)\t\t\t\t "
   ]
  },
  {
   "cell_type": "code",
   "execution_count": 49,
   "metadata": {},
   "outputs": [],
   "source": [
    "# # query the collection\n",
    "# nabs = db.nab.find()\n",
    "\n",
    "# # see change in collection\n",
    "# for nab in nabs:\n",
    "#     print(nab)"
   ]
  }
 ],
 "metadata": {
  "kernel_info": {
   "name": "dev"
  },
  "kernelspec": {
   "display_name": "Python 3.9.7 ('base')",
   "language": "python",
   "name": "python3"
  },
  "language_info": {
   "codemirror_mode": {
    "name": "ipython",
    "version": 3
   },
   "file_extension": ".py",
   "mimetype": "text/x-python",
   "name": "python",
   "nbconvert_exporter": "python",
   "pygments_lexer": "ipython3",
   "version": "3.9.7"
  },
  "nteract": {
   "version": "0.12.3"
  },
  "vscode": {
   "interpreter": {
    "hash": "45bb1cb4637e4034484920e5cfb24c9afd84b0847d6c36e39edd3067d3a05462"
   }
  }
 },
 "nbformat": 4,
 "nbformat_minor": 2
}
