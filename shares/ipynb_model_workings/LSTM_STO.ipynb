{
 "cells": [
  {
   "cell_type": "markdown",
   "metadata": {},
   "source": [
    "#This model uses LSTM to predict a Daily share price movements based on time series and batches of 60 days"
   ]
  },
  {
   "cell_type": "markdown",
   "metadata": {},
   "source": [
    "# Read the CSV and Perform Basic Data Cleaning"
   ]
  },
  {
   "cell_type": "code",
   "execution_count": 1,
   "metadata": {},
   "outputs": [],
   "source": [
    "import matplotlib.pyplot as plt\n",
    "import numpy as np\n",
    "import pandas as pd"
   ]
  },
  {
   "cell_type": "code",
   "execution_count": 2,
   "metadata": {},
   "outputs": [
    {
     "data": {
      "text/html": [
       "<div>\n",
       "<style scoped>\n",
       "    .dataframe tbody tr th:only-of-type {\n",
       "        vertical-align: middle;\n",
       "    }\n",
       "\n",
       "    .dataframe tbody tr th {\n",
       "        vertical-align: top;\n",
       "    }\n",
       "\n",
       "    .dataframe thead th {\n",
       "        text-align: right;\n",
       "    }\n",
       "</style>\n",
       "<table border=\"1\" class=\"dataframe\">\n",
       "  <thead>\n",
       "    <tr style=\"text-align: right;\">\n",
       "      <th></th>\n",
       "      <th>Date</th>\n",
       "      <th>Open</th>\n",
       "      <th>High</th>\n",
       "      <th>Low</th>\n",
       "      <th>Close</th>\n",
       "      <th>Adj Close</th>\n",
       "      <th>Volume</th>\n",
       "      <th>RBA</th>\n",
       "      <th>FED</th>\n",
       "      <th>CPI</th>\n",
       "    </tr>\n",
       "  </thead>\n",
       "  <tbody>\n",
       "    <tr>\n",
       "      <th>8854</th>\n",
       "      <td>25/07/2022</td>\n",
       "      <td>6.97</td>\n",
       "      <td>7.06</td>\n",
       "      <td>6.950</td>\n",
       "      <td>6.99</td>\n",
       "      <td>6.99</td>\n",
       "      <td>8681065.0</td>\n",
       "      <td>1.35</td>\n",
       "      <td>1.75</td>\n",
       "      <td>125.0</td>\n",
       "    </tr>\n",
       "    <tr>\n",
       "      <th>8855</th>\n",
       "      <td>26/07/2022</td>\n",
       "      <td>7.11</td>\n",
       "      <td>7.19</td>\n",
       "      <td>7.090</td>\n",
       "      <td>7.17</td>\n",
       "      <td>7.17</td>\n",
       "      <td>8187906.0</td>\n",
       "      <td>1.35</td>\n",
       "      <td>1.75</td>\n",
       "      <td>125.0</td>\n",
       "    </tr>\n",
       "    <tr>\n",
       "      <th>8856</th>\n",
       "      <td>27/07/2022</td>\n",
       "      <td>7.09</td>\n",
       "      <td>7.18</td>\n",
       "      <td>7.080</td>\n",
       "      <td>7.17</td>\n",
       "      <td>7.17</td>\n",
       "      <td>4226467.0</td>\n",
       "      <td>1.35</td>\n",
       "      <td>2.50</td>\n",
       "      <td>125.0</td>\n",
       "    </tr>\n",
       "    <tr>\n",
       "      <th>8857</th>\n",
       "      <td>28/07/2022</td>\n",
       "      <td>7.37</td>\n",
       "      <td>7.38</td>\n",
       "      <td>7.200</td>\n",
       "      <td>7.24</td>\n",
       "      <td>7.24</td>\n",
       "      <td>7646057.0</td>\n",
       "      <td>1.35</td>\n",
       "      <td>2.50</td>\n",
       "      <td>125.0</td>\n",
       "    </tr>\n",
       "    <tr>\n",
       "      <th>8858</th>\n",
       "      <td>29/07/2022</td>\n",
       "      <td>7.36</td>\n",
       "      <td>7.44</td>\n",
       "      <td>7.285</td>\n",
       "      <td>7.30</td>\n",
       "      <td>7.30</td>\n",
       "      <td>16205969.0</td>\n",
       "      <td>1.35</td>\n",
       "      <td>2.50</td>\n",
       "      <td>125.0</td>\n",
       "    </tr>\n",
       "  </tbody>\n",
       "</table>\n",
       "</div>"
      ],
      "text/plain": [
       "            Date  Open  High    Low  Close  Adj Close      Volume   RBA   FED  \\\n",
       "8854  25/07/2022  6.97  7.06  6.950   6.99       6.99   8681065.0  1.35  1.75   \n",
       "8855  26/07/2022  7.11  7.19  7.090   7.17       7.17   8187906.0  1.35  1.75   \n",
       "8856  27/07/2022  7.09  7.18  7.080   7.17       7.17   4226467.0  1.35  2.50   \n",
       "8857  28/07/2022  7.37  7.38  7.200   7.24       7.24   7646057.0  1.35  2.50   \n",
       "8858  29/07/2022  7.36  7.44  7.285   7.30       7.30  16205969.0  1.35  2.50   \n",
       "\n",
       "        CPI  \n",
       "8854  125.0  \n",
       "8855  125.0  \n",
       "8856  125.0  \n",
       "8857  125.0  \n",
       "8858  125.0  "
      ]
     },
     "execution_count": 2,
     "metadata": {},
     "output_type": "execute_result"
    }
   ],
   "source": [
    "df_stock1 = pd.read_csv(\"../static/data/sto.csv\")\n",
    "# Drop the null columns where all values are null\n",
    "df_stock2 = df_stock1.dropna(axis='columns', how='all')\n",
    "# Drop the null rows\n",
    "df = df_stock2.dropna()\n",
    "# Drop the last rows to test prediction to actual\n",
    "df_stock_less1= df_stock2.iloc[:-1,:]\n",
    "df.tail()"
   ]
  },
  {
   "cell_type": "code",
   "execution_count": 3,
   "metadata": {},
   "outputs": [
    {
     "data": {
      "text/plain": [
       "<pymongo.results.InsertManyResult at 0x27043584c80>"
      ]
     },
     "execution_count": 3,
     "metadata": {},
     "output_type": "execute_result"
    }
   ],
   "source": [
    "# Connect to MongoDb\n",
    "from pymongo import MongoClient\n",
    "mongoClient = MongoClient()\n",
    "db = mongoClient.sharesDB\n",
    "\n",
    "# # Drop all previous records now in MongoDb\n",
    "# db.sto.drop()\n",
    "\n",
    "# # Insert df records in mongodb\n",
    "# records=df.to_dict('records')\n",
    "# records\n",
    "# db.sto.insert_many(records)"
   ]
  },
  {
   "cell_type": "code",
   "execution_count": 4,
   "metadata": {},
   "outputs": [
    {
     "name": "stdout",
     "output_type": "stream",
     "text": [
      "DELETE: 29/07/2022 7.3\n"
     ]
    },
    {
     "data": {
      "text/plain": [
       "<pymongo.results.DeleteResult at 0x27042cf32c0>"
      ]
     },
     "execution_count": 4,
     "metadata": {},
     "output_type": "execute_result"
    }
   ],
   "source": [
    "#Update latest data in mongoDb\n",
    "df_mongo = pd.DataFrame(list(db.sto.find()))\n",
    "last_val = df_mongo.iloc[-1:].values\n",
    "\n",
    "last_date = last_val[0][1]\n",
    "last_close = last_val[0][5]\n",
    "print(\"DELETE: \"+last_date,last_close)\n",
    "\n",
    "db.sto.delete_one(\n",
    "    {'Date': last_date}\n",
    ")"
   ]
  },
  {
   "cell_type": "code",
   "execution_count": 5,
   "metadata": {},
   "outputs": [
    {
     "name": "stdout",
     "output_type": "stream",
     "text": [
      "NEW LAST VALUE IN MONGODB: 28/07/2022 7.24\n",
      "Previous last date in MongoDb: 28-07-2022. Today's date: 03-08-2022\n"
     ]
    }
   ],
   "source": [
    "#Update latest data in mongoDb\n",
    "df_mongo = pd.DataFrame(list(db.sto.find()))\n",
    "last_val = df_mongo.iloc[-1:].values\n",
    "\n",
    "last_date = last_val[0][1]\n",
    "last_close = last_val[0][5]\n",
    "print(\"NEW LAST VALUE IN MONGODB: \"+last_date,last_close)\n",
    "\n",
    "from datetime import date,datetime\n",
    "todaydt = date.today()\n",
    "today=todaydt.strftime('%d-%m-%Y')\n",
    "from_date = datetime.strptime(last_date, '%d/%m/%Y')\n",
    "last_date=from_date.strftime('%d-%m-%Y')\n",
    "print(\"Previous last date in MongoDb: \"+last_date+\". Today's date: \"+today)"
   ]
  },
  {
   "cell_type": "code",
   "execution_count": 6,
   "metadata": {},
   "outputs": [
    {
     "data": {
      "text/html": [
       "<div>\n",
       "<style scoped>\n",
       "    .dataframe tbody tr th:only-of-type {\n",
       "        vertical-align: middle;\n",
       "    }\n",
       "\n",
       "    .dataframe tbody tr th {\n",
       "        vertical-align: top;\n",
       "    }\n",
       "\n",
       "    .dataframe thead th {\n",
       "        text-align: right;\n",
       "    }\n",
       "</style>\n",
       "<table border=\"1\" class=\"dataframe\">\n",
       "  <thead>\n",
       "    <tr style=\"text-align: right;\">\n",
       "      <th></th>\n",
       "      <th>High</th>\n",
       "      <th>Low</th>\n",
       "      <th>Open</th>\n",
       "      <th>Close</th>\n",
       "      <th>Volume</th>\n",
       "      <th>Adj Close</th>\n",
       "    </tr>\n",
       "    <tr>\n",
       "      <th>Date</th>\n",
       "      <th></th>\n",
       "      <th></th>\n",
       "      <th></th>\n",
       "      <th></th>\n",
       "      <th></th>\n",
       "      <th></th>\n",
       "    </tr>\n",
       "  </thead>\n",
       "  <tbody>\n",
       "    <tr>\n",
       "      <th>2022-07-28</th>\n",
       "      <td>7.38</td>\n",
       "      <td>7.200</td>\n",
       "      <td>7.37</td>\n",
       "      <td>7.24</td>\n",
       "      <td>7646057</td>\n",
       "      <td>7.24</td>\n",
       "    </tr>\n",
       "    <tr>\n",
       "      <th>2022-07-29</th>\n",
       "      <td>7.44</td>\n",
       "      <td>7.285</td>\n",
       "      <td>7.36</td>\n",
       "      <td>7.30</td>\n",
       "      <td>16205969</td>\n",
       "      <td>7.30</td>\n",
       "    </tr>\n",
       "    <tr>\n",
       "      <th>2022-08-01</th>\n",
       "      <td>7.43</td>\n",
       "      <td>7.300</td>\n",
       "      <td>7.42</td>\n",
       "      <td>7.38</td>\n",
       "      <td>10861226</td>\n",
       "      <td>7.38</td>\n",
       "    </tr>\n",
       "    <tr>\n",
       "      <th>2022-08-02</th>\n",
       "      <td>7.33</td>\n",
       "      <td>7.220</td>\n",
       "      <td>7.30</td>\n",
       "      <td>7.24</td>\n",
       "      <td>10202442</td>\n",
       "      <td>7.24</td>\n",
       "    </tr>\n",
       "  </tbody>\n",
       "</table>\n",
       "</div>"
      ],
      "text/plain": [
       "            High    Low  Open  Close    Volume  Adj Close\n",
       "Date                                                     \n",
       "2022-07-28  7.38  7.200  7.37   7.24   7646057       7.24\n",
       "2022-07-29  7.44  7.285  7.36   7.30  16205969       7.30\n",
       "2022-08-01  7.43  7.300  7.42   7.38  10861226       7.38\n",
       "2022-08-02  7.33  7.220  7.30   7.24  10202442       7.24"
      ]
     },
     "execution_count": 6,
     "metadata": {},
     "output_type": "execute_result"
    }
   ],
   "source": [
    "#Get latest quotes from yahoo finance:\n",
    "import pandas_datareader.data as web\n",
    "symbol = 'STO.AX'\n",
    "start = from_date # yyyy-mm-dd\n",
    "end = todaydt  # yyyy-mm-dd\n",
    "stock_quote = web.DataReader(symbol,data_source='yahoo',start=start, end=end) # dataframe\n",
    "stock_quote\n"
   ]
  },
  {
   "cell_type": "code",
   "execution_count": 7,
   "metadata": {},
   "outputs": [
    {
     "data": {
      "text/html": [
       "<div>\n",
       "<style scoped>\n",
       "    .dataframe tbody tr th:only-of-type {\n",
       "        vertical-align: middle;\n",
       "    }\n",
       "\n",
       "    .dataframe tbody tr th {\n",
       "        vertical-align: top;\n",
       "    }\n",
       "\n",
       "    .dataframe thead th {\n",
       "        text-align: right;\n",
       "    }\n",
       "</style>\n",
       "<table border=\"1\" class=\"dataframe\">\n",
       "  <thead>\n",
       "    <tr style=\"text-align: right;\">\n",
       "      <th></th>\n",
       "      <th>High</th>\n",
       "      <th>Low</th>\n",
       "      <th>Open</th>\n",
       "      <th>Close</th>\n",
       "      <th>Volume</th>\n",
       "      <th>Adj Close</th>\n",
       "    </tr>\n",
       "    <tr>\n",
       "      <th>Date</th>\n",
       "      <th></th>\n",
       "      <th></th>\n",
       "      <th></th>\n",
       "      <th></th>\n",
       "      <th></th>\n",
       "      <th></th>\n",
       "    </tr>\n",
       "  </thead>\n",
       "  <tbody>\n",
       "    <tr>\n",
       "      <th>2022-07-29</th>\n",
       "      <td>7.44</td>\n",
       "      <td>7.285</td>\n",
       "      <td>7.36</td>\n",
       "      <td>7.30</td>\n",
       "      <td>16205969</td>\n",
       "      <td>7.30</td>\n",
       "    </tr>\n",
       "    <tr>\n",
       "      <th>2022-08-01</th>\n",
       "      <td>7.43</td>\n",
       "      <td>7.300</td>\n",
       "      <td>7.42</td>\n",
       "      <td>7.38</td>\n",
       "      <td>10861226</td>\n",
       "      <td>7.38</td>\n",
       "    </tr>\n",
       "    <tr>\n",
       "      <th>2022-08-02</th>\n",
       "      <td>7.33</td>\n",
       "      <td>7.220</td>\n",
       "      <td>7.30</td>\n",
       "      <td>7.24</td>\n",
       "      <td>10202442</td>\n",
       "      <td>7.24</td>\n",
       "    </tr>\n",
       "  </tbody>\n",
       "</table>\n",
       "</div>"
      ],
      "text/plain": [
       "            High    Low  Open  Close    Volume  Adj Close\n",
       "Date                                                     \n",
       "2022-07-29  7.44  7.285  7.36   7.30  16205969       7.30\n",
       "2022-08-01  7.43  7.300  7.42   7.38  10861226       7.38\n",
       "2022-08-02  7.33  7.220  7.30   7.24  10202442       7.24"
      ]
     },
     "execution_count": 7,
     "metadata": {},
     "output_type": "execute_result"
    }
   ],
   "source": [
    "#remove last date already in mongodb\n",
    "stock_quote=stock_quote.iloc[1:]\n",
    "stock_quote"
   ]
  },
  {
   "cell_type": "code",
   "execution_count": 8,
   "metadata": {},
   "outputs": [
    {
     "name": "stderr",
     "output_type": "stream",
     "text": [
      "C:\\Users\\antoi\\AppData\\Local\\Temp/ipykernel_14192/1960956411.py:12: SettingWithCopyWarning: \n",
      "A value is trying to be set on a copy of a slice from a DataFrame.\n",
      "Try using .loc[row_indexer,col_indexer] = value instead\n",
      "\n",
      "See the caveats in the documentation: https://pandas.pydata.org/pandas-docs/stable/user_guide/indexing.html#returning-a-view-versus-a-copy\n",
      "  stock_quote[\"RBA\"],stock_quote[\"FED\"],stock_quote[\"CPI\"] = a,b,c\n",
      "C:\\Users\\antoi\\AppData\\Local\\Temp/ipykernel_14192/1960956411.py:15: SettingWithCopyWarning: \n",
      "A value is trying to be set on a copy of a slice from a DataFrame.\n",
      "Try using .loc[row_indexer,col_indexer] = value instead\n",
      "\n",
      "See the caveats in the documentation: https://pandas.pydata.org/pandas-docs/stable/user_guide/indexing.html#returning-a-view-versus-a-copy\n",
      "  stock_quote['Date'] = pd.to_datetime(stock_quote['Date'])\n",
      "C:\\Users\\antoi\\AppData\\Local\\Temp/ipykernel_14192/1960956411.py:16: SettingWithCopyWarning: \n",
      "A value is trying to be set on a copy of a slice from a DataFrame.\n",
      "Try using .loc[row_indexer,col_indexer] = value instead\n",
      "\n",
      "See the caveats in the documentation: https://pandas.pydata.org/pandas-docs/stable/user_guide/indexing.html#returning-a-view-versus-a-copy\n",
      "  stock_quote['Date']=stock_quote['Date'].dt.strftime('%d/%m/%Y')\n",
      "C:\\Users\\antoi\\AppData\\Local\\Temp/ipykernel_14192/1960956411.py:17: SettingWithCopyWarning: \n",
      "A value is trying to be set on a copy of a slice from a DataFrame.\n",
      "Try using .loc[row_indexer,col_indexer] = value instead\n",
      "\n",
      "See the caveats in the documentation: https://pandas.pydata.org/pandas-docs/stable/user_guide/indexing.html#returning-a-view-versus-a-copy\n",
      "  stock_quote['Date']=stock_quote['Date'].astype(str)\n"
     ]
    },
    {
     "data": {
      "text/html": [
       "<div>\n",
       "<style scoped>\n",
       "    .dataframe tbody tr th:only-of-type {\n",
       "        vertical-align: middle;\n",
       "    }\n",
       "\n",
       "    .dataframe tbody tr th {\n",
       "        vertical-align: top;\n",
       "    }\n",
       "\n",
       "    .dataframe thead th {\n",
       "        text-align: right;\n",
       "    }\n",
       "</style>\n",
       "<table border=\"1\" class=\"dataframe\">\n",
       "  <thead>\n",
       "    <tr style=\"text-align: right;\">\n",
       "      <th></th>\n",
       "      <th>Date</th>\n",
       "      <th>High</th>\n",
       "      <th>Low</th>\n",
       "      <th>Open</th>\n",
       "      <th>Close</th>\n",
       "      <th>Volume</th>\n",
       "      <th>Adj Close</th>\n",
       "      <th>RBA</th>\n",
       "      <th>FED</th>\n",
       "      <th>CPI</th>\n",
       "    </tr>\n",
       "  </thead>\n",
       "  <tbody>\n",
       "    <tr>\n",
       "      <th>0</th>\n",
       "      <td>29/07/2022</td>\n",
       "      <td>7.44</td>\n",
       "      <td>7.285</td>\n",
       "      <td>7.36</td>\n",
       "      <td>7.30</td>\n",
       "      <td>16205969</td>\n",
       "      <td>7.30</td>\n",
       "      <td>1.35</td>\n",
       "      <td>2.5</td>\n",
       "      <td>125</td>\n",
       "    </tr>\n",
       "    <tr>\n",
       "      <th>1</th>\n",
       "      <td>01/08/2022</td>\n",
       "      <td>7.43</td>\n",
       "      <td>7.300</td>\n",
       "      <td>7.42</td>\n",
       "      <td>7.38</td>\n",
       "      <td>10861226</td>\n",
       "      <td>7.38</td>\n",
       "      <td>1.35</td>\n",
       "      <td>2.5</td>\n",
       "      <td>125</td>\n",
       "    </tr>\n",
       "    <tr>\n",
       "      <th>2</th>\n",
       "      <td>02/08/2022</td>\n",
       "      <td>7.33</td>\n",
       "      <td>7.220</td>\n",
       "      <td>7.30</td>\n",
       "      <td>7.24</td>\n",
       "      <td>10202442</td>\n",
       "      <td>7.24</td>\n",
       "      <td>1.35</td>\n",
       "      <td>2.5</td>\n",
       "      <td>125</td>\n",
       "    </tr>\n",
       "  </tbody>\n",
       "</table>\n",
       "</div>"
      ],
      "text/plain": [
       "         Date  High    Low  Open  Close    Volume  Adj Close   RBA  FED  CPI\n",
       "0  29/07/2022  7.44  7.285  7.36   7.30  16205969       7.30  1.35  2.5  125\n",
       "1  01/08/2022  7.43  7.300  7.42   7.38  10861226       7.38  1.35  2.5  125\n",
       "2  02/08/2022  7.33  7.220  7.30   7.24  10202442       7.24  1.35  2.5  125"
      ]
     },
     "execution_count": 8,
     "metadata": {},
     "output_type": "execute_result"
    }
   ],
   "source": [
    "tot=len(stock_quote)\n",
    "rba=1.35\n",
    "fed=2.5\n",
    "cpi=125\n",
    "a,b,c=[],[],[]\n",
    "for i in range(tot):\n",
    "    a.append(rba)\n",
    "    b.append(fed)\n",
    "    c.append(cpi)\n",
    "# print(a,b,c)\n",
    "#ADD NEW DATA IN DATAFRAME\n",
    "stock_quote[\"RBA\"],stock_quote[\"FED\"],stock_quote[\"CPI\"] = a,b,c\n",
    "stock_quote.reset_index(inplace=True)\n",
    "\n",
    "stock_quote['Date'] = pd.to_datetime(stock_quote['Date'])\n",
    "stock_quote['Date']=stock_quote['Date'].dt.strftime('%d/%m/%Y')\n",
    "stock_quote['Date']=stock_quote['Date'].astype(str)\n",
    "stock_quote"
   ]
  },
  {
   "cell_type": "markdown",
   "metadata": {},
   "source": [
    "UPDATE MONGO DB"
   ]
  },
  {
   "cell_type": "code",
   "execution_count": 9,
   "metadata": {},
   "outputs": [
    {
     "data": {
      "text/plain": [
       "[{'Date': '29/07/2022',\n",
       "  'High': 7.440000057220459,\n",
       "  'Low': 7.284999847412109,\n",
       "  'Open': 7.360000133514404,\n",
       "  'Close': 7.300000190734863,\n",
       "  'Volume': 16205969,\n",
       "  'Adj Close': 7.300000190734863,\n",
       "  'RBA': 1.35,\n",
       "  'FED': 2.5,\n",
       "  'CPI': 125},\n",
       " {'Date': '01/08/2022',\n",
       "  'High': 7.429999828338623,\n",
       "  'Low': 7.300000190734863,\n",
       "  'Open': 7.420000076293945,\n",
       "  'Close': 7.380000114440918,\n",
       "  'Volume': 10861226,\n",
       "  'Adj Close': 7.380000114440918,\n",
       "  'RBA': 1.35,\n",
       "  'FED': 2.5,\n",
       "  'CPI': 125},\n",
       " {'Date': '02/08/2022',\n",
       "  'High': 7.329999923706055,\n",
       "  'Low': 7.21999979019165,\n",
       "  'Open': 7.300000190734863,\n",
       "  'Close': 7.239999771118164,\n",
       "  'Volume': 10202442,\n",
       "  'Adj Close': 7.239999771118164,\n",
       "  'RBA': 1.35,\n",
       "  'FED': 2.5,\n",
       "  'CPI': 125}]"
      ]
     },
     "execution_count": 9,
     "metadata": {},
     "output_type": "execute_result"
    }
   ],
   "source": [
    "records=stock_quote.to_dict('records')\n",
    "records"
   ]
  },
  {
   "cell_type": "code",
   "execution_count": 10,
   "metadata": {},
   "outputs": [
    {
     "name": "stdout",
     "output_type": "stream",
     "text": [
      "[[ObjectId('62e9a86674c2537bdd4ea783') '6/07/2022' 7.2 7.27 7.02 7.02\n",
      "  7.02 18248485.0 1.35 1.75 125.0]\n",
      " [ObjectId('62e9a86674c2537bdd4ea784') '7/07/2022' 6.9 6.955 6.86 6.9 6.9\n",
      "  21799658.0 1.35 1.75 125.0]\n",
      " [ObjectId('62e9a86674c2537bdd4ea785') '8/07/2022' 7.08 7.13 7.04 7.06\n",
      "  7.06 13881140.0 1.35 1.75 125.0]\n",
      " [ObjectId('62e9a86674c2537bdd4ea786') '11/07/2022' 7.08 7.15 7.03 7.03\n",
      "  7.03 8821511.0 1.35 1.75 125.0]\n",
      " [ObjectId('62e9a86674c2537bdd4ea787') '12/07/2022' 7.12 7.12 6.96 6.97\n",
      "  6.97 11765139.0 1.35 1.75 125.0]\n",
      " [ObjectId('62e9a86674c2537bdd4ea788') '13/07/2022' 6.84 6.935 6.77 6.88\n",
      "  6.88 11807841.0 1.35 1.75 125.0]\n",
      " [ObjectId('62e9a86674c2537bdd4ea789') '14/07/2022' 6.86 7.03 6.84 6.98\n",
      "  6.98 7881472.0 1.35 1.75 125.0]\n",
      " [ObjectId('62e9a86674c2537bdd4ea78a') '15/07/2022' 6.9 6.99 6.86 6.99\n",
      "  6.99 11528572.0 1.35 1.75 125.0]\n",
      " [ObjectId('62e9a86674c2537bdd4ea78b') '18/07/2022' 7.15 7.19 7.05 7.16\n",
      "  7.16 10029635.0 1.35 1.75 125.0]\n",
      " [ObjectId('62e9a86674c2537bdd4ea78c') '19/07/2022' 7.29 7.435 7.24 7.24\n",
      "  7.24 15177288.0 1.35 1.75 125.0]\n",
      " [ObjectId('62e9a86674c2537bdd4ea78d') '20/07/2022' 7.37 7.39 7.26 7.39\n",
      "  7.39 9944477.0 1.35 1.75 125.0]\n",
      " [ObjectId('62e9a86674c2537bdd4ea78e') '21/07/2022' 7.34 7.39 7.2 7.25\n",
      "  7.25 11235306.0 1.35 1.75 125.0]\n",
      " [ObjectId('62e9a86674c2537bdd4ea78f') '22/07/2022' 7.13 7.14 7.02 7.03\n",
      "  7.03 15895662.0 1.35 1.75 125.0]\n",
      " [ObjectId('62e9a86674c2537bdd4ea790') '25/07/2022' 6.97 7.06 6.95 6.99\n",
      "  6.99 8681065.0 1.35 1.75 125.0]\n",
      " [ObjectId('62e9a86674c2537bdd4ea791') '26/07/2022' 7.11 7.19 7.09 7.17\n",
      "  7.17 8187906.0 1.35 1.75 125.0]\n",
      " [ObjectId('62e9a86674c2537bdd4ea792') '27/07/2022' 7.09 7.18 7.08 7.17\n",
      "  7.17 4226467.0 1.35 2.5 125.0]\n",
      " [ObjectId('62e9a86674c2537bdd4ea793') '28/07/2022' 7.37 7.38 7.2 7.24\n",
      "  7.24 7646057.0 1.35 2.5 125.0]\n",
      " [ObjectId('62e9a86774c2537bdd4ea795') '29/07/2022' 7.360000133514404\n",
      "  7.440000057220459 7.284999847412109 7.300000190734863 7.300000190734863\n",
      "  16205969.0 1.35 2.5 125.0]\n",
      " [ObjectId('62e9a86774c2537bdd4ea796') '01/08/2022' 7.420000076293945\n",
      "  7.429999828338623 7.300000190734863 7.380000114440918 7.380000114440918\n",
      "  10861226.0 1.35 2.5 125.0]\n",
      " [ObjectId('62e9a86774c2537bdd4ea797') '02/08/2022' 7.300000190734863\n",
      "  7.329999923706055 7.21999979019165 7.239999771118164 7.239999771118164\n",
      "  10202442.0 1.35 2.5 125.0]]\n"
     ]
    }
   ],
   "source": [
    "#INSERT NEW DATA INTO MONGODB\n",
    "db.sto.insert_many(records)\n",
    "\n",
    "#Check if mongoDb now has latest data\n",
    "df_mongo = pd.DataFrame(list(db.sto.find()))\n",
    "\n",
    "last_val = df_mongo.iloc[-20:].values\n",
    "print(last_val)"
   ]
  },
  {
   "cell_type": "code",
   "execution_count": 11,
   "metadata": {},
   "outputs": [
    {
     "name": "stdout",
     "output_type": "stream",
     "text": [
      "02/08/2022 7.239999771118164\n"
     ]
    }
   ],
   "source": [
    "#Save latest to variables\n",
    "last_val = df_mongo.iloc[-1:].values\n",
    "last_date = last_val[0][1]\n",
    "last_close = last_val[0][5]\n",
    "print(last_date,last_close)"
   ]
  },
  {
   "cell_type": "markdown",
   "metadata": {},
   "source": [
    "# # Pre-processing : Scale the data using the MinMaxScaler and split train data"
   ]
  },
  {
   "cell_type": "code",
   "execution_count": 12,
   "metadata": {},
   "outputs": [
    {
     "data": {
      "text/plain": [
       "(8707, 1)"
      ]
     },
     "execution_count": 12,
     "metadata": {},
     "output_type": "execute_result"
    }
   ],
   "source": [
    "df_mongo = pd.DataFrame(list(db.sto.find()))\n",
    "# Drop the null columns where all values are null\n",
    "df_mongo = df_mongo.dropna(axis='columns', how='all')\n",
    "# Drop the null rows\n",
    "df_mongo = df_mongo.dropna()\n",
    "# df_mongo.shape\n",
    "\n",
    "len_df_mongo=len(df_mongo)\n",
    "data = df_mongo.filter([\"Close\"])\n",
    "dataset=data.values\n",
    "dataset.shape"
   ]
  },
  {
   "cell_type": "code",
   "execution_count": 13,
   "metadata": {},
   "outputs": [],
   "source": [
    "# data = df.filter(['Close'])\n",
    "# dataset = data.values\n",
    "# dataset.shape\t"
   ]
  },
  {
   "cell_type": "code",
   "execution_count": 14,
   "metadata": {},
   "outputs": [
    {
     "data": {
      "text/plain": [
       "(6966, 1)"
      ]
     },
     "execution_count": 14,
     "metadata": {},
     "output_type": "execute_result"
    }
   ],
   "source": [
    "# Scale your data\n",
    "from sklearn.preprocessing import MinMaxScaler\n",
    "\n",
    "scaler = MinMaxScaler(feature_range=(0,1))\n",
    "dataset_scaled = scaler.fit_transform(dataset)\n",
    "\n",
    "# Split into train or test\n",
    "import math\n",
    "train_data_len = math.ceil(len(dataset)*.8)\n",
    "train_data = dataset_scaled[0:train_data_len,:]\n",
    "train_data.shape\n"
   ]
  },
  {
   "cell_type": "code",
   "execution_count": 15,
   "metadata": {},
   "outputs": [
    {
     "name": "stdout",
     "output_type": "stream",
     "text": [
      "[array([0.05388464, 0.05388464, 0.05388464, 0.05388464, 0.05388464,\n",
      "       0.05388464, 0.05388464, 0.05388464, 0.05388464, 0.05388464,\n",
      "       0.05388464, 0.05388464, 0.05388464, 0.05388464, 0.05388464,\n",
      "       0.05388464, 0.05388464, 0.05388464, 0.05388464, 0.05388464,\n",
      "       0.04731646, 0.04731646, 0.04731646, 0.04731646, 0.04731646,\n",
      "       0.04731646, 0.04731646, 0.04731646, 0.04731646, 0.04731646,\n",
      "       0.04731646, 0.04731646, 0.04731646, 0.04731646, 0.04731646,\n",
      "       0.04731646, 0.04731646, 0.04731646, 0.04731646, 0.04731646,\n",
      "       0.04731646, 0.04731646, 0.06921047, 0.06921047, 0.06921047,\n",
      "       0.06921047, 0.06921047, 0.06921047, 0.06921047, 0.06921047,\n",
      "       0.06921047, 0.06921047, 0.06921047, 0.06921047, 0.06921047,\n",
      "       0.06921047, 0.06921047, 0.06921047, 0.06921047, 0.06921047])]\n",
      "[0.06921047289049788]\n"
     ]
    }
   ],
   "source": [
    "X_train = []\n",
    "y_train = []\n",
    "\n",
    "for i in range (60, len(train_data)):\n",
    "    X_train.append(train_data[i-60:i,0]) # contains 60 values\n",
    "    y_train.append(train_data[i,0])   # contains 61st value\n",
    "    if i<= 60:\n",
    "        print(X_train)\n",
    "        print(y_train) \n"
   ]
  },
  {
   "cell_type": "markdown",
   "metadata": {},
   "source": [
    "# Prepare train data for LSTM model"
   ]
  },
  {
   "cell_type": "code",
   "execution_count": 16,
   "metadata": {},
   "outputs": [
    {
     "data": {
      "text/plain": [
       "(6906, 60)"
      ]
     },
     "execution_count": 16,
     "metadata": {},
     "output_type": "execute_result"
    }
   ],
   "source": [
    "# Convert list to numpy array for LSTM model:\n",
    "X_train, y_train = np.array(X_train), np.array(y_train)\n",
    "X_train.shape"
   ]
  },
  {
   "cell_type": "code",
   "execution_count": 17,
   "metadata": {},
   "outputs": [
    {
     "data": {
      "text/plain": [
       "(6906, 60, 1)"
      ]
     },
     "execution_count": 17,
     "metadata": {},
     "output_type": "execute_result"
    }
   ],
   "source": [
    "# LSTM model expects 3D, reshape:\n",
    "X_train = np.reshape(X_train, (X_train.shape[0], X_train.shape[1], 1))\n",
    "X_train.shape"
   ]
  },
  {
   "cell_type": "markdown",
   "metadata": {},
   "source": [
    "# Build the LSTM model"
   ]
  },
  {
   "cell_type": "code",
   "execution_count": 18,
   "metadata": {},
   "outputs": [],
   "source": [
    "from tensorflow.keras.models import Sequential\n",
    "from tensorflow.keras.layers import Dense, LSTM\n",
    "model = Sequential()\n",
    "model.add(LSTM(50, return_sequences=True, input_shape=(X_train.shape[1], 1)))\n",
    "model.add(LSTM(50, return_sequences=False))\n",
    "model.add(Dense(25))\n",
    "model.add(Dense(1))"
   ]
  },
  {
   "cell_type": "code",
   "execution_count": 19,
   "metadata": {},
   "outputs": [],
   "source": [
    "model.compile(optimizer='adam', loss='mean_squared_error')"
   ]
  },
  {
   "cell_type": "code",
   "execution_count": 20,
   "metadata": {},
   "outputs": [
    {
     "name": "stdout",
     "output_type": "stream",
     "text": [
      "6906/6906 [==============================] - 109s 15ms/step - loss: 7.8649e-04\n"
     ]
    },
    {
     "data": {
      "text/plain": [
       "<keras.callbacks.History at 0x27053f3b100>"
      ]
     },
     "execution_count": 20,
     "metadata": {},
     "output_type": "execute_result"
    }
   ],
   "source": [
    "model.fit(X_train, y_train, batch_size=1, epochs=1)"
   ]
  },
  {
   "cell_type": "code",
   "execution_count": 21,
   "metadata": {},
   "outputs": [],
   "source": [
    "#Create test data\n",
    "test_data = dataset_scaled[train_data_len-60:,:]\n",
    "X_test = []\n",
    "y_test = dataset[train_data_len:,:]\n",
    "for i in range(60, len(test_data)):\n",
    " X_test.append(test_data[i-60:i,0])"
   ]
  },
  {
   "cell_type": "code",
   "execution_count": 22,
   "metadata": {},
   "outputs": [],
   "source": [
    "#Covert test data to a numpy array and reshape\n",
    "X_test = np.array(X_test)\n",
    "X_test = np.reshape(X_test, (X_test.shape[0],X_test.shape[1],1))"
   ]
  },
  {
   "cell_type": "code",
   "execution_count": 23,
   "metadata": {},
   "outputs": [],
   "source": [
    "#Get predicted prices\n",
    "predictions_lstm = model.predict(X_test)\n",
    "predictions = scaler.inverse_transform(predictions_lstm)"
   ]
  },
  {
   "cell_type": "code",
   "execution_count": 24,
   "metadata": {},
   "outputs": [
    {
     "data": {
      "text/plain": [
       "0.2572278499033586"
      ]
     },
     "execution_count": 24,
     "metadata": {},
     "output_type": "execute_result"
    }
   ],
   "source": [
    "#Get the root mean square error (RMSE) 0 being most favourable\n",
    "rmse = np.sqrt(np.mean(predictions-y_test)**2)\n",
    "rmse"
   ]
  },
  {
   "cell_type": "code",
   "execution_count": 25,
   "metadata": {},
   "outputs": [
    {
     "name": "stderr",
     "output_type": "stream",
     "text": [
      "C:\\Users\\antoi\\AppData\\Local\\Temp/ipykernel_14192/3769857166.py:5: SettingWithCopyWarning: \n",
      "A value is trying to be set on a copy of a slice from a DataFrame.\n",
      "Try using .loc[row_indexer,col_indexer] = value instead\n",
      "\n",
      "See the caveats in the documentation: https://pandas.pydata.org/pandas-docs/stable/user_guide/indexing.html#returning-a-view-versus-a-copy\n",
      "  valid['Predictions'] = predictions # another column for validating test\n"
     ]
    },
    {
     "data": {
      "image/png": "[encoded data removed]",
      "text/plain": [
       "<Figure size 1152x576 with 1 Axes>"
      ]
     },
     "metadata": {},
     "output_type": "display_data"
    }
   ],
   "source": [
    "#Plot the data to validate the test data\n",
    "plt.style.use('fivethirtyeight')\n",
    "train = data.iloc[:train_data_len] # actual train data from 0 rows until train data end\n",
    "valid = data.iloc[train_data_len:] # actual test data from train data end until end of all sampled data\n",
    "valid['Predictions'] = predictions # another column for validating test\n",
    "\n",
    "plt.figure(figsize=(16,8))\n",
    "plt.title('STO LSTM Model')\n",
    "plt.xlabel('Trading Date', fontsize=18)\n",
    "plt.ylabel('Close Price AUD ($)',fontsize=18)\n",
    "plt.plot(train['Close'])\n",
    "plt.plot(valid[['Close','Predictions']])\n",
    "plt.legend(['Training','Validate','Tested'],loc='lower right')\n",
    "# x = np.arange(2000,2024,4)\n",
    "plt.xticks([0,2000,4000,4000,8000],[1998,2004,2010,2010,2020])\n",
    "plt.savefig('../static/data/images/sto_graph.png')\n",
    "plt.show()"
   ]
  },
  {
   "cell_type": "markdown",
   "metadata": {},
   "source": [
    "# Test data Predictions on the Model"
   ]
  },
  {
   "cell_type": "code",
   "execution_count": 26,
   "metadata": {},
   "outputs": [
    {
     "name": "stderr",
     "output_type": "stream",
     "text": [
      "C:\\Users\\antoi\\AppData\\Local\\Temp/ipykernel_14192/3403988079.py:1: SettingWithCopyWarning: \n",
      "A value is trying to be set on a copy of a slice from a DataFrame.\n",
      "Try using .loc[row_indexer,col_indexer] = value instead\n",
      "\n",
      "See the caveats in the documentation: https://pandas.pydata.org/pandas-docs/stable/user_guide/indexing.html#returning-a-view-versus-a-copy\n",
      "  valid['Difference']= valid['Close']-valid['Predictions']\n"
     ]
    },
    {
     "data": {
      "text/plain": [
       "<bound method NDFrame.head of          Close  Predictions  Difference\n",
       "6966  4.354516     4.221313    0.133203\n",
       "6967  4.136791     4.315302   -0.178511\n",
       "6968  4.162918     4.288032   -0.125114\n",
       "6969  4.345807     4.251042    0.094765\n",
       "6970  4.223881     4.287940   -0.064059\n",
       "...        ...          ...         ...\n",
       "8702  7.170000     6.542825    0.627175\n",
       "8703  7.240000     6.584207    0.655793\n",
       "8704  7.300000     6.637985    0.662015\n",
       "8705  7.380000     6.691063    0.688937\n",
       "8706  7.240000     6.747331    0.492669\n",
       "\n",
       "[1741 rows x 3 columns]>"
      ]
     },
     "execution_count": 26,
     "metadata": {},
     "output_type": "execute_result"
    }
   ],
   "source": [
    "valid['Difference']= valid['Close']-valid['Predictions']\n",
    "valid.head"
   ]
  },
  {
   "cell_type": "code",
   "execution_count": 27,
   "metadata": {},
   "outputs": [
    {
     "data": {
      "text/plain": [
       "(60, 1)"
      ]
     },
     "execution_count": 27,
     "metadata": {},
     "output_type": "execute_result"
    }
   ],
   "source": [
    "# Use last 60 days price on model to predict next days price\n",
    "import pandas as pd\n",
    "\n",
    "df_mongo = pd.DataFrame(list(db.sto.find()))\n",
    "sixty_val = df_mongo.iloc[-60:,4].values\n",
    "last_sixty = sixty_val.reshape(-1,1)\n",
    "\n",
    "last_sixty.shape"
   ]
  },
  {
   "cell_type": "code",
   "execution_count": 28,
   "metadata": {},
   "outputs": [
    {
     "data": {
      "text/plain": [
       "(1, 60, 1)"
      ]
     },
     "execution_count": 28,
     "metadata": {},
     "output_type": "execute_result"
    }
   ],
   "source": [
    "last_60_days_scaled = scaler.transform(last_sixty)\n",
    "X_tell = []\n",
    "X_tell.append(last_60_days_scaled)\n",
    "X_tell =np.array(X_tell)\n",
    "X_tell =np.reshape(X_tell, (X_tell.shape[0], X_tell.shape[1],1))\n",
    "X_tell.shape"
   ]
  },
  {
   "cell_type": "code",
   "execution_count": 29,
   "metadata": {},
   "outputs": [
    {
     "name": "stdout",
     "output_type": "stream",
     "text": [
      "02/08/2022 Last close $7.239999771118164 Predicted next day share price $6\n"
     ]
    }
   ],
   "source": [
    "pred_price = model.predict(X_tell)\n",
    "pred_price = scaler.inverse_transform(pred_price)\n",
    "pred_price = int(pred_price)\n",
    "print(f'{last_date} Last close ${last_close} Predicted next day share price ${pred_price}')"
   ]
  },
  {
   "cell_type": "markdown",
   "metadata": {},
   "source": [
    "# Save the Model"
   ]
  },
  {
   "cell_type": "code",
   "execution_count": 30,
   "metadata": {},
   "outputs": [],
   "source": [
    "# Save the entire model to a HDF5 file.\n",
    "# The '.h5' extension indicates that the model should be saved to HDF5.\n",
    "filepath = '../static/sto_model.sav'\n",
    "model.save(filepath, save_format=\"h5\")"
   ]
  },
  {
   "cell_type": "markdown",
   "metadata": {},
   "source": [
    "#Save last 60 days to a list sto_sixty and load df"
   ]
  },
  {
   "cell_type": "markdown",
   "metadata": {},
   "source": [
    "#PREDICT USING LOADED MODEL"
   ]
  },
  {
   "cell_type": "code",
   "execution_count": 31,
   "metadata": {},
   "outputs": [],
   "source": [
    "from keras.models import load_model\n",
    "model_in = load_model('../static/sto_model.sav')"
   ]
  },
  {
   "cell_type": "code",
   "execution_count": 32,
   "metadata": {},
   "outputs": [
    {
     "data": {
      "text/plain": [
       "array([[7.7       ],\n",
       "       [7.84      ],\n",
       "       [7.79      ],\n",
       "       [7.86      ],\n",
       "       [8.01      ],\n",
       "       [8.22      ],\n",
       "       [8.21      ],\n",
       "       [8.12      ],\n",
       "       [8.01      ],\n",
       "       [8.07      ],\n",
       "       [8.17      ],\n",
       "       [8.19      ],\n",
       "       [8.135     ],\n",
       "       [8.16      ],\n",
       "       [8.165     ],\n",
       "       [8.2       ],\n",
       "       [8.15      ],\n",
       "       [8.02      ],\n",
       "       [8.33      ],\n",
       "       [8.43      ],\n",
       "       [8.41      ],\n",
       "       [8.6       ],\n",
       "       [8.66      ],\n",
       "       [8.425     ],\n",
       "       [7.9       ],\n",
       "       [7.96      ],\n",
       "       [7.95      ],\n",
       "       [7.67      ],\n",
       "       [7.31      ],\n",
       "       [7.355     ],\n",
       "       [7.46      ],\n",
       "       [7.25      ],\n",
       "       [7.12      ],\n",
       "       [7.26      ],\n",
       "       [7.47      ],\n",
       "       [7.53      ],\n",
       "       [7.42      ],\n",
       "       [7.21      ],\n",
       "       [7.32      ],\n",
       "       [7.47      ],\n",
       "       [7.02      ],\n",
       "       [6.86      ],\n",
       "       [7.04      ],\n",
       "       [7.03      ],\n",
       "       [6.96      ],\n",
       "       [6.77      ],\n",
       "       [6.84      ],\n",
       "       [6.86      ],\n",
       "       [7.05      ],\n",
       "       [7.24      ],\n",
       "       [7.26      ],\n",
       "       [7.2       ],\n",
       "       [7.02      ],\n",
       "       [6.95      ],\n",
       "       [7.09      ],\n",
       "       [7.08      ],\n",
       "       [7.2       ],\n",
       "       [7.28499985],\n",
       "       [7.30000019],\n",
       "       [7.21999979]])"
      ]
     },
     "execution_count": 32,
     "metadata": {},
     "output_type": "execute_result"
    }
   ],
   "source": [
    "# query the sto collection and load into dataframe\n",
    "\n",
    "df_mongo = pd.DataFrame(list(db.sto.find()))\n",
    "sixty_val = df_mongo.iloc[-60:,4].values\n",
    "last_sixty = sixty_val.reshape(-1,1)\n",
    "\n",
    "last_sixty"
   ]
  },
  {
   "cell_type": "markdown",
   "metadata": {},
   "source": [
    "#Create a function to loop through the days input"
   ]
  },
  {
   "cell_type": "code",
   "execution_count": 33,
   "metadata": {},
   "outputs": [
    {
     "name": "stdout",
     "output_type": "stream",
     "text": [
      "1\n",
      "Day finished! Price: \n",
      "2\n",
      "Day finished! Price: \n",
      "3\n",
      "Day finished! Price: \n",
      "4\n",
      "Day finished! Price: \n",
      "5\n",
      "Day finished! Price: \n",
      "6\n",
      "Day finished! Price: \n",
      "7\n",
      "Day finished! Price: \n",
      "8\n",
      "Day finished! Price: \n",
      "9\n",
      "Day finished! Price: \n",
      "10\n",
      "Day finished! Price: \n",
      "11\n",
      "Day finished! Price: \n",
      "12\n",
      "Day finished! Price: \n",
      "13\n",
      "Day finished! Price: \n",
      "14\n",
      "Day finished! Price: \n",
      "15\n",
      "Day finished! Price: \n",
      "16\n",
      "Day finished! Price: \n",
      "17\n",
      "Day finished! Price: \n",
      "18\n",
      "Day finished! Price: \n",
      "19\n",
      "Day finished! Price: \n",
      "20\n",
      "Day finished! Price: \n",
      "21\n",
      "Day finished! Price: \n",
      "22\n",
      "Day finished! Price: \n",
      "23\n",
      "Day finished! Price: \n",
      "24\n",
      "Day finished! Price: \n",
      "25\n",
      "Day finished! Price: \n",
      "26\n",
      "Day finished! Price: \n",
      "27\n",
      "Day finished! Price: \n",
      "28\n",
      "Day finished! Price: \n",
      "29\n",
      "Day finished! Price: \n",
      "30\n",
      "Day finished! Price: \n",
      "31\n",
      "Day finished! Price: \n",
      "32\n",
      "Day finished! Price: \n",
      "33\n",
      "Day finished! Price: \n",
      "34\n",
      "Day finished! Price: \n",
      "35\n",
      "Day finished! Price: \n",
      "36\n",
      "Day finished! Price: \n",
      "37\n",
      "Day finished! Price: \n",
      "38\n",
      "Day finished! Price: \n",
      "39\n",
      "Day finished! Price: \n",
      "40\n",
      "Day finished! Price: \n",
      "41\n",
      "Day finished! Price: \n",
      "42\n",
      "Day finished! Price: \n",
      "43\n",
      "Day finished! Price: \n",
      "44\n",
      "Day finished! Price: \n",
      "45\n",
      "Day finished! Price: \n",
      "46\n",
      "Day finished! Price: \n",
      "47\n",
      "Day finished! Price: \n",
      "48\n",
      "Day finished! Price: \n",
      "49\n",
      "Day finished! Price: \n",
      "50\n",
      "Day finished! Price: \n",
      "51\n",
      "Day finished! Price: \n",
      "52\n",
      "Day finished! Price: \n",
      "53\n",
      "Day finished! Price: \n",
      "54\n",
      "Day finished! Price: \n",
      "55\n",
      "Day finished! Price: \n",
      "56\n",
      "Day finished! Price: \n",
      "57\n",
      "Day finished! Price: \n",
      "58\n",
      "Day finished! Price: \n",
      "59\n",
      "Day finished! Price: \n",
      "60\n",
      "Day finished! Price: \n",
      "61\n",
      "Day finished! Price: \n",
      "62\n",
      "Day finished! Price: \n",
      "63\n",
      "Day finished! Price: \n",
      "64\n",
      "Day finished! Price: \n",
      "65\n",
      "Day finished! Price: \n",
      "66\n",
      "Day finished! Price: \n",
      "67\n",
      "Day finished! Price: \n",
      "68\n",
      "Day finished! Price: \n",
      "69\n",
      "Day finished! Price: \n",
      "70\n",
      "Day finished! Price: \n",
      "71\n",
      "Day finished! Price: \n",
      "72\n",
      "Day finished! Price: \n",
      "73\n",
      "Day finished! Price: \n",
      "74\n",
      "Day finished! Price: \n",
      "75\n",
      "Day finished! Price: \n",
      "76\n",
      "Day finished! Price: \n",
      "77\n",
      "Day finished! Price: \n",
      "78\n",
      "Day finished! Price: \n",
      "79\n",
      "Day finished! Price: \n",
      "80\n",
      "Day finished! Price: \n",
      "81\n",
      "Day finished! Price: \n",
      "82\n",
      "Day finished! Price: \n",
      "83\n",
      "Day finished! Price: \n",
      "84\n",
      "Day finished! Price: \n",
      "85\n",
      "Day finished! Price: \n",
      "86\n",
      "Day finished! Price: \n",
      "87\n",
      "Day finished! Price: \n",
      "88\n",
      "Day finished! Price: \n",
      "89\n",
      "Day finished! Price: \n",
      "90\n",
      "Day finished! Price: \n",
      "91\n",
      "Day finished! Price: \n",
      "92\n",
      "Day finished! Price: \n",
      "93\n",
      "Day finished! Price: \n",
      "94\n",
      "Day finished! Price: \n",
      "95\n",
      "Day finished! Price: \n",
      "96\n",
      "Day finished! Price: \n",
      "97\n",
      "Day finished! Price: \n",
      "98\n",
      "Day finished! Price: \n",
      "99\n",
      "Day finished! Price: \n",
      "100\n",
      "Day finished! Price: \n",
      "101\n",
      "Day finished! Price: \n",
      "102\n",
      "Day finished! Price: \n",
      "103\n",
      "Day finished! Price: \n",
      "104\n",
      "Day finished! Price: \n",
      "105\n",
      "Day finished! Price: \n",
      "106\n",
      "Day finished! Price: \n",
      "107\n",
      "Day finished! Price: \n",
      "108\n",
      "Day finished! Price: \n",
      "109\n",
      "Day finished! Price: \n",
      "110\n",
      "Day finished! Price: \n",
      "111\n",
      "Day finished! Price: \n",
      "112\n",
      "Day finished! Price: \n",
      "113\n",
      "Day finished! Price: \n",
      "114\n",
      "Day finished! Price: \n",
      "115\n",
      "Day finished! Price: \n",
      "116\n",
      "Day finished! Price: \n",
      "117\n",
      "Day finished! Price: \n",
      "118\n",
      "Day finished! Price: \n",
      "119\n",
      "Day finished! Price: \n",
      "120\n",
      "Day finished! Price: \n",
      "121\n",
      "Day finished! Price: \n",
      "122\n",
      "Day finished! Price: \n",
      "123\n",
      "Day finished! Price: \n",
      "124\n",
      "Day finished! Price: \n",
      "125\n",
      "Day finished! Price: \n",
      "126\n",
      "Day finished! Price: \n",
      "127\n",
      "Day finished! Price: \n",
      "128\n",
      "Day finished! Price: \n",
      "129\n",
      "Day finished! Price: \n",
      "130\n",
      "Day finished! Price: \n",
      "131\n",
      "Day finished! Price: \n",
      "132\n",
      "Day finished! Price: \n",
      "133\n",
      "Day finished! Price: \n",
      "134\n",
      "Day finished! Price: \n",
      "135\n",
      "Day finished! Price: \n",
      "136\n",
      "Day finished! Price: \n",
      "137\n",
      "Day finished! Price: \n",
      "138\n",
      "Day finished! Price: \n",
      "139\n",
      "Day finished! Price: \n",
      "140\n",
      "Day finished! Price: \n",
      "141\n",
      "Day finished! Price: \n",
      "142\n",
      "Day finished! Price: \n",
      "143\n",
      "Day finished! Price: \n",
      "144\n",
      "Day finished! Price: \n",
      "145\n",
      "Day finished! Price: \n",
      "146\n",
      "Day finished! Price: \n",
      "147\n",
      "Day finished! Price: \n",
      "148\n",
      "Day finished! Price: \n",
      "149\n",
      "Day finished! Price: \n",
      "150\n",
      "Day finished! Price: \n",
      "151\n",
      "Day finished! Price: \n",
      "152\n",
      "Day finished! Price: \n",
      "153\n",
      "Day finished! Price: \n",
      "154\n",
      "Day finished! Price: \n",
      "155\n",
      "Day finished! Price: \n",
      "156\n",
      "Day finished! Price: \n",
      "157\n",
      "Day finished! Price: \n",
      "158\n",
      "Day finished! Price: \n",
      "159\n",
      "Day finished! Price: \n",
      "160\n",
      "Day finished! Price: \n",
      "161\n",
      "Day finished! Price: \n",
      "162\n",
      "Day finished! Price: \n",
      "163\n",
      "Day finished! Price: \n",
      "164\n",
      "Day finished! Price: \n",
      "165\n",
      "Day finished! Price: \n",
      "166\n",
      "Day finished! Price: \n",
      "167\n",
      "Day finished! Price: \n",
      "168\n",
      "Day finished! Price: \n",
      "169\n",
      "Day finished! Price: \n",
      "170\n",
      "Day finished! Price: \n",
      "171\n",
      "Day finished! Price: \n",
      "172\n",
      "Day finished! Price: \n",
      "173\n",
      "Day finished! Price: \n",
      "174\n",
      "Day finished! Price: \n",
      "175\n",
      "Day finished! Price: \n",
      "176\n",
      "Day finished! Price: \n",
      "177\n",
      "Day finished! Price: \n",
      "178\n",
      "Day finished! Price: \n",
      "179\n",
      "Day finished! Price: \n",
      "Could not predict further!\n",
      "180\n"
     ]
    },
    {
     "data": {
      "text/plain": [
       "[7.22,\n",
       " 7.21,\n",
       " 7.19,\n",
       " 7.17,\n",
       " 7.16,\n",
       " 7.15,\n",
       " 7.15,\n",
       " 7.14,\n",
       " 7.14,\n",
       " 7.14,\n",
       " 7.14,\n",
       " 7.14,\n",
       " 7.14,\n",
       " 7.14,\n",
       " 7.14,\n",
       " 7.14,\n",
       " 7.14,\n",
       " 7.14,\n",
       " 7.14,\n",
       " 7.14,\n",
       " 7.14,\n",
       " 7.14,\n",
       " 7.14,\n",
       " 7.13,\n",
       " 7.11,\n",
       " 7.09,\n",
       " 7.08,\n",
       " 7.06,\n",
       " 7.04,\n",
       " 7.03,\n",
       " 7.02,\n",
       " 7.01,\n",
       " 7.0,\n",
       " 7.0,\n",
       " 6.99,\n",
       " 6.99,\n",
       " 6.98,\n",
       " 6.98,\n",
       " 6.97,\n",
       " 6.97,\n",
       " 6.96,\n",
       " 6.95,\n",
       " 6.94,\n",
       " 6.94,\n",
       " 6.93,\n",
       " 6.93,\n",
       " 6.94,\n",
       " 6.94,\n",
       " 6.95,\n",
       " 6.96,\n",
       " 6.96,\n",
       " 6.97,\n",
       " 6.97,\n",
       " 6.98,\n",
       " 6.98,\n",
       " 6.98,\n",
       " 6.98,\n",
       " 6.98,\n",
       " 6.98,\n",
       " 6.98,\n",
       " 6.98,\n",
       " 6.98,\n",
       " 6.98,\n",
       " 6.97,\n",
       " 6.97,\n",
       " 6.97,\n",
       " 6.97,\n",
       " 6.97,\n",
       " 6.97,\n",
       " 6.97,\n",
       " 6.97,\n",
       " 6.97,\n",
       " 6.97,\n",
       " 6.97,\n",
       " 6.97,\n",
       " 6.97,\n",
       " 6.97,\n",
       " 6.97,\n",
       " 6.97,\n",
       " 6.97,\n",
       " 6.97,\n",
       " 6.97,\n",
       " 6.97,\n",
       " 6.97,\n",
       " 6.97,\n",
       " 6.97,\n",
       " 6.97,\n",
       " 6.96,\n",
       " 6.96,\n",
       " 6.96,\n",
       " 6.96,\n",
       " 6.96,\n",
       " 6.96,\n",
       " 6.95,\n",
       " 6.95,\n",
       " 6.95,\n",
       " 6.95,\n",
       " 6.95,\n",
       " 6.95,\n",
       " 6.95,\n",
       " 6.95,\n",
       " 6.95,\n",
       " 6.95,\n",
       " 6.95,\n",
       " 6.94,\n",
       " 6.94,\n",
       " 6.95,\n",
       " 6.95,\n",
       " 6.95,\n",
       " 6.95,\n",
       " 6.95,\n",
       " 6.95,\n",
       " 6.95,\n",
       " 6.95,\n",
       " 6.95,\n",
       " 6.95,\n",
       " 6.95,\n",
       " 6.95,\n",
       " 6.95,\n",
       " 6.95,\n",
       " 6.95,\n",
       " 6.95,\n",
       " 6.95,\n",
       " 6.95,\n",
       " 6.95,\n",
       " 6.95,\n",
       " 6.95,\n",
       " 6.95,\n",
       " 6.95,\n",
       " 6.95,\n",
       " 6.95,\n",
       " 6.95,\n",
       " 6.95,\n",
       " 6.95,\n",
       " 6.95,\n",
       " 6.95,\n",
       " 6.95,\n",
       " 6.95,\n",
       " 6.95,\n",
       " 6.95,\n",
       " 6.95,\n",
       " 6.95,\n",
       " 6.95,\n",
       " 6.95,\n",
       " 6.95,\n",
       " 6.95,\n",
       " 6.95,\n",
       " 6.95,\n",
       " 6.95,\n",
       " 6.95,\n",
       " 6.95,\n",
       " 6.95,\n",
       " 6.95,\n",
       " 6.95,\n",
       " 6.95,\n",
       " 6.95,\n",
       " 6.95,\n",
       " 6.95,\n",
       " 6.95,\n",
       " 6.95,\n",
       " 6.95,\n",
       " 6.95,\n",
       " 6.95,\n",
       " 6.95,\n",
       " 6.95,\n",
       " 6.95,\n",
       " 6.95,\n",
       " 6.95,\n",
       " 6.95,\n",
       " 6.95,\n",
       " 6.95,\n",
       " 6.95,\n",
       " 6.95,\n",
       " 6.95,\n",
       " 6.95,\n",
       " 6.95,\n",
       " 6.95,\n",
       " 6.95,\n",
       " 6.95]"
      ]
     },
     "execution_count": 33,
     "metadata": {},
     "output_type": "execute_result"
    }
   ],
   "source": [
    "from keras.models import load_model\n",
    "model_in = load_model('../static/sto_model.sav')\n",
    "from sklearn.preprocessing import MinMaxScaler\n",
    "scaler = MinMaxScaler(feature_range=(0,1))\n",
    "\n",
    "price_list=[]\n",
    "\n",
    "#Function to predict future days predicted price, in loop\n",
    "input = 180 #days\n",
    "if input == \"\":\n",
    "    input = 180\n",
    "else:\n",
    "   input = int(input)\n",
    "\n",
    "def predict_sto(last_sixty,model_in,input):\n",
    "    for i in range(1, input):\n",
    "\n",
    "        #Takes df and converts to model's predict shape\n",
    "        last_sixty_scaled = scaler.fit_transform(last_sixty)\n",
    "        new_X_tell = []\n",
    "        new_X_tell.append(last_sixty_scaled)\n",
    "        new_X_tell =np.array(new_X_tell)\n",
    "        new_X_tell =np.reshape(new_X_tell, (new_X_tell.shape[0], new_X_tell.shape[1],1))\n",
    "        \n",
    "        model_in_pd_scale = model_in.predict(new_X_tell)\n",
    "        model_in_price = scaler.inverse_transform(model_in_pd_scale) # New price predicted\n",
    "\n",
    "        last_sixty_less_one = np.delete(last_sixty, 0, 0)\n",
    "        last_sixty = np.append(last_sixty_less_one, model_in_price,axis = 0) # Update last 60\n",
    "        print(i)\n",
    "        print(\"Day finished! Price: \")\n",
    "        price_float = float(model_in_price)\n",
    "        price = round(price_float, 2)\n",
    "        price_list.append(price)\n",
    "    else:\n",
    "        print(\"Could not predict further!\")\n",
    "        print(input)\n",
    "    # print(price_list)\n",
    "    return price_list\n",
    "\n",
    "price_pred = predict_sto(last_sixty,model_in,input)\n",
    "price_pred"
   ]
  },
  {
   "cell_type": "code",
   "execution_count": 34,
   "metadata": {},
   "outputs": [
    {
     "name": "stdout",
     "output_type": "stream",
     "text": [
      "<bound method NDFrame.tail of      Count        Date        DOW\n",
      "0        1  04-08-2022   Thursday\n",
      "1        2  05-08-2022     Friday\n",
      "2        3  08-08-2022     Monday\n",
      "3        4  09-08-2022    Tuesday\n",
      "4        5  10-08-2022  Wednesday\n",
      "..     ...         ...        ...\n",
      "203    204  16-05-2023    Tuesday\n",
      "204    205  17-05-2023  Wednesday\n",
      "205    206  18-05-2023   Thursday\n",
      "206    207  19-05-2023     Friday\n",
      "207    208  22-05-2023     Monday\n",
      "\n",
      "[208 rows x 3 columns]>\n"
     ]
    }
   ],
   "source": [
    "import pandas as pd\n",
    "from datetime import date,datetime,timedelta\n",
    "today1 = date.today()\n",
    "count=[]\n",
    "dates=[]\n",
    "dow=[]\n",
    "row=0\n",
    "for x in range(1,293,1): \n",
    "  d=today1+timedelta(days=x)\n",
    "  a=d.strftime(\"%A\")\n",
    "  if a != \"Saturday\" and a != \"Sunday\":\n",
    "     dates.append(d.strftime('%d-%m-%Y'))\n",
    "     dow.append(a)\n",
    "     row=row+1\n",
    "     count.append(row)\n",
    "\n",
    "data = {'Count': count,\n",
    "        'Date': dates,\n",
    "        'DOW': dow\n",
    "        }\n",
    "dates_df = pd.DataFrame(data)\n",
    "print (dates_df.tail)"
   ]
  },
  {
   "cell_type": "code",
   "execution_count": null,
   "metadata": {},
   "outputs": [],
   "source": []
  },
  {
   "cell_type": "code",
   "execution_count": 35,
   "metadata": {},
   "outputs": [
    {
     "name": "stdout",
     "output_type": "stream",
     "text": [
      "2022-07-28 00:00:00 2022-08-03 00:00:00\n",
      "-7 days, 15:15:09.122586\n",
      "[[ObjectId('62e112b2fb7cbba54bf62c9f') 199 '02-05-2023' 'Tuesday']\n",
      " [ObjectId('62e112b2fb7cbba54bf62ca0') 200 '03-05-2023' 'Wednesday']\n",
      " [ObjectId('62e112b2fb7cbba54bf62ca1') 201 '04-05-2023' 'Thursday']\n",
      " [ObjectId('62e112b2fb7cbba54bf62ca2') 202 '05-05-2023' 'Friday']\n",
      " [ObjectId('62e112b2fb7cbba54bf62ca3') 203 '08-05-2023' 'Monday']\n",
      " [ObjectId('62e112b2fb7cbba54bf62ca4') 204 '09-05-2023' 'Tuesday']\n",
      " [ObjectId('62e112b2fb7cbba54bf62ca5') 205 '10-05-2023' 'Wednesday']\n",
      " [ObjectId('62e112b2fb7cbba54bf62ca6') 206 '11-05-2023' 'Thursday']\n",
      " [ObjectId('62e112b2fb7cbba54bf62ca7') 207 '12-05-2023' 'Friday']\n",
      " [ObjectId('62e112b2fb7cbba54bf62ca8') 208 '15-05-2023' 'Monday']]\n"
     ]
    }
   ],
   "source": [
    "today1= datetime.today()\n",
    "today3=today1.strftime('%d-%m-%Y')\n",
    "today2=datetime.strptime(today3, '%d-%m-%Y')\n",
    "\n",
    "\n",
    "#Check if mongoDb now has latest data\n",
    "dates_df = pd.DataFrame(list(db.dates.find()))\n",
    "dates_val = dates_df.iloc[0].values\n",
    "last_date1=dates_val[2]\n",
    "last_date2 = datetime.strptime(last_date1, '%d-%m-%Y')\n",
    "last_date3=from_date.strftime('%d-%m-%Y')\n",
    "\n",
    "today_str=today1.strftime('%d-%m-%Y')\n",
    "\n",
    "print(last_date2,today2)\n",
    "diff=last_date2-today1\n",
    "\n",
    "if diff is None:\n",
    "    print(\"huh\")\n",
    "else:\n",
    "    print(diff)\n",
    "\n",
    "    # Drop all previous records now in MongoDb\n",
    "    db.dates.drop()\n",
    "\n",
    "    records=dates_df.to_dict('records')\n",
    "\n",
    "    #INSERT NEW DATA INTO MONGODB\n",
    "    db.dates.insert_many(records)\n",
    "\n",
    "    #Check if mongoDb now has latest data\n",
    "    dates_df = pd.DataFrame(list(db.dates.find()))\n",
    "    dates_val = dates_df.iloc[-10:].values\n",
    "    print(dates_val)\n"
   ]
  },
  {
   "cell_type": "code",
   "execution_count": 36,
   "metadata": {},
   "outputs": [
    {
     "data": {
      "text/html": [
       "<div>\n",
       "<style scoped>\n",
       "    .dataframe tbody tr th:only-of-type {\n",
       "        vertical-align: middle;\n",
       "    }\n",
       "\n",
       "    .dataframe tbody tr th {\n",
       "        vertical-align: top;\n",
       "    }\n",
       "\n",
       "    .dataframe thead th {\n",
       "        text-align: right;\n",
       "    }\n",
       "</style>\n",
       "<table border=\"1\" class=\"dataframe\">\n",
       "  <thead>\n",
       "    <tr style=\"text-align: right;\">\n",
       "      <th></th>\n",
       "      <th>Count</th>\n",
       "      <th>Date</th>\n",
       "      <th>DOW</th>\n",
       "    </tr>\n",
       "  </thead>\n",
       "  <tbody>\n",
       "    <tr>\n",
       "      <th>0</th>\n",
       "      <td>1</td>\n",
       "      <td>28-07-2022</td>\n",
       "      <td>Thursday</td>\n",
       "    </tr>\n",
       "    <tr>\n",
       "      <th>1</th>\n",
       "      <td>2</td>\n",
       "      <td>29-07-2022</td>\n",
       "      <td>Friday</td>\n",
       "    </tr>\n",
       "    <tr>\n",
       "      <th>2</th>\n",
       "      <td>3</td>\n",
       "      <td>01-08-2022</td>\n",
       "      <td>Monday</td>\n",
       "    </tr>\n",
       "    <tr>\n",
       "      <th>3</th>\n",
       "      <td>4</td>\n",
       "      <td>02-08-2022</td>\n",
       "      <td>Tuesday</td>\n",
       "    </tr>\n",
       "    <tr>\n",
       "      <th>4</th>\n",
       "      <td>5</td>\n",
       "      <td>03-08-2022</td>\n",
       "      <td>Wednesday</td>\n",
       "    </tr>\n",
       "    <tr>\n",
       "      <th>...</th>\n",
       "      <td>...</td>\n",
       "      <td>...</td>\n",
       "      <td>...</td>\n",
       "    </tr>\n",
       "    <tr>\n",
       "      <th>203</th>\n",
       "      <td>204</td>\n",
       "      <td>09-05-2023</td>\n",
       "      <td>Tuesday</td>\n",
       "    </tr>\n",
       "    <tr>\n",
       "      <th>204</th>\n",
       "      <td>205</td>\n",
       "      <td>10-05-2023</td>\n",
       "      <td>Wednesday</td>\n",
       "    </tr>\n",
       "    <tr>\n",
       "      <th>205</th>\n",
       "      <td>206</td>\n",
       "      <td>11-05-2023</td>\n",
       "      <td>Thursday</td>\n",
       "    </tr>\n",
       "    <tr>\n",
       "      <th>206</th>\n",
       "      <td>207</td>\n",
       "      <td>12-05-2023</td>\n",
       "      <td>Friday</td>\n",
       "    </tr>\n",
       "    <tr>\n",
       "      <th>207</th>\n",
       "      <td>208</td>\n",
       "      <td>15-05-2023</td>\n",
       "      <td>Monday</td>\n",
       "    </tr>\n",
       "  </tbody>\n",
       "</table>\n",
       "<p>208 rows × 3 columns</p>\n",
       "</div>"
      ],
      "text/plain": [
       "     Count        Date        DOW\n",
       "0        1  28-07-2022   Thursday\n",
       "1        2  29-07-2022     Friday\n",
       "2        3  01-08-2022     Monday\n",
       "3        4  02-08-2022    Tuesday\n",
       "4        5  03-08-2022  Wednesday\n",
       "..     ...         ...        ...\n",
       "203    204  09-05-2023    Tuesday\n",
       "204    205  10-05-2023  Wednesday\n",
       "205    206  11-05-2023   Thursday\n",
       "206    207  12-05-2023     Friday\n",
       "207    208  15-05-2023     Monday\n",
       "\n",
       "[208 rows x 3 columns]"
      ]
     },
     "execution_count": 36,
     "metadata": {},
     "output_type": "execute_result"
    }
   ],
   "source": [
    "dates_df = pd.DataFrame(list(db.dates.find()))\n",
    "dates_val = dates_df.iloc[0:,1:]\n",
    "# dates_df['Count'].dtype\n",
    "# dates_df_iloc = dates_df.iloc[0:180,1:]\n",
    "dates_val"
   ]
  },
  {
   "cell_type": "code",
   "execution_count": 37,
   "metadata": {},
   "outputs": [],
   "source": [
    "# import pandas as pd\n",
    "# dates_df = pd.read_csv(\"../static/data/dates.csv\")\n",
    "# dates_df['Count'] = dates_df['Count'].fillna(0).astype(int)\n",
    "# dates_df"
   ]
  },
  {
   "cell_type": "code",
   "execution_count": 38,
   "metadata": {},
   "outputs": [
    {
     "name": "stderr",
     "output_type": "stream",
     "text": [
      "C:\\Users\\antoi\\AppData\\Local\\Temp/ipykernel_14192/1295002473.py:4: SettingWithCopyWarning: \n",
      "A value is trying to be set on a copy of a slice from a DataFrame.\n",
      "Try using .loc[row_indexer,col_indexer] = value instead\n",
      "\n",
      "See the caveats in the documentation: https://pandas.pydata.org/pandas-docs/stable/user_guide/indexing.html#returning-a-view-versus-a-copy\n",
      "  dates_df_iloc['Price'] = price_list\n"
     ]
    },
    {
     "data": {
      "image/png": "[encoded data removed]",
      "text/plain": [
       "<Figure size 432x288 with 1 Axes>"
      ]
     },
     "metadata": {},
     "output_type": "display_data"
    }
   ],
   "source": [
    "# DRAW THE PREDICTION\n",
    "#Append the input amount of trading days to dates dictionary\n",
    "dates_df_iloc = dates_df.iloc[0:(input-1)]\n",
    "dates_df_iloc['Price'] = price_list\n",
    "plt.plot(dates_df_iloc['Price'])\n",
    "plt.title('STO LSTM PREDICTIONS')\n",
    "plt.xlabel('Future Trading Days', fontsize=10)\n",
    "plt.ylabel('Close Price AUD ($)',fontsize=10)\n",
    "plt.savefig('../static/data/images/pred/sto_pred.png', bbox_inches=\"tight\")\n",
    "plt.show()"
   ]
  },
  {
   "cell_type": "code",
   "execution_count": 39,
   "metadata": {},
   "outputs": [
    {
     "name": "stdout",
     "output_type": "stream",
     "text": [
      "{'_id': ObjectId('62e112b2fb7cbba54bf62bd9'), 'Count': 1, 'Date': '28-07-2022', 'DOW': 'Thursday', 'Price': 7.22}\n"
     ]
    }
   ],
   "source": [
    "#Append the input amount of trading days to dates dictionary\n",
    "my_dict = dates_df_iloc.to_dict(orient='records')\n",
    "print(my_dict[0])\n",
    "price_dict = [dict(zip(['Price'],[x])) for x in price_list]\n",
    "# print(price_dict[0])"
   ]
  },
  {
   "cell_type": "code",
   "execution_count": 40,
   "metadata": {},
   "outputs": [
    {
     "name": "stdout",
     "output_type": "stream",
     "text": [
      "6966 8707 8885\n"
     ]
    }
   ],
   "source": [
    "len_df_mongo = len(df_mongo) # length of the original dataframe\n",
    "col_name = ['Close']\n",
    "df_filtered = df.filter(col_name)\n",
    "df_filtered_len = len(df_filtered.index)\n",
    "df_filtered_len\n",
    "len_pred_df = df_filtered_len+input # length of the original dataframe plus the users new inputs\n",
    "\n",
    "new_data =df_filtered.append(pd.DataFrame(price_list,columns=col_name),ignore_index=True)\n",
    "new_data.tail(10)\n",
    "print(train_data_len,len_df_mongo,len_pred_df)\n"
   ]
  },
  {
   "cell_type": "code",
   "execution_count": 41,
   "metadata": {},
   "outputs": [
    {
     "name": "stdout",
     "output_type": "stream",
     "text": [
      "FIRST DATA VALUE: 1/02/1988\n"
     ]
    }
   ],
   "source": [
    "first_val=df_mongo.iloc[:,1].values\n",
    "first_date = first_val[0]\n",
    "print(\"FIRST DATA VALUE: \"+first_date.strip('/02'))"
   ]
  },
  {
   "cell_type": "code",
   "execution_count": 42,
   "metadata": {},
   "outputs": [
    {
     "name": "stderr",
     "output_type": "stream",
     "text": [
      "C:\\Users\\antoi\\AppData\\Local\\Temp/ipykernel_14192/1562858495.py:6: SettingWithCopyWarning: \n",
      "A value is trying to be set on a copy of a slice from a DataFrame.\n",
      "Try using .loc[row_indexer,col_indexer] = value instead\n",
      "\n",
      "See the caveats in the documentation: https://pandas.pydata.org/pandas-docs/stable/user_guide/indexing.html#returning-a-view-versus-a-copy\n",
      "  valid['Predictions'] = predictions # another column for validating test\n"
     ]
    },
    {
     "data": {
      "image/png": "[encoded data removed]",
      "text/plain": [
       "<Figure size 1152x576 with 1 Axes>"
      ]
     },
     "metadata": {},
     "output_type": "display_data"
    }
   ],
   "source": [
    "#Plot the data to validate the test data\n",
    "\n",
    "plt.style.use('fivethirtyeight')\n",
    "train = new_data.iloc[:train_data_len] # actual train data from 0 rows until train data end\n",
    "valid = new_data.iloc[train_data_len:len_df_mongo] # actual test data from train data end until end of all sampled data\n",
    "valid['Predictions'] = predictions # another column for validating test\n",
    "predict = new_data.iloc[len_df_mongo:len_pred_df] # user prediction data from loop\n",
    "\n",
    "plt.figure(figsize=(16,8))\n",
    "plt.title('PREDICTION STO Share Price - LSTM Model')\n",
    "plt.xlabel('Trading Date', fontsize=18)\n",
    "plt.ylabel('Close Price AUD ($)',fontsize=18)\n",
    "plt.plot(train['Close'])\n",
    "plt.plot(valid[['Close','Predictions']])\n",
    "plt.plot(predict['Close'])\n",
    "plt.legend(['Training data','Tested data','Validate test data','Prediction'],loc='lower right')\n",
    "# x = np.arange(1988,2018,6)\n",
    "plt.xticks([0,2000,4000,4000,8000],[1998,2004,2010,2010,2020])\n",
    "plt.savefig('../static/data/images/sto_predict_graph.png')\n",
    "plt.show()"
   ]
  },
  {
   "cell_type": "markdown",
   "metadata": {},
   "source": [
    "#Save predicted price to MongoDB"
   ]
  },
  {
   "cell_type": "code",
   "execution_count": 43,
   "metadata": {},
   "outputs": [
    {
     "name": "stdout",
     "output_type": "stream",
     "text": [
      "{'_id': ObjectId('62e5fa07a26c8f51fec3b98e'), 'model': 'RFR', 'name': 'STO', 'date': '29/07/2022', 'predicted': 8, 'actual': 7, 'difference': 1.9036, 'accuracy': 96.1}\n",
      "{'_id': ObjectId('62e6293d61d30df3b02b8133'), 'model': 'LSTM', 'name': 'STO', 'date': '29/07/2022', 'predicted': 6, 'actual': 7.3, 'difference': -1.3, 'rmse': 0.43219}\n"
     ]
    }
   ],
   "source": [
    "# Query all\n",
    "name = 'STO'\n",
    "companys = db.companys.find({'name': name})\n",
    "# Iterate through each company in the collection\n",
    "for company in companys:\n",
    "    print(company)"
   ]
  },
  {
   "cell_type": "code",
   "execution_count": 44,
   "metadata": {},
   "outputs": [
    {
     "name": "stdout",
     "output_type": "stream",
     "text": [
      "{'_id': ObjectId('62e5fa07a26c8f51fec3b98e'), 'model': 'RFR', 'name': 'STO', 'date': '29/07/2022', 'predicted': 8, 'actual': 7, 'difference': 1.9036, 'accuracy': 96.1}\n"
     ]
    }
   ],
   "source": [
    "# Delete a document from a collection\n",
    "db.companys.delete_one(\n",
    "    {'model': 'LSTM','name': name}\n",
    ")\n",
    "\n",
    "# query the companys collection\n",
    "companys = db.companys.find({'name': name})\n",
    "# see change in the collection\n",
    "for company in companys:\n",
    "    print(company)"
   ]
  },
  {
   "cell_type": "code",
   "execution_count": 45,
   "metadata": {},
   "outputs": [
    {
     "name": "stdout",
     "output_type": "stream",
     "text": [
      "date 02/08/2022,predicted $6, actual $7.24, difference -1.2400000000000002, rmse 0.25723\n"
     ]
    }
   ],
   "source": [
    "# Set keys and values of company\n",
    "name = 'STO'\n",
    "# Set keys and values of company\n",
    "last_close=round(float(last_close),2)\n",
    "difference = pred_price-last_close\n",
    "print(f'date {last_date},predicted ${pred_price}, actual ${last_close}, difference {difference}, rmse {round(rmse,5)}')"
   ]
  },
  {
   "cell_type": "code",
   "execution_count": 46,
   "metadata": {},
   "outputs": [
    {
     "name": "stdout",
     "output_type": "stream",
     "text": [
      "{'_id': ObjectId('62e5fa07a26c8f51fec3b98e'), 'model': 'RFR', 'name': 'STO', 'date': '29/07/2022', 'predicted': 8, 'actual': 7, 'difference': 1.9036, 'accuracy': 96.1}\n",
      "{'_id': ObjectId('62e9a8e374c2537bdd4ea798'), 'model': 'LSTM', 'name': 'STO', 'date': '02/08/2022', 'predicted': 6, 'actual': 7.24, 'difference': -1.24, 'rmse': 0.25723}\n"
     ]
    }
   ],
   "source": [
    "# Insert a document into the 'companys' collection\n",
    "db.companys.insert_one(\n",
    "    {\n",
    "      'model': 'LSTM',\n",
    "      'name': name,\n",
    "      'date': last_date,\n",
    "      'predicted': pred_price,\n",
    "      'actual': last_close,\n",
    "      'difference': round(difference,4),\n",
    "      'rmse': round(rmse,5)        \n",
    "    }\n",
    ")\n",
    "\n",
    "# query the classroom collection\n",
    "companys = db.companys.find({'name': name})\n",
    "\n",
    "# see change in collection\n",
    "for company in companys:\n",
    "    print(company)"
   ]
  },
  {
   "cell_type": "code",
   "execution_count": 47,
   "metadata": {},
   "outputs": [
    {
     "name": "stdout",
     "output_type": "stream",
     "text": [
      "{'_id': ObjectId('62cfb5f0a3e49b5607e1001b'), 'model': 'RFR', 'name': 'nhc', 'date': '14/07/2022', 'predicted': 3, 'actual': 4, 'differece': -0.4134955929131614, 'accuracy': 95.31}\n",
      "{'_id': ObjectId('62df8ae0427af058c4334ede'), 'model': 'RFR', 'name': 'CBA', 'date': '26/07/2022', 'predicted': 97, 'actual': 96, 'differece': 1.0204273335669143, 'accuracy': 97.43}\n",
      "{'_id': ObjectId('62dfa392f178c5283b8b5648'), 'model': 'RFR', 'name': 'MIN', 'date': '22/07/2022', 'predicted': 38, 'actual': 46, 'differece': -7.74920083942115, 'accuracy': 93.63}\n",
      "{'_id': ObjectId('62dfa4d3643d249dfcfea5f3'), 'model': 'RFR', 'name': 'NAB', 'date': '26/07/2022', 'predicted': 28, 'actual': 29, 'differece': -0.9521357946721061, 'accuracy': 97.23}\n",
      "{'_id': ObjectId('62e223a5553c4e8d8e53f30a'), 'model': 'LSTM', 'name': 'NHC', 'date': '28/07/2022', 'predicted': 4, 'actual': 4.4, 'differece': -0.15000000000000036, 'rmse': 0.04529}\n",
      "{'_id': ObjectId('62e230eafd3e48eabe9b8365'), 'model': 'RFR', 'name': 'WBC', 'date': '28/07/2022', 'predicted': 31, 'actual': 21, 'differece': 10.425907785164608, 'accuracy': 97.16}\n",
      "{'_id': ObjectId('62e236dd0512e77444960bd6'), 'model': 'RFR', 'name': 'NIC', 'date': '28/07/2022', 'predicted': 0.92, 'actual': 1.09, 'differece': -0.170910457265107, 'accuracy': 91.93}\n",
      "{'_id': ObjectId('62e344e41db0d4fd35f906fc'), 'model': 'RFR', 'name': 'BHP', 'date': '28/07/2022', 'predicted': 46, 'actual': 37, 'differece': 9.531186964187029, 'accuracy': 96.63}\n",
      "{'_id': ObjectId('62e36c15061c0e61acc858fc'), 'model': 'RFR', 'name': 'NHC', 'date': '28/07/2022', 'predicted': 3.57, 'actual': 4.4, 'differece': -0.83, 'accuracy': 95.24}\n",
      "{'_id': ObjectId('62e36d4d3ecef61f4fa45c4f'), 'model': 'RFR', 'name': 'LYC', 'date': '28/07/2022', 'predicted': 6, 'actual': 8, 'differece': -1.6143369469894608, 'accuracy': 89.99}\n",
      "{'_id': ObjectId('62e39fc31db0d4fd35f90704'), 'model': 'RFR', 'name': 'SHL', 'date': '29/07/2022', 'predicted': 32, 'actual': 34, 'differece': -1.9845215812565442, 'accuracy': 96.92}\n",
      "{'_id': ObjectId('62e3b609582c490ccc726a69'), 'model': 'RFR', 'name': 'MQG', 'date': '29/07/2022', 'predicted': 140, 'actual': 181, 'differece': -40.07434365179597, 'accuracy': 96.3}\n",
      "{'_id': ObjectId('62e47c25ddd32d7e027d5c65'), 'model': 'LSTM', 'name': 'fmg', 'date': '29/07/2022', 'predicted': 19, 'actual': 18.34, 'differece': 0.6600000000000001, 'rmse': 0.73826}\n",
      "{'_id': ObjectId('62e47f0dd8ea1e501830cc74'), 'model': 'RFR', 'name': 'CSL', 'date': '28/07/2022', 'predicted': 244, 'actual': 289, 'differece': -44.766444751532276, 'accuracy': 96.25}\n",
      "{'_id': ObjectId('62e481c2f248345c96c9494d'), 'model': 'RFR', 'name': 'fmg', 'date': '29/07/2022', 'predicted': 12, 'actual': 18, 'differece': -5.209653763866996, 'accuracy': 91.31}\n",
      "{'_id': ObjectId('62e48709f248345c96c94950'), 'model': 'RFR', 'name': 'FMG', 'date': '29/07/2022', 'predicted': 12, 'actual': 18, 'differece': -5.209653763866996, 'accuracy': 91.31}\n",
      "{'_id': ObjectId('62e4b499ae01b19986bd7786'), 'model': 'RFR', 'name': 'WDS', 'date': '29/07/2022', 'predicted': 41, 'actual': 31, 'differece': 10.379854935366822, 'accuracy': 96.85}\n",
      "{'_id': ObjectId('62e50595000bd2fa71a88d82'), 'model': 'RFR', 'name': 'wes', 'date': '29/07/2022', 'predicted': 44, 'actual': 38, 'difference': 6.9125, 'accuracy': 97.16}\n",
      "{'_id': ObjectId('62e509e0eccd83cafd3f67a0'), 'model': 'RFR', 'name': 'WOW', 'date': '29/07/2022', 'predicted': 40, 'actual': 37, 'difference': 3.4309, 'accuracy': 97.47}\n",
      "{'_id': ObjectId('62e5c2c1e4b78d2e67be8ed0'), 'model': 'RFR', 'name': 'TCL', 'date': '29/07/2022', 'predicted': 14, 'actual': 14, 'difference': 0.2165, 'accuracy': 97.16}\n",
      "{'_id': ObjectId('62e5c440f8275a0e310a35c2'), 'model': 'RFR', 'name': 'bhp', 'date': '28/07/2022', 'predicted': 46, 'actual': 37, 'difference': 9.5312, 'accuracy': 96.63}\n",
      "{'_id': ObjectId('62e5c51ef8275a0e310a35c5'), 'model': 'RFR', 'name': 'GMG', 'date': '29/07/2022', 'predicted': 18, 'actual': 20, 'difference': -1.7349, 'accuracy': 95.85}\n",
      "{'_id': ObjectId('62e5c6f68d8c67d07d68d3dd'), 'model': 'RFR', 'name': 'WES', 'date': '29/07/2022', 'predicted': 44, 'actual': 46, 'difference': -1.0795, 'accuracy': 97.16}\n",
      "{'_id': ObjectId('62e5f73678803df19b49e2e2'), 'model': 'LSTM', 'name': 'S32', 'date': '29/07/2022', 'predicted': 3, 'actual': 3.81, 'difference': -0.81, 'rmse': 0.00556}\n",
      "{'_id': ObjectId('62e5f95b66dc62408069f355'), 'model': 'RFR', 'name': 'NCM', 'date': '29/07/2022', 'predicted': 32, 'actual': 19, 'difference': 13.4814, 'accuracy': 95.05}\n",
      "{'_id': ObjectId('62e5fa07a26c8f51fec3b98e'), 'model': 'RFR', 'name': 'STO', 'date': '29/07/2022', 'predicted': 8, 'actual': 7, 'difference': 1.9036, 'accuracy': 96.1}\n",
      "{'_id': ObjectId('62e603ea8b5a50a58d8a3c44'), 'model': 'RFR', 'name': 'S32', 'date': '29/07/2022', 'predicted': 5, 'actual': 3, 'difference': 2.2663, 'accuracy': 95.25}\n",
      "{'_id': ObjectId('62e61a59f0b1c9c10496cd17'), 'model': 'LSTM', 'name': 'NIC', 'date': '29/07/2022', 'predicted': 0.98, 'actual': 1.09, 'difference': -0.11, 'rmse': 0.06457}\n",
      "{'_id': ObjectId('62e630de01fb10179c7be4b4'), 'model': 'LSTM', 'name': 'SHL', 'date': '29/07/2022', 'predicted': 33, 'actual': 34.27, 'difference': -1.27, 'rmse': 0.07788}\n",
      "{'_id': ObjectId('62e63809b66c4b7fa3db1a22'), 'model': 'RFR', 'name': 'anz', 'date': '29/07/2022', 'predicted': 33, 'actual': 22, 'difference': 11.1838, 'accuracy': 97.09}\n",
      "{'_id': ObjectId('62e79232e8f9771757706e98'), 'model': 'RFR', 'name': 'ANZ', 'date': '29/07/2022', 'predicted': 33, 'actual': 22, 'difference': 11.1838, 'accuracy': 97.09}\n",
      "{'_id': ObjectId('62e89d76aca4dfecd59ea2b5'), 'model': 'LSTM', 'name': 'BHP', 'date': '02/08/2022', 'predicted': 36, 'actual': 38.5, 'difference': -2.5, 'rmse': 1.92406}\n",
      "{'_id': ObjectId('62e89ea1c861fc9168019521'), 'model': 'LSTM', 'name': 'CBA', 'date': '02/08/2022', 'predicted': 96.49, 'actual': 101.84, 'difference': -5.35, 'rmse': 1.95705}\n",
      "{'_id': ObjectId('62e89f8c573d4d6ff28140cc'), 'model': 'LSTM', 'name': 'CSL', 'date': '02/08/2022', 'predicted': 20.86, 'actual': 296.17, 'difference': -275.31, 'rmse': 2.55927}\n",
      "{'_id': ObjectId('62e8a15c9c9e803afb20722b'), 'model': 'LSTM', 'name': 'GMG', 'date': '02/08/2022', 'predicted': 19, 'actual': 20.21, 'difference': -1.21, 'rmse': 0.42871}\n",
      "{'_id': ObjectId('62e8d1006268ec69462793ef'), 'model': 'LSTM', 'name': 'LYC', 'date': '02/08/2022', 'predicted': 20.89, 'actual': 8.88, 'difference': 12.01, 'rmse': 0.01834}\n",
      "{'_id': ObjectId('62e8dc2feec2ef8f24254be9'), 'model': 'LSTM', 'name': 'ANZ', 'date': '27-07-2022', 'predicted': 19, 'actual': 22.73, 'difference': -3.73, 'rmse': 3.47658}\n",
      "{'_id': ObjectId('62e8dca0b10b641fd8c7ccc0'), 'model': 'LSTM', 'name': 'MIN', 'date': '02/08/2022', 'predicted': 54.55, 'actual': 53.08, 'difference': 1.47, 'rmse': 1.15967}\n",
      "{'_id': ObjectId('62e8dd30048a3cbb4c376d41'), 'model': 'LSTM', 'name': 'MQG', 'date': '02/08/2022', 'predicted': 170, 'actual': 178.86, 'difference': -8.86, 'rmse': 4.04163}\n",
      "{'_id': ObjectId('62e8ddca939e19158042c2d3'), 'model': 'LSTM', 'name': 'NAB', 'date': '02/08/2022', 'predicted': 30.06, 'actual': 30.96, 'difference': -0.9, 'rmse': 0.22289}\n",
      "{'_id': ObjectId('62e8ee73664b65ec69d765cf'), 'model': 'LSTM', 'name': 'NCM', 'date': '02/08/2022', 'predicted': 18, 'actual': 19.52, 'difference': -1.52, 'rmse': 0.65037}\n",
      "{'_id': ObjectId('62e99c9e7bcc52d27466076f'), 'model': 'LSTM', 'name': 'WOW', 'date': '02/08/2022', 'predicted': 37, 'actual': 38.6, 'difference': -1.6, 'rmse': 0.10503}\n",
      "{'_id': ObjectId('62e99ed6a6603b576513a662'), 'model': 'LSTM', 'name': 'WES', 'date': '02/08/2022', 'predicted': 46, 'actual': 47.57, 'difference': -1.57, 'rmse': 0.00558}\n",
      "{'_id': ObjectId('62e9a4b2177e6e36996be027'), 'model': 'LSTM', 'name': 'WDS', 'date': '02/08/2022', 'predicted': 31, 'actual': 32.59, 'difference': -1.59, 'rmse': 0.49726}\n",
      "{'_id': ObjectId('62e9a652ce9f5043b5bafdd3'), 'model': 'LSTM', 'name': 'WBC', 'date': '02/08/2022', 'predicted': 21.24, 'actual': 22.0, 'differece': -0.7600000000000016, 'rmse': 0.04543}\n",
      "{'_id': ObjectId('62e9a6f0d634397f62f6fb1a'), 'model': 'LSTM', 'name': 'FMG', 'date': '28/07/2022', 'predicted': 18, 'actual': 18.7, 'difference': -0.7, 'rmse': 0.00824}\n",
      "{'_id': ObjectId('62e9a7c0bdc1486f39b68a13'), 'model': 'LSTM', 'name': 'TCL', 'date': '02/08/2022', 'predicted': 14, 'actual': 14.71, 'difference': -0.71, 'rmse': 0.28498}\n",
      "{'_id': ObjectId('62e9a8e374c2537bdd4ea798'), 'model': 'LSTM', 'name': 'STO', 'date': '02/08/2022', 'predicted': 6, 'actual': 7.24, 'difference': -1.24, 'rmse': 0.25723}\n"
     ]
    }
   ],
   "source": [
    "# query all companys collection\n",
    "companys = db.companys.find()\n",
    "\n",
    "# see change in collection\n",
    "for company in companys:\n",
    "    print(company)"
   ]
  },
  {
   "cell_type": "code",
   "execution_count": 48,
   "metadata": {},
   "outputs": [
    {
     "name": "stdout",
     "output_type": "stream",
     "text": [
      "{'_id': ObjectId('62cfb5f0a3e49b5607e1001b'), 'model': 'RFR', 'name': 'nhc', 'date': '14/07/2022', 'predicted': 3, 'actual': 4, 'differece': -0.4134955929131614, 'accuracy': 95.31}\n",
      "{'_id': ObjectId('62df8ae0427af058c4334ede'), 'model': 'RFR', 'name': 'CBA', 'date': '26/07/2022', 'predicted': 97, 'actual': 96, 'differece': 1.0204273335669143, 'accuracy': 97.43}\n",
      "{'_id': ObjectId('62dfa392f178c5283b8b5648'), 'model': 'RFR', 'name': 'MIN', 'date': '22/07/2022', 'predicted': 38, 'actual': 46, 'differece': -7.74920083942115, 'accuracy': 93.63}\n",
      "{'_id': ObjectId('62dfa4d3643d249dfcfea5f3'), 'model': 'RFR', 'name': 'NAB', 'date': '26/07/2022', 'predicted': 28, 'actual': 29, 'differece': -0.9521357946721061, 'accuracy': 97.23}\n",
      "{'_id': ObjectId('62e223a5553c4e8d8e53f30a'), 'model': 'LSTM', 'name': 'NHC', 'date': '28/07/2022', 'predicted': 4, 'actual': 4.4, 'differece': -0.15000000000000036, 'rmse': 0.04529}\n",
      "{'_id': ObjectId('62e230eafd3e48eabe9b8365'), 'model': 'RFR', 'name': 'WBC', 'date': '28/07/2022', 'predicted': 31, 'actual': 21, 'differece': 10.425907785164608, 'accuracy': 97.16}\n",
      "{'_id': ObjectId('62e236dd0512e77444960bd6'), 'model': 'RFR', 'name': 'NIC', 'date': '28/07/2022', 'predicted': 0.92, 'actual': 1.09, 'differece': -0.170910457265107, 'accuracy': 91.93}\n",
      "{'_id': ObjectId('62e344e41db0d4fd35f906fc'), 'model': 'RFR', 'name': 'BHP', 'date': '28/07/2022', 'predicted': 46, 'actual': 37, 'differece': 9.531186964187029, 'accuracy': 96.63}\n",
      "{'_id': ObjectId('62e36c15061c0e61acc858fc'), 'model': 'RFR', 'name': 'NHC', 'date': '28/07/2022', 'predicted': 3.57, 'actual': 4.4, 'differece': -0.83, 'accuracy': 95.24}\n",
      "{'_id': ObjectId('62e36d4d3ecef61f4fa45c4f'), 'model': 'RFR', 'name': 'LYC', 'date': '28/07/2022', 'predicted': 6, 'actual': 8, 'differece': -1.6143369469894608, 'accuracy': 89.99}\n",
      "{'_id': ObjectId('62e39fc31db0d4fd35f90704'), 'model': 'RFR', 'name': 'SHL', 'date': '29/07/2022', 'predicted': 32, 'actual': 34, 'differece': -1.9845215812565442, 'accuracy': 96.92}\n",
      "{'_id': ObjectId('62e3b609582c490ccc726a69'), 'model': 'RFR', 'name': 'MQG', 'date': '29/07/2022', 'predicted': 140, 'actual': 181, 'differece': -40.07434365179597, 'accuracy': 96.3}\n",
      "{'_id': ObjectId('62e47c25ddd32d7e027d5c65'), 'model': 'LSTM', 'name': 'fmg', 'date': '29/07/2022', 'predicted': 19, 'actual': 18.34, 'differece': 0.6600000000000001, 'rmse': 0.73826}\n",
      "{'_id': ObjectId('62e47f0dd8ea1e501830cc74'), 'model': 'RFR', 'name': 'CSL', 'date': '28/07/2022', 'predicted': 244, 'actual': 289, 'differece': -44.766444751532276, 'accuracy': 96.25}\n",
      "{'_id': ObjectId('62e481c2f248345c96c9494d'), 'model': 'RFR', 'name': 'fmg', 'date': '29/07/2022', 'predicted': 12, 'actual': 18, 'differece': -5.209653763866996, 'accuracy': 91.31}\n",
      "{'_id': ObjectId('62e48709f248345c96c94950'), 'model': 'RFR', 'name': 'FMG', 'date': '29/07/2022', 'predicted': 12, 'actual': 18, 'differece': -5.209653763866996, 'accuracy': 91.31}\n",
      "{'_id': ObjectId('62e4b499ae01b19986bd7786'), 'model': 'RFR', 'name': 'WDS', 'date': '29/07/2022', 'predicted': 41, 'actual': 31, 'differece': 10.379854935366822, 'accuracy': 96.85}\n",
      "{'_id': ObjectId('62e50595000bd2fa71a88d82'), 'model': 'RFR', 'name': 'wes', 'date': '29/07/2022', 'predicted': 44, 'actual': 38, 'difference': 6.9125, 'accuracy': 97.16}\n",
      "{'_id': ObjectId('62e509e0eccd83cafd3f67a0'), 'model': 'RFR', 'name': 'WOW', 'date': '29/07/2022', 'predicted': 40, 'actual': 37, 'difference': 3.4309, 'accuracy': 97.47}\n",
      "{'_id': ObjectId('62e5c2c1e4b78d2e67be8ed0'), 'model': 'RFR', 'name': 'TCL', 'date': '29/07/2022', 'predicted': 14, 'actual': 14, 'difference': 0.2165, 'accuracy': 97.16}\n",
      "{'_id': ObjectId('62e5c440f8275a0e310a35c2'), 'model': 'RFR', 'name': 'bhp', 'date': '28/07/2022', 'predicted': 46, 'actual': 37, 'difference': 9.5312, 'accuracy': 96.63}\n",
      "{'_id': ObjectId('62e5c51ef8275a0e310a35c5'), 'model': 'RFR', 'name': 'GMG', 'date': '29/07/2022', 'predicted': 18, 'actual': 20, 'difference': -1.7349, 'accuracy': 95.85}\n",
      "{'_id': ObjectId('62e5c6f68d8c67d07d68d3dd'), 'model': 'RFR', 'name': 'WES', 'date': '29/07/2022', 'predicted': 44, 'actual': 46, 'difference': -1.0795, 'accuracy': 97.16}\n",
      "{'_id': ObjectId('62e5f73678803df19b49e2e2'), 'model': 'LSTM', 'name': 'S32', 'date': '29/07/2022', 'predicted': 3, 'actual': 3.81, 'difference': -0.81, 'rmse': 0.00556}\n",
      "{'_id': ObjectId('62e5f95b66dc62408069f355'), 'model': 'RFR', 'name': 'NCM', 'date': '29/07/2022', 'predicted': 32, 'actual': 19, 'difference': 13.4814, 'accuracy': 95.05}\n",
      "{'_id': ObjectId('62e5fa07a26c8f51fec3b98e'), 'model': 'RFR', 'name': 'STO', 'date': '29/07/2022', 'predicted': 8, 'actual': 7, 'difference': 1.9036, 'accuracy': 96.1}\n",
      "{'_id': ObjectId('62e603ea8b5a50a58d8a3c44'), 'model': 'RFR', 'name': 'S32', 'date': '29/07/2022', 'predicted': 5, 'actual': 3, 'difference': 2.2663, 'accuracy': 95.25}\n",
      "{'_id': ObjectId('62e61a59f0b1c9c10496cd17'), 'model': 'LSTM', 'name': 'NIC', 'date': '29/07/2022', 'predicted': 0.98, 'actual': 1.09, 'difference': -0.11, 'rmse': 0.06457}\n",
      "{'_id': ObjectId('62e630de01fb10179c7be4b4'), 'model': 'LSTM', 'name': 'SHL', 'date': '29/07/2022', 'predicted': 33, 'actual': 34.27, 'difference': -1.27, 'rmse': 0.07788}\n",
      "{'_id': ObjectId('62e63809b66c4b7fa3db1a22'), 'model': 'RFR', 'name': 'anz', 'date': '29/07/2022', 'predicted': 33, 'actual': 22, 'difference': 11.1838, 'accuracy': 97.09}\n",
      "{'_id': ObjectId('62e79232e8f9771757706e98'), 'model': 'RFR', 'name': 'ANZ', 'date': '29/07/2022', 'predicted': 33, 'actual': 22, 'difference': 11.1838, 'accuracy': 97.09}\n",
      "{'_id': ObjectId('62e89d76aca4dfecd59ea2b5'), 'model': 'LSTM', 'name': 'BHP', 'date': '02/08/2022', 'predicted': 36, 'actual': 38.5, 'difference': -2.5, 'rmse': 1.92406}\n",
      "{'_id': ObjectId('62e89ea1c861fc9168019521'), 'model': 'LSTM', 'name': 'CBA', 'date': '02/08/2022', 'predicted': 96.49, 'actual': 101.84, 'difference': -5.35, 'rmse': 1.95705}\n",
      "{'_id': ObjectId('62e89f8c573d4d6ff28140cc'), 'model': 'LSTM', 'name': 'CSL', 'date': '02/08/2022', 'predicted': 20.86, 'actual': 296.17, 'difference': -275.31, 'rmse': 2.55927}\n",
      "{'_id': ObjectId('62e8a15c9c9e803afb20722b'), 'model': 'LSTM', 'name': 'GMG', 'date': '02/08/2022', 'predicted': 19, 'actual': 20.21, 'difference': -1.21, 'rmse': 0.42871}\n",
      "{'_id': ObjectId('62e8d1006268ec69462793ef'), 'model': 'LSTM', 'name': 'LYC', 'date': '02/08/2022', 'predicted': 20.89, 'actual': 8.88, 'difference': 12.01, 'rmse': 0.01834}\n",
      "{'_id': ObjectId('62e8dc2feec2ef8f24254be9'), 'model': 'LSTM', 'name': 'ANZ', 'date': '27-07-2022', 'predicted': 19, 'actual': 22.73, 'difference': -3.73, 'rmse': 3.47658}\n",
      "{'_id': ObjectId('62e8dca0b10b641fd8c7ccc0'), 'model': 'LSTM', 'name': 'MIN', 'date': '02/08/2022', 'predicted': 54.55, 'actual': 53.08, 'difference': 1.47, 'rmse': 1.15967}\n",
      "{'_id': ObjectId('62e8dd30048a3cbb4c376d41'), 'model': 'LSTM', 'name': 'MQG', 'date': '02/08/2022', 'predicted': 170, 'actual': 178.86, 'difference': -8.86, 'rmse': 4.04163}\n",
      "{'_id': ObjectId('62e8ddca939e19158042c2d3'), 'model': 'LSTM', 'name': 'NAB', 'date': '02/08/2022', 'predicted': 30.06, 'actual': 30.96, 'difference': -0.9, 'rmse': 0.22289}\n",
      "{'_id': ObjectId('62e8ee73664b65ec69d765cf'), 'model': 'LSTM', 'name': 'NCM', 'date': '02/08/2022', 'predicted': 18, 'actual': 19.52, 'difference': -1.52, 'rmse': 0.65037}\n",
      "{'_id': ObjectId('62e99c9e7bcc52d27466076f'), 'model': 'LSTM', 'name': 'WOW', 'date': '02/08/2022', 'predicted': 37, 'actual': 38.6, 'difference': -1.6, 'rmse': 0.10503}\n",
      "{'_id': ObjectId('62e99ed6a6603b576513a662'), 'model': 'LSTM', 'name': 'WES', 'date': '02/08/2022', 'predicted': 46, 'actual': 47.57, 'difference': -1.57, 'rmse': 0.00558}\n",
      "{'_id': ObjectId('62e9a4b2177e6e36996be027'), 'model': 'LSTM', 'name': 'WDS', 'date': '02/08/2022', 'predicted': 31, 'actual': 32.59, 'difference': -1.59, 'rmse': 0.49726}\n",
      "{'_id': ObjectId('62e9a652ce9f5043b5bafdd3'), 'model': 'LSTM', 'name': 'WBC', 'date': '02/08/2022', 'predicted': 21.24, 'actual': 22.0, 'differece': -0.7600000000000016, 'rmse': 0.04543}\n",
      "{'_id': ObjectId('62e9a6f0d634397f62f6fb1a'), 'model': 'LSTM', 'name': 'FMG', 'date': '28/07/2022', 'predicted': 18, 'actual': 18.7, 'difference': -0.7, 'rmse': 0.00824}\n",
      "{'_id': ObjectId('62e9a7c0bdc1486f39b68a13'), 'model': 'LSTM', 'name': 'TCL', 'date': '02/08/2022', 'predicted': 14, 'actual': 14.71, 'difference': -0.71, 'rmse': 0.28498}\n",
      "{'_id': ObjectId('62e9a8e374c2537bdd4ea798'), 'model': 'LSTM', 'name': 'STO', 'date': '02/08/2022', 'predicted': 6, 'actual': 7.24, 'difference': -1.24, 'rmse': 0.25723}\n"
     ]
    }
   ],
   "source": [
    "# query all the classroom collection\n",
    "companys = db.companys.find()\n",
    "\n",
    "# see change in collection\n",
    "for company in companys:\n",
    "    print(company)"
   ]
  }
 ],
 "metadata": {
  "kernel_info": {
   "name": "dev"
  },
  "kernelspec": {
   "display_name": "Python 3.9.7 ('base')",
   "language": "python",
   "name": "python3"
  },
  "language_info": {
   "codemirror_mode": {
    "name": "ipython",
    "version": 3
   },
   "file_extension": ".py",
   "mimetype": "text/x-python",
   "name": "python",
   "nbconvert_exporter": "python",
   "pygments_lexer": "ipython3",
   "version": "3.9.7"
  },
  "nteract": {
   "version": "0.12.3"
  },
  "vscode": {
   "interpreter": {
    "hash": "45bb1cb4637e4034484920e5cfb24c9afd84b0847d6c36e39edd3067d3a05462"
   }
  }
 },
 "nbformat": 4,
 "nbformat_minor": 2
}
