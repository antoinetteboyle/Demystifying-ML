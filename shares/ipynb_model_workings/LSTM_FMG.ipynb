{
 "cells": [
  {
   "cell_type": "markdown",
   "metadata": {},
   "source": [
    "#This model uses LSTM to predict a Daily share price movements based on time series and batches of 60 days"
   ]
  },
  {
   "cell_type": "markdown",
   "metadata": {},
   "source": [
    "# Read the CSV and Perform Basic Data Cleaning"
   ]
  },
  {
   "cell_type": "code",
   "execution_count": 1,
   "metadata": {},
   "outputs": [],
   "source": [
    "import matplotlib.pyplot as plt\n",
    "import numpy as np\n",
    "import pandas as pd"
   ]
  },
  {
   "cell_type": "code",
   "execution_count": 2,
   "metadata": {},
   "outputs": [
    {
     "data": {
      "text/html": [
       "<div>\n",
       "<style scoped>\n",
       "    .dataframe tbody tr th:only-of-type {\n",
       "        vertical-align: middle;\n",
       "    }\n",
       "\n",
       "    .dataframe tbody tr th {\n",
       "        vertical-align: top;\n",
       "    }\n",
       "\n",
       "    .dataframe thead th {\n",
       "        text-align: right;\n",
       "    }\n",
       "</style>\n",
       "<table border=\"1\" class=\"dataframe\">\n",
       "  <thead>\n",
       "    <tr style=\"text-align: right;\">\n",
       "      <th></th>\n",
       "      <th>Date</th>\n",
       "      <th>Open</th>\n",
       "      <th>High</th>\n",
       "      <th>Low</th>\n",
       "      <th>Close</th>\n",
       "      <th>Adj Close</th>\n",
       "      <th>Volume</th>\n",
       "      <th>RBA</th>\n",
       "      <th>FED</th>\n",
       "      <th>CPI</th>\n",
       "    </tr>\n",
       "  </thead>\n",
       "  <tbody>\n",
       "    <tr>\n",
       "      <th>5864</th>\n",
       "      <td>1/08/2022</td>\n",
       "      <td>18.230000</td>\n",
       "      <td>18.430000</td>\n",
       "      <td>17.840000</td>\n",
       "      <td>18.209999</td>\n",
       "      <td>18.209999</td>\n",
       "      <td>9219358.0</td>\n",
       "      <td>1.35</td>\n",
       "      <td>2.5</td>\n",
       "      <td>125.0</td>\n",
       "    </tr>\n",
       "    <tr>\n",
       "      <th>5865</th>\n",
       "      <td>2/08/2022</td>\n",
       "      <td>17.900000</td>\n",
       "      <td>17.980000</td>\n",
       "      <td>17.469999</td>\n",
       "      <td>17.900000</td>\n",
       "      <td>17.900000</td>\n",
       "      <td>9001051.0</td>\n",
       "      <td>1.35</td>\n",
       "      <td>2.5</td>\n",
       "      <td>125.0</td>\n",
       "    </tr>\n",
       "    <tr>\n",
       "      <th>5866</th>\n",
       "      <td>3/08/2022</td>\n",
       "      <td>17.590000</td>\n",
       "      <td>18.080000</td>\n",
       "      <td>17.549999</td>\n",
       "      <td>18.020000</td>\n",
       "      <td>18.020000</td>\n",
       "      <td>5781276.0</td>\n",
       "      <td>1.85</td>\n",
       "      <td>2.5</td>\n",
       "      <td>125.0</td>\n",
       "    </tr>\n",
       "    <tr>\n",
       "      <th>5867</th>\n",
       "      <td>4/08/2022</td>\n",
       "      <td>17.980000</td>\n",
       "      <td>18.000000</td>\n",
       "      <td>17.660000</td>\n",
       "      <td>17.660000</td>\n",
       "      <td>17.660000</td>\n",
       "      <td>5632216.0</td>\n",
       "      <td>1.85</td>\n",
       "      <td>2.5</td>\n",
       "      <td>125.0</td>\n",
       "    </tr>\n",
       "    <tr>\n",
       "      <th>5868</th>\n",
       "      <td>5/08/2022</td>\n",
       "      <td>17.709999</td>\n",
       "      <td>17.959999</td>\n",
       "      <td>17.660000</td>\n",
       "      <td>17.799999</td>\n",
       "      <td>17.799999</td>\n",
       "      <td>1167998.0</td>\n",
       "      <td>1.85</td>\n",
       "      <td>2.5</td>\n",
       "      <td>125.0</td>\n",
       "    </tr>\n",
       "  </tbody>\n",
       "</table>\n",
       "</div>"
      ],
      "text/plain": [
       "           Date       Open       High        Low      Close  Adj Close  \\\n",
       "5864  1/08/2022  18.230000  18.430000  17.840000  18.209999  18.209999   \n",
       "5865  2/08/2022  17.900000  17.980000  17.469999  17.900000  17.900000   \n",
       "5866  3/08/2022  17.590000  18.080000  17.549999  18.020000  18.020000   \n",
       "5867  4/08/2022  17.980000  18.000000  17.660000  17.660000  17.660000   \n",
       "5868  5/08/2022  17.709999  17.959999  17.660000  17.799999  17.799999   \n",
       "\n",
       "         Volume   RBA  FED    CPI  \n",
       "5864  9219358.0  1.35  2.5  125.0  \n",
       "5865  9001051.0  1.35  2.5  125.0  \n",
       "5866  5781276.0  1.85  2.5  125.0  \n",
       "5867  5632216.0  1.85  2.5  125.0  \n",
       "5868  1167998.0  1.85  2.5  125.0  "
      ]
     },
     "execution_count": 2,
     "metadata": {},
     "output_type": "execute_result"
    }
   ],
   "source": [
    "df_stock1 = pd.read_csv(\"../static/data/fmg.csv\")\n",
    "# Drop the null columns where all values are null\n",
    "df_stock2 = df_stock1.dropna(axis='columns', how='all')\n",
    "# Drop the null rows\n",
    "df = df_stock2.dropna()\n",
    "# Drop the last rows to test prediction to actual\n",
    "df_stock_less1= df_stock2.iloc[:-1,:]\n",
    "df.tail()"
   ]
  },
  {
   "cell_type": "code",
   "execution_count": 3,
   "metadata": {},
   "outputs": [],
   "source": [
    "# Connect to MongoDb\n",
    "from pymongo import MongoClient\n",
    "mongoClient = MongoClient()\n",
    "db = mongoClient.sharesDB\n",
    "\n",
    "# # Drop all previous records now in MongoDb\n",
    "# db.fmg.drop()\n",
    "\n",
    "# # Insert df records in mongodb\n",
    "# records=df.to_dict('records')\n",
    "# records\n",
    "# db.fmg.insert_many(records)"
   ]
  },
  {
   "cell_type": "code",
   "execution_count": 4,
   "metadata": {},
   "outputs": [
    {
     "name": "stdout",
     "output_type": "stream",
     "text": [
      "DELETE: 29/08/2022 18.889999389648438\n"
     ]
    },
    {
     "data": {
      "text/plain": [
       "<pymongo.results.DeleteResult at 0x2315e3c2a80>"
      ]
     },
     "execution_count": 4,
     "metadata": {},
     "output_type": "execute_result"
    }
   ],
   "source": [
    "#Update latest data in mongoDb\n",
    "df_mongo = pd.DataFrame(list(db.fmg.find()))\n",
    "last_val = df_mongo.iloc[-1:].values\n",
    "\n",
    "last_date = last_val[0][1]\n",
    "last_close = last_val[0][5]\n",
    "print(\"DELETE: \"+last_date,last_close)\n",
    "\n",
    "db.fmg.delete_one(\n",
    "    {'Date': last_date}\n",
    ")\n"
   ]
  },
  {
   "cell_type": "code",
   "execution_count": 5,
   "metadata": {},
   "outputs": [
    {
     "name": "stdout",
     "output_type": "stream",
     "text": [
      "NEW LAST VALUE IN MONGODB: 26/08/2022 19.8700008392334\n",
      "Previous last date in MongoDb: 26-08-2022. Today's date: 30-08-2022\n"
     ]
    }
   ],
   "source": [
    "#Update latest data in mongoDb\n",
    "df_mongo = pd.DataFrame(list(db.fmg.find()))\n",
    "last_val = df_mongo.iloc[-1:].values\n",
    "\n",
    "last_date = last_val[0][1]\n",
    "last_close = last_val[0][5]\n",
    "print(\"NEW LAST VALUE IN MONGODB: \"+last_date,last_close)\n",
    "\n",
    "from datetime import date,datetime\n",
    "todaydt = date.today()\n",
    "today=todaydt.strftime('%d-%m-%Y')\n",
    "from_date = datetime.strptime(last_date, '%d/%m/%Y')\n",
    "last_date=from_date.strftime('%d-%m-%Y')\n",
    "print(\"Previous last date in MongoDb: \"+last_date+\". Today's date: \"+today)"
   ]
  },
  {
   "cell_type": "code",
   "execution_count": 6,
   "metadata": {},
   "outputs": [
    {
     "data": {
      "text/html": [
       "<div>\n",
       "<style scoped>\n",
       "    .dataframe tbody tr th:only-of-type {\n",
       "        vertical-align: middle;\n",
       "    }\n",
       "\n",
       "    .dataframe tbody tr th {\n",
       "        vertical-align: top;\n",
       "    }\n",
       "\n",
       "    .dataframe thead th {\n",
       "        text-align: right;\n",
       "    }\n",
       "</style>\n",
       "<table border=\"1\" class=\"dataframe\">\n",
       "  <thead>\n",
       "    <tr style=\"text-align: right;\">\n",
       "      <th></th>\n",
       "      <th>High</th>\n",
       "      <th>Low</th>\n",
       "      <th>Open</th>\n",
       "      <th>Close</th>\n",
       "      <th>Volume</th>\n",
       "      <th>Adj Close</th>\n",
       "    </tr>\n",
       "    <tr>\n",
       "      <th>Date</th>\n",
       "      <th></th>\n",
       "      <th></th>\n",
       "      <th></th>\n",
       "      <th></th>\n",
       "      <th></th>\n",
       "      <th></th>\n",
       "    </tr>\n",
       "  </thead>\n",
       "  <tbody>\n",
       "    <tr>\n",
       "      <th>2022-08-26</th>\n",
       "      <td>20.049999</td>\n",
       "      <td>19.26</td>\n",
       "      <td>19.260000</td>\n",
       "      <td>19.870001</td>\n",
       "      <td>7995973</td>\n",
       "      <td>19.870001</td>\n",
       "    </tr>\n",
       "    <tr>\n",
       "      <th>2022-08-29</th>\n",
       "      <td>19.850000</td>\n",
       "      <td>18.76</td>\n",
       "      <td>19.690001</td>\n",
       "      <td>18.889999</td>\n",
       "      <td>10124069</td>\n",
       "      <td>18.889999</td>\n",
       "    </tr>\n",
       "    <tr>\n",
       "      <th>2022-08-30</th>\n",
       "      <td>19.360001</td>\n",
       "      <td>18.82</td>\n",
       "      <td>19.000000</td>\n",
       "      <td>18.950001</td>\n",
       "      <td>9286576</td>\n",
       "      <td>18.950001</td>\n",
       "    </tr>\n",
       "  </tbody>\n",
       "</table>\n",
       "</div>"
      ],
      "text/plain": [
       "                 High    Low       Open      Close    Volume  Adj Close\n",
       "Date                                                                   \n",
       "2022-08-26  20.049999  19.26  19.260000  19.870001   7995973  19.870001\n",
       "2022-08-29  19.850000  18.76  19.690001  18.889999  10124069  18.889999\n",
       "2022-08-30  19.360001  18.82  19.000000  18.950001   9286576  18.950001"
      ]
     },
     "execution_count": 6,
     "metadata": {},
     "output_type": "execute_result"
    }
   ],
   "source": [
    "#Get latest quotes from yahoo finance:\n",
    "import pandas_datareader.data as web\n",
    "symbol = 'fmg.AX'\n",
    "start = from_date # yyyy-mm-dd\n",
    "end = todaydt  # yyyy-mm-dd\n",
    "stock_quote = web.DataReader(symbol,data_source='yahoo',start=start, end=end) # dataframe\n",
    "stock_quote\n"
   ]
  },
  {
   "cell_type": "code",
   "execution_count": 7,
   "metadata": {},
   "outputs": [
    {
     "data": {
      "text/html": [
       "<div>\n",
       "<style scoped>\n",
       "    .dataframe tbody tr th:only-of-type {\n",
       "        vertical-align: middle;\n",
       "    }\n",
       "\n",
       "    .dataframe tbody tr th {\n",
       "        vertical-align: top;\n",
       "    }\n",
       "\n",
       "    .dataframe thead th {\n",
       "        text-align: right;\n",
       "    }\n",
       "</style>\n",
       "<table border=\"1\" class=\"dataframe\">\n",
       "  <thead>\n",
       "    <tr style=\"text-align: right;\">\n",
       "      <th></th>\n",
       "      <th>High</th>\n",
       "      <th>Low</th>\n",
       "      <th>Open</th>\n",
       "      <th>Close</th>\n",
       "      <th>Volume</th>\n",
       "      <th>Adj Close</th>\n",
       "    </tr>\n",
       "    <tr>\n",
       "      <th>Date</th>\n",
       "      <th></th>\n",
       "      <th></th>\n",
       "      <th></th>\n",
       "      <th></th>\n",
       "      <th></th>\n",
       "      <th></th>\n",
       "    </tr>\n",
       "  </thead>\n",
       "  <tbody>\n",
       "    <tr>\n",
       "      <th>2022-08-29</th>\n",
       "      <td>19.850000</td>\n",
       "      <td>18.76</td>\n",
       "      <td>19.690001</td>\n",
       "      <td>18.889999</td>\n",
       "      <td>10124069</td>\n",
       "      <td>18.889999</td>\n",
       "    </tr>\n",
       "    <tr>\n",
       "      <th>2022-08-30</th>\n",
       "      <td>19.360001</td>\n",
       "      <td>18.82</td>\n",
       "      <td>19.000000</td>\n",
       "      <td>18.950001</td>\n",
       "      <td>9286576</td>\n",
       "      <td>18.950001</td>\n",
       "    </tr>\n",
       "  </tbody>\n",
       "</table>\n",
       "</div>"
      ],
      "text/plain": [
       "                 High    Low       Open      Close    Volume  Adj Close\n",
       "Date                                                                   \n",
       "2022-08-29  19.850000  18.76  19.690001  18.889999  10124069  18.889999\n",
       "2022-08-30  19.360001  18.82  19.000000  18.950001   9286576  18.950001"
      ]
     },
     "execution_count": 7,
     "metadata": {},
     "output_type": "execute_result"
    }
   ],
   "source": [
    "#remove last date already in mongodb\n",
    "stock_quote=stock_quote.iloc[1:]\n",
    "stock_quote"
   ]
  },
  {
   "cell_type": "code",
   "execution_count": 8,
   "metadata": {},
   "outputs": [
    {
     "name": "stderr",
     "output_type": "stream",
     "text": [
      "C:\\Users\\antoi\\AppData\\Local\\Temp/ipykernel_24856/307716900.py:12: SettingWithCopyWarning: \n",
      "A value is trying to be set on a copy of a slice from a DataFrame.\n",
      "Try using .loc[row_indexer,col_indexer] = value instead\n",
      "\n",
      "See the caveats in the documentation: https://pandas.pydata.org/pandas-docs/stable/user_guide/indexing.html#returning-a-view-versus-a-copy\n",
      "  stock_quote[\"RBA\"],stock_quote[\"FED\"],stock_quote[\"CPI\"] = a,b,c\n",
      "C:\\Users\\antoi\\AppData\\Local\\Temp/ipykernel_24856/307716900.py:15: SettingWithCopyWarning: \n",
      "A value is trying to be set on a copy of a slice from a DataFrame.\n",
      "Try using .loc[row_indexer,col_indexer] = value instead\n",
      "\n",
      "See the caveats in the documentation: https://pandas.pydata.org/pandas-docs/stable/user_guide/indexing.html#returning-a-view-versus-a-copy\n",
      "  stock_quote['Date'] = pd.to_datetime(stock_quote['Date'])\n",
      "C:\\Users\\antoi\\AppData\\Local\\Temp/ipykernel_24856/307716900.py:16: SettingWithCopyWarning: \n",
      "A value is trying to be set on a copy of a slice from a DataFrame.\n",
      "Try using .loc[row_indexer,col_indexer] = value instead\n",
      "\n",
      "See the caveats in the documentation: https://pandas.pydata.org/pandas-docs/stable/user_guide/indexing.html#returning-a-view-versus-a-copy\n",
      "  stock_quote['Date']=stock_quote['Date'].dt.strftime('%d/%m/%Y')\n",
      "C:\\Users\\antoi\\AppData\\Local\\Temp/ipykernel_24856/307716900.py:17: SettingWithCopyWarning: \n",
      "A value is trying to be set on a copy of a slice from a DataFrame.\n",
      "Try using .loc[row_indexer,col_indexer] = value instead\n",
      "\n",
      "See the caveats in the documentation: https://pandas.pydata.org/pandas-docs/stable/user_guide/indexing.html#returning-a-view-versus-a-copy\n",
      "  stock_quote['Date']=stock_quote['Date'].astype(str)\n"
     ]
    },
    {
     "data": {
      "text/html": [
       "<div>\n",
       "<style scoped>\n",
       "    .dataframe tbody tr th:only-of-type {\n",
       "        vertical-align: middle;\n",
       "    }\n",
       "\n",
       "    .dataframe tbody tr th {\n",
       "        vertical-align: top;\n",
       "    }\n",
       "\n",
       "    .dataframe thead th {\n",
       "        text-align: right;\n",
       "    }\n",
       "</style>\n",
       "<table border=\"1\" class=\"dataframe\">\n",
       "  <thead>\n",
       "    <tr style=\"text-align: right;\">\n",
       "      <th></th>\n",
       "      <th>Date</th>\n",
       "      <th>High</th>\n",
       "      <th>Low</th>\n",
       "      <th>Open</th>\n",
       "      <th>Close</th>\n",
       "      <th>Volume</th>\n",
       "      <th>Adj Close</th>\n",
       "      <th>RBA</th>\n",
       "      <th>FED</th>\n",
       "      <th>CPI</th>\n",
       "    </tr>\n",
       "  </thead>\n",
       "  <tbody>\n",
       "    <tr>\n",
       "      <th>0</th>\n",
       "      <td>29/08/2022</td>\n",
       "      <td>19.850000</td>\n",
       "      <td>18.76</td>\n",
       "      <td>19.690001</td>\n",
       "      <td>18.889999</td>\n",
       "      <td>10124069</td>\n",
       "      <td>18.889999</td>\n",
       "      <td>1.85</td>\n",
       "      <td>2.5</td>\n",
       "      <td>125</td>\n",
       "    </tr>\n",
       "    <tr>\n",
       "      <th>1</th>\n",
       "      <td>30/08/2022</td>\n",
       "      <td>19.360001</td>\n",
       "      <td>18.82</td>\n",
       "      <td>19.000000</td>\n",
       "      <td>18.950001</td>\n",
       "      <td>9286576</td>\n",
       "      <td>18.950001</td>\n",
       "      <td>1.85</td>\n",
       "      <td>2.5</td>\n",
       "      <td>125</td>\n",
       "    </tr>\n",
       "  </tbody>\n",
       "</table>\n",
       "</div>"
      ],
      "text/plain": [
       "         Date       High    Low       Open      Close    Volume  Adj Close  \\\n",
       "0  29/08/2022  19.850000  18.76  19.690001  18.889999  10124069  18.889999   \n",
       "1  30/08/2022  19.360001  18.82  19.000000  18.950001   9286576  18.950001   \n",
       "\n",
       "    RBA  FED  CPI  \n",
       "0  1.85  2.5  125  \n",
       "1  1.85  2.5  125  "
      ]
     },
     "execution_count": 8,
     "metadata": {},
     "output_type": "execute_result"
    }
   ],
   "source": [
    "tot=len(stock_quote)\n",
    "rba=1.85\n",
    "fed=2.5\n",
    "cpi=125\n",
    "a,b,c=[],[],[]\n",
    "for i in range(tot):\n",
    "    a.append(rba)\n",
    "    b.append(fed)\n",
    "    c.append(cpi)\n",
    "# print(a,b,c)\n",
    "#ADD NEW DATA IN DATAFRAME\n",
    "stock_quote[\"RBA\"],stock_quote[\"FED\"],stock_quote[\"CPI\"] = a,b,c\n",
    "stock_quote.reset_index(inplace=True)\n",
    "\n",
    "stock_quote['Date'] = pd.to_datetime(stock_quote['Date'])\n",
    "stock_quote['Date']=stock_quote['Date'].dt.strftime('%d/%m/%Y')\n",
    "stock_quote['Date']=stock_quote['Date'].astype(str)\n",
    "stock_quote"
   ]
  },
  {
   "cell_type": "markdown",
   "metadata": {},
   "source": [
    "UPDATE MONGO DB"
   ]
  },
  {
   "cell_type": "code",
   "execution_count": 9,
   "metadata": {},
   "outputs": [
    {
     "data": {
      "text/plain": [
       "[{'Date': '29/08/2022',\n",
       "  'High': 19.850000381469727,\n",
       "  'Low': 18.760000228881836,\n",
       "  'Open': 19.690000534057617,\n",
       "  'Close': 18.889999389648438,\n",
       "  'Volume': 10124069,\n",
       "  'Adj Close': 18.889999389648438,\n",
       "  'RBA': 1.85,\n",
       "  'FED': 2.5,\n",
       "  'CPI': 125},\n",
       " {'Date': '30/08/2022',\n",
       "  'High': 19.360000610351562,\n",
       "  'Low': 18.81999969482422,\n",
       "  'Open': 19.0,\n",
       "  'Close': 18.950000762939453,\n",
       "  'Volume': 9286576,\n",
       "  'Adj Close': 18.950000762939453,\n",
       "  'RBA': 1.85,\n",
       "  'FED': 2.5,\n",
       "  'CPI': 125}]"
      ]
     },
     "execution_count": 9,
     "metadata": {},
     "output_type": "execute_result"
    }
   ],
   "source": [
    "records=stock_quote.to_dict('records')\n",
    "records"
   ]
  },
  {
   "cell_type": "code",
   "execution_count": 10,
   "metadata": {},
   "outputs": [
    {
     "name": "stdout",
     "output_type": "stream",
     "text": [
      "[[ObjectId('62ff425e85c180724d411620') '17/08/2022' 19.440000534057617\n",
      "  19.530000686645508 19.100000381469727 19.229999542236328\n",
      "  19.229999542236328 5434384.0 1.85 2.5 125.0]\n",
      " [ObjectId('62ff425e85c180724d411621') '18/08/2022' 18.940000534057617\n",
      "  19.1200008392334 18.719999313354492 19.079999923706055\n",
      "  19.079999923706055 7296867.0 1.85 2.5 125.0]\n",
      " [ObjectId('63035ad7b08181375e340493') '19/08/2022' 19.260000228881836\n",
      "  19.34000015258789 19.149999618530273 19.15999984741211\n",
      "  19.15999984741211 5912827.0 1.85 2.5 125.0]\n",
      " [ObjectId('6304a821e1fa27861e5c6ce9') '22/08/2022' 18.950000762939453\n",
      "  19.290000915527344 18.700000762939453 19.100000381469727\n",
      "  19.100000381469727 5592694.0 1.85 2.5 125.0]\n",
      " [ObjectId('63072a7d330ff3b4c3fdb34b') '23/08/2022' 19.049999237060547\n",
      "  19.290000915527344 18.959999084472656 19.040000915527344\n",
      "  19.040000915527344 4524694.0 1.85 2.5 125.0]\n",
      " [ObjectId('63072a7d330ff3b4c3fdb34c') '24/08/2022' 19.309999465942383\n",
      "  19.600000381469727 19.020000457763672 19.1200008392334 19.1200008392334\n",
      "  5824666.0 1.85 2.5 125.0]\n",
      " [ObjectId('630aefb886d36aa44c71ddc6') '25/08/2022' 19.25\n",
      "  19.3799991607666 19.110000610351562 19.139999389648438\n",
      "  19.139999389648438 4829342.0 1.85 2.5 125.0]\n",
      " [ObjectId('630c8ccd8b7907a16afd954b') '26/08/2022' 19.260000228881836\n",
      "  20.049999237060547 19.260000228881836 19.8700008392334 19.8700008392334\n",
      "  7995973.0 1.85 2.5 125.0]\n",
      " [ObjectId('630dc6d3f52ded7e8480757e') '29/08/2022' 19.690000534057617\n",
      "  19.850000381469727 18.760000228881836 18.889999389648438\n",
      "  18.889999389648438 10124069.0 1.85 2.5 125.0]\n",
      " [ObjectId('630dc6d3f52ded7e8480757f') '30/08/2022' 19.0\n",
      "  19.360000610351562 18.81999969482422 18.950000762939453\n",
      "  18.950000762939453 9286576.0 1.85 2.5 125.0]]\n"
     ]
    }
   ],
   "source": [
    "#INSERT NEW DATA INTO MONGODB\n",
    "db.fmg.insert_many(records)\n",
    "\n",
    "#Check if mongoDb now has latest data\n",
    "df_mongo = pd.DataFrame(list(db.fmg.find()))\n",
    "\n",
    "last_val = df_mongo.iloc[-10:].values\n",
    "print(last_val)"
   ]
  },
  {
   "cell_type": "code",
   "execution_count": 11,
   "metadata": {},
   "outputs": [
    {
     "name": "stdout",
     "output_type": "stream",
     "text": [
      "30/08/2022 18.950000762939453\n"
     ]
    }
   ],
   "source": [
    "#Save latest to variables\n",
    "last_val = df_mongo.iloc[-1:].values\n",
    "last_date = last_val[0][1]\n",
    "last_close = last_val[0][5]\n",
    "print(last_date,last_close)"
   ]
  },
  {
   "cell_type": "markdown",
   "metadata": {},
   "source": [
    "# # Pre-processing : Scale the data using the MinMaxScaler and split train data"
   ]
  },
  {
   "cell_type": "code",
   "execution_count": 12,
   "metadata": {},
   "outputs": [
    {
     "data": {
      "text/plain": [
       "(5876, 1)"
      ]
     },
     "execution_count": 12,
     "metadata": {},
     "output_type": "execute_result"
    }
   ],
   "source": [
    "df_mongo = pd.DataFrame(list(db.fmg.find()))\n",
    "# Drop the null columns where all values are null\n",
    "df_mongo = df_mongo.dropna(axis='columns', how='all')\n",
    "# Drop the null rows\n",
    "df_mongo = df_mongo.dropna()\n",
    "# df_mongo.shape\n",
    "\n",
    "len_df_mongo=len(df_mongo)\n",
    "data = df_mongo.filter([\"Close\"])\n",
    "dataset=data.values\n",
    "dataset.shape"
   ]
  },
  {
   "cell_type": "code",
   "execution_count": 13,
   "metadata": {},
   "outputs": [],
   "source": [
    "# data = df.filter(['Close'])\n",
    "# dataset = data.values\n",
    "# dataset.shape\t"
   ]
  },
  {
   "cell_type": "code",
   "execution_count": 14,
   "metadata": {},
   "outputs": [
    {
     "data": {
      "text/plain": [
       "(4701, 1)"
      ]
     },
     "execution_count": 14,
     "metadata": {},
     "output_type": "execute_result"
    }
   ],
   "source": [
    "# Scale your data\n",
    "from sklearn.preprocessing import MinMaxScaler\n",
    "\n",
    "scaler = MinMaxScaler(feature_range=(0,1))\n",
    "dataset_scaled = scaler.fit_transform(dataset)\n",
    "\n",
    "# Split into train or test\n",
    "import math\n",
    "train_data_len = math.ceil(len(dataset)*.8)\n",
    "train_data = dataset_scaled[0:train_data_len,:]\n",
    "train_data.shape\n"
   ]
  },
  {
   "cell_type": "code",
   "execution_count": 15,
   "metadata": {},
   "outputs": [
    {
     "name": "stdout",
     "output_type": "stream",
     "text": [
      "[array([0.0002211 , 0.0002211 , 0.0002211 , 0.00025844, 0.00025844,\n",
      "       0.00029575, 0.00033309, 0.00033309, 0.00025844, 0.0002211 ,\n",
      "       0.0002211 , 0.0002211 , 0.0002211 , 0.00025844, 0.00016512,\n",
      "       0.00029575, 0.00029575, 0.0002211 , 0.0002211 , 0.00023977,\n",
      "       0.00023977, 0.00023977, 0.00025844, 0.00020246, 0.00031442,\n",
      "       0.00033309, 0.00033309, 0.00033309, 0.0003704 , 0.00038907,\n",
      "       0.00038907, 0.00038907, 0.00038907, 0.00038907, 0.00035176,\n",
      "       0.00029575, 0.00029575, 0.00035176, 0.0003704 , 0.0005197 ,\n",
      "       0.0005197 , 0.00044505, 0.00044505, 0.00044505, 0.00048239,\n",
      "       0.0005197 , 0.00050106, 0.00044505, 0.00044505, 0.00044505,\n",
      "       0.00044505, 0.00044505, 0.00040774, 0.00040774, 0.0003704 ,\n",
      "       0.0003704 , 0.00033309, 0.0003704 , 0.0003704 , 0.00033309])]\n",
      "[0.0003330924982161735]\n"
     ]
    }
   ],
   "source": [
    "X_train = []\n",
    "y_train = []\n",
    "\n",
    "for i in range (60, len(train_data)):\n",
    "    X_train.append(train_data[i-60:i,0]) # contains 60 values\n",
    "    y_train.append(train_data[i,0])   # contains 61st value\n",
    "    if i<= 60:\n",
    "        print(X_train)\n",
    "        print(y_train) \n"
   ]
  },
  {
   "cell_type": "markdown",
   "metadata": {},
   "source": [
    "# Prepare train data for LSTM model"
   ]
  },
  {
   "cell_type": "code",
   "execution_count": 16,
   "metadata": {},
   "outputs": [
    {
     "data": {
      "text/plain": [
       "(4641, 60)"
      ]
     },
     "execution_count": 16,
     "metadata": {},
     "output_type": "execute_result"
    }
   ],
   "source": [
    "# Convert list to numpy array for LSTM model:\n",
    "X_train, y_train = np.array(X_train), np.array(y_train)\n",
    "X_train.shape"
   ]
  },
  {
   "cell_type": "code",
   "execution_count": 17,
   "metadata": {},
   "outputs": [
    {
     "data": {
      "text/plain": [
       "(4641, 60, 1)"
      ]
     },
     "execution_count": 17,
     "metadata": {},
     "output_type": "execute_result"
    }
   ],
   "source": [
    "# LSTM model expects 3D, reshape:\n",
    "X_train = np.reshape(X_train, (X_train.shape[0], X_train.shape[1], 1))\n",
    "X_train.shape"
   ]
  },
  {
   "cell_type": "markdown",
   "metadata": {},
   "source": [
    "# Build the LSTM model"
   ]
  },
  {
   "cell_type": "code",
   "execution_count": 18,
   "metadata": {},
   "outputs": [],
   "source": [
    "from tensorflow.keras.models import Sequential\n",
    "from tensorflow.keras.layers import Dense, LSTM\n",
    "model = Sequential()\n",
    "model.add(LSTM(50, return_sequences=True, input_shape=(X_train.shape[1], 1)))\n",
    "model.add(LSTM(50, return_sequences=False))\n",
    "model.add(Dense(25))\n",
    "model.add(Dense(1))"
   ]
  },
  {
   "cell_type": "code",
   "execution_count": 19,
   "metadata": {},
   "outputs": [],
   "source": [
    "model.compile(optimizer='adam', loss='mean_squared_error')"
   ]
  },
  {
   "cell_type": "code",
   "execution_count": 20,
   "metadata": {},
   "outputs": [
    {
     "name": "stdout",
     "output_type": "stream",
     "text": [
      "4641/4641 [==============================] - 1389s 294ms/step - loss: 1.9401e-04\n"
     ]
    },
    {
     "data": {
      "text/plain": [
       "<keras.callbacks.History at 0x2317108cd00>"
      ]
     },
     "execution_count": 20,
     "metadata": {},
     "output_type": "execute_result"
    }
   ],
   "source": [
    "model.fit(X_train, y_train, batch_size=1, epochs=1)"
   ]
  },
  {
   "cell_type": "code",
   "execution_count": 21,
   "metadata": {},
   "outputs": [],
   "source": [
    "#Create test data\n",
    "test_data = dataset_scaled[train_data_len-60:,:]\n",
    "X_test = []\n",
    "y_test = dataset[train_data_len:,:]\n",
    "for i in range(60, len(test_data)):\n",
    " X_test.append(test_data[i-60:i,0])"
   ]
  },
  {
   "cell_type": "code",
   "execution_count": 22,
   "metadata": {},
   "outputs": [],
   "source": [
    "#Covert test data to a numpy array and reshape\n",
    "X_test = np.array(X_test)\n",
    "X_test = np.reshape(X_test, (X_test.shape[0],X_test.shape[1],1))"
   ]
  },
  {
   "cell_type": "code",
   "execution_count": 23,
   "metadata": {},
   "outputs": [],
   "source": [
    "#Get predicted prices\n",
    "predictions_lstm = model.predict(X_test)\n",
    "predictions = scaler.inverse_transform(predictions_lstm)"
   ]
  },
  {
   "cell_type": "code",
   "execution_count": 24,
   "metadata": {},
   "outputs": [
    {
     "data": {
      "text/plain": [
       "0.6861572010341823"
      ]
     },
     "execution_count": 24,
     "metadata": {},
     "output_type": "execute_result"
    }
   ],
   "source": [
    "#Get the root mean square error (RMSE) 0 being most favourable\n",
    "rmse = np.sqrt(np.mean(predictions-y_test)**2)\n",
    "rmse"
   ]
  },
  {
   "cell_type": "code",
   "execution_count": 25,
   "metadata": {},
   "outputs": [
    {
     "name": "stderr",
     "output_type": "stream",
     "text": [
      "C:\\Users\\antoi\\AppData\\Local\\Temp/ipykernel_24856/4148107487.py:5: SettingWithCopyWarning: \n",
      "A value is trying to be set on a copy of a slice from a DataFrame.\n",
      "Try using .loc[row_indexer,col_indexer] = value instead\n",
      "\n",
      "See the caveats in the documentation: https://pandas.pydata.org/pandas-docs/stable/user_guide/indexing.html#returning-a-view-versus-a-copy\n",
      "  valid['Predictions'] = predictions # another column for validating test\n"
     ]
    },
    {
     "data": {
      "image/png": "[encoded data removed]",
      "text/plain": [
       "<Figure size 1152x576 with 1 Axes>"
      ]
     },
     "metadata": {},
     "output_type": "display_data"
    }
   ],
   "source": [
    "#Plot the data to validate the test data\n",
    "plt.style.use('fivethirtyeight')\n",
    "train = data.iloc[:train_data_len] # actual train data from 0 rows until train data end\n",
    "valid = data.iloc[train_data_len:] # actual test data from train data end until end of all sampled data\n",
    "valid['Predictions'] = predictions # another column for validating test\n",
    "\n",
    "plt.figure(figsize=(16,8))\n",
    "plt.title('fmg LSTM Model')\n",
    "plt.xlabel('Trading Date', fontsize=18)\n",
    "plt.ylabel('Close Price AUD ($)',fontsize=18)\n",
    "plt.plot(train['Close'])\n",
    "plt.plot(valid[['Close','Predictions']])\n",
    "plt.legend(['Training','Validate','Tested'],loc='lower right')\n",
    "x = np.arange(2000,2024,4)\n",
    "plt.xticks([0,1000,2000,3000,4000,5000],x)\n",
    "plt.savefig('../static/data/images/fmg_graph.png')\n",
    "plt.show()"
   ]
  },
  {
   "cell_type": "markdown",
   "metadata": {},
   "source": [
    "# Test data Predictions on the Model"
   ]
  },
  {
   "cell_type": "code",
   "execution_count": 26,
   "metadata": {},
   "outputs": [
    {
     "name": "stderr",
     "output_type": "stream",
     "text": [
      "C:\\Users\\antoi\\AppData\\Local\\Temp/ipykernel_24856/3403988079.py:1: SettingWithCopyWarning: \n",
      "A value is trying to be set on a copy of a slice from a DataFrame.\n",
      "Try using .loc[row_indexer,col_indexer] = value instead\n",
      "\n",
      "See the caveats in the documentation: https://pandas.pydata.org/pandas-docs/stable/user_guide/indexing.html#returning-a-view-versus-a-copy\n",
      "  valid['Difference']= valid['Close']-valid['Predictions']\n"
     ]
    },
    {
     "data": {
      "text/plain": [
       "<bound method NDFrame.head of           Close  Predictions  Difference\n",
       "4701   5.270000     5.075024    0.194976\n",
       "4702   5.250000     5.083144    0.166856\n",
       "4703   5.330000     5.077080    0.252920\n",
       "4704   5.310000     5.098962    0.211038\n",
       "4705   5.310000     5.112950    0.197050\n",
       "...         ...          ...         ...\n",
       "5871  19.120001    18.010849    1.109152\n",
       "5872  19.139999    18.031254    1.108746\n",
       "5873  19.870001    18.060223    1.809778\n",
       "5874  18.889999    18.365692    0.524307\n",
       "5875  18.950001    18.180309    0.769691\n",
       "\n",
       "[1175 rows x 3 columns]>"
      ]
     },
     "execution_count": 26,
     "metadata": {},
     "output_type": "execute_result"
    }
   ],
   "source": [
    "valid['Difference']= valid['Close']-valid['Predictions']\n",
    "valid.head"
   ]
  },
  {
   "cell_type": "code",
   "execution_count": 27,
   "metadata": {},
   "outputs": [
    {
     "data": {
      "text/plain": [
       "(60, 1)"
      ]
     },
     "execution_count": 27,
     "metadata": {},
     "output_type": "execute_result"
    }
   ],
   "source": [
    "# Use last 60 days price on model to predict next days price\n",
    "import pandas as pd\n",
    "\n",
    "df_mongo = pd.DataFrame(list(db.fmg.find()))\n",
    "sixty_val = df_mongo.iloc[-60:,4].values\n",
    "last_sixty = sixty_val.reshape(-1,1)\n",
    "\n",
    "last_sixty.shape"
   ]
  },
  {
   "cell_type": "code",
   "execution_count": 28,
   "metadata": {},
   "outputs": [
    {
     "data": {
      "text/plain": [
       "(1, 60, 1)"
      ]
     },
     "execution_count": 28,
     "metadata": {},
     "output_type": "execute_result"
    }
   ],
   "source": [
    "last_60_days_scaled = scaler.transform(last_sixty)\n",
    "X_tell = []\n",
    "X_tell.append(last_60_days_scaled)\n",
    "X_tell =np.array(X_tell)\n",
    "X_tell =np.reshape(X_tell, (X_tell.shape[0], X_tell.shape[1],1))\n",
    "X_tell.shape"
   ]
  },
  {
   "cell_type": "code",
   "execution_count": 29,
   "metadata": {},
   "outputs": [
    {
     "name": "stdout",
     "output_type": "stream",
     "text": [
      "30/08/2022 Last close $18.950000762939453 Predicted next day share price $17.86\n"
     ]
    }
   ],
   "source": [
    "pred_price = model.predict(X_tell)\n",
    "pred_price = scaler.inverse_transform(pred_price)\n",
    "pred_price = round(float(pred_price),2)\n",
    "print(f'{last_date} Last close ${last_close} Predicted next day share price ${pred_price}')"
   ]
  },
  {
   "cell_type": "markdown",
   "metadata": {},
   "source": [
    "# Save the Model"
   ]
  },
  {
   "cell_type": "code",
   "execution_count": 30,
   "metadata": {},
   "outputs": [],
   "source": [
    "# Save the entire model to a HDF5 file.\n",
    "# The '.h5' extension indicates that the model should be saved to HDF5.\n",
    "filepath = '../static/fmg_model.sav'\n",
    "model.save(filepath, save_format=\"h5\")"
   ]
  },
  {
   "cell_type": "markdown",
   "metadata": {},
   "source": [
    "#Save last 60 days to a list fmg_sixty and load df"
   ]
  },
  {
   "cell_type": "markdown",
   "metadata": {},
   "source": [
    "#PREDICT USING LOADED MODEL"
   ]
  },
  {
   "cell_type": "code",
   "execution_count": 31,
   "metadata": {},
   "outputs": [],
   "source": [
    "from keras.models import load_model\n",
    "model_in = load_model('../static/fmg_model.sav')"
   ]
  },
  {
   "cell_type": "code",
   "execution_count": 32,
   "metadata": {},
   "outputs": [
    {
     "data": {
      "text/plain": [
       "array([[21.1       ],\n",
       "       [21.34      ],\n",
       "       [21.43      ],\n",
       "       [20.450001  ],\n",
       "       [19.299999  ],\n",
       "       [19.52      ],\n",
       "       [19.559999  ],\n",
       "       [18.6       ],\n",
       "       [16.93      ],\n",
       "       [17.15      ],\n",
       "       [17.370001  ],\n",
       "       [16.73      ],\n",
       "       [16.870001  ],\n",
       "       [17.6       ],\n",
       "       [18.110001  ],\n",
       "       [18.309999  ],\n",
       "       [17.530001  ],\n",
       "       [17.        ],\n",
       "       [16.870001  ],\n",
       "       [17.07      ],\n",
       "       [16.389999  ],\n",
       "       [16.709999  ],\n",
       "       [17.219999  ],\n",
       "       [16.85      ],\n",
       "       [16.559999  ],\n",
       "       [16.530001  ],\n",
       "       [17.1       ],\n",
       "       [16.24      ],\n",
       "       [16.35      ],\n",
       "       [16.98      ],\n",
       "       [17.280001  ],\n",
       "       [17.32      ],\n",
       "       [17.51      ],\n",
       "       [18.01      ],\n",
       "       [18.299999  ],\n",
       "       [18.049999  ],\n",
       "       [18.219999  ],\n",
       "       [18.120001  ],\n",
       "       [17.84      ],\n",
       "       [17.469999  ],\n",
       "       [17.549999  ],\n",
       "       [17.66      ],\n",
       "       [17.65999985],\n",
       "       [18.34000015],\n",
       "       [18.79999924],\n",
       "       [18.76000023],\n",
       "       [18.94000053],\n",
       "       [18.80999947],\n",
       "       [18.92000008],\n",
       "       [18.65999985],\n",
       "       [19.10000038],\n",
       "       [18.71999931],\n",
       "       [19.14999962],\n",
       "       [18.70000076],\n",
       "       [18.95999908],\n",
       "       [19.02000046],\n",
       "       [19.11000061],\n",
       "       [19.26000023],\n",
       "       [18.76000023],\n",
       "       [18.81999969]])"
      ]
     },
     "execution_count": 32,
     "metadata": {},
     "output_type": "execute_result"
    }
   ],
   "source": [
    "# query the fmg collection and load into dataframe\n",
    "\n",
    "df_mongo = pd.DataFrame(list(db.fmg.find()))\n",
    "sixty_val = df_mongo.iloc[-60:,4].values\n",
    "last_sixty = sixty_val.reshape(-1,1)\n",
    "\n",
    "last_sixty"
   ]
  },
  {
   "cell_type": "markdown",
   "metadata": {},
   "source": [
    "#Create a function to loop through the days input"
   ]
  },
  {
   "cell_type": "code",
   "execution_count": 33,
   "metadata": {},
   "outputs": [
    {
     "name": "stdout",
     "output_type": "stream",
     "text": [
      "1\n",
      "Day finished! Price: \n",
      "2\n",
      "Day finished! Price: \n",
      "3\n",
      "Day finished! Price: \n",
      "4\n",
      "Day finished! Price: \n",
      "5\n",
      "Day finished! Price: \n",
      "6\n",
      "Day finished! Price: \n",
      "7\n",
      "Day finished! Price: \n",
      "8\n",
      "Day finished! Price: \n",
      "9\n",
      "Day finished! Price: \n",
      "10\n",
      "Day finished! Price: \n",
      "11\n",
      "Day finished! Price: \n",
      "12\n",
      "Day finished! Price: \n",
      "13\n",
      "Day finished! Price: \n",
      "14\n",
      "Day finished! Price: \n",
      "15\n",
      "Day finished! Price: \n",
      "16\n",
      "Day finished! Price: \n",
      "17\n",
      "Day finished! Price: \n",
      "18\n",
      "Day finished! Price: \n",
      "19\n",
      "Day finished! Price: \n",
      "20\n",
      "Day finished! Price: \n",
      "21\n",
      "Day finished! Price: \n",
      "22\n",
      "Day finished! Price: \n",
      "23\n",
      "Day finished! Price: \n",
      "24\n",
      "Day finished! Price: \n",
      "25\n",
      "Day finished! Price: \n",
      "26\n",
      "Day finished! Price: \n",
      "27\n",
      "Day finished! Price: \n",
      "28\n",
      "Day finished! Price: \n",
      "29\n",
      "Day finished! Price: \n",
      "30\n",
      "Day finished! Price: \n",
      "31\n",
      "Day finished! Price: \n",
      "32\n",
      "Day finished! Price: \n",
      "33\n",
      "Day finished! Price: \n",
      "34\n",
      "Day finished! Price: \n",
      "35\n",
      "Day finished! Price: \n",
      "36\n",
      "Day finished! Price: \n",
      "37\n",
      "Day finished! Price: \n",
      "38\n",
      "Day finished! Price: \n",
      "39\n",
      "Day finished! Price: \n",
      "40\n",
      "Day finished! Price: \n",
      "41\n",
      "Day finished! Price: \n",
      "42\n",
      "Day finished! Price: \n",
      "43\n",
      "Day finished! Price: \n",
      "44\n",
      "Day finished! Price: \n",
      "45\n",
      "Day finished! Price: \n",
      "46\n",
      "Day finished! Price: \n",
      "47\n",
      "Day finished! Price: \n",
      "48\n",
      "Day finished! Price: \n",
      "49\n",
      "Day finished! Price: \n",
      "50\n",
      "Day finished! Price: \n",
      "51\n",
      "Day finished! Price: \n",
      "52\n",
      "Day finished! Price: \n",
      "53\n",
      "Day finished! Price: \n",
      "54\n",
      "Day finished! Price: \n",
      "55\n",
      "Day finished! Price: \n",
      "56\n",
      "Day finished! Price: \n",
      "57\n",
      "Day finished! Price: \n",
      "58\n",
      "Day finished! Price: \n",
      "59\n",
      "Day finished! Price: \n",
      "60\n",
      "Day finished! Price: \n",
      "61\n",
      "Day finished! Price: \n",
      "62\n",
      "Day finished! Price: \n",
      "63\n",
      "Day finished! Price: \n",
      "64\n",
      "Day finished! Price: \n",
      "65\n",
      "Day finished! Price: \n",
      "66\n",
      "Day finished! Price: \n",
      "67\n",
      "Day finished! Price: \n",
      "68\n",
      "Day finished! Price: \n",
      "69\n",
      "Day finished! Price: \n",
      "70\n",
      "Day finished! Price: \n",
      "71\n",
      "Day finished! Price: \n",
      "72\n",
      "Day finished! Price: \n",
      "73\n",
      "Day finished! Price: \n",
      "74\n",
      "Day finished! Price: \n",
      "75\n",
      "Day finished! Price: \n",
      "76\n",
      "Day finished! Price: \n",
      "77\n",
      "Day finished! Price: \n",
      "78\n",
      "Day finished! Price: \n",
      "79\n",
      "Day finished! Price: \n",
      "80\n",
      "Day finished! Price: \n",
      "81\n",
      "Day finished! Price: \n",
      "82\n",
      "Day finished! Price: \n",
      "83\n",
      "Day finished! Price: \n",
      "84\n",
      "Day finished! Price: \n",
      "85\n",
      "Day finished! Price: \n",
      "86\n",
      "Day finished! Price: \n",
      "87\n",
      "Day finished! Price: \n",
      "88\n",
      "Day finished! Price: \n",
      "89\n",
      "Day finished! Price: \n",
      "90\n",
      "Day finished! Price: \n",
      "91\n",
      "Day finished! Price: \n",
      "92\n",
      "Day finished! Price: \n",
      "93\n",
      "Day finished! Price: \n",
      "94\n",
      "Day finished! Price: \n",
      "95\n",
      "Day finished! Price: \n",
      "96\n",
      "Day finished! Price: \n",
      "97\n",
      "Day finished! Price: \n",
      "98\n",
      "Day finished! Price: \n",
      "99\n",
      "Day finished! Price: \n",
      "100\n",
      "Day finished! Price: \n",
      "101\n",
      "Day finished! Price: \n",
      "102\n",
      "Day finished! Price: \n",
      "103\n",
      "Day finished! Price: \n",
      "104\n",
      "Day finished! Price: \n",
      "105\n",
      "Day finished! Price: \n",
      "106\n",
      "Day finished! Price: \n",
      "107\n",
      "Day finished! Price: \n",
      "108\n",
      "Day finished! Price: \n",
      "109\n",
      "Day finished! Price: \n",
      "110\n",
      "Day finished! Price: \n",
      "111\n",
      "Day finished! Price: \n",
      "112\n",
      "Day finished! Price: \n",
      "113\n",
      "Day finished! Price: \n",
      "114\n",
      "Day finished! Price: \n",
      "115\n",
      "Day finished! Price: \n",
      "116\n",
      "Day finished! Price: \n",
      "117\n",
      "Day finished! Price: \n",
      "118\n",
      "Day finished! Price: \n",
      "119\n",
      "Day finished! Price: \n",
      "120\n",
      "Day finished! Price: \n",
      "121\n",
      "Day finished! Price: \n",
      "122\n",
      "Day finished! Price: \n",
      "123\n",
      "Day finished! Price: \n",
      "124\n",
      "Day finished! Price: \n",
      "125\n",
      "Day finished! Price: \n",
      "126\n",
      "Day finished! Price: \n",
      "127\n",
      "Day finished! Price: \n",
      "128\n",
      "Day finished! Price: \n",
      "129\n",
      "Day finished! Price: \n",
      "130\n",
      "Day finished! Price: \n",
      "131\n",
      "Day finished! Price: \n",
      "132\n",
      "Day finished! Price: \n",
      "133\n",
      "Day finished! Price: \n",
      "134\n",
      "Day finished! Price: \n",
      "135\n",
      "Day finished! Price: \n",
      "136\n",
      "Day finished! Price: \n",
      "137\n",
      "Day finished! Price: \n",
      "138\n",
      "Day finished! Price: \n",
      "139\n",
      "Day finished! Price: \n",
      "140\n",
      "Day finished! Price: \n",
      "141\n",
      "Day finished! Price: \n",
      "142\n",
      "Day finished! Price: \n",
      "143\n",
      "Day finished! Price: \n",
      "144\n",
      "Day finished! Price: \n",
      "145\n",
      "Day finished! Price: \n",
      "146\n",
      "Day finished! Price: \n",
      "147\n",
      "Day finished! Price: \n",
      "148\n",
      "Day finished! Price: \n",
      "149\n",
      "Day finished! Price: \n",
      "150\n",
      "Day finished! Price: \n",
      "151\n",
      "Day finished! Price: \n",
      "152\n",
      "Day finished! Price: \n",
      "153\n",
      "Day finished! Price: \n",
      "154\n",
      "Day finished! Price: \n",
      "155\n",
      "Day finished! Price: \n",
      "156\n",
      "Day finished! Price: \n",
      "157\n",
      "Day finished! Price: \n",
      "158\n",
      "Day finished! Price: \n",
      "159\n",
      "Day finished! Price: \n",
      "160\n",
      "Day finished! Price: \n",
      "161\n",
      "Day finished! Price: \n",
      "162\n",
      "Day finished! Price: \n",
      "163\n",
      "Day finished! Price: \n",
      "164\n",
      "Day finished! Price: \n",
      "165\n",
      "Day finished! Price: \n",
      "166\n",
      "Day finished! Price: \n",
      "167\n",
      "Day finished! Price: \n",
      "168\n",
      "Day finished! Price: \n",
      "169\n",
      "Day finished! Price: \n",
      "170\n",
      "Day finished! Price: \n",
      "171\n",
      "Day finished! Price: \n",
      "172\n",
      "Day finished! Price: \n",
      "173\n",
      "Day finished! Price: \n",
      "174\n",
      "Day finished! Price: \n",
      "175\n",
      "Day finished! Price: \n",
      "176\n",
      "Day finished! Price: \n",
      "177\n",
      "Day finished! Price: \n",
      "178\n",
      "Day finished! Price: \n",
      "179\n",
      "Day finished! Price: \n",
      "Could not predict further!\n",
      "180\n"
     ]
    },
    {
     "data": {
      "text/plain": [
       "[18.78,\n",
       " 18.72,\n",
       " 18.68,\n",
       " 18.62,\n",
       " 18.55,\n",
       " 18.5,\n",
       " 18.46,\n",
       " 18.4,\n",
       " 18.36,\n",
       " 18.32,\n",
       " 18.28,\n",
       " 18.25,\n",
       " 18.21,\n",
       " 18.18,\n",
       " 18.15,\n",
       " 18.12,\n",
       " 18.09,\n",
       " 18.06,\n",
       " 18.04,\n",
       " 18.01,\n",
       " 17.98,\n",
       " 17.96,\n",
       " 17.93,\n",
       " 17.91,\n",
       " 17.88,\n",
       " 17.86,\n",
       " 17.84,\n",
       " 17.82,\n",
       " 17.8,\n",
       " 17.82,\n",
       " 17.82,\n",
       " 17.82,\n",
       " 17.83,\n",
       " 17.83,\n",
       " 17.83,\n",
       " 17.82,\n",
       " 17.82,\n",
       " 17.82,\n",
       " 17.82,\n",
       " 17.81,\n",
       " 17.81,\n",
       " 17.81,\n",
       " 17.81,\n",
       " 17.81,\n",
       " 17.81,\n",
       " 17.8,\n",
       " 17.8,\n",
       " 17.8,\n",
       " 17.8,\n",
       " 17.8,\n",
       " 17.8,\n",
       " 17.8,\n",
       " 17.79,\n",
       " 17.79,\n",
       " 17.79,\n",
       " 17.79,\n",
       " 17.79,\n",
       " 17.79,\n",
       " 17.79,\n",
       " 17.79,\n",
       " 17.79,\n",
       " 17.78,\n",
       " 17.78,\n",
       " 17.78,\n",
       " 17.78,\n",
       " 17.78,\n",
       " 17.78,\n",
       " 17.78,\n",
       " 17.78,\n",
       " 17.78,\n",
       " 17.78,\n",
       " 17.78,\n",
       " 17.78,\n",
       " 17.78,\n",
       " 17.78,\n",
       " 17.78,\n",
       " 17.78,\n",
       " 17.78,\n",
       " 17.78,\n",
       " 17.78,\n",
       " 17.78,\n",
       " 17.78,\n",
       " 17.78,\n",
       " 17.78,\n",
       " 17.78,\n",
       " 17.78,\n",
       " 17.78,\n",
       " 17.78,\n",
       " 17.78,\n",
       " 17.78,\n",
       " 17.78,\n",
       " 17.78,\n",
       " 17.78,\n",
       " 17.78,\n",
       " 17.78,\n",
       " 17.78,\n",
       " 17.78,\n",
       " 17.78,\n",
       " 17.78,\n",
       " 17.78,\n",
       " 17.78,\n",
       " 17.78,\n",
       " 17.78,\n",
       " 17.78,\n",
       " 17.78,\n",
       " 17.78,\n",
       " 17.78,\n",
       " 17.78,\n",
       " 17.78,\n",
       " 17.78,\n",
       " 17.78,\n",
       " 17.78,\n",
       " 17.78,\n",
       " 17.78,\n",
       " 17.78,\n",
       " 17.78,\n",
       " 17.78,\n",
       " 17.78,\n",
       " 17.78,\n",
       " 17.78,\n",
       " 17.78,\n",
       " 17.78,\n",
       " 17.78,\n",
       " 17.78,\n",
       " 17.78,\n",
       " 17.78,\n",
       " 17.78,\n",
       " 17.78,\n",
       " 17.78,\n",
       " 17.78,\n",
       " 17.78,\n",
       " 17.78,\n",
       " 17.78,\n",
       " 17.78,\n",
       " 17.78,\n",
       " 17.78,\n",
       " 17.78,\n",
       " 17.78,\n",
       " 17.78,\n",
       " 17.78,\n",
       " 17.78,\n",
       " 17.78,\n",
       " 17.78,\n",
       " 17.78,\n",
       " 17.78,\n",
       " 17.78,\n",
       " 17.78,\n",
       " 17.78,\n",
       " 17.78,\n",
       " 17.78,\n",
       " 17.78,\n",
       " 17.78,\n",
       " 17.78,\n",
       " 17.78,\n",
       " 17.78,\n",
       " 17.78,\n",
       " 17.78,\n",
       " 17.78,\n",
       " 17.78,\n",
       " 17.78,\n",
       " 17.78,\n",
       " 17.78,\n",
       " 17.78,\n",
       " 17.78,\n",
       " 17.78,\n",
       " 17.78,\n",
       " 17.78,\n",
       " 17.78,\n",
       " 17.78,\n",
       " 17.78,\n",
       " 17.78,\n",
       " 17.78,\n",
       " 17.78,\n",
       " 17.78,\n",
       " 17.78,\n",
       " 17.78,\n",
       " 17.78,\n",
       " 17.78,\n",
       " 17.78]"
      ]
     },
     "execution_count": 33,
     "metadata": {},
     "output_type": "execute_result"
    }
   ],
   "source": [
    "from keras.models import load_model\n",
    "model_in = load_model('../static/fmg_model.sav')\n",
    "from sklearn.preprocessing import MinMaxScaler\n",
    "scaler = MinMaxScaler(feature_range=(0,1))\n",
    "\n",
    "price_list=[]\n",
    "\n",
    "#Function to predict future days predicted price, in loop\n",
    "input = 180 #days\n",
    "if input == \"\":\n",
    "    input = 180\n",
    "else:\n",
    "   input = int(input)\n",
    "\n",
    "def predict_fmg(last_sixty,model_in,input):\n",
    "    for i in range(1, input):\n",
    "\n",
    "        #Takes df and converts to model's predict shape\n",
    "        last_sixty_scaled = scaler.fit_transform(last_sixty)\n",
    "        new_X_tell = []\n",
    "        new_X_tell.append(last_sixty_scaled)\n",
    "        new_X_tell =np.array(new_X_tell)\n",
    "        new_X_tell =np.reshape(new_X_tell, (new_X_tell.shape[0], new_X_tell.shape[1],1))\n",
    "        \n",
    "        model_in_pd_scale = model_in.predict(new_X_tell)\n",
    "        model_in_price = scaler.inverse_transform(model_in_pd_scale) # New price predicted\n",
    "\n",
    "        last_sixty_less_one = np.delete(last_sixty, 0, 0)\n",
    "        last_sixty = np.append(last_sixty_less_one, model_in_price,axis = 0) # Update last 60\n",
    "        print(i)\n",
    "        print(\"Day finished! Price: \")\n",
    "        price_float = float(model_in_price)\n",
    "        price = round(price_float, 2)\n",
    "        price_list.append(price)\n",
    "    else:\n",
    "        print(\"Could not predict further!\")\n",
    "        print(input)\n",
    "    # print(price_list)\n",
    "    return price_list\n",
    "\n",
    "price_pred = predict_fmg(last_sixty,model_in,input)\n",
    "price_pred"
   ]
  },
  {
   "cell_type": "code",
   "execution_count": 34,
   "metadata": {},
   "outputs": [
    {
     "name": "stdout",
     "output_type": "stream",
     "text": [
      "<bound method NDFrame.tail of      Count        Date        DOW\n",
      "0        1  31-08-2022  Wednesday\n",
      "1        2  01-09-2022   Thursday\n",
      "2        3  02-09-2022     Friday\n",
      "3        4  05-09-2022     Monday\n",
      "4        5  06-09-2022    Tuesday\n",
      "..     ...         ...        ...\n",
      "203    204  12-06-2023     Monday\n",
      "204    205  13-06-2023    Tuesday\n",
      "205    206  14-06-2023  Wednesday\n",
      "206    207  15-06-2023   Thursday\n",
      "207    208  16-06-2023     Friday\n",
      "\n",
      "[208 rows x 3 columns]>\n"
     ]
    }
   ],
   "source": [
    "import pandas as pd\n",
    "from datetime import date,datetime,timedelta\n",
    "today1 = date.today()\n",
    "count=[]\n",
    "dates=[]\n",
    "dow=[]\n",
    "row=0\n",
    "for x in range(1,293,1): \n",
    "  d=today1+timedelta(days=x)\n",
    "  a=d.strftime(\"%A\")\n",
    "  if a != \"Saturday\" and a != \"Sunday\":\n",
    "     dates.append(d.strftime('%d-%m-%Y'))\n",
    "     dow.append(a)\n",
    "     row=row+1\n",
    "     count.append(row)\n",
    "\n",
    "data = {'Count': count,\n",
    "        'Date': dates,\n",
    "        'DOW': dow\n",
    "        }\n",
    "dates_df = pd.DataFrame(data)\n",
    "print (dates_df.tail)"
   ]
  },
  {
   "cell_type": "code",
   "execution_count": null,
   "metadata": {},
   "outputs": [],
   "source": []
  },
  {
   "cell_type": "code",
   "execution_count": 35,
   "metadata": {},
   "outputs": [
    {
     "name": "stdout",
     "output_type": "stream",
     "text": [
      "2022-08-31 00:00:00 2022-08-30 00:00:00\n",
      "5:21:57.269976\n",
      "[[ObjectId('630dc684ae0967d012939261') 11 '14-09-2022' 'Wednesday']\n",
      " [ObjectId('630dc684ae0967d012939262') 12 '15-09-2022' 'Thursday']\n",
      " [ObjectId('630dc684ae0967d012939263') 13 '16-09-2022' 'Friday']\n",
      " [ObjectId('630dc684ae0967d012939264') 14 '19-09-2022' 'Monday']\n",
      " [ObjectId('630dc684ae0967d012939265') 15 '20-09-2022' 'Tuesday']\n",
      " [ObjectId('630dc684ae0967d012939266') 16 '21-09-2022' 'Wednesday']\n",
      " [ObjectId('630dc684ae0967d012939267') 17 '22-09-2022' 'Thursday']\n",
      " [ObjectId('630dc684ae0967d012939268') 18 '23-09-2022' 'Friday']\n",
      " [ObjectId('630dc684ae0967d012939269') 19 '26-09-2022' 'Monday']\n",
      " [ObjectId('630dc684ae0967d01293926a') 20 '27-09-2022' 'Tuesday']\n",
      " [ObjectId('630dc684ae0967d01293926b') 21 '28-09-2022' 'Wednesday']\n",
      " [ObjectId('630dc684ae0967d01293926c') 22 '29-09-2022' 'Thursday']\n",
      " [ObjectId('630dc684ae0967d01293926d') 23 '30-09-2022' 'Friday']\n",
      " [ObjectId('630dc684ae0967d01293926e') 24 '03-10-2022' 'Monday']\n",
      " [ObjectId('630dc684ae0967d01293926f') 25 '04-10-2022' 'Tuesday']\n",
      " [ObjectId('630dc684ae0967d012939270') 26 '05-10-2022' 'Wednesday']\n",
      " [ObjectId('630dc684ae0967d012939271') 27 '06-10-2022' 'Thursday']\n",
      " [ObjectId('630dc684ae0967d012939272') 28 '07-10-2022' 'Friday']\n",
      " [ObjectId('630dc684ae0967d012939273') 29 '10-10-2022' 'Monday']\n",
      " [ObjectId('630dc684ae0967d012939274') 30 '11-10-2022' 'Tuesday']\n",
      " [ObjectId('630dc684ae0967d012939275') 31 '12-10-2022' 'Wednesday']\n",
      " [ObjectId('630dc684ae0967d012939276') 32 '13-10-2022' 'Thursday']\n",
      " [ObjectId('630dc684ae0967d012939277') 33 '14-10-2022' 'Friday']\n",
      " [ObjectId('630dc684ae0967d012939278') 34 '17-10-2022' 'Monday']\n",
      " [ObjectId('630dc684ae0967d012939279') 35 '18-10-2022' 'Tuesday']\n",
      " [ObjectId('630dc684ae0967d01293927a') 36 '19-10-2022' 'Wednesday']\n",
      " [ObjectId('630dc684ae0967d01293927b') 37 '20-10-2022' 'Thursday']\n",
      " [ObjectId('630dc684ae0967d01293927c') 38 '21-10-2022' 'Friday']\n",
      " [ObjectId('630dc684ae0967d01293927d') 39 '24-10-2022' 'Monday']\n",
      " [ObjectId('630dc684ae0967d01293927e') 40 '25-10-2022' 'Tuesday']\n",
      " [ObjectId('630dc684ae0967d01293927f') 41 '26-10-2022' 'Wednesday']\n",
      " [ObjectId('630dc684ae0967d012939280') 42 '27-10-2022' 'Thursday']\n",
      " [ObjectId('630dc684ae0967d012939281') 43 '28-10-2022' 'Friday']\n",
      " [ObjectId('630dc684ae0967d012939282') 44 '31-10-2022' 'Monday']\n",
      " [ObjectId('630dc684ae0967d012939283') 45 '01-11-2022' 'Tuesday']\n",
      " [ObjectId('630dc684ae0967d012939284') 46 '02-11-2022' 'Wednesday']\n",
      " [ObjectId('630dc684ae0967d012939285') 47 '03-11-2022' 'Thursday']\n",
      " [ObjectId('630dc684ae0967d012939286') 48 '04-11-2022' 'Friday']\n",
      " [ObjectId('630dc684ae0967d012939287') 49 '07-11-2022' 'Monday']\n",
      " [ObjectId('630dc684ae0967d012939288') 50 '08-11-2022' 'Tuesday']\n",
      " [ObjectId('630dc684ae0967d012939289') 51 '09-11-2022' 'Wednesday']\n",
      " [ObjectId('630dc684ae0967d01293928a') 52 '10-11-2022' 'Thursday']\n",
      " [ObjectId('630dc684ae0967d01293928b') 53 '11-11-2022' 'Friday']\n",
      " [ObjectId('630dc684ae0967d01293928c') 54 '14-11-2022' 'Monday']\n",
      " [ObjectId('630dc684ae0967d01293928d') 55 '15-11-2022' 'Tuesday']\n",
      " [ObjectId('630dc684ae0967d01293928e') 56 '16-11-2022' 'Wednesday']\n",
      " [ObjectId('630dc684ae0967d01293928f') 57 '17-11-2022' 'Thursday']\n",
      " [ObjectId('630dc684ae0967d012939290') 58 '18-11-2022' 'Friday']\n",
      " [ObjectId('630dc684ae0967d012939291') 59 '21-11-2022' 'Monday']\n",
      " [ObjectId('630dc684ae0967d012939292') 60 '22-11-2022' 'Tuesday']\n",
      " [ObjectId('630dc684ae0967d012939293') 61 '23-11-2022' 'Wednesday']\n",
      " [ObjectId('630dc684ae0967d012939294') 62 '24-11-2022' 'Thursday']\n",
      " [ObjectId('630dc684ae0967d012939295') 63 '25-11-2022' 'Friday']\n",
      " [ObjectId('630dc684ae0967d012939296') 64 '28-11-2022' 'Monday']\n",
      " [ObjectId('630dc684ae0967d012939297') 65 '29-11-2022' 'Tuesday']\n",
      " [ObjectId('630dc684ae0967d012939298') 66 '30-11-2022' 'Wednesday']\n",
      " [ObjectId('630dc684ae0967d012939299') 67 '01-12-2022' 'Thursday']\n",
      " [ObjectId('630dc684ae0967d01293929a') 68 '02-12-2022' 'Friday']\n",
      " [ObjectId('630dc684ae0967d01293929b') 69 '05-12-2022' 'Monday']\n",
      " [ObjectId('630dc684ae0967d01293929c') 70 '06-12-2022' 'Tuesday']\n",
      " [ObjectId('630dc684ae0967d01293929d') 71 '07-12-2022' 'Wednesday']\n",
      " [ObjectId('630dc684ae0967d01293929e') 72 '08-12-2022' 'Thursday']\n",
      " [ObjectId('630dc684ae0967d01293929f') 73 '09-12-2022' 'Friday']\n",
      " [ObjectId('630dc684ae0967d0129392a0') 74 '12-12-2022' 'Monday']\n",
      " [ObjectId('630dc684ae0967d0129392a1') 75 '13-12-2022' 'Tuesday']\n",
      " [ObjectId('630dc684ae0967d0129392a2') 76 '14-12-2022' 'Wednesday']\n",
      " [ObjectId('630dc684ae0967d0129392a3') 77 '15-12-2022' 'Thursday']\n",
      " [ObjectId('630dc684ae0967d0129392a4') 78 '16-12-2022' 'Friday']\n",
      " [ObjectId('630dc684ae0967d0129392a5') 79 '19-12-2022' 'Monday']\n",
      " [ObjectId('630dc684ae0967d0129392a6') 80 '20-12-2022' 'Tuesday']\n",
      " [ObjectId('630dc684ae0967d0129392a7') 81 '21-12-2022' 'Wednesday']\n",
      " [ObjectId('630dc684ae0967d0129392a8') 82 '22-12-2022' 'Thursday']\n",
      " [ObjectId('630dc684ae0967d0129392a9') 83 '23-12-2022' 'Friday']\n",
      " [ObjectId('630dc684ae0967d0129392aa') 84 '26-12-2022' 'Monday']\n",
      " [ObjectId('630dc684ae0967d0129392ab') 85 '27-12-2022' 'Tuesday']\n",
      " [ObjectId('630dc684ae0967d0129392ac') 86 '28-12-2022' 'Wednesday']\n",
      " [ObjectId('630dc684ae0967d0129392ad') 87 '29-12-2022' 'Thursday']\n",
      " [ObjectId('630dc684ae0967d0129392ae') 88 '30-12-2022' 'Friday']\n",
      " [ObjectId('630dc684ae0967d0129392af') 89 '02-01-2023' 'Monday']\n",
      " [ObjectId('630dc684ae0967d0129392b0') 90 '03-01-2023' 'Tuesday']\n",
      " [ObjectId('630dc684ae0967d0129392b1') 91 '04-01-2023' 'Wednesday']\n",
      " [ObjectId('630dc684ae0967d0129392b2') 92 '05-01-2023' 'Thursday']\n",
      " [ObjectId('630dc684ae0967d0129392b3') 93 '06-01-2023' 'Friday']\n",
      " [ObjectId('630dc684ae0967d0129392b4') 94 '09-01-2023' 'Monday']\n",
      " [ObjectId('630dc684ae0967d0129392b5') 95 '10-01-2023' 'Tuesday']\n",
      " [ObjectId('630dc684ae0967d0129392b6') 96 '11-01-2023' 'Wednesday']\n",
      " [ObjectId('630dc684ae0967d0129392b7') 97 '12-01-2023' 'Thursday']\n",
      " [ObjectId('630dc684ae0967d0129392b8') 98 '13-01-2023' 'Friday']\n",
      " [ObjectId('630dc684ae0967d0129392b9') 99 '16-01-2023' 'Monday']\n",
      " [ObjectId('630dc684ae0967d0129392ba') 100 '17-01-2023' 'Tuesday']\n",
      " [ObjectId('630dc684ae0967d0129392bb') 101 '18-01-2023' 'Wednesday']\n",
      " [ObjectId('630dc684ae0967d0129392bc') 102 '19-01-2023' 'Thursday']\n",
      " [ObjectId('630dc684ae0967d0129392bd') 103 '20-01-2023' 'Friday']\n",
      " [ObjectId('630dc684ae0967d0129392be') 104 '23-01-2023' 'Monday']\n",
      " [ObjectId('630dc684ae0967d0129392bf') 105 '24-01-2023' 'Tuesday']\n",
      " [ObjectId('630dc684ae0967d0129392c0') 106 '25-01-2023' 'Wednesday']\n",
      " [ObjectId('630dc684ae0967d0129392c1') 107 '26-01-2023' 'Thursday']\n",
      " [ObjectId('630dc684ae0967d0129392c2') 108 '27-01-2023' 'Friday']\n",
      " [ObjectId('630dc684ae0967d0129392c3') 109 '30-01-2023' 'Monday']\n",
      " [ObjectId('630dc684ae0967d0129392c4') 110 '31-01-2023' 'Tuesday']\n",
      " [ObjectId('630dc684ae0967d0129392c5') 111 '01-02-2023' 'Wednesday']\n",
      " [ObjectId('630dc684ae0967d0129392c6') 112 '02-02-2023' 'Thursday']\n",
      " [ObjectId('630dc684ae0967d0129392c7') 113 '03-02-2023' 'Friday']\n",
      " [ObjectId('630dc684ae0967d0129392c8') 114 '06-02-2023' 'Monday']\n",
      " [ObjectId('630dc684ae0967d0129392c9') 115 '07-02-2023' 'Tuesday']\n",
      " [ObjectId('630dc684ae0967d0129392ca') 116 '08-02-2023' 'Wednesday']\n",
      " [ObjectId('630dc684ae0967d0129392cb') 117 '09-02-2023' 'Thursday']\n",
      " [ObjectId('630dc684ae0967d0129392cc') 118 '10-02-2023' 'Friday']\n",
      " [ObjectId('630dc684ae0967d0129392cd') 119 '13-02-2023' 'Monday']\n",
      " [ObjectId('630dc684ae0967d0129392ce') 120 '14-02-2023' 'Tuesday']\n",
      " [ObjectId('630dc684ae0967d0129392cf') 121 '15-02-2023' 'Wednesday']\n",
      " [ObjectId('630dc684ae0967d0129392d0') 122 '16-02-2023' 'Thursday']\n",
      " [ObjectId('630dc684ae0967d0129392d1') 123 '17-02-2023' 'Friday']\n",
      " [ObjectId('630dc684ae0967d0129392d2') 124 '20-02-2023' 'Monday']\n",
      " [ObjectId('630dc684ae0967d0129392d3') 125 '21-02-2023' 'Tuesday']\n",
      " [ObjectId('630dc684ae0967d0129392d4') 126 '22-02-2023' 'Wednesday']\n",
      " [ObjectId('630dc684ae0967d0129392d5') 127 '23-02-2023' 'Thursday']\n",
      " [ObjectId('630dc684ae0967d0129392d6') 128 '24-02-2023' 'Friday']\n",
      " [ObjectId('630dc684ae0967d0129392d7') 129 '27-02-2023' 'Monday']\n",
      " [ObjectId('630dc684ae0967d0129392d8') 130 '28-02-2023' 'Tuesday']\n",
      " [ObjectId('630dc684ae0967d0129392d9') 131 '01-03-2023' 'Wednesday']\n",
      " [ObjectId('630dc684ae0967d0129392da') 132 '02-03-2023' 'Thursday']\n",
      " [ObjectId('630dc684ae0967d0129392db') 133 '03-03-2023' 'Friday']\n",
      " [ObjectId('630dc684ae0967d0129392dc') 134 '06-03-2023' 'Monday']\n",
      " [ObjectId('630dc684ae0967d0129392dd') 135 '07-03-2023' 'Tuesday']\n",
      " [ObjectId('630dc684ae0967d0129392de') 136 '08-03-2023' 'Wednesday']\n",
      " [ObjectId('630dc684ae0967d0129392df') 137 '09-03-2023' 'Thursday']\n",
      " [ObjectId('630dc684ae0967d0129392e0') 138 '10-03-2023' 'Friday']\n",
      " [ObjectId('630dc684ae0967d0129392e1') 139 '13-03-2023' 'Monday']\n",
      " [ObjectId('630dc684ae0967d0129392e2') 140 '14-03-2023' 'Tuesday']\n",
      " [ObjectId('630dc684ae0967d0129392e3') 141 '15-03-2023' 'Wednesday']\n",
      " [ObjectId('630dc684ae0967d0129392e4') 142 '16-03-2023' 'Thursday']\n",
      " [ObjectId('630dc684ae0967d0129392e5') 143 '17-03-2023' 'Friday']\n",
      " [ObjectId('630dc684ae0967d0129392e6') 144 '20-03-2023' 'Monday']\n",
      " [ObjectId('630dc684ae0967d0129392e7') 145 '21-03-2023' 'Tuesday']\n",
      " [ObjectId('630dc684ae0967d0129392e8') 146 '22-03-2023' 'Wednesday']\n",
      " [ObjectId('630dc684ae0967d0129392e9') 147 '23-03-2023' 'Thursday']\n",
      " [ObjectId('630dc684ae0967d0129392ea') 148 '24-03-2023' 'Friday']\n",
      " [ObjectId('630dc684ae0967d0129392eb') 149 '27-03-2023' 'Monday']\n",
      " [ObjectId('630dc684ae0967d0129392ec') 150 '28-03-2023' 'Tuesday']\n",
      " [ObjectId('630dc684ae0967d0129392ed') 151 '29-03-2023' 'Wednesday']\n",
      " [ObjectId('630dc684ae0967d0129392ee') 152 '30-03-2023' 'Thursday']\n",
      " [ObjectId('630dc684ae0967d0129392ef') 153 '31-03-2023' 'Friday']\n",
      " [ObjectId('630dc684ae0967d0129392f0') 154 '03-04-2023' 'Monday']\n",
      " [ObjectId('630dc684ae0967d0129392f1') 155 '04-04-2023' 'Tuesday']\n",
      " [ObjectId('630dc684ae0967d0129392f2') 156 '05-04-2023' 'Wednesday']\n",
      " [ObjectId('630dc684ae0967d0129392f3') 157 '06-04-2023' 'Thursday']\n",
      " [ObjectId('630dc684ae0967d0129392f4') 158 '07-04-2023' 'Friday']\n",
      " [ObjectId('630dc684ae0967d0129392f5') 159 '10-04-2023' 'Monday']\n",
      " [ObjectId('630dc684ae0967d0129392f6') 160 '11-04-2023' 'Tuesday']\n",
      " [ObjectId('630dc684ae0967d0129392f7') 161 '12-04-2023' 'Wednesday']\n",
      " [ObjectId('630dc684ae0967d0129392f8') 162 '13-04-2023' 'Thursday']\n",
      " [ObjectId('630dc684ae0967d0129392f9') 163 '14-04-2023' 'Friday']\n",
      " [ObjectId('630dc684ae0967d0129392fa') 164 '17-04-2023' 'Monday']\n",
      " [ObjectId('630dc684ae0967d0129392fb') 165 '18-04-2023' 'Tuesday']\n",
      " [ObjectId('630dc684ae0967d0129392fc') 166 '19-04-2023' 'Wednesday']\n",
      " [ObjectId('630dc684ae0967d0129392fd') 167 '20-04-2023' 'Thursday']\n",
      " [ObjectId('630dc684ae0967d0129392fe') 168 '21-04-2023' 'Friday']\n",
      " [ObjectId('630dc684ae0967d0129392ff') 169 '24-04-2023' 'Monday']\n",
      " [ObjectId('630dc684ae0967d012939300') 170 '25-04-2023' 'Tuesday']\n",
      " [ObjectId('630dc684ae0967d012939301') 171 '26-04-2023' 'Wednesday']\n",
      " [ObjectId('630dc684ae0967d012939302') 172 '27-04-2023' 'Thursday']\n",
      " [ObjectId('630dc684ae0967d012939303') 173 '28-04-2023' 'Friday']\n",
      " [ObjectId('630dc684ae0967d012939304') 174 '01-05-2023' 'Monday']\n",
      " [ObjectId('630dc684ae0967d012939305') 175 '02-05-2023' 'Tuesday']\n",
      " [ObjectId('630dc684ae0967d012939306') 176 '03-05-2023' 'Wednesday']\n",
      " [ObjectId('630dc684ae0967d012939307') 177 '04-05-2023' 'Thursday']\n",
      " [ObjectId('630dc684ae0967d012939308') 178 '05-05-2023' 'Friday']\n",
      " [ObjectId('630dc684ae0967d012939309') 179 '08-05-2023' 'Monday']\n",
      " [ObjectId('630dc684ae0967d01293930a') 180 '09-05-2023' 'Tuesday']\n",
      " [ObjectId('630dc684ae0967d01293930b') 181 '10-05-2023' 'Wednesday']\n",
      " [ObjectId('630dc684ae0967d01293930c') 182 '11-05-2023' 'Thursday']\n",
      " [ObjectId('630dc684ae0967d01293930d') 183 '12-05-2023' 'Friday']\n",
      " [ObjectId('630dc684ae0967d01293930e') 184 '15-05-2023' 'Monday']\n",
      " [ObjectId('630dc684ae0967d01293930f') 185 '16-05-2023' 'Tuesday']\n",
      " [ObjectId('630dc684ae0967d012939310') 186 '17-05-2023' 'Wednesday']\n",
      " [ObjectId('630dc684ae0967d012939311') 187 '18-05-2023' 'Thursday']\n",
      " [ObjectId('630dc684ae0967d012939312') 188 '19-05-2023' 'Friday']\n",
      " [ObjectId('630dc684ae0967d012939313') 189 '22-05-2023' 'Monday']\n",
      " [ObjectId('630dc684ae0967d012939314') 190 '23-05-2023' 'Tuesday']\n",
      " [ObjectId('630dc684ae0967d012939315') 191 '24-05-2023' 'Wednesday']\n",
      " [ObjectId('630dc684ae0967d012939316') 192 '25-05-2023' 'Thursday']\n",
      " [ObjectId('630dc684ae0967d012939317') 193 '26-05-2023' 'Friday']\n",
      " [ObjectId('630dc684ae0967d012939318') 194 '29-05-2023' 'Monday']\n",
      " [ObjectId('630dc684ae0967d012939319') 195 '30-05-2023' 'Tuesday']\n",
      " [ObjectId('630dc684ae0967d01293931a') 196 '31-05-2023' 'Wednesday']\n",
      " [ObjectId('630dc684ae0967d01293931b') 197 '01-06-2023' 'Thursday']\n",
      " [ObjectId('630dc684ae0967d01293931c') 198 '02-06-2023' 'Friday']\n",
      " [ObjectId('630dc684ae0967d01293931d') 199 '05-06-2023' 'Monday']\n",
      " [ObjectId('630dc684ae0967d01293931e') 200 '06-06-2023' 'Tuesday']\n",
      " [ObjectId('630dc684ae0967d01293931f') 201 '07-06-2023' 'Wednesday']\n",
      " [ObjectId('630dc684ae0967d012939320') 202 '08-06-2023' 'Thursday']\n",
      " [ObjectId('630dc684ae0967d012939321') 203 '09-06-2023' 'Friday']\n",
      " [ObjectId('630dc684ae0967d012939322') 204 '12-06-2023' 'Monday']\n",
      " [ObjectId('630dc684ae0967d012939323') 205 '13-06-2023' 'Tuesday']\n",
      " [ObjectId('630dc684ae0967d012939324') 206 '14-06-2023' 'Wednesday']\n",
      " [ObjectId('630dc684ae0967d012939325') 207 '15-06-2023' 'Thursday']\n",
      " [ObjectId('630dc684ae0967d012939326') 208 '16-06-2023' 'Friday']]\n"
     ]
    }
   ],
   "source": [
    "today1= datetime.today()\n",
    "today3=today1.strftime('%d-%m-%Y')\n",
    "today2=datetime.strptime(today3, '%d-%m-%Y')\n",
    "\n",
    "#Check if mongoDb now has latest data\n",
    "dates_df = pd.DataFrame(list(db.dates.find()))\n",
    "dates_val = dates_df.iloc[0].values\n",
    "last_date1=dates_val[2]\n",
    "last_date2 = datetime.strptime(last_date1, '%d-%m-%Y')\n",
    "last_date3=from_date.strftime('%d-%m-%Y')\n",
    "today_str=today1.strftime('%d-%m-%Y')\n",
    "print(last_date2,today2)\n",
    "diff=last_date2-today1\n",
    "\n",
    "if diff is None:\n",
    "    print(\"huh\")\n",
    "else:\n",
    "    print(diff)\n",
    "\n",
    "    # Drop all previous records now in MongoDb\n",
    "    db.dates.drop()\n",
    "    records=dates_df.to_dict('records')\n",
    "    #INSERT NEW DATA INTO MONGODB\n",
    "    db.dates.insert_many(records)\n",
    "    #Check if mongoDb now has latest data\n",
    "    dates_df = pd.DataFrame(list(db.dates.find()))\n",
    "    dates_val = dates_df.iloc[10:].values\n",
    "    print(dates_val)"
   ]
  },
  {
   "cell_type": "code",
   "execution_count": 36,
   "metadata": {},
   "outputs": [
    {
     "data": {
      "text/html": [
       "<div>\n",
       "<style scoped>\n",
       "    .dataframe tbody tr th:only-of-type {\n",
       "        vertical-align: middle;\n",
       "    }\n",
       "\n",
       "    .dataframe tbody tr th {\n",
       "        vertical-align: top;\n",
       "    }\n",
       "\n",
       "    .dataframe thead th {\n",
       "        text-align: right;\n",
       "    }\n",
       "</style>\n",
       "<table border=\"1\" class=\"dataframe\">\n",
       "  <thead>\n",
       "    <tr style=\"text-align: right;\">\n",
       "      <th></th>\n",
       "      <th>Count</th>\n",
       "      <th>Date</th>\n",
       "      <th>DOW</th>\n",
       "    </tr>\n",
       "  </thead>\n",
       "  <tbody>\n",
       "    <tr>\n",
       "      <th>0</th>\n",
       "      <td>1</td>\n",
       "      <td>31-08-2022</td>\n",
       "      <td>Wednesday</td>\n",
       "    </tr>\n",
       "    <tr>\n",
       "      <th>1</th>\n",
       "      <td>2</td>\n",
       "      <td>01-09-2022</td>\n",
       "      <td>Thursday</td>\n",
       "    </tr>\n",
       "    <tr>\n",
       "      <th>2</th>\n",
       "      <td>3</td>\n",
       "      <td>02-09-2022</td>\n",
       "      <td>Friday</td>\n",
       "    </tr>\n",
       "    <tr>\n",
       "      <th>3</th>\n",
       "      <td>4</td>\n",
       "      <td>05-09-2022</td>\n",
       "      <td>Monday</td>\n",
       "    </tr>\n",
       "    <tr>\n",
       "      <th>4</th>\n",
       "      <td>5</td>\n",
       "      <td>06-09-2022</td>\n",
       "      <td>Tuesday</td>\n",
       "    </tr>\n",
       "    <tr>\n",
       "      <th>...</th>\n",
       "      <td>...</td>\n",
       "      <td>...</td>\n",
       "      <td>...</td>\n",
       "    </tr>\n",
       "    <tr>\n",
       "      <th>203</th>\n",
       "      <td>204</td>\n",
       "      <td>12-06-2023</td>\n",
       "      <td>Monday</td>\n",
       "    </tr>\n",
       "    <tr>\n",
       "      <th>204</th>\n",
       "      <td>205</td>\n",
       "      <td>13-06-2023</td>\n",
       "      <td>Tuesday</td>\n",
       "    </tr>\n",
       "    <tr>\n",
       "      <th>205</th>\n",
       "      <td>206</td>\n",
       "      <td>14-06-2023</td>\n",
       "      <td>Wednesday</td>\n",
       "    </tr>\n",
       "    <tr>\n",
       "      <th>206</th>\n",
       "      <td>207</td>\n",
       "      <td>15-06-2023</td>\n",
       "      <td>Thursday</td>\n",
       "    </tr>\n",
       "    <tr>\n",
       "      <th>207</th>\n",
       "      <td>208</td>\n",
       "      <td>16-06-2023</td>\n",
       "      <td>Friday</td>\n",
       "    </tr>\n",
       "  </tbody>\n",
       "</table>\n",
       "<p>208 rows × 3 columns</p>\n",
       "</div>"
      ],
      "text/plain": [
       "     Count        Date        DOW\n",
       "0        1  31-08-2022  Wednesday\n",
       "1        2  01-09-2022   Thursday\n",
       "2        3  02-09-2022     Friday\n",
       "3        4  05-09-2022     Monday\n",
       "4        5  06-09-2022    Tuesday\n",
       "..     ...         ...        ...\n",
       "203    204  12-06-2023     Monday\n",
       "204    205  13-06-2023    Tuesday\n",
       "205    206  14-06-2023  Wednesday\n",
       "206    207  15-06-2023   Thursday\n",
       "207    208  16-06-2023     Friday\n",
       "\n",
       "[208 rows x 3 columns]"
      ]
     },
     "execution_count": 36,
     "metadata": {},
     "output_type": "execute_result"
    }
   ],
   "source": [
    "dates_df = pd.DataFrame(list(db.dates.find()))\n",
    "dates_val = dates_df.iloc[0:,1:]\n",
    "# dates_df['Count'].dtype\n",
    "# dates_df_iloc = dates_df.iloc[0:180,1:]\n",
    "dates_val"
   ]
  },
  {
   "cell_type": "code",
   "execution_count": 37,
   "metadata": {},
   "outputs": [
    {
     "name": "stdout",
     "output_type": "stream",
     "text": [
      "31-08-2022  Wednesday\n"
     ]
    }
   ],
   "source": [
    "# import pandas as pd\n",
    "# dates_df = pd.read_csv(\"../static/data/dates.csv\")\n",
    "# dates_df['Count'] = dates_df['Count'].fillna(0).astype(int)\n",
    "d=dates_df.iloc[0,2]+\"  \"+dates_df.iloc[0,3]\n",
    "print(d)"
   ]
  },
  {
   "cell_type": "code",
   "execution_count": 38,
   "metadata": {},
   "outputs": [
    {
     "name": "stderr",
     "output_type": "stream",
     "text": [
      "C:\\Users\\antoi\\AppData\\Local\\Temp/ipykernel_24856/3597525660.py:12: SettingWithCopyWarning: \n",
      "A value is trying to be set on a copy of a slice from a DataFrame.\n",
      "Try using .loc[row_indexer,col_indexer] = value instead\n",
      "\n",
      "See the caveats in the documentation: https://pandas.pydata.org/pandas-docs/stable/user_guide/indexing.html#returning-a-view-versus-a-copy\n",
      "  dates_df_iloc['Price'] = price_list\n"
     ]
    },
    {
     "data": {
      "image/png": "[encoded data removed]",
      "text/plain": [
       "<Figure size 432x288 with 1 Axes>"
      ]
     },
     "metadata": {},
     "output_type": "display_data"
    }
   ],
   "source": [
    "# DRAW THE PREDICTION\n",
    "day1=dates_df.iloc[0,3]+\" \"+dates_df.iloc[0,2]\n",
    "day2=dates_df.iloc[1,3]+\" \"+dates_df.iloc[1,2]\n",
    "day3=dates_df.iloc[2,3]+\" \"+dates_df.iloc[2,2]\n",
    "day4=dates_df.iloc[3,3]+\" \"+dates_df.iloc[3,2]\n",
    "day5=dates_df.iloc[4,3]+\" \"+dates_df.iloc[4,2]\n",
    "day6=dates_df.iloc[5,3]+\" \"+dates_df.iloc[5,2]\n",
    "day7=dates_df.iloc[6,3]+\" \"+dates_df.iloc[6,2]\n",
    "day8=dates_df.iloc[7,3]+\" \"+dates_df.iloc[7,2]\n",
    "#Append the input amount of trading days to dates dictionary\n",
    "dates_df_iloc = dates_df.iloc[0:(input-1)]\n",
    "dates_df_iloc['Price'] = price_list\n",
    "plt.plot(dates_df_iloc['Price'])\n",
    "plt.title('FMG LSTM PREDICTIONS : '+last_date+\"  $\"+str(round(last_close,2)))\n",
    "# plt.xlabel('Future Trading Days', fontsize=10)\n",
    "plt.ylabel('Close Price AUD ($)',fontsize=10)\n",
    "plt.xticks([0,25,50,75,100,125,150,175],[day1,day2,day3,day4,day5,day6,day7,day8],fontsize=9,rotation=35)\n",
    "plt.savefig('../static/data/images/pred/fmg_pred.png', bbox_inches=\"tight\")\n",
    "plt.show()"
   ]
  },
  {
   "cell_type": "code",
   "execution_count": 39,
   "metadata": {},
   "outputs": [
    {
     "name": "stdout",
     "output_type": "stream",
     "text": [
      "{'_id': ObjectId('630dc684ae0967d012939257'), 'Count': 1, 'Date': '31-08-2022', 'DOW': 'Wednesday', 'Price': 18.78}\n"
     ]
    }
   ],
   "source": [
    "#Append the input amount of trading days to dates dictionary\n",
    "my_dict = dates_df_iloc.to_dict(orient='records')\n",
    "print(my_dict[0])\n",
    "price_dict = [dict(zip(['Price'],[x])) for x in price_list]\n",
    "# print(price_dict[0])"
   ]
  },
  {
   "cell_type": "code",
   "execution_count": 40,
   "metadata": {},
   "outputs": [
    {
     "name": "stdout",
     "output_type": "stream",
     "text": [
      "4701 5876 6039\n"
     ]
    }
   ],
   "source": [
    "len_df_mongo = len(df_mongo) # length of the original dataframe\n",
    "col_name = ['Close']\n",
    "df_filtered = df.filter(col_name)\n",
    "df_filtered_len = len(df_filtered.index)\n",
    "df_filtered_len\n",
    "len_pred_df = df_filtered_len+input # length of the original dataframe plus the users new inputs\n",
    "\n",
    "new_data =df_filtered.append(pd.DataFrame(price_list,columns=col_name),ignore_index=True)\n",
    "new_data.tail(10)\n",
    "print(train_data_len,len_df_mongo,len_pred_df)\n"
   ]
  },
  {
   "cell_type": "code",
   "execution_count": 41,
   "metadata": {},
   "outputs": [
    {
     "name": "stderr",
     "output_type": "stream",
     "text": [
      "C:\\Users\\antoi\\AppData\\Local\\Temp/ipykernel_24856/2118392301.py:6: SettingWithCopyWarning: \n",
      "A value is trying to be set on a copy of a slice from a DataFrame.\n",
      "Try using .loc[row_indexer,col_indexer] = value instead\n",
      "\n",
      "See the caveats in the documentation: https://pandas.pydata.org/pandas-docs/stable/user_guide/indexing.html#returning-a-view-versus-a-copy\n",
      "  valid['Predictions'] = predictions # another column for validating test\n"
     ]
    },
    {
     "data": {
      "image/png": "[encoded data removed]",
      "text/plain": [
       "<Figure size 1152x576 with 1 Axes>"
      ]
     },
     "metadata": {},
     "output_type": "display_data"
    }
   ],
   "source": [
    "#Plot the data to validate the test data\n",
    "\n",
    "plt.style.use('fivethirtyeight')\n",
    "train = new_data.iloc[:train_data_len] # actual train data from 0 rows until train data end\n",
    "valid = new_data.iloc[train_data_len:len_df_mongo] # actual test data from train data end until end of all sampled data\n",
    "valid['Predictions'] = predictions # another column for validating test\n",
    "predict = new_data.iloc[len_df_mongo:len_pred_df] # user prediction data from loop\n",
    "\n",
    "plt.figure(figsize=(16,8))\n",
    "plt.title('PREDICTION FMG Share Price - LSTM Model')\n",
    "plt.xlabel('Trading Date', fontsize=18)\n",
    "plt.ylabel('Close Price AUD ($)',fontsize=18)\n",
    "plt.plot(train['Close'])\n",
    "plt.plot(valid[['Close','Predictions']])\n",
    "plt.plot(predict['Close'])\n",
    "plt.legend(['Training data','Tested data','Validate test data','Prediction'],loc='lower right')\n",
    "x = np.arange(2000,2024,4)\n",
    "plt.xticks([0,1000,2000,3000,4000,5000],x)\n",
    "plt.savefig('../static/data/images/fmg_predict_graph.png')\n",
    "plt.show()"
   ]
  },
  {
   "cell_type": "markdown",
   "metadata": {},
   "source": [
    "#Save predicted price to MongoDB"
   ]
  },
  {
   "cell_type": "code",
   "execution_count": 42,
   "metadata": {},
   "outputs": [
    {
     "name": "stdout",
     "output_type": "stream",
     "text": [
      "{'_id': ObjectId('62f77e2f2a827b19bf6473c2'), 'model': 'RFR', 'name': 'FMG', 'date': '12/08/2022', 'predicted': 12, 'actual': 18, 'difference': -5.0768, 'accuracy': 91.24}\n",
      "{'_id': ObjectId('630c8ec18b7907a16afd954e'), 'model': 'LSTM', 'name': 'FMG', 'date': '29/08/2022', 'predicted': 18.36, 'actual': 18.89, 'difference': -0.53, 'rmse': 0.47329}\n"
     ]
    }
   ],
   "source": [
    "# Query all\n",
    "name = 'FMG'\n",
    "companys = db.companys.find({'name': name})\n",
    "# Iterate through each company in the collection\n",
    "for company in companys:\n",
    "    print(company)"
   ]
  },
  {
   "cell_type": "code",
   "execution_count": 43,
   "metadata": {},
   "outputs": [
    {
     "name": "stdout",
     "output_type": "stream",
     "text": [
      "{'_id': ObjectId('62f77e2f2a827b19bf6473c2'), 'model': 'RFR', 'name': 'FMG', 'date': '12/08/2022', 'predicted': 12, 'actual': 18, 'difference': -5.0768, 'accuracy': 91.24}\n"
     ]
    }
   ],
   "source": [
    "# Delete a document from a collection\n",
    "db.companys_agg.delete_one(\n",
    "    {'model': 'LSTM','name': name,'date':last_date}\n",
    ")\n",
    "db.companys.delete_one(\n",
    "    {'model': 'LSTM','name': name}\n",
    ")\n",
    "\n",
    "# query the companys collection\n",
    "companys = db.companys.find({'name': name})\n",
    "# see change in the collection\n",
    "for company in companys:\n",
    "    print(company)"
   ]
  },
  {
   "cell_type": "code",
   "execution_count": 44,
   "metadata": {},
   "outputs": [
    {
     "name": "stdout",
     "output_type": "stream",
     "text": [
      "date 30/08/2022,predicted $17.86, actual $18.95, difference -1.0899999999999999, rmse 0.68616\n"
     ]
    }
   ],
   "source": [
    "# Set keys and values of company\n",
    "name = 'FMG'\n",
    "# Set keys and values of company\n",
    "last_close=round(float(last_close),2)\n",
    "difference = pred_price-last_close\n",
    "print(f'date {last_date},predicted ${pred_price}, actual ${last_close}, difference {difference}, rmse {round(rmse,5)}')"
   ]
  },
  {
   "cell_type": "code",
   "execution_count": 45,
   "metadata": {},
   "outputs": [
    {
     "name": "stdout",
     "output_type": "stream",
     "text": [
      "{'_id': ObjectId('62f77e2f2a827b19bf6473c2'), 'model': 'RFR', 'name': 'FMG', 'date': '12/08/2022', 'predicted': 12, 'actual': 18, 'difference': -5.0768, 'accuracy': 91.24}\n",
      "{'_id': ObjectId('630dcc6bf52ded7e84807581'), 'model': 'LSTM', 'name': 'FMG', 'date': '30/08/2022', 'predicted': 17.86, 'actual': 18.95, 'difference': -1.09, 'rmse': 0.68616}\n"
     ]
    }
   ],
   "source": [
    "# Insert a document into the 'companys' collection\n",
    "db.companys_agg.insert_one(\n",
    "    {\n",
    "      'model': 'LSTM',\n",
    "      'name': name,\n",
    "      'date': last_date,\n",
    "      'predicted': pred_price,\n",
    "      'actual': last_close,\n",
    "      'difference': round(difference,4),\n",
    "      'rmse': round(rmse,5)        \n",
    "    }\n",
    ")\n",
    "\n",
    "db.companys.insert_one(\n",
    "    {\n",
    "      'model': 'LSTM',\n",
    "      'name': name,\n",
    "      'date': last_date,\n",
    "      'predicted': pred_price,\n",
    "      'actual': last_close,\n",
    "      'difference': round(difference,4),\n",
    "      'rmse': round(rmse,5)        \n",
    "    }\n",
    ")\n",
    "\n",
    "# query the classroom collection\n",
    "companys = db.companys.find({'name': name})\n",
    "\n",
    "# see change in collection\n",
    "for company in companys:\n",
    "    print(company)"
   ]
  },
  {
   "cell_type": "code",
   "execution_count": 46,
   "metadata": {},
   "outputs": [
    {
     "name": "stdout",
     "output_type": "stream",
     "text": [
      "{'_id': ObjectId('62cfb5f0a3e49b5607e1001b'), 'model': 'RFR', 'name': 'nhc', 'date': '14/07/2022', 'predicted': 3, 'actual': 4, 'differece': -0.4134955929131614, 'accuracy': 95.31}\n",
      "{'_id': ObjectId('62e47c25ddd32d7e027d5c65'), 'model': 'LSTM', 'name': 'fmg', 'date': '29/07/2022', 'predicted': 19, 'actual': 18.34, 'differece': 0.6600000000000001, 'rmse': 0.73826}\n",
      "{'_id': ObjectId('62e481c2f248345c96c9494d'), 'model': 'RFR', 'name': 'fmg', 'date': '29/07/2022', 'predicted': 12, 'actual': 18, 'differece': -5.209653763866996, 'accuracy': 91.31}\n",
      "{'_id': ObjectId('62e50595000bd2fa71a88d82'), 'model': 'RFR', 'name': 'wes', 'date': '29/07/2022', 'predicted': 44, 'actual': 38, 'difference': 6.9125, 'accuracy': 97.16}\n",
      "{'_id': ObjectId('62e63809b66c4b7fa3db1a22'), 'model': 'RFR', 'name': 'anz', 'date': '29/07/2022', 'predicted': 33, 'actual': 22, 'difference': 11.1838, 'accuracy': 97.09}\n",
      "{'_id': ObjectId('62ea3a74d27bca6473865515'), 'model': 'RFR', 'name': 'bhp', 'date': '02/08/2022', 'predicted': 47, 'actual': 38, 'difference': 9.0458, 'accuracy': 96.55}\n",
      "{'_id': ObjectId('62ee1dbc8d0aa1f1db925f04'), 'model': 'RFR', 'name': 'SHL', 'date': '05/08/2022', 'predicted': 32, 'actual': 35, 'difference': -2.9074, 'accuracy': 96.97}\n",
      "{'_id': ObjectId('62f72d88ba70ff4c205ba17f'), 'model': 'RFR', 'name': 'ANZ', 'date': '12/08/2022', 'predicted': 33, 'actual': 24, 'difference': 9.1995, 'accuracy': 97.17}\n",
      "{'_id': ObjectId('62f72f48de00168f436699ef'), 'model': 'RFR', 'name': 'BHP', 'date': '12/08/2022', 'predicted': 42, 'actual': 38, 'difference': 4.9902, 'accuracy': 96.75}\n",
      "{'_id': ObjectId('62f77b21e02817947b886fcd'), 'model': 'RFR', 'name': 'CSL', 'date': '12/08/2022', 'predicted': 244, 'actual': 290, 'difference': -45.2, 'accuracy': 96.14}\n",
      "{'_id': ObjectId('62f77e2f2a827b19bf6473c2'), 'model': 'RFR', 'name': 'FMG', 'date': '12/08/2022', 'predicted': 12, 'actual': 18, 'difference': -5.0768, 'accuracy': 91.24}\n",
      "{'_id': ObjectId('62f83471a0999ee2071b809d'), 'model': 'RFR', 'name': 'GMG', 'date': '12/08/2022', 'predicted': 18, 'actual': 20, 'difference': -1.9984, 'accuracy': 95.8}\n",
      "{'_id': ObjectId('62f83473d6fc67e45e0eff78'), 'model': 'RFR', 'name': 'MIN', 'date': '12/08/2022', 'predicted': 38, 'actual': 59, 'difference': -20.3236, 'accuracy': 93.74}\n",
      "{'_id': ObjectId('62f8348d83934ace5cf9129a'), 'model': 'RFR', 'name': 'MQG', 'date': '12/08/2022', 'predicted': 141, 'actual': 178, 'difference': -36.258, 'accuracy': 96.27}\n",
      "{'_id': ObjectId('62f8348e88f5e24597bc697a'), 'model': 'RFR', 'name': 'LYC', 'date': '12/08/2022', 'predicted': 6, 'actual': 9, 'difference': -2.6271, 'accuracy': 90.7}\n",
      "{'_id': ObjectId('62f850fe1081f44aefd85c5a'), 'model': 'RFR', 'name': 'NCM', 'date': '12/08/2022', 'predicted': 32, 'actual': 19, 'difference': 13.3254, 'accuracy': 95.25}\n",
      "{'_id': ObjectId('62f85c349cd16f126af85ea7'), 'model': 'RFR', 'name': 'NIC', 'date': '12/08/2022', 'predicted': 0.93, 'actual': 1.14, 'difference': -0.21, 'accuracy': 91.96}\n",
      "{'_id': ObjectId('62f85c3b11cc7bd61b8a9561'), 'model': 'RFR', 'name': 'S32', 'date': '12/08/2022', 'predicted': 4, 'actual': 4, 'difference': 0.8543, 'accuracy': 95.15}\n",
      "{'_id': ObjectId('62f85c3be24e5b9565f4566b'), 'model': 'RFR', 'name': 'NHC', 'date': '12/08/2022', 'predicted': 3.63, 'actual': 4.4, 'difference': -0.77, 'accuracy': 95.37}\n",
      "{'_id': ObjectId('62f85c3c324d73afb9fa1203'), 'model': 'RFR', 'name': 'PRU', 'date': '12/08/2022', 'predicted': 1, 'actual': 1, 'difference': 0.5741, 'accuracy': 92.31}\n",
      "{'_id': ObjectId('62f867c28186dd9129aea8b3'), 'model': 'RFR', 'name': 'SOL', 'date': '12/08/2022', 'predicted': 25, 'actual': 25, 'difference': 0.1119, 'accuracy': 97.48}\n",
      "{'_id': ObjectId('62f86865d548095e992ccb3a'), 'model': 'RFR', 'name': 'TCL', 'date': '12/08/2022', 'predicted': 14, 'actual': 14, 'difference': 0.1858, 'accuracy': 97.25}\n",
      "{'_id': ObjectId('62f868b7af264067b61a7d2d'), 'model': 'RFR', 'name': 'STO', 'date': '12/08/2022', 'predicted': 8, 'actual': 7, 'difference': 1.774, 'accuracy': 96.25}\n",
      "{'_id': ObjectId('62f869a32d48e159f9650d6b'), 'model': 'RFR', 'name': 'CBA', 'date': '12/08/2022', 'predicted': 97, 'actual': 100, 'difference': -2.7336, 'accuracy': 97.42}\n",
      "{'_id': ObjectId('62f869ba3bc6ea83a205aea8'), 'model': 'RFR', 'name': 'NAB', 'date': '12/08/2022', 'predicted': 28, 'actual': 30, 'difference': -1.8976, 'accuracy': 97.17}\n",
      "{'_id': ObjectId('62f86c94e8aa99df83075c2c'), 'model': 'RFR', 'name': 'WBC', 'date': '12/08/2022', 'predicted': 31, 'actual': 22, 'difference': 9.5487, 'accuracy': 97.02}\n",
      "{'_id': ObjectId('62f86d4682a83325a4b1cd10'), 'model': 'RFR', 'name': 'WOW', 'date': '12/08/2022', 'predicted': 40, 'actual': 38, 'difference': 2.4486, 'accuracy': 97.51}\n",
      "{'_id': ObjectId('62f86d4cd6d72aa104d49f9c'), 'model': 'RFR', 'name': 'WDS', 'date': '12/08/2022', 'predicted': 41, 'actual': 32, 'difference': 9.1736, 'accuracy': 96.93}\n",
      "{'_id': ObjectId('62f86d4d5bc1b7bdfbac98f7'), 'model': 'RFR', 'name': 'WES', 'date': '12/08/2022', 'predicted': 45, 'actual': 47, 'difference': -1.9191, 'accuracy': 97.18}\n",
      "{'_id': ObjectId('63083b64cd3920ce081aa1ec'), 'model': 'RFR', 'name': 'ALL', 'date': '25/08/2022', 'predicted': 31, 'actual': 36, 'difference': -4.9502, 'accuracy': 94.04}\n",
      "{'_id': ObjectId('630af0a1caaee22d128e9225'), 'model': 'LSTM', 'name': 'GMG', 'date': '26/08/2022', 'predicted': 19.88, 'actual': 20.52, 'difference': -0.64, 'rmse': 0.00238}\n",
      "{'_id': ObjectId('630af98edb85926b1fc936cf'), 'model': 'LSTM', 'name': 'NHC', 'date': '26/08/2022', 'predicted': 4, 'actual': 5.13, 'difference': -0.3, 'rmse': 0.01811}\n",
      "{'_id': ObjectId('630b25a73674715d88278ff4'), 'model': 'LSTM', 'name': 'WOW', 'date': '26/08/2022', 'predicted': 36.81, 'actual': 36.76, 'difference': 0.05, 'rmse': 0.142}\n",
      "{'_id': ObjectId('630c8ec1db7b37b4b4059fab'), 'model': 'LSTM', 'name': 'DJI', 'date': '26/08/2022', 'predicted': 32036.17, 'actual': 32283.4, 'difference': -247.23, 'rmse': 300.89437}\n",
      "{'_id': ObjectId('630c8ec185d5686c1b532820'), 'model': 'LSTM', 'name': 'LYC', 'date': '29/08/2022', 'predicted': 21.27, 'actual': 8.83, 'difference': 12.44, 'rmse': 0.19764}\n",
      "{'_id': ObjectId('630c8ec2135a740543b40a14'), 'model': 'LSTM', 'name': 'MIN', 'date': '29/08/2022', 'predicted': 64.41, 'actual': 63.99, 'difference': 0.42, 'rmse': 0.75166}\n",
      "{'_id': ObjectId('630c94101ff5dd4672f9df4b'), 'model': 'LSTM', 'name': 'MQG', 'date': '29/08/2022', 'predicted': 167.68, 'actual': 174.06, 'difference': -6.38, 'rmse': 3.53619}\n",
      "{'_id': ObjectId('630c9410a07dcddde21c3d60'), 'model': 'LSTM', 'name': 'PRU', 'date': '29/08/2022', 'predicted': 1.66, 'actual': 1.54, 'difference': 0.12, 'rmse': 0.02908}\n",
      "{'_id': ObjectId('630c942c97d791937f1832cd'), 'model': 'LSTM', 'name': 'NAB', 'date': '29/08/2022', 'predicted': 29.84, 'actual': 29.84, 'difference': 0.0, 'rmse': 0.14082}\n",
      "{'_id': ObjectId('630c9431a16d0c7f06e32a45'), 'model': 'LSTM', 'name': 'NIC', 'date': '29/08/2022', 'predicted': 1.03, 'actual': 1.01, 'difference': 0.02, 'rmse': 0.0299}\n",
      "{'_id': ObjectId('630c94b805ede3caee656de1'), 'model': 'LSTM', 'name': 'NCM', 'date': '29/08/2022', 'predicted': 18.5, 'actual': 17.39, 'difference': 1.11, 'rmse': 0.63328}\n",
      "{'_id': ObjectId('630c9b5bef573254d440dc7d'), 'model': 'LSTM', 'name': 'WBC', 'date': '29/08/2022', 'predicted': 20.85, 'actual': 21.27, 'differece': -0.41999999999999815, 'rmse': 0.59742}\n",
      "{'_id': ObjectId('630c9b635e1e1a0c91cdef86'), 'model': 'LSTM', 'name': 'WDS', 'date': '29/08/2022', 'predicted': 35.52, 'actual': 35.35, 'difference': 0.17, 'rmse': 0.72869}\n",
      "{'_id': ObjectId('630c9b66d3173d3e00fa926d'), 'model': 'LSTM', 'name': 'WES', 'date': '29/08/2022', 'predicted': 48.97, 'actual': 47.4, 'difference': 1.57, 'rmse': 1.73803}\n",
      "{'_id': ObjectId('630ca377c65787a6bf38855e'), 'model': 'LSTM', 'name': 'SHL', 'date': '29/08/2022', 'predicted': 33.89, 'actual': 34.18, 'difference': -0.29, 'rmse': 0.55148}\n",
      "{'_id': ObjectId('630ca3a2db0c326f661a3a14'), 'model': 'LSTM', 'name': 'STO', 'date': '29/08/2022', 'predicted': 7.83, 'actual': 7.85, 'difference': -0.02, 'rmse': 0.19871}\n",
      "{'_id': ObjectId('630ca3a430f57d244fcdb1d2'), 'model': 'LSTM', 'name': 'SOL', 'date': '29/08/2022', 'predicted': 25.06, 'actual': 25.65, 'difference': -0.59, 'rmse': 0.51626}\n",
      "{'_id': ObjectId('630ca44f1f5365da5cc82415'), 'model': 'LSTM', 'name': 'TCL', 'date': '29/08/2022', 'predicted': 13.82, 'actual': 13.88, 'difference': -0.06, 'rmse': 0.04856}\n",
      "{'_id': ObjectId('630d3acbe38cc7245763958f'), 'model': 'LSTM', 'name': 'S32', 'date': '29/08/2022', 'predicted': 4.29, 'actual': 4.09, 'difference': 0.2, 'rmse': 0.10084}\n",
      "{'_id': ObjectId('630dc686ae0967d012939328'), 'model': 'LSTM', 'name': 'ALL', 'date': '30/08/2022', 'predicted': 34.34, 'actual': 35.3, 'difference': -0.96, 'rmse': 0.65113}\n",
      "{'_id': ObjectId('630dc693de01e11621c50261'), 'model': 'LSTM', 'name': 'CBA', 'date': '30/08/2022', 'predicted': 95.74, 'actual': 96.55, 'difference': -0.81, 'rmse': 0.5768}\n",
      "{'_id': ObjectId('630dc69746f8c2c8be21d8ae'), 'model': 'LSTM', 'name': 'ANZ', 'date': '30/08/2022', 'predicted': 22.59, 'actual': 22.57, 'difference': 0.02, 'rmse': 0.19239}\n",
      "{'_id': ObjectId('630dc69bfa90e1fdc0f38f71'), 'model': 'LSTM', 'name': 'BHP', 'date': '30/08/2022', 'predicted': 37.73, 'actual': 41.75, 'difference': -4.02, 'rmse': 3.30176}\n",
      "{'_id': ObjectId('630dcc6b77e246721e8ea5f5'), 'model': 'LSTM', 'name': 'CSL', 'date': '30/08/2022', 'predicted': 261.29, 'actual': 293.9, 'difference': -32.61, 'rmse': 22.01025}\n",
      "{'_id': ObjectId('630dcc6bf52ded7e84807581'), 'model': 'LSTM', 'name': 'FMG', 'date': '30/08/2022', 'predicted': 17.86, 'actual': 18.95, 'difference': -1.09, 'rmse': 0.68616}\n"
     ]
    }
   ],
   "source": [
    "# query all companys collection\n",
    "companys = db.companys.find()\n",
    "\n",
    "# see change in collection\n",
    "for company in companys:\n",
    "    print(company)"
   ]
  },
  {
   "cell_type": "code",
   "execution_count": 47,
   "metadata": {},
   "outputs": [
    {
     "name": "stdout",
     "output_type": "stream",
     "text": [
      "{'_id': ObjectId('62cfb5f0a3e49b5607e1001b'), 'model': 'RFR', 'name': 'nhc', 'date': '14/07/2022', 'predicted': 3, 'actual': 4, 'differece': -0.4134955929131614, 'accuracy': 95.31}\n",
      "{'_id': ObjectId('62e47c25ddd32d7e027d5c65'), 'model': 'LSTM', 'name': 'fmg', 'date': '29/07/2022', 'predicted': 19, 'actual': 18.34, 'differece': 0.6600000000000001, 'rmse': 0.73826}\n",
      "{'_id': ObjectId('62e481c2f248345c96c9494d'), 'model': 'RFR', 'name': 'fmg', 'date': '29/07/2022', 'predicted': 12, 'actual': 18, 'differece': -5.209653763866996, 'accuracy': 91.31}\n",
      "{'_id': ObjectId('62e50595000bd2fa71a88d82'), 'model': 'RFR', 'name': 'wes', 'date': '29/07/2022', 'predicted': 44, 'actual': 38, 'difference': 6.9125, 'accuracy': 97.16}\n",
      "{'_id': ObjectId('62e63809b66c4b7fa3db1a22'), 'model': 'RFR', 'name': 'anz', 'date': '29/07/2022', 'predicted': 33, 'actual': 22, 'difference': 11.1838, 'accuracy': 97.09}\n",
      "{'_id': ObjectId('62ea3a74d27bca6473865515'), 'model': 'RFR', 'name': 'bhp', 'date': '02/08/2022', 'predicted': 47, 'actual': 38, 'difference': 9.0458, 'accuracy': 96.55}\n",
      "{'_id': ObjectId('62ee1dbc8d0aa1f1db925f04'), 'model': 'RFR', 'name': 'SHL', 'date': '05/08/2022', 'predicted': 32, 'actual': 35, 'difference': -2.9074, 'accuracy': 96.97}\n",
      "{'_id': ObjectId('62f72d88ba70ff4c205ba17f'), 'model': 'RFR', 'name': 'ANZ', 'date': '12/08/2022', 'predicted': 33, 'actual': 24, 'difference': 9.1995, 'accuracy': 97.17}\n",
      "{'_id': ObjectId('62f72f48de00168f436699ef'), 'model': 'RFR', 'name': 'BHP', 'date': '12/08/2022', 'predicted': 42, 'actual': 38, 'difference': 4.9902, 'accuracy': 96.75}\n",
      "{'_id': ObjectId('62f77b21e02817947b886fcd'), 'model': 'RFR', 'name': 'CSL', 'date': '12/08/2022', 'predicted': 244, 'actual': 290, 'difference': -45.2, 'accuracy': 96.14}\n",
      "{'_id': ObjectId('62f77e2f2a827b19bf6473c2'), 'model': 'RFR', 'name': 'FMG', 'date': '12/08/2022', 'predicted': 12, 'actual': 18, 'difference': -5.0768, 'accuracy': 91.24}\n",
      "{'_id': ObjectId('62f83471a0999ee2071b809d'), 'model': 'RFR', 'name': 'GMG', 'date': '12/08/2022', 'predicted': 18, 'actual': 20, 'difference': -1.9984, 'accuracy': 95.8}\n",
      "{'_id': ObjectId('62f83473d6fc67e45e0eff78'), 'model': 'RFR', 'name': 'MIN', 'date': '12/08/2022', 'predicted': 38, 'actual': 59, 'difference': -20.3236, 'accuracy': 93.74}\n",
      "{'_id': ObjectId('62f8348d83934ace5cf9129a'), 'model': 'RFR', 'name': 'MQG', 'date': '12/08/2022', 'predicted': 141, 'actual': 178, 'difference': -36.258, 'accuracy': 96.27}\n",
      "{'_id': ObjectId('62f8348e88f5e24597bc697a'), 'model': 'RFR', 'name': 'LYC', 'date': '12/08/2022', 'predicted': 6, 'actual': 9, 'difference': -2.6271, 'accuracy': 90.7}\n",
      "{'_id': ObjectId('62f850fe1081f44aefd85c5a'), 'model': 'RFR', 'name': 'NCM', 'date': '12/08/2022', 'predicted': 32, 'actual': 19, 'difference': 13.3254, 'accuracy': 95.25}\n",
      "{'_id': ObjectId('62f85c349cd16f126af85ea7'), 'model': 'RFR', 'name': 'NIC', 'date': '12/08/2022', 'predicted': 0.93, 'actual': 1.14, 'difference': -0.21, 'accuracy': 91.96}\n",
      "{'_id': ObjectId('62f85c3b11cc7bd61b8a9561'), 'model': 'RFR', 'name': 'S32', 'date': '12/08/2022', 'predicted': 4, 'actual': 4, 'difference': 0.8543, 'accuracy': 95.15}\n",
      "{'_id': ObjectId('62f85c3be24e5b9565f4566b'), 'model': 'RFR', 'name': 'NHC', 'date': '12/08/2022', 'predicted': 3.63, 'actual': 4.4, 'difference': -0.77, 'accuracy': 95.37}\n",
      "{'_id': ObjectId('62f85c3c324d73afb9fa1203'), 'model': 'RFR', 'name': 'PRU', 'date': '12/08/2022', 'predicted': 1, 'actual': 1, 'difference': 0.5741, 'accuracy': 92.31}\n",
      "{'_id': ObjectId('62f867c28186dd9129aea8b3'), 'model': 'RFR', 'name': 'SOL', 'date': '12/08/2022', 'predicted': 25, 'actual': 25, 'difference': 0.1119, 'accuracy': 97.48}\n",
      "{'_id': ObjectId('62f86865d548095e992ccb3a'), 'model': 'RFR', 'name': 'TCL', 'date': '12/08/2022', 'predicted': 14, 'actual': 14, 'difference': 0.1858, 'accuracy': 97.25}\n",
      "{'_id': ObjectId('62f868b7af264067b61a7d2d'), 'model': 'RFR', 'name': 'STO', 'date': '12/08/2022', 'predicted': 8, 'actual': 7, 'difference': 1.774, 'accuracy': 96.25}\n",
      "{'_id': ObjectId('62f869a32d48e159f9650d6b'), 'model': 'RFR', 'name': 'CBA', 'date': '12/08/2022', 'predicted': 97, 'actual': 100, 'difference': -2.7336, 'accuracy': 97.42}\n",
      "{'_id': ObjectId('62f869ba3bc6ea83a205aea8'), 'model': 'RFR', 'name': 'NAB', 'date': '12/08/2022', 'predicted': 28, 'actual': 30, 'difference': -1.8976, 'accuracy': 97.17}\n",
      "{'_id': ObjectId('62f86c94e8aa99df83075c2c'), 'model': 'RFR', 'name': 'WBC', 'date': '12/08/2022', 'predicted': 31, 'actual': 22, 'difference': 9.5487, 'accuracy': 97.02}\n",
      "{'_id': ObjectId('62f86d4682a83325a4b1cd10'), 'model': 'RFR', 'name': 'WOW', 'date': '12/08/2022', 'predicted': 40, 'actual': 38, 'difference': 2.4486, 'accuracy': 97.51}\n",
      "{'_id': ObjectId('62f86d4cd6d72aa104d49f9c'), 'model': 'RFR', 'name': 'WDS', 'date': '12/08/2022', 'predicted': 41, 'actual': 32, 'difference': 9.1736, 'accuracy': 96.93}\n",
      "{'_id': ObjectId('62f86d4d5bc1b7bdfbac98f7'), 'model': 'RFR', 'name': 'WES', 'date': '12/08/2022', 'predicted': 45, 'actual': 47, 'difference': -1.9191, 'accuracy': 97.18}\n",
      "{'_id': ObjectId('63083b64cd3920ce081aa1ec'), 'model': 'RFR', 'name': 'ALL', 'date': '25/08/2022', 'predicted': 31, 'actual': 36, 'difference': -4.9502, 'accuracy': 94.04}\n",
      "{'_id': ObjectId('630af0a1caaee22d128e9225'), 'model': 'LSTM', 'name': 'GMG', 'date': '26/08/2022', 'predicted': 19.88, 'actual': 20.52, 'difference': -0.64, 'rmse': 0.00238}\n",
      "{'_id': ObjectId('630af98edb85926b1fc936cf'), 'model': 'LSTM', 'name': 'NHC', 'date': '26/08/2022', 'predicted': 4, 'actual': 5.13, 'difference': -0.3, 'rmse': 0.01811}\n",
      "{'_id': ObjectId('630b25a73674715d88278ff4'), 'model': 'LSTM', 'name': 'WOW', 'date': '26/08/2022', 'predicted': 36.81, 'actual': 36.76, 'difference': 0.05, 'rmse': 0.142}\n",
      "{'_id': ObjectId('630c8ec1db7b37b4b4059fab'), 'model': 'LSTM', 'name': 'DJI', 'date': '26/08/2022', 'predicted': 32036.17, 'actual': 32283.4, 'difference': -247.23, 'rmse': 300.89437}\n",
      "{'_id': ObjectId('630c8ec185d5686c1b532820'), 'model': 'LSTM', 'name': 'LYC', 'date': '29/08/2022', 'predicted': 21.27, 'actual': 8.83, 'difference': 12.44, 'rmse': 0.19764}\n",
      "{'_id': ObjectId('630c8ec2135a740543b40a14'), 'model': 'LSTM', 'name': 'MIN', 'date': '29/08/2022', 'predicted': 64.41, 'actual': 63.99, 'difference': 0.42, 'rmse': 0.75166}\n",
      "{'_id': ObjectId('630c94101ff5dd4672f9df4b'), 'model': 'LSTM', 'name': 'MQG', 'date': '29/08/2022', 'predicted': 167.68, 'actual': 174.06, 'difference': -6.38, 'rmse': 3.53619}\n",
      "{'_id': ObjectId('630c9410a07dcddde21c3d60'), 'model': 'LSTM', 'name': 'PRU', 'date': '29/08/2022', 'predicted': 1.66, 'actual': 1.54, 'difference': 0.12, 'rmse': 0.02908}\n",
      "{'_id': ObjectId('630c942c97d791937f1832cd'), 'model': 'LSTM', 'name': 'NAB', 'date': '29/08/2022', 'predicted': 29.84, 'actual': 29.84, 'difference': 0.0, 'rmse': 0.14082}\n",
      "{'_id': ObjectId('630c9431a16d0c7f06e32a45'), 'model': 'LSTM', 'name': 'NIC', 'date': '29/08/2022', 'predicted': 1.03, 'actual': 1.01, 'difference': 0.02, 'rmse': 0.0299}\n",
      "{'_id': ObjectId('630c94b805ede3caee656de1'), 'model': 'LSTM', 'name': 'NCM', 'date': '29/08/2022', 'predicted': 18.5, 'actual': 17.39, 'difference': 1.11, 'rmse': 0.63328}\n",
      "{'_id': ObjectId('630c9b5bef573254d440dc7d'), 'model': 'LSTM', 'name': 'WBC', 'date': '29/08/2022', 'predicted': 20.85, 'actual': 21.27, 'differece': -0.41999999999999815, 'rmse': 0.59742}\n",
      "{'_id': ObjectId('630c9b635e1e1a0c91cdef86'), 'model': 'LSTM', 'name': 'WDS', 'date': '29/08/2022', 'predicted': 35.52, 'actual': 35.35, 'difference': 0.17, 'rmse': 0.72869}\n",
      "{'_id': ObjectId('630c9b66d3173d3e00fa926d'), 'model': 'LSTM', 'name': 'WES', 'date': '29/08/2022', 'predicted': 48.97, 'actual': 47.4, 'difference': 1.57, 'rmse': 1.73803}\n",
      "{'_id': ObjectId('630ca377c65787a6bf38855e'), 'model': 'LSTM', 'name': 'SHL', 'date': '29/08/2022', 'predicted': 33.89, 'actual': 34.18, 'difference': -0.29, 'rmse': 0.55148}\n",
      "{'_id': ObjectId('630ca3a2db0c326f661a3a14'), 'model': 'LSTM', 'name': 'STO', 'date': '29/08/2022', 'predicted': 7.83, 'actual': 7.85, 'difference': -0.02, 'rmse': 0.19871}\n",
      "{'_id': ObjectId('630ca3a430f57d244fcdb1d2'), 'model': 'LSTM', 'name': 'SOL', 'date': '29/08/2022', 'predicted': 25.06, 'actual': 25.65, 'difference': -0.59, 'rmse': 0.51626}\n",
      "{'_id': ObjectId('630ca44f1f5365da5cc82415'), 'model': 'LSTM', 'name': 'TCL', 'date': '29/08/2022', 'predicted': 13.82, 'actual': 13.88, 'difference': -0.06, 'rmse': 0.04856}\n",
      "{'_id': ObjectId('630d3acbe38cc7245763958f'), 'model': 'LSTM', 'name': 'S32', 'date': '29/08/2022', 'predicted': 4.29, 'actual': 4.09, 'difference': 0.2, 'rmse': 0.10084}\n",
      "{'_id': ObjectId('630dc686ae0967d012939328'), 'model': 'LSTM', 'name': 'ALL', 'date': '30/08/2022', 'predicted': 34.34, 'actual': 35.3, 'difference': -0.96, 'rmse': 0.65113}\n",
      "{'_id': ObjectId('630dc693de01e11621c50261'), 'model': 'LSTM', 'name': 'CBA', 'date': '30/08/2022', 'predicted': 95.74, 'actual': 96.55, 'difference': -0.81, 'rmse': 0.5768}\n",
      "{'_id': ObjectId('630dc69746f8c2c8be21d8ae'), 'model': 'LSTM', 'name': 'ANZ', 'date': '30/08/2022', 'predicted': 22.59, 'actual': 22.57, 'difference': 0.02, 'rmse': 0.19239}\n",
      "{'_id': ObjectId('630dc69bfa90e1fdc0f38f71'), 'model': 'LSTM', 'name': 'BHP', 'date': '30/08/2022', 'predicted': 37.73, 'actual': 41.75, 'difference': -4.02, 'rmse': 3.30176}\n",
      "{'_id': ObjectId('630dcc6b77e246721e8ea5f5'), 'model': 'LSTM', 'name': 'CSL', 'date': '30/08/2022', 'predicted': 261.29, 'actual': 293.9, 'difference': -32.61, 'rmse': 22.01025}\n",
      "{'_id': ObjectId('630dcc6bf52ded7e84807581'), 'model': 'LSTM', 'name': 'FMG', 'date': '30/08/2022', 'predicted': 17.86, 'actual': 18.95, 'difference': -1.09, 'rmse': 0.68616}\n"
     ]
    }
   ],
   "source": [
    "# query all the classroom collection\n",
    "companys = db.companys.find()\n",
    "\n",
    "# see change in collection\n",
    "for company in companys:\n",
    "    print(company)"
   ]
  }
 ],
 "metadata": {
  "kernel_info": {
   "name": "dev"
  },
  "kernelspec": {
   "display_name": "Python 3.9.7 ('base')",
   "language": "python",
   "name": "python3"
  },
  "language_info": {
   "codemirror_mode": {
    "name": "ipython",
    "version": 3
   },
   "file_extension": ".py",
   "mimetype": "text/x-python",
   "name": "python",
   "nbconvert_exporter": "python",
   "pygments_lexer": "ipython3",
   "version": "3.9.7"
  },
  "nteract": {
   "version": "0.12.3"
  },
  "vscode": {
   "interpreter": {
    "hash": "45bb1cb4637e4034484920e5cfb24c9afd84b0847d6c36e39edd3067d3a05462"
   }
  }
 },
 "nbformat": 4,
 "nbformat_minor": 2
}
