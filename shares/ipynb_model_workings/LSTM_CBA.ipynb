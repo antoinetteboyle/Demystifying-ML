{
 "cells": [
  {
   "cell_type": "markdown",
   "metadata": {},
   "source": [
    "#This model uses LSTM to predict a Daily share price movements based on time series and batches of 60 days"
   ]
  },
  {
   "cell_type": "markdown",
   "metadata": {},
   "source": [
    "# Read the CSV and Perform Basic Data Cleaning"
   ]
  },
  {
   "cell_type": "code",
   "execution_count": 1,
   "metadata": {},
   "outputs": [],
   "source": [
    "import matplotlib.pyplot as plt\n",
    "import numpy as np\n",
    "import pandas as pd"
   ]
  },
  {
   "cell_type": "code",
   "execution_count": 2,
   "metadata": {},
   "outputs": [
    {
     "data": {
      "text/html": [
       "<div>\n",
       "<style scoped>\n",
       "    .dataframe tbody tr th:only-of-type {\n",
       "        vertical-align: middle;\n",
       "    }\n",
       "\n",
       "    .dataframe tbody tr th {\n",
       "        vertical-align: top;\n",
       "    }\n",
       "\n",
       "    .dataframe thead th {\n",
       "        text-align: right;\n",
       "    }\n",
       "</style>\n",
       "<table border=\"1\" class=\"dataframe\">\n",
       "  <thead>\n",
       "    <tr style=\"text-align: right;\">\n",
       "      <th></th>\n",
       "      <th>Date</th>\n",
       "      <th>Open</th>\n",
       "      <th>High</th>\n",
       "      <th>Low</th>\n",
       "      <th>Close</th>\n",
       "      <th>Adj Close</th>\n",
       "      <th>Volume</th>\n",
       "      <th>RBA</th>\n",
       "      <th>FED</th>\n",
       "      <th>CPI</th>\n",
       "    </tr>\n",
       "  </thead>\n",
       "  <tbody>\n",
       "    <tr>\n",
       "      <th>5743</th>\n",
       "      <td>27/07/2022</td>\n",
       "      <td>96.510002</td>\n",
       "      <td>99.370003</td>\n",
       "      <td>96.459999</td>\n",
       "      <td>98.900002</td>\n",
       "      <td>98.900002</td>\n",
       "      <td>2221207</td>\n",
       "      <td>1.35</td>\n",
       "      <td>2.5</td>\n",
       "      <td>125.0</td>\n",
       "    </tr>\n",
       "    <tr>\n",
       "      <th>5744</th>\n",
       "      <td>28/07/2022</td>\n",
       "      <td>99.480003</td>\n",
       "      <td>100.199997</td>\n",
       "      <td>99.110001</td>\n",
       "      <td>99.889999</td>\n",
       "      <td>99.889999</td>\n",
       "      <td>3301364</td>\n",
       "      <td>1.35</td>\n",
       "      <td>2.5</td>\n",
       "      <td>125.0</td>\n",
       "    </tr>\n",
       "    <tr>\n",
       "      <th>5745</th>\n",
       "      <td>29/07/2022</td>\n",
       "      <td>100.300003</td>\n",
       "      <td>101.364998</td>\n",
       "      <td>100.099998</td>\n",
       "      <td>100.769997</td>\n",
       "      <td>100.769997</td>\n",
       "      <td>3122636</td>\n",
       "      <td>1.35</td>\n",
       "      <td>2.5</td>\n",
       "      <td>125.0</td>\n",
       "    </tr>\n",
       "    <tr>\n",
       "      <th>5746</th>\n",
       "      <td>1/08/2022</td>\n",
       "      <td>100.680000</td>\n",
       "      <td>101.080002</td>\n",
       "      <td>99.089996</td>\n",
       "      <td>101.080002</td>\n",
       "      <td>101.080002</td>\n",
       "      <td>2374671</td>\n",
       "      <td>1.35</td>\n",
       "      <td>2.5</td>\n",
       "      <td>125.0</td>\n",
       "    </tr>\n",
       "    <tr>\n",
       "      <th>5747</th>\n",
       "      <td>2/08/2022</td>\n",
       "      <td>100.989998</td>\n",
       "      <td>102.269997</td>\n",
       "      <td>100.430000</td>\n",
       "      <td>101.970001</td>\n",
       "      <td>101.970001</td>\n",
       "      <td>1905527</td>\n",
       "      <td>1.35</td>\n",
       "      <td>2.5</td>\n",
       "      <td>125.0</td>\n",
       "    </tr>\n",
       "  </tbody>\n",
       "</table>\n",
       "</div>"
      ],
      "text/plain": [
       "            Date        Open        High         Low       Close   Adj Close  \\\n",
       "5743  27/07/2022   96.510002   99.370003   96.459999   98.900002   98.900002   \n",
       "5744  28/07/2022   99.480003  100.199997   99.110001   99.889999   99.889999   \n",
       "5745  29/07/2022  100.300003  101.364998  100.099998  100.769997  100.769997   \n",
       "5746   1/08/2022  100.680000  101.080002   99.089996  101.080002  101.080002   \n",
       "5747   2/08/2022  100.989998  102.269997  100.430000  101.970001  101.970001   \n",
       "\n",
       "       Volume   RBA  FED    CPI  \n",
       "5743  2221207  1.35  2.5  125.0  \n",
       "5744  3301364  1.35  2.5  125.0  \n",
       "5745  3122636  1.35  2.5  125.0  \n",
       "5746  2374671  1.35  2.5  125.0  \n",
       "5747  1905527  1.35  2.5  125.0  "
      ]
     },
     "execution_count": 2,
     "metadata": {},
     "output_type": "execute_result"
    }
   ],
   "source": [
    "df_stock1 = pd.read_csv(\"../static/data/cba.csv\")\n",
    "# Drop the null columns where all values are null\n",
    "df_stock2 = df_stock1.dropna(axis='columns', how='all')\n",
    "# Drop the null rows\n",
    "df = df_stock2.dropna()\n",
    "# Drop the last rows to test prediction to actual\n",
    "df_stock_less1= df.iloc[:-1,:]\n",
    "df.tail()   \n",
    "#df.info()"
   ]
  },
  {
   "cell_type": "code",
   "execution_count": 3,
   "metadata": {},
   "outputs": [],
   "source": [
    "from pymongo import MongoClient\n",
    "mongoClient = MongoClient()\n",
    "db = mongoClient.sharesDB\n",
    "\n",
    "# # Drop all previous records now in MongoDb\n",
    "# db.cba.drop()\n",
    "# # Insert all the records in the CSV into MongoDb\n",
    "# records=df.to_dict('records')\n",
    "# records\n",
    "# db.cba.insert_many(records)\t"
   ]
  },
  {
   "cell_type": "code",
   "execution_count": 4,
   "metadata": {},
   "outputs": [
    {
     "name": "stdout",
     "output_type": "stream",
     "text": [
      "DELETE: 29/08/2022 96.27999877929688\n"
     ]
    },
    {
     "data": {
      "text/plain": [
       "<pymongo.results.DeleteResult at 0x19f89ef7a40>"
      ]
     },
     "execution_count": 4,
     "metadata": {},
     "output_type": "execute_result"
    }
   ],
   "source": [
    "#Update latest data in mongoDb\n",
    "df_mongo = pd.DataFrame(list(db.cba.find()))\n",
    "last_val = df_mongo.iloc[-1:].values\n",
    "\n",
    "last_date = last_val[0][1]\n",
    "last_close = last_val[0][5]\n",
    "print(\"DELETE: \"+last_date,last_close)\n",
    "\n",
    "db.cba.delete_one(\n",
    "    {'Date': last_date}\n",
    ")\n"
   ]
  },
  {
   "cell_type": "code",
   "execution_count": 5,
   "metadata": {},
   "outputs": [
    {
     "name": "stdout",
     "output_type": "stream",
     "text": [
      "NEW LAST VALUE IN MONGODB: 26/08/2022 98.30999755859375\n",
      "Previous last date in MongoDb: 26-08-2022. Today's date: 01-09-2022\n"
     ]
    }
   ],
   "source": [
    "#Update latest data in mongoDb\n",
    "df_mongo = pd.DataFrame(list(db.cba.find()))\n",
    "last_val = df_mongo.iloc[-1:].values\n",
    "\n",
    "last_date = last_val[0][1]\n",
    "last_close = last_val[0][5]\n",
    "print(\"NEW LAST VALUE IN MONGODB: \"+last_date,last_close)\n",
    "\n",
    "from datetime import date,datetime\n",
    "todaydt = date.today()\n",
    "today=todaydt.strftime('%d-%m-%Y')\n",
    "from_date = datetime.strptime(last_date, '%d/%m/%Y')\n",
    "last_date=from_date.strftime('%d-%m-%Y')\n",
    "print(\"Previous last date in MongoDb: \"+last_date+\". Today's date: \"+today)"
   ]
  },
  {
   "cell_type": "code",
   "execution_count": 6,
   "metadata": {},
   "outputs": [
    {
     "data": {
      "text/html": [
       "<div>\n",
       "<style scoped>\n",
       "    .dataframe tbody tr th:only-of-type {\n",
       "        vertical-align: middle;\n",
       "    }\n",
       "\n",
       "    .dataframe tbody tr th {\n",
       "        vertical-align: top;\n",
       "    }\n",
       "\n",
       "    .dataframe thead th {\n",
       "        text-align: right;\n",
       "    }\n",
       "</style>\n",
       "<table border=\"1\" class=\"dataframe\">\n",
       "  <thead>\n",
       "    <tr style=\"text-align: right;\">\n",
       "      <th></th>\n",
       "      <th>High</th>\n",
       "      <th>Low</th>\n",
       "      <th>Open</th>\n",
       "      <th>Close</th>\n",
       "      <th>Volume</th>\n",
       "      <th>Adj Close</th>\n",
       "    </tr>\n",
       "    <tr>\n",
       "      <th>Date</th>\n",
       "      <th></th>\n",
       "      <th></th>\n",
       "      <th></th>\n",
       "      <th></th>\n",
       "      <th></th>\n",
       "      <th></th>\n",
       "    </tr>\n",
       "  </thead>\n",
       "  <tbody>\n",
       "    <tr>\n",
       "      <th>2022-08-29</th>\n",
       "      <td>96.739998</td>\n",
       "      <td>95.620003</td>\n",
       "      <td>96.529999</td>\n",
       "      <td>96.279999</td>\n",
       "      <td>2107747</td>\n",
       "      <td>96.279999</td>\n",
       "    </tr>\n",
       "    <tr>\n",
       "      <th>2022-08-30</th>\n",
       "      <td>97.309998</td>\n",
       "      <td>96.320000</td>\n",
       "      <td>96.410004</td>\n",
       "      <td>96.550003</td>\n",
       "      <td>1833997</td>\n",
       "      <td>96.550003</td>\n",
       "    </tr>\n",
       "    <tr>\n",
       "      <th>2022-08-31</th>\n",
       "      <td>97.470001</td>\n",
       "      <td>96.050003</td>\n",
       "      <td>96.559998</td>\n",
       "      <td>97.470001</td>\n",
       "      <td>2822535</td>\n",
       "      <td>97.470001</td>\n",
       "    </tr>\n",
       "  </tbody>\n",
       "</table>\n",
       "</div>"
      ],
      "text/plain": [
       "                 High        Low       Open      Close   Volume  Adj Close\n",
       "Date                                                                      \n",
       "2022-08-29  96.739998  95.620003  96.529999  96.279999  2107747  96.279999\n",
       "2022-08-30  97.309998  96.320000  96.410004  96.550003  1833997  96.550003\n",
       "2022-08-31  97.470001  96.050003  96.559998  97.470001  2822535  97.470001"
      ]
     },
     "execution_count": 6,
     "metadata": {},
     "output_type": "execute_result"
    }
   ],
   "source": [
    "#Get latest quotes from yahoo finance:\n",
    "import pandas_datareader.data as web\n",
    "symbol = 'CBA.AX'\n",
    "start = from_date # yyyy-mm-dd\n",
    "end = todaydt  # yyyy-mm-dd\n",
    "stock_quote = web.DataReader(symbol,data_source='yahoo',start=start, end=end) # dataframe\n",
    "#remove last date already in mongodb\n",
    "stock_quote=stock_quote.iloc[1:]\n",
    "\n",
    "stock_quote"
   ]
  },
  {
   "cell_type": "code",
   "execution_count": 7,
   "metadata": {},
   "outputs": [
    {
     "data": {
      "text/html": [
       "<div>\n",
       "<style scoped>\n",
       "    .dataframe tbody tr th:only-of-type {\n",
       "        vertical-align: middle;\n",
       "    }\n",
       "\n",
       "    .dataframe tbody tr th {\n",
       "        vertical-align: top;\n",
       "    }\n",
       "\n",
       "    .dataframe thead th {\n",
       "        text-align: right;\n",
       "    }\n",
       "</style>\n",
       "<table border=\"1\" class=\"dataframe\">\n",
       "  <thead>\n",
       "    <tr style=\"text-align: right;\">\n",
       "      <th></th>\n",
       "      <th>Date</th>\n",
       "      <th>High</th>\n",
       "      <th>Low</th>\n",
       "      <th>Open</th>\n",
       "      <th>Close</th>\n",
       "      <th>Volume</th>\n",
       "      <th>Adj Close</th>\n",
       "      <th>RBA</th>\n",
       "      <th>FED</th>\n",
       "      <th>CPI</th>\n",
       "    </tr>\n",
       "  </thead>\n",
       "  <tbody>\n",
       "    <tr>\n",
       "      <th>0</th>\n",
       "      <td>29/08/2022</td>\n",
       "      <td>96.739998</td>\n",
       "      <td>95.620003</td>\n",
       "      <td>96.529999</td>\n",
       "      <td>96.279999</td>\n",
       "      <td>2107747</td>\n",
       "      <td>96.279999</td>\n",
       "      <td>1.85</td>\n",
       "      <td>2.5</td>\n",
       "      <td>125</td>\n",
       "    </tr>\n",
       "    <tr>\n",
       "      <th>1</th>\n",
       "      <td>30/08/2022</td>\n",
       "      <td>97.309998</td>\n",
       "      <td>96.320000</td>\n",
       "      <td>96.410004</td>\n",
       "      <td>96.550003</td>\n",
       "      <td>1833997</td>\n",
       "      <td>96.550003</td>\n",
       "      <td>1.85</td>\n",
       "      <td>2.5</td>\n",
       "      <td>125</td>\n",
       "    </tr>\n",
       "    <tr>\n",
       "      <th>2</th>\n",
       "      <td>31/08/2022</td>\n",
       "      <td>97.470001</td>\n",
       "      <td>96.050003</td>\n",
       "      <td>96.559998</td>\n",
       "      <td>97.470001</td>\n",
       "      <td>2822535</td>\n",
       "      <td>97.470001</td>\n",
       "      <td>1.85</td>\n",
       "      <td>2.5</td>\n",
       "      <td>125</td>\n",
       "    </tr>\n",
       "  </tbody>\n",
       "</table>\n",
       "</div>"
      ],
      "text/plain": [
       "         Date       High        Low       Open      Close   Volume  Adj Close  \\\n",
       "0  29/08/2022  96.739998  95.620003  96.529999  96.279999  2107747  96.279999   \n",
       "1  30/08/2022  97.309998  96.320000  96.410004  96.550003  1833997  96.550003   \n",
       "2  31/08/2022  97.470001  96.050003  96.559998  97.470001  2822535  97.470001   \n",
       "\n",
       "    RBA  FED  CPI  \n",
       "0  1.85  2.5  125  \n",
       "1  1.85  2.5  125  \n",
       "2  1.85  2.5  125  "
      ]
     },
     "execution_count": 7,
     "metadata": {},
     "output_type": "execute_result"
    }
   ],
   "source": [
    "tot=len(stock_quote)\n",
    "rba=1.85\n",
    "fed=2.5\n",
    "cpi=125\n",
    "a,b,c=[],[],[]\n",
    "for i in range(tot):\n",
    "    a.append(rba)\n",
    "    b.append(fed)\n",
    "    c.append(cpi)\n",
    "\n",
    "#ADD NEW DATA IN DATAFRAME\n",
    "stock_quote[\"RBA\"],stock_quote[\"FED\"],stock_quote[\"CPI\"] = a,b,c\n",
    "stock_quote.reset_index(inplace=True)\n",
    "\n",
    "stock_quote['Date'] = pd.to_datetime(stock_quote['Date'])\n",
    "stock_quote['Date']=stock_quote['Date'].dt.strftime('%d/%m/%Y')\n",
    "stock_quote['Date']=stock_quote['Date'].astype(str)\n",
    "\n",
    "stock_quote"
   ]
  },
  {
   "cell_type": "code",
   "execution_count": 8,
   "metadata": {},
   "outputs": [
    {
     "data": {
      "text/plain": [
       "[{'Date': '29/08/2022',\n",
       "  'High': 96.73999786376953,\n",
       "  'Low': 95.62000274658203,\n",
       "  'Open': 96.52999877929688,\n",
       "  'Close': 96.27999877929688,\n",
       "  'Volume': 2107747,\n",
       "  'Adj Close': 96.27999877929688,\n",
       "  'RBA': 1.85,\n",
       "  'FED': 2.5,\n",
       "  'CPI': 125},\n",
       " {'Date': '30/08/2022',\n",
       "  'High': 97.30999755859375,\n",
       "  'Low': 96.31999969482422,\n",
       "  'Open': 96.41000366210938,\n",
       "  'Close': 96.55000305175781,\n",
       "  'Volume': 1833997,\n",
       "  'Adj Close': 96.55000305175781,\n",
       "  'RBA': 1.85,\n",
       "  'FED': 2.5,\n",
       "  'CPI': 125},\n",
       " {'Date': '31/08/2022',\n",
       "  'High': 97.47000122070312,\n",
       "  'Low': 96.05000305175781,\n",
       "  'Open': 96.55999755859375,\n",
       "  'Close': 97.47000122070312,\n",
       "  'Volume': 2822535,\n",
       "  'Adj Close': 97.47000122070312,\n",
       "  'RBA': 1.85,\n",
       "  'FED': 2.5,\n",
       "  'CPI': 125}]"
      ]
     },
     "execution_count": 8,
     "metadata": {},
     "output_type": "execute_result"
    }
   ],
   "source": [
    "records=stock_quote.to_dict('records')\n",
    "records"
   ]
  },
  {
   "cell_type": "code",
   "execution_count": 9,
   "metadata": {},
   "outputs": [
    {
     "name": "stdout",
     "output_type": "stream",
     "text": [
      "[[ObjectId('62ff3da9bdef3be3a47272ce') '18/08/2022' 99.97000122070312\n",
      "  101.08999633789062 99.68000030517578 100.98999786376953\n",
      "  100.98999786376953 2811590.0 1.85 2.5 125.0]\n",
      " [ObjectId('630332eaab52de7a273eaf9e') '19/08/2022' 101.05000305175781\n",
      "  101.0999984741211 99.55000305175781 99.94999694824219 99.94999694824219\n",
      "  3405681.0 1.85 2.5 125.0]\n",
      " [ObjectId('6304a3bee39fe6902a0db143') '22/08/2022' 99.30999755859375\n",
      "  99.80000305175781 98.80999755859375 98.95999908447266 98.95999908447266\n",
      "  1796830.0 1.85 2.5 125.0]\n",
      " [ObjectId('630729f84421cf05cf7c7ec9') '23/08/2022' 98.5\n",
      "  98.68499755859375 97.0199966430664 97.0199966430664 97.0199966430664\n",
      "  2354382.0 1.85 2.5 125.0]\n",
      " [ObjectId('630729f84421cf05cf7c7eca') '24/08/2022' 97.25\n",
      "  98.02999877929688 97.16000366210938 97.19999694824219 97.19999694824219\n",
      "  2155170.0 1.85 2.5 125.0]\n",
      " [ObjectId('630ae5b27f69fdbf1a91ce60') '25/08/2022' 97.52999877929688\n",
      "  98.05000305175781 96.6500015258789 97.81999969482422 97.81999969482422\n",
      "  1706595.0 1.85 2.5 125.0]\n",
      " [ObjectId('630c8b76d5ea166dc49a76ea') '26/08/2022' 98.19999694824219\n",
      "  98.69999694824219 97.6500015258789 98.30999755859375 98.30999755859375\n",
      "  1915332.0 1.85 2.5 125.0]\n",
      " [ObjectId('630ff94e5f450fe375e22e09') '29/08/2022' 96.52999877929688\n",
      "  96.73999786376953 95.62000274658203 96.27999877929688 96.27999877929688\n",
      "  2107747.0 1.85 2.5 125.0]\n",
      " [ObjectId('630ff94e5f450fe375e22e0a') '30/08/2022' 96.41000366210938\n",
      "  97.30999755859375 96.31999969482422 96.55000305175781 96.55000305175781\n",
      "  1833997.0 1.85 2.5 125.0]\n",
      " [ObjectId('630ff94e5f450fe375e22e0b') '31/08/2022' 96.55999755859375\n",
      "  97.47000122070312 96.05000305175781 97.47000122070312 97.47000122070312\n",
      "  2822535.0 1.85 2.5 125.0]]\n"
     ]
    }
   ],
   "source": [
    "#INSERT NEW DATA INTO MONGODB\n",
    "db.cba.insert_many(records)\n",
    "\n",
    "#Check if mongoDb now has latest data\n",
    "df_mongo = pd.DataFrame(list(db.cba.find()))\n",
    "\n",
    "last_val = df_mongo.iloc[-10:].values\n",
    "print(last_val)"
   ]
  },
  {
   "cell_type": "code",
   "execution_count": 10,
   "metadata": {},
   "outputs": [
    {
     "name": "stdout",
     "output_type": "stream",
     "text": [
      "31/08/2022 97.47000122070312\n"
     ]
    }
   ],
   "source": [
    "#Save latest to variables\n",
    "last_val = df_mongo.iloc[-1:].values\n",
    "last_date = last_val[0][1]\n",
    "last_close = last_val[0][5]\n",
    "print(last_date,last_close)"
   ]
  },
  {
   "cell_type": "markdown",
   "metadata": {},
   "source": [
    "# # Pre-processing : Scale the data using the MinMaxScaler and split train data"
   ]
  },
  {
   "cell_type": "code",
   "execution_count": 11,
   "metadata": {},
   "outputs": [
    {
     "data": {
      "text/plain": [
       "(5769, 1)"
      ]
     },
     "execution_count": 11,
     "metadata": {},
     "output_type": "execute_result"
    }
   ],
   "source": [
    "df_mongo = pd.DataFrame(list(db.cba.find()))\n",
    "# Drop the null columns where all values are null\n",
    "df_mongo = df_mongo.dropna(axis='columns', how='all')\n",
    "# Drop the null rows\n",
    "df_mongo = df_mongo.dropna()\n",
    "len_df_mongo=len(df_mongo)\n",
    "data = df_mongo.filter([\"Close\"])\n",
    "dataset=data.values\n",
    "dataset.shape"
   ]
  },
  {
   "cell_type": "code",
   "execution_count": 12,
   "metadata": {},
   "outputs": [],
   "source": [
    "# data = df.filter(['Close'])\n",
    "# dataset = data.values\n",
    "# dataset.shape"
   ]
  },
  {
   "cell_type": "code",
   "execution_count": 13,
   "metadata": {},
   "outputs": [
    {
     "data": {
      "text/plain": [
       "(4616, 1)"
      ]
     },
     "execution_count": 13,
     "metadata": {},
     "output_type": "execute_result"
    }
   ],
   "source": [
    "# Scale your data\n",
    "from sklearn.preprocessing import MinMaxScaler\n",
    "\n",
    "scaler = MinMaxScaler(feature_range=(0,1))\n",
    "dataset_scaled = scaler.fit_transform(dataset)\n",
    "\n",
    "# Split into train or test\n",
    "import math\n",
    "train_data_len = math.ceil(len(dataset)*.8)\n",
    "train_data = dataset_scaled[0:train_data_len,:]\n",
    "train_data.shape\n"
   ]
  },
  {
   "cell_type": "code",
   "execution_count": 14,
   "metadata": {},
   "outputs": [
    {
     "name": "stdout",
     "output_type": "stream",
     "text": [
      "[array([0.04184307, 0.03844119, 0.03186422, 0.02619443, 0.02902934,\n",
      "       0.03583307, 0.03112717, 0.0329982 , 0.03073027, 0.03450637,\n",
      "       0.0379876 , 0.03712579, 0.03129727, 0.03469913, 0.03390536,\n",
      "       0.03469913, 0.0329982 , 0.0329982 , 0.03776081, 0.04218326,\n",
      "       0.04036892, 0.03544755, 0.03531146, 0.03016329, 0.03424555,\n",
      "       0.03549291, 0.03408679, 0.03696705, 0.04090187, 0.0449728 ,\n",
      "       0.04610676, 0.05227547, 0.04921377, 0.04036892, 0.04110597,\n",
      "       0.03708043, 0.0399607 , 0.04127609, 0.03932567, 0.03889476,\n",
      "       0.03056017, 0.02780467, 0.03696705, 0.03526612, 0.03062821,\n",
      "       0.02789536, 0.0244935 , 0.0244935 , 0.0244935 , 0.00521622,\n",
      "       0.00657697, 0.00635016, 0.01099939, 0.0086521 , 0.00521622,\n",
      "       0.00510283, 0.00147414, 0.00136076, 0.00011341, 0.00100922])]\n",
      "[0.002086477591719982]\n"
     ]
    }
   ],
   "source": [
    "X_train = []\n",
    "y_train = []\n",
    "\n",
    "for i in range (60, len(train_data)):\n",
    "    X_train.append(train_data[i-60:i,0]) # contains 60 values\n",
    "    y_train.append(train_data[i,0])   # contains 61st value\n",
    "    if i<= 60:\n",
    "        print(X_train)\n",
    "        print(y_train) \n"
   ]
  },
  {
   "cell_type": "markdown",
   "metadata": {},
   "source": [
    "# Prepare train data for LSTM model"
   ]
  },
  {
   "cell_type": "code",
   "execution_count": 15,
   "metadata": {},
   "outputs": [
    {
     "data": {
      "text/plain": [
       "(4556, 60)"
      ]
     },
     "execution_count": 15,
     "metadata": {},
     "output_type": "execute_result"
    }
   ],
   "source": [
    "# Convert list to numpy array for LSTM model:\n",
    "X_train, y_train = np.array(X_train), np.array(y_train)\n",
    "X_train.shape"
   ]
  },
  {
   "cell_type": "code",
   "execution_count": 16,
   "metadata": {},
   "outputs": [
    {
     "data": {
      "text/plain": [
       "(4556, 60, 1)"
      ]
     },
     "execution_count": 16,
     "metadata": {},
     "output_type": "execute_result"
    }
   ],
   "source": [
    "# LSTM model expects 3D, reshape:\n",
    "X_train = np.reshape(X_train, (X_train.shape[0], X_train.shape[1], 1))\n",
    "X_train.shape"
   ]
  },
  {
   "cell_type": "markdown",
   "metadata": {},
   "source": [
    "# Build the LSTM model"
   ]
  },
  {
   "cell_type": "code",
   "execution_count": 17,
   "metadata": {},
   "outputs": [],
   "source": [
    "from tensorflow.keras.models import Sequential\n",
    "from tensorflow.keras.layers import Dense, LSTM\n",
    "model = Sequential()\n",
    "model.add(LSTM(50, return_sequences=True, input_shape=(X_train.shape[1], 1)))\n",
    "model.add(LSTM(50, return_sequences=False))\n",
    "model.add(Dense(25))\n",
    "model.add(Dense(1))"
   ]
  },
  {
   "cell_type": "code",
   "execution_count": 18,
   "metadata": {},
   "outputs": [],
   "source": [
    "model.compile(optimizer='adam', loss='mean_squared_error')"
   ]
  },
  {
   "cell_type": "code",
   "execution_count": 19,
   "metadata": {},
   "outputs": [
    {
     "name": "stdout",
     "output_type": "stream",
     "text": [
      "4556/4556 [==============================] - 313s 67ms/step - loss: 7.9382e-04\n"
     ]
    },
    {
     "data": {
      "text/plain": [
       "<keras.callbacks.History at 0x19f9ac92dc0>"
      ]
     },
     "execution_count": 19,
     "metadata": {},
     "output_type": "execute_result"
    }
   ],
   "source": [
    "model.fit(X_train, y_train, batch_size=1, epochs=1)"
   ]
  },
  {
   "cell_type": "code",
   "execution_count": 20,
   "metadata": {},
   "outputs": [],
   "source": [
    "#Create test data\n",
    "test_data = dataset_scaled[train_data_len-60:,:]\n",
    "X_test = []\n",
    "y_test = dataset[train_data_len:,:]\n",
    "for i in range(60, len(test_data)):\n",
    " X_test.append(test_data[i-60:i,0])"
   ]
  },
  {
   "cell_type": "code",
   "execution_count": 21,
   "metadata": {},
   "outputs": [],
   "source": [
    "#Covert test data to a numpy array and reshape\n",
    "X_test = np.array(X_test)\n",
    "X_test = np.reshape(X_test, (X_test.shape[0],X_test.shape[1],1))"
   ]
  },
  {
   "cell_type": "code",
   "execution_count": 22,
   "metadata": {},
   "outputs": [],
   "source": [
    "#Get predicted prices\n",
    "predictions_lstm = model.predict(X_test)\n",
    "predictions = scaler.inverse_transform(predictions_lstm)"
   ]
  },
  {
   "cell_type": "code",
   "execution_count": 23,
   "metadata": {},
   "outputs": [
    {
     "data": {
      "text/plain": [
       "0.1507402447411304"
      ]
     },
     "execution_count": 23,
     "metadata": {},
     "output_type": "execute_result"
    }
   ],
   "source": [
    "#Get the root mean square error (RMSE) 0 being most favourable\n",
    "rmse = np.sqrt(np.mean(predictions-y_test)**2)\n",
    "rmse"
   ]
  },
  {
   "cell_type": "code",
   "execution_count": 24,
   "metadata": {},
   "outputs": [],
   "source": [
    "# date_time = df[\"Date\"]\n",
    "# date_time = pd.to_datetime(date_time)\n",
    "# data = data.set_index(date_time)"
   ]
  },
  {
   "cell_type": "markdown",
   "metadata": {},
   "source": []
  },
  {
   "cell_type": "code",
   "execution_count": 25,
   "metadata": {},
   "outputs": [
    {
     "name": "stderr",
     "output_type": "stream",
     "text": [
      "C:\\Users\\antoi\\AppData\\Local\\Temp/ipykernel_14784/2404096143.py:5: SettingWithCopyWarning: \n",
      "A value is trying to be set on a copy of a slice from a DataFrame.\n",
      "Try using .loc[row_indexer,col_indexer] = value instead\n",
      "\n",
      "See the caveats in the documentation: https://pandas.pydata.org/pandas-docs/stable/user_guide/indexing.html#returning-a-view-versus-a-copy\n",
      "  valid['Predictions'] = predictions # another column for validating test\n"
     ]
    },
    {
     "data": {
      "image/png": "[encoded data removed]",
      "text/plain": [
       "<Figure size 1152x576 with 1 Axes>"
      ]
     },
     "metadata": {},
     "output_type": "display_data"
    }
   ],
   "source": [
    "#Plot the data to validate the test data\n",
    "plt.style.use('fivethirtyeight')\n",
    "train = data.iloc[:train_data_len] # actual train data from 0 rows until train data end\n",
    "valid = data.iloc[train_data_len:] # actual test data from train data end until end of all sampled data\n",
    "valid['Predictions'] = predictions # another column for validating test\n",
    "\n",
    "plt.figure(figsize=(16,8))\n",
    "plt.title('CBA LSTM Model')\n",
    "plt.xlabel('Trading Date', fontsize=18)\n",
    "plt.ylabel('Close Price AUD ($)',fontsize=18)\n",
    "plt.plot(train['Close'])\n",
    "plt.plot(valid[['Close','Predictions']])\n",
    "plt.legend(['Training data','Validated','Tested'],loc='lower right')\n",
    "x = np.arange(2000,2024,4)\n",
    "plt.xticks([0,1000,2000,3000,4000,5000],x)\n",
    "plt.savefig('../static/data/images/cba_graph.png')\n",
    "plt.show()"
   ]
  },
  {
   "cell_type": "markdown",
   "metadata": {},
   "source": [
    "# Test data Predictions on the Model"
   ]
  },
  {
   "cell_type": "code",
   "execution_count": 26,
   "metadata": {},
   "outputs": [
    {
     "name": "stderr",
     "output_type": "stream",
     "text": [
      "C:\\Users\\antoi\\AppData\\Local\\Temp/ipykernel_14784/3403988079.py:1: SettingWithCopyWarning: \n",
      "A value is trying to be set on a copy of a slice from a DataFrame.\n",
      "Try using .loc[row_indexer,col_indexer] = value instead\n",
      "\n",
      "See the caveats in the documentation: https://pandas.pydata.org/pandas-docs/stable/user_guide/indexing.html#returning-a-view-versus-a-copy\n",
      "  valid['Difference']= valid['Close']-valid['Predictions']\n"
     ]
    },
    {
     "data": {
      "text/plain": [
       "<bound method NDFrame.head of           Close  Predictions  Difference\n",
       "4616  76.300003    77.357994   -1.057991\n",
       "4617  73.980003    77.100601   -3.120598\n",
       "4618  73.860001    76.453644   -2.593643\n",
       "4619  74.019997    75.825607   -1.805610\n",
       "4620  74.400002    75.374008   -0.974006\n",
       "...         ...          ...         ...\n",
       "5764  97.820000    98.256874   -0.436874\n",
       "5765  98.309998    97.933311    0.376686\n",
       "5766  96.279999    97.882011   -1.602013\n",
       "5767  96.550003    97.454369   -0.904366\n",
       "5768  97.470001    97.111214    0.358788\n",
       "\n",
       "[1153 rows x 3 columns]>"
      ]
     },
     "execution_count": 26,
     "metadata": {},
     "output_type": "execute_result"
    }
   ],
   "source": [
    "valid['Difference']= valid['Close']-valid['Predictions']\n",
    "valid.head"
   ]
  },
  {
   "cell_type": "code",
   "execution_count": 27,
   "metadata": {},
   "outputs": [
    {
     "data": {
      "text/plain": [
       "(60, 1)"
      ]
     },
     "execution_count": 27,
     "metadata": {},
     "output_type": "execute_result"
    }
   ],
   "source": [
    "# Use last 60 days price on model to predict next days price\n",
    "import pandas as pd\n",
    "\n",
    "df_mongo = pd.DataFrame(list(db.cba.find()))\n",
    "sixty_val = df_mongo.iloc[-60:,4].values\n",
    "last_sixty = sixty_val.reshape(-1,1)\n",
    "\n",
    "last_sixty.shape"
   ]
  },
  {
   "cell_type": "code",
   "execution_count": 28,
   "metadata": {},
   "outputs": [
    {
     "data": {
      "text/plain": [
       "(1, 60, 1)"
      ]
     },
     "execution_count": 28,
     "metadata": {},
     "output_type": "execute_result"
    }
   ],
   "source": [
    "last_60_days_scaled = scaler.transform(last_sixty)\n",
    "X_tell = []\n",
    "X_tell.append(last_60_days_scaled)\n",
    "X_tell =np.array(X_tell)\n",
    "X_tell =np.reshape(X_tell, (X_tell.shape[0], X_tell.shape[1],1))\n",
    "X_tell.shape"
   ]
  },
  {
   "cell_type": "code",
   "execution_count": 29,
   "metadata": {},
   "outputs": [
    {
     "name": "stdout",
     "output_type": "stream",
     "text": [
      "31/08/2022 Last close $97.47000122070312 Predicted next day share price $96.38\n"
     ]
    }
   ],
   "source": [
    "pred_price = model.predict(X_tell)\n",
    "pred_price = scaler.inverse_transform(pred_price)\n",
    "pred_price = round(float(pred_price),2)\n",
    "print(f'{last_date} Last close ${last_close} Predicted next day share price ${pred_price}')"
   ]
  },
  {
   "cell_type": "markdown",
   "metadata": {},
   "source": [
    "# Save the Model"
   ]
  },
  {
   "cell_type": "code",
   "execution_count": 30,
   "metadata": {},
   "outputs": [],
   "source": [
    "# Save the entire model to a HDF5 file.\n",
    "# The '.h5' extension indicates that the model should be saved to HDF5.\n",
    "filepath = '../static/cba_model.sav'\n",
    "model.save(filepath, save_format=\"h5\")"
   ]
  },
  {
   "cell_type": "markdown",
   "metadata": {},
   "source": [
    "#Save last 60 days to a list cba_sixty and load df"
   ]
  },
  {
   "cell_type": "code",
   "execution_count": 31,
   "metadata": {},
   "outputs": [],
   "source": [
    "#PREDICT USING LOADED MODEL\n",
    "from keras.models import load_model\n",
    "model_in = load_model('../static/cba_model.sav')"
   ]
  },
  {
   "cell_type": "code",
   "execution_count": 32,
   "metadata": {},
   "outputs": [
    {
     "data": {
      "text/plain": [
       "array([[ 97.470001  ],\n",
       "       [ 92.699997  ],\n",
       "       [ 93.699997  ],\n",
       "       [ 88.440002  ],\n",
       "       [ 89.940002  ],\n",
       "       [ 90.        ],\n",
       "       [ 86.980003  ],\n",
       "       [ 87.419998  ],\n",
       "       [ 87.980003  ],\n",
       "       [ 89.120003  ],\n",
       "       [ 89.480003  ],\n",
       "       [ 88.790001  ],\n",
       "       [ 91.459999  ],\n",
       "       [ 93.099998  ],\n",
       "       [ 92.230003  ],\n",
       "       [ 90.379997  ],\n",
       "       [ 90.209999  ],\n",
       "       [ 91.239998  ],\n",
       "       [ 90.580002  ],\n",
       "       [ 90.309998  ],\n",
       "       [ 91.580002  ],\n",
       "       [ 92.379997  ],\n",
       "       [ 92.160004  ],\n",
       "       [ 92.449997  ],\n",
       "       [ 93.089996  ],\n",
       "       [ 93.059998  ],\n",
       "       [ 91.349998  ],\n",
       "       [ 92.989998  ],\n",
       "       [ 93.730003  ],\n",
       "       [ 95.5       ],\n",
       "       [ 95.440002  ],\n",
       "       [ 96.900002  ],\n",
       "       [ 96.849998  ],\n",
       "       [ 96.43      ],\n",
       "       [ 96.459999  ],\n",
       "       [ 99.110001  ],\n",
       "       [100.099998  ],\n",
       "       [ 99.089996  ],\n",
       "       [100.43000031],\n",
       "       [100.23999786],\n",
       "       [100.87000275],\n",
       "       [101.12999725],\n",
       "       [101.02999878],\n",
       "       [100.73999786],\n",
       "       [100.05999756],\n",
       "       [100.18000031],\n",
       "       [ 99.45999908],\n",
       "       [100.16000366],\n",
       "       [100.55000305],\n",
       "       [ 99.62000275],\n",
       "       [ 99.68000031],\n",
       "       [ 99.55000305],\n",
       "       [ 98.80999756],\n",
       "       [ 97.01999664],\n",
       "       [ 97.16000366],\n",
       "       [ 96.65000153],\n",
       "       [ 97.65000153],\n",
       "       [ 95.62000275],\n",
       "       [ 96.31999969],\n",
       "       [ 96.05000305]])"
      ]
     },
     "execution_count": 32,
     "metadata": {},
     "output_type": "execute_result"
    }
   ],
   "source": [
    "# query the cba collection and load into dataframe\n",
    "\n",
    "df_mongo = pd.DataFrame(list(db.cba.find()))\n",
    "sixty_val = df_mongo.iloc[-60:,4].values\n",
    "last_sixty = sixty_val.reshape(-1,1)\n",
    "\n",
    "last_sixty"
   ]
  },
  {
   "cell_type": "code",
   "execution_count": 33,
   "metadata": {},
   "outputs": [
    {
     "name": "stdout",
     "output_type": "stream",
     "text": [
      "0\n",
      "Day finished! Price: \n",
      "1\n",
      "Day finished! Price: \n",
      "2\n",
      "Day finished! Price: \n",
      "3\n",
      "Day finished! Price: \n",
      "4\n",
      "Day finished! Price: \n",
      "5\n",
      "Day finished! Price: \n",
      "6\n",
      "Day finished! Price: \n",
      "7\n",
      "Day finished! Price: \n",
      "8\n",
      "Day finished! Price: \n",
      "9\n",
      "Day finished! Price: \n",
      "10\n",
      "Day finished! Price: \n",
      "11\n",
      "Day finished! Price: \n",
      "12\n",
      "Day finished! Price: \n",
      "13\n",
      "Day finished! Price: \n",
      "14\n",
      "Day finished! Price: \n",
      "15\n",
      "Day finished! Price: \n",
      "16\n",
      "Day finished! Price: \n",
      "17\n",
      "Day finished! Price: \n",
      "18\n",
      "Day finished! Price: \n",
      "19\n",
      "Day finished! Price: \n",
      "20\n",
      "Day finished! Price: \n",
      "21\n",
      "Day finished! Price: \n",
      "22\n",
      "Day finished! Price: \n",
      "23\n",
      "Day finished! Price: \n",
      "24\n",
      "Day finished! Price: \n",
      "25\n",
      "Day finished! Price: \n",
      "26\n",
      "Day finished! Price: \n",
      "27\n",
      "Day finished! Price: \n",
      "28\n",
      "Day finished! Price: \n",
      "29\n",
      "Day finished! Price: \n",
      "30\n",
      "Day finished! Price: \n",
      "31\n",
      "Day finished! Price: \n",
      "32\n",
      "Day finished! Price: \n",
      "33\n",
      "Day finished! Price: \n",
      "34\n",
      "Day finished! Price: \n",
      "35\n",
      "Day finished! Price: \n",
      "36\n",
      "Day finished! Price: \n",
      "37\n",
      "Day finished! Price: \n",
      "38\n",
      "Day finished! Price: \n",
      "39\n",
      "Day finished! Price: \n",
      "40\n",
      "Day finished! Price: \n",
      "41\n",
      "Day finished! Price: \n",
      "42\n",
      "Day finished! Price: \n",
      "43\n",
      "Day finished! Price: \n",
      "44\n",
      "Day finished! Price: \n",
      "45\n",
      "Day finished! Price: \n",
      "46\n",
      "Day finished! Price: \n",
      "47\n",
      "Day finished! Price: \n",
      "48\n",
      "Day finished! Price: \n",
      "49\n",
      "Day finished! Price: \n",
      "50\n",
      "Day finished! Price: \n",
      "51\n",
      "Day finished! Price: \n",
      "52\n",
      "Day finished! Price: \n",
      "53\n",
      "Day finished! Price: \n",
      "54\n",
      "Day finished! Price: \n",
      "55\n",
      "Day finished! Price: \n",
      "56\n",
      "Day finished! Price: \n",
      "57\n",
      "Day finished! Price: \n",
      "58\n",
      "Day finished! Price: \n",
      "59\n",
      "Day finished! Price: \n",
      "60\n",
      "Day finished! Price: \n",
      "61\n",
      "Day finished! Price: \n",
      "62\n",
      "Day finished! Price: \n",
      "63\n",
      "Day finished! Price: \n",
      "64\n",
      "Day finished! Price: \n",
      "65\n",
      "Day finished! Price: \n",
      "66\n",
      "Day finished! Price: \n",
      "67\n",
      "Day finished! Price: \n",
      "68\n",
      "Day finished! Price: \n",
      "69\n",
      "Day finished! Price: \n",
      "70\n",
      "Day finished! Price: \n",
      "71\n",
      "Day finished! Price: \n",
      "72\n",
      "Day finished! Price: \n",
      "73\n",
      "Day finished! Price: \n",
      "74\n",
      "Day finished! Price: \n",
      "75\n",
      "Day finished! Price: \n",
      "76\n",
      "Day finished! Price: \n",
      "77\n",
      "Day finished! Price: \n",
      "78\n",
      "Day finished! Price: \n",
      "79\n",
      "Day finished! Price: \n",
      "80\n",
      "Day finished! Price: \n",
      "81\n",
      "Day finished! Price: \n",
      "82\n",
      "Day finished! Price: \n",
      "83\n",
      "Day finished! Price: \n",
      "84\n",
      "Day finished! Price: \n",
      "85\n",
      "Day finished! Price: \n",
      "86\n",
      "Day finished! Price: \n",
      "87\n",
      "Day finished! Price: \n",
      "88\n",
      "Day finished! Price: \n",
      "89\n",
      "Day finished! Price: \n",
      "90\n",
      "Day finished! Price: \n",
      "91\n",
      "Day finished! Price: \n",
      "92\n",
      "Day finished! Price: \n",
      "93\n",
      "Day finished! Price: \n",
      "94\n",
      "Day finished! Price: \n",
      "95\n",
      "Day finished! Price: \n",
      "96\n",
      "Day finished! Price: \n",
      "97\n",
      "Day finished! Price: \n",
      "98\n",
      "Day finished! Price: \n",
      "99\n",
      "Day finished! Price: \n",
      "100\n",
      "Day finished! Price: \n",
      "101\n",
      "Day finished! Price: \n",
      "102\n",
      "Day finished! Price: \n",
      "103\n",
      "Day finished! Price: \n",
      "104\n",
      "Day finished! Price: \n",
      "105\n",
      "Day finished! Price: \n",
      "106\n",
      "Day finished! Price: \n",
      "107\n",
      "Day finished! Price: \n",
      "108\n",
      "Day finished! Price: \n",
      "109\n",
      "Day finished! Price: \n",
      "110\n",
      "Day finished! Price: \n",
      "111\n",
      "Day finished! Price: \n",
      "112\n",
      "Day finished! Price: \n",
      "113\n",
      "Day finished! Price: \n",
      "114\n",
      "Day finished! Price: \n",
      "115\n",
      "Day finished! Price: \n",
      "116\n",
      "Day finished! Price: \n",
      "117\n",
      "Day finished! Price: \n",
      "118\n",
      "Day finished! Price: \n",
      "119\n",
      "Day finished! Price: \n",
      "120\n",
      "Day finished! Price: \n",
      "121\n",
      "Day finished! Price: \n",
      "122\n",
      "Day finished! Price: \n",
      "123\n",
      "Day finished! Price: \n",
      "124\n",
      "Day finished! Price: \n",
      "125\n",
      "Day finished! Price: \n",
      "126\n",
      "Day finished! Price: \n",
      "127\n",
      "Day finished! Price: \n",
      "128\n",
      "Day finished! Price: \n",
      "129\n",
      "Day finished! Price: \n",
      "130\n",
      "Day finished! Price: \n",
      "131\n",
      "Day finished! Price: \n",
      "132\n",
      "Day finished! Price: \n",
      "133\n",
      "Day finished! Price: \n",
      "134\n",
      "Day finished! Price: \n",
      "135\n",
      "Day finished! Price: \n",
      "136\n",
      "Day finished! Price: \n",
      "137\n",
      "Day finished! Price: \n",
      "138\n",
      "Day finished! Price: \n",
      "139\n",
      "Day finished! Price: \n",
      "140\n",
      "Day finished! Price: \n",
      "141\n",
      "Day finished! Price: \n",
      "142\n",
      "Day finished! Price: \n",
      "143\n",
      "Day finished! Price: \n",
      "144\n",
      "Day finished! Price: \n",
      "145\n",
      "Day finished! Price: \n",
      "146\n",
      "Day finished! Price: \n",
      "147\n",
      "Day finished! Price: \n",
      "148\n",
      "Day finished! Price: \n",
      "149\n",
      "Day finished! Price: \n",
      "150\n",
      "Day finished! Price: \n",
      "151\n",
      "Day finished! Price: \n",
      "152\n",
      "Day finished! Price: \n",
      "153\n",
      "Day finished! Price: \n",
      "154\n",
      "Day finished! Price: \n",
      "155\n",
      "Day finished! Price: \n",
      "156\n",
      "Day finished! Price: \n",
      "157\n",
      "Day finished! Price: \n",
      "158\n",
      "Day finished! Price: \n",
      "159\n",
      "Day finished! Price: \n",
      "160\n",
      "Day finished! Price: \n",
      "161\n",
      "Day finished! Price: \n",
      "162\n",
      "Day finished! Price: \n",
      "163\n",
      "Day finished! Price: \n",
      "164\n",
      "Day finished! Price: \n",
      "165\n",
      "Day finished! Price: \n",
      "166\n",
      "Day finished! Price: \n",
      "167\n",
      "Day finished! Price: \n",
      "168\n",
      "Day finished! Price: \n",
      "169\n",
      "Day finished! Price: \n",
      "170\n",
      "Day finished! Price: \n",
      "171\n",
      "Day finished! Price: \n",
      "172\n",
      "Day finished! Price: \n",
      "173\n",
      "Day finished! Price: \n",
      "174\n",
      "Day finished! Price: \n",
      "175\n",
      "Day finished! Price: \n",
      "176\n",
      "Day finished! Price: \n",
      "177\n",
      "Day finished! Price: \n",
      "178\n",
      "Day finished! Price: \n",
      "179\n",
      "Day finished! Price: \n",
      "Could not predict further!\n",
      "180\n"
     ]
    },
    {
     "data": {
      "text/plain": [
       "[96.63,\n",
       " 96.59,\n",
       " 96.61,\n",
       " 96.65,\n",
       " 96.68,\n",
       " 96.72,\n",
       " 96.75,\n",
       " 96.78,\n",
       " 96.81,\n",
       " 96.84,\n",
       " 96.86,\n",
       " 96.88,\n",
       " 96.9,\n",
       " 96.92,\n",
       " 96.94,\n",
       " 96.96,\n",
       " 96.98,\n",
       " 97.0,\n",
       " 97.01,\n",
       " 97.03,\n",
       " 97.05,\n",
       " 97.06,\n",
       " 97.08,\n",
       " 97.09,\n",
       " 97.11,\n",
       " 97.13,\n",
       " 97.14,\n",
       " 97.15,\n",
       " 97.16,\n",
       " 97.16,\n",
       " 97.16,\n",
       " 97.17,\n",
       " 97.18,\n",
       " 97.18,\n",
       " 97.19,\n",
       " 97.2,\n",
       " 97.2,\n",
       " 97.21,\n",
       " 97.22,\n",
       " 97.22,\n",
       " 97.23,\n",
       " 97.24,\n",
       " 97.24,\n",
       " 97.25,\n",
       " 97.26,\n",
       " 97.26,\n",
       " 97.27,\n",
       " 97.28,\n",
       " 97.29,\n",
       " 97.29,\n",
       " 97.3,\n",
       " 97.3,\n",
       " 97.31,\n",
       " 97.29,\n",
       " 97.29,\n",
       " 97.29,\n",
       " 97.29,\n",
       " 97.27,\n",
       " 97.27,\n",
       " 97.27,\n",
       " 97.27,\n",
       " 97.27,\n",
       " 97.27,\n",
       " 97.27,\n",
       " 97.26,\n",
       " 97.26,\n",
       " 97.26,\n",
       " 97.26,\n",
       " 97.26,\n",
       " 97.26,\n",
       " 97.26,\n",
       " 97.26,\n",
       " 97.26,\n",
       " 97.26,\n",
       " 97.26,\n",
       " 97.26,\n",
       " 97.26,\n",
       " 97.26,\n",
       " 97.26,\n",
       " 97.26,\n",
       " 97.26,\n",
       " 97.26,\n",
       " 97.26,\n",
       " 97.26,\n",
       " 97.26,\n",
       " 97.26,\n",
       " 97.26,\n",
       " 97.26,\n",
       " 97.26,\n",
       " 97.26,\n",
       " 97.26,\n",
       " 97.26,\n",
       " 97.26,\n",
       " 97.26,\n",
       " 97.26,\n",
       " 97.26,\n",
       " 97.26,\n",
       " 97.26,\n",
       " 97.26,\n",
       " 97.26,\n",
       " 97.26,\n",
       " 97.26,\n",
       " 97.26,\n",
       " 97.26,\n",
       " 97.26,\n",
       " 97.26,\n",
       " 97.26,\n",
       " 97.26,\n",
       " 97.26,\n",
       " 97.26,\n",
       " 97.26,\n",
       " 97.26,\n",
       " 97.26,\n",
       " 97.26,\n",
       " 97.26,\n",
       " 97.26,\n",
       " 97.26,\n",
       " 97.26,\n",
       " 97.26,\n",
       " 97.26,\n",
       " 97.26,\n",
       " 97.26,\n",
       " 97.26,\n",
       " 97.26,\n",
       " 97.26,\n",
       " 97.26,\n",
       " 97.26,\n",
       " 97.26,\n",
       " 97.26,\n",
       " 97.26,\n",
       " 97.26,\n",
       " 97.26,\n",
       " 97.26,\n",
       " 97.26,\n",
       " 97.26,\n",
       " 97.26,\n",
       " 97.26,\n",
       " 97.26,\n",
       " 97.26,\n",
       " 97.26,\n",
       " 97.26,\n",
       " 97.26,\n",
       " 97.26,\n",
       " 97.26,\n",
       " 97.26,\n",
       " 97.26,\n",
       " 97.26,\n",
       " 97.26,\n",
       " 97.26,\n",
       " 97.26,\n",
       " 97.26,\n",
       " 97.26,\n",
       " 97.26,\n",
       " 97.26,\n",
       " 97.26,\n",
       " 97.26,\n",
       " 97.26,\n",
       " 97.26,\n",
       " 97.26,\n",
       " 97.26,\n",
       " 97.26,\n",
       " 97.26,\n",
       " 97.26,\n",
       " 97.26,\n",
       " 97.26,\n",
       " 97.26,\n",
       " 97.26,\n",
       " 97.26,\n",
       " 97.26,\n",
       " 97.26,\n",
       " 97.26,\n",
       " 97.26,\n",
       " 97.26,\n",
       " 97.26,\n",
       " 97.26,\n",
       " 97.26,\n",
       " 97.26,\n",
       " 97.26,\n",
       " 97.26,\n",
       " 97.26]"
      ]
     },
     "execution_count": 33,
     "metadata": {},
     "output_type": "execute_result"
    }
   ],
   "source": [
    "from keras.models import load_model\n",
    "model_in = load_model('../static/cba_model.sav')\n",
    "from sklearn.preprocessing import MinMaxScaler\n",
    "scaler = MinMaxScaler(feature_range=(0,1))\n",
    "\n",
    "price_list=[]\n",
    "\n",
    "#Function to predict future days predicted price, in loop\n",
    "input = 180 #days\n",
    "if input == \"\":\n",
    "    input = 180\n",
    "else:\n",
    "   input = int(input)\n",
    "\n",
    "def predict_cba(last_sixty,model_in,input):\n",
    "    for i in range(0, input):\n",
    "\n",
    "        #Takes df and converts to model's predict shape\n",
    "        last_sixty_scaled = scaler.fit_transform(last_sixty)\n",
    "        new_X_tell = []\n",
    "        new_X_tell.append(last_sixty_scaled)\n",
    "        new_X_tell =np.array(new_X_tell)\n",
    "        new_X_tell =np.reshape(new_X_tell, (new_X_tell.shape[0], new_X_tell.shape[1],1))\n",
    "        \n",
    "        model_in_pd_scale = model_in.predict(new_X_tell)\n",
    "        model_in_price = scaler.inverse_transform(model_in_pd_scale) # New price predicted\n",
    "\n",
    "        last_sixty_less_one = np.delete(last_sixty, 0, 0)\n",
    "        last_sixty = np.append(last_sixty_less_one, model_in_price,axis = 0) # Update last 60\n",
    "        print(i)\n",
    "        print(\"Day finished! Price: \")\n",
    "        price_float = float(model_in_price)\n",
    "        price = round(price_float, 2)\n",
    "        price_list.append(price)\n",
    "    else:\n",
    "        print(\"Could not predict further!\")\n",
    "        print(input)\n",
    "    # print(price_list)\n",
    "    return price_list\n",
    "\n",
    "price_pred=predict_cba(last_sixty,model_in,input)\n",
    "price_pred"
   ]
  },
  {
   "cell_type": "code",
   "execution_count": 34,
   "metadata": {},
   "outputs": [
    {
     "name": "stdout",
     "output_type": "stream",
     "text": [
      "<bound method NDFrame.tail of      Count        Date        DOW\n",
      "0        1  02-09-2022     Friday\n",
      "1        2  05-09-2022     Monday\n",
      "2        3  06-09-2022    Tuesday\n",
      "3        4  07-09-2022  Wednesday\n",
      "4        5  08-09-2022   Thursday\n",
      "..     ...         ...        ...\n",
      "203    204  14-06-2023  Wednesday\n",
      "204    205  15-06-2023   Thursday\n",
      "205    206  16-06-2023     Friday\n",
      "206    207  19-06-2023     Monday\n",
      "207    208  20-06-2023    Tuesday\n",
      "\n",
      "[208 rows x 3 columns]>\n"
     ]
    }
   ],
   "source": [
    "import pandas as pd\n",
    "from datetime import date,datetime,timedelta\n",
    "today1 = date.today()\n",
    "count=[]\n",
    "dates=[]\n",
    "dow=[]\n",
    "row=0\n",
    "for x in range(1,293,1): \n",
    "  d=today1+timedelta(days=x)\n",
    "  a=d.strftime(\"%A\")\n",
    "  if a != \"Saturday\" and a != \"Sunday\":\n",
    "     dates.append(d.strftime('%d-%m-%Y'))\n",
    "     dow.append(a)\n",
    "     row=row+1\n",
    "     count.append(row)\n",
    "\n",
    "data = {'Count': count,\n",
    "        'Date': dates,\n",
    "        'DOW': dow\n",
    "        }\n",
    "dates_df = pd.DataFrame(data)\n",
    "print (dates_df.tail)"
   ]
  },
  {
   "cell_type": "code",
   "execution_count": 35,
   "metadata": {},
   "outputs": [
    {
     "name": "stdout",
     "output_type": "stream",
     "text": [
      "Today plus one day:   02-09-2022\n",
      "Predicted next date in mongodb:   02-09-2022\n",
      "Awesome! dates are already correctly updated!\n"
     ]
    }
   ],
   "source": [
    "#UPDATE DATES IN MONGODB AND CHECK IF UPDATED ALEADY\n",
    "today4 = date.today()\n",
    "d=today4+timedelta(days=1)\n",
    "d=d.strftime('%d-%m-%Y')\n",
    "print(\"Today plus one day:   \"+d)\n",
    "#Check if mongoDb now has latest data\n",
    "dates_df = pd.DataFrame(list(db.dates.find()))\n",
    "d_mdb = dates_df.iloc[0,2]\n",
    "print(\"Predicted next date in mongodb:   \"+d_mdb)\n",
    "# print(d,d_mdb)\n",
    "\n",
    "def update_date():\n",
    "    # Drop all previous records now in MongoDb\n",
    "    db.dates.drop()\n",
    "    records=dates_df.to_dict('records')\n",
    "\n",
    "    #INSERT NEW DATA INTO MONGODB\n",
    "    db.dates.insert_many(records)\n",
    "\n",
    "    #Check if mongoDb now has latest data\n",
    "    dates_mongo = pd.DataFrame(list(db.dates.find()))\n",
    "    dates_updated = dates_mongo.iloc[:,1:].values\n",
    "    return dates_updated\n",
    "\n",
    "if d==d_mdb:\n",
    "    print(\"Awesome! dates are already correctly updated!\")\n",
    "else:\n",
    "    print(\"Dates need to be updated\"+d+\"  \"+d_mdb)\n",
    "    dates_updated = update_date()\n",
    "    print(dates_updated)"
   ]
  },
  {
   "cell_type": "code",
   "execution_count": 36,
   "metadata": {},
   "outputs": [
    {
     "name": "stderr",
     "output_type": "stream",
     "text": [
      "C:\\Users\\antoi\\AppData\\Local\\Temp/ipykernel_14784/4262353664.py:12: SettingWithCopyWarning: \n",
      "A value is trying to be set on a copy of a slice from a DataFrame.\n",
      "Try using .loc[row_indexer,col_indexer] = value instead\n",
      "\n",
      "See the caveats in the documentation: https://pandas.pydata.org/pandas-docs/stable/user_guide/indexing.html#returning-a-view-versus-a-copy\n",
      "  dates_df_iloc['Price'] = price_list\n"
     ]
    },
    {
     "data": {
      "image/png": "[encoded data removed]",
      "text/plain": [
       "<Figure size 432x288 with 1 Axes>"
      ]
     },
     "metadata": {},
     "output_type": "display_data"
    }
   ],
   "source": [
    "# DRAW THE PREDICTION\n",
    "day1=dates_df.iloc[0,3]+\" \"+dates_df.iloc[0,2]\n",
    "day2=dates_df.iloc[1,3]+\" \"+dates_df.iloc[1,2]\n",
    "day3=dates_df.iloc[2,3]+\" \"+dates_df.iloc[2,2]\n",
    "day4=dates_df.iloc[3,3]+\" \"+dates_df.iloc[3,2]\n",
    "day5=dates_df.iloc[4,3]+\" \"+dates_df.iloc[4,2]\n",
    "day6=dates_df.iloc[5,3]+\" \"+dates_df.iloc[5,2]\n",
    "day7=dates_df.iloc[6,3]+\" \"+dates_df.iloc[6,2]\n",
    "day8=dates_df.iloc[7,3]+\" \"+dates_df.iloc[7,2]\n",
    "#Append the input amount of trading days to dates dictionary\n",
    "dates_df_iloc = dates_df.iloc[0:input]\n",
    "dates_df_iloc['Price'] = price_list\n",
    "plt.plot(dates_df_iloc['Price'])\n",
    "plt.title('CBA LSTM PREDICTIONS : '+last_date+\"  $\"+str(round(last_close,2)))\n",
    "plt.xlabel('Future Trading Days', fontsize=10)\n",
    "plt.ylabel('Close Price AUD ($)',fontsize=10)\n",
    "plt.xticks([0,25,50,75,100,125,150,175],[day1,day2,day3,day4,day5,day6,day7,day8],fontsize=9,rotation=35)\n",
    "plt.savefig('../static/data/images/pred/cba_pred.png', bbox_inches=\"tight\")\n",
    "plt.show()\n"
   ]
  },
  {
   "cell_type": "code",
   "execution_count": 37,
   "metadata": {},
   "outputs": [
    {
     "data": {
      "text/plain": [
       "[{'Price': 96.63},\n",
       " {'Price': 96.59},\n",
       " {'Price': 96.61},\n",
       " {'Price': 96.65},\n",
       " {'Price': 96.68},\n",
       " {'Price': 96.72},\n",
       " {'Price': 96.75},\n",
       " {'Price': 96.78},\n",
       " {'Price': 96.81},\n",
       " {'Price': 96.84},\n",
       " {'Price': 96.86},\n",
       " {'Price': 96.88},\n",
       " {'Price': 96.9},\n",
       " {'Price': 96.92},\n",
       " {'Price': 96.94},\n",
       " {'Price': 96.96},\n",
       " {'Price': 96.98},\n",
       " {'Price': 97.0},\n",
       " {'Price': 97.01},\n",
       " {'Price': 97.03},\n",
       " {'Price': 97.05},\n",
       " {'Price': 97.06},\n",
       " {'Price': 97.08},\n",
       " {'Price': 97.09},\n",
       " {'Price': 97.11},\n",
       " {'Price': 97.13},\n",
       " {'Price': 97.14},\n",
       " {'Price': 97.15},\n",
       " {'Price': 97.16},\n",
       " {'Price': 97.16},\n",
       " {'Price': 97.16},\n",
       " {'Price': 97.17},\n",
       " {'Price': 97.18},\n",
       " {'Price': 97.18},\n",
       " {'Price': 97.19},\n",
       " {'Price': 97.2},\n",
       " {'Price': 97.2},\n",
       " {'Price': 97.21},\n",
       " {'Price': 97.22},\n",
       " {'Price': 97.22},\n",
       " {'Price': 97.23},\n",
       " {'Price': 97.24},\n",
       " {'Price': 97.24},\n",
       " {'Price': 97.25},\n",
       " {'Price': 97.26},\n",
       " {'Price': 97.26},\n",
       " {'Price': 97.27},\n",
       " {'Price': 97.28},\n",
       " {'Price': 97.29},\n",
       " {'Price': 97.29},\n",
       " {'Price': 97.3},\n",
       " {'Price': 97.3},\n",
       " {'Price': 97.31},\n",
       " {'Price': 97.29},\n",
       " {'Price': 97.29},\n",
       " {'Price': 97.29},\n",
       " {'Price': 97.29},\n",
       " {'Price': 97.27},\n",
       " {'Price': 97.27},\n",
       " {'Price': 97.27},\n",
       " {'Price': 97.27},\n",
       " {'Price': 97.27},\n",
       " {'Price': 97.27},\n",
       " {'Price': 97.27},\n",
       " {'Price': 97.26},\n",
       " {'Price': 97.26},\n",
       " {'Price': 97.26},\n",
       " {'Price': 97.26},\n",
       " {'Price': 97.26},\n",
       " {'Price': 97.26},\n",
       " {'Price': 97.26},\n",
       " {'Price': 97.26},\n",
       " {'Price': 97.26},\n",
       " {'Price': 97.26},\n",
       " {'Price': 97.26},\n",
       " {'Price': 97.26},\n",
       " {'Price': 97.26},\n",
       " {'Price': 97.26},\n",
       " {'Price': 97.26},\n",
       " {'Price': 97.26},\n",
       " {'Price': 97.26},\n",
       " {'Price': 97.26},\n",
       " {'Price': 97.26},\n",
       " {'Price': 97.26},\n",
       " {'Price': 97.26},\n",
       " {'Price': 97.26},\n",
       " {'Price': 97.26},\n",
       " {'Price': 97.26},\n",
       " {'Price': 97.26},\n",
       " {'Price': 97.26},\n",
       " {'Price': 97.26},\n",
       " {'Price': 97.26},\n",
       " {'Price': 97.26},\n",
       " {'Price': 97.26},\n",
       " {'Price': 97.26},\n",
       " {'Price': 97.26},\n",
       " {'Price': 97.26},\n",
       " {'Price': 97.26},\n",
       " {'Price': 97.26},\n",
       " {'Price': 97.26},\n",
       " {'Price': 97.26},\n",
       " {'Price': 97.26},\n",
       " {'Price': 97.26},\n",
       " {'Price': 97.26},\n",
       " {'Price': 97.26},\n",
       " {'Price': 97.26},\n",
       " {'Price': 97.26},\n",
       " {'Price': 97.26},\n",
       " {'Price': 97.26},\n",
       " {'Price': 97.26},\n",
       " {'Price': 97.26},\n",
       " {'Price': 97.26},\n",
       " {'Price': 97.26},\n",
       " {'Price': 97.26},\n",
       " {'Price': 97.26},\n",
       " {'Price': 97.26},\n",
       " {'Price': 97.26},\n",
       " {'Price': 97.26},\n",
       " {'Price': 97.26},\n",
       " {'Price': 97.26},\n",
       " {'Price': 97.26},\n",
       " {'Price': 97.26},\n",
       " {'Price': 97.26},\n",
       " {'Price': 97.26},\n",
       " {'Price': 97.26},\n",
       " {'Price': 97.26},\n",
       " {'Price': 97.26},\n",
       " {'Price': 97.26},\n",
       " {'Price': 97.26},\n",
       " {'Price': 97.26},\n",
       " {'Price': 97.26},\n",
       " {'Price': 97.26},\n",
       " {'Price': 97.26},\n",
       " {'Price': 97.26},\n",
       " {'Price': 97.26},\n",
       " {'Price': 97.26},\n",
       " {'Price': 97.26},\n",
       " {'Price': 97.26},\n",
       " {'Price': 97.26},\n",
       " {'Price': 97.26},\n",
       " {'Price': 97.26},\n",
       " {'Price': 97.26},\n",
       " {'Price': 97.26},\n",
       " {'Price': 97.26},\n",
       " {'Price': 97.26},\n",
       " {'Price': 97.26},\n",
       " {'Price': 97.26},\n",
       " {'Price': 97.26},\n",
       " {'Price': 97.26},\n",
       " {'Price': 97.26},\n",
       " {'Price': 97.26},\n",
       " {'Price': 97.26},\n",
       " {'Price': 97.26},\n",
       " {'Price': 97.26},\n",
       " {'Price': 97.26},\n",
       " {'Price': 97.26},\n",
       " {'Price': 97.26},\n",
       " {'Price': 97.26},\n",
       " {'Price': 97.26},\n",
       " {'Price': 97.26},\n",
       " {'Price': 97.26},\n",
       " {'Price': 97.26},\n",
       " {'Price': 97.26},\n",
       " {'Price': 97.26},\n",
       " {'Price': 97.26},\n",
       " {'Price': 97.26},\n",
       " {'Price': 97.26},\n",
       " {'Price': 97.26},\n",
       " {'Price': 97.26},\n",
       " {'Price': 97.26},\n",
       " {'Price': 97.26},\n",
       " {'Price': 97.26},\n",
       " {'Price': 97.26},\n",
       " {'Price': 97.26},\n",
       " {'Price': 97.26},\n",
       " {'Price': 97.26},\n",
       " {'Price': 97.26},\n",
       " {'Price': 97.26},\n",
       " {'Price': 97.26},\n",
       " {'Price': 97.26}]"
      ]
     },
     "execution_count": 37,
     "metadata": {},
     "output_type": "execute_result"
    }
   ],
   "source": [
    "my_dict = dates_df_iloc.to_dict(orient='records')\n",
    "my_dict\n",
    "price_dict = [dict(zip(['Price'],[x])) for x in price_list]\n",
    "price_dict"
   ]
  },
  {
   "cell_type": "code",
   "execution_count": 38,
   "metadata": {},
   "outputs": [
    {
     "name": "stdout",
     "output_type": "stream",
     "text": [
      "4616 5769 5928\n"
     ]
    },
    {
     "data": {
      "text/html": [
       "<div>\n",
       "<style scoped>\n",
       "    .dataframe tbody tr th:only-of-type {\n",
       "        vertical-align: middle;\n",
       "    }\n",
       "\n",
       "    .dataframe tbody tr th {\n",
       "        vertical-align: top;\n",
       "    }\n",
       "\n",
       "    .dataframe thead th {\n",
       "        text-align: right;\n",
       "    }\n",
       "</style>\n",
       "<table border=\"1\" class=\"dataframe\">\n",
       "  <thead>\n",
       "    <tr style=\"text-align: right;\">\n",
       "      <th></th>\n",
       "      <th>Close</th>\n",
       "    </tr>\n",
       "  </thead>\n",
       "  <tbody>\n",
       "    <tr>\n",
       "      <th>5918</th>\n",
       "      <td>97.26</td>\n",
       "    </tr>\n",
       "    <tr>\n",
       "      <th>5919</th>\n",
       "      <td>97.26</td>\n",
       "    </tr>\n",
       "    <tr>\n",
       "      <th>5920</th>\n",
       "      <td>97.26</td>\n",
       "    </tr>\n",
       "    <tr>\n",
       "      <th>5921</th>\n",
       "      <td>97.26</td>\n",
       "    </tr>\n",
       "    <tr>\n",
       "      <th>5922</th>\n",
       "      <td>97.26</td>\n",
       "    </tr>\n",
       "    <tr>\n",
       "      <th>5923</th>\n",
       "      <td>97.26</td>\n",
       "    </tr>\n",
       "    <tr>\n",
       "      <th>5924</th>\n",
       "      <td>97.26</td>\n",
       "    </tr>\n",
       "    <tr>\n",
       "      <th>5925</th>\n",
       "      <td>97.26</td>\n",
       "    </tr>\n",
       "    <tr>\n",
       "      <th>5926</th>\n",
       "      <td>97.26</td>\n",
       "    </tr>\n",
       "    <tr>\n",
       "      <th>5927</th>\n",
       "      <td>97.26</td>\n",
       "    </tr>\n",
       "  </tbody>\n",
       "</table>\n",
       "</div>"
      ],
      "text/plain": [
       "      Close\n",
       "5918  97.26\n",
       "5919  97.26\n",
       "5920  97.26\n",
       "5921  97.26\n",
       "5922  97.26\n",
       "5923  97.26\n",
       "5924  97.26\n",
       "5925  97.26\n",
       "5926  97.26\n",
       "5927  97.26"
      ]
     },
     "execution_count": 38,
     "metadata": {},
     "output_type": "execute_result"
    }
   ],
   "source": [
    "\n",
    "# df_len = len(df.index) # length of the original dataframe\n",
    "len_df_mongo=len(df_mongo)\n",
    "col_name = ['Close']\n",
    "df_filtered = df.filter(col_name)\n",
    "df_filtered_len = len(df_filtered.index)\n",
    "df_filtered_len\n",
    "len_pred_df = df_filtered_len+input # length of the original dataframe plus the users new inputs\n",
    "print(train_data_len,len_df_mongo,len_pred_df)\n",
    "new_data =df_filtered.append(pd.DataFrame(price_list,columns=col_name),ignore_index=True)\n",
    "new_data.tail(10)"
   ]
  },
  {
   "cell_type": "code",
   "execution_count": 39,
   "metadata": {},
   "outputs": [
    {
     "name": "stderr",
     "output_type": "stream",
     "text": [
      "C:\\Users\\antoi\\AppData\\Local\\Temp/ipykernel_14784/2732492008.py:6: SettingWithCopyWarning: \n",
      "A value is trying to be set on a copy of a slice from a DataFrame.\n",
      "Try using .loc[row_indexer,col_indexer] = value instead\n",
      "\n",
      "See the caveats in the documentation: https://pandas.pydata.org/pandas-docs/stable/user_guide/indexing.html#returning-a-view-versus-a-copy\n",
      "  valid['Predictions'] = predictions # another column for validating test\n"
     ]
    },
    {
     "data": {
      "image/png": "[encoded data removed]",
      "text/plain": [
       "<Figure size 1152x576 with 1 Axes>"
      ]
     },
     "metadata": {},
     "output_type": "display_data"
    }
   ],
   "source": [
    "#Plot the data to validate the test data\n",
    "\n",
    "plt.style.use('fivethirtyeight')\n",
    "train = new_data.iloc[:train_data_len] # actual train data from 0 rows until train data end\n",
    "valid = new_data.iloc[train_data_len:len_df_mongo] # actual test data from train data end until end of all sampled data\n",
    "valid['Predictions'] = predictions # another column for validating test\n",
    "predict = new_data.iloc[len_df_mongo:len_pred_df] # user prediction data from loop\n",
    "\n",
    "plt.figure(figsize=(16,8))\n",
    "plt.title('PREDICTION CBA Share Price LSTM Model')\n",
    "plt.xlabel('Trading Date', fontsize=18)\n",
    "plt.ylabel('Close Price AUD ($)',fontsize=18)\n",
    "plt.plot(train['Close'])\n",
    "plt.plot(valid[['Close','Predictions']])\n",
    "plt.plot(predict['Close'])\n",
    "plt.legend(['Training data','Tested data','Validate test data','Prediction'],loc='lower right')\n",
    "x = np.arange(2000,2024,4)\n",
    "plt.xticks([0,1000,2000,3000,4000,5000],x)\n",
    "plt.savefig('../static/data/images/cba_predict_graph.png')\n",
    "plt.show()"
   ]
  },
  {
   "cell_type": "markdown",
   "metadata": {},
   "source": [
    "#Save predicted price to MongoDB"
   ]
  },
  {
   "cell_type": "code",
   "execution_count": 40,
   "metadata": {},
   "outputs": [
    {
     "name": "stdout",
     "output_type": "stream",
     "text": [
      "{'_id': ObjectId('62f869a32d48e159f9650d6b'), 'model': 'RFR', 'name': 'CBA', 'date': '12/08/2022', 'predicted': 97, 'actual': 100, 'difference': -2.7336, 'accuracy': 97.42}\n",
      "{'_id': ObjectId('630dc693de01e11621c50261'), 'model': 'LSTM', 'name': 'CBA', 'date': '30/08/2022', 'predicted': 95.74, 'actual': 96.55, 'difference': -0.81, 'rmse': 0.5768}\n"
     ]
    }
   ],
   "source": [
    "# Query all\n",
    "name = 'CBA'\n",
    "companys = db.companys.find({'name': name})\n",
    "# Iterate through each company in the collection\n",
    "for company in companys:\n",
    "    print(company)"
   ]
  },
  {
   "cell_type": "code",
   "execution_count": 41,
   "metadata": {},
   "outputs": [
    {
     "name": "stdout",
     "output_type": "stream",
     "text": [
      "{'_id': ObjectId('62f869a32d48e159f9650d6b'), 'model': 'RFR', 'name': 'CBA', 'date': '12/08/2022', 'predicted': 97, 'actual': 100, 'difference': -2.7336, 'accuracy': 97.42}\n"
     ]
    }
   ],
   "source": [
    "# Delete a document from a collection\n",
    "db.companys_agg.delete_one(\n",
    "    {'model': 'LSTM','name': name,'date':last_date}\n",
    ")\n",
    "db.companys.delete_one(\n",
    "    {'model': 'LSTM','name': name}\n",
    ")\n",
    "\n",
    "# query the companys collection\n",
    "companys = db.companys.find({'name': 'CBA'})\n",
    "# see change in the collection\n",
    "for company in companys:\n",
    "    print(company)"
   ]
  },
  {
   "cell_type": "code",
   "execution_count": 42,
   "metadata": {},
   "outputs": [
    {
     "name": "stdout",
     "output_type": "stream",
     "text": [
      "date 31/08/2022, predicted $96.38, actual $97.47, difference -1.0900000000000034, rmse 0.15074\n"
     ]
    }
   ],
   "source": [
    "# Set keys and values of company\n",
    "last_close=round(float(last_close),2)\n",
    "difference = pred_price-last_close\n",
    "print(f'date {last_date}, predicted ${pred_price}, actual ${last_close}, difference {difference}, rmse {round(rmse,5)}')"
   ]
  },
  {
   "cell_type": "code",
   "execution_count": 43,
   "metadata": {},
   "outputs": [
    {
     "name": "stdout",
     "output_type": "stream",
     "text": [
      "{'_id': ObjectId('62f869a32d48e159f9650d6b'), 'model': 'RFR', 'name': 'CBA', 'date': '12/08/2022', 'predicted': 97, 'actual': 100, 'difference': -2.7336, 'accuracy': 97.42}\n",
      "{'_id': ObjectId('630ffb2e5f450fe375e22e0d'), 'model': 'LSTM', 'name': 'CBA', 'date': '31/08/2022', 'predicted': 96.38, 'actual': 97.47, 'difference': -1.09, 'rmse': 0.15074}\n"
     ]
    }
   ],
   "source": [
    "# Insert a document into the 'companys' collection\n",
    "db.companys_agg.insert_one(\n",
    "    {\n",
    "      'model': 'LSTM',\n",
    "      'name': name,\n",
    "      'date': last_date,\n",
    "      'predicted': pred_price,\n",
    "      'actual': last_close,\n",
    "      'difference': round(difference,4),\n",
    "      'rmse': round(rmse,5)        \n",
    "    }\n",
    ")\n",
    "\n",
    "db.companys.insert_one(\n",
    "    {\n",
    "      'model': 'LSTM',\n",
    "      'name': name,\n",
    "      'date': last_date,\n",
    "      'predicted': pred_price,\n",
    "      'actual': last_close,\n",
    "      'difference': round(difference,4),\n",
    "      'rmse': round(rmse,5)        \n",
    "    }\n",
    ")\n",
    "\n",
    "# query the classroom collection\n",
    "companys = db.companys.find({'name': name})\n",
    "\n",
    "# see change in collection\n",
    "for company in companys:\n",
    "    print(company)"
   ]
  },
  {
   "cell_type": "code",
   "execution_count": 44,
   "metadata": {},
   "outputs": [
    {
     "name": "stdout",
     "output_type": "stream",
     "text": [
      "{'_id': ObjectId('62cfb5f0a3e49b5607e1001b'), 'model': 'RFR', 'name': 'nhc', 'date': '14/07/2022', 'predicted': 3, 'actual': 4, 'differece': -0.4134955929131614, 'accuracy': 95.31}\n",
      "{'_id': ObjectId('62e47c25ddd32d7e027d5c65'), 'model': 'LSTM', 'name': 'fmg', 'date': '29/07/2022', 'predicted': 19, 'actual': 18.34, 'differece': 0.6600000000000001, 'rmse': 0.73826}\n",
      "{'_id': ObjectId('62e481c2f248345c96c9494d'), 'model': 'RFR', 'name': 'fmg', 'date': '29/07/2022', 'predicted': 12, 'actual': 18, 'differece': -5.209653763866996, 'accuracy': 91.31}\n",
      "{'_id': ObjectId('62e50595000bd2fa71a88d82'), 'model': 'RFR', 'name': 'wes', 'date': '29/07/2022', 'predicted': 44, 'actual': 38, 'difference': 6.9125, 'accuracy': 97.16}\n",
      "{'_id': ObjectId('62e63809b66c4b7fa3db1a22'), 'model': 'RFR', 'name': 'anz', 'date': '29/07/2022', 'predicted': 33, 'actual': 22, 'difference': 11.1838, 'accuracy': 97.09}\n",
      "{'_id': ObjectId('62ea3a74d27bca6473865515'), 'model': 'RFR', 'name': 'bhp', 'date': '02/08/2022', 'predicted': 47, 'actual': 38, 'difference': 9.0458, 'accuracy': 96.55}\n",
      "{'_id': ObjectId('62ee1dbc8d0aa1f1db925f04'), 'model': 'RFR', 'name': 'SHL', 'date': '05/08/2022', 'predicted': 32, 'actual': 35, 'difference': -2.9074, 'accuracy': 96.97}\n",
      "{'_id': ObjectId('62f72d88ba70ff4c205ba17f'), 'model': 'RFR', 'name': 'ANZ', 'date': '12/08/2022', 'predicted': 33, 'actual': 24, 'difference': 9.1995, 'accuracy': 97.17}\n",
      "{'_id': ObjectId('62f72f48de00168f436699ef'), 'model': 'RFR', 'name': 'BHP', 'date': '12/08/2022', 'predicted': 42, 'actual': 38, 'difference': 4.9902, 'accuracy': 96.75}\n",
      "{'_id': ObjectId('62f77b21e02817947b886fcd'), 'model': 'RFR', 'name': 'CSL', 'date': '12/08/2022', 'predicted': 244, 'actual': 290, 'difference': -45.2, 'accuracy': 96.14}\n",
      "{'_id': ObjectId('62f77e2f2a827b19bf6473c2'), 'model': 'RFR', 'name': 'FMG', 'date': '12/08/2022', 'predicted': 12, 'actual': 18, 'difference': -5.0768, 'accuracy': 91.24}\n",
      "{'_id': ObjectId('62f83471a0999ee2071b809d'), 'model': 'RFR', 'name': 'GMG', 'date': '12/08/2022', 'predicted': 18, 'actual': 20, 'difference': -1.9984, 'accuracy': 95.8}\n",
      "{'_id': ObjectId('62f83473d6fc67e45e0eff78'), 'model': 'RFR', 'name': 'MIN', 'date': '12/08/2022', 'predicted': 38, 'actual': 59, 'difference': -20.3236, 'accuracy': 93.74}\n",
      "{'_id': ObjectId('62f8348d83934ace5cf9129a'), 'model': 'RFR', 'name': 'MQG', 'date': '12/08/2022', 'predicted': 141, 'actual': 178, 'difference': -36.258, 'accuracy': 96.27}\n",
      "{'_id': ObjectId('62f8348e88f5e24597bc697a'), 'model': 'RFR', 'name': 'LYC', 'date': '12/08/2022', 'predicted': 6, 'actual': 9, 'difference': -2.6271, 'accuracy': 90.7}\n",
      "{'_id': ObjectId('62f850fe1081f44aefd85c5a'), 'model': 'RFR', 'name': 'NCM', 'date': '12/08/2022', 'predicted': 32, 'actual': 19, 'difference': 13.3254, 'accuracy': 95.25}\n",
      "{'_id': ObjectId('62f85c349cd16f126af85ea7'), 'model': 'RFR', 'name': 'NIC', 'date': '12/08/2022', 'predicted': 0.93, 'actual': 1.14, 'difference': -0.21, 'accuracy': 91.96}\n",
      "{'_id': ObjectId('62f85c3b11cc7bd61b8a9561'), 'model': 'RFR', 'name': 'S32', 'date': '12/08/2022', 'predicted': 4, 'actual': 4, 'difference': 0.8543, 'accuracy': 95.15}\n",
      "{'_id': ObjectId('62f85c3be24e5b9565f4566b'), 'model': 'RFR', 'name': 'NHC', 'date': '12/08/2022', 'predicted': 3.63, 'actual': 4.4, 'difference': -0.77, 'accuracy': 95.37}\n",
      "{'_id': ObjectId('62f85c3c324d73afb9fa1203'), 'model': 'RFR', 'name': 'PRU', 'date': '12/08/2022', 'predicted': 1, 'actual': 1, 'difference': 0.5741, 'accuracy': 92.31}\n",
      "{'_id': ObjectId('62f867c28186dd9129aea8b3'), 'model': 'RFR', 'name': 'SOL', 'date': '12/08/2022', 'predicted': 25, 'actual': 25, 'difference': 0.1119, 'accuracy': 97.48}\n",
      "{'_id': ObjectId('62f86865d548095e992ccb3a'), 'model': 'RFR', 'name': 'TCL', 'date': '12/08/2022', 'predicted': 14, 'actual': 14, 'difference': 0.1858, 'accuracy': 97.25}\n",
      "{'_id': ObjectId('62f868b7af264067b61a7d2d'), 'model': 'RFR', 'name': 'STO', 'date': '12/08/2022', 'predicted': 8, 'actual': 7, 'difference': 1.774, 'accuracy': 96.25}\n",
      "{'_id': ObjectId('62f869a32d48e159f9650d6b'), 'model': 'RFR', 'name': 'CBA', 'date': '12/08/2022', 'predicted': 97, 'actual': 100, 'difference': -2.7336, 'accuracy': 97.42}\n",
      "{'_id': ObjectId('62f869ba3bc6ea83a205aea8'), 'model': 'RFR', 'name': 'NAB', 'date': '12/08/2022', 'predicted': 28, 'actual': 30, 'difference': -1.8976, 'accuracy': 97.17}\n",
      "{'_id': ObjectId('62f86c94e8aa99df83075c2c'), 'model': 'RFR', 'name': 'WBC', 'date': '12/08/2022', 'predicted': 31, 'actual': 22, 'difference': 9.5487, 'accuracy': 97.02}\n",
      "{'_id': ObjectId('62f86d4682a83325a4b1cd10'), 'model': 'RFR', 'name': 'WOW', 'date': '12/08/2022', 'predicted': 40, 'actual': 38, 'difference': 2.4486, 'accuracy': 97.51}\n",
      "{'_id': ObjectId('62f86d4cd6d72aa104d49f9c'), 'model': 'RFR', 'name': 'WDS', 'date': '12/08/2022', 'predicted': 41, 'actual': 32, 'difference': 9.1736, 'accuracy': 96.93}\n",
      "{'_id': ObjectId('62f86d4d5bc1b7bdfbac98f7'), 'model': 'RFR', 'name': 'WES', 'date': '12/08/2022', 'predicted': 45, 'actual': 47, 'difference': -1.9191, 'accuracy': 97.18}\n",
      "{'_id': ObjectId('63083b64cd3920ce081aa1ec'), 'model': 'RFR', 'name': 'ALL', 'date': '25/08/2022', 'predicted': 31, 'actual': 36, 'difference': -4.9502, 'accuracy': 94.04}\n",
      "{'_id': ObjectId('630b25a73674715d88278ff4'), 'model': 'LSTM', 'name': 'WOW', 'date': '26/08/2022', 'predicted': 36.81, 'actual': 36.76, 'difference': 0.05, 'rmse': 0.142}\n",
      "{'_id': ObjectId('630dcc6b77e246721e8ea5f5'), 'model': 'LSTM', 'name': 'CSL', 'date': '30/08/2022', 'predicted': 261.29, 'actual': 293.9, 'difference': -32.61, 'rmse': 22.01025}\n",
      "{'_id': ObjectId('630dcc6bf52ded7e84807581'), 'model': 'LSTM', 'name': 'FMG', 'date': '30/08/2022', 'predicted': 17.86, 'actual': 18.95, 'difference': -1.09, 'rmse': 0.68616}\n",
      "{'_id': ObjectId('630dcc6fe72dae51c8206e83'), 'model': 'LSTM', 'name': 'DJI', 'date': '29/08/2022', 'predicted': 32158.45, 'actual': 32098.99, 'difference': 59.46, 'rmse': 55.61885}\n",
      "{'_id': ObjectId('630dcc76d5ee5c4abea8ed33'), 'model': 'LSTM', 'name': 'GMG', 'date': '30/08/2022', 'predicted': 19.55, 'actual': 20.15, 'difference': -0.6, 'rmse': 0.31092}\n",
      "{'_id': ObjectId('630dcdc7b39ec0aa044e0443'), 'model': 'LSTM', 'name': 'MIN', 'date': '30/08/2022', 'predicted': 59.61, 'actual': 67.96, 'difference': -8.35, 'rmse': 1.4103}\n",
      "{'_id': ObjectId('630dcdcb45a6521a11c6e36b'), 'model': 'LSTM', 'name': 'LYC', 'date': '30/08/2022', 'predicted': 23.61, 'actual': 8.62, 'difference': 14.99, 'rmse': 0.50067}\n",
      "{'_id': ObjectId('630dcddfc85a6c2c460bcdd3'), 'model': 'LSTM', 'name': 'MQG', 'date': '30/08/2022', 'predicted': 172.41, 'actual': 175.17, 'difference': -2.76, 'rmse': 0.7346}\n",
      "{'_id': ObjectId('630dcdeb0a29fd36804fc140'), 'model': 'LSTM', 'name': 'NAB', 'date': '30/08/2022', 'predicted': 29.5, 'actual': 29.99, 'difference': -0.49, 'rmse': 0.23854}\n",
      "{'_id': ObjectId('630dce6096472ec0af670977'), 'model': 'LSTM', 'name': 'NIC', 'date': '30/08/2022', 'predicted': 1.06, 'actual': 1.02, 'difference': 0.04, 'rmse': 4e-05}\n",
      "{'_id': ObjectId('630dcee3b58df087a5ebb961'), 'model': 'LSTM', 'name': 'NCM', 'date': '30/08/2022', 'predicted': 17.52, 'actual': 17.64, 'difference': -0.12, 'rmse': 0.4007}\n",
      "{'_id': ObjectId('630dcee540dbd66dd1092145'), 'model': 'LSTM', 'name': 'NHC', 'date': '30/08/2022', 'predicted': 4, 'actual': 5.06, 'difference': -0.34, 'rmse': 0.20128}\n",
      "{'_id': ObjectId('630dcef1c89b297d6fc75980'), 'model': 'LSTM', 'name': 'S32', 'date': '30/08/2022', 'predicted': 3.94, 'actual': 4.15, 'difference': -0.21, 'rmse': 0.19272}\n",
      "{'_id': ObjectId('630dcefae160456a4ba2ac22'), 'model': 'LSTM', 'name': 'PRU', 'date': '30/08/2022', 'predicted': 1.44, 'actual': 1.56, 'difference': -0.12, 'rmse': 0.10897}\n",
      "{'_id': ObjectId('630dd037f175564c51e8ab98'), 'model': 'LSTM', 'name': 'SHL', 'date': '30/08/2022', 'predicted': 34.51, 'actual': 34.35, 'difference': 0.16, 'rmse': 0.25124}\n",
      "{'_id': ObjectId('630dd0445ad6ffde09140ebb'), 'model': 'LSTM', 'name': 'TCL', 'date': '30/08/2022', 'predicted': 13.51, 'actual': 13.97, 'difference': -0.46, 'rmse': 0.32256}\n",
      "{'_id': ObjectId('630dd04fab55608a7b69d52b'), 'model': 'LSTM', 'name': 'SOL', 'date': '30/08/2022', 'predicted': 27.0, 'actual': 25.86, 'difference': 1.14, 'rmse': 1.23817}\n",
      "{'_id': ObjectId('630dd054dd9a951e631e246f'), 'model': 'LSTM', 'name': 'STO', 'date': '30/08/2022', 'predicted': 7.57, 'actual': 7.97, 'difference': -0.4, 'rmse': 0.22988}\n",
      "{'_id': ObjectId('630dda39741596a264e3581a'), 'model': 'LSTM', 'name': 'WBC', 'date': '30/08/2022', 'predicted': 20.48, 'actual': 21.28, 'differece': -0.8000000000000007, 'rmse': 0.76755}\n",
      "{'_id': ObjectId('630dde45937dc06f2b20f6ab'), 'model': 'LSTM', 'name': 'WDS', 'date': '30/08/2022', 'predicted': 34.81, 'actual': 35.87, 'difference': -1.06, 'rmse': 0.20948}\n",
      "{'_id': ObjectId('630dde5c45f6d161dac91353'), 'model': 'LSTM', 'name': 'WES', 'date': '30/08/2022', 'predicted': 47.35, 'actual': 47.7, 'difference': -0.35, 'rmse': 0.21369}\n",
      "{'_id': ObjectId('630ffb2daf6bd6bfd1469dfa'), 'model': 'LSTM', 'name': 'BHP', 'date': '31/08/2022', 'predicted': 39.28, 'actual': 40.6, 'difference': -1.32, 'rmse': 1.33096}\n",
      "{'_id': ObjectId('630ffb2e41269e1989242249'), 'model': 'LSTM', 'name': 'ALL', 'date': '31/08/2022', 'predicted': 34.33, 'actual': 35.7, 'difference': -1.37, 'rmse': 0.6667}\n",
      "{'_id': ObjectId('630ffb2e429ec1dc0a0b0849'), 'model': 'LSTM', 'name': 'ANZ', 'date': '31/08/2022', 'predicted': 22.81, 'actual': 22.83, 'difference': -0.02, 'rmse': 0.43019}\n",
      "{'_id': ObjectId('630ffb2e5f450fe375e22e0d'), 'model': 'LSTM', 'name': 'CBA', 'date': '31/08/2022', 'predicted': 96.38, 'actual': 97.47, 'difference': -1.09, 'rmse': 0.15074}\n"
     ]
    }
   ],
   "source": [
    "# query all the classroom collection\n",
    "companys = db.companys.find()\n",
    "\n",
    "# see change in collection\n",
    "for company in companys:\n",
    "    print(company)"
   ]
  }
 ],
 "metadata": {
  "interpreter": {
   "hash": "45bb1cb4637e4034484920e5cfb24c9afd84b0847d6c36e39edd3067d3a05462"
  },
  "kernel_info": {
   "name": "dev"
  },
  "kernelspec": {
   "display_name": "Python 3.9.7 ('base')",
   "language": "python",
   "name": "python3"
  },
  "language_info": {
   "codemirror_mode": {
    "name": "ipython",
    "version": 3
   },
   "file_extension": ".py",
   "mimetype": "text/x-python",
   "name": "python",
   "nbconvert_exporter": "python",
   "pygments_lexer": "ipython3",
   "version": "3.9.7"
  },
  "nteract": {
   "version": "0.12.3"
  }
 },
 "nbformat": 4,
 "nbformat_minor": 2
}
