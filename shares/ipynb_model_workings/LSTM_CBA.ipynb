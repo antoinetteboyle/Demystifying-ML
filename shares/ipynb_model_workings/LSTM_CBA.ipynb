{
 "cells": [
  {
   "cell_type": "markdown",
   "metadata": {},
   "source": [
    "#This model uses LSTM to predict a Daily share price movements based on time series and batches of 60 days"
   ]
  },
  {
   "cell_type": "markdown",
   "metadata": {},
   "source": [
    "# Read the CSV and Perform Basic Data Cleaning"
   ]
  },
  {
   "cell_type": "code",
   "execution_count": 125,
   "metadata": {},
   "outputs": [],
   "source": [
    "import matplotlib.pyplot as plt\n",
    "import numpy as np\n",
    "import pandas as pd"
   ]
  },
  {
   "cell_type": "code",
   "execution_count": 126,
   "metadata": {},
   "outputs": [
    {
     "data": {
      "text/html": [
       "<div>\n",
       "<style scoped>\n",
       "    .dataframe tbody tr th:only-of-type {\n",
       "        vertical-align: middle;\n",
       "    }\n",
       "\n",
       "    .dataframe tbody tr th {\n",
       "        vertical-align: top;\n",
       "    }\n",
       "\n",
       "    .dataframe thead th {\n",
       "        text-align: right;\n",
       "    }\n",
       "</style>\n",
       "<table border=\"1\" class=\"dataframe\">\n",
       "  <thead>\n",
       "    <tr style=\"text-align: right;\">\n",
       "      <th></th>\n",
       "      <th>Date</th>\n",
       "      <th>Open</th>\n",
       "      <th>High</th>\n",
       "      <th>Low</th>\n",
       "      <th>Close</th>\n",
       "      <th>Adj Close</th>\n",
       "      <th>Volume</th>\n",
       "      <th>SENTIMENT</th>\n",
       "      <th>RBA</th>\n",
       "      <th>FED</th>\n",
       "      <th>CPI</th>\n",
       "      <th>CPIUS</th>\n",
       "      <th>CPIchange</th>\n",
       "    </tr>\n",
       "  </thead>\n",
       "  <tbody>\n",
       "    <tr>\n",
       "      <th>0</th>\n",
       "      <td>3/01/2000</td>\n",
       "      <td>26.088652</td>\n",
       "      <td>26.088652</td>\n",
       "      <td>26.088652</td>\n",
       "      <td>26.088652</td>\n",
       "      <td>7.993308</td>\n",
       "      <td>0</td>\n",
       "      <td>NEGATIVE</td>\n",
       "      <td>5.0</td>\n",
       "      <td>5.5</td>\n",
       "      <td>69.7</td>\n",
       "      <td>168.8</td>\n",
       "      <td>2.8</td>\n",
       "    </tr>\n",
       "    <tr>\n",
       "      <th>1</th>\n",
       "      <td>4/01/2000</td>\n",
       "      <td>26.058813</td>\n",
       "      <td>26.058813</td>\n",
       "      <td>25.720646</td>\n",
       "      <td>25.790268</td>\n",
       "      <td>7.901886</td>\n",
       "      <td>1018072</td>\n",
       "      <td>NEGATIVE</td>\n",
       "      <td>5.0</td>\n",
       "      <td>5.5</td>\n",
       "      <td>69.7</td>\n",
       "      <td>168.8</td>\n",
       "      <td>2.8</td>\n",
       "    </tr>\n",
       "    <tr>\n",
       "      <th>2</th>\n",
       "      <td>5/01/2000</td>\n",
       "      <td>25.353634</td>\n",
       "      <td>25.392424</td>\n",
       "      <td>25.113932</td>\n",
       "      <td>25.213392</td>\n",
       "      <td>7.725136</td>\n",
       "      <td>2191283</td>\n",
       "      <td>NEGATIVE</td>\n",
       "      <td>5.0</td>\n",
       "      <td>5.5</td>\n",
       "      <td>69.7</td>\n",
       "      <td>168.8</td>\n",
       "      <td>2.8</td>\n",
       "    </tr>\n",
       "    <tr>\n",
       "      <th>3</th>\n",
       "      <td>6/01/2000</td>\n",
       "      <td>25.362585</td>\n",
       "      <td>25.362585</td>\n",
       "      <td>24.666357</td>\n",
       "      <td>24.716087</td>\n",
       "      <td>7.572770</td>\n",
       "      <td>1505531</td>\n",
       "      <td>POSITIVE</td>\n",
       "      <td>5.0</td>\n",
       "      <td>5.5</td>\n",
       "      <td>69.7</td>\n",
       "      <td>168.8</td>\n",
       "      <td>2.8</td>\n",
       "    </tr>\n",
       "    <tr>\n",
       "      <th>4</th>\n",
       "      <td>7/01/2000</td>\n",
       "      <td>24.913021</td>\n",
       "      <td>25.113932</td>\n",
       "      <td>24.735979</td>\n",
       "      <td>24.964741</td>\n",
       "      <td>7.648952</td>\n",
       "      <td>1414040</td>\n",
       "      <td>POSITIVE</td>\n",
       "      <td>5.0</td>\n",
       "      <td>5.5</td>\n",
       "      <td>69.7</td>\n",
       "      <td>168.8</td>\n",
       "      <td>2.8</td>\n",
       "    </tr>\n",
       "  </tbody>\n",
       "</table>\n",
       "</div>"
      ],
      "text/plain": [
       "        Date       Open       High        Low      Close  Adj Close   Volume  \\\n",
       "0  3/01/2000  26.088652  26.088652  26.088652  26.088652   7.993308        0   \n",
       "1  4/01/2000  26.058813  26.058813  25.720646  25.790268   7.901886  1018072   \n",
       "2  5/01/2000  25.353634  25.392424  25.113932  25.213392   7.725136  2191283   \n",
       "3  6/01/2000  25.362585  25.362585  24.666357  24.716087   7.572770  1505531   \n",
       "4  7/01/2000  24.913021  25.113932  24.735979  24.964741   7.648952  1414040   \n",
       "\n",
       "  SENTIMENT  RBA  FED   CPI  CPIUS  CPIchange  \n",
       "0  NEGATIVE  5.0  5.5  69.7  168.8        2.8  \n",
       "1  NEGATIVE  5.0  5.5  69.7  168.8        2.8  \n",
       "2  NEGATIVE  5.0  5.5  69.7  168.8        2.8  \n",
       "3  POSITIVE  5.0  5.5  69.7  168.8        2.8  \n",
       "4  POSITIVE  5.0  5.5  69.7  168.8        2.8  "
      ]
     },
     "execution_count": 126,
     "metadata": {},
     "output_type": "execute_result"
    }
   ],
   "source": [
    "df_stock1 = pd.read_csv(\"../static/data/cba.csv\")\n",
    "# Drop the null columns where all values are null\n",
    "df_stock2 = df_stock1.dropna(axis='columns', how='all')\n",
    "# Drop the null rows\n",
    "df_stock3 = df_stock2.dropna()\n",
    "# Drop the last rows to test prediction to actual\n",
    "df_stock_less1= df_stock3.iloc[:-1,:]\n",
    "# Drop last 3 columns sentiment RBA FED\n",
    "N=3\n",
    "df = df_stock_less1.iloc[: , :-N]\n",
    "df_stock_less1.head()"
   ]
  },
  {
   "cell_type": "code",
   "execution_count": null,
   "metadata": {},
   "outputs": [],
   "source": []
  },
  {
   "cell_type": "code",
   "execution_count": null,
   "metadata": {},
   "outputs": [],
   "source": []
  },
  {
   "cell_type": "code",
   "execution_count": 127,
   "metadata": {},
   "outputs": [
    {
     "data": {
      "text/plain": [
       "<bound method NDFrame.tail of           Date       Open       High        Low      Close  Adj Close\n",
       "0    3/01/2000  26.088652  26.088652  26.088652  26.088652   7.993308\n",
       "1    4/01/2000  26.058813  26.058813  25.720646  25.790268   7.901886\n",
       "2    5/01/2000  25.353634  25.392424  25.113932  25.213392   7.725136\n",
       "3    6/01/2000  25.362585  25.362585  24.666357  24.716087   7.572770\n",
       "4    7/01/2000  24.913021  25.113932  24.735979  24.964741   7.648952\n",
       "5   10/01/2000  25.362585  25.621183  25.312855  25.561506   7.831795\n",
       "6   11/01/2000  25.531670  25.551561  25.084093  25.148745   7.705329\n",
       "7   12/01/2000  25.056246  25.462046  25.014471  25.312855   7.755611\n",
       "8   13/01/2000  25.312855  25.511778  25.004524  25.113932   7.694664\n",
       "9   14/01/2000  25.211405  25.511778  25.143770  25.445139   7.796141\n",
       "10  17/01/2000  25.561506  25.810160  25.442154  25.750483   7.889696\n",
       "11  18/01/2000  25.710699  25.760429  25.462046  25.674892   7.866538\n",
       "12  19/01/2000  25.462046  25.462046  25.163664  25.163664   7.709899\n",
       "13  20/01/2000  25.212399  25.501831  25.153717  25.462046   7.801324\n",
       "14  21/01/2000  25.261135  25.412315  25.261135  25.392424   7.779993\n",
       "15  24/01/2000  25.402369  25.750483  25.402369  25.462046   7.801324\n",
       "16  25/01/2000  25.143770  25.362585  25.113932  25.312855   7.755611\n",
       "17  26/01/2000  25.312855  25.312855  25.312855  25.312855   7.755611\n",
       "18  27/01/2000  25.263124  25.810160  25.263124  25.730591   7.883601\n",
       "19  28/01/2000  25.740538  26.406927  25.740538  26.118490   8.002451\n",
       "20  31/01/2000  25.757446  26.058813  25.660969  25.959352   7.953693\n",
       "21   1/02/2000  25.959352  26.009083  25.462046  25.527691   7.821437\n",
       "22   2/02/2000  25.521723  25.760429  25.362585  25.515755   7.817780\n",
       "23   3/02/2000  25.453094  25.453094  24.954794  25.064201   7.679428\n",
       "24   4/02/2000  25.064201  25.760429  25.064201  25.422262   7.789133\n",
       "25   7/02/2000  25.362585  25.820107  25.312855  25.531670   7.822654\n",
       "26   8/02/2000  25.531670  25.631130  25.312855  25.408337   7.784868\n",
       "27   9/02/2000  25.462046  25.810160  25.233286  25.660969   7.862272\n",
       "28  10/02/2000  25.561506  26.108543  25.561506  26.006098   7.968016\n",
       "29  11/02/2000  25.859892  26.635687  25.859892  26.363165   8.077417\n",
       "30  14/02/2000  26.058813  26.665525  26.058813  26.462626   8.107893\n",
       "31  15/02/2000  26.572033  27.003693  26.572033  27.003693   8.273668\n",
       "32  16/02/2000  27.003693  27.351807  26.655581  26.735147   8.191390\n",
       "33  17/02/2000  25.849943  26.347250  25.849943  25.959352   8.129097\n",
       "34  18/02/2000  25.959352  26.158274  25.760429  26.024000   8.149342\n",
       "35  21/02/2000  24.946838  26.068760  24.946838  25.670914   8.038774\n",
       "36  22/02/2000  25.561506  26.009083  25.561506  25.923546   8.117887\n",
       "37  23/02/2000  25.859892  26.178165  25.859892  26.038921   8.154014\n",
       "38  24/02/2000  25.859892  26.068760  25.660969  25.867847   8.100443\n",
       "39  25/02/2000  25.456078  26.009083  25.456078  25.830051   8.088607\n",
       "40  28/02/2000  25.569464  25.660969  25.084093  25.099012   7.859685\n",
       "41  29/02/2000  25.362585  25.362585  24.805603  24.857323   7.784001\n",
       "42   1/03/2000  24.865278  25.849943  24.616627  25.660969   8.035658\n",
       "43   2/03/2000  25.660969  25.660969  25.213392  25.511778   7.988940\n",
       "44   3/03/2000  25.362585  25.412315  24.755873  25.104980   7.861554\n",
       "45   6/03/2000  25.160679  25.362585  24.765818  24.865278   7.786495\n",
       "46   7/03/2000  24.558939  24.855333  24.467436  24.566896   7.693056\n",
       "47   8/03/2000  24.566896  24.566896  24.566896  24.566896   7.693056\n",
       "48   9/03/2000  24.566896  24.566896  24.566896  24.566896   7.693056\n",
       "49  10/03/2000  22.478212  23.353470  22.368805  22.876057   7.163571\n",
       "50  13/03/2000  22.975517  23.273901  22.846218  22.995411   7.200949\n",
       "51  14/03/2000  22.975517  23.363417  22.925789  22.975517   7.194718\n",
       "52  15/03/2000  22.975517  23.423094  22.895948  23.383308   7.322415\n",
       "53  16/03/2000  23.761261  23.771208  23.174440  23.177423   7.257941\n",
       "54  17/03/2000  23.563334  23.563334  22.876057  22.876057   7.163571\n",
       "55  20/03/2000  22.876057  22.965572  22.746758  22.866112   7.160458\n",
       "56  21/03/2000  22.876057  22.876057  22.488159  22.547834   7.060788\n",
       "57  22/03/2000  22.677135  22.756704  22.527943  22.537889   7.057676\n",
       "58  23/03/2000  22.655252  22.726866  22.329021  22.428482   7.023416\n",
       "59  24/03/2000  22.428482  22.567728  22.239506  22.507055   7.048021>"
      ]
     },
     "execution_count": 127,
     "metadata": {},
     "output_type": "execute_result"
    }
   ],
   "source": [
    "import pandas as pd\n",
    "df_cba = pd.read_csv(\"../static/data/cba.csv\")\n",
    "df_cba = df_cba.dropna()\n",
    "df_cba = df_cba.iloc[0:60,:6]\n",
    "df_cba.tail"
   ]
  },
  {
   "cell_type": "code",
   "execution_count": 128,
   "metadata": {},
   "outputs": [
    {
     "name": "stdout",
     "output_type": "stream",
     "text": [
      "[{\"Date\":\"3\\/01\\/2000\",\"Open\":26.088652,\"High\":26.088652,\"Low\":26.088652,\"Close\":26.088652,\"Adj Close\":7.993308},{\"Date\":\"4\\/01\\/2000\",\"Open\":26.058813,\"High\":26.058813,\"Low\":25.720646,\"Close\":25.790268,\"Adj Close\":7.901886},{\"Date\":\"5\\/01\\/2000\",\"Open\":25.353634,\"High\":25.392424,\"Low\":25.113932,\"Close\":25.213392,\"Adj Close\":7.725136},{\"Date\":\"6\\/01\\/2000\",\"Open\":25.362585,\"High\":25.362585,\"Low\":24.666357,\"Close\":24.716087,\"Adj Close\":7.57277},{\"Date\":\"7\\/01\\/2000\",\"Open\":24.913021,\"High\":25.113932,\"Low\":24.735979,\"Close\":24.964741,\"Adj Close\":7.648952},{\"Date\":\"10\\/01\\/2000\",\"Open\":25.362585,\"High\":25.621183,\"Low\":25.312855,\"Close\":25.561506,\"Adj Close\":7.831795},{\"Date\":\"11\\/01\\/2000\",\"Open\":25.53167,\"High\":25.551561,\"Low\":25.084093,\"Close\":25.148745,\"Adj Close\":7.705329},{\"Date\":\"12\\/01\\/2000\",\"Open\":25.056246,\"High\":25.462046,\"Low\":25.014471,\"Close\":25.312855,\"Adj Close\":7.755611},{\"Date\":\"13\\/01\\/2000\",\"Open\":25.312855,\"High\":25.511778,\"Low\":25.004524,\"Close\":25.113932,\"Adj Close\":7.694664},{\"Date\":\"14\\/01\\/2000\",\"Open\":25.211405,\"High\":25.511778,\"Low\":25.14377,\"Close\":25.445139,\"Adj Close\":7.796141},{\"Date\":\"17\\/01\\/2000\",\"Open\":25.561506,\"High\":25.81016,\"Low\":25.442154,\"Close\":25.750483,\"Adj Close\":7.889696},{\"Date\":\"18\\/01\\/2000\",\"Open\":25.710699,\"High\":25.760429,\"Low\":25.462046,\"Close\":25.674892,\"Adj Close\":7.866538},{\"Date\":\"19\\/01\\/2000\",\"Open\":25.462046,\"High\":25.462046,\"Low\":25.163664,\"Close\":25.163664,\"Adj Close\":7.709899},{\"Date\":\"20\\/01\\/2000\",\"Open\":25.212399,\"High\":25.501831,\"Low\":25.153717,\"Close\":25.462046,\"Adj Close\":7.801324},{\"Date\":\"21\\/01\\/2000\",\"Open\":25.261135,\"High\":25.412315,\"Low\":25.261135,\"Close\":25.392424,\"Adj Close\":7.779993},{\"Date\":\"24\\/01\\/2000\",\"Open\":25.402369,\"High\":25.750483,\"Low\":25.402369,\"Close\":25.462046,\"Adj Close\":7.801324},{\"Date\":\"25\\/01\\/2000\",\"Open\":25.14377,\"High\":25.362585,\"Low\":25.113932,\"Close\":25.312855,\"Adj Close\":7.755611},{\"Date\":\"26\\/01\\/2000\",\"Open\":25.312855,\"High\":25.312855,\"Low\":25.312855,\"Close\":25.312855,\"Adj Close\":7.755611},{\"Date\":\"27\\/01\\/2000\",\"Open\":25.263124,\"High\":25.81016,\"Low\":25.263124,\"Close\":25.730591,\"Adj Close\":7.883601},{\"Date\":\"28\\/01\\/2000\",\"Open\":25.740538,\"High\":26.406927,\"Low\":25.740538,\"Close\":26.11849,\"Adj Close\":8.002451},{\"Date\":\"31\\/01\\/2000\",\"Open\":25.757446,\"High\":26.058813,\"Low\":25.660969,\"Close\":25.959352,\"Adj Close\":7.953693},{\"Date\":\"1\\/02\\/2000\",\"Open\":25.959352,\"High\":26.009083,\"Low\":25.462046,\"Close\":25.527691,\"Adj Close\":7.821437},{\"Date\":\"2\\/02\\/2000\",\"Open\":25.521723,\"High\":25.760429,\"Low\":25.362585,\"Close\":25.515755,\"Adj Close\":7.81778},{\"Date\":\"3\\/02\\/2000\",\"Open\":25.453094,\"High\":25.453094,\"Low\":24.954794,\"Close\":25.064201,\"Adj Close\":7.679428},{\"Date\":\"4\\/02\\/2000\",\"Open\":25.064201,\"High\":25.760429,\"Low\":25.064201,\"Close\":25.422262,\"Adj Close\":7.789133},{\"Date\":\"7\\/02\\/2000\",\"Open\":25.362585,\"High\":25.820107,\"Low\":25.312855,\"Close\":25.53167,\"Adj Close\":7.822654},{\"Date\":\"8\\/02\\/2000\",\"Open\":25.53167,\"High\":25.63113,\"Low\":25.312855,\"Close\":25.408337,\"Adj Close\":7.784868},{\"Date\":\"9\\/02\\/2000\",\"Open\":25.462046,\"High\":25.81016,\"Low\":25.233286,\"Close\":25.660969,\"Adj Close\":7.862272},{\"Date\":\"10\\/02\\/2000\",\"Open\":25.561506,\"High\":26.108543,\"Low\":25.561506,\"Close\":26.006098,\"Adj Close\":7.968016},{\"Date\":\"11\\/02\\/2000\",\"Open\":25.859892,\"High\":26.635687,\"Low\":25.859892,\"Close\":26.363165,\"Adj Close\":8.077417},{\"Date\":\"14\\/02\\/2000\",\"Open\":26.058813,\"High\":26.665525,\"Low\":26.058813,\"Close\":26.462626,\"Adj Close\":8.107893},{\"Date\":\"15\\/02\\/2000\",\"Open\":26.572033,\"High\":27.003693,\"Low\":26.572033,\"Close\":27.003693,\"Adj Close\":8.273668},{\"Date\":\"16\\/02\\/2000\",\"Open\":27.003693,\"High\":27.351807,\"Low\":26.655581,\"Close\":26.735147,\"Adj Close\":8.19139},{\"Date\":\"17\\/02\\/2000\",\"Open\":25.849943,\"High\":26.34725,\"Low\":25.849943,\"Close\":25.959352,\"Adj Close\":8.129097},{\"Date\":\"18\\/02\\/2000\",\"Open\":25.959352,\"High\":26.158274,\"Low\":25.760429,\"Close\":26.024,\"Adj Close\":8.149342},{\"Date\":\"21\\/02\\/2000\",\"Open\":24.946838,\"High\":26.06876,\"Low\":24.946838,\"Close\":25.670914,\"Adj Close\":8.038774},{\"Date\":\"22\\/02\\/2000\",\"Open\":25.561506,\"High\":26.009083,\"Low\":25.561506,\"Close\":25.923546,\"Adj Close\":8.117887},{\"Date\":\"23\\/02\\/2000\",\"Open\":25.859892,\"High\":26.178165,\"Low\":25.859892,\"Close\":26.038921,\"Adj Close\":8.154014},{\"Date\":\"24\\/02\\/2000\",\"Open\":25.859892,\"High\":26.06876,\"Low\":25.660969,\"Close\":25.867847,\"Adj Close\":8.100443},{\"Date\":\"25\\/02\\/2000\",\"Open\":25.456078,\"High\":26.009083,\"Low\":25.456078,\"Close\":25.830051,\"Adj Close\":8.088607},{\"Date\":\"28\\/02\\/2000\",\"Open\":25.569464,\"High\":25.660969,\"Low\":25.084093,\"Close\":25.099012,\"Adj Close\":7.859685},{\"Date\":\"29\\/02\\/2000\",\"Open\":25.362585,\"High\":25.362585,\"Low\":24.805603,\"Close\":24.857323,\"Adj Close\":7.784001},{\"Date\":\"1\\/03\\/2000\",\"Open\":24.865278,\"High\":25.849943,\"Low\":24.616627,\"Close\":25.660969,\"Adj Close\":8.035658},{\"Date\":\"2\\/03\\/2000\",\"Open\":25.660969,\"High\":25.660969,\"Low\":25.213392,\"Close\":25.511778,\"Adj Close\":7.98894},{\"Date\":\"3\\/03\\/2000\",\"Open\":25.362585,\"High\":25.412315,\"Low\":24.755873,\"Close\":25.10498,\"Adj Close\":7.861554},{\"Date\":\"6\\/03\\/2000\",\"Open\":25.160679,\"High\":25.362585,\"Low\":24.765818,\"Close\":24.865278,\"Adj Close\":7.786495},{\"Date\":\"7\\/03\\/2000\",\"Open\":24.558939,\"High\":24.855333,\"Low\":24.467436,\"Close\":24.566896,\"Adj Close\":7.693056},{\"Date\":\"8\\/03\\/2000\",\"Open\":24.566896,\"High\":24.566896,\"Low\":24.566896,\"Close\":24.566896,\"Adj Close\":7.693056},{\"Date\":\"9\\/03\\/2000\",\"Open\":24.566896,\"High\":24.566896,\"Low\":24.566896,\"Close\":24.566896,\"Adj Close\":7.693056},{\"Date\":\"10\\/03\\/2000\",\"Open\":22.478212,\"High\":23.35347,\"Low\":22.368805,\"Close\":22.876057,\"Adj Close\":7.163571},{\"Date\":\"13\\/03\\/2000\",\"Open\":22.975517,\"High\":23.273901,\"Low\":22.846218,\"Close\":22.995411,\"Adj Close\":7.200949},{\"Date\":\"14\\/03\\/2000\",\"Open\":22.975517,\"High\":23.363417,\"Low\":22.925789,\"Close\":22.975517,\"Adj Close\":7.194718},{\"Date\":\"15\\/03\\/2000\",\"Open\":22.975517,\"High\":23.423094,\"Low\":22.895948,\"Close\":23.383308,\"Adj Close\":7.322415},{\"Date\":\"16\\/03\\/2000\",\"Open\":23.761261,\"High\":23.771208,\"Low\":23.17444,\"Close\":23.177423,\"Adj Close\":7.257941},{\"Date\":\"17\\/03\\/2000\",\"Open\":23.563334,\"High\":23.563334,\"Low\":22.876057,\"Close\":22.876057,\"Adj Close\":7.163571},{\"Date\":\"20\\/03\\/2000\",\"Open\":22.876057,\"High\":22.965572,\"Low\":22.746758,\"Close\":22.866112,\"Adj Close\":7.160458},{\"Date\":\"21\\/03\\/2000\",\"Open\":22.876057,\"High\":22.876057,\"Low\":22.488159,\"Close\":22.547834,\"Adj Close\":7.060788},{\"Date\":\"22\\/03\\/2000\",\"Open\":22.677135,\"High\":22.756704,\"Low\":22.527943,\"Close\":22.537889,\"Adj Close\":7.057676},{\"Date\":\"23\\/03\\/2000\",\"Open\":22.655252,\"High\":22.726866,\"Low\":22.329021,\"Close\":22.428482,\"Adj Close\":7.023416},{\"Date\":\"24\\/03\\/2000\",\"Open\":22.428482,\"High\":22.567728,\"Low\":22.239506,\"Close\":22.507055,\"Adj Close\":7.048021}]\n"
     ]
    }
   ],
   "source": [
    "cba_json = df_cba.to_json(orient='records')\n",
    "print(cba_json)"
   ]
  },
  {
   "cell_type": "code",
   "execution_count": 129,
   "metadata": {},
   "outputs": [
    {
     "name": "stdout",
     "output_type": "stream",
     "text": [
      "[{'Date': '3/01/2000', 'Open': 26.088652, 'High': 26.088652, 'Low': 26.088652, 'Close': 26.088652, 'Adj Close': 7.993308}, {'Date': '4/01/2000', 'Open': 26.058813, 'High': 26.058813, 'Low': 25.720646, 'Close': 25.790268, 'Adj Close': 7.901886}, {'Date': '5/01/2000', 'Open': 25.353634, 'High': 25.392424, 'Low': 25.113932, 'Close': 25.213392, 'Adj Close': 7.725136}, {'Date': '6/01/2000', 'Open': 25.362585, 'High': 25.362585, 'Low': 24.666357, 'Close': 24.716087, 'Adj Close': 7.57277}, {'Date': '7/01/2000', 'Open': 24.913021, 'High': 25.113932, 'Low': 24.735979, 'Close': 24.964741, 'Adj Close': 7.648952}, {'Date': '10/01/2000', 'Open': 25.362585, 'High': 25.621183, 'Low': 25.312855, 'Close': 25.561506, 'Adj Close': 7.831795}, {'Date': '11/01/2000', 'Open': 25.53167, 'High': 25.551561, 'Low': 25.084093, 'Close': 25.148745, 'Adj Close': 7.705329}, {'Date': '12/01/2000', 'Open': 25.056246, 'High': 25.462046, 'Low': 25.014471, 'Close': 25.312855, 'Adj Close': 7.755611}, {'Date': '13/01/2000', 'Open': 25.312855, 'High': 25.511778, 'Low': 25.004524, 'Close': 25.113932, 'Adj Close': 7.694664}, {'Date': '14/01/2000', 'Open': 25.211405, 'High': 25.511778, 'Low': 25.14377, 'Close': 25.445139, 'Adj Close': 7.796141}, {'Date': '17/01/2000', 'Open': 25.561506, 'High': 25.81016, 'Low': 25.442154, 'Close': 25.750483, 'Adj Close': 7.889696}, {'Date': '18/01/2000', 'Open': 25.710699, 'High': 25.760429, 'Low': 25.462046, 'Close': 25.674892, 'Adj Close': 7.866538}, {'Date': '19/01/2000', 'Open': 25.462046, 'High': 25.462046, 'Low': 25.163664, 'Close': 25.163664, 'Adj Close': 7.709899}, {'Date': '20/01/2000', 'Open': 25.212399, 'High': 25.501831, 'Low': 25.153717, 'Close': 25.462046, 'Adj Close': 7.801324}, {'Date': '21/01/2000', 'Open': 25.261135, 'High': 25.412315, 'Low': 25.261135, 'Close': 25.392424, 'Adj Close': 7.779993}, {'Date': '24/01/2000', 'Open': 25.402369, 'High': 25.750483, 'Low': 25.402369, 'Close': 25.462046, 'Adj Close': 7.801324}, {'Date': '25/01/2000', 'Open': 25.14377, 'High': 25.362585, 'Low': 25.113932, 'Close': 25.312855, 'Adj Close': 7.755611}, {'Date': '26/01/2000', 'Open': 25.312855, 'High': 25.312855, 'Low': 25.312855, 'Close': 25.312855, 'Adj Close': 7.755611}, {'Date': '27/01/2000', 'Open': 25.263124, 'High': 25.81016, 'Low': 25.263124, 'Close': 25.730591, 'Adj Close': 7.883601}, {'Date': '28/01/2000', 'Open': 25.740538, 'High': 26.406927, 'Low': 25.740538, 'Close': 26.11849, 'Adj Close': 8.002451}, {'Date': '31/01/2000', 'Open': 25.757446, 'High': 26.058813, 'Low': 25.660969, 'Close': 25.959352, 'Adj Close': 7.953693}, {'Date': '1/02/2000', 'Open': 25.959352, 'High': 26.009083, 'Low': 25.462046, 'Close': 25.527691, 'Adj Close': 7.821437}, {'Date': '2/02/2000', 'Open': 25.521723, 'High': 25.760429, 'Low': 25.362585, 'Close': 25.515755, 'Adj Close': 7.81778}, {'Date': '3/02/2000', 'Open': 25.453094, 'High': 25.453094, 'Low': 24.954794, 'Close': 25.064201, 'Adj Close': 7.679428}, {'Date': '4/02/2000', 'Open': 25.064201, 'High': 25.760429, 'Low': 25.064201, 'Close': 25.422262, 'Adj Close': 7.789133}, {'Date': '7/02/2000', 'Open': 25.362585, 'High': 25.820107, 'Low': 25.312855, 'Close': 25.53167, 'Adj Close': 7.822654}, {'Date': '8/02/2000', 'Open': 25.53167, 'High': 25.63113, 'Low': 25.312855, 'Close': 25.408337, 'Adj Close': 7.784868}, {'Date': '9/02/2000', 'Open': 25.462046, 'High': 25.81016, 'Low': 25.233286, 'Close': 25.660969, 'Adj Close': 7.862272}, {'Date': '10/02/2000', 'Open': 25.561506, 'High': 26.108543, 'Low': 25.561506, 'Close': 26.006098, 'Adj Close': 7.968016}, {'Date': '11/02/2000', 'Open': 25.859892, 'High': 26.635687, 'Low': 25.859892, 'Close': 26.363165, 'Adj Close': 8.077417}, {'Date': '14/02/2000', 'Open': 26.058813, 'High': 26.665525, 'Low': 26.058813, 'Close': 26.462626, 'Adj Close': 8.107893}, {'Date': '15/02/2000', 'Open': 26.572033, 'High': 27.003693, 'Low': 26.572033, 'Close': 27.003693, 'Adj Close': 8.273668}, {'Date': '16/02/2000', 'Open': 27.003693, 'High': 27.351807, 'Low': 26.655581, 'Close': 26.735147, 'Adj Close': 8.19139}, {'Date': '17/02/2000', 'Open': 25.849943, 'High': 26.34725, 'Low': 25.849943, 'Close': 25.959352, 'Adj Close': 8.129097}, {'Date': '18/02/2000', 'Open': 25.959352, 'High': 26.158274, 'Low': 25.760429, 'Close': 26.024, 'Adj Close': 8.149342}, {'Date': '21/02/2000', 'Open': 24.946838, 'High': 26.06876, 'Low': 24.946838, 'Close': 25.670914, 'Adj Close': 8.038774}, {'Date': '22/02/2000', 'Open': 25.561506, 'High': 26.009083, 'Low': 25.561506, 'Close': 25.923546, 'Adj Close': 8.117887}, {'Date': '23/02/2000', 'Open': 25.859892, 'High': 26.178165, 'Low': 25.859892, 'Close': 26.038921, 'Adj Close': 8.154014}, {'Date': '24/02/2000', 'Open': 25.859892, 'High': 26.06876, 'Low': 25.660969, 'Close': 25.867847, 'Adj Close': 8.100443}, {'Date': '25/02/2000', 'Open': 25.456078, 'High': 26.009083, 'Low': 25.456078, 'Close': 25.830051, 'Adj Close': 8.088607}, {'Date': '28/02/2000', 'Open': 25.569464, 'High': 25.660969, 'Low': 25.084093, 'Close': 25.099012, 'Adj Close': 7.859685}, {'Date': '29/02/2000', 'Open': 25.362585, 'High': 25.362585, 'Low': 24.805603, 'Close': 24.857323, 'Adj Close': 7.784001}, {'Date': '1/03/2000', 'Open': 24.865278, 'High': 25.849943, 'Low': 24.616627, 'Close': 25.660969, 'Adj Close': 8.035658}, {'Date': '2/03/2000', 'Open': 25.660969, 'High': 25.660969, 'Low': 25.213392, 'Close': 25.511778, 'Adj Close': 7.98894}, {'Date': '3/03/2000', 'Open': 25.362585, 'High': 25.412315, 'Low': 24.755873, 'Close': 25.10498, 'Adj Close': 7.861554}, {'Date': '6/03/2000', 'Open': 25.160679, 'High': 25.362585, 'Low': 24.765818, 'Close': 24.865278, 'Adj Close': 7.786495}, {'Date': '7/03/2000', 'Open': 24.558939, 'High': 24.855333, 'Low': 24.467436, 'Close': 24.566896, 'Adj Close': 7.693056}, {'Date': '8/03/2000', 'Open': 24.566896, 'High': 24.566896, 'Low': 24.566896, 'Close': 24.566896, 'Adj Close': 7.693056}, {'Date': '9/03/2000', 'Open': 24.566896, 'High': 24.566896, 'Low': 24.566896, 'Close': 24.566896, 'Adj Close': 7.693056}, {'Date': '10/03/2000', 'Open': 22.478212, 'High': 23.35347, 'Low': 22.368805, 'Close': 22.876057, 'Adj Close': 7.163571}, {'Date': '13/03/2000', 'Open': 22.975517, 'High': 23.273901, 'Low': 22.846218, 'Close': 22.995411, 'Adj Close': 7.200949}, {'Date': '14/03/2000', 'Open': 22.975517, 'High': 23.363417, 'Low': 22.925789, 'Close': 22.975517, 'Adj Close': 7.194718}, {'Date': '15/03/2000', 'Open': 22.975517, 'High': 23.423094, 'Low': 22.895948, 'Close': 23.383308, 'Adj Close': 7.322415}, {'Date': '16/03/2000', 'Open': 23.761261, 'High': 23.771208, 'Low': 23.17444, 'Close': 23.177423, 'Adj Close': 7.257941}, {'Date': '17/03/2000', 'Open': 23.563334, 'High': 23.563334, 'Low': 22.876057, 'Close': 22.876057, 'Adj Close': 7.163571}, {'Date': '20/03/2000', 'Open': 22.876057, 'High': 22.965572, 'Low': 22.746758, 'Close': 22.866112, 'Adj Close': 7.160458}, {'Date': '21/03/2000', 'Open': 22.876057, 'High': 22.876057, 'Low': 22.488159, 'Close': 22.547834, 'Adj Close': 7.060788}, {'Date': '22/03/2000', 'Open': 22.677135, 'High': 22.756704, 'Low': 22.527943, 'Close': 22.537889, 'Adj Close': 7.057676}, {'Date': '23/03/2000', 'Open': 22.655252, 'High': 22.726866, 'Low': 22.329021, 'Close': 22.428482, 'Adj Close': 7.023416}, {'Date': '24/03/2000', 'Open': 22.428482, 'High': 22.567728, 'Low': 22.239506, 'Close': 22.507055, 'Adj Close': 7.048021}]\n"
     ]
    }
   ],
   "source": [
    "cba_dict = df_cba.to_dict(orient='records')\n",
    "print(cba_dict)"
   ]
  },
  {
   "cell_type": "code",
   "execution_count": 130,
   "metadata": {},
   "outputs": [
    {
     "name": "stdout",
     "output_type": "stream",
     "text": [
      "<class 'pandas.core.frame.DataFrame'>\n",
      "Int64Index: 5720 entries, 0 to 5719\n",
      "Data columns (total 10 columns):\n",
      " #   Column     Non-Null Count  Dtype  \n",
      "---  ------     --------------  -----  \n",
      " 0   Date       5720 non-null   object \n",
      " 1   Open       5720 non-null   float64\n",
      " 2   High       5720 non-null   float64\n",
      " 3   Low        5720 non-null   float64\n",
      " 4   Close      5720 non-null   float64\n",
      " 5   Adj Close  5720 non-null   float64\n",
      " 6   Volume     5720 non-null   int64  \n",
      " 7   SENTIMENT  5720 non-null   object \n",
      " 8   RBA        5720 non-null   float64\n",
      " 9   FED        5720 non-null   float64\n",
      "dtypes: float64(7), int64(1), object(2)\n",
      "memory usage: 491.6+ KB\n"
     ]
    }
   ],
   "source": [
    "df.info()"
   ]
  },
  {
   "cell_type": "code",
   "execution_count": 131,
   "metadata": {},
   "outputs": [
    {
     "data": {
      "text/plain": [
       "(5720, 1)"
      ]
     },
     "execution_count": 131,
     "metadata": {},
     "output_type": "execute_result"
    }
   ],
   "source": [
    "data = df.filter(['Close'])\n",
    "dataset = data.values\n",
    "dataset.shape\n"
   ]
  },
  {
   "cell_type": "markdown",
   "metadata": {},
   "source": [
    "# # Pre-processing : Scale the data using the MinMaxScaler and split train data"
   ]
  },
  {
   "cell_type": "code",
   "execution_count": 132,
   "metadata": {},
   "outputs": [
    {
     "data": {
      "text/plain": [
       "(4576, 1)"
      ]
     },
     "execution_count": 132,
     "metadata": {},
     "output_type": "execute_result"
    }
   ],
   "source": [
    "# Scale your data\n",
    "from sklearn.preprocessing import MinMaxScaler\n",
    "\n",
    "scaler = MinMaxScaler(feature_range=(0,1))\n",
    "dataset_scaled = scaler.fit_transform(dataset)\n",
    "\n",
    "# Split into train or test\n",
    "import math\n",
    "train_data_len = math.ceil(len(dataset)*.8)\n",
    "train_data = dataset_scaled[0:train_data_len,:]\n",
    "train_data.shape\n"
   ]
  },
  {
   "cell_type": "code",
   "execution_count": 133,
   "metadata": {},
   "outputs": [
    {
     "name": "stdout",
     "output_type": "stream",
     "text": [
      "[array([0.04184307, 0.03844119, 0.03186422, 0.02619443, 0.02902934,\n",
      "       0.03583307, 0.03112717, 0.0329982 , 0.03073027, 0.03450637,\n",
      "       0.0379876 , 0.03712579, 0.03129727, 0.03469913, 0.03390536,\n",
      "       0.03469913, 0.0329982 , 0.0329982 , 0.03776081, 0.04218326,\n",
      "       0.04036892, 0.03544755, 0.03531146, 0.03016329, 0.03424555,\n",
      "       0.03549291, 0.03408679, 0.03696705, 0.04090187, 0.0449728 ,\n",
      "       0.04610676, 0.05227547, 0.04921377, 0.04036892, 0.04110597,\n",
      "       0.03708043, 0.0399607 , 0.04127609, 0.03932567, 0.03889476,\n",
      "       0.03056017, 0.02780467, 0.03696705, 0.03526612, 0.03062821,\n",
      "       0.02789536, 0.0244935 , 0.0244935 , 0.0244935 , 0.00521622,\n",
      "       0.00657697, 0.00635016, 0.01099939, 0.0086521 , 0.00521622,\n",
      "       0.00510283, 0.00147414, 0.00136076, 0.00011341, 0.00100922])]\n",
      "[0.002086477591719982]\n"
     ]
    }
   ],
   "source": [
    "X_train = []\n",
    "y_train = []\n",
    "\n",
    "for i in range (60, len(train_data)):\n",
    "    X_train.append(train_data[i-60:i,0]) # contains 60 values\n",
    "    y_train.append(train_data[i,0])   # contains 61st value\n",
    "    if i<= 60:\n",
    "        print(X_train)\n",
    "        print(y_train) \n"
   ]
  },
  {
   "cell_type": "markdown",
   "metadata": {},
   "source": [
    "# Prepare train data for LSTM model"
   ]
  },
  {
   "cell_type": "code",
   "execution_count": 134,
   "metadata": {},
   "outputs": [
    {
     "data": {
      "text/plain": [
       "(4516, 60)"
      ]
     },
     "execution_count": 134,
     "metadata": {},
     "output_type": "execute_result"
    }
   ],
   "source": [
    "# Convert list to numpy array for LSTM model:\n",
    "X_train, y_train = np.array(X_train), np.array(y_train)\n",
    "X_train.shape"
   ]
  },
  {
   "cell_type": "code",
   "execution_count": 135,
   "metadata": {},
   "outputs": [
    {
     "data": {
      "text/plain": [
       "(4516, 60, 1)"
      ]
     },
     "execution_count": 135,
     "metadata": {},
     "output_type": "execute_result"
    }
   ],
   "source": [
    "# LSTM model expects 3D, reshape:\n",
    "X_train = np.reshape(X_train, (X_train.shape[0], X_train.shape[1], 1))\n",
    "X_train.shape"
   ]
  },
  {
   "cell_type": "markdown",
   "metadata": {},
   "source": [
    "# Build the LSTM model"
   ]
  },
  {
   "cell_type": "code",
   "execution_count": 136,
   "metadata": {},
   "outputs": [],
   "source": [
    "from tensorflow.keras.models import Sequential\n",
    "from tensorflow.keras.layers import Dense, LSTM\n",
    "model = Sequential()\n",
    "model.add(LSTM(50, return_sequences=True, input_shape=(X_train.shape[1], 1)))\n",
    "model.add(LSTM(50, return_sequences=False))\n",
    "model.add(Dense(25))\n",
    "model.add(Dense(1))"
   ]
  },
  {
   "cell_type": "code",
   "execution_count": 137,
   "metadata": {},
   "outputs": [],
   "source": [
    "model.compile(optimizer='adam', loss='mean_squared_error')"
   ]
  },
  {
   "cell_type": "code",
   "execution_count": 138,
   "metadata": {},
   "outputs": [
    {
     "name": "stdout",
     "output_type": "stream",
     "text": [
      "4516/4516 [==============================] - 68s 15ms/step - loss: 7.1406e-04\n"
     ]
    },
    {
     "data": {
      "text/plain": [
       "<keras.callbacks.History at 0x124fb2ec310>"
      ]
     },
     "execution_count": 138,
     "metadata": {},
     "output_type": "execute_result"
    }
   ],
   "source": [
    "model.fit(X_train, y_train, batch_size=1, epochs=1)"
   ]
  },
  {
   "cell_type": "code",
   "execution_count": 139,
   "metadata": {},
   "outputs": [],
   "source": [
    "#Create test data\n",
    "test_data = dataset_scaled[train_data_len-60:,:]\n",
    "X_test = []\n",
    "y_test = dataset[train_data_len:,:]\n",
    "for i in range(60, len(test_data)):\n",
    " X_test.append(test_data[i-60:i,0])"
   ]
  },
  {
   "cell_type": "code",
   "execution_count": 140,
   "metadata": {},
   "outputs": [],
   "source": [
    "#Covert test data to a numpy array and reshape\n",
    "X_test = np.array(X_test)\n",
    "X_test = np.reshape(X_test, (X_test.shape[0],X_test.shape[1],1))"
   ]
  },
  {
   "cell_type": "code",
   "execution_count": 141,
   "metadata": {},
   "outputs": [],
   "source": [
    "#Get predicted prices\n",
    "predictions_lstm = model.predict(X_test)\n",
    "predictions = scaler.inverse_transform(predictions_lstm)"
   ]
  },
  {
   "cell_type": "code",
   "execution_count": 142,
   "metadata": {},
   "outputs": [
    {
     "data": {
      "text/plain": [
       "0.4665291846358294"
      ]
     },
     "execution_count": 142,
     "metadata": {},
     "output_type": "execute_result"
    }
   ],
   "source": [
    "#Get the root mean square error (RMSE) 0 being most favourable\n",
    "rmse = np.sqrt(np.mean(predictions-y_test)**2)\n",
    "rmse"
   ]
  },
  {
   "cell_type": "code",
   "execution_count": 143,
   "metadata": {},
   "outputs": [],
   "source": [
    "# date_time = df[\"Date\"]\n",
    "# date_time = pd.to_datetime(date_time)\n",
    "# data = data.set_index(date_time)"
   ]
  },
  {
   "cell_type": "markdown",
   "metadata": {},
   "source": []
  },
  {
   "cell_type": "code",
   "execution_count": 144,
   "metadata": {},
   "outputs": [
    {
     "name": "stderr",
     "output_type": "stream",
     "text": [
      "C:\\Users\\antoi\\AppData\\Local\\Temp/ipykernel_15108/2788820419.py:5: SettingWithCopyWarning: \n",
      "A value is trying to be set on a copy of a slice from a DataFrame.\n",
      "Try using .loc[row_indexer,col_indexer] = value instead\n",
      "\n",
      "See the caveats in the documentation: https://pandas.pydata.org/pandas-docs/stable/user_guide/indexing.html#returning-a-view-versus-a-copy\n",
      "  valid['Predictions'] = predictions # another column for validating test\n"
     ]
    },
    {
     "data": {
      "image/png": "[encoded data removed]",
      "text/plain": [
       "<Figure size 1152x576 with 1 Axes>"
      ]
     },
     "metadata": {},
     "output_type": "display_data"
    }
   ],
   "source": [
    "#Plot the data to validate the test data\n",
    "plt.style.use('fivethirtyeight')\n",
    "train = data.iloc[:train_data_len] # actual train data from 0 rows until train data end\n",
    "valid = data.iloc[train_data_len:] # actual test data from train data end until end of all sampled data\n",
    "valid['Predictions'] = predictions # another column for validating test\n",
    "\n",
    "plt.figure(figsize=(16,8))\n",
    "plt.title('CBA LSTM Model')\n",
    "plt.xlabel('Trading Date', fontsize=18)\n",
    "plt.ylabel('Close Price AUD ($)',fontsize=18)\n",
    "plt.plot(train['Close'])\n",
    "plt.plot(valid[['Close','Predictions']])\n",
    "plt.legend(['Training data','Validated','Tested'],loc='lower right')\n",
    "x = np.arange(2000,2024,4)\n",
    "plt.xticks([0,1000,2000,3000,4000,5000],x)\n",
    "plt.savefig('../static/data/images/cba_graph.png')\n",
    "plt.show()\n"
   ]
  },
  {
   "cell_type": "markdown",
   "metadata": {},
   "source": [
    "# Test data Predictions on the Model"
   ]
  },
  {
   "cell_type": "code",
   "execution_count": 145,
   "metadata": {},
   "outputs": [
    {
     "name": "stderr",
     "output_type": "stream",
     "text": [
      "C:\\Users\\antoi\\AppData\\Local\\Temp/ipykernel_15108/3952761259.py:1: SettingWithCopyWarning: \n",
      "A value is trying to be set on a copy of a slice from a DataFrame.\n",
      "Try using .loc[row_indexer,col_indexer] = value instead\n",
      "\n",
      "See the caveats in the documentation: https://pandas.pydata.org/pandas-docs/stable/user_guide/indexing.html#returning-a-view-versus-a-copy\n",
      "  valid['Difference']= valid['Close']-valid['Predictions']\n"
     ]
    },
    {
     "data": {
      "text/html": [
       "<div>\n",
       "<style scoped>\n",
       "    .dataframe tbody tr th:only-of-type {\n",
       "        vertical-align: middle;\n",
       "    }\n",
       "\n",
       "    .dataframe tbody tr th {\n",
       "        vertical-align: top;\n",
       "    }\n",
       "\n",
       "    .dataframe thead th {\n",
       "        text-align: right;\n",
       "    }\n",
       "</style>\n",
       "<table border=\"1\" class=\"dataframe\">\n",
       "  <thead>\n",
       "    <tr style=\"text-align: right;\">\n",
       "      <th></th>\n",
       "      <th>Close</th>\n",
       "      <th>Predictions</th>\n",
       "      <th>Difference</th>\n",
       "    </tr>\n",
       "  </thead>\n",
       "  <tbody>\n",
       "    <tr>\n",
       "      <th>4576</th>\n",
       "      <td>80.309998</td>\n",
       "      <td>79.382256</td>\n",
       "      <td>0.927742</td>\n",
       "    </tr>\n",
       "    <tr>\n",
       "      <th>4577</th>\n",
       "      <td>80.440002</td>\n",
       "      <td>79.738754</td>\n",
       "      <td>0.701248</td>\n",
       "    </tr>\n",
       "    <tr>\n",
       "      <th>4578</th>\n",
       "      <td>79.940002</td>\n",
       "      <td>79.996017</td>\n",
       "      <td>-0.056015</td>\n",
       "    </tr>\n",
       "    <tr>\n",
       "      <th>4579</th>\n",
       "      <td>80.010002</td>\n",
       "      <td>79.992271</td>\n",
       "      <td>0.017731</td>\n",
       "    </tr>\n",
       "    <tr>\n",
       "      <th>4580</th>\n",
       "      <td>80.300003</td>\n",
       "      <td>79.909119</td>\n",
       "      <td>0.390884</td>\n",
       "    </tr>\n",
       "    <tr>\n",
       "      <th>...</th>\n",
       "      <td>...</td>\n",
       "      <td>...</td>\n",
       "      <td>...</td>\n",
       "    </tr>\n",
       "    <tr>\n",
       "      <th>5715</th>\n",
       "      <td>87.260002</td>\n",
       "      <td>90.041824</td>\n",
       "      <td>-2.781822</td>\n",
       "    </tr>\n",
       "    <tr>\n",
       "      <th>5716</th>\n",
       "      <td>87.550003</td>\n",
       "      <td>88.652962</td>\n",
       "      <td>-1.102959</td>\n",
       "    </tr>\n",
       "    <tr>\n",
       "      <th>5717</th>\n",
       "      <td>89.669998</td>\n",
       "      <td>87.740036</td>\n",
       "      <td>1.929962</td>\n",
       "    </tr>\n",
       "    <tr>\n",
       "      <th>5718</th>\n",
       "      <td>89.570000</td>\n",
       "      <td>87.940552</td>\n",
       "      <td>1.629448</td>\n",
       "    </tr>\n",
       "    <tr>\n",
       "      <th>5719</th>\n",
       "      <td>89.750000</td>\n",
       "      <td>88.489403</td>\n",
       "      <td>1.260597</td>\n",
       "    </tr>\n",
       "  </tbody>\n",
       "</table>\n",
       "<p>1144 rows × 3 columns</p>\n",
       "</div>"
      ],
      "text/plain": [
       "          Close  Predictions  Difference\n",
       "4576  80.309998    79.382256    0.927742\n",
       "4577  80.440002    79.738754    0.701248\n",
       "4578  79.940002    79.996017   -0.056015\n",
       "4579  80.010002    79.992271    0.017731\n",
       "4580  80.300003    79.909119    0.390884\n",
       "...         ...          ...         ...\n",
       "5715  87.260002    90.041824   -2.781822\n",
       "5716  87.550003    88.652962   -1.102959\n",
       "5717  89.669998    87.740036    1.929962\n",
       "5718  89.570000    87.940552    1.629448\n",
       "5719  89.750000    88.489403    1.260597\n",
       "\n",
       "[1144 rows x 3 columns]"
      ]
     },
     "execution_count": 145,
     "metadata": {},
     "output_type": "execute_result"
    }
   ],
   "source": [
    "valid['Difference']= valid['Close']-valid['Predictions']\n",
    "valid"
   ]
  },
  {
   "cell_type": "code",
   "execution_count": 146,
   "metadata": {},
   "outputs": [],
   "source": [
    "#Get latest 60 quotes less 1 to predict:\n",
    "\n",
    "#import pandas_datareader.data as web\n",
    "#symbol = 'CBA.AX'\n",
    "#stock_quote = web.DataReader(symbol,data_source='yahoo',start='2022-01-01', end='2022-04-13')\n",
    "#stock_quotes_sixty = stock_quotes_sixty.filter(['Close'])\n",
    "#stock_quotes_sixty\n",
    "#OR use csv data "
   ]
  },
  {
   "cell_type": "code",
   "execution_count": 147,
   "metadata": {},
   "outputs": [
    {
     "data": {
      "text/plain": [
       "(60, 1)"
      ]
     },
     "execution_count": 147,
     "metadata": {},
     "output_type": "execute_result"
    }
   ],
   "source": [
    "# Use last 60 days price on model to predict next days price\n",
    "stock_quotes_sixty = df_stock_less1.tail(60)\n",
    "stock_close_sixty = stock_quotes_sixty['Close']\n",
    "last_60_days_val = stock_close_sixty[-60:].values\n",
    "last_60_days = last_60_days_val.reshape(-1,1)\n",
    "last_60_days.shape"
   ]
  },
  {
   "cell_type": "code",
   "execution_count": 148,
   "metadata": {},
   "outputs": [
    {
     "data": {
      "text/plain": [
       "(1, 60, 1)"
      ]
     },
     "execution_count": 148,
     "metadata": {},
     "output_type": "execute_result"
    }
   ],
   "source": [
    "last_60_days_scaled = scaler.transform(last_60_days)\n",
    "X_tell = []\n",
    "X_tell.append(last_60_days_scaled)\n",
    "X_tell =np.array(X_tell)\n",
    "X_tell =np.reshape(X_tell, (X_tell.shape[0], X_tell.shape[1],1))\n",
    "X_tell.shape"
   ]
  },
  {
   "cell_type": "code",
   "execution_count": 149,
   "metadata": {},
   "outputs": [
    {
     "name": "stdout",
     "output_type": "stream",
     "text": [
      "Predicted next day share price 89\n"
     ]
    }
   ],
   "source": [
    "pred_price = model.predict(X_tell)\n",
    "pred_price = scaler.inverse_transform(pred_price)\n",
    "pred_price = int(pred_price)\n",
    "print(f'Predicted next day share price {pred_price}')"
   ]
  },
  {
   "cell_type": "code",
   "execution_count": 150,
   "metadata": {},
   "outputs": [
    {
     "data": {
      "text/html": [
       "<div>\n",
       "<style scoped>\n",
       "    .dataframe tbody tr th:only-of-type {\n",
       "        vertical-align: middle;\n",
       "    }\n",
       "\n",
       "    .dataframe tbody tr th {\n",
       "        vertical-align: top;\n",
       "    }\n",
       "\n",
       "    .dataframe thead th {\n",
       "        text-align: right;\n",
       "    }\n",
       "</style>\n",
       "<table border=\"1\" class=\"dataframe\">\n",
       "  <thead>\n",
       "    <tr style=\"text-align: right;\">\n",
       "      <th></th>\n",
       "      <th>Date</th>\n",
       "      <th>Open</th>\n",
       "      <th>High</th>\n",
       "      <th>Low</th>\n",
       "      <th>Close</th>\n",
       "      <th>Adj Close</th>\n",
       "      <th>Volume</th>\n",
       "      <th>SENTIMENT</th>\n",
       "      <th>RBA</th>\n",
       "      <th>FED</th>\n",
       "      <th>CPI</th>\n",
       "      <th>CPIUS</th>\n",
       "      <th>CPIchange</th>\n",
       "    </tr>\n",
       "  </thead>\n",
       "  <tbody>\n",
       "    <tr>\n",
       "      <th>5720</th>\n",
       "      <td>24/06/2022</td>\n",
       "      <td>89.349998</td>\n",
       "      <td>90.349998</td>\n",
       "      <td>88.790001</td>\n",
       "      <td>90.160004</td>\n",
       "      <td>90.160004</td>\n",
       "      <td>2760719</td>\n",
       "      <td>NEGATIVE</td>\n",
       "      <td>0.85</td>\n",
       "      <td>1.75</td>\n",
       "      <td>125.0</td>\n",
       "      <td>288.94152</td>\n",
       "      <td>3.5</td>\n",
       "    </tr>\n",
       "  </tbody>\n",
       "</table>\n",
       "</div>"
      ],
      "text/plain": [
       "            Date       Open       High        Low      Close  Adj Close  \\\n",
       "5720  24/06/2022  89.349998  90.349998  88.790001  90.160004  90.160004   \n",
       "\n",
       "       Volume SENTIMENT   RBA   FED    CPI      CPIUS  CPIchange  \n",
       "5720  2760719  NEGATIVE  0.85  1.75  125.0  288.94152        3.5  "
      ]
     },
     "execution_count": 150,
     "metadata": {},
     "output_type": "execute_result"
    }
   ],
   "source": [
    "#stock_quote_acual = web.DataReader('CBA.AX',data_source='yahoo',start='2022-04-14', end='2022-04-14')\n",
    "#OR get last quote from latest csv\n",
    "stock_quote_last_one = df_stock1.tail(1)\n",
    "stock_quote_last_one"
   ]
  },
  {
   "cell_type": "code",
   "execution_count": 151,
   "metadata": {},
   "outputs": [
    {
     "data": {
      "text/plain": [
       "'24/06/2022'"
      ]
     },
     "execution_count": 151,
     "metadata": {},
     "output_type": "execute_result"
    }
   ],
   "source": [
    "#save actual to variable\n",
    "actual_price = stock_quote_last_one.iloc[0,4]\n",
    "actual_date = stock_quote_last_one.iloc[0,0] \n",
    "actual_price = int(actual_price)\n",
    "actual_price\n",
    "actual_date"
   ]
  },
  {
   "cell_type": "markdown",
   "metadata": {},
   "source": [
    "# Save the Model"
   ]
  },
  {
   "cell_type": "code",
   "execution_count": 152,
   "metadata": {},
   "outputs": [],
   "source": [
    "# Save the entire model to a HDF5 file.\n",
    "# The '.h5' extension indicates that the model should be saved to HDF5.\n",
    "filepath = '../static/cba_model.sav'\n",
    "model.save(filepath, save_format=\"h5\")"
   ]
  },
  {
   "cell_type": "markdown",
   "metadata": {},
   "source": [
    "#Save last 60 days to a list cba_sixty and load df"
   ]
  },
  {
   "cell_type": "code",
   "execution_count": 153,
   "metadata": {},
   "outputs": [
    {
     "data": {
      "text/html": [
       "<div>\n",
       "<style scoped>\n",
       "    .dataframe tbody tr th:only-of-type {\n",
       "        vertical-align: middle;\n",
       "    }\n",
       "\n",
       "    .dataframe tbody tr th {\n",
       "        vertical-align: top;\n",
       "    }\n",
       "\n",
       "    .dataframe thead th {\n",
       "        text-align: right;\n",
       "    }\n",
       "</style>\n",
       "<table border=\"1\" class=\"dataframe\">\n",
       "  <thead>\n",
       "    <tr style=\"text-align: right;\">\n",
       "      <th></th>\n",
       "      <th>94.510002</th>\n",
       "    </tr>\n",
       "  </thead>\n",
       "  <tbody>\n",
       "    <tr>\n",
       "      <th>55</th>\n",
       "      <td>106.169998</td>\n",
       "    </tr>\n",
       "    <tr>\n",
       "      <th>56</th>\n",
       "      <td>105.430000</td>\n",
       "    </tr>\n",
       "    <tr>\n",
       "      <th>57</th>\n",
       "      <td>106.629997</td>\n",
       "    </tr>\n",
       "    <tr>\n",
       "      <th>58</th>\n",
       "      <td>106.559998</td>\n",
       "    </tr>\n",
       "    <tr>\n",
       "      <th>59</th>\n",
       "      <td>105.919998</td>\n",
       "    </tr>\n",
       "  </tbody>\n",
       "</table>\n",
       "</div>"
      ],
      "text/plain": [
       "     94.510002\n",
       "55  106.169998\n",
       "56  105.430000\n",
       "57  106.629997\n",
       "58  106.559998\n",
       "59  105.919998"
      ]
     },
     "execution_count": 153,
     "metadata": {},
     "output_type": "execute_result"
    }
   ],
   "source": [
    "# Read in the CSV file\n",
    "df_cba_sixty = pd.read_csv(\"../static/data/cba_sixty.csv\")\n",
    "df_cba_sixty.tail()"
   ]
  },
  {
   "cell_type": "code",
   "execution_count": 154,
   "metadata": {},
   "outputs": [
    {
     "data": {
      "text/plain": [
       "(60, 1)"
      ]
     },
     "execution_count": 154,
     "metadata": {},
     "output_type": "execute_result"
    }
   ],
   "source": [
    "close_sixty_val = df_cba_sixty[-60:].values\n",
    "last_sixty = close_sixty_val.reshape(-1,1)\n",
    "last_sixty.shape"
   ]
  },
  {
   "cell_type": "code",
   "execution_count": 155,
   "metadata": {},
   "outputs": [
    {
     "data": {
      "text/plain": [
       "(1, 60, 1)"
      ]
     },
     "execution_count": 155,
     "metadata": {},
     "output_type": "execute_result"
    }
   ],
   "source": [
    "last_sixty_scaled = scaler.transform(last_sixty)\n",
    "new_X_tell = []\n",
    "new_X_tell.append(last_sixty_scaled)\n",
    "new_X_tell =np.array(new_X_tell)\n",
    "new_X_tell =np.reshape(new_X_tell, (new_X_tell.shape[0], new_X_tell.shape[1],1))\n",
    "new_X_tell.shape"
   ]
  },
  {
   "cell_type": "code",
   "execution_count": 156,
   "metadata": {},
   "outputs": [],
   "source": [
    "#PREDICT USING LOADED MODEL"
   ]
  },
  {
   "cell_type": "code",
   "execution_count": 157,
   "metadata": {},
   "outputs": [],
   "source": [
    "from keras.models import load_model"
   ]
  },
  {
   "cell_type": "code",
   "execution_count": 158,
   "metadata": {},
   "outputs": [],
   "source": [
    "model_in = load_model('../static/cba_model.sav')"
   ]
  },
  {
   "cell_type": "code",
   "execution_count": 159,
   "metadata": {},
   "outputs": [
    {
     "data": {
      "text/plain": [
       "array([[0.9524311]], dtype=float32)"
      ]
     },
     "execution_count": 159,
     "metadata": {},
     "output_type": "execute_result"
    }
   ],
   "source": [
    "model_in_pd_scale = model_in.predict(new_X_tell)\n",
    "model_in_pd_scale"
   ]
  },
  {
   "cell_type": "code",
   "execution_count": 160,
   "metadata": {},
   "outputs": [
    {
     "name": "stdout",
     "output_type": "stream",
     "text": [
      "Predicted next day share price [[105.95766]]\n"
     ]
    }
   ],
   "source": [
    "model_in_price = scaler.inverse_transform(model_in_pd_scale)\n",
    "#model_in_price_int = int(model_in_price)\n",
    "print(f'Predicted next day share price {model_in_price}')"
   ]
  },
  {
   "cell_type": "code",
   "execution_count": 163,
   "metadata": {},
   "outputs": [
    {
     "data": {
      "text/plain": [
       "(60, 1)"
      ]
     },
     "execution_count": 163,
     "metadata": {},
     "output_type": "execute_result"
    }
   ],
   "source": [
    "df_cba = pd.read_csv(\"../static/data/cba.csv\")\n",
    "df_cba = df_cba.dropna()\n",
    "cbadump_sixty = df_cba.iloc[-4250:]\n",
    "sixty_val = cbadump_sixty.iloc[-60:,4].values\n",
    "last_sixty = sixty_val.reshape(-1,1)\n",
    "last_sixty.shape"
   ]
  },
  {
   "cell_type": "markdown",
   "metadata": {},
   "source": [
    "#Create a function to loop through the days input"
   ]
  },
  {
   "cell_type": "code",
   "execution_count": 164,
   "metadata": {},
   "outputs": [],
   "source": [
    "from keras.models import load_model\n",
    "model_in = load_model('../static/cba_model.sav')\n",
    "from sklearn.preprocessing import MinMaxScaler\n",
    "scaler = MinMaxScaler(feature_range=(0,1))\n",
    "\n",
    "# Read in the CSV file\n",
    "\n",
    "cbadump_sixty = pd.read_csv(\"../static/data/cba.csv\")\n",
    "cbadump_sixty = cbadump_sixty.dropna()\n",
    "cbadump_sixty = cbadump_sixty.iloc[-4250:]\n",
    "sixty_val = cbadump_sixty.iloc[-60:,4].values\n",
    "last_sixty = sixty_val.reshape(-1,1)\n",
    "\n",
    "price_list=[]\n",
    "\n",
    "#Function to predict future days predicted price, in loop\n",
    "input = 100 #days\n",
    "if input == \"\":\n",
    "    input = 100\n",
    "else:\n",
    "   input = int(input)\n",
    "\n",
    "def predict_cba(last_sixty,model_in,input):\n",
    "    for i in range(0, input):\n",
    "\n",
    "        #Takes df and converts to model's predict shape\n",
    "        last_sixty_scaled = scaler.fit_transform(last_sixty)\n",
    "        new_X_tell = []\n",
    "        new_X_tell.append(last_sixty_scaled)\n",
    "        new_X_tell =np.array(new_X_tell)\n",
    "        new_X_tell =np.reshape(new_X_tell, (new_X_tell.shape[0], new_X_tell.shape[1],1))\n",
    "        \n",
    "        model_in_pd_scale = model_in.predict(new_X_tell)\n",
    "        model_in_price = scaler.inverse_transform(model_in_pd_scale) # New price predicted\n",
    "\n",
    "        last_sixty_less_one = np.delete(last_sixty, 0, 0)\n",
    "        last_sixty = np.append(last_sixty_less_one, model_in_price,axis = 0) # Update last 60\n",
    "        print(i)\n",
    "        print(\"Day finished! Price: \")\n",
    "        price_float = float(model_in_price)\n",
    "        price = round(price_float, 2)\n",
    "        price_list.append(price)\n",
    "    else:\n",
    "        print(\"Could not predict further!\")\n",
    "        print(input)\n",
    "    print(price_list)\n",
    "   "
   ]
  },
  {
   "cell_type": "code",
   "execution_count": 165,
   "metadata": {},
   "outputs": [
    {
     "name": "stdout",
     "output_type": "stream",
     "text": [
      "0\n",
      "Day finished! Price: \n",
      "1\n",
      "Day finished! Price: \n",
      "2\n",
      "Day finished! Price: \n",
      "3\n",
      "Day finished! Price: \n",
      "4\n",
      "Day finished! Price: \n",
      "5\n",
      "Day finished! Price: \n",
      "6\n",
      "Day finished! Price: \n",
      "7\n",
      "Day finished! Price: \n",
      "8\n",
      "Day finished! Price: \n",
      "9\n",
      "Day finished! Price: \n",
      "10\n",
      "Day finished! Price: \n",
      "11\n",
      "Day finished! Price: \n",
      "12\n",
      "Day finished! Price: \n",
      "13\n",
      "Day finished! Price: \n",
      "14\n",
      "Day finished! Price: \n",
      "15\n",
      "Day finished! Price: \n",
      "16\n",
      "Day finished! Price: \n",
      "17\n",
      "Day finished! Price: \n",
      "18\n",
      "Day finished! Price: \n",
      "19\n",
      "Day finished! Price: \n",
      "20\n",
      "Day finished! Price: \n",
      "21\n",
      "Day finished! Price: \n",
      "22\n",
      "Day finished! Price: \n",
      "23\n",
      "Day finished! Price: \n",
      "24\n",
      "Day finished! Price: \n",
      "25\n",
      "Day finished! Price: \n",
      "26\n",
      "Day finished! Price: \n",
      "27\n",
      "Day finished! Price: \n",
      "28\n",
      "Day finished! Price: \n",
      "29\n",
      "Day finished! Price: \n",
      "30\n",
      "Day finished! Price: \n",
      "31\n",
      "Day finished! Price: \n",
      "32\n",
      "Day finished! Price: \n",
      "33\n",
      "Day finished! Price: \n",
      "34\n",
      "Day finished! Price: \n",
      "35\n",
      "Day finished! Price: \n",
      "36\n",
      "Day finished! Price: \n",
      "37\n",
      "Day finished! Price: \n",
      "38\n",
      "Day finished! Price: \n",
      "39\n",
      "Day finished! Price: \n",
      "40\n",
      "Day finished! Price: \n",
      "41\n",
      "Day finished! Price: \n",
      "42\n",
      "Day finished! Price: \n",
      "43\n",
      "Day finished! Price: \n",
      "44\n",
      "Day finished! Price: \n",
      "45\n",
      "Day finished! Price: \n",
      "46\n",
      "Day finished! Price: \n",
      "47\n",
      "Day finished! Price: \n",
      "48\n",
      "Day finished! Price: \n",
      "49\n",
      "Day finished! Price: \n",
      "50\n",
      "Day finished! Price: \n",
      "51\n",
      "Day finished! Price: \n",
      "52\n",
      "Day finished! Price: \n",
      "53\n",
      "Day finished! Price: \n",
      "54\n",
      "Day finished! Price: \n",
      "55\n",
      "Day finished! Price: \n",
      "56\n",
      "Day finished! Price: \n",
      "57\n",
      "Day finished! Price: \n",
      "58\n",
      "Day finished! Price: \n",
      "59\n",
      "Day finished! Price: \n",
      "60\n",
      "Day finished! Price: \n",
      "61\n",
      "Day finished! Price: \n",
      "62\n",
      "Day finished! Price: \n",
      "63\n",
      "Day finished! Price: \n",
      "64\n",
      "Day finished! Price: \n",
      "65\n",
      "Day finished! Price: \n",
      "66\n",
      "Day finished! Price: \n",
      "67\n",
      "Day finished! Price: \n",
      "68\n",
      "Day finished! Price: \n",
      "69\n",
      "Day finished! Price: \n",
      "70\n",
      "Day finished! Price: \n",
      "71\n",
      "Day finished! Price: \n",
      "72\n",
      "Day finished! Price: \n",
      "73\n",
      "Day finished! Price: \n",
      "74\n",
      "Day finished! Price: \n",
      "75\n",
      "Day finished! Price: \n",
      "76\n",
      "Day finished! Price: \n",
      "77\n",
      "Day finished! Price: \n",
      "78\n",
      "Day finished! Price: \n",
      "79\n",
      "Day finished! Price: \n",
      "80\n",
      "Day finished! Price: \n",
      "81\n",
      "Day finished! Price: \n",
      "82\n",
      "Day finished! Price: \n",
      "83\n",
      "Day finished! Price: \n",
      "84\n",
      "Day finished! Price: \n",
      "85\n",
      "Day finished! Price: \n",
      "86\n",
      "Day finished! Price: \n",
      "87\n",
      "Day finished! Price: \n",
      "88\n",
      "Day finished! Price: \n",
      "89\n",
      "Day finished! Price: \n",
      "90\n",
      "Day finished! Price: \n",
      "91\n",
      "Day finished! Price: \n",
      "92\n",
      "Day finished! Price: \n",
      "93\n",
      "Day finished! Price: \n",
      "94\n",
      "Day finished! Price: \n",
      "95\n",
      "Day finished! Price: \n",
      "96\n",
      "Day finished! Price: \n",
      "97\n",
      "Day finished! Price: \n",
      "98\n",
      "Day finished! Price: \n",
      "99\n",
      "Day finished! Price: \n",
      "Could not predict further!\n",
      "100\n",
      "[89.47, 89.74, 89.91, 90.03, 90.13, 90.19, 90.24, 90.26, 90.26, 90.24, 90.2, 90.16, 90.09, 90.02, 89.95, 89.86, 89.79, 89.71, 89.62, 89.53, 89.45, 89.36, 89.28, 89.19, 89.11, 89.03, 88.95, 88.87, 88.79, 88.71, 88.63, 88.56, 88.48, 88.41, 88.34, 88.26, 88.19, 88.12, 88.05, 87.97, 87.9, 87.83, 87.76, 87.69, 87.64, 87.57, 87.52, 87.48, 87.47, 87.45, 87.43, 87.44, 87.43, 87.42, 87.42, 87.42, 87.41, 87.41, 87.4, 87.4, 87.39, 87.38, 87.38, 87.37, 87.36, 87.35, 87.34, 87.34, 87.33, 87.32, 87.31, 87.3, 87.29, 87.28, 87.27, 87.26, 87.25, 87.24, 87.24, 87.23, 87.22, 87.21, 87.21, 87.2, 87.2, 87.19, 87.18, 87.18, 87.17, 87.17, 87.16, 87.16, 87.16, 87.15, 87.15, 87.15, 87.14, 87.14, 87.14, 87.14]\n"
     ]
    }
   ],
   "source": [
    "predict_cba(last_sixty,model_in,input)"
   ]
  },
  {
   "cell_type": "code",
   "execution_count": 166,
   "metadata": {},
   "outputs": [
    {
     "data": {
      "text/html": [
       "<div>\n",
       "<style scoped>\n",
       "    .dataframe tbody tr th:only-of-type {\n",
       "        vertical-align: middle;\n",
       "    }\n",
       "\n",
       "    .dataframe tbody tr th {\n",
       "        vertical-align: top;\n",
       "    }\n",
       "\n",
       "    .dataframe thead th {\n",
       "        text-align: right;\n",
       "    }\n",
       "</style>\n",
       "<table border=\"1\" class=\"dataframe\">\n",
       "  <thead>\n",
       "    <tr style=\"text-align: right;\">\n",
       "      <th></th>\n",
       "      <th>Count</th>\n",
       "      <th>Date</th>\n",
       "      <th>DOW</th>\n",
       "    </tr>\n",
       "  </thead>\n",
       "  <tbody>\n",
       "    <tr>\n",
       "      <th>0</th>\n",
       "      <td>1</td>\n",
       "      <td>29/06/2022</td>\n",
       "      <td>Wednesday</td>\n",
       "    </tr>\n",
       "    <tr>\n",
       "      <th>1</th>\n",
       "      <td>2</td>\n",
       "      <td>30/06/2022</td>\n",
       "      <td>Thursday</td>\n",
       "    </tr>\n",
       "    <tr>\n",
       "      <th>2</th>\n",
       "      <td>3</td>\n",
       "      <td>1/07/2022</td>\n",
       "      <td>Friday</td>\n",
       "    </tr>\n",
       "    <tr>\n",
       "      <th>3</th>\n",
       "      <td>4</td>\n",
       "      <td>2/07/2022</td>\n",
       "      <td>Monday</td>\n",
       "    </tr>\n",
       "    <tr>\n",
       "      <th>4</th>\n",
       "      <td>5</td>\n",
       "      <td>3/07/2022</td>\n",
       "      <td>Tuesday</td>\n",
       "    </tr>\n",
       "    <tr>\n",
       "      <th>...</th>\n",
       "      <td>...</td>\n",
       "      <td>...</td>\n",
       "      <td>...</td>\n",
       "    </tr>\n",
       "    <tr>\n",
       "      <th>377</th>\n",
       "      <td>0</td>\n",
       "      <td>11/07/2023</td>\n",
       "      <td>Friday</td>\n",
       "    </tr>\n",
       "    <tr>\n",
       "      <th>378</th>\n",
       "      <td>0</td>\n",
       "      <td>12/07/2023</td>\n",
       "      <td>Monday</td>\n",
       "    </tr>\n",
       "    <tr>\n",
       "      <th>379</th>\n",
       "      <td>0</td>\n",
       "      <td>13/07/2023</td>\n",
       "      <td>Tuesday</td>\n",
       "    </tr>\n",
       "    <tr>\n",
       "      <th>380</th>\n",
       "      <td>0</td>\n",
       "      <td>14/07/2023</td>\n",
       "      <td>Wednesday</td>\n",
       "    </tr>\n",
       "    <tr>\n",
       "      <th>381</th>\n",
       "      <td>0</td>\n",
       "      <td>15/07/2023</td>\n",
       "      <td>Thursday</td>\n",
       "    </tr>\n",
       "  </tbody>\n",
       "</table>\n",
       "<p>382 rows × 3 columns</p>\n",
       "</div>"
      ],
      "text/plain": [
       "     Count        Date        DOW\n",
       "0        1  29/06/2022  Wednesday\n",
       "1        2  30/06/2022   Thursday\n",
       "2        3   1/07/2022     Friday\n",
       "3        4   2/07/2022     Monday\n",
       "4        5   3/07/2022    Tuesday\n",
       "..     ...         ...        ...\n",
       "377      0  11/07/2023     Friday\n",
       "378      0  12/07/2023     Monday\n",
       "379      0  13/07/2023    Tuesday\n",
       "380      0  14/07/2023  Wednesday\n",
       "381      0  15/07/2023   Thursday\n",
       "\n",
       "[382 rows x 3 columns]"
      ]
     },
     "execution_count": 166,
     "metadata": {},
     "output_type": "execute_result"
    }
   ],
   "source": [
    "import pandas as pd\n",
    "dates_df = pd.read_csv(\"../static/data/dates.csv\")\n",
    "dates_df['Count'] = dates_df['Count'].fillna(0).astype(int)\n",
    "dates_df"
   ]
  },
  {
   "cell_type": "code",
   "execution_count": 167,
   "metadata": {},
   "outputs": [
    {
     "data": {
      "text/html": [
       "<div>\n",
       "<style scoped>\n",
       "    .dataframe tbody tr th:only-of-type {\n",
       "        vertical-align: middle;\n",
       "    }\n",
       "\n",
       "    .dataframe tbody tr th {\n",
       "        vertical-align: top;\n",
       "    }\n",
       "\n",
       "    .dataframe thead th {\n",
       "        text-align: right;\n",
       "    }\n",
       "</style>\n",
       "<table border=\"1\" class=\"dataframe\">\n",
       "  <thead>\n",
       "    <tr style=\"text-align: right;\">\n",
       "      <th></th>\n",
       "      <th>Count</th>\n",
       "      <th>Date</th>\n",
       "      <th>DOW</th>\n",
       "    </tr>\n",
       "  </thead>\n",
       "  <tbody>\n",
       "    <tr>\n",
       "      <th>0</th>\n",
       "      <td>1</td>\n",
       "      <td>29/06/2022</td>\n",
       "      <td>Wednesday</td>\n",
       "    </tr>\n",
       "    <tr>\n",
       "      <th>1</th>\n",
       "      <td>2</td>\n",
       "      <td>30/06/2022</td>\n",
       "      <td>Thursday</td>\n",
       "    </tr>\n",
       "    <tr>\n",
       "      <th>2</th>\n",
       "      <td>3</td>\n",
       "      <td>1/07/2022</td>\n",
       "      <td>Friday</td>\n",
       "    </tr>\n",
       "    <tr>\n",
       "      <th>3</th>\n",
       "      <td>4</td>\n",
       "      <td>2/07/2022</td>\n",
       "      <td>Monday</td>\n",
       "    </tr>\n",
       "    <tr>\n",
       "      <th>4</th>\n",
       "      <td>5</td>\n",
       "      <td>3/07/2022</td>\n",
       "      <td>Tuesday</td>\n",
       "    </tr>\n",
       "    <tr>\n",
       "      <th>...</th>\n",
       "      <td>...</td>\n",
       "      <td>...</td>\n",
       "      <td>...</td>\n",
       "    </tr>\n",
       "    <tr>\n",
       "      <th>377</th>\n",
       "      <td>0</td>\n",
       "      <td>11/07/2023</td>\n",
       "      <td>Friday</td>\n",
       "    </tr>\n",
       "    <tr>\n",
       "      <th>378</th>\n",
       "      <td>0</td>\n",
       "      <td>12/07/2023</td>\n",
       "      <td>Monday</td>\n",
       "    </tr>\n",
       "    <tr>\n",
       "      <th>379</th>\n",
       "      <td>0</td>\n",
       "      <td>13/07/2023</td>\n",
       "      <td>Tuesday</td>\n",
       "    </tr>\n",
       "    <tr>\n",
       "      <th>380</th>\n",
       "      <td>0</td>\n",
       "      <td>14/07/2023</td>\n",
       "      <td>Wednesday</td>\n",
       "    </tr>\n",
       "    <tr>\n",
       "      <th>381</th>\n",
       "      <td>0</td>\n",
       "      <td>15/07/2023</td>\n",
       "      <td>Thursday</td>\n",
       "    </tr>\n",
       "  </tbody>\n",
       "</table>\n",
       "<p>382 rows × 3 columns</p>\n",
       "</div>"
      ],
      "text/plain": [
       "     Count        Date        DOW\n",
       "0        1  29/06/2022  Wednesday\n",
       "1        2  30/06/2022   Thursday\n",
       "2        3   1/07/2022     Friday\n",
       "3        4   2/07/2022     Monday\n",
       "4        5   3/07/2022    Tuesday\n",
       "..     ...         ...        ...\n",
       "377      0  11/07/2023     Friday\n",
       "378      0  12/07/2023     Monday\n",
       "379      0  13/07/2023    Tuesday\n",
       "380      0  14/07/2023  Wednesday\n",
       "381      0  15/07/2023   Thursday\n",
       "\n",
       "[382 rows x 3 columns]"
      ]
     },
     "execution_count": 167,
     "metadata": {},
     "output_type": "execute_result"
    }
   ],
   "source": [
    "import pandas as pd\n",
    "dates_df = pd.read_csv(\"../static/data/dates.csv\")\n",
    "dates_df['Count'] = dates_df['Count'].fillna(0).astype(int)\n",
    "dates_df"
   ]
  },
  {
   "cell_type": "code",
   "execution_count": 168,
   "metadata": {},
   "outputs": [
    {
     "name": "stderr",
     "output_type": "stream",
     "text": [
      "C:\\Users\\antoi\\AppData\\Local\\Temp/ipykernel_15108/3423510363.py:3: SettingWithCopyWarning: \n",
      "A value is trying to be set on a copy of a slice from a DataFrame.\n",
      "Try using .loc[row_indexer,col_indexer] = value instead\n",
      "\n",
      "See the caveats in the documentation: https://pandas.pydata.org/pandas-docs/stable/user_guide/indexing.html#returning-a-view-versus-a-copy\n",
      "  dates_df_iloc['Price'] = price_list\n"
     ]
    },
    {
     "data": {
      "text/plain": [
       "[{'Count': 1, 'Date': '29/06/2022', 'DOW': 'Wednesday', 'Price': 89.47},\n",
       " {'Count': 2, 'Date': '30/06/2022', 'DOW': 'Thursday', 'Price': 89.74},\n",
       " {'Count': 3, 'Date': '1/07/2022', 'DOW': 'Friday', 'Price': 89.91},\n",
       " {'Count': 4, 'Date': '2/07/2022', 'DOW': 'Monday', 'Price': 90.03},\n",
       " {'Count': 5, 'Date': '3/07/2022', 'DOW': 'Tuesday', 'Price': 90.13},\n",
       " {'Count': 6, 'Date': '4/07/2022', 'DOW': 'Wednesday', 'Price': 90.19},\n",
       " {'Count': 7, 'Date': '5/07/2022', 'DOW': 'Thursday', 'Price': 90.24},\n",
       " {'Count': 8, 'Date': '6/07/2022', 'DOW': 'Friday', 'Price': 90.26},\n",
       " {'Count': 9, 'Date': '7/07/2022', 'DOW': 'Monday', 'Price': 90.26},\n",
       " {'Count': 10, 'Date': '8/07/2022', 'DOW': 'Tuesday', 'Price': 90.24},\n",
       " {'Count': 11, 'Date': '9/07/2022', 'DOW': 'Wednesday', 'Price': 90.2},\n",
       " {'Count': 12, 'Date': '10/07/2022', 'DOW': 'Thursday', 'Price': 90.16},\n",
       " {'Count': 13, 'Date': '11/07/2022', 'DOW': 'Friday', 'Price': 90.09},\n",
       " {'Count': 14, 'Date': '12/07/2022', 'DOW': 'Monday', 'Price': 90.02},\n",
       " {'Count': 15, 'Date': '13/07/2022', 'DOW': 'Tuesday', 'Price': 89.95},\n",
       " {'Count': 16, 'Date': '14/07/2022', 'DOW': 'Wednesday', 'Price': 89.86},\n",
       " {'Count': 17, 'Date': '15/07/2022', 'DOW': 'Thursday', 'Price': 89.79},\n",
       " {'Count': 18, 'Date': '16/07/2022', 'DOW': 'Friday', 'Price': 89.71},\n",
       " {'Count': 19, 'Date': '17/07/2022', 'DOW': 'Monday', 'Price': 89.62},\n",
       " {'Count': 20, 'Date': '18/07/2022', 'DOW': 'Tuesday', 'Price': 89.53},\n",
       " {'Count': 21, 'Date': '19/07/2022', 'DOW': 'Wednesday', 'Price': 89.45},\n",
       " {'Count': 22, 'Date': '20/07/2022', 'DOW': 'Thursday', 'Price': 89.36},\n",
       " {'Count': 23, 'Date': '21/07/2022', 'DOW': 'Friday', 'Price': 89.28},\n",
       " {'Count': 24, 'Date': '22/07/2022', 'DOW': 'Monday', 'Price': 89.19},\n",
       " {'Count': 25, 'Date': '23/07/2022', 'DOW': 'Tuesday', 'Price': 89.11},\n",
       " {'Count': 26, 'Date': '24/07/2022', 'DOW': 'Wednesday', 'Price': 89.03},\n",
       " {'Count': 27, 'Date': '25/07/2022', 'DOW': 'Thursday', 'Price': 88.95},\n",
       " {'Count': 28, 'Date': '26/07/2022', 'DOW': 'Friday', 'Price': 88.87},\n",
       " {'Count': 29, 'Date': '27/07/2022', 'DOW': 'Monday', 'Price': 88.79},\n",
       " {'Count': 30, 'Date': '28/07/2022', 'DOW': 'Tuesday', 'Price': 88.71},\n",
       " {'Count': 31, 'Date': '29/07/2022', 'DOW': 'Wednesday', 'Price': 88.63},\n",
       " {'Count': 32, 'Date': '30/07/2022', 'DOW': 'Thursday', 'Price': 88.56},\n",
       " {'Count': 33, 'Date': '31/07/2022', 'DOW': 'Friday', 'Price': 88.48},\n",
       " {'Count': 34, 'Date': '1/08/2022', 'DOW': 'Monday', 'Price': 88.41},\n",
       " {'Count': 35, 'Date': '2/08/2022', 'DOW': 'Tuesday', 'Price': 88.34},\n",
       " {'Count': 36, 'Date': '3/08/2022', 'DOW': 'Wednesday', 'Price': 88.26},\n",
       " {'Count': 37, 'Date': '4/08/2022', 'DOW': 'Thursday', 'Price': 88.19},\n",
       " {'Count': 38, 'Date': '5/08/2022', 'DOW': 'Friday', 'Price': 88.12},\n",
       " {'Count': 39, 'Date': '6/08/2022', 'DOW': 'Monday', 'Price': 88.05},\n",
       " {'Count': 40, 'Date': '7/08/2022', 'DOW': 'Tuesday', 'Price': 87.97},\n",
       " {'Count': 41, 'Date': '8/08/2022', 'DOW': 'Wednesday', 'Price': 87.9},\n",
       " {'Count': 42, 'Date': '9/08/2022', 'DOW': 'Thursday', 'Price': 87.83},\n",
       " {'Count': 43, 'Date': '10/08/2022', 'DOW': 'Friday', 'Price': 87.76},\n",
       " {'Count': 44, 'Date': '11/08/2022', 'DOW': 'Monday', 'Price': 87.69},\n",
       " {'Count': 45, 'Date': '12/08/2022', 'DOW': 'Tuesday', 'Price': 87.64},\n",
       " {'Count': 46, 'Date': '13/08/2022', 'DOW': 'Wednesday', 'Price': 87.57},\n",
       " {'Count': 47, 'Date': '14/08/2022', 'DOW': 'Thursday', 'Price': 87.52},\n",
       " {'Count': 48, 'Date': '15/08/2022', 'DOW': 'Friday', 'Price': 87.48},\n",
       " {'Count': 49, 'Date': '16/08/2022', 'DOW': 'Monday', 'Price': 87.47},\n",
       " {'Count': 50, 'Date': '17/08/2022', 'DOW': 'Tuesday', 'Price': 87.45},\n",
       " {'Count': 51, 'Date': '18/08/2022', 'DOW': 'Wednesday', 'Price': 87.43},\n",
       " {'Count': 52, 'Date': '19/08/2022', 'DOW': 'Thursday', 'Price': 87.44},\n",
       " {'Count': 53, 'Date': '20/08/2022', 'DOW': 'Friday', 'Price': 87.43},\n",
       " {'Count': 54, 'Date': '21/08/2022', 'DOW': 'Monday', 'Price': 87.42},\n",
       " {'Count': 55, 'Date': '22/08/2022', 'DOW': 'Tuesday', 'Price': 87.42},\n",
       " {'Count': 56, 'Date': '23/08/2022', 'DOW': 'Wednesday', 'Price': 87.42},\n",
       " {'Count': 57, 'Date': '24/08/2022', 'DOW': 'Thursday', 'Price': 87.41},\n",
       " {'Count': 58, 'Date': '25/08/2022', 'DOW': 'Friday', 'Price': 87.41},\n",
       " {'Count': 59, 'Date': '26/08/2022', 'DOW': 'Monday', 'Price': 87.4},\n",
       " {'Count': 60, 'Date': '27/08/2022', 'DOW': 'Tuesday', 'Price': 87.4},\n",
       " {'Count': 61, 'Date': '28/08/2022', 'DOW': 'Wednesday', 'Price': 87.39},\n",
       " {'Count': 62, 'Date': '29/08/2022', 'DOW': 'Thursday', 'Price': 87.38},\n",
       " {'Count': 63, 'Date': '30/08/2022', 'DOW': 'Friday', 'Price': 87.38},\n",
       " {'Count': 64, 'Date': '31/08/2022', 'DOW': 'Monday', 'Price': 87.37},\n",
       " {'Count': 65, 'Date': '1/09/2022', 'DOW': 'Tuesday', 'Price': 87.36},\n",
       " {'Count': 66, 'Date': '2/09/2022', 'DOW': 'Wednesday', 'Price': 87.35},\n",
       " {'Count': 67, 'Date': '3/09/2022', 'DOW': 'Thursday', 'Price': 87.34},\n",
       " {'Count': 68, 'Date': '4/09/2022', 'DOW': 'Friday', 'Price': 87.34},\n",
       " {'Count': 69, 'Date': '5/09/2022', 'DOW': 'Monday', 'Price': 87.33},\n",
       " {'Count': 70, 'Date': '6/09/2022', 'DOW': 'Tuesday', 'Price': 87.32},\n",
       " {'Count': 71, 'Date': '7/09/2022', 'DOW': 'Wednesday', 'Price': 87.31},\n",
       " {'Count': 72, 'Date': '8/09/2022', 'DOW': 'Thursday', 'Price': 87.3},\n",
       " {'Count': 73, 'Date': '9/09/2022', 'DOW': 'Friday', 'Price': 87.29},\n",
       " {'Count': 74, 'Date': '10/09/2022', 'DOW': 'Monday', 'Price': 87.28},\n",
       " {'Count': 75, 'Date': '11/09/2022', 'DOW': 'Tuesday', 'Price': 87.27},\n",
       " {'Count': 76, 'Date': '12/09/2022', 'DOW': 'Wednesday', 'Price': 87.26},\n",
       " {'Count': 77, 'Date': '13/09/2022', 'DOW': 'Thursday', 'Price': 87.25},\n",
       " {'Count': 78, 'Date': '14/09/2022', 'DOW': 'Friday', 'Price': 87.24},\n",
       " {'Count': 79, 'Date': '15/09/2022', 'DOW': 'Monday', 'Price': 87.24},\n",
       " {'Count': 80, 'Date': '16/09/2022', 'DOW': 'Tuesday', 'Price': 87.23},\n",
       " {'Count': 81, 'Date': '17/09/2022', 'DOW': 'Wednesday', 'Price': 87.22},\n",
       " {'Count': 82, 'Date': '18/09/2022', 'DOW': 'Thursday', 'Price': 87.21},\n",
       " {'Count': 83, 'Date': '19/09/2022', 'DOW': 'Friday', 'Price': 87.21},\n",
       " {'Count': 84, 'Date': '20/09/2022', 'DOW': 'Monday', 'Price': 87.2},\n",
       " {'Count': 85, 'Date': '21/09/2022', 'DOW': 'Tuesday', 'Price': 87.2},\n",
       " {'Count': 86, 'Date': '22/09/2022', 'DOW': 'Wednesday', 'Price': 87.19},\n",
       " {'Count': 87, 'Date': '23/09/2022', 'DOW': 'Thursday', 'Price': 87.18},\n",
       " {'Count': 88, 'Date': '24/09/2022', 'DOW': 'Friday', 'Price': 87.18},\n",
       " {'Count': 89, 'Date': '25/09/2022', 'DOW': 'Monday', 'Price': 87.17},\n",
       " {'Count': 90, 'Date': '26/09/2022', 'DOW': 'Tuesday', 'Price': 87.17},\n",
       " {'Count': 91, 'Date': '27/09/2022', 'DOW': 'Wednesday', 'Price': 87.16},\n",
       " {'Count': 92, 'Date': '28/09/2022', 'DOW': 'Thursday', 'Price': 87.16},\n",
       " {'Count': 93, 'Date': '29/09/2022', 'DOW': 'Friday', 'Price': 87.16},\n",
       " {'Count': 94, 'Date': '30/09/2022', 'DOW': 'Monday', 'Price': 87.15},\n",
       " {'Count': 95, 'Date': '1/10/2022', 'DOW': 'Tuesday', 'Price': 87.15},\n",
       " {'Count': 96, 'Date': '2/10/2022', 'DOW': 'Wednesday', 'Price': 87.15},\n",
       " {'Count': 97, 'Date': '3/10/2022', 'DOW': 'Thursday', 'Price': 87.14},\n",
       " {'Count': 98, 'Date': '4/10/2022', 'DOW': 'Friday', 'Price': 87.14},\n",
       " {'Count': 99, 'Date': '5/10/2022', 'DOW': 'Monday', 'Price': 87.14},\n",
       " {'Count': 100, 'Date': '6/10/2022', 'DOW': 'Tuesday', 'Price': 87.14}]"
      ]
     },
     "execution_count": 168,
     "metadata": {},
     "output_type": "execute_result"
    }
   ],
   "source": [
    "#Append the input amount of trading days to dates dictionary\n",
    "dates_df_iloc = dates_df.iloc[0:input]\n",
    "dates_df_iloc['Price'] = price_list\n",
    "my_dict = dates_df_iloc.to_dict(orient='records')\n",
    "my_dict"
   ]
  },
  {
   "cell_type": "code",
   "execution_count": 169,
   "metadata": {},
   "outputs": [
    {
     "data": {
      "text/plain": [
       "[{'Price': 89.47},\n",
       " {'Price': 89.74},\n",
       " {'Price': 89.91},\n",
       " {'Price': 90.03},\n",
       " {'Price': 90.13},\n",
       " {'Price': 90.19},\n",
       " {'Price': 90.24},\n",
       " {'Price': 90.26},\n",
       " {'Price': 90.26},\n",
       " {'Price': 90.24},\n",
       " {'Price': 90.2},\n",
       " {'Price': 90.16},\n",
       " {'Price': 90.09},\n",
       " {'Price': 90.02},\n",
       " {'Price': 89.95},\n",
       " {'Price': 89.86},\n",
       " {'Price': 89.79},\n",
       " {'Price': 89.71},\n",
       " {'Price': 89.62},\n",
       " {'Price': 89.53},\n",
       " {'Price': 89.45},\n",
       " {'Price': 89.36},\n",
       " {'Price': 89.28},\n",
       " {'Price': 89.19},\n",
       " {'Price': 89.11},\n",
       " {'Price': 89.03},\n",
       " {'Price': 88.95},\n",
       " {'Price': 88.87},\n",
       " {'Price': 88.79},\n",
       " {'Price': 88.71},\n",
       " {'Price': 88.63},\n",
       " {'Price': 88.56},\n",
       " {'Price': 88.48},\n",
       " {'Price': 88.41},\n",
       " {'Price': 88.34},\n",
       " {'Price': 88.26},\n",
       " {'Price': 88.19},\n",
       " {'Price': 88.12},\n",
       " {'Price': 88.05},\n",
       " {'Price': 87.97},\n",
       " {'Price': 87.9},\n",
       " {'Price': 87.83},\n",
       " {'Price': 87.76},\n",
       " {'Price': 87.69},\n",
       " {'Price': 87.64},\n",
       " {'Price': 87.57},\n",
       " {'Price': 87.52},\n",
       " {'Price': 87.48},\n",
       " {'Price': 87.47},\n",
       " {'Price': 87.45},\n",
       " {'Price': 87.43},\n",
       " {'Price': 87.44},\n",
       " {'Price': 87.43},\n",
       " {'Price': 87.42},\n",
       " {'Price': 87.42},\n",
       " {'Price': 87.42},\n",
       " {'Price': 87.41},\n",
       " {'Price': 87.41},\n",
       " {'Price': 87.4},\n",
       " {'Price': 87.4},\n",
       " {'Price': 87.39},\n",
       " {'Price': 87.38},\n",
       " {'Price': 87.38},\n",
       " {'Price': 87.37},\n",
       " {'Price': 87.36},\n",
       " {'Price': 87.35},\n",
       " {'Price': 87.34},\n",
       " {'Price': 87.34},\n",
       " {'Price': 87.33},\n",
       " {'Price': 87.32},\n",
       " {'Price': 87.31},\n",
       " {'Price': 87.3},\n",
       " {'Price': 87.29},\n",
       " {'Price': 87.28},\n",
       " {'Price': 87.27},\n",
       " {'Price': 87.26},\n",
       " {'Price': 87.25},\n",
       " {'Price': 87.24},\n",
       " {'Price': 87.24},\n",
       " {'Price': 87.23},\n",
       " {'Price': 87.22},\n",
       " {'Price': 87.21},\n",
       " {'Price': 87.21},\n",
       " {'Price': 87.2},\n",
       " {'Price': 87.2},\n",
       " {'Price': 87.19},\n",
       " {'Price': 87.18},\n",
       " {'Price': 87.18},\n",
       " {'Price': 87.17},\n",
       " {'Price': 87.17},\n",
       " {'Price': 87.16},\n",
       " {'Price': 87.16},\n",
       " {'Price': 87.16},\n",
       " {'Price': 87.15},\n",
       " {'Price': 87.15},\n",
       " {'Price': 87.15},\n",
       " {'Price': 87.14},\n",
       " {'Price': 87.14},\n",
       " {'Price': 87.14},\n",
       " {'Price': 87.14}]"
      ]
     },
     "execution_count": 169,
     "metadata": {},
     "output_type": "execute_result"
    }
   ],
   "source": [
    "# price_dict = dict({\"Price\": price_list}) \n",
    "#dates_dict =  dates_df.to_dict(orient='records')\n",
    "#dates_dict\n",
    "price_dict = [dict(zip(['Price'],[x])) for x in price_list]\n",
    "price_dict"
   ]
  },
  {
   "cell_type": "code",
   "execution_count": 170,
   "metadata": {},
   "outputs": [
    {
     "name": "stdout",
     "output_type": "stream",
     "text": [
      "4576 5720 5820\n"
     ]
    },
    {
     "data": {
      "text/html": [
       "<div>\n",
       "<style scoped>\n",
       "    .dataframe tbody tr th:only-of-type {\n",
       "        vertical-align: middle;\n",
       "    }\n",
       "\n",
       "    .dataframe tbody tr th {\n",
       "        vertical-align: top;\n",
       "    }\n",
       "\n",
       "    .dataframe thead th {\n",
       "        text-align: right;\n",
       "    }\n",
       "</style>\n",
       "<table border=\"1\" class=\"dataframe\">\n",
       "  <thead>\n",
       "    <tr style=\"text-align: right;\">\n",
       "      <th></th>\n",
       "      <th>Close</th>\n",
       "    </tr>\n",
       "  </thead>\n",
       "  <tbody>\n",
       "    <tr>\n",
       "      <th>5810</th>\n",
       "      <td>87.16</td>\n",
       "    </tr>\n",
       "    <tr>\n",
       "      <th>5811</th>\n",
       "      <td>87.16</td>\n",
       "    </tr>\n",
       "    <tr>\n",
       "      <th>5812</th>\n",
       "      <td>87.16</td>\n",
       "    </tr>\n",
       "    <tr>\n",
       "      <th>5813</th>\n",
       "      <td>87.15</td>\n",
       "    </tr>\n",
       "    <tr>\n",
       "      <th>5814</th>\n",
       "      <td>87.15</td>\n",
       "    </tr>\n",
       "    <tr>\n",
       "      <th>5815</th>\n",
       "      <td>87.15</td>\n",
       "    </tr>\n",
       "    <tr>\n",
       "      <th>5816</th>\n",
       "      <td>87.14</td>\n",
       "    </tr>\n",
       "    <tr>\n",
       "      <th>5817</th>\n",
       "      <td>87.14</td>\n",
       "    </tr>\n",
       "    <tr>\n",
       "      <th>5818</th>\n",
       "      <td>87.14</td>\n",
       "    </tr>\n",
       "    <tr>\n",
       "      <th>5819</th>\n",
       "      <td>87.14</td>\n",
       "    </tr>\n",
       "  </tbody>\n",
       "</table>\n",
       "</div>"
      ],
      "text/plain": [
       "      Close\n",
       "5810  87.16\n",
       "5811  87.16\n",
       "5812  87.16\n",
       "5813  87.15\n",
       "5814  87.15\n",
       "5815  87.15\n",
       "5816  87.14\n",
       "5817  87.14\n",
       "5818  87.14\n",
       "5819  87.14"
      ]
     },
     "execution_count": 170,
     "metadata": {},
     "output_type": "execute_result"
    }
   ],
   "source": [
    "# DRAW THE PREDICTION\n",
    "df_len = len(df.index) # length of the original dataframe\n",
    "col_name = ['Close']\n",
    "df_filtered = df.filter(col_name)\n",
    "df_filtered_len = len(df_filtered.index)\n",
    "df_filtered_len\n",
    "len_pred_df = df_filtered_len+input # length of the original dataframe plus the users new inputs\n",
    "print(train_data_len,df_len,len_pred_df)\n",
    "new_data =df_filtered.append(pd.DataFrame(price_list,columns=col_name),ignore_index=True)\n",
    "new_data.tail(10)"
   ]
  },
  {
   "cell_type": "code",
   "execution_count": 171,
   "metadata": {},
   "outputs": [
    {
     "name": "stderr",
     "output_type": "stream",
     "text": [
      "C:\\Users\\antoi\\AppData\\Local\\Temp/ipykernel_15108/3606707931.py:6: SettingWithCopyWarning: \n",
      "A value is trying to be set on a copy of a slice from a DataFrame.\n",
      "Try using .loc[row_indexer,col_indexer] = value instead\n",
      "\n",
      "See the caveats in the documentation: https://pandas.pydata.org/pandas-docs/stable/user_guide/indexing.html#returning-a-view-versus-a-copy\n",
      "  valid['Predictions'] = predictions # another column for validating test\n"
     ]
    },
    {
     "data": {
      "image/png": "[encoded data removed]",
      "text/plain": [
       "<Figure size 1152x576 with 1 Axes>"
      ]
     },
     "metadata": {},
     "output_type": "display_data"
    }
   ],
   "source": [
    "#Plot the data to validate the test data\n",
    "\n",
    "plt.style.use('fivethirtyeight')\n",
    "train = new_data.iloc[:train_data_len] # actual train data from 0 rows until train data end\n",
    "valid = new_data.iloc[train_data_len:df_len] # actual test data from train data end until end of all sampled data\n",
    "valid['Predictions'] = predictions # another column for validating test\n",
    "predict = new_data.iloc[df_len:len_pred_df] # user prediction data from loop\n",
    "\n",
    "plt.figure(figsize=(16,8))\n",
    "plt.title('PREDICTION CBA Share Price LSTM Model')\n",
    "plt.xlabel('Trading Date', fontsize=18)\n",
    "plt.ylabel('Close Price AUD ($)',fontsize=18)\n",
    "plt.plot(train['Close'])\n",
    "plt.plot(valid[['Close','Predictions']])\n",
    "plt.plot(predict['Close'])\n",
    "plt.legend(['Training data','Tested data','Validate test data','Prediction'],loc='lower right')\n",
    "x = np.arange(2000,2024,4)\n",
    "plt.xticks([0,1000,2000,3000,4000,5000],x)\n",
    "plt.savefig('../static/data/images/cba_predict_graph.png')\n",
    "plt.show()"
   ]
  },
  {
   "cell_type": "markdown",
   "metadata": {},
   "source": [
    "#Save predicted price to MongoDB"
   ]
  },
  {
   "cell_type": "code",
   "execution_count": 172,
   "metadata": {},
   "outputs": [],
   "source": [
    "# # Module used to connect Python with MongoDb\n",
    "# import pymongo"
   ]
  },
  {
   "cell_type": "code",
   "execution_count": 173,
   "metadata": {},
   "outputs": [],
   "source": [
    "# # The default port used by MongoDB is 27017\n",
    "# # https://docs.mongodb.com/manual/reference/default-mongodb-port/\n",
    "# conn = 'mongodb://localhost:27017'\n",
    "# client = pymongo.MongoClient(conn)\n",
    "\n",
    "# # Define the 'sharesDB' database in Mongo\n",
    "# db = client.sharesDB"
   ]
  },
  {
   "cell_type": "code",
   "execution_count": 174,
   "metadata": {},
   "outputs": [],
   "source": [
    "# # Query all\n",
    "# # Here, db.companys refers to the collection 'companys '\n",
    "# companys = db.companys.find()\n",
    "\n",
    "# # Iterate through each company in the collection\n",
    "# for company in companys:\n",
    "#     print(company)"
   ]
  },
  {
   "cell_type": "code",
   "execution_count": 175,
   "metadata": {},
   "outputs": [],
   "source": [
    "# # Set keys and values of company\n",
    "# name = 'CBA'\n",
    "# predicted = int(pred_price)\n",
    "# difference = pred_price-actual_price\n",
    "# print(f'date {actual_date},predicted {predicted},actual {actual_price}, difference {difference}')"
   ]
  },
  {
   "cell_type": "code",
   "execution_count": 176,
   "metadata": {},
   "outputs": [],
   "source": [
    "# # Insert a document into the 'companys' collection\n",
    "# db.companys.insert_one(\n",
    "#     {\n",
    "#       'model': 'LSTM',\n",
    "#       'name': name,\n",
    "#       'date': actual_date,\n",
    "#       'predicted': predicted,\n",
    "#       'actual': actual_price,\n",
    "#       'differece': difference\n",
    "#     }\n",
    "# )\n",
    "\n",
    "# # query the classroom collection\n",
    "# companys = db.companys.find()\n",
    "\n",
    "# # see change in collection\n",
    "# for company in companys:\n",
    "#     print(company)"
   ]
  },
  {
   "cell_type": "code",
   "execution_count": 177,
   "metadata": {},
   "outputs": [],
   "source": [
    "# # Delete a document from a collection\n",
    "# db.companys.delete_one(\n",
    "#     {'name': 'CBA'}\n",
    "# )\n",
    "\n",
    "# # query the companys collection\n",
    "# companys = db.companys.find()\n",
    "\n",
    "# # see change in the collection\n",
    "# for company in companys:\n",
    "#     print(company)"
   ]
  },
  {
   "cell_type": "code",
   "execution_count": 178,
   "metadata": {},
   "outputs": [],
   "source": [
    "# from pymongo import MongoClient\n",
    "# mongoClient = MongoClient()\n",
    "# db = mongoClient.sharesDB\n",
    "# db.cba.drop()\n",
    "\n",
    "# import csv\n",
    "# header = [\"Date\",\"Open\",\"High\",\"Low\",\"Close\",\"Adj Close\",\"Volume\",\"SENTIMENT\",\"RBA\",\"FED\"]\n",
    "# csvfile = open('../static/data/cba.csv', 'r')\n",
    "# reader = csv.DictReader( csvfile )\n",
    "\n",
    "# for each in reader:\n",
    "#     row={}\n",
    "#     for field in header:\n",
    "#         row[field]=each[field]\n",
    "        \n",
    "#     print (row)\n",
    "#     db.cba.insert_one(row)\t\t\t\t \t\t\t\t"
   ]
  },
  {
   "cell_type": "code",
   "execution_count": 179,
   "metadata": {},
   "outputs": [],
   "source": [
    "# # query the collection\n",
    "# cbas = db.cba.find()\n",
    "\n",
    "# # see change in collection\n",
    "# for cba in cbas:\n",
    "#     print(cba)"
   ]
  },
  {
   "cell_type": "code",
   "execution_count": 180,
   "metadata": {},
   "outputs": [],
   "source": [
    "# from pymongo import MongoClient\n",
    "# mongoClient = MongoClient()\n",
    "# db = mongoClient.sharesDB\n",
    "# db.cba_scatter.drop()\n",
    "\n",
    "# import csv\n",
    "# header = [\"Date\",\"Open\",\"High\",\"Low\",\"Close\",\"Adj Close\",\"Volume\",\"SENTIMENT\",\"RBA\",\"FED\"]\n",
    "# csvfile = open('../static/data/cba_scatter.csv', 'r')\n",
    "# reader = csv.DictReader( csvfile )\n",
    "\n",
    "# for each in reader:\n",
    "#     row={}\n",
    "#     for field in header:\n",
    "#         row[field]=each[field]\n",
    "        \n",
    "#     print (row)\n",
    "#     db.cba_scatter.insert_one(row)\t\t\t\t \t\t\t\t"
   ]
  }
 ],
 "metadata": {
  "interpreter": {
   "hash": "45bb1cb4637e4034484920e5cfb24c9afd84b0847d6c36e39edd3067d3a05462"
  },
  "kernel_info": {
   "name": "dev"
  },
  "kernelspec": {
   "display_name": "Python 3.9.7 ('base')",
   "language": "python",
   "name": "python3"
  },
  "language_info": {
   "codemirror_mode": {
    "name": "ipython",
    "version": 3
   },
   "file_extension": ".py",
   "mimetype": "text/x-python",
   "name": "python",
   "nbconvert_exporter": "python",
   "pygments_lexer": "ipython3",
   "version": "3.9.7"
  },
  "nteract": {
   "version": "0.12.3"
  }
 },
 "nbformat": 4,
 "nbformat_minor": 2
}
