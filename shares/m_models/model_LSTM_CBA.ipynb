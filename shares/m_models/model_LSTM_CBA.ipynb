{
 "cells": [
  {
   "cell_type": "markdown",
   "metadata": {},
   "source": [
    "#This model uses LSTM to predict a Daily share price movements based on time series and batches of 60 days"
   ]
  },
  {
   "cell_type": "code",
   "execution_count": 1,
   "metadata": {},
   "outputs": [
    {
     "name": "stdout",
     "output_type": "stream",
     "text": [
      "Requirement already satisfied: pyyaml in c:\\users\\antoi\\anaconda3\\lib\\site-packages (6.0)\n",
      "Requirement already satisfied: h5py in c:\\users\\antoi\\anaconda3\\lib\\site-packages (3.2.1)\n",
      "Requirement already satisfied: numpy>=1.19.0 in c:\\users\\antoi\\anaconda3\\lib\\site-packages (from h5py) (1.20.3)\n"
     ]
    }
   ],
   "source": [
    "!pip install pyyaml h5py"
   ]
  },
  {
   "cell_type": "markdown",
   "metadata": {},
   "source": [
    "# Read the CSV and Perform Basic Data Cleaning"
   ]
  },
  {
   "cell_type": "code",
   "execution_count": 2,
   "metadata": {},
   "outputs": [],
   "source": [
    "import matplotlib.pyplot as plt\n",
    "import numpy as np\n",
    "import pandas as pd"
   ]
  },
  {
   "cell_type": "code",
   "execution_count": 3,
   "metadata": {},
   "outputs": [
    {
     "data": {
      "text/html": [
       "<div>\n",
       "<style scoped>\n",
       "    .dataframe tbody tr th:only-of-type {\n",
       "        vertical-align: middle;\n",
       "    }\n",
       "\n",
       "    .dataframe tbody tr th {\n",
       "        vertical-align: top;\n",
       "    }\n",
       "\n",
       "    .dataframe thead th {\n",
       "        text-align: right;\n",
       "    }\n",
       "</style>\n",
       "<table border=\"1\" class=\"dataframe\">\n",
       "  <thead>\n",
       "    <tr style=\"text-align: right;\">\n",
       "      <th></th>\n",
       "      <th>Date</th>\n",
       "      <th>Open</th>\n",
       "      <th>High</th>\n",
       "      <th>Low</th>\n",
       "      <th>Close</th>\n",
       "      <th>Adj Close</th>\n",
       "      <th>Volume</th>\n",
       "    </tr>\n",
       "  </thead>\n",
       "  <tbody>\n",
       "    <tr>\n",
       "      <th>0</th>\n",
       "      <td>3/01/2000</td>\n",
       "      <td>26.088652</td>\n",
       "      <td>26.088652</td>\n",
       "      <td>26.088652</td>\n",
       "      <td>26.088652</td>\n",
       "      <td>7.993308</td>\n",
       "      <td>0</td>\n",
       "    </tr>\n",
       "    <tr>\n",
       "      <th>1</th>\n",
       "      <td>4/01/2000</td>\n",
       "      <td>26.058813</td>\n",
       "      <td>26.058813</td>\n",
       "      <td>25.720646</td>\n",
       "      <td>25.790268</td>\n",
       "      <td>7.901886</td>\n",
       "      <td>1018072</td>\n",
       "    </tr>\n",
       "    <tr>\n",
       "      <th>2</th>\n",
       "      <td>5/01/2000</td>\n",
       "      <td>25.353634</td>\n",
       "      <td>25.392424</td>\n",
       "      <td>25.113932</td>\n",
       "      <td>25.213392</td>\n",
       "      <td>7.725136</td>\n",
       "      <td>2191283</td>\n",
       "    </tr>\n",
       "    <tr>\n",
       "      <th>3</th>\n",
       "      <td>6/01/2000</td>\n",
       "      <td>25.362585</td>\n",
       "      <td>25.362585</td>\n",
       "      <td>24.666357</td>\n",
       "      <td>24.716087</td>\n",
       "      <td>7.572770</td>\n",
       "      <td>1505531</td>\n",
       "    </tr>\n",
       "    <tr>\n",
       "      <th>4</th>\n",
       "      <td>7/01/2000</td>\n",
       "      <td>24.913021</td>\n",
       "      <td>25.113932</td>\n",
       "      <td>24.735979</td>\n",
       "      <td>24.964741</td>\n",
       "      <td>7.648952</td>\n",
       "      <td>1414040</td>\n",
       "    </tr>\n",
       "  </tbody>\n",
       "</table>\n",
       "</div>"
      ],
      "text/plain": [
       "        Date       Open       High        Low      Close  Adj Close   Volume\n",
       "0  3/01/2000  26.088652  26.088652  26.088652  26.088652   7.993308        0\n",
       "1  4/01/2000  26.058813  26.058813  25.720646  25.790268   7.901886  1018072\n",
       "2  5/01/2000  25.353634  25.392424  25.113932  25.213392   7.725136  2191283\n",
       "3  6/01/2000  25.362585  25.362585  24.666357  24.716087   7.572770  1505531\n",
       "4  7/01/2000  24.913021  25.113932  24.735979  24.964741   7.648952  1414040"
      ]
     },
     "execution_count": 3,
     "metadata": {},
     "output_type": "execute_result"
    }
   ],
   "source": [
    "df_stock1 = pd.read_csv(\"../static/data/cba.csv\")\n",
    "# Drop the null columns where all values are null\n",
    "df_stock2 = df_stock1.dropna(axis='columns', how='all')\n",
    "# Drop the null rows\n",
    "df_stock3 = df_stock2.dropna()\n",
    "# Drop the last rows to test prediction to actual\n",
    "df_stock_less1= df_stock3.iloc[:-1,:]\n",
    "# Drop last 3 columns sentiment RBA FED\n",
    "N=3\n",
    "df = df_stock_less1.iloc[: , :-N]\n",
    "df.head()"
   ]
  },
  {
   "cell_type": "code",
   "execution_count": 4,
   "metadata": {},
   "outputs": [
    {
     "data": {
      "text/plain": [
       "<AxesSubplot:>"
      ]
     },
     "execution_count": 4,
     "metadata": {},
     "output_type": "execute_result"
    },
    {
     "data": {
      "image/png": "[encoded data removed]",
      "text/plain": [
       "<Figure size 432x288 with 1 Axes>"
      ]
     },
     "metadata": {
      "needs_background": "light"
     },
     "output_type": "display_data"
    }
   ],
   "source": [
    "df[\"Close\"].plot()"
   ]
  },
  {
   "cell_type": "code",
   "execution_count": 5,
   "metadata": {},
   "outputs": [
    {
     "name": "stdout",
     "output_type": "stream",
     "text": [
      "<class 'pandas.core.frame.DataFrame'>\n",
      "Int64Index: 5673 entries, 0 to 5672\n",
      "Data columns (total 7 columns):\n",
      " #   Column     Non-Null Count  Dtype  \n",
      "---  ------     --------------  -----  \n",
      " 0   Date       5673 non-null   object \n",
      " 1   Open       5673 non-null   float64\n",
      " 2   High       5673 non-null   float64\n",
      " 3   Low        5673 non-null   float64\n",
      " 4   Close      5673 non-null   float64\n",
      " 5   Adj Close  5673 non-null   float64\n",
      " 6   Volume     5673 non-null   int64  \n",
      "dtypes: float64(5), int64(1), object(1)\n",
      "memory usage: 354.6+ KB\n"
     ]
    }
   ],
   "source": [
    "df.info()"
   ]
  },
  {
   "cell_type": "code",
   "execution_count": 6,
   "metadata": {},
   "outputs": [
    {
     "data": {
      "text/plain": [
       "(5673, 1)"
      ]
     },
     "execution_count": 6,
     "metadata": {},
     "output_type": "execute_result"
    }
   ],
   "source": [
    "data = df.filter(['Close'])\n",
    "dataset = data.values\n",
    "dataset.shape\n"
   ]
  },
  {
   "cell_type": "markdown",
   "metadata": {},
   "source": [
    "# # Pre-processing : Scale the data using the MinMaxScaler and split train data"
   ]
  },
  {
   "cell_type": "code",
   "execution_count": 7,
   "metadata": {},
   "outputs": [
    {
     "data": {
      "text/plain": [
       "(4539, 1)"
      ]
     },
     "execution_count": 7,
     "metadata": {},
     "output_type": "execute_result"
    }
   ],
   "source": [
    "# Scale your data\n",
    "from sklearn.preprocessing import MinMaxScaler\n",
    "\n",
    "scaler = MinMaxScaler(feature_range=(0,1))\n",
    "dataset_scaled = scaler.fit_transform(dataset)\n",
    "\n",
    "# Split into train or test\n",
    "import math\n",
    "train_data_len = math.ceil(len(dataset)*.8)\n",
    "train_data = dataset_scaled[0:train_data_len,:]\n",
    "train_data.shape\n"
   ]
  },
  {
   "cell_type": "code",
   "execution_count": 8,
   "metadata": {},
   "outputs": [
    {
     "name": "stdout",
     "output_type": "stream",
     "text": [
      "[array([0.04184307, 0.03844119, 0.03186422, 0.02619443, 0.02902934,\n",
      "       0.03583307, 0.03112717, 0.0329982 , 0.03073027, 0.03450637,\n",
      "       0.0379876 , 0.03712579, 0.03129727, 0.03469913, 0.03390536,\n",
      "       0.03469913, 0.0329982 , 0.0329982 , 0.03776081, 0.04218326,\n",
      "       0.04036892, 0.03544755, 0.03531146, 0.03016329, 0.03424555,\n",
      "       0.03549291, 0.03408679, 0.03696705, 0.04090187, 0.0449728 ,\n",
      "       0.04610676, 0.05227547, 0.04921377, 0.04036892, 0.04110597,\n",
      "       0.03708043, 0.0399607 , 0.04127609, 0.03932567, 0.03889476,\n",
      "       0.03056017, 0.02780467, 0.03696705, 0.03526612, 0.03062821,\n",
      "       0.02789536, 0.0244935 , 0.0244935 , 0.0244935 , 0.00521622,\n",
      "       0.00657697, 0.00635016, 0.01099939, 0.0086521 , 0.00521622,\n",
      "       0.00510283, 0.00147414, 0.00136076, 0.00011341, 0.00100922])]\n",
      "[0.002086477591719982]\n"
     ]
    }
   ],
   "source": [
    "X_train = []\n",
    "y_train = []\n",
    "\n",
    "for i in range (60, len(train_data)):\n",
    "    X_train.append(train_data[i-60:i,0]) # contains 60 values\n",
    "    y_train.append(train_data[i,0])   # contains 61st value\n",
    "    if i<= 60:\n",
    "        print(X_train)\n",
    "        print(y_train) \n"
   ]
  },
  {
   "cell_type": "markdown",
   "metadata": {},
   "source": [
    "# Prepare train data for LSTM model"
   ]
  },
  {
   "cell_type": "code",
   "execution_count": 9,
   "metadata": {},
   "outputs": [
    {
     "data": {
      "text/plain": [
       "(4479, 60)"
      ]
     },
     "execution_count": 9,
     "metadata": {},
     "output_type": "execute_result"
    }
   ],
   "source": [
    "# Convert list to numpy array for LSTM model:\n",
    "X_train, y_train = np.array(X_train), np.array(y_train)\n",
    "X_train.shape"
   ]
  },
  {
   "cell_type": "code",
   "execution_count": 10,
   "metadata": {},
   "outputs": [
    {
     "data": {
      "text/plain": [
       "(4479, 60, 1)"
      ]
     },
     "execution_count": 10,
     "metadata": {},
     "output_type": "execute_result"
    }
   ],
   "source": [
    "# LSTM model expects 3D, reshape:\n",
    "X_train = np.reshape(X_train, (X_train.shape[0], X_train.shape[1], 1))\n",
    "X_train.shape"
   ]
  },
  {
   "cell_type": "markdown",
   "metadata": {},
   "source": [
    "# Build the LSTM model"
   ]
  },
  {
   "cell_type": "code",
   "execution_count": 11,
   "metadata": {},
   "outputs": [],
   "source": [
    "from tensorflow.keras.models import Sequential\n",
    "from tensorflow.keras.layers import Dense, LSTM\n",
    "model = Sequential()\n",
    "model.add(LSTM(50, return_sequences=True, input_shape=(X_train.shape[1], 1)))\n",
    "model.add(LSTM(50, return_sequences=False))\n",
    "model.add(Dense(25))\n",
    "model.add(Dense(1))"
   ]
  },
  {
   "cell_type": "code",
   "execution_count": 12,
   "metadata": {},
   "outputs": [],
   "source": [
    "model.compile(optimizer='adam', loss='mean_squared_error')"
   ]
  },
  {
   "cell_type": "code",
   "execution_count": 13,
   "metadata": {},
   "outputs": [
    {
     "name": "stdout",
     "output_type": "stream",
     "text": [
      "4479/4479 [==============================] - 56s 12ms/step - loss: 7.5443e-04\n"
     ]
    },
    {
     "data": {
      "text/plain": [
       "<keras.callbacks.History at 0x1f27c762070>"
      ]
     },
     "execution_count": 13,
     "metadata": {},
     "output_type": "execute_result"
    }
   ],
   "source": [
    "model.fit(X_train, y_train, batch_size=1, epochs=1)"
   ]
  },
  {
   "cell_type": "code",
   "execution_count": 14,
   "metadata": {},
   "outputs": [],
   "source": [
    "#Create test data\n",
    "test_data = dataset_scaled[train_data_len-60:,:]\n",
    "X_test = []\n",
    "y_test = dataset[train_data_len:,:]\n",
    "for i in range(60, len(test_data)):\n",
    " X_test.append(test_data[i-60:i,0])"
   ]
  },
  {
   "cell_type": "code",
   "execution_count": 15,
   "metadata": {},
   "outputs": [],
   "source": [
    "#Covert test data to a numpy array and reshape\n",
    "X_test = np.array(X_test)\n",
    "X_test = np.reshape(X_test, (X_test.shape[0],X_test.shape[1],1))"
   ]
  },
  {
   "cell_type": "code",
   "execution_count": 16,
   "metadata": {},
   "outputs": [],
   "source": [
    "#Get predicted prices\n",
    "predictions_lstm = model.predict(X_test)\n",
    "predictions = scaler.inverse_transform(predictions_lstm)"
   ]
  },
  {
   "cell_type": "code",
   "execution_count": 17,
   "metadata": {},
   "outputs": [
    {
     "data": {
      "text/plain": [
       "2.435877968866688"
      ]
     },
     "execution_count": 17,
     "metadata": {},
     "output_type": "execute_result"
    }
   ],
   "source": [
    "#Get the root mean square error (RMSE) 0 being most favourable\n",
    "rmse = np.sqrt(np.mean(predictions-y_test)**2)\n",
    "rmse"
   ]
  },
  {
   "cell_type": "code",
   "execution_count": 18,
   "metadata": {},
   "outputs": [
    {
     "name": "stderr",
     "output_type": "stream",
     "text": [
      "C:\\Users\\antoi\\AppData\\Local\\Temp/ipykernel_19480/3034226366.py:5: SettingWithCopyWarning: \n",
      "A value is trying to be set on a copy of a slice from a DataFrame.\n",
      "Try using .loc[row_indexer,col_indexer] = value instead\n",
      "\n",
      "See the caveats in the documentation: https://pandas.pydata.org/pandas-docs/stable/user_guide/indexing.html#returning-a-view-versus-a-copy\n",
      "  valid['Predictions'] = predictions # another column for validating test\n"
     ]
    },
    {
     "data": {
      "image/png": "[encoded data removed]",
      "text/plain": [
       "<Figure size 1152x576 with 1 Axes>"
      ]
     },
     "metadata": {},
     "output_type": "display_data"
    }
   ],
   "source": [
    "#Plot the data to validate the test data\n",
    "plt.style.use('fivethirtyeight')\n",
    "train = data.iloc[:train_data_len] # actual train data from 0 rows until train data end\n",
    "valid = data.iloc[train_data_len:] # actual test data from train data end until end of all sampled data\n",
    "valid['Predictions'] = predictions # another column for validating test\n",
    "\n",
    "plt.figure(figsize=(16,8))\n",
    "plt.title('Model')\n",
    "plt.xlabel('Trading Day - 01/01/2000 to date', fontsize=18)\n",
    "plt.ylabel('Close Price AUD ($)',fontsize=18)\n",
    "plt.plot(train['Close'])\n",
    "plt.plot(valid[['Close','Predictions']])\n",
    "plt.legend(['Training','Validated','Predictions'],loc='lower right')\n",
    "plt.show()\n"
   ]
  },
  {
   "cell_type": "markdown",
   "metadata": {},
   "source": [
    "# Test data Predictions on the Model"
   ]
  },
  {
   "cell_type": "code",
   "execution_count": 19,
   "metadata": {},
   "outputs": [
    {
     "name": "stderr",
     "output_type": "stream",
     "text": [
      "C:\\Users\\antoi\\AppData\\Local\\Temp/ipykernel_19480/3952761259.py:1: SettingWithCopyWarning: \n",
      "A value is trying to be set on a copy of a slice from a DataFrame.\n",
      "Try using .loc[row_indexer,col_indexer] = value instead\n",
      "\n",
      "See the caveats in the documentation: https://pandas.pydata.org/pandas-docs/stable/user_guide/indexing.html#returning-a-view-versus-a-copy\n",
      "  valid['Difference']= valid['Close']-valid['Predictions']\n"
     ]
    },
    {
     "data": {
      "text/html": [
       "<div>\n",
       "<style scoped>\n",
       "    .dataframe tbody tr th:only-of-type {\n",
       "        vertical-align: middle;\n",
       "    }\n",
       "\n",
       "    .dataframe tbody tr th {\n",
       "        vertical-align: top;\n",
       "    }\n",
       "\n",
       "    .dataframe thead th {\n",
       "        text-align: right;\n",
       "    }\n",
       "</style>\n",
       "<table border=\"1\" class=\"dataframe\">\n",
       "  <thead>\n",
       "    <tr style=\"text-align: right;\">\n",
       "      <th></th>\n",
       "      <th>Close</th>\n",
       "      <th>Predictions</th>\n",
       "      <th>Difference</th>\n",
       "    </tr>\n",
       "  </thead>\n",
       "  <tbody>\n",
       "    <tr>\n",
       "      <th>4539</th>\n",
       "      <td>78.690002</td>\n",
       "      <td>75.960045</td>\n",
       "      <td>2.729957</td>\n",
       "    </tr>\n",
       "    <tr>\n",
       "      <th>4540</th>\n",
       "      <td>78.660004</td>\n",
       "      <td>76.171051</td>\n",
       "      <td>2.488953</td>\n",
       "    </tr>\n",
       "    <tr>\n",
       "      <th>4541</th>\n",
       "      <td>78.629997</td>\n",
       "      <td>76.281837</td>\n",
       "      <td>2.348160</td>\n",
       "    </tr>\n",
       "    <tr>\n",
       "      <th>4542</th>\n",
       "      <td>78.989998</td>\n",
       "      <td>76.328415</td>\n",
       "      <td>2.661583</td>\n",
       "    </tr>\n",
       "    <tr>\n",
       "      <th>4543</th>\n",
       "      <td>78.239998</td>\n",
       "      <td>76.417076</td>\n",
       "      <td>1.822922</td>\n",
       "    </tr>\n",
       "    <tr>\n",
       "      <th>...</th>\n",
       "      <td>...</td>\n",
       "      <td>...</td>\n",
       "      <td>...</td>\n",
       "    </tr>\n",
       "    <tr>\n",
       "      <th>5668</th>\n",
       "      <td>105.239998</td>\n",
       "      <td>101.630928</td>\n",
       "      <td>3.609070</td>\n",
       "    </tr>\n",
       "    <tr>\n",
       "      <th>5669</th>\n",
       "      <td>105.379997</td>\n",
       "      <td>101.719475</td>\n",
       "      <td>3.660522</td>\n",
       "    </tr>\n",
       "    <tr>\n",
       "      <th>5670</th>\n",
       "      <td>106.879997</td>\n",
       "      <td>101.834641</td>\n",
       "      <td>5.045356</td>\n",
       "    </tr>\n",
       "    <tr>\n",
       "      <th>5671</th>\n",
       "      <td>106.709999</td>\n",
       "      <td>102.253258</td>\n",
       "      <td>4.456741</td>\n",
       "    </tr>\n",
       "    <tr>\n",
       "      <th>5672</th>\n",
       "      <td>106.550003</td>\n",
       "      <td>102.630821</td>\n",
       "      <td>3.919182</td>\n",
       "    </tr>\n",
       "  </tbody>\n",
       "</table>\n",
       "<p>1134 rows × 3 columns</p>\n",
       "</div>"
      ],
      "text/plain": [
       "           Close  Predictions  Difference\n",
       "4539   78.690002    75.960045    2.729957\n",
       "4540   78.660004    76.171051    2.488953\n",
       "4541   78.629997    76.281837    2.348160\n",
       "4542   78.989998    76.328415    2.661583\n",
       "4543   78.239998    76.417076    1.822922\n",
       "...          ...          ...         ...\n",
       "5668  105.239998   101.630928    3.609070\n",
       "5669  105.379997   101.719475    3.660522\n",
       "5670  106.879997   101.834641    5.045356\n",
       "5671  106.709999   102.253258    4.456741\n",
       "5672  106.550003   102.630821    3.919182\n",
       "\n",
       "[1134 rows x 3 columns]"
      ]
     },
     "execution_count": 19,
     "metadata": {},
     "output_type": "execute_result"
    }
   ],
   "source": [
    "valid['Difference']= valid['Close']-valid['Predictions']\n",
    "valid"
   ]
  },
  {
   "cell_type": "code",
   "execution_count": 20,
   "metadata": {},
   "outputs": [],
   "source": [
    "#Get latest 60 quotes less 1 to predict:\n",
    "\n",
    "#import pandas_datareader.data as web\n",
    "#symbol = 'CBA.AX'\n",
    "#stock_quote = web.DataReader(symbol,data_source='yahoo',start='2022-01-01', end='2022-04-13')\n",
    "#stock_quotes_sixty = stock_quotes_sixty.filter(['Close'])\n",
    "#stock_quotes_sixty\n",
    "#OR use csv data "
   ]
  },
  {
   "cell_type": "code",
   "execution_count": 21,
   "metadata": {},
   "outputs": [
    {
     "data": {
      "text/plain": [
       "(60, 1)"
      ]
     },
     "execution_count": 21,
     "metadata": {},
     "output_type": "execute_result"
    }
   ],
   "source": [
    "# Use last 60 days price on model to predict next days price\n",
    "stock_quotes_sixty = df_stock_less1.tail(60)\n",
    "stock_close_sixty = stock_quotes_sixty['Close']\n",
    "last_60_days_val = stock_close_sixty[-60:].values\n",
    "last_60_days = last_60_days_val.reshape(-1,1)\n",
    "last_60_days .shape"
   ]
  },
  {
   "cell_type": "code",
   "execution_count": 22,
   "metadata": {},
   "outputs": [
    {
     "data": {
      "text/plain": [
       "(1, 60, 1)"
      ]
     },
     "execution_count": 22,
     "metadata": {},
     "output_type": "execute_result"
    }
   ],
   "source": [
    "last_60_days_scaled = scaler.transform(last_60_days)\n",
    "X_tell = []\n",
    "X_tell.append(last_60_days_scaled)\n",
    "X_tell =np.array(X_tell)\n",
    "X_tell =np.reshape(X_tell, (X_tell.shape[0], X_tell.shape[1],1))\n",
    "X_tell.shape"
   ]
  },
  {
   "cell_type": "code",
   "execution_count": 23,
   "metadata": {},
   "outputs": [
    {
     "name": "stdout",
     "output_type": "stream",
     "text": [
      "Predicted next day share price 102\n"
     ]
    }
   ],
   "source": [
    "pred_price = model.predict(X_tell)\n",
    "pred_price = scaler.inverse_transform(pred_price)\n",
    "pred_price = int(pred_price)\n",
    "print(f'Predicted next day share price {pred_price}')"
   ]
  },
  {
   "cell_type": "code",
   "execution_count": 24,
   "metadata": {},
   "outputs": [
    {
     "data": {
      "text/html": [
       "<div>\n",
       "<style scoped>\n",
       "    .dataframe tbody tr th:only-of-type {\n",
       "        vertical-align: middle;\n",
       "    }\n",
       "\n",
       "    .dataframe tbody tr th {\n",
       "        vertical-align: top;\n",
       "    }\n",
       "\n",
       "    .dataframe thead th {\n",
       "        text-align: right;\n",
       "    }\n",
       "</style>\n",
       "<table border=\"1\" class=\"dataframe\">\n",
       "  <thead>\n",
       "    <tr style=\"text-align: right;\">\n",
       "      <th></th>\n",
       "      <th>Date</th>\n",
       "      <th>Open</th>\n",
       "      <th>High</th>\n",
       "      <th>Low</th>\n",
       "      <th>Close</th>\n",
       "      <th>Adj Close</th>\n",
       "      <th>Volume</th>\n",
       "      <th>SENTIMENT</th>\n",
       "      <th>RBA</th>\n",
       "      <th>FED</th>\n",
       "    </tr>\n",
       "  </thead>\n",
       "  <tbody>\n",
       "    <tr>\n",
       "      <th>5673</th>\n",
       "      <td>14/04/2022</td>\n",
       "      <td>105.910004</td>\n",
       "      <td>107.105003</td>\n",
       "      <td>105.830002</td>\n",
       "      <td>106.5</td>\n",
       "      <td>106.5</td>\n",
       "      <td>1393778</td>\n",
       "      <td>NEGATIVE</td>\n",
       "      <td>0.05</td>\n",
       "      <td>0.08</td>\n",
       "    </tr>\n",
       "  </tbody>\n",
       "</table>\n",
       "</div>"
      ],
      "text/plain": [
       "            Date        Open        High         Low  Close  Adj Close  \\\n",
       "5673  14/04/2022  105.910004  107.105003  105.830002  106.5      106.5   \n",
       "\n",
       "       Volume SENTIMENT   RBA   FED  \n",
       "5673  1393778  NEGATIVE  0.05  0.08  "
      ]
     },
     "execution_count": 24,
     "metadata": {},
     "output_type": "execute_result"
    }
   ],
   "source": [
    "#stock_quote_acual = web.DataReader('CBA.AX',data_source='yahoo',start='2022-04-14', end='2022-04-14')\n",
    "#OR get last quote from latest csv\n",
    "stock_quote_last_one = df_stock1.tail(1)\n",
    "stock_quote_last_one\n"
   ]
  },
  {
   "cell_type": "code",
   "execution_count": 25,
   "metadata": {},
   "outputs": [
    {
     "data": {
      "text/plain": [
       "'14/04/2022'"
      ]
     },
     "execution_count": 25,
     "metadata": {},
     "output_type": "execute_result"
    }
   ],
   "source": [
    "#save actual to variable\n",
    "actual_price = stock_quote_last_one.iloc[0,4]\n",
    "actual_date = stock_quote_last_one.iloc[0,0] \n",
    "actual_price = int(actual_price)\n",
    "actual_price\n",
    "actual_date\n"
   ]
  },
  {
   "cell_type": "markdown",
   "metadata": {},
   "source": [
    "# Save the Model"
   ]
  },
  {
   "cell_type": "code",
   "execution_count": 26,
   "metadata": {},
   "outputs": [],
   "source": [
    "# Save the entire model to a HDF5 file.\n",
    "# The '.h5' extension indicates that the model should be saved to HDF5.\n",
    "filepath = '../static/cba_model.sav'\n",
    "model.save(filepath, save_format=\"h5\")"
   ]
  },
  {
   "cell_type": "markdown",
   "metadata": {},
   "source": [
    "#Save last 60 days to a list_cba_sixty and load df"
   ]
  },
  {
   "cell_type": "code",
   "execution_count": 27,
   "metadata": {},
   "outputs": [
    {
     "data": {
      "text/html": [
       "<div>\n",
       "<style scoped>\n",
       "    .dataframe tbody tr th:only-of-type {\n",
       "        vertical-align: middle;\n",
       "    }\n",
       "\n",
       "    .dataframe tbody tr th {\n",
       "        vertical-align: top;\n",
       "    }\n",
       "\n",
       "    .dataframe thead th {\n",
       "        text-align: right;\n",
       "    }\n",
       "</style>\n",
       "<table border=\"1\" class=\"dataframe\">\n",
       "  <thead>\n",
       "    <tr style=\"text-align: right;\">\n",
       "      <th></th>\n",
       "      <th>99.330002</th>\n",
       "    </tr>\n",
       "  </thead>\n",
       "  <tbody>\n",
       "    <tr>\n",
       "      <th>0</th>\n",
       "      <td>98.610001</td>\n",
       "    </tr>\n",
       "    <tr>\n",
       "      <th>1</th>\n",
       "      <td>97.370003</td>\n",
       "    </tr>\n",
       "    <tr>\n",
       "      <th>2</th>\n",
       "      <td>97.440002</td>\n",
       "    </tr>\n",
       "    <tr>\n",
       "      <th>3</th>\n",
       "      <td>95.449997</td>\n",
       "    </tr>\n",
       "    <tr>\n",
       "      <th>4</th>\n",
       "      <td>93.779999</td>\n",
       "    </tr>\n",
       "  </tbody>\n",
       "</table>\n",
       "</div>"
      ],
      "text/plain": [
       "   99.330002\n",
       "0  98.610001\n",
       "1  97.370003\n",
       "2  97.440002\n",
       "3  95.449997\n",
       "4  93.779999"
      ]
     },
     "execution_count": 27,
     "metadata": {},
     "output_type": "execute_result"
    }
   ],
   "source": [
    "# Read in the CSV file\n",
    "df_cba_sixty = pd.read_csv(\"../static/data/cba_sixty.csv\")\n",
    "df_cba_sixty.head()"
   ]
  },
  {
   "cell_type": "code",
   "execution_count": 28,
   "metadata": {},
   "outputs": [
    {
     "data": {
      "text/plain": [
       "(60, 1)"
      ]
     },
     "execution_count": 28,
     "metadata": {},
     "output_type": "execute_result"
    }
   ],
   "source": [
    "close_sixty_val = df_cba_sixty[-60:].values\n",
    "last_sixty = close_sixty_val.reshape(-1,1)\n",
    "last_sixty.shape"
   ]
  },
  {
   "cell_type": "code",
   "execution_count": 29,
   "metadata": {},
   "outputs": [
    {
     "data": {
      "text/plain": [
       "(1, 60, 1)"
      ]
     },
     "execution_count": 29,
     "metadata": {},
     "output_type": "execute_result"
    }
   ],
   "source": [
    "last_sixty_scaled = scaler.transform(last_sixty)\n",
    "new_X_tell = []\n",
    "new_X_tell.append(last_sixty_scaled)\n",
    "new_X_tell =np.array(new_X_tell)\n",
    "new_X_tell =np.reshape(new_X_tell, (new_X_tell.shape[0], new_X_tell.shape[1],1))\n",
    "new_X_tell.shape"
   ]
  },
  {
   "cell_type": "code",
   "execution_count": 30,
   "metadata": {},
   "outputs": [],
   "source": [
    "#PREDICT USING LOADED MODEL"
   ]
  },
  {
   "cell_type": "code",
   "execution_count": 31,
   "metadata": {},
   "outputs": [],
   "source": [
    "from keras.models import load_model"
   ]
  },
  {
   "cell_type": "code",
   "execution_count": 32,
   "metadata": {},
   "outputs": [],
   "source": [
    "model_in = load_model('cba_model.sav')"
   ]
  },
  {
   "cell_type": "code",
   "execution_count": 33,
   "metadata": {},
   "outputs": [
    {
     "data": {
      "text/plain": [
       "array([[0.9285438]], dtype=float32)"
      ]
     },
     "execution_count": 33,
     "metadata": {},
     "output_type": "execute_result"
    }
   ],
   "source": [
    "model_in_pd_scale = model_in.predict(new_X_tell)\n",
    "model_in_pd_scale"
   ]
  },
  {
   "cell_type": "code",
   "execution_count": 34,
   "metadata": {},
   "outputs": [
    {
     "name": "stdout",
     "output_type": "stream",
     "text": [
      "Predicted next day share price [[103.86247]]\n"
     ]
    }
   ],
   "source": [
    "model_in_price = scaler.inverse_transform(model_in_pd_scale)\n",
    "#model_in_price_int = int(model_in_price)\n",
    "print(f'Predicted next day share price {model_in_price}')"
   ]
  },
  {
   "cell_type": "code",
   "execution_count": 35,
   "metadata": {},
   "outputs": [
    {
     "data": {
      "text/plain": [
       "(59, 1)"
      ]
     },
     "execution_count": 35,
     "metadata": {},
     "output_type": "execute_result"
    }
   ],
   "source": [
    "last_sixty_less_one = np.delete(last_sixty, 0, 0)\n",
    "last_sixty_less_one.shape"
   ]
  },
  {
   "cell_type": "code",
   "execution_count": 36,
   "metadata": {},
   "outputs": [
    {
     "data": {
      "text/plain": [
       "(60, 1)"
      ]
     },
     "execution_count": 36,
     "metadata": {},
     "output_type": "execute_result"
    }
   ],
   "source": [
    "last_sixty = np.append(last_sixty_less_one, model_in_price,axis = 0)\n",
    "last_sixty.shape"
   ]
  },
  {
   "cell_type": "markdown",
   "metadata": {},
   "source": [
    "#Create a function to loop through the days input"
   ]
  },
  {
   "cell_type": "code",
   "execution_count": 48,
   "metadata": {},
   "outputs": [],
   "source": [
    "from keras.models import load_model\n",
    "model_in = load_model('cba_model.sav')\n",
    "from sklearn.preprocessing import MinMaxScaler\n",
    "scaler = MinMaxScaler(feature_range=(0,1))\n",
    "# Read in the CSV file\n",
    "df_cba_sixty = pd.read_csv(\"../static/data/cba_sixty.csv\")\n",
    "close_sixty_val = df_cba_sixty[-60:].values\n",
    "last_sixty = close_sixty_val.reshape(-1,1)\n",
    "price_list=[]\n",
    "\n",
    "#Function to predict future days predicted price, in loop\n",
    "input = 80 #days\n",
    "if input == \"\":\n",
    "    input = 1\n",
    "else:\n",
    "   input = int(input)\n",
    "\n",
    "def predict_cba(last_sixty,model_in,input):\n",
    "    for i in range(1, input):\n",
    "\n",
    "        #Takes df and converts to model's predict shape\n",
    "        last_sixty_scaled = scaler.fit_transform(last_sixty)\n",
    "        new_X_tell = []\n",
    "        new_X_tell.append(last_sixty_scaled)\n",
    "        new_X_tell =np.array(new_X_tell)\n",
    "        new_X_tell =np.reshape(new_X_tell, (new_X_tell.shape[0], new_X_tell.shape[1],1))\n",
    "        \n",
    "        model_in_pd_scale = model_in.predict(new_X_tell)\n",
    "        model_in_price = scaler.inverse_transform(model_in_pd_scale) # New price predicted\n",
    "\n",
    "        last_sixty_less_one = np.delete(last_sixty, 0, 0)\n",
    "        last_sixty = np.append(last_sixty_less_one, model_in_price,axis = 0) # Update last 60\n",
    "        print(i)\n",
    "        print(\"Day finished! Price: \")\n",
    "        price_float = float(model_in_price)\n",
    "        price = round(price_float, 2)\n",
    "        price_list.append(price)\n",
    "    else:\n",
    "        print(\"Could not predict further!\")\n",
    "        print(input)\n",
    "    print(price_list)"
   ]
  },
  {
   "cell_type": "code",
   "execution_count": 41,
   "metadata": {},
   "outputs": [
    {
     "data": {
      "text/plain": [
       "2.33"
      ]
     },
     "execution_count": 41,
     "metadata": {},
     "output_type": "execute_result"
    }
   ],
   "source": [
    "n = 2.3336\n",
    "n = float(n)\n",
    "n = round(n,2)\n",
    "n"
   ]
  },
  {
   "cell_type": "code",
   "execution_count": 49,
   "metadata": {},
   "outputs": [
    {
     "name": "stdout",
     "output_type": "stream",
     "text": [
      "1\n",
      "Day finished! Price: \n",
      "2\n",
      "Day finished! Price: \n",
      "3\n",
      "Day finished! Price: \n",
      "4\n",
      "Day finished! Price: \n",
      "5\n",
      "Day finished! Price: \n",
      "6\n",
      "Day finished! Price: \n",
      "7\n",
      "Day finished! Price: \n",
      "8\n",
      "Day finished! Price: \n",
      "9\n",
      "Day finished! Price: \n",
      "10\n",
      "Day finished! Price: \n",
      "11\n",
      "Day finished! Price: \n",
      "12\n",
      "Day finished! Price: \n",
      "13\n",
      "Day finished! Price: \n",
      "14\n",
      "Day finished! Price: \n",
      "15\n",
      "Day finished! Price: \n",
      "16\n",
      "Day finished! Price: \n",
      "17\n",
      "Day finished! Price: \n",
      "18\n",
      "Day finished! Price: \n",
      "19\n",
      "Day finished! Price: \n",
      "20\n",
      "Day finished! Price: \n",
      "21\n",
      "Day finished! Price: \n",
      "22\n",
      "Day finished! Price: \n",
      "23\n",
      "Day finished! Price: \n",
      "24\n",
      "Day finished! Price: \n",
      "25\n",
      "Day finished! Price: \n",
      "26\n",
      "Day finished! Price: \n",
      "27\n",
      "Day finished! Price: \n",
      "28\n",
      "Day finished! Price: \n",
      "29\n",
      "Day finished! Price: \n",
      "30\n",
      "Day finished! Price: \n",
      "31\n",
      "Day finished! Price: \n",
      "32\n",
      "Day finished! Price: \n",
      "33\n",
      "Day finished! Price: \n",
      "34\n",
      "Day finished! Price: \n",
      "35\n",
      "Day finished! Price: \n",
      "36\n",
      "Day finished! Price: \n",
      "37\n",
      "Day finished! Price: \n",
      "38\n",
      "Day finished! Price: \n",
      "39\n",
      "Day finished! Price: \n",
      "40\n",
      "Day finished! Price: \n",
      "41\n",
      "Day finished! Price: \n",
      "42\n",
      "Day finished! Price: \n",
      "43\n",
      "Day finished! Price: \n",
      "44\n",
      "Day finished! Price: \n",
      "45\n",
      "Day finished! Price: \n",
      "46\n",
      "Day finished! Price: \n",
      "47\n",
      "Day finished! Price: \n",
      "48\n",
      "Day finished! Price: \n",
      "49\n",
      "Day finished! Price: \n",
      "50\n",
      "Day finished! Price: \n",
      "51\n",
      "Day finished! Price: \n",
      "52\n",
      "Day finished! Price: \n",
      "53\n",
      "Day finished! Price: \n",
      "54\n",
      "Day finished! Price: \n",
      "55\n",
      "Day finished! Price: \n",
      "56\n",
      "Day finished! Price: \n",
      "57\n",
      "Day finished! Price: \n",
      "58\n",
      "Day finished! Price: \n",
      "59\n",
      "Day finished! Price: \n",
      "60\n",
      "Day finished! Price: \n",
      "61\n",
      "Day finished! Price: \n",
      "62\n",
      "Day finished! Price: \n",
      "63\n",
      "Day finished! Price: \n",
      "64\n",
      "Day finished! Price: \n",
      "65\n",
      "Day finished! Price: \n",
      "66\n",
      "Day finished! Price: \n",
      "67\n",
      "Day finished! Price: \n",
      "68\n",
      "Day finished! Price: \n",
      "69\n",
      "Day finished! Price: \n",
      "70\n",
      "Day finished! Price: \n",
      "71\n",
      "Day finished! Price: \n",
      "72\n",
      "Day finished! Price: \n",
      "73\n",
      "Day finished! Price: \n",
      "74\n",
      "Day finished! Price: \n",
      "75\n",
      "Day finished! Price: \n",
      "76\n",
      "Day finished! Price: \n",
      "77\n",
      "Day finished! Price: \n",
      "78\n",
      "Day finished! Price: \n",
      "79\n",
      "Day finished! Price: \n",
      "Could not predict further!\n",
      "80\n",
      "[106.33, 106.17, 105.94, 105.67, 105.38, 105.08, 104.8, 104.54, 104.31, 104.1, 103.92, 103.77, 103.64, 103.53, 103.43, 103.35, 103.28, 103.21, 103.14, 103.07, 103.0, 102.93, 102.85, 102.77, 102.68, 102.59, 102.5, 102.43, 102.35, 102.26, 102.18, 102.1, 102.05, 102.03, 102.02, 101.98, 102.0, 101.99, 101.97, 101.96, 101.95, 101.93, 101.92, 101.9, 101.88, 101.86, 101.83, 101.81, 101.78, 101.76, 101.73, 101.7, 101.68, 101.65, 101.62, 101.6, 101.57, 101.54, 101.52, 101.5, 101.47, 101.45, 101.43, 101.42, 101.4, 101.39, 101.38, 101.36, 101.36, 101.35, 101.34, 101.33, 101.32, 101.31, 101.31, 101.3, 101.29, 101.28, 101.28]\n"
     ]
    }
   ],
   "source": [
    "predict_cba(last_sixty,model_in,input)"
   ]
  },
  {
   "cell_type": "markdown",
   "metadata": {},
   "source": [
    "#Save predicted price to MongoDB"
   ]
  },
  {
   "cell_type": "code",
   "execution_count": 46,
   "metadata": {},
   "outputs": [],
   "source": [
    "# # Module used to connect Python with MongoDb\n",
    "# import pymongo"
   ]
  },
  {
   "cell_type": "code",
   "execution_count": 47,
   "metadata": {},
   "outputs": [],
   "source": [
    "# # The default port used by MongoDB is 27017\n",
    "# # https://docs.mongodb.com/manual/reference/default-mongodb-port/\n",
    "# conn = 'mongodb://localhost:27017'\n",
    "# client = pymongo.MongoClient(conn)\n",
    "\n",
    "# # Define the 'sharesDB' database in Mongo\n",
    "# db = client.sharesDB"
   ]
  },
  {
   "cell_type": "code",
   "execution_count": 48,
   "metadata": {},
   "outputs": [],
   "source": [
    "# # Query all\n",
    "# # Here, db.companys refers to the collection 'companys '\n",
    "# companys = db.companys.find()\n",
    "\n",
    "# # Iterate through each company in the collection\n",
    "# for company in companys:\n",
    "#     print(company)"
   ]
  },
  {
   "cell_type": "code",
   "execution_count": 49,
   "metadata": {},
   "outputs": [],
   "source": [
    "# # Set keys and values of company\n",
    "# name = 'CBA'\n",
    "# predicted = int(pred_price)\n",
    "# difference = pred_price-actual_price\n",
    "# print(f'date {actual_date},predicted {predicted},actual {actual_price}, difference {difference}')"
   ]
  },
  {
   "cell_type": "code",
   "execution_count": 50,
   "metadata": {},
   "outputs": [],
   "source": [
    "# # Insert a document into the 'companys' collection\n",
    "# db.companys.insert_one(\n",
    "#     {\n",
    "#       'model': 'LSTM',\n",
    "#       'name': name,\n",
    "#       'date': actual_date,\n",
    "#       'predicted': predicted,\n",
    "#       'actual': actual_price,\n",
    "#       'differece': difference\n",
    "#     }\n",
    "# )\n",
    "\n",
    "# # query the classroom collection\n",
    "# companys = db.companys.find()\n",
    "\n",
    "# # see change in collection\n",
    "# for company in companys:\n",
    "#     print(company)"
   ]
  },
  {
   "cell_type": "code",
   "execution_count": 51,
   "metadata": {},
   "outputs": [],
   "source": [
    "# # Delete a document from a collection\n",
    "# db.companys.delete_one(\n",
    "#     {'name': 'CBA'}\n",
    "# )\n",
    "\n",
    "# # query the companys collection\n",
    "# companys = db.companys.find()\n",
    "\n",
    "# # see change in the collection\n",
    "# for company in companys:\n",
    "#     print(company)"
   ]
  },
  {
   "cell_type": "code",
   "execution_count": 52,
   "metadata": {},
   "outputs": [],
   "source": [
    "# from pymongo import MongoClient\n",
    "# mongoClient = MongoClient()\n",
    "# db = mongoClient.sharesDB\n",
    "# db.cba.drop()\n",
    "\n",
    "# import csv\n",
    "# header = [\"Date\",\"Open\",\"High\",\"Low\",\"Close\",\"Adj Close\",\"Volume\",\"SENTIMENT\",\"RBA\",\"FED\"]\n",
    "# csvfile = open('../static/data/cba.csv', 'r')\n",
    "# reader = csv.DictReader( csvfile )\n",
    "\n",
    "# for each in reader:\n",
    "#     row={}\n",
    "#     for field in header:\n",
    "#         row[field]=each[field]\n",
    "        \n",
    "#     print (row)\n",
    "#     db.cba.insert_one(row)\t\t\t\t \t\t\t\t"
   ]
  },
  {
   "cell_type": "code",
   "execution_count": 53,
   "metadata": {},
   "outputs": [],
   "source": [
    "# # query the collection\n",
    "# cbas = db.cba.find()\n",
    "\n",
    "# # see change in collection\n",
    "# for cba in cbas:\n",
    "#     print(cba)"
   ]
  },
  {
   "cell_type": "code",
   "execution_count": 54,
   "metadata": {},
   "outputs": [
    {
     "name": "stdout",
     "output_type": "stream",
     "text": [
      "{'Date': '4/01/2022', 'Open': '102', 'High': '102.82', 'Low': '101.300003', 'Close': '102.510002', 'Adj Close': '100.706886', 'Volume': '2195465', 'SENTIMENT': 'POSITIVE', 'RBA': '0.05', 'FED': '0.08'}\n",
      "{'Date': '5/01/2022', 'Open': '103.279999', 'High': '103.480003', 'Low': '102.620003', 'Close': '103.199997', 'Adj Close': '101.384743', 'Volume': '2086996', 'SENTIMENT': 'NEGATIVE', 'RBA': '0.05', 'FED': '0.08'}\n",
      "{'Date': '6/01/2022', 'Open': '102.800003', 'High': '103.129997', 'Low': '99.779999', 'Close': '99.970001', 'Adj Close': '98.211563', 'Volume': '2603548', 'SENTIMENT': 'POSITIVE', 'RBA': '0.05', 'FED': '0.08'}\n",
      "{'Date': '7/01/2022', 'Open': '101.989998', 'High': '102.870003', 'Low': '101.889999', 'Close': '102.650002', 'Adj Close': '100.844421', 'Volume': '2596039', 'SENTIMENT': 'POSITIVE', 'RBA': '0.05', 'FED': '0.08'}\n",
      "{'Date': '10/01/2022', 'Open': '102.870003', 'High': '103.32', 'Low': '102.080002', 'Close': '103.32', 'Adj Close': '101.502632', 'Volume': '1467407', 'SENTIMENT': 'NEGATIVE', 'RBA': '0.05', 'FED': '0.08'}\n",
      "{'Date': '11/01/2022', 'Open': '102.519997', 'High': '102.889999', 'Low': '100.620003', 'Close': '101.760002', 'Adj Close': '99.970078', 'Volume': '2346000', 'SENTIMENT': 'NEGATIVE', 'RBA': '0.05', 'FED': '0.08'}\n",
      "{'Date': '12/01/2022', 'Open': '102.150002', 'High': '102.480003', 'Low': '100.82', 'Close': '101.580002', 'Adj Close': '99.793243', 'Volume': '1557284', 'SENTIMENT': 'POSITIVE', 'RBA': '0.05', 'FED': '0.08'}\n",
      "{'Date': '13/01/2022', 'Open': '101.900002', 'High': '102.440002', 'Low': '101.690002', 'Close': '102.120003', 'Adj Close': '100.323746', 'Volume': '1639007', 'SENTIMENT': 'NEGATIVE', 'RBA': '0.05', 'FED': '0.08'}\n",
      "{'Date': '14/01/2022', 'Open': '101.760002', 'High': '102.650002', 'Low': '100.5', 'Close': '100.849998', 'Adj Close': '99.07608', 'Volume': '2155504', 'SENTIMENT': 'POSITIVE', 'RBA': '0.05', 'FED': '0.08'}\n",
      "{'Date': '17/01/2022', 'Open': '101.849998', 'High': '101.849998', 'Low': '100.809998', 'Close': '101.160004', 'Adj Close': '99.38063', 'Volume': '1467142', 'SENTIMENT': 'NEGATIVE', 'RBA': '0.05', 'FED': '0.08'}\n",
      "{'Date': '18/01/2022', 'Open': '101', 'High': '101.230003', 'Low': '100.599998', 'Close': '100.790001', 'Adj Close': '99.017136', 'Volume': '1264465', 'SENTIMENT': 'NEGATIVE', 'RBA': '0.05', 'FED': '0.08'}\n",
      "{'Date': '19/01/2022', 'Open': '100.389999', 'High': '100.629997', 'Low': '98.830002', 'Close': '99.330002', 'Adj Close': '97.582817', 'Volume': '2638102', 'SENTIMENT': 'NEGATIVE', 'RBA': '0.05', 'FED': '0.08'}\n",
      "{'Date': '20/01/2022', 'Open': '98.139999', 'High': '99.050003', 'Low': '97.650002', 'Close': '98.610001', 'Adj Close': '96.875481', 'Volume': '2895501', 'SENTIMENT': 'NEGATIVE', 'RBA': '0.05', 'FED': '0.08'}\n",
      "{'Date': '21/01/2022', 'Open': '97.809998', 'High': '98.309998', 'Low': '97.010002', 'Close': '97.370003', 'Adj Close': '95.657295', 'Volume': '3593016', 'SENTIMENT': 'POSITIVE', 'RBA': '0.05', 'FED': '0.08'}\n",
      "{'Date': '24/01/2022', 'Open': '97', 'High': '98.07', 'Low': '96.699997', 'Close': '97.440002', 'Adj Close': '95.726067', 'Volume': '1889354', 'SENTIMENT': 'NEGATIVE', 'RBA': '0.05', 'FED': '0.08'}\n",
      "{'Date': '25/01/2022', 'Open': '96.709999', 'High': '97.150002', 'Low': '93.870003', 'Close': '95.449997', 'Adj Close': '93.771065', 'Volume': '5802823', 'SENTIMENT': 'NEGATIVE', 'RBA': '0.05', 'FED': '0.08'}\n",
      "{'Date': '27/01/2022', 'Open': '96.050003', 'High': '97.82', 'Low': '93.010002', 'Close': '93.779999', 'Adj Close': '92.13044', 'Volume': '5359270', 'SENTIMENT': 'POSITIVE', 'RBA': '0.05', 'FED': '0.08'}\n",
      "{'Date': '28/01/2022', 'Open': '94.760002', 'High': '96.010002', 'Low': '92.370003', 'Close': '95.669998', 'Adj Close': '93.98719', 'Volume': '13796397', 'SENTIMENT': 'NEGATIVE', 'RBA': '0.05', 'FED': '0.08'}\n",
      "{'Date': '31/01/2022', 'Open': '95.010002', 'High': '95.230003', 'Low': '93.739998', 'Close': '93.739998', 'Adj Close': '92.091141', 'Volume': '3146452', 'SENTIMENT': 'POSITIVE', 'RBA': '0.05', 'FED': '0.08'}\n",
      "{'Date': '1/02/2022', 'Open': '94.150002', 'High': '94.989998', 'Low': '93.220001', 'Close': '93.93', 'Adj Close': '92.277802', 'Volume': '2611835', 'SENTIMENT': 'POSITIVE', 'RBA': '0.05', 'FED': '0.08'}\n",
      "{'Date': '2/02/2022', 'Open': '94.5', 'High': '95.07', 'Low': '94.220001', 'Close': '94.739998', 'Adj Close': '93.073547', 'Volume': '2078320', 'SENTIMENT': 'NEGATIVE', 'RBA': '0.05', 'FED': '0.08'}\n",
      "{'Date': '3/02/2022', 'Open': '93.5', 'High': '94.889999', 'Low': '92.610001', 'Close': '93.440002', 'Adj Close': '91.796425', 'Volume': '3331673', 'SENTIMENT': 'POSITIVE', 'RBA': '0.05', 'FED': '0.08'}\n",
      "{'Date': '4/02/2022', 'Open': '92.940002', 'High': '94.099998', 'Low': '92.82', 'Close': '94.099998', 'Adj Close': '92.444809', 'Volume': '3237852', 'SENTIMENT': 'NEGATIVE', 'RBA': '0.05', 'FED': '0.08'}\n",
      "{'Date': '7/02/2022', 'Open': '93.400002', 'High': '94.209999', 'Low': '92.440002', 'Close': '94', 'Adj Close': '92.346573', 'Volume': '3137168', 'SENTIMENT': 'POSITIVE', 'RBA': '0.05', 'FED': '0.08'}\n",
      "{'Date': '8/02/2022', 'Open': '93.07', 'High': '94.629997', 'Low': '92.949997', 'Close': '94.300003', 'Adj Close': '92.641296', 'Volume': '2890934', 'SENTIMENT': 'POSITIVE', 'RBA': '0.05', 'FED': '0.08'}\n",
      "{'Date': '9/02/2022', 'Open': '99.010002', 'High': '99.889999', 'Low': '97.910004', 'Close': '99.559998', 'Adj Close': '97.808769', 'Volume': '5436704', 'SENTIMENT': 'POSITIVE', 'RBA': '0.05', 'FED': '0.08'}\n",
      "{'Date': '10/02/2022', 'Open': '100', 'High': '100.779999', 'Low': '98.639999', 'Close': '100.779999', 'Adj Close': '99.007309', 'Volume': '4167883', 'SENTIMENT': 'NEGATIVE', 'RBA': '0.05', 'FED': '0.08'}\n",
      "{'Date': '11/02/2022', 'Open': '99.419998', 'High': '100.18', 'Low': '98.330002', 'Close': '98.550003', 'Adj Close': '96.816536', 'Volume': '3457229', 'SENTIMENT': 'POSITIVE', 'RBA': '0.05', 'FED': '0.08'}\n",
      "{'Date': '14/02/2022', 'Open': '98.300003', 'High': '100.510002', 'Low': '98.199997', 'Close': '100.040001', 'Adj Close': '98.280327', 'Volume': '2578374', 'SENTIMENT': 'NEGATIVE', 'RBA': '0.05', 'FED': '0.08'}\n",
      "{'Date': '15/02/2022', 'Open': '99.080002', 'High': '100.349998', 'Low': '98.93', 'Close': '99.489998', 'Adj Close': '97.739998', 'Volume': '2667416', 'SENTIMENT': 'POSITIVE', 'RBA': '0.05', 'FED': '0.08'}\n",
      "{'Date': '16/02/2022', 'Open': '98.410004', 'High': '98.82', 'Low': '97.540001', 'Close': '98.57', 'Adj Close': '98.57', 'Volume': '3647780', 'SENTIMENT': 'POSITIVE', 'RBA': '0.05', 'FED': '0.08'}\n",
      "{'Date': '17/02/2022', 'Open': '98.589996', 'High': '99.309998', 'Low': '98.139999', 'Close': '98.809998', 'Adj Close': '98.809998', 'Volume': '2591681', 'SENTIMENT': 'NEGATIVE', 'RBA': '0.05', 'FED': '0.08'}\n",
      "{'Date': '18/02/2022', 'Open': '98', 'High': '98.580002', 'Low': '97.410004', 'Close': '97.75', 'Adj Close': '97.75', 'Volume': '2361575', 'SENTIMENT': 'POSITIVE', 'RBA': '0.05', 'FED': '0.08'}\n",
      "{'Date': '21/02/2022', 'Open': '96.949997', 'High': '98.339996', 'Low': '96.239998', 'Close': '98.089996', 'Adj Close': '98.089996', 'Volume': '1968627', 'SENTIMENT': 'NEGATIVE', 'RBA': '0.05', 'FED': '0.08'}\n",
      "{'Date': '22/02/2022', 'Open': '96.360001', 'High': '96.830002', 'Low': '95.050003', 'Close': '96.040001', 'Adj Close': '96.040001', 'Volume': '2688137', 'SENTIMENT': 'POSITIVE', 'RBA': '0.05', 'FED': '0.08'}\n",
      "{'Date': '23/02/2022', 'Open': '96.040001', 'High': '96.949997', 'Low': '95.809998', 'Close': '96.690002', 'Adj Close': '96.690002', 'Volume': '2267917', 'SENTIMENT': 'NEGATIVE', 'RBA': '0.05', 'FED': '0.08'}\n",
      "{'Date': '24/02/2022', 'Open': '95.919998', 'High': '96.220001', 'Low': '94.440002', 'Close': '94.709999', 'Adj Close': '94.709999', 'Volume': '3504427', 'SENTIMENT': 'NEGATIVE', 'RBA': '0.05', 'FED': '0.08'}\n",
      "{'Date': '25/02/2022', 'Open': '95.620003', 'High': '95.900002', 'Low': '93.529999', 'Close': '93.879997', 'Adj Close': '93.879997', 'Volume': '4902678', 'SENTIMENT': 'NEGATIVE', 'RBA': '0.05', 'FED': '0.08'}\n",
      "{'Date': '28/02/2022', 'Open': '94.279999', 'High': '94.940002', 'Low': '92.540001', 'Close': '93.459999', 'Adj Close': '93.459999', 'Volume': '10046963', 'SENTIMENT': 'POSITIVE', 'RBA': '0.05', 'FED': '0.08'}\n",
      "{'Date': '1/03/2022', 'Open': '94.010002', 'High': '96.235001', 'Low': '93.889999', 'Close': '94.82', 'Adj Close': '94.82', 'Volume': '2320712', 'SENTIMENT': 'NEGATIVE', 'RBA': '0.05', 'FED': '0.08'}\n",
      "{'Date': '2/03/2022', 'Open': '92.589996', 'High': '95.199997', 'Low': '92.589996', 'Close': '94.699997', 'Adj Close': '94.699997', 'Volume': '3049670', 'SENTIMENT': 'NEGATIVE', 'RBA': '0.05', 'FED': '0.08'}\n",
      "{'Date': '3/03/2022', 'Open': '95.260002', 'High': '95.449997', 'Low': '94.139999', 'Close': '94.510002', 'Adj Close': '94.510002', 'Volume': '4427098', 'SENTIMENT': 'POSITIVE', 'RBA': '0.05', 'FED': '0.08'}\n",
      "{'Date': '4/03/2022', 'Open': '94.800003', 'High': '95.050003', 'Low': '93.459999', 'Close': '94.599998', 'Adj Close': '94.599998', 'Volume': '3169612', 'SENTIMENT': 'POSITIVE', 'RBA': '0.05', 'FED': '0.08'}\n",
      "{'Date': '7/03/2022', 'Open': '94.25', 'High': '94.849998', 'Low': '93.650002', 'Close': '94.639999', 'Adj Close': '94.639999', 'Volume': '3315111', 'SENTIMENT': 'POSITIVE', 'RBA': '0.05', 'FED': '0.08'}\n",
      "{'Date': '8/03/2022', 'Open': '94.599998', 'High': '96.239998', 'Low': '94.410004', 'Close': '95.589996', 'Adj Close': '95.589996', 'Volume': '3711886', 'SENTIMENT': 'POSITIVE', 'RBA': '0.05', 'FED': '0.08'}\n",
      "{'Date': '9/03/2022', 'Open': '95.25', 'High': '97.790001', 'Low': '94.879997', 'Close': '97.410004', 'Adj Close': '97.410004', 'Volume': '2627749', 'SENTIMENT': 'POSITIVE', 'RBA': '0.05', 'FED': '0.08'}\n",
      "{'Date': '10/03/2022', 'Open': '98.25', 'High': '99.919998', 'Low': '98.099998', 'Close': '99.739998', 'Adj Close': '99.739998', 'Volume': '3458497', 'SENTIMENT': 'NEGATIVE', 'RBA': '0.05', 'FED': '0.08'}\n",
      "{'Date': '11/03/2022', 'Open': '98.709999', 'High': '100.105003', 'Low': '98.629997', 'Close': '99.379997', 'Adj Close': '99.379997', 'Volume': '3634352', 'SENTIMENT': 'POSITIVE', 'RBA': '0.05', 'FED': '0.08'}\n",
      "{'Date': '14/03/2022', 'Open': '100.330002', 'High': '102.080002', 'Low': '100.099998', 'Close': '102', 'Adj Close': '102', 'Volume': '3220955', 'SENTIMENT': 'POSITIVE', 'RBA': '0.05', 'FED': '0.08'}\n",
      "{'Date': '15/03/2022', 'Open': '102.550003', 'High': '103.800003', 'Low': '102.300003', 'Close': '103.779999', 'Adj Close': '103.779999', 'Volume': '3188234', 'SENTIMENT': 'POSITIVE', 'RBA': '0.05', 'FED': '0.08'}\n",
      "{'Date': '16/03/2022', 'Open': '104.309998', 'High': '104.790001', 'Low': '103.730003', 'Close': '104.760002', 'Adj Close': '104.760002', 'Volume': '2869840', 'SENTIMENT': 'POSITIVE', 'RBA': '0.05', 'FED': '0.08'}\n",
      "{'Date': '17/03/2022', 'Open': '107', 'High': '107', 'Low': '105.279999', 'Close': '106.150002', 'Adj Close': '106.150002', 'Volume': '3996962', 'SENTIMENT': 'POSITIVE', 'RBA': '0.05', 'FED': '0.08'}\n",
      "{'Date': '18/03/2022', 'Open': '105.739998', 'High': '106.290001', 'Low': '105.099998', 'Close': '106.290001', 'Adj Close': '106.290001', 'Volume': '6310578', 'SENTIMENT': 'NEGATIVE', 'RBA': '0.05', 'FED': '0.08'}\n",
      "{'Date': '21/03/2022', 'Open': '106.290001', 'High': '107.349998', 'Low': '105.699997', 'Close': '105.699997', 'Adj Close': '105.699997', 'Volume': '2217058', 'SENTIMENT': 'POSITIVE', 'RBA': '0.05', 'FED': '0.08'}\n",
      "{'Date': '22/03/2022', 'Open': '106.900002', 'High': '107.300003', 'Low': '106.07', 'Close': '106.07', 'Adj Close': '106.07', 'Volume': '1773598', 'SENTIMENT': 'POSITIVE', 'RBA': '0.05', 'FED': '0.08'}\n",
      "{'Date': '23/03/2022', 'Open': '106.629997', 'High': '107.459999', 'Low': '106.43', 'Close': '107.449997', 'Adj Close': '107.449997', 'Volume': '1705322', 'SENTIMENT': 'NEGATIVE', 'RBA': '0.05', 'FED': '0.08'}\n",
      "{'Date': '24/03/2022', 'Open': '106.349998', 'High': '107.349998', 'Low': '106.25', 'Close': '107.349998', 'Adj Close': '107.349998', 'Volume': '1676029', 'SENTIMENT': 'NEGATIVE', 'RBA': '0.05', 'FED': '0.08'}\n",
      "{'Date': '25/03/2022', 'Open': '107.290001', 'High': '107.769997', 'Low': '105.919998', 'Close': '105.919998', 'Adj Close': '105.919998', 'Volume': '2925283', 'SENTIMENT': 'POSITIVE', 'RBA': '0.05', 'FED': '0.08'}\n",
      "{'Date': '28/03/2022', 'Open': '106.980003', 'High': '107.040001', 'Low': '106', 'Close': '106.139999', 'Adj Close': '106.139999', 'Volume': '1280146', 'SENTIMENT': 'POSITIVE', 'RBA': '0.05', 'FED': '0.08'}\n",
      "{'Date': '29/03/2022', 'Open': '106.449997', 'High': '107.099998', 'Low': '106.269997', 'Close': '106.370003', 'Adj Close': '106.370003', 'Volume': '1579916', 'SENTIMENT': 'POSITIVE', 'RBA': '0.05', 'FED': '0.08'}\n",
      "{'Date': '30/03/2022', 'Open': '106.980003', 'High': '107.540001', 'Low': '106.489998', 'Close': '107.07', 'Adj Close': '107.07', 'Volume': '1735594', 'SENTIMENT': 'NEGATIVE', 'RBA': '0.05', 'FED': '0.08'}\n",
      "{'Date': '31/03/2022', 'Open': '107.199997', 'High': '107.339996', 'Low': '105.769997', 'Close': '105.769997', 'Adj Close': '105.769997', 'Volume': '3259035', 'SENTIMENT': 'NEGATIVE', 'RBA': '0.05', 'FED': '0.08'}\n",
      "{'Date': '1/04/2022', 'Open': '105.769997', 'High': '106.129997', 'Low': '104.519997', 'Close': '104.529999', 'Adj Close': '104.529999', 'Volume': '2047994', 'SENTIMENT': 'NEGATIVE', 'RBA': '0.05', 'FED': '0.08'}\n",
      "{'Date': '4/04/2022', 'Open': '104.790001', 'High': '105.239998', 'Low': '103.720001', 'Close': '103.720001', 'Adj Close': '103.720001', 'Volume': '1542723', 'SENTIMENT': 'POSITIVE', 'RBA': '0.05', 'FED': '0.08'}\n",
      "{'Date': '5/04/2022', 'Open': '104.07', 'High': '104.849998', 'Low': '103.839996', 'Close': '104.360001', 'Adj Close': '104.360001', 'Volume': '1304088', 'SENTIMENT': 'POSITIVE', 'RBA': '0.05', 'FED': '0.08'}\n",
      "{'Date': '6/04/2022', 'Open': '104.040001', 'High': '105.790001', 'Low': '103.760002', 'Close': '105.709999', 'Adj Close': '105.709999', 'Volume': '1879653', 'SENTIMENT': 'NEGATIVE', 'RBA': '0.05', 'FED': '0.08'}\n",
      "{'Date': '7/04/2022', 'Open': '105.019997', 'High': '105.559998', 'Low': '104.639999', 'Close': '105.239998', 'Adj Close': '105.239998', 'Volume': '1347251', 'SENTIMENT': 'POSITIVE', 'RBA': '0.05', 'FED': '0.08'}\n",
      "{'Date': '8/04/2022', 'Open': '105.650002', 'High': '105.699997', 'Low': '104.900002', 'Close': '105.379997', 'Adj Close': '105.379997', 'Volume': '1740982', 'SENTIMENT': 'POSITIVE', 'RBA': '0.05', 'FED': '0.08'}\n",
      "{'Date': '11/04/2022', 'Open': '105.800003', 'High': '107.120003', 'Low': '105.75', 'Close': '106.879997', 'Adj Close': '106.879997', 'Volume': '1515505', 'SENTIMENT': 'NEGATIVE', 'RBA': '0.05', 'FED': '0.08'}\n",
      "{'Date': '12/04/2022', 'Open': '106.790001', 'High': '107.080002', 'Low': '106', 'Close': '106.709999', 'Adj Close': '106.709999', 'Volume': '1334658', 'SENTIMENT': 'NEGATIVE', 'RBA': '0.05', 'FED': '0.08'}\n",
      "{'Date': '13/04/2022', 'Open': '106.550003', 'High': '106.900002', 'Low': '106.080002', 'Close': '106.550003', 'Adj Close': '106.550003', 'Volume': '1479813', 'SENTIMENT': 'NEGATIVE', 'RBA': '0.05', 'FED': '0.08'}\n",
      "{'Date': '14/04/2022', 'Open': '105.910004', 'High': '107.105003', 'Low': '105.830002', 'Close': '106.5', 'Adj Close': '106.5', 'Volume': '1393778', 'SENTIMENT': 'NEGATIVE', 'RBA': '0.05', 'FED': '0.08'}\n"
     ]
    }
   ],
   "source": [
    "from pymongo import MongoClient\n",
    "mongoClient = MongoClient()\n",
    "db = mongoClient.sharesDB\n",
    "db.cba_scatter.drop()\n",
    "\n",
    "import csv\n",
    "header = [\"Date\",\"Open\",\"High\",\"Low\",\"Close\",\"Adj Close\",\"Volume\",\"SENTIMENT\",\"RBA\",\"FED\"]\n",
    "csvfile = open('../static/data/cba_scatter.csv', 'r')\n",
    "reader = csv.DictReader( csvfile )\n",
    "\n",
    "for each in reader:\n",
    "    row={}\n",
    "    for field in header:\n",
    "        row[field]=each[field]\n",
    "        \n",
    "    print (row)\n",
    "    db.cba_scatter.insert_one(row)\t\t\t\t \t\t\t\t"
   ]
  }
 ],
 "metadata": {
  "interpreter": {
   "hash": "3059867ecbaf26750e76effc478ab3c7b6fe2c4d25ba12aeebe66bc85b0df6cc"
  },
  "kernel_info": {
   "name": "dev"
  },
  "kernelspec": {
   "display_name": "Python [conda root]",
   "language": "python",
   "name": "python3"
  },
  "language_info": {
   "codemirror_mode": {
    "name": "ipython",
    "version": 3
   },
   "file_extension": ".py",
   "mimetype": "text/x-python",
   "name": "python",
   "nbconvert_exporter": "python",
   "pygments_lexer": "ipython3",
   "version": "3.9.7"
  },
  "nteract": {
   "version": "0.12.3"
  }
 },
 "nbformat": 4,
 "nbformat_minor": 2
}
