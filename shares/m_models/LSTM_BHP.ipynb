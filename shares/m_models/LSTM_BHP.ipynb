{
 "cells": [
  {
   "cell_type": "markdown",
   "metadata": {},
   "source": [
    "#This model uses LSTM to predict a Daily share price movements based on time series and batches of 60 days"
   ]
  },
  {
   "cell_type": "markdown",
   "metadata": {},
   "source": [
    "# Read the CSV and Perform Basic Data Cleaning"
   ]
  },
  {
   "cell_type": "code",
   "execution_count": 3,
   "metadata": {},
   "outputs": [],
   "source": [
    "import matplotlib.pyplot as plt\n",
    "import numpy as np\n",
    "import pandas as pd"
   ]
  },
  {
   "cell_type": "code",
   "execution_count": 4,
   "metadata": {},
   "outputs": [
    {
     "data": {
      "text/html": [
       "<div>\n",
       "<style scoped>\n",
       "    .dataframe tbody tr th:only-of-type {\n",
       "        vertical-align: middle;\n",
       "    }\n",
       "\n",
       "    .dataframe tbody tr th {\n",
       "        vertical-align: top;\n",
       "    }\n",
       "\n",
       "    .dataframe thead th {\n",
       "        text-align: right;\n",
       "    }\n",
       "</style>\n",
       "<table border=\"1\" class=\"dataframe\">\n",
       "  <thead>\n",
       "    <tr style=\"text-align: right;\">\n",
       "      <th></th>\n",
       "      <th>Date</th>\n",
       "      <th>Open</th>\n",
       "      <th>High</th>\n",
       "      <th>Low</th>\n",
       "      <th>Close</th>\n",
       "      <th>Adj Close</th>\n",
       "      <th>Volume</th>\n",
       "    </tr>\n",
       "  </thead>\n",
       "  <tbody>\n",
       "    <tr>\n",
       "      <th>0</th>\n",
       "      <td>3/01/2000</td>\n",
       "      <td>8.317775</td>\n",
       "      <td>8.317775</td>\n",
       "      <td>8.317775</td>\n",
       "      <td>8.317775</td>\n",
       "      <td>3.598320</td>\n",
       "      <td>0.0</td>\n",
       "    </tr>\n",
       "    <tr>\n",
       "      <th>1</th>\n",
       "      <td>4/01/2000</td>\n",
       "      <td>8.317359</td>\n",
       "      <td>8.620943</td>\n",
       "      <td>8.317359</td>\n",
       "      <td>8.608466</td>\n",
       "      <td>3.724075</td>\n",
       "      <td>9525499.0</td>\n",
       "    </tr>\n",
       "    <tr>\n",
       "      <th>2</th>\n",
       "      <td>5/01/2000</td>\n",
       "      <td>8.404691</td>\n",
       "      <td>8.462913</td>\n",
       "      <td>8.300724</td>\n",
       "      <td>8.408018</td>\n",
       "      <td>3.637360</td>\n",
       "      <td>8727404.0</td>\n",
       "    </tr>\n",
       "    <tr>\n",
       "      <th>3</th>\n",
       "      <td>6/01/2000</td>\n",
       "      <td>8.425485</td>\n",
       "      <td>8.566880</td>\n",
       "      <td>8.425485</td>\n",
       "      <td>8.462913</td>\n",
       "      <td>3.661107</td>\n",
       "      <td>7274950.0</td>\n",
       "    </tr>\n",
       "    <tr>\n",
       "      <th>4</th>\n",
       "      <td>7/01/2000</td>\n",
       "      <td>8.487449</td>\n",
       "      <td>8.941161</td>\n",
       "      <td>8.483706</td>\n",
       "      <td>8.880860</td>\n",
       "      <td>3.841914</td>\n",
       "      <td>15832421.0</td>\n",
       "    </tr>\n",
       "  </tbody>\n",
       "</table>\n",
       "</div>"
      ],
      "text/plain": [
       "        Date      Open      High       Low     Close  Adj Close      Volume\n",
       "0  3/01/2000  8.317775  8.317775  8.317775  8.317775   3.598320         0.0\n",
       "1  4/01/2000  8.317359  8.620943  8.317359  8.608466   3.724075   9525499.0\n",
       "2  5/01/2000  8.404691  8.462913  8.300724  8.408018   3.637360   8727404.0\n",
       "3  6/01/2000  8.425485  8.566880  8.425485  8.462913   3.661107   7274950.0\n",
       "4  7/01/2000  8.487449  8.941161  8.483706  8.880860   3.841914  15832421.0"
      ]
     },
     "execution_count": 4,
     "metadata": {},
     "output_type": "execute_result"
    }
   ],
   "source": [
    "df_stock1 = pd.read_csv(\"../static/data/bhp.csv\")\n",
    "# Drop the null columns where all values are null\n",
    "df_stock2 = df_stock1.dropna(axis='columns', how='all')\n",
    "# Drop the null rows\n",
    "df_stock3 = df_stock2.dropna()\n",
    "# Drop the last rows to test prediction to actual\n",
    "df_stock_less1= df_stock3.iloc[:-1,:]\n",
    "# Drop last 3 columns sentiment RBA FED\n",
    "N=3\n",
    "df = df_stock_less1.iloc[: , :-N]\n",
    "df.head()"
   ]
  },
  {
   "cell_type": "code",
   "execution_count": 5,
   "metadata": {},
   "outputs": [
    {
     "data": {
      "text/plain": [
       "<AxesSubplot:>"
      ]
     },
     "execution_count": 5,
     "metadata": {},
     "output_type": "execute_result"
    },
    {
     "data": {
      "image/png": "[encoded data removed]",
      "text/plain": [
       "<Figure size 432x288 with 1 Axes>"
      ]
     },
     "metadata": {
      "needs_background": "light"
     },
     "output_type": "display_data"
    }
   ],
   "source": [
    "df[\"Close\"].plot()"
   ]
  },
  {
   "cell_type": "code",
   "execution_count": 6,
   "metadata": {},
   "outputs": [
    {
     "name": "stdout",
     "output_type": "stream",
     "text": [
      "<class 'pandas.core.frame.DataFrame'>\n",
      "Int64Index: 5649 entries, 0 to 5683\n",
      "Data columns (total 7 columns):\n",
      " #   Column     Non-Null Count  Dtype  \n",
      "---  ------     --------------  -----  \n",
      " 0   Date       5649 non-null   object \n",
      " 1   Open       5649 non-null   float64\n",
      " 2   High       5649 non-null   float64\n",
      " 3   Low        5649 non-null   float64\n",
      " 4   Close      5649 non-null   float64\n",
      " 5   Adj Close  5649 non-null   float64\n",
      " 6   Volume     5649 non-null   float64\n",
      "dtypes: float64(6), object(1)\n",
      "memory usage: 353.1+ KB\n"
     ]
    }
   ],
   "source": [
    "df.info()"
   ]
  },
  {
   "cell_type": "code",
   "execution_count": 7,
   "metadata": {},
   "outputs": [
    {
     "data": {
      "text/plain": [
       "(5649, 1)"
      ]
     },
     "execution_count": 7,
     "metadata": {},
     "output_type": "execute_result"
    }
   ],
   "source": [
    "data = df.filter(['Close'])\n",
    "dataset = data.values\n",
    "dataset.shape\n"
   ]
  },
  {
   "cell_type": "markdown",
   "metadata": {},
   "source": [
    "# # Pre-processing : Scale the data using the MinMaxScaler and split train data"
   ]
  },
  {
   "cell_type": "code",
   "execution_count": 8,
   "metadata": {},
   "outputs": [
    {
     "data": {
      "text/plain": [
       "(4520, 1)"
      ]
     },
     "execution_count": 8,
     "metadata": {},
     "output_type": "execute_result"
    }
   ],
   "source": [
    "# Scale your data\n",
    "from sklearn.preprocessing import MinMaxScaler\n",
    "\n",
    "scaler = MinMaxScaler(feature_range=(0,1))\n",
    "dataset_scaled = scaler.fit_transform(dataset)\n",
    "\n",
    "# Split into train or test\n",
    "import math\n",
    "train_data_len = math.ceil(len(dataset)*.8)\n",
    "train_data = dataset_scaled[0:train_data_len,:]\n",
    "train_data.shape\n"
   ]
  },
  {
   "cell_type": "code",
   "execution_count": 9,
   "metadata": {},
   "outputs": [
    {
     "name": "stdout",
     "output_type": "stream",
     "text": [
      "[array([0.03689818, 0.04301868, 0.03879825, 0.03995406, 0.04875393,\n",
      "       0.05019868, 0.04476991, 0.04115365, 0.04037434, 0.04132876,\n",
      "       0.03948999, 0.03688943, 0.03315933, 0.03768623, 0.03322062,\n",
      "       0.0315482 , 0.03195974, 0.02988456, 0.02813333, 0.02590054,\n",
      "       0.02338752, 0.02550651, 0.02375529, 0.02217919, 0.02641714,\n",
      "       0.02813333, 0.02244188, 0.01572595, 0.01526187, 0.01167187,\n",
      "       0.01762601, 0.01149676, 0.01071747, 0.00711871, 0.01105894,\n",
      "       0.00893997, 0.00492969, 0.00922017, 0.00847589, 0.00291578,\n",
      "       0.00267061, 0.00361628, 0.00536748, 0.00492969, 0.        ,\n",
      "       0.0062431 , 0.00247798, 0.01018335, 0.01261754, 0.01368578,\n",
      "       0.01850162, 0.01634764, 0.02121601, 0.01937724, 0.01921086,\n",
      "       0.01718821, 0.01839656, 0.01675042, 0.01502547, 0.01412358])]\n",
      "[0.01464894162703731]\n"
     ]
    }
   ],
   "source": [
    "X_train = []\n",
    "y_train = []\n",
    "\n",
    "for i in range (60, len(train_data)):\n",
    "    X_train.append(train_data[i-60:i,0]) # contains 60 values\n",
    "    y_train.append(train_data[i,0])   # contains 61st value\n",
    "    if i<= 60:\n",
    "        print(X_train)\n",
    "        print(y_train) \n"
   ]
  },
  {
   "cell_type": "markdown",
   "metadata": {},
   "source": [
    "# Prepare train data for LSTM model"
   ]
  },
  {
   "cell_type": "code",
   "execution_count": 10,
   "metadata": {},
   "outputs": [
    {
     "data": {
      "text/plain": [
       "(4460, 60)"
      ]
     },
     "execution_count": 10,
     "metadata": {},
     "output_type": "execute_result"
    }
   ],
   "source": [
    "# Convert list to numpy array for LSTM model:\n",
    "X_train, y_train = np.array(X_train), np.array(y_train)\n",
    "X_train.shape"
   ]
  },
  {
   "cell_type": "code",
   "execution_count": 11,
   "metadata": {},
   "outputs": [
    {
     "data": {
      "text/plain": [
       "(4460, 60, 1)"
      ]
     },
     "execution_count": 11,
     "metadata": {},
     "output_type": "execute_result"
    }
   ],
   "source": [
    "# LSTM model expects 3D, reshape:\n",
    "X_train = np.reshape(X_train, (X_train.shape[0], X_train.shape[1], 1))\n",
    "X_train.shape"
   ]
  },
  {
   "cell_type": "markdown",
   "metadata": {},
   "source": [
    "# Build the LSTM model"
   ]
  },
  {
   "cell_type": "code",
   "execution_count": 12,
   "metadata": {},
   "outputs": [],
   "source": [
    "from tensorflow.keras.models import Sequential\n",
    "from tensorflow.keras.layers import Dense, LSTM\n",
    "model = Sequential()\n",
    "model.add(LSTM(50, return_sequences=True, input_shape=(X_train.shape[1], 1)))\n",
    "model.add(LSTM(50, return_sequences=False))\n",
    "model.add(Dense(25))\n",
    "model.add(Dense(1))"
   ]
  },
  {
   "cell_type": "code",
   "execution_count": 13,
   "metadata": {},
   "outputs": [],
   "source": [
    "model.compile(optimizer='adam', loss='mean_squared_error')"
   ]
  },
  {
   "cell_type": "code",
   "execution_count": 14,
   "metadata": {},
   "outputs": [
    {
     "name": "stdout",
     "output_type": "stream",
     "text": [
      "4460/4460 [==============================] - 54s 12ms/step - loss: 9.4812e-04\n"
     ]
    },
    {
     "data": {
      "text/plain": [
       "<keras.callbacks.History at 0x1bd5f09ea00>"
      ]
     },
     "execution_count": 14,
     "metadata": {},
     "output_type": "execute_result"
    }
   ],
   "source": [
    "model.fit(X_train, y_train, batch_size=1, epochs=1)"
   ]
  },
  {
   "cell_type": "code",
   "execution_count": 15,
   "metadata": {},
   "outputs": [],
   "source": [
    "#Create test data\n",
    "test_data = dataset_scaled[train_data_len-60:,:]\n",
    "X_test = []\n",
    "y_test = dataset[train_data_len:,:]\n",
    "for i in range(60, len(test_data)):\n",
    " X_test.append(test_data[i-60:i,0])"
   ]
  },
  {
   "cell_type": "code",
   "execution_count": 16,
   "metadata": {},
   "outputs": [],
   "source": [
    "#Covert test data to a numpy array and reshape\n",
    "X_test = np.array(X_test)\n",
    "X_test = np.reshape(X_test, (X_test.shape[0],X_test.shape[1],1))"
   ]
  },
  {
   "cell_type": "code",
   "execution_count": 17,
   "metadata": {},
   "outputs": [],
   "source": [
    "#Get predicted prices\n",
    "predictions_lstm = model.predict(X_test)\n",
    "predictions = scaler.inverse_transform(predictions_lstm)"
   ]
  },
  {
   "cell_type": "code",
   "execution_count": 18,
   "metadata": {},
   "outputs": [
    {
     "data": {
      "text/plain": [
       "0.02755015139248805"
      ]
     },
     "execution_count": 18,
     "metadata": {},
     "output_type": "execute_result"
    }
   ],
   "source": [
    "#Get the root mean square error (RMSE) 0 being most favourable\n",
    "rmse = np.sqrt(np.mean(predictions-y_test)**2)\n",
    "rmse"
   ]
  },
  {
   "cell_type": "code",
   "execution_count": 19,
   "metadata": {},
   "outputs": [
    {
     "name": "stderr",
     "output_type": "stream",
     "text": [
      "C:\\Users\\antoi\\AppData\\Local\\Temp/ipykernel_30632/4110387662.py:5: SettingWithCopyWarning: \n",
      "A value is trying to be set on a copy of a slice from a DataFrame.\n",
      "Try using .loc[row_indexer,col_indexer] = value instead\n",
      "\n",
      "See the caveats in the documentation: https://pandas.pydata.org/pandas-docs/stable/user_guide/indexing.html#returning-a-view-versus-a-copy\n",
      "  valid['Predictions'] = predictions # another column for validating test\n"
     ]
    },
    {
     "data": {
      "image/png": "[encoded data removed]",
      "text/plain": [
       "<Figure size 1152x576 with 1 Axes>"
      ]
     },
     "metadata": {},
     "output_type": "display_data"
    }
   ],
   "source": [
    "#Plot the data to validate the test data\n",
    "plt.style.use('fivethirtyeight')\n",
    "train = data.iloc[:train_data_len] # actual train data from 0 rows until train data end\n",
    "valid = data.iloc[train_data_len:] # actual test data from train data end until end of all sampled data\n",
    "valid['Predictions'] = predictions # another column for validating test\n",
    "\n",
    "plt.figure(figsize=(16,8))\n",
    "plt.title('BHP LSTM Model')\n",
    "plt.xlabel('Date', fontsize=18)\n",
    "plt.ylabel('Close Price AUD ($)',fontsize=18)\n",
    "plt.plot(train['Close'])\n",
    "plt.plot(valid[['Close','Predictions']])\n",
    "plt.legend(['Training','Validate','Tested'],loc='lower right')\n",
    "x = np.arange(2000,2024,4)\n",
    "plt.xticks([0,1000,2000,3000,4000,5000],x)\n",
    "plt.show()\n"
   ]
  },
  {
   "cell_type": "markdown",
   "metadata": {},
   "source": [
    "# Test data Predictions on the Model"
   ]
  },
  {
   "cell_type": "code",
   "execution_count": 20,
   "metadata": {},
   "outputs": [
    {
     "name": "stderr",
     "output_type": "stream",
     "text": [
      "C:\\Users\\antoi\\AppData\\Local\\Temp/ipykernel_30632/3952761259.py:1: SettingWithCopyWarning: \n",
      "A value is trying to be set on a copy of a slice from a DataFrame.\n",
      "Try using .loc[row_indexer,col_indexer] = value instead\n",
      "\n",
      "See the caveats in the documentation: https://pandas.pydata.org/pandas-docs/stable/user_guide/indexing.html#returning-a-view-versus-a-copy\n",
      "  valid['Difference']= valid['Close']-valid['Predictions']\n"
     ]
    },
    {
     "data": {
      "text/html": [
       "<div>\n",
       "<style scoped>\n",
       "    .dataframe tbody tr th:only-of-type {\n",
       "        vertical-align: middle;\n",
       "    }\n",
       "\n",
       "    .dataframe tbody tr th {\n",
       "        vertical-align: top;\n",
       "    }\n",
       "\n",
       "    .dataframe thead th {\n",
       "        text-align: right;\n",
       "    }\n",
       "</style>\n",
       "<table border=\"1\" class=\"dataframe\">\n",
       "  <thead>\n",
       "    <tr style=\"text-align: right;\">\n",
       "      <th></th>\n",
       "      <th>Close</th>\n",
       "      <th>Predictions</th>\n",
       "      <th>Difference</th>\n",
       "    </tr>\n",
       "  </thead>\n",
       "  <tbody>\n",
       "    <tr>\n",
       "      <th>4555</th>\n",
       "      <td>28.629999</td>\n",
       "      <td>28.417444</td>\n",
       "      <td>0.212555</td>\n",
       "    </tr>\n",
       "    <tr>\n",
       "      <th>4556</th>\n",
       "      <td>28.070000</td>\n",
       "      <td>28.614511</td>\n",
       "      <td>-0.544511</td>\n",
       "    </tr>\n",
       "    <tr>\n",
       "      <th>4557</th>\n",
       "      <td>28.280001</td>\n",
       "      <td>28.543825</td>\n",
       "      <td>-0.263824</td>\n",
       "    </tr>\n",
       "    <tr>\n",
       "      <th>4558</th>\n",
       "      <td>27.950001</td>\n",
       "      <td>28.476383</td>\n",
       "      <td>-0.526382</td>\n",
       "    </tr>\n",
       "    <tr>\n",
       "      <th>4559</th>\n",
       "      <td>27.350000</td>\n",
       "      <td>28.327696</td>\n",
       "      <td>-0.977696</td>\n",
       "    </tr>\n",
       "    <tr>\n",
       "      <th>...</th>\n",
       "      <td>...</td>\n",
       "      <td>...</td>\n",
       "      <td>...</td>\n",
       "    </tr>\n",
       "    <tr>\n",
       "      <th>5679</th>\n",
       "      <td>50.700001</td>\n",
       "      <td>51.979362</td>\n",
       "      <td>-1.279361</td>\n",
       "    </tr>\n",
       "    <tr>\n",
       "      <th>5680</th>\n",
       "      <td>48.490002</td>\n",
       "      <td>51.236351</td>\n",
       "      <td>-2.746349</td>\n",
       "    </tr>\n",
       "    <tr>\n",
       "      <th>5681</th>\n",
       "      <td>45.660000</td>\n",
       "      <td>49.725712</td>\n",
       "      <td>-4.065712</td>\n",
       "    </tr>\n",
       "    <tr>\n",
       "      <th>5682</th>\n",
       "      <td>46.009998</td>\n",
       "      <td>47.555531</td>\n",
       "      <td>-1.545533</td>\n",
       "    </tr>\n",
       "    <tr>\n",
       "      <th>5683</th>\n",
       "      <td>48.020000</td>\n",
       "      <td>46.232735</td>\n",
       "      <td>1.787265</td>\n",
       "    </tr>\n",
       "  </tbody>\n",
       "</table>\n",
       "<p>1129 rows × 3 columns</p>\n",
       "</div>"
      ],
      "text/plain": [
       "          Close  Predictions  Difference\n",
       "4555  28.629999    28.417444    0.212555\n",
       "4556  28.070000    28.614511   -0.544511\n",
       "4557  28.280001    28.543825   -0.263824\n",
       "4558  27.950001    28.476383   -0.526382\n",
       "4559  27.350000    28.327696   -0.977696\n",
       "...         ...          ...         ...\n",
       "5679  50.700001    51.979362   -1.279361\n",
       "5680  48.490002    51.236351   -2.746349\n",
       "5681  45.660000    49.725712   -4.065712\n",
       "5682  46.009998    47.555531   -1.545533\n",
       "5683  48.020000    46.232735    1.787265\n",
       "\n",
       "[1129 rows x 3 columns]"
      ]
     },
     "execution_count": 20,
     "metadata": {},
     "output_type": "execute_result"
    }
   ],
   "source": [
    "valid['Difference']= valid['Close']-valid['Predictions']\n",
    "valid"
   ]
  },
  {
   "cell_type": "code",
   "execution_count": 21,
   "metadata": {},
   "outputs": [],
   "source": [
    "#Get latest 60 quotes less 1 to predict:\n",
    "\n",
    "#import pandas_datareader.data as web\n",
    "#symbol = 'BHP.AX'\n",
    "#stock_quote = web.DataReader(symbol,data_source='yahoo',start='2022-01-01', end='2022-04-13')\n",
    "#stock_quotes_sixty = stock_quotes_sixty.filter(['Close'])\n",
    "#stock_quotes_sixty\n",
    "#OR\n",
    "\n"
   ]
  },
  {
   "cell_type": "code",
   "execution_count": 22,
   "metadata": {},
   "outputs": [
    {
     "data": {
      "text/plain": [
       "(60, 1)"
      ]
     },
     "execution_count": 22,
     "metadata": {},
     "output_type": "execute_result"
    }
   ],
   "source": [
    "# Use last 60 days price on model to predict next days price\n",
    "stock_quotes_sixty = df_stock_less1.tail(60)\n",
    "stock_close_sixty = stock_quotes_sixty['Close']\n",
    "last_60_days = stock_close_sixty[-60:].values\n",
    "last_60_days = last_60_days.reshape(-1,1)\n",
    "last_60_days.shape"
   ]
  },
  {
   "cell_type": "code",
   "execution_count": 23,
   "metadata": {},
   "outputs": [
    {
     "data": {
      "text/plain": [
       "(1, 60, 1)"
      ]
     },
     "execution_count": 23,
     "metadata": {},
     "output_type": "execute_result"
    }
   ],
   "source": [
    "last_60_days_scaled = scaler.transform(last_60_days)\n",
    "X_tell = []\n",
    "X_tell.append(last_60_days_scaled)\n",
    "X_tell =np.array(X_tell)\n",
    "X_tell =np.reshape(X_tell, (X_tell.shape[0], X_tell.shape[1],1))\n",
    "X_tell.shape"
   ]
  },
  {
   "cell_type": "code",
   "execution_count": 24,
   "metadata": {},
   "outputs": [
    {
     "name": "stdout",
     "output_type": "stream",
     "text": [
      "Predicted next day share price 46\n"
     ]
    }
   ],
   "source": [
    "pred_price = model.predict(X_tell)\n",
    "pred_price = scaler.inverse_transform(pred_price)\n",
    "pred_price = int(pred_price)\n",
    "print(f'Predicted next day share price {pred_price}')"
   ]
  },
  {
   "cell_type": "code",
   "execution_count": 25,
   "metadata": {},
   "outputs": [
    {
     "data": {
      "text/html": [
       "<div>\n",
       "<style scoped>\n",
       "    .dataframe tbody tr th:only-of-type {\n",
       "        vertical-align: middle;\n",
       "    }\n",
       "\n",
       "    .dataframe tbody tr th {\n",
       "        vertical-align: top;\n",
       "    }\n",
       "\n",
       "    .dataframe thead th {\n",
       "        text-align: right;\n",
       "    }\n",
       "</style>\n",
       "<table border=\"1\" class=\"dataframe\">\n",
       "  <thead>\n",
       "    <tr style=\"text-align: right;\">\n",
       "      <th></th>\n",
       "      <th>Date</th>\n",
       "      <th>Open</th>\n",
       "      <th>High</th>\n",
       "      <th>Low</th>\n",
       "      <th>Close</th>\n",
       "      <th>Adj Close</th>\n",
       "      <th>Volume</th>\n",
       "      <th>SENTIMENT</th>\n",
       "      <th>RBA</th>\n",
       "      <th>FED</th>\n",
       "    </tr>\n",
       "  </thead>\n",
       "  <tbody>\n",
       "    <tr>\n",
       "      <th>5684</th>\n",
       "      <td>29/04/2022</td>\n",
       "      <td>47.98</td>\n",
       "      <td>48.18</td>\n",
       "      <td>47.759998</td>\n",
       "      <td>47.865002</td>\n",
       "      <td>47.865002</td>\n",
       "      <td>4649200.0</td>\n",
       "      <td>NEGATIVE</td>\n",
       "      <td>0.05</td>\n",
       "      <td>0.08</td>\n",
       "    </tr>\n",
       "  </tbody>\n",
       "</table>\n",
       "</div>"
      ],
      "text/plain": [
       "            Date   Open   High        Low      Close  Adj Close     Volume  \\\n",
       "5684  29/04/2022  47.98  48.18  47.759998  47.865002  47.865002  4649200.0   \n",
       "\n",
       "     SENTIMENT   RBA   FED  \n",
       "5684  NEGATIVE  0.05  0.08  "
      ]
     },
     "execution_count": 25,
     "metadata": {},
     "output_type": "execute_result"
    }
   ],
   "source": [
    "#stock_quote_acual = web.DataReader('BHP.AX',data_source='yahoo',start='2022-04-14', end='2022-04-14')\n",
    "#OR get last quote from latest csv\n",
    "stock_quote_last_one = df_stock1.tail(1)\n",
    "stock_quote_last_one"
   ]
  },
  {
   "cell_type": "code",
   "execution_count": 26,
   "metadata": {},
   "outputs": [
    {
     "data": {
      "text/plain": [
       "'29/04/2022'"
      ]
     },
     "execution_count": 26,
     "metadata": {},
     "output_type": "execute_result"
    }
   ],
   "source": [
    "#save actual to variable\n",
    "actual_price = stock_quote_last_one.iloc[0,4]\n",
    "actual_date = stock_quote_last_one.iloc[0,0] \n",
    "actual_price = int(actual_price)\n",
    "actual_price\n",
    "actual_date"
   ]
  },
  {
   "cell_type": "markdown",
   "metadata": {},
   "source": [
    "# Save the Model"
   ]
  },
  {
   "cell_type": "code",
   "execution_count": 27,
   "metadata": {},
   "outputs": [],
   "source": [
    "# Save the entire model to a HDF5 file.\n",
    "# The '.h5' extension indicates that the model should be saved to HDF5.\n",
    "filepath = '../static/bhp_model.sav'\n",
    "model.save(filepath, save_format=\"h5\")"
   ]
  },
  {
   "cell_type": "markdown",
   "metadata": {},
   "source": [
    "#Save last 60 days to a list bhp_sixty and load df"
   ]
  },
  {
   "cell_type": "code",
   "execution_count": 28,
   "metadata": {},
   "outputs": [
    {
     "data": {
      "text/html": [
       "<div>\n",
       "<style scoped>\n",
       "    .dataframe tbody tr th:only-of-type {\n",
       "        vertical-align: middle;\n",
       "    }\n",
       "\n",
       "    .dataframe tbody tr th {\n",
       "        vertical-align: top;\n",
       "    }\n",
       "\n",
       "    .dataframe thead th {\n",
       "        text-align: right;\n",
       "    }\n",
       "</style>\n",
       "<table border=\"1\" class=\"dataframe\">\n",
       "  <thead>\n",
       "    <tr style=\"text-align: right;\">\n",
       "      <th></th>\n",
       "      <th>42.986561</th>\n",
       "    </tr>\n",
       "  </thead>\n",
       "  <tbody>\n",
       "    <tr>\n",
       "      <th>0</th>\n",
       "      <td>43.665848</td>\n",
       "    </tr>\n",
       "    <tr>\n",
       "      <th>1</th>\n",
       "      <td>45.014858</td>\n",
       "    </tr>\n",
       "    <tr>\n",
       "      <th>2</th>\n",
       "      <td>44.785240</td>\n",
       "    </tr>\n",
       "    <tr>\n",
       "      <th>3</th>\n",
       "      <td>45.340153</td>\n",
       "    </tr>\n",
       "    <tr>\n",
       "      <th>4</th>\n",
       "      <td>47.024025</td>\n",
       "    </tr>\n",
       "  </tbody>\n",
       "</table>\n",
       "</div>"
      ],
      "text/plain": [
       "   42.986561\n",
       "0  43.665848\n",
       "1  45.014858\n",
       "2  44.785240\n",
       "3  45.340153\n",
       "4  47.024025"
      ]
     },
     "execution_count": 28,
     "metadata": {},
     "output_type": "execute_result"
    }
   ],
   "source": [
    "# Read in the CSV file\n",
    "df_bhp_sixty = pd.read_csv(\"../static/data/bhp_sixty.csv\")\n",
    "df_bhp_sixty.head()"
   ]
  },
  {
   "cell_type": "code",
   "execution_count": 29,
   "metadata": {},
   "outputs": [
    {
     "data": {
      "text/plain": [
       "(60, 1)"
      ]
     },
     "execution_count": 29,
     "metadata": {},
     "output_type": "execute_result"
    }
   ],
   "source": [
    "close_sixty_val = df_bhp_sixty[-60:].values\n",
    "last_sixty = close_sixty_val.reshape(-1,1)\n",
    "last_sixty.shape"
   ]
  },
  {
   "cell_type": "code",
   "execution_count": 30,
   "metadata": {},
   "outputs": [
    {
     "data": {
      "text/plain": [
       "(1, 60, 1)"
      ]
     },
     "execution_count": 30,
     "metadata": {},
     "output_type": "execute_result"
    }
   ],
   "source": [
    "last_sixty_scaled = scaler.transform(last_sixty)\n",
    "new_X_tell = []\n",
    "new_X_tell.append(last_sixty_scaled)\n",
    "new_X_tell =np.array(new_X_tell)\n",
    "new_X_tell =np.reshape(new_X_tell, (new_X_tell.shape[0], new_X_tell.shape[1],1))\n",
    "new_X_tell.shape"
   ]
  },
  {
   "cell_type": "markdown",
   "metadata": {},
   "source": [
    "#PREDICT USING LOADED MODEL"
   ]
  },
  {
   "cell_type": "code",
   "execution_count": 31,
   "metadata": {},
   "outputs": [],
   "source": [
    "from keras.models import load_model\n",
    "model_in = load_model('../static/bhp_model.sav')"
   ]
  },
  {
   "cell_type": "code",
   "execution_count": 32,
   "metadata": {},
   "outputs": [
    {
     "data": {
      "text/plain": [
       "array([[0.8513876]], dtype=float32)"
      ]
     },
     "execution_count": 32,
     "metadata": {},
     "output_type": "execute_result"
    }
   ],
   "source": [
    "model_in_pd_scale = model_in.predict(new_X_tell)\n",
    "model_in_pd_scale"
   ]
  },
  {
   "cell_type": "code",
   "execution_count": 33,
   "metadata": {},
   "outputs": [
    {
     "name": "stdout",
     "output_type": "stream",
     "text": [
      "Predicted next day share price [[47.0017]]\n"
     ]
    }
   ],
   "source": [
    "model_in_price = scaler.inverse_transform(model_in_pd_scale)\n",
    "#model_in_price_int = int(model_in_price)\n",
    "print(f'Predicted next day share price {model_in_price}')"
   ]
  },
  {
   "cell_type": "code",
   "execution_count": 34,
   "metadata": {},
   "outputs": [
    {
     "data": {
      "text/plain": [
       "(59, 1)"
      ]
     },
     "execution_count": 34,
     "metadata": {},
     "output_type": "execute_result"
    }
   ],
   "source": [
    "last_sixty_less_one = np.delete(last_sixty, 0, 0)\n",
    "last_sixty_less_one.shape"
   ]
  },
  {
   "cell_type": "code",
   "execution_count": 35,
   "metadata": {},
   "outputs": [
    {
     "data": {
      "text/plain": [
       "(60, 1)"
      ]
     },
     "execution_count": 35,
     "metadata": {},
     "output_type": "execute_result"
    }
   ],
   "source": [
    "last_sixty = np.append(last_sixty_less_one, model_in_price,axis = 0)\n",
    "last_sixty.shape"
   ]
  },
  {
   "cell_type": "markdown",
   "metadata": {},
   "source": [
    "#Create a function to loop through the days input"
   ]
  },
  {
   "cell_type": "code",
   "execution_count": 36,
   "metadata": {},
   "outputs": [],
   "source": [
    "from keras.models import load_model\n",
    "model_in = load_model('../static/bhp_model.sav')\n",
    "from sklearn.preprocessing import MinMaxScaler\n",
    "scaler = MinMaxScaler(feature_range=(0,1))\n",
    "# Read in the CSV file\n",
    "df_bhp_sixty = pd.read_csv(\"../static/data/bhp_sixty.csv\")\n",
    "close_sixty_val = df_bhp_sixty[-60:].values\n",
    "last_sixty = close_sixty_val.reshape(-1,1)\n",
    "price_list=[]\n",
    "\n",
    "#Function to predict future days predicted price, in loop\n",
    "input = 180 #days\n",
    "if input == \"\":\n",
    "    input = 180\n",
    "else:\n",
    "   input = int(input)\n",
    "\n",
    "def predict_bhp(last_sixty,model_in,input):\n",
    "    for i in range(1, input):\n",
    "\n",
    "        #Takes df and converts to model's predict shape\n",
    "        last_sixty_scaled = scaler.fit_transform(last_sixty)\n",
    "        new_X_tell = []\n",
    "        new_X_tell.append(last_sixty_scaled)\n",
    "        new_X_tell =np.array(new_X_tell)\n",
    "        new_X_tell =np.reshape(new_X_tell, (new_X_tell.shape[0], new_X_tell.shape[1],1))\n",
    "        \n",
    "        model_in_pd_scale = model_in.predict(new_X_tell)\n",
    "        model_in_price = scaler.inverse_transform(model_in_pd_scale) # New price predicted\n",
    "\n",
    "        last_sixty_less_one = np.delete(last_sixty, 0, 0)\n",
    "        last_sixty = np.append(last_sixty_less_one, model_in_price,axis = 0) # Update last 60\n",
    "        print(i)\n",
    "        print(\"Day finished! Price: \")\n",
    "        price_float = float(model_in_price)\n",
    "        price = round(price_float, 2)\n",
    "        price_list.append(price)\n",
    "    else:\n",
    "        print(\"Could not predict further!\")\n",
    "        print(input)\n",
    "    print(price_list)"
   ]
  },
  {
   "cell_type": "code",
   "execution_count": 37,
   "metadata": {},
   "outputs": [
    {
     "name": "stdout",
     "output_type": "stream",
     "text": [
      "1\n",
      "Day finished! Price: \n",
      "2\n",
      "Day finished! Price: \n",
      "3\n",
      "Day finished! Price: \n",
      "4\n",
      "Day finished! Price: \n",
      "5\n",
      "Day finished! Price: \n",
      "6\n",
      "Day finished! Price: \n",
      "7\n",
      "Day finished! Price: \n",
      "8\n",
      "Day finished! Price: \n",
      "9\n",
      "Day finished! Price: \n",
      "10\n",
      "Day finished! Price: \n",
      "11\n",
      "Day finished! Price: \n",
      "12\n",
      "Day finished! Price: \n",
      "13\n",
      "Day finished! Price: \n",
      "14\n",
      "Day finished! Price: \n",
      "15\n",
      "Day finished! Price: \n",
      "16\n",
      "Day finished! Price: \n",
      "17\n",
      "Day finished! Price: \n",
      "18\n",
      "Day finished! Price: \n",
      "19\n",
      "Day finished! Price: \n",
      "20\n",
      "Day finished! Price: \n",
      "21\n",
      "Day finished! Price: \n",
      "22\n",
      "Day finished! Price: \n",
      "23\n",
      "Day finished! Price: \n",
      "24\n",
      "Day finished! Price: \n",
      "25\n",
      "Day finished! Price: \n",
      "26\n",
      "Day finished! Price: \n",
      "27\n",
      "Day finished! Price: \n",
      "28\n",
      "Day finished! Price: \n",
      "29\n",
      "Day finished! Price: \n",
      "30\n",
      "Day finished! Price: \n",
      "31\n",
      "Day finished! Price: \n",
      "32\n",
      "Day finished! Price: \n",
      "33\n",
      "Day finished! Price: \n",
      "34\n",
      "Day finished! Price: \n",
      "35\n",
      "Day finished! Price: \n",
      "36\n",
      "Day finished! Price: \n",
      "37\n",
      "Day finished! Price: \n",
      "38\n",
      "Day finished! Price: \n",
      "39\n",
      "Day finished! Price: \n",
      "40\n",
      "Day finished! Price: \n",
      "41\n",
      "Day finished! Price: \n",
      "42\n",
      "Day finished! Price: \n",
      "43\n",
      "Day finished! Price: \n",
      "44\n",
      "Day finished! Price: \n",
      "45\n",
      "Day finished! Price: \n",
      "46\n",
      "Day finished! Price: \n",
      "47\n",
      "Day finished! Price: \n",
      "48\n",
      "Day finished! Price: \n",
      "49\n",
      "Day finished! Price: \n",
      "50\n",
      "Day finished! Price: \n",
      "51\n",
      "Day finished! Price: \n",
      "52\n",
      "Day finished! Price: \n",
      "53\n",
      "Day finished! Price: \n",
      "54\n",
      "Day finished! Price: \n",
      "55\n",
      "Day finished! Price: \n",
      "56\n",
      "Day finished! Price: \n",
      "57\n",
      "Day finished! Price: \n",
      "58\n",
      "Day finished! Price: \n",
      "59\n",
      "Day finished! Price: \n",
      "60\n",
      "Day finished! Price: \n",
      "61\n",
      "Day finished! Price: \n",
      "62\n",
      "Day finished! Price: \n",
      "63\n",
      "Day finished! Price: \n",
      "64\n",
      "Day finished! Price: \n",
      "65\n",
      "Day finished! Price: \n",
      "66\n",
      "Day finished! Price: \n",
      "67\n",
      "Day finished! Price: \n",
      "68\n",
      "Day finished! Price: \n",
      "69\n",
      "Day finished! Price: \n",
      "70\n",
      "Day finished! Price: \n",
      "71\n",
      "Day finished! Price: \n",
      "72\n",
      "Day finished! Price: \n",
      "73\n",
      "Day finished! Price: \n",
      "74\n",
      "Day finished! Price: \n",
      "75\n",
      "Day finished! Price: \n",
      "76\n",
      "Day finished! Price: \n",
      "77\n",
      "Day finished! Price: \n",
      "78\n",
      "Day finished! Price: \n",
      "79\n",
      "Day finished! Price: \n",
      "80\n",
      "Day finished! Price: \n",
      "81\n",
      "Day finished! Price: \n",
      "82\n",
      "Day finished! Price: \n",
      "83\n",
      "Day finished! Price: \n",
      "84\n",
      "Day finished! Price: \n",
      "85\n",
      "Day finished! Price: \n",
      "86\n",
      "Day finished! Price: \n",
      "87\n",
      "Day finished! Price: \n",
      "88\n",
      "Day finished! Price: \n",
      "89\n",
      "Day finished! Price: \n",
      "90\n",
      "Day finished! Price: \n",
      "91\n",
      "Day finished! Price: \n",
      "92\n",
      "Day finished! Price: \n",
      "93\n",
      "Day finished! Price: \n",
      "94\n",
      "Day finished! Price: \n",
      "95\n",
      "Day finished! Price: \n",
      "96\n",
      "Day finished! Price: \n",
      "97\n",
      "Day finished! Price: \n",
      "98\n",
      "Day finished! Price: \n",
      "99\n",
      "Day finished! Price: \n",
      "100\n",
      "Day finished! Price: \n",
      "101\n",
      "Day finished! Price: \n",
      "102\n",
      "Day finished! Price: \n",
      "103\n",
      "Day finished! Price: \n",
      "104\n",
      "Day finished! Price: \n",
      "105\n",
      "Day finished! Price: \n",
      "106\n",
      "Day finished! Price: \n",
      "107\n",
      "Day finished! Price: \n",
      "108\n",
      "Day finished! Price: \n",
      "109\n",
      "Day finished! Price: \n",
      "110\n",
      "Day finished! Price: \n",
      "111\n",
      "Day finished! Price: \n",
      "112\n",
      "Day finished! Price: \n",
      "113\n",
      "Day finished! Price: \n",
      "114\n",
      "Day finished! Price: \n",
      "115\n",
      "Day finished! Price: \n",
      "116\n",
      "Day finished! Price: \n",
      "117\n",
      "Day finished! Price: \n",
      "118\n",
      "Day finished! Price: \n",
      "119\n",
      "Day finished! Price: \n",
      "120\n",
      "Day finished! Price: \n",
      "121\n",
      "Day finished! Price: \n",
      "122\n",
      "Day finished! Price: \n",
      "123\n",
      "Day finished! Price: \n",
      "124\n",
      "Day finished! Price: \n",
      "125\n",
      "Day finished! Price: \n",
      "126\n",
      "Day finished! Price: \n",
      "127\n",
      "Day finished! Price: \n",
      "128\n",
      "Day finished! Price: \n",
      "129\n",
      "Day finished! Price: \n",
      "130\n",
      "Day finished! Price: \n",
      "131\n",
      "Day finished! Price: \n",
      "132\n",
      "Day finished! Price: \n",
      "133\n",
      "Day finished! Price: \n",
      "134\n",
      "Day finished! Price: \n",
      "135\n",
      "Day finished! Price: \n",
      "136\n",
      "Day finished! Price: \n",
      "137\n",
      "Day finished! Price: \n",
      "138\n",
      "Day finished! Price: \n",
      "139\n",
      "Day finished! Price: \n",
      "140\n",
      "Day finished! Price: \n",
      "141\n",
      "Day finished! Price: \n",
      "142\n",
      "Day finished! Price: \n",
      "143\n",
      "Day finished! Price: \n",
      "144\n",
      "Day finished! Price: \n",
      "145\n",
      "Day finished! Price: \n",
      "146\n",
      "Day finished! Price: \n",
      "147\n",
      "Day finished! Price: \n",
      "148\n",
      "Day finished! Price: \n",
      "149\n",
      "Day finished! Price: \n",
      "150\n",
      "Day finished! Price: \n",
      "151\n",
      "Day finished! Price: \n",
      "152\n",
      "Day finished! Price: \n",
      "153\n",
      "Day finished! Price: \n",
      "154\n",
      "Day finished! Price: \n",
      "155\n",
      "Day finished! Price: \n",
      "156\n",
      "Day finished! Price: \n",
      "157\n",
      "Day finished! Price: \n",
      "158\n",
      "Day finished! Price: \n",
      "159\n",
      "Day finished! Price: \n",
      "160\n",
      "Day finished! Price: \n",
      "161\n",
      "Day finished! Price: \n",
      "162\n",
      "Day finished! Price: \n",
      "163\n",
      "Day finished! Price: \n",
      "164\n",
      "Day finished! Price: \n",
      "165\n",
      "Day finished! Price: \n",
      "166\n",
      "Day finished! Price: \n",
      "167\n",
      "Day finished! Price: \n",
      "168\n",
      "Day finished! Price: \n",
      "169\n",
      "Day finished! Price: \n",
      "170\n",
      "Day finished! Price: \n",
      "171\n",
      "Day finished! Price: \n",
      "172\n",
      "Day finished! Price: \n",
      "173\n",
      "Day finished! Price: \n",
      "174\n",
      "Day finished! Price: \n",
      "175\n",
      "Day finished! Price: \n",
      "176\n",
      "Day finished! Price: \n",
      "177\n",
      "Day finished! Price: \n",
      "178\n",
      "Day finished! Price: \n",
      "179\n",
      "Day finished! Price: \n",
      "Could not predict further!\n",
      "180\n",
      "[47.47, 47.66, 47.81, 47.96, 48.1, 48.23, 48.34, 48.43, 48.51, 48.56, 48.6, 48.63, 48.65, 48.67, 48.67, 48.68, 48.68, 48.69, 48.69, 48.7, 48.7, 48.71, 48.72, 48.73, 48.74, 48.75, 48.77, 48.78, 48.79, 48.8, 48.82, 48.83, 48.84, 48.85, 48.87, 48.88, 48.89, 48.9, 48.91, 48.93, 48.94, 48.95, 48.96, 48.97, 48.99, 49.0, 49.01, 49.02, 49.03, 49.04, 49.06, 49.07, 49.08, 49.08, 49.07, 49.02, 49.0, 48.98, 48.97, 48.96, 48.94, 48.94, 48.93, 48.93, 48.93, 48.93, 48.93, 48.94, 48.94, 48.94, 48.94, 48.95, 48.95, 48.95, 48.95, 48.95, 48.95, 48.95, 48.95, 48.95, 48.95, 48.95, 48.95, 48.95, 48.95, 48.95, 48.95, 48.95, 48.95, 48.96, 48.96, 48.96, 48.96, 48.96, 48.96, 48.96, 48.96, 48.96, 48.96, 48.96, 48.96, 48.96, 48.96, 48.96, 48.96, 48.96, 48.96, 48.96, 48.96, 48.96, 48.96, 48.96, 48.96, 48.96, 48.96, 48.96, 48.96, 48.96, 48.96, 48.96, 48.96, 48.96, 48.96, 48.96, 48.96, 48.96, 48.96, 48.96, 48.96, 48.96, 48.96, 48.96, 48.96, 48.96, 48.96, 48.96, 48.96, 48.96, 48.96, 48.96, 48.96, 48.96, 48.96, 48.96, 48.96, 48.96, 48.96, 48.96, 48.96, 48.96, 48.96, 48.96, 48.96, 48.96, 48.96, 48.96, 48.96, 48.96, 48.96, 48.96, 48.96, 48.96, 48.96, 48.96, 48.96, 48.96, 48.96, 48.96, 48.96, 48.96, 48.96, 48.96, 48.96, 48.96, 48.96, 48.96, 48.96, 48.96, 48.96]\n"
     ]
    }
   ],
   "source": [
    "predict_bhp(last_sixty,model_in,input)"
   ]
  },
  {
   "cell_type": "code",
   "execution_count": 40,
   "metadata": {},
   "outputs": [
    {
     "name": "stderr",
     "output_type": "stream",
     "text": [
      "C:\\Users\\antoi\\AppData\\Local\\Temp/ipykernel_30632/3111225091.py:5: SettingWithCopyWarning: \n",
      "A value is trying to be set on a copy of a slice from a DataFrame.\n",
      "Try using .loc[row_indexer,col_indexer] = value instead\n",
      "\n",
      "See the caveats in the documentation: https://pandas.pydata.org/pandas-docs/stable/user_guide/indexing.html#returning-a-view-versus-a-copy\n",
      "  dates_df_iloc['Price'] = price_list\n"
     ]
    },
    {
     "data": {
      "text/plain": [
       "[{'Count': 1, 'Date': '3/05/2022', 'DOW': 'Tuesday', 'Price': 47.47},\n",
       " {'Count': 2, 'Date': '4/05/2022', 'DOW': 'Wednesday', 'Price': 47.66},\n",
       " {'Count': 3, 'Date': '5/05/2022', 'DOW': 'Thursday', 'Price': 47.81},\n",
       " {'Count': 4, 'Date': '6/05/2022', 'DOW': 'Friday', 'Price': 47.96},\n",
       " {'Count': 5, 'Date': '9/05/2022', 'DOW': 'Monday', 'Price': 48.1},\n",
       " {'Count': 6, 'Date': '10/05/2022', 'DOW': 'Tuesday', 'Price': 48.23},\n",
       " {'Count': 7, 'Date': '11/05/2022', 'DOW': 'Wednesday', 'Price': 48.34},\n",
       " {'Count': 8, 'Date': '12/05/2022', 'DOW': 'Thursday', 'Price': 48.43},\n",
       " {'Count': 9, 'Date': '13/05/2022', 'DOW': 'Friday', 'Price': 48.51},\n",
       " {'Count': 10, 'Date': '16/05/2022', 'DOW': 'Monday', 'Price': 48.56},\n",
       " {'Count': 11, 'Date': '17/05/2022', 'DOW': 'Tuesday', 'Price': 48.6},\n",
       " {'Count': 12, 'Date': '18/05/2022', 'DOW': 'Wednesday', 'Price': 48.63},\n",
       " {'Count': 13, 'Date': '19/05/2022', 'DOW': 'Thursday', 'Price': 48.65},\n",
       " {'Count': 14, 'Date': '20/05/2022', 'DOW': 'Friday', 'Price': 48.67},\n",
       " {'Count': 15, 'Date': '23/05/2022', 'DOW': 'Monday', 'Price': 48.67},\n",
       " {'Count': 16, 'Date': '24/05/2022', 'DOW': 'Tuesday', 'Price': 48.68},\n",
       " {'Count': 17, 'Date': '25/05/2022', 'DOW': 'Wednesday', 'Price': 48.68},\n",
       " {'Count': 18, 'Date': '26/05/2022', 'DOW': 'Thursday', 'Price': 48.69},\n",
       " {'Count': 19, 'Date': '27/05/2022', 'DOW': 'Friday', 'Price': 48.69},\n",
       " {'Count': 20, 'Date': '30/05/2022', 'DOW': 'Monday', 'Price': 48.7},\n",
       " {'Count': 21, 'Date': '31/05/2022', 'DOW': 'Tuesday', 'Price': 48.7},\n",
       " {'Count': 22, 'Date': '1/06/2022', 'DOW': 'Wednesday', 'Price': 48.71},\n",
       " {'Count': 23, 'Date': '2/06/2022', 'DOW': 'Thursday', 'Price': 48.72},\n",
       " {'Count': 24, 'Date': '3/06/2022', 'DOW': 'Friday', 'Price': 48.73},\n",
       " {'Count': 25, 'Date': '6/06/2022', 'DOW': 'Monday', 'Price': 48.74},\n",
       " {'Count': 26, 'Date': '7/06/2022', 'DOW': 'Tuesday', 'Price': 48.75},\n",
       " {'Count': 27, 'Date': '8/06/2022', 'DOW': 'Wednesday', 'Price': 48.77},\n",
       " {'Count': 28, 'Date': '9/06/2022', 'DOW': 'Thursday', 'Price': 48.78},\n",
       " {'Count': 29, 'Date': '10/06/2022', 'DOW': 'Friday', 'Price': 48.79},\n",
       " {'Count': 30, 'Date': '13/06/2022', 'DOW': 'Monday', 'Price': 48.8},\n",
       " {'Count': 31, 'Date': '14/06/2022', 'DOW': 'Tuesday', 'Price': 48.82},\n",
       " {'Count': 32, 'Date': '15/06/2022', 'DOW': 'Wednesday', 'Price': 48.83},\n",
       " {'Count': 33, 'Date': '16/06/2022', 'DOW': 'Thursday', 'Price': 48.84},\n",
       " {'Count': 34, 'Date': '17/06/2022', 'DOW': 'Friday', 'Price': 48.85},\n",
       " {'Count': 35, 'Date': '20/06/2022', 'DOW': 'Monday', 'Price': 48.87},\n",
       " {'Count': 36, 'Date': '21/06/2022', 'DOW': 'Tuesday', 'Price': 48.88},\n",
       " {'Count': 37, 'Date': '22/06/2022', 'DOW': 'Wednesday', 'Price': 48.89},\n",
       " {'Count': 38, 'Date': '23/06/2022', 'DOW': 'Thursday', 'Price': 48.9},\n",
       " {'Count': 39, 'Date': '24/06/2022', 'DOW': 'Friday', 'Price': 48.91},\n",
       " {'Count': 40, 'Date': '27/06/2022', 'DOW': 'Monday', 'Price': 48.93},\n",
       " {'Count': 41, 'Date': '28/06/2022', 'DOW': 'Tuesday', 'Price': 48.94},\n",
       " {'Count': 42, 'Date': '29/06/2022', 'DOW': 'Wednesday', 'Price': 48.95},\n",
       " {'Count': 43, 'Date': '30/06/2022', 'DOW': 'Thursday', 'Price': 48.96},\n",
       " {'Count': 44, 'Date': '1/07/2022', 'DOW': 'Friday', 'Price': 48.97},\n",
       " {'Count': 45, 'Date': '4/07/2022', 'DOW': 'Monday', 'Price': 48.99},\n",
       " {'Count': 46, 'Date': '5/07/2022', 'DOW': 'Tuesday', 'Price': 49.0},\n",
       " {'Count': 47, 'Date': '6/07/2022', 'DOW': 'Wednesday', 'Price': 49.01},\n",
       " {'Count': 48, 'Date': '7/07/2022', 'DOW': 'Thursday', 'Price': 49.02},\n",
       " {'Count': 49, 'Date': '8/07/2022', 'DOW': 'Friday', 'Price': 49.03},\n",
       " {'Count': 50, 'Date': '11/07/2022', 'DOW': 'Monday', 'Price': 49.04},\n",
       " {'Count': 51, 'Date': '12/07/2022', 'DOW': 'Tuesday', 'Price': 49.06},\n",
       " {'Count': 52, 'Date': '13/07/2022', 'DOW': 'Wednesday', 'Price': 49.07},\n",
       " {'Count': 53, 'Date': '14/07/2022', 'DOW': 'Thursday', 'Price': 49.08},\n",
       " {'Count': 54, 'Date': '15/07/2022', 'DOW': 'Friday', 'Price': 49.08},\n",
       " {'Count': 55, 'Date': '18/07/2022', 'DOW': 'Monday', 'Price': 49.07},\n",
       " {'Count': 56, 'Date': '19/07/2022', 'DOW': 'Tuesday', 'Price': 49.02},\n",
       " {'Count': 57, 'Date': '20/07/2022', 'DOW': 'Wednesday', 'Price': 49.0},\n",
       " {'Count': 58, 'Date': '21/07/2022', 'DOW': 'Thursday', 'Price': 48.98},\n",
       " {'Count': 59, 'Date': '22/07/2022', 'DOW': 'Friday', 'Price': 48.97},\n",
       " {'Count': 60, 'Date': '25/07/2022', 'DOW': 'Monday', 'Price': 48.96},\n",
       " {'Count': 61, 'Date': '26/07/2022', 'DOW': 'Tuesday', 'Price': 48.94},\n",
       " {'Count': 62, 'Date': '27/07/2022', 'DOW': 'Wednesday', 'Price': 48.94},\n",
       " {'Count': 63, 'Date': '28/07/2022', 'DOW': 'Thursday', 'Price': 48.93},\n",
       " {'Count': 64, 'Date': '29/07/2022', 'DOW': 'Friday', 'Price': 48.93},\n",
       " {'Count': 65, 'Date': '1/08/2022', 'DOW': 'Monday', 'Price': 48.93},\n",
       " {'Count': 66, 'Date': '2/08/2022', 'DOW': 'Tuesday', 'Price': 48.93},\n",
       " {'Count': 67, 'Date': '3/08/2022', 'DOW': 'Wednesday', 'Price': 48.93},\n",
       " {'Count': 68, 'Date': '4/08/2022', 'DOW': 'Thursday', 'Price': 48.94},\n",
       " {'Count': 69, 'Date': '5/08/2022', 'DOW': 'Friday', 'Price': 48.94},\n",
       " {'Count': 70, 'Date': '8/08/2022', 'DOW': 'Monday', 'Price': 48.94},\n",
       " {'Count': 71, 'Date': '9/08/2022', 'DOW': 'Tuesday', 'Price': 48.94},\n",
       " {'Count': 72, 'Date': '10/08/2022', 'DOW': 'Wednesday', 'Price': 48.95},\n",
       " {'Count': 73, 'Date': '11/08/2022', 'DOW': 'Thursday', 'Price': 48.95},\n",
       " {'Count': 74, 'Date': '12/08/2022', 'DOW': 'Friday', 'Price': 48.95},\n",
       " {'Count': 75, 'Date': '15/08/2022', 'DOW': 'Monday', 'Price': 48.95},\n",
       " {'Count': 76, 'Date': '16/08/2022', 'DOW': 'Tuesday', 'Price': 48.95},\n",
       " {'Count': 77, 'Date': '17/08/2022', 'DOW': 'Wednesday', 'Price': 48.95},\n",
       " {'Count': 78, 'Date': '18/08/2022', 'DOW': 'Thursday', 'Price': 48.95},\n",
       " {'Count': 79, 'Date': '19/08/2022', 'DOW': 'Friday', 'Price': 48.95},\n",
       " {'Count': 80, 'Date': '22/08/2022', 'DOW': 'Monday', 'Price': 48.95},\n",
       " {'Count': 81, 'Date': '23/08/2022', 'DOW': 'Tuesday', 'Price': 48.95},\n",
       " {'Count': 82, 'Date': '24/08/2022', 'DOW': 'Wednesday', 'Price': 48.95},\n",
       " {'Count': 83, 'Date': '25/08/2022', 'DOW': 'Thursday', 'Price': 48.95},\n",
       " {'Count': 84, 'Date': '26/08/2022', 'DOW': 'Friday', 'Price': 48.95},\n",
       " {'Count': 85, 'Date': '29/08/2022', 'DOW': 'Monday', 'Price': 48.95},\n",
       " {'Count': 86, 'Date': '30/08/2022', 'DOW': 'Tuesday', 'Price': 48.95},\n",
       " {'Count': 87, 'Date': '31/08/2022', 'DOW': 'Wednesday', 'Price': 48.95},\n",
       " {'Count': 88, 'Date': '1/09/2022', 'DOW': 'Thursday', 'Price': 48.95},\n",
       " {'Count': 89, 'Date': '2/09/2022', 'DOW': 'Friday', 'Price': 48.95},\n",
       " {'Count': 90, 'Date': '5/09/2022', 'DOW': 'Monday', 'Price': 48.96},\n",
       " {'Count': 91, 'Date': '6/09/2022', 'DOW': 'Tuesday', 'Price': 48.96},\n",
       " {'Count': 92, 'Date': '7/09/2022', 'DOW': 'Wednesday', 'Price': 48.96},\n",
       " {'Count': 93, 'Date': '8/09/2022', 'DOW': 'Thursday', 'Price': 48.96},\n",
       " {'Count': 94, 'Date': '9/09/2022', 'DOW': 'Friday', 'Price': 48.96},\n",
       " {'Count': 95, 'Date': '12/09/2022', 'DOW': 'Monday', 'Price': 48.96},\n",
       " {'Count': 96, 'Date': '13/09/2022', 'DOW': 'Tuesday', 'Price': 48.96},\n",
       " {'Count': 97, 'Date': '14/09/2022', 'DOW': 'Wednesday', 'Price': 48.96},\n",
       " {'Count': 98, 'Date': '15/09/2022', 'DOW': 'Thursday', 'Price': 48.96},\n",
       " {'Count': 99, 'Date': '16/09/2022', 'DOW': 'Friday', 'Price': 48.96},\n",
       " {'Count': 100, 'Date': '19/09/2022', 'DOW': 'Monday', 'Price': 48.96},\n",
       " {'Count': 101, 'Date': '20/09/2022', 'DOW': 'Tuesday', 'Price': 48.96},\n",
       " {'Count': 102, 'Date': '21/09/2022', 'DOW': 'Wednesday', 'Price': 48.96},\n",
       " {'Count': 103, 'Date': '22/09/2022', 'DOW': 'Thursday', 'Price': 48.96},\n",
       " {'Count': 104, 'Date': '23/09/2022', 'DOW': 'Friday', 'Price': 48.96},\n",
       " {'Count': 105, 'Date': '26/09/2022', 'DOW': 'Monday', 'Price': 48.96},\n",
       " {'Count': 106, 'Date': '27/09/2022', 'DOW': 'Tuesday', 'Price': 48.96},\n",
       " {'Count': 107, 'Date': '28/09/2022', 'DOW': 'Wednesday', 'Price': 48.96},\n",
       " {'Count': 108, 'Date': '29/09/2022', 'DOW': 'Thursday', 'Price': 48.96},\n",
       " {'Count': 109, 'Date': '30/09/2022', 'DOW': 'Friday', 'Price': 48.96},\n",
       " {'Count': 110, 'Date': '3/10/2022', 'DOW': 'Monday', 'Price': 48.96},\n",
       " {'Count': 111, 'Date': '4/10/2022', 'DOW': 'Tuesday', 'Price': 48.96},\n",
       " {'Count': 112, 'Date': '5/10/2022', 'DOW': 'Wednesday', 'Price': 48.96},\n",
       " {'Count': 113, 'Date': '6/10/2022', 'DOW': 'Thursday', 'Price': 48.96},\n",
       " {'Count': 114, 'Date': '7/10/2022', 'DOW': 'Friday', 'Price': 48.96},\n",
       " {'Count': 115, 'Date': '10/10/2022', 'DOW': 'Monday', 'Price': 48.96},\n",
       " {'Count': 116, 'Date': '11/10/2022', 'DOW': 'Tuesday', 'Price': 48.96},\n",
       " {'Count': 117, 'Date': '12/10/2022', 'DOW': 'Wednesday', 'Price': 48.96},\n",
       " {'Count': 118, 'Date': '13/10/2022', 'DOW': 'Thursday', 'Price': 48.96},\n",
       " {'Count': 119, 'Date': '14/10/2022', 'DOW': 'Friday', 'Price': 48.96},\n",
       " {'Count': 120, 'Date': '17/10/2022', 'DOW': 'Monday', 'Price': 48.96},\n",
       " {'Count': 121, 'Date': '18/10/2022', 'DOW': 'Tuesday', 'Price': 48.96},\n",
       " {'Count': 122, 'Date': '19/10/2022', 'DOW': 'Wednesday', 'Price': 48.96},\n",
       " {'Count': 123, 'Date': '20/10/2022', 'DOW': 'Thursday', 'Price': 48.96},\n",
       " {'Count': 124, 'Date': '21/10/2022', 'DOW': 'Friday', 'Price': 48.96},\n",
       " {'Count': 125, 'Date': '24/10/2022', 'DOW': 'Monday', 'Price': 48.96},\n",
       " {'Count': 126, 'Date': '25/10/2022', 'DOW': 'Tuesday', 'Price': 48.96},\n",
       " {'Count': 127, 'Date': '26/10/2022', 'DOW': 'Wednesday', 'Price': 48.96},\n",
       " {'Count': 128, 'Date': '27/10/2022', 'DOW': 'Thursday', 'Price': 48.96},\n",
       " {'Count': 129, 'Date': '28/10/2022', 'DOW': 'Friday', 'Price': 48.96},\n",
       " {'Count': 130, 'Date': '31/10/2022', 'DOW': 'Monday', 'Price': 48.96},\n",
       " {'Count': 131, 'Date': '1/11/2022', 'DOW': 'Tuesday', 'Price': 48.96},\n",
       " {'Count': 132, 'Date': '2/11/2022', 'DOW': 'Wednesday', 'Price': 48.96},\n",
       " {'Count': 133, 'Date': '3/11/2022', 'DOW': 'Thursday', 'Price': 48.96},\n",
       " {'Count': 134, 'Date': '4/11/2022', 'DOW': 'Friday', 'Price': 48.96},\n",
       " {'Count': 135, 'Date': '7/11/2022', 'DOW': 'Monday', 'Price': 48.96},\n",
       " {'Count': 136, 'Date': '8/11/2022', 'DOW': 'Tuesday', 'Price': 48.96},\n",
       " {'Count': 137, 'Date': '9/11/2022', 'DOW': 'Wednesday', 'Price': 48.96},\n",
       " {'Count': 138, 'Date': '10/11/2022', 'DOW': 'Thursday', 'Price': 48.96},\n",
       " {'Count': 139, 'Date': '11/11/2022', 'DOW': 'Friday', 'Price': 48.96},\n",
       " {'Count': 140, 'Date': '14/11/2022', 'DOW': 'Monday', 'Price': 48.96},\n",
       " {'Count': 141, 'Date': '15/11/2022', 'DOW': 'Tuesday', 'Price': 48.96},\n",
       " {'Count': 142, 'Date': '16/11/2022', 'DOW': 'Wednesday', 'Price': 48.96},\n",
       " {'Count': 143, 'Date': '17/11/2022', 'DOW': 'Thursday', 'Price': 48.96},\n",
       " {'Count': 144, 'Date': '18/11/2022', 'DOW': 'Friday', 'Price': 48.96},\n",
       " {'Count': 145, 'Date': '21/11/2022', 'DOW': 'Monday', 'Price': 48.96},\n",
       " {'Count': 146, 'Date': '22/11/2022', 'DOW': 'Tuesday', 'Price': 48.96},\n",
       " {'Count': 147, 'Date': '23/11/2022', 'DOW': 'Wednesday', 'Price': 48.96},\n",
       " {'Count': 148, 'Date': '24/11/2022', 'DOW': 'Thursday', 'Price': 48.96},\n",
       " {'Count': 149, 'Date': '25/11/2022', 'DOW': 'Friday', 'Price': 48.96},\n",
       " {'Count': 150, 'Date': '28/11/2022', 'DOW': 'Monday', 'Price': 48.96},\n",
       " {'Count': 151, 'Date': '29/11/2022', 'DOW': 'Tuesday', 'Price': 48.96},\n",
       " {'Count': 152, 'Date': '30/11/2022', 'DOW': 'Wednesday', 'Price': 48.96},\n",
       " {'Count': 153, 'Date': '1/12/2022', 'DOW': 'Thursday', 'Price': 48.96},\n",
       " {'Count': 154, 'Date': '2/12/2022', 'DOW': 'Friday', 'Price': 48.96},\n",
       " {'Count': 155, 'Date': '5/12/2022', 'DOW': 'Monday', 'Price': 48.96},\n",
       " {'Count': 156, 'Date': '6/12/2022', 'DOW': 'Tuesday', 'Price': 48.96},\n",
       " {'Count': 157, 'Date': '7/12/2022', 'DOW': 'Wednesday', 'Price': 48.96},\n",
       " {'Count': 158, 'Date': '8/12/2022', 'DOW': 'Thursday', 'Price': 48.96},\n",
       " {'Count': 159, 'Date': '9/12/2022', 'DOW': 'Friday', 'Price': 48.96},\n",
       " {'Count': 160, 'Date': '12/12/2022', 'DOW': 'Monday', 'Price': 48.96},\n",
       " {'Count': 161, 'Date': '13/12/2022', 'DOW': 'Tuesday', 'Price': 48.96},\n",
       " {'Count': 162, 'Date': '14/12/2022', 'DOW': 'Wednesday', 'Price': 48.96},\n",
       " {'Count': 163, 'Date': '15/12/2022', 'DOW': 'Thursday', 'Price': 48.96},\n",
       " {'Count': 164, 'Date': '16/12/2022', 'DOW': 'Friday', 'Price': 48.96},\n",
       " {'Count': 165, 'Date': '19/12/2022', 'DOW': 'Monday', 'Price': 48.96},\n",
       " {'Count': 166, 'Date': '20/12/2022', 'DOW': 'Tuesday', 'Price': 48.96},\n",
       " {'Count': 167, 'Date': '21/12/2022', 'DOW': 'Wednesday', 'Price': 48.96},\n",
       " {'Count': 168, 'Date': '22/12/2022', 'DOW': 'Thursday', 'Price': 48.96},\n",
       " {'Count': 169, 'Date': '23/12/2022', 'DOW': 'Friday', 'Price': 48.96},\n",
       " {'Count': 170, 'Date': '26/12/2022', 'DOW': 'Monday', 'Price': 48.96},\n",
       " {'Count': 171, 'Date': '27/12/2022', 'DOW': 'Tuesday', 'Price': 48.96},\n",
       " {'Count': 172, 'Date': '28/12/2022', 'DOW': 'Wednesday', 'Price': 48.96},\n",
       " {'Count': 173, 'Date': '29/12/2022', 'DOW': 'Thursday', 'Price': 48.96},\n",
       " {'Count': 174, 'Date': '30/12/2022', 'DOW': 'Friday', 'Price': 48.96},\n",
       " {'Count': 175, 'Date': '2/01/2023', 'DOW': 'Monday', 'Price': 48.96},\n",
       " {'Count': 176, 'Date': '3/01/2023', 'DOW': 'Tuesday', 'Price': 48.96},\n",
       " {'Count': 177, 'Date': '4/01/2023', 'DOW': 'Wednesday', 'Price': 48.96},\n",
       " {'Count': 178, 'Date': '5/01/2023', 'DOW': 'Thursday', 'Price': 48.96},\n",
       " {'Count': 179, 'Date': '6/01/2023', 'DOW': 'Friday', 'Price': 48.96}]"
      ]
     },
     "execution_count": 40,
     "metadata": {},
     "output_type": "execute_result"
    }
   ],
   "source": [
    "# input = 10\n",
    "import pandas as pd\n",
    "dates_df = pd.read_csv(\"../static/data/dates.csv\")\n",
    "dates_df_iloc = dates_df.iloc[0:(input-1)]\n",
    "dates_df_iloc['Price'] = price_list\n",
    "my_dict = dates_df_iloc.to_dict(orient='records')\n",
    "my_dict"
   ]
  },
  {
   "cell_type": "code",
   "execution_count": null,
   "metadata": {},
   "outputs": [],
   "source": [
    "price_dict = [dict(zip(['Price'],[x])) for x in price_list]\n",
    "price_dict"
   ]
  },
  {
   "cell_type": "code",
   "execution_count": null,
   "metadata": {},
   "outputs": [
    {
     "name": "stdout",
     "output_type": "stream",
     "text": [
      "4520 5649 5829\n"
     ]
    },
    {
     "data": {
      "text/html": [
       "<div>\n",
       "<style scoped>\n",
       "    .dataframe tbody tr th:only-of-type {\n",
       "        vertical-align: middle;\n",
       "    }\n",
       "\n",
       "    .dataframe tbody tr th {\n",
       "        vertical-align: top;\n",
       "    }\n",
       "\n",
       "    .dataframe thead th {\n",
       "        text-align: right;\n",
       "    }\n",
       "</style>\n",
       "<table border=\"1\" class=\"dataframe\">\n",
       "  <thead>\n",
       "    <tr style=\"text-align: right;\">\n",
       "      <th></th>\n",
       "      <th>Close</th>\n",
       "    </tr>\n",
       "  </thead>\n",
       "  <tbody>\n",
       "    <tr>\n",
       "      <th>5818</th>\n",
       "      <td>49.28</td>\n",
       "    </tr>\n",
       "    <tr>\n",
       "      <th>5819</th>\n",
       "      <td>49.28</td>\n",
       "    </tr>\n",
       "    <tr>\n",
       "      <th>5820</th>\n",
       "      <td>49.28</td>\n",
       "    </tr>\n",
       "    <tr>\n",
       "      <th>5821</th>\n",
       "      <td>49.28</td>\n",
       "    </tr>\n",
       "    <tr>\n",
       "      <th>5822</th>\n",
       "      <td>49.28</td>\n",
       "    </tr>\n",
       "    <tr>\n",
       "      <th>5823</th>\n",
       "      <td>49.28</td>\n",
       "    </tr>\n",
       "    <tr>\n",
       "      <th>5824</th>\n",
       "      <td>49.28</td>\n",
       "    </tr>\n",
       "    <tr>\n",
       "      <th>5825</th>\n",
       "      <td>49.28</td>\n",
       "    </tr>\n",
       "    <tr>\n",
       "      <th>5826</th>\n",
       "      <td>49.28</td>\n",
       "    </tr>\n",
       "    <tr>\n",
       "      <th>5827</th>\n",
       "      <td>49.28</td>\n",
       "    </tr>\n",
       "  </tbody>\n",
       "</table>\n",
       "</div>"
      ],
      "text/plain": [
       "      Close\n",
       "5818  49.28\n",
       "5819  49.28\n",
       "5820  49.28\n",
       "5821  49.28\n",
       "5822  49.28\n",
       "5823  49.28\n",
       "5824  49.28\n",
       "5825  49.28\n",
       "5826  49.28\n",
       "5827  49.28"
      ]
     },
     "execution_count": 171,
     "metadata": {},
     "output_type": "execute_result"
    }
   ],
   "source": [
    "# DRAW THE PREDICTION\n",
    "df_len = len(df.index) # length of the original dataframe\n",
    "col_name = ['Close']\n",
    "df_filtered = df.filter(col_name)\n",
    "df_filtered_len = len(df_filtered.index)\n",
    "df_filtered_len\n",
    "len_pred_df = df_filtered_len+input # length of the original dataframe plus the users new inputs\n",
    "print(train_data_len,df_len,len_pred_df)\n",
    "new_data =df_filtered.append(pd.DataFrame(price_list,columns=col_name),ignore_index=True)\n",
    "new_data.tail(10)"
   ]
  },
  {
   "cell_type": "code",
   "execution_count": null,
   "metadata": {},
   "outputs": [
    {
     "name": "stderr",
     "output_type": "stream",
     "text": [
      "C:\\Users\\antoi\\AppData\\Local\\Temp/ipykernel_15312/4033897737.py:6: SettingWithCopyWarning: \n",
      "A value is trying to be set on a copy of a slice from a DataFrame.\n",
      "Try using .loc[row_indexer,col_indexer] = value instead\n",
      "\n",
      "See the caveats in the documentation: https://pandas.pydata.org/pandas-docs/stable/user_guide/indexing.html#returning-a-view-versus-a-copy\n",
      "  valid['Predictions'] = predictions # another column for validating test\n"
     ]
    },
    {
     "data": {
      "image/png": "[encoded data removed]",
      "text/plain": [
       "<Figure size 1152x576 with 1 Axes>"
      ]
     },
     "metadata": {},
     "output_type": "display_data"
    }
   ],
   "source": [
    "#Plot the data to validate the test data\n",
    "\n",
    "plt.style.use('fivethirtyeight')\n",
    "train = new_data.iloc[:train_data_len] # actual train data from 0 rows until train data end\n",
    "valid = new_data.iloc[train_data_len:df_len] # actual test data from train data end until end of all sampled data\n",
    "valid['Predictions'] = predictions # another column for validating test\n",
    "predict = new_data.iloc[df_len:len_pred_df] # user prediction data from loop\n",
    "\n",
    "plt.figure(figsize=(16,8))\n",
    "plt.title('PREDICTION BHP Share Price - LSTM Model')\n",
    "plt.xlabel('Trading Day - 01/01/2000 to date', fontsize=18)\n",
    "plt.ylabel('Close Price AUD ($)',fontsize=18)\n",
    "plt.plot(train['Close'])\n",
    "plt.plot(valid[['Close','Predictions']])\n",
    "plt.plot(predict['Close'])\n",
    "plt.legend(['Training','Validated','Tested','Prediction'],loc='lower right')\n",
    "x = np.arange(2000,2024,4)\n",
    "plt.xticks([0,1000,2000,3000,4000,5000],x)\n",
    "plt.show()"
   ]
  },
  {
   "cell_type": "markdown",
   "metadata": {},
   "source": [
    "#Save predicted price to MongoDB"
   ]
  },
  {
   "cell_type": "code",
   "execution_count": null,
   "metadata": {},
   "outputs": [],
   "source": [
    "# # Module used to connect Python with MongoDb\n",
    "# import pymongo"
   ]
  },
  {
   "cell_type": "code",
   "execution_count": null,
   "metadata": {},
   "outputs": [],
   "source": [
    "# # The default port used by MongoDB is 27017\n",
    "# # https://docs.mongodb.com/manual/reference/default-mongodb-port/\n",
    "# conn = 'mongodb://localhost:27017'\n",
    "# client = pymongo.MongoClient(conn)\n",
    "\n",
    "# # Define the 'sharesDB' database in Mongo\n",
    "# db = client.sharesDB"
   ]
  },
  {
   "cell_type": "code",
   "execution_count": null,
   "metadata": {},
   "outputs": [],
   "source": [
    "# # Query all\n",
    "# # Here, db.companys refers to the collection 'companys '\n",
    "# companys = db.companys.find()\n",
    "\n",
    "# # Iterate through each company in the collection\n",
    "# for company in companys:\n",
    "#     print(company)"
   ]
  },
  {
   "cell_type": "code",
   "execution_count": null,
   "metadata": {},
   "outputs": [],
   "source": [
    "# # Set keys and values of company\n",
    "# name = 'BHP'\n",
    "# predicted = int(pred_price)\n",
    "# difference = pred_price-actual_price\n",
    "# print(f'date {actual_date},predicted {predicted},actual {actual_price}, difference {difference}')"
   ]
  },
  {
   "cell_type": "code",
   "execution_count": null,
   "metadata": {},
   "outputs": [],
   "source": [
    "# # Insert a document into the 'companys' collection\n",
    "# db.companys.insert_one(\n",
    "#     {\n",
    "#       'model': 'LSTM',\n",
    "#       'name': name,\n",
    "#       'date': actual_date,\n",
    "#       'predicted': predicted,\n",
    "#       'actual': actual_price,\n",
    "#       'differece': difference\n",
    "#     }\n",
    "# )\n",
    "\n",
    "# # query the classroom collection\n",
    "# companys = db.companys.find()\n",
    "\n",
    "# # see change in collection\n",
    "# for company in companys:\n",
    "#     print(company)"
   ]
  },
  {
   "cell_type": "code",
   "execution_count": null,
   "metadata": {},
   "outputs": [],
   "source": [
    "# # Delete a document from a collection\n",
    "# db.companys.delete_one(\n",
    "#     {'name': 'BHP'}\n",
    "# )\n",
    "\n",
    "# # query the companys collection\n",
    "# companys = db.companys.find()\n",
    "\n",
    "# # see change in the collection\n",
    "# for company in companys:\n",
    "#     print(company)"
   ]
  },
  {
   "cell_type": "code",
   "execution_count": null,
   "metadata": {},
   "outputs": [],
   "source": [
    "# from pymongo import MongoClient\n",
    "# mongoClient = MongoClient()\n",
    "# db = mongoClient.sharesDB\n",
    "# db.bhp.drop()\n",
    "\n",
    "# import csv\n",
    "# header = [\"Date\",\"Open\",\"High\",\"Low\",\"Close\",\"Adj Close\",\"Volume\",\"SENTIMENT\",\"RBA\",\"FED\"]\n",
    "# csvfile = open('../static/data/bhp.csv', 'r')\n",
    "# reader = csv.DictReader( csvfile )\n",
    "\n",
    "# for each in reader:\n",
    "#     row={}\n",
    "#     for field in header:\n",
    "#         row[field]=each[field]\n",
    "        \n",
    "#     print (row)\n",
    "#     db.bhp.insert_one(row)\t\t\t\t "
   ]
  },
  {
   "cell_type": "code",
   "execution_count": null,
   "metadata": {},
   "outputs": [],
   "source": [
    "# # query the collection\n",
    "# bhps = db.bhp.find()\n",
    "\n",
    "# # see change in collection\n",
    "# for bhp in bhps:\n",
    "#     print(bhp)"
   ]
  }
 ],
 "metadata": {
  "interpreter": {
   "hash": "3059867ecbaf26750e76effc478ab3c7b6fe2c4d25ba12aeebe66bc85b0df6cc"
  },
  "kernel_info": {
   "name": "dev"
  },
  "kernelspec": {
   "display_name": "Python [conda root]",
   "language": "python",
   "name": "python3"
  },
  "language_info": {
   "codemirror_mode": {
    "name": "ipython",
    "version": 3
   },
   "file_extension": ".py",
   "mimetype": "text/x-python",
   "name": "python",
   "nbconvert_exporter": "python",
   "pygments_lexer": "ipython3",
   "version": "3.9.7"
  },
  "nteract": {
   "version": "0.12.3"
  }
 },
 "nbformat": 4,
 "nbformat_minor": 2
}
