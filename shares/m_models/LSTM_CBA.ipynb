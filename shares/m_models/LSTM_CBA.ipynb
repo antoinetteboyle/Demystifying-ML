{
 "cells": [
  {
   "cell_type": "markdown",
   "metadata": {},
   "source": [
    "#This model uses LSTM to predict a Daily share price movements based on time series and batches of 60 days"
   ]
  },
  {
   "cell_type": "markdown",
   "metadata": {},
   "source": [
    "# Read the CSV and Perform Basic Data Cleaning"
   ]
  },
  {
   "cell_type": "code",
   "execution_count": 200,
   "metadata": {},
   "outputs": [],
   "source": [
    "import matplotlib.pyplot as plt\n",
    "import numpy as np\n",
    "import pandas as pd"
   ]
  },
  {
   "cell_type": "code",
   "execution_count": 201,
   "metadata": {},
   "outputs": [
    {
     "data": {
      "text/html": [
       "<div>\n",
       "<style scoped>\n",
       "    .dataframe tbody tr th:only-of-type {\n",
       "        vertical-align: middle;\n",
       "    }\n",
       "\n",
       "    .dataframe tbody tr th {\n",
       "        vertical-align: top;\n",
       "    }\n",
       "\n",
       "    .dataframe thead th {\n",
       "        text-align: right;\n",
       "    }\n",
       "</style>\n",
       "<table border=\"1\" class=\"dataframe\">\n",
       "  <thead>\n",
       "    <tr style=\"text-align: right;\">\n",
       "      <th></th>\n",
       "      <th>Date</th>\n",
       "      <th>Open</th>\n",
       "      <th>High</th>\n",
       "      <th>Low</th>\n",
       "      <th>Close</th>\n",
       "      <th>Adj Close</th>\n",
       "      <th>Volume</th>\n",
       "    </tr>\n",
       "  </thead>\n",
       "  <tbody>\n",
       "    <tr>\n",
       "      <th>0</th>\n",
       "      <td>3/01/2000</td>\n",
       "      <td>26.088652</td>\n",
       "      <td>26.088652</td>\n",
       "      <td>26.088652</td>\n",
       "      <td>26.088652</td>\n",
       "      <td>7.993308</td>\n",
       "      <td>0</td>\n",
       "    </tr>\n",
       "    <tr>\n",
       "      <th>1</th>\n",
       "      <td>4/01/2000</td>\n",
       "      <td>26.058813</td>\n",
       "      <td>26.058813</td>\n",
       "      <td>25.720646</td>\n",
       "      <td>25.790268</td>\n",
       "      <td>7.901886</td>\n",
       "      <td>1018072</td>\n",
       "    </tr>\n",
       "    <tr>\n",
       "      <th>2</th>\n",
       "      <td>5/01/2000</td>\n",
       "      <td>25.353634</td>\n",
       "      <td>25.392424</td>\n",
       "      <td>25.113932</td>\n",
       "      <td>25.213392</td>\n",
       "      <td>7.725136</td>\n",
       "      <td>2191283</td>\n",
       "    </tr>\n",
       "    <tr>\n",
       "      <th>3</th>\n",
       "      <td>6/01/2000</td>\n",
       "      <td>25.362585</td>\n",
       "      <td>25.362585</td>\n",
       "      <td>24.666357</td>\n",
       "      <td>24.716087</td>\n",
       "      <td>7.572770</td>\n",
       "      <td>1505531</td>\n",
       "    </tr>\n",
       "    <tr>\n",
       "      <th>4</th>\n",
       "      <td>7/01/2000</td>\n",
       "      <td>24.913021</td>\n",
       "      <td>25.113932</td>\n",
       "      <td>24.735979</td>\n",
       "      <td>24.964741</td>\n",
       "      <td>7.648952</td>\n",
       "      <td>1414040</td>\n",
       "    </tr>\n",
       "  </tbody>\n",
       "</table>\n",
       "</div>"
      ],
      "text/plain": [
       "        Date       Open       High        Low      Close  Adj Close   Volume\n",
       "0  3/01/2000  26.088652  26.088652  26.088652  26.088652   7.993308        0\n",
       "1  4/01/2000  26.058813  26.058813  25.720646  25.790268   7.901886  1018072\n",
       "2  5/01/2000  25.353634  25.392424  25.113932  25.213392   7.725136  2191283\n",
       "3  6/01/2000  25.362585  25.362585  24.666357  24.716087   7.572770  1505531\n",
       "4  7/01/2000  24.913021  25.113932  24.735979  24.964741   7.648952  1414040"
      ]
     },
     "execution_count": 201,
     "metadata": {},
     "output_type": "execute_result"
    }
   ],
   "source": [
    "df_stock1 = pd.read_csv(\"../static/data/cba.csv\")\n",
    "# Drop the null columns where all values are null\n",
    "df_stock2 = df_stock1.dropna(axis='columns', how='all')\n",
    "# Drop the null rows\n",
    "df_stock3 = df_stock2.dropna()\n",
    "# Drop the last rows to test prediction to actual\n",
    "df_stock_less1= df_stock3.iloc[:-1,:]\n",
    "# Drop last 3 columns sentiment RBA FED\n",
    "N=3\n",
    "df = df_stock_less1.iloc[: , :-N]\n",
    "df.head()"
   ]
  },
  {
   "cell_type": "code",
   "execution_count": 202,
   "metadata": {},
   "outputs": [
    {
     "data": {
      "text/plain": [
       "<AxesSubplot:>"
      ]
     },
     "execution_count": 202,
     "metadata": {},
     "output_type": "execute_result"
    },
    {
     "data": {
      "image/png": "[encoded data removed]",
      "text/plain": [
       "<Figure size 432x288 with 1 Axes>"
      ]
     },
     "metadata": {},
     "output_type": "display_data"
    }
   ],
   "source": [
    "df[\"Close\"].plot()"
   ]
  },
  {
   "cell_type": "code",
   "execution_count": 203,
   "metadata": {},
   "outputs": [
    {
     "name": "stdout",
     "output_type": "stream",
     "text": [
      "<class 'pandas.core.frame.DataFrame'>\n",
      "Int64Index: 5681 entries, 0 to 5680\n",
      "Data columns (total 7 columns):\n",
      " #   Column     Non-Null Count  Dtype  \n",
      "---  ------     --------------  -----  \n",
      " 0   Date       5681 non-null   object \n",
      " 1   Open       5681 non-null   float64\n",
      " 2   High       5681 non-null   float64\n",
      " 3   Low        5681 non-null   float64\n",
      " 4   Close      5681 non-null   float64\n",
      " 5   Adj Close  5681 non-null   float64\n",
      " 6   Volume     5681 non-null   int64  \n",
      "dtypes: float64(5), int64(1), object(1)\n",
      "memory usage: 355.1+ KB\n"
     ]
    }
   ],
   "source": [
    "df.info()"
   ]
  },
  {
   "cell_type": "code",
   "execution_count": 204,
   "metadata": {},
   "outputs": [
    {
     "data": {
      "text/plain": [
       "(5681, 1)"
      ]
     },
     "execution_count": 204,
     "metadata": {},
     "output_type": "execute_result"
    }
   ],
   "source": [
    "data = df.filter(['Close'])\n",
    "dataset = data.values\n",
    "dataset.shape\n"
   ]
  },
  {
   "cell_type": "markdown",
   "metadata": {},
   "source": [
    "# # Pre-processing : Scale the data using the MinMaxScaler and split train data"
   ]
  },
  {
   "cell_type": "code",
   "execution_count": 205,
   "metadata": {},
   "outputs": [
    {
     "data": {
      "text/plain": [
       "(4545, 1)"
      ]
     },
     "execution_count": 205,
     "metadata": {},
     "output_type": "execute_result"
    }
   ],
   "source": [
    "# Scale your data\n",
    "from sklearn.preprocessing import MinMaxScaler\n",
    "\n",
    "scaler = MinMaxScaler(feature_range=(0,1))\n",
    "dataset_scaled = scaler.fit_transform(dataset)\n",
    "\n",
    "# Split into train or test\n",
    "import math\n",
    "train_data_len = math.ceil(len(dataset)*.8)\n",
    "train_data = dataset_scaled[0:train_data_len,:]\n",
    "train_data.shape\n"
   ]
  },
  {
   "cell_type": "code",
   "execution_count": 206,
   "metadata": {},
   "outputs": [
    {
     "name": "stdout",
     "output_type": "stream",
     "text": [
      "[array([0.04184307, 0.03844119, 0.03186422, 0.02619443, 0.02902934,\n",
      "       0.03583307, 0.03112717, 0.0329982 , 0.03073027, 0.03450637,\n",
      "       0.0379876 , 0.03712579, 0.03129727, 0.03469913, 0.03390536,\n",
      "       0.03469913, 0.0329982 , 0.0329982 , 0.03776081, 0.04218326,\n",
      "       0.04036892, 0.03544755, 0.03531146, 0.03016329, 0.03424555,\n",
      "       0.03549291, 0.03408679, 0.03696705, 0.04090187, 0.0449728 ,\n",
      "       0.04610676, 0.05227547, 0.04921377, 0.04036892, 0.04110597,\n",
      "       0.03708043, 0.0399607 , 0.04127609, 0.03932567, 0.03889476,\n",
      "       0.03056017, 0.02780467, 0.03696705, 0.03526612, 0.03062821,\n",
      "       0.02789536, 0.0244935 , 0.0244935 , 0.0244935 , 0.00521622,\n",
      "       0.00657697, 0.00635016, 0.01099939, 0.0086521 , 0.00521622,\n",
      "       0.00510283, 0.00147414, 0.00136076, 0.00011341, 0.00100922])]\n",
      "[0.002086477591719982]\n"
     ]
    }
   ],
   "source": [
    "X_train = []\n",
    "y_train = []\n",
    "\n",
    "for i in range (60, len(train_data)):\n",
    "    X_train.append(train_data[i-60:i,0]) # contains 60 values\n",
    "    y_train.append(train_data[i,0])   # contains 61st value\n",
    "    if i<= 60:\n",
    "        print(X_train)\n",
    "        print(y_train) \n"
   ]
  },
  {
   "cell_type": "markdown",
   "metadata": {},
   "source": [
    "# Prepare train data for LSTM model"
   ]
  },
  {
   "cell_type": "code",
   "execution_count": 207,
   "metadata": {},
   "outputs": [
    {
     "data": {
      "text/plain": [
       "(4485, 60)"
      ]
     },
     "execution_count": 207,
     "metadata": {},
     "output_type": "execute_result"
    }
   ],
   "source": [
    "# Convert list to numpy array for LSTM model:\n",
    "X_train, y_train = np.array(X_train), np.array(y_train)\n",
    "X_train.shape"
   ]
  },
  {
   "cell_type": "code",
   "execution_count": 208,
   "metadata": {},
   "outputs": [
    {
     "data": {
      "text/plain": [
       "(4485, 60, 1)"
      ]
     },
     "execution_count": 208,
     "metadata": {},
     "output_type": "execute_result"
    }
   ],
   "source": [
    "# LSTM model expects 3D, reshape:\n",
    "X_train = np.reshape(X_train, (X_train.shape[0], X_train.shape[1], 1))\n",
    "X_train.shape"
   ]
  },
  {
   "cell_type": "markdown",
   "metadata": {},
   "source": [
    "# Build the LSTM model"
   ]
  },
  {
   "cell_type": "code",
   "execution_count": 209,
   "metadata": {},
   "outputs": [],
   "source": [
    "from tensorflow.keras.models import Sequential\n",
    "from tensorflow.keras.layers import Dense, LSTM\n",
    "model = Sequential()\n",
    "model.add(LSTM(50, return_sequences=True, input_shape=(X_train.shape[1], 1)))\n",
    "model.add(LSTM(50, return_sequences=False))\n",
    "model.add(Dense(25))\n",
    "model.add(Dense(1))"
   ]
  },
  {
   "cell_type": "code",
   "execution_count": 210,
   "metadata": {},
   "outputs": [],
   "source": [
    "model.compile(optimizer='adam', loss='mean_squared_error')"
   ]
  },
  {
   "cell_type": "code",
   "execution_count": 211,
   "metadata": {},
   "outputs": [
    {
     "name": "stdout",
     "output_type": "stream",
     "text": [
      "4485/4485 [==============================] - 57s 12ms/step - loss: 6.9944e-04\n"
     ]
    },
    {
     "data": {
      "text/plain": [
       "<keras.callbacks.History at 0x1d36c67baf0>"
      ]
     },
     "execution_count": 211,
     "metadata": {},
     "output_type": "execute_result"
    }
   ],
   "source": [
    "model.fit(X_train, y_train, batch_size=1, epochs=1)"
   ]
  },
  {
   "cell_type": "code",
   "execution_count": 212,
   "metadata": {},
   "outputs": [],
   "source": [
    "#Create test data\n",
    "test_data = dataset_scaled[train_data_len-60:,:]\n",
    "X_test = []\n",
    "y_test = dataset[train_data_len:,:]\n",
    "for i in range(60, len(test_data)):\n",
    " X_test.append(test_data[i-60:i,0])"
   ]
  },
  {
   "cell_type": "code",
   "execution_count": 213,
   "metadata": {},
   "outputs": [],
   "source": [
    "#Covert test data to a numpy array and reshape\n",
    "X_test = np.array(X_test)\n",
    "X_test = np.reshape(X_test, (X_test.shape[0],X_test.shape[1],1))"
   ]
  },
  {
   "cell_type": "code",
   "execution_count": 214,
   "metadata": {},
   "outputs": [],
   "source": [
    "#Get predicted prices\n",
    "predictions_lstm = model.predict(X_test)\n",
    "predictions = scaler.inverse_transform(predictions_lstm)"
   ]
  },
  {
   "cell_type": "code",
   "execution_count": 215,
   "metadata": {},
   "outputs": [
    {
     "data": {
      "text/plain": [
       "0.422581909431995"
      ]
     },
     "execution_count": 215,
     "metadata": {},
     "output_type": "execute_result"
    }
   ],
   "source": [
    "#Get the root mean square error (RMSE) 0 being most favourable\n",
    "rmse = np.sqrt(np.mean(predictions-y_test)**2)\n",
    "rmse"
   ]
  },
  {
   "cell_type": "code",
   "execution_count": 216,
   "metadata": {},
   "outputs": [],
   "source": [
    "# date_time = df[\"Date\"]\n",
    "# date_time = pd.to_datetime(date_time)\n",
    "# data = data.set_index(date_time)"
   ]
  },
  {
   "cell_type": "markdown",
   "metadata": {},
   "source": []
  },
  {
   "cell_type": "code",
   "execution_count": 217,
   "metadata": {},
   "outputs": [
    {
     "name": "stderr",
     "output_type": "stream",
     "text": [
      "C:\\Users\\antoi\\AppData\\Local\\Temp/ipykernel_3288/2169877764.py:5: SettingWithCopyWarning: \n",
      "A value is trying to be set on a copy of a slice from a DataFrame.\n",
      "Try using .loc[row_indexer,col_indexer] = value instead\n",
      "\n",
      "See the caveats in the documentation: https://pandas.pydata.org/pandas-docs/stable/user_guide/indexing.html#returning-a-view-versus-a-copy\n",
      "  valid['Predictions'] = predictions # another column for validating test\n"
     ]
    },
    {
     "data": {
      "image/png": "[encoded data removed]",
      "text/plain": [
       "<Figure size 1152x576 with 1 Axes>"
      ]
     },
     "metadata": {},
     "output_type": "display_data"
    }
   ],
   "source": [
    "#Plot the data to validate the test data\n",
    "plt.style.use('fivethirtyeight')\n",
    "train = data.iloc[:train_data_len] # actual train data from 0 rows until train data end\n",
    "valid = data.iloc[train_data_len:] # actual test data from train data end until end of all sampled data\n",
    "valid['Predictions'] = predictions # another column for validating test\n",
    "\n",
    "plt.figure(figsize=(16,8))\n",
    "plt.title('CBA LSTM Model')\n",
    "plt.xlabel('Trading Day - 01/01/2000 to date', fontsize=18)\n",
    "plt.ylabel('Close Price AUD ($)',fontsize=18)\n",
    "plt.plot(train['Close'])\n",
    "plt.plot(valid[['Close','Predictions']])\n",
    "plt.legend(['Training','Validated','Tested'],loc='lower right')\n",
    "x = np.arange(2000,2024,4)\n",
    "plt.xticks([0,1000,2000,3000,4000,5000],x)\n",
    "plt.show()\n"
   ]
  },
  {
   "cell_type": "markdown",
   "metadata": {},
   "source": [
    "# Test data Predictions on the Model"
   ]
  },
  {
   "cell_type": "code",
   "execution_count": 218,
   "metadata": {},
   "outputs": [
    {
     "name": "stderr",
     "output_type": "stream",
     "text": [
      "C:\\Users\\antoi\\AppData\\Local\\Temp/ipykernel_3288/3952761259.py:1: SettingWithCopyWarning: \n",
      "A value is trying to be set on a copy of a slice from a DataFrame.\n",
      "Try using .loc[row_indexer,col_indexer] = value instead\n",
      "\n",
      "See the caveats in the documentation: https://pandas.pydata.org/pandas-docs/stable/user_guide/indexing.html#returning-a-view-versus-a-copy\n",
      "  valid['Difference']= valid['Close']-valid['Predictions']\n"
     ]
    },
    {
     "data": {
      "text/html": [
       "<div>\n",
       "<style scoped>\n",
       "    .dataframe tbody tr th:only-of-type {\n",
       "        vertical-align: middle;\n",
       "    }\n",
       "\n",
       "    .dataframe tbody tr th {\n",
       "        vertical-align: top;\n",
       "    }\n",
       "\n",
       "    .dataframe thead th {\n",
       "        text-align: right;\n",
       "    }\n",
       "</style>\n",
       "<table border=\"1\" class=\"dataframe\">\n",
       "  <thead>\n",
       "    <tr style=\"text-align: right;\">\n",
       "      <th></th>\n",
       "      <th>Close</th>\n",
       "      <th>Predictions</th>\n",
       "      <th>Difference</th>\n",
       "    </tr>\n",
       "  </thead>\n",
       "  <tbody>\n",
       "    <tr>\n",
       "      <th>4545</th>\n",
       "      <td>77.629997</td>\n",
       "      <td>77.978989</td>\n",
       "      <td>-0.348992</td>\n",
       "    </tr>\n",
       "    <tr>\n",
       "      <th>4546</th>\n",
       "      <td>77.669998</td>\n",
       "      <td>77.630600</td>\n",
       "      <td>0.039398</td>\n",
       "    </tr>\n",
       "    <tr>\n",
       "      <th>4547</th>\n",
       "      <td>77.410004</td>\n",
       "      <td>77.376175</td>\n",
       "      <td>0.033829</td>\n",
       "    </tr>\n",
       "    <tr>\n",
       "      <th>4548</th>\n",
       "      <td>77.790001</td>\n",
       "      <td>77.151527</td>\n",
       "      <td>0.638474</td>\n",
       "    </tr>\n",
       "    <tr>\n",
       "      <th>4549</th>\n",
       "      <td>77.400002</td>\n",
       "      <td>77.142807</td>\n",
       "      <td>0.257195</td>\n",
       "    </tr>\n",
       "    <tr>\n",
       "      <th>...</th>\n",
       "      <td>...</td>\n",
       "      <td>...</td>\n",
       "      <td>...</td>\n",
       "    </tr>\n",
       "    <tr>\n",
       "      <th>5676</th>\n",
       "      <td>108.349998</td>\n",
       "      <td>106.321213</td>\n",
       "      <td>2.028785</td>\n",
       "    </tr>\n",
       "    <tr>\n",
       "      <th>5677</th>\n",
       "      <td>105.370003</td>\n",
       "      <td>106.834747</td>\n",
       "      <td>-1.464744</td>\n",
       "    </tr>\n",
       "    <tr>\n",
       "      <th>5678</th>\n",
       "      <td>104.750000</td>\n",
       "      <td>106.174309</td>\n",
       "      <td>-1.424309</td>\n",
       "    </tr>\n",
       "    <tr>\n",
       "      <th>5679</th>\n",
       "      <td>103.000000</td>\n",
       "      <td>105.195145</td>\n",
       "      <td>-2.195145</td>\n",
       "    </tr>\n",
       "    <tr>\n",
       "      <th>5680</th>\n",
       "      <td>103.230003</td>\n",
       "      <td>103.802048</td>\n",
       "      <td>-0.572045</td>\n",
       "    </tr>\n",
       "  </tbody>\n",
       "</table>\n",
       "<p>1136 rows × 3 columns</p>\n",
       "</div>"
      ],
      "text/plain": [
       "           Close  Predictions  Difference\n",
       "4545   77.629997    77.978989   -0.348992\n",
       "4546   77.669998    77.630600    0.039398\n",
       "4547   77.410004    77.376175    0.033829\n",
       "4548   77.790001    77.151527    0.638474\n",
       "4549   77.400002    77.142807    0.257195\n",
       "...          ...          ...         ...\n",
       "5676  108.349998   106.321213    2.028785\n",
       "5677  105.370003   106.834747   -1.464744\n",
       "5678  104.750000   106.174309   -1.424309\n",
       "5679  103.000000   105.195145   -2.195145\n",
       "5680  103.230003   103.802048   -0.572045\n",
       "\n",
       "[1136 rows x 3 columns]"
      ]
     },
     "execution_count": 218,
     "metadata": {},
     "output_type": "execute_result"
    }
   ],
   "source": [
    "valid['Difference']= valid['Close']-valid['Predictions']\n",
    "valid"
   ]
  },
  {
   "cell_type": "code",
   "execution_count": 219,
   "metadata": {},
   "outputs": [],
   "source": [
    "#Get latest 60 quotes less 1 to predict:\n",
    "\n",
    "#import pandas_datareader.data as web\n",
    "#symbol = 'CBA.AX'\n",
    "#stock_quote = web.DataReader(symbol,data_source='yahoo',start='2022-01-01', end='2022-04-13')\n",
    "#stock_quotes_sixty = stock_quotes_sixty.filter(['Close'])\n",
    "#stock_quotes_sixty\n",
    "#OR use csv data "
   ]
  },
  {
   "cell_type": "code",
   "execution_count": 220,
   "metadata": {},
   "outputs": [
    {
     "data": {
      "text/plain": [
       "(60, 1)"
      ]
     },
     "execution_count": 220,
     "metadata": {},
     "output_type": "execute_result"
    }
   ],
   "source": [
    "# Use last 60 days price on model to predict next days price\n",
    "stock_quotes_sixty = df_stock_less1.tail(60)\n",
    "stock_close_sixty = stock_quotes_sixty['Close']\n",
    "last_60_days_val = stock_close_sixty[-60:].values\n",
    "last_60_days = last_60_days_val.reshape(-1,1)\n",
    "last_60_days.shape"
   ]
  },
  {
   "cell_type": "code",
   "execution_count": 221,
   "metadata": {},
   "outputs": [
    {
     "data": {
      "text/plain": [
       "(1, 60, 1)"
      ]
     },
     "execution_count": 221,
     "metadata": {},
     "output_type": "execute_result"
    }
   ],
   "source": [
    "last_60_days_scaled = scaler.transform(last_60_days)\n",
    "X_tell = []\n",
    "X_tell.append(last_60_days_scaled)\n",
    "X_tell =np.array(X_tell)\n",
    "X_tell =np.reshape(X_tell, (X_tell.shape[0], X_tell.shape[1],1))\n",
    "X_tell.shape"
   ]
  },
  {
   "cell_type": "code",
   "execution_count": 222,
   "metadata": {},
   "outputs": [
    {
     "name": "stdout",
     "output_type": "stream",
     "text": [
      "Predicted next day share price 102\n"
     ]
    }
   ],
   "source": [
    "pred_price = model.predict(X_tell)\n",
    "pred_price = scaler.inverse_transform(pred_price)\n",
    "pred_price = int(pred_price)\n",
    "print(f'Predicted next day share price {pred_price}')"
   ]
  },
  {
   "cell_type": "code",
   "execution_count": 223,
   "metadata": {},
   "outputs": [
    {
     "data": {
      "text/html": [
       "<div>\n",
       "<style scoped>\n",
       "    .dataframe tbody tr th:only-of-type {\n",
       "        vertical-align: middle;\n",
       "    }\n",
       "\n",
       "    .dataframe tbody tr th {\n",
       "        vertical-align: top;\n",
       "    }\n",
       "\n",
       "    .dataframe thead th {\n",
       "        text-align: right;\n",
       "    }\n",
       "</style>\n",
       "<table border=\"1\" class=\"dataframe\">\n",
       "  <thead>\n",
       "    <tr style=\"text-align: right;\">\n",
       "      <th></th>\n",
       "      <th>Date</th>\n",
       "      <th>Open</th>\n",
       "      <th>High</th>\n",
       "      <th>Low</th>\n",
       "      <th>Close</th>\n",
       "      <th>Adj Close</th>\n",
       "      <th>Volume</th>\n",
       "      <th>SENTIMENT</th>\n",
       "      <th>RBA</th>\n",
       "      <th>FED</th>\n",
       "    </tr>\n",
       "  </thead>\n",
       "  <tbody>\n",
       "    <tr>\n",
       "      <th>5681</th>\n",
       "      <td>29/04/2022</td>\n",
       "      <td>103.800003</td>\n",
       "      <td>104.190002</td>\n",
       "      <td>103.389999</td>\n",
       "      <td>103.419998</td>\n",
       "      <td>103.419998</td>\n",
       "      <td>896198</td>\n",
       "      <td>POSITIVE</td>\n",
       "      <td>0.05</td>\n",
       "      <td>0.08</td>\n",
       "    </tr>\n",
       "  </tbody>\n",
       "</table>\n",
       "</div>"
      ],
      "text/plain": [
       "            Date        Open        High         Low       Close   Adj Close  \\\n",
       "5681  29/04/2022  103.800003  104.190002  103.389999  103.419998  103.419998   \n",
       "\n",
       "      Volume SENTIMENT   RBA   FED  \n",
       "5681  896198  POSITIVE  0.05  0.08  "
      ]
     },
     "execution_count": 223,
     "metadata": {},
     "output_type": "execute_result"
    }
   ],
   "source": [
    "#stock_quote_acual = web.DataReader('CBA.AX',data_source='yahoo',start='2022-04-14', end='2022-04-14')\n",
    "#OR get last quote from latest csv\n",
    "stock_quote_last_one = df_stock1.tail(1)\n",
    "stock_quote_last_one"
   ]
  },
  {
   "cell_type": "code",
   "execution_count": 224,
   "metadata": {},
   "outputs": [
    {
     "data": {
      "text/plain": [
       "'29/04/2022'"
      ]
     },
     "execution_count": 224,
     "metadata": {},
     "output_type": "execute_result"
    }
   ],
   "source": [
    "#save actual to variable\n",
    "actual_price = stock_quote_last_one.iloc[0,4]\n",
    "actual_date = stock_quote_last_one.iloc[0,0] \n",
    "actual_price = int(actual_price)\n",
    "actual_price\n",
    "actual_date"
   ]
  },
  {
   "cell_type": "markdown",
   "metadata": {},
   "source": [
    "# Save the Model"
   ]
  },
  {
   "cell_type": "code",
   "execution_count": 225,
   "metadata": {},
   "outputs": [],
   "source": [
    "# Save the entire model to a HDF5 file.\n",
    "# The '.h5' extension indicates that the model should be saved to HDF5.\n",
    "filepath = '../static/cba_model.sav'\n",
    "model.save(filepath, save_format=\"h5\")"
   ]
  },
  {
   "cell_type": "markdown",
   "metadata": {},
   "source": [
    "#Save last 60 days to a list cba_sixty and load df"
   ]
  },
  {
   "cell_type": "code",
   "execution_count": 226,
   "metadata": {},
   "outputs": [
    {
     "data": {
      "text/html": [
       "<div>\n",
       "<style scoped>\n",
       "    .dataframe tbody tr th:only-of-type {\n",
       "        vertical-align: middle;\n",
       "    }\n",
       "\n",
       "    .dataframe tbody tr th {\n",
       "        vertical-align: top;\n",
       "    }\n",
       "\n",
       "    .dataframe thead th {\n",
       "        text-align: right;\n",
       "    }\n",
       "</style>\n",
       "<table border=\"1\" class=\"dataframe\">\n",
       "  <thead>\n",
       "    <tr style=\"text-align: right;\">\n",
       "      <th></th>\n",
       "      <th>92.277802</th>\n",
       "    </tr>\n",
       "  </thead>\n",
       "  <tbody>\n",
       "    <tr>\n",
       "      <th>55</th>\n",
       "      <td>105.370003</td>\n",
       "    </tr>\n",
       "    <tr>\n",
       "      <th>56</th>\n",
       "      <td>104.750000</td>\n",
       "    </tr>\n",
       "    <tr>\n",
       "      <th>57</th>\n",
       "      <td>103.000000</td>\n",
       "    </tr>\n",
       "    <tr>\n",
       "      <th>58</th>\n",
       "      <td>103.230003</td>\n",
       "    </tr>\n",
       "    <tr>\n",
       "      <th>59</th>\n",
       "      <td>103.419998</td>\n",
       "    </tr>\n",
       "  </tbody>\n",
       "</table>\n",
       "</div>"
      ],
      "text/plain": [
       "     92.277802\n",
       "55  105.370003\n",
       "56  104.750000\n",
       "57  103.000000\n",
       "58  103.230003\n",
       "59  103.419998"
      ]
     },
     "execution_count": 226,
     "metadata": {},
     "output_type": "execute_result"
    }
   ],
   "source": [
    "# Read in the CSV file\n",
    "df_cba_sixty = pd.read_csv(\"../static/data/cba_sixty.csv\")\n",
    "df_cba_sixty.tail()"
   ]
  },
  {
   "cell_type": "code",
   "execution_count": 227,
   "metadata": {},
   "outputs": [
    {
     "data": {
      "text/plain": [
       "(60, 1)"
      ]
     },
     "execution_count": 227,
     "metadata": {},
     "output_type": "execute_result"
    }
   ],
   "source": [
    "close_sixty_val = df_cba_sixty[-60:].values\n",
    "last_sixty = close_sixty_val.reshape(-1,1)\n",
    "last_sixty.shape"
   ]
  },
  {
   "cell_type": "code",
   "execution_count": 228,
   "metadata": {},
   "outputs": [
    {
     "data": {
      "text/plain": [
       "(1, 60, 1)"
      ]
     },
     "execution_count": 228,
     "metadata": {},
     "output_type": "execute_result"
    }
   ],
   "source": [
    "last_sixty_scaled = scaler.transform(last_sixty)\n",
    "new_X_tell = []\n",
    "new_X_tell.append(last_sixty_scaled)\n",
    "new_X_tell =np.array(new_X_tell)\n",
    "new_X_tell =np.reshape(new_X_tell, (new_X_tell.shape[0], new_X_tell.shape[1],1))\n",
    "new_X_tell.shape"
   ]
  },
  {
   "cell_type": "code",
   "execution_count": 229,
   "metadata": {},
   "outputs": [],
   "source": [
    "#PREDICT USING LOADED MODEL"
   ]
  },
  {
   "cell_type": "code",
   "execution_count": 230,
   "metadata": {},
   "outputs": [],
   "source": [
    "from keras.models import load_model"
   ]
  },
  {
   "cell_type": "code",
   "execution_count": 231,
   "metadata": {},
   "outputs": [],
   "source": [
    "model_in = load_model('../static/cba_model.sav')"
   ]
  },
  {
   "cell_type": "code",
   "execution_count": 232,
   "metadata": {},
   "outputs": [
    {
     "data": {
      "text/plain": [
       "array([[0.91203547]], dtype=float32)"
      ]
     },
     "execution_count": 232,
     "metadata": {},
     "output_type": "execute_result"
    }
   ],
   "source": [
    "model_in_pd_scale = model_in.predict(new_X_tell)\n",
    "model_in_pd_scale"
   ]
  },
  {
   "cell_type": "code",
   "execution_count": 233,
   "metadata": {},
   "outputs": [
    {
     "name": "stdout",
     "output_type": "stream",
     "text": [
      "Predicted next day share price [[102.4145]]\n"
     ]
    }
   ],
   "source": [
    "model_in_price = scaler.inverse_transform(model_in_pd_scale)\n",
    "#model_in_price_int = int(model_in_price)\n",
    "print(f'Predicted next day share price {model_in_price}')"
   ]
  },
  {
   "cell_type": "code",
   "execution_count": 234,
   "metadata": {},
   "outputs": [
    {
     "data": {
      "text/plain": [
       "(59, 1)"
      ]
     },
     "execution_count": 234,
     "metadata": {},
     "output_type": "execute_result"
    }
   ],
   "source": [
    "last_sixty_less_one = np.delete(last_sixty, 0, 0)\n",
    "last_sixty_less_one.shape"
   ]
  },
  {
   "cell_type": "code",
   "execution_count": 235,
   "metadata": {},
   "outputs": [
    {
     "data": {
      "text/plain": [
       "(60, 1)"
      ]
     },
     "execution_count": 235,
     "metadata": {},
     "output_type": "execute_result"
    }
   ],
   "source": [
    "last_sixty = np.append(last_sixty_less_one, model_in_price,axis = 0)\n",
    "last_sixty.shape"
   ]
  },
  {
   "cell_type": "markdown",
   "metadata": {},
   "source": [
    "#Create a function to loop through the days input"
   ]
  },
  {
   "cell_type": "code",
   "execution_count": 236,
   "metadata": {},
   "outputs": [],
   "source": [
    "from keras.models import load_model\n",
    "model_in = load_model('../static/cba_model.sav')\n",
    "from sklearn.preprocessing import MinMaxScaler\n",
    "scaler = MinMaxScaler(feature_range=(0,1))\n",
    "# Read in the CSV file\n",
    "df_cba_sixty = pd.read_csv(\"../static/data/cba_sixty.csv\")\n",
    "\n",
    "close_sixty_val = df_cba_sixty[-60:].values\n",
    "last_sixty = close_sixty_val.reshape(-1,1)\n",
    "\n",
    "price_list=[]\n",
    "\n",
    "#Function to predict future days predicted price, in loop\n",
    "input = 10 #days\n",
    "if input == \"\":\n",
    "    input = 200\n",
    "else:\n",
    "   input = int(input)\n",
    "\n",
    "def predict_cba(last_sixty,model_in,input):\n",
    "    for i in range(0, input):\n",
    "\n",
    "        #Takes df and converts to model's predict shape\n",
    "        last_sixty_scaled = scaler.fit_transform(last_sixty)\n",
    "        new_X_tell = []\n",
    "        new_X_tell.append(last_sixty_scaled)\n",
    "        new_X_tell =np.array(new_X_tell)\n",
    "        new_X_tell =np.reshape(new_X_tell, (new_X_tell.shape[0], new_X_tell.shape[1],1))\n",
    "        \n",
    "        model_in_pd_scale = model_in.predict(new_X_tell)\n",
    "        model_in_price = scaler.inverse_transform(model_in_pd_scale) # New price predicted\n",
    "\n",
    "        last_sixty_less_one = np.delete(last_sixty, 0, 0)\n",
    "        last_sixty = np.append(last_sixty_less_one, model_in_price,axis = 0) # Update last 60\n",
    "        print(i)\n",
    "        print(\"Day finished! Price: \")\n",
    "        price_float = float(model_in_price)\n",
    "        price = round(price_float, 2)\n",
    "        price_list.append(price)\n",
    "    else:\n",
    "        print(\"Could not predict further!\")\n",
    "        print(input)\n",
    "    print(price_list)\n",
    "   "
   ]
  },
  {
   "cell_type": "code",
   "execution_count": 237,
   "metadata": {},
   "outputs": [
    {
     "name": "stdout",
     "output_type": "stream",
     "text": [
      "0\n",
      "Day finished! Price: \n",
      "1\n",
      "Day finished! Price: \n",
      "2\n",
      "Day finished! Price: \n",
      "3\n",
      "Day finished! Price: \n",
      "4\n",
      "Day finished! Price: \n",
      "5\n",
      "Day finished! Price: \n",
      "6\n",
      "Day finished! Price: \n",
      "7\n",
      "Day finished! Price: \n",
      "8\n",
      "Day finished! Price: \n",
      "9\n",
      "Day finished! Price: \n",
      "Could not predict further!\n",
      "10\n",
      "[103.09, 102.85, 102.72, 102.66, 102.65, 102.68, 102.74, 102.82, 102.91, 103.0]\n"
     ]
    }
   ],
   "source": [
    "predict_cba(last_sixty,model_in,input)"
   ]
  },
  {
   "cell_type": "code",
   "execution_count": 238,
   "metadata": {},
   "outputs": [
    {
     "data": {
      "text/html": [
       "<div>\n",
       "<style scoped>\n",
       "    .dataframe tbody tr th:only-of-type {\n",
       "        vertical-align: middle;\n",
       "    }\n",
       "\n",
       "    .dataframe tbody tr th {\n",
       "        vertical-align: top;\n",
       "    }\n",
       "\n",
       "    .dataframe thead th {\n",
       "        text-align: right;\n",
       "    }\n",
       "</style>\n",
       "<table border=\"1\" class=\"dataframe\">\n",
       "  <thead>\n",
       "    <tr style=\"text-align: right;\">\n",
       "      <th></th>\n",
       "      <th>Count</th>\n",
       "      <th>Date</th>\n",
       "      <th>DOW</th>\n",
       "    </tr>\n",
       "  </thead>\n",
       "  <tbody>\n",
       "    <tr>\n",
       "      <th>0</th>\n",
       "      <td>1</td>\n",
       "      <td>3/05/2022</td>\n",
       "      <td>Tuesday</td>\n",
       "    </tr>\n",
       "    <tr>\n",
       "      <th>1</th>\n",
       "      <td>2</td>\n",
       "      <td>4/05/2022</td>\n",
       "      <td>Wednesday</td>\n",
       "    </tr>\n",
       "    <tr>\n",
       "      <th>2</th>\n",
       "      <td>3</td>\n",
       "      <td>5/05/2022</td>\n",
       "      <td>Thursday</td>\n",
       "    </tr>\n",
       "    <tr>\n",
       "      <th>3</th>\n",
       "      <td>4</td>\n",
       "      <td>6/05/2022</td>\n",
       "      <td>Friday</td>\n",
       "    </tr>\n",
       "    <tr>\n",
       "      <th>4</th>\n",
       "      <td>5</td>\n",
       "      <td>9/05/2022</td>\n",
       "      <td>Monday</td>\n",
       "    </tr>\n",
       "    <tr>\n",
       "      <th>...</th>\n",
       "      <td>...</td>\n",
       "      <td>...</td>\n",
       "      <td>...</td>\n",
       "    </tr>\n",
       "    <tr>\n",
       "      <th>398</th>\n",
       "      <td>0</td>\n",
       "      <td>10/11/2023</td>\n",
       "      <td>Friday</td>\n",
       "    </tr>\n",
       "    <tr>\n",
       "      <th>399</th>\n",
       "      <td>0</td>\n",
       "      <td>13/11/2023</td>\n",
       "      <td>Monday</td>\n",
       "    </tr>\n",
       "    <tr>\n",
       "      <th>400</th>\n",
       "      <td>0</td>\n",
       "      <td>14/11/2023</td>\n",
       "      <td>Tuesday</td>\n",
       "    </tr>\n",
       "    <tr>\n",
       "      <th>401</th>\n",
       "      <td>0</td>\n",
       "      <td>15/11/2023</td>\n",
       "      <td>Wednesday</td>\n",
       "    </tr>\n",
       "    <tr>\n",
       "      <th>402</th>\n",
       "      <td>0</td>\n",
       "      <td>16/11/2023</td>\n",
       "      <td>Thursday</td>\n",
       "    </tr>\n",
       "  </tbody>\n",
       "</table>\n",
       "<p>403 rows × 3 columns</p>\n",
       "</div>"
      ],
      "text/plain": [
       "     Count        Date        DOW\n",
       "0        1   3/05/2022    Tuesday\n",
       "1        2   4/05/2022  Wednesday\n",
       "2        3   5/05/2022   Thursday\n",
       "3        4   6/05/2022     Friday\n",
       "4        5   9/05/2022     Monday\n",
       "..     ...         ...        ...\n",
       "398      0  10/11/2023     Friday\n",
       "399      0  13/11/2023     Monday\n",
       "400      0  14/11/2023    Tuesday\n",
       "401      0  15/11/2023  Wednesday\n",
       "402      0  16/11/2023   Thursday\n",
       "\n",
       "[403 rows x 3 columns]"
      ]
     },
     "execution_count": 238,
     "metadata": {},
     "output_type": "execute_result"
    }
   ],
   "source": [
    "import pandas as pd\n",
    "dates_df = pd.read_csv(\"../static/data/dates.csv\")\n",
    "dates_df['Count'] = dates_df['Count'].fillna(0).astype(int)\n",
    "dates_df"
   ]
  },
  {
   "cell_type": "code",
   "execution_count": 252,
   "metadata": {},
   "outputs": [
    {
     "data": {
      "text/html": [
       "<div>\n",
       "<style scoped>\n",
       "    .dataframe tbody tr th:only-of-type {\n",
       "        vertical-align: middle;\n",
       "    }\n",
       "\n",
       "    .dataframe tbody tr th {\n",
       "        vertical-align: top;\n",
       "    }\n",
       "\n",
       "    .dataframe thead th {\n",
       "        text-align: right;\n",
       "    }\n",
       "</style>\n",
       "<table border=\"1\" class=\"dataframe\">\n",
       "  <thead>\n",
       "    <tr style=\"text-align: right;\">\n",
       "      <th></th>\n",
       "      <th>Count</th>\n",
       "      <th>Date</th>\n",
       "      <th>DOW</th>\n",
       "    </tr>\n",
       "  </thead>\n",
       "  <tbody>\n",
       "    <tr>\n",
       "      <th>0</th>\n",
       "      <td>1</td>\n",
       "      <td>3/05/2022</td>\n",
       "      <td>Tuesday</td>\n",
       "    </tr>\n",
       "    <tr>\n",
       "      <th>1</th>\n",
       "      <td>2</td>\n",
       "      <td>4/05/2022</td>\n",
       "      <td>Wednesday</td>\n",
       "    </tr>\n",
       "    <tr>\n",
       "      <th>2</th>\n",
       "      <td>3</td>\n",
       "      <td>5/05/2022</td>\n",
       "      <td>Thursday</td>\n",
       "    </tr>\n",
       "    <tr>\n",
       "      <th>3</th>\n",
       "      <td>4</td>\n",
       "      <td>6/05/2022</td>\n",
       "      <td>Friday</td>\n",
       "    </tr>\n",
       "    <tr>\n",
       "      <th>4</th>\n",
       "      <td>5</td>\n",
       "      <td>9/05/2022</td>\n",
       "      <td>Monday</td>\n",
       "    </tr>\n",
       "    <tr>\n",
       "      <th>...</th>\n",
       "      <td>...</td>\n",
       "      <td>...</td>\n",
       "      <td>...</td>\n",
       "    </tr>\n",
       "    <tr>\n",
       "      <th>398</th>\n",
       "      <td>0</td>\n",
       "      <td>10/11/2023</td>\n",
       "      <td>Friday</td>\n",
       "    </tr>\n",
       "    <tr>\n",
       "      <th>399</th>\n",
       "      <td>0</td>\n",
       "      <td>13/11/2023</td>\n",
       "      <td>Monday</td>\n",
       "    </tr>\n",
       "    <tr>\n",
       "      <th>400</th>\n",
       "      <td>0</td>\n",
       "      <td>14/11/2023</td>\n",
       "      <td>Tuesday</td>\n",
       "    </tr>\n",
       "    <tr>\n",
       "      <th>401</th>\n",
       "      <td>0</td>\n",
       "      <td>15/11/2023</td>\n",
       "      <td>Wednesday</td>\n",
       "    </tr>\n",
       "    <tr>\n",
       "      <th>402</th>\n",
       "      <td>0</td>\n",
       "      <td>16/11/2023</td>\n",
       "      <td>Thursday</td>\n",
       "    </tr>\n",
       "  </tbody>\n",
       "</table>\n",
       "<p>403 rows × 3 columns</p>\n",
       "</div>"
      ],
      "text/plain": [
       "     Count        Date        DOW\n",
       "0        1   3/05/2022    Tuesday\n",
       "1        2   4/05/2022  Wednesday\n",
       "2        3   5/05/2022   Thursday\n",
       "3        4   6/05/2022     Friday\n",
       "4        5   9/05/2022     Monday\n",
       "..     ...         ...        ...\n",
       "398      0  10/11/2023     Friday\n",
       "399      0  13/11/2023     Monday\n",
       "400      0  14/11/2023    Tuesday\n",
       "401      0  15/11/2023  Wednesday\n",
       "402      0  16/11/2023   Thursday\n",
       "\n",
       "[403 rows x 3 columns]"
      ]
     },
     "execution_count": 252,
     "metadata": {},
     "output_type": "execute_result"
    }
   ],
   "source": [
    "import pandas as pd\n",
    "dates_df = pd.read_csv(\"../static/data/dates.csv\")\n",
    "dates_df['Count'] = dates_df['Count'].fillna(0).astype(int)\n",
    "dates_df"
   ]
  },
  {
   "cell_type": "code",
   "execution_count": 253,
   "metadata": {},
   "outputs": [
    {
     "name": "stderr",
     "output_type": "stream",
     "text": [
      "C:\\Users\\antoi\\AppData\\Local\\Temp/ipykernel_3288/3423510363.py:3: SettingWithCopyWarning: \n",
      "A value is trying to be set on a copy of a slice from a DataFrame.\n",
      "Try using .loc[row_indexer,col_indexer] = value instead\n",
      "\n",
      "See the caveats in the documentation: https://pandas.pydata.org/pandas-docs/stable/user_guide/indexing.html#returning-a-view-versus-a-copy\n",
      "  dates_df_iloc['Price'] = price_list\n"
     ]
    },
    {
     "data": {
      "text/plain": [
       "[{'Count': 1, 'Date': '3/05/2022', 'DOW': 'Tuesday', 'Price': 103.09},\n",
       " {'Count': 2, 'Date': '4/05/2022', 'DOW': 'Wednesday', 'Price': 102.85},\n",
       " {'Count': 3, 'Date': '5/05/2022', 'DOW': 'Thursday', 'Price': 102.72},\n",
       " {'Count': 4, 'Date': '6/05/2022', 'DOW': 'Friday', 'Price': 102.66},\n",
       " {'Count': 5, 'Date': '9/05/2022', 'DOW': 'Monday', 'Price': 102.65},\n",
       " {'Count': 6, 'Date': '10/05/2022', 'DOW': 'Tuesday', 'Price': 102.68},\n",
       " {'Count': 7, 'Date': '11/05/2022', 'DOW': 'Wednesday', 'Price': 102.74},\n",
       " {'Count': 8, 'Date': '12/05/2022', 'DOW': 'Thursday', 'Price': 102.82},\n",
       " {'Count': 9, 'Date': '13/05/2022', 'DOW': 'Friday', 'Price': 102.91},\n",
       " {'Count': 10, 'Date': '16/05/2022', 'DOW': 'Monday', 'Price': 103.0}]"
      ]
     },
     "execution_count": 253,
     "metadata": {},
     "output_type": "execute_result"
    }
   ],
   "source": [
    "#Append the input amount of trading days to dates dictionary\n",
    "dates_df_iloc = dates_df.iloc[0:input]\n",
    "dates_df_iloc['Price'] = price_list\n",
    "my_dict = dates_df_iloc.to_dict(orient='records')\n",
    "my_dict"
   ]
  },
  {
   "cell_type": "code",
   "execution_count": 240,
   "metadata": {},
   "outputs": [
    {
     "data": {
      "text/plain": [
       "[{'Price': 103.09},\n",
       " {'Price': 102.85},\n",
       " {'Price': 102.72},\n",
       " {'Price': 102.66},\n",
       " {'Price': 102.65},\n",
       " {'Price': 102.68},\n",
       " {'Price': 102.74},\n",
       " {'Price': 102.82},\n",
       " {'Price': 102.91},\n",
       " {'Price': 103.0}]"
      ]
     },
     "execution_count": 240,
     "metadata": {},
     "output_type": "execute_result"
    }
   ],
   "source": [
    "# price_dict = dict({\"Price\": price_list}) \n",
    "#dates_dict =  dates_df.to_dict(orient='records')\n",
    "#dates_dict\n",
    "price_dict = [dict(zip(['Price'],[x])) for x in price_list]\n",
    "price_dict"
   ]
  },
  {
   "cell_type": "code",
   "execution_count": 241,
   "metadata": {},
   "outputs": [
    {
     "name": "stdout",
     "output_type": "stream",
     "text": [
      "4545 5681 5691\n"
     ]
    },
    {
     "data": {
      "text/html": [
       "<div>\n",
       "<style scoped>\n",
       "    .dataframe tbody tr th:only-of-type {\n",
       "        vertical-align: middle;\n",
       "    }\n",
       "\n",
       "    .dataframe tbody tr th {\n",
       "        vertical-align: top;\n",
       "    }\n",
       "\n",
       "    .dataframe thead th {\n",
       "        text-align: right;\n",
       "    }\n",
       "</style>\n",
       "<table border=\"1\" class=\"dataframe\">\n",
       "  <thead>\n",
       "    <tr style=\"text-align: right;\">\n",
       "      <th></th>\n",
       "      <th>Close</th>\n",
       "    </tr>\n",
       "  </thead>\n",
       "  <tbody>\n",
       "    <tr>\n",
       "      <th>5681</th>\n",
       "      <td>103.09</td>\n",
       "    </tr>\n",
       "    <tr>\n",
       "      <th>5682</th>\n",
       "      <td>102.85</td>\n",
       "    </tr>\n",
       "    <tr>\n",
       "      <th>5683</th>\n",
       "      <td>102.72</td>\n",
       "    </tr>\n",
       "    <tr>\n",
       "      <th>5684</th>\n",
       "      <td>102.66</td>\n",
       "    </tr>\n",
       "    <tr>\n",
       "      <th>5685</th>\n",
       "      <td>102.65</td>\n",
       "    </tr>\n",
       "    <tr>\n",
       "      <th>5686</th>\n",
       "      <td>102.68</td>\n",
       "    </tr>\n",
       "    <tr>\n",
       "      <th>5687</th>\n",
       "      <td>102.74</td>\n",
       "    </tr>\n",
       "    <tr>\n",
       "      <th>5688</th>\n",
       "      <td>102.82</td>\n",
       "    </tr>\n",
       "    <tr>\n",
       "      <th>5689</th>\n",
       "      <td>102.91</td>\n",
       "    </tr>\n",
       "    <tr>\n",
       "      <th>5690</th>\n",
       "      <td>103.00</td>\n",
       "    </tr>\n",
       "  </tbody>\n",
       "</table>\n",
       "</div>"
      ],
      "text/plain": [
       "       Close\n",
       "5681  103.09\n",
       "5682  102.85\n",
       "5683  102.72\n",
       "5684  102.66\n",
       "5685  102.65\n",
       "5686  102.68\n",
       "5687  102.74\n",
       "5688  102.82\n",
       "5689  102.91\n",
       "5690  103.00"
      ]
     },
     "execution_count": 241,
     "metadata": {},
     "output_type": "execute_result"
    }
   ],
   "source": [
    "# DRAW THE PREDICTION\n",
    "df_len = len(df.index) # length of the original dataframe\n",
    "col_name = ['Close']\n",
    "df_filtered = df.filter(col_name)\n",
    "df_filtered_len = len(df_filtered.index)\n",
    "df_filtered_len\n",
    "len_pred_df = df_filtered_len+input # length of the original dataframe plus the users new inputs\n",
    "print(train_data_len,df_len,len_pred_df)\n",
    "new_data =df_filtered.append(pd.DataFrame(price_list,columns=col_name),ignore_index=True)\n",
    "new_data.tail(10)"
   ]
  },
  {
   "cell_type": "code",
   "execution_count": 242,
   "metadata": {},
   "outputs": [
    {
     "name": "stderr",
     "output_type": "stream",
     "text": [
      "C:\\Users\\antoi\\AppData\\Local\\Temp/ipykernel_3288/3422036737.py:6: SettingWithCopyWarning: \n",
      "A value is trying to be set on a copy of a slice from a DataFrame.\n",
      "Try using .loc[row_indexer,col_indexer] = value instead\n",
      "\n",
      "See the caveats in the documentation: https://pandas.pydata.org/pandas-docs/stable/user_guide/indexing.html#returning-a-view-versus-a-copy\n",
      "  valid['Predictions'] = predictions # another column for validating test\n"
     ]
    },
    {
     "data": {
      "image/png": "[encoded data removed]",
      "text/plain": [
       "<Figure size 1152x576 with 1 Axes>"
      ]
     },
     "metadata": {},
     "output_type": "display_data"
    }
   ],
   "source": [
    "#Plot the data to validate the test data\n",
    "\n",
    "plt.style.use('fivethirtyeight')\n",
    "train = new_data.iloc[:train_data_len] # actual train data from 0 rows until train data end\n",
    "valid = new_data.iloc[train_data_len:df_len] # actual test data from train data end until end of all sampled data\n",
    "valid['Predictions'] = predictions # another column for validating test\n",
    "predict = new_data.iloc[df_len:len_pred_df] # user prediction data from loop\n",
    "\n",
    "plt.figure(figsize=(16,8))\n",
    "plt.title('PREDICTION CBA Share Price LSTM Model')\n",
    "plt.xlabel('Trading Day - 01/01/2000 to date', fontsize=18)\n",
    "plt.ylabel('Close Price AUD ($)',fontsize=18)\n",
    "plt.plot(train['Close'])\n",
    "plt.plot(valid[['Close','Predictions']])\n",
    "plt.plot(predict['Close'])\n",
    "plt.legend(['Training','Validated','Tested','Prediction'],loc='lower right')\n",
    "x = np.arange(2000,2024,4)\n",
    "plt.xticks([0,1000,2000,3000,4000,5000],x)\n",
    "plt.show()"
   ]
  },
  {
   "cell_type": "markdown",
   "metadata": {},
   "source": [
    "#Save predicted price to MongoDB"
   ]
  },
  {
   "cell_type": "code",
   "execution_count": 243,
   "metadata": {},
   "outputs": [],
   "source": [
    "# # Module used to connect Python with MongoDb\n",
    "# import pymongo"
   ]
  },
  {
   "cell_type": "code",
   "execution_count": 244,
   "metadata": {},
   "outputs": [],
   "source": [
    "# # The default port used by MongoDB is 27017\n",
    "# # https://docs.mongodb.com/manual/reference/default-mongodb-port/\n",
    "# conn = 'mongodb://localhost:27017'\n",
    "# client = pymongo.MongoClient(conn)\n",
    "\n",
    "# # Define the 'sharesDB' database in Mongo\n",
    "# db = client.sharesDB"
   ]
  },
  {
   "cell_type": "code",
   "execution_count": 245,
   "metadata": {},
   "outputs": [],
   "source": [
    "# # Query all\n",
    "# # Here, db.companys refers to the collection 'companys '\n",
    "# companys = db.companys.find()\n",
    "\n",
    "# # Iterate through each company in the collection\n",
    "# for company in companys:\n",
    "#     print(company)"
   ]
  },
  {
   "cell_type": "code",
   "execution_count": 246,
   "metadata": {},
   "outputs": [],
   "source": [
    "# # Set keys and values of company\n",
    "# name = 'CBA'\n",
    "# predicted = int(pred_price)\n",
    "# difference = pred_price-actual_price\n",
    "# print(f'date {actual_date},predicted {predicted},actual {actual_price}, difference {difference}')"
   ]
  },
  {
   "cell_type": "code",
   "execution_count": 247,
   "metadata": {},
   "outputs": [],
   "source": [
    "# # Insert a document into the 'companys' collection\n",
    "# db.companys.insert_one(\n",
    "#     {\n",
    "#       'model': 'LSTM',\n",
    "#       'name': name,\n",
    "#       'date': actual_date,\n",
    "#       'predicted': predicted,\n",
    "#       'actual': actual_price,\n",
    "#       'differece': difference\n",
    "#     }\n",
    "# )\n",
    "\n",
    "# # query the classroom collection\n",
    "# companys = db.companys.find()\n",
    "\n",
    "# # see change in collection\n",
    "# for company in companys:\n",
    "#     print(company)"
   ]
  },
  {
   "cell_type": "code",
   "execution_count": 248,
   "metadata": {},
   "outputs": [],
   "source": [
    "# # Delete a document from a collection\n",
    "# db.companys.delete_one(\n",
    "#     {'name': 'CBA'}\n",
    "# )\n",
    "\n",
    "# # query the companys collection\n",
    "# companys = db.companys.find()\n",
    "\n",
    "# # see change in the collection\n",
    "# for company in companys:\n",
    "#     print(company)"
   ]
  },
  {
   "cell_type": "code",
   "execution_count": 249,
   "metadata": {},
   "outputs": [],
   "source": [
    "# from pymongo import MongoClient\n",
    "# mongoClient = MongoClient()\n",
    "# db = mongoClient.sharesDB\n",
    "# db.cba.drop()\n",
    "\n",
    "# import csv\n",
    "# header = [\"Date\",\"Open\",\"High\",\"Low\",\"Close\",\"Adj Close\",\"Volume\",\"SENTIMENT\",\"RBA\",\"FED\"]\n",
    "# csvfile = open('../static/data/cba.csv', 'r')\n",
    "# reader = csv.DictReader( csvfile )\n",
    "\n",
    "# for each in reader:\n",
    "#     row={}\n",
    "#     for field in header:\n",
    "#         row[field]=each[field]\n",
    "        \n",
    "#     print (row)\n",
    "#     db.cba.insert_one(row)\t\t\t\t \t\t\t\t"
   ]
  },
  {
   "cell_type": "code",
   "execution_count": 250,
   "metadata": {},
   "outputs": [],
   "source": [
    "# # query the collection\n",
    "# cbas = db.cba.find()\n",
    "\n",
    "# # see change in collection\n",
    "# for cba in cbas:\n",
    "#     print(cba)"
   ]
  },
  {
   "cell_type": "code",
   "execution_count": 251,
   "metadata": {},
   "outputs": [],
   "source": [
    "# from pymongo import MongoClient\n",
    "# mongoClient = MongoClient()\n",
    "# db = mongoClient.sharesDB\n",
    "# db.cba_scatter.drop()\n",
    "\n",
    "# import csv\n",
    "# header = [\"Date\",\"Open\",\"High\",\"Low\",\"Close\",\"Adj Close\",\"Volume\",\"SENTIMENT\",\"RBA\",\"FED\"]\n",
    "# csvfile = open('../static/data/cba_scatter.csv', 'r')\n",
    "# reader = csv.DictReader( csvfile )\n",
    "\n",
    "# for each in reader:\n",
    "#     row={}\n",
    "#     for field in header:\n",
    "#         row[field]=each[field]\n",
    "        \n",
    "#     print (row)\n",
    "#     db.cba_scatter.insert_one(row)\t\t\t\t \t\t\t\t"
   ]
  }
 ],
 "metadata": {
  "interpreter": {
   "hash": "3059867ecbaf26750e76effc478ab3c7b6fe2c4d25ba12aeebe66bc85b0df6cc"
  },
  "kernel_info": {
   "name": "dev"
  },
  "kernelspec": {
   "display_name": "Python [conda root]",
   "language": "python",
   "name": "python3"
  },
  "language_info": {
   "codemirror_mode": {
    "name": "ipython",
    "version": 3
   },
   "file_extension": ".py",
   "mimetype": "text/x-python",
   "name": "python",
   "nbconvert_exporter": "python",
   "pygments_lexer": "ipython3",
   "version": "3.9.7"
  },
  "nteract": {
   "version": "0.12.3"
  }
 },
 "nbformat": 4,
 "nbformat_minor": 2
}
