{
 "cells": [
  {
   "cell_type": "code",
   "execution_count": 10,
   "id": "6fba8bf8-e817-47e0-9cf9-80cde00cc12c",
   "metadata": {},
   "outputs": [],
   "source": [
    "import pickle\n",
    "import pandas\n",
    "import pandas as pd\n",
    "import pyreadstat\n",
    "\n",
    "#file = open('cba_model.sav')\n",
    "#df, meta = pickle.load(file)\n"
   ]
  },
  {
   "cell_type": "code",
   "execution_count": 11,
   "id": "03baaa31-e2b6-4f0e-88aa-ed66df2853cb",
   "metadata": {},
   "outputs": [
    {
     "ename": "NameError",
     "evalue": "name 'model' is not defined",
     "output_type": "error",
     "traceback": [
      "\u001b[0;31m---------------------------------------------------------------------------\u001b[0m",
      "\u001b[0;31mNameError\u001b[0m                                 Traceback (most recent call last)",
      "\u001b[0;32m<ipython-input-11-4ecaddc78f47>\u001b[0m in \u001b[0;36m<module>\u001b[0;34m\u001b[0m\n\u001b[0;32m----> 1\u001b[0;31m \u001b[0mmodel\u001b[0m\u001b[0;34m.\u001b[0m\u001b[0mfit\u001b[0m\u001b[0;34m(\u001b[0m\u001b[0mX_train\u001b[0m\u001b[0;34m,\u001b[0m \u001b[0mY_train\u001b[0m\u001b[0;34m)\u001b[0m\u001b[0;34m\u001b[0m\u001b[0;34m\u001b[0m\u001b[0m\n\u001b[0m\u001b[1;32m      2\u001b[0m \u001b[0;31m# save the model to disk\u001b[0m\u001b[0;34m\u001b[0m\u001b[0;34m\u001b[0m\u001b[0;34m\u001b[0m\u001b[0m\n\u001b[1;32m      3\u001b[0m \u001b[0mfilename\u001b[0m \u001b[0;34m=\u001b[0m \u001b[0;34m'cba_model.sav'\u001b[0m\u001b[0;34m\u001b[0m\u001b[0;34m\u001b[0m\u001b[0m\n\u001b[1;32m      4\u001b[0m \u001b[0mpickle\u001b[0m\u001b[0;34m.\u001b[0m\u001b[0mdump\u001b[0m\u001b[0;34m(\u001b[0m\u001b[0mmodel\u001b[0m\u001b[0;34m,\u001b[0m \u001b[0mopen\u001b[0m\u001b[0;34m(\u001b[0m\u001b[0mfilename\u001b[0m\u001b[0;34m,\u001b[0m \u001b[0;34m'wb'\u001b[0m\u001b[0;34m)\u001b[0m\u001b[0;34m)\u001b[0m\u001b[0;34m\u001b[0m\u001b[0;34m\u001b[0m\u001b[0m\n\u001b[1;32m      5\u001b[0m \u001b[0;34m\u001b[0m\u001b[0m\n",
      "\u001b[0;31mNameError\u001b[0m: name 'model' is not defined"
     ]
    }
   ],
   "source": [
    "model.fit(X_train, Y_train)\n",
    "# save the model to disk\n",
    "filename = 'cba_model.sav'\n",
    "pickle.dump(model, open(filename, 'wb'))\n",
    " \n",
    "# load the model from disk\n",
    "loaded_model = pickle.load(open(filename, 'rb'))\n",
    "result = loaded_model.score(X_test, Y_test)"
   ]
  },
  {
   "cell_type": "code",
   "execution_count": 9,
   "id": "da11d38a-ac2b-4342-bd1a-d8a67c3f47da",
   "metadata": {},
   "outputs": [
    {
     "ename": "ReadstatError",
     "evalue": "Invalid file, or file has unsupported features",
     "output_type": "error",
     "traceback": [
      "\u001b[0;31m---------------------------------------------------------------------------\u001b[0m",
      "\u001b[0;31mReadstatError\u001b[0m                             Traceback (most recent call last)",
      "\u001b[0;32m<ipython-input-9-5a4098344f44>\u001b[0m in \u001b[0;36m<module>\u001b[0;34m\u001b[0m\n\u001b[0;32m----> 1\u001b[0;31m \u001b[0mdf\u001b[0m \u001b[0;34m=\u001b[0m \u001b[0mpd\u001b[0m\u001b[0;34m.\u001b[0m\u001b[0mread_spss\u001b[0m\u001b[0;34m(\u001b[0m\u001b[0;34m'cba_model.sav'\u001b[0m\u001b[0;34m)\u001b[0m\u001b[0;34m\u001b[0m\u001b[0;34m\u001b[0m\u001b[0m\n\u001b[0m\u001b[1;32m      2\u001b[0m \u001b[0;31m#df= pd.read_sav\u001b[0m\u001b[0;34m\u001b[0m\u001b[0;34m\u001b[0m\u001b[0;34m\u001b[0m\u001b[0m\n",
      "\u001b[0;32m~/opt/anaconda3/lib/python3.8/site-packages/pandas/io/spss.py\u001b[0m in \u001b[0;36mread_spss\u001b[0;34m(path, usecols, convert_categoricals)\u001b[0m\n\u001b[1;32m     42\u001b[0m             \u001b[0musecols\u001b[0m \u001b[0;34m=\u001b[0m \u001b[0mlist\u001b[0m\u001b[0;34m(\u001b[0m\u001b[0musecols\u001b[0m\u001b[0;34m)\u001b[0m  \u001b[0;31m# pyreadstat requires a list\u001b[0m\u001b[0;34m\u001b[0m\u001b[0;34m\u001b[0m\u001b[0m\n\u001b[1;32m     43\u001b[0m \u001b[0;34m\u001b[0m\u001b[0m\n\u001b[0;32m---> 44\u001b[0;31m     df, _ = pyreadstat.read_sav(\n\u001b[0m\u001b[1;32m     45\u001b[0m         \u001b[0mstringify_path\u001b[0m\u001b[0;34m(\u001b[0m\u001b[0mpath\u001b[0m\u001b[0;34m)\u001b[0m\u001b[0;34m,\u001b[0m \u001b[0musecols\u001b[0m\u001b[0;34m=\u001b[0m\u001b[0musecols\u001b[0m\u001b[0;34m,\u001b[0m \u001b[0mapply_value_formats\u001b[0m\u001b[0;34m=\u001b[0m\u001b[0mconvert_categoricals\u001b[0m\u001b[0;34m\u001b[0m\u001b[0;34m\u001b[0m\u001b[0m\n\u001b[1;32m     46\u001b[0m     )\n",
      "\u001b[0;32mpyreadstat/pyreadstat.pyx\u001b[0m in \u001b[0;36mpyreadstat.pyreadstat.read_sav\u001b[0;34m()\u001b[0m\n",
      "\u001b[0;32mpyreadstat/_readstat_parser.pyx\u001b[0m in \u001b[0;36mpyreadstat._readstat_parser.run_conversion\u001b[0;34m()\u001b[0m\n",
      "\u001b[0;32mpyreadstat/_readstat_parser.pyx\u001b[0m in \u001b[0;36mpyreadstat._readstat_parser.run_readstat_parser\u001b[0;34m()\u001b[0m\n",
      "\u001b[0;32mpyreadstat/_readstat_parser.pyx\u001b[0m in \u001b[0;36mpyreadstat._readstat_parser.check_exit_status\u001b[0;34m()\u001b[0m\n",
      "\u001b[0;31mReadstatError\u001b[0m: Invalid file, or file has unsupported features"
     ]
    }
   ],
   "source": [
    "\n",
    "df = pd.read_spss'cba_model.sav'\n",
    "#df= pd.read_sav"
   ]
  },
  {
   "cell_type": "code",
   "execution_count": null,
   "id": "a0d4b89d-2725-4b83-be0d-4a168256c94d",
   "metadata": {},
   "outputs": [],
   "source": [
    "df, meta= pyreadstat.read_sav('cba_model.sav')"
   ]
  }
 ],
 "metadata": {
  "kernelspec": {
   "display_name": "Python 3",
   "language": "python",
   "name": "python3"
  },
  "language_info": {
   "codemirror_mode": {
    "name": "ipython",
    "version": 3
   },
   "file_extension": ".py",
   "mimetype": "text/x-python",
   "name": "python",
   "nbconvert_exporter": "python",
   "pygments_lexer": "ipython3",
   "version": "3.8.8"
  }
 },
 "nbformat": 4,
 "nbformat_minor": 5
}
